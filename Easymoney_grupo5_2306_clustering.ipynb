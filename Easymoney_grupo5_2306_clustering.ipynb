{
  "nbformat": 4,
  "nbformat_minor": 0,
  "metadata": {
    "colab": {
      "provenance": [],
      "collapsed_sections": [
        "pzsmsHc1k1s4",
        "d7_Opx03k5Cb",
        "fu6F4Uj7waeR",
        "BvMxaUfLwYxC",
        "N53oY9OJoonb",
        "J9gfKL_7ow7i"
      ],
      "gpuType": "T4",
      "include_colab_link": true
    },
    "kernelspec": {
      "name": "python3",
      "display_name": "Python 3"
    },
    "language_info": {
      "name": "python"
    }
  },
  "cells": [
    {
      "cell_type": "markdown",
      "metadata": {
        "id": "view-in-github",
        "colab_type": "text"
      },
      "source": [
        "<a href=\"https://colab.research.google.com/github/RicardColomOrero/easymoney/blob/main/Easymoney_grupo5_2306_clustering.ipynb\" target=\"_parent\"><img src=\"https://colab.research.google.com/assets/colab-badge.svg\" alt=\"Open In Colab\"/></a>"
      ]
    },
    {
      "cell_type": "markdown",
      "source": [
        "# ENUNCIADO CAPSTONE\n",
        "\n",
        "\n",
        "## 1.- PowerBI (Opcional)\n",
        "Hemos decidido reorientar nuestra estrategia comercial hacia el\n",
        "**aumento de la penetración de la cartera actual de productos en nuestro mercado**, con la idea de obtener una\n",
        "mejor rentabilidad de nuestra base actual de clientes (lo del cuadrante barato de la matriz de Ansoff).\n",
        "\n",
        "A cambio, reduciremos la actividad intensiva de captación que veníamos realizando desde que arrancamos. En este sentido, y para acabar de definir la estrategia, estaría genial poder tener algunos análisis que nos ayuden\n",
        "a tomar decisiones. Como te decía, ahora tenemos un autoservicio, pero esta foto simple no nos ayuda demasiado.\n",
        "Si ni siquiera sé cuantos productos hemos vendido este mes o si son los clientes nuevos quiénes contratan o los que ya teníamos!\n",
        "\n",
        "Sería genial incluso que pudieses utilizar el reciente producto adquirido\n",
        "PowerBI para **preparar unos KPI’s de lo que tenemos en la empresa**\n",
        "\n",
        "## 2.- Propensión (modelo de propensión a compra)\n",
        "\n",
        "Una vez que hayamos hecho el **análisis de nuestra BBDD nos gustaría poder vender más y mejor nuestros productos**, sé que los data scientist tienen una “bola de cristal” y saben qué clientes son más propensos a\n",
        "comprar nuestros productos así que te pido por favor hagas un **modelo de propensión a compra**, se que tenemos muchos productos, así que te **,dejo a tu criterio científico qué productos elegir, o pueden ser varios,**, ya\n",
        "me sorprenderás\n",
        "\n",
        "## 3.- Segmentación\n",
        "\n",
        "Una vez obtenido la propensión de los productos sería genial poder conocer mejor a nuestros clientes para orientar nuestra actividad comercial. Hace tiempo vengo teniendo la idea de que podríamos **segmentar la base\n",
        "de clientes en 7 u 8 grupos de clientes similares**... sería genial** identificarlos, y poder saber cómo son los clientes\n",
        "que pertenecen a estos grupos**... nos ayudaría muchísimo a la hora de definir todo nuestro plan de marketing de cara a futuro!\n",
        "\n",
        "## 4.- Caso de uso\n",
        "\n",
        "Perfecto! Tenemos las segmentaciones de clientes, tenemos las propensiones y ahora lo que nos falta es realizar\n",
        "**un caso de uso que nos permita estimar en base a una campaña X cuánto dinero podemos ganar**,\n",
        "\n",
        "¿A cuántos clientes tenemos que impactar?\n",
        "\n",
        "¿Qué productos ofrecer?\n",
        "\n",
        "¿Impactamos a todos lo segmentos indicados?\n",
        "\n",
        "**Restricción de 10.000 clientes para la campaña.**"
      ],
      "metadata": {
        "id": "FnyES6frCHxO"
      }
    },
    {
      "cell_type": "markdown",
      "source": [
        "# Importación de librerías"
      ],
      "metadata": {
        "id": "pzsmsHc1k1s4"
      }
    },
    {
      "cell_type": "code",
      "execution_count": 5,
      "metadata": {
        "id": "uN7zDy6jkPsb"
      },
      "outputs": [],
      "source": [
        "import numpy as np # Arrays\n",
        "import pandas as pd # Series and Dataframes\n",
        "\n",
        "from google.colab import files\n",
        "\n",
        "#visualizacion\n",
        "import matplotlib.pyplot as plt\n",
        "import seaborn as sns\n",
        "\n",
        "pd.options.display.max_rows = 200\n",
        "plt.style.use('ggplot') # Beautify Plots\n",
        "\n",
        "#Modelling\n",
        "from sklearn import model_selection\n",
        "from sklearn import metrics\n",
        "from sklearn.tree import DecisionTreeClassifier\n",
        "from sklearn.tree import export_graphviz\n",
        "import graphviz\n",
        "\n",
        "from sklearn.metrics import mean_squared_error\n",
        "from sklearn.ensemble import RandomForestClassifier\n",
        "import xgboost as xgb\n",
        "\n"
      ]
    },
    {
      "cell_type": "code",
      "source": [
        "from google.colab import drive\n",
        "drive.mount('/content/drive')"
      ],
      "metadata": {
        "colab": {
          "base_uri": "https://localhost:8080/"
        },
        "id": "Y33qmgx4sg9M",
        "outputId": "7e9b48ee-b489-43bf-ccf5-db6c9d6a403d"
      },
      "execution_count": 6,
      "outputs": [
        {
          "output_type": "stream",
          "name": "stdout",
          "text": [
            "Mounted at /content/drive\n"
          ]
        }
      ]
    },
    {
      "cell_type": "markdown",
      "source": [
        "# Importación dataset"
      ],
      "metadata": {
        "id": "d7_Opx03k5Cb"
      }
    },
    {
      "cell_type": "code",
      "source": [
        "file_dir = \"/content/drive/MyDrive/NUCLIO/TFM  Data Science/datasets_TFM_y_diccionario/\" #Ricard file_dir\n",
        "#file_dir = \"/content/drive/MyDrive/TFM  Data Science/datasets_TFM_y_diccionario/\" #Eva file_dir\n",
        "#file_dir = \"/content/drive/MyDrive/Master_DS/TFM_Data_Science/datasets_TFM_y_diccionario/\" #Culebra file_dir"
      ],
      "metadata": {
        "id": "loejgT7Nk83n"
      },
      "execution_count": 7,
      "outputs": []
    },
    {
      "cell_type": "code",
      "source": [
        "file_sales =\"sales.csv\"\n",
        "file_product_description =\"product_description.csv\"\n",
        "file_customer_sociodemographics =\"customer_sociodemographics.csv\"\n",
        "file_customer_commercial_activity = \"customer_commercial_activity.csv\"\n",
        "file_customer_products =\"customer_products.csv\"\n",
        "file_provincias = \"inform_adicional_por_provincias.csv\""
      ],
      "metadata": {
        "id": "bospzkLCmG8h"
      },
      "execution_count": 8,
      "outputs": []
    },
    {
      "cell_type": "code",
      "source": [
        "sales_raw = pd.read_csv(file_dir + file_sales)\n",
        "product_description_raw = pd.read_csv(file_dir +file_product_description)\n",
        "customer_sociodemographics_raw = pd.read_csv(file_dir + file_customer_sociodemographics)\n",
        "customer_commercial_activity_raw = pd.read_csv(file_dir + file_customer_commercial_activity)\n",
        "customer_products_raw = pd.read_csv(file_dir + file_customer_products)"
      ],
      "metadata": {
        "id": "1bEJ4RF3mTBK"
      },
      "execution_count": 9,
      "outputs": []
    },
    {
      "cell_type": "code",
      "source": [
        "info_provincias_raw = pd.read_csv(file_dir + file_provincias)"
      ],
      "metadata": {
        "id": "2pauFQRvYxTy"
      },
      "execution_count": 10,
      "outputs": []
    },
    {
      "cell_type": "code",
      "source": [
        "del file_dir\n",
        "del file_sales\n",
        "del file_product_description\n",
        "del file_customer_sociodemographics\n",
        "del file_customer_commercial_activity\n",
        "del file_customer_products\n",
        "del file_provincias"
      ],
      "metadata": {
        "id": "XD2oP4Go-6zY"
      },
      "execution_count": 11,
      "outputs": []
    },
    {
      "cell_type": "markdown",
      "source": [
        "# 2.- DATA UNDERSTANDING"
      ],
      "metadata": {
        "id": "ML_zYOYbqxsG"
      }
    },
    {
      "cell_type": "code",
      "source": [
        "def report_df(df, verbose = True):\n",
        "    '''\n",
        "    Hace un report simple sobre el DataFrame suministrado.\n",
        "    '''\n",
        "    print(\"***INFO***\")\n",
        "    print(df.info(verbose = verbose))\n",
        "\n",
        "    print(\"***DESCRIPTIVOS CATEGORICAS***\")\n",
        "    try:\n",
        "      print(df.describe(include = ['object']))\n",
        "    except:\n",
        "          print(\"Oops!  No hay variables categóricas\")\n",
        "\n",
        "    print(\"***DESCRIPTIVOS NUMÉRICAS***\")\n",
        "    try:\n",
        "      print(df.describe(exclude = ['object']))\n",
        "    except:\n",
        "          print(\"Oops!  No hay variables categóricas\")\n",
        "\n",
        "    print(\"***NULOS***\")\n",
        "    total_nulos = df.isnull().sum().sum()\n",
        "    print(df.isnull().sum())\n",
        "    print(f\"Tenemos un total de {total_nulos} nulos\")"
      ],
      "metadata": {
        "id": "NHbLdhVSUaU7"
      },
      "execution_count": 12,
      "outputs": []
    },
    {
      "cell_type": "markdown",
      "source": [
        "### Sales"
      ],
      "metadata": {
        "id": "5ZB5uRK2sgLo"
      }
    },
    {
      "cell_type": "markdown",
      "source": [
        "* pk_sale: Identificador de venta - (primary key)\n",
        "* cid: Identificador de cliente - (foreing key)\n",
        "* month_sale: Mes de venta. Mes en el que se contrata un producto.\n",
        "* product_ID: Identificador de producto  - (foreing key)\n",
        "* net_margin: Margen neto generado por la venta ($)"
      ],
      "metadata": {
        "id": "9yNIvdpDs05O"
      }
    },
    {
      "cell_type": "code",
      "source": [
        "# Análisis inicial de sales\n",
        "\n",
        "report_df(sales_raw)"
      ],
      "metadata": {
        "id": "VAYdx80i1N9A",
        "colab": {
          "base_uri": "https://localhost:8080/"
        },
        "outputId": "4fe35635-caee-4368-a914-11c35ba54755"
      },
      "execution_count": 13,
      "outputs": [
        {
          "output_type": "stream",
          "name": "stdout",
          "text": [
            "***INFO***\n",
            "<class 'pandas.core.frame.DataFrame'>\n",
            "RangeIndex: 240773 entries, 0 to 240772\n",
            "Data columns (total 6 columns):\n",
            " #   Column      Non-Null Count   Dtype  \n",
            "---  ------      --------------   -----  \n",
            " 0   Unnamed: 0  240773 non-null  int64  \n",
            " 1   pk_sale     240773 non-null  int64  \n",
            " 2   cid         240773 non-null  int64  \n",
            " 3   month_sale  240773 non-null  object \n",
            " 4   product_ID  240773 non-null  int64  \n",
            " 5   net_margin  240773 non-null  float64\n",
            "dtypes: float64(1), int64(4), object(1)\n",
            "memory usage: 11.0+ MB\n",
            "None\n",
            "***DESCRIPTIVOS CATEGORICAS***\n",
            "        month_sale\n",
            "count       240773\n",
            "unique          16\n",
            "top     2018-10-01\n",
            "freq         27693\n",
            "***DESCRIPTIVOS NUMÉRICAS***\n",
            "          Unnamed: 0        pk_sale           cid     product_ID  \\\n",
            "count  240773.000000  240773.000000  2.407730e+05  240773.000000   \n",
            "mean   120386.000000  127052.000000  1.363934e+06    3945.408202   \n",
            "std     69505.322519   69505.322519  1.751721e+05    1632.821700   \n",
            "min         0.000000    6666.000000  1.589100e+04    1119.000000   \n",
            "25%     60193.000000   66859.000000  1.301012e+06    2312.000000   \n",
            "50%    120386.000000  127052.000000  1.409253e+06    4657.000000   \n",
            "75%    180579.000000  187245.000000  1.475320e+06    4657.000000   \n",
            "max    240772.000000  247438.000000  1.553571e+06    9001.000000   \n",
            "\n",
            "          net_margin  \n",
            "count  240773.000000  \n",
            "mean      606.878164  \n",
            "std      1735.806089  \n",
            "min        25.000000  \n",
            "25%        61.400000  \n",
            "50%        69.100000  \n",
            "75%        79.200000  \n",
            "max     18466.400000  \n",
            "***NULOS***\n",
            "Unnamed: 0    0\n",
            "pk_sale       0\n",
            "cid           0\n",
            "month_sale    0\n",
            "product_ID    0\n",
            "net_margin    0\n",
            "dtype: int64\n",
            "Tenemos un total de 0 nulos\n"
          ]
        }
      ]
    },
    {
      "cell_type": "code",
      "source": [
        "# ACCIONES A LLEVAR A CABO\n",
        "\n",
        "# Eliminar columna Unnamed\n",
        "# Renombrar columnas para alinear el naming, por ejemplo variable cid como \"client_ID\", pk_sale como \"sale_ID\"\n",
        "# Cambiar los identificadores (product_ID, customer_ID) a variable categórica\n",
        "# Cambiar tipo de month_sale a fecha\n",
        "# Disgregar la fecha en mes, año... (otros: trimestre, fin de semana, festivo...)"
      ],
      "metadata": {
        "id": "4j4GhhbI1N9C"
      },
      "execution_count": 14,
      "outputs": []
    },
    {
      "cell_type": "markdown",
      "source": [
        "### Product Description"
      ],
      "metadata": {
        "id": "fu6F4Uj7waeR"
      }
    },
    {
      "cell_type": "markdown",
      "source": [
        "* pk_product_ID\t= Identificador de producto - (primary key)\n",
        "* product_desc\t= Descripción del producto\n",
        "* family_product\t= Vertical del producto. Grupo al que pertenece."
      ],
      "metadata": {
        "id": "tF9aoCOUwaeT"
      }
    },
    {
      "cell_type": "code",
      "source": [
        "# Análisis inicial de product description\n",
        "\n",
        "report_df(product_description_raw)"
      ],
      "metadata": {
        "id": "R4rkQSBB1gFO",
        "colab": {
          "base_uri": "https://localhost:8080/"
        },
        "outputId": "cce9c6c9-5e6a-4e90-b4fe-c9f61435f02b"
      },
      "execution_count": 15,
      "outputs": [
        {
          "output_type": "stream",
          "name": "stdout",
          "text": [
            "***INFO***\n",
            "<class 'pandas.core.frame.DataFrame'>\n",
            "RangeIndex: 13 entries, 0 to 12\n",
            "Data columns (total 4 columns):\n",
            " #   Column          Non-Null Count  Dtype \n",
            "---  ------          --------------  ----- \n",
            " 0   Unnamed: 0      13 non-null     int64 \n",
            " 1   pk_product_ID   13 non-null     int64 \n",
            " 2   product_desc    13 non-null     object\n",
            " 3   family_product  13 non-null     object\n",
            "dtypes: int64(2), object(2)\n",
            "memory usage: 544.0+ bytes\n",
            "None\n",
            "***DESCRIPTIVOS CATEGORICAS***\n",
            "       product_desc family_product\n",
            "count            13             13\n",
            "unique           13              5\n",
            "top       em_acount        account\n",
            "freq              1              4\n",
            "***DESCRIPTIVOS NUMÉRICAS***\n",
            "       Unnamed: 0  pk_product_ID\n",
            "count    13.00000      13.000000\n",
            "mean      6.00000    3614.538462\n",
            "std       3.89444    2564.251438\n",
            "min       0.00000    1119.000000\n",
            "25%       3.00000    2235.000000\n",
            "50%       6.00000    2336.000000\n",
            "75%       9.00000    4033.000000\n",
            "max      12.00000    9001.000000\n",
            "***NULOS***\n",
            "Unnamed: 0        0\n",
            "pk_product_ID     0\n",
            "product_desc      0\n",
            "family_product    0\n",
            "dtype: int64\n",
            "Tenemos un total de 0 nulos\n"
          ]
        }
      ]
    },
    {
      "cell_type": "code",
      "source": [
        "# ACCIONES A LLEVAR A CABO\n",
        "\n",
        "# Eliminar columna Unnamed"
      ],
      "metadata": {
        "id": "m9_2ZNRu1wpE"
      },
      "execution_count": 16,
      "outputs": []
    },
    {
      "cell_type": "markdown",
      "source": [
        "### Customer Sociodemographics"
      ],
      "metadata": {
        "id": "MaBHzrXNyn_S"
      }
    },
    {
      "cell_type": "markdown",
      "source": [
        "* pk_cid =\tIdentificador de cliente\n",
        "* pk_partition =\tIdentificador de Partición. Mensualmente se ingesta en la tabla una partición con el estado de la base de clientes.\n",
        "* deceased =\tIndicador de fallecimiento\n",
        "* gender =\tSexo del cliente\n",
        "* region_code =\tProvincia de residencia del cliente (para ES)\n",
        "* salary =\tIngresos brutos de la unidad familiar\n",
        "* country_id =\tPaís de residencia del cliente\n",
        "* age =\tEdad del cliente"
      ],
      "metadata": {
        "id": "RN4rqVMoyn_e"
      }
    },
    {
      "cell_type": "code",
      "source": [
        "report_df(customer_sociodemographics_raw)"
      ],
      "metadata": {
        "id": "vG4RJ69gyn_e",
        "colab": {
          "base_uri": "https://localhost:8080/"
        },
        "outputId": "74b5e228-10c2-4414-e536-d636eabfc98f"
      },
      "execution_count": 17,
      "outputs": [
        {
          "output_type": "stream",
          "name": "stdout",
          "text": [
            "***INFO***\n",
            "<class 'pandas.core.frame.DataFrame'>\n",
            "RangeIndex: 5962924 entries, 0 to 5962923\n",
            "Data columns (total 9 columns):\n",
            " #   Column        Dtype  \n",
            "---  ------        -----  \n",
            " 0   Unnamed: 0    int64  \n",
            " 1   pk_cid        int64  \n",
            " 2   pk_partition  object \n",
            " 3   country_id    object \n",
            " 4   region_code   float64\n",
            " 5   gender        object \n",
            " 6   age           int64  \n",
            " 7   deceased      object \n",
            " 8   salary        float64\n",
            "dtypes: float64(2), int64(3), object(4)\n",
            "memory usage: 409.4+ MB\n",
            "None\n",
            "***DESCRIPTIVOS CATEGORICAS***\n",
            "       pk_partition country_id   gender deceased\n",
            "count       5962924    5962924  5962899  5962924\n",
            "unique           17         41        2        2\n",
            "top         2019-05         ES        H        N\n",
            "freq         442995    5960672  3087502  5961849\n",
            "***DESCRIPTIVOS NUMÉRICAS***\n",
            "         Unnamed: 0        pk_cid   region_code           age        salary\n",
            "count  5.962924e+06  5.962924e+06  5.960660e+06  5.962924e+06  4.421820e+06\n",
            "mean   7.155425e+06  1.234930e+06  2.581440e+01  2.976042e+01  1.155833e+05\n",
            "std    3.920784e+06  1.623020e+05  1.359566e+01  1.198038e+01  2.000066e+05\n",
            "min    0.000000e+00  1.589100e+04  1.000000e+00  2.000000e+00  1.202730e+03\n",
            "25%    4.240386e+06  1.112532e+06  1.300000e+01  2.200000e+01  6.141532e+04\n",
            "50%    7.499346e+06  1.231097e+06  2.800000e+01  2.500000e+01  8.844147e+04\n",
            "75%    1.020142e+07  1.352339e+06  3.600000e+01  3.400000e+01  1.313092e+05\n",
            "max    1.364731e+07  1.553689e+06  5.200000e+01  1.050000e+02  2.889440e+07\n",
            "***NULOS***\n",
            "Unnamed: 0            0\n",
            "pk_cid                0\n",
            "pk_partition          0\n",
            "country_id            0\n",
            "region_code        2264\n",
            "gender               25\n",
            "age                   0\n",
            "deceased              0\n",
            "salary          1541104\n",
            "dtype: int64\n",
            "Tenemos un total de 1543393 nulos\n"
          ]
        }
      ]
    },
    {
      "cell_type": "code",
      "source": [
        "customer_sociodemographics_raw[\"country_id\"].value_counts(normalize = True).head()"
      ],
      "metadata": {
        "id": "sS4GgmI8WGsF",
        "colab": {
          "base_uri": "https://localhost:8080/"
        },
        "outputId": "652f2ec5-f1cb-4b7a-e90b-cb7b4d8f2ec3"
      },
      "execution_count": 18,
      "outputs": [
        {
          "output_type": "execute_result",
          "data": {
            "text/plain": [
              "ES    0.999622\n",
              "GB    0.000074\n",
              "FR    0.000038\n",
              "DE    0.000033\n",
              "US    0.000033\n",
              "Name: country_id, dtype: float64"
            ]
          },
          "metadata": {},
          "execution_count": 18
        }
      ]
    },
    {
      "cell_type": "code",
      "source": [
        "customer_sociodemographics_raw[\"region_code\"].value_counts()"
      ],
      "metadata": {
        "id": "5MNgIpGOUV7y",
        "colab": {
          "base_uri": "https://localhost:8080/"
        },
        "outputId": "f10ddc1d-8208-4bb4-ea76-894311980cb7"
      },
      "execution_count": 19,
      "outputs": [
        {
          "output_type": "execute_result",
          "data": {
            "text/plain": [
              "28.0    1185757\n",
              "8.0      600362\n",
              "46.0     358142\n",
              "30.0     296856\n",
              "41.0     290447\n",
              "15.0     254891\n",
              "29.0     187911\n",
              "36.0     175850\n",
              "3.0      171358\n",
              "11.0     160894\n",
              "33.0     134562\n",
              "50.0     132983\n",
              "6.0      122587\n",
              "35.0     121982\n",
              "47.0     116948\n",
              "18.0     102789\n",
              "45.0     102328\n",
              "37.0      92538\n",
              "10.0      83283\n",
              "14.0      75405\n",
              "2.0       72071\n",
              "21.0      72037\n",
              "13.0      70092\n",
              "39.0      69589\n",
              "12.0      68709\n",
              "7.0       62436\n",
              "32.0      54639\n",
              "27.0      52783\n",
              "43.0      51782\n",
              "17.0      50749\n",
              "9.0       47746\n",
              "25.0      46887\n",
              "16.0      36094\n",
              "24.0      35426\n",
              "48.0      35256\n",
              "26.0      34790\n",
              "4.0       32680\n",
              "31.0      31241\n",
              "49.0      30965\n",
              "23.0      30955\n",
              "38.0      29001\n",
              "34.0      27545\n",
              "19.0      26762\n",
              "40.0      21658\n",
              "5.0       21300\n",
              "22.0      21112\n",
              "20.0      18833\n",
              "1.0       12999\n",
              "44.0      12616\n",
              "42.0       8500\n",
              "51.0       2896\n",
              "52.0       2638\n",
              "Name: region_code, dtype: int64"
            ]
          },
          "metadata": {},
          "execution_count": 19
        }
      ]
    },
    {
      "cell_type": "code",
      "source": [
        "# ACCIONES CUSTOMER SOCIODEMOGRAPHICS\n",
        "\n",
        "# Gestionar nulos: (Culebra: tenemos modelo de clasificación así que lo que haremos será ponerles valores extremos)\n",
        "#     region_code\n",
        "#     gender\n",
        "#     salary\n",
        "# gender > Transformar a 1 y 0\n",
        "# deceased > Transformar a 1 y 0\n",
        "# country_id > Agrupar ES, OTHERS\n",
        "\n"
      ],
      "metadata": {
        "id": "sc0F1_4wyn_f"
      },
      "execution_count": 20,
      "outputs": []
    },
    {
      "cell_type": "markdown",
      "source": [
        "### Customer Commercial Activity"
      ],
      "metadata": {
        "id": "xLmTCU9FsnzR"
      }
    },
    {
      "cell_type": "markdown",
      "source": [
        "* pk_cid = Identificador de cliente\n",
        "* pk_partition =\tIdentificador de Partición. Mensualmente se ingesta en la tabla una partición con el estado de la base de clientes.\n",
        "* entry_channel =\tCanal de captación del cliente\n",
        "* entry_date =\tFecha en la que realizó la primera contratación a través de easyMoney\n",
        "* segment =\tSegmento comercial del cliente\n",
        "* active_customer =\tIndicador de actividad del cliente en la app EasyMoney"
      ],
      "metadata": {
        "id": "Y8ibAYQ5twNd"
      }
    },
    {
      "cell_type": "code",
      "source": [
        "report_df(customer_commercial_activity_raw)"
      ],
      "metadata": {
        "id": "rX8I1oKUsv7d",
        "colab": {
          "base_uri": "https://localhost:8080/"
        },
        "outputId": "3460171c-ba3f-435c-ed4b-fb44c16e4c64"
      },
      "execution_count": 21,
      "outputs": [
        {
          "output_type": "stream",
          "name": "stdout",
          "text": [
            "***INFO***\n",
            "<class 'pandas.core.frame.DataFrame'>\n",
            "RangeIndex: 5962924 entries, 0 to 5962923\n",
            "Data columns (total 7 columns):\n",
            " #   Column           Dtype  \n",
            "---  ------           -----  \n",
            " 0   Unnamed: 0       int64  \n",
            " 1   pk_cid           int64  \n",
            " 2   pk_partition     object \n",
            " 3   entry_date       object \n",
            " 4   entry_channel    object \n",
            " 5   active_customer  float64\n",
            " 6   segment          object \n",
            "dtypes: float64(1), int64(2), object(4)\n",
            "memory usage: 318.5+ MB\n",
            "None\n",
            "***DESCRIPTIVOS CATEGORICAS***\n",
            "       pk_partition entry_date entry_channel             segment\n",
            "count       5962924    5962924       5829891             5828980\n",
            "unique           17         53            68                   3\n",
            "top         2019-05    2016-10           KHE  03 - UNIVERSITARIO\n",
            "freq         442995     382473       3113947             3900166\n",
            "***DESCRIPTIVOS NUMÉRICAS***\n",
            "         Unnamed: 0        pk_cid  active_customer\n",
            "count  5.962924e+06  5.962924e+06     5.962924e+06\n",
            "mean   7.155425e+06  1.234930e+06     4.033845e-01\n",
            "std    3.920784e+06  1.623020e+05     4.905767e-01\n",
            "min    0.000000e+00  1.589100e+04     0.000000e+00\n",
            "25%    4.240386e+06  1.112532e+06     0.000000e+00\n",
            "50%    7.499346e+06  1.231097e+06     0.000000e+00\n",
            "75%    1.020142e+07  1.352339e+06     1.000000e+00\n",
            "max    1.364731e+07  1.553689e+06     1.000000e+00\n",
            "***NULOS***\n",
            "Unnamed: 0              0\n",
            "pk_cid                  0\n",
            "pk_partition            0\n",
            "entry_date              0\n",
            "entry_channel      133033\n",
            "active_customer         0\n",
            "segment            133944\n",
            "dtype: int64\n",
            "Tenemos un total de 266977 nulos\n"
          ]
        }
      ]
    },
    {
      "cell_type": "code",
      "source": [
        "customer_commercial_activity_raw[\"segment\"].value_counts()"
      ],
      "metadata": {
        "id": "WbiCvHAzzem1",
        "colab": {
          "base_uri": "https://localhost:8080/"
        },
        "outputId": "12d68777-b2ad-4cc5-d873-38f197f1e62a"
      },
      "execution_count": 22,
      "outputs": [
        {
          "output_type": "execute_result",
          "data": {
            "text/plain": [
              "03 - UNIVERSITARIO    3900166\n",
              "02 - PARTICULARES     1830875\n",
              "01 - TOP                97939\n",
              "Name: segment, dtype: int64"
            ]
          },
          "metadata": {},
          "execution_count": 22
        }
      ]
    },
    {
      "cell_type": "code",
      "source": [
        "customer_commercial_activity_raw[\"entry_channel\"].value_counts(normalize = True).head(10)"
      ],
      "metadata": {
        "id": "YRVr8l9lzyGL",
        "colab": {
          "base_uri": "https://localhost:8080/"
        },
        "outputId": "6c48bfd2-24e3-431c-853d-7ecdddfd1d29"
      },
      "execution_count": 23,
      "outputs": [
        {
          "output_type": "execute_result",
          "data": {
            "text/plain": [
              "KHE    0.534135\n",
              "KFC    0.152768\n",
              "KHQ    0.101251\n",
              "KAT    0.071371\n",
              "KHK    0.039486\n",
              "KHM    0.030291\n",
              "KHN    0.018600\n",
              "KFA    0.013554\n",
              "KHD    0.013019\n",
              "RED    0.010395\n",
              "Name: entry_channel, dtype: float64"
            ]
          },
          "metadata": {},
          "execution_count": 23
        }
      ]
    },
    {
      "cell_type": "code",
      "source": [
        "# ACCIONES CUSTOMER COMMERCIAL ACTIVITY**\n",
        "\n",
        "\n",
        "# Eliminar columna Unnamed\n",
        "# Cambiar los identificadores (pk_cid) a variable categórica\n",
        "# Cambiar tipo de active_customer a boolean\n",
        "# Establecer primary key como index?\n",
        "# Gestionar nulos:\n",
        "#     entry_channel\n",
        "#     segment\n",
        "# Cambiar tipo de entry_date a fecha\n",
        "# Disgregar entry_date en mes, año, día, día de la semana (otros: trimestre, fin de semana, festivo...)\n",
        "# entry_channel > OneHotEncoding o FrecuencyEncoding ( agrupar 11-12 etiquetas + OTHERS)\n",
        "# segment > OneHotEncoding"
      ],
      "metadata": {
        "id": "Bpqae0fLwJVO"
      },
      "execution_count": 24,
      "outputs": []
    },
    {
      "cell_type": "markdown",
      "source": [
        "### Customer Products"
      ],
      "metadata": {
        "id": "BvMxaUfLwYxC"
      }
    },
    {
      "cell_type": "markdown",
      "source": [
        "- pk_cid =\tIdentificador de cliente\n",
        "- pk_partition =\tIdentificador de Partición. Mensualmente se ingesta en la tabla una partición con el estado de la base de clientes.\n",
        "- credit_card =\tTenencia de tarjetas de crédito\n",
        "- debit_card =\tTenencia de tarjetas de débito\n",
        "- em_account_p =\tTenencia de Cuenta easyMoney+\n",
        "- em_account_pp =\tTenencia de Cuenta easyMoney++\n",
        "- em_acount =\tTenencia de Cuenta easyMoney\n",
        "- emc_account =\tTenencia de Cuenta easyMoney Crypto\n",
        "- funds =\tTenencia de Fondos de inversión\n",
        "- loans =\tTenencia de Préstamos\n",
        "- long_term_deposit =\tTenencia de Depósitos a largo plazo\n",
        "- mortgage =\tTenencia de Mortgage\n",
        "- payroll =\tTenencia de Domiciliaciones\n",
        "- payroll_account =\tTenencia de Cuenta bonificada por domiciliaciones\n",
        "- pension_plan =\tTenencia de Plan de pensiones\n",
        "- securities =\tTenencia de Valores\n",
        "- short_term_deposit =\tTenencia de Short-term deposits"
      ],
      "metadata": {
        "id": "GAvoRxXKwYxC"
      }
    },
    {
      "cell_type": "code",
      "source": [
        "report_df(customer_products_raw)"
      ],
      "metadata": {
        "id": "W0orz5C7wYxD",
        "colab": {
          "base_uri": "https://localhost:8080/"
        },
        "outputId": "1116dea0-ea77-47b1-ae86-66cfb4e99ee5"
      },
      "execution_count": 25,
      "outputs": [
        {
          "output_type": "stream",
          "name": "stdout",
          "text": [
            "***INFO***\n",
            "<class 'pandas.core.frame.DataFrame'>\n",
            "RangeIndex: 5962924 entries, 0 to 5962923\n",
            "Data columns (total 18 columns):\n",
            " #   Column              Dtype  \n",
            "---  ------              -----  \n",
            " 0   Unnamed: 0          int64  \n",
            " 1   pk_cid              int64  \n",
            " 2   pk_partition        object \n",
            " 3   short_term_deposit  int64  \n",
            " 4   loans               int64  \n",
            " 5   mortgage            int64  \n",
            " 6   funds               int64  \n",
            " 7   securities          int64  \n",
            " 8   long_term_deposit   int64  \n",
            " 9   em_account_pp       int64  \n",
            " 10  credit_card         int64  \n",
            " 11  payroll             float64\n",
            " 12  pension_plan        float64\n",
            " 13  payroll_account     int64  \n",
            " 14  emc_account         int64  \n",
            " 15  debit_card          int64  \n",
            " 16  em_account_p        int64  \n",
            " 17  em_acount           int64  \n",
            "dtypes: float64(2), int64(15), object(1)\n",
            "memory usage: 818.9+ MB\n",
            "None\n",
            "***DESCRIPTIVOS CATEGORICAS***\n",
            "       pk_partition\n",
            "count       5962924\n",
            "unique           17\n",
            "top         2019-05\n",
            "freq         442995\n",
            "***DESCRIPTIVOS NUMÉRICAS***\n",
            "         Unnamed: 0        pk_cid  short_term_deposit         loans  \\\n",
            "count  5.962924e+06  5.962924e+06        5.962924e+06  5.962924e+06   \n",
            "mean   7.155425e+06  1.234930e+06        2.581619e-03  7.848498e-05   \n",
            "std    3.920784e+06  1.623020e+05        5.074401e-02  8.858828e-03   \n",
            "min    0.000000e+00  1.589100e+04        0.000000e+00  0.000000e+00   \n",
            "25%    4.240386e+06  1.112532e+06        0.000000e+00  0.000000e+00   \n",
            "50%    7.499346e+06  1.231097e+06        0.000000e+00  0.000000e+00   \n",
            "75%    1.020142e+07  1.352339e+06        0.000000e+00  0.000000e+00   \n",
            "max    1.364731e+07  1.553689e+06        1.000000e+00  1.000000e+00   \n",
            "\n",
            "           mortgage         funds    securities  long_term_deposit  \\\n",
            "count  5.962924e+06  5.962924e+06  5.962924e+06       5.962924e+06   \n",
            "mean   5.433576e-05  3.370662e-03  3.711770e-03       1.688098e-02   \n",
            "std    7.371080e-03  5.795948e-02  6.081113e-02       1.288255e-01   \n",
            "min    0.000000e+00  0.000000e+00  0.000000e+00       0.000000e+00   \n",
            "25%    0.000000e+00  0.000000e+00  0.000000e+00       0.000000e+00   \n",
            "50%    0.000000e+00  0.000000e+00  0.000000e+00       0.000000e+00   \n",
            "75%    0.000000e+00  0.000000e+00  0.000000e+00       0.000000e+00   \n",
            "max    1.000000e+00  1.000000e+00  1.000000e+00       1.000000e+00   \n",
            "\n",
            "       em_account_pp   credit_card       payroll  pension_plan  \\\n",
            "count      5962924.0  5.962924e+06  5.962863e+06  5.962863e+06   \n",
            "mean             0.0  1.188444e-02  3.451144e-02  3.652641e-02   \n",
            "std              0.0  1.083660e-01  1.825388e-01  1.875960e-01   \n",
            "min              0.0  0.000000e+00  0.000000e+00  0.000000e+00   \n",
            "25%              0.0  0.000000e+00  0.000000e+00  0.000000e+00   \n",
            "50%              0.0  0.000000e+00  0.000000e+00  0.000000e+00   \n",
            "75%              0.0  0.000000e+00  0.000000e+00  0.000000e+00   \n",
            "max              0.0  1.000000e+00  1.000000e+00  1.000000e+00   \n",
            "\n",
            "       payroll_account   emc_account    debit_card  em_account_p     em_acount  \n",
            "count     5.962924e+06  5.962924e+06  5.962924e+06  5.962924e+06  5.962924e+06  \n",
            "mean      5.524471e-02  5.483233e-02  9.441140e-02  5.701901e-06  7.348076e-01  \n",
            "std       2.284573e-01  2.276527e-01  2.924002e-01  2.387859e-03  4.414356e-01  \n",
            "min       0.000000e+00  0.000000e+00  0.000000e+00  0.000000e+00  0.000000e+00  \n",
            "25%       0.000000e+00  0.000000e+00  0.000000e+00  0.000000e+00  0.000000e+00  \n",
            "50%       0.000000e+00  0.000000e+00  0.000000e+00  0.000000e+00  1.000000e+00  \n",
            "75%       0.000000e+00  0.000000e+00  0.000000e+00  0.000000e+00  1.000000e+00  \n",
            "max       1.000000e+00  1.000000e+00  1.000000e+00  1.000000e+00  1.000000e+00  \n",
            "***NULOS***\n",
            "Unnamed: 0             0\n",
            "pk_cid                 0\n",
            "pk_partition           0\n",
            "short_term_deposit     0\n",
            "loans                  0\n",
            "mortgage               0\n",
            "funds                  0\n",
            "securities             0\n",
            "long_term_deposit      0\n",
            "em_account_pp          0\n",
            "credit_card            0\n",
            "payroll               61\n",
            "pension_plan          61\n",
            "payroll_account        0\n",
            "emc_account            0\n",
            "debit_card             0\n",
            "em_account_p           0\n",
            "em_acount              0\n",
            "dtype: int64\n",
            "Tenemos un total de 122 nulos\n"
          ]
        }
      ]
    },
    {
      "cell_type": "code",
      "source": [
        "# ACCIONES CUSTOMER PRODUCTS\n",
        "\n",
        "# Eliminar columna Unnamed\n",
        "# Cambiar los identificadores (pk_cid) a variable categórica\n",
        "# Cambiar tipo de columnas booleanas a boolean?\n",
        "# Establecer primary key como index?\n",
        "# Gestionar nulos:\n",
        "#     payroll\n",
        "#     pension_plan\n",
        "# Eliminar em_account_pp, no hay datos\n",
        "\n",
        "# Cambiar tipo de payroll y pension_plan a int"
      ],
      "metadata": {
        "id": "iU9-7iD_wYxD"
      },
      "execution_count": 26,
      "outputs": []
    },
    {
      "cell_type": "markdown",
      "source": [
        "### Análisis del target"
      ],
      "metadata": {
        "id": "N53oY9OJoonb"
      }
    },
    {
      "cell_type": "code",
      "source": [
        "# Para el modelo de propensión a compra (supervisado > clasificación) trataremos de averiguar la propensión a compra de ciertos productos de cada cliente\n",
        "# El target puede ser:\n",
        "#  - em_acount = 4.381.602  (73,48%)\n",
        "#  - debit_card = 562.968 (9,44%)\n",
        "#  - payroll_account = 329.420 (5,52%)\n",
        "#  - pension_plan = 2.178.020 (3,65%) ** Target interesante por negocio\n",
        "\n",
        "\n",
        "\n",
        "# Analizando el revenue de cada producto:\n",
        "#  - pension_plan = media >5200€ ** Target interesante por revenue\n",
        "#  - loans = media > 2000€\n",
        "#  - mortgage = media > 2000€\n",
        "#\n",
        "#\n",
        "# El producto \"pension_plan\" resulta interesante a nivel net margin, pues es el que más beneficios genera a la compañía\n",
        "\n",
        "# Hecho el primero modelo para \"pension plan\", más tarde se puede volver a lanzar con otros target de interés, por ejemplo \"debit_card\"o \"emc_account \"\n",
        "\n",
        "\n",
        "TARGET = \"pension_plan\"\n",
        "TARGET2 = 'debit_card'\n",
        "TARGET3 = 'emc_account'"
      ],
      "metadata": {
        "id": "ws9zM_QCo8jR"
      },
      "execution_count": 27,
      "outputs": []
    },
    {
      "cell_type": "code",
      "source": [
        "for i in ['short_term_deposit', 'loans', 'mortgage', 'funds', 'securities','long_term_deposit', 'em_account_pp','credit_card', 'payroll', 'pension_plan', 'payroll_account','emc_account', 'debit_card', 'em_account_p', 'em_acount']:\n",
        "    suma_productos = customer_products_raw[i].sum()\n",
        "    print (f\"Suma de {i} = {suma_productos} . La media es de {round((suma_productos/customer_products_raw.shape[0])*100,2)}%\")\n"
      ],
      "metadata": {
        "id": "L4kFuFrIuS2G",
        "colab": {
          "base_uri": "https://localhost:8080/"
        },
        "outputId": "fb05926b-3f72-4d26-e9d4-694b46e1e161"
      },
      "execution_count": 28,
      "outputs": [
        {
          "output_type": "stream",
          "name": "stdout",
          "text": [
            "Suma de short_term_deposit = 15394 . La media es de 0.26%\n",
            "Suma de loans = 468 . La media es de 0.01%\n",
            "Suma de mortgage = 324 . La media es de 0.01%\n",
            "Suma de funds = 20099 . La media es de 0.34%\n",
            "Suma de securities = 22133 . La media es de 0.37%\n",
            "Suma de long_term_deposit = 100660 . La media es de 1.69%\n",
            "Suma de em_account_pp = 0 . La media es de 0.0%\n",
            "Suma de credit_card = 70866 . La media es de 1.19%\n",
            "Suma de payroll = 205787.0 . La media es de 3.45%\n",
            "Suma de pension_plan = 217802.0 . La media es de 3.65%\n",
            "Suma de payroll_account = 329420 . La media es de 5.52%\n",
            "Suma de emc_account = 326961 . La media es de 5.48%\n",
            "Suma de debit_card = 562968 . La media es de 9.44%\n",
            "Suma de em_account_p = 34 . La media es de 0.0%\n",
            "Suma de em_acount = 4381602 . La media es de 73.48%\n"
          ]
        }
      ]
    },
    {
      "cell_type": "code",
      "source": [
        "del i\n",
        "del suma_productos"
      ],
      "metadata": {
        "id": "s3i4gBku_lP4"
      },
      "execution_count": 29,
      "outputs": []
    },
    {
      "cell_type": "markdown",
      "source": [
        "### Distribución de las variables"
      ],
      "metadata": {
        "id": "AkR5eHKSoroo"
      }
    },
    {
      "cell_type": "markdown",
      "source": [
        "#### Variables numéricas"
      ],
      "metadata": {
        "id": "IQAYnrERozyM"
      }
    },
    {
      "cell_type": "code",
      "source": [
        "for i in sales_raw.select_dtypes(include= [\"number\"]).columns:\n",
        "     print(i, sales_raw[i].value_counts())"
      ],
      "metadata": {
        "id": "r6pTWMCaw-v_",
        "colab": {
          "base_uri": "https://localhost:8080/"
        },
        "outputId": "3cdcf4b7-45d4-42f2-d75a-3b646ce65598"
      },
      "execution_count": 30,
      "outputs": [
        {
          "output_type": "stream",
          "name": "stdout",
          "text": [
            "Unnamed: 0 0         1\n",
            "160520    1\n",
            "160508    1\n",
            "160509    1\n",
            "160510    1\n",
            "         ..\n",
            "80262     1\n",
            "80263     1\n",
            "80264     1\n",
            "80265     1\n",
            "240772    1\n",
            "Name: Unnamed: 0, Length: 240773, dtype: int64\n",
            "pk_sale 6666      1\n",
            "167186    1\n",
            "167174    1\n",
            "167175    1\n",
            "167176    1\n",
            "         ..\n",
            "86928     1\n",
            "86929     1\n",
            "86930     1\n",
            "86931     1\n",
            "247438    1\n",
            "Name: pk_sale, Length: 240773, dtype: int64\n",
            "cid 1387215    10\n",
            "1436512     9\n",
            "1380507     9\n",
            "1402957     9\n",
            "1402199     9\n",
            "           ..\n",
            "1409414     1\n",
            "1409413     1\n",
            "1409412     1\n",
            "1409410     1\n",
            "1553571     1\n",
            "Name: cid, Length: 152754, dtype: int64\n",
            "product_ID 4657    117435\n",
            "3819     38840\n",
            "1364     19369\n",
            "2234     18750\n",
            "2235     18110\n",
            "8871     12323\n",
            "2312      5206\n",
            "2335      4441\n",
            "2336      4227\n",
            "2673      1157\n",
            "1119       880\n",
            "9001        25\n",
            "4033        10\n",
            "Name: product_ID, dtype: int64\n",
            "net_margin 63.1       890\n",
            "64.8       854\n",
            "63.9       851\n",
            "64.1       848\n",
            "62.7       841\n",
            "          ... \n",
            "4917.3       1\n",
            "5698.9       1\n",
            "5708.1       1\n",
            "11009.5      1\n",
            "34.5         1\n",
            "Name: net_margin, Length: 25451, dtype: int64\n"
          ]
        }
      ]
    },
    {
      "cell_type": "code",
      "source": [
        "for i in customer_products_raw.select_dtypes(include= [\"number\"]).columns:\n",
        "  print(i, customer_products_raw[i].value_counts())"
      ],
      "metadata": {
        "id": "qdZiOCu6E14Q",
        "colab": {
          "base_uri": "https://localhost:8080/"
        },
        "outputId": "181e3b68-59d2-41dc-9294-de952e09665c"
      },
      "execution_count": 31,
      "outputs": [
        {
          "output_type": "stream",
          "name": "stdout",
          "text": [
            "Unnamed: 0 0           1\n",
            "9344701     1\n",
            "9344699     1\n",
            "9344698     1\n",
            "9344697     1\n",
            "           ..\n",
            "5074084     1\n",
            "5074083     1\n",
            "5074082     1\n",
            "5074081     1\n",
            "13647308    1\n",
            "Name: Unnamed: 0, Length: 5962924, dtype: int64\n",
            "pk_cid 1375586    17\n",
            "1328781    17\n",
            "1328783    17\n",
            "1328784    17\n",
            "1328786    17\n",
            "           ..\n",
            "1521045     1\n",
            "1545224     1\n",
            "1470941     1\n",
            "1521049     1\n",
            "1550586     1\n",
            "Name: pk_cid, Length: 456373, dtype: int64\n",
            "short_term_deposit 0    5947530\n",
            "1      15394\n",
            "Name: short_term_deposit, dtype: int64\n",
            "loans 0    5962456\n",
            "1        468\n",
            "Name: loans, dtype: int64\n",
            "mortgage 0    5962600\n",
            "1        324\n",
            "Name: mortgage, dtype: int64\n",
            "funds 0    5942825\n",
            "1      20099\n",
            "Name: funds, dtype: int64\n",
            "securities 0    5940791\n",
            "1      22133\n",
            "Name: securities, dtype: int64\n",
            "long_term_deposit 0    5862264\n",
            "1     100660\n",
            "Name: long_term_deposit, dtype: int64\n",
            "em_account_pp 0    5962924\n",
            "Name: em_account_pp, dtype: int64\n",
            "credit_card 0    5892058\n",
            "1      70866\n",
            "Name: credit_card, dtype: int64\n",
            "payroll 0.0    5757076\n",
            "1.0     205787\n",
            "Name: payroll, dtype: int64\n",
            "pension_plan 0.0    5745061\n",
            "1.0     217802\n",
            "Name: pension_plan, dtype: int64\n",
            "payroll_account 0    5633504\n",
            "1     329420\n",
            "Name: payroll_account, dtype: int64\n",
            "emc_account 0    5635963\n",
            "1     326961\n",
            "Name: emc_account, dtype: int64\n",
            "debit_card 0    5399956\n",
            "1     562968\n",
            "Name: debit_card, dtype: int64\n",
            "em_account_p 0    5962890\n",
            "1         34\n",
            "Name: em_account_p, dtype: int64\n",
            "em_acount 1    4381602\n",
            "0    1581322\n",
            "Name: em_acount, dtype: int64\n"
          ]
        }
      ]
    },
    {
      "cell_type": "code",
      "source": [
        "for i in customer_sociodemographics_raw.select_dtypes(include= [\"number\"]).columns:\n",
        "     print(i, customer_sociodemographics_raw[i].value_counts())"
      ],
      "metadata": {
        "id": "JnY_a_BPxCVJ",
        "colab": {
          "base_uri": "https://localhost:8080/"
        },
        "outputId": "511fcdc2-5184-4b27-8649-bb3a1a6ab180"
      },
      "execution_count": 32,
      "outputs": [
        {
          "output_type": "stream",
          "name": "stdout",
          "text": [
            "Unnamed: 0 0           1\n",
            "9344701     1\n",
            "9344699     1\n",
            "9344698     1\n",
            "9344697     1\n",
            "           ..\n",
            "5074084     1\n",
            "5074083     1\n",
            "5074082     1\n",
            "5074081     1\n",
            "13647308    1\n",
            "Name: Unnamed: 0, Length: 5962924, dtype: int64\n",
            "pk_cid 1375586    17\n",
            "1328781    17\n",
            "1328783    17\n",
            "1328784    17\n",
            "1328786    17\n",
            "           ..\n",
            "1521045     1\n",
            "1545224     1\n",
            "1470941     1\n",
            "1521049     1\n",
            "1550586     1\n",
            "Name: pk_cid, Length: 456373, dtype: int64\n",
            "region_code 28.0    1185757\n",
            "8.0      600362\n",
            "46.0     358142\n",
            "30.0     296856\n",
            "41.0     290447\n",
            "15.0     254891\n",
            "29.0     187911\n",
            "36.0     175850\n",
            "3.0      171358\n",
            "11.0     160894\n",
            "33.0     134562\n",
            "50.0     132983\n",
            "6.0      122587\n",
            "35.0     121982\n",
            "47.0     116948\n",
            "18.0     102789\n",
            "45.0     102328\n",
            "37.0      92538\n",
            "10.0      83283\n",
            "14.0      75405\n",
            "2.0       72071\n",
            "21.0      72037\n",
            "13.0      70092\n",
            "39.0      69589\n",
            "12.0      68709\n",
            "7.0       62436\n",
            "32.0      54639\n",
            "27.0      52783\n",
            "43.0      51782\n",
            "17.0      50749\n",
            "9.0       47746\n",
            "25.0      46887\n",
            "16.0      36094\n",
            "24.0      35426\n",
            "48.0      35256\n",
            "26.0      34790\n",
            "4.0       32680\n",
            "31.0      31241\n",
            "49.0      30965\n",
            "23.0      30955\n",
            "38.0      29001\n",
            "34.0      27545\n",
            "19.0      26762\n",
            "40.0      21658\n",
            "5.0       21300\n",
            "22.0      21112\n",
            "20.0      18833\n",
            "1.0       12999\n",
            "44.0      12616\n",
            "42.0       8500\n",
            "51.0       2896\n",
            "52.0       2638\n",
            "Name: region_code, dtype: int64\n",
            "age 22     727134\n",
            "23     702127\n",
            "21     667762\n",
            "20     413568\n",
            "24     408569\n",
            "25     305028\n",
            "26     237454\n",
            "27     186277\n",
            "28     156142\n",
            "29     134814\n",
            "30     121856\n",
            "31     107373\n",
            "32     103206\n",
            "33      99041\n",
            "34      94026\n",
            "35      90366\n",
            "36      87528\n",
            "37      83133\n",
            "39      78805\n",
            "38      78510\n",
            "40      75021\n",
            "41      71271\n",
            "42      66056\n",
            "43      59418\n",
            "44      54804\n",
            "45      50980\n",
            "46      46566\n",
            "47      44665\n",
            "48      41342\n",
            "49      39766\n",
            "50      38463\n",
            "51      34482\n",
            "52      32664\n",
            "53      30827\n",
            "54      28117\n",
            "55      24372\n",
            "56      22997\n",
            "57      22059\n",
            "58      20376\n",
            "59      18940\n",
            "60      17943\n",
            "61      16068\n",
            "62      15604\n",
            "63      13235\n",
            "19      12203\n",
            "64      11989\n",
            "65      11301\n",
            "66      10076\n",
            "67       9514\n",
            "68       9175\n",
            "69       8774\n",
            "70       7440\n",
            "71       6285\n",
            "73       6256\n",
            "72       6200\n",
            "74       5191\n",
            "77       4542\n",
            "76       4431\n",
            "75       4208\n",
            "81       3511\n",
            "78       3184\n",
            "6        3043\n",
            "82       3019\n",
            "79       2992\n",
            "84       2924\n",
            "5        2920\n",
            "80       2875\n",
            "83       2684\n",
            "85       2656\n",
            "12       2638\n",
            "86       2566\n",
            "13       2557\n",
            "9        2470\n",
            "14       2465\n",
            "15       2370\n",
            "87       2346\n",
            "11       2254\n",
            "10       2247\n",
            "8        2216\n",
            "4        2210\n",
            "7        2191\n",
            "16       2159\n",
            "17       1911\n",
            "88       1870\n",
            "18       1843\n",
            "89       1720\n",
            "90       1565\n",
            "3        1534\n",
            "91       1188\n",
            "92        890\n",
            "2         688\n",
            "93        615\n",
            "94        542\n",
            "95        484\n",
            "96        346\n",
            "97        300\n",
            "98        184\n",
            "100       112\n",
            "99         94\n",
            "101        91\n",
            "102        65\n",
            "103        25\n",
            "104        12\n",
            "105         8\n",
            "Name: age, dtype: int64\n",
            "salary 451931.22    709\n",
            "288997.44    546\n",
            "135522.15    466\n",
            "128318.52    458\n",
            "104563.80    436\n",
            "            ... \n",
            "178580.58      1\n",
            "140411.13      1\n",
            "73880.40       1\n",
            "78719.40       1\n",
            "94128.15       1\n",
            "Name: salary, Length: 257654, dtype: int64\n"
          ]
        }
      ]
    },
    {
      "cell_type": "markdown",
      "source": [
        "#### Variables categóricas"
      ],
      "metadata": {
        "id": "9l4ZsNp8o1dz"
      }
    },
    {
      "cell_type": "code",
      "source": [
        "for i in sales_raw.select_dtypes(exclude= [\"number\"]).columns:\n",
        "     print(i, sales_raw[i].value_counts())"
      ],
      "metadata": {
        "id": "1u-iVCklFDbi",
        "colab": {
          "base_uri": "https://localhost:8080/"
        },
        "outputId": "dd4e8578-899f-4735-9552-7dff1ab9911e"
      },
      "execution_count": 33,
      "outputs": [
        {
          "output_type": "stream",
          "name": "stdout",
          "text": [
            "month_sale 2018-10-01    27693\n",
            "2018-09-01    24488\n",
            "2018-08-01    21054\n",
            "2018-07-01    20602\n",
            "2018-11-01    19155\n",
            "2018-02-01    15182\n",
            "2018-12-01    15015\n",
            "2019-01-01    11872\n",
            "2018-03-01    11668\n",
            "2018-06-01    11558\n",
            "2019-03-01    11506\n",
            "2019-02-01    11360\n",
            "2019-05-01    10211\n",
            "2018-04-01     9962\n",
            "2019-04-01     9889\n",
            "2018-05-01     9558\n",
            "Name: month_sale, dtype: int64\n"
          ]
        }
      ]
    },
    {
      "cell_type": "code",
      "source": [
        "for i in customer_commercial_activity_raw.select_dtypes(exclude= [\"number\"]).columns:\n",
        "  print(i, customer_commercial_activity_raw[i].value_counts())"
      ],
      "metadata": {
        "id": "lg-xtV5VEWVO",
        "colab": {
          "base_uri": "https://localhost:8080/"
        },
        "outputId": "ab69ffbb-20da-448f-b7b7-2ceb2ee78f1a"
      },
      "execution_count": 34,
      "outputs": [
        {
          "output_type": "stream",
          "name": "stdout",
          "text": [
            "pk_partition 2019-05    442995\n",
            "2019-04    439627\n",
            "2019-03    436183\n",
            "2019-02    431727\n",
            "2019-01    426875\n",
            "2018-12    422481\n",
            "2018-11    416387\n",
            "2018-10    402300\n",
            "2018-09    375323\n",
            "2018-08    352922\n",
            "2018-07    339339\n",
            "2018-06    252104\n",
            "2018-05    249926\n",
            "2018-04    247463\n",
            "2018-03    245258\n",
            "2018-02    242521\n",
            "2018-01    239493\n",
            "Name: pk_partition, dtype: int64\n",
            "entry_date 2016-10    382473\n",
            "2017-10    340613\n",
            "2015-10    310295\n",
            "2017-09    294752\n",
            "2017-07    267173\n",
            "2016-08    252704\n",
            "2015-08    221984\n",
            "2015-07    220941\n",
            "2017-11    217751\n",
            "2015-09    217174\n",
            "2018-10    216947\n",
            "2015-11    210687\n",
            "2016-09    206107\n",
            "2018-09    202262\n",
            "2016-07    189225\n",
            "2016-11    188601\n",
            "2018-07    178215\n",
            "2017-08    162534\n",
            "2018-08    138420\n",
            "2017-12    123456\n",
            "2018-11    103073\n",
            "2016-12     89423\n",
            "2015-12     82347\n",
            "2017-01     65539\n",
            "2018-02     61283\n",
            "2018-01     59721\n",
            "2017-06     54925\n",
            "2018-03     51022\n",
            "2016-01     50830\n",
            "2017-02     50561\n",
            "2017-03     50268\n",
            "2017-05     50165\n",
            "2017-04     47729\n",
            "2018-04     43480\n",
            "2018-12     41244\n",
            "2018-05     40563\n",
            "2015-05     40001\n",
            "2016-04     35682\n",
            "2018-06     35590\n",
            "2015-03     35322\n",
            "2015-04     34706\n",
            "2016-05     33234\n",
            "2015-06     33062\n",
            "2019-01     32640\n",
            "2015-02     30626\n",
            "2016-06     30095\n",
            "2015-01     29646\n",
            "2016-02     29552\n",
            "2016-03     27329\n",
            "2019-02     23533\n",
            "2019-03     14434\n",
            "2019-04      8602\n",
            "2019-05      4383\n",
            "Name: entry_date, dtype: int64\n",
            "entry_channel KHE    3113947\n",
            "KFC     890620\n",
            "KHQ     590280\n",
            "KAT     416084\n",
            "KHK     230197\n",
            "KHM     176591\n",
            "KHN     108434\n",
            "KFA      79020\n",
            "KHD      75899\n",
            "RED      60601\n",
            "KHL      41736\n",
            "KHF      20657\n",
            "KHO       8247\n",
            "KAZ       5635\n",
            "KHC       5241\n",
            "KBG       1662\n",
            "KEH        728\n",
            "KHP        691\n",
            "007        613\n",
            "013        397\n",
            "KAG        335\n",
            "KAS        305\n",
            "KBZ        198\n",
            "KAA        193\n",
            "KAR        157\n",
            "KAY        149\n",
            "KAF        123\n",
            "KAB         95\n",
            "KFD         91\n",
            "KCC         89\n",
            "KAW         65\n",
            "KAQ         52\n",
            "KDH         51\n",
            "KAE         48\n",
            "KCH         48\n",
            "KCB         47\n",
            "KAD         45\n",
            "KAM         43\n",
            "KAH         40\n",
            "KAK         34\n",
            "KAJ         33\n",
            "KDT         23\n",
            "KFF         22\n",
            "KBO         21\n",
            "KEY         20\n",
            "KGC         17\n",
            "004         17\n",
            "KFS         17\n",
            "KCL         17\n",
            "KBE         17\n",
            "KBH         17\n",
            "KFK         17\n",
            "KGN         17\n",
            "KCI         17\n",
            "KGX         17\n",
            "KDR         16\n",
            "KFL         13\n",
            "KBW         12\n",
            "KBU         11\n",
            "KAI         11\n",
            "KCK         11\n",
            "KBY         11\n",
            "KES         11\n",
            "KEJ          8\n",
            "KHS          5\n",
            "KDA          2\n",
            "KFP          2\n",
            "KDS          1\n",
            "Name: entry_channel, dtype: int64\n",
            "segment 03 - UNIVERSITARIO    3900166\n",
            "02 - PARTICULARES     1830875\n",
            "01 - TOP                97939\n",
            "Name: segment, dtype: int64\n"
          ]
        }
      ]
    },
    {
      "cell_type": "code",
      "source": [
        "for i in customer_sociodemographics_raw.select_dtypes(exclude= [\"number\"]).columns:\n",
        "  print(i, customer_sociodemographics_raw[i].value_counts())"
      ],
      "metadata": {
        "id": "9Sc13sTPEdy-",
        "colab": {
          "base_uri": "https://localhost:8080/"
        },
        "outputId": "2b41d07e-4b00-468c-8602-95715d84d7e5"
      },
      "execution_count": 35,
      "outputs": [
        {
          "output_type": "stream",
          "name": "stdout",
          "text": [
            "pk_partition 2019-05    442995\n",
            "2019-04    439627\n",
            "2019-03    436183\n",
            "2019-02    431727\n",
            "2019-01    426875\n",
            "2018-12    422481\n",
            "2018-11    416387\n",
            "2018-10    402300\n",
            "2018-09    375323\n",
            "2018-08    352922\n",
            "2018-07    339339\n",
            "2018-06    252104\n",
            "2018-05    249926\n",
            "2018-04    247463\n",
            "2018-03    245258\n",
            "2018-02    242521\n",
            "2018-01    239493\n",
            "Name: pk_partition, dtype: int64\n",
            "country_id ES    5960672\n",
            "GB        441\n",
            "FR        225\n",
            "DE        199\n",
            "US        195\n",
            "CH        194\n",
            "BR         87\n",
            "BE         81\n",
            "VE         79\n",
            "IE         68\n",
            "MX         58\n",
            "AT         51\n",
            "AR         51\n",
            "PL         49\n",
            "IT         45\n",
            "MA         34\n",
            "CL         30\n",
            "CN         28\n",
            "CA         22\n",
            "LU         17\n",
            "ET         17\n",
            "QA         17\n",
            "CI         17\n",
            "SA         17\n",
            "CM         17\n",
            "SN         17\n",
            "MR         17\n",
            "NO         17\n",
            "RU         17\n",
            "CO         17\n",
            "GA         17\n",
            "GT         17\n",
            "DO         17\n",
            "SE         16\n",
            "DJ         11\n",
            "PT         11\n",
            "JM         11\n",
            "RO          9\n",
            "HU          8\n",
            "DZ          7\n",
            "PE          4\n",
            "Name: country_id, dtype: int64\n",
            "gender H    3087502\n",
            "V    2875397\n",
            "Name: gender, dtype: int64\n",
            "deceased N    5961849\n",
            "S       1075\n",
            "Name: deceased, dtype: int64\n"
          ]
        }
      ]
    },
    {
      "cell_type": "markdown",
      "source": [
        "# 3.- PRE PROCESSING PARA CLUSTERING"
      ],
      "metadata": {
        "id": "F-i0SBPis5if"
      }
    },
    {
      "cell_type": "code",
      "source": [
        "def preprocesado_basico(df, cid=\"pk_cid\"):\n",
        "  # Eliminar columna Unnamed\n",
        "  df.drop(\"Unnamed: 0\", axis = 1, inplace = True)\n",
        "\n",
        "  # Renombrar columnas para alinear el naming\n",
        "  df.rename({cid: \"customer_ID\",'pk_partition':'partition_ID' },axis='columns',inplace = True)\n",
        "\n",
        "  # Cambiar a fecha la partition ID\n",
        "  df['partition_ID'] = pd.to_datetime(df['partition_ID'])"
      ],
      "metadata": {
        "id": "u6wD_6WzXIe3"
      },
      "execution_count": 36,
      "outputs": []
    },
    {
      "cell_type": "code",
      "source": [
        "def setOthers(dataframe, column, num_values=5):\n",
        "    top_categories = dataframe[column].value_counts().head(num_values)\n",
        "    top_categories_list = top_categories.index.to_list()\n",
        "    top_categories_list.append('OTHERS')\n",
        "    dataframe[column] = pd.Categorical(dataframe[column], categories=top_categories_list)\n",
        "    return dataframe[column].fillna('OTHERS')"
      ],
      "metadata": {
        "id": "yuaLR0AHn2ne"
      },
      "execution_count": 37,
      "outputs": []
    },
    {
      "cell_type": "code",
      "source": [
        "def comprobar_shapes(df1,df2,df_final):\n",
        "  print(\"DF1 = \" + str(df1.shape))\n",
        "  print(\"DF2 = \" + str(df2.shape))\n",
        "  print(\"DF_final = \" + str(df_final.shape))"
      ],
      "metadata": {
        "id": "cvy0XGXNZE-M"
      },
      "execution_count": 38,
      "outputs": []
    },
    {
      "cell_type": "markdown",
      "source": [
        "## Sales"
      ],
      "metadata": {
        "id": "7fZaJxVHmLw9"
      }
    },
    {
      "cell_type": "code",
      "source": [
        "df_sales2 = sales_raw.copy()"
      ],
      "metadata": {
        "id": "kAYtycQl3BLe"
      },
      "execution_count": 39,
      "outputs": []
    },
    {
      "cell_type": "code",
      "source": [
        "# Eliminar columna Unnamed\n",
        "df_sales2.drop(\"Unnamed: 0\", axis = 1, inplace = True)\n",
        "\n",
        "# Renombrar columnas para alinear el naming\n",
        "df_sales2.rename({\"cid\": \"customer_ID\",'pk_partition':'partition_ID' },axis='columns',inplace = True)\n",
        "\n",
        "#elimnar todas excepto,  month_sale, customer_id, y product_ID\n",
        "df_sales2.drop(\"pk_sale\", axis = 1, inplace = True)\n",
        "\n",
        "# Cambiar los identificadores (product_ID, customer_ID) a variable categórica\n",
        "df_sales2[\"product_ID\"] = df_sales2[\"product_ID\"].astype(\"object\")\n",
        "df_sales2[\"customer_ID\"] = df_sales2[\"customer_ID\"].astype(\"object\")\n",
        "\n",
        "# Cambiar tipo de month_sale a fecha\n",
        "\n",
        "df_sales2[\"month_sale\"] = pd.to_datetime(df_sales2[\"month_sale\"], format = \"%Y/%m/%d\")\n",
        "\n",
        "# Cambiar tipo de customer_ID a número\n",
        "\n",
        "df_sales2['customer_ID']=df_sales2['customer_ID'].astype('int')\n"
      ],
      "metadata": {
        "id": "SYNpmL6d-d97"
      },
      "execution_count": 40,
      "outputs": []
    },
    {
      "cell_type": "code",
      "source": [
        "df_sales2.head()"
      ],
      "metadata": {
        "id": "wUb1e4CV62tX",
        "outputId": "c5b8fc3b-2ce1-4f56-f81b-679759a93281",
        "colab": {
          "base_uri": "https://localhost:8080/",
          "height": 206
        }
      },
      "execution_count": 41,
      "outputs": [
        {
          "output_type": "execute_result",
          "data": {
            "text/plain": [
              "   customer_ID month_sale product_ID  net_margin\n",
              "0        33620 2018-05-01       2335       952.9\n",
              "1        35063 2018-06-01       2335      1625.2\n",
              "2        37299 2018-02-01       2335      1279.7\n",
              "3        39997 2018-02-01       2335      1511.9\n",
              "4        44012 2018-02-01       2335      1680.3"
            ],
            "text/html": [
              "\n",
              "  <div id=\"df-f3059f0c-7ae8-4993-8c4b-86620b3de8b0\">\n",
              "    <div class=\"colab-df-container\">\n",
              "      <div>\n",
              "<style scoped>\n",
              "    .dataframe tbody tr th:only-of-type {\n",
              "        vertical-align: middle;\n",
              "    }\n",
              "\n",
              "    .dataframe tbody tr th {\n",
              "        vertical-align: top;\n",
              "    }\n",
              "\n",
              "    .dataframe thead th {\n",
              "        text-align: right;\n",
              "    }\n",
              "</style>\n",
              "<table border=\"1\" class=\"dataframe\">\n",
              "  <thead>\n",
              "    <tr style=\"text-align: right;\">\n",
              "      <th></th>\n",
              "      <th>customer_ID</th>\n",
              "      <th>month_sale</th>\n",
              "      <th>product_ID</th>\n",
              "      <th>net_margin</th>\n",
              "    </tr>\n",
              "  </thead>\n",
              "  <tbody>\n",
              "    <tr>\n",
              "      <th>0</th>\n",
              "      <td>33620</td>\n",
              "      <td>2018-05-01</td>\n",
              "      <td>2335</td>\n",
              "      <td>952.9</td>\n",
              "    </tr>\n",
              "    <tr>\n",
              "      <th>1</th>\n",
              "      <td>35063</td>\n",
              "      <td>2018-06-01</td>\n",
              "      <td>2335</td>\n",
              "      <td>1625.2</td>\n",
              "    </tr>\n",
              "    <tr>\n",
              "      <th>2</th>\n",
              "      <td>37299</td>\n",
              "      <td>2018-02-01</td>\n",
              "      <td>2335</td>\n",
              "      <td>1279.7</td>\n",
              "    </tr>\n",
              "    <tr>\n",
              "      <th>3</th>\n",
              "      <td>39997</td>\n",
              "      <td>2018-02-01</td>\n",
              "      <td>2335</td>\n",
              "      <td>1511.9</td>\n",
              "    </tr>\n",
              "    <tr>\n",
              "      <th>4</th>\n",
              "      <td>44012</td>\n",
              "      <td>2018-02-01</td>\n",
              "      <td>2335</td>\n",
              "      <td>1680.3</td>\n",
              "    </tr>\n",
              "  </tbody>\n",
              "</table>\n",
              "</div>\n",
              "      <button class=\"colab-df-convert\" onclick=\"convertToInteractive('df-f3059f0c-7ae8-4993-8c4b-86620b3de8b0')\"\n",
              "              title=\"Convert this dataframe to an interactive table.\"\n",
              "              style=\"display:none;\">\n",
              "        \n",
              "  <svg xmlns=\"http://www.w3.org/2000/svg\" height=\"24px\"viewBox=\"0 0 24 24\"\n",
              "       width=\"24px\">\n",
              "    <path d=\"M0 0h24v24H0V0z\" fill=\"none\"/>\n",
              "    <path d=\"M18.56 5.44l.94 2.06.94-2.06 2.06-.94-2.06-.94-.94-2.06-.94 2.06-2.06.94zm-11 1L8.5 8.5l.94-2.06 2.06-.94-2.06-.94L8.5 2.5l-.94 2.06-2.06.94zm10 10l.94 2.06.94-2.06 2.06-.94-2.06-.94-.94-2.06-.94 2.06-2.06.94z\"/><path d=\"M17.41 7.96l-1.37-1.37c-.4-.4-.92-.59-1.43-.59-.52 0-1.04.2-1.43.59L10.3 9.45l-7.72 7.72c-.78.78-.78 2.05 0 2.83L4 21.41c.39.39.9.59 1.41.59.51 0 1.02-.2 1.41-.59l7.78-7.78 2.81-2.81c.8-.78.8-2.07 0-2.86zM5.41 20L4 18.59l7.72-7.72 1.47 1.35L5.41 20z\"/>\n",
              "  </svg>\n",
              "      </button>\n",
              "      \n",
              "  <style>\n",
              "    .colab-df-container {\n",
              "      display:flex;\n",
              "      flex-wrap:wrap;\n",
              "      gap: 12px;\n",
              "    }\n",
              "\n",
              "    .colab-df-convert {\n",
              "      background-color: #E8F0FE;\n",
              "      border: none;\n",
              "      border-radius: 50%;\n",
              "      cursor: pointer;\n",
              "      display: none;\n",
              "      fill: #1967D2;\n",
              "      height: 32px;\n",
              "      padding: 0 0 0 0;\n",
              "      width: 32px;\n",
              "    }\n",
              "\n",
              "    .colab-df-convert:hover {\n",
              "      background-color: #E2EBFA;\n",
              "      box-shadow: 0px 1px 2px rgba(60, 64, 67, 0.3), 0px 1px 3px 1px rgba(60, 64, 67, 0.15);\n",
              "      fill: #174EA6;\n",
              "    }\n",
              "\n",
              "    [theme=dark] .colab-df-convert {\n",
              "      background-color: #3B4455;\n",
              "      fill: #D2E3FC;\n",
              "    }\n",
              "\n",
              "    [theme=dark] .colab-df-convert:hover {\n",
              "      background-color: #434B5C;\n",
              "      box-shadow: 0px 1px 3px 1px rgba(0, 0, 0, 0.15);\n",
              "      filter: drop-shadow(0px 1px 2px rgba(0, 0, 0, 0.3));\n",
              "      fill: #FFFFFF;\n",
              "    }\n",
              "  </style>\n",
              "\n",
              "      <script>\n",
              "        const buttonEl =\n",
              "          document.querySelector('#df-f3059f0c-7ae8-4993-8c4b-86620b3de8b0 button.colab-df-convert');\n",
              "        buttonEl.style.display =\n",
              "          google.colab.kernel.accessAllowed ? 'block' : 'none';\n",
              "\n",
              "        async function convertToInteractive(key) {\n",
              "          const element = document.querySelector('#df-f3059f0c-7ae8-4993-8c4b-86620b3de8b0');\n",
              "          const dataTable =\n",
              "            await google.colab.kernel.invokeFunction('convertToInteractive',\n",
              "                                                     [key], {});\n",
              "          if (!dataTable) return;\n",
              "\n",
              "          const docLinkHtml = 'Like what you see? Visit the ' +\n",
              "            '<a target=\"_blank\" href=https://colab.research.google.com/notebooks/data_table.ipynb>data table notebook</a>'\n",
              "            + ' to learn more about interactive tables.';\n",
              "          element.innerHTML = '';\n",
              "          dataTable['output_type'] = 'display_data';\n",
              "          await google.colab.output.renderOutput(dataTable, element);\n",
              "          const docLink = document.createElement('div');\n",
              "          docLink.innerHTML = docLinkHtml;\n",
              "          element.appendChild(docLink);\n",
              "        }\n",
              "      </script>\n",
              "    </div>\n",
              "  </div>\n",
              "  "
            ]
          },
          "metadata": {},
          "execution_count": 41
        }
      ]
    },
    {
      "cell_type": "code",
      "source": [
        "# Total facturado por cliente\n",
        "gb_total_fact = df_sales2.groupby(\"customer_ID\").agg(\n",
        "    facturacion_total = (\"net_margin\", \"sum\"),\n",
        "    pedido_min = (\"net_margin\", \"min\"),\n",
        "    pedido_max = (\"net_margin\", \"max\"),\n",
        "    pedido_mean = (\"net_margin\", \"mean\"),\n",
        ")\n",
        "print(gb_total_fact.shape)\n",
        "print()\n",
        "print(gb_total_fact.head())\n",
        "gb_total_fact = gb_total_fact.reset_index()"
      ],
      "metadata": {
        "id": "cdksTROa-o5t",
        "outputId": "27523d48-b557-4a83-fa07-71dfd6fecb25",
        "colab": {
          "base_uri": "https://localhost:8080/"
        }
      },
      "execution_count": 42,
      "outputs": [
        {
          "output_type": "stream",
          "name": "stdout",
          "text": [
            "(152754, 4)\n",
            "\n",
            "             facturacion_total  pedido_min  pedido_max  pedido_mean\n",
            "customer_ID                                                        \n",
            "15891                     66.4        66.4        66.4        66.40\n",
            "16203                     96.7        96.7        96.7        96.70\n",
            "16502                    132.9        64.3        68.6        66.45\n",
            "17457                     56.0        56.0        56.0        56.00\n",
            "17970                    879.8        49.5       830.3       439.90\n"
          ]
        }
      ]
    },
    {
      "cell_type": "code",
      "source": [
        "# Recuento de compras por cliente\n",
        "gb_n_compras = pd.DataFrame(df_sales2.groupby([\"customer_ID\"])[\"customer_ID\"].count())\n",
        "gb_n_compras.rename({\"customer_ID\": \"n_compras\"},axis='columns',inplace = True)\n",
        "gb_n_compras.sort_values(by = \"n_compras\", ascending=False ,inplace = True)\n",
        "print(gb_n_compras.shape)\n",
        "print()\n",
        "print(gb_n_compras.head())\n",
        "gb_n_compras = gb_n_compras.reset_index()"
      ],
      "metadata": {
        "id": "OC1WvdBeGQxD",
        "colab": {
          "base_uri": "https://localhost:8080/"
        },
        "outputId": "76eb7a6c-e999-4b2d-929a-32913976d386"
      },
      "execution_count": 43,
      "outputs": [
        {
          "output_type": "stream",
          "name": "stdout",
          "text": [
            "(152754, 1)\n",
            "\n",
            "             n_compras\n",
            "customer_ID           \n",
            "1387215             10\n",
            "1479480              9\n",
            "1402199              9\n",
            "1380507              9\n",
            "1386434              9\n"
          ]
        }
      ]
    },
    {
      "cell_type": "code",
      "source": [
        "# Creamos la variable \"dias ultima compra\" restando la última fecha del mes de venta por el último mes de venta (fecha \"actual\")\n",
        "df_sales2['dias_ultima_compra']=df_sales2['month_sale'].max()-df_sales2['month_sale']\n",
        "df_sales2['dias_ultima_compra']=df_sales2['dias_ultima_compra'].astype(int)/86400000000000\n",
        "\n",
        "# Días desde la última compra por cliente\n",
        "gb_dias_ultima_compra = pd.DataFrame(df_sales2.groupby([\"customer_ID\"])[\"dias_ultima_compra\"].min())\n",
        "print(gb_dias_ultima_compra.shape)\n",
        "print()\n",
        "print(gb_dias_ultima_compra.head())\n",
        "gb_dias_ultima_compra = gb_dias_ultima_compra.reset_index()"
      ],
      "metadata": {
        "id": "DMEe7Elfs5JV",
        "outputId": "9a7e1239-693d-445c-bc25-24cb0d106ff3",
        "colab": {
          "base_uri": "https://localhost:8080/"
        }
      },
      "execution_count": 44,
      "outputs": [
        {
          "output_type": "stream",
          "name": "stdout",
          "text": [
            "(152754, 1)\n",
            "\n",
            "             dias_ultima_compra\n",
            "customer_ID                    \n",
            "15891                     304.0\n",
            "16203                     120.0\n",
            "16502                     120.0\n",
            "17457                     242.0\n",
            "17970                      89.0\n"
          ]
        }
      ]
    },
    {
      "cell_type": "markdown",
      "source": [
        "## Product Description"
      ],
      "metadata": {
        "id": "GKla-RYQTuc2"
      }
    },
    {
      "cell_type": "code",
      "source": [
        "product_description_1 = product_description_raw.copy()"
      ],
      "metadata": {
        "id": "AuS0WurbTwl2"
      },
      "execution_count": 45,
      "outputs": []
    },
    {
      "cell_type": "code",
      "source": [
        "# Eliminar columna Unnamed\n",
        "product_description_1.drop(\"Unnamed: 0\", axis = 1, inplace = True)"
      ],
      "metadata": {
        "id": "sBD-RiJ5Ujwp"
      },
      "execution_count": 46,
      "outputs": []
    },
    {
      "cell_type": "code",
      "source": [
        "product_description_1"
      ],
      "metadata": {
        "id": "aqJHLc3ShhQa",
        "outputId": "51c7839d-400f-4efb-8cea-33946032f969",
        "colab": {
          "base_uri": "https://localhost:8080/",
          "height": 0
        }
      },
      "execution_count": 47,
      "outputs": [
        {
          "output_type": "execute_result",
          "data": {
            "text/plain": [
              "    pk_product_ID        product_desc family_product\n",
              "0            4657           em_acount        account\n",
              "1            3819          debit_card   payment_card\n",
              "2            1364        pension_plan   pension_plan\n",
              "3            2234             payroll        account\n",
              "4            2235     payroll_account        account\n",
              "5            8871         emc_account        account\n",
              "6            2312         credit_card   payment_card\n",
              "7            2335  short_term_deposit     investment\n",
              "8            2336   long_term_deposit     investment\n",
              "9            2673          securities     investment\n",
              "10           1119               funds     investment\n",
              "11           9001               loans           loan\n",
              "12           4033            mortgage           loan"
            ],
            "text/html": [
              "\n",
              "  <div id=\"df-679aa2d1-27c7-4e2e-838d-6efe0541ebf6\">\n",
              "    <div class=\"colab-df-container\">\n",
              "      <div>\n",
              "<style scoped>\n",
              "    .dataframe tbody tr th:only-of-type {\n",
              "        vertical-align: middle;\n",
              "    }\n",
              "\n",
              "    .dataframe tbody tr th {\n",
              "        vertical-align: top;\n",
              "    }\n",
              "\n",
              "    .dataframe thead th {\n",
              "        text-align: right;\n",
              "    }\n",
              "</style>\n",
              "<table border=\"1\" class=\"dataframe\">\n",
              "  <thead>\n",
              "    <tr style=\"text-align: right;\">\n",
              "      <th></th>\n",
              "      <th>pk_product_ID</th>\n",
              "      <th>product_desc</th>\n",
              "      <th>family_product</th>\n",
              "    </tr>\n",
              "  </thead>\n",
              "  <tbody>\n",
              "    <tr>\n",
              "      <th>0</th>\n",
              "      <td>4657</td>\n",
              "      <td>em_acount</td>\n",
              "      <td>account</td>\n",
              "    </tr>\n",
              "    <tr>\n",
              "      <th>1</th>\n",
              "      <td>3819</td>\n",
              "      <td>debit_card</td>\n",
              "      <td>payment_card</td>\n",
              "    </tr>\n",
              "    <tr>\n",
              "      <th>2</th>\n",
              "      <td>1364</td>\n",
              "      <td>pension_plan</td>\n",
              "      <td>pension_plan</td>\n",
              "    </tr>\n",
              "    <tr>\n",
              "      <th>3</th>\n",
              "      <td>2234</td>\n",
              "      <td>payroll</td>\n",
              "      <td>account</td>\n",
              "    </tr>\n",
              "    <tr>\n",
              "      <th>4</th>\n",
              "      <td>2235</td>\n",
              "      <td>payroll_account</td>\n",
              "      <td>account</td>\n",
              "    </tr>\n",
              "    <tr>\n",
              "      <th>5</th>\n",
              "      <td>8871</td>\n",
              "      <td>emc_account</td>\n",
              "      <td>account</td>\n",
              "    </tr>\n",
              "    <tr>\n",
              "      <th>6</th>\n",
              "      <td>2312</td>\n",
              "      <td>credit_card</td>\n",
              "      <td>payment_card</td>\n",
              "    </tr>\n",
              "    <tr>\n",
              "      <th>7</th>\n",
              "      <td>2335</td>\n",
              "      <td>short_term_deposit</td>\n",
              "      <td>investment</td>\n",
              "    </tr>\n",
              "    <tr>\n",
              "      <th>8</th>\n",
              "      <td>2336</td>\n",
              "      <td>long_term_deposit</td>\n",
              "      <td>investment</td>\n",
              "    </tr>\n",
              "    <tr>\n",
              "      <th>9</th>\n",
              "      <td>2673</td>\n",
              "      <td>securities</td>\n",
              "      <td>investment</td>\n",
              "    </tr>\n",
              "    <tr>\n",
              "      <th>10</th>\n",
              "      <td>1119</td>\n",
              "      <td>funds</td>\n",
              "      <td>investment</td>\n",
              "    </tr>\n",
              "    <tr>\n",
              "      <th>11</th>\n",
              "      <td>9001</td>\n",
              "      <td>loans</td>\n",
              "      <td>loan</td>\n",
              "    </tr>\n",
              "    <tr>\n",
              "      <th>12</th>\n",
              "      <td>4033</td>\n",
              "      <td>mortgage</td>\n",
              "      <td>loan</td>\n",
              "    </tr>\n",
              "  </tbody>\n",
              "</table>\n",
              "</div>\n",
              "      <button class=\"colab-df-convert\" onclick=\"convertToInteractive('df-679aa2d1-27c7-4e2e-838d-6efe0541ebf6')\"\n",
              "              title=\"Convert this dataframe to an interactive table.\"\n",
              "              style=\"display:none;\">\n",
              "        \n",
              "  <svg xmlns=\"http://www.w3.org/2000/svg\" height=\"24px\"viewBox=\"0 0 24 24\"\n",
              "       width=\"24px\">\n",
              "    <path d=\"M0 0h24v24H0V0z\" fill=\"none\"/>\n",
              "    <path d=\"M18.56 5.44l.94 2.06.94-2.06 2.06-.94-2.06-.94-.94-2.06-.94 2.06-2.06.94zm-11 1L8.5 8.5l.94-2.06 2.06-.94-2.06-.94L8.5 2.5l-.94 2.06-2.06.94zm10 10l.94 2.06.94-2.06 2.06-.94-2.06-.94-.94-2.06-.94 2.06-2.06.94z\"/><path d=\"M17.41 7.96l-1.37-1.37c-.4-.4-.92-.59-1.43-.59-.52 0-1.04.2-1.43.59L10.3 9.45l-7.72 7.72c-.78.78-.78 2.05 0 2.83L4 21.41c.39.39.9.59 1.41.59.51 0 1.02-.2 1.41-.59l7.78-7.78 2.81-2.81c.8-.78.8-2.07 0-2.86zM5.41 20L4 18.59l7.72-7.72 1.47 1.35L5.41 20z\"/>\n",
              "  </svg>\n",
              "      </button>\n",
              "      \n",
              "  <style>\n",
              "    .colab-df-container {\n",
              "      display:flex;\n",
              "      flex-wrap:wrap;\n",
              "      gap: 12px;\n",
              "    }\n",
              "\n",
              "    .colab-df-convert {\n",
              "      background-color: #E8F0FE;\n",
              "      border: none;\n",
              "      border-radius: 50%;\n",
              "      cursor: pointer;\n",
              "      display: none;\n",
              "      fill: #1967D2;\n",
              "      height: 32px;\n",
              "      padding: 0 0 0 0;\n",
              "      width: 32px;\n",
              "    }\n",
              "\n",
              "    .colab-df-convert:hover {\n",
              "      background-color: #E2EBFA;\n",
              "      box-shadow: 0px 1px 2px rgba(60, 64, 67, 0.3), 0px 1px 3px 1px rgba(60, 64, 67, 0.15);\n",
              "      fill: #174EA6;\n",
              "    }\n",
              "\n",
              "    [theme=dark] .colab-df-convert {\n",
              "      background-color: #3B4455;\n",
              "      fill: #D2E3FC;\n",
              "    }\n",
              "\n",
              "    [theme=dark] .colab-df-convert:hover {\n",
              "      background-color: #434B5C;\n",
              "      box-shadow: 0px 1px 3px 1px rgba(0, 0, 0, 0.15);\n",
              "      filter: drop-shadow(0px 1px 2px rgba(0, 0, 0, 0.3));\n",
              "      fill: #FFFFFF;\n",
              "    }\n",
              "  </style>\n",
              "\n",
              "      <script>\n",
              "        const buttonEl =\n",
              "          document.querySelector('#df-679aa2d1-27c7-4e2e-838d-6efe0541ebf6 button.colab-df-convert');\n",
              "        buttonEl.style.display =\n",
              "          google.colab.kernel.accessAllowed ? 'block' : 'none';\n",
              "\n",
              "        async function convertToInteractive(key) {\n",
              "          const element = document.querySelector('#df-679aa2d1-27c7-4e2e-838d-6efe0541ebf6');\n",
              "          const dataTable =\n",
              "            await google.colab.kernel.invokeFunction('convertToInteractive',\n",
              "                                                     [key], {});\n",
              "          if (!dataTable) return;\n",
              "\n",
              "          const docLinkHtml = 'Like what you see? Visit the ' +\n",
              "            '<a target=\"_blank\" href=https://colab.research.google.com/notebooks/data_table.ipynb>data table notebook</a>'\n",
              "            + ' to learn more about interactive tables.';\n",
              "          element.innerHTML = '';\n",
              "          dataTable['output_type'] = 'display_data';\n",
              "          await google.colab.output.renderOutput(dataTable, element);\n",
              "          const docLink = document.createElement('div');\n",
              "          docLink.innerHTML = docLinkHtml;\n",
              "          element.appendChild(docLink);\n",
              "        }\n",
              "      </script>\n",
              "    </div>\n",
              "  </div>\n",
              "  "
            ]
          },
          "metadata": {},
          "execution_count": 47
        }
      ]
    },
    {
      "cell_type": "code",
      "source": [
        "report_df(product_description_1)"
      ],
      "metadata": {
        "id": "9-r2E5DwUoW-",
        "colab": {
          "base_uri": "https://localhost:8080/"
        },
        "outputId": "36919e1d-41ec-4dbc-d001-4742fbd0add1"
      },
      "execution_count": 48,
      "outputs": [
        {
          "output_type": "stream",
          "name": "stdout",
          "text": [
            "***INFO***\n",
            "<class 'pandas.core.frame.DataFrame'>\n",
            "RangeIndex: 13 entries, 0 to 12\n",
            "Data columns (total 3 columns):\n",
            " #   Column          Non-Null Count  Dtype \n",
            "---  ------          --------------  ----- \n",
            " 0   pk_product_ID   13 non-null     int64 \n",
            " 1   product_desc    13 non-null     object\n",
            " 2   family_product  13 non-null     object\n",
            "dtypes: int64(1), object(2)\n",
            "memory usage: 440.0+ bytes\n",
            "None\n",
            "***DESCRIPTIVOS CATEGORICAS***\n",
            "       product_desc family_product\n",
            "count            13             13\n",
            "unique           13              5\n",
            "top       em_acount        account\n",
            "freq              1              4\n",
            "***DESCRIPTIVOS NUMÉRICAS***\n",
            "       pk_product_ID\n",
            "count      13.000000\n",
            "mean     3614.538462\n",
            "std      2564.251438\n",
            "min      1119.000000\n",
            "25%      2235.000000\n",
            "50%      2336.000000\n",
            "75%      4033.000000\n",
            "max      9001.000000\n",
            "***NULOS***\n",
            "pk_product_ID     0\n",
            "product_desc      0\n",
            "family_product    0\n",
            "dtype: int64\n",
            "Tenemos un total de 0 nulos\n"
          ]
        }
      ]
    },
    {
      "cell_type": "markdown",
      "source": [
        "## Customer Sociodemographics"
      ],
      "metadata": {
        "id": "ds9YPpHoteTF"
      }
    },
    {
      "cell_type": "code",
      "source": [
        "#hacemos una copia del dataset par eliminar los deceased yes\n",
        "df_customer_soc1 = customer_sociodemographics_raw[customer_sociodemographics_raw['deceased']=='N'].copy()"
      ],
      "metadata": {
        "id": "XMe6OTdxFOBW"
      },
      "execution_count": 49,
      "outputs": []
    },
    {
      "cell_type": "code",
      "source": [
        "preprocesado_basico(df_customer_soc1)"
      ],
      "metadata": {
        "id": "ukZVcaGMbcSl"
      },
      "execution_count": 50,
      "outputs": []
    },
    {
      "cell_type": "code",
      "source": [
        "df_customer_soc1.drop(\"deceased\", axis = 1, inplace = True)"
      ],
      "metadata": {
        "id": "x1yDVVLGF1zO"
      },
      "execution_count": 51,
      "outputs": []
    },
    {
      "cell_type": "markdown",
      "source": [
        "Gestión de nulos"
      ],
      "metadata": {
        "id": "wBQshqXPnsSB"
      }
    },
    {
      "cell_type": "code",
      "source": [
        "# Asignamos valor extremos a \"salary\", \"gender\", \"region_code\" ya que vamos a hacer un DecisionTree\n",
        "\n",
        "print(df_customer_soc1[\"salary\"].describe())\n",
        "df_customer_soc1[\"salary\"].fillna(value = 0, inplace = True)\n",
        "\n",
        "print(df_customer_soc1[\"gender\"].value_counts(normalize = True))\n",
        "df_customer_soc1[\"gender\"].fillna(value = 2, inplace = True)\n",
        "\n",
        "print(df_customer_soc1[\"region_code\"].describe())\n",
        "df_customer_soc1[\"region_code\"].fillna(value = 1000, inplace = True)"
      ],
      "metadata": {
        "id": "FCyfTmNFh4kl",
        "outputId": "5c17fd37-b07a-4cc0-8a68-b4d1eed7c96c",
        "colab": {
          "base_uri": "https://localhost:8080/"
        }
      },
      "execution_count": 52,
      "outputs": [
        {
          "output_type": "stream",
          "name": "stdout",
          "text": [
            "count    4.420973e+06\n",
            "mean     1.155814e+05\n",
            "std      2.000178e+05\n",
            "min      1.202730e+03\n",
            "25%      6.141360e+04\n",
            "50%      8.843820e+04\n",
            "75%      1.313081e+05\n",
            "max      2.889440e+07\n",
            "Name: salary, dtype: float64\n",
            "H    0.517818\n",
            "V    0.482182\n",
            "Name: gender, dtype: float64\n",
            "count    5.959590e+06\n",
            "mean     2.581401e+01\n",
            "std      1.359580e+01\n",
            "min      1.000000e+00\n",
            "25%      1.300000e+01\n",
            "50%      2.800000e+01\n",
            "75%      3.600000e+01\n",
            "max      5.200000e+01\n",
            "Name: region_code, dtype: float64\n"
          ]
        }
      ]
    },
    {
      "cell_type": "markdown",
      "source": [
        "Agrupación"
      ],
      "metadata": {
        "id": "0HlSfTRPno-h"
      }
    },
    {
      "cell_type": "code",
      "source": [
        "#agrupamos country_id en ES y OTHERS\n",
        "print((df_customer_soc1[\"country_id\"].value_counts(normalize=True)*100).head())\n",
        "\n",
        "df_customer_soc1['country_id'] = setOthers(df_customer_soc1,'country_id',num_values=1)\n",
        "\n",
        "print()\n",
        "print((df_customer_soc1[\"country_id\"].value_counts(normalize=True)*100).head())\n",
        "\n",
        "#df1.drop(\"country_id\", axis = 1, inplace = True)"
      ],
      "metadata": {
        "id": "XO5PZQqghQD5",
        "outputId": "7a073f99-f5b8-4b64-e292-21d4ece43d6c",
        "colab": {
          "base_uri": "https://localhost:8080/"
        }
      },
      "execution_count": 53,
      "outputs": [
        {
          "output_type": "stream",
          "name": "stdout",
          "text": [
            "ES    99.962310\n",
            "GB     0.007397\n",
            "FR     0.003774\n",
            "DE     0.003338\n",
            "US     0.003271\n",
            "Name: country_id, dtype: float64\n",
            "\n",
            "ES        99.96231\n",
            "OTHERS     0.03769\n",
            "Name: country_id, dtype: float64\n"
          ]
        }
      ]
    },
    {
      "cell_type": "code",
      "source": [
        "df_customer_soc1.head()"
      ],
      "metadata": {
        "id": "hieCeavkGqdj",
        "colab": {
          "base_uri": "https://localhost:8080/",
          "height": 0
        },
        "outputId": "d570f666-ec42-49a8-b9fb-5651e570d853"
      },
      "execution_count": 54,
      "outputs": [
        {
          "output_type": "execute_result",
          "data": {
            "text/plain": [
              "   customer_ID partition_ID country_id  region_code gender  age     salary\n",
              "0      1375586   2018-01-01         ES         29.0      H   35   87218.10\n",
              "1      1050611   2018-01-01         ES         13.0      V   23   35548.74\n",
              "2      1050612   2018-01-01         ES         13.0      V   23  122179.11\n",
              "3      1050613   2018-01-01         ES         50.0      H   22  119775.54\n",
              "4      1050614   2018-01-01         ES         50.0      V   23       0.00"
            ],
            "text/html": [
              "\n",
              "  <div id=\"df-4312dc77-214b-47a8-a857-0301170a2068\">\n",
              "    <div class=\"colab-df-container\">\n",
              "      <div>\n",
              "<style scoped>\n",
              "    .dataframe tbody tr th:only-of-type {\n",
              "        vertical-align: middle;\n",
              "    }\n",
              "\n",
              "    .dataframe tbody tr th {\n",
              "        vertical-align: top;\n",
              "    }\n",
              "\n",
              "    .dataframe thead th {\n",
              "        text-align: right;\n",
              "    }\n",
              "</style>\n",
              "<table border=\"1\" class=\"dataframe\">\n",
              "  <thead>\n",
              "    <tr style=\"text-align: right;\">\n",
              "      <th></th>\n",
              "      <th>customer_ID</th>\n",
              "      <th>partition_ID</th>\n",
              "      <th>country_id</th>\n",
              "      <th>region_code</th>\n",
              "      <th>gender</th>\n",
              "      <th>age</th>\n",
              "      <th>salary</th>\n",
              "    </tr>\n",
              "  </thead>\n",
              "  <tbody>\n",
              "    <tr>\n",
              "      <th>0</th>\n",
              "      <td>1375586</td>\n",
              "      <td>2018-01-01</td>\n",
              "      <td>ES</td>\n",
              "      <td>29.0</td>\n",
              "      <td>H</td>\n",
              "      <td>35</td>\n",
              "      <td>87218.10</td>\n",
              "    </tr>\n",
              "    <tr>\n",
              "      <th>1</th>\n",
              "      <td>1050611</td>\n",
              "      <td>2018-01-01</td>\n",
              "      <td>ES</td>\n",
              "      <td>13.0</td>\n",
              "      <td>V</td>\n",
              "      <td>23</td>\n",
              "      <td>35548.74</td>\n",
              "    </tr>\n",
              "    <tr>\n",
              "      <th>2</th>\n",
              "      <td>1050612</td>\n",
              "      <td>2018-01-01</td>\n",
              "      <td>ES</td>\n",
              "      <td>13.0</td>\n",
              "      <td>V</td>\n",
              "      <td>23</td>\n",
              "      <td>122179.11</td>\n",
              "    </tr>\n",
              "    <tr>\n",
              "      <th>3</th>\n",
              "      <td>1050613</td>\n",
              "      <td>2018-01-01</td>\n",
              "      <td>ES</td>\n",
              "      <td>50.0</td>\n",
              "      <td>H</td>\n",
              "      <td>22</td>\n",
              "      <td>119775.54</td>\n",
              "    </tr>\n",
              "    <tr>\n",
              "      <th>4</th>\n",
              "      <td>1050614</td>\n",
              "      <td>2018-01-01</td>\n",
              "      <td>ES</td>\n",
              "      <td>50.0</td>\n",
              "      <td>V</td>\n",
              "      <td>23</td>\n",
              "      <td>0.00</td>\n",
              "    </tr>\n",
              "  </tbody>\n",
              "</table>\n",
              "</div>\n",
              "      <button class=\"colab-df-convert\" onclick=\"convertToInteractive('df-4312dc77-214b-47a8-a857-0301170a2068')\"\n",
              "              title=\"Convert this dataframe to an interactive table.\"\n",
              "              style=\"display:none;\">\n",
              "        \n",
              "  <svg xmlns=\"http://www.w3.org/2000/svg\" height=\"24px\"viewBox=\"0 0 24 24\"\n",
              "       width=\"24px\">\n",
              "    <path d=\"M0 0h24v24H0V0z\" fill=\"none\"/>\n",
              "    <path d=\"M18.56 5.44l.94 2.06.94-2.06 2.06-.94-2.06-.94-.94-2.06-.94 2.06-2.06.94zm-11 1L8.5 8.5l.94-2.06 2.06-.94-2.06-.94L8.5 2.5l-.94 2.06-2.06.94zm10 10l.94 2.06.94-2.06 2.06-.94-2.06-.94-.94-2.06-.94 2.06-2.06.94z\"/><path d=\"M17.41 7.96l-1.37-1.37c-.4-.4-.92-.59-1.43-.59-.52 0-1.04.2-1.43.59L10.3 9.45l-7.72 7.72c-.78.78-.78 2.05 0 2.83L4 21.41c.39.39.9.59 1.41.59.51 0 1.02-.2 1.41-.59l7.78-7.78 2.81-2.81c.8-.78.8-2.07 0-2.86zM5.41 20L4 18.59l7.72-7.72 1.47 1.35L5.41 20z\"/>\n",
              "  </svg>\n",
              "      </button>\n",
              "      \n",
              "  <style>\n",
              "    .colab-df-container {\n",
              "      display:flex;\n",
              "      flex-wrap:wrap;\n",
              "      gap: 12px;\n",
              "    }\n",
              "\n",
              "    .colab-df-convert {\n",
              "      background-color: #E8F0FE;\n",
              "      border: none;\n",
              "      border-radius: 50%;\n",
              "      cursor: pointer;\n",
              "      display: none;\n",
              "      fill: #1967D2;\n",
              "      height: 32px;\n",
              "      padding: 0 0 0 0;\n",
              "      width: 32px;\n",
              "    }\n",
              "\n",
              "    .colab-df-convert:hover {\n",
              "      background-color: #E2EBFA;\n",
              "      box-shadow: 0px 1px 2px rgba(60, 64, 67, 0.3), 0px 1px 3px 1px rgba(60, 64, 67, 0.15);\n",
              "      fill: #174EA6;\n",
              "    }\n",
              "\n",
              "    [theme=dark] .colab-df-convert {\n",
              "      background-color: #3B4455;\n",
              "      fill: #D2E3FC;\n",
              "    }\n",
              "\n",
              "    [theme=dark] .colab-df-convert:hover {\n",
              "      background-color: #434B5C;\n",
              "      box-shadow: 0px 1px 3px 1px rgba(0, 0, 0, 0.15);\n",
              "      filter: drop-shadow(0px 1px 2px rgba(0, 0, 0, 0.3));\n",
              "      fill: #FFFFFF;\n",
              "    }\n",
              "  </style>\n",
              "\n",
              "      <script>\n",
              "        const buttonEl =\n",
              "          document.querySelector('#df-4312dc77-214b-47a8-a857-0301170a2068 button.colab-df-convert');\n",
              "        buttonEl.style.display =\n",
              "          google.colab.kernel.accessAllowed ? 'block' : 'none';\n",
              "\n",
              "        async function convertToInteractive(key) {\n",
              "          const element = document.querySelector('#df-4312dc77-214b-47a8-a857-0301170a2068');\n",
              "          const dataTable =\n",
              "            await google.colab.kernel.invokeFunction('convertToInteractive',\n",
              "                                                     [key], {});\n",
              "          if (!dataTable) return;\n",
              "\n",
              "          const docLinkHtml = 'Like what you see? Visit the ' +\n",
              "            '<a target=\"_blank\" href=https://colab.research.google.com/notebooks/data_table.ipynb>data table notebook</a>'\n",
              "            + ' to learn more about interactive tables.';\n",
              "          element.innerHTML = '';\n",
              "          dataTable['output_type'] = 'display_data';\n",
              "          await google.colab.output.renderOutput(dataTable, element);\n",
              "          const docLink = document.createElement('div');\n",
              "          docLink.innerHTML = docLinkHtml;\n",
              "          element.appendChild(docLink);\n",
              "        }\n",
              "      </script>\n",
              "    </div>\n",
              "  </div>\n",
              "  "
            ]
          },
          "metadata": {},
          "execution_count": 54
        }
      ]
    },
    {
      "cell_type": "code",
      "source": [
        "report_df(df_customer_soc1)"
      ],
      "metadata": {
        "id": "fhFh23D67N8H",
        "colab": {
          "base_uri": "https://localhost:8080/"
        },
        "outputId": "d6e25a77-ce4a-4f3d-c35f-19bd37a41ac8"
      },
      "execution_count": 55,
      "outputs": [
        {
          "output_type": "stream",
          "name": "stdout",
          "text": [
            "***INFO***\n",
            "<class 'pandas.core.frame.DataFrame'>\n",
            "Int64Index: 5961849 entries, 0 to 5962923\n",
            "Data columns (total 7 columns):\n",
            " #   Column        Dtype         \n",
            "---  ------        -----         \n",
            " 0   customer_ID   int64         \n",
            " 1   partition_ID  datetime64[ns]\n",
            " 2   country_id    category      \n",
            " 3   region_code   float64       \n",
            " 4   gender        object        \n",
            " 5   age           int64         \n",
            " 6   salary        float64       \n",
            "dtypes: category(1), datetime64[ns](1), float64(2), int64(2), object(1)\n",
            "memory usage: 324.1+ MB\n",
            "None\n",
            "***DESCRIPTIVOS CATEGORICAS***\n",
            "         gender\n",
            "count   5961849\n",
            "unique        3\n",
            "top           H\n",
            "freq    3087137\n",
            "***DESCRIPTIVOS NUMÉRICAS***\n"
          ]
        },
        {
          "output_type": "stream",
          "name": "stderr",
          "text": [
            "<ipython-input-12-0319c75cb06a>:16: FutureWarning: Treating datetime data as categorical rather than numeric in `.describe` is deprecated and will be removed in a future version of pandas. Specify `datetime_is_numeric=True` to silence this warning and adopt the future behavior now.\n",
            "  print(df.describe(exclude = ['object']))\n"
          ]
        },
        {
          "output_type": "stream",
          "name": "stdout",
          "text": [
            "         customer_ID         partition_ID country_id   region_code  \\\n",
            "count   5.961849e+06              5961849    5961849  5.961849e+06   \n",
            "unique           NaN                   17          2           NaN   \n",
            "top              NaN  2019-05-01 00:00:00         ES           NaN   \n",
            "freq             NaN               442909    5959602           NaN   \n",
            "first            NaN  2018-01-01 00:00:00        NaN           NaN   \n",
            "last             NaN  2019-05-01 00:00:00        NaN           NaN   \n",
            "mean    1.234946e+06                  NaN        NaN  2.618314e+01   \n",
            "std     1.622883e+05                  NaN        NaN  2.332893e+01   \n",
            "min     1.589100e+04                  NaN        NaN  1.000000e+00   \n",
            "25%     1.112541e+06                  NaN        NaN  1.300000e+01   \n",
            "50%     1.231108e+06                  NaN        NaN  2.800000e+01   \n",
            "75%     1.352348e+06                  NaN        NaN  3.600000e+01   \n",
            "max     1.553689e+06                  NaN        NaN  1.000000e+03   \n",
            "\n",
            "                 age        salary  \n",
            "count   5.961849e+06  5.961849e+06  \n",
            "unique           NaN           NaN  \n",
            "top              NaN           NaN  \n",
            "freq             NaN           NaN  \n",
            "first            NaN           NaN  \n",
            "last             NaN           NaN  \n",
            "mean    2.975331e+01  8.570866e+04  \n",
            "std     1.196603e+01  1.795199e+05  \n",
            "min     2.000000e+00  0.000000e+00  \n",
            "25%     2.200000e+01  0.000000e+00  \n",
            "50%     2.500000e+01  6.912474e+04  \n",
            "75%     3.400000e+01  1.127418e+05  \n",
            "max     1.050000e+02  2.889440e+07  \n",
            "***NULOS***\n",
            "customer_ID     0\n",
            "partition_ID    0\n",
            "country_id      0\n",
            "region_code     0\n",
            "gender          0\n",
            "age             0\n",
            "salary          0\n",
            "dtype: int64\n",
            "Tenemos un total de 0 nulos\n"
          ]
        }
      ]
    },
    {
      "cell_type": "code",
      "source": [
        "# Añadimos información de las provincias\n",
        "df_customer_soc1 = df_customer_soc1.merge(info_provincias_raw, how = \"left\", left_on = \"region_code\", right_on = \"codigo\")"
      ],
      "metadata": {
        "id": "YtnnpqnLYh5R"
      },
      "execution_count": 56,
      "outputs": []
    },
    {
      "cell_type": "code",
      "source": [
        "df_customer_soc1.isnull().sum()"
      ],
      "metadata": {
        "id": "fgkDITZ6JOrM",
        "colab": {
          "base_uri": "https://localhost:8080/"
        },
        "outputId": "39d39a9f-637d-4aee-bf48-532a76ef7c85"
      },
      "execution_count": 57,
      "outputs": [
        {
          "output_type": "execute_result",
          "data": {
            "text/plain": [
              "customer_ID             0\n",
              "partition_ID            0\n",
              "country_id              0\n",
              "region_code             0\n",
              "gender                  0\n",
              "age                     0\n",
              "salary                  0\n",
              "provincia            2259\n",
              "codigo               2259\n",
              "renta_neta_media     2259\n",
              "renta_bruta_media    2259\n",
              "tasa_de_paro         2259\n",
              "tasa_de_empleo       2259\n",
              "dtype: int64"
            ]
          },
          "metadata": {},
          "execution_count": 57
        }
      ]
    },
    {
      "cell_type": "code",
      "source": [
        "del df_customer_soc1[\"region_code\"]\n",
        "del df_customer_soc1[\"codigo\"]"
      ],
      "metadata": {
        "id": "AzB4bNxxJQeJ"
      },
      "execution_count": 58,
      "outputs": []
    },
    {
      "cell_type": "code",
      "source": [
        "df_customer_soc1.head()"
      ],
      "metadata": {
        "id": "t4WgHJGjZ_Db",
        "colab": {
          "base_uri": "https://localhost:8080/",
          "height": 0
        },
        "outputId": "c4116c0f-4e36-4225-a900-dc50a0b05db9"
      },
      "execution_count": 59,
      "outputs": [
        {
          "output_type": "execute_result",
          "data": {
            "text/plain": [
              "   customer_ID partition_ID country_id gender  age     salary    provincia  \\\n",
              "0      1375586   2018-01-01         ES      H   35   87218.10       Málaga   \n",
              "1      1050611   2018-01-01         ES      V   23   35548.74  Ciudad Real   \n",
              "2      1050612   2018-01-01         ES      V   23  122179.11  Ciudad Real   \n",
              "3      1050613   2018-01-01         ES      H   22  119775.54     Zaragoza   \n",
              "4      1050614   2018-01-01         ES      V   23       0.00     Zaragoza   \n",
              "\n",
              "   renta_neta_media  renta_bruta_media  tasa_de_paro  tasa_de_empleo  \n",
              "0           10261.0            15512.0         22.60           44.20  \n",
              "1           10570.0            11811.0         18.35           44.95  \n",
              "2           10570.0            11811.0         18.35           44.95  \n",
              "3           13637.0            16156.0         12.24           51.20  \n",
              "4           13637.0            16156.0         12.24           51.20  "
            ],
            "text/html": [
              "\n",
              "  <div id=\"df-eab7d78a-e012-4a14-8b32-d71a586644e9\">\n",
              "    <div class=\"colab-df-container\">\n",
              "      <div>\n",
              "<style scoped>\n",
              "    .dataframe tbody tr th:only-of-type {\n",
              "        vertical-align: middle;\n",
              "    }\n",
              "\n",
              "    .dataframe tbody tr th {\n",
              "        vertical-align: top;\n",
              "    }\n",
              "\n",
              "    .dataframe thead th {\n",
              "        text-align: right;\n",
              "    }\n",
              "</style>\n",
              "<table border=\"1\" class=\"dataframe\">\n",
              "  <thead>\n",
              "    <tr style=\"text-align: right;\">\n",
              "      <th></th>\n",
              "      <th>customer_ID</th>\n",
              "      <th>partition_ID</th>\n",
              "      <th>country_id</th>\n",
              "      <th>gender</th>\n",
              "      <th>age</th>\n",
              "      <th>salary</th>\n",
              "      <th>provincia</th>\n",
              "      <th>renta_neta_media</th>\n",
              "      <th>renta_bruta_media</th>\n",
              "      <th>tasa_de_paro</th>\n",
              "      <th>tasa_de_empleo</th>\n",
              "    </tr>\n",
              "  </thead>\n",
              "  <tbody>\n",
              "    <tr>\n",
              "      <th>0</th>\n",
              "      <td>1375586</td>\n",
              "      <td>2018-01-01</td>\n",
              "      <td>ES</td>\n",
              "      <td>H</td>\n",
              "      <td>35</td>\n",
              "      <td>87218.10</td>\n",
              "      <td>Málaga</td>\n",
              "      <td>10261.0</td>\n",
              "      <td>15512.0</td>\n",
              "      <td>22.60</td>\n",
              "      <td>44.20</td>\n",
              "    </tr>\n",
              "    <tr>\n",
              "      <th>1</th>\n",
              "      <td>1050611</td>\n",
              "      <td>2018-01-01</td>\n",
              "      <td>ES</td>\n",
              "      <td>V</td>\n",
              "      <td>23</td>\n",
              "      <td>35548.74</td>\n",
              "      <td>Ciudad Real</td>\n",
              "      <td>10570.0</td>\n",
              "      <td>11811.0</td>\n",
              "      <td>18.35</td>\n",
              "      <td>44.95</td>\n",
              "    </tr>\n",
              "    <tr>\n",
              "      <th>2</th>\n",
              "      <td>1050612</td>\n",
              "      <td>2018-01-01</td>\n",
              "      <td>ES</td>\n",
              "      <td>V</td>\n",
              "      <td>23</td>\n",
              "      <td>122179.11</td>\n",
              "      <td>Ciudad Real</td>\n",
              "      <td>10570.0</td>\n",
              "      <td>11811.0</td>\n",
              "      <td>18.35</td>\n",
              "      <td>44.95</td>\n",
              "    </tr>\n",
              "    <tr>\n",
              "      <th>3</th>\n",
              "      <td>1050613</td>\n",
              "      <td>2018-01-01</td>\n",
              "      <td>ES</td>\n",
              "      <td>H</td>\n",
              "      <td>22</td>\n",
              "      <td>119775.54</td>\n",
              "      <td>Zaragoza</td>\n",
              "      <td>13637.0</td>\n",
              "      <td>16156.0</td>\n",
              "      <td>12.24</td>\n",
              "      <td>51.20</td>\n",
              "    </tr>\n",
              "    <tr>\n",
              "      <th>4</th>\n",
              "      <td>1050614</td>\n",
              "      <td>2018-01-01</td>\n",
              "      <td>ES</td>\n",
              "      <td>V</td>\n",
              "      <td>23</td>\n",
              "      <td>0.00</td>\n",
              "      <td>Zaragoza</td>\n",
              "      <td>13637.0</td>\n",
              "      <td>16156.0</td>\n",
              "      <td>12.24</td>\n",
              "      <td>51.20</td>\n",
              "    </tr>\n",
              "  </tbody>\n",
              "</table>\n",
              "</div>\n",
              "      <button class=\"colab-df-convert\" onclick=\"convertToInteractive('df-eab7d78a-e012-4a14-8b32-d71a586644e9')\"\n",
              "              title=\"Convert this dataframe to an interactive table.\"\n",
              "              style=\"display:none;\">\n",
              "        \n",
              "  <svg xmlns=\"http://www.w3.org/2000/svg\" height=\"24px\"viewBox=\"0 0 24 24\"\n",
              "       width=\"24px\">\n",
              "    <path d=\"M0 0h24v24H0V0z\" fill=\"none\"/>\n",
              "    <path d=\"M18.56 5.44l.94 2.06.94-2.06 2.06-.94-2.06-.94-.94-2.06-.94 2.06-2.06.94zm-11 1L8.5 8.5l.94-2.06 2.06-.94-2.06-.94L8.5 2.5l-.94 2.06-2.06.94zm10 10l.94 2.06.94-2.06 2.06-.94-2.06-.94-.94-2.06-.94 2.06-2.06.94z\"/><path d=\"M17.41 7.96l-1.37-1.37c-.4-.4-.92-.59-1.43-.59-.52 0-1.04.2-1.43.59L10.3 9.45l-7.72 7.72c-.78.78-.78 2.05 0 2.83L4 21.41c.39.39.9.59 1.41.59.51 0 1.02-.2 1.41-.59l7.78-7.78 2.81-2.81c.8-.78.8-2.07 0-2.86zM5.41 20L4 18.59l7.72-7.72 1.47 1.35L5.41 20z\"/>\n",
              "  </svg>\n",
              "      </button>\n",
              "      \n",
              "  <style>\n",
              "    .colab-df-container {\n",
              "      display:flex;\n",
              "      flex-wrap:wrap;\n",
              "      gap: 12px;\n",
              "    }\n",
              "\n",
              "    .colab-df-convert {\n",
              "      background-color: #E8F0FE;\n",
              "      border: none;\n",
              "      border-radius: 50%;\n",
              "      cursor: pointer;\n",
              "      display: none;\n",
              "      fill: #1967D2;\n",
              "      height: 32px;\n",
              "      padding: 0 0 0 0;\n",
              "      width: 32px;\n",
              "    }\n",
              "\n",
              "    .colab-df-convert:hover {\n",
              "      background-color: #E2EBFA;\n",
              "      box-shadow: 0px 1px 2px rgba(60, 64, 67, 0.3), 0px 1px 3px 1px rgba(60, 64, 67, 0.15);\n",
              "      fill: #174EA6;\n",
              "    }\n",
              "\n",
              "    [theme=dark] .colab-df-convert {\n",
              "      background-color: #3B4455;\n",
              "      fill: #D2E3FC;\n",
              "    }\n",
              "\n",
              "    [theme=dark] .colab-df-convert:hover {\n",
              "      background-color: #434B5C;\n",
              "      box-shadow: 0px 1px 3px 1px rgba(0, 0, 0, 0.15);\n",
              "      filter: drop-shadow(0px 1px 2px rgba(0, 0, 0, 0.3));\n",
              "      fill: #FFFFFF;\n",
              "    }\n",
              "  </style>\n",
              "\n",
              "      <script>\n",
              "        const buttonEl =\n",
              "          document.querySelector('#df-eab7d78a-e012-4a14-8b32-d71a586644e9 button.colab-df-convert');\n",
              "        buttonEl.style.display =\n",
              "          google.colab.kernel.accessAllowed ? 'block' : 'none';\n",
              "\n",
              "        async function convertToInteractive(key) {\n",
              "          const element = document.querySelector('#df-eab7d78a-e012-4a14-8b32-d71a586644e9');\n",
              "          const dataTable =\n",
              "            await google.colab.kernel.invokeFunction('convertToInteractive',\n",
              "                                                     [key], {});\n",
              "          if (!dataTable) return;\n",
              "\n",
              "          const docLinkHtml = 'Like what you see? Visit the ' +\n",
              "            '<a target=\"_blank\" href=https://colab.research.google.com/notebooks/data_table.ipynb>data table notebook</a>'\n",
              "            + ' to learn more about interactive tables.';\n",
              "          element.innerHTML = '';\n",
              "          dataTable['output_type'] = 'display_data';\n",
              "          await google.colab.output.renderOutput(dataTable, element);\n",
              "          const docLink = document.createElement('div');\n",
              "          docLink.innerHTML = docLinkHtml;\n",
              "          element.appendChild(docLink);\n",
              "        }\n",
              "      </script>\n",
              "    </div>\n",
              "  </div>\n",
              "  "
            ]
          },
          "metadata": {},
          "execution_count": 59
        }
      ]
    },
    {
      "cell_type": "code",
      "source": [
        "df_customer_soc1[\"provincia\"].fillna(value = \"No definido\", inplace = True)\n",
        "df_customer_soc1[\"renta_neta_media\"].fillna(np.mean(df_customer_soc1[\"renta_neta_media\"]), inplace = True)\n",
        "df_customer_soc1[\"renta_bruta_media\"].fillna(np.mean(df_customer_soc1[\"renta_bruta_media\"]), inplace = True)\n",
        "df_customer_soc1[\"tasa_de_paro\"].fillna(np.mean(df_customer_soc1[\"tasa_de_paro\"]), inplace = True)\n",
        "df_customer_soc1[\"tasa_de_empleo\"].fillna(np.mean(df_customer_soc1[\"tasa_de_empleo\"]), inplace = True)"
      ],
      "metadata": {
        "id": "iUs3EgwwJ7b-"
      },
      "execution_count": 60,
      "outputs": []
    },
    {
      "cell_type": "markdown",
      "source": [
        "## Customer commercial activity"
      ],
      "metadata": {
        "id": "zVTVH4pI32C5"
      }
    },
    {
      "cell_type": "code",
      "source": [
        "# La cantidad de clientes inactivos son 317.179\n",
        "customer_commercial_activity_raw[customer_commercial_activity_raw[\"active_customer\"] == 0][\"pk_cid\"].nunique()"
      ],
      "metadata": {
        "id": "KN99PJf0liRq",
        "colab": {
          "base_uri": "https://localhost:8080/"
        },
        "outputId": "6aacf6de-340b-4637-822b-54fe80eb48e4"
      },
      "execution_count": 61,
      "outputs": [
        {
          "output_type": "execute_result",
          "data": {
            "text/plain": [
              "317179"
            ]
          },
          "metadata": {},
          "execution_count": 61
        }
      ]
    },
    {
      "cell_type": "code",
      "source": [
        "# Eliminamos los clientes inactivos del dataset al no ser target\n",
        "df_cust_com_act1 = customer_commercial_activity_raw[customer_commercial_activity_raw['active_customer']==1].copy()"
      ],
      "metadata": {
        "id": "WjmgnDpg4kfs"
      },
      "execution_count": 62,
      "outputs": []
    },
    {
      "cell_type": "code",
      "source": [
        "preprocesado_basico(df_cust_com_act1)"
      ],
      "metadata": {
        "id": "73D4b19dHAhC"
      },
      "execution_count": 63,
      "outputs": []
    },
    {
      "cell_type": "code",
      "source": [
        "# Creamos la variable \"Antiguedad\" restando la última fecha de partition por el entry_date\n",
        "df_cust_com_act1['antiguedad']=pd.to_datetime(df_cust_com_act1['partition_ID'].max())-pd.to_datetime(df_cust_com_act1['entry_date'])"
      ],
      "metadata": {
        "id": "R47KUE2IMxno"
      },
      "execution_count": 64,
      "outputs": []
    },
    {
      "cell_type": "code",
      "source": [
        "df_cust_com_act1['antiguedad']=df_cust_com_act1['antiguedad'].astype(int)/86400000000000"
      ],
      "metadata": {
        "id": "2K1JFaRiccrH"
      },
      "execution_count": 65,
      "outputs": []
    },
    {
      "cell_type": "code",
      "source": [
        "df_cust_com_act1.drop(\"active_customer\", axis = 1, inplace = True)\n",
        "df_cust_com_act1.drop(\"entry_date\", axis = 1, inplace = True)"
      ],
      "metadata": {
        "id": "Z8ZwmRhPQ3my"
      },
      "execution_count": 66,
      "outputs": []
    },
    {
      "cell_type": "markdown",
      "source": [
        "Gestión de nulos"
      ],
      "metadata": {
        "id": "XPU5KdcznMEz"
      }
    },
    {
      "cell_type": "code",
      "source": [
        "# Función para imputar nulos de Segment y Entry Channel\n",
        "\n",
        "def imputacion_nulos(df,col):\n",
        "  # Array con los ids que tienen nulos\n",
        "  ids_null_unique = df[(df[col].isnull()==True)]['customer_ID'].unique()\n",
        "  # Dataframe donde revisamos si en la última carga de datos hay un valor para los ids que tienen \"entry_channel\" nulo.\n",
        "  valores_nulos = df[(df.customer_ID.isin(ids_null_unique))&(df[col].notnull())&(df['partition_ID']== \"2019-05\")][['customer_ID',col]]\n",
        "  # Si el id con \"entry_channel\" nulo tenía un valor correcto en la última partition, se lo asignaremos a los valores nulos.\n",
        "  dict_nulos = dict(zip(valores_nulos['customer_ID'],valores_nulos[col]))\n",
        "  df.set_index('customer_ID',inplace = True)\n",
        "  # Imputamos los últimos valores registrados correctamente en \"segment\" y \"entry_channel\"\n",
        "  df[col].fillna(dict_nulos,inplace=True)\n",
        "  df.reset_index(inplace = True)"
      ],
      "metadata": {
        "id": "eCIrGFtQjd3q"
      },
      "execution_count": 67,
      "outputs": []
    },
    {
      "cell_type": "code",
      "source": [
        "imputacion_nulos(df_cust_com_act1,col = 'segment')"
      ],
      "metadata": {
        "id": "Mw9A0Lt6mA-X"
      },
      "execution_count": 68,
      "outputs": []
    },
    {
      "cell_type": "code",
      "source": [
        "imputacion_nulos(df_cust_com_act1,col = 'entry_channel')"
      ],
      "metadata": {
        "id": "7iw4ZuYlmF2F"
      },
      "execution_count": 69,
      "outputs": []
    },
    {
      "cell_type": "code",
      "source": [
        "# Imputación de valores extremos a los nulos que no se han podido deducir por el histórico\n",
        "df_cust_com_act1['segment'].fillna(value='04 - NO SEGMENT',inplace=True)\n",
        "df_cust_com_act1['entry_channel'].fillna(value='ZZZ',inplace=True)"
      ],
      "metadata": {
        "id": "zgECnFYkiNpt"
      },
      "execution_count": 70,
      "outputs": []
    },
    {
      "cell_type": "markdown",
      "source": [
        "Agrupación"
      ],
      "metadata": {
        "id": "zufCQ02qnQrZ"
      }
    },
    {
      "cell_type": "code",
      "source": [
        "df_cust_com_act1['entry_channel']=setOthers(df_cust_com_act1,'entry_channel',num_values=13)"
      ],
      "metadata": {
        "id": "W39RS0cEiNpu"
      },
      "execution_count": 71,
      "outputs": []
    },
    {
      "cell_type": "code",
      "source": [
        "df_cust_com_act1.head()"
      ],
      "metadata": {
        "id": "nq6u9vd2Ymqf",
        "colab": {
          "base_uri": "https://localhost:8080/",
          "height": 0
        },
        "outputId": "02911a66-01c1-4024-c2b3-4258b6bb8c86"
      },
      "execution_count": 72,
      "outputs": [
        {
          "output_type": "execute_result",
          "data": {
            "text/plain": [
              "   customer_ID partition_ID entry_channel             segment  antiguedad\n",
              "0      1375586   2018-01-01           KHL   02 - PARTICULARES       485.0\n",
              "1      1050614   2018-01-01           KHE  03 - UNIVERSITARIO      1369.0\n",
              "2      1050617   2018-01-01           KHE  03 - UNIVERSITARIO      1369.0\n",
              "3      1050623   2018-01-01           KHE  03 - UNIVERSITARIO      1369.0\n",
              "4      1050624   2018-01-01           KHE   02 - PARTICULARES      1369.0"
            ],
            "text/html": [
              "\n",
              "  <div id=\"df-2aa2fce0-40ae-42d9-acda-b7f4a66e214b\">\n",
              "    <div class=\"colab-df-container\">\n",
              "      <div>\n",
              "<style scoped>\n",
              "    .dataframe tbody tr th:only-of-type {\n",
              "        vertical-align: middle;\n",
              "    }\n",
              "\n",
              "    .dataframe tbody tr th {\n",
              "        vertical-align: top;\n",
              "    }\n",
              "\n",
              "    .dataframe thead th {\n",
              "        text-align: right;\n",
              "    }\n",
              "</style>\n",
              "<table border=\"1\" class=\"dataframe\">\n",
              "  <thead>\n",
              "    <tr style=\"text-align: right;\">\n",
              "      <th></th>\n",
              "      <th>customer_ID</th>\n",
              "      <th>partition_ID</th>\n",
              "      <th>entry_channel</th>\n",
              "      <th>segment</th>\n",
              "      <th>antiguedad</th>\n",
              "    </tr>\n",
              "  </thead>\n",
              "  <tbody>\n",
              "    <tr>\n",
              "      <th>0</th>\n",
              "      <td>1375586</td>\n",
              "      <td>2018-01-01</td>\n",
              "      <td>KHL</td>\n",
              "      <td>02 - PARTICULARES</td>\n",
              "      <td>485.0</td>\n",
              "    </tr>\n",
              "    <tr>\n",
              "      <th>1</th>\n",
              "      <td>1050614</td>\n",
              "      <td>2018-01-01</td>\n",
              "      <td>KHE</td>\n",
              "      <td>03 - UNIVERSITARIO</td>\n",
              "      <td>1369.0</td>\n",
              "    </tr>\n",
              "    <tr>\n",
              "      <th>2</th>\n",
              "      <td>1050617</td>\n",
              "      <td>2018-01-01</td>\n",
              "      <td>KHE</td>\n",
              "      <td>03 - UNIVERSITARIO</td>\n",
              "      <td>1369.0</td>\n",
              "    </tr>\n",
              "    <tr>\n",
              "      <th>3</th>\n",
              "      <td>1050623</td>\n",
              "      <td>2018-01-01</td>\n",
              "      <td>KHE</td>\n",
              "      <td>03 - UNIVERSITARIO</td>\n",
              "      <td>1369.0</td>\n",
              "    </tr>\n",
              "    <tr>\n",
              "      <th>4</th>\n",
              "      <td>1050624</td>\n",
              "      <td>2018-01-01</td>\n",
              "      <td>KHE</td>\n",
              "      <td>02 - PARTICULARES</td>\n",
              "      <td>1369.0</td>\n",
              "    </tr>\n",
              "  </tbody>\n",
              "</table>\n",
              "</div>\n",
              "      <button class=\"colab-df-convert\" onclick=\"convertToInteractive('df-2aa2fce0-40ae-42d9-acda-b7f4a66e214b')\"\n",
              "              title=\"Convert this dataframe to an interactive table.\"\n",
              "              style=\"display:none;\">\n",
              "        \n",
              "  <svg xmlns=\"http://www.w3.org/2000/svg\" height=\"24px\"viewBox=\"0 0 24 24\"\n",
              "       width=\"24px\">\n",
              "    <path d=\"M0 0h24v24H0V0z\" fill=\"none\"/>\n",
              "    <path d=\"M18.56 5.44l.94 2.06.94-2.06 2.06-.94-2.06-.94-.94-2.06-.94 2.06-2.06.94zm-11 1L8.5 8.5l.94-2.06 2.06-.94-2.06-.94L8.5 2.5l-.94 2.06-2.06.94zm10 10l.94 2.06.94-2.06 2.06-.94-2.06-.94-.94-2.06-.94 2.06-2.06.94z\"/><path d=\"M17.41 7.96l-1.37-1.37c-.4-.4-.92-.59-1.43-.59-.52 0-1.04.2-1.43.59L10.3 9.45l-7.72 7.72c-.78.78-.78 2.05 0 2.83L4 21.41c.39.39.9.59 1.41.59.51 0 1.02-.2 1.41-.59l7.78-7.78 2.81-2.81c.8-.78.8-2.07 0-2.86zM5.41 20L4 18.59l7.72-7.72 1.47 1.35L5.41 20z\"/>\n",
              "  </svg>\n",
              "      </button>\n",
              "      \n",
              "  <style>\n",
              "    .colab-df-container {\n",
              "      display:flex;\n",
              "      flex-wrap:wrap;\n",
              "      gap: 12px;\n",
              "    }\n",
              "\n",
              "    .colab-df-convert {\n",
              "      background-color: #E8F0FE;\n",
              "      border: none;\n",
              "      border-radius: 50%;\n",
              "      cursor: pointer;\n",
              "      display: none;\n",
              "      fill: #1967D2;\n",
              "      height: 32px;\n",
              "      padding: 0 0 0 0;\n",
              "      width: 32px;\n",
              "    }\n",
              "\n",
              "    .colab-df-convert:hover {\n",
              "      background-color: #E2EBFA;\n",
              "      box-shadow: 0px 1px 2px rgba(60, 64, 67, 0.3), 0px 1px 3px 1px rgba(60, 64, 67, 0.15);\n",
              "      fill: #174EA6;\n",
              "    }\n",
              "\n",
              "    [theme=dark] .colab-df-convert {\n",
              "      background-color: #3B4455;\n",
              "      fill: #D2E3FC;\n",
              "    }\n",
              "\n",
              "    [theme=dark] .colab-df-convert:hover {\n",
              "      background-color: #434B5C;\n",
              "      box-shadow: 0px 1px 3px 1px rgba(0, 0, 0, 0.15);\n",
              "      filter: drop-shadow(0px 1px 2px rgba(0, 0, 0, 0.3));\n",
              "      fill: #FFFFFF;\n",
              "    }\n",
              "  </style>\n",
              "\n",
              "      <script>\n",
              "        const buttonEl =\n",
              "          document.querySelector('#df-2aa2fce0-40ae-42d9-acda-b7f4a66e214b button.colab-df-convert');\n",
              "        buttonEl.style.display =\n",
              "          google.colab.kernel.accessAllowed ? 'block' : 'none';\n",
              "\n",
              "        async function convertToInteractive(key) {\n",
              "          const element = document.querySelector('#df-2aa2fce0-40ae-42d9-acda-b7f4a66e214b');\n",
              "          const dataTable =\n",
              "            await google.colab.kernel.invokeFunction('convertToInteractive',\n",
              "                                                     [key], {});\n",
              "          if (!dataTable) return;\n",
              "\n",
              "          const docLinkHtml = 'Like what you see? Visit the ' +\n",
              "            '<a target=\"_blank\" href=https://colab.research.google.com/notebooks/data_table.ipynb>data table notebook</a>'\n",
              "            + ' to learn more about interactive tables.';\n",
              "          element.innerHTML = '';\n",
              "          dataTable['output_type'] = 'display_data';\n",
              "          await google.colab.output.renderOutput(dataTable, element);\n",
              "          const docLink = document.createElement('div');\n",
              "          docLink.innerHTML = docLinkHtml;\n",
              "          element.appendChild(docLink);\n",
              "        }\n",
              "      </script>\n",
              "    </div>\n",
              "  </div>\n",
              "  "
            ]
          },
          "metadata": {},
          "execution_count": 72
        }
      ]
    },
    {
      "cell_type": "code",
      "source": [
        "report_df(df_cust_com_act1)"
      ],
      "metadata": {
        "id": "hrWDl12sfg6j",
        "outputId": "fd41fdde-6d4e-416e-a6b9-da528e906df9",
        "colab": {
          "base_uri": "https://localhost:8080/"
        }
      },
      "execution_count": 73,
      "outputs": [
        {
          "output_type": "stream",
          "name": "stdout",
          "text": [
            "***INFO***\n",
            "<class 'pandas.core.frame.DataFrame'>\n",
            "RangeIndex: 2405351 entries, 0 to 2405350\n",
            "Data columns (total 5 columns):\n",
            " #   Column         Dtype         \n",
            "---  ------         -----         \n",
            " 0   customer_ID    int64         \n",
            " 1   partition_ID   datetime64[ns]\n",
            " 2   entry_channel  category      \n",
            " 3   segment        object        \n",
            " 4   antiguedad     float64       \n",
            "dtypes: category(1), datetime64[ns](1), float64(1), int64(1), object(1)\n",
            "memory usage: 75.7+ MB\n",
            "None\n",
            "***DESCRIPTIVOS CATEGORICAS***\n",
            "                  segment\n",
            "count             2405351\n",
            "unique                  4\n",
            "top     02 - PARTICULARES\n",
            "freq              1155032\n",
            "***DESCRIPTIVOS NUMÉRICAS***\n"
          ]
        },
        {
          "output_type": "stream",
          "name": "stderr",
          "text": [
            "<ipython-input-12-0319c75cb06a>:16: FutureWarning: Treating datetime data as categorical rather than numeric in `.describe` is deprecated and will be removed in a future version of pandas. Specify `datetime_is_numeric=True` to silence this warning and adopt the future behavior now.\n",
            "  print(df.describe(exclude = ['object']))\n"
          ]
        },
        {
          "output_type": "stream",
          "name": "stdout",
          "text": [
            "         customer_ID         partition_ID entry_channel    antiguedad\n",
            "count   2.405351e+06              2405351       2405351  2.405351e+06\n",
            "unique           NaN                   17            14           NaN\n",
            "top              NaN  2019-05-01 00:00:00           KHE           NaN\n",
            "freq             NaN               171568        788558           NaN\n",
            "first            NaN  2018-01-01 00:00:00           NaN           NaN\n",
            "last             NaN  2019-05-01 00:00:00           NaN           NaN\n",
            "mean    1.235924e+06                  NaN           NaN  7.984095e+02\n",
            "std     1.769750e+05                  NaN           NaN  3.982528e+02\n",
            "min     1.589100e+04                  NaN           NaN  0.000000e+00\n",
            "25%     1.124738e+06                  NaN           NaN  5.160000e+02\n",
            "50%     1.251650e+06                  NaN           NaN  7.600000e+02\n",
            "75%     1.368966e+06                  NaN           NaN  1.095000e+03\n",
            "max     1.553571e+06                  NaN           NaN  1.581000e+03\n",
            "***NULOS***\n",
            "customer_ID      0\n",
            "partition_ID     0\n",
            "entry_channel    0\n",
            "segment          0\n",
            "antiguedad       0\n",
            "dtype: int64\n",
            "Tenemos un total de 0 nulos\n"
          ]
        }
      ]
    },
    {
      "cell_type": "markdown",
      "source": [
        "## Customer products"
      ],
      "metadata": {
        "id": "RzghG4Wd6nCB"
      }
    },
    {
      "cell_type": "code",
      "source": [
        "df_cust_prod1 = customer_products_raw.copy()"
      ],
      "metadata": {
        "id": "KwE6gfY8HXe5"
      },
      "execution_count": 74,
      "outputs": []
    },
    {
      "cell_type": "code",
      "source": [
        "preprocesado_basico(df_cust_prod1)"
      ],
      "metadata": {
        "id": "beWnySGaf5we"
      },
      "execution_count": 75,
      "outputs": []
    },
    {
      "cell_type": "code",
      "source": [
        "# Eliminamos el Target de la tabla, lo crearemos a posteriori\n",
        "\n",
        "df_cust_prod1.drop(\"pension_plan\", axis = 1, inplace = True)"
      ],
      "metadata": {
        "id": "bacglzPOHnSS"
      },
      "execution_count": 76,
      "outputs": []
    },
    {
      "cell_type": "code",
      "source": [
        "# Eliminamos variables de baja varianza\n",
        "\n",
        "print(df_cust_prod1[\"em_account_p\"].value_counts(normalize = True)*100)\n",
        "print(df_cust_prod1[\"em_account_pp\"].value_counts(normalize = True)*100)\n",
        "\n",
        "del df_cust_prod1['em_account_pp']\n",
        "del df_cust_prod1['em_account_p']"
      ],
      "metadata": {
        "id": "ZBOZ29xSgdhN",
        "colab": {
          "base_uri": "https://localhost:8080/"
        },
        "outputId": "707766e4-cde3-4338-bcae-b93a856a4e95"
      },
      "execution_count": 77,
      "outputs": [
        {
          "output_type": "stream",
          "name": "stdout",
          "text": [
            "0    99.99943\n",
            "1     0.00057\n",
            "Name: em_account_p, dtype: float64\n",
            "0    100.0\n",
            "Name: em_account_pp, dtype: float64\n"
          ]
        }
      ]
    },
    {
      "cell_type": "code",
      "source": [
        "# Eliminamos valores nulos de \"payroll\"\n",
        "\n",
        "df_cust_prod1.dropna(subset = ['payroll'], inplace = True)"
      ],
      "metadata": {
        "id": "sA1cHrgpgOjm"
      },
      "execution_count": 78,
      "outputs": []
    },
    {
      "cell_type": "code",
      "source": [
        "# Cambiamos el type de las variables con float a int\n",
        "\n",
        "df_cust_prod1['payroll'] = df_cust_prod1[['payroll']].applymap(int)"
      ],
      "metadata": {
        "id": "7djTB9us4Bg1"
      },
      "execution_count": 79,
      "outputs": []
    },
    {
      "cell_type": "code",
      "source": [
        "df_cust_prod1.head()"
      ],
      "metadata": {
        "id": "GwVo0NuDrwZC",
        "colab": {
          "base_uri": "https://localhost:8080/",
          "height": 0
        },
        "outputId": "d6df5b1d-10fc-4705-8d4a-8be0e8692ad3"
      },
      "execution_count": 80,
      "outputs": [
        {
          "output_type": "execute_result",
          "data": {
            "text/plain": [
              "   customer_ID partition_ID  short_term_deposit  loans  mortgage  funds  \\\n",
              "0      1375586   2018-01-01                   0      0         0      0   \n",
              "1      1050611   2018-01-01                   0      0         0      0   \n",
              "2      1050612   2018-01-01                   0      0         0      0   \n",
              "3      1050613   2018-01-01                   1      0         0      0   \n",
              "4      1050614   2018-01-01                   0      0         0      0   \n",
              "\n",
              "   securities  long_term_deposit  credit_card  payroll  payroll_account  \\\n",
              "0           0                  0            0        0                0   \n",
              "1           0                  0            0        0                0   \n",
              "2           0                  0            0        0                0   \n",
              "3           0                  0            0        0                0   \n",
              "4           0                  0            0        0                0   \n",
              "\n",
              "   emc_account  debit_card  em_acount  \n",
              "0            0           0          1  \n",
              "1            0           0          1  \n",
              "2            0           0          1  \n",
              "3            0           0          0  \n",
              "4            0           0          1  "
            ],
            "text/html": [
              "\n",
              "  <div id=\"df-614fe062-6aaa-48c6-b53e-68f9c2285891\">\n",
              "    <div class=\"colab-df-container\">\n",
              "      <div>\n",
              "<style scoped>\n",
              "    .dataframe tbody tr th:only-of-type {\n",
              "        vertical-align: middle;\n",
              "    }\n",
              "\n",
              "    .dataframe tbody tr th {\n",
              "        vertical-align: top;\n",
              "    }\n",
              "\n",
              "    .dataframe thead th {\n",
              "        text-align: right;\n",
              "    }\n",
              "</style>\n",
              "<table border=\"1\" class=\"dataframe\">\n",
              "  <thead>\n",
              "    <tr style=\"text-align: right;\">\n",
              "      <th></th>\n",
              "      <th>customer_ID</th>\n",
              "      <th>partition_ID</th>\n",
              "      <th>short_term_deposit</th>\n",
              "      <th>loans</th>\n",
              "      <th>mortgage</th>\n",
              "      <th>funds</th>\n",
              "      <th>securities</th>\n",
              "      <th>long_term_deposit</th>\n",
              "      <th>credit_card</th>\n",
              "      <th>payroll</th>\n",
              "      <th>payroll_account</th>\n",
              "      <th>emc_account</th>\n",
              "      <th>debit_card</th>\n",
              "      <th>em_acount</th>\n",
              "    </tr>\n",
              "  </thead>\n",
              "  <tbody>\n",
              "    <tr>\n",
              "      <th>0</th>\n",
              "      <td>1375586</td>\n",
              "      <td>2018-01-01</td>\n",
              "      <td>0</td>\n",
              "      <td>0</td>\n",
              "      <td>0</td>\n",
              "      <td>0</td>\n",
              "      <td>0</td>\n",
              "      <td>0</td>\n",
              "      <td>0</td>\n",
              "      <td>0</td>\n",
              "      <td>0</td>\n",
              "      <td>0</td>\n",
              "      <td>0</td>\n",
              "      <td>1</td>\n",
              "    </tr>\n",
              "    <tr>\n",
              "      <th>1</th>\n",
              "      <td>1050611</td>\n",
              "      <td>2018-01-01</td>\n",
              "      <td>0</td>\n",
              "      <td>0</td>\n",
              "      <td>0</td>\n",
              "      <td>0</td>\n",
              "      <td>0</td>\n",
              "      <td>0</td>\n",
              "      <td>0</td>\n",
              "      <td>0</td>\n",
              "      <td>0</td>\n",
              "      <td>0</td>\n",
              "      <td>0</td>\n",
              "      <td>1</td>\n",
              "    </tr>\n",
              "    <tr>\n",
              "      <th>2</th>\n",
              "      <td>1050612</td>\n",
              "      <td>2018-01-01</td>\n",
              "      <td>0</td>\n",
              "      <td>0</td>\n",
              "      <td>0</td>\n",
              "      <td>0</td>\n",
              "      <td>0</td>\n",
              "      <td>0</td>\n",
              "      <td>0</td>\n",
              "      <td>0</td>\n",
              "      <td>0</td>\n",
              "      <td>0</td>\n",
              "      <td>0</td>\n",
              "      <td>1</td>\n",
              "    </tr>\n",
              "    <tr>\n",
              "      <th>3</th>\n",
              "      <td>1050613</td>\n",
              "      <td>2018-01-01</td>\n",
              "      <td>1</td>\n",
              "      <td>0</td>\n",
              "      <td>0</td>\n",
              "      <td>0</td>\n",
              "      <td>0</td>\n",
              "      <td>0</td>\n",
              "      <td>0</td>\n",
              "      <td>0</td>\n",
              "      <td>0</td>\n",
              "      <td>0</td>\n",
              "      <td>0</td>\n",
              "      <td>0</td>\n",
              "    </tr>\n",
              "    <tr>\n",
              "      <th>4</th>\n",
              "      <td>1050614</td>\n",
              "      <td>2018-01-01</td>\n",
              "      <td>0</td>\n",
              "      <td>0</td>\n",
              "      <td>0</td>\n",
              "      <td>0</td>\n",
              "      <td>0</td>\n",
              "      <td>0</td>\n",
              "      <td>0</td>\n",
              "      <td>0</td>\n",
              "      <td>0</td>\n",
              "      <td>0</td>\n",
              "      <td>0</td>\n",
              "      <td>1</td>\n",
              "    </tr>\n",
              "  </tbody>\n",
              "</table>\n",
              "</div>\n",
              "      <button class=\"colab-df-convert\" onclick=\"convertToInteractive('df-614fe062-6aaa-48c6-b53e-68f9c2285891')\"\n",
              "              title=\"Convert this dataframe to an interactive table.\"\n",
              "              style=\"display:none;\">\n",
              "        \n",
              "  <svg xmlns=\"http://www.w3.org/2000/svg\" height=\"24px\"viewBox=\"0 0 24 24\"\n",
              "       width=\"24px\">\n",
              "    <path d=\"M0 0h24v24H0V0z\" fill=\"none\"/>\n",
              "    <path d=\"M18.56 5.44l.94 2.06.94-2.06 2.06-.94-2.06-.94-.94-2.06-.94 2.06-2.06.94zm-11 1L8.5 8.5l.94-2.06 2.06-.94-2.06-.94L8.5 2.5l-.94 2.06-2.06.94zm10 10l.94 2.06.94-2.06 2.06-.94-2.06-.94-.94-2.06-.94 2.06-2.06.94z\"/><path d=\"M17.41 7.96l-1.37-1.37c-.4-.4-.92-.59-1.43-.59-.52 0-1.04.2-1.43.59L10.3 9.45l-7.72 7.72c-.78.78-.78 2.05 0 2.83L4 21.41c.39.39.9.59 1.41.59.51 0 1.02-.2 1.41-.59l7.78-7.78 2.81-2.81c.8-.78.8-2.07 0-2.86zM5.41 20L4 18.59l7.72-7.72 1.47 1.35L5.41 20z\"/>\n",
              "  </svg>\n",
              "      </button>\n",
              "      \n",
              "  <style>\n",
              "    .colab-df-container {\n",
              "      display:flex;\n",
              "      flex-wrap:wrap;\n",
              "      gap: 12px;\n",
              "    }\n",
              "\n",
              "    .colab-df-convert {\n",
              "      background-color: #E8F0FE;\n",
              "      border: none;\n",
              "      border-radius: 50%;\n",
              "      cursor: pointer;\n",
              "      display: none;\n",
              "      fill: #1967D2;\n",
              "      height: 32px;\n",
              "      padding: 0 0 0 0;\n",
              "      width: 32px;\n",
              "    }\n",
              "\n",
              "    .colab-df-convert:hover {\n",
              "      background-color: #E2EBFA;\n",
              "      box-shadow: 0px 1px 2px rgba(60, 64, 67, 0.3), 0px 1px 3px 1px rgba(60, 64, 67, 0.15);\n",
              "      fill: #174EA6;\n",
              "    }\n",
              "\n",
              "    [theme=dark] .colab-df-convert {\n",
              "      background-color: #3B4455;\n",
              "      fill: #D2E3FC;\n",
              "    }\n",
              "\n",
              "    [theme=dark] .colab-df-convert:hover {\n",
              "      background-color: #434B5C;\n",
              "      box-shadow: 0px 1px 3px 1px rgba(0, 0, 0, 0.15);\n",
              "      filter: drop-shadow(0px 1px 2px rgba(0, 0, 0, 0.3));\n",
              "      fill: #FFFFFF;\n",
              "    }\n",
              "  </style>\n",
              "\n",
              "      <script>\n",
              "        const buttonEl =\n",
              "          document.querySelector('#df-614fe062-6aaa-48c6-b53e-68f9c2285891 button.colab-df-convert');\n",
              "        buttonEl.style.display =\n",
              "          google.colab.kernel.accessAllowed ? 'block' : 'none';\n",
              "\n",
              "        async function convertToInteractive(key) {\n",
              "          const element = document.querySelector('#df-614fe062-6aaa-48c6-b53e-68f9c2285891');\n",
              "          const dataTable =\n",
              "            await google.colab.kernel.invokeFunction('convertToInteractive',\n",
              "                                                     [key], {});\n",
              "          if (!dataTable) return;\n",
              "\n",
              "          const docLinkHtml = 'Like what you see? Visit the ' +\n",
              "            '<a target=\"_blank\" href=https://colab.research.google.com/notebooks/data_table.ipynb>data table notebook</a>'\n",
              "            + ' to learn more about interactive tables.';\n",
              "          element.innerHTML = '';\n",
              "          dataTable['output_type'] = 'display_data';\n",
              "          await google.colab.output.renderOutput(dataTable, element);\n",
              "          const docLink = document.createElement('div');\n",
              "          docLink.innerHTML = docLinkHtml;\n",
              "          element.appendChild(docLink);\n",
              "        }\n",
              "      </script>\n",
              "    </div>\n",
              "  </div>\n",
              "  "
            ]
          },
          "metadata": {},
          "execution_count": 80
        }
      ]
    },
    {
      "cell_type": "code",
      "source": [
        "report_df(df_cust_prod1)"
      ],
      "metadata": {
        "id": "2OESBXaqGVlr",
        "colab": {
          "base_uri": "https://localhost:8080/"
        },
        "outputId": "d78279cd-3eec-4e9e-f315-7c1a8da8c194"
      },
      "execution_count": 81,
      "outputs": [
        {
          "output_type": "stream",
          "name": "stdout",
          "text": [
            "***INFO***\n",
            "<class 'pandas.core.frame.DataFrame'>\n",
            "Int64Index: 5962863 entries, 0 to 5962923\n",
            "Data columns (total 14 columns):\n",
            " #   Column              Dtype         \n",
            "---  ------              -----         \n",
            " 0   customer_ID         int64         \n",
            " 1   partition_ID        datetime64[ns]\n",
            " 2   short_term_deposit  int64         \n",
            " 3   loans               int64         \n",
            " 4   mortgage            int64         \n",
            " 5   funds               int64         \n",
            " 6   securities          int64         \n",
            " 7   long_term_deposit   int64         \n",
            " 8   credit_card         int64         \n",
            " 9   payroll             int64         \n",
            " 10  payroll_account     int64         \n",
            " 11  emc_account         int64         \n",
            " 12  debit_card          int64         \n",
            " 13  em_acount           int64         \n",
            "dtypes: datetime64[ns](1), int64(13)\n",
            "memory usage: 682.4 MB\n",
            "None\n",
            "***DESCRIPTIVOS CATEGORICAS***\n",
            "Oops!  No hay variables categóricas\n",
            "***DESCRIPTIVOS NUMÉRICAS***\n"
          ]
        },
        {
          "output_type": "stream",
          "name": "stderr",
          "text": [
            "<ipython-input-12-0319c75cb06a>:16: FutureWarning: Treating datetime data as categorical rather than numeric in `.describe` is deprecated and will be removed in a future version of pandas. Specify `datetime_is_numeric=True` to silence this warning and adopt the future behavior now.\n",
            "  print(df.describe(exclude = ['object']))\n"
          ]
        },
        {
          "output_type": "stream",
          "name": "stdout",
          "text": [
            "         customer_ID         partition_ID  short_term_deposit         loans  \\\n",
            "count   5.962863e+06              5962863        5.962863e+06  5.962863e+06   \n",
            "unique           NaN                   17                 NaN           NaN   \n",
            "top              NaN  2019-05-01 00:00:00                 NaN           NaN   \n",
            "freq             NaN               442995                 NaN           NaN   \n",
            "first            NaN  2018-01-01 00:00:00                 NaN           NaN   \n",
            "last             NaN  2019-05-01 00:00:00                 NaN           NaN   \n",
            "mean    1.234930e+06                  NaN        2.581646e-03  7.848579e-05   \n",
            "std     1.623026e+05                  NaN        5.074427e-02  8.858874e-03   \n",
            "min     1.589100e+04                  NaN        0.000000e+00  0.000000e+00   \n",
            "25%     1.112532e+06                  NaN        0.000000e+00  0.000000e+00   \n",
            "50%     1.231096e+06                  NaN        0.000000e+00  0.000000e+00   \n",
            "75%     1.352339e+06                  NaN        0.000000e+00  0.000000e+00   \n",
            "max     1.553689e+06                  NaN        1.000000e+00  1.000000e+00   \n",
            "\n",
            "            mortgage         funds    securities  long_term_deposit  \\\n",
            "count   5.962863e+06  5.962863e+06  5.962863e+06       5.962863e+06   \n",
            "unique           NaN           NaN           NaN                NaN   \n",
            "top              NaN           NaN           NaN                NaN   \n",
            "freq             NaN           NaN           NaN                NaN   \n",
            "first            NaN           NaN           NaN                NaN   \n",
            "last             NaN           NaN           NaN                NaN   \n",
            "mean    5.433631e-05  3.370696e-03  3.711808e-03       1.688115e-02   \n",
            "std     7.371117e-03  5.795977e-02  6.081144e-02       1.288262e-01   \n",
            "min     0.000000e+00  0.000000e+00  0.000000e+00       0.000000e+00   \n",
            "25%     0.000000e+00  0.000000e+00  0.000000e+00       0.000000e+00   \n",
            "50%     0.000000e+00  0.000000e+00  0.000000e+00       0.000000e+00   \n",
            "75%     0.000000e+00  0.000000e+00  0.000000e+00       0.000000e+00   \n",
            "max     1.000000e+00  1.000000e+00  1.000000e+00       1.000000e+00   \n",
            "\n",
            "         credit_card       payroll  payroll_account   emc_account  \\\n",
            "count   5.962863e+06  5.962863e+06     5.962863e+06  5.962863e+06   \n",
            "unique           NaN           NaN              NaN           NaN   \n",
            "top              NaN           NaN              NaN           NaN   \n",
            "freq             NaN           NaN              NaN           NaN   \n",
            "first            NaN           NaN              NaN           NaN   \n",
            "last             NaN           NaN              NaN           NaN   \n",
            "mean    1.188456e-02  3.451144e-02     5.524527e-02  5.483289e-02   \n",
            "std     1.083666e-01  1.825388e-01     2.284584e-01  2.276538e-01   \n",
            "min     0.000000e+00  0.000000e+00     0.000000e+00  0.000000e+00   \n",
            "25%     0.000000e+00  0.000000e+00     0.000000e+00  0.000000e+00   \n",
            "50%     0.000000e+00  0.000000e+00     0.000000e+00  0.000000e+00   \n",
            "75%     0.000000e+00  0.000000e+00     0.000000e+00  0.000000e+00   \n",
            "max     1.000000e+00  1.000000e+00     1.000000e+00  1.000000e+00   \n",
            "\n",
            "          debit_card     em_acount  \n",
            "count   5.962863e+06  5.962863e+06  \n",
            "unique           NaN           NaN  \n",
            "top              NaN           NaN  \n",
            "freq             NaN           NaN  \n",
            "first            NaN           NaN  \n",
            "last             NaN           NaN  \n",
            "mean    9.441203e-02  7.348150e-01  \n",
            "std     2.924011e-01  4.414317e-01  \n",
            "min     0.000000e+00  0.000000e+00  \n",
            "25%     0.000000e+00  0.000000e+00  \n",
            "50%     0.000000e+00  1.000000e+00  \n",
            "75%     0.000000e+00  1.000000e+00  \n",
            "max     1.000000e+00  1.000000e+00  \n",
            "***NULOS***\n",
            "customer_ID           0\n",
            "partition_ID          0\n",
            "short_term_deposit    0\n",
            "loans                 0\n",
            "mortgage              0\n",
            "funds                 0\n",
            "securities            0\n",
            "long_term_deposit     0\n",
            "credit_card           0\n",
            "payroll               0\n",
            "payroll_account       0\n",
            "emc_account           0\n",
            "debit_card            0\n",
            "em_acount             0\n",
            "dtype: int64\n",
            "Tenemos un total de 0 nulos\n"
          ]
        }
      ]
    },
    {
      "cell_type": "markdown",
      "source": [
        "## Merge de tablas"
      ],
      "metadata": {
        "id": "ViJUCY8HU7e9"
      }
    },
    {
      "cell_type": "markdown",
      "source": [
        "###  Customer sociodemographics + Commercial Activity"
      ],
      "metadata": {
        "id": "ecGpKhwjVBDm"
      }
    },
    {
      "cell_type": "code",
      "source": [
        "#Merge de customer_commercial_activity y customer_sociodemografics, customer_products lo dejamos para más tarde\n",
        "#Hacemos un left join con la tabla customer_commercial activity primero ya que tiene menos filas y son los clientes activos\n",
        "\n",
        "df1_raw=df_cust_com_act1.merge(df_customer_soc1,how=\"left\", on=[\"customer_ID\",\"partition_ID\"])"
      ],
      "metadata": {
        "id": "tKmQ3p9JiNpt"
      },
      "execution_count": 82,
      "outputs": []
    },
    {
      "cell_type": "code",
      "source": [
        "df1_raw.head()"
      ],
      "metadata": {
        "id": "tFRSMPCw-E-M",
        "colab": {
          "base_uri": "https://localhost:8080/",
          "height": 206
        },
        "outputId": "927cd307-26d7-40a9-9ae3-26405b2efc70"
      },
      "execution_count": 83,
      "outputs": [
        {
          "output_type": "execute_result",
          "data": {
            "text/plain": [
              "   customer_ID partition_ID entry_channel             segment  antiguedad  \\\n",
              "0      1375586   2018-01-01           KHL   02 - PARTICULARES       485.0   \n",
              "1      1050614   2018-01-01           KHE  03 - UNIVERSITARIO      1369.0   \n",
              "2      1050617   2018-01-01           KHE  03 - UNIVERSITARIO      1369.0   \n",
              "3      1050623   2018-01-01           KHE  03 - UNIVERSITARIO      1369.0   \n",
              "4      1050624   2018-01-01           KHE   02 - PARTICULARES      1369.0   \n",
              "\n",
              "  country_id gender   age     salary provincia  renta_neta_media  \\\n",
              "0         ES      H  35.0   87218.10    Málaga           10261.0   \n",
              "1         ES      V  23.0       0.00  Zaragoza           13637.0   \n",
              "2         ES      H  23.0  113316.66  Zaragoza           13637.0   \n",
              "3         ES      H  23.0  113538.81    Zamora           11737.0   \n",
              "4         ES      H  65.0   61605.09  Zaragoza           13637.0   \n",
              "\n",
              "   renta_bruta_media  tasa_de_paro  tasa_de_empleo  \n",
              "0            15512.0         22.60           44.20  \n",
              "1            16156.0         12.24           51.20  \n",
              "2            16156.0         12.24           51.20  \n",
              "3            14848.0         13.57           44.16  \n",
              "4            16156.0         12.24           51.20  "
            ],
            "text/html": [
              "\n",
              "  <div id=\"df-2e2ee87c-655c-4d76-9922-847c63caf9cd\">\n",
              "    <div class=\"colab-df-container\">\n",
              "      <div>\n",
              "<style scoped>\n",
              "    .dataframe tbody tr th:only-of-type {\n",
              "        vertical-align: middle;\n",
              "    }\n",
              "\n",
              "    .dataframe tbody tr th {\n",
              "        vertical-align: top;\n",
              "    }\n",
              "\n",
              "    .dataframe thead th {\n",
              "        text-align: right;\n",
              "    }\n",
              "</style>\n",
              "<table border=\"1\" class=\"dataframe\">\n",
              "  <thead>\n",
              "    <tr style=\"text-align: right;\">\n",
              "      <th></th>\n",
              "      <th>customer_ID</th>\n",
              "      <th>partition_ID</th>\n",
              "      <th>entry_channel</th>\n",
              "      <th>segment</th>\n",
              "      <th>antiguedad</th>\n",
              "      <th>country_id</th>\n",
              "      <th>gender</th>\n",
              "      <th>age</th>\n",
              "      <th>salary</th>\n",
              "      <th>provincia</th>\n",
              "      <th>renta_neta_media</th>\n",
              "      <th>renta_bruta_media</th>\n",
              "      <th>tasa_de_paro</th>\n",
              "      <th>tasa_de_empleo</th>\n",
              "    </tr>\n",
              "  </thead>\n",
              "  <tbody>\n",
              "    <tr>\n",
              "      <th>0</th>\n",
              "      <td>1375586</td>\n",
              "      <td>2018-01-01</td>\n",
              "      <td>KHL</td>\n",
              "      <td>02 - PARTICULARES</td>\n",
              "      <td>485.0</td>\n",
              "      <td>ES</td>\n",
              "      <td>H</td>\n",
              "      <td>35.0</td>\n",
              "      <td>87218.10</td>\n",
              "      <td>Málaga</td>\n",
              "      <td>10261.0</td>\n",
              "      <td>15512.0</td>\n",
              "      <td>22.60</td>\n",
              "      <td>44.20</td>\n",
              "    </tr>\n",
              "    <tr>\n",
              "      <th>1</th>\n",
              "      <td>1050614</td>\n",
              "      <td>2018-01-01</td>\n",
              "      <td>KHE</td>\n",
              "      <td>03 - UNIVERSITARIO</td>\n",
              "      <td>1369.0</td>\n",
              "      <td>ES</td>\n",
              "      <td>V</td>\n",
              "      <td>23.0</td>\n",
              "      <td>0.00</td>\n",
              "      <td>Zaragoza</td>\n",
              "      <td>13637.0</td>\n",
              "      <td>16156.0</td>\n",
              "      <td>12.24</td>\n",
              "      <td>51.20</td>\n",
              "    </tr>\n",
              "    <tr>\n",
              "      <th>2</th>\n",
              "      <td>1050617</td>\n",
              "      <td>2018-01-01</td>\n",
              "      <td>KHE</td>\n",
              "      <td>03 - UNIVERSITARIO</td>\n",
              "      <td>1369.0</td>\n",
              "      <td>ES</td>\n",
              "      <td>H</td>\n",
              "      <td>23.0</td>\n",
              "      <td>113316.66</td>\n",
              "      <td>Zaragoza</td>\n",
              "      <td>13637.0</td>\n",
              "      <td>16156.0</td>\n",
              "      <td>12.24</td>\n",
              "      <td>51.20</td>\n",
              "    </tr>\n",
              "    <tr>\n",
              "      <th>3</th>\n",
              "      <td>1050623</td>\n",
              "      <td>2018-01-01</td>\n",
              "      <td>KHE</td>\n",
              "      <td>03 - UNIVERSITARIO</td>\n",
              "      <td>1369.0</td>\n",
              "      <td>ES</td>\n",
              "      <td>H</td>\n",
              "      <td>23.0</td>\n",
              "      <td>113538.81</td>\n",
              "      <td>Zamora</td>\n",
              "      <td>11737.0</td>\n",
              "      <td>14848.0</td>\n",
              "      <td>13.57</td>\n",
              "      <td>44.16</td>\n",
              "    </tr>\n",
              "    <tr>\n",
              "      <th>4</th>\n",
              "      <td>1050624</td>\n",
              "      <td>2018-01-01</td>\n",
              "      <td>KHE</td>\n",
              "      <td>02 - PARTICULARES</td>\n",
              "      <td>1369.0</td>\n",
              "      <td>ES</td>\n",
              "      <td>H</td>\n",
              "      <td>65.0</td>\n",
              "      <td>61605.09</td>\n",
              "      <td>Zaragoza</td>\n",
              "      <td>13637.0</td>\n",
              "      <td>16156.0</td>\n",
              "      <td>12.24</td>\n",
              "      <td>51.20</td>\n",
              "    </tr>\n",
              "  </tbody>\n",
              "</table>\n",
              "</div>\n",
              "      <button class=\"colab-df-convert\" onclick=\"convertToInteractive('df-2e2ee87c-655c-4d76-9922-847c63caf9cd')\"\n",
              "              title=\"Convert this dataframe to an interactive table.\"\n",
              "              style=\"display:none;\">\n",
              "        \n",
              "  <svg xmlns=\"http://www.w3.org/2000/svg\" height=\"24px\"viewBox=\"0 0 24 24\"\n",
              "       width=\"24px\">\n",
              "    <path d=\"M0 0h24v24H0V0z\" fill=\"none\"/>\n",
              "    <path d=\"M18.56 5.44l.94 2.06.94-2.06 2.06-.94-2.06-.94-.94-2.06-.94 2.06-2.06.94zm-11 1L8.5 8.5l.94-2.06 2.06-.94-2.06-.94L8.5 2.5l-.94 2.06-2.06.94zm10 10l.94 2.06.94-2.06 2.06-.94-2.06-.94-.94-2.06-.94 2.06-2.06.94z\"/><path d=\"M17.41 7.96l-1.37-1.37c-.4-.4-.92-.59-1.43-.59-.52 0-1.04.2-1.43.59L10.3 9.45l-7.72 7.72c-.78.78-.78 2.05 0 2.83L4 21.41c.39.39.9.59 1.41.59.51 0 1.02-.2 1.41-.59l7.78-7.78 2.81-2.81c.8-.78.8-2.07 0-2.86zM5.41 20L4 18.59l7.72-7.72 1.47 1.35L5.41 20z\"/>\n",
              "  </svg>\n",
              "      </button>\n",
              "      \n",
              "  <style>\n",
              "    .colab-df-container {\n",
              "      display:flex;\n",
              "      flex-wrap:wrap;\n",
              "      gap: 12px;\n",
              "    }\n",
              "\n",
              "    .colab-df-convert {\n",
              "      background-color: #E8F0FE;\n",
              "      border: none;\n",
              "      border-radius: 50%;\n",
              "      cursor: pointer;\n",
              "      display: none;\n",
              "      fill: #1967D2;\n",
              "      height: 32px;\n",
              "      padding: 0 0 0 0;\n",
              "      width: 32px;\n",
              "    }\n",
              "\n",
              "    .colab-df-convert:hover {\n",
              "      background-color: #E2EBFA;\n",
              "      box-shadow: 0px 1px 2px rgba(60, 64, 67, 0.3), 0px 1px 3px 1px rgba(60, 64, 67, 0.15);\n",
              "      fill: #174EA6;\n",
              "    }\n",
              "\n",
              "    [theme=dark] .colab-df-convert {\n",
              "      background-color: #3B4455;\n",
              "      fill: #D2E3FC;\n",
              "    }\n",
              "\n",
              "    [theme=dark] .colab-df-convert:hover {\n",
              "      background-color: #434B5C;\n",
              "      box-shadow: 0px 1px 3px 1px rgba(0, 0, 0, 0.15);\n",
              "      filter: drop-shadow(0px 1px 2px rgba(0, 0, 0, 0.3));\n",
              "      fill: #FFFFFF;\n",
              "    }\n",
              "  </style>\n",
              "\n",
              "      <script>\n",
              "        const buttonEl =\n",
              "          document.querySelector('#df-2e2ee87c-655c-4d76-9922-847c63caf9cd button.colab-df-convert');\n",
              "        buttonEl.style.display =\n",
              "          google.colab.kernel.accessAllowed ? 'block' : 'none';\n",
              "\n",
              "        async function convertToInteractive(key) {\n",
              "          const element = document.querySelector('#df-2e2ee87c-655c-4d76-9922-847c63caf9cd');\n",
              "          const dataTable =\n",
              "            await google.colab.kernel.invokeFunction('convertToInteractive',\n",
              "                                                     [key], {});\n",
              "          if (!dataTable) return;\n",
              "\n",
              "          const docLinkHtml = 'Like what you see? Visit the ' +\n",
              "            '<a target=\"_blank\" href=https://colab.research.google.com/notebooks/data_table.ipynb>data table notebook</a>'\n",
              "            + ' to learn more about interactive tables.';\n",
              "          element.innerHTML = '';\n",
              "          dataTable['output_type'] = 'display_data';\n",
              "          await google.colab.output.renderOutput(dataTable, element);\n",
              "          const docLink = document.createElement('div');\n",
              "          docLink.innerHTML = docLinkHtml;\n",
              "          element.appendChild(docLink);\n",
              "        }\n",
              "      </script>\n",
              "    </div>\n",
              "  </div>\n",
              "  "
            ]
          },
          "metadata": {},
          "execution_count": 83
        }
      ]
    },
    {
      "cell_type": "code",
      "source": [
        "comprobar_shapes(df_cust_com_act1,df_customer_soc1,df1_raw)"
      ],
      "metadata": {
        "id": "qwr92pB3-2Po",
        "colab": {
          "base_uri": "https://localhost:8080/"
        },
        "outputId": "6f6bc0d6-03fe-4747-f71c-4d8e240d60ee"
      },
      "execution_count": 84,
      "outputs": [
        {
          "output_type": "stream",
          "name": "stdout",
          "text": [
            "DF1 = (2405351, 5)\n",
            "DF2 = (5961849, 11)\n",
            "DF_final = (2405351, 14)\n"
          ]
        }
      ]
    },
    {
      "cell_type": "code",
      "source": [
        "df1_raw.isnull().sum()"
      ],
      "metadata": {
        "id": "yzxMQve2eW6t",
        "colab": {
          "base_uri": "https://localhost:8080/"
        },
        "outputId": "d67ffe37-d31c-4dd2-f98e-1122de85f08f"
      },
      "execution_count": 85,
      "outputs": [
        {
          "output_type": "execute_result",
          "data": {
            "text/plain": [
              "customer_ID            0\n",
              "partition_ID           0\n",
              "entry_channel          0\n",
              "segment                0\n",
              "antiguedad             0\n",
              "country_id           718\n",
              "gender               718\n",
              "age                  718\n",
              "salary               718\n",
              "provincia            718\n",
              "renta_neta_media     718\n",
              "renta_bruta_media    718\n",
              "tasa_de_paro         718\n",
              "tasa_de_empleo       718\n",
              "dtype: int64"
            ]
          },
          "metadata": {},
          "execution_count": 85
        }
      ]
    },
    {
      "cell_type": "code",
      "source": [
        "# Los 718 nulos son los deceased que todavía estaban activos. Los eliminamos por no ser target\n",
        "df1_raw.dropna(inplace = True)"
      ],
      "metadata": {
        "id": "S0b1vz1Ge3an"
      },
      "execution_count": 86,
      "outputs": []
    },
    {
      "cell_type": "markdown",
      "source": [
        "### '+Sales"
      ],
      "metadata": {
        "id": "Dw_Nra4Lhcg_"
      }
    },
    {
      "cell_type": "code",
      "source": [
        "#hago merge de df_sales_1 que tiene 240773 filas ( son todas las compras) con la tabla df1 que es la información de clientes a fecha de venta con la partitio_ID de la table df1.\n",
        "#la fecha merge_date la utilizaré para mergear con la tabla de customer_products proque quiero la información de un mes antes para que el modelo prediga mejor"
      ],
      "metadata": {
        "id": "uYNkj6T4cXax"
      },
      "execution_count": 87,
      "outputs": []
    },
    {
      "cell_type": "code",
      "source": [
        "df_total1 = df_sales1.merge(df1_raw, how = \"left\", left_on= ['customer_ID',\"month_sale\"], right_on = ['customer_ID', 'partition_ID'])"
      ],
      "metadata": {
        "id": "p35zmq30Yj9s",
        "outputId": "a06d3933-a1a5-4999-f229-b288d08e135c",
        "colab": {
          "base_uri": "https://localhost:8080/",
          "height": 165
        }
      },
      "execution_count": 88,
      "outputs": [
        {
          "output_type": "error",
          "ename": "NameError",
          "evalue": "ignored",
          "traceback": [
            "\u001b[0;31m---------------------------------------------------------------------------\u001b[0m",
            "\u001b[0;31mNameError\u001b[0m                                 Traceback (most recent call last)",
            "\u001b[0;32m<ipython-input-88-cffd82314935>\u001b[0m in \u001b[0;36m<cell line: 1>\u001b[0;34m()\u001b[0m\n\u001b[0;32m----> 1\u001b[0;31m \u001b[0mdf_total1\u001b[0m \u001b[0;34m=\u001b[0m \u001b[0mdf_sales1\u001b[0m\u001b[0;34m.\u001b[0m\u001b[0mmerge\u001b[0m\u001b[0;34m(\u001b[0m\u001b[0mdf1_raw\u001b[0m\u001b[0;34m,\u001b[0m \u001b[0mhow\u001b[0m \u001b[0;34m=\u001b[0m \u001b[0;34m\"left\"\u001b[0m\u001b[0;34m,\u001b[0m \u001b[0mleft_on\u001b[0m\u001b[0;34m=\u001b[0m \u001b[0;34m[\u001b[0m\u001b[0;34m'customer_ID'\u001b[0m\u001b[0;34m,\u001b[0m\u001b[0;34m\"month_sale\"\u001b[0m\u001b[0;34m]\u001b[0m\u001b[0;34m,\u001b[0m \u001b[0mright_on\u001b[0m \u001b[0;34m=\u001b[0m \u001b[0;34m[\u001b[0m\u001b[0;34m'customer_ID'\u001b[0m\u001b[0;34m,\u001b[0m \u001b[0;34m'partition_ID'\u001b[0m\u001b[0;34m]\u001b[0m\u001b[0;34m)\u001b[0m\u001b[0;34m\u001b[0m\u001b[0;34m\u001b[0m\u001b[0m\n\u001b[0m",
            "\u001b[0;31mNameError\u001b[0m: name 'df_sales1' is not defined"
          ]
        }
      ]
    },
    {
      "cell_type": "code",
      "source": [
        "comprobar_shapes(df_sales1,df1_raw,df_total1)"
      ],
      "metadata": {
        "id": "i82ono_PngVc"
      },
      "execution_count": null,
      "outputs": []
    },
    {
      "cell_type": "code",
      "source": [
        "df_sales1.head()"
      ],
      "metadata": {
        "id": "0Czwiv_7akpW"
      },
      "execution_count": null,
      "outputs": []
    },
    {
      "cell_type": "code",
      "source": [
        "df_total1.isnull().sum()"
      ],
      "metadata": {
        "id": "Ocp8MQyddZPX"
      },
      "execution_count": null,
      "outputs": []
    },
    {
      "cell_type": "code",
      "source": [
        "#Los nulos son pedidos de clientes que o han fallecido o no están activos, con lo cual los eliminamos"
      ],
      "metadata": {
        "id": "hYAxVPW7dp-4"
      },
      "execution_count": null,
      "outputs": []
    },
    {
      "cell_type": "code",
      "source": [
        "df_total1.dropna( inplace = True)"
      ],
      "metadata": {
        "id": "NDkzsbT9d8X_"
      },
      "execution_count": null,
      "outputs": []
    },
    {
      "cell_type": "markdown",
      "source": [
        "### '+ Customer products"
      ],
      "metadata": {
        "id": "wseaBTa1h5GK"
      }
    },
    {
      "cell_type": "code",
      "source": [
        "#hacemos merge de la tabla sales y la tabla customer products con merge_date y partition_id\n",
        "\n",
        "df_total2 = df_total1.merge(df_cust_prod1, how = \"left\",  left_on= ['customer_ID',\"merge_date\"], right_on = ['customer_ID', 'partition_ID'])"
      ],
      "metadata": {
        "id": "laXtTGrkh7L_"
      },
      "execution_count": null,
      "outputs": []
    },
    {
      "cell_type": "code",
      "source": [
        "comprobar_shapes(df_total1,df_cust_prod1,df_total2)"
      ],
      "metadata": {
        "id": "vfiWvETpnYQm"
      },
      "execution_count": null,
      "outputs": []
    },
    {
      "cell_type": "code",
      "source": [
        "# Los nulos que encontramos son nuevos clientes, que para la tabla cruzada con month-1, en el mes anterior no tenían datos\n",
        "df_total2.isnull().sum()"
      ],
      "metadata": {
        "id": "lzf2qdYukKMT"
      },
      "execution_count": null,
      "outputs": []
    },
    {
      "cell_type": "code",
      "source": [
        "# Eliminamos las variables que hemos utilizado para el merge y ya no necesitamos\n",
        "df_total2.drop(\"partition_ID_x\", axis = 1, inplace = True)\n",
        "df_total2.drop(\"partition_ID_y\", axis = 1, inplace = True)\n",
        "df_total2.drop(\"merge_date\", axis = 1, inplace = True)"
      ],
      "metadata": {
        "id": "QGioXBt_Br1h"
      },
      "execution_count": null,
      "outputs": []
    },
    {
      "cell_type": "code",
      "source": [
        "#los nulos en los productos los rellenamos con 0 porque esos cliente no debían exitir en esa fecha\n",
        "df_total2.fillna(value = 0, inplace = True)"
      ],
      "metadata": {
        "id": "Okg_xMm-kixM"
      },
      "execution_count": null,
      "outputs": []
    },
    {
      "cell_type": "markdown",
      "source": [
        "## Procesamiento de variables del df mergeado"
      ],
      "metadata": {
        "id": "xu9T7n2sxz4Z"
      }
    },
    {
      "cell_type": "code",
      "source": [
        "# Reordenación del dataset\n",
        "df_total2 = df_total2.reindex(columns=[\n",
        "              'month_sale',\n",
        "              'product_ID',\n",
        "              'customer_ID',\n",
        "              'antiguedad',\n",
        "              'entry_channel',\n",
        "              'segment',\n",
        "              'country_id',\n",
        "              'gender',\n",
        "              'age',\n",
        "              'salary',\n",
        "              'provincia',\n",
        "              'renta_neta_media',\n",
        "              'renta_bruta_media',\n",
        "              'tasa_de_paro',\n",
        "              'tasa_de_empleo',\n",
        "              'short_term_deposit',\n",
        "              'loans',\n",
        "              'mortgage',\n",
        "              'funds',\n",
        "              'securities',\n",
        "              'long_term_deposit',\n",
        "              'credit_card',\n",
        "              'payroll',\n",
        "              'payroll_account',\n",
        "              'emc_account',\n",
        "              'debit_card',\n",
        "              'em_acount',\n",
        "              ])"
      ],
      "metadata": {
        "id": "6JzOr6X0p3R2",
        "outputId": "0085c6c0-836b-49dc-e8e4-e7a8fd79e025",
        "colab": {
          "base_uri": "https://localhost:8080/",
          "height": 235
        }
      },
      "execution_count": 89,
      "outputs": [
        {
          "output_type": "error",
          "ename": "NameError",
          "evalue": "ignored",
          "traceback": [
            "\u001b[0;31m---------------------------------------------------------------------------\u001b[0m",
            "\u001b[0;31mNameError\u001b[0m                                 Traceback (most recent call last)",
            "\u001b[0;32m<ipython-input-89-ac47904ec71b>\u001b[0m in \u001b[0;36m<cell line: 2>\u001b[0;34m()\u001b[0m\n\u001b[1;32m      1\u001b[0m \u001b[0;31m# Reordenación del dataset\u001b[0m\u001b[0;34m\u001b[0m\u001b[0;34m\u001b[0m\u001b[0m\n\u001b[0;32m----> 2\u001b[0;31m df_total2 = df_total2.reindex(columns=[\n\u001b[0m\u001b[1;32m      3\u001b[0m               \u001b[0;34m'month_sale'\u001b[0m\u001b[0;34m,\u001b[0m\u001b[0;34m\u001b[0m\u001b[0;34m\u001b[0m\u001b[0m\n\u001b[1;32m      4\u001b[0m               \u001b[0;34m'product_ID'\u001b[0m\u001b[0;34m,\u001b[0m\u001b[0;34m\u001b[0m\u001b[0;34m\u001b[0m\u001b[0m\n\u001b[1;32m      5\u001b[0m               \u001b[0;34m'customer_ID'\u001b[0m\u001b[0;34m,\u001b[0m\u001b[0;34m\u001b[0m\u001b[0;34m\u001b[0m\u001b[0m\n",
            "\u001b[0;31mNameError\u001b[0m: name 'df_total2' is not defined"
          ]
        }
      ]
    },
    {
      "cell_type": "code",
      "source": [
        "df_pre = df_total2.copy()"
      ],
      "metadata": {
        "id": "liAAdgily2E8",
        "outputId": "3b9ac12f-f517-465c-fc3b-fca1e269b9b4",
        "colab": {
          "base_uri": "https://localhost:8080/",
          "height": 165
        }
      },
      "execution_count": 90,
      "outputs": [
        {
          "output_type": "error",
          "ename": "NameError",
          "evalue": "ignored",
          "traceback": [
            "\u001b[0;31m---------------------------------------------------------------------------\u001b[0m",
            "\u001b[0;31mNameError\u001b[0m                                 Traceback (most recent call last)",
            "\u001b[0;32m<ipython-input-90-297264176e6c>\u001b[0m in \u001b[0;36m<cell line: 1>\u001b[0;34m()\u001b[0m\n\u001b[0;32m----> 1\u001b[0;31m \u001b[0mdf_pre\u001b[0m \u001b[0;34m=\u001b[0m \u001b[0mdf_total2\u001b[0m\u001b[0;34m.\u001b[0m\u001b[0mcopy\u001b[0m\u001b[0;34m(\u001b[0m\u001b[0;34m)\u001b[0m\u001b[0;34m\u001b[0m\u001b[0;34m\u001b[0m\u001b[0m\n\u001b[0m",
            "\u001b[0;31mNameError\u001b[0m: name 'df_total2' is not defined"
          ]
        }
      ]
    },
    {
      "cell_type": "code",
      "source": [
        "# Disgregamos la variable de \"month_sale\" y eliminamos la variable de fecha\n",
        "df_pre['sale_month'] = df_pre['month_sale'].dt.month\n",
        "df_pre['sale_year'] = df_pre['month_sale'].dt.year\n",
        "df_pre['sale_wday'] = df_pre['month_sale'].dt.weekday\n",
        "df_pre['sale_day'] = df_pre['month_sale'].dt.day\n",
        "\n",
        "del df_pre['month_sale']"
      ],
      "metadata": {
        "id": "TNwG0uaPkh3i"
      },
      "execution_count": null,
      "outputs": []
    },
    {
      "cell_type": "code",
      "source": [
        "df_pre.head().T"
      ],
      "metadata": {
        "id": "ugSSHDlEM3Fs"
      },
      "execution_count": null,
      "outputs": []
    },
    {
      "cell_type": "code",
      "source": [
        "df_pre.info()"
      ],
      "metadata": {
        "id": "sCV-4O786dcH"
      },
      "execution_count": null,
      "outputs": []
    },
    {
      "cell_type": "markdown",
      "source": [
        "### Transformación de categóricas"
      ],
      "metadata": {
        "id": "gIbXGBctBJgx"
      }
    },
    {
      "cell_type": "code",
      "source": [
        "def OHE(dataframe, column_name):\n",
        "    _dummy_dataset = pd.get_dummies(dataframe[column_name], prefix=column_name)\n",
        "    dataframe = pd.concat([dataframe, _dummy_dataset], axis=1)\n",
        "    return dataframe.drop(column_name, axis=1)"
      ],
      "metadata": {
        "id": "1s6rdVT0u8LY"
      },
      "execution_count": null,
      "outputs": []
    },
    {
      "cell_type": "code",
      "source": [
        "# OHE \"product_ID\"\n",
        "\n",
        "df_pre = OHE(df_pre, \"product_ID\")"
      ],
      "metadata": {
        "id": "9UujYrw6iCLn"
      },
      "execution_count": null,
      "outputs": []
    },
    {
      "cell_type": "code",
      "source": [
        "# OHE \"entry_channel\"\n",
        "\n",
        "df_pre = OHE(df_pre, \"entry_channel\")"
      ],
      "metadata": {
        "id": "7GucpqgKBJDL"
      },
      "execution_count": null,
      "outputs": []
    },
    {
      "cell_type": "code",
      "source": [
        "# OHE segment\n",
        "\n",
        "df_pre = OHE(df_pre, \"segment\")"
      ],
      "metadata": {
        "id": "jnZjd1ILBckE"
      },
      "execution_count": null,
      "outputs": []
    },
    {
      "cell_type": "code",
      "source": [
        "# OHE country_id\n",
        "df_pre = OHE(df_pre, \"country_id\")"
      ],
      "metadata": {
        "id": "4O4bb8eA1__0"
      },
      "execution_count": null,
      "outputs": []
    },
    {
      "cell_type": "code",
      "source": [
        "# OHE region_code\n",
        "df_pre = OHE(df_pre, \"provincia\")"
      ],
      "metadata": {
        "id": "FsqXJrmLmYMu"
      },
      "execution_count": null,
      "outputs": []
    },
    {
      "cell_type": "code",
      "source": [
        "# gender --> 1 = Hembras, 0 = Varones, 2 = Nulos\n",
        "\n",
        "df_pre[\"gender\"] = df_pre[\"gender\"].replace(\"H\", 1) # H es de Hembras\n",
        "df_pre[\"gender\"] = df_pre[\"gender\"].replace(\"V\", 0) # V es de Varones"
      ],
      "metadata": {
        "id": "3C6lMd14Bj_u"
      },
      "execution_count": null,
      "outputs": []
    },
    {
      "cell_type": "code",
      "source": [
        "df_pre.info(verbose=True)"
      ],
      "metadata": {
        "id": "g2311aV6Do5p"
      },
      "execution_count": null,
      "outputs": []
    },
    {
      "cell_type": "code",
      "source": [
        "#df_final=df_pre.to_pickle('/content/drive/MyDrive/TFM  Data Science/df_preprocesado') # Eva\n",
        "df_final=df_pre.to_pickle('/content/drive/MyDrive/NUCLIO/TFM  Data Science/df_preprocesado') # Ricard\n",
        "#df_final=df_pre.to_pickle('/content/drive/MyDrive/Master_DS/TFM_Data_Science/df_preprocesado') # Culebra"
      ],
      "metadata": {
        "id": "2P2ZSJNv4k6G"
      },
      "execution_count": null,
      "outputs": []
    },
    {
      "cell_type": "code",
      "source": [
        "# df_final=pd.read_pickle('/content/drive/MyDrive/TFM  Data Science/df_preprocesado')# Eva\n",
        "df_final=pd.read_pickle('/content/drive/MyDrive/NUCLIO/TFM  Data Science/df_preprocesado') # Ricard\n",
        "#df_final=pd.read_pickle('/content/drive/MyDrive/Master_DS/TFM_Data_Science/df_preprocesado')"
      ],
      "metadata": {
        "id": "5aoTekSo4k2T"
      },
      "execution_count": null,
      "outputs": []
    },
    {
      "cell_type": "markdown",
      "source": [
        "#### Correlación variables"
      ],
      "metadata": {
        "id": "Q3S1xpwv_YJO"
      }
    },
    {
      "cell_type": "code",
      "source": [
        "corr=df_final.corr()"
      ],
      "metadata": {
        "id": "-eZGCUUD_Xc0"
      },
      "execution_count": null,
      "outputs": []
    },
    {
      "cell_type": "code",
      "source": [
        "corr2=corr.where(np.triu(np.ones(corr.shape), k=1).astype(bool))"
      ],
      "metadata": {
        "id": "EQbjWR9RBBrc"
      },
      "execution_count": null,
      "outputs": []
    },
    {
      "cell_type": "code",
      "source": [
        "corr2.stack().sort_values()"
      ],
      "metadata": {
        "id": "hh3WP81SBBju"
      },
      "execution_count": null,
      "outputs": []
    },
    {
      "cell_type": "code",
      "source": [
        "corr3=corr2.unstack().dropna()"
      ],
      "metadata": {
        "id": "usjeZ_HWBBbi"
      },
      "execution_count": null,
      "outputs": []
    },
    {
      "cell_type": "code",
      "source": [
        "corr4 = corr3.sort_values()"
      ],
      "metadata": {
        "id": "V3Xlynx6BNZF"
      },
      "execution_count": null,
      "outputs": []
    },
    {
      "cell_type": "code",
      "source": [
        "pd.set_option('display.max_rows',None)"
      ],
      "metadata": {
        "id": "MYL7UNcfBNQQ"
      },
      "execution_count": null,
      "outputs": []
    },
    {
      "cell_type": "code",
      "source": [
        "corr4"
      ],
      "metadata": {
        "id": "43CYKWp8BNG2"
      },
      "execution_count": null,
      "outputs": []
    },
    {
      "cell_type": "code",
      "source": [
        "#Eliminar entry_channel_ZZZ, provincia_No definido,country_id_OTHERS\n"
      ],
      "metadata": {
        "id": "c54soI107Pri"
      },
      "execution_count": null,
      "outputs": []
    },
    {
      "cell_type": "markdown",
      "source": [
        "## Ajustamos el data set para el TARGET \"pension plan\""
      ],
      "metadata": {
        "id": "QgHl4CYI4NVf"
      }
    },
    {
      "cell_type": "code",
      "source": [
        "del df_final['entry_channel_ZZZ']"
      ],
      "metadata": {
        "id": "SFGmwvkRC7Kn"
      },
      "execution_count": null,
      "outputs": []
    },
    {
      "cell_type": "code",
      "source": [
        "del df_final['country_id_OTHERS']"
      ],
      "metadata": {
        "id": "xs83j2Al8Wil"
      },
      "execution_count": null,
      "outputs": []
    },
    {
      "cell_type": "code",
      "source": [
        "del df_final['provincia_No definido']"
      ],
      "metadata": {
        "id": "-fQJnhM3V-Yb"
      },
      "execution_count": null,
      "outputs": []
    },
    {
      "cell_type": "code",
      "source": [
        "for i in [\"product_ID_1119\",\"product_ID_2234\",\"product_ID_2235\",\"product_ID_2312\",\"product_ID_2335\",\n",
        "          \"product_ID_2336\",\"product_ID_2673\",\"product_ID_3819\",\"product_ID_4033\",\"product_ID_4657\",\n",
        "          \"product_ID_8871\",\"product_ID_9001\"]:\n",
        "          del df_final[i]"
      ],
      "metadata": {
        "id": "D1WSkDXxbC0o"
      },
      "execution_count": null,
      "outputs": []
    },
    {
      "cell_type": "code",
      "source": [
        "TARGET = 'product_ID_1364'"
      ],
      "metadata": {
        "id": "7bCnTpOS6vLo"
      },
      "execution_count": null,
      "outputs": []
    },
    {
      "cell_type": "code",
      "source": [
        "df_final['product_ID_1364'].value_counts(normalize = True)"
      ],
      "metadata": {
        "id": "OZDFIBBi76Jf"
      },
      "execution_count": null,
      "outputs": []
    },
    {
      "cell_type": "code",
      "source": [
        "df_final=df_final.set_index(\"customer_ID\")"
      ],
      "metadata": {
        "id": "uV16G4xqNwXy"
      },
      "execution_count": null,
      "outputs": []
    },
    {
      "cell_type": "code",
      "source": [
        "df_final.head()"
      ],
      "metadata": {
        "id": "Lq0352rmNrVi"
      },
      "execution_count": null,
      "outputs": []
    },
    {
      "cell_type": "code",
      "source": [
        "# Un 9.9% de las ventas realizadas corresponden a planes de pensiones"
      ],
      "metadata": {
        "id": "kXoUfxus_8JA"
      },
      "execution_count": null,
      "outputs": []
    },
    {
      "cell_type": "code",
      "source": [
        "# Por curiosidad consultamos este dato para los TARGET1 y TARGET2 propuestos provisionales (debit card y emc_account)\n",
        "#df_final['product_ID_3819'].value_counts(normalize = True)"
      ],
      "metadata": {
        "id": "nXKuWgQdWcRY"
      },
      "execution_count": null,
      "outputs": []
    },
    {
      "cell_type": "code",
      "source": [
        "#df_final['product_ID_8871'].value_counts(normalize = True)"
      ],
      "metadata": {
        "id": "cfGgg4a5WcHb"
      },
      "execution_count": null,
      "outputs": []
    },
    {
      "cell_type": "markdown",
      "source": [
        "## Merge para cluster"
      ],
      "metadata": {
        "id": "9sgXYyB16X9l"
      }
    },
    {
      "cell_type": "code",
      "source": [
        "# Con el df de Sales como base generamos un nuevo DF comenzando con las variables creadas.\n",
        "\n",
        "df_cluster = gb_dias_ultima_compra.merge(gb_total_fact, how = \"left\")\\\n",
        "            .merge(gb_n_compras, how = \"left\")"
      ],
      "metadata": {
        "id": "itx3AUNuwrX7"
      },
      "execution_count": 91,
      "outputs": []
    },
    {
      "cell_type": "code",
      "source": [
        "df_cluster"
      ],
      "metadata": {
        "id": "gIqK-z34xREm",
        "outputId": "a918dd27-1818-460d-c00e-702e4e7292ee",
        "colab": {
          "base_uri": "https://localhost:8080/",
          "height": 424
        }
      },
      "execution_count": 92,
      "outputs": [
        {
          "output_type": "execute_result",
          "data": {
            "text/plain": [
              "        customer_ID  dias_ultima_compra  facturacion_total  pedido_min  \\\n",
              "0             15891               304.0               66.4        66.4   \n",
              "1             16203               120.0               96.7        96.7   \n",
              "2             16502               120.0              132.9        64.3   \n",
              "3             17457               242.0               56.0        56.0   \n",
              "4             17970                89.0              879.8        49.5   \n",
              "...             ...                 ...                ...         ...   \n",
              "152749      1553456                 0.0               56.7        56.7   \n",
              "152750      1553541                 0.0               66.5        66.5   \n",
              "152751      1553559                 0.0               73.0        73.0   \n",
              "152752      1553565                 0.0               82.3        82.3   \n",
              "152753      1553571                 0.0               84.4        84.4   \n",
              "\n",
              "        pedido_max  pedido_mean  n_compras  \n",
              "0             66.4        66.40          1  \n",
              "1             96.7        96.70          1  \n",
              "2             68.6        66.45          2  \n",
              "3             56.0        56.00          1  \n",
              "4            830.3       439.90          2  \n",
              "...            ...          ...        ...  \n",
              "152749        56.7        56.70          1  \n",
              "152750        66.5        66.50          1  \n",
              "152751        73.0        73.00          1  \n",
              "152752        82.3        82.30          1  \n",
              "152753        84.4        84.40          1  \n",
              "\n",
              "[152754 rows x 7 columns]"
            ],
            "text/html": [
              "\n",
              "  <div id=\"df-460a8799-f3cd-40aa-a682-6f27a4cc2b45\">\n",
              "    <div class=\"colab-df-container\">\n",
              "      <div>\n",
              "<style scoped>\n",
              "    .dataframe tbody tr th:only-of-type {\n",
              "        vertical-align: middle;\n",
              "    }\n",
              "\n",
              "    .dataframe tbody tr th {\n",
              "        vertical-align: top;\n",
              "    }\n",
              "\n",
              "    .dataframe thead th {\n",
              "        text-align: right;\n",
              "    }\n",
              "</style>\n",
              "<table border=\"1\" class=\"dataframe\">\n",
              "  <thead>\n",
              "    <tr style=\"text-align: right;\">\n",
              "      <th></th>\n",
              "      <th>customer_ID</th>\n",
              "      <th>dias_ultima_compra</th>\n",
              "      <th>facturacion_total</th>\n",
              "      <th>pedido_min</th>\n",
              "      <th>pedido_max</th>\n",
              "      <th>pedido_mean</th>\n",
              "      <th>n_compras</th>\n",
              "    </tr>\n",
              "  </thead>\n",
              "  <tbody>\n",
              "    <tr>\n",
              "      <th>0</th>\n",
              "      <td>15891</td>\n",
              "      <td>304.0</td>\n",
              "      <td>66.4</td>\n",
              "      <td>66.4</td>\n",
              "      <td>66.4</td>\n",
              "      <td>66.40</td>\n",
              "      <td>1</td>\n",
              "    </tr>\n",
              "    <tr>\n",
              "      <th>1</th>\n",
              "      <td>16203</td>\n",
              "      <td>120.0</td>\n",
              "      <td>96.7</td>\n",
              "      <td>96.7</td>\n",
              "      <td>96.7</td>\n",
              "      <td>96.70</td>\n",
              "      <td>1</td>\n",
              "    </tr>\n",
              "    <tr>\n",
              "      <th>2</th>\n",
              "      <td>16502</td>\n",
              "      <td>120.0</td>\n",
              "      <td>132.9</td>\n",
              "      <td>64.3</td>\n",
              "      <td>68.6</td>\n",
              "      <td>66.45</td>\n",
              "      <td>2</td>\n",
              "    </tr>\n",
              "    <tr>\n",
              "      <th>3</th>\n",
              "      <td>17457</td>\n",
              "      <td>242.0</td>\n",
              "      <td>56.0</td>\n",
              "      <td>56.0</td>\n",
              "      <td>56.0</td>\n",
              "      <td>56.00</td>\n",
              "      <td>1</td>\n",
              "    </tr>\n",
              "    <tr>\n",
              "      <th>4</th>\n",
              "      <td>17970</td>\n",
              "      <td>89.0</td>\n",
              "      <td>879.8</td>\n",
              "      <td>49.5</td>\n",
              "      <td>830.3</td>\n",
              "      <td>439.90</td>\n",
              "      <td>2</td>\n",
              "    </tr>\n",
              "    <tr>\n",
              "      <th>...</th>\n",
              "      <td>...</td>\n",
              "      <td>...</td>\n",
              "      <td>...</td>\n",
              "      <td>...</td>\n",
              "      <td>...</td>\n",
              "      <td>...</td>\n",
              "      <td>...</td>\n",
              "    </tr>\n",
              "    <tr>\n",
              "      <th>152749</th>\n",
              "      <td>1553456</td>\n",
              "      <td>0.0</td>\n",
              "      <td>56.7</td>\n",
              "      <td>56.7</td>\n",
              "      <td>56.7</td>\n",
              "      <td>56.70</td>\n",
              "      <td>1</td>\n",
              "    </tr>\n",
              "    <tr>\n",
              "      <th>152750</th>\n",
              "      <td>1553541</td>\n",
              "      <td>0.0</td>\n",
              "      <td>66.5</td>\n",
              "      <td>66.5</td>\n",
              "      <td>66.5</td>\n",
              "      <td>66.50</td>\n",
              "      <td>1</td>\n",
              "    </tr>\n",
              "    <tr>\n",
              "      <th>152751</th>\n",
              "      <td>1553559</td>\n",
              "      <td>0.0</td>\n",
              "      <td>73.0</td>\n",
              "      <td>73.0</td>\n",
              "      <td>73.0</td>\n",
              "      <td>73.00</td>\n",
              "      <td>1</td>\n",
              "    </tr>\n",
              "    <tr>\n",
              "      <th>152752</th>\n",
              "      <td>1553565</td>\n",
              "      <td>0.0</td>\n",
              "      <td>82.3</td>\n",
              "      <td>82.3</td>\n",
              "      <td>82.3</td>\n",
              "      <td>82.30</td>\n",
              "      <td>1</td>\n",
              "    </tr>\n",
              "    <tr>\n",
              "      <th>152753</th>\n",
              "      <td>1553571</td>\n",
              "      <td>0.0</td>\n",
              "      <td>84.4</td>\n",
              "      <td>84.4</td>\n",
              "      <td>84.4</td>\n",
              "      <td>84.40</td>\n",
              "      <td>1</td>\n",
              "    </tr>\n",
              "  </tbody>\n",
              "</table>\n",
              "<p>152754 rows × 7 columns</p>\n",
              "</div>\n",
              "      <button class=\"colab-df-convert\" onclick=\"convertToInteractive('df-460a8799-f3cd-40aa-a682-6f27a4cc2b45')\"\n",
              "              title=\"Convert this dataframe to an interactive table.\"\n",
              "              style=\"display:none;\">\n",
              "        \n",
              "  <svg xmlns=\"http://www.w3.org/2000/svg\" height=\"24px\"viewBox=\"0 0 24 24\"\n",
              "       width=\"24px\">\n",
              "    <path d=\"M0 0h24v24H0V0z\" fill=\"none\"/>\n",
              "    <path d=\"M18.56 5.44l.94 2.06.94-2.06 2.06-.94-2.06-.94-.94-2.06-.94 2.06-2.06.94zm-11 1L8.5 8.5l.94-2.06 2.06-.94-2.06-.94L8.5 2.5l-.94 2.06-2.06.94zm10 10l.94 2.06.94-2.06 2.06-.94-2.06-.94-.94-2.06-.94 2.06-2.06.94z\"/><path d=\"M17.41 7.96l-1.37-1.37c-.4-.4-.92-.59-1.43-.59-.52 0-1.04.2-1.43.59L10.3 9.45l-7.72 7.72c-.78.78-.78 2.05 0 2.83L4 21.41c.39.39.9.59 1.41.59.51 0 1.02-.2 1.41-.59l7.78-7.78 2.81-2.81c.8-.78.8-2.07 0-2.86zM5.41 20L4 18.59l7.72-7.72 1.47 1.35L5.41 20z\"/>\n",
              "  </svg>\n",
              "      </button>\n",
              "      \n",
              "  <style>\n",
              "    .colab-df-container {\n",
              "      display:flex;\n",
              "      flex-wrap:wrap;\n",
              "      gap: 12px;\n",
              "    }\n",
              "\n",
              "    .colab-df-convert {\n",
              "      background-color: #E8F0FE;\n",
              "      border: none;\n",
              "      border-radius: 50%;\n",
              "      cursor: pointer;\n",
              "      display: none;\n",
              "      fill: #1967D2;\n",
              "      height: 32px;\n",
              "      padding: 0 0 0 0;\n",
              "      width: 32px;\n",
              "    }\n",
              "\n",
              "    .colab-df-convert:hover {\n",
              "      background-color: #E2EBFA;\n",
              "      box-shadow: 0px 1px 2px rgba(60, 64, 67, 0.3), 0px 1px 3px 1px rgba(60, 64, 67, 0.15);\n",
              "      fill: #174EA6;\n",
              "    }\n",
              "\n",
              "    [theme=dark] .colab-df-convert {\n",
              "      background-color: #3B4455;\n",
              "      fill: #D2E3FC;\n",
              "    }\n",
              "\n",
              "    [theme=dark] .colab-df-convert:hover {\n",
              "      background-color: #434B5C;\n",
              "      box-shadow: 0px 1px 3px 1px rgba(0, 0, 0, 0.15);\n",
              "      filter: drop-shadow(0px 1px 2px rgba(0, 0, 0, 0.3));\n",
              "      fill: #FFFFFF;\n",
              "    }\n",
              "  </style>\n",
              "\n",
              "      <script>\n",
              "        const buttonEl =\n",
              "          document.querySelector('#df-460a8799-f3cd-40aa-a682-6f27a4cc2b45 button.colab-df-convert');\n",
              "        buttonEl.style.display =\n",
              "          google.colab.kernel.accessAllowed ? 'block' : 'none';\n",
              "\n",
              "        async function convertToInteractive(key) {\n",
              "          const element = document.querySelector('#df-460a8799-f3cd-40aa-a682-6f27a4cc2b45');\n",
              "          const dataTable =\n",
              "            await google.colab.kernel.invokeFunction('convertToInteractive',\n",
              "                                                     [key], {});\n",
              "          if (!dataTable) return;\n",
              "\n",
              "          const docLinkHtml = 'Like what you see? Visit the ' +\n",
              "            '<a target=\"_blank\" href=https://colab.research.google.com/notebooks/data_table.ipynb>data table notebook</a>'\n",
              "            + ' to learn more about interactive tables.';\n",
              "          element.innerHTML = '';\n",
              "          dataTable['output_type'] = 'display_data';\n",
              "          await google.colab.output.renderOutput(dataTable, element);\n",
              "          const docLink = document.createElement('div');\n",
              "          docLink.innerHTML = docLinkHtml;\n",
              "          element.appendChild(docLink);\n",
              "        }\n",
              "      </script>\n",
              "    </div>\n",
              "  </div>\n",
              "  "
            ]
          },
          "metadata": {},
          "execution_count": 92
        }
      ]
    },
    {
      "cell_type": "code",
      "source": [
        "# Añadimos la info sociodemográfica (solo usuarios vivos)\n",
        "# OHE y Escalar este dataframe y añadir al modelo de clustering\n",
        "# No añadir renta y tasas de paro\n",
        "df_customer_soc1.head()"
      ],
      "metadata": {
        "id": "cJGyZYV76ow2",
        "outputId": "72e55b2a-9743-441f-d17b-4cd2b6865ca2",
        "colab": {
          "base_uri": "https://localhost:8080/",
          "height": 206
        }
      },
      "execution_count": 93,
      "outputs": [
        {
          "output_type": "execute_result",
          "data": {
            "text/plain": [
              "   customer_ID partition_ID country_id gender  age     salary    provincia  \\\n",
              "0      1375586   2018-01-01         ES      H   35   87218.10       Málaga   \n",
              "1      1050611   2018-01-01         ES      V   23   35548.74  Ciudad Real   \n",
              "2      1050612   2018-01-01         ES      V   23  122179.11  Ciudad Real   \n",
              "3      1050613   2018-01-01         ES      H   22  119775.54     Zaragoza   \n",
              "4      1050614   2018-01-01         ES      V   23       0.00     Zaragoza   \n",
              "\n",
              "   renta_neta_media  renta_bruta_media  tasa_de_paro  tasa_de_empleo  \n",
              "0           10261.0            15512.0         22.60           44.20  \n",
              "1           10570.0            11811.0         18.35           44.95  \n",
              "2           10570.0            11811.0         18.35           44.95  \n",
              "3           13637.0            16156.0         12.24           51.20  \n",
              "4           13637.0            16156.0         12.24           51.20  "
            ],
            "text/html": [
              "\n",
              "  <div id=\"df-89c4a259-23f3-4201-991b-a4ec37f605e5\">\n",
              "    <div class=\"colab-df-container\">\n",
              "      <div>\n",
              "<style scoped>\n",
              "    .dataframe tbody tr th:only-of-type {\n",
              "        vertical-align: middle;\n",
              "    }\n",
              "\n",
              "    .dataframe tbody tr th {\n",
              "        vertical-align: top;\n",
              "    }\n",
              "\n",
              "    .dataframe thead th {\n",
              "        text-align: right;\n",
              "    }\n",
              "</style>\n",
              "<table border=\"1\" class=\"dataframe\">\n",
              "  <thead>\n",
              "    <tr style=\"text-align: right;\">\n",
              "      <th></th>\n",
              "      <th>customer_ID</th>\n",
              "      <th>partition_ID</th>\n",
              "      <th>country_id</th>\n",
              "      <th>gender</th>\n",
              "      <th>age</th>\n",
              "      <th>salary</th>\n",
              "      <th>provincia</th>\n",
              "      <th>renta_neta_media</th>\n",
              "      <th>renta_bruta_media</th>\n",
              "      <th>tasa_de_paro</th>\n",
              "      <th>tasa_de_empleo</th>\n",
              "    </tr>\n",
              "  </thead>\n",
              "  <tbody>\n",
              "    <tr>\n",
              "      <th>0</th>\n",
              "      <td>1375586</td>\n",
              "      <td>2018-01-01</td>\n",
              "      <td>ES</td>\n",
              "      <td>H</td>\n",
              "      <td>35</td>\n",
              "      <td>87218.10</td>\n",
              "      <td>Málaga</td>\n",
              "      <td>10261.0</td>\n",
              "      <td>15512.0</td>\n",
              "      <td>22.60</td>\n",
              "      <td>44.20</td>\n",
              "    </tr>\n",
              "    <tr>\n",
              "      <th>1</th>\n",
              "      <td>1050611</td>\n",
              "      <td>2018-01-01</td>\n",
              "      <td>ES</td>\n",
              "      <td>V</td>\n",
              "      <td>23</td>\n",
              "      <td>35548.74</td>\n",
              "      <td>Ciudad Real</td>\n",
              "      <td>10570.0</td>\n",
              "      <td>11811.0</td>\n",
              "      <td>18.35</td>\n",
              "      <td>44.95</td>\n",
              "    </tr>\n",
              "    <tr>\n",
              "      <th>2</th>\n",
              "      <td>1050612</td>\n",
              "      <td>2018-01-01</td>\n",
              "      <td>ES</td>\n",
              "      <td>V</td>\n",
              "      <td>23</td>\n",
              "      <td>122179.11</td>\n",
              "      <td>Ciudad Real</td>\n",
              "      <td>10570.0</td>\n",
              "      <td>11811.0</td>\n",
              "      <td>18.35</td>\n",
              "      <td>44.95</td>\n",
              "    </tr>\n",
              "    <tr>\n",
              "      <th>3</th>\n",
              "      <td>1050613</td>\n",
              "      <td>2018-01-01</td>\n",
              "      <td>ES</td>\n",
              "      <td>H</td>\n",
              "      <td>22</td>\n",
              "      <td>119775.54</td>\n",
              "      <td>Zaragoza</td>\n",
              "      <td>13637.0</td>\n",
              "      <td>16156.0</td>\n",
              "      <td>12.24</td>\n",
              "      <td>51.20</td>\n",
              "    </tr>\n",
              "    <tr>\n",
              "      <th>4</th>\n",
              "      <td>1050614</td>\n",
              "      <td>2018-01-01</td>\n",
              "      <td>ES</td>\n",
              "      <td>V</td>\n",
              "      <td>23</td>\n",
              "      <td>0.00</td>\n",
              "      <td>Zaragoza</td>\n",
              "      <td>13637.0</td>\n",
              "      <td>16156.0</td>\n",
              "      <td>12.24</td>\n",
              "      <td>51.20</td>\n",
              "    </tr>\n",
              "  </tbody>\n",
              "</table>\n",
              "</div>\n",
              "      <button class=\"colab-df-convert\" onclick=\"convertToInteractive('df-89c4a259-23f3-4201-991b-a4ec37f605e5')\"\n",
              "              title=\"Convert this dataframe to an interactive table.\"\n",
              "              style=\"display:none;\">\n",
              "        \n",
              "  <svg xmlns=\"http://www.w3.org/2000/svg\" height=\"24px\"viewBox=\"0 0 24 24\"\n",
              "       width=\"24px\">\n",
              "    <path d=\"M0 0h24v24H0V0z\" fill=\"none\"/>\n",
              "    <path d=\"M18.56 5.44l.94 2.06.94-2.06 2.06-.94-2.06-.94-.94-2.06-.94 2.06-2.06.94zm-11 1L8.5 8.5l.94-2.06 2.06-.94-2.06-.94L8.5 2.5l-.94 2.06-2.06.94zm10 10l.94 2.06.94-2.06 2.06-.94-2.06-.94-.94-2.06-.94 2.06-2.06.94z\"/><path d=\"M17.41 7.96l-1.37-1.37c-.4-.4-.92-.59-1.43-.59-.52 0-1.04.2-1.43.59L10.3 9.45l-7.72 7.72c-.78.78-.78 2.05 0 2.83L4 21.41c.39.39.9.59 1.41.59.51 0 1.02-.2 1.41-.59l7.78-7.78 2.81-2.81c.8-.78.8-2.07 0-2.86zM5.41 20L4 18.59l7.72-7.72 1.47 1.35L5.41 20z\"/>\n",
              "  </svg>\n",
              "      </button>\n",
              "      \n",
              "  <style>\n",
              "    .colab-df-container {\n",
              "      display:flex;\n",
              "      flex-wrap:wrap;\n",
              "      gap: 12px;\n",
              "    }\n",
              "\n",
              "    .colab-df-convert {\n",
              "      background-color: #E8F0FE;\n",
              "      border: none;\n",
              "      border-radius: 50%;\n",
              "      cursor: pointer;\n",
              "      display: none;\n",
              "      fill: #1967D2;\n",
              "      height: 32px;\n",
              "      padding: 0 0 0 0;\n",
              "      width: 32px;\n",
              "    }\n",
              "\n",
              "    .colab-df-convert:hover {\n",
              "      background-color: #E2EBFA;\n",
              "      box-shadow: 0px 1px 2px rgba(60, 64, 67, 0.3), 0px 1px 3px 1px rgba(60, 64, 67, 0.15);\n",
              "      fill: #174EA6;\n",
              "    }\n",
              "\n",
              "    [theme=dark] .colab-df-convert {\n",
              "      background-color: #3B4455;\n",
              "      fill: #D2E3FC;\n",
              "    }\n",
              "\n",
              "    [theme=dark] .colab-df-convert:hover {\n",
              "      background-color: #434B5C;\n",
              "      box-shadow: 0px 1px 3px 1px rgba(0, 0, 0, 0.15);\n",
              "      filter: drop-shadow(0px 1px 2px rgba(0, 0, 0, 0.3));\n",
              "      fill: #FFFFFF;\n",
              "    }\n",
              "  </style>\n",
              "\n",
              "      <script>\n",
              "        const buttonEl =\n",
              "          document.querySelector('#df-89c4a259-23f3-4201-991b-a4ec37f605e5 button.colab-df-convert');\n",
              "        buttonEl.style.display =\n",
              "          google.colab.kernel.accessAllowed ? 'block' : 'none';\n",
              "\n",
              "        async function convertToInteractive(key) {\n",
              "          const element = document.querySelector('#df-89c4a259-23f3-4201-991b-a4ec37f605e5');\n",
              "          const dataTable =\n",
              "            await google.colab.kernel.invokeFunction('convertToInteractive',\n",
              "                                                     [key], {});\n",
              "          if (!dataTable) return;\n",
              "\n",
              "          const docLinkHtml = 'Like what you see? Visit the ' +\n",
              "            '<a target=\"_blank\" href=https://colab.research.google.com/notebooks/data_table.ipynb>data table notebook</a>'\n",
              "            + ' to learn more about interactive tables.';\n",
              "          element.innerHTML = '';\n",
              "          dataTable['output_type'] = 'display_data';\n",
              "          await google.colab.output.renderOutput(dataTable, element);\n",
              "          const docLink = document.createElement('div');\n",
              "          docLink.innerHTML = docLinkHtml;\n",
              "          element.appendChild(docLink);\n",
              "        }\n",
              "      </script>\n",
              "    </div>\n",
              "  </div>\n",
              "  "
            ]
          },
          "metadata": {},
          "execution_count": 93
        }
      ]
    },
    {
      "cell_type": "code",
      "source": [
        "df_cust_com_act1.head()\n",
        "# OHE este dataframe y añadir al modelo de clustering\n",
        "# No añadir antiguedad"
      ],
      "metadata": {
        "id": "cutQeo6u2HlF",
        "outputId": "2e2f2aaa-8cbc-44a5-b117-525c0e25b45a",
        "colab": {
          "base_uri": "https://localhost:8080/",
          "height": 206
        }
      },
      "execution_count": 94,
      "outputs": [
        {
          "output_type": "execute_result",
          "data": {
            "text/plain": [
              "   customer_ID partition_ID entry_channel             segment  antiguedad\n",
              "0      1375586   2018-01-01           KHL   02 - PARTICULARES       485.0\n",
              "1      1050614   2018-01-01           KHE  03 - UNIVERSITARIO      1369.0\n",
              "2      1050617   2018-01-01           KHE  03 - UNIVERSITARIO      1369.0\n",
              "3      1050623   2018-01-01           KHE  03 - UNIVERSITARIO      1369.0\n",
              "4      1050624   2018-01-01           KHE   02 - PARTICULARES      1369.0"
            ],
            "text/html": [
              "\n",
              "  <div id=\"df-dc6d2779-0a60-486a-ad52-08ae1cf2742c\">\n",
              "    <div class=\"colab-df-container\">\n",
              "      <div>\n",
              "<style scoped>\n",
              "    .dataframe tbody tr th:only-of-type {\n",
              "        vertical-align: middle;\n",
              "    }\n",
              "\n",
              "    .dataframe tbody tr th {\n",
              "        vertical-align: top;\n",
              "    }\n",
              "\n",
              "    .dataframe thead th {\n",
              "        text-align: right;\n",
              "    }\n",
              "</style>\n",
              "<table border=\"1\" class=\"dataframe\">\n",
              "  <thead>\n",
              "    <tr style=\"text-align: right;\">\n",
              "      <th></th>\n",
              "      <th>customer_ID</th>\n",
              "      <th>partition_ID</th>\n",
              "      <th>entry_channel</th>\n",
              "      <th>segment</th>\n",
              "      <th>antiguedad</th>\n",
              "    </tr>\n",
              "  </thead>\n",
              "  <tbody>\n",
              "    <tr>\n",
              "      <th>0</th>\n",
              "      <td>1375586</td>\n",
              "      <td>2018-01-01</td>\n",
              "      <td>KHL</td>\n",
              "      <td>02 - PARTICULARES</td>\n",
              "      <td>485.0</td>\n",
              "    </tr>\n",
              "    <tr>\n",
              "      <th>1</th>\n",
              "      <td>1050614</td>\n",
              "      <td>2018-01-01</td>\n",
              "      <td>KHE</td>\n",
              "      <td>03 - UNIVERSITARIO</td>\n",
              "      <td>1369.0</td>\n",
              "    </tr>\n",
              "    <tr>\n",
              "      <th>2</th>\n",
              "      <td>1050617</td>\n",
              "      <td>2018-01-01</td>\n",
              "      <td>KHE</td>\n",
              "      <td>03 - UNIVERSITARIO</td>\n",
              "      <td>1369.0</td>\n",
              "    </tr>\n",
              "    <tr>\n",
              "      <th>3</th>\n",
              "      <td>1050623</td>\n",
              "      <td>2018-01-01</td>\n",
              "      <td>KHE</td>\n",
              "      <td>03 - UNIVERSITARIO</td>\n",
              "      <td>1369.0</td>\n",
              "    </tr>\n",
              "    <tr>\n",
              "      <th>4</th>\n",
              "      <td>1050624</td>\n",
              "      <td>2018-01-01</td>\n",
              "      <td>KHE</td>\n",
              "      <td>02 - PARTICULARES</td>\n",
              "      <td>1369.0</td>\n",
              "    </tr>\n",
              "  </tbody>\n",
              "</table>\n",
              "</div>\n",
              "      <button class=\"colab-df-convert\" onclick=\"convertToInteractive('df-dc6d2779-0a60-486a-ad52-08ae1cf2742c')\"\n",
              "              title=\"Convert this dataframe to an interactive table.\"\n",
              "              style=\"display:none;\">\n",
              "        \n",
              "  <svg xmlns=\"http://www.w3.org/2000/svg\" height=\"24px\"viewBox=\"0 0 24 24\"\n",
              "       width=\"24px\">\n",
              "    <path d=\"M0 0h24v24H0V0z\" fill=\"none\"/>\n",
              "    <path d=\"M18.56 5.44l.94 2.06.94-2.06 2.06-.94-2.06-.94-.94-2.06-.94 2.06-2.06.94zm-11 1L8.5 8.5l.94-2.06 2.06-.94-2.06-.94L8.5 2.5l-.94 2.06-2.06.94zm10 10l.94 2.06.94-2.06 2.06-.94-2.06-.94-.94-2.06-.94 2.06-2.06.94z\"/><path d=\"M17.41 7.96l-1.37-1.37c-.4-.4-.92-.59-1.43-.59-.52 0-1.04.2-1.43.59L10.3 9.45l-7.72 7.72c-.78.78-.78 2.05 0 2.83L4 21.41c.39.39.9.59 1.41.59.51 0 1.02-.2 1.41-.59l7.78-7.78 2.81-2.81c.8-.78.8-2.07 0-2.86zM5.41 20L4 18.59l7.72-7.72 1.47 1.35L5.41 20z\"/>\n",
              "  </svg>\n",
              "      </button>\n",
              "      \n",
              "  <style>\n",
              "    .colab-df-container {\n",
              "      display:flex;\n",
              "      flex-wrap:wrap;\n",
              "      gap: 12px;\n",
              "    }\n",
              "\n",
              "    .colab-df-convert {\n",
              "      background-color: #E8F0FE;\n",
              "      border: none;\n",
              "      border-radius: 50%;\n",
              "      cursor: pointer;\n",
              "      display: none;\n",
              "      fill: #1967D2;\n",
              "      height: 32px;\n",
              "      padding: 0 0 0 0;\n",
              "      width: 32px;\n",
              "    }\n",
              "\n",
              "    .colab-df-convert:hover {\n",
              "      background-color: #E2EBFA;\n",
              "      box-shadow: 0px 1px 2px rgba(60, 64, 67, 0.3), 0px 1px 3px 1px rgba(60, 64, 67, 0.15);\n",
              "      fill: #174EA6;\n",
              "    }\n",
              "\n",
              "    [theme=dark] .colab-df-convert {\n",
              "      background-color: #3B4455;\n",
              "      fill: #D2E3FC;\n",
              "    }\n",
              "\n",
              "    [theme=dark] .colab-df-convert:hover {\n",
              "      background-color: #434B5C;\n",
              "      box-shadow: 0px 1px 3px 1px rgba(0, 0, 0, 0.15);\n",
              "      filter: drop-shadow(0px 1px 2px rgba(0, 0, 0, 0.3));\n",
              "      fill: #FFFFFF;\n",
              "    }\n",
              "  </style>\n",
              "\n",
              "      <script>\n",
              "        const buttonEl =\n",
              "          document.querySelector('#df-dc6d2779-0a60-486a-ad52-08ae1cf2742c button.colab-df-convert');\n",
              "        buttonEl.style.display =\n",
              "          google.colab.kernel.accessAllowed ? 'block' : 'none';\n",
              "\n",
              "        async function convertToInteractive(key) {\n",
              "          const element = document.querySelector('#df-dc6d2779-0a60-486a-ad52-08ae1cf2742c');\n",
              "          const dataTable =\n",
              "            await google.colab.kernel.invokeFunction('convertToInteractive',\n",
              "                                                     [key], {});\n",
              "          if (!dataTable) return;\n",
              "\n",
              "          const docLinkHtml = 'Like what you see? Visit the ' +\n",
              "            '<a target=\"_blank\" href=https://colab.research.google.com/notebooks/data_table.ipynb>data table notebook</a>'\n",
              "            + ' to learn more about interactive tables.';\n",
              "          element.innerHTML = '';\n",
              "          dataTable['output_type'] = 'display_data';\n",
              "          await google.colab.output.renderOutput(dataTable, element);\n",
              "          const docLink = document.createElement('div');\n",
              "          docLink.innerHTML = docLinkHtml;\n",
              "          element.appendChild(docLink);\n",
              "        }\n",
              "      </script>\n",
              "    </div>\n",
              "  </div>\n",
              "  "
            ]
          },
          "metadata": {},
          "execution_count": 94
        }
      ]
    },
    {
      "cell_type": "markdown",
      "source": [
        "# Curisosidades"
      ],
      "metadata": {
        "id": "t1w8ehi1iGi_"
      }
    },
    {
      "cell_type": "markdown",
      "source": [
        "## Las ventas de em-acc están desde febrero, no desde enero de 2018"
      ],
      "metadata": {
        "id": "IkgLUdJTiKi0"
      }
    },
    {
      "cell_type": "code",
      "source": [
        "# Ventas de un cliente random (454.0 desde ultima compra)\n",
        "df_sales2[df_sales2[\"customer_ID\"]== 44012]"
      ],
      "metadata": {
        "outputId": "9e553ce2-ef66-4aa8-f8bf-2658a5dc1797",
        "colab": {
          "base_uri": "https://localhost:8080/",
          "height": 81
        },
        "id": "8CZFGMGwiJKW"
      },
      "execution_count": null,
      "outputs": [
        {
          "output_type": "execute_result",
          "data": {
            "text/plain": [
              "   customer_ID month_sale product_ID  net_margin  month_sales  year_sales  \\\n",
              "4        44012 2018-02-01       2335      1680.3            2        2018   \n",
              "\n",
              "   dias_ultima_compra  \n",
              "4               454.0  "
            ],
            "text/html": [
              "\n",
              "  <div id=\"df-03d40b1e-cb81-43a2-8bad-07f4a6fd9322\">\n",
              "    <div class=\"colab-df-container\">\n",
              "      <div>\n",
              "<style scoped>\n",
              "    .dataframe tbody tr th:only-of-type {\n",
              "        vertical-align: middle;\n",
              "    }\n",
              "\n",
              "    .dataframe tbody tr th {\n",
              "        vertical-align: top;\n",
              "    }\n",
              "\n",
              "    .dataframe thead th {\n",
              "        text-align: right;\n",
              "    }\n",
              "</style>\n",
              "<table border=\"1\" class=\"dataframe\">\n",
              "  <thead>\n",
              "    <tr style=\"text-align: right;\">\n",
              "      <th></th>\n",
              "      <th>customer_ID</th>\n",
              "      <th>month_sale</th>\n",
              "      <th>product_ID</th>\n",
              "      <th>net_margin</th>\n",
              "      <th>month_sales</th>\n",
              "      <th>year_sales</th>\n",
              "      <th>dias_ultima_compra</th>\n",
              "    </tr>\n",
              "  </thead>\n",
              "  <tbody>\n",
              "    <tr>\n",
              "      <th>4</th>\n",
              "      <td>44012</td>\n",
              "      <td>2018-02-01</td>\n",
              "      <td>2335</td>\n",
              "      <td>1680.3</td>\n",
              "      <td>2</td>\n",
              "      <td>2018</td>\n",
              "      <td>454.0</td>\n",
              "    </tr>\n",
              "  </tbody>\n",
              "</table>\n",
              "</div>\n",
              "      <button class=\"colab-df-convert\" onclick=\"convertToInteractive('df-03d40b1e-cb81-43a2-8bad-07f4a6fd9322')\"\n",
              "              title=\"Convert this dataframe to an interactive table.\"\n",
              "              style=\"display:none;\">\n",
              "        \n",
              "  <svg xmlns=\"http://www.w3.org/2000/svg\" height=\"24px\"viewBox=\"0 0 24 24\"\n",
              "       width=\"24px\">\n",
              "    <path d=\"M0 0h24v24H0V0z\" fill=\"none\"/>\n",
              "    <path d=\"M18.56 5.44l.94 2.06.94-2.06 2.06-.94-2.06-.94-.94-2.06-.94 2.06-2.06.94zm-11 1L8.5 8.5l.94-2.06 2.06-.94-2.06-.94L8.5 2.5l-.94 2.06-2.06.94zm10 10l.94 2.06.94-2.06 2.06-.94-2.06-.94-.94-2.06-.94 2.06-2.06.94z\"/><path d=\"M17.41 7.96l-1.37-1.37c-.4-.4-.92-.59-1.43-.59-.52 0-1.04.2-1.43.59L10.3 9.45l-7.72 7.72c-.78.78-.78 2.05 0 2.83L4 21.41c.39.39.9.59 1.41.59.51 0 1.02-.2 1.41-.59l7.78-7.78 2.81-2.81c.8-.78.8-2.07 0-2.86zM5.41 20L4 18.59l7.72-7.72 1.47 1.35L5.41 20z\"/>\n",
              "  </svg>\n",
              "      </button>\n",
              "      \n",
              "  <style>\n",
              "    .colab-df-container {\n",
              "      display:flex;\n",
              "      flex-wrap:wrap;\n",
              "      gap: 12px;\n",
              "    }\n",
              "\n",
              "    .colab-df-convert {\n",
              "      background-color: #E8F0FE;\n",
              "      border: none;\n",
              "      border-radius: 50%;\n",
              "      cursor: pointer;\n",
              "      display: none;\n",
              "      fill: #1967D2;\n",
              "      height: 32px;\n",
              "      padding: 0 0 0 0;\n",
              "      width: 32px;\n",
              "    }\n",
              "\n",
              "    .colab-df-convert:hover {\n",
              "      background-color: #E2EBFA;\n",
              "      box-shadow: 0px 1px 2px rgba(60, 64, 67, 0.3), 0px 1px 3px 1px rgba(60, 64, 67, 0.15);\n",
              "      fill: #174EA6;\n",
              "    }\n",
              "\n",
              "    [theme=dark] .colab-df-convert {\n",
              "      background-color: #3B4455;\n",
              "      fill: #D2E3FC;\n",
              "    }\n",
              "\n",
              "    [theme=dark] .colab-df-convert:hover {\n",
              "      background-color: #434B5C;\n",
              "      box-shadow: 0px 1px 3px 1px rgba(0, 0, 0, 0.15);\n",
              "      filter: drop-shadow(0px 1px 2px rgba(0, 0, 0, 0.3));\n",
              "      fill: #FFFFFF;\n",
              "    }\n",
              "  </style>\n",
              "\n",
              "      <script>\n",
              "        const buttonEl =\n",
              "          document.querySelector('#df-03d40b1e-cb81-43a2-8bad-07f4a6fd9322 button.colab-df-convert');\n",
              "        buttonEl.style.display =\n",
              "          google.colab.kernel.accessAllowed ? 'block' : 'none';\n",
              "\n",
              "        async function convertToInteractive(key) {\n",
              "          const element = document.querySelector('#df-03d40b1e-cb81-43a2-8bad-07f4a6fd9322');\n",
              "          const dataTable =\n",
              "            await google.colab.kernel.invokeFunction('convertToInteractive',\n",
              "                                                     [key], {});\n",
              "          if (!dataTable) return;\n",
              "\n",
              "          const docLinkHtml = 'Like what you see? Visit the ' +\n",
              "            '<a target=\"_blank\" href=https://colab.research.google.com/notebooks/data_table.ipynb>data table notebook</a>'\n",
              "            + ' to learn more about interactive tables.';\n",
              "          element.innerHTML = '';\n",
              "          dataTable['output_type'] = 'display_data';\n",
              "          await google.colab.output.renderOutput(dataTable, element);\n",
              "          const docLink = document.createElement('div');\n",
              "          docLink.innerHTML = docLinkHtml;\n",
              "          element.appendChild(docLink);\n",
              "        }\n",
              "      </script>\n",
              "    </div>\n",
              "  </div>\n",
              "  "
            ]
          },
          "metadata": {},
          "execution_count": 71
        }
      ]
    },
    {
      "cell_type": "code",
      "source": [
        "# Antiguedad es de 485.0 dias (30 dias extra en este caso)\n",
        "df_cust_com_act1[df_cust_com_act1[\"customer_ID\"]== 44012]"
      ],
      "metadata": {
        "outputId": "f2bbde4d-ca31-4360-a4c4-e94f83c5e269",
        "colab": {
          "base_uri": "https://localhost:8080/",
          "height": 582
        },
        "id": "GdOCwfb1iJKX"
      },
      "execution_count": null,
      "outputs": [
        {
          "output_type": "execute_result",
          "data": {
            "text/plain": [
              "         customer_ID partition_ID entry_channel            segment  antiguedad\n",
              "106943         44012   2018-01-01           KHL  02 - PARTICULARES       485.0\n",
              "109578         44012   2018-02-01           KHL  02 - PARTICULARES       485.0\n",
              "220796         44012   2018-03-01           KHL  02 - PARTICULARES       485.0\n",
              "334541         44012   2018-04-01           KHL  02 - PARTICULARES       485.0\n",
              "566975         44012   2018-05-01           KHL  02 - PARTICULARES       485.0\n",
              "688465         44012   2018-06-01           KHL  02 - PARTICULARES       485.0\n",
              "691945         44012   2018-07-01           KHL  02 - PARTICULARES       485.0\n",
              "954970         44012   2018-08-01           KHL  02 - PARTICULARES       485.0\n",
              "957276         44012   2018-09-01           KHL  02 - PARTICULARES       485.0\n",
              "1250427        44012   2018-10-01           KHL  02 - PARTICULARES       485.0\n",
              "1268123        44012   2018-11-01           KHL  02 - PARTICULARES       485.0\n",
              "1505763        44012   2018-12-01           KHL  02 - PARTICULARES       485.0\n",
              "1590377        44012   2019-01-01           KHL  02 - PARTICULARES       485.0\n",
              "1838665        44012   2019-02-01           KHL  02 - PARTICULARES       485.0\n",
              "1992543        44012   2019-03-01           KHL  02 - PARTICULARES       485.0\n",
              "2088151        44012   2019-04-01           KHL  02 - PARTICULARES       485.0\n",
              "2236142        44012   2019-05-01           KHL  02 - PARTICULARES       485.0"
            ],
            "text/html": [
              "\n",
              "  <div id=\"df-e38b4be6-40a3-42aa-b1bc-46d32198e878\">\n",
              "    <div class=\"colab-df-container\">\n",
              "      <div>\n",
              "<style scoped>\n",
              "    .dataframe tbody tr th:only-of-type {\n",
              "        vertical-align: middle;\n",
              "    }\n",
              "\n",
              "    .dataframe tbody tr th {\n",
              "        vertical-align: top;\n",
              "    }\n",
              "\n",
              "    .dataframe thead th {\n",
              "        text-align: right;\n",
              "    }\n",
              "</style>\n",
              "<table border=\"1\" class=\"dataframe\">\n",
              "  <thead>\n",
              "    <tr style=\"text-align: right;\">\n",
              "      <th></th>\n",
              "      <th>customer_ID</th>\n",
              "      <th>partition_ID</th>\n",
              "      <th>entry_channel</th>\n",
              "      <th>segment</th>\n",
              "      <th>antiguedad</th>\n",
              "    </tr>\n",
              "  </thead>\n",
              "  <tbody>\n",
              "    <tr>\n",
              "      <th>106943</th>\n",
              "      <td>44012</td>\n",
              "      <td>2018-01-01</td>\n",
              "      <td>KHL</td>\n",
              "      <td>02 - PARTICULARES</td>\n",
              "      <td>485.0</td>\n",
              "    </tr>\n",
              "    <tr>\n",
              "      <th>109578</th>\n",
              "      <td>44012</td>\n",
              "      <td>2018-02-01</td>\n",
              "      <td>KHL</td>\n",
              "      <td>02 - PARTICULARES</td>\n",
              "      <td>485.0</td>\n",
              "    </tr>\n",
              "    <tr>\n",
              "      <th>220796</th>\n",
              "      <td>44012</td>\n",
              "      <td>2018-03-01</td>\n",
              "      <td>KHL</td>\n",
              "      <td>02 - PARTICULARES</td>\n",
              "      <td>485.0</td>\n",
              "    </tr>\n",
              "    <tr>\n",
              "      <th>334541</th>\n",
              "      <td>44012</td>\n",
              "      <td>2018-04-01</td>\n",
              "      <td>KHL</td>\n",
              "      <td>02 - PARTICULARES</td>\n",
              "      <td>485.0</td>\n",
              "    </tr>\n",
              "    <tr>\n",
              "      <th>566975</th>\n",
              "      <td>44012</td>\n",
              "      <td>2018-05-01</td>\n",
              "      <td>KHL</td>\n",
              "      <td>02 - PARTICULARES</td>\n",
              "      <td>485.0</td>\n",
              "    </tr>\n",
              "    <tr>\n",
              "      <th>688465</th>\n",
              "      <td>44012</td>\n",
              "      <td>2018-06-01</td>\n",
              "      <td>KHL</td>\n",
              "      <td>02 - PARTICULARES</td>\n",
              "      <td>485.0</td>\n",
              "    </tr>\n",
              "    <tr>\n",
              "      <th>691945</th>\n",
              "      <td>44012</td>\n",
              "      <td>2018-07-01</td>\n",
              "      <td>KHL</td>\n",
              "      <td>02 - PARTICULARES</td>\n",
              "      <td>485.0</td>\n",
              "    </tr>\n",
              "    <tr>\n",
              "      <th>954970</th>\n",
              "      <td>44012</td>\n",
              "      <td>2018-08-01</td>\n",
              "      <td>KHL</td>\n",
              "      <td>02 - PARTICULARES</td>\n",
              "      <td>485.0</td>\n",
              "    </tr>\n",
              "    <tr>\n",
              "      <th>957276</th>\n",
              "      <td>44012</td>\n",
              "      <td>2018-09-01</td>\n",
              "      <td>KHL</td>\n",
              "      <td>02 - PARTICULARES</td>\n",
              "      <td>485.0</td>\n",
              "    </tr>\n",
              "    <tr>\n",
              "      <th>1250427</th>\n",
              "      <td>44012</td>\n",
              "      <td>2018-10-01</td>\n",
              "      <td>KHL</td>\n",
              "      <td>02 - PARTICULARES</td>\n",
              "      <td>485.0</td>\n",
              "    </tr>\n",
              "    <tr>\n",
              "      <th>1268123</th>\n",
              "      <td>44012</td>\n",
              "      <td>2018-11-01</td>\n",
              "      <td>KHL</td>\n",
              "      <td>02 - PARTICULARES</td>\n",
              "      <td>485.0</td>\n",
              "    </tr>\n",
              "    <tr>\n",
              "      <th>1505763</th>\n",
              "      <td>44012</td>\n",
              "      <td>2018-12-01</td>\n",
              "      <td>KHL</td>\n",
              "      <td>02 - PARTICULARES</td>\n",
              "      <td>485.0</td>\n",
              "    </tr>\n",
              "    <tr>\n",
              "      <th>1590377</th>\n",
              "      <td>44012</td>\n",
              "      <td>2019-01-01</td>\n",
              "      <td>KHL</td>\n",
              "      <td>02 - PARTICULARES</td>\n",
              "      <td>485.0</td>\n",
              "    </tr>\n",
              "    <tr>\n",
              "      <th>1838665</th>\n",
              "      <td>44012</td>\n",
              "      <td>2019-02-01</td>\n",
              "      <td>KHL</td>\n",
              "      <td>02 - PARTICULARES</td>\n",
              "      <td>485.0</td>\n",
              "    </tr>\n",
              "    <tr>\n",
              "      <th>1992543</th>\n",
              "      <td>44012</td>\n",
              "      <td>2019-03-01</td>\n",
              "      <td>KHL</td>\n",
              "      <td>02 - PARTICULARES</td>\n",
              "      <td>485.0</td>\n",
              "    </tr>\n",
              "    <tr>\n",
              "      <th>2088151</th>\n",
              "      <td>44012</td>\n",
              "      <td>2019-04-01</td>\n",
              "      <td>KHL</td>\n",
              "      <td>02 - PARTICULARES</td>\n",
              "      <td>485.0</td>\n",
              "    </tr>\n",
              "    <tr>\n",
              "      <th>2236142</th>\n",
              "      <td>44012</td>\n",
              "      <td>2019-05-01</td>\n",
              "      <td>KHL</td>\n",
              "      <td>02 - PARTICULARES</td>\n",
              "      <td>485.0</td>\n",
              "    </tr>\n",
              "  </tbody>\n",
              "</table>\n",
              "</div>\n",
              "      <button class=\"colab-df-convert\" onclick=\"convertToInteractive('df-e38b4be6-40a3-42aa-b1bc-46d32198e878')\"\n",
              "              title=\"Convert this dataframe to an interactive table.\"\n",
              "              style=\"display:none;\">\n",
              "        \n",
              "  <svg xmlns=\"http://www.w3.org/2000/svg\" height=\"24px\"viewBox=\"0 0 24 24\"\n",
              "       width=\"24px\">\n",
              "    <path d=\"M0 0h24v24H0V0z\" fill=\"none\"/>\n",
              "    <path d=\"M18.56 5.44l.94 2.06.94-2.06 2.06-.94-2.06-.94-.94-2.06-.94 2.06-2.06.94zm-11 1L8.5 8.5l.94-2.06 2.06-.94-2.06-.94L8.5 2.5l-.94 2.06-2.06.94zm10 10l.94 2.06.94-2.06 2.06-.94-2.06-.94-.94-2.06-.94 2.06-2.06.94z\"/><path d=\"M17.41 7.96l-1.37-1.37c-.4-.4-.92-.59-1.43-.59-.52 0-1.04.2-1.43.59L10.3 9.45l-7.72 7.72c-.78.78-.78 2.05 0 2.83L4 21.41c.39.39.9.59 1.41.59.51 0 1.02-.2 1.41-.59l7.78-7.78 2.81-2.81c.8-.78.8-2.07 0-2.86zM5.41 20L4 18.59l7.72-7.72 1.47 1.35L5.41 20z\"/>\n",
              "  </svg>\n",
              "      </button>\n",
              "      \n",
              "  <style>\n",
              "    .colab-df-container {\n",
              "      display:flex;\n",
              "      flex-wrap:wrap;\n",
              "      gap: 12px;\n",
              "    }\n",
              "\n",
              "    .colab-df-convert {\n",
              "      background-color: #E8F0FE;\n",
              "      border: none;\n",
              "      border-radius: 50%;\n",
              "      cursor: pointer;\n",
              "      display: none;\n",
              "      fill: #1967D2;\n",
              "      height: 32px;\n",
              "      padding: 0 0 0 0;\n",
              "      width: 32px;\n",
              "    }\n",
              "\n",
              "    .colab-df-convert:hover {\n",
              "      background-color: #E2EBFA;\n",
              "      box-shadow: 0px 1px 2px rgba(60, 64, 67, 0.3), 0px 1px 3px 1px rgba(60, 64, 67, 0.15);\n",
              "      fill: #174EA6;\n",
              "    }\n",
              "\n",
              "    [theme=dark] .colab-df-convert {\n",
              "      background-color: #3B4455;\n",
              "      fill: #D2E3FC;\n",
              "    }\n",
              "\n",
              "    [theme=dark] .colab-df-convert:hover {\n",
              "      background-color: #434B5C;\n",
              "      box-shadow: 0px 1px 3px 1px rgba(0, 0, 0, 0.15);\n",
              "      filter: drop-shadow(0px 1px 2px rgba(0, 0, 0, 0.3));\n",
              "      fill: #FFFFFF;\n",
              "    }\n",
              "  </style>\n",
              "\n",
              "      <script>\n",
              "        const buttonEl =\n",
              "          document.querySelector('#df-e38b4be6-40a3-42aa-b1bc-46d32198e878 button.colab-df-convert');\n",
              "        buttonEl.style.display =\n",
              "          google.colab.kernel.accessAllowed ? 'block' : 'none';\n",
              "\n",
              "        async function convertToInteractive(key) {\n",
              "          const element = document.querySelector('#df-e38b4be6-40a3-42aa-b1bc-46d32198e878');\n",
              "          const dataTable =\n",
              "            await google.colab.kernel.invokeFunction('convertToInteractive',\n",
              "                                                     [key], {});\n",
              "          if (!dataTable) return;\n",
              "\n",
              "          const docLinkHtml = 'Like what you see? Visit the ' +\n",
              "            '<a target=\"_blank\" href=https://colab.research.google.com/notebooks/data_table.ipynb>data table notebook</a>'\n",
              "            + ' to learn more about interactive tables.';\n",
              "          element.innerHTML = '';\n",
              "          dataTable['output_type'] = 'display_data';\n",
              "          await google.colab.output.renderOutput(dataTable, element);\n",
              "          const docLink = document.createElement('div');\n",
              "          docLink.innerHTML = docLinkHtml;\n",
              "          element.appendChild(docLink);\n",
              "        }\n",
              "      </script>\n",
              "    </div>\n",
              "  </div>\n",
              "  "
            ]
          },
          "metadata": {},
          "execution_count": 72
        }
      ]
    },
    {
      "cell_type": "code",
      "source": [
        "# En enero compro la emaccount pero no aparece en Sales\n",
        "df_cust_prod1[df_cust_prod1[\"customer_ID\"]== 44012]"
      ],
      "metadata": {
        "outputId": "896d8eb4-52a9-4775-da08-896a4f6173bd",
        "colab": {
          "base_uri": "https://localhost:8080/",
          "height": 646
        },
        "id": "tnEYyEifiJKY"
      },
      "execution_count": null,
      "outputs": [
        {
          "output_type": "execute_result",
          "data": {
            "text/plain": [
              "         customer_ID partition_ID  short_term_deposit  loans  mortgage  funds  \\\n",
              "237976         44012   2018-01-01                   0      0         0      0   \n",
              "241119         44012   2018-02-01                   1      0         0      0   \n",
              "483800         44012   2018-03-01                   1      0         0      0   \n",
              "728948         44012   2018-04-01                   1      0         0      0   \n",
              "1222917        44012   2018-05-01                   0      0         0      0   \n",
              "1474970        44012   2018-06-01                   0      0         0      0   \n",
              "1479589        44012   2018-07-01                   0      0         0      0   \n",
              "2168048        44012   2018-08-01                   0      0         0      0   \n",
              "2171411        44012   2018-09-01                   0      0         0      0   \n",
              "2943608        44012   2018-10-01                   0      0         0      0   \n",
              "2977155        44012   2018-11-01                   0      0         0      0   \n",
              "3628303        44012   2018-12-01                   0      0         0      0   \n",
              "3839350        44012   2019-01-01                   0      0         0      0   \n",
              "4480550        44012   2019-02-01                   0      0         0      0   \n",
              "4876084        44012   2019-03-01                   0      0         0      0   \n",
              "5132975        44012   2019-04-01                   0      0         0      0   \n",
              "5523445        44012   2019-05-01                   0      0         0      0   \n",
              "\n",
              "         securities  long_term_deposit  credit_card  payroll  payroll_account  \\\n",
              "237976            0                  0            0      0.0                0   \n",
              "241119            0                  0            0      0.0                0   \n",
              "483800            0                  0            0      0.0                0   \n",
              "728948            0                  0            0      0.0                0   \n",
              "1222917           0                  0            0      0.0                0   \n",
              "1474970           0                  0            0      0.0                0   \n",
              "1479589           0                  0            0      0.0                0   \n",
              "2168048           0                  0            0      0.0                0   \n",
              "2171411           0                  0            0      0.0                0   \n",
              "2943608           0                  0            0      0.0                0   \n",
              "2977155           0                  0            0      0.0                0   \n",
              "3628303           0                  0            0      0.0                0   \n",
              "3839350           0                  0            0      0.0                0   \n",
              "4480550           0                  0            0      0.0                0   \n",
              "4876084           0                  0            0      0.0                0   \n",
              "5132975           0                  0            0      0.0                0   \n",
              "5523445           0                  0            0      0.0                0   \n",
              "\n",
              "         emc_account  debit_card  em_acount  \n",
              "237976             0           0          1  \n",
              "241119             0           0          1  \n",
              "483800             0           0          1  \n",
              "728948             0           0          1  \n",
              "1222917            0           0          1  \n",
              "1474970            0           0          1  \n",
              "1479589            0           0          1  \n",
              "2168048            0           0          1  \n",
              "2171411            0           0          1  \n",
              "2943608            0           0          1  \n",
              "2977155            0           0          1  \n",
              "3628303            0           0          1  \n",
              "3839350            0           0          1  \n",
              "4480550            0           0          1  \n",
              "4876084            0           0          1  \n",
              "5132975            0           0          1  \n",
              "5523445            0           0          1  "
            ],
            "text/html": [
              "\n",
              "  <div id=\"df-c57436d3-d978-4ad1-b0b1-512f7b804667\">\n",
              "    <div class=\"colab-df-container\">\n",
              "      <div>\n",
              "<style scoped>\n",
              "    .dataframe tbody tr th:only-of-type {\n",
              "        vertical-align: middle;\n",
              "    }\n",
              "\n",
              "    .dataframe tbody tr th {\n",
              "        vertical-align: top;\n",
              "    }\n",
              "\n",
              "    .dataframe thead th {\n",
              "        text-align: right;\n",
              "    }\n",
              "</style>\n",
              "<table border=\"1\" class=\"dataframe\">\n",
              "  <thead>\n",
              "    <tr style=\"text-align: right;\">\n",
              "      <th></th>\n",
              "      <th>customer_ID</th>\n",
              "      <th>partition_ID</th>\n",
              "      <th>short_term_deposit</th>\n",
              "      <th>loans</th>\n",
              "      <th>mortgage</th>\n",
              "      <th>funds</th>\n",
              "      <th>securities</th>\n",
              "      <th>long_term_deposit</th>\n",
              "      <th>credit_card</th>\n",
              "      <th>payroll</th>\n",
              "      <th>payroll_account</th>\n",
              "      <th>emc_account</th>\n",
              "      <th>debit_card</th>\n",
              "      <th>em_acount</th>\n",
              "    </tr>\n",
              "  </thead>\n",
              "  <tbody>\n",
              "    <tr>\n",
              "      <th>237976</th>\n",
              "      <td>44012</td>\n",
              "      <td>2018-01-01</td>\n",
              "      <td>0</td>\n",
              "      <td>0</td>\n",
              "      <td>0</td>\n",
              "      <td>0</td>\n",
              "      <td>0</td>\n",
              "      <td>0</td>\n",
              "      <td>0</td>\n",
              "      <td>0.0</td>\n",
              "      <td>0</td>\n",
              "      <td>0</td>\n",
              "      <td>0</td>\n",
              "      <td>1</td>\n",
              "    </tr>\n",
              "    <tr>\n",
              "      <th>241119</th>\n",
              "      <td>44012</td>\n",
              "      <td>2018-02-01</td>\n",
              "      <td>1</td>\n",
              "      <td>0</td>\n",
              "      <td>0</td>\n",
              "      <td>0</td>\n",
              "      <td>0</td>\n",
              "      <td>0</td>\n",
              "      <td>0</td>\n",
              "      <td>0.0</td>\n",
              "      <td>0</td>\n",
              "      <td>0</td>\n",
              "      <td>0</td>\n",
              "      <td>1</td>\n",
              "    </tr>\n",
              "    <tr>\n",
              "      <th>483800</th>\n",
              "      <td>44012</td>\n",
              "      <td>2018-03-01</td>\n",
              "      <td>1</td>\n",
              "      <td>0</td>\n",
              "      <td>0</td>\n",
              "      <td>0</td>\n",
              "      <td>0</td>\n",
              "      <td>0</td>\n",
              "      <td>0</td>\n",
              "      <td>0.0</td>\n",
              "      <td>0</td>\n",
              "      <td>0</td>\n",
              "      <td>0</td>\n",
              "      <td>1</td>\n",
              "    </tr>\n",
              "    <tr>\n",
              "      <th>728948</th>\n",
              "      <td>44012</td>\n",
              "      <td>2018-04-01</td>\n",
              "      <td>1</td>\n",
              "      <td>0</td>\n",
              "      <td>0</td>\n",
              "      <td>0</td>\n",
              "      <td>0</td>\n",
              "      <td>0</td>\n",
              "      <td>0</td>\n",
              "      <td>0.0</td>\n",
              "      <td>0</td>\n",
              "      <td>0</td>\n",
              "      <td>0</td>\n",
              "      <td>1</td>\n",
              "    </tr>\n",
              "    <tr>\n",
              "      <th>1222917</th>\n",
              "      <td>44012</td>\n",
              "      <td>2018-05-01</td>\n",
              "      <td>0</td>\n",
              "      <td>0</td>\n",
              "      <td>0</td>\n",
              "      <td>0</td>\n",
              "      <td>0</td>\n",
              "      <td>0</td>\n",
              "      <td>0</td>\n",
              "      <td>0.0</td>\n",
              "      <td>0</td>\n",
              "      <td>0</td>\n",
              "      <td>0</td>\n",
              "      <td>1</td>\n",
              "    </tr>\n",
              "    <tr>\n",
              "      <th>1474970</th>\n",
              "      <td>44012</td>\n",
              "      <td>2018-06-01</td>\n",
              "      <td>0</td>\n",
              "      <td>0</td>\n",
              "      <td>0</td>\n",
              "      <td>0</td>\n",
              "      <td>0</td>\n",
              "      <td>0</td>\n",
              "      <td>0</td>\n",
              "      <td>0.0</td>\n",
              "      <td>0</td>\n",
              "      <td>0</td>\n",
              "      <td>0</td>\n",
              "      <td>1</td>\n",
              "    </tr>\n",
              "    <tr>\n",
              "      <th>1479589</th>\n",
              "      <td>44012</td>\n",
              "      <td>2018-07-01</td>\n",
              "      <td>0</td>\n",
              "      <td>0</td>\n",
              "      <td>0</td>\n",
              "      <td>0</td>\n",
              "      <td>0</td>\n",
              "      <td>0</td>\n",
              "      <td>0</td>\n",
              "      <td>0.0</td>\n",
              "      <td>0</td>\n",
              "      <td>0</td>\n",
              "      <td>0</td>\n",
              "      <td>1</td>\n",
              "    </tr>\n",
              "    <tr>\n",
              "      <th>2168048</th>\n",
              "      <td>44012</td>\n",
              "      <td>2018-08-01</td>\n",
              "      <td>0</td>\n",
              "      <td>0</td>\n",
              "      <td>0</td>\n",
              "      <td>0</td>\n",
              "      <td>0</td>\n",
              "      <td>0</td>\n",
              "      <td>0</td>\n",
              "      <td>0.0</td>\n",
              "      <td>0</td>\n",
              "      <td>0</td>\n",
              "      <td>0</td>\n",
              "      <td>1</td>\n",
              "    </tr>\n",
              "    <tr>\n",
              "      <th>2171411</th>\n",
              "      <td>44012</td>\n",
              "      <td>2018-09-01</td>\n",
              "      <td>0</td>\n",
              "      <td>0</td>\n",
              "      <td>0</td>\n",
              "      <td>0</td>\n",
              "      <td>0</td>\n",
              "      <td>0</td>\n",
              "      <td>0</td>\n",
              "      <td>0.0</td>\n",
              "      <td>0</td>\n",
              "      <td>0</td>\n",
              "      <td>0</td>\n",
              "      <td>1</td>\n",
              "    </tr>\n",
              "    <tr>\n",
              "      <th>2943608</th>\n",
              "      <td>44012</td>\n",
              "      <td>2018-10-01</td>\n",
              "      <td>0</td>\n",
              "      <td>0</td>\n",
              "      <td>0</td>\n",
              "      <td>0</td>\n",
              "      <td>0</td>\n",
              "      <td>0</td>\n",
              "      <td>0</td>\n",
              "      <td>0.0</td>\n",
              "      <td>0</td>\n",
              "      <td>0</td>\n",
              "      <td>0</td>\n",
              "      <td>1</td>\n",
              "    </tr>\n",
              "    <tr>\n",
              "      <th>2977155</th>\n",
              "      <td>44012</td>\n",
              "      <td>2018-11-01</td>\n",
              "      <td>0</td>\n",
              "      <td>0</td>\n",
              "      <td>0</td>\n",
              "      <td>0</td>\n",
              "      <td>0</td>\n",
              "      <td>0</td>\n",
              "      <td>0</td>\n",
              "      <td>0.0</td>\n",
              "      <td>0</td>\n",
              "      <td>0</td>\n",
              "      <td>0</td>\n",
              "      <td>1</td>\n",
              "    </tr>\n",
              "    <tr>\n",
              "      <th>3628303</th>\n",
              "      <td>44012</td>\n",
              "      <td>2018-12-01</td>\n",
              "      <td>0</td>\n",
              "      <td>0</td>\n",
              "      <td>0</td>\n",
              "      <td>0</td>\n",
              "      <td>0</td>\n",
              "      <td>0</td>\n",
              "      <td>0</td>\n",
              "      <td>0.0</td>\n",
              "      <td>0</td>\n",
              "      <td>0</td>\n",
              "      <td>0</td>\n",
              "      <td>1</td>\n",
              "    </tr>\n",
              "    <tr>\n",
              "      <th>3839350</th>\n",
              "      <td>44012</td>\n",
              "      <td>2019-01-01</td>\n",
              "      <td>0</td>\n",
              "      <td>0</td>\n",
              "      <td>0</td>\n",
              "      <td>0</td>\n",
              "      <td>0</td>\n",
              "      <td>0</td>\n",
              "      <td>0</td>\n",
              "      <td>0.0</td>\n",
              "      <td>0</td>\n",
              "      <td>0</td>\n",
              "      <td>0</td>\n",
              "      <td>1</td>\n",
              "    </tr>\n",
              "    <tr>\n",
              "      <th>4480550</th>\n",
              "      <td>44012</td>\n",
              "      <td>2019-02-01</td>\n",
              "      <td>0</td>\n",
              "      <td>0</td>\n",
              "      <td>0</td>\n",
              "      <td>0</td>\n",
              "      <td>0</td>\n",
              "      <td>0</td>\n",
              "      <td>0</td>\n",
              "      <td>0.0</td>\n",
              "      <td>0</td>\n",
              "      <td>0</td>\n",
              "      <td>0</td>\n",
              "      <td>1</td>\n",
              "    </tr>\n",
              "    <tr>\n",
              "      <th>4876084</th>\n",
              "      <td>44012</td>\n",
              "      <td>2019-03-01</td>\n",
              "      <td>0</td>\n",
              "      <td>0</td>\n",
              "      <td>0</td>\n",
              "      <td>0</td>\n",
              "      <td>0</td>\n",
              "      <td>0</td>\n",
              "      <td>0</td>\n",
              "      <td>0.0</td>\n",
              "      <td>0</td>\n",
              "      <td>0</td>\n",
              "      <td>0</td>\n",
              "      <td>1</td>\n",
              "    </tr>\n",
              "    <tr>\n",
              "      <th>5132975</th>\n",
              "      <td>44012</td>\n",
              "      <td>2019-04-01</td>\n",
              "      <td>0</td>\n",
              "      <td>0</td>\n",
              "      <td>0</td>\n",
              "      <td>0</td>\n",
              "      <td>0</td>\n",
              "      <td>0</td>\n",
              "      <td>0</td>\n",
              "      <td>0.0</td>\n",
              "      <td>0</td>\n",
              "      <td>0</td>\n",
              "      <td>0</td>\n",
              "      <td>1</td>\n",
              "    </tr>\n",
              "    <tr>\n",
              "      <th>5523445</th>\n",
              "      <td>44012</td>\n",
              "      <td>2019-05-01</td>\n",
              "      <td>0</td>\n",
              "      <td>0</td>\n",
              "      <td>0</td>\n",
              "      <td>0</td>\n",
              "      <td>0</td>\n",
              "      <td>0</td>\n",
              "      <td>0</td>\n",
              "      <td>0.0</td>\n",
              "      <td>0</td>\n",
              "      <td>0</td>\n",
              "      <td>0</td>\n",
              "      <td>1</td>\n",
              "    </tr>\n",
              "  </tbody>\n",
              "</table>\n",
              "</div>\n",
              "      <button class=\"colab-df-convert\" onclick=\"convertToInteractive('df-c57436d3-d978-4ad1-b0b1-512f7b804667')\"\n",
              "              title=\"Convert this dataframe to an interactive table.\"\n",
              "              style=\"display:none;\">\n",
              "        \n",
              "  <svg xmlns=\"http://www.w3.org/2000/svg\" height=\"24px\"viewBox=\"0 0 24 24\"\n",
              "       width=\"24px\">\n",
              "    <path d=\"M0 0h24v24H0V0z\" fill=\"none\"/>\n",
              "    <path d=\"M18.56 5.44l.94 2.06.94-2.06 2.06-.94-2.06-.94-.94-2.06-.94 2.06-2.06.94zm-11 1L8.5 8.5l.94-2.06 2.06-.94-2.06-.94L8.5 2.5l-.94 2.06-2.06.94zm10 10l.94 2.06.94-2.06 2.06-.94-2.06-.94-.94-2.06-.94 2.06-2.06.94z\"/><path d=\"M17.41 7.96l-1.37-1.37c-.4-.4-.92-.59-1.43-.59-.52 0-1.04.2-1.43.59L10.3 9.45l-7.72 7.72c-.78.78-.78 2.05 0 2.83L4 21.41c.39.39.9.59 1.41.59.51 0 1.02-.2 1.41-.59l7.78-7.78 2.81-2.81c.8-.78.8-2.07 0-2.86zM5.41 20L4 18.59l7.72-7.72 1.47 1.35L5.41 20z\"/>\n",
              "  </svg>\n",
              "      </button>\n",
              "      \n",
              "  <style>\n",
              "    .colab-df-container {\n",
              "      display:flex;\n",
              "      flex-wrap:wrap;\n",
              "      gap: 12px;\n",
              "    }\n",
              "\n",
              "    .colab-df-convert {\n",
              "      background-color: #E8F0FE;\n",
              "      border: none;\n",
              "      border-radius: 50%;\n",
              "      cursor: pointer;\n",
              "      display: none;\n",
              "      fill: #1967D2;\n",
              "      height: 32px;\n",
              "      padding: 0 0 0 0;\n",
              "      width: 32px;\n",
              "    }\n",
              "\n",
              "    .colab-df-convert:hover {\n",
              "      background-color: #E2EBFA;\n",
              "      box-shadow: 0px 1px 2px rgba(60, 64, 67, 0.3), 0px 1px 3px 1px rgba(60, 64, 67, 0.15);\n",
              "      fill: #174EA6;\n",
              "    }\n",
              "\n",
              "    [theme=dark] .colab-df-convert {\n",
              "      background-color: #3B4455;\n",
              "      fill: #D2E3FC;\n",
              "    }\n",
              "\n",
              "    [theme=dark] .colab-df-convert:hover {\n",
              "      background-color: #434B5C;\n",
              "      box-shadow: 0px 1px 3px 1px rgba(0, 0, 0, 0.15);\n",
              "      filter: drop-shadow(0px 1px 2px rgba(0, 0, 0, 0.3));\n",
              "      fill: #FFFFFF;\n",
              "    }\n",
              "  </style>\n",
              "\n",
              "      <script>\n",
              "        const buttonEl =\n",
              "          document.querySelector('#df-c57436d3-d978-4ad1-b0b1-512f7b804667 button.colab-df-convert');\n",
              "        buttonEl.style.display =\n",
              "          google.colab.kernel.accessAllowed ? 'block' : 'none';\n",
              "\n",
              "        async function convertToInteractive(key) {\n",
              "          const element = document.querySelector('#df-c57436d3-d978-4ad1-b0b1-512f7b804667');\n",
              "          const dataTable =\n",
              "            await google.colab.kernel.invokeFunction('convertToInteractive',\n",
              "                                                     [key], {});\n",
              "          if (!dataTable) return;\n",
              "\n",
              "          const docLinkHtml = 'Like what you see? Visit the ' +\n",
              "            '<a target=\"_blank\" href=https://colab.research.google.com/notebooks/data_table.ipynb>data table notebook</a>'\n",
              "            + ' to learn more about interactive tables.';\n",
              "          element.innerHTML = '';\n",
              "          dataTable['output_type'] = 'display_data';\n",
              "          await google.colab.output.renderOutput(dataTable, element);\n",
              "          const docLink = document.createElement('div');\n",
              "          docLink.innerHTML = docLinkHtml;\n",
              "          element.appendChild(docLink);\n",
              "        }\n",
              "      </script>\n",
              "    </div>\n",
              "  </div>\n",
              "  "
            ]
          },
          "metadata": {},
          "execution_count": 73
        }
      ]
    },
    {
      "cell_type": "code",
      "source": [
        "# Todas las ventas no están en enero 2018, empiezan en febrero\n",
        "df_sales2[df_sales2[\"product_ID\"]== 4657].sort_values(by = \"month_sale\")"
      ],
      "metadata": {
        "id": "_CxXgDMHinuq",
        "outputId": "6a7d4b19-f9f7-41a8-c51a-c98cc978c36d",
        "colab": {
          "base_uri": "https://localhost:8080/",
          "height": 424
        }
      },
      "execution_count": null,
      "outputs": [
        {
          "output_type": "execute_result",
          "data": {
            "text/plain": [
              "        customer_ID month_sale product_ID  net_margin  month_sales  \\\n",
              "213273      1497213 2018-11-01       4657        26.7           11   \n",
              "144407      1394516 2018-04-01       4657        31.1            4   \n",
              "204952      1483485 2018-10-01       4657        31.4           10   \n",
              "138672      1383713 2018-02-01       4657        31.4            2   \n",
              "202024      1478462 2018-10-01       4657        32.2           10   \n",
              "...             ...        ...        ...         ...          ...   \n",
              "144356      1394432 2018-05-01       4657       110.0            5   \n",
              "141343      1388772 2018-11-01       4657       110.8           11   \n",
              "203490      1480686 2018-10-01       4657       111.5           10   \n",
              "130070      1231533 2018-08-01       4657       113.5            8   \n",
              "183589      1451701 2018-09-01       4657       115.5            9   \n",
              "\n",
              "        year_sales  dias_ultima_compra  \n",
              "213273        2018               181.0  \n",
              "144407        2018               395.0  \n",
              "204952        2018               212.0  \n",
              "138672        2018               454.0  \n",
              "202024        2018               212.0  \n",
              "...            ...                 ...  \n",
              "144356        2018               365.0  \n",
              "141343        2018               181.0  \n",
              "203490        2018               212.0  \n",
              "130070        2018               273.0  \n",
              "183589        2018               242.0  \n",
              "\n",
              "[117435 rows x 7 columns]"
            ],
            "text/html": [
              "\n",
              "  <div id=\"df-9291258e-91ff-4657-b5aa-4c949d91c94d\">\n",
              "    <div class=\"colab-df-container\">\n",
              "      <div>\n",
              "<style scoped>\n",
              "    .dataframe tbody tr th:only-of-type {\n",
              "        vertical-align: middle;\n",
              "    }\n",
              "\n",
              "    .dataframe tbody tr th {\n",
              "        vertical-align: top;\n",
              "    }\n",
              "\n",
              "    .dataframe thead th {\n",
              "        text-align: right;\n",
              "    }\n",
              "</style>\n",
              "<table border=\"1\" class=\"dataframe\">\n",
              "  <thead>\n",
              "    <tr style=\"text-align: right;\">\n",
              "      <th></th>\n",
              "      <th>customer_ID</th>\n",
              "      <th>month_sale</th>\n",
              "      <th>product_ID</th>\n",
              "      <th>net_margin</th>\n",
              "      <th>month_sales</th>\n",
              "      <th>year_sales</th>\n",
              "      <th>dias_ultima_compra</th>\n",
              "    </tr>\n",
              "  </thead>\n",
              "  <tbody>\n",
              "    <tr>\n",
              "      <th>213273</th>\n",
              "      <td>1497213</td>\n",
              "      <td>2018-11-01</td>\n",
              "      <td>4657</td>\n",
              "      <td>26.7</td>\n",
              "      <td>11</td>\n",
              "      <td>2018</td>\n",
              "      <td>181.0</td>\n",
              "    </tr>\n",
              "    <tr>\n",
              "      <th>144407</th>\n",
              "      <td>1394516</td>\n",
              "      <td>2018-04-01</td>\n",
              "      <td>4657</td>\n",
              "      <td>31.1</td>\n",
              "      <td>4</td>\n",
              "      <td>2018</td>\n",
              "      <td>395.0</td>\n",
              "    </tr>\n",
              "    <tr>\n",
              "      <th>204952</th>\n",
              "      <td>1483485</td>\n",
              "      <td>2018-10-01</td>\n",
              "      <td>4657</td>\n",
              "      <td>31.4</td>\n",
              "      <td>10</td>\n",
              "      <td>2018</td>\n",
              "      <td>212.0</td>\n",
              "    </tr>\n",
              "    <tr>\n",
              "      <th>138672</th>\n",
              "      <td>1383713</td>\n",
              "      <td>2018-02-01</td>\n",
              "      <td>4657</td>\n",
              "      <td>31.4</td>\n",
              "      <td>2</td>\n",
              "      <td>2018</td>\n",
              "      <td>454.0</td>\n",
              "    </tr>\n",
              "    <tr>\n",
              "      <th>202024</th>\n",
              "      <td>1478462</td>\n",
              "      <td>2018-10-01</td>\n",
              "      <td>4657</td>\n",
              "      <td>32.2</td>\n",
              "      <td>10</td>\n",
              "      <td>2018</td>\n",
              "      <td>212.0</td>\n",
              "    </tr>\n",
              "    <tr>\n",
              "      <th>...</th>\n",
              "      <td>...</td>\n",
              "      <td>...</td>\n",
              "      <td>...</td>\n",
              "      <td>...</td>\n",
              "      <td>...</td>\n",
              "      <td>...</td>\n",
              "      <td>...</td>\n",
              "    </tr>\n",
              "    <tr>\n",
              "      <th>144356</th>\n",
              "      <td>1394432</td>\n",
              "      <td>2018-05-01</td>\n",
              "      <td>4657</td>\n",
              "      <td>110.0</td>\n",
              "      <td>5</td>\n",
              "      <td>2018</td>\n",
              "      <td>365.0</td>\n",
              "    </tr>\n",
              "    <tr>\n",
              "      <th>141343</th>\n",
              "      <td>1388772</td>\n",
              "      <td>2018-11-01</td>\n",
              "      <td>4657</td>\n",
              "      <td>110.8</td>\n",
              "      <td>11</td>\n",
              "      <td>2018</td>\n",
              "      <td>181.0</td>\n",
              "    </tr>\n",
              "    <tr>\n",
              "      <th>203490</th>\n",
              "      <td>1480686</td>\n",
              "      <td>2018-10-01</td>\n",
              "      <td>4657</td>\n",
              "      <td>111.5</td>\n",
              "      <td>10</td>\n",
              "      <td>2018</td>\n",
              "      <td>212.0</td>\n",
              "    </tr>\n",
              "    <tr>\n",
              "      <th>130070</th>\n",
              "      <td>1231533</td>\n",
              "      <td>2018-08-01</td>\n",
              "      <td>4657</td>\n",
              "      <td>113.5</td>\n",
              "      <td>8</td>\n",
              "      <td>2018</td>\n",
              "      <td>273.0</td>\n",
              "    </tr>\n",
              "    <tr>\n",
              "      <th>183589</th>\n",
              "      <td>1451701</td>\n",
              "      <td>2018-09-01</td>\n",
              "      <td>4657</td>\n",
              "      <td>115.5</td>\n",
              "      <td>9</td>\n",
              "      <td>2018</td>\n",
              "      <td>242.0</td>\n",
              "    </tr>\n",
              "  </tbody>\n",
              "</table>\n",
              "<p>117435 rows × 7 columns</p>\n",
              "</div>\n",
              "      <button class=\"colab-df-convert\" onclick=\"convertToInteractive('df-9291258e-91ff-4657-b5aa-4c949d91c94d')\"\n",
              "              title=\"Convert this dataframe to an interactive table.\"\n",
              "              style=\"display:none;\">\n",
              "        \n",
              "  <svg xmlns=\"http://www.w3.org/2000/svg\" height=\"24px\"viewBox=\"0 0 24 24\"\n",
              "       width=\"24px\">\n",
              "    <path d=\"M0 0h24v24H0V0z\" fill=\"none\"/>\n",
              "    <path d=\"M18.56 5.44l.94 2.06.94-2.06 2.06-.94-2.06-.94-.94-2.06-.94 2.06-2.06.94zm-11 1L8.5 8.5l.94-2.06 2.06-.94-2.06-.94L8.5 2.5l-.94 2.06-2.06.94zm10 10l.94 2.06.94-2.06 2.06-.94-2.06-.94-.94-2.06-.94 2.06-2.06.94z\"/><path d=\"M17.41 7.96l-1.37-1.37c-.4-.4-.92-.59-1.43-.59-.52 0-1.04.2-1.43.59L10.3 9.45l-7.72 7.72c-.78.78-.78 2.05 0 2.83L4 21.41c.39.39.9.59 1.41.59.51 0 1.02-.2 1.41-.59l7.78-7.78 2.81-2.81c.8-.78.8-2.07 0-2.86zM5.41 20L4 18.59l7.72-7.72 1.47 1.35L5.41 20z\"/>\n",
              "  </svg>\n",
              "      </button>\n",
              "      \n",
              "  <style>\n",
              "    .colab-df-container {\n",
              "      display:flex;\n",
              "      flex-wrap:wrap;\n",
              "      gap: 12px;\n",
              "    }\n",
              "\n",
              "    .colab-df-convert {\n",
              "      background-color: #E8F0FE;\n",
              "      border: none;\n",
              "      border-radius: 50%;\n",
              "      cursor: pointer;\n",
              "      display: none;\n",
              "      fill: #1967D2;\n",
              "      height: 32px;\n",
              "      padding: 0 0 0 0;\n",
              "      width: 32px;\n",
              "    }\n",
              "\n",
              "    .colab-df-convert:hover {\n",
              "      background-color: #E2EBFA;\n",
              "      box-shadow: 0px 1px 2px rgba(60, 64, 67, 0.3), 0px 1px 3px 1px rgba(60, 64, 67, 0.15);\n",
              "      fill: #174EA6;\n",
              "    }\n",
              "\n",
              "    [theme=dark] .colab-df-convert {\n",
              "      background-color: #3B4455;\n",
              "      fill: #D2E3FC;\n",
              "    }\n",
              "\n",
              "    [theme=dark] .colab-df-convert:hover {\n",
              "      background-color: #434B5C;\n",
              "      box-shadow: 0px 1px 3px 1px rgba(0, 0, 0, 0.15);\n",
              "      filter: drop-shadow(0px 1px 2px rgba(0, 0, 0, 0.3));\n",
              "      fill: #FFFFFF;\n",
              "    }\n",
              "  </style>\n",
              "\n",
              "      <script>\n",
              "        const buttonEl =\n",
              "          document.querySelector('#df-9291258e-91ff-4657-b5aa-4c949d91c94d button.colab-df-convert');\n",
              "        buttonEl.style.display =\n",
              "          google.colab.kernel.accessAllowed ? 'block' : 'none';\n",
              "\n",
              "        async function convertToInteractive(key) {\n",
              "          const element = document.querySelector('#df-9291258e-91ff-4657-b5aa-4c949d91c94d');\n",
              "          const dataTable =\n",
              "            await google.colab.kernel.invokeFunction('convertToInteractive',\n",
              "                                                     [key], {});\n",
              "          if (!dataTable) return;\n",
              "\n",
              "          const docLinkHtml = 'Like what you see? Visit the ' +\n",
              "            '<a target=\"_blank\" href=https://colab.research.google.com/notebooks/data_table.ipynb>data table notebook</a>'\n",
              "            + ' to learn more about interactive tables.';\n",
              "          element.innerHTML = '';\n",
              "          dataTable['output_type'] = 'display_data';\n",
              "          await google.colab.output.renderOutput(dataTable, element);\n",
              "          const docLink = document.createElement('div');\n",
              "          docLink.innerHTML = docLinkHtml;\n",
              "          element.appendChild(docLink);\n",
              "        }\n",
              "      </script>\n",
              "    </div>\n",
              "  </div>\n",
              "  "
            ]
          },
          "metadata": {},
          "execution_count": 83
        }
      ]
    },
    {
      "cell_type": "code",
      "source": [
        "df_sales2.sort_values(by = \"month_sale\")"
      ],
      "metadata": {
        "id": "g-lFwKLTjvRc",
        "outputId": "311289fb-206b-41ee-b542-4325ad6c457b",
        "colab": {
          "base_uri": "https://localhost:8080/",
          "height": 424
        }
      },
      "execution_count": null,
      "outputs": [
        {
          "output_type": "execute_result",
          "data": {
            "text/plain": [
              "        customer_ID month_sale product_ID  net_margin  month_sales  \\\n",
              "134089      1341608 2018-02-01       4657        65.8            2   \n",
              "18076       1080550 2018-02-01       2234        64.2            2   \n",
              "72810       1011837 2018-02-01       8871       108.7            2   \n",
              "72798       1010848 2018-02-01       8871        70.4            2   \n",
              "35681       1025040 2018-02-01       1364      3502.6            2   \n",
              "...             ...        ...        ...         ...          ...   \n",
              "53873       1542780 2019-05-01       1364      6396.5            5   \n",
              "53871       1542720 2019-05-01       1364      8807.7            5   \n",
              "53870       1542695 2019-05-01       1364      7629.4            5   \n",
              "53868       1542673 2019-05-01       1364      5319.0            5   \n",
              "240772      1553571 2019-05-01       4657        84.4            5   \n",
              "\n",
              "        year_sales  dias_ultima_compra  \n",
              "134089        2018               454.0  \n",
              "18076         2018               454.0  \n",
              "72810         2018               454.0  \n",
              "72798         2018               454.0  \n",
              "35681         2018               454.0  \n",
              "...            ...                 ...  \n",
              "53873         2019                 0.0  \n",
              "53871         2019                 0.0  \n",
              "53870         2019                 0.0  \n",
              "53868         2019                 0.0  \n",
              "240772        2019                 0.0  \n",
              "\n",
              "[240773 rows x 7 columns]"
            ],
            "text/html": [
              "\n",
              "  <div id=\"df-5b4e6361-91e3-4fa8-8d66-04187319aad6\">\n",
              "    <div class=\"colab-df-container\">\n",
              "      <div>\n",
              "<style scoped>\n",
              "    .dataframe tbody tr th:only-of-type {\n",
              "        vertical-align: middle;\n",
              "    }\n",
              "\n",
              "    .dataframe tbody tr th {\n",
              "        vertical-align: top;\n",
              "    }\n",
              "\n",
              "    .dataframe thead th {\n",
              "        text-align: right;\n",
              "    }\n",
              "</style>\n",
              "<table border=\"1\" class=\"dataframe\">\n",
              "  <thead>\n",
              "    <tr style=\"text-align: right;\">\n",
              "      <th></th>\n",
              "      <th>customer_ID</th>\n",
              "      <th>month_sale</th>\n",
              "      <th>product_ID</th>\n",
              "      <th>net_margin</th>\n",
              "      <th>month_sales</th>\n",
              "      <th>year_sales</th>\n",
              "      <th>dias_ultima_compra</th>\n",
              "    </tr>\n",
              "  </thead>\n",
              "  <tbody>\n",
              "    <tr>\n",
              "      <th>134089</th>\n",
              "      <td>1341608</td>\n",
              "      <td>2018-02-01</td>\n",
              "      <td>4657</td>\n",
              "      <td>65.8</td>\n",
              "      <td>2</td>\n",
              "      <td>2018</td>\n",
              "      <td>454.0</td>\n",
              "    </tr>\n",
              "    <tr>\n",
              "      <th>18076</th>\n",
              "      <td>1080550</td>\n",
              "      <td>2018-02-01</td>\n",
              "      <td>2234</td>\n",
              "      <td>64.2</td>\n",
              "      <td>2</td>\n",
              "      <td>2018</td>\n",
              "      <td>454.0</td>\n",
              "    </tr>\n",
              "    <tr>\n",
              "      <th>72810</th>\n",
              "      <td>1011837</td>\n",
              "      <td>2018-02-01</td>\n",
              "      <td>8871</td>\n",
              "      <td>108.7</td>\n",
              "      <td>2</td>\n",
              "      <td>2018</td>\n",
              "      <td>454.0</td>\n",
              "    </tr>\n",
              "    <tr>\n",
              "      <th>72798</th>\n",
              "      <td>1010848</td>\n",
              "      <td>2018-02-01</td>\n",
              "      <td>8871</td>\n",
              "      <td>70.4</td>\n",
              "      <td>2</td>\n",
              "      <td>2018</td>\n",
              "      <td>454.0</td>\n",
              "    </tr>\n",
              "    <tr>\n",
              "      <th>35681</th>\n",
              "      <td>1025040</td>\n",
              "      <td>2018-02-01</td>\n",
              "      <td>1364</td>\n",
              "      <td>3502.6</td>\n",
              "      <td>2</td>\n",
              "      <td>2018</td>\n",
              "      <td>454.0</td>\n",
              "    </tr>\n",
              "    <tr>\n",
              "      <th>...</th>\n",
              "      <td>...</td>\n",
              "      <td>...</td>\n",
              "      <td>...</td>\n",
              "      <td>...</td>\n",
              "      <td>...</td>\n",
              "      <td>...</td>\n",
              "      <td>...</td>\n",
              "    </tr>\n",
              "    <tr>\n",
              "      <th>53873</th>\n",
              "      <td>1542780</td>\n",
              "      <td>2019-05-01</td>\n",
              "      <td>1364</td>\n",
              "      <td>6396.5</td>\n",
              "      <td>5</td>\n",
              "      <td>2019</td>\n",
              "      <td>0.0</td>\n",
              "    </tr>\n",
              "    <tr>\n",
              "      <th>53871</th>\n",
              "      <td>1542720</td>\n",
              "      <td>2019-05-01</td>\n",
              "      <td>1364</td>\n",
              "      <td>8807.7</td>\n",
              "      <td>5</td>\n",
              "      <td>2019</td>\n",
              "      <td>0.0</td>\n",
              "    </tr>\n",
              "    <tr>\n",
              "      <th>53870</th>\n",
              "      <td>1542695</td>\n",
              "      <td>2019-05-01</td>\n",
              "      <td>1364</td>\n",
              "      <td>7629.4</td>\n",
              "      <td>5</td>\n",
              "      <td>2019</td>\n",
              "      <td>0.0</td>\n",
              "    </tr>\n",
              "    <tr>\n",
              "      <th>53868</th>\n",
              "      <td>1542673</td>\n",
              "      <td>2019-05-01</td>\n",
              "      <td>1364</td>\n",
              "      <td>5319.0</td>\n",
              "      <td>5</td>\n",
              "      <td>2019</td>\n",
              "      <td>0.0</td>\n",
              "    </tr>\n",
              "    <tr>\n",
              "      <th>240772</th>\n",
              "      <td>1553571</td>\n",
              "      <td>2019-05-01</td>\n",
              "      <td>4657</td>\n",
              "      <td>84.4</td>\n",
              "      <td>5</td>\n",
              "      <td>2019</td>\n",
              "      <td>0.0</td>\n",
              "    </tr>\n",
              "  </tbody>\n",
              "</table>\n",
              "<p>240773 rows × 7 columns</p>\n",
              "</div>\n",
              "      <button class=\"colab-df-convert\" onclick=\"convertToInteractive('df-5b4e6361-91e3-4fa8-8d66-04187319aad6')\"\n",
              "              title=\"Convert this dataframe to an interactive table.\"\n",
              "              style=\"display:none;\">\n",
              "        \n",
              "  <svg xmlns=\"http://www.w3.org/2000/svg\" height=\"24px\"viewBox=\"0 0 24 24\"\n",
              "       width=\"24px\">\n",
              "    <path d=\"M0 0h24v24H0V0z\" fill=\"none\"/>\n",
              "    <path d=\"M18.56 5.44l.94 2.06.94-2.06 2.06-.94-2.06-.94-.94-2.06-.94 2.06-2.06.94zm-11 1L8.5 8.5l.94-2.06 2.06-.94-2.06-.94L8.5 2.5l-.94 2.06-2.06.94zm10 10l.94 2.06.94-2.06 2.06-.94-2.06-.94-.94-2.06-.94 2.06-2.06.94z\"/><path d=\"M17.41 7.96l-1.37-1.37c-.4-.4-.92-.59-1.43-.59-.52 0-1.04.2-1.43.59L10.3 9.45l-7.72 7.72c-.78.78-.78 2.05 0 2.83L4 21.41c.39.39.9.59 1.41.59.51 0 1.02-.2 1.41-.59l7.78-7.78 2.81-2.81c.8-.78.8-2.07 0-2.86zM5.41 20L4 18.59l7.72-7.72 1.47 1.35L5.41 20z\"/>\n",
              "  </svg>\n",
              "      </button>\n",
              "      \n",
              "  <style>\n",
              "    .colab-df-container {\n",
              "      display:flex;\n",
              "      flex-wrap:wrap;\n",
              "      gap: 12px;\n",
              "    }\n",
              "\n",
              "    .colab-df-convert {\n",
              "      background-color: #E8F0FE;\n",
              "      border: none;\n",
              "      border-radius: 50%;\n",
              "      cursor: pointer;\n",
              "      display: none;\n",
              "      fill: #1967D2;\n",
              "      height: 32px;\n",
              "      padding: 0 0 0 0;\n",
              "      width: 32px;\n",
              "    }\n",
              "\n",
              "    .colab-df-convert:hover {\n",
              "      background-color: #E2EBFA;\n",
              "      box-shadow: 0px 1px 2px rgba(60, 64, 67, 0.3), 0px 1px 3px 1px rgba(60, 64, 67, 0.15);\n",
              "      fill: #174EA6;\n",
              "    }\n",
              "\n",
              "    [theme=dark] .colab-df-convert {\n",
              "      background-color: #3B4455;\n",
              "      fill: #D2E3FC;\n",
              "    }\n",
              "\n",
              "    [theme=dark] .colab-df-convert:hover {\n",
              "      background-color: #434B5C;\n",
              "      box-shadow: 0px 1px 3px 1px rgba(0, 0, 0, 0.15);\n",
              "      filter: drop-shadow(0px 1px 2px rgba(0, 0, 0, 0.3));\n",
              "      fill: #FFFFFF;\n",
              "    }\n",
              "  </style>\n",
              "\n",
              "      <script>\n",
              "        const buttonEl =\n",
              "          document.querySelector('#df-5b4e6361-91e3-4fa8-8d66-04187319aad6 button.colab-df-convert');\n",
              "        buttonEl.style.display =\n",
              "          google.colab.kernel.accessAllowed ? 'block' : 'none';\n",
              "\n",
              "        async function convertToInteractive(key) {\n",
              "          const element = document.querySelector('#df-5b4e6361-91e3-4fa8-8d66-04187319aad6');\n",
              "          const dataTable =\n",
              "            await google.colab.kernel.invokeFunction('convertToInteractive',\n",
              "                                                     [key], {});\n",
              "          if (!dataTable) return;\n",
              "\n",
              "          const docLinkHtml = 'Like what you see? Visit the ' +\n",
              "            '<a target=\"_blank\" href=https://colab.research.google.com/notebooks/data_table.ipynb>data table notebook</a>'\n",
              "            + ' to learn more about interactive tables.';\n",
              "          element.innerHTML = '';\n",
              "          dataTable['output_type'] = 'display_data';\n",
              "          await google.colab.output.renderOutput(dataTable, element);\n",
              "          const docLink = document.createElement('div');\n",
              "          docLink.innerHTML = docLinkHtml;\n",
              "          element.appendChild(docLink);\n",
              "        }\n",
              "      </script>\n",
              "    </div>\n",
              "  </div>\n",
              "  "
            ]
          },
          "metadata": {},
          "execution_count": 79
        }
      ]
    },
    {
      "cell_type": "code",
      "source": [
        "# Hay 239.493 ventas previas que no están en sales\n",
        "df_cust_prod1[df_cust_prod1[\"partition_ID\"]== \"2018-01-01\"].shape"
      ],
      "metadata": {
        "id": "YivalPZrjOmw",
        "outputId": "64072e69-2d70-443b-e8f0-e7f26e2ccc9d",
        "colab": {
          "base_uri": "https://localhost:8080/"
        }
      },
      "execution_count": null,
      "outputs": [
        {
          "output_type": "execute_result",
          "data": {
            "text/plain": [
              "(239493, 14)"
            ]
          },
          "metadata": {},
          "execution_count": 82
        }
      ]
    },
    {
      "cell_type": "markdown",
      "source": [
        "# 4 .- Clustering"
      ],
      "metadata": {
        "id": "MWE1VnRz_hCr"
      }
    },
    {
      "cell_type": "markdown",
      "source": [
        "ID de cliente en index\n",
        "Edad, peso, altura, nómina...\n",
        "> Normalizar valores. Probar con min max scaler, standardscaler, robustscaler(si hay outliers) o logaritmica si necesitamoss una distr normal"
      ],
      "metadata": {
        "id": "CwsS4kuSCTQs"
      }
    },
    {
      "cell_type": "markdown",
      "source": [
        "- **RECENCIA**  \n",
        " - Días desde la última compra.\n",
        " - Días desde la primera y última compra\n",
        "- **FRECUENCIA**\n",
        " - Número de productos\n",
        "- **MONETARIA**\n",
        " - Total facturación\n",
        " - Pedido medio"
      ],
      "metadata": {
        "id": "9Pz5jIQ5G4KU"
      }
    },
    {
      "cell_type": "code",
      "source": [
        "from sklearn.pipeline import Pipeline\n",
        "from sklearn.preprocessing import MinMaxScaler\n",
        "from sklearn.preprocessing import RobustScaler\n",
        "from sklearn.cluster import KMeans\n",
        "\n",
        "\n",
        "# Escalar/Normalizar dataset\n",
        "pipe = Pipeline(\n",
        "    steps = [\n",
        "        (\"Scaler\", MinMaxScaler()),\n",
        "    ]\n",
        ")\n",
        "\n",
        "# Probar con >>  (\"RobustScaler\", RobustScaler(quantile_range =(0,99.0)))\n",
        "# Probar a imputar nulos con >>  (\"Imputer\", KNNImputer())"
      ],
      "metadata": {
        "id": "YpO2DhlX7nIv"
      },
      "execution_count": 98,
      "outputs": []
    },
    {
      "cell_type": "code",
      "source": [
        "df_scaled_transformed = pipe.fit_transform(df_cluster)"
      ],
      "metadata": {
        "id": "CNFM-EhrHFkz"
      },
      "execution_count": 99,
      "outputs": []
    },
    {
      "cell_type": "code",
      "source": [
        " sse = {}\n",
        "\n",
        " for k in range(2,15):\n",
        "  print(f\"Fitting pipe with {k} clusters\")\n",
        "\n",
        "  clustering_model = KMeans(n_clusters = k, n_init=10)\n",
        "  clustering_model.fit(df_scaled_transformed)\n",
        "\n",
        "  sse[k] = clustering_model.inertia_"
      ],
      "metadata": {
        "id": "GCq-MdE4Ho7B",
        "outputId": "6c844021-c777-4219-deaf-e8b85bb3fba0",
        "colab": {
          "base_uri": "https://localhost:8080/"
        }
      },
      "execution_count": 100,
      "outputs": [
        {
          "output_type": "stream",
          "name": "stdout",
          "text": [
            "Fitting pipe with 2 clusters\n",
            "Fitting pipe with 3 clusters\n",
            "Fitting pipe with 4 clusters\n",
            "Fitting pipe with 5 clusters\n",
            "Fitting pipe with 6 clusters\n",
            "Fitting pipe with 7 clusters\n",
            "Fitting pipe with 8 clusters\n",
            "Fitting pipe with 9 clusters\n",
            "Fitting pipe with 10 clusters\n",
            "Fitting pipe with 11 clusters\n",
            "Fitting pipe with 12 clusters\n",
            "Fitting pipe with 13 clusters\n",
            "Fitting pipe with 14 clusters\n"
          ]
        }
      ]
    },
    {
      "cell_type": "code",
      "source": [
        "fig = plt.figure(figsize = (16,8))\n",
        "ax = fig.add_subplot()\n",
        "\n",
        "x_values = list(sse.keys())\n",
        "y_values = list(sse.values())\n",
        "\n",
        "ax.plot(x_values, y_values, label = \"Inertia/dispersión de los clústers\")\n",
        "\n",
        "# Buscamos en número de clusters donde se produce el mayor cambio de pendiente \"elbow curve\" = 4 o 5"
      ],
      "metadata": {
        "id": "kDC9izXWJHuy",
        "outputId": "7c6cdd81-3a66-4a5a-cea3-d970ec18db0c",
        "colab": {
          "base_uri": "https://localhost:8080/",
          "height": 693
        }
      },
      "execution_count": 101,
      "outputs": [
        {
          "output_type": "execute_result",
          "data": {
            "text/plain": [
              "[<matplotlib.lines.Line2D at 0x7fc9dd5f9210>]"
            ]
          },
          "metadata": {},
          "execution_count": 101
        },
        {
          "output_type": "display_data",
          "data": {
            "text/plain": [
              "<Figure size 1600x800 with 1 Axes>"
            ],
            "image/png": "[encoded data removed]"
          },
          "metadata": {}
        }
      ]
    },
    {
      "cell_type": "code",
      "source": [
        "pipe = Pipeline(\n",
        "    steps = [\n",
        "        (\"Scaler\", MinMaxScaler()),\n",
        "        (\"Clustering\", KMeans(n_clusters = 4, n_init=10, random_state = 42))\n",
        "    ]\n",
        ")"
      ],
      "metadata": {
        "id": "mmOsL5rNKD5q"
      },
      "execution_count": 102,
      "outputs": []
    },
    {
      "cell_type": "code",
      "source": [
        "pipe.fit(df_cluster)"
      ],
      "metadata": {
        "id": "YXyQwDEXKPG3",
        "outputId": "9eed5767-86da-4c98-ee09-5817faa135af",
        "colab": {
          "base_uri": "https://localhost:8080/",
          "height": 126
        }
      },
      "execution_count": 103,
      "outputs": [
        {
          "output_type": "execute_result",
          "data": {
            "text/plain": [
              "Pipeline(steps=[('Scaler', MinMaxScaler()),\n",
              "                ('Clustering',\n",
              "                 KMeans(n_clusters=4, n_init=10, random_state=42))])"
            ],
            "text/html": [
              "<style>#sk-container-id-1 {color: black;background-color: white;}#sk-container-id-1 pre{padding: 0;}#sk-container-id-1 div.sk-toggleable {background-color: white;}#sk-container-id-1 label.sk-toggleable__label {cursor: pointer;display: block;width: 100%;margin-bottom: 0;padding: 0.3em;box-sizing: border-box;text-align: center;}#sk-container-id-1 label.sk-toggleable__label-arrow:before {content: \"▸\";float: left;margin-right: 0.25em;color: #696969;}#sk-container-id-1 label.sk-toggleable__label-arrow:hover:before {color: black;}#sk-container-id-1 div.sk-estimator:hover label.sk-toggleable__label-arrow:before {color: black;}#sk-container-id-1 div.sk-toggleable__content {max-height: 0;max-width: 0;overflow: hidden;text-align: left;background-color: #f0f8ff;}#sk-container-id-1 div.sk-toggleable__content pre {margin: 0.2em;color: black;border-radius: 0.25em;background-color: #f0f8ff;}#sk-container-id-1 input.sk-toggleable__control:checked~div.sk-toggleable__content {max-height: 200px;max-width: 100%;overflow: auto;}#sk-container-id-1 input.sk-toggleable__control:checked~label.sk-toggleable__label-arrow:before {content: \"▾\";}#sk-container-id-1 div.sk-estimator input.sk-toggleable__control:checked~label.sk-toggleable__label {background-color: #d4ebff;}#sk-container-id-1 div.sk-label input.sk-toggleable__control:checked~label.sk-toggleable__label {background-color: #d4ebff;}#sk-container-id-1 input.sk-hidden--visually {border: 0;clip: rect(1px 1px 1px 1px);clip: rect(1px, 1px, 1px, 1px);height: 1px;margin: -1px;overflow: hidden;padding: 0;position: absolute;width: 1px;}#sk-container-id-1 div.sk-estimator {font-family: monospace;background-color: #f0f8ff;border: 1px dotted black;border-radius: 0.25em;box-sizing: border-box;margin-bottom: 0.5em;}#sk-container-id-1 div.sk-estimator:hover {background-color: #d4ebff;}#sk-container-id-1 div.sk-parallel-item::after {content: \"\";width: 100%;border-bottom: 1px solid gray;flex-grow: 1;}#sk-container-id-1 div.sk-label:hover label.sk-toggleable__label {background-color: #d4ebff;}#sk-container-id-1 div.sk-serial::before {content: \"\";position: absolute;border-left: 1px solid gray;box-sizing: border-box;top: 0;bottom: 0;left: 50%;z-index: 0;}#sk-container-id-1 div.sk-serial {display: flex;flex-direction: column;align-items: center;background-color: white;padding-right: 0.2em;padding-left: 0.2em;position: relative;}#sk-container-id-1 div.sk-item {position: relative;z-index: 1;}#sk-container-id-1 div.sk-parallel {display: flex;align-items: stretch;justify-content: center;background-color: white;position: relative;}#sk-container-id-1 div.sk-item::before, #sk-container-id-1 div.sk-parallel-item::before {content: \"\";position: absolute;border-left: 1px solid gray;box-sizing: border-box;top: 0;bottom: 0;left: 50%;z-index: -1;}#sk-container-id-1 div.sk-parallel-item {display: flex;flex-direction: column;z-index: 1;position: relative;background-color: white;}#sk-container-id-1 div.sk-parallel-item:first-child::after {align-self: flex-end;width: 50%;}#sk-container-id-1 div.sk-parallel-item:last-child::after {align-self: flex-start;width: 50%;}#sk-container-id-1 div.sk-parallel-item:only-child::after {width: 0;}#sk-container-id-1 div.sk-dashed-wrapped {border: 1px dashed gray;margin: 0 0.4em 0.5em 0.4em;box-sizing: border-box;padding-bottom: 0.4em;background-color: white;}#sk-container-id-1 div.sk-label label {font-family: monospace;font-weight: bold;display: inline-block;line-height: 1.2em;}#sk-container-id-1 div.sk-label-container {text-align: center;}#sk-container-id-1 div.sk-container {/* jupyter's `normalize.less` sets `[hidden] { display: none; }` but bootstrap.min.css set `[hidden] { display: none !important; }` so we also need the `!important` here to be able to override the default hidden behavior on the sphinx rendered scikit-learn.org. See: https://github.com/scikit-learn/scikit-learn/issues/21755 */display: inline-block !important;position: relative;}#sk-container-id-1 div.sk-text-repr-fallback {display: none;}</style><div id=\"sk-container-id-1\" class=\"sk-top-container\"><div class=\"sk-text-repr-fallback\"><pre>Pipeline(steps=[(&#x27;Scaler&#x27;, MinMaxScaler()),\n",
              "                (&#x27;Clustering&#x27;,\n",
              "                 KMeans(n_clusters=4, n_init=10, random_state=42))])</pre><b>In a Jupyter environment, please rerun this cell to show the HTML representation or trust the notebook. <br />On GitHub, the HTML representation is unable to render, please try loading this page with nbviewer.org.</b></div><div class=\"sk-container\" hidden><div class=\"sk-item sk-dashed-wrapped\"><div class=\"sk-label-container\"><div class=\"sk-label sk-toggleable\"><input class=\"sk-toggleable__control sk-hidden--visually\" id=\"sk-estimator-id-1\" type=\"checkbox\" ><label for=\"sk-estimator-id-1\" class=\"sk-toggleable__label sk-toggleable__label-arrow\">Pipeline</label><div class=\"sk-toggleable__content\"><pre>Pipeline(steps=[(&#x27;Scaler&#x27;, MinMaxScaler()),\n",
              "                (&#x27;Clustering&#x27;,\n",
              "                 KMeans(n_clusters=4, n_init=10, random_state=42))])</pre></div></div></div><div class=\"sk-serial\"><div class=\"sk-item\"><div class=\"sk-estimator sk-toggleable\"><input class=\"sk-toggleable__control sk-hidden--visually\" id=\"sk-estimator-id-2\" type=\"checkbox\" ><label for=\"sk-estimator-id-2\" class=\"sk-toggleable__label sk-toggleable__label-arrow\">MinMaxScaler</label><div class=\"sk-toggleable__content\"><pre>MinMaxScaler()</pre></div></div></div><div class=\"sk-item\"><div class=\"sk-estimator sk-toggleable\"><input class=\"sk-toggleable__control sk-hidden--visually\" id=\"sk-estimator-id-3\" type=\"checkbox\" ><label for=\"sk-estimator-id-3\" class=\"sk-toggleable__label sk-toggleable__label-arrow\">KMeans</label><div class=\"sk-toggleable__content\"><pre>KMeans(n_clusters=4, n_init=10, random_state=42)</pre></div></div></div></div></div></div></div>"
            ]
          },
          "metadata": {},
          "execution_count": 103
        }
      ]
    },
    {
      "cell_type": "code",
      "source": [
        "X_processed = df_cluster.copy()"
      ],
      "metadata": {
        "id": "Qr30GzodKxyI"
      },
      "execution_count": 104,
      "outputs": []
    },
    {
      "cell_type": "code",
      "source": [
        "labels = pipe.predict(df_cluster)"
      ],
      "metadata": {
        "id": "p5Ib4cAfKXyX"
      },
      "execution_count": 105,
      "outputs": []
    },
    {
      "cell_type": "code",
      "source": [
        "X_processed[\"cluster\"] = labels"
      ],
      "metadata": {
        "id": "jRBx0fj2LFcD"
      },
      "execution_count": 106,
      "outputs": []
    },
    {
      "cell_type": "code",
      "source": [
        "X_processed"
      ],
      "metadata": {
        "id": "17kP54ObLqLA",
        "outputId": "871f7498-2f8e-4678-c26a-a4f5fae08434",
        "colab": {
          "base_uri": "https://localhost:8080/",
          "height": 424
        }
      },
      "execution_count": 107,
      "outputs": [
        {
          "output_type": "execute_result",
          "data": {
            "text/plain": [
              "        customer_ID  dias_ultima_compra  facturacion_total  pedido_min  \\\n",
              "0             15891               304.0               66.4        66.4   \n",
              "1             16203               120.0               96.7        96.7   \n",
              "2             16502               120.0              132.9        64.3   \n",
              "3             17457               242.0               56.0        56.0   \n",
              "4             17970                89.0              879.8        49.5   \n",
              "...             ...                 ...                ...         ...   \n",
              "152749      1553456                 0.0               56.7        56.7   \n",
              "152750      1553541                 0.0               66.5        66.5   \n",
              "152751      1553559                 0.0               73.0        73.0   \n",
              "152752      1553565                 0.0               82.3        82.3   \n",
              "152753      1553571                 0.0               84.4        84.4   \n",
              "\n",
              "        pedido_max  pedido_mean  n_compras  cluster  \n",
              "0             66.4        66.40          1        0  \n",
              "1             96.7        96.70          1        3  \n",
              "2             68.6        66.45          2        3  \n",
              "3             56.0        56.00          1        0  \n",
              "4            830.3       439.90          2        3  \n",
              "...            ...          ...        ...      ...  \n",
              "152749        56.7        56.70          1        3  \n",
              "152750        66.5        66.50          1        3  \n",
              "152751        73.0        73.00          1        3  \n",
              "152752        82.3        82.30          1        3  \n",
              "152753        84.4        84.40          1        3  \n",
              "\n",
              "[152754 rows x 8 columns]"
            ],
            "text/html": [
              "\n",
              "  <div id=\"df-1228324c-6e86-446e-adfd-a743d007dc0c\">\n",
              "    <div class=\"colab-df-container\">\n",
              "      <div>\n",
              "<style scoped>\n",
              "    .dataframe tbody tr th:only-of-type {\n",
              "        vertical-align: middle;\n",
              "    }\n",
              "\n",
              "    .dataframe tbody tr th {\n",
              "        vertical-align: top;\n",
              "    }\n",
              "\n",
              "    .dataframe thead th {\n",
              "        text-align: right;\n",
              "    }\n",
              "</style>\n",
              "<table border=\"1\" class=\"dataframe\">\n",
              "  <thead>\n",
              "    <tr style=\"text-align: right;\">\n",
              "      <th></th>\n",
              "      <th>customer_ID</th>\n",
              "      <th>dias_ultima_compra</th>\n",
              "      <th>facturacion_total</th>\n",
              "      <th>pedido_min</th>\n",
              "      <th>pedido_max</th>\n",
              "      <th>pedido_mean</th>\n",
              "      <th>n_compras</th>\n",
              "      <th>cluster</th>\n",
              "    </tr>\n",
              "  </thead>\n",
              "  <tbody>\n",
              "    <tr>\n",
              "      <th>0</th>\n",
              "      <td>15891</td>\n",
              "      <td>304.0</td>\n",
              "      <td>66.4</td>\n",
              "      <td>66.4</td>\n",
              "      <td>66.4</td>\n",
              "      <td>66.40</td>\n",
              "      <td>1</td>\n",
              "      <td>0</td>\n",
              "    </tr>\n",
              "    <tr>\n",
              "      <th>1</th>\n",
              "      <td>16203</td>\n",
              "      <td>120.0</td>\n",
              "      <td>96.7</td>\n",
              "      <td>96.7</td>\n",
              "      <td>96.7</td>\n",
              "      <td>96.70</td>\n",
              "      <td>1</td>\n",
              "      <td>3</td>\n",
              "    </tr>\n",
              "    <tr>\n",
              "      <th>2</th>\n",
              "      <td>16502</td>\n",
              "      <td>120.0</td>\n",
              "      <td>132.9</td>\n",
              "      <td>64.3</td>\n",
              "      <td>68.6</td>\n",
              "      <td>66.45</td>\n",
              "      <td>2</td>\n",
              "      <td>3</td>\n",
              "    </tr>\n",
              "    <tr>\n",
              "      <th>3</th>\n",
              "      <td>17457</td>\n",
              "      <td>242.0</td>\n",
              "      <td>56.0</td>\n",
              "      <td>56.0</td>\n",
              "      <td>56.0</td>\n",
              "      <td>56.00</td>\n",
              "      <td>1</td>\n",
              "      <td>0</td>\n",
              "    </tr>\n",
              "    <tr>\n",
              "      <th>4</th>\n",
              "      <td>17970</td>\n",
              "      <td>89.0</td>\n",
              "      <td>879.8</td>\n",
              "      <td>49.5</td>\n",
              "      <td>830.3</td>\n",
              "      <td>439.90</td>\n",
              "      <td>2</td>\n",
              "      <td>3</td>\n",
              "    </tr>\n",
              "    <tr>\n",
              "      <th>...</th>\n",
              "      <td>...</td>\n",
              "      <td>...</td>\n",
              "      <td>...</td>\n",
              "      <td>...</td>\n",
              "      <td>...</td>\n",
              "      <td>...</td>\n",
              "      <td>...</td>\n",
              "      <td>...</td>\n",
              "    </tr>\n",
              "    <tr>\n",
              "      <th>152749</th>\n",
              "      <td>1553456</td>\n",
              "      <td>0.0</td>\n",
              "      <td>56.7</td>\n",
              "      <td>56.7</td>\n",
              "      <td>56.7</td>\n",
              "      <td>56.70</td>\n",
              "      <td>1</td>\n",
              "      <td>3</td>\n",
              "    </tr>\n",
              "    <tr>\n",
              "      <th>152750</th>\n",
              "      <td>1553541</td>\n",
              "      <td>0.0</td>\n",
              "      <td>66.5</td>\n",
              "      <td>66.5</td>\n",
              "      <td>66.5</td>\n",
              "      <td>66.50</td>\n",
              "      <td>1</td>\n",
              "      <td>3</td>\n",
              "    </tr>\n",
              "    <tr>\n",
              "      <th>152751</th>\n",
              "      <td>1553559</td>\n",
              "      <td>0.0</td>\n",
              "      <td>73.0</td>\n",
              "      <td>73.0</td>\n",
              "      <td>73.0</td>\n",
              "      <td>73.00</td>\n",
              "      <td>1</td>\n",
              "      <td>3</td>\n",
              "    </tr>\n",
              "    <tr>\n",
              "      <th>152752</th>\n",
              "      <td>1553565</td>\n",
              "      <td>0.0</td>\n",
              "      <td>82.3</td>\n",
              "      <td>82.3</td>\n",
              "      <td>82.3</td>\n",
              "      <td>82.30</td>\n",
              "      <td>1</td>\n",
              "      <td>3</td>\n",
              "    </tr>\n",
              "    <tr>\n",
              "      <th>152753</th>\n",
              "      <td>1553571</td>\n",
              "      <td>0.0</td>\n",
              "      <td>84.4</td>\n",
              "      <td>84.4</td>\n",
              "      <td>84.4</td>\n",
              "      <td>84.40</td>\n",
              "      <td>1</td>\n",
              "      <td>3</td>\n",
              "    </tr>\n",
              "  </tbody>\n",
              "</table>\n",
              "<p>152754 rows × 8 columns</p>\n",
              "</div>\n",
              "      <button class=\"colab-df-convert\" onclick=\"convertToInteractive('df-1228324c-6e86-446e-adfd-a743d007dc0c')\"\n",
              "              title=\"Convert this dataframe to an interactive table.\"\n",
              "              style=\"display:none;\">\n",
              "        \n",
              "  <svg xmlns=\"http://www.w3.org/2000/svg\" height=\"24px\"viewBox=\"0 0 24 24\"\n",
              "       width=\"24px\">\n",
              "    <path d=\"M0 0h24v24H0V0z\" fill=\"none\"/>\n",
              "    <path d=\"M18.56 5.44l.94 2.06.94-2.06 2.06-.94-2.06-.94-.94-2.06-.94 2.06-2.06.94zm-11 1L8.5 8.5l.94-2.06 2.06-.94-2.06-.94L8.5 2.5l-.94 2.06-2.06.94zm10 10l.94 2.06.94-2.06 2.06-.94-2.06-.94-.94-2.06-.94 2.06-2.06.94z\"/><path d=\"M17.41 7.96l-1.37-1.37c-.4-.4-.92-.59-1.43-.59-.52 0-1.04.2-1.43.59L10.3 9.45l-7.72 7.72c-.78.78-.78 2.05 0 2.83L4 21.41c.39.39.9.59 1.41.59.51 0 1.02-.2 1.41-.59l7.78-7.78 2.81-2.81c.8-.78.8-2.07 0-2.86zM5.41 20L4 18.59l7.72-7.72 1.47 1.35L5.41 20z\"/>\n",
              "  </svg>\n",
              "      </button>\n",
              "      \n",
              "  <style>\n",
              "    .colab-df-container {\n",
              "      display:flex;\n",
              "      flex-wrap:wrap;\n",
              "      gap: 12px;\n",
              "    }\n",
              "\n",
              "    .colab-df-convert {\n",
              "      background-color: #E8F0FE;\n",
              "      border: none;\n",
              "      border-radius: 50%;\n",
              "      cursor: pointer;\n",
              "      display: none;\n",
              "      fill: #1967D2;\n",
              "      height: 32px;\n",
              "      padding: 0 0 0 0;\n",
              "      width: 32px;\n",
              "    }\n",
              "\n",
              "    .colab-df-convert:hover {\n",
              "      background-color: #E2EBFA;\n",
              "      box-shadow: 0px 1px 2px rgba(60, 64, 67, 0.3), 0px 1px 3px 1px rgba(60, 64, 67, 0.15);\n",
              "      fill: #174EA6;\n",
              "    }\n",
              "\n",
              "    [theme=dark] .colab-df-convert {\n",
              "      background-color: #3B4455;\n",
              "      fill: #D2E3FC;\n",
              "    }\n",
              "\n",
              "    [theme=dark] .colab-df-convert:hover {\n",
              "      background-color: #434B5C;\n",
              "      box-shadow: 0px 1px 3px 1px rgba(0, 0, 0, 0.15);\n",
              "      filter: drop-shadow(0px 1px 2px rgba(0, 0, 0, 0.3));\n",
              "      fill: #FFFFFF;\n",
              "    }\n",
              "  </style>\n",
              "\n",
              "      <script>\n",
              "        const buttonEl =\n",
              "          document.querySelector('#df-1228324c-6e86-446e-adfd-a743d007dc0c button.colab-df-convert');\n",
              "        buttonEl.style.display =\n",
              "          google.colab.kernel.accessAllowed ? 'block' : 'none';\n",
              "\n",
              "        async function convertToInteractive(key) {\n",
              "          const element = document.querySelector('#df-1228324c-6e86-446e-adfd-a743d007dc0c');\n",
              "          const dataTable =\n",
              "            await google.colab.kernel.invokeFunction('convertToInteractive',\n",
              "                                                     [key], {});\n",
              "          if (!dataTable) return;\n",
              "\n",
              "          const docLinkHtml = 'Like what you see? Visit the ' +\n",
              "            '<a target=\"_blank\" href=https://colab.research.google.com/notebooks/data_table.ipynb>data table notebook</a>'\n",
              "            + ' to learn more about interactive tables.';\n",
              "          element.innerHTML = '';\n",
              "          dataTable['output_type'] = 'display_data';\n",
              "          await google.colab.output.renderOutput(dataTable, element);\n",
              "          const docLink = document.createElement('div');\n",
              "          docLink.innerHTML = docLinkHtml;\n",
              "          element.appendChild(docLink);\n",
              "        }\n",
              "      </script>\n",
              "    </div>\n",
              "  </div>\n",
              "  "
            ]
          },
          "metadata": {},
          "execution_count": 107
        }
      ]
    },
    {
      "cell_type": "code",
      "source": [
        "X_processed[\"cluster\"].hist()"
      ],
      "metadata": {
        "id": "KvwbtvhB2uX7",
        "outputId": "2d9471b3-cb5c-4f14-cc7e-ac17da37d196",
        "colab": {
          "base_uri": "https://localhost:8080/",
          "height": 447
        }
      },
      "execution_count": 108,
      "outputs": [
        {
          "output_type": "execute_result",
          "data": {
            "text/plain": [
              "<Axes: >"
            ]
          },
          "metadata": {},
          "execution_count": 108
        },
        {
          "output_type": "display_data",
          "data": {
            "text/plain": [
              "<Figure size 640x480 with 1 Axes>"
            ],
            "image/png": "[encoded data removed]"
          },
          "metadata": {}
        }
      ]
    },
    {
      "cell_type": "code",
      "source": [
        "ficha_df = pd.DataFrame()"
      ],
      "metadata": {
        "id": "3zFJg3aENqsd"
      },
      "execution_count": 109,
      "outputs": []
    },
    {
      "cell_type": "code",
      "source": [
        "for i, col in enumerate([\"facturacion_total\", \"n_compras\", \"dias_ultima_compra\"]):\n",
        "    resumen_data = X_processed[[\"cluster\", col]].groupby(\"cluster\").describe().T[1:]\n",
        "    ficha_df = ficha_df.append(resumen_data)"
      ],
      "metadata": {
        "id": "VK60EJQ5NqqP"
      },
      "execution_count": null,
      "outputs": []
    },
    {
      "cell_type": "code",
      "source": [
        "# generamos nuestro multiindex\n",
        "out_index = [\n",
        "    \"Monetarios\",\n",
        "    \"Fidelización\",\n",
        "    \"Fidelización\",\n",
        "]\n",
        "\n",
        "inner_index = [\n",
        "    \"Importe\",\n",
        "    \"Nr. de compras\",\n",
        "    \"Última compra\",\n",
        "]\n",
        "\n",
        "estadisticos = [\"Media\", \"Desviación\", \"Mínimo\", \"Perc. 25\", \"Perc. 50\", \"Perc. 75\", \"Máximo\"]\n",
        "\n",
        "new_multi_index = []\n",
        "\n",
        "for oi, ii, in zip(out_index, inner_index):\n",
        "    for es in estadisticos:\n",
        "        new_multi_index.append((oi, ii, es))"
      ],
      "metadata": {
        "id": "P5DdwJB3Nqnu"
      },
      "execution_count": 111,
      "outputs": []
    },
    {
      "cell_type": "code",
      "source": [
        "def generate_multiindex(list_of_tuples, names):\n",
        "    return pd.MultiIndex.from_tuples(list_of_tuples, names = names)"
      ],
      "metadata": {
        "id": "Vwxy9j-xP4VK"
      },
      "execution_count": 112,
      "outputs": []
    },
    {
      "cell_type": "code",
      "source": [
        "names = [\"Grupo Indicadores\", \"Indicador\", \"Estadístico\"]\n",
        "index_ficha = generate_multiindex(new_multi_index, names)\n",
        "ficha_df.set_index(index_ficha, inplace = True)"
      ],
      "metadata": {
        "id": "LjXoSmcaP5xH"
      },
      "execution_count": 113,
      "outputs": []
    },
    {
      "cell_type": "code",
      "source": [
        "tamaño_clusters = X_processed.groupby(\"cluster\").size().to_frame().T\n",
        "tamaño_clusters.set_index(generate_multiindex([(\"General\", \"Clúster\", \"Tamaño\")] , names), inplace = True)"
      ],
      "metadata": {
        "id": "ugymAbSIP8Vg"
      },
      "execution_count": 114,
      "outputs": []
    },
    {
      "cell_type": "code",
      "source": [
        "ficha_df = tamaño_clusters.append(ficha_df)"
      ],
      "metadata": {
        "id": "dZW_GAldP-gV",
        "outputId": "5cea81b7-dfff-4a44-c422-be9dedbe4d39",
        "colab": {
          "base_uri": "https://localhost:8080/"
        }
      },
      "execution_count": 115,
      "outputs": [
        {
          "output_type": "stream",
          "name": "stderr",
          "text": [
            "<ipython-input-115-fb8174410a5c>:1: FutureWarning: The frame.append method is deprecated and will be removed from pandas in a future version. Use pandas.concat instead.\n",
            "  ficha_df = tamaño_clusters.append(ficha_df)\n"
          ]
        }
      ]
    },
    {
      "cell_type": "code",
      "source": [
        "ficha_df = ficha_df.rename(columns = {\n",
        "    0 : \"Antiguos + \",\n",
        "    1 : \"Antiguos\",\n",
        "    2 : \"Premium\",\n",
        "    3 : \"Otros\",\n",
        "})"
      ],
      "metadata": {
        "id": "QL8PZkLtQBJq"
      },
      "execution_count": 116,
      "outputs": []
    },
    {
      "cell_type": "code",
      "source": [
        "ficha_df.style.background_gradient(cmap = 'Blues', axis = 1)"
      ],
      "metadata": {
        "id": "8ZdGOVHqQDMn",
        "outputId": "928653a9-9506-432c-a621-47a8542cf121",
        "colab": {
          "base_uri": "https://localhost:8080/",
          "height": 771
        }
      },
      "execution_count": 117,
      "outputs": [
        {
          "output_type": "execute_result",
          "data": {
            "text/plain": [
              "<pandas.io.formats.style.Styler at 0x7fc9dcbc6b60>"
            ],
            "text/html": [
              "<style type=\"text/css\">\n",
              "#T_f55ee_row0_col0 {\n",
              "  background-color: #d6e5f4;\n",
              "  color: #000000;\n",
              "}\n",
              "#T_f55ee_row0_col1, #T_f55ee_row1_col2, #T_f55ee_row2_col2, #T_f55ee_row3_col2, #T_f55ee_row4_col2, #T_f55ee_row5_col2, #T_f55ee_row6_col2, #T_f55ee_row7_col2, #T_f55ee_row8_col2, #T_f55ee_row9_col2, #T_f55ee_row11_col2, #T_f55ee_row12_col2, #T_f55ee_row13_col2, #T_f55ee_row14_col2, #T_f55ee_row15_col0, #T_f55ee_row16_col2, #T_f55ee_row17_col0, #T_f55ee_row18_col0, #T_f55ee_row19_col0, #T_f55ee_row20_col0, #T_f55ee_row21_col0, #T_f55ee_row21_col2 {\n",
              "  background-color: #08306b;\n",
              "  color: #f1f1f1;\n",
              "}\n",
              "#T_f55ee_row0_col2, #T_f55ee_row1_col1, #T_f55ee_row2_col1, #T_f55ee_row3_col0, #T_f55ee_row3_col1, #T_f55ee_row4_col0, #T_f55ee_row4_col1, #T_f55ee_row4_col3, #T_f55ee_row5_col0, #T_f55ee_row5_col1, #T_f55ee_row5_col3, #T_f55ee_row6_col1, #T_f55ee_row7_col1, #T_f55ee_row8_col1, #T_f55ee_row9_col1, #T_f55ee_row10_col0, #T_f55ee_row10_col1, #T_f55ee_row10_col2, #T_f55ee_row10_col3, #T_f55ee_row11_col0, #T_f55ee_row11_col1, #T_f55ee_row11_col3, #T_f55ee_row12_col0, #T_f55ee_row12_col1, #T_f55ee_row12_col3, #T_f55ee_row13_col1, #T_f55ee_row14_col1, #T_f55ee_row15_col3, #T_f55ee_row16_col1, #T_f55ee_row17_col2, #T_f55ee_row17_col3, #T_f55ee_row18_col3, #T_f55ee_row19_col3, #T_f55ee_row20_col3, #T_f55ee_row21_col3 {\n",
              "  background-color: #f7fbff;\n",
              "  color: #000000;\n",
              "}\n",
              "#T_f55ee_row0_col3 {\n",
              "  background-color: #aed1e7;\n",
              "  color: #000000;\n",
              "}\n",
              "#T_f55ee_row1_col0, #T_f55ee_row2_col3 {\n",
              "  background-color: #e3eef8;\n",
              "  color: #000000;\n",
              "}\n",
              "#T_f55ee_row1_col3 {\n",
              "  background-color: #f4f9fe;\n",
              "  color: #000000;\n",
              "}\n",
              "#T_f55ee_row2_col0 {\n",
              "  background-color: #3686c0;\n",
              "  color: #f1f1f1;\n",
              "}\n",
              "#T_f55ee_row3_col3, #T_f55ee_row6_col0, #T_f55ee_row6_col3 {\n",
              "  background-color: #f6faff;\n",
              "  color: #000000;\n",
              "}\n",
              "#T_f55ee_row7_col0 {\n",
              "  background-color: #a4cce3;\n",
              "  color: #000000;\n",
              "}\n",
              "#T_f55ee_row7_col3 {\n",
              "  background-color: #f2f7fd;\n",
              "  color: #000000;\n",
              "}\n",
              "#T_f55ee_row8_col0 {\n",
              "  background-color: #e4eff9;\n",
              "  color: #000000;\n",
              "}\n",
              "#T_f55ee_row8_col3 {\n",
              "  background-color: #ddeaf7;\n",
              "  color: #000000;\n",
              "}\n",
              "#T_f55ee_row9_col0 {\n",
              "  background-color: #61a7d2;\n",
              "  color: #f1f1f1;\n",
              "}\n",
              "#T_f55ee_row9_col3, #T_f55ee_row21_col1 {\n",
              "  background-color: #69add5;\n",
              "  color: #f1f1f1;\n",
              "}\n",
              "#T_f55ee_row13_col0, #T_f55ee_row13_col3 {\n",
              "  background-color: #c6dbef;\n",
              "  color: #000000;\n",
              "}\n",
              "#T_f55ee_row14_col0, #T_f55ee_row14_col3, #T_f55ee_row19_col2 {\n",
              "  background-color: #d0e1f2;\n",
              "  color: #000000;\n",
              "}\n",
              "#T_f55ee_row15_col1 {\n",
              "  background-color: #68acd5;\n",
              "  color: #f1f1f1;\n",
              "}\n",
              "#T_f55ee_row15_col2 {\n",
              "  background-color: #c2d9ee;\n",
              "  color: #000000;\n",
              "}\n",
              "#T_f55ee_row16_col0 {\n",
              "  background-color: #dfecf7;\n",
              "  color: #000000;\n",
              "}\n",
              "#T_f55ee_row16_col3 {\n",
              "  background-color: #d5e5f4;\n",
              "  color: #000000;\n",
              "}\n",
              "#T_f55ee_row17_col1 {\n",
              "  background-color: #0c56a0;\n",
              "  color: #f1f1f1;\n",
              "}\n",
              "#T_f55ee_row18_col1 {\n",
              "  background-color: #5ca4d0;\n",
              "  color: #f1f1f1;\n",
              "}\n",
              "#T_f55ee_row18_col2 {\n",
              "  background-color: #e5eff9;\n",
              "  color: #000000;\n",
              "}\n",
              "#T_f55ee_row19_col1 {\n",
              "  background-color: #6aaed6;\n",
              "  color: #f1f1f1;\n",
              "}\n",
              "#T_f55ee_row20_col1 {\n",
              "  background-color: #7cb7da;\n",
              "  color: #000000;\n",
              "}\n",
              "#T_f55ee_row20_col2 {\n",
              "  background-color: #a1cbe2;\n",
              "  color: #000000;\n",
              "}\n",
              "</style>\n",
              "<table id=\"T_f55ee\" class=\"dataframe\">\n",
              "  <thead>\n",
              "    <tr>\n",
              "      <th class=\"blank\" >&nbsp;</th>\n",
              "      <th class=\"blank\" >&nbsp;</th>\n",
              "      <th class=\"index_name level0\" >cluster</th>\n",
              "      <th id=\"T_f55ee_level0_col0\" class=\"col_heading level0 col0\" >Antiguos + </th>\n",
              "      <th id=\"T_f55ee_level0_col1\" class=\"col_heading level0 col1\" >Antiguos</th>\n",
              "      <th id=\"T_f55ee_level0_col2\" class=\"col_heading level0 col2\" >Premium</th>\n",
              "      <th id=\"T_f55ee_level0_col3\" class=\"col_heading level0 col3\" >Otros</th>\n",
              "    </tr>\n",
              "    <tr>\n",
              "      <th class=\"index_name level0\" >Grupo Indicadores</th>\n",
              "      <th class=\"index_name level1\" >Indicador</th>\n",
              "      <th class=\"index_name level2\" >Estadístico</th>\n",
              "      <th class=\"blank col0\" >&nbsp;</th>\n",
              "      <th class=\"blank col1\" >&nbsp;</th>\n",
              "      <th class=\"blank col2\" >&nbsp;</th>\n",
              "      <th class=\"blank col3\" >&nbsp;</th>\n",
              "    </tr>\n",
              "  </thead>\n",
              "  <tbody>\n",
              "    <tr>\n",
              "      <th id=\"T_f55ee_level0_row0\" class=\"row_heading level0 row0\" >General</th>\n",
              "      <th id=\"T_f55ee_level1_row0\" class=\"row_heading level1 row0\" >Clúster</th>\n",
              "      <th id=\"T_f55ee_level2_row0\" class=\"row_heading level2 row0\" >Tamaño</th>\n",
              "      <td id=\"T_f55ee_row0_col0\" class=\"data row0 col0\" >26315.000000</td>\n",
              "      <td id=\"T_f55ee_row0_col1\" class=\"data row0 col1\" >74544.000000</td>\n",
              "      <td id=\"T_f55ee_row0_col2\" class=\"data row0 col2\" >16481.000000</td>\n",
              "      <td id=\"T_f55ee_row0_col3\" class=\"data row0 col3\" >35414.000000</td>\n",
              "    </tr>\n",
              "    <tr>\n",
              "      <th id=\"T_f55ee_level0_row1\" class=\"row_heading level0 row1\" rowspan=\"7\">Monetarios</th>\n",
              "      <th id=\"T_f55ee_level1_row1\" class=\"row_heading level1 row1\" rowspan=\"7\">Importe</th>\n",
              "      <th id=\"T_f55ee_level2_row1\" class=\"row_heading level2 row1\" >Media</th>\n",
              "      <td id=\"T_f55ee_row1_col0\" class=\"data row1 col0\" >785.421011</td>\n",
              "      <td id=\"T_f55ee_row1_col1\" class=\"data row1 col1\" >139.586493</td>\n",
              "      <td id=\"T_f55ee_row1_col2\" class=\"data row1 col2\" >6451.179237</td>\n",
              "      <td id=\"T_f55ee_row1_col3\" class=\"data row1 col3\" >246.351779</td>\n",
              "    </tr>\n",
              "    <tr>\n",
              "      <th id=\"T_f55ee_level2_row2\" class=\"row_heading level2 row2\" >Desviación</th>\n",
              "      <td id=\"T_f55ee_row2_col0\" class=\"data row2 col0\" >1635.208343</td>\n",
              "      <td id=\"T_f55ee_row2_col1\" class=\"data row2 col1\" >352.364753</td>\n",
              "      <td id=\"T_f55ee_row2_col2\" class=\"data row2 col2\" >2266.545865</td>\n",
              "      <td id=\"T_f55ee_row2_col3\" class=\"data row2 col3\" >551.002137</td>\n",
              "    </tr>\n",
              "    <tr>\n",
              "      <th id=\"T_f55ee_level2_row3\" class=\"row_heading level2 row3\" >Mínimo</th>\n",
              "      <td id=\"T_f55ee_row3_col0\" class=\"data row3 col0\" >31.100000</td>\n",
              "      <td id=\"T_f55ee_row3_col1\" class=\"data row3 col1\" >26.700000</td>\n",
              "      <td id=\"T_f55ee_row3_col2\" class=\"data row3 col2\" >1321.400000</td>\n",
              "      <td id=\"T_f55ee_row3_col3\" class=\"data row3 col3\" >34.700000</td>\n",
              "    </tr>\n",
              "    <tr>\n",
              "      <th id=\"T_f55ee_level2_row4\" class=\"row_heading level2 row4\" >Perc. 25</th>\n",
              "      <td id=\"T_f55ee_row4_col0\" class=\"data row4 col0\" >61.200000</td>\n",
              "      <td id=\"T_f55ee_row4_col1\" class=\"data row4 col1\" >63.100000</td>\n",
              "      <td id=\"T_f55ee_row4_col2\" class=\"data row4 col2\" >4784.100000</td>\n",
              "      <td id=\"T_f55ee_row4_col3\" class=\"data row4 col3\" >66.100000</td>\n",
              "    </tr>\n",
              "    <tr>\n",
              "      <th id=\"T_f55ee_level2_row5\" class=\"row_heading level2 row5\" >Perc. 50</th>\n",
              "      <td id=\"T_f55ee_row5_col0\" class=\"data row5 col0\" >70.900000</td>\n",
              "      <td id=\"T_f55ee_row5_col1\" class=\"data row5 col1\" >70.800000</td>\n",
              "      <td id=\"T_f55ee_row5_col2\" class=\"data row5 col2\" >6111.700000</td>\n",
              "      <td id=\"T_f55ee_row5_col3\" class=\"data row5 col3\" >79.500000</td>\n",
              "    </tr>\n",
              "    <tr>\n",
              "      <th id=\"T_f55ee_level2_row6\" class=\"row_heading level2 row6\" >Perc. 75</th>\n",
              "      <td id=\"T_f55ee_row6_col0\" class=\"data row6 col0\" >138.250000</td>\n",
              "      <td id=\"T_f55ee_row6_col1\" class=\"data row6 col1\" >79.800000</td>\n",
              "      <td id=\"T_f55ee_row6_col2\" class=\"data row6 col2\" >7753.500000</td>\n",
              "      <td id=\"T_f55ee_row6_col3\" class=\"data row6 col3\" >133.200000</td>\n",
              "    </tr>\n",
              "    <tr>\n",
              "      <th id=\"T_f55ee_level2_row7\" class=\"row_heading level2 row7\" >Máximo</th>\n",
              "      <td id=\"T_f55ee_row7_col0\" class=\"data row7 col0\" >9501.200000</td>\n",
              "      <td id=\"T_f55ee_row7_col1\" class=\"data row7 col1\" >4381.600000</td>\n",
              "      <td id=\"T_f55ee_row7_col2\" class=\"data row7 col2\" >18649.900000</td>\n",
              "      <td id=\"T_f55ee_row7_col3\" class=\"data row7 col3\" >4826.300000</td>\n",
              "    </tr>\n",
              "    <tr>\n",
              "      <th id=\"T_f55ee_level0_row8\" class=\"row_heading level0 row8\" rowspan=\"14\">Fidelización</th>\n",
              "      <th id=\"T_f55ee_level1_row8\" class=\"row_heading level1 row8\" rowspan=\"7\">Nr. de compras</th>\n",
              "      <th id=\"T_f55ee_level2_row8\" class=\"row_heading level2 row8\" >Media</th>\n",
              "      <td id=\"T_f55ee_row8_col0\" class=\"data row8 col0\" >1.402888</td>\n",
              "      <td id=\"T_f55ee_row8_col1\" class=\"data row8 col1\" >1.128542</td>\n",
              "      <td id=\"T_f55ee_row8_col2\" class=\"data row8 col2\" >4.023785</td>\n",
              "      <td id=\"T_f55ee_row8_col3\" class=\"data row8 col3\" >1.508274</td>\n",
              "    </tr>\n",
              "    <tr>\n",
              "      <th id=\"T_f55ee_level2_row9\" class=\"row_heading level2 row9\" >Desviación</th>\n",
              "      <td id=\"T_f55ee_row9_col0\" class=\"data row9 col0\" >0.725505</td>\n",
              "      <td id=\"T_f55ee_row9_col1\" class=\"data row9 col1\" >0.397670</td>\n",
              "      <td id=\"T_f55ee_row9_col2\" class=\"data row9 col2\" >1.014897</td>\n",
              "      <td id=\"T_f55ee_row9_col3\" class=\"data row9 col3\" >0.709192</td>\n",
              "    </tr>\n",
              "    <tr>\n",
              "      <th id=\"T_f55ee_level2_row10\" class=\"row_heading level2 row10\" >Mínimo</th>\n",
              "      <td id=\"T_f55ee_row10_col0\" class=\"data row10 col0\" >1.000000</td>\n",
              "      <td id=\"T_f55ee_row10_col1\" class=\"data row10 col1\" >1.000000</td>\n",
              "      <td id=\"T_f55ee_row10_col2\" class=\"data row10 col2\" >1.000000</td>\n",
              "      <td id=\"T_f55ee_row10_col3\" class=\"data row10 col3\" >1.000000</td>\n",
              "    </tr>\n",
              "    <tr>\n",
              "      <th id=\"T_f55ee_level2_row11\" class=\"row_heading level2 row11\" >Perc. 25</th>\n",
              "      <td id=\"T_f55ee_row11_col0\" class=\"data row11 col0\" >1.000000</td>\n",
              "      <td id=\"T_f55ee_row11_col1\" class=\"data row11 col1\" >1.000000</td>\n",
              "      <td id=\"T_f55ee_row11_col2\" class=\"data row11 col2\" >3.000000</td>\n",
              "      <td id=\"T_f55ee_row11_col3\" class=\"data row11 col3\" >1.000000</td>\n",
              "    </tr>\n",
              "    <tr>\n",
              "      <th id=\"T_f55ee_level2_row12\" class=\"row_heading level2 row12\" >Perc. 50</th>\n",
              "      <td id=\"T_f55ee_row12_col0\" class=\"data row12 col0\" >1.000000</td>\n",
              "      <td id=\"T_f55ee_row12_col1\" class=\"data row12 col1\" >1.000000</td>\n",
              "      <td id=\"T_f55ee_row12_col2\" class=\"data row12 col2\" >4.000000</td>\n",
              "      <td id=\"T_f55ee_row12_col3\" class=\"data row12 col3\" >1.000000</td>\n",
              "    </tr>\n",
              "    <tr>\n",
              "      <th id=\"T_f55ee_level2_row13\" class=\"row_heading level2 row13\" >Perc. 75</th>\n",
              "      <td id=\"T_f55ee_row13_col0\" class=\"data row13 col0\" >2.000000</td>\n",
              "      <td id=\"T_f55ee_row13_col1\" class=\"data row13 col1\" >1.000000</td>\n",
              "      <td id=\"T_f55ee_row13_col2\" class=\"data row13 col2\" >5.000000</td>\n",
              "      <td id=\"T_f55ee_row13_col3\" class=\"data row13 col3\" >2.000000</td>\n",
              "    </tr>\n",
              "    <tr>\n",
              "      <th id=\"T_f55ee_level2_row14\" class=\"row_heading level2 row14\" >Máximo</th>\n",
              "      <td id=\"T_f55ee_row14_col0\" class=\"data row14 col0\" >6.000000</td>\n",
              "      <td id=\"T_f55ee_row14_col1\" class=\"data row14 col1\" >5.000000</td>\n",
              "      <td id=\"T_f55ee_row14_col2\" class=\"data row14 col2\" >10.000000</td>\n",
              "      <td id=\"T_f55ee_row14_col3\" class=\"data row14 col3\" >6.000000</td>\n",
              "    </tr>\n",
              "    <tr>\n",
              "      <th id=\"T_f55ee_level1_row15\" class=\"row_heading level1 row15\" rowspan=\"7\">Última compra</th>\n",
              "      <th id=\"T_f55ee_level2_row15\" class=\"row_heading level2 row15\" >Media</th>\n",
              "      <td id=\"T_f55ee_row15_col0\" class=\"data row15 col0\" >396.222839</td>\n",
              "      <td id=\"T_f55ee_row15_col1\" class=\"data row15 col1\" >240.117501</td>\n",
              "      <td id=\"T_f55ee_row15_col2\" class=\"data row15 col2\" >162.160670</td>\n",
              "      <td id=\"T_f55ee_row15_col3\" class=\"data row15 col3\" >77.866974</td>\n",
              "    </tr>\n",
              "    <tr>\n",
              "      <th id=\"T_f55ee_level2_row16\" class=\"row_heading level2 row16\" >Desviación</th>\n",
              "      <td id=\"T_f55ee_row16_col0\" class=\"data row16 col0\" >48.814974</td>\n",
              "      <td id=\"T_f55ee_row16_col1\" class=\"data row16 col1\" >40.005401</td>\n",
              "      <td id=\"T_f55ee_row16_col2\" class=\"data row16 col2\" >113.820135</td>\n",
              "      <td id=\"T_f55ee_row16_col3\" class=\"data row16 col3\" >52.853128</td>\n",
              "    </tr>\n",
              "    <tr>\n",
              "      <th id=\"T_f55ee_level2_row17\" class=\"row_heading level2 row17\" >Mínimo</th>\n",
              "      <td id=\"T_f55ee_row17_col0\" class=\"data row17 col0\" >212.000000</td>\n",
              "      <td id=\"T_f55ee_row17_col1\" class=\"data row17 col1\" >181.000000</td>\n",
              "      <td id=\"T_f55ee_row17_col2\" class=\"data row17 col2\" >0.000000</td>\n",
              "      <td id=\"T_f55ee_row17_col3\" class=\"data row17 col3\" >0.000000</td>\n",
              "    </tr>\n",
              "    <tr>\n",
              "      <th id=\"T_f55ee_level2_row18\" class=\"row_heading level2 row18\" >Perc. 25</th>\n",
              "      <td id=\"T_f55ee_row18_col0\" class=\"data row18 col0\" >365.000000</td>\n",
              "      <td id=\"T_f55ee_row18_col1\" class=\"data row18 col1\" >212.000000</td>\n",
              "      <td id=\"T_f55ee_row18_col2\" class=\"data row18 col2\" >61.000000</td>\n",
              "      <td id=\"T_f55ee_row18_col3\" class=\"data row18 col3\" >30.000000</td>\n",
              "    </tr>\n",
              "    <tr>\n",
              "      <th id=\"T_f55ee_level2_row19\" class=\"row_heading level2 row19\" >Perc. 50</th>\n",
              "      <td id=\"T_f55ee_row19_col0\" class=\"data row19 col0\" >395.000000</td>\n",
              "      <td id=\"T_f55ee_row19_col1\" class=\"data row19 col1\" >242.000000</td>\n",
              "      <td id=\"T_f55ee_row19_col2\" class=\"data row19 col2\" >151.000000</td>\n",
              "      <td id=\"T_f55ee_row19_col3\" class=\"data row19 col3\" >89.000000</td>\n",
              "    </tr>\n",
              "    <tr>\n",
              "      <th id=\"T_f55ee_level2_row20\" class=\"row_heading level2 row20\" >Perc. 75</th>\n",
              "      <td id=\"T_f55ee_row20_col0\" class=\"data row20 col0\" >454.000000</td>\n",
              "      <td id=\"T_f55ee_row20_col1\" class=\"data row20 col1\" >273.000000</td>\n",
              "      <td id=\"T_f55ee_row20_col2\" class=\"data row20 col2\" >242.000000</td>\n",
              "      <td id=\"T_f55ee_row20_col3\" class=\"data row20 col3\" >120.000000</td>\n",
              "    </tr>\n",
              "    <tr>\n",
              "      <th id=\"T_f55ee_level2_row21\" class=\"row_heading level2 row21\" >Máximo</th>\n",
              "      <td id=\"T_f55ee_row21_col0\" class=\"data row21 col0\" >454.000000</td>\n",
              "      <td id=\"T_f55ee_row21_col1\" class=\"data row21 col1\" >304.000000</td>\n",
              "      <td id=\"T_f55ee_row21_col2\" class=\"data row21 col2\" >454.000000</td>\n",
              "      <td id=\"T_f55ee_row21_col3\" class=\"data row21 col3\" >151.000000</td>\n",
              "    </tr>\n",
              "  </tbody>\n",
              "</table>\n"
            ]
          },
          "metadata": {},
          "execution_count": 117
        }
      ]
    }
  ]
}
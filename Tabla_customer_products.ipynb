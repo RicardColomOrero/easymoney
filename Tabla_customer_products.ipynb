{
  "nbformat": 4,
  "nbformat_minor": 0,
  "metadata": {
    "colab": {
      "provenance": [],
      "authorship_tag": "ABX9TyNrlAHJiwNh8NZEyFCjybDm",
      "include_colab_link": true
    },
    "kernelspec": {
      "name": "python3",
      "display_name": "Python 3"
    },
    "language_info": {
      "name": "python"
    }
  },
  "cells": [
    {
      "cell_type": "markdown",
      "metadata": {
        "id": "view-in-github",
        "colab_type": "text"
      },
      "source": [
        "<a href=\"https://colab.research.google.com/github/RicardColomOrero/easymoney/blob/culebra/Tabla_customer_products.ipynb\" target=\"_parent\"><img src=\"https://colab.research.google.com/assets/colab-badge.svg\" alt=\"Open In Colab\"/></a>"
      ]
    },
    {
      "cell_type": "markdown",
      "source": [
        "#Tabla customer products - Culebra"
      ],
      "metadata": {
        "id": "2K0GWgWQ3MrP"
      }
    },
    {
      "cell_type": "markdown",
      "source": [
        "##Imports"
      ],
      "metadata": {
        "id": "py1WIa7W3Z5G"
      }
    },
    {
      "cell_type": "code",
      "execution_count": 128,
      "metadata": {
        "id": "3sJq8xye2mKp"
      },
      "outputs": [],
      "source": [
        "import sys\n",
        "import os\n",
        "\n",
        "import numpy as np\n",
        "import pandas as pd\n",
        "\n",
        "import matplotlib.pyplot as plt\n",
        "import seaborn as sns\n",
        "plt.style.use(\"ggplot\")\n",
        "\n",
        "from google.colab import files\n",
        "from google.colab import drive\n",
        "\n",
        "\n",
        "from sklearn import model_selection\n",
        "import xgboost as xgb\n",
        "\n",
        "from scipy import stats\n",
        "from datetime import datetime\n",
        "\n",
        "import random"
      ]
    },
    {
      "cell_type": "code",
      "source": [
        "from google.colab import drive\n",
        "drive.mount('/content/drive')"
      ],
      "metadata": {
        "colab": {
          "base_uri": "https://localhost:8080/"
        },
        "id": "1im6395c3jx2",
        "outputId": "e17e1eab-42bc-4172-b06c-e4dcdaacf678"
      },
      "execution_count": 129,
      "outputs": [
        {
          "output_type": "stream",
          "name": "stdout",
          "text": [
            "Drive already mounted at /content/drive; to attempt to forcibly remount, call drive.mount(\"/content/drive\", force_remount=True).\n"
          ]
        }
      ]
    },
    {
      "cell_type": "code",
      "source": [
        "DATA_PATH = '/content/drive/MyDrive/Master_DS/TFM  Data Science/datasets_TFM + diccionario/'\n",
        "FILE = 'customer_products.csv'"
      ],
      "metadata": {
        "id": "4s6DxOSy3tn-"
      },
      "execution_count": 130,
      "outputs": []
    },
    {
      "cell_type": "code",
      "source": [
        "cust_products = pd.read_csv(DATA_PATH + FILE)"
      ],
      "metadata": {
        "id": "D-TPncVt5VK-"
      },
      "execution_count": 131,
      "outputs": []
    },
    {
      "cell_type": "markdown",
      "source": [
        "## Data Understanding. EDA"
      ],
      "metadata": {
        "id": "y7Hhwl-Llpzn"
      }
    },
    {
      "cell_type": "markdown",
      "source": [
        "### Visualización directa de datos"
      ],
      "metadata": {
        "id": "PJYO8TfZly82"
      }
    },
    {
      "cell_type": "code",
      "source": [
        "cust_products.head().T"
      ],
      "metadata": {
        "colab": {
          "base_uri": "https://localhost:8080/",
          "height": 613
        },
        "id": "0YMA_cBE691W",
        "outputId": "d9f7945c-01e3-4571-c790-3b6d43284327"
      },
      "execution_count": 132,
      "outputs": [
        {
          "output_type": "execute_result",
          "data": {
            "text/plain": [
              "                          0        1        2        3        4\n",
              "Unnamed: 0                0        1        2        3        4\n",
              "pk_cid              1375586  1050611  1050612  1050613  1050614\n",
              "pk_partition        2018-01  2018-01  2018-01  2018-01  2018-01\n",
              "short_term_deposit        0        0        0        1        0\n",
              "loans                     0        0        0        0        0\n",
              "mortgage                  0        0        0        0        0\n",
              "funds                     0        0        0        0        0\n",
              "securities                0        0        0        0        0\n",
              "long_term_deposit         0        0        0        0        0\n",
              "em_account_pp             0        0        0        0        0\n",
              "credit_card               0        0        0        0        0\n",
              "payroll                 0.0      0.0      0.0      0.0      0.0\n",
              "pension_plan            0.0      0.0      0.0      0.0      0.0\n",
              "payroll_account           0        0        0        0        0\n",
              "emc_account               0        0        0        0        0\n",
              "debit_card                0        0        0        0        0\n",
              "em_account_p              0        0        0        0        0\n",
              "em_acount                 1        1        1        0        1"
            ],
            "text/html": [
              "\n",
              "  <div id=\"df-d563d256-1e1f-4920-8f4b-5738eac21886\">\n",
              "    <div class=\"colab-df-container\">\n",
              "      <div>\n",
              "<style scoped>\n",
              "    .dataframe tbody tr th:only-of-type {\n",
              "        vertical-align: middle;\n",
              "    }\n",
              "\n",
              "    .dataframe tbody tr th {\n",
              "        vertical-align: top;\n",
              "    }\n",
              "\n",
              "    .dataframe thead th {\n",
              "        text-align: right;\n",
              "    }\n",
              "</style>\n",
              "<table border=\"1\" class=\"dataframe\">\n",
              "  <thead>\n",
              "    <tr style=\"text-align: right;\">\n",
              "      <th></th>\n",
              "      <th>0</th>\n",
              "      <th>1</th>\n",
              "      <th>2</th>\n",
              "      <th>3</th>\n",
              "      <th>4</th>\n",
              "    </tr>\n",
              "  </thead>\n",
              "  <tbody>\n",
              "    <tr>\n",
              "      <th>Unnamed: 0</th>\n",
              "      <td>0</td>\n",
              "      <td>1</td>\n",
              "      <td>2</td>\n",
              "      <td>3</td>\n",
              "      <td>4</td>\n",
              "    </tr>\n",
              "    <tr>\n",
              "      <th>pk_cid</th>\n",
              "      <td>1375586</td>\n",
              "      <td>1050611</td>\n",
              "      <td>1050612</td>\n",
              "      <td>1050613</td>\n",
              "      <td>1050614</td>\n",
              "    </tr>\n",
              "    <tr>\n",
              "      <th>pk_partition</th>\n",
              "      <td>2018-01</td>\n",
              "      <td>2018-01</td>\n",
              "      <td>2018-01</td>\n",
              "      <td>2018-01</td>\n",
              "      <td>2018-01</td>\n",
              "    </tr>\n",
              "    <tr>\n",
              "      <th>short_term_deposit</th>\n",
              "      <td>0</td>\n",
              "      <td>0</td>\n",
              "      <td>0</td>\n",
              "      <td>1</td>\n",
              "      <td>0</td>\n",
              "    </tr>\n",
              "    <tr>\n",
              "      <th>loans</th>\n",
              "      <td>0</td>\n",
              "      <td>0</td>\n",
              "      <td>0</td>\n",
              "      <td>0</td>\n",
              "      <td>0</td>\n",
              "    </tr>\n",
              "    <tr>\n",
              "      <th>mortgage</th>\n",
              "      <td>0</td>\n",
              "      <td>0</td>\n",
              "      <td>0</td>\n",
              "      <td>0</td>\n",
              "      <td>0</td>\n",
              "    </tr>\n",
              "    <tr>\n",
              "      <th>funds</th>\n",
              "      <td>0</td>\n",
              "      <td>0</td>\n",
              "      <td>0</td>\n",
              "      <td>0</td>\n",
              "      <td>0</td>\n",
              "    </tr>\n",
              "    <tr>\n",
              "      <th>securities</th>\n",
              "      <td>0</td>\n",
              "      <td>0</td>\n",
              "      <td>0</td>\n",
              "      <td>0</td>\n",
              "      <td>0</td>\n",
              "    </tr>\n",
              "    <tr>\n",
              "      <th>long_term_deposit</th>\n",
              "      <td>0</td>\n",
              "      <td>0</td>\n",
              "      <td>0</td>\n",
              "      <td>0</td>\n",
              "      <td>0</td>\n",
              "    </tr>\n",
              "    <tr>\n",
              "      <th>em_account_pp</th>\n",
              "      <td>0</td>\n",
              "      <td>0</td>\n",
              "      <td>0</td>\n",
              "      <td>0</td>\n",
              "      <td>0</td>\n",
              "    </tr>\n",
              "    <tr>\n",
              "      <th>credit_card</th>\n",
              "      <td>0</td>\n",
              "      <td>0</td>\n",
              "      <td>0</td>\n",
              "      <td>0</td>\n",
              "      <td>0</td>\n",
              "    </tr>\n",
              "    <tr>\n",
              "      <th>payroll</th>\n",
              "      <td>0.0</td>\n",
              "      <td>0.0</td>\n",
              "      <td>0.0</td>\n",
              "      <td>0.0</td>\n",
              "      <td>0.0</td>\n",
              "    </tr>\n",
              "    <tr>\n",
              "      <th>pension_plan</th>\n",
              "      <td>0.0</td>\n",
              "      <td>0.0</td>\n",
              "      <td>0.0</td>\n",
              "      <td>0.0</td>\n",
              "      <td>0.0</td>\n",
              "    </tr>\n",
              "    <tr>\n",
              "      <th>payroll_account</th>\n",
              "      <td>0</td>\n",
              "      <td>0</td>\n",
              "      <td>0</td>\n",
              "      <td>0</td>\n",
              "      <td>0</td>\n",
              "    </tr>\n",
              "    <tr>\n",
              "      <th>emc_account</th>\n",
              "      <td>0</td>\n",
              "      <td>0</td>\n",
              "      <td>0</td>\n",
              "      <td>0</td>\n",
              "      <td>0</td>\n",
              "    </tr>\n",
              "    <tr>\n",
              "      <th>debit_card</th>\n",
              "      <td>0</td>\n",
              "      <td>0</td>\n",
              "      <td>0</td>\n",
              "      <td>0</td>\n",
              "      <td>0</td>\n",
              "    </tr>\n",
              "    <tr>\n",
              "      <th>em_account_p</th>\n",
              "      <td>0</td>\n",
              "      <td>0</td>\n",
              "      <td>0</td>\n",
              "      <td>0</td>\n",
              "      <td>0</td>\n",
              "    </tr>\n",
              "    <tr>\n",
              "      <th>em_acount</th>\n",
              "      <td>1</td>\n",
              "      <td>1</td>\n",
              "      <td>1</td>\n",
              "      <td>0</td>\n",
              "      <td>1</td>\n",
              "    </tr>\n",
              "  </tbody>\n",
              "</table>\n",
              "</div>\n",
              "      <button class=\"colab-df-convert\" onclick=\"convertToInteractive('df-d563d256-1e1f-4920-8f4b-5738eac21886')\"\n",
              "              title=\"Convert this dataframe to an interactive table.\"\n",
              "              style=\"display:none;\">\n",
              "        \n",
              "  <svg xmlns=\"http://www.w3.org/2000/svg\" height=\"24px\"viewBox=\"0 0 24 24\"\n",
              "       width=\"24px\">\n",
              "    <path d=\"M0 0h24v24H0V0z\" fill=\"none\"/>\n",
              "    <path d=\"M18.56 5.44l.94 2.06.94-2.06 2.06-.94-2.06-.94-.94-2.06-.94 2.06-2.06.94zm-11 1L8.5 8.5l.94-2.06 2.06-.94-2.06-.94L8.5 2.5l-.94 2.06-2.06.94zm10 10l.94 2.06.94-2.06 2.06-.94-2.06-.94-.94-2.06-.94 2.06-2.06.94z\"/><path d=\"M17.41 7.96l-1.37-1.37c-.4-.4-.92-.59-1.43-.59-.52 0-1.04.2-1.43.59L10.3 9.45l-7.72 7.72c-.78.78-.78 2.05 0 2.83L4 21.41c.39.39.9.59 1.41.59.51 0 1.02-.2 1.41-.59l7.78-7.78 2.81-2.81c.8-.78.8-2.07 0-2.86zM5.41 20L4 18.59l7.72-7.72 1.47 1.35L5.41 20z\"/>\n",
              "  </svg>\n",
              "      </button>\n",
              "      \n",
              "  <style>\n",
              "    .colab-df-container {\n",
              "      display:flex;\n",
              "      flex-wrap:wrap;\n",
              "      gap: 12px;\n",
              "    }\n",
              "\n",
              "    .colab-df-convert {\n",
              "      background-color: #E8F0FE;\n",
              "      border: none;\n",
              "      border-radius: 50%;\n",
              "      cursor: pointer;\n",
              "      display: none;\n",
              "      fill: #1967D2;\n",
              "      height: 32px;\n",
              "      padding: 0 0 0 0;\n",
              "      width: 32px;\n",
              "    }\n",
              "\n",
              "    .colab-df-convert:hover {\n",
              "      background-color: #E2EBFA;\n",
              "      box-shadow: 0px 1px 2px rgba(60, 64, 67, 0.3), 0px 1px 3px 1px rgba(60, 64, 67, 0.15);\n",
              "      fill: #174EA6;\n",
              "    }\n",
              "\n",
              "    [theme=dark] .colab-df-convert {\n",
              "      background-color: #3B4455;\n",
              "      fill: #D2E3FC;\n",
              "    }\n",
              "\n",
              "    [theme=dark] .colab-df-convert:hover {\n",
              "      background-color: #434B5C;\n",
              "      box-shadow: 0px 1px 3px 1px rgba(0, 0, 0, 0.15);\n",
              "      filter: drop-shadow(0px 1px 2px rgba(0, 0, 0, 0.3));\n",
              "      fill: #FFFFFF;\n",
              "    }\n",
              "  </style>\n",
              "\n",
              "      <script>\n",
              "        const buttonEl =\n",
              "          document.querySelector('#df-d563d256-1e1f-4920-8f4b-5738eac21886 button.colab-df-convert');\n",
              "        buttonEl.style.display =\n",
              "          google.colab.kernel.accessAllowed ? 'block' : 'none';\n",
              "\n",
              "        async function convertToInteractive(key) {\n",
              "          const element = document.querySelector('#df-d563d256-1e1f-4920-8f4b-5738eac21886');\n",
              "          const dataTable =\n",
              "            await google.colab.kernel.invokeFunction('convertToInteractive',\n",
              "                                                     [key], {});\n",
              "          if (!dataTable) return;\n",
              "\n",
              "          const docLinkHtml = 'Like what you see? Visit the ' +\n",
              "            '<a target=\"_blank\" href=https://colab.research.google.com/notebooks/data_table.ipynb>data table notebook</a>'\n",
              "            + ' to learn more about interactive tables.';\n",
              "          element.innerHTML = '';\n",
              "          dataTable['output_type'] = 'display_data';\n",
              "          await google.colab.output.renderOutput(dataTable, element);\n",
              "          const docLink = document.createElement('div');\n",
              "          docLink.innerHTML = docLinkHtml;\n",
              "          element.appendChild(docLink);\n",
              "        }\n",
              "      </script>\n",
              "    </div>\n",
              "  </div>\n",
              "  "
            ]
          },
          "metadata": {},
          "execution_count": 132
        }
      ]
    },
    {
      "cell_type": "markdown",
      "source": [
        "### Tamaño del dataset"
      ],
      "metadata": {
        "id": "8_1rAggEl6A_"
      }
    },
    {
      "cell_type": "code",
      "source": [
        "cust_products.info()"
      ],
      "metadata": {
        "colab": {
          "base_uri": "https://localhost:8080/"
        },
        "id": "xsVCfDgG7CKl",
        "outputId": "b93c6b96-5e53-4d16-b2a0-6a2466dc57b6"
      },
      "execution_count": 133,
      "outputs": [
        {
          "output_type": "stream",
          "name": "stdout",
          "text": [
            "<class 'pandas.core.frame.DataFrame'>\n",
            "RangeIndex: 5962924 entries, 0 to 5962923\n",
            "Data columns (total 18 columns):\n",
            " #   Column              Dtype  \n",
            "---  ------              -----  \n",
            " 0   Unnamed: 0          int64  \n",
            " 1   pk_cid              int64  \n",
            " 2   pk_partition        object \n",
            " 3   short_term_deposit  int64  \n",
            " 4   loans               int64  \n",
            " 5   mortgage            int64  \n",
            " 6   funds               int64  \n",
            " 7   securities          int64  \n",
            " 8   long_term_deposit   int64  \n",
            " 9   em_account_pp       int64  \n",
            " 10  credit_card         int64  \n",
            " 11  payroll             float64\n",
            " 12  pension_plan        float64\n",
            " 13  payroll_account     int64  \n",
            " 14  emc_account         int64  \n",
            " 15  debit_card          int64  \n",
            " 16  em_account_p        int64  \n",
            " 17  em_acount           int64  \n",
            "dtypes: float64(2), int64(15), object(1)\n",
            "memory usage: 818.9+ MB\n"
          ]
        }
      ]
    },
    {
      "cell_type": "markdown",
      "source": [
        "- pk_cid =\tIdentificador de cliente\n",
        "- pk_partition =\tIdentificador de Partición. Mensualmente se ingesta en la tabla una partición con el estado de la base de clientes.\n",
        "- credit_card =\tTenencia de tarjetas de crédito\n",
        "- debit_card =\tTenencia de tarjetas de débito\n",
        "- em_account_p =\tTenencia de Cuenta easyMoney+\n",
        "- em_account_pp =\tTenencia de Cuenta easyMoney++\n",
        "- em_acount =\tTenencia de Cuenta easyMoney\n",
        "- emc_account =\tTenencia de Cuenta easyMoney Crypto\n",
        "- funds =\tTenencia de Fondos de inversión\n",
        "- loans =\tTenencia de Préstamos\n",
        "- long_term_deposit =\tTenencia de Depósitos a largo plazo\n",
        "- mortgage =\tTenencia de hipoteca\n",
        "- payroll =\tTenencia de Domiciliaciones \n",
        "- payroll_account =\tTenencia de Cuenta bonificada por domiciliaciones\n",
        "- pension_plan =\tTenencia de Plan de pensiones\n",
        "- securities =\tTenencia de Valores\n",
        "- short_term_deposit =\tTenencia de Short-term deposits"
      ],
      "metadata": {
        "id": "-hn2Sd5s8XdF"
      }
    },
    {
      "cell_type": "code",
      "source": [
        "#Se elimina la columna Unnamed:0"
      ],
      "metadata": {
        "id": "hz13BMpRozMe"
      },
      "execution_count": 134,
      "outputs": []
    },
    {
      "cell_type": "code",
      "source": [
        "del cust_products['Unnamed: 0']"
      ],
      "metadata": {
        "id": "KDRoyz57oqKv"
      },
      "execution_count": 135,
      "outputs": []
    },
    {
      "cell_type": "code",
      "source": [
        "cust_products.info()"
      ],
      "metadata": {
        "id": "PW-YGSyro9Nm",
        "outputId": "3eeb2a5d-0590-4620-8a1b-c1f8b22c38f7",
        "colab": {
          "base_uri": "https://localhost:8080/"
        }
      },
      "execution_count": 136,
      "outputs": [
        {
          "output_type": "stream",
          "name": "stdout",
          "text": [
            "<class 'pandas.core.frame.DataFrame'>\n",
            "RangeIndex: 5962924 entries, 0 to 5962923\n",
            "Data columns (total 17 columns):\n",
            " #   Column              Dtype  \n",
            "---  ------              -----  \n",
            " 0   pk_cid              int64  \n",
            " 1   pk_partition        object \n",
            " 2   short_term_deposit  int64  \n",
            " 3   loans               int64  \n",
            " 4   mortgage            int64  \n",
            " 5   funds               int64  \n",
            " 6   securities          int64  \n",
            " 7   long_term_deposit   int64  \n",
            " 8   em_account_pp       int64  \n",
            " 9   credit_card         int64  \n",
            " 10  payroll             float64\n",
            " 11  pension_plan        float64\n",
            " 12  payroll_account     int64  \n",
            " 13  emc_account         int64  \n",
            " 14  debit_card          int64  \n",
            " 15  em_account_p        int64  \n",
            " 16  em_acount           int64  \n",
            "dtypes: float64(2), int64(14), object(1)\n",
            "memory usage: 773.4+ MB\n"
          ]
        }
      ]
    },
    {
      "cell_type": "code",
      "source": [
        "cust_products.head().T"
      ],
      "metadata": {
        "id": "Pw7Ab3P0pMcB",
        "outputId": "29f2e848-0e11-4d52-cbcf-6815ee2a4ca9",
        "colab": {
          "base_uri": "https://localhost:8080/",
          "height": 582
        }
      },
      "execution_count": 137,
      "outputs": [
        {
          "output_type": "execute_result",
          "data": {
            "text/plain": [
              "                          0        1        2        3        4\n",
              "pk_cid              1375586  1050611  1050612  1050613  1050614\n",
              "pk_partition        2018-01  2018-01  2018-01  2018-01  2018-01\n",
              "short_term_deposit        0        0        0        1        0\n",
              "loans                     0        0        0        0        0\n",
              "mortgage                  0        0        0        0        0\n",
              "funds                     0        0        0        0        0\n",
              "securities                0        0        0        0        0\n",
              "long_term_deposit         0        0        0        0        0\n",
              "em_account_pp             0        0        0        0        0\n",
              "credit_card               0        0        0        0        0\n",
              "payroll                 0.0      0.0      0.0      0.0      0.0\n",
              "pension_plan            0.0      0.0      0.0      0.0      0.0\n",
              "payroll_account           0        0        0        0        0\n",
              "emc_account               0        0        0        0        0\n",
              "debit_card                0        0        0        0        0\n",
              "em_account_p              0        0        0        0        0\n",
              "em_acount                 1        1        1        0        1"
            ],
            "text/html": [
              "\n",
              "  <div id=\"df-0419c6c4-0183-4ffc-a187-85bdb51b9140\">\n",
              "    <div class=\"colab-df-container\">\n",
              "      <div>\n",
              "<style scoped>\n",
              "    .dataframe tbody tr th:only-of-type {\n",
              "        vertical-align: middle;\n",
              "    }\n",
              "\n",
              "    .dataframe tbody tr th {\n",
              "        vertical-align: top;\n",
              "    }\n",
              "\n",
              "    .dataframe thead th {\n",
              "        text-align: right;\n",
              "    }\n",
              "</style>\n",
              "<table border=\"1\" class=\"dataframe\">\n",
              "  <thead>\n",
              "    <tr style=\"text-align: right;\">\n",
              "      <th></th>\n",
              "      <th>0</th>\n",
              "      <th>1</th>\n",
              "      <th>2</th>\n",
              "      <th>3</th>\n",
              "      <th>4</th>\n",
              "    </tr>\n",
              "  </thead>\n",
              "  <tbody>\n",
              "    <tr>\n",
              "      <th>pk_cid</th>\n",
              "      <td>1375586</td>\n",
              "      <td>1050611</td>\n",
              "      <td>1050612</td>\n",
              "      <td>1050613</td>\n",
              "      <td>1050614</td>\n",
              "    </tr>\n",
              "    <tr>\n",
              "      <th>pk_partition</th>\n",
              "      <td>2018-01</td>\n",
              "      <td>2018-01</td>\n",
              "      <td>2018-01</td>\n",
              "      <td>2018-01</td>\n",
              "      <td>2018-01</td>\n",
              "    </tr>\n",
              "    <tr>\n",
              "      <th>short_term_deposit</th>\n",
              "      <td>0</td>\n",
              "      <td>0</td>\n",
              "      <td>0</td>\n",
              "      <td>1</td>\n",
              "      <td>0</td>\n",
              "    </tr>\n",
              "    <tr>\n",
              "      <th>loans</th>\n",
              "      <td>0</td>\n",
              "      <td>0</td>\n",
              "      <td>0</td>\n",
              "      <td>0</td>\n",
              "      <td>0</td>\n",
              "    </tr>\n",
              "    <tr>\n",
              "      <th>mortgage</th>\n",
              "      <td>0</td>\n",
              "      <td>0</td>\n",
              "      <td>0</td>\n",
              "      <td>0</td>\n",
              "      <td>0</td>\n",
              "    </tr>\n",
              "    <tr>\n",
              "      <th>funds</th>\n",
              "      <td>0</td>\n",
              "      <td>0</td>\n",
              "      <td>0</td>\n",
              "      <td>0</td>\n",
              "      <td>0</td>\n",
              "    </tr>\n",
              "    <tr>\n",
              "      <th>securities</th>\n",
              "      <td>0</td>\n",
              "      <td>0</td>\n",
              "      <td>0</td>\n",
              "      <td>0</td>\n",
              "      <td>0</td>\n",
              "    </tr>\n",
              "    <tr>\n",
              "      <th>long_term_deposit</th>\n",
              "      <td>0</td>\n",
              "      <td>0</td>\n",
              "      <td>0</td>\n",
              "      <td>0</td>\n",
              "      <td>0</td>\n",
              "    </tr>\n",
              "    <tr>\n",
              "      <th>em_account_pp</th>\n",
              "      <td>0</td>\n",
              "      <td>0</td>\n",
              "      <td>0</td>\n",
              "      <td>0</td>\n",
              "      <td>0</td>\n",
              "    </tr>\n",
              "    <tr>\n",
              "      <th>credit_card</th>\n",
              "      <td>0</td>\n",
              "      <td>0</td>\n",
              "      <td>0</td>\n",
              "      <td>0</td>\n",
              "      <td>0</td>\n",
              "    </tr>\n",
              "    <tr>\n",
              "      <th>payroll</th>\n",
              "      <td>0.0</td>\n",
              "      <td>0.0</td>\n",
              "      <td>0.0</td>\n",
              "      <td>0.0</td>\n",
              "      <td>0.0</td>\n",
              "    </tr>\n",
              "    <tr>\n",
              "      <th>pension_plan</th>\n",
              "      <td>0.0</td>\n",
              "      <td>0.0</td>\n",
              "      <td>0.0</td>\n",
              "      <td>0.0</td>\n",
              "      <td>0.0</td>\n",
              "    </tr>\n",
              "    <tr>\n",
              "      <th>payroll_account</th>\n",
              "      <td>0</td>\n",
              "      <td>0</td>\n",
              "      <td>0</td>\n",
              "      <td>0</td>\n",
              "      <td>0</td>\n",
              "    </tr>\n",
              "    <tr>\n",
              "      <th>emc_account</th>\n",
              "      <td>0</td>\n",
              "      <td>0</td>\n",
              "      <td>0</td>\n",
              "      <td>0</td>\n",
              "      <td>0</td>\n",
              "    </tr>\n",
              "    <tr>\n",
              "      <th>debit_card</th>\n",
              "      <td>0</td>\n",
              "      <td>0</td>\n",
              "      <td>0</td>\n",
              "      <td>0</td>\n",
              "      <td>0</td>\n",
              "    </tr>\n",
              "    <tr>\n",
              "      <th>em_account_p</th>\n",
              "      <td>0</td>\n",
              "      <td>0</td>\n",
              "      <td>0</td>\n",
              "      <td>0</td>\n",
              "      <td>0</td>\n",
              "    </tr>\n",
              "    <tr>\n",
              "      <th>em_acount</th>\n",
              "      <td>1</td>\n",
              "      <td>1</td>\n",
              "      <td>1</td>\n",
              "      <td>0</td>\n",
              "      <td>1</td>\n",
              "    </tr>\n",
              "  </tbody>\n",
              "</table>\n",
              "</div>\n",
              "      <button class=\"colab-df-convert\" onclick=\"convertToInteractive('df-0419c6c4-0183-4ffc-a187-85bdb51b9140')\"\n",
              "              title=\"Convert this dataframe to an interactive table.\"\n",
              "              style=\"display:none;\">\n",
              "        \n",
              "  <svg xmlns=\"http://www.w3.org/2000/svg\" height=\"24px\"viewBox=\"0 0 24 24\"\n",
              "       width=\"24px\">\n",
              "    <path d=\"M0 0h24v24H0V0z\" fill=\"none\"/>\n",
              "    <path d=\"M18.56 5.44l.94 2.06.94-2.06 2.06-.94-2.06-.94-.94-2.06-.94 2.06-2.06.94zm-11 1L8.5 8.5l.94-2.06 2.06-.94-2.06-.94L8.5 2.5l-.94 2.06-2.06.94zm10 10l.94 2.06.94-2.06 2.06-.94-2.06-.94-.94-2.06-.94 2.06-2.06.94z\"/><path d=\"M17.41 7.96l-1.37-1.37c-.4-.4-.92-.59-1.43-.59-.52 0-1.04.2-1.43.59L10.3 9.45l-7.72 7.72c-.78.78-.78 2.05 0 2.83L4 21.41c.39.39.9.59 1.41.59.51 0 1.02-.2 1.41-.59l7.78-7.78 2.81-2.81c.8-.78.8-2.07 0-2.86zM5.41 20L4 18.59l7.72-7.72 1.47 1.35L5.41 20z\"/>\n",
              "  </svg>\n",
              "      </button>\n",
              "      \n",
              "  <style>\n",
              "    .colab-df-container {\n",
              "      display:flex;\n",
              "      flex-wrap:wrap;\n",
              "      gap: 12px;\n",
              "    }\n",
              "\n",
              "    .colab-df-convert {\n",
              "      background-color: #E8F0FE;\n",
              "      border: none;\n",
              "      border-radius: 50%;\n",
              "      cursor: pointer;\n",
              "      display: none;\n",
              "      fill: #1967D2;\n",
              "      height: 32px;\n",
              "      padding: 0 0 0 0;\n",
              "      width: 32px;\n",
              "    }\n",
              "\n",
              "    .colab-df-convert:hover {\n",
              "      background-color: #E2EBFA;\n",
              "      box-shadow: 0px 1px 2px rgba(60, 64, 67, 0.3), 0px 1px 3px 1px rgba(60, 64, 67, 0.15);\n",
              "      fill: #174EA6;\n",
              "    }\n",
              "\n",
              "    [theme=dark] .colab-df-convert {\n",
              "      background-color: #3B4455;\n",
              "      fill: #D2E3FC;\n",
              "    }\n",
              "\n",
              "    [theme=dark] .colab-df-convert:hover {\n",
              "      background-color: #434B5C;\n",
              "      box-shadow: 0px 1px 3px 1px rgba(0, 0, 0, 0.15);\n",
              "      filter: drop-shadow(0px 1px 2px rgba(0, 0, 0, 0.3));\n",
              "      fill: #FFFFFF;\n",
              "    }\n",
              "  </style>\n",
              "\n",
              "      <script>\n",
              "        const buttonEl =\n",
              "          document.querySelector('#df-0419c6c4-0183-4ffc-a187-85bdb51b9140 button.colab-df-convert');\n",
              "        buttonEl.style.display =\n",
              "          google.colab.kernel.accessAllowed ? 'block' : 'none';\n",
              "\n",
              "        async function convertToInteractive(key) {\n",
              "          const element = document.querySelector('#df-0419c6c4-0183-4ffc-a187-85bdb51b9140');\n",
              "          const dataTable =\n",
              "            await google.colab.kernel.invokeFunction('convertToInteractive',\n",
              "                                                     [key], {});\n",
              "          if (!dataTable) return;\n",
              "\n",
              "          const docLinkHtml = 'Like what you see? Visit the ' +\n",
              "            '<a target=\"_blank\" href=https://colab.research.google.com/notebooks/data_table.ipynb>data table notebook</a>'\n",
              "            + ' to learn more about interactive tables.';\n",
              "          element.innerHTML = '';\n",
              "          dataTable['output_type'] = 'display_data';\n",
              "          await google.colab.output.renderOutput(dataTable, element);\n",
              "          const docLink = document.createElement('div');\n",
              "          docLink.innerHTML = docLinkHtml;\n",
              "          element.appendChild(docLink);\n",
              "        }\n",
              "      </script>\n",
              "    </div>\n",
              "  </div>\n",
              "  "
            ]
          },
          "metadata": {},
          "execution_count": 137
        }
      ]
    },
    {
      "cell_type": "markdown",
      "source": [
        "###2.1.3 Tipos de atributos disponibles , 2.1.4 Estadisticos descriptivos y 2.1.5. Numero de valores nulos"
      ],
      "metadata": {
        "id": "npyVrfysro7v"
      }
    },
    {
      "cell_type": "code",
      "source": [
        "cust_products.isnull().sum()"
      ],
      "metadata": {
        "id": "9JMel0R20u_n",
        "outputId": "62336cb9-2720-4d88-9909-7cc79449af4a",
        "colab": {
          "base_uri": "https://localhost:8080/"
        }
      },
      "execution_count": 138,
      "outputs": [
        {
          "output_type": "execute_result",
          "data": {
            "text/plain": [
              "pk_cid                 0\n",
              "pk_partition           0\n",
              "short_term_deposit     0\n",
              "loans                  0\n",
              "mortgage               0\n",
              "funds                  0\n",
              "securities             0\n",
              "long_term_deposit      0\n",
              "em_account_pp          0\n",
              "credit_card            0\n",
              "payroll               61\n",
              "pension_plan          61\n",
              "payroll_account        0\n",
              "emc_account            0\n",
              "debit_card             0\n",
              "em_account_p           0\n",
              "em_acount              0\n",
              "dtype: int64"
            ]
          },
          "metadata": {},
          "execution_count": 138
        }
      ]
    },
    {
      "cell_type": "code",
      "source": [
        "cust_products.describe(include=np.number).T"
      ],
      "metadata": {
        "id": "tKZgrcMqrytP",
        "outputId": "5fee5379-2ecc-4fe5-efad-c1686c3011da",
        "colab": {
          "base_uri": "https://localhost:8080/",
          "height": 551
        }
      },
      "execution_count": 139,
      "outputs": [
        {
          "output_type": "execute_result",
          "data": {
            "text/plain": [
              "                        count          mean            std      min  \\\n",
              "pk_cid              5962924.0  1.234930e+06  162302.043492  15891.0   \n",
              "short_term_deposit  5962924.0  2.581619e-03       0.050744      0.0   \n",
              "loans               5962924.0  7.848498e-05       0.008859      0.0   \n",
              "mortgage            5962924.0  5.433576e-05       0.007371      0.0   \n",
              "funds               5962924.0  3.370662e-03       0.057959      0.0   \n",
              "securities          5962924.0  3.711770e-03       0.060811      0.0   \n",
              "long_term_deposit   5962924.0  1.688098e-02       0.128826      0.0   \n",
              "em_account_pp       5962924.0  0.000000e+00       0.000000      0.0   \n",
              "credit_card         5962924.0  1.188444e-02       0.108366      0.0   \n",
              "payroll             5962863.0  3.451144e-02       0.182539      0.0   \n",
              "pension_plan        5962863.0  3.652641e-02       0.187596      0.0   \n",
              "payroll_account     5962924.0  5.524471e-02       0.228457      0.0   \n",
              "emc_account         5962924.0  5.483233e-02       0.227653      0.0   \n",
              "debit_card          5962924.0  9.441140e-02       0.292400      0.0   \n",
              "em_account_p        5962924.0  5.701901e-06       0.002388      0.0   \n",
              "em_acount           5962924.0  7.348076e-01       0.441436      0.0   \n",
              "\n",
              "                          25%        50%        75%        max  \n",
              "pk_cid              1112532.0  1231097.0  1352339.0  1553689.0  \n",
              "short_term_deposit        0.0        0.0        0.0        1.0  \n",
              "loans                     0.0        0.0        0.0        1.0  \n",
              "mortgage                  0.0        0.0        0.0        1.0  \n",
              "funds                     0.0        0.0        0.0        1.0  \n",
              "securities                0.0        0.0        0.0        1.0  \n",
              "long_term_deposit         0.0        0.0        0.0        1.0  \n",
              "em_account_pp             0.0        0.0        0.0        0.0  \n",
              "credit_card               0.0        0.0        0.0        1.0  \n",
              "payroll                   0.0        0.0        0.0        1.0  \n",
              "pension_plan              0.0        0.0        0.0        1.0  \n",
              "payroll_account           0.0        0.0        0.0        1.0  \n",
              "emc_account               0.0        0.0        0.0        1.0  \n",
              "debit_card                0.0        0.0        0.0        1.0  \n",
              "em_account_p              0.0        0.0        0.0        1.0  \n",
              "em_acount                 0.0        1.0        1.0        1.0  "
            ],
            "text/html": [
              "\n",
              "  <div id=\"df-c38d4a34-ebd0-433b-8c3c-e997cc42cbb2\">\n",
              "    <div class=\"colab-df-container\">\n",
              "      <div>\n",
              "<style scoped>\n",
              "    .dataframe tbody tr th:only-of-type {\n",
              "        vertical-align: middle;\n",
              "    }\n",
              "\n",
              "    .dataframe tbody tr th {\n",
              "        vertical-align: top;\n",
              "    }\n",
              "\n",
              "    .dataframe thead th {\n",
              "        text-align: right;\n",
              "    }\n",
              "</style>\n",
              "<table border=\"1\" class=\"dataframe\">\n",
              "  <thead>\n",
              "    <tr style=\"text-align: right;\">\n",
              "      <th></th>\n",
              "      <th>count</th>\n",
              "      <th>mean</th>\n",
              "      <th>std</th>\n",
              "      <th>min</th>\n",
              "      <th>25%</th>\n",
              "      <th>50%</th>\n",
              "      <th>75%</th>\n",
              "      <th>max</th>\n",
              "    </tr>\n",
              "  </thead>\n",
              "  <tbody>\n",
              "    <tr>\n",
              "      <th>pk_cid</th>\n",
              "      <td>5962924.0</td>\n",
              "      <td>1.234930e+06</td>\n",
              "      <td>162302.043492</td>\n",
              "      <td>15891.0</td>\n",
              "      <td>1112532.0</td>\n",
              "      <td>1231097.0</td>\n",
              "      <td>1352339.0</td>\n",
              "      <td>1553689.0</td>\n",
              "    </tr>\n",
              "    <tr>\n",
              "      <th>short_term_deposit</th>\n",
              "      <td>5962924.0</td>\n",
              "      <td>2.581619e-03</td>\n",
              "      <td>0.050744</td>\n",
              "      <td>0.0</td>\n",
              "      <td>0.0</td>\n",
              "      <td>0.0</td>\n",
              "      <td>0.0</td>\n",
              "      <td>1.0</td>\n",
              "    </tr>\n",
              "    <tr>\n",
              "      <th>loans</th>\n",
              "      <td>5962924.0</td>\n",
              "      <td>7.848498e-05</td>\n",
              "      <td>0.008859</td>\n",
              "      <td>0.0</td>\n",
              "      <td>0.0</td>\n",
              "      <td>0.0</td>\n",
              "      <td>0.0</td>\n",
              "      <td>1.0</td>\n",
              "    </tr>\n",
              "    <tr>\n",
              "      <th>mortgage</th>\n",
              "      <td>5962924.0</td>\n",
              "      <td>5.433576e-05</td>\n",
              "      <td>0.007371</td>\n",
              "      <td>0.0</td>\n",
              "      <td>0.0</td>\n",
              "      <td>0.0</td>\n",
              "      <td>0.0</td>\n",
              "      <td>1.0</td>\n",
              "    </tr>\n",
              "    <tr>\n",
              "      <th>funds</th>\n",
              "      <td>5962924.0</td>\n",
              "      <td>3.370662e-03</td>\n",
              "      <td>0.057959</td>\n",
              "      <td>0.0</td>\n",
              "      <td>0.0</td>\n",
              "      <td>0.0</td>\n",
              "      <td>0.0</td>\n",
              "      <td>1.0</td>\n",
              "    </tr>\n",
              "    <tr>\n",
              "      <th>securities</th>\n",
              "      <td>5962924.0</td>\n",
              "      <td>3.711770e-03</td>\n",
              "      <td>0.060811</td>\n",
              "      <td>0.0</td>\n",
              "      <td>0.0</td>\n",
              "      <td>0.0</td>\n",
              "      <td>0.0</td>\n",
              "      <td>1.0</td>\n",
              "    </tr>\n",
              "    <tr>\n",
              "      <th>long_term_deposit</th>\n",
              "      <td>5962924.0</td>\n",
              "      <td>1.688098e-02</td>\n",
              "      <td>0.128826</td>\n",
              "      <td>0.0</td>\n",
              "      <td>0.0</td>\n",
              "      <td>0.0</td>\n",
              "      <td>0.0</td>\n",
              "      <td>1.0</td>\n",
              "    </tr>\n",
              "    <tr>\n",
              "      <th>em_account_pp</th>\n",
              "      <td>5962924.0</td>\n",
              "      <td>0.000000e+00</td>\n",
              "      <td>0.000000</td>\n",
              "      <td>0.0</td>\n",
              "      <td>0.0</td>\n",
              "      <td>0.0</td>\n",
              "      <td>0.0</td>\n",
              "      <td>0.0</td>\n",
              "    </tr>\n",
              "    <tr>\n",
              "      <th>credit_card</th>\n",
              "      <td>5962924.0</td>\n",
              "      <td>1.188444e-02</td>\n",
              "      <td>0.108366</td>\n",
              "      <td>0.0</td>\n",
              "      <td>0.0</td>\n",
              "      <td>0.0</td>\n",
              "      <td>0.0</td>\n",
              "      <td>1.0</td>\n",
              "    </tr>\n",
              "    <tr>\n",
              "      <th>payroll</th>\n",
              "      <td>5962863.0</td>\n",
              "      <td>3.451144e-02</td>\n",
              "      <td>0.182539</td>\n",
              "      <td>0.0</td>\n",
              "      <td>0.0</td>\n",
              "      <td>0.0</td>\n",
              "      <td>0.0</td>\n",
              "      <td>1.0</td>\n",
              "    </tr>\n",
              "    <tr>\n",
              "      <th>pension_plan</th>\n",
              "      <td>5962863.0</td>\n",
              "      <td>3.652641e-02</td>\n",
              "      <td>0.187596</td>\n",
              "      <td>0.0</td>\n",
              "      <td>0.0</td>\n",
              "      <td>0.0</td>\n",
              "      <td>0.0</td>\n",
              "      <td>1.0</td>\n",
              "    </tr>\n",
              "    <tr>\n",
              "      <th>payroll_account</th>\n",
              "      <td>5962924.0</td>\n",
              "      <td>5.524471e-02</td>\n",
              "      <td>0.228457</td>\n",
              "      <td>0.0</td>\n",
              "      <td>0.0</td>\n",
              "      <td>0.0</td>\n",
              "      <td>0.0</td>\n",
              "      <td>1.0</td>\n",
              "    </tr>\n",
              "    <tr>\n",
              "      <th>emc_account</th>\n",
              "      <td>5962924.0</td>\n",
              "      <td>5.483233e-02</td>\n",
              "      <td>0.227653</td>\n",
              "      <td>0.0</td>\n",
              "      <td>0.0</td>\n",
              "      <td>0.0</td>\n",
              "      <td>0.0</td>\n",
              "      <td>1.0</td>\n",
              "    </tr>\n",
              "    <tr>\n",
              "      <th>debit_card</th>\n",
              "      <td>5962924.0</td>\n",
              "      <td>9.441140e-02</td>\n",
              "      <td>0.292400</td>\n",
              "      <td>0.0</td>\n",
              "      <td>0.0</td>\n",
              "      <td>0.0</td>\n",
              "      <td>0.0</td>\n",
              "      <td>1.0</td>\n",
              "    </tr>\n",
              "    <tr>\n",
              "      <th>em_account_p</th>\n",
              "      <td>5962924.0</td>\n",
              "      <td>5.701901e-06</td>\n",
              "      <td>0.002388</td>\n",
              "      <td>0.0</td>\n",
              "      <td>0.0</td>\n",
              "      <td>0.0</td>\n",
              "      <td>0.0</td>\n",
              "      <td>1.0</td>\n",
              "    </tr>\n",
              "    <tr>\n",
              "      <th>em_acount</th>\n",
              "      <td>5962924.0</td>\n",
              "      <td>7.348076e-01</td>\n",
              "      <td>0.441436</td>\n",
              "      <td>0.0</td>\n",
              "      <td>0.0</td>\n",
              "      <td>1.0</td>\n",
              "      <td>1.0</td>\n",
              "      <td>1.0</td>\n",
              "    </tr>\n",
              "  </tbody>\n",
              "</table>\n",
              "</div>\n",
              "      <button class=\"colab-df-convert\" onclick=\"convertToInteractive('df-c38d4a34-ebd0-433b-8c3c-e997cc42cbb2')\"\n",
              "              title=\"Convert this dataframe to an interactive table.\"\n",
              "              style=\"display:none;\">\n",
              "        \n",
              "  <svg xmlns=\"http://www.w3.org/2000/svg\" height=\"24px\"viewBox=\"0 0 24 24\"\n",
              "       width=\"24px\">\n",
              "    <path d=\"M0 0h24v24H0V0z\" fill=\"none\"/>\n",
              "    <path d=\"M18.56 5.44l.94 2.06.94-2.06 2.06-.94-2.06-.94-.94-2.06-.94 2.06-2.06.94zm-11 1L8.5 8.5l.94-2.06 2.06-.94-2.06-.94L8.5 2.5l-.94 2.06-2.06.94zm10 10l.94 2.06.94-2.06 2.06-.94-2.06-.94-.94-2.06-.94 2.06-2.06.94z\"/><path d=\"M17.41 7.96l-1.37-1.37c-.4-.4-.92-.59-1.43-.59-.52 0-1.04.2-1.43.59L10.3 9.45l-7.72 7.72c-.78.78-.78 2.05 0 2.83L4 21.41c.39.39.9.59 1.41.59.51 0 1.02-.2 1.41-.59l7.78-7.78 2.81-2.81c.8-.78.8-2.07 0-2.86zM5.41 20L4 18.59l7.72-7.72 1.47 1.35L5.41 20z\"/>\n",
              "  </svg>\n",
              "      </button>\n",
              "      \n",
              "  <style>\n",
              "    .colab-df-container {\n",
              "      display:flex;\n",
              "      flex-wrap:wrap;\n",
              "      gap: 12px;\n",
              "    }\n",
              "\n",
              "    .colab-df-convert {\n",
              "      background-color: #E8F0FE;\n",
              "      border: none;\n",
              "      border-radius: 50%;\n",
              "      cursor: pointer;\n",
              "      display: none;\n",
              "      fill: #1967D2;\n",
              "      height: 32px;\n",
              "      padding: 0 0 0 0;\n",
              "      width: 32px;\n",
              "    }\n",
              "\n",
              "    .colab-df-convert:hover {\n",
              "      background-color: #E2EBFA;\n",
              "      box-shadow: 0px 1px 2px rgba(60, 64, 67, 0.3), 0px 1px 3px 1px rgba(60, 64, 67, 0.15);\n",
              "      fill: #174EA6;\n",
              "    }\n",
              "\n",
              "    [theme=dark] .colab-df-convert {\n",
              "      background-color: #3B4455;\n",
              "      fill: #D2E3FC;\n",
              "    }\n",
              "\n",
              "    [theme=dark] .colab-df-convert:hover {\n",
              "      background-color: #434B5C;\n",
              "      box-shadow: 0px 1px 3px 1px rgba(0, 0, 0, 0.15);\n",
              "      filter: drop-shadow(0px 1px 2px rgba(0, 0, 0, 0.3));\n",
              "      fill: #FFFFFF;\n",
              "    }\n",
              "  </style>\n",
              "\n",
              "      <script>\n",
              "        const buttonEl =\n",
              "          document.querySelector('#df-c38d4a34-ebd0-433b-8c3c-e997cc42cbb2 button.colab-df-convert');\n",
              "        buttonEl.style.display =\n",
              "          google.colab.kernel.accessAllowed ? 'block' : 'none';\n",
              "\n",
              "        async function convertToInteractive(key) {\n",
              "          const element = document.querySelector('#df-c38d4a34-ebd0-433b-8c3c-e997cc42cbb2');\n",
              "          const dataTable =\n",
              "            await google.colab.kernel.invokeFunction('convertToInteractive',\n",
              "                                                     [key], {});\n",
              "          if (!dataTable) return;\n",
              "\n",
              "          const docLinkHtml = 'Like what you see? Visit the ' +\n",
              "            '<a target=\"_blank\" href=https://colab.research.google.com/notebooks/data_table.ipynb>data table notebook</a>'\n",
              "            + ' to learn more about interactive tables.';\n",
              "          element.innerHTML = '';\n",
              "          dataTable['output_type'] = 'display_data';\n",
              "          await google.colab.output.renderOutput(dataTable, element);\n",
              "          const docLink = document.createElement('div');\n",
              "          docLink.innerHTML = docLinkHtml;\n",
              "          element.appendChild(docLink);\n",
              "        }\n",
              "      </script>\n",
              "    </div>\n",
              "  </div>\n",
              "  "
            ]
          },
          "metadata": {},
          "execution_count": 139
        }
      ]
    },
    {
      "cell_type": "markdown",
      "source": [
        "Por una parte tenemos el pk_cid, y por otra el resto de variables numéricas.\n",
        "\n",
        "- A la variable pk_cid la vamos a llamar customer_ID, y la transformaremos a object.\n",
        "- Ese resto de variables son boleanas, vamos a alinear su dtype a tipo int, de todos modos más tarde el OHE las pasará automáticamente a boleanas.\n",
        "- la variable \"em_account_pp\" no tiene datos, la eliminamos"
      ],
      "metadata": {
        "id": "FVjLLHohr-hZ"
      }
    },
    {
      "cell_type": "code",
      "source": [
        "cust_products = cust_products.rename(columns={'pk_cid': 'customer_ID'})"
      ],
      "metadata": {
        "id": "CxNEEWN3txRP"
      },
      "execution_count": 140,
      "outputs": []
    },
    {
      "cell_type": "code",
      "source": [
        "cust_products['customer_ID'] = cust_products['customer_ID'].astype('object')"
      ],
      "metadata": {
        "id": "k8B9drBDtxOu"
      },
      "execution_count": 141,
      "outputs": []
    },
    {
      "cell_type": "code",
      "source": [
        "variables_to_int = cust_products.select_dtypes(include=['float']).columns #metemos en el saco las decimales"
      ],
      "metadata": {
        "id": "uBn0STFpuwzB"
      },
      "execution_count": 142,
      "outputs": []
    },
    {
      "cell_type": "code",
      "source": [
        "#cust_products[variables_to_bool] = cust_products[variables_to_bool].applymap(int) LO HAREMOS UNA VEZ TENGAMOS LOS NULOS IMPUTADOS"
      ],
      "metadata": {
        "id": "U_UB5jXlu_WX"
      },
      "execution_count": 143,
      "outputs": []
    },
    {
      "cell_type": "code",
      "source": [
        "del cust_products['em_account_pp']"
      ],
      "metadata": {
        "id": "L6ESzTaYwEf4"
      },
      "execution_count": 144,
      "outputs": []
    },
    {
      "cell_type": "code",
      "source": [
        "cust_products.info()"
      ],
      "metadata": {
        "id": "ZLWdKqmQvNTe",
        "outputId": "dad9064a-babb-4c38-afbe-2d3995c95861",
        "colab": {
          "base_uri": "https://localhost:8080/"
        }
      },
      "execution_count": 145,
      "outputs": [
        {
          "output_type": "stream",
          "name": "stdout",
          "text": [
            "<class 'pandas.core.frame.DataFrame'>\n",
            "RangeIndex: 5962924 entries, 0 to 5962923\n",
            "Data columns (total 16 columns):\n",
            " #   Column              Dtype  \n",
            "---  ------              -----  \n",
            " 0   customer_ID         object \n",
            " 1   pk_partition        object \n",
            " 2   short_term_deposit  int64  \n",
            " 3   loans               int64  \n",
            " 4   mortgage            int64  \n",
            " 5   funds               int64  \n",
            " 6   securities          int64  \n",
            " 7   long_term_deposit   int64  \n",
            " 8   credit_card         int64  \n",
            " 9   payroll             float64\n",
            " 10  pension_plan        float64\n",
            " 11  payroll_account     int64  \n",
            " 12  emc_account         int64  \n",
            " 13  debit_card          int64  \n",
            " 14  em_account_p        int64  \n",
            " 15  em_acount           int64  \n",
            "dtypes: float64(2), int64(12), object(2)\n",
            "memory usage: 727.9+ MB\n"
          ]
        }
      ]
    },
    {
      "cell_type": "code",
      "source": [
        "cust_products.describe(include=object).T"
      ],
      "metadata": {
        "id": "K5hMrfvjvVAX",
        "outputId": "238ff9a4-db38-4e3f-eb58-c3c959565c0c",
        "colab": {
          "base_uri": "https://localhost:8080/",
          "height": 112
        }
      },
      "execution_count": 146,
      "outputs": [
        {
          "output_type": "execute_result",
          "data": {
            "text/plain": [
              "                count  unique      top    freq\n",
              "customer_ID   5962924  456373  1375586      17\n",
              "pk_partition  5962924      17  2019-05  442995"
            ],
            "text/html": [
              "\n",
              "  <div id=\"df-7b13049a-4564-4f91-bf70-39f8f815e239\">\n",
              "    <div class=\"colab-df-container\">\n",
              "      <div>\n",
              "<style scoped>\n",
              "    .dataframe tbody tr th:only-of-type {\n",
              "        vertical-align: middle;\n",
              "    }\n",
              "\n",
              "    .dataframe tbody tr th {\n",
              "        vertical-align: top;\n",
              "    }\n",
              "\n",
              "    .dataframe thead th {\n",
              "        text-align: right;\n",
              "    }\n",
              "</style>\n",
              "<table border=\"1\" class=\"dataframe\">\n",
              "  <thead>\n",
              "    <tr style=\"text-align: right;\">\n",
              "      <th></th>\n",
              "      <th>count</th>\n",
              "      <th>unique</th>\n",
              "      <th>top</th>\n",
              "      <th>freq</th>\n",
              "    </tr>\n",
              "  </thead>\n",
              "  <tbody>\n",
              "    <tr>\n",
              "      <th>customer_ID</th>\n",
              "      <td>5962924</td>\n",
              "      <td>456373</td>\n",
              "      <td>1375586</td>\n",
              "      <td>17</td>\n",
              "    </tr>\n",
              "    <tr>\n",
              "      <th>pk_partition</th>\n",
              "      <td>5962924</td>\n",
              "      <td>17</td>\n",
              "      <td>2019-05</td>\n",
              "      <td>442995</td>\n",
              "    </tr>\n",
              "  </tbody>\n",
              "</table>\n",
              "</div>\n",
              "      <button class=\"colab-df-convert\" onclick=\"convertToInteractive('df-7b13049a-4564-4f91-bf70-39f8f815e239')\"\n",
              "              title=\"Convert this dataframe to an interactive table.\"\n",
              "              style=\"display:none;\">\n",
              "        \n",
              "  <svg xmlns=\"http://www.w3.org/2000/svg\" height=\"24px\"viewBox=\"0 0 24 24\"\n",
              "       width=\"24px\">\n",
              "    <path d=\"M0 0h24v24H0V0z\" fill=\"none\"/>\n",
              "    <path d=\"M18.56 5.44l.94 2.06.94-2.06 2.06-.94-2.06-.94-.94-2.06-.94 2.06-2.06.94zm-11 1L8.5 8.5l.94-2.06 2.06-.94-2.06-.94L8.5 2.5l-.94 2.06-2.06.94zm10 10l.94 2.06.94-2.06 2.06-.94-2.06-.94-.94-2.06-.94 2.06-2.06.94z\"/><path d=\"M17.41 7.96l-1.37-1.37c-.4-.4-.92-.59-1.43-.59-.52 0-1.04.2-1.43.59L10.3 9.45l-7.72 7.72c-.78.78-.78 2.05 0 2.83L4 21.41c.39.39.9.59 1.41.59.51 0 1.02-.2 1.41-.59l7.78-7.78 2.81-2.81c.8-.78.8-2.07 0-2.86zM5.41 20L4 18.59l7.72-7.72 1.47 1.35L5.41 20z\"/>\n",
              "  </svg>\n",
              "      </button>\n",
              "      \n",
              "  <style>\n",
              "    .colab-df-container {\n",
              "      display:flex;\n",
              "      flex-wrap:wrap;\n",
              "      gap: 12px;\n",
              "    }\n",
              "\n",
              "    .colab-df-convert {\n",
              "      background-color: #E8F0FE;\n",
              "      border: none;\n",
              "      border-radius: 50%;\n",
              "      cursor: pointer;\n",
              "      display: none;\n",
              "      fill: #1967D2;\n",
              "      height: 32px;\n",
              "      padding: 0 0 0 0;\n",
              "      width: 32px;\n",
              "    }\n",
              "\n",
              "    .colab-df-convert:hover {\n",
              "      background-color: #E2EBFA;\n",
              "      box-shadow: 0px 1px 2px rgba(60, 64, 67, 0.3), 0px 1px 3px 1px rgba(60, 64, 67, 0.15);\n",
              "      fill: #174EA6;\n",
              "    }\n",
              "\n",
              "    [theme=dark] .colab-df-convert {\n",
              "      background-color: #3B4455;\n",
              "      fill: #D2E3FC;\n",
              "    }\n",
              "\n",
              "    [theme=dark] .colab-df-convert:hover {\n",
              "      background-color: #434B5C;\n",
              "      box-shadow: 0px 1px 3px 1px rgba(0, 0, 0, 0.15);\n",
              "      filter: drop-shadow(0px 1px 2px rgba(0, 0, 0, 0.3));\n",
              "      fill: #FFFFFF;\n",
              "    }\n",
              "  </style>\n",
              "\n",
              "      <script>\n",
              "        const buttonEl =\n",
              "          document.querySelector('#df-7b13049a-4564-4f91-bf70-39f8f815e239 button.colab-df-convert');\n",
              "        buttonEl.style.display =\n",
              "          google.colab.kernel.accessAllowed ? 'block' : 'none';\n",
              "\n",
              "        async function convertToInteractive(key) {\n",
              "          const element = document.querySelector('#df-7b13049a-4564-4f91-bf70-39f8f815e239');\n",
              "          const dataTable =\n",
              "            await google.colab.kernel.invokeFunction('convertToInteractive',\n",
              "                                                     [key], {});\n",
              "          if (!dataTable) return;\n",
              "\n",
              "          const docLinkHtml = 'Like what you see? Visit the ' +\n",
              "            '<a target=\"_blank\" href=https://colab.research.google.com/notebooks/data_table.ipynb>data table notebook</a>'\n",
              "            + ' to learn more about interactive tables.';\n",
              "          element.innerHTML = '';\n",
              "          dataTable['output_type'] = 'display_data';\n",
              "          await google.colab.output.renderOutput(dataTable, element);\n",
              "          const docLink = document.createElement('div');\n",
              "          docLink.innerHTML = docLinkHtml;\n",
              "          element.appendChild(docLink);\n",
              "        }\n",
              "      </script>\n",
              "    </div>\n",
              "  </div>\n",
              "  "
            ]
          },
          "metadata": {},
          "execution_count": 146
        }
      ]
    },
    {
      "cell_type": "markdown",
      "source": [
        "Con pk_partition lo que haremos será:\n",
        "\n",
        "- Primero alinear el nombre a partition_ID\n",
        "- Después cambiarla a tipo date yyyy/mm\n",
        "- No vamos a dividir en mes y año ya que no nos va a dar información extra"
      ],
      "metadata": {
        "id": "hEse4RWQvjeX"
      }
    },
    {
      "cell_type": "code",
      "source": [
        "cust_products = cust_products.rename(columns={'pk_partition': 'partition_ID'})"
      ],
      "metadata": {
        "id": "VkRp-XoZxhE3"
      },
      "execution_count": 147,
      "outputs": []
    },
    {
      "cell_type": "code",
      "source": [
        "cust_products['partition_ID'] = pd.to_datetime(cust_products['partition_ID'], format='%Y-%m', dayfirst=True).dt.to_period('M')"
      ],
      "metadata": {
        "id": "FZwcJHuHyGyO"
      },
      "execution_count": 148,
      "outputs": []
    },
    {
      "cell_type": "code",
      "source": [
        "cust_products.info()"
      ],
      "metadata": {
        "id": "yZAI3ck9z1sv",
        "outputId": "ea963db1-e6d5-406b-9ad2-cc4ed44f6217",
        "colab": {
          "base_uri": "https://localhost:8080/"
        }
      },
      "execution_count": 149,
      "outputs": [
        {
          "output_type": "stream",
          "name": "stdout",
          "text": [
            "<class 'pandas.core.frame.DataFrame'>\n",
            "RangeIndex: 5962924 entries, 0 to 5962923\n",
            "Data columns (total 16 columns):\n",
            " #   Column              Dtype    \n",
            "---  ------              -----    \n",
            " 0   customer_ID         object   \n",
            " 1   partition_ID        period[M]\n",
            " 2   short_term_deposit  int64    \n",
            " 3   loans               int64    \n",
            " 4   mortgage            int64    \n",
            " 5   funds               int64    \n",
            " 6   securities          int64    \n",
            " 7   long_term_deposit   int64    \n",
            " 8   credit_card         int64    \n",
            " 9   payroll             float64  \n",
            " 10  pension_plan        float64  \n",
            " 11  payroll_account     int64    \n",
            " 12  emc_account         int64    \n",
            " 13  debit_card          int64    \n",
            " 14  em_account_p        int64    \n",
            " 15  em_acount           int64    \n",
            "dtypes: float64(2), int64(12), object(1), period[M](1)\n",
            "memory usage: 727.9+ MB\n"
          ]
        }
      ]
    },
    {
      "cell_type": "code",
      "source": [
        "cust_products.head()"
      ],
      "metadata": {
        "id": "u2p-5ukHz8FX",
        "outputId": "346b5536-c632-4b70-c78d-613fdc403b39",
        "colab": {
          "base_uri": "https://localhost:8080/",
          "height": 206
        }
      },
      "execution_count": 150,
      "outputs": [
        {
          "output_type": "execute_result",
          "data": {
            "text/plain": [
              "  customer_ID partition_ID  short_term_deposit  loans  mortgage  funds  \\\n",
              "0     1375586      2018-01                   0      0         0      0   \n",
              "1     1050611      2018-01                   0      0         0      0   \n",
              "2     1050612      2018-01                   0      0         0      0   \n",
              "3     1050613      2018-01                   1      0         0      0   \n",
              "4     1050614      2018-01                   0      0         0      0   \n",
              "\n",
              "   securities  long_term_deposit  credit_card  payroll  pension_plan  \\\n",
              "0           0                  0            0      0.0           0.0   \n",
              "1           0                  0            0      0.0           0.0   \n",
              "2           0                  0            0      0.0           0.0   \n",
              "3           0                  0            0      0.0           0.0   \n",
              "4           0                  0            0      0.0           0.0   \n",
              "\n",
              "   payroll_account  emc_account  debit_card  em_account_p  em_acount  \n",
              "0                0            0           0             0          1  \n",
              "1                0            0           0             0          1  \n",
              "2                0            0           0             0          1  \n",
              "3                0            0           0             0          0  \n",
              "4                0            0           0             0          1  "
            ],
            "text/html": [
              "\n",
              "  <div id=\"df-552daa47-0f07-4692-a10b-d714d3b30a88\">\n",
              "    <div class=\"colab-df-container\">\n",
              "      <div>\n",
              "<style scoped>\n",
              "    .dataframe tbody tr th:only-of-type {\n",
              "        vertical-align: middle;\n",
              "    }\n",
              "\n",
              "    .dataframe tbody tr th {\n",
              "        vertical-align: top;\n",
              "    }\n",
              "\n",
              "    .dataframe thead th {\n",
              "        text-align: right;\n",
              "    }\n",
              "</style>\n",
              "<table border=\"1\" class=\"dataframe\">\n",
              "  <thead>\n",
              "    <tr style=\"text-align: right;\">\n",
              "      <th></th>\n",
              "      <th>customer_ID</th>\n",
              "      <th>partition_ID</th>\n",
              "      <th>short_term_deposit</th>\n",
              "      <th>loans</th>\n",
              "      <th>mortgage</th>\n",
              "      <th>funds</th>\n",
              "      <th>securities</th>\n",
              "      <th>long_term_deposit</th>\n",
              "      <th>credit_card</th>\n",
              "      <th>payroll</th>\n",
              "      <th>pension_plan</th>\n",
              "      <th>payroll_account</th>\n",
              "      <th>emc_account</th>\n",
              "      <th>debit_card</th>\n",
              "      <th>em_account_p</th>\n",
              "      <th>em_acount</th>\n",
              "    </tr>\n",
              "  </thead>\n",
              "  <tbody>\n",
              "    <tr>\n",
              "      <th>0</th>\n",
              "      <td>1375586</td>\n",
              "      <td>2018-01</td>\n",
              "      <td>0</td>\n",
              "      <td>0</td>\n",
              "      <td>0</td>\n",
              "      <td>0</td>\n",
              "      <td>0</td>\n",
              "      <td>0</td>\n",
              "      <td>0</td>\n",
              "      <td>0.0</td>\n",
              "      <td>0.0</td>\n",
              "      <td>0</td>\n",
              "      <td>0</td>\n",
              "      <td>0</td>\n",
              "      <td>0</td>\n",
              "      <td>1</td>\n",
              "    </tr>\n",
              "    <tr>\n",
              "      <th>1</th>\n",
              "      <td>1050611</td>\n",
              "      <td>2018-01</td>\n",
              "      <td>0</td>\n",
              "      <td>0</td>\n",
              "      <td>0</td>\n",
              "      <td>0</td>\n",
              "      <td>0</td>\n",
              "      <td>0</td>\n",
              "      <td>0</td>\n",
              "      <td>0.0</td>\n",
              "      <td>0.0</td>\n",
              "      <td>0</td>\n",
              "      <td>0</td>\n",
              "      <td>0</td>\n",
              "      <td>0</td>\n",
              "      <td>1</td>\n",
              "    </tr>\n",
              "    <tr>\n",
              "      <th>2</th>\n",
              "      <td>1050612</td>\n",
              "      <td>2018-01</td>\n",
              "      <td>0</td>\n",
              "      <td>0</td>\n",
              "      <td>0</td>\n",
              "      <td>0</td>\n",
              "      <td>0</td>\n",
              "      <td>0</td>\n",
              "      <td>0</td>\n",
              "      <td>0.0</td>\n",
              "      <td>0.0</td>\n",
              "      <td>0</td>\n",
              "      <td>0</td>\n",
              "      <td>0</td>\n",
              "      <td>0</td>\n",
              "      <td>1</td>\n",
              "    </tr>\n",
              "    <tr>\n",
              "      <th>3</th>\n",
              "      <td>1050613</td>\n",
              "      <td>2018-01</td>\n",
              "      <td>1</td>\n",
              "      <td>0</td>\n",
              "      <td>0</td>\n",
              "      <td>0</td>\n",
              "      <td>0</td>\n",
              "      <td>0</td>\n",
              "      <td>0</td>\n",
              "      <td>0.0</td>\n",
              "      <td>0.0</td>\n",
              "      <td>0</td>\n",
              "      <td>0</td>\n",
              "      <td>0</td>\n",
              "      <td>0</td>\n",
              "      <td>0</td>\n",
              "    </tr>\n",
              "    <tr>\n",
              "      <th>4</th>\n",
              "      <td>1050614</td>\n",
              "      <td>2018-01</td>\n",
              "      <td>0</td>\n",
              "      <td>0</td>\n",
              "      <td>0</td>\n",
              "      <td>0</td>\n",
              "      <td>0</td>\n",
              "      <td>0</td>\n",
              "      <td>0</td>\n",
              "      <td>0.0</td>\n",
              "      <td>0.0</td>\n",
              "      <td>0</td>\n",
              "      <td>0</td>\n",
              "      <td>0</td>\n",
              "      <td>0</td>\n",
              "      <td>1</td>\n",
              "    </tr>\n",
              "  </tbody>\n",
              "</table>\n",
              "</div>\n",
              "      <button class=\"colab-df-convert\" onclick=\"convertToInteractive('df-552daa47-0f07-4692-a10b-d714d3b30a88')\"\n",
              "              title=\"Convert this dataframe to an interactive table.\"\n",
              "              style=\"display:none;\">\n",
              "        \n",
              "  <svg xmlns=\"http://www.w3.org/2000/svg\" height=\"24px\"viewBox=\"0 0 24 24\"\n",
              "       width=\"24px\">\n",
              "    <path d=\"M0 0h24v24H0V0z\" fill=\"none\"/>\n",
              "    <path d=\"M18.56 5.44l.94 2.06.94-2.06 2.06-.94-2.06-.94-.94-2.06-.94 2.06-2.06.94zm-11 1L8.5 8.5l.94-2.06 2.06-.94-2.06-.94L8.5 2.5l-.94 2.06-2.06.94zm10 10l.94 2.06.94-2.06 2.06-.94-2.06-.94-.94-2.06-.94 2.06-2.06.94z\"/><path d=\"M17.41 7.96l-1.37-1.37c-.4-.4-.92-.59-1.43-.59-.52 0-1.04.2-1.43.59L10.3 9.45l-7.72 7.72c-.78.78-.78 2.05 0 2.83L4 21.41c.39.39.9.59 1.41.59.51 0 1.02-.2 1.41-.59l7.78-7.78 2.81-2.81c.8-.78.8-2.07 0-2.86zM5.41 20L4 18.59l7.72-7.72 1.47 1.35L5.41 20z\"/>\n",
              "  </svg>\n",
              "      </button>\n",
              "      \n",
              "  <style>\n",
              "    .colab-df-container {\n",
              "      display:flex;\n",
              "      flex-wrap:wrap;\n",
              "      gap: 12px;\n",
              "    }\n",
              "\n",
              "    .colab-df-convert {\n",
              "      background-color: #E8F0FE;\n",
              "      border: none;\n",
              "      border-radius: 50%;\n",
              "      cursor: pointer;\n",
              "      display: none;\n",
              "      fill: #1967D2;\n",
              "      height: 32px;\n",
              "      padding: 0 0 0 0;\n",
              "      width: 32px;\n",
              "    }\n",
              "\n",
              "    .colab-df-convert:hover {\n",
              "      background-color: #E2EBFA;\n",
              "      box-shadow: 0px 1px 2px rgba(60, 64, 67, 0.3), 0px 1px 3px 1px rgba(60, 64, 67, 0.15);\n",
              "      fill: #174EA6;\n",
              "    }\n",
              "\n",
              "    [theme=dark] .colab-df-convert {\n",
              "      background-color: #3B4455;\n",
              "      fill: #D2E3FC;\n",
              "    }\n",
              "\n",
              "    [theme=dark] .colab-df-convert:hover {\n",
              "      background-color: #434B5C;\n",
              "      box-shadow: 0px 1px 3px 1px rgba(0, 0, 0, 0.15);\n",
              "      filter: drop-shadow(0px 1px 2px rgba(0, 0, 0, 0.3));\n",
              "      fill: #FFFFFF;\n",
              "    }\n",
              "  </style>\n",
              "\n",
              "      <script>\n",
              "        const buttonEl =\n",
              "          document.querySelector('#df-552daa47-0f07-4692-a10b-d714d3b30a88 button.colab-df-convert');\n",
              "        buttonEl.style.display =\n",
              "          google.colab.kernel.accessAllowed ? 'block' : 'none';\n",
              "\n",
              "        async function convertToInteractive(key) {\n",
              "          const element = document.querySelector('#df-552daa47-0f07-4692-a10b-d714d3b30a88');\n",
              "          const dataTable =\n",
              "            await google.colab.kernel.invokeFunction('convertToInteractive',\n",
              "                                                     [key], {});\n",
              "          if (!dataTable) return;\n",
              "\n",
              "          const docLinkHtml = 'Like what you see? Visit the ' +\n",
              "            '<a target=\"_blank\" href=https://colab.research.google.com/notebooks/data_table.ipynb>data table notebook</a>'\n",
              "            + ' to learn more about interactive tables.';\n",
              "          element.innerHTML = '';\n",
              "          dataTable['output_type'] = 'display_data';\n",
              "          await google.colab.output.renderOutput(dataTable, element);\n",
              "          const docLink = document.createElement('div');\n",
              "          docLink.innerHTML = docLinkHtml;\n",
              "          element.appendChild(docLink);\n",
              "        }\n",
              "      </script>\n",
              "    </div>\n",
              "  </div>\n",
              "  "
            ]
          },
          "metadata": {},
          "execution_count": 150
        }
      ]
    },
    {
      "cell_type": "code",
      "source": [
        "cust_products.isnull().sum()"
      ],
      "metadata": {
        "id": "jltae1zx0N9-",
        "outputId": "10c508c9-f51c-436e-f14e-0d098a3408b2",
        "colab": {
          "base_uri": "https://localhost:8080/"
        }
      },
      "execution_count": 104,
      "outputs": [
        {
          "output_type": "execute_result",
          "data": {
            "text/plain": [
              "customer_ID            0\n",
              "partition_ID           0\n",
              "short_term_deposit     0\n",
              "loans                  0\n",
              "mortgage               0\n",
              "funds                  0\n",
              "securities             0\n",
              "long_term_deposit      0\n",
              "credit_card            0\n",
              "payroll               61\n",
              "pension_plan          61\n",
              "payroll_account        0\n",
              "emc_account            0\n",
              "debit_card             0\n",
              "em_account_p           0\n",
              "em_acount              0\n",
              "dtype: int64"
            ]
          },
          "metadata": {},
          "execution_count": 104
        }
      ]
    },
    {
      "cell_type": "markdown",
      "source": [
        "Como vamos a hacer un modelo de clasificación, los nulos se rellenan con valores extremos, en este caso como es una booleana le vamos a poner un -1.\n",
        "\n",
        "**¡OJO!** Si en estas variables tuvieramos más del 50% de algún producto de Easy Money como 1, es decir más del 50% de los clientes adquieren el producto, el valor extremo que le imputamos sería un 2 en lugar de un -1, ya que el modelo podrá precisar mejor.\n",
        "\n",
        "**IMPORTANTE!** **La única variable donde es recomendable eliminar los nulos es en la variable TARGET**. "
      ],
      "metadata": {
        "id": "yO1i49WG2UcG"
      }
    },
    {
      "cell_type": "code",
      "source": [
        "cust_products.dropna(subset = ['pension_plan'], inplace = True)"
      ],
      "metadata": {
        "id": "4hXkcYfd1vXP"
      },
      "execution_count": 152,
      "outputs": []
    },
    {
      "cell_type": "code",
      "source": [
        "cust_products.isnull().sum()"
      ],
      "metadata": {
        "id": "poKhLk2Y3T5g",
        "outputId": "d073cfe1-a65b-4bc3-dd01-2c20d023f441",
        "colab": {
          "base_uri": "https://localhost:8080/"
        }
      },
      "execution_count": 153,
      "outputs": [
        {
          "output_type": "execute_result",
          "data": {
            "text/plain": [
              "customer_ID           0\n",
              "partition_ID          0\n",
              "short_term_deposit    0\n",
              "loans                 0\n",
              "mortgage              0\n",
              "funds                 0\n",
              "securities            0\n",
              "long_term_deposit     0\n",
              "credit_card           0\n",
              "payroll               0\n",
              "pension_plan          0\n",
              "payroll_account       0\n",
              "emc_account           0\n",
              "debit_card            0\n",
              "em_account_p          0\n",
              "em_acount             0\n",
              "dtype: int64"
            ]
          },
          "metadata": {},
          "execution_count": 153
        }
      ]
    },
    {
      "cell_type": "code",
      "source": [
        "cust_products[variables_to_int] = cust_products[variables_to_int].applymap(int)"
      ],
      "metadata": {
        "id": "7b1noFzQ3gUm"
      },
      "execution_count": 154,
      "outputs": []
    },
    {
      "cell_type": "code",
      "source": [
        "cust_products.info()"
      ],
      "metadata": {
        "id": "sjBWXTS93Ypm",
        "outputId": "236d5a7b-a583-4364-87d7-6be26f66e638",
        "colab": {
          "base_uri": "https://localhost:8080/"
        }
      },
      "execution_count": 155,
      "outputs": [
        {
          "output_type": "stream",
          "name": "stdout",
          "text": [
            "<class 'pandas.core.frame.DataFrame'>\n",
            "Int64Index: 5962863 entries, 0 to 5962923\n",
            "Data columns (total 16 columns):\n",
            " #   Column              Dtype    \n",
            "---  ------              -----    \n",
            " 0   customer_ID         object   \n",
            " 1   partition_ID        period[M]\n",
            " 2   short_term_deposit  int64    \n",
            " 3   loans               int64    \n",
            " 4   mortgage            int64    \n",
            " 5   funds               int64    \n",
            " 6   securities          int64    \n",
            " 7   long_term_deposit   int64    \n",
            " 8   credit_card         int64    \n",
            " 9   payroll             int64    \n",
            " 10  pension_plan        int64    \n",
            " 11  payroll_account     int64    \n",
            " 12  emc_account         int64    \n",
            " 13  debit_card          int64    \n",
            " 14  em_account_p        int64    \n",
            " 15  em_acount           int64    \n",
            "dtypes: int64(14), object(1), period[M](1)\n",
            "memory usage: 773.4+ MB\n"
          ]
        }
      ]
    },
    {
      "cell_type": "code",
      "source": [
        "# DUDAS\n",
        "\n",
        "# No he establecido como índice el customer_ID por lo siguiente. Cuando poner una columna como índice, ¿la perdemos como columna a la hora de analizar?\n",
        "# Se puede plantear que customer_ID sea numérica si asumimos que es una forma de medir la antiguedad del cliente? A menor número ID es un cliente anterior en el tiempo\n",
        "\n",
        "\n"
      ],
      "metadata": {
        "id": "a1qU8jEW8NRd"
      },
      "execution_count": 109,
      "outputs": []
    },
    {
      "cell_type": "code",
      "source": [
        "#¿Cuántos clientes únicos tenemos?\n",
        "cust_products['customer_ID'].nunique()"
      ],
      "metadata": {
        "id": "5t8AqUtX6Ja2",
        "outputId": "bc4f87d6-c179-4157-deb3-106379a4099b",
        "colab": {
          "base_uri": "https://localhost:8080/"
        }
      },
      "execution_count": 156,
      "outputs": [
        {
          "output_type": "execute_result",
          "data": {
            "text/plain": [
              "456373"
            ]
          },
          "metadata": {},
          "execution_count": 156
        }
      ]
    },
    {
      "cell_type": "code",
      "source": [
        "cust_products[(cust_products['partition_ID']=='2019-05')].shape"
      ],
      "metadata": {
        "id": "utvFUq_U6gWW",
        "outputId": "b5f11a52-79fe-4f2d-d1d1-095fa89a8038",
        "colab": {
          "base_uri": "https://localhost:8080/"
        }
      },
      "execution_count": 157,
      "outputs": [
        {
          "output_type": "execute_result",
          "data": {
            "text/plain": [
              "(442995, 16)"
            ]
          },
          "metadata": {},
          "execution_count": 157
        }
      ]
    },
    {
      "cell_type": "code",
      "source": [
        "for col in cust_products.columns:\n",
        "    print(f\"Value counts for column '{col}':\")\n",
        "    print(cust_products[col].value_counts(normalize=True))"
      ],
      "metadata": {
        "id": "E_qMzPeD45gn"
      },
      "execution_count": null,
      "outputs": []
    },
    {
      "cell_type": "markdown",
      "source": [
        "### Análisis del TARGET"
      ],
      "metadata": {
        "id": "O9U1L7uo78vH"
      }
    },
    {
      "cell_type": "code",
      "source": [
        "TARGET = 'pension_plan'"
      ],
      "metadata": {
        "id": "RGG09IB17lxZ"
      },
      "execution_count": 158,
      "outputs": []
    },
    {
      "cell_type": "code",
      "source": [
        "cust_products[TARGET].describe()"
      ],
      "metadata": {
        "id": "pW4f9D2z8Mpw",
        "outputId": "b03c8c8a-5ba3-48a3-cf47-ce577b6c90a8",
        "colab": {
          "base_uri": "https://localhost:8080/"
        }
      },
      "execution_count": 159,
      "outputs": [
        {
          "output_type": "execute_result",
          "data": {
            "text/plain": [
              "count    5.962863e+06\n",
              "mean     3.652641e-02\n",
              "std      1.875960e-01\n",
              "min      0.000000e+00\n",
              "25%      0.000000e+00\n",
              "50%      0.000000e+00\n",
              "75%      0.000000e+00\n",
              "max      1.000000e+00\n",
              "Name: pension_plan, dtype: float64"
            ]
          },
          "metadata": {},
          "execution_count": 159
        }
      ]
    },
    {
      "cell_type": "code",
      "source": [
        "cust_products[TARGET].value_counts()"
      ],
      "metadata": {
        "id": "xO5cHh-rEqyu",
        "outputId": "a6c9c762-379c-465f-9b0c-25e836a61cc9",
        "colab": {
          "base_uri": "https://localhost:8080/"
        }
      },
      "execution_count": 160,
      "outputs": [
        {
          "output_type": "execute_result",
          "data": {
            "text/plain": [
              "0    5745061\n",
              "1     217802\n",
              "Name: pension_plan, dtype: int64"
            ]
          },
          "metadata": {},
          "execution_count": 160
        }
      ]
    },
    {
      "cell_type": "code",
      "source": [
        "cust_products[TARGET].value_counts(normalize = True)"
      ],
      "metadata": {
        "id": "YZWMP-uKExDN",
        "outputId": "8c10dac9-7868-475c-e572-01cf975c673f",
        "colab": {
          "base_uri": "https://localhost:8080/"
        }
      },
      "execution_count": 162,
      "outputs": [
        {
          "output_type": "execute_result",
          "data": {
            "text/plain": [
              "0    0.963474\n",
              "1    0.036526\n",
              "Name: pension_plan, dtype: float64"
            ]
          },
          "metadata": {},
          "execution_count": 162
        }
      ]
    },
    {
      "cell_type": "code",
      "source": [],
      "metadata": {
        "id": "nQCzp5BuQ2Qs"
      },
      "execution_count": null,
      "outputs": []
    },
    {
      "cell_type": "code",
      "source": [
        "cust_products[(cust_products[TARGET]==1)]['payroll'].value_counts()"
      ],
      "metadata": {
        "id": "u8Y_1XSWQWva",
        "outputId": "9062c7f7-d7f7-445c-9b30-24fe93ddb7f5",
        "colab": {
          "base_uri": "https://localhost:8080/"
        }
      },
      "execution_count": 165,
      "outputs": [
        {
          "output_type": "execute_result",
          "data": {
            "text/plain": [
              "1    205787\n",
              "0     12015\n",
              "Name: payroll, dtype: int64"
            ]
          },
          "metadata": {},
          "execution_count": 165
        }
      ]
    },
    {
      "cell_type": "code",
      "source": [
        "int_cols = cust_products.select_dtypes(include='int').columns\n",
        "for col in int_cols:\n",
        "  print(f\"Value counts for column '{col}' when TARGET is 1:\")\n",
        "  print(cust_products[(cust_products[TARGET]==1)][col].value_counts(normalize = True))"
      ],
      "metadata": {
        "id": "NL43O1IfQ6AR",
        "outputId": "99ee87d3-ec22-49e5-b8a1-699a4bbd1fab",
        "colab": {
          "base_uri": "https://localhost:8080/"
        }
      },
      "execution_count": 171,
      "outputs": [
        {
          "output_type": "stream",
          "name": "stdout",
          "text": [
            "Value counts for column 'short_term_deposit' when TARGET is 1:\n",
            "0    0.999082\n",
            "1    0.000918\n",
            "Name: short_term_deposit, dtype: float64\n",
            "Value counts for column 'loans' when TARGET is 1:\n",
            "0    0.999137\n",
            "1    0.000863\n",
            "Name: loans, dtype: float64\n",
            "Value counts for column 'mortgage' when TARGET is 1:\n",
            "0    0.998949\n",
            "1    0.001051\n",
            "Name: mortgage, dtype: float64\n",
            "Value counts for column 'funds' when TARGET is 1:\n",
            "0    0.989679\n",
            "1    0.010321\n",
            "Name: funds, dtype: float64\n",
            "Value counts for column 'securities' when TARGET is 1:\n",
            "0    0.98343\n",
            "1    0.01657\n",
            "Name: securities, dtype: float64\n",
            "Value counts for column 'long_term_deposit' when TARGET is 1:\n",
            "0    0.969279\n",
            "1    0.030721\n",
            "Name: long_term_deposit, dtype: float64\n",
            "Value counts for column 'credit_card' when TARGET is 1:\n",
            "0    0.860249\n",
            "1    0.139751\n",
            "Name: credit_card, dtype: float64\n",
            "Value counts for column 'payroll' when TARGET is 1:\n",
            "1    0.944835\n",
            "0    0.055165\n",
            "Name: payroll, dtype: float64\n",
            "Value counts for column 'pension_plan' when TARGET is 1:\n",
            "1    1.0\n",
            "Name: pension_plan, dtype: float64\n",
            "Value counts for column 'payroll_account' when TARGET is 1:\n",
            "1    0.937673\n",
            "0    0.062327\n",
            "Name: payroll_account, dtype: float64\n",
            "Value counts for column 'emc_account' when TARGET is 1:\n",
            "0    0.772316\n",
            "1    0.227684\n",
            "Name: emc_account, dtype: float64\n",
            "Value counts for column 'debit_card' when TARGET is 1:\n",
            "1    0.638796\n",
            "0    0.361204\n",
            "Name: debit_card, dtype: float64\n",
            "Value counts for column 'em_account_p' when TARGET is 1:\n",
            "0    0.999977\n",
            "1    0.000023\n",
            "Name: em_account_p, dtype: float64\n",
            "Value counts for column 'em_acount' when TARGET is 1:\n",
            "0    0.923958\n",
            "1    0.076042\n",
            "Name: em_acount, dtype: float64\n"
          ]
        }
      ]
    },
    {
      "cell_type": "code",
      "source": [],
      "metadata": {
        "id": "_gE4cQ18Q5fb"
      },
      "execution_count": null,
      "outputs": []
    },
    {
      "cell_type": "code",
      "source": [],
      "metadata": {
        "id": "etm-AU8DQ4-S"
      },
      "execution_count": null,
      "outputs": []
    },
    {
      "cell_type": "code",
      "source": [],
      "metadata": {
        "id": "WE1wCHWqQ4VN"
      },
      "execution_count": null,
      "outputs": []
    },
    {
      "cell_type": "code",
      "source": [],
      "metadata": {
        "id": "3LaMoiI-Q3Z6"
      },
      "execution_count": null,
      "outputs": []
    },
    {
      "cell_type": "markdown",
      "source": [
        "\n",
        "\n"
      ],
      "metadata": {
        "id": "HZAQ4NNN93VX"
      }
    }
  ]
}
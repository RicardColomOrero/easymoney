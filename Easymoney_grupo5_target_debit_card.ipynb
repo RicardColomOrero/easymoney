{
  "nbformat": 4,
  "nbformat_minor": 0,
  "metadata": {
    "colab": {
      "provenance": [],
      "collapsed_sections": [
        "pzsmsHc1k1s4",
        "d7_Opx03k5Cb",
        "fu6F4Uj7waeR",
        "BvMxaUfLwYxC",
        "N53oY9OJoonb",
        "J9gfKL_7ow7i"
      ],
      "gpuType": "T4",
      "toc_visible": true,
      "include_colab_link": true
    },
    "kernelspec": {
      "name": "python3",
      "display_name": "Python 3"
    },
    "language_info": {
      "name": "python"
    },
    "accelerator": "GPU"
  },
  "cells": [
    {
      "cell_type": "markdown",
      "metadata": {
        "id": "view-in-github",
        "colab_type": "text"
      },
      "source": [
        "<a href=\"https://colab.research.google.com/github/RicardColomOrero/easymoney/blob/main/Easymoney_grupo5_target_debit_card.ipynb\" target=\"_parent\"><img src=\"https://colab.research.google.com/assets/colab-badge.svg\" alt=\"Open In Colab\"/></a>"
      ]
    },
    {
      "cell_type": "markdown",
      "source": [
        "# ENUNCIADO CAPSTONE\n",
        "\n",
        "\n",
        "## 1.- PowerBI (Opcional)\n",
        "Hemos decidido reorientar nuestra estrategia comercial hacia el\n",
        "**aumento de la penetración de la cartera actual de productos en nuestro mercado**, con la idea de obtener una\n",
        "mejor rentabilidad de nuestra base actual de clientes (lo del cuadrante barato de la matriz de Ansoff).\n",
        "\n",
        "A cambio, reduciremos la actividad intensiva de captación que veníamos realizando desde que arrancamos. En este sentido, y para acabar de definir la estrategia, estaría genial poder tener algunos análisis que nos ayuden\n",
        "a tomar decisiones. Como te decía, ahora tenemos un autoservicio, pero esta foto simple no nos ayuda demasiado.\n",
        "Si ni siquiera sé cuantos productos hemos vendido este mes o si son los clientes nuevos quiénes contratan o los que ya teníamos!\n",
        "\n",
        "Sería genial incluso que pudieses utilizar el reciente producto adquirido\n",
        "PowerBI para **preparar unos KPI’s de lo que tenemos en la empresa**\n",
        "\n",
        "## 2.- Propensión (modelo de propensión a compra)\n",
        "\n",
        "Una vez que hayamos hecho el **análisis de nuestra BBDD nos gustaría poder vender más y mejor nuestros productos**, sé que los data scientist tienen una “bola de cristal” y saben qué clientes son más propensos a\n",
        "comprar nuestros productos así que te pido por favor hagas un **modelo de propensión a compra**, se que tenemos muchos productos, así que te **,dejo a tu criterio científico qué productos elegir, o pueden ser varios,**, ya\n",
        "me sorprenderás\n",
        "\n",
        "## 3.- Segmentación\n",
        "\n",
        "Una vez obtenido la propensión de los productos sería genial poder conocer mejor a nuestros clientes para orientar nuestra actividad comercial. Hace tiempo vengo teniendo la idea de que podríamos **segmentar la base\n",
        "de clientes en 7 u 8 grupos de clientes similares**... sería genial** identificarlos, y poder saber cómo son los clientes\n",
        "que pertenecen a estos grupos**... nos ayudaría muchísimo a la hora de definir todo nuestro plan de marketing de cara a futuro!\n",
        "\n",
        "## 4.- Caso de uso\n",
        "\n",
        "Perfecto! Tenemos las segmentaciones de clientes, tenemos las propensiones y ahora lo que nos falta es realizar\n",
        "**un caso de uso que nos permita estimar en base a una campaña X cuánto dinero podemos ganar**,\n",
        "\n",
        "¿A cuántos clientes tenemos que impactar?\n",
        "\n",
        "¿Qué productos ofrecer?\n",
        "\n",
        "¿Impactamos a todos lo segmentos indicados?\n",
        "\n",
        "**Restricción de 10.000 clientes para la campaña.**"
      ],
      "metadata": {
        "id": "FnyES6frCHxO"
      }
    },
    {
      "cell_type": "markdown",
      "source": [
        "# Importación de librerías"
      ],
      "metadata": {
        "id": "pzsmsHc1k1s4"
      }
    },
    {
      "cell_type": "code",
      "execution_count": 298,
      "metadata": {
        "id": "uN7zDy6jkPsb"
      },
      "outputs": [],
      "source": [
        "import numpy as np # Arrays\n",
        "import pandas as pd # Series and Dataframes\n",
        "\n",
        "from google.colab import files\n",
        "\n",
        "#visualizacion\n",
        "import matplotlib.pyplot as plt\n",
        "import seaborn as sns\n",
        "\n",
        "pd.options.display.max_rows = 200\n",
        "plt.style.use('ggplot') # Beautify Plots\n",
        "\n",
        "#Modelling\n",
        "from sklearn import model_selection\n",
        "from sklearn import metrics\n",
        "from sklearn.tree import DecisionTreeClassifier\n",
        "from sklearn.tree import export_graphviz\n",
        "import graphviz\n",
        "\n",
        "from sklearn.metrics import mean_squared_error\n",
        "from sklearn.ensemble import RandomForestClassifier\n",
        "import xgboost as xgb\n",
        "\n"
      ]
    },
    {
      "cell_type": "code",
      "source": [
        "from google.colab import drive\n",
        "drive.mount('/content/drive')"
      ],
      "metadata": {
        "colab": {
          "base_uri": "https://localhost:8080/"
        },
        "id": "Y33qmgx4sg9M",
        "outputId": "07992fe6-9cb5-4c71-d762-38ce735c26e2"
      },
      "execution_count": 299,
      "outputs": [
        {
          "output_type": "stream",
          "name": "stdout",
          "text": [
            "Drive already mounted at /content/drive; to attempt to forcibly remount, call drive.mount(\"/content/drive\", force_remount=True).\n"
          ]
        }
      ]
    },
    {
      "cell_type": "code",
      "source": [
        "def report_df(df, verbose = True):\n",
        "    '''\n",
        "    Hace un report simple sobre el DataFrame suministrado.\n",
        "    '''\n",
        "    print(\"***INFO***\")\n",
        "    print(df.info(verbose = verbose))\n",
        "\n",
        "    print(\"***DESCRIPTIVOS CATEGORICAS***\")\n",
        "    try:\n",
        "      print(df.describe(include = ['object']))\n",
        "    except:\n",
        "          print(\"Oops!  No hay variables categóricas\")\n",
        "\n",
        "    print(\"***DESCRIPTIVOS NUMÉRICAS***\")\n",
        "    try:\n",
        "      print(df.describe(exclude = ['object']))\n",
        "    except:\n",
        "          print(\"Oops!  No hay variables categóricas\")\n",
        "\n",
        "    print(\"***NULOS***\")\n",
        "    total_nulos = df.isnull().sum().sum()\n",
        "    print(df.isnull().sum())\n",
        "    print(f\"Tenemos un total de {total_nulos} nulos\")"
      ],
      "metadata": {
        "id": "ztDZdvghyduP"
      },
      "execution_count": 300,
      "outputs": []
    },
    {
      "cell_type": "markdown",
      "source": [
        "# Importación dataset"
      ],
      "metadata": {
        "id": "d7_Opx03k5Cb"
      }
    },
    {
      "cell_type": "code",
      "source": [
        "#file_dir = \"/content/drive/MyDrive/NUCLIO/TFM  Data Science/datasets_TFM_y_diccionario/\" #Ricard file_dir\n",
        "# file_dir = \"/content/drive/MyDrive/TFM  Data Science/datasets_TFM_y_diccionario/\" #Eva file_dir\n",
        "file_dir = \"/content/drive/MyDrive/Master_DS/TFM_Data_Science/datasets_TFM_y_diccionario/\" #Culebra file_dir"
      ],
      "metadata": {
        "id": "loejgT7Nk83n"
      },
      "execution_count": 301,
      "outputs": []
    },
    {
      "cell_type": "code",
      "source": [
        "file_sales =\"sales.csv\"\n",
        "file_product_description =\"product_description.csv\"\n",
        "file_customer_sociodemographics =\"customer_sociodemographics.csv\"\n",
        "file_customer_commercial_activity = \"customer_commercial_activity.csv\"\n",
        "file_customer_products =\"customer_products.csv\"\n",
        "file_provincias = \"inform_adicional_por_provincias.csv\""
      ],
      "metadata": {
        "id": "bospzkLCmG8h"
      },
      "execution_count": 302,
      "outputs": []
    },
    {
      "cell_type": "code",
      "source": [
        "sales_raw = pd.read_csv(file_dir + file_sales)\n",
        "product_description_raw = pd.read_csv(file_dir +file_product_description)\n",
        "customer_sociodemographics_raw = pd.read_csv(file_dir + file_customer_sociodemographics)\n",
        "customer_commercial_activity_raw = pd.read_csv(file_dir + file_customer_commercial_activity)\n",
        "customer_products_raw = pd.read_csv(file_dir + file_customer_products)"
      ],
      "metadata": {
        "id": "1bEJ4RF3mTBK"
      },
      "execution_count": null,
      "outputs": []
    },
    {
      "cell_type": "code",
      "source": [
        "info_provincias_raw = pd.read_csv(file_dir + file_provincias)"
      ],
      "metadata": {
        "id": "2pauFQRvYxTy"
      },
      "execution_count": null,
      "outputs": []
    },
    {
      "cell_type": "code",
      "source": [
        "del file_sales\n",
        "del file_product_description\n",
        "del file_customer_sociodemographics\n",
        "del file_customer_commercial_activity\n",
        "del file_customer_products\n",
        "del file_provincias"
      ],
      "metadata": {
        "id": "sd91Q44gTuij"
      },
      "execution_count": null,
      "outputs": []
    },
    {
      "cell_type": "markdown",
      "source": [
        "# 2.- DATA UNDERSTANDING"
      ],
      "metadata": {
        "id": "ML_zYOYbqxsG"
      }
    },
    {
      "cell_type": "code",
      "source": [
        "def report_df(df, verbose = True):\n",
        "    '''\n",
        "    Hace un report simple sobre el DataFrame suministrado.\n",
        "    '''\n",
        "    print(\"***INFO***\")\n",
        "    print(df.info(verbose = verbose))\n",
        "\n",
        "    print(\"***DESCRIPTIVOS CATEGORICAS***\")\n",
        "    try:\n",
        "      print(df.describe(include = ['object']))\n",
        "    except:\n",
        "          print(\"Oops!  No hay variables categóricas\")\n",
        "\n",
        "    print(\"***DESCRIPTIVOS NUMÉRICAS***\")\n",
        "    try:\n",
        "      print(df.describe(exclude = ['object']))\n",
        "    except:\n",
        "          print(\"Oops!  No hay variables categóricas\")\n",
        "\n",
        "    print(\"***NULOS***\")\n",
        "    total_nulos = df.isnull().sum().sum()\n",
        "    print(df.isnull().sum())\n",
        "    print(f\"Tenemos un total de {total_nulos} nulos\")"
      ],
      "metadata": {
        "id": "NHbLdhVSUaU7"
      },
      "execution_count": null,
      "outputs": []
    },
    {
      "cell_type": "markdown",
      "source": [
        "### Sales"
      ],
      "metadata": {
        "id": "5ZB5uRK2sgLo"
      }
    },
    {
      "cell_type": "markdown",
      "source": [
        "* pk_sale: Identificador de venta - (primary key)\n",
        "* cid: Identificador de cliente - (foreing key)\n",
        "* month_sale: Mes de venta. Mes en el que se contrata un producto.\n",
        "* product_ID: Identificador de producto  - (foreing key)\n",
        "* net_margin: Margen neto generado por la venta ($)"
      ],
      "metadata": {
        "id": "9yNIvdpDs05O"
      }
    },
    {
      "cell_type": "code",
      "source": [
        "# Análisis inicial de sales\n",
        "\n",
        "report_df(sales_raw)"
      ],
      "metadata": {
        "id": "VAYdx80i1N9A"
      },
      "execution_count": null,
      "outputs": []
    },
    {
      "cell_type": "code",
      "source": [
        "# ACCIONES A LLEVAR A CABO\n",
        "\n",
        "# Eliminar columna Unnamed\n",
        "# Renombrar columnas para alinear el naming, por ejemplo variable cid como \"client_ID\", pk_sale como \"sale_ID\"\n",
        "# Cambiar los identificadores (product_ID, customer_ID) a variable categórica\n",
        "# Cambiar tipo de month_sale a fecha\n",
        "# Disgregar la fecha en mes, año... (otros: trimestre, fin de semana, festivo...)\n"
      ],
      "metadata": {
        "id": "4j4GhhbI1N9C"
      },
      "execution_count": null,
      "outputs": []
    },
    {
      "cell_type": "markdown",
      "source": [
        "### Product Description"
      ],
      "metadata": {
        "id": "fu6F4Uj7waeR"
      }
    },
    {
      "cell_type": "markdown",
      "source": [
        "* pk_product_ID\t= Identificador de producto - (primary key)\n",
        "* product_desc\t= Descripción del producto\n",
        "* family_product\t= Vertical del producto. Grupo al que pertenece."
      ],
      "metadata": {
        "id": "tF9aoCOUwaeT"
      }
    },
    {
      "cell_type": "code",
      "source": [
        "# Análisis inicial de product description\n",
        "\n",
        "report_df(product_description_raw)"
      ],
      "metadata": {
        "id": "R4rkQSBB1gFO"
      },
      "execution_count": null,
      "outputs": []
    },
    {
      "cell_type": "code",
      "source": [
        "# ACCIONES A LLEVAR A CABO\n",
        "\n",
        "# Eliminar columna Unnamed"
      ],
      "metadata": {
        "id": "m9_2ZNRu1wpE"
      },
      "execution_count": null,
      "outputs": []
    },
    {
      "cell_type": "markdown",
      "source": [
        "### Customer Sociodemographics"
      ],
      "metadata": {
        "id": "MaBHzrXNyn_S"
      }
    },
    {
      "cell_type": "markdown",
      "source": [
        "* pk_cid =\tIdentificador de cliente\n",
        "* pk_partition =\tIdentificador de Partición. Mensualmente se ingesta en la tabla una partición con el estado de la base de clientes.\n",
        "* deceased =\tIndicador de fallecimiento\n",
        "* gender =\tSexo del cliente\n",
        "* region_code =\tProvincia de residencia del cliente (para ES)\n",
        "* salary =\tIngresos brutos de la unidad familiar\n",
        "* country_id =\tPaís de residencia del cliente\n",
        "* age =\tEdad del cliente"
      ],
      "metadata": {
        "id": "RN4rqVMoyn_e"
      }
    },
    {
      "cell_type": "code",
      "source": [
        "report_df(customer_sociodemographics_raw)"
      ],
      "metadata": {
        "id": "vG4RJ69gyn_e"
      },
      "execution_count": null,
      "outputs": []
    },
    {
      "cell_type": "code",
      "source": [
        "customer_sociodemographics_raw[\"country_id\"].value_counts(normalize = True).head()"
      ],
      "metadata": {
        "id": "sS4GgmI8WGsF"
      },
      "execution_count": null,
      "outputs": []
    },
    {
      "cell_type": "code",
      "source": [
        "customer_sociodemographics_raw[\"region_code\"].value_counts()"
      ],
      "metadata": {
        "id": "5MNgIpGOUV7y"
      },
      "execution_count": null,
      "outputs": []
    },
    {
      "cell_type": "code",
      "source": [
        "# ACCIONES CUSTOMER SOCIODEMOGRAPHICS\n",
        "\n",
        "# Gestionar nulos: (Culebra: tenemos modelo de clasificación así que lo que haremos será ponerles valores extremos)\n",
        "#     region_code\n",
        "#     gender\n",
        "#     salary\n",
        "# gender > Transformar a 1 y 0\n",
        "# deceased > Transformar a 1 y 0\n",
        "# country_id > Agrupar ES, OTHERS\n",
        "\n"
      ],
      "metadata": {
        "id": "sc0F1_4wyn_f"
      },
      "execution_count": null,
      "outputs": []
    },
    {
      "cell_type": "markdown",
      "source": [
        "### Customer Commercial Activity"
      ],
      "metadata": {
        "id": "xLmTCU9FsnzR"
      }
    },
    {
      "cell_type": "markdown",
      "source": [
        "* pk_cid = Identificador de cliente\n",
        "* pk_partition =\tIdentificador de Partición. Mensualmente se ingesta en la tabla una partición con el estado de la base de clientes.\n",
        "* entry_channel =\tCanal de captación del cliente\n",
        "* entry_date =\tFecha en la que realizó la primera contratación a través de easyMoney\n",
        "* segment =\tSegmento comercial del cliente\n",
        "* active_customer =\tIndicador de actividad del cliente en la app EasyMoney"
      ],
      "metadata": {
        "id": "Y8ibAYQ5twNd"
      }
    },
    {
      "cell_type": "code",
      "source": [
        "report_df(customer_commercial_activity_raw)"
      ],
      "metadata": {
        "id": "rX8I1oKUsv7d"
      },
      "execution_count": null,
      "outputs": []
    },
    {
      "cell_type": "code",
      "source": [
        "customer_commercial_activity_raw[\"segment\"].value_counts()"
      ],
      "metadata": {
        "id": "WbiCvHAzzem1"
      },
      "execution_count": null,
      "outputs": []
    },
    {
      "cell_type": "code",
      "source": [
        "customer_commercial_activity_raw[\"entry_channel\"].value_counts(normalize = True).head(10)"
      ],
      "metadata": {
        "id": "YRVr8l9lzyGL"
      },
      "execution_count": null,
      "outputs": []
    },
    {
      "cell_type": "code",
      "source": [
        "# ACCIONES CUSTOMER COMMERCIAL ACTIVITY**\n",
        "\n",
        "\n",
        "# Eliminar columna Unnamed\n",
        "# Cambiar los identificadores (pk_cid) a variable categórica\n",
        "# Cambiar tipo de active_customer a boolean\n",
        "# Establecer primary key como index?\n",
        "# Gestionar nulos:\n",
        "#     entry_channel\n",
        "#     segment\n",
        "# Cambiar tipo de entry_date a fecha\n",
        "# Disgregar entry_date en mes, año, día, día de la semana (otros: trimestre, fin de semana, festivo...)\n",
        "# entry_channel > OneHotEncoding o FrecuencyEncoding ( agrupar 11-12 etiquetas + OTHERS)\n",
        "# segment > OneHotEncoding"
      ],
      "metadata": {
        "id": "Bpqae0fLwJVO"
      },
      "execution_count": null,
      "outputs": []
    },
    {
      "cell_type": "markdown",
      "source": [
        "### Customer Products"
      ],
      "metadata": {
        "id": "BvMxaUfLwYxC"
      }
    },
    {
      "cell_type": "markdown",
      "source": [
        "- pk_cid =\tIdentificador de cliente\n",
        "- pk_partition =\tIdentificador de Partición. Mensualmente se ingesta en la tabla una partición con el estado de la base de clientes.\n",
        "- credit_card =\tTenencia de tarjetas de crédito\n",
        "- debit_card =\tTenencia de tarjetas de débito\n",
        "- em_account_p =\tTenencia de Cuenta easyMoney+\n",
        "- em_account_pp =\tTenencia de Cuenta easyMoney++\n",
        "- em_acount =\tTenencia de Cuenta easyMoney\n",
        "- emc_account =\tTenencia de Cuenta easyMoney Crypto\n",
        "- funds =\tTenencia de Fondos de inversión\n",
        "- loans =\tTenencia de Préstamos\n",
        "- long_term_deposit =\tTenencia de Depósitos a largo plazo\n",
        "- mortgage =\tTenencia de Mortgage\n",
        "- payroll =\tTenencia de Domiciliaciones\n",
        "- payroll_account =\tTenencia de Cuenta bonificada por domiciliaciones\n",
        "- pension_plan =\tTenencia de Plan de pensiones\n",
        "- securities =\tTenencia de Valores\n",
        "- short_term_deposit =\tTenencia de Short-term deposits"
      ],
      "metadata": {
        "id": "GAvoRxXKwYxC"
      }
    },
    {
      "cell_type": "code",
      "source": [
        "report_df(customer_products_raw)"
      ],
      "metadata": {
        "id": "W0orz5C7wYxD"
      },
      "execution_count": null,
      "outputs": []
    },
    {
      "cell_type": "code",
      "source": [
        "# ACCIONES CUSTOMER PRODUCTS\n",
        "\n",
        "# Eliminar columna Unnamed\n",
        "# Cambiar los identificadores (pk_cid) a variable categórica\n",
        "# Cambiar tipo de columnas booleanas a boolean?\n",
        "# Establecer primary key como index?\n",
        "# Gestionar nulos:\n",
        "#     payroll\n",
        "#     pension_plan\n",
        "# Eliminar em_account_pp, no hay datos\n",
        "\n",
        "# Cambiar tipo de payroll y pension_plan a int"
      ],
      "metadata": {
        "id": "iU9-7iD_wYxD"
      },
      "execution_count": null,
      "outputs": []
    },
    {
      "cell_type": "markdown",
      "source": [
        "### Análisis del target"
      ],
      "metadata": {
        "id": "N53oY9OJoonb"
      }
    },
    {
      "cell_type": "code",
      "source": [
        "# Para el modelo de propensión a compra (supervisado > clasificación) trataremos de averiguar la propensión a compra de ciertos productos de cada cliente\n",
        "# El target puede ser:\n",
        "#  - em_acount = 4.381.602  (73,48%)\n",
        "#  - debit_card = 562.968 (9,44%)\n",
        "#  - payroll_account = 329.420 (5,52%)\n",
        "#  - pension_plan = 2.178.020 (3,65%) ** Target interesante por negocio\n",
        "\n",
        "\n",
        "\n",
        "# Analizando el revenue de cada producto:\n",
        "#  - pension_plan = media >5200€ ** Target interesante por revenue\n",
        "#  - loans = media > 2000€\n",
        "#  - mortgage = media > 2000€\n",
        "#\n",
        "#\n",
        "# El producto \"pension_plan\" resulta interesante a nivel net margin, pues es el que más beneficios genera a la compañía\n",
        "\n",
        "# Hecho el primero modelo para \"pension plan\", más tarde se puede volver a lanzar con otros target de interés, por ejemplo \"debit_card\"o \"emc_account \"\n",
        "\n",
        "\n",
        "#TARGET = \"debit_card\"\n",
        "#TARGET2 = 'debit_card'\n",
        "#TARGET3 = 'emc_account'"
      ],
      "metadata": {
        "id": "ws9zM_QCo8jR"
      },
      "execution_count": null,
      "outputs": []
    },
    {
      "cell_type": "code",
      "source": [
        "for i in ['short_term_deposit', 'loans', 'mortgage', 'funds', 'securities','long_term_deposit', 'em_account_pp','credit_card', 'payroll', 'pension_plan', 'payroll_account','emc_account', 'debit_card', 'em_account_p', 'em_acount']:\n",
        "    suma_productos = customer_products_raw[i].sum()\n",
        "    print (f\"Suma de {i} = {suma_productos} . La media es de {round((suma_productos/customer_products_raw.shape[0])*100,2)}%\")\n"
      ],
      "metadata": {
        "id": "L4kFuFrIuS2G"
      },
      "execution_count": null,
      "outputs": []
    },
    {
      "cell_type": "markdown",
      "source": [
        "### Distribución de las variables"
      ],
      "metadata": {
        "id": "AkR5eHKSoroo"
      }
    },
    {
      "cell_type": "markdown",
      "source": [
        "#### Variables numéricas"
      ],
      "metadata": {
        "id": "IQAYnrERozyM"
      }
    },
    {
      "cell_type": "code",
      "source": [
        "for i in sales_raw.select_dtypes(include= [\"number\"]).columns:\n",
        "     print(i, sales_raw[i].value_counts())"
      ],
      "metadata": {
        "id": "r6pTWMCaw-v_"
      },
      "execution_count": null,
      "outputs": []
    },
    {
      "cell_type": "code",
      "source": [
        "for i in customer_products_raw.select_dtypes(include= [\"number\"]).columns:\n",
        "  print(i, customer_products_raw[i].value_counts())"
      ],
      "metadata": {
        "id": "qdZiOCu6E14Q"
      },
      "execution_count": null,
      "outputs": []
    },
    {
      "cell_type": "code",
      "source": [
        "for i in customer_sociodemographics_raw.select_dtypes(include= [\"number\"]).columns:\n",
        "     print(i, customer_sociodemographics_raw[i].value_counts())"
      ],
      "metadata": {
        "id": "JnY_a_BPxCVJ"
      },
      "execution_count": null,
      "outputs": []
    },
    {
      "cell_type": "markdown",
      "source": [
        "#### Variables categóricas"
      ],
      "metadata": {
        "id": "9l4ZsNp8o1dz"
      }
    },
    {
      "cell_type": "code",
      "source": [
        "for i in sales_raw.select_dtypes(exclude= [\"number\"]).columns:\n",
        "     print(i, sales_raw[i].value_counts())"
      ],
      "metadata": {
        "id": "1u-iVCklFDbi"
      },
      "execution_count": null,
      "outputs": []
    },
    {
      "cell_type": "code",
      "source": [
        "for i in customer_commercial_activity_raw.select_dtypes(exclude= [\"number\"]).columns:\n",
        "  print(i, customer_commercial_activity_raw[i].value_counts())"
      ],
      "metadata": {
        "id": "lg-xtV5VEWVO"
      },
      "execution_count": null,
      "outputs": []
    },
    {
      "cell_type": "code",
      "source": [
        "for i in customer_sociodemographics_raw.select_dtypes(exclude= [\"number\"]).columns:\n",
        "  print(i, customer_sociodemographics_raw[i].value_counts())"
      ],
      "metadata": {
        "id": "9Sc13sTPEdy-"
      },
      "execution_count": null,
      "outputs": []
    },
    {
      "cell_type": "markdown",
      "source": [
        "# 3.- PRE PROCESSING"
      ],
      "metadata": {
        "id": "F-i0SBPis5if"
      }
    },
    {
      "cell_type": "code",
      "source": [
        "def preprocesado_basico(df, cid=\"pk_cid\"):\n",
        "  # Eliminar columna Unnamed\n",
        "  df.drop(\"Unnamed: 0\", axis = 1, inplace = True)\n",
        "\n",
        "  # Renombrar columnas para alinear el naming\n",
        "  df.rename({cid: \"customer_ID\",'pk_partition':'partition_ID' },axis='columns',inplace = True)\n",
        "\n",
        "  # Cambiar a fecha la partition ID\n",
        "  df['partition_ID'] = pd.to_datetime(df['partition_ID'])"
      ],
      "metadata": {
        "id": "u6wD_6WzXIe3"
      },
      "execution_count": null,
      "outputs": []
    },
    {
      "cell_type": "code",
      "source": [
        "def setOthers(dataframe, column, num_values=5):\n",
        "    top_categories = dataframe[column].value_counts().head(num_values)\n",
        "    top_categories_list = top_categories.index.to_list()\n",
        "    top_categories_list.append('OTHERS')\n",
        "    dataframe[column] = pd.Categorical(dataframe[column], categories=top_categories_list)\n",
        "    return dataframe[column].fillna('OTHERS')"
      ],
      "metadata": {
        "id": "yuaLR0AHn2ne"
      },
      "execution_count": null,
      "outputs": []
    },
    {
      "cell_type": "code",
      "source": [
        "def comprobar_shapes(df1,df2,df_final):\n",
        "  print(\"DF1 = \" + str(df1.shape))\n",
        "  print(\"DF2 = \" + str(df2.shape))\n",
        "  print(\"DF_final = \" + str(df_final.shape))"
      ],
      "metadata": {
        "id": "cvy0XGXNZE-M"
      },
      "execution_count": null,
      "outputs": []
    },
    {
      "cell_type": "markdown",
      "source": [
        "## Sales"
      ],
      "metadata": {
        "id": "7fZaJxVHmLw9"
      }
    },
    {
      "cell_type": "code",
      "source": [
        "df_sales1 = sales_raw.copy()"
      ],
      "metadata": {
        "id": "kAYtycQl3BLe"
      },
      "execution_count": null,
      "outputs": []
    },
    {
      "cell_type": "code",
      "source": [
        "df_sales1.head()"
      ],
      "metadata": {
        "id": "fuU46IBHhZEK"
      },
      "execution_count": null,
      "outputs": []
    },
    {
      "cell_type": "code",
      "source": [
        "# Eliminar columna Unnamed\n",
        "df_sales1.drop(\"Unnamed: 0\", axis = 1, inplace = True)"
      ],
      "metadata": {
        "id": "lXtCqTslXgk4"
      },
      "execution_count": null,
      "outputs": []
    },
    {
      "cell_type": "code",
      "source": [
        "# Renombrar columnas para alinear el naming\n",
        "df_sales1.rename({\"cid\": \"customer_ID\",'pk_partition':'partition_ID' },axis='columns',inplace = True)"
      ],
      "metadata": {
        "id": "l0VdiY1IsBQZ"
      },
      "execution_count": null,
      "outputs": []
    },
    {
      "cell_type": "code",
      "source": [
        "#elimnar todas excepto,  month_sale, customer_id, y product_ID\n",
        "df_sales1.drop(\"pk_sale\", axis = 1, inplace = True) # Se elimina por no aportar nada, es un ID único y el que usaremos será el customer_id\n",
        "df_sales1.drop(\"net_margin\", axis = 1, inplace = True) # Se elimina por ser autoexplicativa y provocar data leakage"
      ],
      "metadata": {
        "id": "nl_7zAMTm6cW"
      },
      "execution_count": null,
      "outputs": []
    },
    {
      "cell_type": "code",
      "source": [
        "# Cambiar los identificadores (product_ID, customer_ID) a variable categórica\n",
        "df_sales1[\"product_ID\"] = df_sales1[\"product_ID\"].astype(\"object\")\n",
        "df_sales1[\"customer_ID\"] = df_sales1[\"customer_ID\"].astype(\"object\")"
      ],
      "metadata": {
        "id": "fgOoZrRfa78j"
      },
      "execution_count": null,
      "outputs": []
    },
    {
      "cell_type": "code",
      "source": [
        "# Cambiar tipo de month_sale a fecha\n",
        "\n",
        "df_sales1[\"month_sale\"] = pd.to_datetime(df_sales1[\"month_sale\"], format = \"%Y/%m/%d\")\n",
        "\n",
        "# Cambiar tipo de customer_ID a número\n",
        "\n",
        "df_sales1['customer_ID']=df_sales1['customer_ID'].astype('int')"
      ],
      "metadata": {
        "id": "-fn3EHEwsOUV"
      },
      "execution_count": null,
      "outputs": []
    },
    {
      "cell_type": "code",
      "source": [
        "df_sales1['merge_date']=df_sales1['month_sale']-pd.DateOffset(months=1)"
      ],
      "metadata": {
        "id": "RVSNYFGGE9O5"
      },
      "execution_count": null,
      "outputs": []
    },
    {
      "cell_type": "code",
      "source": [
        "# Disgregar la fecha en mes, año, día, día de la semana (otros: trimestre, fin de semana, festivo...)\n",
        "\n",
        "#df_sales1[\"month_sales\"] = df_sales1[\"month_sale\"].dt.month\n",
        "#df_sales1[\"year_sales\"] = df_sales1[\"month_sale\"].dt.year"
      ],
      "metadata": {
        "id": "mzGi2Qk8u7O1"
      },
      "execution_count": null,
      "outputs": []
    },
    {
      "cell_type": "code",
      "source": [
        "df_sales1.head()"
      ],
      "metadata": {
        "id": "OC1WvdBeGQxD"
      },
      "execution_count": null,
      "outputs": []
    },
    {
      "cell_type": "code",
      "source": [
        "report_df(df_sales1)"
      ],
      "metadata": {
        "id": "eFGYeSUAEFCp"
      },
      "execution_count": null,
      "outputs": []
    },
    {
      "cell_type": "markdown",
      "source": [
        "## Product Description"
      ],
      "metadata": {
        "id": "GKla-RYQTuc2"
      }
    },
    {
      "cell_type": "code",
      "source": [
        "product_description_1 = product_description_raw.copy()"
      ],
      "metadata": {
        "id": "AuS0WurbTwl2"
      },
      "execution_count": null,
      "outputs": []
    },
    {
      "cell_type": "code",
      "source": [
        "product_description_1"
      ],
      "metadata": {
        "id": "HPshkXiPiEjN"
      },
      "execution_count": null,
      "outputs": []
    },
    {
      "cell_type": "code",
      "source": [
        "# Eliminar columna Unnamed\n",
        "product_description_1.drop(\"Unnamed: 0\", axis = 1, inplace = True)"
      ],
      "metadata": {
        "id": "sBD-RiJ5Ujwp"
      },
      "execution_count": null,
      "outputs": []
    },
    {
      "cell_type": "code",
      "source": [
        "report_df(product_description_1)"
      ],
      "metadata": {
        "id": "9-r2E5DwUoW-"
      },
      "execution_count": null,
      "outputs": []
    },
    {
      "cell_type": "markdown",
      "source": [
        "## Customer Sociodemographics"
      ],
      "metadata": {
        "id": "ds9YPpHoteTF"
      }
    },
    {
      "cell_type": "code",
      "source": [
        "#hacemos una copia del dataset par eliminar los deceased yes\n",
        "df_customer_soc1 = customer_sociodemographics_raw[customer_sociodemographics_raw['deceased']=='N'].copy()"
      ],
      "metadata": {
        "id": "XMe6OTdxFOBW"
      },
      "execution_count": null,
      "outputs": []
    },
    {
      "cell_type": "code",
      "source": [
        "preprocesado_basico(df_customer_soc1)"
      ],
      "metadata": {
        "id": "ukZVcaGMbcSl"
      },
      "execution_count": null,
      "outputs": []
    },
    {
      "cell_type": "code",
      "source": [
        "df_customer_soc1.drop(\"deceased\", axis = 1, inplace = True)"
      ],
      "metadata": {
        "id": "x1yDVVLGF1zO"
      },
      "execution_count": null,
      "outputs": []
    },
    {
      "cell_type": "code",
      "source": [
        "df_customer_soc1.head()"
      ],
      "metadata": {
        "id": "KE9rP915iRfV"
      },
      "execution_count": null,
      "outputs": []
    },
    {
      "cell_type": "code",
      "source": [
        "report_df(df_customer_soc1)"
      ],
      "metadata": {
        "id": "AwQh1Ke1JVj9"
      },
      "execution_count": null,
      "outputs": []
    },
    {
      "cell_type": "markdown",
      "source": [
        "Gestión de nulos"
      ],
      "metadata": {
        "id": "wBQshqXPnsSB"
      }
    },
    {
      "cell_type": "code",
      "source": [
        "# Asignamos valor extremos a \"salary\", \"gender\", \"region_code\" ya que vamos a hacer un DecisionTree\n",
        "\n",
        "print(df_customer_soc1[\"salary\"].describe())\n",
        "df_customer_soc1[\"salary\"].fillna(value = 0, inplace = True)\n",
        "\n",
        "print(df_customer_soc1[\"gender\"].value_counts(normalize = True))\n",
        "df_customer_soc1[\"gender\"].fillna(value = 2, inplace = True)\n",
        "\n",
        "print(df_customer_soc1[\"region_code\"].describe())\n",
        "df_customer_soc1[\"region_code\"].fillna(value = 1000, inplace = True)"
      ],
      "metadata": {
        "id": "FCyfTmNFh4kl"
      },
      "execution_count": null,
      "outputs": []
    },
    {
      "cell_type": "markdown",
      "source": [
        "Agrupación"
      ],
      "metadata": {
        "id": "0HlSfTRPno-h"
      }
    },
    {
      "cell_type": "code",
      "source": [
        "#agrupamos country_id en ES y OTHERS\n",
        "print((df_customer_soc1[\"country_id\"].value_counts(normalize=True)*100).head())\n",
        "\n",
        "df_customer_soc1['country_id'] = setOthers(df_customer_soc1,'country_id',num_values=1)\n",
        "\n",
        "print()\n",
        "print((df_customer_soc1[\"country_id\"].value_counts(normalize=True)*100).head())\n",
        "\n",
        "#df1.drop(\"country_id\", axis = 1, inplace = True)"
      ],
      "metadata": {
        "id": "XO5PZQqghQD5"
      },
      "execution_count": null,
      "outputs": []
    },
    {
      "cell_type": "code",
      "source": [
        "df_customer_soc1.head()"
      ],
      "metadata": {
        "id": "hieCeavkGqdj"
      },
      "execution_count": null,
      "outputs": []
    },
    {
      "cell_type": "code",
      "source": [
        "report_df(df_customer_soc1)"
      ],
      "metadata": {
        "id": "fhFh23D67N8H"
      },
      "execution_count": null,
      "outputs": []
    },
    {
      "cell_type": "code",
      "source": [
        "# Añadimos información de las provincias\n",
        "df_customer_soc1 = df_customer_soc1.merge(info_provincias_raw, how = \"left\", left_on = \"region_code\", right_on = \"codigo\")"
      ],
      "metadata": {
        "id": "YtnnpqnLYh5R"
      },
      "execution_count": null,
      "outputs": []
    },
    {
      "cell_type": "code",
      "source": [
        "df_customer_soc1.isnull().sum()"
      ],
      "metadata": {
        "id": "fgkDITZ6JOrM"
      },
      "execution_count": null,
      "outputs": []
    },
    {
      "cell_type": "code",
      "source": [
        "del df_customer_soc1[\"region_code\"]\n",
        "del df_customer_soc1[\"codigo\"]"
      ],
      "metadata": {
        "id": "AzB4bNxxJQeJ"
      },
      "execution_count": null,
      "outputs": []
    },
    {
      "cell_type": "code",
      "source": [
        "df_customer_soc1.head()"
      ],
      "metadata": {
        "id": "t4WgHJGjZ_Db"
      },
      "execution_count": null,
      "outputs": []
    },
    {
      "cell_type": "code",
      "source": [
        "df_customer_soc1[\"provincia\"].fillna(value = \"No definido\", inplace = True)\n",
        "df_customer_soc1[\"renta_neta_media\"].fillna(np.mean(df_customer_soc1[\"renta_neta_media\"]), inplace = True)\n",
        "df_customer_soc1[\"renta_bruta_media\"].fillna(np.mean(df_customer_soc1[\"renta_bruta_media\"]), inplace = True)\n",
        "df_customer_soc1[\"tasa_de_paro\"].fillna(np.mean(df_customer_soc1[\"tasa_de_paro\"]), inplace = True)\n",
        "df_customer_soc1[\"tasa_de_empleo\"].fillna(np.mean(df_customer_soc1[\"tasa_de_empleo\"]), inplace = True)"
      ],
      "metadata": {
        "id": "iUs3EgwwJ7b-"
      },
      "execution_count": null,
      "outputs": []
    },
    {
      "cell_type": "markdown",
      "source": [
        "## Customer commercial activity"
      ],
      "metadata": {
        "id": "zVTVH4pI32C5"
      }
    },
    {
      "cell_type": "code",
      "source": [
        "# La cantidad de clientes inactivos son 317.179\n",
        "customer_commercial_activity_raw[customer_commercial_activity_raw[\"active_customer\"] == 0][\"pk_cid\"].nunique()"
      ],
      "metadata": {
        "id": "KN99PJf0liRq"
      },
      "execution_count": null,
      "outputs": []
    },
    {
      "cell_type": "code",
      "source": [
        "# Eliminamos los clientes inactivos del dataset al no ser target\n",
        "df_cust_com_act1 = customer_commercial_activity_raw[customer_commercial_activity_raw['active_customer']==1].copy()"
      ],
      "metadata": {
        "id": "WjmgnDpg4kfs"
      },
      "execution_count": null,
      "outputs": []
    },
    {
      "cell_type": "code",
      "source": [
        "preprocesado_basico(df_cust_com_act1)"
      ],
      "metadata": {
        "id": "73D4b19dHAhC"
      },
      "execution_count": null,
      "outputs": []
    },
    {
      "cell_type": "code",
      "source": [
        "# Creamos la variable \"Antiguedad\" restando la última fecha de partition por el entry_date\n",
        "df_cust_com_act1['antiguedad']=pd.to_datetime(df_cust_com_act1['partition_ID'].max())-pd.to_datetime(df_cust_com_act1['entry_date'])"
      ],
      "metadata": {
        "id": "R47KUE2IMxno"
      },
      "execution_count": null,
      "outputs": []
    },
    {
      "cell_type": "code",
      "source": [
        "df_cust_com_act1['antiguedad']= round(df_cust_com_act1['antiguedad'].astype(int)/86400000000000/30) # En meses"
      ],
      "metadata": {
        "id": "JMCLf4_vOxPy"
      },
      "execution_count": null,
      "outputs": []
    },
    {
      "cell_type": "code",
      "source": [
        "df_cust_com_act1.head()"
      ],
      "metadata": {
        "id": "bff7ZbwrKywc"
      },
      "execution_count": null,
      "outputs": []
    },
    {
      "cell_type": "code",
      "source": [
        "df_cust_com_act1['antiguedad'].unique()"
      ],
      "metadata": {
        "id": "XIOF8fW5K-yS"
      },
      "execution_count": null,
      "outputs": []
    },
    {
      "cell_type": "code",
      "source": [
        "df_cust_com_act1.drop(\"active_customer\", axis = 1, inplace = True)\n",
        "df_cust_com_act1.drop(\"entry_date\", axis = 1, inplace = True)"
      ],
      "metadata": {
        "id": "Z8ZwmRhPQ3my"
      },
      "execution_count": null,
      "outputs": []
    },
    {
      "cell_type": "markdown",
      "source": [
        "Gestión de nulos"
      ],
      "metadata": {
        "id": "XPU5KdcznMEz"
      }
    },
    {
      "cell_type": "code",
      "source": [
        "# Función para imputar nulos de Segment y Entry Channel\n",
        "\n",
        "def imputacion_nulos(df,col):\n",
        "  # Array con los ids que tienen nulos\n",
        "  ids_null_unique = df[(df[col].isnull()==True)]['customer_ID'].unique()\n",
        "  # Dataframe donde revisamos si en la última carga de datos hay un valor para los ids que tienen \"entry_channel\" nulo.\n",
        "  valores_nulos = df[(df.customer_ID.isin(ids_null_unique))&(df[col].notnull())&(df['partition_ID']== \"2019-05\")][['customer_ID',col]]\n",
        "  # Si el id con \"entry_channel\" nulo tenía un valor correcto en la última partition, se lo asignaremos a los valores nulos.\n",
        "  dict_nulos = dict(zip(valores_nulos['customer_ID'],valores_nulos[col]))\n",
        "  df.set_index('customer_ID',inplace = True)\n",
        "  # Imputamos los últimos valores registrados correctamente en \"segment\" y \"entry_channel\"\n",
        "  df[col].fillna(dict_nulos,inplace=True)\n",
        "  df.reset_index(inplace = True)"
      ],
      "metadata": {
        "id": "eCIrGFtQjd3q"
      },
      "execution_count": null,
      "outputs": []
    },
    {
      "cell_type": "code",
      "source": [
        "imputacion_nulos(df_cust_com_act1,col = 'segment')"
      ],
      "metadata": {
        "id": "Mw9A0Lt6mA-X"
      },
      "execution_count": null,
      "outputs": []
    },
    {
      "cell_type": "code",
      "source": [
        "imputacion_nulos(df_cust_com_act1,col = 'entry_channel')"
      ],
      "metadata": {
        "id": "7iw4ZuYlmF2F"
      },
      "execution_count": null,
      "outputs": []
    },
    {
      "cell_type": "code",
      "source": [
        "# Imputación de valores extremos a los nulos que no se han podido deducir por el histórico\n",
        "df_cust_com_act1['segment'].fillna(value='04 - NO SEGMENT',inplace=True)\n",
        "df_cust_com_act1['entry_channel'].fillna(value='ZZZ',inplace=True)"
      ],
      "metadata": {
        "id": "zgECnFYkiNpt"
      },
      "execution_count": null,
      "outputs": []
    },
    {
      "cell_type": "markdown",
      "source": [
        "Agrupación"
      ],
      "metadata": {
        "id": "zufCQ02qnQrZ"
      }
    },
    {
      "cell_type": "code",
      "source": [
        "df_cust_com_act1['entry_channel']=setOthers(df_cust_com_act1,'entry_channel',num_values=13)"
      ],
      "metadata": {
        "id": "W39RS0cEiNpu"
      },
      "execution_count": null,
      "outputs": []
    },
    {
      "cell_type": "code",
      "source": [
        "df_cust_com_act1.head()"
      ],
      "metadata": {
        "id": "nq6u9vd2Ymqf"
      },
      "execution_count": null,
      "outputs": []
    },
    {
      "cell_type": "code",
      "source": [
        "report_df(df_cust_com_act1)"
      ],
      "metadata": {
        "id": "hrWDl12sfg6j"
      },
      "execution_count": null,
      "outputs": []
    },
    {
      "cell_type": "markdown",
      "source": [
        "## Customer products"
      ],
      "metadata": {
        "id": "RzghG4Wd6nCB"
      }
    },
    {
      "cell_type": "code",
      "source": [
        "df_cust_prod1 = customer_products_raw.copy()"
      ],
      "metadata": {
        "id": "KwE6gfY8HXe5"
      },
      "execution_count": null,
      "outputs": []
    },
    {
      "cell_type": "code",
      "source": [
        "preprocesado_basico(df_cust_prod1)"
      ],
      "metadata": {
        "id": "beWnySGaf5we"
      },
      "execution_count": null,
      "outputs": []
    },
    {
      "cell_type": "code",
      "source": [
        "df_cust_prod1.head()"
      ],
      "metadata": {
        "id": "n9ZUAYfxjkJI"
      },
      "execution_count": null,
      "outputs": []
    },
    {
      "cell_type": "code",
      "source": [
        "# Eliminamos el Target de la tabla, lo crearemos a posteriori\n",
        "\n",
        "df_cust_prod1.drop(\"debit_card\", axis = 1, inplace = True)"
      ],
      "metadata": {
        "id": "bacglzPOHnSS"
      },
      "execution_count": null,
      "outputs": []
    },
    {
      "cell_type": "code",
      "source": [
        "# Eliminamos variables de baja varianza\n",
        "\n",
        "print(df_cust_prod1[\"em_account_p\"].value_counts(normalize = True)*100)\n",
        "print(df_cust_prod1[\"em_account_pp\"].value_counts(normalize = True)*100)\n",
        "\n",
        "del df_cust_prod1['em_account_pp']\n",
        "del df_cust_prod1['em_account_p']"
      ],
      "metadata": {
        "id": "ZBOZ29xSgdhN"
      },
      "execution_count": null,
      "outputs": []
    },
    {
      "cell_type": "code",
      "source": [
        "# Eliminamos valores nulos de \"payroll\"\n",
        "\n",
        "df_cust_prod1.dropna(subset = ['payroll'], inplace = True)"
      ],
      "metadata": {
        "id": "sA1cHrgpgOjm"
      },
      "execution_count": null,
      "outputs": []
    },
    {
      "cell_type": "code",
      "source": [
        "# Cambiamos el type de las variables con float a int\n",
        "\n",
        "df_cust_prod1['payroll'] = df_cust_prod1[['payroll']].applymap(int)\n",
        "df_cust_prod1['pension_plan'] = df_cust_prod1[['pension_plan']].applymap(int)"
      ],
      "metadata": {
        "id": "7djTB9us4Bg1"
      },
      "execution_count": null,
      "outputs": []
    },
    {
      "cell_type": "code",
      "source": [
        "df_cust_prod1.head()"
      ],
      "metadata": {
        "id": "GwVo0NuDrwZC"
      },
      "execution_count": null,
      "outputs": []
    },
    {
      "cell_type": "code",
      "source": [
        "report_df(df_cust_prod1)"
      ],
      "metadata": {
        "id": "2OESBXaqGVlr"
      },
      "execution_count": null,
      "outputs": []
    },
    {
      "cell_type": "markdown",
      "source": [
        "## Merge de tablas"
      ],
      "metadata": {
        "id": "ViJUCY8HU7e9"
      }
    },
    {
      "cell_type": "markdown",
      "source": [
        "###customer commercial activity & cust_sociodemographics"
      ],
      "metadata": {
        "id": "yoi5BFVfkTQp"
      }
    },
    {
      "cell_type": "code",
      "source": [
        "df_customer_soc1.shape"
      ],
      "metadata": {
        "id": "nlSJVBqa3yDv"
      },
      "execution_count": null,
      "outputs": []
    },
    {
      "cell_type": "code",
      "source": [
        "df_customer_soc1[df_customer_soc1['customer_ID']==1128010]"
      ],
      "metadata": {
        "id": "1cQXnNv65xDL"
      },
      "execution_count": null,
      "outputs": []
    },
    {
      "cell_type": "code",
      "source": [
        "customer_sociodemographics_raw[customer_sociodemographics_raw['pk_cid']==1128010]\n",
        "#cheqeuo un cliente que tiene nulos al mergear, es un cliente que fallece en enero del 2019, por eso no tiene datos a partir de esa fecha porque hemos eliminado los clientes a partir de su fallecimiento."
      ],
      "metadata": {
        "id": "FXsUtASU6C9N"
      },
      "execution_count": null,
      "outputs": []
    },
    {
      "cell_type": "code",
      "source": [
        "df_customer_soc1.head()"
      ],
      "metadata": {
        "id": "DL_Lr_444Sna"
      },
      "execution_count": null,
      "outputs": []
    },
    {
      "cell_type": "code",
      "source": [
        "df_cust_com_act1.shape"
      ],
      "metadata": {
        "id": "QI8fZYP631oG"
      },
      "execution_count": null,
      "outputs": []
    },
    {
      "cell_type": "code",
      "source": [
        "df_cust_com_act1.head()"
      ],
      "metadata": {
        "id": "OMj0duij4Vtt"
      },
      "execution_count": null,
      "outputs": []
    },
    {
      "cell_type": "code",
      "source": [
        "#customer commercial activity tiene menos filas porque hemos eliminado los clientes inactivos"
      ],
      "metadata": {
        "id": "ljL3SbsJ38ll"
      },
      "execution_count": null,
      "outputs": []
    },
    {
      "cell_type": "code",
      "source": [
        "df_merge1=df_cust_com_act1.merge(df_customer_soc1,how=\"left\", on=[\"customer_ID\",\"partition_ID\"])"
      ],
      "metadata": {
        "id": "ACLLtSPU4KCt"
      },
      "execution_count": null,
      "outputs": []
    },
    {
      "cell_type": "code",
      "source": [
        "df_merge1.shape"
      ],
      "metadata": {
        "id": "QvttRfg34l5_"
      },
      "execution_count": null,
      "outputs": []
    },
    {
      "cell_type": "code",
      "source": [
        "df_merge1.head()"
      ],
      "metadata": {
        "id": "F6Zbq__q4q4F"
      },
      "execution_count": null,
      "outputs": []
    },
    {
      "cell_type": "code",
      "source": [
        "df_merge1.isnull().sum()"
      ],
      "metadata": {
        "id": "4-9CphEA4xpP"
      },
      "execution_count": null,
      "outputs": []
    },
    {
      "cell_type": "code",
      "source": [
        "#718 nulos de la tabla de sociodemographics, son clientes que no existen en la tabla de socidemographics, son las filas de las particiones donde los clientes están fallecidos, los eliminamos"
      ],
      "metadata": {
        "id": "05SIe-jA4xl0"
      },
      "execution_count": null,
      "outputs": []
    },
    {
      "cell_type": "code",
      "source": [
        "df_merge1[df_merge1['country_id'].isnull()]"
      ],
      "metadata": {
        "id": "WnF8Smlx5Dsx"
      },
      "execution_count": null,
      "outputs": []
    },
    {
      "cell_type": "code",
      "source": [
        "df_merge1[df_merge1['customer_ID']==1128010]"
      ],
      "metadata": {
        "id": "QeiHt5yQ4xjK"
      },
      "execution_count": null,
      "outputs": []
    },
    {
      "cell_type": "code",
      "source": [
        "df_merge1.dropna( inplace = True)"
      ],
      "metadata": {
        "id": "OMvia3TU4xfc"
      },
      "execution_count": null,
      "outputs": []
    },
    {
      "cell_type": "code",
      "source": [
        "df_merge1.isnull().sum()"
      ],
      "metadata": {
        "id": "PWU-rYQw4xdX"
      },
      "execution_count": null,
      "outputs": []
    },
    {
      "cell_type": "markdown",
      "source": [
        "### '+ customer products"
      ],
      "metadata": {
        "id": "ZY-tDIT88iMz"
      }
    },
    {
      "cell_type": "code",
      "source": [
        "df_merge1.shape\n"
      ],
      "metadata": {
        "id": "lkaqAbj_4xaU"
      },
      "execution_count": null,
      "outputs": []
    },
    {
      "cell_type": "code",
      "source": [
        "df_cust_prod1.shape"
      ],
      "metadata": {
        "id": "kYVfBxWD4xV7"
      },
      "execution_count": null,
      "outputs": []
    },
    {
      "cell_type": "code",
      "source": [
        "df_merge1.head()"
      ],
      "metadata": {
        "id": "rw7hQI0o4xSh"
      },
      "execution_count": null,
      "outputs": []
    },
    {
      "cell_type": "code",
      "source": [
        "df_cust_prod1.head()"
      ],
      "metadata": {
        "id": "gKPEnhyG4xOS"
      },
      "execution_count": null,
      "outputs": []
    },
    {
      "cell_type": "code",
      "source": [
        "df_merge2=df_merge1.merge(df_cust_prod1,how=\"left\", on=[\"customer_ID\",\"partition_ID\"])\n"
      ],
      "metadata": {
        "id": "GTekOCVo852w"
      },
      "execution_count": null,
      "outputs": []
    },
    {
      "cell_type": "code",
      "source": [
        "df_merge2.head()"
      ],
      "metadata": {
        "id": "cqJLkoys85yh"
      },
      "execution_count": null,
      "outputs": []
    },
    {
      "cell_type": "code",
      "source": [
        "df_merge2.isnull().sum()"
      ],
      "metadata": {
        "id": "ePvEfrkU85ry"
      },
      "execution_count": null,
      "outputs": []
    },
    {
      "cell_type": "code",
      "source": [
        "#hemos añadido 37 nulos con este merge"
      ],
      "metadata": {
        "id": "7pBg_7Lk85nT"
      },
      "execution_count": null,
      "outputs": []
    },
    {
      "cell_type": "code",
      "source": [
        "df_merge2[df_merge2['loans'].isnull()]"
      ],
      "metadata": {
        "id": "V5pOO98985jZ"
      },
      "execution_count": null,
      "outputs": []
    },
    {
      "cell_type": "code",
      "source": [
        "df_merge2[df_merge2['customer_ID']==1237715]"
      ],
      "metadata": {
        "id": "uManLYHu-LFI"
      },
      "execution_count": null,
      "outputs": []
    },
    {
      "cell_type": "code",
      "source": [
        "df_cust_prod1[df_cust_prod1['customer_ID']==1237715]"
      ],
      "metadata": {
        "id": "359OM7Ks-Vhj"
      },
      "execution_count": null,
      "outputs": []
    },
    {
      "cell_type": "code",
      "source": [
        "df_merge2[df_merge2['customer_ID']==1387288]"
      ],
      "metadata": {
        "id": "FGHHzQw3An2t"
      },
      "execution_count": null,
      "outputs": []
    },
    {
      "cell_type": "code",
      "source": [
        "df_cust_prod1[df_cust_prod1['customer_ID']==1387288]"
      ],
      "metadata": {
        "id": "ymWDpnyQAwzP"
      },
      "execution_count": null,
      "outputs": []
    },
    {
      "cell_type": "code",
      "source": [
        "#son clientes que en esa partición no tienen datos en la tabla original, elimnamos los nulos"
      ],
      "metadata": {
        "id": "yUXFRksB-Vbf"
      },
      "execution_count": null,
      "outputs": []
    },
    {
      "cell_type": "code",
      "source": [
        "df_merge2.dropna( inplace = True)"
      ],
      "metadata": {
        "id": "q3tY_2rk-VXT"
      },
      "execution_count": null,
      "outputs": []
    },
    {
      "cell_type": "code",
      "source": [
        "df_merge2.isnull().sum()"
      ],
      "metadata": {
        "id": "wmd0hGY9-VTj"
      },
      "execution_count": null,
      "outputs": []
    },
    {
      "cell_type": "markdown",
      "source": [
        "### '+ sales"
      ],
      "metadata": {
        "id": "LgleAwB-BHEw"
      }
    },
    {
      "cell_type": "code",
      "source": [
        "df_merge2.shape"
      ],
      "metadata": {
        "id": "PUVcPXOp-VQO"
      },
      "execution_count": null,
      "outputs": []
    },
    {
      "cell_type": "code",
      "source": [
        "df_sales1.shape"
      ],
      "metadata": {
        "id": "gjEotTrX-VL8"
      },
      "execution_count": null,
      "outputs": []
    },
    {
      "cell_type": "code",
      "source": [
        "df_merge2.head()"
      ],
      "metadata": {
        "id": "kLGqoRRx-VIl"
      },
      "execution_count": null,
      "outputs": []
    },
    {
      "cell_type": "code",
      "source": [
        "df_sales1.rename({'merge_date':'partition_ID' },axis='columns',inplace = True)"
      ],
      "metadata": {
        "id": "tNvdD7vW-VCC"
      },
      "execution_count": null,
      "outputs": []
    },
    {
      "cell_type": "code",
      "source": [
        "df_sales1.head()"
      ],
      "metadata": {
        "id": "-aJL1FAJlT0i"
      },
      "execution_count": null,
      "outputs": []
    },
    {
      "cell_type": "code",
      "source": [
        "df_total4=df_merge2.merge(df_sales1,how=\"left\", on=[\"customer_ID\",\"partition_ID\"])"
      ],
      "metadata": {
        "id": "zElIRquPl4Nv"
      },
      "execution_count": null,
      "outputs": []
    },
    {
      "cell_type": "code",
      "source": [
        "df_total4.shape"
      ],
      "metadata": {
        "id": "GJZEHwPBmT4A"
      },
      "execution_count": null,
      "outputs": []
    },
    {
      "cell_type": "code",
      "source": [
        "df_total4.head()\n",
        "\n"
      ],
      "metadata": {
        "id": "G0LVJ8VYmaWd"
      },
      "execution_count": null,
      "outputs": []
    },
    {
      "cell_type": "code",
      "source": [
        "df_total4.isnull().sum(\n",
        "\n",
        ")"
      ],
      "metadata": {
        "id": "1tXXxE9HmkJg"
      },
      "execution_count": null,
      "outputs": []
    },
    {
      "cell_type": "code",
      "source": [
        "df_total4[df_total4['month_sale'].isnull()]"
      ],
      "metadata": {
        "id": "ttECRk8Pqojd"
      },
      "execution_count": null,
      "outputs": []
    },
    {
      "cell_type": "code",
      "source": [
        "df_total4[df_total4['customer_ID']==1375586]"
      ],
      "metadata": {
        "id": "39P-zt4-riBV"
      },
      "execution_count": null,
      "outputs": []
    },
    {
      "cell_type": "code",
      "source": [
        "df_total4[df_total4['partition_ID']=='2019-05-01']"
      ],
      "metadata": {
        "id": "rSuH7br2HYZI"
      },
      "execution_count": null,
      "outputs": []
    },
    {
      "cell_type": "code",
      "source": [
        "df_total4[df_total4['partition_ID']=='2019-05-01']['product_ID'].isnull().sum()"
      ],
      "metadata": {
        "id": "Vu32kElxmqpH"
      },
      "execution_count": null,
      "outputs": []
    },
    {
      "cell_type": "code",
      "source": [
        "#la ultima partición mayo de 2019 no tiene datos en ventas porque no han sucedido, hay que separar esta parte del dataset.\n",
        "# el"
      ],
      "metadata": {
        "id": "8PXCwoYu76Ac"
      },
      "execution_count": null,
      "outputs": []
    },
    {
      "cell_type": "code",
      "source": [
        "df_total5=df_total4[df_total4['partition_ID']!='2019-05-01']"
      ],
      "metadata": {
        "id": "a10CG1DS7580"
      },
      "execution_count": null,
      "outputs": []
    },
    {
      "cell_type": "code",
      "source": [
        "df_total_pred=df_total4[df_total4['partition_ID']=='2019-05-01']"
      ],
      "metadata": {
        "id": "PN1oA-HE91sW"
      },
      "execution_count": null,
      "outputs": []
    },
    {
      "cell_type": "code",
      "source": [
        "df_total_pred.shape"
      ],
      "metadata": {
        "id": "8vm-0-eB97SO"
      },
      "execution_count": null,
      "outputs": []
    },
    {
      "cell_type": "code",
      "source": [
        "df_total5"
      ],
      "metadata": {
        "id": "5VwRhLf9755d"
      },
      "execution_count": null,
      "outputs": []
    },
    {
      "cell_type": "code",
      "source": [
        "df_total5.isnull().sum()"
      ],
      "metadata": {
        "id": "TlTOFWpb75xf"
      },
      "execution_count": null,
      "outputs": []
    },
    {
      "cell_type": "code",
      "source": [
        "df_total5[df_total5['month_sale'].isnull()]"
      ],
      "metadata": {
        "id": "kwikuu1bIsRD"
      },
      "execution_count": null,
      "outputs": []
    },
    {
      "cell_type": "code",
      "source": [
        "df_total5[df_total5['customer_ID']==1375586]"
      ],
      "metadata": {
        "id": "NKIWmXCqIsKL"
      },
      "execution_count": null,
      "outputs": []
    },
    {
      "cell_type": "code",
      "source": [
        "#ahora podemos elimnar los nulos de las columnas de month sale y product_Id porque son ventas que no se han producido\n",
        "#los valores no-nulos de month_sale y product_id nos indican CUÁNDO se ha producido la adquisición de ese producto,\n",
        "#si el cliente no ha comprado productos durante el resto de los meses, esos valores son los NULOS"
      ],
      "metadata": {
        "id": "aVssgxLrIsEo"
      },
      "execution_count": null,
      "outputs": []
    },
    {
      "cell_type": "code",
      "source": [
        "df_total5.isnull().sum()"
      ],
      "metadata": {
        "id": "sZFPpwzywyvq"
      },
      "execution_count": null,
      "outputs": []
    },
    {
      "cell_type": "code",
      "source": [
        "df_total6=df_total5.copy()"
      ],
      "metadata": {
        "id": "5E2GLNqaJizv"
      },
      "execution_count": null,
      "outputs": []
    },
    {
      "cell_type": "code",
      "source": [
        "#df_total5.dropna( inplace = True)"
      ],
      "metadata": {
        "id": "SUgqOf81Ir-g"
      },
      "execution_count": null,
      "outputs": []
    },
    {
      "cell_type": "code",
      "source": [
        "df_total6.dropna( inplace = True)"
      ],
      "metadata": {
        "id": "l3lesJdDIr7p"
      },
      "execution_count": null,
      "outputs": []
    },
    {
      "cell_type": "code",
      "source": [
        "df_total6.isnull().sum()"
      ],
      "metadata": {
        "id": "77Qv0nexIr4W"
      },
      "execution_count": null,
      "outputs": []
    },
    {
      "cell_type": "code",
      "source": [
        "df_total6.shape"
      ],
      "metadata": {
        "id": "yu0ZhG5rIr0K"
      },
      "execution_count": null,
      "outputs": []
    },
    {
      "cell_type": "code",
      "source": [
        "# Eliminamos las variables que hemos utilizado para el merge y ya no necesitamos\n",
        "df_total6.drop(\"partition_ID\", axis = 1, inplace = True)\n"
      ],
      "metadata": {
        "id": "QGioXBt_Br1h"
      },
      "execution_count": null,
      "outputs": []
    },
    {
      "cell_type": "code",
      "source": [
        "df_total6.head().T"
      ],
      "metadata": {
        "id": "Okg_xMm-kixM"
      },
      "execution_count": null,
      "outputs": []
    },
    {
      "cell_type": "markdown",
      "source": [
        "## Procesamiento de variables del df mergeado"
      ],
      "metadata": {
        "id": "xu9T7n2sxz4Z"
      }
    },
    {
      "cell_type": "code",
      "source": [
        "# Reordenación del dataset\n",
        "df_total6 = df_total6.reindex(columns=[\n",
        "              'month_sale',\n",
        "              'product_ID',\n",
        "              'customer_ID',\n",
        "              'antiguedad',\n",
        "              'entry_channel',\n",
        "              'segment',\n",
        "              'country_id',\n",
        "              'gender',\n",
        "              'age',\n",
        "              'salary',\n",
        "              'provincia',\n",
        "              'renta_neta_media',\n",
        "              'renta_bruta_media',\n",
        "              'tasa_de_paro',\n",
        "              'tasa_de_empleo',\n",
        "              'short_term_deposit',\n",
        "              'loans',\n",
        "              'mortgage',\n",
        "              'funds',\n",
        "              'securities',\n",
        "              'long_term_deposit',\n",
        "              'credit_card',\n",
        "              'payroll',\n",
        "              'payroll_account',\n",
        "              'emc_account',\n",
        "              'pension_plan',\n",
        "              'em_acount',\n",
        "              ])"
      ],
      "metadata": {
        "id": "6JzOr6X0p3R2"
      },
      "execution_count": null,
      "outputs": []
    },
    {
      "cell_type": "code",
      "source": [
        "df_pre = df_total6.copy()"
      ],
      "metadata": {
        "id": "liAAdgily2E8"
      },
      "execution_count": null,
      "outputs": []
    },
    {
      "cell_type": "code",
      "source": [
        "# Disgregamos la variable de \"month_sale\" y eliminamos la variable de fecha\n",
        "df_pre['sale_month'] = df_pre['month_sale'].dt.month\n",
        "df_pre['sale_year'] = df_pre['month_sale'].dt.year\n",
        "#df_pre['sale_wday'] = df_pre['month_sale'].dt.weekday\n",
        "#df_pre['sale_day'] = df_pre['month_sale'].dt.day\n",
        "\n",
        "del df_pre['month_sale']"
      ],
      "metadata": {
        "id": "TNwG0uaPkh3i"
      },
      "execution_count": null,
      "outputs": []
    },
    {
      "cell_type": "code",
      "source": [
        "df_pre.head().T"
      ],
      "metadata": {
        "id": "ugSSHDlEM3Fs"
      },
      "execution_count": null,
      "outputs": []
    },
    {
      "cell_type": "code",
      "source": [
        "df_pre.info()"
      ],
      "metadata": {
        "id": "sCV-4O786dcH"
      },
      "execution_count": null,
      "outputs": []
    },
    {
      "cell_type": "markdown",
      "source": [
        "### Transformación de categóricas"
      ],
      "metadata": {
        "id": "gIbXGBctBJgx"
      }
    },
    {
      "cell_type": "code",
      "source": [
        "def OHE(dataframe, column_name):\n",
        "    _dummy_dataset = pd.get_dummies(dataframe[column_name], prefix=column_name)\n",
        "    dataframe = pd.concat([dataframe, _dummy_dataset], axis=1)\n",
        "    return dataframe.drop(column_name, axis=1)"
      ],
      "metadata": {
        "id": "1s6rdVT0u8LY"
      },
      "execution_count": null,
      "outputs": []
    },
    {
      "cell_type": "code",
      "source": [
        "# OHE \"product_ID\"\n",
        "\n",
        "df_pre = OHE(df_pre, \"product_ID\")"
      ],
      "metadata": {
        "id": "9UujYrw6iCLn"
      },
      "execution_count": null,
      "outputs": []
    },
    {
      "cell_type": "code",
      "source": [
        "# OHE \"entry_channel\"\n",
        "\n",
        "df_pre = OHE(df_pre, \"entry_channel\")"
      ],
      "metadata": {
        "id": "7GucpqgKBJDL"
      },
      "execution_count": null,
      "outputs": []
    },
    {
      "cell_type": "code",
      "source": [
        "# OHE segment\n",
        "\n",
        "df_pre = OHE(df_pre, \"segment\")"
      ],
      "metadata": {
        "id": "jnZjd1ILBckE"
      },
      "execution_count": null,
      "outputs": []
    },
    {
      "cell_type": "code",
      "source": [
        "# OHE country_id\n",
        "df_pre = OHE(df_pre, \"country_id\")"
      ],
      "metadata": {
        "id": "4O4bb8eA1__0"
      },
      "execution_count": null,
      "outputs": []
    },
    {
      "cell_type": "code",
      "source": [
        "# OHE provincia\n",
        "df_pre = OHE(df_pre, \"provincia\")"
      ],
      "metadata": {
        "id": "FsqXJrmLmYMu"
      },
      "execution_count": null,
      "outputs": []
    },
    {
      "cell_type": "code",
      "source": [
        "# gender --> 1 = Hembras, 0 = Varones, 2 = Nulos\n",
        "\n",
        "df_pre[\"gender\"] = df_pre[\"gender\"].replace(\"H\", 1) # H es de Hembras\n",
        "df_pre[\"gender\"] = df_pre[\"gender\"].replace(\"V\", 0) # V es de Varones"
      ],
      "metadata": {
        "id": "3C6lMd14Bj_u"
      },
      "execution_count": null,
      "outputs": []
    },
    {
      "cell_type": "code",
      "source": [
        "df_pre.info(verbose=True)"
      ],
      "metadata": {
        "id": "g2311aV6Do5p"
      },
      "execution_count": null,
      "outputs": []
    },
    {
      "cell_type": "code",
      "source": [
        "#df_final=df_pre.to_pickle('/content/drive/MyDrive/TFM  Data Science/df_preprocesado') # Eva\n",
        "#df_final=df_pre.to_pickle('/content/drive/MyDrive/NUCLIO/TFM  Data Science/df_preprocesado') # Ricard\n",
        "df_final=df_pre.to_pickle('/content/drive/MyDrive/Master_DS/TFM_Data_Science/df_preprocesado') # Culebra"
      ],
      "metadata": {
        "id": "2P2ZSJNv4k6G"
      },
      "execution_count": null,
      "outputs": []
    },
    {
      "cell_type": "code",
      "source": [
        "#df_final=pd.read_pickle('/content/drive/MyDrive/TFM  Data Science/df_preprocesado')# Eva\n",
        "#df_final=pd.read_pickle('/content/drive/MyDrive/NUCLIO/TFM  Data Science/df_preprocesado') # Ricard\n",
        "df_final=pd.read_pickle('/content/drive/MyDrive/Master_DS/TFM_Data_Science/df_preprocesado') # Culebra"
      ],
      "metadata": {
        "id": "5aoTekSo4k2T"
      },
      "execution_count": null,
      "outputs": []
    },
    {
      "cell_type": "markdown",
      "source": [
        "#### Correlación variables"
      ],
      "metadata": {
        "id": "Q3S1xpwv_YJO"
      }
    },
    {
      "cell_type": "code",
      "source": [
        "corr=df_final.corr()"
      ],
      "metadata": {
        "id": "-eZGCUUD_Xc0"
      },
      "execution_count": null,
      "outputs": []
    },
    {
      "cell_type": "code",
      "source": [
        "corr2=corr.where(np.triu(np.ones(corr.shape), k=1).astype(bool))"
      ],
      "metadata": {
        "id": "EQbjWR9RBBrc"
      },
      "execution_count": null,
      "outputs": []
    },
    {
      "cell_type": "code",
      "source": [
        "corr2.stack().sort_values()"
      ],
      "metadata": {
        "id": "hh3WP81SBBju"
      },
      "execution_count": null,
      "outputs": []
    },
    {
      "cell_type": "code",
      "source": [
        "corr3=corr2.unstack().dropna()"
      ],
      "metadata": {
        "id": "usjeZ_HWBBbi"
      },
      "execution_count": null,
      "outputs": []
    },
    {
      "cell_type": "code",
      "source": [
        "corr4 = corr3.sort_values()"
      ],
      "metadata": {
        "id": "V3Xlynx6BNZF"
      },
      "execution_count": null,
      "outputs": []
    },
    {
      "cell_type": "code",
      "source": [
        "pd.set_option('display.max_rows',None)"
      ],
      "metadata": {
        "id": "MYL7UNcfBNQQ"
      },
      "execution_count": null,
      "outputs": []
    },
    {
      "cell_type": "code",
      "source": [
        "corr4"
      ],
      "metadata": {
        "id": "43CYKWp8BNG2"
      },
      "execution_count": null,
      "outputs": []
    },
    {
      "cell_type": "code",
      "source": [
        "#Eliminar pension_plan, segment_04 - NO SEGMENT, provincia_No definido y country_id_OTHERS"
      ],
      "metadata": {
        "id": "c54soI107Pri"
      },
      "execution_count": null,
      "outputs": []
    },
    {
      "cell_type": "markdown",
      "source": [
        "## Ajustamos el data set para el TARGET \"debit card\""
      ],
      "metadata": {
        "id": "QgHl4CYI4NVf"
      }
    },
    {
      "cell_type": "code",
      "source": [
        "del df_final['pension_plan']\n",
        "del df_final['segment_04 - NO SEGMENT']\n",
        "del df_final['provincia_No definido']\n",
        "del df_final['country_id_OTHERS']"
      ],
      "metadata": {
        "id": "SFGmwvkRC7Kn"
      },
      "execution_count": null,
      "outputs": []
    },
    {
      "cell_type": "code",
      "source": [
        "for i in [\"product_ID_1119\",\"product_ID_1364\",\"product_ID_2234\",\"product_ID_2235\",\"product_ID_2312\",\"product_ID_2335\",\n",
        "          \"product_ID_2336\",\"product_ID_2673\",\"product_ID_4033\",\"product_ID_4657\",\n",
        "          \"product_ID_8871\",\"product_ID_9001\"]:\n",
        "          del df_final[i]"
      ],
      "metadata": {
        "id": "D1WSkDXxbC0o"
      },
      "execution_count": null,
      "outputs": []
    },
    {
      "cell_type": "code",
      "source": [
        "TARGET = 'product_ID_3819'"
      ],
      "metadata": {
        "id": "7bCnTpOS6vLo"
      },
      "execution_count": null,
      "outputs": []
    },
    {
      "cell_type": "code",
      "source": [
        "df_final['product_ID_3819'].value_counts(normalize = True)"
      ],
      "metadata": {
        "id": "OZDFIBBi76Jf"
      },
      "execution_count": null,
      "outputs": []
    },
    {
      "cell_type": "code",
      "source": [
        "df_final=df_final.set_index(\"customer_ID\")"
      ],
      "metadata": {
        "id": "uV16G4xqNwXy"
      },
      "execution_count": null,
      "outputs": []
    },
    {
      "cell_type": "code",
      "source": [
        "df_final.head()"
      ],
      "metadata": {
        "id": "Lq0352rmNrVi"
      },
      "execution_count": null,
      "outputs": []
    },
    {
      "cell_type": "code",
      "source": [
        "# Un 30% de las ventas realizadas corresponden a debit card"
      ],
      "metadata": {
        "id": "kXoUfxus_8JA"
      },
      "execution_count": null,
      "outputs": []
    },
    {
      "cell_type": "markdown",
      "source": [
        "## Partición train/test/validation"
      ],
      "metadata": {
        "id": "mWqTQSDnJE2s"
      }
    },
    {
      "cell_type": "code",
      "source": [
        "df_final.columns"
      ],
      "metadata": {
        "id": "h8-78JQ3iIMN"
      },
      "execution_count": null,
      "outputs": []
    },
    {
      "cell_type": "code",
      "source": [
        "COLUMNS_TO_DROP = ['renta_neta_media',\n",
        "                   'tasa_de_paro'\n",
        "                   ]"
      ],
      "metadata": {
        "id": "MiX9hI7tiMY5"
      },
      "execution_count": null,
      "outputs": []
    },
    {
      "cell_type": "code",
      "source": [
        "df_final.drop(COLUMNS_TO_DROP, inplace = True, axis = 1)"
      ],
      "metadata": {
        "id": "GE8KLR97iHfn"
      },
      "execution_count": null,
      "outputs": []
    },
    {
      "cell_type": "code",
      "source": [
        "# La partición de validación tiene que ser lo más parecida a la realidad posible, un % del dataset siempre mayor de 2000 filas. tenemos 111186  en total\n",
        "# Tomaremos para validación el último mes registrado con datos de ventas, mayo de 2019, y el resto de datos para train/test."
      ],
      "metadata": {
        "id": "zVtVQpA_JB2_"
      },
      "execution_count": null,
      "outputs": []
    },
    {
      "cell_type": "code",
      "source": [
        "# Partición de validación y develop\n",
        "val_df = df_final[(df_final['sale_year']==2019) & (df_final['sale_month']==5)]\n",
        "#dev_df = df_final[~((df_final['sale_year'] == 2019) & (df_final['sale_month'] ==5))]\n",
        "dev_df = df_final[~((df_final['sale_year']!=2019) & ((df_final['sale_month']== 2) | (df_final['sale_month']== 3) | (df_final['sale_month']== 4)| (df_final['sale_month']== 5)| (df_final['sale_month']== 6)| (df_final['sale_month']== 7)) | (df_final['sale_year'] == 2019) & (df_final['sale_month'] == 5))]\n"
      ],
      "metadata": {
        "id": "GXAAD0DfR69v"
      },
      "execution_count": 297,
      "outputs": []
    },
    {
      "cell_type": "code",
      "source": [
        "val_df.shape # 6000 regstros para validar"
      ],
      "metadata": {
        "id": "M3XygM6s9z17",
        "colab": {
          "base_uri": "https://localhost:8080/"
        },
        "outputId": "dc1789ab-587a-4e47-ffd1-60300aec0d03"
      },
      "execution_count": 174,
      "outputs": [
        {
          "output_type": "execute_result",
          "data": {
            "text/plain": [
              "(6509, 90)"
            ]
          },
          "metadata": {},
          "execution_count": 174
        }
      ]
    },
    {
      "cell_type": "code",
      "source": [
        "dev_df.shape # 105k registros para train y test"
      ],
      "metadata": {
        "id": "-xvCy4az93Lu",
        "colab": {
          "base_uri": "https://localhost:8080/"
        },
        "outputId": "3277915e-56f9-469f-fb6d-5b443980560b"
      },
      "execution_count": 175,
      "outputs": [
        {
          "output_type": "execute_result",
          "data": {
            "text/plain": [
              "(80987, 90)"
            ]
          },
          "metadata": {},
          "execution_count": 175
        }
      ]
    },
    {
      "cell_type": "code",
      "source": [
        "val_df_y = val_df[[TARGET]]\n",
        "\n",
        "val_df_X = val_df.drop(TARGET,axis=1)"
      ],
      "metadata": {
        "id": "6O-zGAznR-7h"
      },
      "execution_count": 176,
      "outputs": []
    },
    {
      "cell_type": "markdown",
      "source": [
        "# Rebalanceo del dataset"
      ],
      "metadata": {
        "id": "n_-85MANm-X9"
      }
    },
    {
      "cell_type": "code",
      "source": [
        "dev_df_zero = dev_df[dev_df[TARGET] == 0]"
      ],
      "metadata": {
        "id": "U-q2Krs8nCkf"
      },
      "execution_count": 177,
      "outputs": []
    },
    {
      "cell_type": "code",
      "source": [
        "dev_df_nonzero = dev_df[dev_df[TARGET] > 0]"
      ],
      "metadata": {
        "id": "gbZaDBtXnCh7"
      },
      "execution_count": 178,
      "outputs": []
    },
    {
      "cell_type": "code",
      "source": [
        "dev_df_zero.info(verbose = False)"
      ],
      "metadata": {
        "id": "zKvdPdBJnCft",
        "colab": {
          "base_uri": "https://localhost:8080/"
        },
        "outputId": "4e60152c-ecfd-453c-eead-fa0e16cd3c90"
      },
      "execution_count": 179,
      "outputs": [
        {
          "output_type": "stream",
          "name": "stdout",
          "text": [
            "<class 'pandas.core.frame.DataFrame'>\n",
            "Int64Index: 56153 entries, 548825 to 1052194\n",
            "Columns: 90 entries, antiguedad to provincia_Ávila\n",
            "dtypes: float64(16), int64(3), uint8(71)\n",
            "memory usage: 12.4 MB\n"
          ]
        }
      ]
    },
    {
      "cell_type": "code",
      "source": [
        "dev_df_nonzero.info(verbose = False)"
      ],
      "metadata": {
        "id": "sukwQOYUnCdb",
        "colab": {
          "base_uri": "https://localhost:8080/"
        },
        "outputId": "50e70bb2-4780-4d3b-eff7-413477a4ccde"
      },
      "execution_count": 180,
      "outputs": [
        {
          "output_type": "stream",
          "name": "stdout",
          "text": [
            "<class 'pandas.core.frame.DataFrame'>\n",
            "Int64Index: 24834 entries, 624513 to 1052154\n",
            "Columns: 90 entries, antiguedad to provincia_Ávila\n",
            "dtypes: float64(16), int64(3), uint8(71)\n",
            "memory usage: 5.5 MB\n"
          ]
        }
      ]
    },
    {
      "cell_type": "code",
      "source": [
        "len(dev_df_nonzero)*1"
      ],
      "metadata": {
        "id": "mUKpsJJVrCRp",
        "colab": {
          "base_uri": "https://localhost:8080/"
        },
        "outputId": "4114f2f2-d61a-49df-a143-f9903a07ca7f"
      },
      "execution_count": 181,
      "outputs": [
        {
          "output_type": "execute_result",
          "data": {
            "text/plain": [
              "24834"
            ]
          },
          "metadata": {},
          "execution_count": 181
        }
      ]
    },
    {
      "cell_type": "code",
      "source": [
        "n_sample = len(dev_df_nonzero)*1 #equivale a una proporción de 50% - 50% : 24834"
      ],
      "metadata": {
        "id": "9eEYKzSWqRAd"
      },
      "execution_count": 182,
      "outputs": []
    },
    {
      "cell_type": "code",
      "source": [
        "dev_df_zero_sample = dev_df_zero.sample(n = n_sample, random_state = 42)"
      ],
      "metadata": {
        "id": "ztJ3fsGTqQ-e"
      },
      "execution_count": 183,
      "outputs": []
    },
    {
      "cell_type": "code",
      "source": [
        "dev_df_zero_sample.info(verbose = False)"
      ],
      "metadata": {
        "id": "NBhziKYvqQ8O",
        "colab": {
          "base_uri": "https://localhost:8080/"
        },
        "outputId": "faca1a2d-73bb-44b5-d54b-ff8f5f1fadbd"
      },
      "execution_count": 184,
      "outputs": [
        {
          "output_type": "stream",
          "name": "stdout",
          "text": [
            "<class 'pandas.core.frame.DataFrame'>\n",
            "Int64Index: 24834 entries, 1133931 to 1299669\n",
            "Columns: 90 entries, antiguedad to provincia_Ávila\n",
            "dtypes: float64(16), int64(3), uint8(71)\n",
            "memory usage: 5.5 MB\n"
          ]
        }
      ]
    },
    {
      "cell_type": "code",
      "source": [
        "df_dev_sample = pd.concat([dev_df_nonzero,dev_df_zero_sample])"
      ],
      "metadata": {
        "id": "4-NJFF8KqQ6D"
      },
      "execution_count": 185,
      "outputs": []
    },
    {
      "cell_type": "code",
      "source": [
        "df_dev_sample.info(verbose = False)"
      ],
      "metadata": {
        "id": "V76S4-Nsq9qI",
        "colab": {
          "base_uri": "https://localhost:8080/"
        },
        "outputId": "adeb464f-2dd8-424f-8250-399f7433fde8"
      },
      "execution_count": 186,
      "outputs": [
        {
          "output_type": "stream",
          "name": "stdout",
          "text": [
            "<class 'pandas.core.frame.DataFrame'>\n",
            "Int64Index: 49668 entries, 624513 to 1299669\n",
            "Columns: 90 entries, antiguedad to provincia_Ávila\n",
            "dtypes: float64(16), int64(3), uint8(71)\n",
            "memory usage: 10.9 MB\n"
          ]
        }
      ]
    },
    {
      "cell_type": "code",
      "source": [
        "df_dev_sample[TARGET].value_counts(normalize = True)"
      ],
      "metadata": {
        "id": "2dBkL8cxrSn2",
        "colab": {
          "base_uri": "https://localhost:8080/"
        },
        "outputId": "4b6b761c-4b87-4de8-d755-3cf4c9cc7311"
      },
      "execution_count": 187,
      "outputs": [
        {
          "output_type": "execute_result",
          "data": {
            "text/plain": [
              "1    0.5\n",
              "0    0.5\n",
              "Name: product_ID_3819, dtype: float64"
            ]
          },
          "metadata": {},
          "execution_count": 187
        }
      ]
    },
    {
      "cell_type": "markdown",
      "source": [
        "### Train y Test 2"
      ],
      "metadata": {
        "id": "-m3VOLN4sToh"
      }
    },
    {
      "cell_type": "code",
      "source": [
        "dev_df_y = df_dev_sample[[TARGET]]\n",
        "\n",
        "dev_df_x = df_dev_sample.drop(TARGET,axis=1)"
      ],
      "metadata": {
        "id": "xIeK5ZgQslgo"
      },
      "execution_count": 188,
      "outputs": []
    },
    {
      "cell_type": "code",
      "source": [
        "#20% del dataset de development para test"
      ],
      "metadata": {
        "id": "J9ktCuEKsToi"
      },
      "execution_count": null,
      "outputs": []
    },
    {
      "cell_type": "code",
      "source": [
        "X_train, X_test, y_train, y_test = model_selection.train_test_split(dev_df_x, dev_df_y, test_size=0.15, random_state=42)"
      ],
      "metadata": {
        "id": "85l2quVUsToi"
      },
      "execution_count": 228,
      "outputs": []
    },
    {
      "cell_type": "code",
      "source": [
        "#Comprobar que la distribución de ambas particiones es parecida (media, percentiles y distrribución std). Si no lo es, cambiamos el random state o utilizamos k.fold"
      ],
      "metadata": {
        "id": "v4VnF2yUsToi"
      },
      "execution_count": null,
      "outputs": []
    },
    {
      "cell_type": "code",
      "source": [
        "X_train.describe().T.head()"
      ],
      "metadata": {
        "id": "pzFYp7TRsToi",
        "colab": {
          "base_uri": "https://localhost:8080/",
          "height": 206
        },
        "outputId": "9a6b4323-ce80-47ad-f1c0-7ce46e235fc2"
      },
      "execution_count": 229,
      "outputs": [
        {
          "output_type": "execute_result",
          "data": {
            "text/plain": [
              "                     count          mean            std      min      25%  \\\n",
              "antiguedad         42217.0     19.973020      13.366806      2.0      9.0   \n",
              "gender             42217.0      0.448113       0.497306      0.0      0.0   \n",
              "age                42217.0     36.183054      12.657714      2.0     27.0   \n",
              "salary             42217.0  79688.855224  194472.037323      0.0      0.0   \n",
              "renta_bruta_media  42217.0  14659.891953    1528.553938  11354.0  14028.0   \n",
              "\n",
              "                       50%        75%          max  \n",
              "antiguedad            16.0      30.00        53.00  \n",
              "gender                 0.0       1.00         1.00  \n",
              "age                   34.0      43.00       101.00  \n",
              "salary             63887.4  110254.35  28894395.51  \n",
              "renta_bruta_media  15183.0   15226.00     19689.00  "
            ],
            "text/html": [
              "\n",
              "  <div id=\"df-8d6495d0-f1f9-4d86-b78b-f4c3db5de774\">\n",
              "    <div class=\"colab-df-container\">\n",
              "      <div>\n",
              "<style scoped>\n",
              "    .dataframe tbody tr th:only-of-type {\n",
              "        vertical-align: middle;\n",
              "    }\n",
              "\n",
              "    .dataframe tbody tr th {\n",
              "        vertical-align: top;\n",
              "    }\n",
              "\n",
              "    .dataframe thead th {\n",
              "        text-align: right;\n",
              "    }\n",
              "</style>\n",
              "<table border=\"1\" class=\"dataframe\">\n",
              "  <thead>\n",
              "    <tr style=\"text-align: right;\">\n",
              "      <th></th>\n",
              "      <th>count</th>\n",
              "      <th>mean</th>\n",
              "      <th>std</th>\n",
              "      <th>min</th>\n",
              "      <th>25%</th>\n",
              "      <th>50%</th>\n",
              "      <th>75%</th>\n",
              "      <th>max</th>\n",
              "    </tr>\n",
              "  </thead>\n",
              "  <tbody>\n",
              "    <tr>\n",
              "      <th>antiguedad</th>\n",
              "      <td>42217.0</td>\n",
              "      <td>19.973020</td>\n",
              "      <td>13.366806</td>\n",
              "      <td>2.0</td>\n",
              "      <td>9.0</td>\n",
              "      <td>16.0</td>\n",
              "      <td>30.00</td>\n",
              "      <td>53.00</td>\n",
              "    </tr>\n",
              "    <tr>\n",
              "      <th>gender</th>\n",
              "      <td>42217.0</td>\n",
              "      <td>0.448113</td>\n",
              "      <td>0.497306</td>\n",
              "      <td>0.0</td>\n",
              "      <td>0.0</td>\n",
              "      <td>0.0</td>\n",
              "      <td>1.00</td>\n",
              "      <td>1.00</td>\n",
              "    </tr>\n",
              "    <tr>\n",
              "      <th>age</th>\n",
              "      <td>42217.0</td>\n",
              "      <td>36.183054</td>\n",
              "      <td>12.657714</td>\n",
              "      <td>2.0</td>\n",
              "      <td>27.0</td>\n",
              "      <td>34.0</td>\n",
              "      <td>43.00</td>\n",
              "      <td>101.00</td>\n",
              "    </tr>\n",
              "    <tr>\n",
              "      <th>salary</th>\n",
              "      <td>42217.0</td>\n",
              "      <td>79688.855224</td>\n",
              "      <td>194472.037323</td>\n",
              "      <td>0.0</td>\n",
              "      <td>0.0</td>\n",
              "      <td>63887.4</td>\n",
              "      <td>110254.35</td>\n",
              "      <td>28894395.51</td>\n",
              "    </tr>\n",
              "    <tr>\n",
              "      <th>renta_bruta_media</th>\n",
              "      <td>42217.0</td>\n",
              "      <td>14659.891953</td>\n",
              "      <td>1528.553938</td>\n",
              "      <td>11354.0</td>\n",
              "      <td>14028.0</td>\n",
              "      <td>15183.0</td>\n",
              "      <td>15226.00</td>\n",
              "      <td>19689.00</td>\n",
              "    </tr>\n",
              "  </tbody>\n",
              "</table>\n",
              "</div>\n",
              "      <button class=\"colab-df-convert\" onclick=\"convertToInteractive('df-8d6495d0-f1f9-4d86-b78b-f4c3db5de774')\"\n",
              "              title=\"Convert this dataframe to an interactive table.\"\n",
              "              style=\"display:none;\">\n",
              "        \n",
              "  <svg xmlns=\"http://www.w3.org/2000/svg\" height=\"24px\"viewBox=\"0 0 24 24\"\n",
              "       width=\"24px\">\n",
              "    <path d=\"M0 0h24v24H0V0z\" fill=\"none\"/>\n",
              "    <path d=\"M18.56 5.44l.94 2.06.94-2.06 2.06-.94-2.06-.94-.94-2.06-.94 2.06-2.06.94zm-11 1L8.5 8.5l.94-2.06 2.06-.94-2.06-.94L8.5 2.5l-.94 2.06-2.06.94zm10 10l.94 2.06.94-2.06 2.06-.94-2.06-.94-.94-2.06-.94 2.06-2.06.94z\"/><path d=\"M17.41 7.96l-1.37-1.37c-.4-.4-.92-.59-1.43-.59-.52 0-1.04.2-1.43.59L10.3 9.45l-7.72 7.72c-.78.78-.78 2.05 0 2.83L4 21.41c.39.39.9.59 1.41.59.51 0 1.02-.2 1.41-.59l7.78-7.78 2.81-2.81c.8-.78.8-2.07 0-2.86zM5.41 20L4 18.59l7.72-7.72 1.47 1.35L5.41 20z\"/>\n",
              "  </svg>\n",
              "      </button>\n",
              "      \n",
              "  <style>\n",
              "    .colab-df-container {\n",
              "      display:flex;\n",
              "      flex-wrap:wrap;\n",
              "      gap: 12px;\n",
              "    }\n",
              "\n",
              "    .colab-df-convert {\n",
              "      background-color: #E8F0FE;\n",
              "      border: none;\n",
              "      border-radius: 50%;\n",
              "      cursor: pointer;\n",
              "      display: none;\n",
              "      fill: #1967D2;\n",
              "      height: 32px;\n",
              "      padding: 0 0 0 0;\n",
              "      width: 32px;\n",
              "    }\n",
              "\n",
              "    .colab-df-convert:hover {\n",
              "      background-color: #E2EBFA;\n",
              "      box-shadow: 0px 1px 2px rgba(60, 64, 67, 0.3), 0px 1px 3px 1px rgba(60, 64, 67, 0.15);\n",
              "      fill: #174EA6;\n",
              "    }\n",
              "\n",
              "    [theme=dark] .colab-df-convert {\n",
              "      background-color: #3B4455;\n",
              "      fill: #D2E3FC;\n",
              "    }\n",
              "\n",
              "    [theme=dark] .colab-df-convert:hover {\n",
              "      background-color: #434B5C;\n",
              "      box-shadow: 0px 1px 3px 1px rgba(0, 0, 0, 0.15);\n",
              "      filter: drop-shadow(0px 1px 2px rgba(0, 0, 0, 0.3));\n",
              "      fill: #FFFFFF;\n",
              "    }\n",
              "  </style>\n",
              "\n",
              "      <script>\n",
              "        const buttonEl =\n",
              "          document.querySelector('#df-8d6495d0-f1f9-4d86-b78b-f4c3db5de774 button.colab-df-convert');\n",
              "        buttonEl.style.display =\n",
              "          google.colab.kernel.accessAllowed ? 'block' : 'none';\n",
              "\n",
              "        async function convertToInteractive(key) {\n",
              "          const element = document.querySelector('#df-8d6495d0-f1f9-4d86-b78b-f4c3db5de774');\n",
              "          const dataTable =\n",
              "            await google.colab.kernel.invokeFunction('convertToInteractive',\n",
              "                                                     [key], {});\n",
              "          if (!dataTable) return;\n",
              "\n",
              "          const docLinkHtml = 'Like what you see? Visit the ' +\n",
              "            '<a target=\"_blank\" href=https://colab.research.google.com/notebooks/data_table.ipynb>data table notebook</a>'\n",
              "            + ' to learn more about interactive tables.';\n",
              "          element.innerHTML = '';\n",
              "          dataTable['output_type'] = 'display_data';\n",
              "          await google.colab.output.renderOutput(dataTable, element);\n",
              "          const docLink = document.createElement('div');\n",
              "          docLink.innerHTML = docLinkHtml;\n",
              "          element.appendChild(docLink);\n",
              "        }\n",
              "      </script>\n",
              "    </div>\n",
              "  </div>\n",
              "  "
            ]
          },
          "metadata": {},
          "execution_count": 229
        }
      ]
    },
    {
      "cell_type": "code",
      "source": [
        "X_test.describe().T.head()"
      ],
      "metadata": {
        "id": "AXnDOFEHsToi",
        "colab": {
          "base_uri": "https://localhost:8080/",
          "height": 206
        },
        "outputId": "e0906ac5-edff-4339-8eee-0217a70254d3"
      },
      "execution_count": 230,
      "outputs": [
        {
          "output_type": "execute_result",
          "data": {
            "text/plain": [
              "                    count          mean            std      min      25%  \\\n",
              "antiguedad         7451.0     19.703127      13.140824      2.0      9.0   \n",
              "gender             7451.0      0.452288       0.498021      0.0      0.0   \n",
              "age                7451.0     36.317407      12.654852     10.0     27.0   \n",
              "salary             7451.0  81401.056226  200282.072731      0.0      0.0   \n",
              "renta_bruta_media  7451.0  14664.420842    1526.311996  11354.0  14028.0   \n",
              "\n",
              "                        50%         75%         max  \n",
              "antiguedad            16.00      29.000       53.00  \n",
              "gender                 0.00       1.000        2.00  \n",
              "age                   34.00      43.000       99.00  \n",
              "salary             62112.96  108932.055  9833872.77  \n",
              "renta_bruta_media  15183.00   15226.000    19689.00  "
            ],
            "text/html": [
              "\n",
              "  <div id=\"df-3ace9ee4-ced1-4023-8957-923502f865a7\">\n",
              "    <div class=\"colab-df-container\">\n",
              "      <div>\n",
              "<style scoped>\n",
              "    .dataframe tbody tr th:only-of-type {\n",
              "        vertical-align: middle;\n",
              "    }\n",
              "\n",
              "    .dataframe tbody tr th {\n",
              "        vertical-align: top;\n",
              "    }\n",
              "\n",
              "    .dataframe thead th {\n",
              "        text-align: right;\n",
              "    }\n",
              "</style>\n",
              "<table border=\"1\" class=\"dataframe\">\n",
              "  <thead>\n",
              "    <tr style=\"text-align: right;\">\n",
              "      <th></th>\n",
              "      <th>count</th>\n",
              "      <th>mean</th>\n",
              "      <th>std</th>\n",
              "      <th>min</th>\n",
              "      <th>25%</th>\n",
              "      <th>50%</th>\n",
              "      <th>75%</th>\n",
              "      <th>max</th>\n",
              "    </tr>\n",
              "  </thead>\n",
              "  <tbody>\n",
              "    <tr>\n",
              "      <th>antiguedad</th>\n",
              "      <td>7451.0</td>\n",
              "      <td>19.703127</td>\n",
              "      <td>13.140824</td>\n",
              "      <td>2.0</td>\n",
              "      <td>9.0</td>\n",
              "      <td>16.00</td>\n",
              "      <td>29.000</td>\n",
              "      <td>53.00</td>\n",
              "    </tr>\n",
              "    <tr>\n",
              "      <th>gender</th>\n",
              "      <td>7451.0</td>\n",
              "      <td>0.452288</td>\n",
              "      <td>0.498021</td>\n",
              "      <td>0.0</td>\n",
              "      <td>0.0</td>\n",
              "      <td>0.00</td>\n",
              "      <td>1.000</td>\n",
              "      <td>2.00</td>\n",
              "    </tr>\n",
              "    <tr>\n",
              "      <th>age</th>\n",
              "      <td>7451.0</td>\n",
              "      <td>36.317407</td>\n",
              "      <td>12.654852</td>\n",
              "      <td>10.0</td>\n",
              "      <td>27.0</td>\n",
              "      <td>34.00</td>\n",
              "      <td>43.000</td>\n",
              "      <td>99.00</td>\n",
              "    </tr>\n",
              "    <tr>\n",
              "      <th>salary</th>\n",
              "      <td>7451.0</td>\n",
              "      <td>81401.056226</td>\n",
              "      <td>200282.072731</td>\n",
              "      <td>0.0</td>\n",
              "      <td>0.0</td>\n",
              "      <td>62112.96</td>\n",
              "      <td>108932.055</td>\n",
              "      <td>9833872.77</td>\n",
              "    </tr>\n",
              "    <tr>\n",
              "      <th>renta_bruta_media</th>\n",
              "      <td>7451.0</td>\n",
              "      <td>14664.420842</td>\n",
              "      <td>1526.311996</td>\n",
              "      <td>11354.0</td>\n",
              "      <td>14028.0</td>\n",
              "      <td>15183.00</td>\n",
              "      <td>15226.000</td>\n",
              "      <td>19689.00</td>\n",
              "    </tr>\n",
              "  </tbody>\n",
              "</table>\n",
              "</div>\n",
              "      <button class=\"colab-df-convert\" onclick=\"convertToInteractive('df-3ace9ee4-ced1-4023-8957-923502f865a7')\"\n",
              "              title=\"Convert this dataframe to an interactive table.\"\n",
              "              style=\"display:none;\">\n",
              "        \n",
              "  <svg xmlns=\"http://www.w3.org/2000/svg\" height=\"24px\"viewBox=\"0 0 24 24\"\n",
              "       width=\"24px\">\n",
              "    <path d=\"M0 0h24v24H0V0z\" fill=\"none\"/>\n",
              "    <path d=\"M18.56 5.44l.94 2.06.94-2.06 2.06-.94-2.06-.94-.94-2.06-.94 2.06-2.06.94zm-11 1L8.5 8.5l.94-2.06 2.06-.94-2.06-.94L8.5 2.5l-.94 2.06-2.06.94zm10 10l.94 2.06.94-2.06 2.06-.94-2.06-.94-.94-2.06-.94 2.06-2.06.94z\"/><path d=\"M17.41 7.96l-1.37-1.37c-.4-.4-.92-.59-1.43-.59-.52 0-1.04.2-1.43.59L10.3 9.45l-7.72 7.72c-.78.78-.78 2.05 0 2.83L4 21.41c.39.39.9.59 1.41.59.51 0 1.02-.2 1.41-.59l7.78-7.78 2.81-2.81c.8-.78.8-2.07 0-2.86zM5.41 20L4 18.59l7.72-7.72 1.47 1.35L5.41 20z\"/>\n",
              "  </svg>\n",
              "      </button>\n",
              "      \n",
              "  <style>\n",
              "    .colab-df-container {\n",
              "      display:flex;\n",
              "      flex-wrap:wrap;\n",
              "      gap: 12px;\n",
              "    }\n",
              "\n",
              "    .colab-df-convert {\n",
              "      background-color: #E8F0FE;\n",
              "      border: none;\n",
              "      border-radius: 50%;\n",
              "      cursor: pointer;\n",
              "      display: none;\n",
              "      fill: #1967D2;\n",
              "      height: 32px;\n",
              "      padding: 0 0 0 0;\n",
              "      width: 32px;\n",
              "    }\n",
              "\n",
              "    .colab-df-convert:hover {\n",
              "      background-color: #E2EBFA;\n",
              "      box-shadow: 0px 1px 2px rgba(60, 64, 67, 0.3), 0px 1px 3px 1px rgba(60, 64, 67, 0.15);\n",
              "      fill: #174EA6;\n",
              "    }\n",
              "\n",
              "    [theme=dark] .colab-df-convert {\n",
              "      background-color: #3B4455;\n",
              "      fill: #D2E3FC;\n",
              "    }\n",
              "\n",
              "    [theme=dark] .colab-df-convert:hover {\n",
              "      background-color: #434B5C;\n",
              "      box-shadow: 0px 1px 3px 1px rgba(0, 0, 0, 0.15);\n",
              "      filter: drop-shadow(0px 1px 2px rgba(0, 0, 0, 0.3));\n",
              "      fill: #FFFFFF;\n",
              "    }\n",
              "  </style>\n",
              "\n",
              "      <script>\n",
              "        const buttonEl =\n",
              "          document.querySelector('#df-3ace9ee4-ced1-4023-8957-923502f865a7 button.colab-df-convert');\n",
              "        buttonEl.style.display =\n",
              "          google.colab.kernel.accessAllowed ? 'block' : 'none';\n",
              "\n",
              "        async function convertToInteractive(key) {\n",
              "          const element = document.querySelector('#df-3ace9ee4-ced1-4023-8957-923502f865a7');\n",
              "          const dataTable =\n",
              "            await google.colab.kernel.invokeFunction('convertToInteractive',\n",
              "                                                     [key], {});\n",
              "          if (!dataTable) return;\n",
              "\n",
              "          const docLinkHtml = 'Like what you see? Visit the ' +\n",
              "            '<a target=\"_blank\" href=https://colab.research.google.com/notebooks/data_table.ipynb>data table notebook</a>'\n",
              "            + ' to learn more about interactive tables.';\n",
              "          element.innerHTML = '';\n",
              "          dataTable['output_type'] = 'display_data';\n",
              "          await google.colab.output.renderOutput(dataTable, element);\n",
              "          const docLink = document.createElement('div');\n",
              "          docLink.innerHTML = docLinkHtml;\n",
              "          element.appendChild(docLink);\n",
              "        }\n",
              "      </script>\n",
              "    </div>\n",
              "  </div>\n",
              "  "
            ]
          },
          "metadata": {},
          "execution_count": 230
        }
      ]
    },
    {
      "cell_type": "code",
      "source": [
        "val_df_X.describe().T.head()"
      ],
      "metadata": {
        "id": "3uw0vV8fXpGS",
        "outputId": "cf018637-53bf-49ea-bd02-3021199d743f",
        "colab": {
          "base_uri": "https://localhost:8080/",
          "height": 206
        }
      },
      "execution_count": 192,
      "outputs": [
        {
          "output_type": "execute_result",
          "data": {
            "text/plain": [
              "                    count          mean           std      min      25%  \\\n",
              "antiguedad         6509.0     13.363497     13.838885      1.0      3.0   \n",
              "gender             6509.0      0.447841      0.497310      0.0      0.0   \n",
              "age                6509.0     37.620372     13.049189      4.0     28.0   \n",
              "salary             6509.0  44365.363703  78782.924826      0.0      0.0   \n",
              "renta_bruta_media  6509.0  14686.211826   1518.647151  11354.0  14028.0   \n",
              "\n",
              "                       50%       75%         max  \n",
              "antiguedad             7.0     20.00       53.00  \n",
              "gender                 0.0      1.00        1.00  \n",
              "age                   35.0     44.00      102.00  \n",
              "salary                 0.0  73236.15  1128612.96  \n",
              "renta_bruta_media  15183.0  15226.00    19689.00  "
            ],
            "text/html": [
              "\n",
              "  <div id=\"df-b567a901-d77c-4b21-8e26-bcc0bbfdef6f\">\n",
              "    <div class=\"colab-df-container\">\n",
              "      <div>\n",
              "<style scoped>\n",
              "    .dataframe tbody tr th:only-of-type {\n",
              "        vertical-align: middle;\n",
              "    }\n",
              "\n",
              "    .dataframe tbody tr th {\n",
              "        vertical-align: top;\n",
              "    }\n",
              "\n",
              "    .dataframe thead th {\n",
              "        text-align: right;\n",
              "    }\n",
              "</style>\n",
              "<table border=\"1\" class=\"dataframe\">\n",
              "  <thead>\n",
              "    <tr style=\"text-align: right;\">\n",
              "      <th></th>\n",
              "      <th>count</th>\n",
              "      <th>mean</th>\n",
              "      <th>std</th>\n",
              "      <th>min</th>\n",
              "      <th>25%</th>\n",
              "      <th>50%</th>\n",
              "      <th>75%</th>\n",
              "      <th>max</th>\n",
              "    </tr>\n",
              "  </thead>\n",
              "  <tbody>\n",
              "    <tr>\n",
              "      <th>antiguedad</th>\n",
              "      <td>6509.0</td>\n",
              "      <td>13.363497</td>\n",
              "      <td>13.838885</td>\n",
              "      <td>1.0</td>\n",
              "      <td>3.0</td>\n",
              "      <td>7.0</td>\n",
              "      <td>20.00</td>\n",
              "      <td>53.00</td>\n",
              "    </tr>\n",
              "    <tr>\n",
              "      <th>gender</th>\n",
              "      <td>6509.0</td>\n",
              "      <td>0.447841</td>\n",
              "      <td>0.497310</td>\n",
              "      <td>0.0</td>\n",
              "      <td>0.0</td>\n",
              "      <td>0.0</td>\n",
              "      <td>1.00</td>\n",
              "      <td>1.00</td>\n",
              "    </tr>\n",
              "    <tr>\n",
              "      <th>age</th>\n",
              "      <td>6509.0</td>\n",
              "      <td>37.620372</td>\n",
              "      <td>13.049189</td>\n",
              "      <td>4.0</td>\n",
              "      <td>28.0</td>\n",
              "      <td>35.0</td>\n",
              "      <td>44.00</td>\n",
              "      <td>102.00</td>\n",
              "    </tr>\n",
              "    <tr>\n",
              "      <th>salary</th>\n",
              "      <td>6509.0</td>\n",
              "      <td>44365.363703</td>\n",
              "      <td>78782.924826</td>\n",
              "      <td>0.0</td>\n",
              "      <td>0.0</td>\n",
              "      <td>0.0</td>\n",
              "      <td>73236.15</td>\n",
              "      <td>1128612.96</td>\n",
              "    </tr>\n",
              "    <tr>\n",
              "      <th>renta_bruta_media</th>\n",
              "      <td>6509.0</td>\n",
              "      <td>14686.211826</td>\n",
              "      <td>1518.647151</td>\n",
              "      <td>11354.0</td>\n",
              "      <td>14028.0</td>\n",
              "      <td>15183.0</td>\n",
              "      <td>15226.00</td>\n",
              "      <td>19689.00</td>\n",
              "    </tr>\n",
              "  </tbody>\n",
              "</table>\n",
              "</div>\n",
              "      <button class=\"colab-df-convert\" onclick=\"convertToInteractive('df-b567a901-d77c-4b21-8e26-bcc0bbfdef6f')\"\n",
              "              title=\"Convert this dataframe to an interactive table.\"\n",
              "              style=\"display:none;\">\n",
              "        \n",
              "  <svg xmlns=\"http://www.w3.org/2000/svg\" height=\"24px\"viewBox=\"0 0 24 24\"\n",
              "       width=\"24px\">\n",
              "    <path d=\"M0 0h24v24H0V0z\" fill=\"none\"/>\n",
              "    <path d=\"M18.56 5.44l.94 2.06.94-2.06 2.06-.94-2.06-.94-.94-2.06-.94 2.06-2.06.94zm-11 1L8.5 8.5l.94-2.06 2.06-.94-2.06-.94L8.5 2.5l-.94 2.06-2.06.94zm10 10l.94 2.06.94-2.06 2.06-.94-2.06-.94-.94-2.06-.94 2.06-2.06.94z\"/><path d=\"M17.41 7.96l-1.37-1.37c-.4-.4-.92-.59-1.43-.59-.52 0-1.04.2-1.43.59L10.3 9.45l-7.72 7.72c-.78.78-.78 2.05 0 2.83L4 21.41c.39.39.9.59 1.41.59.51 0 1.02-.2 1.41-.59l7.78-7.78 2.81-2.81c.8-.78.8-2.07 0-2.86zM5.41 20L4 18.59l7.72-7.72 1.47 1.35L5.41 20z\"/>\n",
              "  </svg>\n",
              "      </button>\n",
              "      \n",
              "  <style>\n",
              "    .colab-df-container {\n",
              "      display:flex;\n",
              "      flex-wrap:wrap;\n",
              "      gap: 12px;\n",
              "    }\n",
              "\n",
              "    .colab-df-convert {\n",
              "      background-color: #E8F0FE;\n",
              "      border: none;\n",
              "      border-radius: 50%;\n",
              "      cursor: pointer;\n",
              "      display: none;\n",
              "      fill: #1967D2;\n",
              "      height: 32px;\n",
              "      padding: 0 0 0 0;\n",
              "      width: 32px;\n",
              "    }\n",
              "\n",
              "    .colab-df-convert:hover {\n",
              "      background-color: #E2EBFA;\n",
              "      box-shadow: 0px 1px 2px rgba(60, 64, 67, 0.3), 0px 1px 3px 1px rgba(60, 64, 67, 0.15);\n",
              "      fill: #174EA6;\n",
              "    }\n",
              "\n",
              "    [theme=dark] .colab-df-convert {\n",
              "      background-color: #3B4455;\n",
              "      fill: #D2E3FC;\n",
              "    }\n",
              "\n",
              "    [theme=dark] .colab-df-convert:hover {\n",
              "      background-color: #434B5C;\n",
              "      box-shadow: 0px 1px 3px 1px rgba(0, 0, 0, 0.15);\n",
              "      filter: drop-shadow(0px 1px 2px rgba(0, 0, 0, 0.3));\n",
              "      fill: #FFFFFF;\n",
              "    }\n",
              "  </style>\n",
              "\n",
              "      <script>\n",
              "        const buttonEl =\n",
              "          document.querySelector('#df-b567a901-d77c-4b21-8e26-bcc0bbfdef6f button.colab-df-convert');\n",
              "        buttonEl.style.display =\n",
              "          google.colab.kernel.accessAllowed ? 'block' : 'none';\n",
              "\n",
              "        async function convertToInteractive(key) {\n",
              "          const element = document.querySelector('#df-b567a901-d77c-4b21-8e26-bcc0bbfdef6f');\n",
              "          const dataTable =\n",
              "            await google.colab.kernel.invokeFunction('convertToInteractive',\n",
              "                                                     [key], {});\n",
              "          if (!dataTable) return;\n",
              "\n",
              "          const docLinkHtml = 'Like what you see? Visit the ' +\n",
              "            '<a target=\"_blank\" href=https://colab.research.google.com/notebooks/data_table.ipynb>data table notebook</a>'\n",
              "            + ' to learn more about interactive tables.';\n",
              "          element.innerHTML = '';\n",
              "          dataTable['output_type'] = 'display_data';\n",
              "          await google.colab.output.renderOutput(dataTable, element);\n",
              "          const docLink = document.createElement('div');\n",
              "          docLink.innerHTML = docLinkHtml;\n",
              "          element.appendChild(docLink);\n",
              "        }\n",
              "      </script>\n",
              "    </div>\n",
              "  </div>\n",
              "  "
            ]
          },
          "metadata": {},
          "execution_count": 192
        }
      ]
    },
    {
      "cell_type": "markdown",
      "source": [
        "# 4.- Modelling 2"
      ],
      "metadata": {
        "id": "UDXOprzktTGI"
      }
    },
    {
      "cell_type": "markdown",
      "source": [
        "## DECISSION TREE"
      ],
      "metadata": {
        "id": "tsyX_I6dtTGI"
      }
    },
    {
      "cell_type": "code",
      "source": [
        "#Instanciamos el modelo\n",
        "dt = DecisionTreeClassifier(max_depth=9,random_state=42, min_samples_split=500)"
      ],
      "metadata": {
        "id": "MHQLo_8NtTGI"
      },
      "execution_count": 250,
      "outputs": []
    },
    {
      "cell_type": "code",
      "source": [
        "#lo entrenamos con el dataset de train\n",
        "dt.fit(X=X_train,y=y_train)"
      ],
      "metadata": {
        "id": "dAf9AcCItTGJ",
        "colab": {
          "base_uri": "https://localhost:8080/",
          "height": 75
        },
        "outputId": "182e7c63-3537-4fc4-e85d-ec0e91108b21"
      },
      "execution_count": 251,
      "outputs": [
        {
          "output_type": "execute_result",
          "data": {
            "text/plain": [
              "DecisionTreeClassifier(max_depth=9, min_samples_split=500, random_state=42)"
            ],
            "text/html": [
              "<style>#sk-container-id-5 {color: black;background-color: white;}#sk-container-id-5 pre{padding: 0;}#sk-container-id-5 div.sk-toggleable {background-color: white;}#sk-container-id-5 label.sk-toggleable__label {cursor: pointer;display: block;width: 100%;margin-bottom: 0;padding: 0.3em;box-sizing: border-box;text-align: center;}#sk-container-id-5 label.sk-toggleable__label-arrow:before {content: \"▸\";float: left;margin-right: 0.25em;color: #696969;}#sk-container-id-5 label.sk-toggleable__label-arrow:hover:before {color: black;}#sk-container-id-5 div.sk-estimator:hover label.sk-toggleable__label-arrow:before {color: black;}#sk-container-id-5 div.sk-toggleable__content {max-height: 0;max-width: 0;overflow: hidden;text-align: left;background-color: #f0f8ff;}#sk-container-id-5 div.sk-toggleable__content pre {margin: 0.2em;color: black;border-radius: 0.25em;background-color: #f0f8ff;}#sk-container-id-5 input.sk-toggleable__control:checked~div.sk-toggleable__content {max-height: 200px;max-width: 100%;overflow: auto;}#sk-container-id-5 input.sk-toggleable__control:checked~label.sk-toggleable__label-arrow:before {content: \"▾\";}#sk-container-id-5 div.sk-estimator input.sk-toggleable__control:checked~label.sk-toggleable__label {background-color: #d4ebff;}#sk-container-id-5 div.sk-label input.sk-toggleable__control:checked~label.sk-toggleable__label {background-color: #d4ebff;}#sk-container-id-5 input.sk-hidden--visually {border: 0;clip: rect(1px 1px 1px 1px);clip: rect(1px, 1px, 1px, 1px);height: 1px;margin: -1px;overflow: hidden;padding: 0;position: absolute;width: 1px;}#sk-container-id-5 div.sk-estimator {font-family: monospace;background-color: #f0f8ff;border: 1px dotted black;border-radius: 0.25em;box-sizing: border-box;margin-bottom: 0.5em;}#sk-container-id-5 div.sk-estimator:hover {background-color: #d4ebff;}#sk-container-id-5 div.sk-parallel-item::after {content: \"\";width: 100%;border-bottom: 1px solid gray;flex-grow: 1;}#sk-container-id-5 div.sk-label:hover label.sk-toggleable__label {background-color: #d4ebff;}#sk-container-id-5 div.sk-serial::before {content: \"\";position: absolute;border-left: 1px solid gray;box-sizing: border-box;top: 0;bottom: 0;left: 50%;z-index: 0;}#sk-container-id-5 div.sk-serial {display: flex;flex-direction: column;align-items: center;background-color: white;padding-right: 0.2em;padding-left: 0.2em;position: relative;}#sk-container-id-5 div.sk-item {position: relative;z-index: 1;}#sk-container-id-5 div.sk-parallel {display: flex;align-items: stretch;justify-content: center;background-color: white;position: relative;}#sk-container-id-5 div.sk-item::before, #sk-container-id-5 div.sk-parallel-item::before {content: \"\";position: absolute;border-left: 1px solid gray;box-sizing: border-box;top: 0;bottom: 0;left: 50%;z-index: -1;}#sk-container-id-5 div.sk-parallel-item {display: flex;flex-direction: column;z-index: 1;position: relative;background-color: white;}#sk-container-id-5 div.sk-parallel-item:first-child::after {align-self: flex-end;width: 50%;}#sk-container-id-5 div.sk-parallel-item:last-child::after {align-self: flex-start;width: 50%;}#sk-container-id-5 div.sk-parallel-item:only-child::after {width: 0;}#sk-container-id-5 div.sk-dashed-wrapped {border: 1px dashed gray;margin: 0 0.4em 0.5em 0.4em;box-sizing: border-box;padding-bottom: 0.4em;background-color: white;}#sk-container-id-5 div.sk-label label {font-family: monospace;font-weight: bold;display: inline-block;line-height: 1.2em;}#sk-container-id-5 div.sk-label-container {text-align: center;}#sk-container-id-5 div.sk-container {/* jupyter's `normalize.less` sets `[hidden] { display: none; }` but bootstrap.min.css set `[hidden] { display: none !important; }` so we also need the `!important` here to be able to override the default hidden behavior on the sphinx rendered scikit-learn.org. See: https://github.com/scikit-learn/scikit-learn/issues/21755 */display: inline-block !important;position: relative;}#sk-container-id-5 div.sk-text-repr-fallback {display: none;}</style><div id=\"sk-container-id-5\" class=\"sk-top-container\"><div class=\"sk-text-repr-fallback\"><pre>DecisionTreeClassifier(max_depth=9, min_samples_split=500, random_state=42)</pre><b>In a Jupyter environment, please rerun this cell to show the HTML representation or trust the notebook. <br />On GitHub, the HTML representation is unable to render, please try loading this page with nbviewer.org.</b></div><div class=\"sk-container\" hidden><div class=\"sk-item\"><div class=\"sk-estimator sk-toggleable\"><input class=\"sk-toggleable__control sk-hidden--visually\" id=\"sk-estimator-id-5\" type=\"checkbox\" checked><label for=\"sk-estimator-id-5\" class=\"sk-toggleable__label sk-toggleable__label-arrow\">DecisionTreeClassifier</label><div class=\"sk-toggleable__content\"><pre>DecisionTreeClassifier(max_depth=9, min_samples_split=500, random_state=42)</pre></div></div></div></div></div>"
            ]
          },
          "metadata": {},
          "execution_count": 251
        }
      ]
    },
    {
      "cell_type": "code",
      "source": [
        "#lo pintamos\n",
        "tree_data=export_graphviz(\n",
        "    decision_tree=dt,\n",
        "    out_file=None,\n",
        "    max_depth=None,\n",
        "    feature_names=X_test.columns,\n",
        "    class_names=['no_debit_card','debit_card'],\n",
        "    label=\"all\",\n",
        "    filled=True,\n",
        "    leaves_parallel=False,\n",
        "    impurity=True,\n",
        "    node_ids=False,\n",
        "    proportion=False,\n",
        "    rotate=True,\n",
        "    rounded=True,\n",
        "    special_characters=False,\n",
        "    precision=3,\n",
        "    fontname=\"helvetica\",\n",
        ")"
      ],
      "metadata": {
        "id": "RrkWkY9AtTGJ"
      },
      "execution_count": 233,
      "outputs": []
    },
    {
      "cell_type": "code",
      "source": [
        "graphviz.Source(tree_data)"
      ],
      "metadata": {
        "id": "Hnzk5cLWtTGJ",
        "colab": {
          "base_uri": "https://localhost:8080/",
          "height": 1000
        },
        "outputId": "a83df072-bbec-4b04-b5ac-b80d2c62b1d9"
      },
      "execution_count": 234,
      "outputs": [
        {
          "output_type": "execute_result",
          "data": {
            "image/svg+xml": "<?xml version=\"1.0\" encoding=\"UTF-8\" standalone=\"no\"?>\n<!DOCTYPE svg PUBLIC \"-//W3C//DTD SVG 1.1//EN\"\n \"http://www.w3.org/Graphics/SVG/1.1/DTD/svg11.dtd\">\n<!-- Generated by graphviz version 2.43.0 (0)\n -->\n<!-- Title: Tree Pages: 1 -->\n<svg width=\"2686pt\" height=\"4283pt\"\n viewBox=\"0.00 0.00 2686.00 4283.00\" xmlns=\"http://www.w3.org/2000/svg\" xmlns:xlink=\"http://www.w3.org/1999/xlink\">\n<g id=\"graph0\" class=\"graph\" transform=\"scale(1 1) rotate(0) translate(4 4279)\">\n<title>Tree</title>\n<polygon fill=\"white\" stroke=\"transparent\" points=\"-4,4 -4,-4279 2682,-4279 2682,4 -4,4\"/>\n<!-- 0 -->\n<g id=\"node1\" class=\"node\">\n<title>0</title>\n<path fill=\"#fdfeff\" stroke=\"black\" d=\"M163,-1092.5C163,-1092.5 12,-1092.5 12,-1092.5 6,-1092.5 0,-1086.5 0,-1080.5 0,-1080.5 0,-1021.5 0,-1021.5 0,-1015.5 6,-1009.5 12,-1009.5 12,-1009.5 163,-1009.5 163,-1009.5 169,-1009.5 175,-1015.5 175,-1021.5 175,-1021.5 175,-1080.5 175,-1080.5 175,-1086.5 169,-1092.5 163,-1092.5\"/>\n<text text-anchor=\"middle\" x=\"87.5\" y=\"-1077.3\" font-family=\"Helvetica,sans-Serif\" font-size=\"14.00\">segment_01 &#45; TOP &lt;= 0.5</text>\n<text text-anchor=\"middle\" x=\"87.5\" y=\"-1062.3\" font-family=\"Helvetica,sans-Serif\" font-size=\"14.00\">gini = 0.5</text>\n<text text-anchor=\"middle\" x=\"87.5\" y=\"-1047.3\" font-family=\"Helvetica,sans-Serif\" font-size=\"14.00\">samples = 42217</text>\n<text text-anchor=\"middle\" x=\"87.5\" y=\"-1032.3\" font-family=\"Helvetica,sans-Serif\" font-size=\"14.00\">value = [21012, 21205]</text>\n<text text-anchor=\"middle\" x=\"87.5\" y=\"-1017.3\" font-family=\"Helvetica,sans-Serif\" font-size=\"14.00\">class = debit_card</text>\n</g>\n<!-- 1 -->\n<g id=\"node2\" class=\"node\">\n<title>1</title>\n<path fill=\"#f2f9fd\" stroke=\"black\" d=\"M354,-1844.5C354,-1844.5 223,-1844.5 223,-1844.5 217,-1844.5 211,-1838.5 211,-1832.5 211,-1832.5 211,-1773.5 211,-1773.5 211,-1767.5 217,-1761.5 223,-1761.5 223,-1761.5 354,-1761.5 354,-1761.5 360,-1761.5 366,-1767.5 366,-1773.5 366,-1773.5 366,-1832.5 366,-1832.5 366,-1838.5 360,-1844.5 354,-1844.5\"/>\n<text text-anchor=\"middle\" x=\"288.5\" y=\"-1829.3\" font-family=\"Helvetica,sans-Serif\" font-size=\"14.00\">antiguedad &lt;= 10.5</text>\n<text text-anchor=\"middle\" x=\"288.5\" y=\"-1814.3\" font-family=\"Helvetica,sans-Serif\" font-size=\"14.00\">gini = 0.499</text>\n<text text-anchor=\"middle\" x=\"288.5\" y=\"-1799.3\" font-family=\"Helvetica,sans-Serif\" font-size=\"14.00\">samples = 39622</text>\n<text text-anchor=\"middle\" x=\"288.5\" y=\"-1784.3\" font-family=\"Helvetica,sans-Serif\" font-size=\"14.00\">value = [19146, 20476]</text>\n<text text-anchor=\"middle\" x=\"288.5\" y=\"-1769.3\" font-family=\"Helvetica,sans-Serif\" font-size=\"14.00\">class = debit_card</text>\n</g>\n<!-- 0&#45;&gt;1 -->\n<g id=\"edge1\" class=\"edge\">\n<title>0&#45;&gt;1</title>\n<path fill=\"none\" stroke=\"black\" d=\"M99.48,-1092.5C133.42,-1220.75 236.56,-1610.52 273.86,-1751.45\"/>\n<polygon fill=\"black\" stroke=\"black\" points=\"270.49,-1752.39 276.43,-1761.16 277.25,-1750.6 270.49,-1752.39\"/>\n<text text-anchor=\"middle\" x=\"254.82\" y=\"-1744.9\" font-family=\"Helvetica,sans-Serif\" font-size=\"14.00\">True</text>\n</g>\n<!-- 212 -->\n<g id=\"node213\" class=\"node\">\n<title>212</title>\n<path fill=\"#efb286\" stroke=\"black\" d=\"M351,-309.5C351,-309.5 226,-309.5 226,-309.5 220,-309.5 214,-303.5 214,-297.5 214,-297.5 214,-238.5 214,-238.5 214,-232.5 220,-226.5 226,-226.5 226,-226.5 351,-226.5 351,-226.5 357,-226.5 363,-232.5 363,-238.5 363,-238.5 363,-297.5 363,-297.5 363,-303.5 357,-309.5 351,-309.5\"/>\n<text text-anchor=\"middle\" x=\"288.5\" y=\"-294.3\" font-family=\"Helvetica,sans-Serif\" font-size=\"14.00\">emc_account &lt;= 0.5</text>\n<text text-anchor=\"middle\" x=\"288.5\" y=\"-279.3\" font-family=\"Helvetica,sans-Serif\" font-size=\"14.00\">gini = 0.404</text>\n<text text-anchor=\"middle\" x=\"288.5\" y=\"-264.3\" font-family=\"Helvetica,sans-Serif\" font-size=\"14.00\">samples = 2595</text>\n<text text-anchor=\"middle\" x=\"288.5\" y=\"-249.3\" font-family=\"Helvetica,sans-Serif\" font-size=\"14.00\">value = [1866, 729]</text>\n<text text-anchor=\"middle\" x=\"288.5\" y=\"-234.3\" font-family=\"Helvetica,sans-Serif\" font-size=\"14.00\">class = no_debit_card</text>\n</g>\n<!-- 0&#45;&gt;212 -->\n<g id=\"edge212\" class=\"edge\">\n<title>0&#45;&gt;212</title>\n<path fill=\"none\" stroke=\"black\" d=\"M99.06,-1009.46C132.68,-877.16 237.22,-465.84 274.3,-319.96\"/>\n<polygon fill=\"black\" stroke=\"black\" points=\"277.78,-320.47 276.85,-309.92 270.99,-318.75 277.78,-320.47\"/>\n<text text-anchor=\"middle\" x=\"255.36\" y=\"-319\" font-family=\"Helvetica,sans-Serif\" font-size=\"14.00\">False</text>\n</g>\n<!-- 2 -->\n<g id=\"node3\" class=\"node\">\n<title>2</title>\n<path fill=\"#b6dbf5\" stroke=\"black\" d=\"M566,-2494.5C566,-2494.5 414,-2494.5 414,-2494.5 408,-2494.5 402,-2488.5 402,-2482.5 402,-2482.5 402,-2423.5 402,-2423.5 402,-2417.5 408,-2411.5 414,-2411.5 414,-2411.5 566,-2411.5 566,-2411.5 572,-2411.5 578,-2417.5 578,-2423.5 578,-2423.5 578,-2482.5 578,-2482.5 578,-2488.5 572,-2494.5 566,-2494.5\"/>\n<text text-anchor=\"middle\" x=\"490\" y=\"-2479.3\" font-family=\"Helvetica,sans-Serif\" font-size=\"14.00\">short_term_deposit &lt;= 0.5</text>\n<text text-anchor=\"middle\" x=\"490\" y=\"-2464.3\" font-family=\"Helvetica,sans-Serif\" font-size=\"14.00\">gini = 0.474</text>\n<text text-anchor=\"middle\" x=\"490\" y=\"-2449.3\" font-family=\"Helvetica,sans-Serif\" font-size=\"14.00\">samples = 12343</text>\n<text text-anchor=\"middle\" x=\"490\" y=\"-2434.3\" font-family=\"Helvetica,sans-Serif\" font-size=\"14.00\">value = [4771, 7572]</text>\n<text text-anchor=\"middle\" x=\"490\" y=\"-2419.3\" font-family=\"Helvetica,sans-Serif\" font-size=\"14.00\">class = debit_card</text>\n</g>\n<!-- 1&#45;&gt;2 -->\n<g id=\"edge2\" class=\"edge\">\n<title>1&#45;&gt;2</title>\n<path fill=\"none\" stroke=\"black\" d=\"M302.28,-1844.65C337.32,-1958.82 434.85,-2276.57 473.21,-2401.56\"/>\n<polygon fill=\"black\" stroke=\"black\" points=\"469.91,-2402.75 476.19,-2411.28 476.61,-2400.69 469.91,-2402.75\"/>\n</g>\n<!-- 71 -->\n<g id=\"node72\" class=\"node\">\n<title>71</title>\n<path fill=\"#fcf2eb\" stroke=\"black\" d=\"M555.5,-1844.5C555.5,-1844.5 424.5,-1844.5 424.5,-1844.5 418.5,-1844.5 412.5,-1838.5 412.5,-1832.5 412.5,-1832.5 412.5,-1773.5 412.5,-1773.5 412.5,-1767.5 418.5,-1761.5 424.5,-1761.5 424.5,-1761.5 555.5,-1761.5 555.5,-1761.5 561.5,-1761.5 567.5,-1767.5 567.5,-1773.5 567.5,-1773.5 567.5,-1832.5 567.5,-1832.5 567.5,-1838.5 561.5,-1844.5 555.5,-1844.5\"/>\n<text text-anchor=\"middle\" x=\"490\" y=\"-1829.3\" font-family=\"Helvetica,sans-Serif\" font-size=\"14.00\">age &lt;= 23.5</text>\n<text text-anchor=\"middle\" x=\"490\" y=\"-1814.3\" font-family=\"Helvetica,sans-Serif\" font-size=\"14.00\">gini = 0.499</text>\n<text text-anchor=\"middle\" x=\"490\" y=\"-1799.3\" font-family=\"Helvetica,sans-Serif\" font-size=\"14.00\">samples = 27279</text>\n<text text-anchor=\"middle\" x=\"490\" y=\"-1784.3\" font-family=\"Helvetica,sans-Serif\" font-size=\"14.00\">value = [14375, 12904]</text>\n<text text-anchor=\"middle\" x=\"490\" y=\"-1769.3\" font-family=\"Helvetica,sans-Serif\" font-size=\"14.00\">class = no_debit_card</text>\n</g>\n<!-- 1&#45;&gt;71 -->\n<g id=\"edge71\" class=\"edge\">\n<title>1&#45;&gt;71</title>\n<path fill=\"none\" stroke=\"black\" d=\"M366.06,-1803C377.91,-1803 390.22,-1803 402.27,-1803\"/>\n<polygon fill=\"black\" stroke=\"black\" points=\"402.31,-1806.5 412.31,-1803 402.31,-1799.5 402.31,-1806.5\"/>\n</g>\n<!-- 3 -->\n<g id=\"node4\" class=\"node\">\n<title>3</title>\n<path fill=\"#b0d8f5\" stroke=\"black\" d=\"M784,-2948.5C784,-2948.5 626,-2948.5 626,-2948.5 620,-2948.5 614,-2942.5 614,-2936.5 614,-2936.5 614,-2877.5 614,-2877.5 614,-2871.5 620,-2865.5 626,-2865.5 626,-2865.5 784,-2865.5 784,-2865.5 790,-2865.5 796,-2871.5 796,-2877.5 796,-2877.5 796,-2936.5 796,-2936.5 796,-2942.5 790,-2948.5 784,-2948.5\"/>\n<text text-anchor=\"middle\" x=\"705\" y=\"-2933.3\" font-family=\"Helvetica,sans-Serif\" font-size=\"14.00\">entry_channel_KHQ &lt;= 0.5</text>\n<text text-anchor=\"middle\" x=\"705\" y=\"-2918.3\" font-family=\"Helvetica,sans-Serif\" font-size=\"14.00\">gini = 0.469</text>\n<text text-anchor=\"middle\" x=\"705\" y=\"-2903.3\" font-family=\"Helvetica,sans-Serif\" font-size=\"14.00\">samples = 12061</text>\n<text text-anchor=\"middle\" x=\"705\" y=\"-2888.3\" font-family=\"Helvetica,sans-Serif\" font-size=\"14.00\">value = [4539, 7522]</text>\n<text text-anchor=\"middle\" x=\"705\" y=\"-2873.3\" font-family=\"Helvetica,sans-Serif\" font-size=\"14.00\">class = debit_card</text>\n</g>\n<!-- 2&#45;&gt;3 -->\n<g id=\"edge3\" class=\"edge\">\n<title>2&#45;&gt;3</title>\n<path fill=\"none\" stroke=\"black\" d=\"M510.66,-2494.9C549.85,-2578.43 637.58,-2765.44 680.06,-2855.96\"/>\n<polygon fill=\"black\" stroke=\"black\" points=\"676.97,-2857.64 684.39,-2865.2 683.31,-2854.66 676.97,-2857.64\"/>\n</g>\n<!-- 70 -->\n<g id=\"node71\" class=\"node\">\n<title>70</title>\n<path fill=\"#eb9c64\" stroke=\"black\" d=\"M767.5,-2487C767.5,-2487 642.5,-2487 642.5,-2487 636.5,-2487 630.5,-2481 630.5,-2475 630.5,-2475 630.5,-2431 630.5,-2431 630.5,-2425 636.5,-2419 642.5,-2419 642.5,-2419 767.5,-2419 767.5,-2419 773.5,-2419 779.5,-2425 779.5,-2431 779.5,-2431 779.5,-2475 779.5,-2475 779.5,-2481 773.5,-2487 767.5,-2487\"/>\n<text text-anchor=\"middle\" x=\"705\" y=\"-2471.8\" font-family=\"Helvetica,sans-Serif\" font-size=\"14.00\">gini = 0.292</text>\n<text text-anchor=\"middle\" x=\"705\" y=\"-2456.8\" font-family=\"Helvetica,sans-Serif\" font-size=\"14.00\">samples = 282</text>\n<text text-anchor=\"middle\" x=\"705\" y=\"-2441.8\" font-family=\"Helvetica,sans-Serif\" font-size=\"14.00\">value = [232, 50]</text>\n<text text-anchor=\"middle\" x=\"705\" y=\"-2426.8\" font-family=\"Helvetica,sans-Serif\" font-size=\"14.00\">class = no_debit_card</text>\n</g>\n<!-- 2&#45;&gt;70 -->\n<g id=\"edge70\" class=\"edge\">\n<title>2&#45;&gt;70</title>\n<path fill=\"none\" stroke=\"black\" d=\"M578.25,-2453C592.07,-2453 606.35,-2453 620.09,-2453\"/>\n<polygon fill=\"black\" stroke=\"black\" points=\"620.48,-2456.5 630.48,-2453 620.48,-2449.5 620.48,-2456.5\"/>\n</g>\n<!-- 4 -->\n<g id=\"node5\" class=\"node\">\n<title>4</title>\n<path fill=\"#bcdef6\" stroke=\"black\" d=\"M979.5,-3708.5C979.5,-3708.5 863.5,-3708.5 863.5,-3708.5 857.5,-3708.5 851.5,-3702.5 851.5,-3696.5 851.5,-3696.5 851.5,-3637.5 851.5,-3637.5 851.5,-3631.5 857.5,-3625.5 863.5,-3625.5 863.5,-3625.5 979.5,-3625.5 979.5,-3625.5 985.5,-3625.5 991.5,-3631.5 991.5,-3637.5 991.5,-3637.5 991.5,-3696.5 991.5,-3696.5 991.5,-3702.5 985.5,-3708.5 979.5,-3708.5\"/>\n<text text-anchor=\"middle\" x=\"921.5\" y=\"-3693.3\" font-family=\"Helvetica,sans-Serif\" font-size=\"14.00\">em_acount &lt;= 0.5</text>\n<text text-anchor=\"middle\" x=\"921.5\" y=\"-3678.3\" font-family=\"Helvetica,sans-Serif\" font-size=\"14.00\">gini = 0.479</text>\n<text text-anchor=\"middle\" x=\"921.5\" y=\"-3663.3\" font-family=\"Helvetica,sans-Serif\" font-size=\"14.00\">samples = 10571</text>\n<text text-anchor=\"middle\" x=\"921.5\" y=\"-3648.3\" font-family=\"Helvetica,sans-Serif\" font-size=\"14.00\">value = [4202, 6369]</text>\n<text text-anchor=\"middle\" x=\"921.5\" y=\"-3633.3\" font-family=\"Helvetica,sans-Serif\" font-size=\"14.00\">class = debit_card</text>\n</g>\n<!-- 3&#45;&gt;4 -->\n<g id=\"edge4\" class=\"edge\">\n<title>3&#45;&gt;4</title>\n<path fill=\"none\" stroke=\"black\" d=\"M717.76,-2948.67C754.3,-3078.14 865.8,-3473.19 905.92,-3615.35\"/>\n<polygon fill=\"black\" stroke=\"black\" points=\"902.6,-3616.47 908.69,-3625.14 909.34,-3614.57 902.6,-3616.47\"/>\n</g>\n<!-- 55 -->\n<g id=\"node56\" class=\"node\">\n<title>55</title>\n<path fill=\"#73baed\" stroke=\"black\" d=\"M997,-2948.5C997,-2948.5 846,-2948.5 846,-2948.5 840,-2948.5 834,-2942.5 834,-2936.5 834,-2936.5 834,-2877.5 834,-2877.5 834,-2871.5 840,-2865.5 846,-2865.5 846,-2865.5 997,-2865.5 997,-2865.5 1003,-2865.5 1009,-2871.5 1009,-2877.5 1009,-2877.5 1009,-2936.5 1009,-2936.5 1009,-2942.5 1003,-2948.5 997,-2948.5\"/>\n<text text-anchor=\"middle\" x=\"921.5\" y=\"-2933.3\" font-family=\"Helvetica,sans-Serif\" font-size=\"14.00\">tasa_de_empleo &lt;= 51.04</text>\n<text text-anchor=\"middle\" x=\"921.5\" y=\"-2918.3\" font-family=\"Helvetica,sans-Serif\" font-size=\"14.00\">gini = 0.35</text>\n<text text-anchor=\"middle\" x=\"921.5\" y=\"-2903.3\" font-family=\"Helvetica,sans-Serif\" font-size=\"14.00\">samples = 1490</text>\n<text text-anchor=\"middle\" x=\"921.5\" y=\"-2888.3\" font-family=\"Helvetica,sans-Serif\" font-size=\"14.00\">value = [337, 1153]</text>\n<text text-anchor=\"middle\" x=\"921.5\" y=\"-2873.3\" font-family=\"Helvetica,sans-Serif\" font-size=\"14.00\">class = debit_card</text>\n</g>\n<!-- 3&#45;&gt;55 -->\n<g id=\"edge55\" class=\"edge\">\n<title>3&#45;&gt;55</title>\n<path fill=\"none\" stroke=\"black\" d=\"M796.03,-2907C805.11,-2907 814.36,-2907 823.51,-2907\"/>\n<polygon fill=\"black\" stroke=\"black\" points=\"823.78,-2910.5 833.78,-2907 823.78,-2903.5 823.78,-2910.5\"/>\n</g>\n<!-- 5 -->\n<g id=\"node6\" class=\"node\">\n<title>5</title>\n<path fill=\"#ecf5fc\" stroke=\"black\" d=\"M1199.5,-4013.5C1199.5,-4013.5 1069.5,-4013.5 1069.5,-4013.5 1063.5,-4013.5 1057.5,-4007.5 1057.5,-4001.5 1057.5,-4001.5 1057.5,-3942.5 1057.5,-3942.5 1057.5,-3936.5 1063.5,-3930.5 1069.5,-3930.5 1069.5,-3930.5 1199.5,-3930.5 1199.5,-3930.5 1205.5,-3930.5 1211.5,-3936.5 1211.5,-3942.5 1211.5,-3942.5 1211.5,-4001.5 1211.5,-4001.5 1211.5,-4007.5 1205.5,-4013.5 1199.5,-4013.5\"/>\n<text text-anchor=\"middle\" x=\"1134.5\" y=\"-3998.3\" font-family=\"Helvetica,sans-Serif\" font-size=\"14.00\">payroll_account &lt;= 0.5</text>\n<text text-anchor=\"middle\" x=\"1134.5\" y=\"-3983.3\" font-family=\"Helvetica,sans-Serif\" font-size=\"14.00\">gini = 0.499</text>\n<text text-anchor=\"middle\" x=\"1134.5\" y=\"-3968.3\" font-family=\"Helvetica,sans-Serif\" font-size=\"14.00\">samples = 1334</text>\n<text text-anchor=\"middle\" x=\"1134.5\" y=\"-3953.3\" font-family=\"Helvetica,sans-Serif\" font-size=\"14.00\">value = [633, 701]</text>\n<text text-anchor=\"middle\" x=\"1134.5\" y=\"-3938.3\" font-family=\"Helvetica,sans-Serif\" font-size=\"14.00\">class = debit_card</text>\n</g>\n<!-- 4&#45;&gt;5 -->\n<g id=\"edge5\" class=\"edge\">\n<title>4&#45;&gt;5</title>\n<path fill=\"none\" stroke=\"black\" d=\"M951.4,-3708.77C989.8,-3764.28 1057.59,-3862.27 1098.74,-3921.76\"/>\n<polygon fill=\"black\" stroke=\"black\" points=\"1096.05,-3924.01 1104.61,-3930.25 1101.8,-3920.03 1096.05,-3924.01\"/>\n</g>\n<!-- 14 -->\n<g id=\"node15\" class=\"node\">\n<title>14</title>\n<path fill=\"#b6dbf5\" stroke=\"black\" d=\"M1192.5,-3708.5C1192.5,-3708.5 1076.5,-3708.5 1076.5,-3708.5 1070.5,-3708.5 1064.5,-3702.5 1064.5,-3696.5 1064.5,-3696.5 1064.5,-3637.5 1064.5,-3637.5 1064.5,-3631.5 1070.5,-3625.5 1076.5,-3625.5 1076.5,-3625.5 1192.5,-3625.5 1192.5,-3625.5 1198.5,-3625.5 1204.5,-3631.5 1204.5,-3637.5 1204.5,-3637.5 1204.5,-3696.5 1204.5,-3696.5 1204.5,-3702.5 1198.5,-3708.5 1192.5,-3708.5\"/>\n<text text-anchor=\"middle\" x=\"1134.5\" y=\"-3693.3\" font-family=\"Helvetica,sans-Serif\" font-size=\"14.00\">payroll &lt;= 0.5</text>\n<text text-anchor=\"middle\" x=\"1134.5\" y=\"-3678.3\" font-family=\"Helvetica,sans-Serif\" font-size=\"14.00\">gini = 0.474</text>\n<text text-anchor=\"middle\" x=\"1134.5\" y=\"-3663.3\" font-family=\"Helvetica,sans-Serif\" font-size=\"14.00\">samples = 9237</text>\n<text text-anchor=\"middle\" x=\"1134.5\" y=\"-3648.3\" font-family=\"Helvetica,sans-Serif\" font-size=\"14.00\">value = [3569, 5668]</text>\n<text text-anchor=\"middle\" x=\"1134.5\" y=\"-3633.3\" font-family=\"Helvetica,sans-Serif\" font-size=\"14.00\">class = debit_card</text>\n</g>\n<!-- 4&#45;&gt;14 -->\n<g id=\"edge14\" class=\"edge\">\n<title>4&#45;&gt;14</title>\n<path fill=\"none\" stroke=\"black\" d=\"M991.59,-3667C1011.54,-3667 1033.46,-3667 1053.99,-3667\"/>\n<polygon fill=\"black\" stroke=\"black\" points=\"1054.26,-3670.5 1064.26,-3667 1054.26,-3663.5 1054.26,-3670.5\"/>\n</g>\n<!-- 6 -->\n<g id=\"node7\" class=\"node\">\n<title>6</title>\n<path fill=\"#e89050\" stroke=\"black\" d=\"M1408,-4100C1408,-4100 1283,-4100 1283,-4100 1277,-4100 1271,-4094 1271,-4088 1271,-4088 1271,-4044 1271,-4044 1271,-4038 1277,-4032 1283,-4032 1283,-4032 1408,-4032 1408,-4032 1414,-4032 1420,-4038 1420,-4044 1420,-4044 1420,-4088 1420,-4088 1420,-4094 1414,-4100 1408,-4100\"/>\n<text text-anchor=\"middle\" x=\"1345.5\" y=\"-4084.8\" font-family=\"Helvetica,sans-Serif\" font-size=\"14.00\">gini = 0.187</text>\n<text text-anchor=\"middle\" x=\"1345.5\" y=\"-4069.8\" font-family=\"Helvetica,sans-Serif\" font-size=\"14.00\">samples = 363</text>\n<text text-anchor=\"middle\" x=\"1345.5\" y=\"-4054.8\" font-family=\"Helvetica,sans-Serif\" font-size=\"14.00\">value = [325, 38]</text>\n<text text-anchor=\"middle\" x=\"1345.5\" y=\"-4039.8\" font-family=\"Helvetica,sans-Serif\" font-size=\"14.00\">class = no_debit_card</text>\n</g>\n<!-- 5&#45;&gt;6 -->\n<g id=\"edge6\" class=\"edge\">\n<title>5&#45;&gt;6</title>\n<path fill=\"none\" stroke=\"black\" d=\"M1211.55,-4006.2C1227.89,-4013.55 1245.25,-4021.36 1261.83,-4028.82\"/>\n<polygon fill=\"black\" stroke=\"black\" points=\"1260.4,-4032.01 1270.95,-4032.92 1263.27,-4025.63 1260.4,-4032.01\"/>\n</g>\n<!-- 7 -->\n<g id=\"node8\" class=\"node\">\n<title>7</title>\n<path fill=\"#95cbf1\" stroke=\"black\" d=\"M1396.5,-4013.5C1396.5,-4013.5 1294.5,-4013.5 1294.5,-4013.5 1288.5,-4013.5 1282.5,-4007.5 1282.5,-4001.5 1282.5,-4001.5 1282.5,-3942.5 1282.5,-3942.5 1282.5,-3936.5 1288.5,-3930.5 1294.5,-3930.5 1294.5,-3930.5 1396.5,-3930.5 1396.5,-3930.5 1402.5,-3930.5 1408.5,-3936.5 1408.5,-3942.5 1408.5,-3942.5 1408.5,-4001.5 1408.5,-4001.5 1408.5,-4007.5 1402.5,-4013.5 1396.5,-4013.5\"/>\n<text text-anchor=\"middle\" x=\"1345.5\" y=\"-3998.3\" font-family=\"Helvetica,sans-Serif\" font-size=\"14.00\">payroll &lt;= 0.5</text>\n<text text-anchor=\"middle\" x=\"1345.5\" y=\"-3983.3\" font-family=\"Helvetica,sans-Serif\" font-size=\"14.00\">gini = 0.433</text>\n<text text-anchor=\"middle\" x=\"1345.5\" y=\"-3968.3\" font-family=\"Helvetica,sans-Serif\" font-size=\"14.00\">samples = 971</text>\n<text text-anchor=\"middle\" x=\"1345.5\" y=\"-3953.3\" font-family=\"Helvetica,sans-Serif\" font-size=\"14.00\">value = [308, 663]</text>\n<text text-anchor=\"middle\" x=\"1345.5\" y=\"-3938.3\" font-family=\"Helvetica,sans-Serif\" font-size=\"14.00\">class = debit_card</text>\n</g>\n<!-- 5&#45;&gt;7 -->\n<g id=\"edge7\" class=\"edge\">\n<title>5&#45;&gt;7</title>\n<path fill=\"none\" stroke=\"black\" d=\"M1211.55,-3972C1231.32,-3972 1252.57,-3972 1272.16,-3972\"/>\n<polygon fill=\"black\" stroke=\"black\" points=\"1272.23,-3975.5 1282.23,-3972 1272.23,-3968.5 1272.23,-3975.5\"/>\n</g>\n<!-- 8 -->\n<g id=\"node9\" class=\"node\">\n<title>8</title>\n<path fill=\"#e6f3fc\" stroke=\"black\" d=\"M1645.5,-4100C1645.5,-4100 1543.5,-4100 1543.5,-4100 1537.5,-4100 1531.5,-4094 1531.5,-4088 1531.5,-4088 1531.5,-4044 1531.5,-4044 1531.5,-4038 1537.5,-4032 1543.5,-4032 1543.5,-4032 1645.5,-4032 1645.5,-4032 1651.5,-4032 1657.5,-4038 1657.5,-4044 1657.5,-4044 1657.5,-4088 1657.5,-4088 1657.5,-4094 1651.5,-4100 1645.5,-4100\"/>\n<text text-anchor=\"middle\" x=\"1594.5\" y=\"-4084.8\" font-family=\"Helvetica,sans-Serif\" font-size=\"14.00\">gini = 0.498</text>\n<text text-anchor=\"middle\" x=\"1594.5\" y=\"-4069.8\" font-family=\"Helvetica,sans-Serif\" font-size=\"14.00\">samples = 450</text>\n<text text-anchor=\"middle\" x=\"1594.5\" y=\"-4054.8\" font-family=\"Helvetica,sans-Serif\" font-size=\"14.00\">value = [210, 240]</text>\n<text text-anchor=\"middle\" x=\"1594.5\" y=\"-4039.8\" font-family=\"Helvetica,sans-Serif\" font-size=\"14.00\">class = debit_card</text>\n</g>\n<!-- 7&#45;&gt;8 -->\n<g id=\"edge8\" class=\"edge\">\n<title>7&#45;&gt;8</title>\n<path fill=\"none\" stroke=\"black\" d=\"M1408.52,-3998.7C1427.8,-4006.76 1449.19,-4015.46 1469,-4023 1486.04,-4029.48 1504.55,-4036.1 1521.95,-4042.14\"/>\n<polygon fill=\"black\" stroke=\"black\" points=\"1520.89,-4045.47 1531.48,-4045.43 1523.17,-4038.86 1520.89,-4045.47\"/>\n</g>\n<!-- 9 -->\n<g id=\"node10\" class=\"node\">\n<title>9</title>\n<path fill=\"#67b4eb\" stroke=\"black\" d=\"M1673.5,-4013.5C1673.5,-4013.5 1515.5,-4013.5 1515.5,-4013.5 1509.5,-4013.5 1503.5,-4007.5 1503.5,-4001.5 1503.5,-4001.5 1503.5,-3942.5 1503.5,-3942.5 1503.5,-3936.5 1509.5,-3930.5 1515.5,-3930.5 1515.5,-3930.5 1673.5,-3930.5 1673.5,-3930.5 1679.5,-3930.5 1685.5,-3936.5 1685.5,-3942.5 1685.5,-3942.5 1685.5,-4001.5 1685.5,-4001.5 1685.5,-4007.5 1679.5,-4013.5 1673.5,-4013.5\"/>\n<text text-anchor=\"middle\" x=\"1594.5\" y=\"-3998.3\" font-family=\"Helvetica,sans-Serif\" font-size=\"14.00\">entry_channel_KHO &lt;= 0.5</text>\n<text text-anchor=\"middle\" x=\"1594.5\" y=\"-3983.3\" font-family=\"Helvetica,sans-Serif\" font-size=\"14.00\">gini = 0.305</text>\n<text text-anchor=\"middle\" x=\"1594.5\" y=\"-3968.3\" font-family=\"Helvetica,sans-Serif\" font-size=\"14.00\">samples = 521</text>\n<text text-anchor=\"middle\" x=\"1594.5\" y=\"-3953.3\" font-family=\"Helvetica,sans-Serif\" font-size=\"14.00\">value = [98, 423]</text>\n<text text-anchor=\"middle\" x=\"1594.5\" y=\"-3938.3\" font-family=\"Helvetica,sans-Serif\" font-size=\"14.00\">class = debit_card</text>\n</g>\n<!-- 7&#45;&gt;9 -->\n<g id=\"edge9\" class=\"edge\">\n<title>7&#45;&gt;9</title>\n<path fill=\"none\" stroke=\"black\" d=\"M1408.51,-3972C1434.2,-3972 1464.67,-3972 1493.38,-3972\"/>\n<polygon fill=\"black\" stroke=\"black\" points=\"1493.45,-3975.5 1503.45,-3972 1493.45,-3968.5 1493.45,-3975.5\"/>\n</g>\n<!-- 10 -->\n<g id=\"node11\" class=\"node\">\n<title>10</title>\n<path fill=\"#63b2eb\" stroke=\"black\" d=\"M1919.5,-4114.5C1919.5,-4114.5 1795.5,-4114.5 1795.5,-4114.5 1789.5,-4114.5 1783.5,-4108.5 1783.5,-4102.5 1783.5,-4102.5 1783.5,-4043.5 1783.5,-4043.5 1783.5,-4037.5 1789.5,-4031.5 1795.5,-4031.5 1795.5,-4031.5 1919.5,-4031.5 1919.5,-4031.5 1925.5,-4031.5 1931.5,-4037.5 1931.5,-4043.5 1931.5,-4043.5 1931.5,-4102.5 1931.5,-4102.5 1931.5,-4108.5 1925.5,-4114.5 1919.5,-4114.5\"/>\n<text text-anchor=\"middle\" x=\"1857.5\" y=\"-4099.3\" font-family=\"Helvetica,sans-Serif\" font-size=\"14.00\">salary &lt;= 333925.734</text>\n<text text-anchor=\"middle\" x=\"1857.5\" y=\"-4084.3\" font-family=\"Helvetica,sans-Serif\" font-size=\"14.00\">gini = 0.289</text>\n<text text-anchor=\"middle\" x=\"1857.5\" y=\"-4069.3\" font-family=\"Helvetica,sans-Serif\" font-size=\"14.00\">samples = 502</text>\n<text text-anchor=\"middle\" x=\"1857.5\" y=\"-4054.3\" font-family=\"Helvetica,sans-Serif\" font-size=\"14.00\">value = [88, 414]</text>\n<text text-anchor=\"middle\" x=\"1857.5\" y=\"-4039.3\" font-family=\"Helvetica,sans-Serif\" font-size=\"14.00\">class = debit_card</text>\n</g>\n<!-- 9&#45;&gt;10 -->\n<g id=\"edge10\" class=\"edge\">\n<title>9&#45;&gt;10</title>\n<path fill=\"none\" stroke=\"black\" d=\"M1685.69,-4006.9C1714.28,-4017.97 1745.74,-4030.14 1773.78,-4040.99\"/>\n<polygon fill=\"black\" stroke=\"black\" points=\"1772.56,-4044.27 1783.15,-4044.62 1775.09,-4037.74 1772.56,-4044.27\"/>\n</g>\n<!-- 13 -->\n<g id=\"node14\" class=\"node\">\n<title>13</title>\n<path fill=\"#fcf2eb\" stroke=\"black\" d=\"M1920,-4006C1920,-4006 1795,-4006 1795,-4006 1789,-4006 1783,-4000 1783,-3994 1783,-3994 1783,-3950 1783,-3950 1783,-3944 1789,-3938 1795,-3938 1795,-3938 1920,-3938 1920,-3938 1926,-3938 1932,-3944 1932,-3950 1932,-3950 1932,-3994 1932,-3994 1932,-4000 1926,-4006 1920,-4006\"/>\n<text text-anchor=\"middle\" x=\"1857.5\" y=\"-3990.8\" font-family=\"Helvetica,sans-Serif\" font-size=\"14.00\">gini = 0.499</text>\n<text text-anchor=\"middle\" x=\"1857.5\" y=\"-3975.8\" font-family=\"Helvetica,sans-Serif\" font-size=\"14.00\">samples = 19</text>\n<text text-anchor=\"middle\" x=\"1857.5\" y=\"-3960.8\" font-family=\"Helvetica,sans-Serif\" font-size=\"14.00\">value = [10, 9]</text>\n<text text-anchor=\"middle\" x=\"1857.5\" y=\"-3945.8\" font-family=\"Helvetica,sans-Serif\" font-size=\"14.00\">class = no_debit_card</text>\n</g>\n<!-- 9&#45;&gt;13 -->\n<g id=\"edge13\" class=\"edge\">\n<title>9&#45;&gt;13</title>\n<path fill=\"none\" stroke=\"black\" d=\"M1685.69,-3972C1713.9,-3972 1744.9,-3972 1772.66,-3972\"/>\n<polygon fill=\"black\" stroke=\"black\" points=\"1772.73,-3975.5 1782.73,-3972 1772.73,-3968.5 1772.73,-3975.5\"/>\n</g>\n<!-- 11 -->\n<g id=\"node12\" class=\"node\">\n<title>11</title>\n<path fill=\"#61b1ea\" stroke=\"black\" d=\"M2147.5,-4193C2147.5,-4193 2045.5,-4193 2045.5,-4193 2039.5,-4193 2033.5,-4187 2033.5,-4181 2033.5,-4181 2033.5,-4137 2033.5,-4137 2033.5,-4131 2039.5,-4125 2045.5,-4125 2045.5,-4125 2147.5,-4125 2147.5,-4125 2153.5,-4125 2159.5,-4131 2159.5,-4137 2159.5,-4137 2159.5,-4181 2159.5,-4181 2159.5,-4187 2153.5,-4193 2147.5,-4193\"/>\n<text text-anchor=\"middle\" x=\"2096.5\" y=\"-4177.8\" font-family=\"Helvetica,sans-Serif\" font-size=\"14.00\">gini = 0.281</text>\n<text text-anchor=\"middle\" x=\"2096.5\" y=\"-4162.8\" font-family=\"Helvetica,sans-Serif\" font-size=\"14.00\">samples = 496</text>\n<text text-anchor=\"middle\" x=\"2096.5\" y=\"-4147.8\" font-family=\"Helvetica,sans-Serif\" font-size=\"14.00\">value = [84, 412]</text>\n<text text-anchor=\"middle\" x=\"2096.5\" y=\"-4132.8\" font-family=\"Helvetica,sans-Serif\" font-size=\"14.00\">class = debit_card</text>\n</g>\n<!-- 10&#45;&gt;11 -->\n<g id=\"edge11\" class=\"edge\">\n<title>10&#45;&gt;11</title>\n<path fill=\"none\" stroke=\"black\" d=\"M1931.54,-4099.5C1960.87,-4110.15 1994.57,-4122.38 2023.77,-4132.97\"/>\n<polygon fill=\"black\" stroke=\"black\" points=\"2022.89,-4136.37 2033.48,-4136.5 2025.28,-4129.79 2022.89,-4136.37\"/>\n</g>\n<!-- 12 -->\n<g id=\"node13\" class=\"node\">\n<title>12</title>\n<path fill=\"#f2c09c\" stroke=\"black\" d=\"M2159,-4107C2159,-4107 2034,-4107 2034,-4107 2028,-4107 2022,-4101 2022,-4095 2022,-4095 2022,-4051 2022,-4051 2022,-4045 2028,-4039 2034,-4039 2034,-4039 2159,-4039 2159,-4039 2165,-4039 2171,-4045 2171,-4051 2171,-4051 2171,-4095 2171,-4095 2171,-4101 2165,-4107 2159,-4107\"/>\n<text text-anchor=\"middle\" x=\"2096.5\" y=\"-4091.8\" font-family=\"Helvetica,sans-Serif\" font-size=\"14.00\">gini = 0.444</text>\n<text text-anchor=\"middle\" x=\"2096.5\" y=\"-4076.8\" font-family=\"Helvetica,sans-Serif\" font-size=\"14.00\">samples = 6</text>\n<text text-anchor=\"middle\" x=\"2096.5\" y=\"-4061.8\" font-family=\"Helvetica,sans-Serif\" font-size=\"14.00\">value = [4, 2]</text>\n<text text-anchor=\"middle\" x=\"2096.5\" y=\"-4046.8\" font-family=\"Helvetica,sans-Serif\" font-size=\"14.00\">class = no_debit_card</text>\n</g>\n<!-- 10&#45;&gt;12 -->\n<g id=\"edge12\" class=\"edge\">\n<title>10&#45;&gt;12</title>\n<path fill=\"none\" stroke=\"black\" d=\"M1931.54,-4073C1956.88,-4073 1985.48,-4073 2011.62,-4073\"/>\n<polygon fill=\"black\" stroke=\"black\" points=\"2011.88,-4076.5 2021.88,-4073 2011.88,-4069.5 2011.88,-4076.5\"/>\n</g>\n<!-- 15 -->\n<g id=\"node16\" class=\"node\">\n<title>15</title>\n<path fill=\"#add6f4\" stroke=\"black\" d=\"M1403.5,-3755.5C1403.5,-3755.5 1287.5,-3755.5 1287.5,-3755.5 1281.5,-3755.5 1275.5,-3749.5 1275.5,-3743.5 1275.5,-3743.5 1275.5,-3684.5 1275.5,-3684.5 1275.5,-3678.5 1281.5,-3672.5 1287.5,-3672.5 1287.5,-3672.5 1403.5,-3672.5 1403.5,-3672.5 1409.5,-3672.5 1415.5,-3678.5 1415.5,-3684.5 1415.5,-3684.5 1415.5,-3743.5 1415.5,-3743.5 1415.5,-3749.5 1409.5,-3755.5 1403.5,-3755.5\"/>\n<text text-anchor=\"middle\" x=\"1345.5\" y=\"-3740.3\" font-family=\"Helvetica,sans-Serif\" font-size=\"14.00\">antiguedad &lt;= 4.5</text>\n<text text-anchor=\"middle\" x=\"1345.5\" y=\"-3725.3\" font-family=\"Helvetica,sans-Serif\" font-size=\"14.00\">gini = 0.466</text>\n<text text-anchor=\"middle\" x=\"1345.5\" y=\"-3710.3\" font-family=\"Helvetica,sans-Serif\" font-size=\"14.00\">samples = 8745</text>\n<text text-anchor=\"middle\" x=\"1345.5\" y=\"-3695.3\" font-family=\"Helvetica,sans-Serif\" font-size=\"14.00\">value = [3233, 5512]</text>\n<text text-anchor=\"middle\" x=\"1345.5\" y=\"-3680.3\" font-family=\"Helvetica,sans-Serif\" font-size=\"14.00\">class = debit_card</text>\n</g>\n<!-- 14&#45;&gt;15 -->\n<g id=\"edge15\" class=\"edge\">\n<title>14&#45;&gt;15</title>\n<path fill=\"none\" stroke=\"black\" d=\"M1204.51,-3682.52C1223.94,-3686.89 1245.23,-3691.68 1265.2,-3696.17\"/>\n<polygon fill=\"black\" stroke=\"black\" points=\"1264.68,-3699.64 1275.2,-3698.42 1266.21,-3692.81 1264.68,-3699.64\"/>\n</g>\n<!-- 54 -->\n<g id=\"node55\" class=\"node\">\n<title>54</title>\n<path fill=\"#f1bc95\" stroke=\"black\" d=\"M1408,-3654C1408,-3654 1283,-3654 1283,-3654 1277,-3654 1271,-3648 1271,-3642 1271,-3642 1271,-3598 1271,-3598 1271,-3592 1277,-3586 1283,-3586 1283,-3586 1408,-3586 1408,-3586 1414,-3586 1420,-3592 1420,-3598 1420,-3598 1420,-3642 1420,-3642 1420,-3648 1414,-3654 1408,-3654\"/>\n<text text-anchor=\"middle\" x=\"1345.5\" y=\"-3638.8\" font-family=\"Helvetica,sans-Serif\" font-size=\"14.00\">gini = 0.433</text>\n<text text-anchor=\"middle\" x=\"1345.5\" y=\"-3623.8\" font-family=\"Helvetica,sans-Serif\" font-size=\"14.00\">samples = 492</text>\n<text text-anchor=\"middle\" x=\"1345.5\" y=\"-3608.8\" font-family=\"Helvetica,sans-Serif\" font-size=\"14.00\">value = [336, 156]</text>\n<text text-anchor=\"middle\" x=\"1345.5\" y=\"-3593.8\" font-family=\"Helvetica,sans-Serif\" font-size=\"14.00\">class = no_debit_card</text>\n</g>\n<!-- 14&#45;&gt;54 -->\n<g id=\"edge54\" class=\"edge\">\n<title>14&#45;&gt;54</title>\n<path fill=\"none\" stroke=\"black\" d=\"M1204.51,-3651.48C1222.55,-3647.42 1242.2,-3643.01 1260.91,-3638.8\"/>\n<polygon fill=\"black\" stroke=\"black\" points=\"1261.9,-3642.16 1270.89,-3636.55 1260.36,-3635.33 1261.9,-3642.16\"/>\n</g>\n<!-- 16 -->\n<g id=\"node17\" class=\"node\">\n<title>16</title>\n<path fill=\"#96cbf1\" stroke=\"black\" d=\"M1648.5,-3819.5C1648.5,-3819.5 1540.5,-3819.5 1540.5,-3819.5 1534.5,-3819.5 1528.5,-3813.5 1528.5,-3807.5 1528.5,-3807.5 1528.5,-3748.5 1528.5,-3748.5 1528.5,-3742.5 1534.5,-3736.5 1540.5,-3736.5 1540.5,-3736.5 1648.5,-3736.5 1648.5,-3736.5 1654.5,-3736.5 1660.5,-3742.5 1660.5,-3748.5 1660.5,-3748.5 1660.5,-3807.5 1660.5,-3807.5 1660.5,-3813.5 1654.5,-3819.5 1648.5,-3819.5\"/>\n<text text-anchor=\"middle\" x=\"1594.5\" y=\"-3804.3\" font-family=\"Helvetica,sans-Serif\" font-size=\"14.00\">age &lt;= 27.5</text>\n<text text-anchor=\"middle\" x=\"1594.5\" y=\"-3789.3\" font-family=\"Helvetica,sans-Serif\" font-size=\"14.00\">gini = 0.435</text>\n<text text-anchor=\"middle\" x=\"1594.5\" y=\"-3774.3\" font-family=\"Helvetica,sans-Serif\" font-size=\"14.00\">samples = 2188</text>\n<text text-anchor=\"middle\" x=\"1594.5\" y=\"-3759.3\" font-family=\"Helvetica,sans-Serif\" font-size=\"14.00\">value = [699, 1489]</text>\n<text text-anchor=\"middle\" x=\"1594.5\" y=\"-3744.3\" font-family=\"Helvetica,sans-Serif\" font-size=\"14.00\">class = debit_card</text>\n</g>\n<!-- 15&#45;&gt;16 -->\n<g id=\"edge16\" class=\"edge\">\n<title>15&#45;&gt;16</title>\n<path fill=\"none\" stroke=\"black\" d=\"M1415.63,-3731.91C1447.58,-3740.19 1485.59,-3750.04 1518.25,-3758.5\"/>\n<polygon fill=\"black\" stroke=\"black\" points=\"1517.65,-3761.96 1528.21,-3761.08 1519.41,-3755.19 1517.65,-3761.96\"/>\n</g>\n<!-- 27 -->\n<g id=\"node28\" class=\"node\">\n<title>27</title>\n<path fill=\"#b6dbf5\" stroke=\"black\" d=\"M1652.5,-3644.5C1652.5,-3644.5 1536.5,-3644.5 1536.5,-3644.5 1530.5,-3644.5 1524.5,-3638.5 1524.5,-3632.5 1524.5,-3632.5 1524.5,-3573.5 1524.5,-3573.5 1524.5,-3567.5 1530.5,-3561.5 1536.5,-3561.5 1536.5,-3561.5 1652.5,-3561.5 1652.5,-3561.5 1658.5,-3561.5 1664.5,-3567.5 1664.5,-3573.5 1664.5,-3573.5 1664.5,-3632.5 1664.5,-3632.5 1664.5,-3638.5 1658.5,-3644.5 1652.5,-3644.5\"/>\n<text text-anchor=\"middle\" x=\"1594.5\" y=\"-3629.3\" font-family=\"Helvetica,sans-Serif\" font-size=\"14.00\">sale_year &lt;= 2018.5</text>\n<text text-anchor=\"middle\" x=\"1594.5\" y=\"-3614.3\" font-family=\"Helvetica,sans-Serif\" font-size=\"14.00\">gini = 0.474</text>\n<text text-anchor=\"middle\" x=\"1594.5\" y=\"-3599.3\" font-family=\"Helvetica,sans-Serif\" font-size=\"14.00\">samples = 6557</text>\n<text text-anchor=\"middle\" x=\"1594.5\" y=\"-3584.3\" font-family=\"Helvetica,sans-Serif\" font-size=\"14.00\">value = [2534, 4023]</text>\n<text text-anchor=\"middle\" x=\"1594.5\" y=\"-3569.3\" font-family=\"Helvetica,sans-Serif\" font-size=\"14.00\">class = debit_card</text>\n</g>\n<!-- 15&#45;&gt;27 -->\n<g id=\"edge27\" class=\"edge\">\n<title>15&#45;&gt;27</title>\n<path fill=\"none\" stroke=\"black\" d=\"M1415.63,-3682.93C1446.55,-3669.04 1483.14,-3652.59 1515.07,-3638.24\"/>\n<polygon fill=\"black\" stroke=\"black\" points=\"1516.7,-3641.35 1524.38,-3634.06 1513.83,-3634.97 1516.7,-3641.35\"/>\n</g>\n<!-- 17 -->\n<g id=\"node18\" class=\"node\">\n<title>17</title>\n<path fill=\"#e4f2fc\" stroke=\"black\" d=\"M1908.5,-3906C1908.5,-3906 1806.5,-3906 1806.5,-3906 1800.5,-3906 1794.5,-3900 1794.5,-3894 1794.5,-3894 1794.5,-3850 1794.5,-3850 1794.5,-3844 1800.5,-3838 1806.5,-3838 1806.5,-3838 1908.5,-3838 1908.5,-3838 1914.5,-3838 1920.5,-3844 1920.5,-3850 1920.5,-3850 1920.5,-3894 1920.5,-3894 1920.5,-3900 1914.5,-3906 1908.5,-3906\"/>\n<text text-anchor=\"middle\" x=\"1857.5\" y=\"-3890.8\" font-family=\"Helvetica,sans-Serif\" font-size=\"14.00\">gini = 0.497</text>\n<text text-anchor=\"middle\" x=\"1857.5\" y=\"-3875.8\" font-family=\"Helvetica,sans-Serif\" font-size=\"14.00\">samples = 194</text>\n<text text-anchor=\"middle\" x=\"1857.5\" y=\"-3860.8\" font-family=\"Helvetica,sans-Serif\" font-size=\"14.00\">value = [90, 104]</text>\n<text text-anchor=\"middle\" x=\"1857.5\" y=\"-3845.8\" font-family=\"Helvetica,sans-Serif\" font-size=\"14.00\">class = debit_card</text>\n</g>\n<!-- 16&#45;&gt;17 -->\n<g id=\"edge17\" class=\"edge\">\n<title>16&#45;&gt;17</title>\n<path fill=\"none\" stroke=\"black\" d=\"M1660.69,-3801.48C1698.41,-3815.06 1745.94,-3832.18 1784.73,-3846.15\"/>\n<polygon fill=\"black\" stroke=\"black\" points=\"1783.79,-3849.53 1794.39,-3849.63 1786.16,-3842.95 1783.79,-3849.53\"/>\n</g>\n<!-- 18 -->\n<g id=\"node19\" class=\"node\">\n<title>18</title>\n<path fill=\"#90c8f0\" stroke=\"black\" d=\"M1935,-3819.5C1935,-3819.5 1780,-3819.5 1780,-3819.5 1774,-3819.5 1768,-3813.5 1768,-3807.5 1768,-3807.5 1768,-3748.5 1768,-3748.5 1768,-3742.5 1774,-3736.5 1780,-3736.5 1780,-3736.5 1935,-3736.5 1935,-3736.5 1941,-3736.5 1947,-3742.5 1947,-3748.5 1947,-3748.5 1947,-3807.5 1947,-3807.5 1947,-3813.5 1941,-3819.5 1935,-3819.5\"/>\n<text text-anchor=\"middle\" x=\"1857.5\" y=\"-3804.3\" font-family=\"Helvetica,sans-Serif\" font-size=\"14.00\">entry_channel_KHK &lt;= 0.5</text>\n<text text-anchor=\"middle\" x=\"1857.5\" y=\"-3789.3\" font-family=\"Helvetica,sans-Serif\" font-size=\"14.00\">gini = 0.424</text>\n<text text-anchor=\"middle\" x=\"1857.5\" y=\"-3774.3\" font-family=\"Helvetica,sans-Serif\" font-size=\"14.00\">samples = 1994</text>\n<text text-anchor=\"middle\" x=\"1857.5\" y=\"-3759.3\" font-family=\"Helvetica,sans-Serif\" font-size=\"14.00\">value = [609, 1385]</text>\n<text text-anchor=\"middle\" x=\"1857.5\" y=\"-3744.3\" font-family=\"Helvetica,sans-Serif\" font-size=\"14.00\">class = debit_card</text>\n</g>\n<!-- 16&#45;&gt;18 -->\n<g id=\"edge18\" class=\"edge\">\n<title>16&#45;&gt;18</title>\n<path fill=\"none\" stroke=\"black\" d=\"M1660.69,-3778C1689.84,-3778 1724.86,-3778 1757.17,-3778\"/>\n<polygon fill=\"black\" stroke=\"black\" points=\"1757.55,-3781.5 1767.55,-3778 1757.55,-3774.5 1757.55,-3781.5\"/>\n</g>\n<!-- 19 -->\n<g id=\"node20\" class=\"node\">\n<title>19</title>\n<path fill=\"#8fc8f0\" stroke=\"black\" d=\"M2150.5,-4020.5C2150.5,-4020.5 2042.5,-4020.5 2042.5,-4020.5 2036.5,-4020.5 2030.5,-4014.5 2030.5,-4008.5 2030.5,-4008.5 2030.5,-3949.5 2030.5,-3949.5 2030.5,-3943.5 2036.5,-3937.5 2042.5,-3937.5 2042.5,-3937.5 2150.5,-3937.5 2150.5,-3937.5 2156.5,-3937.5 2162.5,-3943.5 2162.5,-3949.5 2162.5,-3949.5 2162.5,-4008.5 2162.5,-4008.5 2162.5,-4014.5 2156.5,-4020.5 2150.5,-4020.5\"/>\n<text text-anchor=\"middle\" x=\"2096.5\" y=\"-4005.3\" font-family=\"Helvetica,sans-Serif\" font-size=\"14.00\">sale_month &lt;= 3.5</text>\n<text text-anchor=\"middle\" x=\"2096.5\" y=\"-3990.3\" font-family=\"Helvetica,sans-Serif\" font-size=\"14.00\">gini = 0.423</text>\n<text text-anchor=\"middle\" x=\"2096.5\" y=\"-3975.3\" font-family=\"Helvetica,sans-Serif\" font-size=\"14.00\">samples = 1987</text>\n<text text-anchor=\"middle\" x=\"2096.5\" y=\"-3960.3\" font-family=\"Helvetica,sans-Serif\" font-size=\"14.00\">value = [603, 1384]</text>\n<text text-anchor=\"middle\" x=\"2096.5\" y=\"-3945.3\" font-family=\"Helvetica,sans-Serif\" font-size=\"14.00\">class = debit_card</text>\n</g>\n<!-- 18&#45;&gt;19 -->\n<g id=\"edge19\" class=\"edge\">\n<title>18&#45;&gt;19</title>\n<path fill=\"none\" stroke=\"black\" d=\"M1945.54,-3819.57C1950.2,-3822.59 1954.72,-3825.74 1959,-3829 1996.83,-3857.82 2032.73,-3897.98 2058.22,-3929.49\"/>\n<polygon fill=\"black\" stroke=\"black\" points=\"2055.49,-3931.68 2064.46,-3937.3 2060.95,-3927.31 2055.49,-3931.68\"/>\n</g>\n<!-- 26 -->\n<g id=\"node27\" class=\"node\">\n<title>26</title>\n<path fill=\"#e9965a\" stroke=\"black\" d=\"M2159,-3812C2159,-3812 2034,-3812 2034,-3812 2028,-3812 2022,-3806 2022,-3800 2022,-3800 2022,-3756 2022,-3756 2022,-3750 2028,-3744 2034,-3744 2034,-3744 2159,-3744 2159,-3744 2165,-3744 2171,-3750 2171,-3756 2171,-3756 2171,-3800 2171,-3800 2171,-3806 2165,-3812 2159,-3812\"/>\n<text text-anchor=\"middle\" x=\"2096.5\" y=\"-3796.8\" font-family=\"Helvetica,sans-Serif\" font-size=\"14.00\">gini = 0.245</text>\n<text text-anchor=\"middle\" x=\"2096.5\" y=\"-3781.8\" font-family=\"Helvetica,sans-Serif\" font-size=\"14.00\">samples = 7</text>\n<text text-anchor=\"middle\" x=\"2096.5\" y=\"-3766.8\" font-family=\"Helvetica,sans-Serif\" font-size=\"14.00\">value = [6, 1]</text>\n<text text-anchor=\"middle\" x=\"2096.5\" y=\"-3751.8\" font-family=\"Helvetica,sans-Serif\" font-size=\"14.00\">class = no_debit_card</text>\n</g>\n<!-- 18&#45;&gt;26 -->\n<g id=\"edge26\" class=\"edge\">\n<title>18&#45;&gt;26</title>\n<path fill=\"none\" stroke=\"black\" d=\"M1947.09,-3778C1968.22,-3778 1990.7,-3778 2011.61,-3778\"/>\n<polygon fill=\"black\" stroke=\"black\" points=\"2011.74,-3781.5 2021.74,-3778 2011.74,-3774.5 2011.74,-3781.5\"/>\n</g>\n<!-- 20 -->\n<g id=\"node21\" class=\"node\">\n<title>20</title>\n<path fill=\"#86c3ef\" stroke=\"black\" d=\"M2437,-4196.5C2437,-4196.5 2290,-4196.5 2290,-4196.5 2284,-4196.5 2278,-4190.5 2278,-4184.5 2278,-4184.5 2278,-4125.5 2278,-4125.5 2278,-4119.5 2284,-4113.5 2290,-4113.5 2290,-4113.5 2437,-4113.5 2437,-4113.5 2443,-4113.5 2449,-4119.5 2449,-4125.5 2449,-4125.5 2449,-4184.5 2449,-4184.5 2449,-4190.5 2443,-4196.5 2437,-4196.5\"/>\n<text text-anchor=\"middle\" x=\"2363.5\" y=\"-4181.3\" font-family=\"Helvetica,sans-Serif\" font-size=\"14.00\">long_term_deposit &lt;= 0.5</text>\n<text text-anchor=\"middle\" x=\"2363.5\" y=\"-4166.3\" font-family=\"Helvetica,sans-Serif\" font-size=\"14.00\">gini = 0.403</text>\n<text text-anchor=\"middle\" x=\"2363.5\" y=\"-4151.3\" font-family=\"Helvetica,sans-Serif\" font-size=\"14.00\">samples = 1202</text>\n<text text-anchor=\"middle\" x=\"2363.5\" y=\"-4136.3\" font-family=\"Helvetica,sans-Serif\" font-size=\"14.00\">value = [336, 866]</text>\n<text text-anchor=\"middle\" x=\"2363.5\" y=\"-4121.3\" font-family=\"Helvetica,sans-Serif\" font-size=\"14.00\">class = debit_card</text>\n</g>\n<!-- 19&#45;&gt;20 -->\n<g id=\"edge20\" class=\"edge\">\n<title>19&#45;&gt;20</title>\n<path fill=\"none\" stroke=\"black\" d=\"M2162.52,-4009.83C2174.53,-4016.13 2186.81,-4022.99 2198,-4030 2234.97,-4053.16 2273.94,-4082.53 2304.67,-4106.98\"/>\n<polygon fill=\"black\" stroke=\"black\" points=\"2302.71,-4109.9 2312.7,-4113.41 2307.08,-4104.43 2302.71,-4109.9\"/>\n</g>\n<!-- 23 -->\n<g id=\"node24\" class=\"node\">\n<title>23</title>\n<path fill=\"#9fd0f2\" stroke=\"black\" d=\"M2414.5,-4024.5C2414.5,-4024.5 2312.5,-4024.5 2312.5,-4024.5 2306.5,-4024.5 2300.5,-4018.5 2300.5,-4012.5 2300.5,-4012.5 2300.5,-3953.5 2300.5,-3953.5 2300.5,-3947.5 2306.5,-3941.5 2312.5,-3941.5 2312.5,-3941.5 2414.5,-3941.5 2414.5,-3941.5 2420.5,-3941.5 2426.5,-3947.5 2426.5,-3953.5 2426.5,-3953.5 2426.5,-4012.5 2426.5,-4012.5 2426.5,-4018.5 2420.5,-4024.5 2414.5,-4024.5\"/>\n<text text-anchor=\"middle\" x=\"2363.5\" y=\"-4009.3\" font-family=\"Helvetica,sans-Serif\" font-size=\"14.00\">antiguedad &lt;= 3.5</text>\n<text text-anchor=\"middle\" x=\"2363.5\" y=\"-3994.3\" font-family=\"Helvetica,sans-Serif\" font-size=\"14.00\">gini = 0.449</text>\n<text text-anchor=\"middle\" x=\"2363.5\" y=\"-3979.3\" font-family=\"Helvetica,sans-Serif\" font-size=\"14.00\">samples = 785</text>\n<text text-anchor=\"middle\" x=\"2363.5\" y=\"-3964.3\" font-family=\"Helvetica,sans-Serif\" font-size=\"14.00\">value = [267, 518]</text>\n<text text-anchor=\"middle\" x=\"2363.5\" y=\"-3949.3\" font-family=\"Helvetica,sans-Serif\" font-size=\"14.00\">class = debit_card</text>\n</g>\n<!-- 19&#45;&gt;23 -->\n<g id=\"edge23\" class=\"edge\">\n<title>19&#45;&gt;23</title>\n<path fill=\"none\" stroke=\"black\" d=\"M2162.67,-3979.98C2201.29,-3980.57 2250.32,-3981.31 2290.15,-3981.91\"/>\n<polygon fill=\"black\" stroke=\"black\" points=\"2290.27,-3985.41 2300.32,-3982.06 2290.38,-3978.41 2290.27,-3985.41\"/>\n</g>\n<!-- 21 -->\n<g id=\"node22\" class=\"node\">\n<title>21</title>\n<path fill=\"#85c3ef\" stroke=\"black\" d=\"M2654.5,-4275C2654.5,-4275 2552.5,-4275 2552.5,-4275 2546.5,-4275 2540.5,-4269 2540.5,-4263 2540.5,-4263 2540.5,-4219 2540.5,-4219 2540.5,-4213 2546.5,-4207 2552.5,-4207 2552.5,-4207 2654.5,-4207 2654.5,-4207 2660.5,-4207 2666.5,-4213 2666.5,-4219 2666.5,-4219 2666.5,-4263 2666.5,-4263 2666.5,-4269 2660.5,-4275 2654.5,-4275\"/>\n<text text-anchor=\"middle\" x=\"2603.5\" y=\"-4259.8\" font-family=\"Helvetica,sans-Serif\" font-size=\"14.00\">gini = 0.401</text>\n<text text-anchor=\"middle\" x=\"2603.5\" y=\"-4244.8\" font-family=\"Helvetica,sans-Serif\" font-size=\"14.00\">samples = 1197</text>\n<text text-anchor=\"middle\" x=\"2603.5\" y=\"-4229.8\" font-family=\"Helvetica,sans-Serif\" font-size=\"14.00\">value = [332, 865]</text>\n<text text-anchor=\"middle\" x=\"2603.5\" y=\"-4214.8\" font-family=\"Helvetica,sans-Serif\" font-size=\"14.00\">class = debit_card</text>\n</g>\n<!-- 20&#45;&gt;21 -->\n<g id=\"edge21\" class=\"edge\">\n<title>20&#45;&gt;21</title>\n<path fill=\"none\" stroke=\"black\" d=\"M2449.08,-4185.56C2475.74,-4195.19 2504.91,-4205.74 2530.6,-4215.02\"/>\n<polygon fill=\"black\" stroke=\"black\" points=\"2529.67,-4218.4 2540.26,-4218.51 2532.05,-4211.82 2529.67,-4218.4\"/>\n</g>\n<!-- 22 -->\n<g id=\"node23\" class=\"node\">\n<title>22</title>\n<path fill=\"#eca06a\" stroke=\"black\" d=\"M2666,-4189C2666,-4189 2541,-4189 2541,-4189 2535,-4189 2529,-4183 2529,-4177 2529,-4177 2529,-4133 2529,-4133 2529,-4127 2535,-4121 2541,-4121 2541,-4121 2666,-4121 2666,-4121 2672,-4121 2678,-4127 2678,-4133 2678,-4133 2678,-4177 2678,-4177 2678,-4183 2672,-4189 2666,-4189\"/>\n<text text-anchor=\"middle\" x=\"2603.5\" y=\"-4173.8\" font-family=\"Helvetica,sans-Serif\" font-size=\"14.00\">gini = 0.32</text>\n<text text-anchor=\"middle\" x=\"2603.5\" y=\"-4158.8\" font-family=\"Helvetica,sans-Serif\" font-size=\"14.00\">samples = 5</text>\n<text text-anchor=\"middle\" x=\"2603.5\" y=\"-4143.8\" font-family=\"Helvetica,sans-Serif\" font-size=\"14.00\">value = [4, 1]</text>\n<text text-anchor=\"middle\" x=\"2603.5\" y=\"-4128.8\" font-family=\"Helvetica,sans-Serif\" font-size=\"14.00\">class = no_debit_card</text>\n</g>\n<!-- 20&#45;&gt;22 -->\n<g id=\"edge22\" class=\"edge\">\n<title>20&#45;&gt;22</title>\n<path fill=\"none\" stroke=\"black\" d=\"M2449.08,-4155C2471.67,-4155 2496.08,-4155 2518.63,-4155\"/>\n<polygon fill=\"black\" stroke=\"black\" points=\"2518.85,-4158.5 2528.85,-4155 2518.85,-4151.5 2518.85,-4158.5\"/>\n</g>\n<!-- 24 -->\n<g id=\"node25\" class=\"node\">\n<title>24</title>\n<path fill=\"#8fc8f0\" stroke=\"black\" d=\"M2654.5,-4103C2654.5,-4103 2552.5,-4103 2552.5,-4103 2546.5,-4103 2540.5,-4097 2540.5,-4091 2540.5,-4091 2540.5,-4047 2540.5,-4047 2540.5,-4041 2546.5,-4035 2552.5,-4035 2552.5,-4035 2654.5,-4035 2654.5,-4035 2660.5,-4035 2666.5,-4041 2666.5,-4047 2666.5,-4047 2666.5,-4091 2666.5,-4091 2666.5,-4097 2660.5,-4103 2654.5,-4103\"/>\n<text text-anchor=\"middle\" x=\"2603.5\" y=\"-4087.8\" font-family=\"Helvetica,sans-Serif\" font-size=\"14.00\">gini = 0.423</text>\n<text text-anchor=\"middle\" x=\"2603.5\" y=\"-4072.8\" font-family=\"Helvetica,sans-Serif\" font-size=\"14.00\">samples = 566</text>\n<text text-anchor=\"middle\" x=\"2603.5\" y=\"-4057.8\" font-family=\"Helvetica,sans-Serif\" font-size=\"14.00\">value = [172, 394]</text>\n<text text-anchor=\"middle\" x=\"2603.5\" y=\"-4042.8\" font-family=\"Helvetica,sans-Serif\" font-size=\"14.00\">class = debit_card</text>\n</g>\n<!-- 23&#45;&gt;24 -->\n<g id=\"edge24\" class=\"edge\">\n<title>23&#45;&gt;24</title>\n<path fill=\"none\" stroke=\"black\" d=\"M2426.72,-4005.48C2458.56,-4016.99 2497.48,-4031.05 2530.6,-4043.02\"/>\n<polygon fill=\"black\" stroke=\"black\" points=\"2529.64,-4046.39 2540.23,-4046.5 2532.01,-4039.81 2529.64,-4046.39\"/>\n</g>\n<!-- 25 -->\n<g id=\"node26\" class=\"node\">\n<title>25</title>\n<path fill=\"#d1e8f9\" stroke=\"black\" d=\"M2654.5,-4017C2654.5,-4017 2552.5,-4017 2552.5,-4017 2546.5,-4017 2540.5,-4011 2540.5,-4005 2540.5,-4005 2540.5,-3961 2540.5,-3961 2540.5,-3955 2546.5,-3949 2552.5,-3949 2552.5,-3949 2654.5,-3949 2654.5,-3949 2660.5,-3949 2666.5,-3955 2666.5,-3961 2666.5,-3961 2666.5,-4005 2666.5,-4005 2666.5,-4011 2660.5,-4017 2654.5,-4017\"/>\n<text text-anchor=\"middle\" x=\"2603.5\" y=\"-4001.8\" font-family=\"Helvetica,sans-Serif\" font-size=\"14.00\">gini = 0.491</text>\n<text text-anchor=\"middle\" x=\"2603.5\" y=\"-3986.8\" font-family=\"Helvetica,sans-Serif\" font-size=\"14.00\">samples = 219</text>\n<text text-anchor=\"middle\" x=\"2603.5\" y=\"-3971.8\" font-family=\"Helvetica,sans-Serif\" font-size=\"14.00\">value = [95, 124]</text>\n<text text-anchor=\"middle\" x=\"2603.5\" y=\"-3956.8\" font-family=\"Helvetica,sans-Serif\" font-size=\"14.00\">class = debit_card</text>\n</g>\n<!-- 23&#45;&gt;25 -->\n<g id=\"edge25\" class=\"edge\">\n<title>23&#45;&gt;25</title>\n<path fill=\"none\" stroke=\"black\" d=\"M2426.72,-3983C2458.42,-3983 2497.15,-3983 2530.18,-3983\"/>\n<polygon fill=\"black\" stroke=\"black\" points=\"2530.23,-3986.5 2540.23,-3983 2530.23,-3979.5 2530.23,-3986.5\"/>\n</g>\n<!-- 28 -->\n<g id=\"node29\" class=\"node\">\n<title>28</title>\n<path fill=\"#a7d3f3\" stroke=\"black\" d=\"M1915.5,-3644.5C1915.5,-3644.5 1799.5,-3644.5 1799.5,-3644.5 1793.5,-3644.5 1787.5,-3638.5 1787.5,-3632.5 1787.5,-3632.5 1787.5,-3573.5 1787.5,-3573.5 1787.5,-3567.5 1793.5,-3561.5 1799.5,-3561.5 1799.5,-3561.5 1915.5,-3561.5 1915.5,-3561.5 1921.5,-3561.5 1927.5,-3567.5 1927.5,-3573.5 1927.5,-3573.5 1927.5,-3632.5 1927.5,-3632.5 1927.5,-3638.5 1921.5,-3644.5 1915.5,-3644.5\"/>\n<text text-anchor=\"middle\" x=\"1857.5\" y=\"-3629.3\" font-family=\"Helvetica,sans-Serif\" font-size=\"14.00\">age &lt;= 46.5</text>\n<text text-anchor=\"middle\" x=\"1857.5\" y=\"-3614.3\" font-family=\"Helvetica,sans-Serif\" font-size=\"14.00\">gini = 0.459</text>\n<text text-anchor=\"middle\" x=\"1857.5\" y=\"-3599.3\" font-family=\"Helvetica,sans-Serif\" font-size=\"14.00\">samples = 3777</text>\n<text text-anchor=\"middle\" x=\"1857.5\" y=\"-3584.3\" font-family=\"Helvetica,sans-Serif\" font-size=\"14.00\">value = [1349, 2428]</text>\n<text text-anchor=\"middle\" x=\"1857.5\" y=\"-3569.3\" font-family=\"Helvetica,sans-Serif\" font-size=\"14.00\">class = debit_card</text>\n</g>\n<!-- 27&#45;&gt;28 -->\n<g id=\"edge28\" class=\"edge\">\n<title>27&#45;&gt;28</title>\n<path fill=\"none\" stroke=\"black\" d=\"M1664.76,-3603C1699.26,-3603 1741.14,-3603 1776.96,-3603\"/>\n<polygon fill=\"black\" stroke=\"black\" points=\"1777.37,-3606.5 1787.37,-3603 1777.37,-3599.5 1777.37,-3606.5\"/>\n</g>\n<!-- 41 -->\n<g id=\"node42\" class=\"node\">\n<title>41</title>\n<path fill=\"#cce6f8\" stroke=\"black\" d=\"M1915.5,-3308.5C1915.5,-3308.5 1799.5,-3308.5 1799.5,-3308.5 1793.5,-3308.5 1787.5,-3302.5 1787.5,-3296.5 1787.5,-3296.5 1787.5,-3237.5 1787.5,-3237.5 1787.5,-3231.5 1793.5,-3225.5 1799.5,-3225.5 1799.5,-3225.5 1915.5,-3225.5 1915.5,-3225.5 1921.5,-3225.5 1927.5,-3231.5 1927.5,-3237.5 1927.5,-3237.5 1927.5,-3296.5 1927.5,-3296.5 1927.5,-3302.5 1921.5,-3308.5 1915.5,-3308.5\"/>\n<text text-anchor=\"middle\" x=\"1857.5\" y=\"-3293.3\" font-family=\"Helvetica,sans-Serif\" font-size=\"14.00\">sale_month &lt;= 2.5</text>\n<text text-anchor=\"middle\" x=\"1857.5\" y=\"-3278.3\" font-family=\"Helvetica,sans-Serif\" font-size=\"14.00\">gini = 0.489</text>\n<text text-anchor=\"middle\" x=\"1857.5\" y=\"-3263.3\" font-family=\"Helvetica,sans-Serif\" font-size=\"14.00\">samples = 2780</text>\n<text text-anchor=\"middle\" x=\"1857.5\" y=\"-3248.3\" font-family=\"Helvetica,sans-Serif\" font-size=\"14.00\">value = [1185, 1595]</text>\n<text text-anchor=\"middle\" x=\"1857.5\" y=\"-3233.3\" font-family=\"Helvetica,sans-Serif\" font-size=\"14.00\">class = debit_card</text>\n</g>\n<!-- 27&#45;&gt;41 -->\n<g id=\"edge41\" class=\"edge\">\n<title>27&#45;&gt;41</title>\n<path fill=\"none\" stroke=\"black\" d=\"M1627.77,-3561.46C1675.83,-3499.58 1766.1,-3383.37 1817.7,-3316.95\"/>\n<polygon fill=\"black\" stroke=\"black\" points=\"1820.73,-3318.75 1824.1,-3308.71 1815.2,-3314.46 1820.73,-3318.75\"/>\n</g>\n<!-- 29 -->\n<g id=\"node30\" class=\"node\">\n<title>29</title>\n<path fill=\"#9ccef2\" stroke=\"black\" d=\"M2153,-3698.5C2153,-3698.5 2040,-3698.5 2040,-3698.5 2034,-3698.5 2028,-3692.5 2028,-3686.5 2028,-3686.5 2028,-3627.5 2028,-3627.5 2028,-3621.5 2034,-3615.5 2040,-3615.5 2040,-3615.5 2153,-3615.5 2153,-3615.5 2159,-3615.5 2165,-3621.5 2165,-3627.5 2165,-3627.5 2165,-3686.5 2165,-3686.5 2165,-3692.5 2159,-3698.5 2153,-3698.5\"/>\n<text text-anchor=\"middle\" x=\"2096.5\" y=\"-3683.3\" font-family=\"Helvetica,sans-Serif\" font-size=\"14.00\">sale_month &lt;= 11.5</text>\n<text text-anchor=\"middle\" x=\"2096.5\" y=\"-3668.3\" font-family=\"Helvetica,sans-Serif\" font-size=\"14.00\">gini = 0.445</text>\n<text text-anchor=\"middle\" x=\"2096.5\" y=\"-3653.3\" font-family=\"Helvetica,sans-Serif\" font-size=\"14.00\">samples = 2953</text>\n<text text-anchor=\"middle\" x=\"2096.5\" y=\"-3638.3\" font-family=\"Helvetica,sans-Serif\" font-size=\"14.00\">value = [985, 1968]</text>\n<text text-anchor=\"middle\" x=\"2096.5\" y=\"-3623.3\" font-family=\"Helvetica,sans-Serif\" font-size=\"14.00\">class = debit_card</text>\n</g>\n<!-- 28&#45;&gt;29 -->\n<g id=\"edge29\" class=\"edge\">\n<title>28&#45;&gt;29</title>\n<path fill=\"none\" stroke=\"black\" d=\"M1927.69,-3618.76C1955.92,-3625.2 1988.7,-3632.67 2017.75,-3639.29\"/>\n<polygon fill=\"black\" stroke=\"black\" points=\"2017.33,-3642.78 2027.86,-3641.59 2018.89,-3635.95 2017.33,-3642.78\"/>\n</g>\n<!-- 36 -->\n<g id=\"node37\" class=\"node\">\n<title>36</title>\n<path fill=\"#d6ebfa\" stroke=\"black\" d=\"M2172.5,-3594.5C2172.5,-3594.5 2020.5,-3594.5 2020.5,-3594.5 2014.5,-3594.5 2008.5,-3588.5 2008.5,-3582.5 2008.5,-3582.5 2008.5,-3523.5 2008.5,-3523.5 2008.5,-3517.5 2014.5,-3511.5 2020.5,-3511.5 2020.5,-3511.5 2172.5,-3511.5 2172.5,-3511.5 2178.5,-3511.5 2184.5,-3517.5 2184.5,-3523.5 2184.5,-3523.5 2184.5,-3582.5 2184.5,-3582.5 2184.5,-3588.5 2178.5,-3594.5 2172.5,-3594.5\"/>\n<text text-anchor=\"middle\" x=\"2096.5\" y=\"-3579.3\" font-family=\"Helvetica,sans-Serif\" font-size=\"14.00\">entry_channel_ZZZ &lt;= 0.5</text>\n<text text-anchor=\"middle\" x=\"2096.5\" y=\"-3564.3\" font-family=\"Helvetica,sans-Serif\" font-size=\"14.00\">gini = 0.493</text>\n<text text-anchor=\"middle\" x=\"2096.5\" y=\"-3549.3\" font-family=\"Helvetica,sans-Serif\" font-size=\"14.00\">samples = 824</text>\n<text text-anchor=\"middle\" x=\"2096.5\" y=\"-3534.3\" font-family=\"Helvetica,sans-Serif\" font-size=\"14.00\">value = [364, 460]</text>\n<text text-anchor=\"middle\" x=\"2096.5\" y=\"-3519.3\" font-family=\"Helvetica,sans-Serif\" font-size=\"14.00\">class = debit_card</text>\n</g>\n<!-- 28&#45;&gt;36 -->\n<g id=\"edge36\" class=\"edge\">\n<title>28&#45;&gt;36</title>\n<path fill=\"none\" stroke=\"black\" d=\"M1927.69,-3588.4C1949.68,-3583.76 1974.44,-3578.54 1998.05,-3573.56\"/>\n<polygon fill=\"black\" stroke=\"black\" points=\"1999.02,-3576.93 2008.08,-3571.44 1997.57,-3570.08 1999.02,-3576.93\"/>\n</g>\n<!-- 30 -->\n<g id=\"node31\" class=\"node\">\n<title>30</title>\n<path fill=\"#90c8f0\" stroke=\"black\" d=\"M2439.5,-3852.5C2439.5,-3852.5 2287.5,-3852.5 2287.5,-3852.5 2281.5,-3852.5 2275.5,-3846.5 2275.5,-3840.5 2275.5,-3840.5 2275.5,-3781.5 2275.5,-3781.5 2275.5,-3775.5 2281.5,-3769.5 2287.5,-3769.5 2287.5,-3769.5 2439.5,-3769.5 2439.5,-3769.5 2445.5,-3769.5 2451.5,-3775.5 2451.5,-3781.5 2451.5,-3781.5 2451.5,-3840.5 2451.5,-3840.5 2451.5,-3846.5 2445.5,-3852.5 2439.5,-3852.5\"/>\n<text text-anchor=\"middle\" x=\"2363.5\" y=\"-3837.3\" font-family=\"Helvetica,sans-Serif\" font-size=\"14.00\">entry_channel_ZZZ &lt;= 0.5</text>\n<text text-anchor=\"middle\" x=\"2363.5\" y=\"-3822.3\" font-family=\"Helvetica,sans-Serif\" font-size=\"14.00\">gini = 0.425</text>\n<text text-anchor=\"middle\" x=\"2363.5\" y=\"-3807.3\" font-family=\"Helvetica,sans-Serif\" font-size=\"14.00\">samples = 2076</text>\n<text text-anchor=\"middle\" x=\"2363.5\" y=\"-3792.3\" font-family=\"Helvetica,sans-Serif\" font-size=\"14.00\">value = [636, 1440]</text>\n<text text-anchor=\"middle\" x=\"2363.5\" y=\"-3777.3\" font-family=\"Helvetica,sans-Serif\" font-size=\"14.00\">class = debit_card</text>\n</g>\n<!-- 29&#45;&gt;30 -->\n<g id=\"edge30\" class=\"edge\">\n<title>29&#45;&gt;30</title>\n<path fill=\"none\" stroke=\"black\" d=\"M2165.06,-3696.26C2200.69,-3716.97 2244.65,-3742.51 2282.03,-3764.24\"/>\n<polygon fill=\"black\" stroke=\"black\" points=\"2280.49,-3767.39 2290.89,-3769.39 2284,-3761.34 2280.49,-3767.39\"/>\n</g>\n<!-- 33 -->\n<g id=\"node34\" class=\"node\">\n<title>33</title>\n<path fill=\"#bcdef6\" stroke=\"black\" d=\"M2414.5,-3698.5C2414.5,-3698.5 2312.5,-3698.5 2312.5,-3698.5 2306.5,-3698.5 2300.5,-3692.5 2300.5,-3686.5 2300.5,-3686.5 2300.5,-3627.5 2300.5,-3627.5 2300.5,-3621.5 2306.5,-3615.5 2312.5,-3615.5 2312.5,-3615.5 2414.5,-3615.5 2414.5,-3615.5 2420.5,-3615.5 2426.5,-3621.5 2426.5,-3627.5 2426.5,-3627.5 2426.5,-3686.5 2426.5,-3686.5 2426.5,-3692.5 2420.5,-3698.5 2414.5,-3698.5\"/>\n<text text-anchor=\"middle\" x=\"2363.5\" y=\"-3683.3\" font-family=\"Helvetica,sans-Serif\" font-size=\"14.00\">antiguedad &lt;= 8.5</text>\n<text text-anchor=\"middle\" x=\"2363.5\" y=\"-3668.3\" font-family=\"Helvetica,sans-Serif\" font-size=\"14.00\">gini = 0.479</text>\n<text text-anchor=\"middle\" x=\"2363.5\" y=\"-3653.3\" font-family=\"Helvetica,sans-Serif\" font-size=\"14.00\">samples = 877</text>\n<text text-anchor=\"middle\" x=\"2363.5\" y=\"-3638.3\" font-family=\"Helvetica,sans-Serif\" font-size=\"14.00\">value = [349, 528]</text>\n<text text-anchor=\"middle\" x=\"2363.5\" y=\"-3623.3\" font-family=\"Helvetica,sans-Serif\" font-size=\"14.00\">class = debit_card</text>\n</g>\n<!-- 29&#45;&gt;33 -->\n<g id=\"edge33\" class=\"edge\">\n<title>29&#45;&gt;33</title>\n<path fill=\"none\" stroke=\"black\" d=\"M2165.06,-3657C2203.2,-3657 2250.89,-3657 2289.85,-3657\"/>\n<polygon fill=\"black\" stroke=\"black\" points=\"2290.07,-3660.5 2300.07,-3657 2290.07,-3653.5 2290.07,-3660.5\"/>\n</g>\n<!-- 31 -->\n<g id=\"node32\" class=\"node\">\n<title>31</title>\n<path fill=\"#8dc7f0\" stroke=\"black\" d=\"M2657.5,-3931C2657.5,-3931 2549.5,-3931 2549.5,-3931 2543.5,-3931 2537.5,-3925 2537.5,-3919 2537.5,-3919 2537.5,-3875 2537.5,-3875 2537.5,-3869 2543.5,-3863 2549.5,-3863 2549.5,-3863 2657.5,-3863 2657.5,-3863 2663.5,-3863 2669.5,-3869 2669.5,-3875 2669.5,-3875 2669.5,-3919 2669.5,-3919 2669.5,-3925 2663.5,-3931 2657.5,-3931\"/>\n<text text-anchor=\"middle\" x=\"2603.5\" y=\"-3915.8\" font-family=\"Helvetica,sans-Serif\" font-size=\"14.00\">gini = 0.419</text>\n<text text-anchor=\"middle\" x=\"2603.5\" y=\"-3900.8\" font-family=\"Helvetica,sans-Serif\" font-size=\"14.00\">samples = 1988</text>\n<text text-anchor=\"middle\" x=\"2603.5\" y=\"-3885.8\" font-family=\"Helvetica,sans-Serif\" font-size=\"14.00\">value = [594, 1394]</text>\n<text text-anchor=\"middle\" x=\"2603.5\" y=\"-3870.8\" font-family=\"Helvetica,sans-Serif\" font-size=\"14.00\">class = debit_card</text>\n</g>\n<!-- 30&#45;&gt;31 -->\n<g id=\"edge31\" class=\"edge\">\n<title>30&#45;&gt;31</title>\n<path fill=\"none\" stroke=\"black\" d=\"M2451.77,-3842.53C2476.72,-3851.55 2503.67,-3861.29 2527.79,-3870\"/>\n<polygon fill=\"black\" stroke=\"black\" points=\"2526.64,-3873.31 2537.24,-3873.42 2529.02,-3866.73 2526.64,-3873.31\"/>\n</g>\n<!-- 32 -->\n<g id=\"node33\" class=\"node\">\n<title>32</title>\n<path fill=\"#eef6fd\" stroke=\"black\" d=\"M2654.5,-3845C2654.5,-3845 2552.5,-3845 2552.5,-3845 2546.5,-3845 2540.5,-3839 2540.5,-3833 2540.5,-3833 2540.5,-3789 2540.5,-3789 2540.5,-3783 2546.5,-3777 2552.5,-3777 2552.5,-3777 2654.5,-3777 2654.5,-3777 2660.5,-3777 2666.5,-3783 2666.5,-3789 2666.5,-3789 2666.5,-3833 2666.5,-3833 2666.5,-3839 2660.5,-3845 2654.5,-3845\"/>\n<text text-anchor=\"middle\" x=\"2603.5\" y=\"-3829.8\" font-family=\"Helvetica,sans-Serif\" font-size=\"14.00\">gini = 0.499</text>\n<text text-anchor=\"middle\" x=\"2603.5\" y=\"-3814.8\" font-family=\"Helvetica,sans-Serif\" font-size=\"14.00\">samples = 88</text>\n<text text-anchor=\"middle\" x=\"2603.5\" y=\"-3799.8\" font-family=\"Helvetica,sans-Serif\" font-size=\"14.00\">value = [42, 46]</text>\n<text text-anchor=\"middle\" x=\"2603.5\" y=\"-3784.8\" font-family=\"Helvetica,sans-Serif\" font-size=\"14.00\">class = debit_card</text>\n</g>\n<!-- 30&#45;&gt;32 -->\n<g id=\"edge32\" class=\"edge\">\n<title>30&#45;&gt;32</title>\n<path fill=\"none\" stroke=\"black\" d=\"M2451.77,-3811C2477.54,-3811 2505.45,-3811 2530.17,-3811\"/>\n<polygon fill=\"black\" stroke=\"black\" points=\"2530.19,-3814.5 2540.19,-3811 2530.19,-3807.5 2530.19,-3814.5\"/>\n</g>\n<!-- 34 -->\n<g id=\"node35\" class=\"node\">\n<title>34</title>\n<path fill=\"#afd7f4\" stroke=\"black\" d=\"M2654.5,-3759C2654.5,-3759 2552.5,-3759 2552.5,-3759 2546.5,-3759 2540.5,-3753 2540.5,-3747 2540.5,-3747 2540.5,-3703 2540.5,-3703 2540.5,-3697 2546.5,-3691 2552.5,-3691 2552.5,-3691 2654.5,-3691 2654.5,-3691 2660.5,-3691 2666.5,-3697 2666.5,-3703 2666.5,-3703 2666.5,-3747 2666.5,-3747 2666.5,-3753 2660.5,-3759 2654.5,-3759\"/>\n<text text-anchor=\"middle\" x=\"2603.5\" y=\"-3743.8\" font-family=\"Helvetica,sans-Serif\" font-size=\"14.00\">gini = 0.468</text>\n<text text-anchor=\"middle\" x=\"2603.5\" y=\"-3728.8\" font-family=\"Helvetica,sans-Serif\" font-size=\"14.00\">samples = 724</text>\n<text text-anchor=\"middle\" x=\"2603.5\" y=\"-3713.8\" font-family=\"Helvetica,sans-Serif\" font-size=\"14.00\">value = [270, 454]</text>\n<text text-anchor=\"middle\" x=\"2603.5\" y=\"-3698.8\" font-family=\"Helvetica,sans-Serif\" font-size=\"14.00\">class = debit_card</text>\n</g>\n<!-- 33&#45;&gt;34 -->\n<g id=\"edge34\" class=\"edge\">\n<title>33&#45;&gt;34</title>\n<path fill=\"none\" stroke=\"black\" d=\"M2426.72,-3674.78C2458.56,-3683.87 2497.48,-3695 2530.6,-3704.46\"/>\n<polygon fill=\"black\" stroke=\"black\" points=\"2529.65,-3707.83 2540.23,-3707.21 2531.58,-3701.1 2529.65,-3707.83\"/>\n</g>\n<!-- 35 -->\n<g id=\"node36\" class=\"node\">\n<title>35</title>\n<path fill=\"#fdf7f2\" stroke=\"black\" d=\"M2666,-3673C2666,-3673 2541,-3673 2541,-3673 2535,-3673 2529,-3667 2529,-3661 2529,-3661 2529,-3617 2529,-3617 2529,-3611 2535,-3605 2541,-3605 2541,-3605 2666,-3605 2666,-3605 2672,-3605 2678,-3611 2678,-3617 2678,-3617 2678,-3661 2678,-3661 2678,-3667 2672,-3673 2666,-3673\"/>\n<text text-anchor=\"middle\" x=\"2603.5\" y=\"-3657.8\" font-family=\"Helvetica,sans-Serif\" font-size=\"14.00\">gini = 0.499</text>\n<text text-anchor=\"middle\" x=\"2603.5\" y=\"-3642.8\" font-family=\"Helvetica,sans-Serif\" font-size=\"14.00\">samples = 153</text>\n<text text-anchor=\"middle\" x=\"2603.5\" y=\"-3627.8\" font-family=\"Helvetica,sans-Serif\" font-size=\"14.00\">value = [79, 74]</text>\n<text text-anchor=\"middle\" x=\"2603.5\" y=\"-3612.8\" font-family=\"Helvetica,sans-Serif\" font-size=\"14.00\">class = no_debit_card</text>\n</g>\n<!-- 33&#45;&gt;35 -->\n<g id=\"edge35\" class=\"edge\">\n<title>33&#45;&gt;35</title>\n<path fill=\"none\" stroke=\"black\" d=\"M2426.72,-3652.29C2454.81,-3650.17 2488.41,-3647.63 2518.68,-3645.34\"/>\n<polygon fill=\"black\" stroke=\"black\" points=\"2519.09,-3648.82 2528.8,-3644.57 2518.57,-3641.84 2519.09,-3648.82\"/>\n</g>\n<!-- 37 -->\n<g id=\"node38\" class=\"node\">\n<title>37</title>\n<path fill=\"#cee7f9\" stroke=\"black\" d=\"M2441,-3594.5C2441,-3594.5 2286,-3594.5 2286,-3594.5 2280,-3594.5 2274,-3588.5 2274,-3582.5 2274,-3582.5 2274,-3523.5 2274,-3523.5 2274,-3517.5 2280,-3511.5 2286,-3511.5 2286,-3511.5 2441,-3511.5 2441,-3511.5 2447,-3511.5 2453,-3517.5 2453,-3523.5 2453,-3523.5 2453,-3582.5 2453,-3582.5 2453,-3588.5 2447,-3594.5 2441,-3594.5\"/>\n<text text-anchor=\"middle\" x=\"2363.5\" y=\"-3579.3\" font-family=\"Helvetica,sans-Serif\" font-size=\"14.00\">entry_channel_KHK &lt;= 0.5</text>\n<text text-anchor=\"middle\" x=\"2363.5\" y=\"-3564.3\" font-family=\"Helvetica,sans-Serif\" font-size=\"14.00\">gini = 0.49</text>\n<text text-anchor=\"middle\" x=\"2363.5\" y=\"-3549.3\" font-family=\"Helvetica,sans-Serif\" font-size=\"14.00\">samples = 794</text>\n<text text-anchor=\"middle\" x=\"2363.5\" y=\"-3534.3\" font-family=\"Helvetica,sans-Serif\" font-size=\"14.00\">value = [341, 453]</text>\n<text text-anchor=\"middle\" x=\"2363.5\" y=\"-3519.3\" font-family=\"Helvetica,sans-Serif\" font-size=\"14.00\">class = debit_card</text>\n</g>\n<!-- 36&#45;&gt;37 -->\n<g id=\"edge37\" class=\"edge\">\n<title>36&#45;&gt;37</title>\n<path fill=\"none\" stroke=\"black\" d=\"M2184.64,-3553C2209.94,-3553 2237.75,-3553 2263.72,-3553\"/>\n<polygon fill=\"black\" stroke=\"black\" points=\"2263.95,-3556.5 2273.95,-3553 2263.95,-3549.5 2263.95,-3556.5\"/>\n</g>\n<!-- 40 -->\n<g id=\"node41\" class=\"node\">\n<title>40</title>\n<path fill=\"#eda775\" stroke=\"black\" d=\"M2426,-3493C2426,-3493 2301,-3493 2301,-3493 2295,-3493 2289,-3487 2289,-3481 2289,-3481 2289,-3437 2289,-3437 2289,-3431 2295,-3425 2301,-3425 2301,-3425 2426,-3425 2426,-3425 2432,-3425 2438,-3431 2438,-3437 2438,-3437 2438,-3481 2438,-3481 2438,-3487 2432,-3493 2426,-3493\"/>\n<text text-anchor=\"middle\" x=\"2363.5\" y=\"-3477.8\" font-family=\"Helvetica,sans-Serif\" font-size=\"14.00\">gini = 0.358</text>\n<text text-anchor=\"middle\" x=\"2363.5\" y=\"-3462.8\" font-family=\"Helvetica,sans-Serif\" font-size=\"14.00\">samples = 30</text>\n<text text-anchor=\"middle\" x=\"2363.5\" y=\"-3447.8\" font-family=\"Helvetica,sans-Serif\" font-size=\"14.00\">value = [23, 7]</text>\n<text text-anchor=\"middle\" x=\"2363.5\" y=\"-3432.8\" font-family=\"Helvetica,sans-Serif\" font-size=\"14.00\">class = no_debit_card</text>\n</g>\n<!-- 36&#45;&gt;40 -->\n<g id=\"edge40\" class=\"edge\">\n<title>36&#45;&gt;40</title>\n<path fill=\"none\" stroke=\"black\" d=\"M2184.78,-3520.72C2201.12,-3514.76 2218.06,-3508.65 2234,-3503 2248.5,-3497.86 2263.94,-3492.49 2278.92,-3487.33\"/>\n<polygon fill=\"black\" stroke=\"black\" points=\"2280.36,-3490.54 2288.68,-3483.98 2278.08,-3483.92 2280.36,-3490.54\"/>\n</g>\n<!-- 38 -->\n<g id=\"node39\" class=\"node\">\n<title>38</title>\n<path fill=\"#cae5f8\" stroke=\"black\" d=\"M2654.5,-3587C2654.5,-3587 2552.5,-3587 2552.5,-3587 2546.5,-3587 2540.5,-3581 2540.5,-3575 2540.5,-3575 2540.5,-3531 2540.5,-3531 2540.5,-3525 2546.5,-3519 2552.5,-3519 2552.5,-3519 2654.5,-3519 2654.5,-3519 2660.5,-3519 2666.5,-3525 2666.5,-3531 2666.5,-3531 2666.5,-3575 2666.5,-3575 2666.5,-3581 2660.5,-3587 2654.5,-3587\"/>\n<text text-anchor=\"middle\" x=\"2603.5\" y=\"-3571.8\" font-family=\"Helvetica,sans-Serif\" font-size=\"14.00\">gini = 0.488</text>\n<text text-anchor=\"middle\" x=\"2603.5\" y=\"-3556.8\" font-family=\"Helvetica,sans-Serif\" font-size=\"14.00\">samples = 785</text>\n<text text-anchor=\"middle\" x=\"2603.5\" y=\"-3541.8\" font-family=\"Helvetica,sans-Serif\" font-size=\"14.00\">value = [332, 453]</text>\n<text text-anchor=\"middle\" x=\"2603.5\" y=\"-3526.8\" font-family=\"Helvetica,sans-Serif\" font-size=\"14.00\">class = debit_card</text>\n</g>\n<!-- 37&#45;&gt;38 -->\n<g id=\"edge38\" class=\"edge\">\n<title>37&#45;&gt;38</title>\n<path fill=\"none\" stroke=\"black\" d=\"M2453.12,-3553C2478.45,-3553 2505.74,-3553 2529.98,-3553\"/>\n<polygon fill=\"black\" stroke=\"black\" points=\"2530.17,-3556.5 2540.17,-3553 2530.17,-3549.5 2530.17,-3556.5\"/>\n</g>\n<!-- 39 -->\n<g id=\"node40\" class=\"node\">\n<title>39</title>\n<path fill=\"#e58139\" stroke=\"black\" d=\"M2666,-3501C2666,-3501 2541,-3501 2541,-3501 2535,-3501 2529,-3495 2529,-3489 2529,-3489 2529,-3445 2529,-3445 2529,-3439 2535,-3433 2541,-3433 2541,-3433 2666,-3433 2666,-3433 2672,-3433 2678,-3439 2678,-3445 2678,-3445 2678,-3489 2678,-3489 2678,-3495 2672,-3501 2666,-3501\"/>\n<text text-anchor=\"middle\" x=\"2603.5\" y=\"-3485.8\" font-family=\"Helvetica,sans-Serif\" font-size=\"14.00\">gini = 0.0</text>\n<text text-anchor=\"middle\" x=\"2603.5\" y=\"-3470.8\" font-family=\"Helvetica,sans-Serif\" font-size=\"14.00\">samples = 9</text>\n<text text-anchor=\"middle\" x=\"2603.5\" y=\"-3455.8\" font-family=\"Helvetica,sans-Serif\" font-size=\"14.00\">value = [9, 0]</text>\n<text text-anchor=\"middle\" x=\"2603.5\" y=\"-3440.8\" font-family=\"Helvetica,sans-Serif\" font-size=\"14.00\">class = no_debit_card</text>\n</g>\n<!-- 37&#45;&gt;39 -->\n<g id=\"edge39\" class=\"edge\">\n<title>37&#45;&gt;39</title>\n<path fill=\"none\" stroke=\"black\" d=\"M2453.12,-3520.98C2474.88,-3513.11 2498.09,-3504.73 2519.57,-3496.97\"/>\n<polygon fill=\"black\" stroke=\"black\" points=\"2520.77,-3500.26 2528.98,-3493.57 2518.39,-3493.67 2520.77,-3500.26\"/>\n</g>\n<!-- 42 -->\n<g id=\"node43\" class=\"node\">\n<title>42</title>\n<path fill=\"#b4daf5\" stroke=\"black\" d=\"M2150.5,-3308.5C2150.5,-3308.5 2042.5,-3308.5 2042.5,-3308.5 2036.5,-3308.5 2030.5,-3302.5 2030.5,-3296.5 2030.5,-3296.5 2030.5,-3237.5 2030.5,-3237.5 2030.5,-3231.5 2036.5,-3225.5 2042.5,-3225.5 2042.5,-3225.5 2150.5,-3225.5 2150.5,-3225.5 2156.5,-3225.5 2162.5,-3231.5 2162.5,-3237.5 2162.5,-3237.5 2162.5,-3296.5 2162.5,-3296.5 2162.5,-3302.5 2156.5,-3308.5 2150.5,-3308.5\"/>\n<text text-anchor=\"middle\" x=\"2096.5\" y=\"-3293.3\" font-family=\"Helvetica,sans-Serif\" font-size=\"14.00\">antiguedad &lt;= 6.5</text>\n<text text-anchor=\"middle\" x=\"2096.5\" y=\"-3278.3\" font-family=\"Helvetica,sans-Serif\" font-size=\"14.00\">gini = 0.473</text>\n<text text-anchor=\"middle\" x=\"2096.5\" y=\"-3263.3\" font-family=\"Helvetica,sans-Serif\" font-size=\"14.00\">samples = 1808</text>\n<text text-anchor=\"middle\" x=\"2096.5\" y=\"-3248.3\" font-family=\"Helvetica,sans-Serif\" font-size=\"14.00\">value = [692, 1116]</text>\n<text text-anchor=\"middle\" x=\"2096.5\" y=\"-3233.3\" font-family=\"Helvetica,sans-Serif\" font-size=\"14.00\">class = debit_card</text>\n</g>\n<!-- 41&#45;&gt;42 -->\n<g id=\"edge42\" class=\"edge\">\n<title>41&#45;&gt;42</title>\n<path fill=\"none\" stroke=\"black\" d=\"M1927.69,-3267C1956.65,-3267 1990.4,-3267 2020.01,-3267\"/>\n<polygon fill=\"black\" stroke=\"black\" points=\"2020.29,-3270.5 2030.29,-3267 2020.29,-3263.5 2020.29,-3270.5\"/>\n</g>\n<!-- 49 -->\n<g id=\"node50\" class=\"node\">\n<title>49</title>\n<path fill=\"#fefbf9\" stroke=\"black\" d=\"M2175.5,-3160.5C2175.5,-3160.5 2017.5,-3160.5 2017.5,-3160.5 2011.5,-3160.5 2005.5,-3154.5 2005.5,-3148.5 2005.5,-3148.5 2005.5,-3089.5 2005.5,-3089.5 2005.5,-3083.5 2011.5,-3077.5 2017.5,-3077.5 2017.5,-3077.5 2175.5,-3077.5 2175.5,-3077.5 2181.5,-3077.5 2187.5,-3083.5 2187.5,-3089.5 2187.5,-3089.5 2187.5,-3148.5 2187.5,-3148.5 2187.5,-3154.5 2181.5,-3160.5 2175.5,-3160.5\"/>\n<text text-anchor=\"middle\" x=\"2096.5\" y=\"-3145.3\" font-family=\"Helvetica,sans-Serif\" font-size=\"14.00\">tasa_de_empleo &lt;= 43.455</text>\n<text text-anchor=\"middle\" x=\"2096.5\" y=\"-3130.3\" font-family=\"Helvetica,sans-Serif\" font-size=\"14.00\">gini = 0.5</text>\n<text text-anchor=\"middle\" x=\"2096.5\" y=\"-3115.3\" font-family=\"Helvetica,sans-Serif\" font-size=\"14.00\">samples = 972</text>\n<text text-anchor=\"middle\" x=\"2096.5\" y=\"-3100.3\" font-family=\"Helvetica,sans-Serif\" font-size=\"14.00\">value = [493, 479]</text>\n<text text-anchor=\"middle\" x=\"2096.5\" y=\"-3085.3\" font-family=\"Helvetica,sans-Serif\" font-size=\"14.00\">class = no_debit_card</text>\n</g>\n<!-- 41&#45;&gt;49 -->\n<g id=\"edge49\" class=\"edge\">\n<title>41&#45;&gt;49</title>\n<path fill=\"none\" stroke=\"black\" d=\"M1925.15,-3225.38C1954.81,-3206.86 1989.87,-3184.97 2020.44,-3165.87\"/>\n<polygon fill=\"black\" stroke=\"black\" points=\"2022.31,-3168.83 2028.94,-3160.56 2018.61,-3162.89 2022.31,-3168.83\"/>\n</g>\n<!-- 43 -->\n<g id=\"node44\" class=\"node\">\n<title>43</title>\n<path fill=\"#94caf1\" stroke=\"black\" d=\"M2414.5,-3355.5C2414.5,-3355.5 2312.5,-3355.5 2312.5,-3355.5 2306.5,-3355.5 2300.5,-3349.5 2300.5,-3343.5 2300.5,-3343.5 2300.5,-3284.5 2300.5,-3284.5 2300.5,-3278.5 2306.5,-3272.5 2312.5,-3272.5 2312.5,-3272.5 2414.5,-3272.5 2414.5,-3272.5 2420.5,-3272.5 2426.5,-3278.5 2426.5,-3284.5 2426.5,-3284.5 2426.5,-3343.5 2426.5,-3343.5 2426.5,-3349.5 2420.5,-3355.5 2414.5,-3355.5\"/>\n<text text-anchor=\"middle\" x=\"2363.5\" y=\"-3340.3\" font-family=\"Helvetica,sans-Serif\" font-size=\"14.00\">gender &lt;= 0.5</text>\n<text text-anchor=\"middle\" x=\"2363.5\" y=\"-3325.3\" font-family=\"Helvetica,sans-Serif\" font-size=\"14.00\">gini = 0.432</text>\n<text text-anchor=\"middle\" x=\"2363.5\" y=\"-3310.3\" font-family=\"Helvetica,sans-Serif\" font-size=\"14.00\">samples = 1044</text>\n<text text-anchor=\"middle\" x=\"2363.5\" y=\"-3295.3\" font-family=\"Helvetica,sans-Serif\" font-size=\"14.00\">value = [329, 715]</text>\n<text text-anchor=\"middle\" x=\"2363.5\" y=\"-3280.3\" font-family=\"Helvetica,sans-Serif\" font-size=\"14.00\">class = debit_card</text>\n</g>\n<!-- 42&#45;&gt;43 -->\n<g id=\"edge43\" class=\"edge\">\n<title>42&#45;&gt;43</title>\n<path fill=\"none\" stroke=\"black\" d=\"M2162.67,-3278.56C2201.38,-3285.42 2250.53,-3294.14 2290.4,-3301.21\"/>\n<polygon fill=\"black\" stroke=\"black\" points=\"2289.87,-3304.67 2300.32,-3302.97 2291.09,-3297.78 2289.87,-3304.67\"/>\n</g>\n<!-- 46 -->\n<g id=\"node47\" class=\"node\">\n<title>46</title>\n<path fill=\"#ecf6fd\" stroke=\"black\" d=\"M2414.5,-3254.5C2414.5,-3254.5 2312.5,-3254.5 2312.5,-3254.5 2306.5,-3254.5 2300.5,-3248.5 2300.5,-3242.5 2300.5,-3242.5 2300.5,-3183.5 2300.5,-3183.5 2300.5,-3177.5 2306.5,-3171.5 2312.5,-3171.5 2312.5,-3171.5 2414.5,-3171.5 2414.5,-3171.5 2420.5,-3171.5 2426.5,-3177.5 2426.5,-3183.5 2426.5,-3183.5 2426.5,-3242.5 2426.5,-3242.5 2426.5,-3248.5 2420.5,-3254.5 2414.5,-3254.5\"/>\n<text text-anchor=\"middle\" x=\"2363.5\" y=\"-3239.3\" font-family=\"Helvetica,sans-Serif\" font-size=\"14.00\">age &lt;= 31.5</text>\n<text text-anchor=\"middle\" x=\"2363.5\" y=\"-3224.3\" font-family=\"Helvetica,sans-Serif\" font-size=\"14.00\">gini = 0.499</text>\n<text text-anchor=\"middle\" x=\"2363.5\" y=\"-3209.3\" font-family=\"Helvetica,sans-Serif\" font-size=\"14.00\">samples = 764</text>\n<text text-anchor=\"middle\" x=\"2363.5\" y=\"-3194.3\" font-family=\"Helvetica,sans-Serif\" font-size=\"14.00\">value = [363, 401]</text>\n<text text-anchor=\"middle\" x=\"2363.5\" y=\"-3179.3\" font-family=\"Helvetica,sans-Serif\" font-size=\"14.00\">class = debit_card</text>\n</g>\n<!-- 42&#45;&gt;46 -->\n<g id=\"edge46\" class=\"edge\">\n<title>42&#45;&gt;46</title>\n<path fill=\"none\" stroke=\"black\" d=\"M2162.67,-3253.72C2201.38,-3245.83 2250.53,-3235.82 2290.4,-3227.69\"/>\n<polygon fill=\"black\" stroke=\"black\" points=\"2291.22,-3231.1 2300.32,-3225.67 2289.83,-3224.24 2291.22,-3231.1\"/>\n</g>\n<!-- 44 -->\n<g id=\"node45\" class=\"node\">\n<title>44</title>\n<path fill=\"#83c2ef\" stroke=\"black\" d=\"M2654.5,-3415C2654.5,-3415 2552.5,-3415 2552.5,-3415 2546.5,-3415 2540.5,-3409 2540.5,-3403 2540.5,-3403 2540.5,-3359 2540.5,-3359 2540.5,-3353 2546.5,-3347 2552.5,-3347 2552.5,-3347 2654.5,-3347 2654.5,-3347 2660.5,-3347 2666.5,-3353 2666.5,-3359 2666.5,-3359 2666.5,-3403 2666.5,-3403 2666.5,-3409 2660.5,-3415 2654.5,-3415\"/>\n<text text-anchor=\"middle\" x=\"2603.5\" y=\"-3399.8\" font-family=\"Helvetica,sans-Serif\" font-size=\"14.00\">gini = 0.397</text>\n<text text-anchor=\"middle\" x=\"2603.5\" y=\"-3384.8\" font-family=\"Helvetica,sans-Serif\" font-size=\"14.00\">samples = 583</text>\n<text text-anchor=\"middle\" x=\"2603.5\" y=\"-3369.8\" font-family=\"Helvetica,sans-Serif\" font-size=\"14.00\">value = [159, 424]</text>\n<text text-anchor=\"middle\" x=\"2603.5\" y=\"-3354.8\" font-family=\"Helvetica,sans-Serif\" font-size=\"14.00\">class = debit_card</text>\n</g>\n<!-- 43&#45;&gt;44 -->\n<g id=\"edge44\" class=\"edge\">\n<title>43&#45;&gt;44</title>\n<path fill=\"none\" stroke=\"black\" d=\"M2426.72,-3331.52C2458.42,-3340.44 2497.15,-3351.34 2530.18,-3360.64\"/>\n<polygon fill=\"black\" stroke=\"black\" points=\"2529.66,-3364.13 2540.23,-3363.47 2531.55,-3357.39 2529.66,-3364.13\"/>\n</g>\n<!-- 45 -->\n<g id=\"node46\" class=\"node\">\n<title>45</title>\n<path fill=\"#add6f4\" stroke=\"black\" d=\"M2654.5,-3329C2654.5,-3329 2552.5,-3329 2552.5,-3329 2546.5,-3329 2540.5,-3323 2540.5,-3317 2540.5,-3317 2540.5,-3273 2540.5,-3273 2540.5,-3267 2546.5,-3261 2552.5,-3261 2552.5,-3261 2654.5,-3261 2654.5,-3261 2660.5,-3261 2666.5,-3267 2666.5,-3273 2666.5,-3273 2666.5,-3317 2666.5,-3317 2666.5,-3323 2660.5,-3329 2654.5,-3329\"/>\n<text text-anchor=\"middle\" x=\"2603.5\" y=\"-3313.8\" font-family=\"Helvetica,sans-Serif\" font-size=\"14.00\">gini = 0.466</text>\n<text text-anchor=\"middle\" x=\"2603.5\" y=\"-3298.8\" font-family=\"Helvetica,sans-Serif\" font-size=\"14.00\">samples = 461</text>\n<text text-anchor=\"middle\" x=\"2603.5\" y=\"-3283.8\" font-family=\"Helvetica,sans-Serif\" font-size=\"14.00\">value = [170, 291]</text>\n<text text-anchor=\"middle\" x=\"2603.5\" y=\"-3268.8\" font-family=\"Helvetica,sans-Serif\" font-size=\"14.00\">class = debit_card</text>\n</g>\n<!-- 43&#45;&gt;45 -->\n<g id=\"edge45\" class=\"edge\">\n<title>43&#45;&gt;45</title>\n<path fill=\"none\" stroke=\"black\" d=\"M2426.72,-3309.03C2458.42,-3306.5 2497.15,-3303.41 2530.18,-3300.77\"/>\n<polygon fill=\"black\" stroke=\"black\" points=\"2530.54,-3304.26 2540.23,-3299.97 2529.98,-3297.28 2530.54,-3304.26\"/>\n</g>\n<!-- 47 -->\n<g id=\"node48\" class=\"node\">\n<title>47</title>\n<path fill=\"#b0d8f5\" stroke=\"black\" d=\"M2654.5,-3243C2654.5,-3243 2552.5,-3243 2552.5,-3243 2546.5,-3243 2540.5,-3237 2540.5,-3231 2540.5,-3231 2540.5,-3187 2540.5,-3187 2540.5,-3181 2546.5,-3175 2552.5,-3175 2552.5,-3175 2654.5,-3175 2654.5,-3175 2660.5,-3175 2666.5,-3181 2666.5,-3187 2666.5,-3187 2666.5,-3231 2666.5,-3231 2666.5,-3237 2660.5,-3243 2654.5,-3243\"/>\n<text text-anchor=\"middle\" x=\"2603.5\" y=\"-3227.8\" font-family=\"Helvetica,sans-Serif\" font-size=\"14.00\">gini = 0.469</text>\n<text text-anchor=\"middle\" x=\"2603.5\" y=\"-3212.8\" font-family=\"Helvetica,sans-Serif\" font-size=\"14.00\">samples = 216</text>\n<text text-anchor=\"middle\" x=\"2603.5\" y=\"-3197.8\" font-family=\"Helvetica,sans-Serif\" font-size=\"14.00\">value = [81, 135]</text>\n<text text-anchor=\"middle\" x=\"2603.5\" y=\"-3182.8\" font-family=\"Helvetica,sans-Serif\" font-size=\"14.00\">class = debit_card</text>\n</g>\n<!-- 46&#45;&gt;47 -->\n<g id=\"edge47\" class=\"edge\">\n<title>46&#45;&gt;47</title>\n<path fill=\"none\" stroke=\"black\" d=\"M2426.72,-3211.95C2458.42,-3211.42 2497.15,-3210.77 2530.18,-3210.22\"/>\n<polygon fill=\"black\" stroke=\"black\" points=\"2530.29,-3213.71 2540.23,-3210.05 2530.17,-3206.72 2530.29,-3213.71\"/>\n</g>\n<!-- 48 -->\n<g id=\"node49\" class=\"node\">\n<title>48</title>\n<path fill=\"#fef8f4\" stroke=\"black\" d=\"M2666,-3157C2666,-3157 2541,-3157 2541,-3157 2535,-3157 2529,-3151 2529,-3145 2529,-3145 2529,-3101 2529,-3101 2529,-3095 2535,-3089 2541,-3089 2541,-3089 2666,-3089 2666,-3089 2672,-3089 2678,-3095 2678,-3101 2678,-3101 2678,-3145 2678,-3145 2678,-3151 2672,-3157 2666,-3157\"/>\n<text text-anchor=\"middle\" x=\"2603.5\" y=\"-3141.8\" font-family=\"Helvetica,sans-Serif\" font-size=\"14.00\">gini = 0.5</text>\n<text text-anchor=\"middle\" x=\"2603.5\" y=\"-3126.8\" font-family=\"Helvetica,sans-Serif\" font-size=\"14.00\">samples = 548</text>\n<text text-anchor=\"middle\" x=\"2603.5\" y=\"-3111.8\" font-family=\"Helvetica,sans-Serif\" font-size=\"14.00\">value = [282, 266]</text>\n<text text-anchor=\"middle\" x=\"2603.5\" y=\"-3096.8\" font-family=\"Helvetica,sans-Serif\" font-size=\"14.00\">class = no_debit_card</text>\n</g>\n<!-- 46&#45;&gt;48 -->\n<g id=\"edge48\" class=\"edge\">\n<title>46&#45;&gt;48</title>\n<path fill=\"none\" stroke=\"black\" d=\"M2426.72,-3189.47C2454.93,-3178.8 2488.7,-3166.03 2519.07,-3154.55\"/>\n<polygon fill=\"black\" stroke=\"black\" points=\"2520.69,-3157.68 2528.8,-3150.87 2518.21,-3151.13 2520.69,-3157.68\"/>\n</g>\n<!-- 50 -->\n<g id=\"node51\" class=\"node\">\n<title>50</title>\n<path fill=\"#f7d6bf\" stroke=\"black\" d=\"M2426,-3153C2426,-3153 2301,-3153 2301,-3153 2295,-3153 2289,-3147 2289,-3141 2289,-3141 2289,-3097 2289,-3097 2289,-3091 2295,-3085 2301,-3085 2301,-3085 2426,-3085 2426,-3085 2432,-3085 2438,-3091 2438,-3097 2438,-3097 2438,-3141 2438,-3141 2438,-3147 2432,-3153 2426,-3153\"/>\n<text text-anchor=\"middle\" x=\"2363.5\" y=\"-3137.8\" font-family=\"Helvetica,sans-Serif\" font-size=\"14.00\">gini = 0.482</text>\n<text text-anchor=\"middle\" x=\"2363.5\" y=\"-3122.8\" font-family=\"Helvetica,sans-Serif\" font-size=\"14.00\">samples = 245</text>\n<text text-anchor=\"middle\" x=\"2363.5\" y=\"-3107.8\" font-family=\"Helvetica,sans-Serif\" font-size=\"14.00\">value = [146, 99]</text>\n<text text-anchor=\"middle\" x=\"2363.5\" y=\"-3092.8\" font-family=\"Helvetica,sans-Serif\" font-size=\"14.00\">class = no_debit_card</text>\n</g>\n<!-- 49&#45;&gt;50 -->\n<g id=\"edge50\" class=\"edge\">\n<title>49&#45;&gt;50</title>\n<path fill=\"none\" stroke=\"black\" d=\"M2187.59,-3119C2217.12,-3119 2249.79,-3119 2278.82,-3119\"/>\n<polygon fill=\"black\" stroke=\"black\" points=\"2278.93,-3122.5 2288.93,-3119 2278.93,-3115.5 2278.93,-3122.5\"/>\n</g>\n<!-- 51 -->\n<g id=\"node52\" class=\"node\">\n<title>51</title>\n<path fill=\"#eef6fd\" stroke=\"black\" d=\"M2453,-3066.5C2453,-3066.5 2274,-3066.5 2274,-3066.5 2268,-3066.5 2262,-3060.5 2262,-3054.5 2262,-3054.5 2262,-2995.5 2262,-2995.5 2262,-2989.5 2268,-2983.5 2274,-2983.5 2274,-2983.5 2453,-2983.5 2453,-2983.5 2459,-2983.5 2465,-2989.5 2465,-2995.5 2465,-2995.5 2465,-3054.5 2465,-3054.5 2465,-3060.5 2459,-3066.5 2453,-3066.5\"/>\n<text text-anchor=\"middle\" x=\"2363.5\" y=\"-3051.3\" font-family=\"Helvetica,sans-Serif\" font-size=\"14.00\">renta_bruta_media &lt;= 15439.0</text>\n<text text-anchor=\"middle\" x=\"2363.5\" y=\"-3036.3\" font-family=\"Helvetica,sans-Serif\" font-size=\"14.00\">gini = 0.499</text>\n<text text-anchor=\"middle\" x=\"2363.5\" y=\"-3021.3\" font-family=\"Helvetica,sans-Serif\" font-size=\"14.00\">samples = 727</text>\n<text text-anchor=\"middle\" x=\"2363.5\" y=\"-3006.3\" font-family=\"Helvetica,sans-Serif\" font-size=\"14.00\">value = [347, 380]</text>\n<text text-anchor=\"middle\" x=\"2363.5\" y=\"-2991.3\" font-family=\"Helvetica,sans-Serif\" font-size=\"14.00\">class = debit_card</text>\n</g>\n<!-- 49&#45;&gt;51 -->\n<g id=\"edge51\" class=\"edge\">\n<title>49&#45;&gt;51</title>\n<path fill=\"none\" stroke=\"black\" d=\"M2187.59,-3087.04C2208.37,-3079.67 2230.71,-3071.75 2252.24,-3064.11\"/>\n<polygon fill=\"black\" stroke=\"black\" points=\"2253.48,-3067.38 2261.74,-3060.74 2251.14,-3060.79 2253.48,-3067.38\"/>\n</g>\n<!-- 52 -->\n<g id=\"node53\" class=\"node\">\n<title>52</title>\n<path fill=\"#fcfdff\" stroke=\"black\" d=\"M2654.5,-3063C2654.5,-3063 2552.5,-3063 2552.5,-3063 2546.5,-3063 2540.5,-3057 2540.5,-3051 2540.5,-3051 2540.5,-3007 2540.5,-3007 2540.5,-3001 2546.5,-2995 2552.5,-2995 2552.5,-2995 2654.5,-2995 2654.5,-2995 2660.5,-2995 2666.5,-3001 2666.5,-3007 2666.5,-3007 2666.5,-3051 2666.5,-3051 2666.5,-3057 2660.5,-3063 2654.5,-3063\"/>\n<text text-anchor=\"middle\" x=\"2603.5\" y=\"-3047.8\" font-family=\"Helvetica,sans-Serif\" font-size=\"14.00\">gini = 0.5</text>\n<text text-anchor=\"middle\" x=\"2603.5\" y=\"-3032.8\" font-family=\"Helvetica,sans-Serif\" font-size=\"14.00\">samples = 621</text>\n<text text-anchor=\"middle\" x=\"2603.5\" y=\"-3017.8\" font-family=\"Helvetica,sans-Serif\" font-size=\"14.00\">value = [308, 313]</text>\n<text text-anchor=\"middle\" x=\"2603.5\" y=\"-3002.8\" font-family=\"Helvetica,sans-Serif\" font-size=\"14.00\">class = debit_card</text>\n</g>\n<!-- 51&#45;&gt;52 -->\n<g id=\"edge52\" class=\"edge\">\n<title>51&#45;&gt;52</title>\n<path fill=\"none\" stroke=\"black\" d=\"M2465.09,-3026.69C2486.9,-3027.06 2509.56,-3027.44 2530.04,-3027.78\"/>\n<polygon fill=\"black\" stroke=\"black\" points=\"2530.16,-3031.28 2540.22,-3027.95 2530.28,-3024.29 2530.16,-3031.28\"/>\n</g>\n<!-- 53 -->\n<g id=\"node54\" class=\"node\">\n<title>53</title>\n<path fill=\"#acd6f4\" stroke=\"black\" d=\"M2654.5,-2977C2654.5,-2977 2552.5,-2977 2552.5,-2977 2546.5,-2977 2540.5,-2971 2540.5,-2965 2540.5,-2965 2540.5,-2921 2540.5,-2921 2540.5,-2915 2546.5,-2909 2552.5,-2909 2552.5,-2909 2654.5,-2909 2654.5,-2909 2660.5,-2909 2666.5,-2915 2666.5,-2921 2666.5,-2921 2666.5,-2965 2666.5,-2965 2666.5,-2971 2660.5,-2977 2654.5,-2977\"/>\n<text text-anchor=\"middle\" x=\"2603.5\" y=\"-2961.8\" font-family=\"Helvetica,sans-Serif\" font-size=\"14.00\">gini = 0.465</text>\n<text text-anchor=\"middle\" x=\"2603.5\" y=\"-2946.8\" font-family=\"Helvetica,sans-Serif\" font-size=\"14.00\">samples = 106</text>\n<text text-anchor=\"middle\" x=\"2603.5\" y=\"-2931.8\" font-family=\"Helvetica,sans-Serif\" font-size=\"14.00\">value = [39, 67]</text>\n<text text-anchor=\"middle\" x=\"2603.5\" y=\"-2916.8\" font-family=\"Helvetica,sans-Serif\" font-size=\"14.00\">class = debit_card</text>\n</g>\n<!-- 51&#45;&gt;53 -->\n<g id=\"edge53\" class=\"edge\">\n<title>51&#45;&gt;53</title>\n<path fill=\"none\" stroke=\"black\" d=\"M2465.09,-2990.34C2487.1,-2982.76 2509.98,-2974.88 2530.6,-2967.77\"/>\n<polygon fill=\"black\" stroke=\"black\" points=\"2531.9,-2971.02 2540.22,-2964.46 2529.62,-2964.41 2531.9,-2971.02\"/>\n</g>\n<!-- 56 -->\n<g id=\"node57\" class=\"node\">\n<title>56</title>\n<path fill=\"#63b2ea\" stroke=\"black\" d=\"M1185.5,-2999.5C1185.5,-2999.5 1083.5,-2999.5 1083.5,-2999.5 1077.5,-2999.5 1071.5,-2993.5 1071.5,-2987.5 1071.5,-2987.5 1071.5,-2928.5 1071.5,-2928.5 1071.5,-2922.5 1077.5,-2916.5 1083.5,-2916.5 1083.5,-2916.5 1185.5,-2916.5 1185.5,-2916.5 1191.5,-2916.5 1197.5,-2922.5 1197.5,-2928.5 1197.5,-2928.5 1197.5,-2987.5 1197.5,-2987.5 1197.5,-2993.5 1191.5,-2999.5 1185.5,-2999.5\"/>\n<text text-anchor=\"middle\" x=\"1134.5\" y=\"-2984.3\" font-family=\"Helvetica,sans-Serif\" font-size=\"14.00\">age &lt;= 26.5</text>\n<text text-anchor=\"middle\" x=\"1134.5\" y=\"-2969.3\" font-family=\"Helvetica,sans-Serif\" font-size=\"14.00\">gini = 0.287</text>\n<text text-anchor=\"middle\" x=\"1134.5\" y=\"-2954.3\" font-family=\"Helvetica,sans-Serif\" font-size=\"14.00\">samples = 946</text>\n<text text-anchor=\"middle\" x=\"1134.5\" y=\"-2939.3\" font-family=\"Helvetica,sans-Serif\" font-size=\"14.00\">value = [164, 782]</text>\n<text text-anchor=\"middle\" x=\"1134.5\" y=\"-2924.3\" font-family=\"Helvetica,sans-Serif\" font-size=\"14.00\">class = debit_card</text>\n</g>\n<!-- 55&#45;&gt;56 -->\n<g id=\"edge56\" class=\"edge\">\n<title>55&#45;&gt;56</title>\n<path fill=\"none\" stroke=\"black\" d=\"M1009.24,-2927.96C1026.62,-2932.17 1044.71,-2936.54 1061.54,-2940.61\"/>\n<polygon fill=\"black\" stroke=\"black\" points=\"1060.74,-2944.01 1071.28,-2942.96 1062.38,-2937.21 1060.74,-2944.01\"/>\n</g>\n<!-- 67 -->\n<g id=\"node68\" class=\"node\">\n<title>67</title>\n<path fill=\"#95cbf1\" stroke=\"black\" d=\"M1185.5,-2898.5C1185.5,-2898.5 1083.5,-2898.5 1083.5,-2898.5 1077.5,-2898.5 1071.5,-2892.5 1071.5,-2886.5 1071.5,-2886.5 1071.5,-2827.5 1071.5,-2827.5 1071.5,-2821.5 1077.5,-2815.5 1083.5,-2815.5 1083.5,-2815.5 1185.5,-2815.5 1185.5,-2815.5 1191.5,-2815.5 1197.5,-2821.5 1197.5,-2827.5 1197.5,-2827.5 1197.5,-2886.5 1197.5,-2886.5 1197.5,-2892.5 1191.5,-2898.5 1185.5,-2898.5\"/>\n<text text-anchor=\"middle\" x=\"1134.5\" y=\"-2883.3\" font-family=\"Helvetica,sans-Serif\" font-size=\"14.00\">payroll &lt;= 0.5</text>\n<text text-anchor=\"middle\" x=\"1134.5\" y=\"-2868.3\" font-family=\"Helvetica,sans-Serif\" font-size=\"14.00\">gini = 0.434</text>\n<text text-anchor=\"middle\" x=\"1134.5\" y=\"-2853.3\" font-family=\"Helvetica,sans-Serif\" font-size=\"14.00\">samples = 544</text>\n<text text-anchor=\"middle\" x=\"1134.5\" y=\"-2838.3\" font-family=\"Helvetica,sans-Serif\" font-size=\"14.00\">value = [173, 371]</text>\n<text text-anchor=\"middle\" x=\"1134.5\" y=\"-2823.3\" font-family=\"Helvetica,sans-Serif\" font-size=\"14.00\">class = debit_card</text>\n</g>\n<!-- 55&#45;&gt;67 -->\n<g id=\"edge67\" class=\"edge\">\n<title>55&#45;&gt;67</title>\n<path fill=\"none\" stroke=\"black\" d=\"M1009.24,-2886.45C1026.62,-2882.33 1044.71,-2878.04 1061.54,-2874.05\"/>\n<polygon fill=\"black\" stroke=\"black\" points=\"1062.35,-2877.46 1071.28,-2871.74 1060.74,-2870.64 1062.35,-2877.46\"/>\n</g>\n<!-- 57 -->\n<g id=\"node58\" class=\"node\">\n<title>57</title>\n<path fill=\"#58ace9\" stroke=\"black\" d=\"M1396.5,-3086.5C1396.5,-3086.5 1294.5,-3086.5 1294.5,-3086.5 1288.5,-3086.5 1282.5,-3080.5 1282.5,-3074.5 1282.5,-3074.5 1282.5,-3015.5 1282.5,-3015.5 1282.5,-3009.5 1288.5,-3003.5 1294.5,-3003.5 1294.5,-3003.5 1396.5,-3003.5 1396.5,-3003.5 1402.5,-3003.5 1408.5,-3009.5 1408.5,-3015.5 1408.5,-3015.5 1408.5,-3074.5 1408.5,-3074.5 1408.5,-3080.5 1402.5,-3086.5 1396.5,-3086.5\"/>\n<text text-anchor=\"middle\" x=\"1345.5\" y=\"-3071.3\" font-family=\"Helvetica,sans-Serif\" font-size=\"14.00\">payroll &lt;= 0.5</text>\n<text text-anchor=\"middle\" x=\"1345.5\" y=\"-3056.3\" font-family=\"Helvetica,sans-Serif\" font-size=\"14.00\">gini = 0.233</text>\n<text text-anchor=\"middle\" x=\"1345.5\" y=\"-3041.3\" font-family=\"Helvetica,sans-Serif\" font-size=\"14.00\">samples = 765</text>\n<text text-anchor=\"middle\" x=\"1345.5\" y=\"-3026.3\" font-family=\"Helvetica,sans-Serif\" font-size=\"14.00\">value = [103, 662]</text>\n<text text-anchor=\"middle\" x=\"1345.5\" y=\"-3011.3\" font-family=\"Helvetica,sans-Serif\" font-size=\"14.00\">class = debit_card</text>\n</g>\n<!-- 56&#45;&gt;57 -->\n<g id=\"edge57\" class=\"edge\">\n<title>56&#45;&gt;57</title>\n<path fill=\"none\" stroke=\"black\" d=\"M1197.64,-2983.87C1221.33,-2993.73 1248.51,-3005.04 1273,-3015.24\"/>\n<polygon fill=\"black\" stroke=\"black\" points=\"1271.66,-3018.47 1282.24,-3019.08 1274.35,-3012.01 1271.66,-3018.47\"/>\n</g>\n<!-- 66 -->\n<g id=\"node67\" class=\"node\">\n<title>66</title>\n<path fill=\"#9ecff2\" stroke=\"black\" d=\"M1396.5,-2985C1396.5,-2985 1294.5,-2985 1294.5,-2985 1288.5,-2985 1282.5,-2979 1282.5,-2973 1282.5,-2973 1282.5,-2929 1282.5,-2929 1282.5,-2923 1288.5,-2917 1294.5,-2917 1294.5,-2917 1396.5,-2917 1396.5,-2917 1402.5,-2917 1408.5,-2923 1408.5,-2929 1408.5,-2929 1408.5,-2973 1408.5,-2973 1408.5,-2979 1402.5,-2985 1396.5,-2985\"/>\n<text text-anchor=\"middle\" x=\"1345.5\" y=\"-2969.8\" font-family=\"Helvetica,sans-Serif\" font-size=\"14.00\">gini = 0.447</text>\n<text text-anchor=\"middle\" x=\"1345.5\" y=\"-2954.8\" font-family=\"Helvetica,sans-Serif\" font-size=\"14.00\">samples = 181</text>\n<text text-anchor=\"middle\" x=\"1345.5\" y=\"-2939.8\" font-family=\"Helvetica,sans-Serif\" font-size=\"14.00\">value = [61, 120]</text>\n<text text-anchor=\"middle\" x=\"1345.5\" y=\"-2924.8\" font-family=\"Helvetica,sans-Serif\" font-size=\"14.00\">class = debit_card</text>\n</g>\n<!-- 56&#45;&gt;66 -->\n<g id=\"edge66\" class=\"edge\">\n<title>56&#45;&gt;66</title>\n<path fill=\"none\" stroke=\"black\" d=\"M1197.64,-2955.92C1221.01,-2955.14 1247.79,-2954.24 1272.02,-2953.43\"/>\n<polygon fill=\"black\" stroke=\"black\" points=\"1272.36,-2956.92 1282.24,-2953.09 1272.13,-2949.92 1272.36,-2956.92\"/>\n</g>\n<!-- 58 -->\n<g id=\"node59\" class=\"node\">\n<title>58</title>\n<path fill=\"#55abe9\" stroke=\"black\" d=\"M1670,-3086.5C1670,-3086.5 1519,-3086.5 1519,-3086.5 1513,-3086.5 1507,-3080.5 1507,-3074.5 1507,-3074.5 1507,-3015.5 1507,-3015.5 1507,-3009.5 1513,-3003.5 1519,-3003.5 1519,-3003.5 1670,-3003.5 1670,-3003.5 1676,-3003.5 1682,-3009.5 1682,-3015.5 1682,-3015.5 1682,-3074.5 1682,-3074.5 1682,-3080.5 1676,-3086.5 1670,-3086.5\"/>\n<text text-anchor=\"middle\" x=\"1594.5\" y=\"-3071.3\" font-family=\"Helvetica,sans-Serif\" font-size=\"14.00\">tasa_de_empleo &lt;= 44.12</text>\n<text text-anchor=\"middle\" x=\"1594.5\" y=\"-3056.3\" font-family=\"Helvetica,sans-Serif\" font-size=\"14.00\">gini = 0.219</text>\n<text text-anchor=\"middle\" x=\"1594.5\" y=\"-3041.3\" font-family=\"Helvetica,sans-Serif\" font-size=\"14.00\">samples = 750</text>\n<text text-anchor=\"middle\" x=\"1594.5\" y=\"-3026.3\" font-family=\"Helvetica,sans-Serif\" font-size=\"14.00\">value = [94, 656]</text>\n<text text-anchor=\"middle\" x=\"1594.5\" y=\"-3011.3\" font-family=\"Helvetica,sans-Serif\" font-size=\"14.00\">class = debit_card</text>\n</g>\n<!-- 57&#45;&gt;58 -->\n<g id=\"edge58\" class=\"edge\">\n<title>57&#45;&gt;58</title>\n<path fill=\"none\" stroke=\"black\" d=\"M1408.51,-3045C1435.1,-3045 1466.79,-3045 1496.37,-3045\"/>\n<polygon fill=\"black\" stroke=\"black\" points=\"1496.73,-3048.5 1506.73,-3045 1496.73,-3041.5 1496.73,-3048.5\"/>\n</g>\n<!-- 65 -->\n<g id=\"node66\" class=\"node\">\n<title>65</title>\n<path fill=\"#f6d5bd\" stroke=\"black\" d=\"M1657,-2985C1657,-2985 1532,-2985 1532,-2985 1526,-2985 1520,-2979 1520,-2973 1520,-2973 1520,-2929 1520,-2929 1520,-2923 1526,-2917 1532,-2917 1532,-2917 1657,-2917 1657,-2917 1663,-2917 1669,-2923 1669,-2929 1669,-2929 1669,-2973 1669,-2973 1669,-2979 1663,-2985 1657,-2985\"/>\n<text text-anchor=\"middle\" x=\"1594.5\" y=\"-2969.8\" font-family=\"Helvetica,sans-Serif\" font-size=\"14.00\">gini = 0.48</text>\n<text text-anchor=\"middle\" x=\"1594.5\" y=\"-2954.8\" font-family=\"Helvetica,sans-Serif\" font-size=\"14.00\">samples = 15</text>\n<text text-anchor=\"middle\" x=\"1594.5\" y=\"-2939.8\" font-family=\"Helvetica,sans-Serif\" font-size=\"14.00\">value = [9, 6]</text>\n<text text-anchor=\"middle\" x=\"1594.5\" y=\"-2924.8\" font-family=\"Helvetica,sans-Serif\" font-size=\"14.00\">class = no_debit_card</text>\n</g>\n<!-- 57&#45;&gt;65 -->\n<g id=\"edge65\" class=\"edge\">\n<title>57&#45;&gt;65</title>\n<path fill=\"none\" stroke=\"black\" d=\"M1408.59,-3018.99C1427.87,-3011.09 1449.25,-3002.52 1469,-2995 1482.32,-2989.93 1496.51,-2984.73 1510.36,-2979.76\"/>\n<polygon fill=\"black\" stroke=\"black\" points=\"1511.64,-2983.02 1519.88,-2976.36 1509.29,-2976.43 1511.64,-2983.02\"/>\n</g>\n<!-- 59 -->\n<g id=\"node60\" class=\"node\">\n<title>59</title>\n<path fill=\"#46a4e7\" stroke=\"black\" d=\"M1908.5,-3079C1908.5,-3079 1806.5,-3079 1806.5,-3079 1800.5,-3079 1794.5,-3073 1794.5,-3067 1794.5,-3067 1794.5,-3023 1794.5,-3023 1794.5,-3017 1800.5,-3011 1806.5,-3011 1806.5,-3011 1908.5,-3011 1908.5,-3011 1914.5,-3011 1920.5,-3017 1920.5,-3023 1920.5,-3023 1920.5,-3067 1920.5,-3067 1920.5,-3073 1914.5,-3079 1908.5,-3079\"/>\n<text text-anchor=\"middle\" x=\"1857.5\" y=\"-3063.8\" font-family=\"Helvetica,sans-Serif\" font-size=\"14.00\">gini = 0.118</text>\n<text text-anchor=\"middle\" x=\"1857.5\" y=\"-3048.8\" font-family=\"Helvetica,sans-Serif\" font-size=\"14.00\">samples = 206</text>\n<text text-anchor=\"middle\" x=\"1857.5\" y=\"-3033.8\" font-family=\"Helvetica,sans-Serif\" font-size=\"14.00\">value = [13, 193]</text>\n<text text-anchor=\"middle\" x=\"1857.5\" y=\"-3018.8\" font-family=\"Helvetica,sans-Serif\" font-size=\"14.00\">class = debit_card</text>\n</g>\n<!-- 58&#45;&gt;59 -->\n<g id=\"edge59\" class=\"edge\">\n<title>58&#45;&gt;59</title>\n<path fill=\"none\" stroke=\"black\" d=\"M1682.05,-3045C1715.12,-3045 1752.46,-3045 1784.08,-3045\"/>\n<polygon fill=\"black\" stroke=\"black\" points=\"1784.13,-3048.5 1794.13,-3045 1784.13,-3041.5 1784.13,-3048.5\"/>\n</g>\n<!-- 60 -->\n<g id=\"node61\" class=\"node\">\n<title>60</title>\n<path fill=\"#5caeea\" stroke=\"black\" d=\"M1936.5,-2972.5C1936.5,-2972.5 1778.5,-2972.5 1778.5,-2972.5 1772.5,-2972.5 1766.5,-2966.5 1766.5,-2960.5 1766.5,-2960.5 1766.5,-2901.5 1766.5,-2901.5 1766.5,-2895.5 1772.5,-2889.5 1778.5,-2889.5 1778.5,-2889.5 1936.5,-2889.5 1936.5,-2889.5 1942.5,-2889.5 1948.5,-2895.5 1948.5,-2901.5 1948.5,-2901.5 1948.5,-2960.5 1948.5,-2960.5 1948.5,-2966.5 1942.5,-2972.5 1936.5,-2972.5\"/>\n<text text-anchor=\"middle\" x=\"1857.5\" y=\"-2957.3\" font-family=\"Helvetica,sans-Serif\" font-size=\"14.00\">provincia_Tarragona &lt;= 0.5</text>\n<text text-anchor=\"middle\" x=\"1857.5\" y=\"-2942.3\" font-family=\"Helvetica,sans-Serif\" font-size=\"14.00\">gini = 0.253</text>\n<text text-anchor=\"middle\" x=\"1857.5\" y=\"-2927.3\" font-family=\"Helvetica,sans-Serif\" font-size=\"14.00\">samples = 544</text>\n<text text-anchor=\"middle\" x=\"1857.5\" y=\"-2912.3\" font-family=\"Helvetica,sans-Serif\" font-size=\"14.00\">value = [81, 463]</text>\n<text text-anchor=\"middle\" x=\"1857.5\" y=\"-2897.3\" font-family=\"Helvetica,sans-Serif\" font-size=\"14.00\">class = debit_card</text>\n</g>\n<!-- 58&#45;&gt;60 -->\n<g id=\"edge60\" class=\"edge\">\n<title>58&#45;&gt;60</title>\n<path fill=\"none\" stroke=\"black\" d=\"M1682.1,-3010.09C1694.85,-3004.79 1707.79,-2999.31 1720,-2994 1732.52,-2988.55 1745.62,-2982.7 1758.54,-2976.84\"/>\n<polygon fill=\"black\" stroke=\"black\" points=\"1760.26,-2979.9 1767.91,-2972.57 1757.36,-2973.53 1760.26,-2979.9\"/>\n</g>\n<!-- 61 -->\n<g id=\"node62\" class=\"node\">\n<title>61</title>\n<path fill=\"#5aade9\" stroke=\"black\" d=\"M2154.5,-2972.5C2154.5,-2972.5 2038.5,-2972.5 2038.5,-2972.5 2032.5,-2972.5 2026.5,-2966.5 2026.5,-2960.5 2026.5,-2960.5 2026.5,-2901.5 2026.5,-2901.5 2026.5,-2895.5 2032.5,-2889.5 2038.5,-2889.5 2038.5,-2889.5 2154.5,-2889.5 2154.5,-2889.5 2160.5,-2889.5 2166.5,-2895.5 2166.5,-2901.5 2166.5,-2901.5 2166.5,-2960.5 2166.5,-2960.5 2166.5,-2966.5 2160.5,-2972.5 2154.5,-2972.5\"/>\n<text text-anchor=\"middle\" x=\"2096.5\" y=\"-2957.3\" font-family=\"Helvetica,sans-Serif\" font-size=\"14.00\">salary &lt;= 81533.488</text>\n<text text-anchor=\"middle\" x=\"2096.5\" y=\"-2942.3\" font-family=\"Helvetica,sans-Serif\" font-size=\"14.00\">gini = 0.245</text>\n<text text-anchor=\"middle\" x=\"2096.5\" y=\"-2927.3\" font-family=\"Helvetica,sans-Serif\" font-size=\"14.00\">samples = 532</text>\n<text text-anchor=\"middle\" x=\"2096.5\" y=\"-2912.3\" font-family=\"Helvetica,sans-Serif\" font-size=\"14.00\">value = [76, 456]</text>\n<text text-anchor=\"middle\" x=\"2096.5\" y=\"-2897.3\" font-family=\"Helvetica,sans-Serif\" font-size=\"14.00\">class = debit_card</text>\n</g>\n<!-- 60&#45;&gt;61 -->\n<g id=\"edge61\" class=\"edge\">\n<title>60&#45;&gt;61</title>\n<path fill=\"none\" stroke=\"black\" d=\"M1948.78,-2931C1971.02,-2931 1994.68,-2931 2016.35,-2931\"/>\n<polygon fill=\"black\" stroke=\"black\" points=\"2016.49,-2934.5 2026.49,-2931 2016.49,-2927.5 2016.49,-2934.5\"/>\n</g>\n<!-- 64 -->\n<g id=\"node65\" class=\"node\">\n<title>64</title>\n<path fill=\"#c6e3f8\" stroke=\"black\" d=\"M2147.5,-2871C2147.5,-2871 2045.5,-2871 2045.5,-2871 2039.5,-2871 2033.5,-2865 2033.5,-2859 2033.5,-2859 2033.5,-2815 2033.5,-2815 2033.5,-2809 2039.5,-2803 2045.5,-2803 2045.5,-2803 2147.5,-2803 2147.5,-2803 2153.5,-2803 2159.5,-2809 2159.5,-2815 2159.5,-2815 2159.5,-2859 2159.5,-2859 2159.5,-2865 2153.5,-2871 2147.5,-2871\"/>\n<text text-anchor=\"middle\" x=\"2096.5\" y=\"-2855.8\" font-family=\"Helvetica,sans-Serif\" font-size=\"14.00\">gini = 0.486</text>\n<text text-anchor=\"middle\" x=\"2096.5\" y=\"-2840.8\" font-family=\"Helvetica,sans-Serif\" font-size=\"14.00\">samples = 12</text>\n<text text-anchor=\"middle\" x=\"2096.5\" y=\"-2825.8\" font-family=\"Helvetica,sans-Serif\" font-size=\"14.00\">value = [5, 7]</text>\n<text text-anchor=\"middle\" x=\"2096.5\" y=\"-2810.8\" font-family=\"Helvetica,sans-Serif\" font-size=\"14.00\">class = debit_card</text>\n</g>\n<!-- 60&#45;&gt;64 -->\n<g id=\"edge64\" class=\"edge\">\n<title>60&#45;&gt;64</title>\n<path fill=\"none\" stroke=\"black\" d=\"M1948.78,-2895.19C1973.61,-2885.34 2000.2,-2874.8 2023.83,-2865.43\"/>\n<polygon fill=\"black\" stroke=\"black\" points=\"2025.41,-2868.56 2033.41,-2861.62 2022.83,-2862.06 2025.41,-2868.56\"/>\n</g>\n<!-- 62 -->\n<g id=\"node63\" class=\"node\">\n<title>62</title>\n<path fill=\"#5fb0ea\" stroke=\"black\" d=\"M2414.5,-2965C2414.5,-2965 2312.5,-2965 2312.5,-2965 2306.5,-2965 2300.5,-2959 2300.5,-2953 2300.5,-2953 2300.5,-2909 2300.5,-2909 2300.5,-2903 2306.5,-2897 2312.5,-2897 2312.5,-2897 2414.5,-2897 2414.5,-2897 2420.5,-2897 2426.5,-2903 2426.5,-2909 2426.5,-2909 2426.5,-2953 2426.5,-2953 2426.5,-2959 2420.5,-2965 2414.5,-2965\"/>\n<text text-anchor=\"middle\" x=\"2363.5\" y=\"-2949.8\" font-family=\"Helvetica,sans-Serif\" font-size=\"14.00\">gini = 0.269</text>\n<text text-anchor=\"middle\" x=\"2363.5\" y=\"-2934.8\" font-family=\"Helvetica,sans-Serif\" font-size=\"14.00\">samples = 430</text>\n<text text-anchor=\"middle\" x=\"2363.5\" y=\"-2919.8\" font-family=\"Helvetica,sans-Serif\" font-size=\"14.00\">value = [69, 361]</text>\n<text text-anchor=\"middle\" x=\"2363.5\" y=\"-2904.8\" font-family=\"Helvetica,sans-Serif\" font-size=\"14.00\">class = debit_card</text>\n</g>\n<!-- 61&#45;&gt;62 -->\n<g id=\"edge62\" class=\"edge\">\n<title>61&#45;&gt;62</title>\n<path fill=\"none\" stroke=\"black\" d=\"M2166.78,-2931C2204.79,-2931 2251.86,-2931 2290.32,-2931\"/>\n<polygon fill=\"black\" stroke=\"black\" points=\"2290.41,-2934.5 2300.41,-2931 2290.41,-2927.5 2290.41,-2934.5\"/>\n</g>\n<!-- 63 -->\n<g id=\"node64\" class=\"node\">\n<title>63</title>\n<path fill=\"#48a4e7\" stroke=\"black\" d=\"M2414.5,-2879C2414.5,-2879 2312.5,-2879 2312.5,-2879 2306.5,-2879 2300.5,-2873 2300.5,-2867 2300.5,-2867 2300.5,-2823 2300.5,-2823 2300.5,-2817 2306.5,-2811 2312.5,-2811 2312.5,-2811 2414.5,-2811 2414.5,-2811 2420.5,-2811 2426.5,-2817 2426.5,-2823 2426.5,-2823 2426.5,-2867 2426.5,-2867 2426.5,-2873 2420.5,-2879 2414.5,-2879\"/>\n<text text-anchor=\"middle\" x=\"2363.5\" y=\"-2863.8\" font-family=\"Helvetica,sans-Serif\" font-size=\"14.00\">gini = 0.128</text>\n<text text-anchor=\"middle\" x=\"2363.5\" y=\"-2848.8\" font-family=\"Helvetica,sans-Serif\" font-size=\"14.00\">samples = 102</text>\n<text text-anchor=\"middle\" x=\"2363.5\" y=\"-2833.8\" font-family=\"Helvetica,sans-Serif\" font-size=\"14.00\">value = [7, 95]</text>\n<text text-anchor=\"middle\" x=\"2363.5\" y=\"-2818.8\" font-family=\"Helvetica,sans-Serif\" font-size=\"14.00\">class = debit_card</text>\n</g>\n<!-- 61&#45;&gt;63 -->\n<g id=\"edge63\" class=\"edge\">\n<title>61&#45;&gt;63</title>\n<path fill=\"none\" stroke=\"black\" d=\"M2166.78,-2908.52C2204.95,-2896.13 2252.26,-2880.77 2290.81,-2868.27\"/>\n<polygon fill=\"black\" stroke=\"black\" points=\"2291.98,-2871.57 2300.41,-2865.15 2289.82,-2864.91 2291.98,-2871.57\"/>\n</g>\n<!-- 68 -->\n<g id=\"node69\" class=\"node\">\n<title>68</title>\n<path fill=\"#8cc6f0\" stroke=\"black\" d=\"M1396.5,-2899C1396.5,-2899 1294.5,-2899 1294.5,-2899 1288.5,-2899 1282.5,-2893 1282.5,-2887 1282.5,-2887 1282.5,-2843 1282.5,-2843 1282.5,-2837 1288.5,-2831 1294.5,-2831 1294.5,-2831 1396.5,-2831 1396.5,-2831 1402.5,-2831 1408.5,-2837 1408.5,-2843 1408.5,-2843 1408.5,-2887 1408.5,-2887 1408.5,-2893 1402.5,-2899 1396.5,-2899\"/>\n<text text-anchor=\"middle\" x=\"1345.5\" y=\"-2883.8\" font-family=\"Helvetica,sans-Serif\" font-size=\"14.00\">gini = 0.416</text>\n<text text-anchor=\"middle\" x=\"1345.5\" y=\"-2868.8\" font-family=\"Helvetica,sans-Serif\" font-size=\"14.00\">samples = 495</text>\n<text text-anchor=\"middle\" x=\"1345.5\" y=\"-2853.8\" font-family=\"Helvetica,sans-Serif\" font-size=\"14.00\">value = [146, 349]</text>\n<text text-anchor=\"middle\" x=\"1345.5\" y=\"-2838.8\" font-family=\"Helvetica,sans-Serif\" font-size=\"14.00\">class = debit_card</text>\n</g>\n<!-- 67&#45;&gt;68 -->\n<g id=\"edge68\" class=\"edge\">\n<title>67&#45;&gt;68</title>\n<path fill=\"none\" stroke=\"black\" d=\"M1197.64,-2859.38C1221.01,-2860.27 1247.79,-2861.3 1272.02,-2862.23\"/>\n<polygon fill=\"black\" stroke=\"black\" points=\"1272.11,-2865.73 1282.24,-2862.62 1272.38,-2858.74 1272.11,-2865.73\"/>\n</g>\n<!-- 69 -->\n<g id=\"node70\" class=\"node\">\n<title>69</title>\n<path fill=\"#fae8da\" stroke=\"black\" d=\"M1408,-2813C1408,-2813 1283,-2813 1283,-2813 1277,-2813 1271,-2807 1271,-2801 1271,-2801 1271,-2757 1271,-2757 1271,-2751 1277,-2745 1283,-2745 1283,-2745 1408,-2745 1408,-2745 1414,-2745 1420,-2751 1420,-2757 1420,-2757 1420,-2801 1420,-2801 1420,-2807 1414,-2813 1408,-2813\"/>\n<text text-anchor=\"middle\" x=\"1345.5\" y=\"-2797.8\" font-family=\"Helvetica,sans-Serif\" font-size=\"14.00\">gini = 0.495</text>\n<text text-anchor=\"middle\" x=\"1345.5\" y=\"-2782.8\" font-family=\"Helvetica,sans-Serif\" font-size=\"14.00\">samples = 49</text>\n<text text-anchor=\"middle\" x=\"1345.5\" y=\"-2767.8\" font-family=\"Helvetica,sans-Serif\" font-size=\"14.00\">value = [27, 22]</text>\n<text text-anchor=\"middle\" x=\"1345.5\" y=\"-2752.8\" font-family=\"Helvetica,sans-Serif\" font-size=\"14.00\">class = no_debit_card</text>\n</g>\n<!-- 67&#45;&gt;69 -->\n<g id=\"edge69\" class=\"edge\">\n<title>67&#45;&gt;69</title>\n<path fill=\"none\" stroke=\"black\" d=\"M1197.64,-2833.81C1217.57,-2826.37 1239.98,-2818.01 1261.17,-2810.1\"/>\n<polygon fill=\"black\" stroke=\"black\" points=\"1262.66,-2813.28 1270.81,-2806.5 1260.21,-2806.72 1262.66,-2813.28\"/>\n</g>\n<!-- 72 -->\n<g id=\"node73\" class=\"node\">\n<title>72</title>\n<path fill=\"#c6e3f8\" stroke=\"black\" d=\"M780.5,-2005.5C780.5,-2005.5 629.5,-2005.5 629.5,-2005.5 623.5,-2005.5 617.5,-1999.5 617.5,-1993.5 617.5,-1993.5 617.5,-1934.5 617.5,-1934.5 617.5,-1928.5 623.5,-1922.5 629.5,-1922.5 629.5,-1922.5 780.5,-1922.5 780.5,-1922.5 786.5,-1922.5 792.5,-1928.5 792.5,-1934.5 792.5,-1934.5 792.5,-1993.5 792.5,-1993.5 792.5,-1999.5 786.5,-2005.5 780.5,-2005.5\"/>\n<text text-anchor=\"middle\" x=\"705\" y=\"-1990.3\" font-family=\"Helvetica,sans-Serif\" font-size=\"14.00\">tasa_de_empleo &lt;= 52.11</text>\n<text text-anchor=\"middle\" x=\"705\" y=\"-1975.3\" font-family=\"Helvetica,sans-Serif\" font-size=\"14.00\">gini = 0.486</text>\n<text text-anchor=\"middle\" x=\"705\" y=\"-1960.3\" font-family=\"Helvetica,sans-Serif\" font-size=\"14.00\">samples = 5268</text>\n<text text-anchor=\"middle\" x=\"705\" y=\"-1945.3\" font-family=\"Helvetica,sans-Serif\" font-size=\"14.00\">value = [2194, 3074]</text>\n<text text-anchor=\"middle\" x=\"705\" y=\"-1930.3\" font-family=\"Helvetica,sans-Serif\" font-size=\"14.00\">class = debit_card</text>\n</g>\n<!-- 71&#45;&gt;72 -->\n<g id=\"edge72\" class=\"edge\">\n<title>71&#45;&gt;72</title>\n<path fill=\"none\" stroke=\"black\" d=\"M546.13,-1844.67C574.97,-1866.47 610.43,-1893.27 640.43,-1915.95\"/>\n<polygon fill=\"black\" stroke=\"black\" points=\"638.64,-1918.99 648.73,-1922.22 642.86,-1913.4 638.64,-1918.99\"/>\n</g>\n<!-- 121 -->\n<g id=\"node122\" class=\"node\">\n<title>121</title>\n<path fill=\"#fae7d9\" stroke=\"black\" d=\"M767.5,-1794.5C767.5,-1794.5 642.5,-1794.5 642.5,-1794.5 636.5,-1794.5 630.5,-1788.5 630.5,-1782.5 630.5,-1782.5 630.5,-1723.5 630.5,-1723.5 630.5,-1717.5 636.5,-1711.5 642.5,-1711.5 642.5,-1711.5 767.5,-1711.5 767.5,-1711.5 773.5,-1711.5 779.5,-1717.5 779.5,-1723.5 779.5,-1723.5 779.5,-1782.5 779.5,-1782.5 779.5,-1788.5 773.5,-1794.5 767.5,-1794.5\"/>\n<text text-anchor=\"middle\" x=\"705\" y=\"-1779.3\" font-family=\"Helvetica,sans-Serif\" font-size=\"14.00\">antiguedad &lt;= 22.5</text>\n<text text-anchor=\"middle\" x=\"705\" y=\"-1764.3\" font-family=\"Helvetica,sans-Serif\" font-size=\"14.00\">gini = 0.494</text>\n<text text-anchor=\"middle\" x=\"705\" y=\"-1749.3\" font-family=\"Helvetica,sans-Serif\" font-size=\"14.00\">samples = 22011</text>\n<text text-anchor=\"middle\" x=\"705\" y=\"-1734.3\" font-family=\"Helvetica,sans-Serif\" font-size=\"14.00\">value = [12181, 9830]</text>\n<text text-anchor=\"middle\" x=\"705\" y=\"-1719.3\" font-family=\"Helvetica,sans-Serif\" font-size=\"14.00\">class = no_debit_card</text>\n</g>\n<!-- 71&#45;&gt;121 -->\n<g id=\"edge121\" class=\"edge\">\n<title>71&#45;&gt;121</title>\n<path fill=\"none\" stroke=\"black\" d=\"M567.6,-1785.02C584.65,-1781.02 602.81,-1776.75 620.13,-1772.69\"/>\n<polygon fill=\"black\" stroke=\"black\" points=\"621.28,-1776.01 630.22,-1770.32 619.68,-1769.2 621.28,-1776.01\"/>\n</g>\n<!-- 73 -->\n<g id=\"node74\" class=\"node\">\n<title>73</title>\n<path fill=\"#96cbf1\" stroke=\"black\" d=\"M979.5,-2446.5C979.5,-2446.5 863.5,-2446.5 863.5,-2446.5 857.5,-2446.5 851.5,-2440.5 851.5,-2434.5 851.5,-2434.5 851.5,-2375.5 851.5,-2375.5 851.5,-2369.5 857.5,-2363.5 863.5,-2363.5 863.5,-2363.5 979.5,-2363.5 979.5,-2363.5 985.5,-2363.5 991.5,-2369.5 991.5,-2375.5 991.5,-2375.5 991.5,-2434.5 991.5,-2434.5 991.5,-2440.5 985.5,-2446.5 979.5,-2446.5\"/>\n<text text-anchor=\"middle\" x=\"921.5\" y=\"-2431.3\" font-family=\"Helvetica,sans-Serif\" font-size=\"14.00\">sale_month &lt;= 8.5</text>\n<text text-anchor=\"middle\" x=\"921.5\" y=\"-2416.3\" font-family=\"Helvetica,sans-Serif\" font-size=\"14.00\">gini = 0.436</text>\n<text text-anchor=\"middle\" x=\"921.5\" y=\"-2401.3\" font-family=\"Helvetica,sans-Serif\" font-size=\"14.00\">samples = 3248</text>\n<text text-anchor=\"middle\" x=\"921.5\" y=\"-2386.3\" font-family=\"Helvetica,sans-Serif\" font-size=\"14.00\">value = [1041, 2207]</text>\n<text text-anchor=\"middle\" x=\"921.5\" y=\"-2371.3\" font-family=\"Helvetica,sans-Serif\" font-size=\"14.00\">class = debit_card</text>\n</g>\n<!-- 72&#45;&gt;73 -->\n<g id=\"edge73\" class=\"edge\">\n<title>72&#45;&gt;73</title>\n<path fill=\"none\" stroke=\"black\" d=\"M726.37,-2005.89C765.93,-2087.2 852.98,-2266.17 895.77,-2354.15\"/>\n<polygon fill=\"black\" stroke=\"black\" points=\"892.74,-2355.93 900.26,-2363.39 899.04,-2352.87 892.74,-2355.93\"/>\n</g>\n<!-- 100 -->\n<g id=\"node101\" class=\"node\">\n<title>100</title>\n<path fill=\"#f9e0ce\" stroke=\"black\" d=\"M986.5,-2005.5C986.5,-2005.5 856.5,-2005.5 856.5,-2005.5 850.5,-2005.5 844.5,-1999.5 844.5,-1993.5 844.5,-1993.5 844.5,-1934.5 844.5,-1934.5 844.5,-1928.5 850.5,-1922.5 856.5,-1922.5 856.5,-1922.5 986.5,-1922.5 986.5,-1922.5 992.5,-1922.5 998.5,-1928.5 998.5,-1934.5 998.5,-1934.5 998.5,-1993.5 998.5,-1993.5 998.5,-1999.5 992.5,-2005.5 986.5,-2005.5\"/>\n<text text-anchor=\"middle\" x=\"921.5\" y=\"-1990.3\" font-family=\"Helvetica,sans-Serif\" font-size=\"14.00\">payroll_account &lt;= 0.5</text>\n<text text-anchor=\"middle\" x=\"921.5\" y=\"-1975.3\" font-family=\"Helvetica,sans-Serif\" font-size=\"14.00\">gini = 0.49</text>\n<text text-anchor=\"middle\" x=\"921.5\" y=\"-1960.3\" font-family=\"Helvetica,sans-Serif\" font-size=\"14.00\">samples = 2020</text>\n<text text-anchor=\"middle\" x=\"921.5\" y=\"-1945.3\" font-family=\"Helvetica,sans-Serif\" font-size=\"14.00\">value = [1153, 867]</text>\n<text text-anchor=\"middle\" x=\"921.5\" y=\"-1930.3\" font-family=\"Helvetica,sans-Serif\" font-size=\"14.00\">class = no_debit_card</text>\n</g>\n<!-- 72&#45;&gt;100 -->\n<g id=\"edge100\" class=\"edge\">\n<title>72&#45;&gt;100</title>\n<path fill=\"none\" stroke=\"black\" d=\"M792.63,-1964C806.25,-1964 820.33,-1964 833.95,-1964\"/>\n<polygon fill=\"black\" stroke=\"black\" points=\"834.26,-1967.5 844.26,-1964 834.26,-1960.5 834.26,-1967.5\"/>\n</g>\n<!-- 74 -->\n<g id=\"node75\" class=\"node\">\n<title>74</title>\n<path fill=\"#c8e4f8\" stroke=\"black\" d=\"M1188.5,-2583.5C1188.5,-2583.5 1080.5,-2583.5 1080.5,-2583.5 1074.5,-2583.5 1068.5,-2577.5 1068.5,-2571.5 1068.5,-2571.5 1068.5,-2512.5 1068.5,-2512.5 1068.5,-2506.5 1074.5,-2500.5 1080.5,-2500.5 1080.5,-2500.5 1188.5,-2500.5 1188.5,-2500.5 1194.5,-2500.5 1200.5,-2506.5 1200.5,-2512.5 1200.5,-2512.5 1200.5,-2571.5 1200.5,-2571.5 1200.5,-2577.5 1194.5,-2583.5 1188.5,-2583.5\"/>\n<text text-anchor=\"middle\" x=\"1134.5\" y=\"-2568.3\" font-family=\"Helvetica,sans-Serif\" font-size=\"14.00\">sale_month &lt;= 5.5</text>\n<text text-anchor=\"middle\" x=\"1134.5\" y=\"-2553.3\" font-family=\"Helvetica,sans-Serif\" font-size=\"14.00\">gini = 0.487</text>\n<text text-anchor=\"middle\" x=\"1134.5\" y=\"-2538.3\" font-family=\"Helvetica,sans-Serif\" font-size=\"14.00\">samples = 1747</text>\n<text text-anchor=\"middle\" x=\"1134.5\" y=\"-2523.3\" font-family=\"Helvetica,sans-Serif\" font-size=\"14.00\">value = [733, 1014]</text>\n<text text-anchor=\"middle\" x=\"1134.5\" y=\"-2508.3\" font-family=\"Helvetica,sans-Serif\" font-size=\"14.00\">class = debit_card</text>\n</g>\n<!-- 73&#45;&gt;74 -->\n<g id=\"edge74\" class=\"edge\">\n<title>73&#45;&gt;74</title>\n<path fill=\"none\" stroke=\"black\" d=\"M986.67,-2446.66C1010.09,-2461.87 1036.75,-2479.18 1060.86,-2494.84\"/>\n<polygon fill=\"black\" stroke=\"black\" points=\"1058.98,-2497.79 1069.28,-2500.3 1062.79,-2491.92 1058.98,-2497.79\"/>\n</g>\n<!-- 87 -->\n<g id=\"node88\" class=\"node\">\n<title>87</title>\n<path fill=\"#6cb6ec\" stroke=\"black\" d=\"M1210,-2446.5C1210,-2446.5 1059,-2446.5 1059,-2446.5 1053,-2446.5 1047,-2440.5 1047,-2434.5 1047,-2434.5 1047,-2375.5 1047,-2375.5 1047,-2369.5 1053,-2363.5 1059,-2363.5 1059,-2363.5 1210,-2363.5 1210,-2363.5 1216,-2363.5 1222,-2369.5 1222,-2375.5 1222,-2375.5 1222,-2434.5 1222,-2434.5 1222,-2440.5 1216,-2446.5 1210,-2446.5\"/>\n<text text-anchor=\"middle\" x=\"1134.5\" y=\"-2431.3\" font-family=\"Helvetica,sans-Serif\" font-size=\"14.00\">tasa_de_empleo &lt;= 48.08</text>\n<text text-anchor=\"middle\" x=\"1134.5\" y=\"-2416.3\" font-family=\"Helvetica,sans-Serif\" font-size=\"14.00\">gini = 0.326</text>\n<text text-anchor=\"middle\" x=\"1134.5\" y=\"-2401.3\" font-family=\"Helvetica,sans-Serif\" font-size=\"14.00\">samples = 1501</text>\n<text text-anchor=\"middle\" x=\"1134.5\" y=\"-2386.3\" font-family=\"Helvetica,sans-Serif\" font-size=\"14.00\">value = [308, 1193]</text>\n<text text-anchor=\"middle\" x=\"1134.5\" y=\"-2371.3\" font-family=\"Helvetica,sans-Serif\" font-size=\"14.00\">class = debit_card</text>\n</g>\n<!-- 73&#45;&gt;87 -->\n<g id=\"edge87\" class=\"edge\">\n<title>73&#45;&gt;87</title>\n<path fill=\"none\" stroke=\"black\" d=\"M991.59,-2405C1005.94,-2405 1021.32,-2405 1036.47,-2405\"/>\n<polygon fill=\"black\" stroke=\"black\" points=\"1036.9,-2408.5 1046.9,-2405 1036.9,-2401.5 1036.9,-2408.5\"/>\n</g>\n<!-- 75 -->\n<g id=\"node76\" class=\"node\">\n<title>75</title>\n<path fill=\"#99cdf2\" stroke=\"black\" d=\"M1400.5,-2726.5C1400.5,-2726.5 1290.5,-2726.5 1290.5,-2726.5 1284.5,-2726.5 1278.5,-2720.5 1278.5,-2714.5 1278.5,-2714.5 1278.5,-2655.5 1278.5,-2655.5 1278.5,-2649.5 1284.5,-2643.5 1290.5,-2643.5 1290.5,-2643.5 1400.5,-2643.5 1400.5,-2643.5 1406.5,-2643.5 1412.5,-2649.5 1412.5,-2655.5 1412.5,-2655.5 1412.5,-2714.5 1412.5,-2714.5 1412.5,-2720.5 1406.5,-2726.5 1400.5,-2726.5\"/>\n<text text-anchor=\"middle\" x=\"1345.5\" y=\"-2711.3\" font-family=\"Helvetica,sans-Serif\" font-size=\"14.00\">antiguedad &lt;= 29.5</text>\n<text text-anchor=\"middle\" x=\"1345.5\" y=\"-2696.3\" font-family=\"Helvetica,sans-Serif\" font-size=\"14.00\">gini = 0.44</text>\n<text text-anchor=\"middle\" x=\"1345.5\" y=\"-2681.3\" font-family=\"Helvetica,sans-Serif\" font-size=\"14.00\">samples = 745</text>\n<text text-anchor=\"middle\" x=\"1345.5\" y=\"-2666.3\" font-family=\"Helvetica,sans-Serif\" font-size=\"14.00\">value = [244, 501]</text>\n<text text-anchor=\"middle\" x=\"1345.5\" y=\"-2651.3\" font-family=\"Helvetica,sans-Serif\" font-size=\"14.00\">class = debit_card</text>\n</g>\n<!-- 74&#45;&gt;75 -->\n<g id=\"edge75\" class=\"edge\">\n<title>74&#45;&gt;75</title>\n<path fill=\"none\" stroke=\"black\" d=\"M1196.23,-2583.55C1220.92,-2600.45 1249.59,-2620.06 1275.1,-2637.51\"/>\n<polygon fill=\"black\" stroke=\"black\" points=\"1273.39,-2640.58 1283.62,-2643.34 1277.34,-2634.81 1273.39,-2640.58\"/>\n</g>\n<!-- 78 -->\n<g id=\"node79\" class=\"node\">\n<title>78</title>\n<path fill=\"#f6fafe\" stroke=\"black\" d=\"M1421,-2583.5C1421,-2583.5 1270,-2583.5 1270,-2583.5 1264,-2583.5 1258,-2577.5 1258,-2571.5 1258,-2571.5 1258,-2512.5 1258,-2512.5 1258,-2506.5 1264,-2500.5 1270,-2500.5 1270,-2500.5 1421,-2500.5 1421,-2500.5 1427,-2500.5 1433,-2506.5 1433,-2512.5 1433,-2512.5 1433,-2571.5 1433,-2571.5 1433,-2577.5 1427,-2583.5 1421,-2583.5\"/>\n<text text-anchor=\"middle\" x=\"1345.5\" y=\"-2568.3\" font-family=\"Helvetica,sans-Serif\" font-size=\"14.00\">tasa_de_empleo &lt;= 48.08</text>\n<text text-anchor=\"middle\" x=\"1345.5\" y=\"-2553.3\" font-family=\"Helvetica,sans-Serif\" font-size=\"14.00\">gini = 0.5</text>\n<text text-anchor=\"middle\" x=\"1345.5\" y=\"-2538.3\" font-family=\"Helvetica,sans-Serif\" font-size=\"14.00\">samples = 1002</text>\n<text text-anchor=\"middle\" x=\"1345.5\" y=\"-2523.3\" font-family=\"Helvetica,sans-Serif\" font-size=\"14.00\">value = [489, 513]</text>\n<text text-anchor=\"middle\" x=\"1345.5\" y=\"-2508.3\" font-family=\"Helvetica,sans-Serif\" font-size=\"14.00\">class = debit_card</text>\n</g>\n<!-- 74&#45;&gt;78 -->\n<g id=\"edge78\" class=\"edge\">\n<title>74&#45;&gt;78</title>\n<path fill=\"none\" stroke=\"black\" d=\"M1200.77,-2542C1215.6,-2542 1231.67,-2542 1247.51,-2542\"/>\n<polygon fill=\"black\" stroke=\"black\" points=\"1247.87,-2545.5 1257.87,-2542 1247.87,-2538.5 1247.87,-2545.5\"/>\n</g>\n<!-- 76 -->\n<g id=\"node77\" class=\"node\">\n<title>76</title>\n<path fill=\"#7fc0ee\" stroke=\"black\" d=\"M1645.5,-2824C1645.5,-2824 1543.5,-2824 1543.5,-2824 1537.5,-2824 1531.5,-2818 1531.5,-2812 1531.5,-2812 1531.5,-2768 1531.5,-2768 1531.5,-2762 1537.5,-2756 1543.5,-2756 1543.5,-2756 1645.5,-2756 1645.5,-2756 1651.5,-2756 1657.5,-2762 1657.5,-2768 1657.5,-2768 1657.5,-2812 1657.5,-2812 1657.5,-2818 1651.5,-2824 1645.5,-2824\"/>\n<text text-anchor=\"middle\" x=\"1594.5\" y=\"-2808.8\" font-family=\"Helvetica,sans-Serif\" font-size=\"14.00\">gini = 0.386</text>\n<text text-anchor=\"middle\" x=\"1594.5\" y=\"-2793.8\" font-family=\"Helvetica,sans-Serif\" font-size=\"14.00\">samples = 356</text>\n<text text-anchor=\"middle\" x=\"1594.5\" y=\"-2778.8\" font-family=\"Helvetica,sans-Serif\" font-size=\"14.00\">value = [93, 263]</text>\n<text text-anchor=\"middle\" x=\"1594.5\" y=\"-2763.8\" font-family=\"Helvetica,sans-Serif\" font-size=\"14.00\">class = debit_card</text>\n</g>\n<!-- 75&#45;&gt;76 -->\n<g id=\"edge76\" class=\"edge\">\n<title>75&#45;&gt;76</title>\n<path fill=\"none\" stroke=\"black\" d=\"M1412.8,-2720.62C1430.8,-2729.72 1450.45,-2739.15 1469,-2747 1485.88,-2754.15 1504.39,-2761.03 1521.86,-2767.12\"/>\n<polygon fill=\"black\" stroke=\"black\" points=\"1520.85,-2770.48 1531.45,-2770.42 1523.13,-2763.86 1520.85,-2770.48\"/>\n</g>\n<!-- 77 -->\n<g id=\"node78\" class=\"node\">\n<title>77</title>\n<path fill=\"#b7dbf5\" stroke=\"black\" d=\"M1645.5,-2738C1645.5,-2738 1543.5,-2738 1543.5,-2738 1537.5,-2738 1531.5,-2732 1531.5,-2726 1531.5,-2726 1531.5,-2682 1531.5,-2682 1531.5,-2676 1537.5,-2670 1543.5,-2670 1543.5,-2670 1645.5,-2670 1645.5,-2670 1651.5,-2670 1657.5,-2676 1657.5,-2682 1657.5,-2682 1657.5,-2726 1657.5,-2726 1657.5,-2732 1651.5,-2738 1645.5,-2738\"/>\n<text text-anchor=\"middle\" x=\"1594.5\" y=\"-2722.8\" font-family=\"Helvetica,sans-Serif\" font-size=\"14.00\">gini = 0.475</text>\n<text text-anchor=\"middle\" x=\"1594.5\" y=\"-2707.8\" font-family=\"Helvetica,sans-Serif\" font-size=\"14.00\">samples = 389</text>\n<text text-anchor=\"middle\" x=\"1594.5\" y=\"-2692.8\" font-family=\"Helvetica,sans-Serif\" font-size=\"14.00\">value = [151, 238]</text>\n<text text-anchor=\"middle\" x=\"1594.5\" y=\"-2677.8\" font-family=\"Helvetica,sans-Serif\" font-size=\"14.00\">class = debit_card</text>\n</g>\n<!-- 75&#45;&gt;77 -->\n<g id=\"edge77\" class=\"edge\">\n<title>75&#45;&gt;77</title>\n<path fill=\"none\" stroke=\"black\" d=\"M1412.69,-2690.09C1446.1,-2692.66 1486.71,-2695.79 1520.96,-2698.42\"/>\n<polygon fill=\"black\" stroke=\"black\" points=\"1521.14,-2701.94 1531.38,-2699.22 1521.67,-2694.96 1521.14,-2701.94\"/>\n</g>\n<!-- 79 -->\n<g id=\"node80\" class=\"node\">\n<title>79</title>\n<path fill=\"#c6e3f8\" stroke=\"black\" d=\"M1646,-2651.5C1646,-2651.5 1543,-2651.5 1543,-2651.5 1537,-2651.5 1531,-2645.5 1531,-2639.5 1531,-2639.5 1531,-2580.5 1531,-2580.5 1531,-2574.5 1537,-2568.5 1543,-2568.5 1543,-2568.5 1646,-2568.5 1646,-2568.5 1652,-2568.5 1658,-2574.5 1658,-2580.5 1658,-2580.5 1658,-2639.5 1658,-2639.5 1658,-2645.5 1652,-2651.5 1646,-2651.5\"/>\n<text text-anchor=\"middle\" x=\"1594.5\" y=\"-2636.3\" font-family=\"Helvetica,sans-Serif\" font-size=\"14.00\">em_acount &lt;= 0.5</text>\n<text text-anchor=\"middle\" x=\"1594.5\" y=\"-2621.3\" font-family=\"Helvetica,sans-Serif\" font-size=\"14.00\">gini = 0.486</text>\n<text text-anchor=\"middle\" x=\"1594.5\" y=\"-2606.3\" font-family=\"Helvetica,sans-Serif\" font-size=\"14.00\">samples = 684</text>\n<text text-anchor=\"middle\" x=\"1594.5\" y=\"-2591.3\" font-family=\"Helvetica,sans-Serif\" font-size=\"14.00\">value = [285, 399]</text>\n<text text-anchor=\"middle\" x=\"1594.5\" y=\"-2576.3\" font-family=\"Helvetica,sans-Serif\" font-size=\"14.00\">class = debit_card</text>\n</g>\n<!-- 78&#45;&gt;79 -->\n<g id=\"edge79\" class=\"edge\">\n<title>78&#45;&gt;79</title>\n<path fill=\"none\" stroke=\"black\" d=\"M1433.24,-2565.88C1461.83,-2573.75 1493.33,-2582.42 1520.77,-2589.98\"/>\n<polygon fill=\"black\" stroke=\"black\" points=\"1520.11,-2593.43 1530.68,-2592.71 1521.97,-2586.68 1520.11,-2593.43\"/>\n</g>\n<!-- 86 -->\n<g id=\"node87\" class=\"node\">\n<title>86</title>\n<path fill=\"#f4c7a8\" stroke=\"black\" d=\"M1657,-2550C1657,-2550 1532,-2550 1532,-2550 1526,-2550 1520,-2544 1520,-2538 1520,-2538 1520,-2494 1520,-2494 1520,-2488 1526,-2482 1532,-2482 1532,-2482 1657,-2482 1657,-2482 1663,-2482 1669,-2488 1669,-2494 1669,-2494 1669,-2538 1669,-2538 1669,-2544 1663,-2550 1657,-2550\"/>\n<text text-anchor=\"middle\" x=\"1594.5\" y=\"-2534.8\" font-family=\"Helvetica,sans-Serif\" font-size=\"14.00\">gini = 0.46</text>\n<text text-anchor=\"middle\" x=\"1594.5\" y=\"-2519.8\" font-family=\"Helvetica,sans-Serif\" font-size=\"14.00\">samples = 318</text>\n<text text-anchor=\"middle\" x=\"1594.5\" y=\"-2504.8\" font-family=\"Helvetica,sans-Serif\" font-size=\"14.00\">value = [204, 114]</text>\n<text text-anchor=\"middle\" x=\"1594.5\" y=\"-2489.8\" font-family=\"Helvetica,sans-Serif\" font-size=\"14.00\">class = no_debit_card</text>\n</g>\n<!-- 78&#45;&gt;86 -->\n<g id=\"edge86\" class=\"edge\">\n<title>78&#45;&gt;86</title>\n<path fill=\"none\" stroke=\"black\" d=\"M1433.24,-2532.87C1458.04,-2530.26 1485.01,-2527.42 1509.64,-2524.83\"/>\n<polygon fill=\"black\" stroke=\"black\" points=\"1510.09,-2528.3 1519.67,-2523.77 1509.36,-2521.34 1510.09,-2528.3\"/>\n</g>\n<!-- 80 -->\n<g id=\"node81\" class=\"node\">\n<title>80</title>\n<path fill=\"#f0b58b\" stroke=\"black\" d=\"M1920,-2738C1920,-2738 1795,-2738 1795,-2738 1789,-2738 1783,-2732 1783,-2726 1783,-2726 1783,-2682 1783,-2682 1783,-2676 1789,-2670 1795,-2670 1795,-2670 1920,-2670 1920,-2670 1926,-2670 1932,-2676 1932,-2682 1932,-2682 1932,-2726 1932,-2726 1932,-2732 1926,-2738 1920,-2738\"/>\n<text text-anchor=\"middle\" x=\"1857.5\" y=\"-2722.8\" font-family=\"Helvetica,sans-Serif\" font-size=\"14.00\">gini = 0.415</text>\n<text text-anchor=\"middle\" x=\"1857.5\" y=\"-2707.8\" font-family=\"Helvetica,sans-Serif\" font-size=\"14.00\">samples = 92</text>\n<text text-anchor=\"middle\" x=\"1857.5\" y=\"-2692.8\" font-family=\"Helvetica,sans-Serif\" font-size=\"14.00\">value = [65, 27]</text>\n<text text-anchor=\"middle\" x=\"1857.5\" y=\"-2677.8\" font-family=\"Helvetica,sans-Serif\" font-size=\"14.00\">class = no_debit_card</text>\n</g>\n<!-- 79&#45;&gt;80 -->\n<g id=\"edge80\" class=\"edge\">\n<title>79&#45;&gt;80</title>\n<path fill=\"none\" stroke=\"black\" d=\"M1658.02,-2632.52C1692.49,-2644.93 1735.74,-2660.51 1773.06,-2673.95\"/>\n<polygon fill=\"black\" stroke=\"black\" points=\"1772.32,-2677.4 1782.91,-2677.5 1774.69,-2670.82 1772.32,-2677.4\"/>\n</g>\n<!-- 81 -->\n<g id=\"node82\" class=\"node\">\n<title>81</title>\n<path fill=\"#aed7f4\" stroke=\"black\" d=\"M1908.5,-2651.5C1908.5,-2651.5 1806.5,-2651.5 1806.5,-2651.5 1800.5,-2651.5 1794.5,-2645.5 1794.5,-2639.5 1794.5,-2639.5 1794.5,-2580.5 1794.5,-2580.5 1794.5,-2574.5 1800.5,-2568.5 1806.5,-2568.5 1806.5,-2568.5 1908.5,-2568.5 1908.5,-2568.5 1914.5,-2568.5 1920.5,-2574.5 1920.5,-2580.5 1920.5,-2580.5 1920.5,-2639.5 1920.5,-2639.5 1920.5,-2645.5 1914.5,-2651.5 1908.5,-2651.5\"/>\n<text text-anchor=\"middle\" x=\"1857.5\" y=\"-2636.3\" font-family=\"Helvetica,sans-Serif\" font-size=\"14.00\">payroll &lt;= 0.5</text>\n<text text-anchor=\"middle\" x=\"1857.5\" y=\"-2621.3\" font-family=\"Helvetica,sans-Serif\" font-size=\"14.00\">gini = 0.467</text>\n<text text-anchor=\"middle\" x=\"1857.5\" y=\"-2606.3\" font-family=\"Helvetica,sans-Serif\" font-size=\"14.00\">samples = 592</text>\n<text text-anchor=\"middle\" x=\"1857.5\" y=\"-2591.3\" font-family=\"Helvetica,sans-Serif\" font-size=\"14.00\">value = [220, 372]</text>\n<text text-anchor=\"middle\" x=\"1857.5\" y=\"-2576.3\" font-family=\"Helvetica,sans-Serif\" font-size=\"14.00\">class = debit_card</text>\n</g>\n<!-- 79&#45;&gt;81 -->\n<g id=\"edge81\" class=\"edge\">\n<title>79&#45;&gt;81</title>\n<path fill=\"none\" stroke=\"black\" d=\"M1658.02,-2610C1696.03,-2610 1744.72,-2610 1784.36,-2610\"/>\n<polygon fill=\"black\" stroke=\"black\" points=\"1784.49,-2613.5 1794.49,-2610 1784.49,-2606.5 1784.49,-2613.5\"/>\n</g>\n<!-- 82 -->\n<g id=\"node83\" class=\"node\">\n<title>82</title>\n<path fill=\"#a6d3f3\" stroke=\"black\" d=\"M2147.5,-2745.5C2147.5,-2745.5 2045.5,-2745.5 2045.5,-2745.5 2039.5,-2745.5 2033.5,-2739.5 2033.5,-2733.5 2033.5,-2733.5 2033.5,-2674.5 2033.5,-2674.5 2033.5,-2668.5 2039.5,-2662.5 2045.5,-2662.5 2045.5,-2662.5 2147.5,-2662.5 2147.5,-2662.5 2153.5,-2662.5 2159.5,-2668.5 2159.5,-2674.5 2159.5,-2674.5 2159.5,-2733.5 2159.5,-2733.5 2159.5,-2739.5 2153.5,-2745.5 2147.5,-2745.5\"/>\n<text text-anchor=\"middle\" x=\"2096.5\" y=\"-2730.3\" font-family=\"Helvetica,sans-Serif\" font-size=\"14.00\">age &lt;= 21.5</text>\n<text text-anchor=\"middle\" x=\"2096.5\" y=\"-2715.3\" font-family=\"Helvetica,sans-Serif\" font-size=\"14.00\">gini = 0.458</text>\n<text text-anchor=\"middle\" x=\"2096.5\" y=\"-2700.3\" font-family=\"Helvetica,sans-Serif\" font-size=\"14.00\">samples = 573</text>\n<text text-anchor=\"middle\" x=\"2096.5\" y=\"-2685.3\" font-family=\"Helvetica,sans-Serif\" font-size=\"14.00\">value = [203, 370]</text>\n<text text-anchor=\"middle\" x=\"2096.5\" y=\"-2670.3\" font-family=\"Helvetica,sans-Serif\" font-size=\"14.00\">class = debit_card</text>\n</g>\n<!-- 81&#45;&gt;82 -->\n<g id=\"edge82\" class=\"edge\">\n<title>81&#45;&gt;82</title>\n<path fill=\"none\" stroke=\"black\" d=\"M1920.77,-2634.7C1952.35,-2647.22 1990.87,-2662.5 2023.69,-2675.52\"/>\n<polygon fill=\"black\" stroke=\"black\" points=\"2022.65,-2678.87 2033.24,-2679.3 2025.23,-2672.36 2022.65,-2678.87\"/>\n</g>\n<!-- 85 -->\n<g id=\"node86\" class=\"node\">\n<title>85</title>\n<path fill=\"#e89050\" stroke=\"black\" d=\"M2159,-2644C2159,-2644 2034,-2644 2034,-2644 2028,-2644 2022,-2638 2022,-2632 2022,-2632 2022,-2588 2022,-2588 2022,-2582 2028,-2576 2034,-2576 2034,-2576 2159,-2576 2159,-2576 2165,-2576 2171,-2582 2171,-2588 2171,-2588 2171,-2632 2171,-2632 2171,-2638 2165,-2644 2159,-2644\"/>\n<text text-anchor=\"middle\" x=\"2096.5\" y=\"-2628.8\" font-family=\"Helvetica,sans-Serif\" font-size=\"14.00\">gini = 0.188</text>\n<text text-anchor=\"middle\" x=\"2096.5\" y=\"-2613.8\" font-family=\"Helvetica,sans-Serif\" font-size=\"14.00\">samples = 19</text>\n<text text-anchor=\"middle\" x=\"2096.5\" y=\"-2598.8\" font-family=\"Helvetica,sans-Serif\" font-size=\"14.00\">value = [17, 2]</text>\n<text text-anchor=\"middle\" x=\"2096.5\" y=\"-2583.8\" font-family=\"Helvetica,sans-Serif\" font-size=\"14.00\">class = no_debit_card</text>\n</g>\n<!-- 81&#45;&gt;85 -->\n<g id=\"edge85\" class=\"edge\">\n<title>81&#45;&gt;85</title>\n<path fill=\"none\" stroke=\"black\" d=\"M1920.77,-2610C1948.62,-2610 1981.86,-2610 2011.83,-2610\"/>\n<polygon fill=\"black\" stroke=\"black\" points=\"2011.86,-2613.5 2021.86,-2610 2011.86,-2606.5 2011.86,-2613.5\"/>\n</g>\n<!-- 83 -->\n<g id=\"node84\" class=\"node\">\n<title>83</title>\n<path fill=\"#7cbeee\" stroke=\"black\" d=\"M2414.5,-2765C2414.5,-2765 2312.5,-2765 2312.5,-2765 2306.5,-2765 2300.5,-2759 2300.5,-2753 2300.5,-2753 2300.5,-2709 2300.5,-2709 2300.5,-2703 2306.5,-2697 2312.5,-2697 2312.5,-2697 2414.5,-2697 2414.5,-2697 2420.5,-2697 2426.5,-2703 2426.5,-2709 2426.5,-2709 2426.5,-2753 2426.5,-2753 2426.5,-2759 2420.5,-2765 2414.5,-2765\"/>\n<text text-anchor=\"middle\" x=\"2363.5\" y=\"-2749.8\" font-family=\"Helvetica,sans-Serif\" font-size=\"14.00\">gini = 0.377</text>\n<text text-anchor=\"middle\" x=\"2363.5\" y=\"-2734.8\" font-family=\"Helvetica,sans-Serif\" font-size=\"14.00\">samples = 206</text>\n<text text-anchor=\"middle\" x=\"2363.5\" y=\"-2719.8\" font-family=\"Helvetica,sans-Serif\" font-size=\"14.00\">value = [52, 154]</text>\n<text text-anchor=\"middle\" x=\"2363.5\" y=\"-2704.8\" font-family=\"Helvetica,sans-Serif\" font-size=\"14.00\">class = debit_card</text>\n</g>\n<!-- 82&#45;&gt;83 -->\n<g id=\"edge83\" class=\"edge\">\n<title>82&#45;&gt;83</title>\n<path fill=\"none\" stroke=\"black\" d=\"M2159.63,-2710.33C2198.7,-2714.31 2249.26,-2719.46 2290.13,-2723.63\"/>\n<polygon fill=\"black\" stroke=\"black\" points=\"2290,-2727.13 2300.3,-2724.66 2290.71,-2720.17 2290,-2727.13\"/>\n</g>\n<!-- 84 -->\n<g id=\"node85\" class=\"node\">\n<title>84</title>\n<path fill=\"#c3e2f7\" stroke=\"black\" d=\"M2414.5,-2679C2414.5,-2679 2312.5,-2679 2312.5,-2679 2306.5,-2679 2300.5,-2673 2300.5,-2667 2300.5,-2667 2300.5,-2623 2300.5,-2623 2300.5,-2617 2306.5,-2611 2312.5,-2611 2312.5,-2611 2414.5,-2611 2414.5,-2611 2420.5,-2611 2426.5,-2617 2426.5,-2623 2426.5,-2623 2426.5,-2667 2426.5,-2667 2426.5,-2673 2420.5,-2679 2414.5,-2679\"/>\n<text text-anchor=\"middle\" x=\"2363.5\" y=\"-2663.8\" font-family=\"Helvetica,sans-Serif\" font-size=\"14.00\">gini = 0.484</text>\n<text text-anchor=\"middle\" x=\"2363.5\" y=\"-2648.8\" font-family=\"Helvetica,sans-Serif\" font-size=\"14.00\">samples = 367</text>\n<text text-anchor=\"middle\" x=\"2363.5\" y=\"-2633.8\" font-family=\"Helvetica,sans-Serif\" font-size=\"14.00\">value = [151, 216]</text>\n<text text-anchor=\"middle\" x=\"2363.5\" y=\"-2618.8\" font-family=\"Helvetica,sans-Serif\" font-size=\"14.00\">class = debit_card</text>\n</g>\n<!-- 82&#45;&gt;84 -->\n<g id=\"edge84\" class=\"edge\">\n<title>82&#45;&gt;84</title>\n<path fill=\"none\" stroke=\"black\" d=\"M2159.63,-2690.17C2198.78,-2681.45 2249.47,-2670.16 2290.39,-2661.05\"/>\n<polygon fill=\"black\" stroke=\"black\" points=\"2291.3,-2664.44 2300.3,-2658.85 2289.78,-2657.61 2291.3,-2664.44\"/>\n</g>\n<!-- 88 -->\n<g id=\"node89\" class=\"node\">\n<title>88</title>\n<path fill=\"#60b0ea\" stroke=\"black\" d=\"M1396.5,-2446.5C1396.5,-2446.5 1294.5,-2446.5 1294.5,-2446.5 1288.5,-2446.5 1282.5,-2440.5 1282.5,-2434.5 1282.5,-2434.5 1282.5,-2375.5 1282.5,-2375.5 1282.5,-2369.5 1288.5,-2363.5 1294.5,-2363.5 1294.5,-2363.5 1396.5,-2363.5 1396.5,-2363.5 1402.5,-2363.5 1408.5,-2369.5 1408.5,-2375.5 1408.5,-2375.5 1408.5,-2434.5 1408.5,-2434.5 1408.5,-2440.5 1402.5,-2446.5 1396.5,-2446.5\"/>\n<text text-anchor=\"middle\" x=\"1345.5\" y=\"-2431.3\" font-family=\"Helvetica,sans-Serif\" font-size=\"14.00\">age &lt;= 19.5</text>\n<text text-anchor=\"middle\" x=\"1345.5\" y=\"-2416.3\" font-family=\"Helvetica,sans-Serif\" font-size=\"14.00\">gini = 0.275</text>\n<text text-anchor=\"middle\" x=\"1345.5\" y=\"-2401.3\" font-family=\"Helvetica,sans-Serif\" font-size=\"14.00\">samples = 1016</text>\n<text text-anchor=\"middle\" x=\"1345.5\" y=\"-2386.3\" font-family=\"Helvetica,sans-Serif\" font-size=\"14.00\">value = [167, 849]</text>\n<text text-anchor=\"middle\" x=\"1345.5\" y=\"-2371.3\" font-family=\"Helvetica,sans-Serif\" font-size=\"14.00\">class = debit_card</text>\n</g>\n<!-- 87&#45;&gt;88 -->\n<g id=\"edge88\" class=\"edge\">\n<title>87&#45;&gt;88</title>\n<path fill=\"none\" stroke=\"black\" d=\"M1222.02,-2405C1238.6,-2405 1255.8,-2405 1271.89,-2405\"/>\n<polygon fill=\"black\" stroke=\"black\" points=\"1272.29,-2408.5 1282.29,-2405 1272.29,-2401.5 1272.29,-2408.5\"/>\n</g>\n<!-- 99 -->\n<g id=\"node100\" class=\"node\">\n<title>99</title>\n<path fill=\"#8ac5f0\" stroke=\"black\" d=\"M1396.5,-2345C1396.5,-2345 1294.5,-2345 1294.5,-2345 1288.5,-2345 1282.5,-2339 1282.5,-2333 1282.5,-2333 1282.5,-2289 1282.5,-2289 1282.5,-2283 1288.5,-2277 1294.5,-2277 1294.5,-2277 1396.5,-2277 1396.5,-2277 1402.5,-2277 1408.5,-2283 1408.5,-2289 1408.5,-2289 1408.5,-2333 1408.5,-2333 1408.5,-2339 1402.5,-2345 1396.5,-2345\"/>\n<text text-anchor=\"middle\" x=\"1345.5\" y=\"-2329.8\" font-family=\"Helvetica,sans-Serif\" font-size=\"14.00\">gini = 0.412</text>\n<text text-anchor=\"middle\" x=\"1345.5\" y=\"-2314.8\" font-family=\"Helvetica,sans-Serif\" font-size=\"14.00\">samples = 485</text>\n<text text-anchor=\"middle\" x=\"1345.5\" y=\"-2299.8\" font-family=\"Helvetica,sans-Serif\" font-size=\"14.00\">value = [141, 344]</text>\n<text text-anchor=\"middle\" x=\"1345.5\" y=\"-2284.8\" font-family=\"Helvetica,sans-Serif\" font-size=\"14.00\">class = debit_card</text>\n</g>\n<!-- 87&#45;&gt;99 -->\n<g id=\"edge99\" class=\"edge\">\n<title>87&#45;&gt;99</title>\n<path fill=\"none\" stroke=\"black\" d=\"M1222.02,-2366.09C1238.91,-2358.49 1256.46,-2350.6 1272.81,-2343.24\"/>\n<polygon fill=\"black\" stroke=\"black\" points=\"1274.6,-2346.28 1282.29,-2338.98 1271.73,-2339.89 1274.6,-2346.28\"/>\n</g>\n<!-- 89 -->\n<g id=\"node90\" class=\"node\">\n<title>89</title>\n<path fill=\"#e58139\" stroke=\"black\" d=\"M1657,-2464C1657,-2464 1532,-2464 1532,-2464 1526,-2464 1520,-2458 1520,-2452 1520,-2452 1520,-2408 1520,-2408 1520,-2402 1526,-2396 1532,-2396 1532,-2396 1657,-2396 1657,-2396 1663,-2396 1669,-2402 1669,-2408 1669,-2408 1669,-2452 1669,-2452 1669,-2458 1663,-2464 1657,-2464\"/>\n<text text-anchor=\"middle\" x=\"1594.5\" y=\"-2448.8\" font-family=\"Helvetica,sans-Serif\" font-size=\"14.00\">gini = 0.0</text>\n<text text-anchor=\"middle\" x=\"1594.5\" y=\"-2433.8\" font-family=\"Helvetica,sans-Serif\" font-size=\"14.00\">samples = 6</text>\n<text text-anchor=\"middle\" x=\"1594.5\" y=\"-2418.8\" font-family=\"Helvetica,sans-Serif\" font-size=\"14.00\">value = [6, 0]</text>\n<text text-anchor=\"middle\" x=\"1594.5\" y=\"-2403.8\" font-family=\"Helvetica,sans-Serif\" font-size=\"14.00\">class = no_debit_card</text>\n</g>\n<!-- 88&#45;&gt;89 -->\n<g id=\"edge89\" class=\"edge\">\n<title>88&#45;&gt;89</title>\n<path fill=\"none\" stroke=\"black\" d=\"M1408.51,-2411.28C1439.07,-2414.37 1476.38,-2418.15 1509.47,-2421.49\"/>\n<polygon fill=\"black\" stroke=\"black\" points=\"1509.29,-2424.99 1519.59,-2422.52 1509.99,-2418.03 1509.29,-2424.99\"/>\n</g>\n<!-- 90 -->\n<g id=\"node91\" class=\"node\">\n<title>90</title>\n<path fill=\"#5fb0ea\" stroke=\"black\" d=\"M1645.5,-2377.5C1645.5,-2377.5 1543.5,-2377.5 1543.5,-2377.5 1537.5,-2377.5 1531.5,-2371.5 1531.5,-2365.5 1531.5,-2365.5 1531.5,-2306.5 1531.5,-2306.5 1531.5,-2300.5 1537.5,-2294.5 1543.5,-2294.5 1543.5,-2294.5 1645.5,-2294.5 1645.5,-2294.5 1651.5,-2294.5 1657.5,-2300.5 1657.5,-2306.5 1657.5,-2306.5 1657.5,-2365.5 1657.5,-2365.5 1657.5,-2371.5 1651.5,-2377.5 1645.5,-2377.5\"/>\n<text text-anchor=\"middle\" x=\"1594.5\" y=\"-2362.3\" font-family=\"Helvetica,sans-Serif\" font-size=\"14.00\">payroll &lt;= 0.5</text>\n<text text-anchor=\"middle\" x=\"1594.5\" y=\"-2347.3\" font-family=\"Helvetica,sans-Serif\" font-size=\"14.00\">gini = 0.268</text>\n<text text-anchor=\"middle\" x=\"1594.5\" y=\"-2332.3\" font-family=\"Helvetica,sans-Serif\" font-size=\"14.00\">samples = 1010</text>\n<text text-anchor=\"middle\" x=\"1594.5\" y=\"-2317.3\" font-family=\"Helvetica,sans-Serif\" font-size=\"14.00\">value = [161, 849]</text>\n<text text-anchor=\"middle\" x=\"1594.5\" y=\"-2302.3\" font-family=\"Helvetica,sans-Serif\" font-size=\"14.00\">class = debit_card</text>\n</g>\n<!-- 88&#45;&gt;90 -->\n<g id=\"edge90\" class=\"edge\">\n<title>88&#45;&gt;90</title>\n<path fill=\"none\" stroke=\"black\" d=\"M1408.51,-2387.68C1442.86,-2378.08 1485.74,-2366.1 1521.56,-2356.1\"/>\n<polygon fill=\"black\" stroke=\"black\" points=\"1522.78,-2359.39 1531.46,-2353.33 1520.89,-2352.65 1522.78,-2359.39\"/>\n</g>\n<!-- 91 -->\n<g id=\"node92\" class=\"node\">\n<title>91</title>\n<path fill=\"#5baee9\" stroke=\"black\" d=\"M1909,-2471.5C1909,-2471.5 1806,-2471.5 1806,-2471.5 1800,-2471.5 1794,-2465.5 1794,-2459.5 1794,-2459.5 1794,-2400.5 1794,-2400.5 1794,-2394.5 1800,-2388.5 1806,-2388.5 1806,-2388.5 1909,-2388.5 1909,-2388.5 1915,-2388.5 1921,-2394.5 1921,-2400.5 1921,-2400.5 1921,-2459.5 1921,-2459.5 1921,-2465.5 1915,-2471.5 1909,-2471.5\"/>\n<text text-anchor=\"middle\" x=\"1857.5\" y=\"-2456.3\" font-family=\"Helvetica,sans-Serif\" font-size=\"14.00\">em_acount &lt;= 0.5</text>\n<text text-anchor=\"middle\" x=\"1857.5\" y=\"-2441.3\" font-family=\"Helvetica,sans-Serif\" font-size=\"14.00\">gini = 0.25</text>\n<text text-anchor=\"middle\" x=\"1857.5\" y=\"-2426.3\" font-family=\"Helvetica,sans-Serif\" font-size=\"14.00\">samples = 970</text>\n<text text-anchor=\"middle\" x=\"1857.5\" y=\"-2411.3\" font-family=\"Helvetica,sans-Serif\" font-size=\"14.00\">value = [142, 828]</text>\n<text text-anchor=\"middle\" x=\"1857.5\" y=\"-2396.3\" font-family=\"Helvetica,sans-Serif\" font-size=\"14.00\">class = debit_card</text>\n</g>\n<!-- 90&#45;&gt;91 -->\n<g id=\"edge91\" class=\"edge\">\n<title>90&#45;&gt;91</title>\n<path fill=\"none\" stroke=\"black\" d=\"M1657.68,-2358.4C1695.71,-2372.09 1744.52,-2389.67 1784.25,-2403.98\"/>\n<polygon fill=\"black\" stroke=\"black\" points=\"1783.29,-2407.35 1793.89,-2407.45 1785.66,-2400.77 1783.29,-2407.35\"/>\n</g>\n<!-- 98 -->\n<g id=\"node99\" class=\"node\">\n<title>98</title>\n<path fill=\"#ecf6fd\" stroke=\"black\" d=\"M1908.5,-2370C1908.5,-2370 1806.5,-2370 1806.5,-2370 1800.5,-2370 1794.5,-2364 1794.5,-2358 1794.5,-2358 1794.5,-2314 1794.5,-2314 1794.5,-2308 1800.5,-2302 1806.5,-2302 1806.5,-2302 1908.5,-2302 1908.5,-2302 1914.5,-2302 1920.5,-2308 1920.5,-2314 1920.5,-2314 1920.5,-2358 1920.5,-2358 1920.5,-2364 1914.5,-2370 1908.5,-2370\"/>\n<text text-anchor=\"middle\" x=\"1857.5\" y=\"-2354.8\" font-family=\"Helvetica,sans-Serif\" font-size=\"14.00\">gini = 0.499</text>\n<text text-anchor=\"middle\" x=\"1857.5\" y=\"-2339.8\" font-family=\"Helvetica,sans-Serif\" font-size=\"14.00\">samples = 40</text>\n<text text-anchor=\"middle\" x=\"1857.5\" y=\"-2324.8\" font-family=\"Helvetica,sans-Serif\" font-size=\"14.00\">value = [19, 21]</text>\n<text text-anchor=\"middle\" x=\"1857.5\" y=\"-2309.8\" font-family=\"Helvetica,sans-Serif\" font-size=\"14.00\">class = debit_card</text>\n</g>\n<!-- 90&#45;&gt;98 -->\n<g id=\"edge98\" class=\"edge\">\n<title>90&#45;&gt;98</title>\n<path fill=\"none\" stroke=\"black\" d=\"M1657.68,-2336C1695.69,-2336 1744.46,-2336 1784.18,-2336\"/>\n<polygon fill=\"black\" stroke=\"black\" points=\"1784.34,-2339.5 1794.34,-2336 1784.34,-2332.5 1784.34,-2339.5\"/>\n</g>\n<!-- 92 -->\n<g id=\"node93\" class=\"node\">\n<title>92</title>\n<path fill=\"#aad5f4\" stroke=\"black\" d=\"M2147.5,-2558C2147.5,-2558 2045.5,-2558 2045.5,-2558 2039.5,-2558 2033.5,-2552 2033.5,-2546 2033.5,-2546 2033.5,-2502 2033.5,-2502 2033.5,-2496 2039.5,-2490 2045.5,-2490 2045.5,-2490 2147.5,-2490 2147.5,-2490 2153.5,-2490 2159.5,-2496 2159.5,-2502 2159.5,-2502 2159.5,-2546 2159.5,-2546 2159.5,-2552 2153.5,-2558 2147.5,-2558\"/>\n<text text-anchor=\"middle\" x=\"2096.5\" y=\"-2542.8\" font-family=\"Helvetica,sans-Serif\" font-size=\"14.00\">gini = 0.463</text>\n<text text-anchor=\"middle\" x=\"2096.5\" y=\"-2527.8\" font-family=\"Helvetica,sans-Serif\" font-size=\"14.00\">samples = 55</text>\n<text text-anchor=\"middle\" x=\"2096.5\" y=\"-2512.8\" font-family=\"Helvetica,sans-Serif\" font-size=\"14.00\">value = [20, 35]</text>\n<text text-anchor=\"middle\" x=\"2096.5\" y=\"-2497.8\" font-family=\"Helvetica,sans-Serif\" font-size=\"14.00\">class = debit_card</text>\n</g>\n<!-- 91&#45;&gt;92 -->\n<g id=\"edge92\" class=\"edge\">\n<title>91&#45;&gt;92</title>\n<path fill=\"none\" stroke=\"black\" d=\"M1921.08,-2454.82C1952.66,-2467.35 1991.11,-2482.6 2023.87,-2495.59\"/>\n<polygon fill=\"black\" stroke=\"black\" points=\"2022.81,-2498.93 2033.39,-2499.37 2025.39,-2492.43 2022.81,-2498.93\"/>\n</g>\n<!-- 93 -->\n<g id=\"node94\" class=\"node\">\n<title>93</title>\n<path fill=\"#57ace9\" stroke=\"black\" d=\"M2186,-2471.5C2186,-2471.5 2007,-2471.5 2007,-2471.5 2001,-2471.5 1995,-2465.5 1995,-2459.5 1995,-2459.5 1995,-2400.5 1995,-2400.5 1995,-2394.5 2001,-2388.5 2007,-2388.5 2007,-2388.5 2186,-2388.5 2186,-2388.5 2192,-2388.5 2198,-2394.5 2198,-2400.5 2198,-2400.5 2198,-2459.5 2198,-2459.5 2198,-2465.5 2192,-2471.5 2186,-2471.5\"/>\n<text text-anchor=\"middle\" x=\"2096.5\" y=\"-2456.3\" font-family=\"Helvetica,sans-Serif\" font-size=\"14.00\">renta_bruta_media &lt;= 15441.5</text>\n<text text-anchor=\"middle\" x=\"2096.5\" y=\"-2441.3\" font-family=\"Helvetica,sans-Serif\" font-size=\"14.00\">gini = 0.231</text>\n<text text-anchor=\"middle\" x=\"2096.5\" y=\"-2426.3\" font-family=\"Helvetica,sans-Serif\" font-size=\"14.00\">samples = 915</text>\n<text text-anchor=\"middle\" x=\"2096.5\" y=\"-2411.3\" font-family=\"Helvetica,sans-Serif\" font-size=\"14.00\">value = [122, 793]</text>\n<text text-anchor=\"middle\" x=\"2096.5\" y=\"-2396.3\" font-family=\"Helvetica,sans-Serif\" font-size=\"14.00\">class = debit_card</text>\n</g>\n<!-- 91&#45;&gt;93 -->\n<g id=\"edge93\" class=\"edge\">\n<title>91&#45;&gt;93</title>\n<path fill=\"none\" stroke=\"black\" d=\"M1921.08,-2430C1940.7,-2430 1962.98,-2430 1984.9,-2430\"/>\n<polygon fill=\"black\" stroke=\"black\" points=\"1984.93,-2433.5 1994.93,-2430 1984.93,-2426.5 1984.93,-2433.5\"/>\n</g>\n<!-- 94 -->\n<g id=\"node95\" class=\"node\">\n<title>94</title>\n<path fill=\"#51a9e8\" stroke=\"black\" d=\"M2439.5,-2565.5C2439.5,-2565.5 2287.5,-2565.5 2287.5,-2565.5 2281.5,-2565.5 2275.5,-2559.5 2275.5,-2553.5 2275.5,-2553.5 2275.5,-2494.5 2275.5,-2494.5 2275.5,-2488.5 2281.5,-2482.5 2287.5,-2482.5 2287.5,-2482.5 2439.5,-2482.5 2439.5,-2482.5 2445.5,-2482.5 2451.5,-2488.5 2451.5,-2494.5 2451.5,-2494.5 2451.5,-2553.5 2451.5,-2553.5 2451.5,-2559.5 2445.5,-2565.5 2439.5,-2565.5\"/>\n<text text-anchor=\"middle\" x=\"2363.5\" y=\"-2550.3\" font-family=\"Helvetica,sans-Serif\" font-size=\"14.00\">entry_channel_ZZZ &lt;= 0.5</text>\n<text text-anchor=\"middle\" x=\"2363.5\" y=\"-2535.3\" font-family=\"Helvetica,sans-Serif\" font-size=\"14.00\">gini = 0.19</text>\n<text text-anchor=\"middle\" x=\"2363.5\" y=\"-2520.3\" font-family=\"Helvetica,sans-Serif\" font-size=\"14.00\">samples = 622</text>\n<text text-anchor=\"middle\" x=\"2363.5\" y=\"-2505.3\" font-family=\"Helvetica,sans-Serif\" font-size=\"14.00\">value = [66, 556]</text>\n<text text-anchor=\"middle\" x=\"2363.5\" y=\"-2490.3\" font-family=\"Helvetica,sans-Serif\" font-size=\"14.00\">class = debit_card</text>\n</g>\n<!-- 93&#45;&gt;94 -->\n<g id=\"edge94\" class=\"edge\">\n<title>93&#45;&gt;94</title>\n<path fill=\"none\" stroke=\"black\" d=\"M2198.06,-2465.67C2220.26,-2473.54 2243.72,-2481.87 2265.76,-2489.68\"/>\n<polygon fill=\"black\" stroke=\"black\" points=\"2264.84,-2493.07 2275.44,-2493.12 2267.18,-2486.48 2264.84,-2493.07\"/>\n</g>\n<!-- 97 -->\n<g id=\"node98\" class=\"node\">\n<title>97</title>\n<path fill=\"#68b4eb\" stroke=\"black\" d=\"M2414.5,-2464C2414.5,-2464 2312.5,-2464 2312.5,-2464 2306.5,-2464 2300.5,-2458 2300.5,-2452 2300.5,-2452 2300.5,-2408 2300.5,-2408 2300.5,-2402 2306.5,-2396 2312.5,-2396 2312.5,-2396 2414.5,-2396 2414.5,-2396 2420.5,-2396 2426.5,-2402 2426.5,-2408 2426.5,-2408 2426.5,-2452 2426.5,-2452 2426.5,-2458 2420.5,-2464 2414.5,-2464\"/>\n<text text-anchor=\"middle\" x=\"2363.5\" y=\"-2448.8\" font-family=\"Helvetica,sans-Serif\" font-size=\"14.00\">gini = 0.309</text>\n<text text-anchor=\"middle\" x=\"2363.5\" y=\"-2433.8\" font-family=\"Helvetica,sans-Serif\" font-size=\"14.00\">samples = 293</text>\n<text text-anchor=\"middle\" x=\"2363.5\" y=\"-2418.8\" font-family=\"Helvetica,sans-Serif\" font-size=\"14.00\">value = [56, 237]</text>\n<text text-anchor=\"middle\" x=\"2363.5\" y=\"-2403.8\" font-family=\"Helvetica,sans-Serif\" font-size=\"14.00\">class = debit_card</text>\n</g>\n<!-- 93&#45;&gt;97 -->\n<g id=\"edge97\" class=\"edge\">\n<title>93&#45;&gt;97</title>\n<path fill=\"none\" stroke=\"black\" d=\"M2198.06,-2430C2228.71,-2430 2261.78,-2430 2290.17,-2430\"/>\n<polygon fill=\"black\" stroke=\"black\" points=\"2290.4,-2433.5 2300.4,-2430 2290.4,-2426.5 2290.4,-2433.5\"/>\n</g>\n<!-- 95 -->\n<g id=\"node96\" class=\"node\">\n<title>95</title>\n<path fill=\"#50a8e8\" stroke=\"black\" d=\"M2654.5,-2601C2654.5,-2601 2552.5,-2601 2552.5,-2601 2546.5,-2601 2540.5,-2595 2540.5,-2589 2540.5,-2589 2540.5,-2545 2540.5,-2545 2540.5,-2539 2546.5,-2533 2552.5,-2533 2552.5,-2533 2654.5,-2533 2654.5,-2533 2660.5,-2533 2666.5,-2539 2666.5,-2545 2666.5,-2545 2666.5,-2589 2666.5,-2589 2666.5,-2595 2660.5,-2601 2654.5,-2601\"/>\n<text text-anchor=\"middle\" x=\"2603.5\" y=\"-2585.8\" font-family=\"Helvetica,sans-Serif\" font-size=\"14.00\">gini = 0.187</text>\n<text text-anchor=\"middle\" x=\"2603.5\" y=\"-2570.8\" font-family=\"Helvetica,sans-Serif\" font-size=\"14.00\">samples = 621</text>\n<text text-anchor=\"middle\" x=\"2603.5\" y=\"-2555.8\" font-family=\"Helvetica,sans-Serif\" font-size=\"14.00\">value = [65, 556]</text>\n<text text-anchor=\"middle\" x=\"2603.5\" y=\"-2540.8\" font-family=\"Helvetica,sans-Serif\" font-size=\"14.00\">class = debit_card</text>\n</g>\n<!-- 94&#45;&gt;95 -->\n<g id=\"edge95\" class=\"edge\">\n<title>94&#45;&gt;95</title>\n<path fill=\"none\" stroke=\"black\" d=\"M2451.77,-2539.77C2477.54,-2544.42 2505.45,-2549.47 2530.17,-2553.93\"/>\n<polygon fill=\"black\" stroke=\"black\" points=\"2529.73,-2557.41 2540.19,-2555.74 2530.97,-2550.52 2529.73,-2557.41\"/>\n</g>\n<!-- 96 -->\n<g id=\"node97\" class=\"node\">\n<title>96</title>\n<path fill=\"#e58139\" stroke=\"black\" d=\"M2666,-2515C2666,-2515 2541,-2515 2541,-2515 2535,-2515 2529,-2509 2529,-2503 2529,-2503 2529,-2459 2529,-2459 2529,-2453 2535,-2447 2541,-2447 2541,-2447 2666,-2447 2666,-2447 2672,-2447 2678,-2453 2678,-2459 2678,-2459 2678,-2503 2678,-2503 2678,-2509 2672,-2515 2666,-2515\"/>\n<text text-anchor=\"middle\" x=\"2603.5\" y=\"-2499.8\" font-family=\"Helvetica,sans-Serif\" font-size=\"14.00\">gini = 0.0</text>\n<text text-anchor=\"middle\" x=\"2603.5\" y=\"-2484.8\" font-family=\"Helvetica,sans-Serif\" font-size=\"14.00\">samples = 1</text>\n<text text-anchor=\"middle\" x=\"2603.5\" y=\"-2469.8\" font-family=\"Helvetica,sans-Serif\" font-size=\"14.00\">value = [1, 0]</text>\n<text text-anchor=\"middle\" x=\"2603.5\" y=\"-2454.8\" font-family=\"Helvetica,sans-Serif\" font-size=\"14.00\">class = no_debit_card</text>\n</g>\n<!-- 94&#45;&gt;96 -->\n<g id=\"edge96\" class=\"edge\">\n<title>94&#45;&gt;96</title>\n<path fill=\"none\" stroke=\"black\" d=\"M2451.77,-2508.23C2473.74,-2504.26 2497.28,-2500.01 2519.06,-2496.08\"/>\n<polygon fill=\"black\" stroke=\"black\" points=\"2519.71,-2499.51 2528.93,-2494.29 2518.47,-2492.63 2519.71,-2499.51\"/>\n</g>\n<!-- 101 -->\n<g id=\"node102\" class=\"node\">\n<title>101</title>\n<path fill=\"#f6d4bc\" stroke=\"black\" d=\"M1197,-2099.5C1197,-2099.5 1072,-2099.5 1072,-2099.5 1066,-2099.5 1060,-2093.5 1060,-2087.5 1060,-2087.5 1060,-2028.5 1060,-2028.5 1060,-2022.5 1066,-2016.5 1072,-2016.5 1072,-2016.5 1197,-2016.5 1197,-2016.5 1203,-2016.5 1209,-2022.5 1209,-2028.5 1209,-2028.5 1209,-2087.5 1209,-2087.5 1209,-2093.5 1203,-2099.5 1197,-2099.5\"/>\n<text text-anchor=\"middle\" x=\"1134.5\" y=\"-2084.3\" font-family=\"Helvetica,sans-Serif\" font-size=\"14.00\">payroll &lt;= 0.5</text>\n<text text-anchor=\"middle\" x=\"1134.5\" y=\"-2069.3\" font-family=\"Helvetica,sans-Serif\" font-size=\"14.00\">gini = 0.479</text>\n<text text-anchor=\"middle\" x=\"1134.5\" y=\"-2054.3\" font-family=\"Helvetica,sans-Serif\" font-size=\"14.00\">samples = 1667</text>\n<text text-anchor=\"middle\" x=\"1134.5\" y=\"-2039.3\" font-family=\"Helvetica,sans-Serif\" font-size=\"14.00\">value = [1003, 664]</text>\n<text text-anchor=\"middle\" x=\"1134.5\" y=\"-2024.3\" font-family=\"Helvetica,sans-Serif\" font-size=\"14.00\">class = no_debit_card</text>\n</g>\n<!-- 100&#45;&gt;101 -->\n<g id=\"edge101\" class=\"edge\">\n<title>100&#45;&gt;101</title>\n<path fill=\"none\" stroke=\"black\" d=\"M998.68,-1997.94C1015.51,-2005.43 1033.42,-2013.42 1050.51,-2021.03\"/>\n<polygon fill=\"black\" stroke=\"black\" points=\"1049.35,-2024.34 1059.91,-2025.21 1052.2,-2017.95 1049.35,-2024.34\"/>\n</g>\n<!-- 120 -->\n<g id=\"node121\" class=\"node\">\n<title>120</title>\n<path fill=\"#cbe5f8\" stroke=\"black\" d=\"M1185.5,-1998C1185.5,-1998 1083.5,-1998 1083.5,-1998 1077.5,-1998 1071.5,-1992 1071.5,-1986 1071.5,-1986 1071.5,-1942 1071.5,-1942 1071.5,-1936 1077.5,-1930 1083.5,-1930 1083.5,-1930 1185.5,-1930 1185.5,-1930 1191.5,-1930 1197.5,-1936 1197.5,-1942 1197.5,-1942 1197.5,-1986 1197.5,-1986 1197.5,-1992 1191.5,-1998 1185.5,-1998\"/>\n<text text-anchor=\"middle\" x=\"1134.5\" y=\"-1982.8\" font-family=\"Helvetica,sans-Serif\" font-size=\"14.00\">gini = 0.489</text>\n<text text-anchor=\"middle\" x=\"1134.5\" y=\"-1967.8\" font-family=\"Helvetica,sans-Serif\" font-size=\"14.00\">samples = 353</text>\n<text text-anchor=\"middle\" x=\"1134.5\" y=\"-1952.8\" font-family=\"Helvetica,sans-Serif\" font-size=\"14.00\">value = [150, 203]</text>\n<text text-anchor=\"middle\" x=\"1134.5\" y=\"-1937.8\" font-family=\"Helvetica,sans-Serif\" font-size=\"14.00\">class = debit_card</text>\n</g>\n<!-- 100&#45;&gt;120 -->\n<g id=\"edge120\" class=\"edge\">\n<title>100&#45;&gt;120</title>\n<path fill=\"none\" stroke=\"black\" d=\"M998.68,-1964C1019.07,-1964 1041.06,-1964 1061.24,-1964\"/>\n<polygon fill=\"black\" stroke=\"black\" points=\"1061.3,-1967.5 1071.3,-1964 1061.3,-1960.5 1061.3,-1967.5\"/>\n</g>\n<!-- 102 -->\n<g id=\"node103\" class=\"node\">\n<title>102</title>\n<path fill=\"#f9e2d1\" stroke=\"black\" d=\"M1408,-2193.5C1408,-2193.5 1283,-2193.5 1283,-2193.5 1277,-2193.5 1271,-2187.5 1271,-2181.5 1271,-2181.5 1271,-2122.5 1271,-2122.5 1271,-2116.5 1277,-2110.5 1283,-2110.5 1283,-2110.5 1408,-2110.5 1408,-2110.5 1414,-2110.5 1420,-2116.5 1420,-2122.5 1420,-2122.5 1420,-2181.5 1420,-2181.5 1420,-2187.5 1414,-2193.5 1408,-2193.5\"/>\n<text text-anchor=\"middle\" x=\"1345.5\" y=\"-2178.3\" font-family=\"Helvetica,sans-Serif\" font-size=\"14.00\">em_acount &lt;= 0.5</text>\n<text text-anchor=\"middle\" x=\"1345.5\" y=\"-2163.3\" font-family=\"Helvetica,sans-Serif\" font-size=\"14.00\">gini = 0.491</text>\n<text text-anchor=\"middle\" x=\"1345.5\" y=\"-2148.3\" font-family=\"Helvetica,sans-Serif\" font-size=\"14.00\">samples = 1517</text>\n<text text-anchor=\"middle\" x=\"1345.5\" y=\"-2133.3\" font-family=\"Helvetica,sans-Serif\" font-size=\"14.00\">value = [859, 658]</text>\n<text text-anchor=\"middle\" x=\"1345.5\" y=\"-2118.3\" font-family=\"Helvetica,sans-Serif\" font-size=\"14.00\">class = no_debit_card</text>\n</g>\n<!-- 101&#45;&gt;102 -->\n<g id=\"edge102\" class=\"edge\">\n<title>101&#45;&gt;102</title>\n<path fill=\"none\" stroke=\"black\" d=\"M1209.19,-2091.14C1226.04,-2098.72 1244.08,-2106.83 1261.3,-2114.58\"/>\n<polygon fill=\"black\" stroke=\"black\" points=\"1260.22,-2117.93 1270.78,-2118.84 1263.09,-2111.55 1260.22,-2117.93\"/>\n</g>\n<!-- 119 -->\n<g id=\"node120\" class=\"node\">\n<title>119</title>\n<path fill=\"#e68641\" stroke=\"black\" d=\"M1408,-2092C1408,-2092 1283,-2092 1283,-2092 1277,-2092 1271,-2086 1271,-2080 1271,-2080 1271,-2036 1271,-2036 1271,-2030 1277,-2024 1283,-2024 1283,-2024 1408,-2024 1408,-2024 1414,-2024 1420,-2030 1420,-2036 1420,-2036 1420,-2080 1420,-2080 1420,-2086 1414,-2092 1408,-2092\"/>\n<text text-anchor=\"middle\" x=\"1345.5\" y=\"-2076.8\" font-family=\"Helvetica,sans-Serif\" font-size=\"14.00\">gini = 0.077</text>\n<text text-anchor=\"middle\" x=\"1345.5\" y=\"-2061.8\" font-family=\"Helvetica,sans-Serif\" font-size=\"14.00\">samples = 150</text>\n<text text-anchor=\"middle\" x=\"1345.5\" y=\"-2046.8\" font-family=\"Helvetica,sans-Serif\" font-size=\"14.00\">value = [144, 6]</text>\n<text text-anchor=\"middle\" x=\"1345.5\" y=\"-2031.8\" font-family=\"Helvetica,sans-Serif\" font-size=\"14.00\">class = no_debit_card</text>\n</g>\n<!-- 101&#45;&gt;119 -->\n<g id=\"edge119\" class=\"edge\">\n<title>101&#45;&gt;119</title>\n<path fill=\"none\" stroke=\"black\" d=\"M1209.19,-2058C1225.73,-2058 1243.41,-2058 1260.34,-2058\"/>\n<polygon fill=\"black\" stroke=\"black\" points=\"1260.78,-2061.5 1270.78,-2058 1260.78,-2054.5 1260.78,-2061.5\"/>\n</g>\n<!-- 103 -->\n<g id=\"node104\" class=\"node\">\n<title>103</title>\n<path fill=\"#e88d4c\" stroke=\"black\" d=\"M1657,-2274C1657,-2274 1532,-2274 1532,-2274 1526,-2274 1520,-2268 1520,-2262 1520,-2262 1520,-2218 1520,-2218 1520,-2212 1526,-2206 1532,-2206 1532,-2206 1657,-2206 1657,-2206 1663,-2206 1669,-2212 1669,-2218 1669,-2218 1669,-2262 1669,-2262 1669,-2268 1663,-2274 1657,-2274\"/>\n<text text-anchor=\"middle\" x=\"1594.5\" y=\"-2258.8\" font-family=\"Helvetica,sans-Serif\" font-size=\"14.00\">gini = 0.161</text>\n<text text-anchor=\"middle\" x=\"1594.5\" y=\"-2243.8\" font-family=\"Helvetica,sans-Serif\" font-size=\"14.00\">samples = 68</text>\n<text text-anchor=\"middle\" x=\"1594.5\" y=\"-2228.8\" font-family=\"Helvetica,sans-Serif\" font-size=\"14.00\">value = [62, 6]</text>\n<text text-anchor=\"middle\" x=\"1594.5\" y=\"-2213.8\" font-family=\"Helvetica,sans-Serif\" font-size=\"14.00\">class = no_debit_card</text>\n</g>\n<!-- 102&#45;&gt;103 -->\n<g id=\"edge103\" class=\"edge\">\n<title>102&#45;&gt;103</title>\n<path fill=\"none\" stroke=\"black\" d=\"M1420.26,-2179.36C1436.31,-2185.24 1453.21,-2191.37 1469,-2197 1482.3,-2201.74 1496.43,-2206.69 1510.21,-2211.49\"/>\n<polygon fill=\"black\" stroke=\"black\" points=\"1509.09,-2214.8 1519.68,-2214.77 1511.38,-2208.19 1509.09,-2214.8\"/>\n</g>\n<!-- 104 -->\n<g id=\"node105\" class=\"node\">\n<title>104</title>\n<path fill=\"#fae8db\" stroke=\"black\" d=\"M1657,-2187.5C1657,-2187.5 1532,-2187.5 1532,-2187.5 1526,-2187.5 1520,-2181.5 1520,-2175.5 1520,-2175.5 1520,-2116.5 1520,-2116.5 1520,-2110.5 1526,-2104.5 1532,-2104.5 1532,-2104.5 1657,-2104.5 1657,-2104.5 1663,-2104.5 1669,-2110.5 1669,-2116.5 1669,-2116.5 1669,-2175.5 1669,-2175.5 1669,-2181.5 1663,-2187.5 1657,-2187.5\"/>\n<text text-anchor=\"middle\" x=\"1594.5\" y=\"-2172.3\" font-family=\"Helvetica,sans-Serif\" font-size=\"14.00\">sale_month &lt;= 7.5</text>\n<text text-anchor=\"middle\" x=\"1594.5\" y=\"-2157.3\" font-family=\"Helvetica,sans-Serif\" font-size=\"14.00\">gini = 0.495</text>\n<text text-anchor=\"middle\" x=\"1594.5\" y=\"-2142.3\" font-family=\"Helvetica,sans-Serif\" font-size=\"14.00\">samples = 1449</text>\n<text text-anchor=\"middle\" x=\"1594.5\" y=\"-2127.3\" font-family=\"Helvetica,sans-Serif\" font-size=\"14.00\">value = [797, 652]</text>\n<text text-anchor=\"middle\" x=\"1594.5\" y=\"-2112.3\" font-family=\"Helvetica,sans-Serif\" font-size=\"14.00\">class = no_debit_card</text>\n</g>\n<!-- 102&#45;&gt;104 -->\n<g id=\"edge104\" class=\"edge\">\n<title>102&#45;&gt;104</title>\n<path fill=\"none\" stroke=\"black\" d=\"M1420.27,-2150.21C1448.38,-2149.53 1480.6,-2148.74 1509.58,-2148.04\"/>\n<polygon fill=\"black\" stroke=\"black\" points=\"1509.77,-2151.54 1519.68,-2147.79 1509.6,-2144.54 1509.77,-2151.54\"/>\n</g>\n<!-- 105 -->\n<g id=\"node106\" class=\"node\">\n<title>105</title>\n<path fill=\"#f7d7c0\" stroke=\"black\" d=\"M1920,-2241.5C1920,-2241.5 1795,-2241.5 1795,-2241.5 1789,-2241.5 1783,-2235.5 1783,-2229.5 1783,-2229.5 1783,-2170.5 1783,-2170.5 1783,-2164.5 1789,-2158.5 1795,-2158.5 1795,-2158.5 1920,-2158.5 1920,-2158.5 1926,-2158.5 1932,-2164.5 1932,-2170.5 1932,-2170.5 1932,-2229.5 1932,-2229.5 1932,-2235.5 1926,-2241.5 1920,-2241.5\"/>\n<text text-anchor=\"middle\" x=\"1857.5\" y=\"-2226.3\" font-family=\"Helvetica,sans-Serif\" font-size=\"14.00\">sale_month &lt;= 6.5</text>\n<text text-anchor=\"middle\" x=\"1857.5\" y=\"-2211.3\" font-family=\"Helvetica,sans-Serif\" font-size=\"14.00\">gini = 0.482</text>\n<text text-anchor=\"middle\" x=\"1857.5\" y=\"-2196.3\" font-family=\"Helvetica,sans-Serif\" font-size=\"14.00\">samples = 786</text>\n<text text-anchor=\"middle\" x=\"1857.5\" y=\"-2181.3\" font-family=\"Helvetica,sans-Serif\" font-size=\"14.00\">value = [468, 318]</text>\n<text text-anchor=\"middle\" x=\"1857.5\" y=\"-2166.3\" font-family=\"Helvetica,sans-Serif\" font-size=\"14.00\">class = no_debit_card</text>\n</g>\n<!-- 104&#45;&gt;105 -->\n<g id=\"edge105\" class=\"edge\">\n<title>104&#45;&gt;105</title>\n<path fill=\"none\" stroke=\"black\" d=\"M1669.25,-2161.26C1701.49,-2167.93 1739.47,-2175.79 1772.76,-2182.68\"/>\n<polygon fill=\"black\" stroke=\"black\" points=\"1772.43,-2186.18 1782.94,-2184.78 1773.85,-2179.33 1772.43,-2186.18\"/>\n</g>\n<!-- 112 -->\n<g id=\"node113\" class=\"node\">\n<title>112</title>\n<path fill=\"#fcfeff\" stroke=\"black\" d=\"M1947,-2140.5C1947,-2140.5 1768,-2140.5 1768,-2140.5 1762,-2140.5 1756,-2134.5 1756,-2128.5 1756,-2128.5 1756,-2069.5 1756,-2069.5 1756,-2063.5 1762,-2057.5 1768,-2057.5 1768,-2057.5 1947,-2057.5 1947,-2057.5 1953,-2057.5 1959,-2063.5 1959,-2069.5 1959,-2069.5 1959,-2128.5 1959,-2128.5 1959,-2134.5 1953,-2140.5 1947,-2140.5\"/>\n<text text-anchor=\"middle\" x=\"1857.5\" y=\"-2125.3\" font-family=\"Helvetica,sans-Serif\" font-size=\"14.00\">renta_bruta_media &lt;= 15267.5</text>\n<text text-anchor=\"middle\" x=\"1857.5\" y=\"-2110.3\" font-family=\"Helvetica,sans-Serif\" font-size=\"14.00\">gini = 0.5</text>\n<text text-anchor=\"middle\" x=\"1857.5\" y=\"-2095.3\" font-family=\"Helvetica,sans-Serif\" font-size=\"14.00\">samples = 663</text>\n<text text-anchor=\"middle\" x=\"1857.5\" y=\"-2080.3\" font-family=\"Helvetica,sans-Serif\" font-size=\"14.00\">value = [329, 334]</text>\n<text text-anchor=\"middle\" x=\"1857.5\" y=\"-2065.3\" font-family=\"Helvetica,sans-Serif\" font-size=\"14.00\">class = debit_card</text>\n</g>\n<!-- 104&#45;&gt;112 -->\n<g id=\"edge112\" class=\"edge\">\n<title>104&#45;&gt;112</title>\n<path fill=\"none\" stroke=\"black\" d=\"M1669.25,-2132.72C1693.04,-2128.44 1719.96,-2123.59 1745.81,-2118.93\"/>\n<polygon fill=\"black\" stroke=\"black\" points=\"1746.44,-2122.38 1755.66,-2117.16 1745.2,-2115.49 1746.44,-2122.38\"/>\n</g>\n<!-- 106 -->\n<g id=\"node107\" class=\"node\">\n<title>106</title>\n<path fill=\"#fbede2\" stroke=\"black\" d=\"M2186,-2333.5C2186,-2333.5 2007,-2333.5 2007,-2333.5 2001,-2333.5 1995,-2327.5 1995,-2321.5 1995,-2321.5 1995,-2262.5 1995,-2262.5 1995,-2256.5 2001,-2250.5 2007,-2250.5 2007,-2250.5 2186,-2250.5 2186,-2250.5 2192,-2250.5 2198,-2256.5 2198,-2262.5 2198,-2262.5 2198,-2321.5 2198,-2321.5 2198,-2327.5 2192,-2333.5 2186,-2333.5\"/>\n<text text-anchor=\"middle\" x=\"2096.5\" y=\"-2318.3\" font-family=\"Helvetica,sans-Serif\" font-size=\"14.00\">renta_bruta_media &lt;= 13868.0</text>\n<text text-anchor=\"middle\" x=\"2096.5\" y=\"-2303.3\" font-family=\"Helvetica,sans-Serif\" font-size=\"14.00\">gini = 0.497</text>\n<text text-anchor=\"middle\" x=\"2096.5\" y=\"-2288.3\" font-family=\"Helvetica,sans-Serif\" font-size=\"14.00\">samples = 532</text>\n<text text-anchor=\"middle\" x=\"2096.5\" y=\"-2273.3\" font-family=\"Helvetica,sans-Serif\" font-size=\"14.00\">value = [287, 245]</text>\n<text text-anchor=\"middle\" x=\"2096.5\" y=\"-2258.3\" font-family=\"Helvetica,sans-Serif\" font-size=\"14.00\">class = no_debit_card</text>\n</g>\n<!-- 105&#45;&gt;106 -->\n<g id=\"edge106\" class=\"edge\">\n<title>105&#45;&gt;106</title>\n<path fill=\"none\" stroke=\"black\" d=\"M1932.19,-2228.61C1949.08,-2235.16 1967.4,-2242.27 1985.46,-2249.28\"/>\n<polygon fill=\"black\" stroke=\"black\" points=\"1984.28,-2252.58 1994.87,-2252.94 1986.81,-2246.05 1984.28,-2252.58\"/>\n</g>\n<!-- 111 -->\n<g id=\"node112\" class=\"node\">\n<title>111</title>\n<path fill=\"#efb489\" stroke=\"black\" d=\"M2159,-2232C2159,-2232 2034,-2232 2034,-2232 2028,-2232 2022,-2226 2022,-2220 2022,-2220 2022,-2176 2022,-2176 2022,-2170 2028,-2164 2034,-2164 2034,-2164 2159,-2164 2159,-2164 2165,-2164 2171,-2170 2171,-2176 2171,-2176 2171,-2220 2171,-2220 2171,-2226 2165,-2232 2159,-2232\"/>\n<text text-anchor=\"middle\" x=\"2096.5\" y=\"-2216.8\" font-family=\"Helvetica,sans-Serif\" font-size=\"14.00\">gini = 0.41</text>\n<text text-anchor=\"middle\" x=\"2096.5\" y=\"-2201.8\" font-family=\"Helvetica,sans-Serif\" font-size=\"14.00\">samples = 254</text>\n<text text-anchor=\"middle\" x=\"2096.5\" y=\"-2186.8\" font-family=\"Helvetica,sans-Serif\" font-size=\"14.00\">value = [181, 73]</text>\n<text text-anchor=\"middle\" x=\"2096.5\" y=\"-2171.8\" font-family=\"Helvetica,sans-Serif\" font-size=\"14.00\">class = no_debit_card</text>\n</g>\n<!-- 105&#45;&gt;111 -->\n<g id=\"edge111\" class=\"edge\">\n<title>105&#45;&gt;111</title>\n<path fill=\"none\" stroke=\"black\" d=\"M1932.19,-2199.38C1957.38,-2199.17 1985.74,-2198.93 2011.67,-2198.71\"/>\n<polygon fill=\"black\" stroke=\"black\" points=\"2011.89,-2202.21 2021.86,-2198.62 2011.83,-2195.21 2011.89,-2202.21\"/>\n</g>\n<!-- 107 -->\n<g id=\"node108\" class=\"node\">\n<title>107</title>\n<path fill=\"#78bced\" stroke=\"black\" d=\"M2414.5,-2378C2414.5,-2378 2312.5,-2378 2312.5,-2378 2306.5,-2378 2300.5,-2372 2300.5,-2366 2300.5,-2366 2300.5,-2322 2300.5,-2322 2300.5,-2316 2306.5,-2310 2312.5,-2310 2312.5,-2310 2414.5,-2310 2414.5,-2310 2420.5,-2310 2426.5,-2316 2426.5,-2322 2426.5,-2322 2426.5,-2366 2426.5,-2366 2426.5,-2372 2420.5,-2378 2414.5,-2378\"/>\n<text text-anchor=\"middle\" x=\"2363.5\" y=\"-2362.8\" font-family=\"Helvetica,sans-Serif\" font-size=\"14.00\">gini = 0.365</text>\n<text text-anchor=\"middle\" x=\"2363.5\" y=\"-2347.8\" font-family=\"Helvetica,sans-Serif\" font-size=\"14.00\">samples = 25</text>\n<text text-anchor=\"middle\" x=\"2363.5\" y=\"-2332.8\" font-family=\"Helvetica,sans-Serif\" font-size=\"14.00\">value = [6, 19]</text>\n<text text-anchor=\"middle\" x=\"2363.5\" y=\"-2317.8\" font-family=\"Helvetica,sans-Serif\" font-size=\"14.00\">class = debit_card</text>\n</g>\n<!-- 106&#45;&gt;107 -->\n<g id=\"edge107\" class=\"edge\">\n<title>106&#45;&gt;107</title>\n<path fill=\"none\" stroke=\"black\" d=\"M2198.06,-2311.73C2228.84,-2317.77 2262.07,-2324.29 2290.54,-2329.88\"/>\n<polygon fill=\"black\" stroke=\"black\" points=\"2289.91,-2333.32 2300.4,-2331.81 2291.26,-2326.45 2289.91,-2333.32\"/>\n</g>\n<!-- 108 -->\n<g id=\"node109\" class=\"node\">\n<title>108</title>\n<path fill=\"#fae6d8\" stroke=\"black\" d=\"M2426,-2291.5C2426,-2291.5 2301,-2291.5 2301,-2291.5 2295,-2291.5 2289,-2285.5 2289,-2279.5 2289,-2279.5 2289,-2220.5 2289,-2220.5 2289,-2214.5 2295,-2208.5 2301,-2208.5 2301,-2208.5 2426,-2208.5 2426,-2208.5 2432,-2208.5 2438,-2214.5 2438,-2220.5 2438,-2220.5 2438,-2279.5 2438,-2279.5 2438,-2285.5 2432,-2291.5 2426,-2291.5\"/>\n<text text-anchor=\"middle\" x=\"2363.5\" y=\"-2276.3\" font-family=\"Helvetica,sans-Serif\" font-size=\"14.00\">salary &lt;= 208793.281</text>\n<text text-anchor=\"middle\" x=\"2363.5\" y=\"-2261.3\" font-family=\"Helvetica,sans-Serif\" font-size=\"14.00\">gini = 0.494</text>\n<text text-anchor=\"middle\" x=\"2363.5\" y=\"-2246.3\" font-family=\"Helvetica,sans-Serif\" font-size=\"14.00\">samples = 507</text>\n<text text-anchor=\"middle\" x=\"2363.5\" y=\"-2231.3\" font-family=\"Helvetica,sans-Serif\" font-size=\"14.00\">value = [281, 226]</text>\n<text text-anchor=\"middle\" x=\"2363.5\" y=\"-2216.3\" font-family=\"Helvetica,sans-Serif\" font-size=\"14.00\">class = no_debit_card</text>\n</g>\n<!-- 106&#45;&gt;108 -->\n<g id=\"edge108\" class=\"edge\">\n<title>106&#45;&gt;108</title>\n<path fill=\"none\" stroke=\"black\" d=\"M2198.06,-2276.06C2224.69,-2271.84 2253.15,-2267.33 2278.78,-2263.27\"/>\n<polygon fill=\"black\" stroke=\"black\" points=\"2279.49,-2266.7 2288.82,-2261.68 2278.4,-2259.79 2279.49,-2266.7\"/>\n</g>\n<!-- 109 -->\n<g id=\"node110\" class=\"node\">\n<title>109</title>\n<path fill=\"#fdf6f1\" stroke=\"black\" d=\"M2666,-2362C2666,-2362 2541,-2362 2541,-2362 2535,-2362 2529,-2356 2529,-2350 2529,-2350 2529,-2306 2529,-2306 2529,-2300 2535,-2294 2541,-2294 2541,-2294 2666,-2294 2666,-2294 2672,-2294 2678,-2300 2678,-2306 2678,-2306 2678,-2350 2678,-2350 2678,-2356 2672,-2362 2666,-2362\"/>\n<text text-anchor=\"middle\" x=\"2603.5\" y=\"-2346.8\" font-family=\"Helvetica,sans-Serif\" font-size=\"14.00\">gini = 0.499</text>\n<text text-anchor=\"middle\" x=\"2603.5\" y=\"-2331.8\" font-family=\"Helvetica,sans-Serif\" font-size=\"14.00\">samples = 376</text>\n<text text-anchor=\"middle\" x=\"2603.5\" y=\"-2316.8\" font-family=\"Helvetica,sans-Serif\" font-size=\"14.00\">value = [195, 181]</text>\n<text text-anchor=\"middle\" x=\"2603.5\" y=\"-2301.8\" font-family=\"Helvetica,sans-Serif\" font-size=\"14.00\">class = no_debit_card</text>\n</g>\n<!-- 108&#45;&gt;109 -->\n<g id=\"edge109\" class=\"edge\">\n<title>108&#45;&gt;109</title>\n<path fill=\"none\" stroke=\"black\" d=\"M2438.17,-2274.15C2463.83,-2282.55 2492.79,-2292.04 2519.17,-2300.69\"/>\n<polygon fill=\"black\" stroke=\"black\" points=\"2518.17,-2304.05 2528.76,-2303.83 2520.35,-2297.39 2518.17,-2304.05\"/>\n</g>\n<!-- 110 -->\n<g id=\"node111\" class=\"node\">\n<title>110</title>\n<path fill=\"#f3c3a1\" stroke=\"black\" d=\"M2666,-2276C2666,-2276 2541,-2276 2541,-2276 2535,-2276 2529,-2270 2529,-2264 2529,-2264 2529,-2220 2529,-2220 2529,-2214 2535,-2208 2541,-2208 2541,-2208 2666,-2208 2666,-2208 2672,-2208 2678,-2214 2678,-2220 2678,-2220 2678,-2264 2678,-2264 2678,-2270 2672,-2276 2666,-2276\"/>\n<text text-anchor=\"middle\" x=\"2603.5\" y=\"-2260.8\" font-family=\"Helvetica,sans-Serif\" font-size=\"14.00\">gini = 0.451</text>\n<text text-anchor=\"middle\" x=\"2603.5\" y=\"-2245.8\" font-family=\"Helvetica,sans-Serif\" font-size=\"14.00\">samples = 131</text>\n<text text-anchor=\"middle\" x=\"2603.5\" y=\"-2230.8\" font-family=\"Helvetica,sans-Serif\" font-size=\"14.00\">value = [86, 45]</text>\n<text text-anchor=\"middle\" x=\"2603.5\" y=\"-2215.8\" font-family=\"Helvetica,sans-Serif\" font-size=\"14.00\">class = no_debit_card</text>\n</g>\n<!-- 108&#45;&gt;110 -->\n<g id=\"edge110\" class=\"edge\">\n<title>108&#45;&gt;110</title>\n<path fill=\"none\" stroke=\"black\" d=\"M2438.17,-2247.52C2463.6,-2246.67 2492.28,-2245.7 2518.48,-2244.82\"/>\n<polygon fill=\"black\" stroke=\"black\" points=\"2518.89,-2248.31 2528.76,-2244.48 2518.65,-2241.32 2518.89,-2248.31\"/>\n</g>\n<!-- 113 -->\n<g id=\"node114\" class=\"node\">\n<title>113</title>\n<path fill=\"#fffdfb\" stroke=\"black\" d=\"M2186,-2143.5C2186,-2143.5 2007,-2143.5 2007,-2143.5 2001,-2143.5 1995,-2137.5 1995,-2131.5 1995,-2131.5 1995,-2072.5 1995,-2072.5 1995,-2066.5 2001,-2060.5 2007,-2060.5 2007,-2060.5 2186,-2060.5 2186,-2060.5 2192,-2060.5 2198,-2066.5 2198,-2072.5 2198,-2072.5 2198,-2131.5 2198,-2131.5 2198,-2137.5 2192,-2143.5 2186,-2143.5\"/>\n<text text-anchor=\"middle\" x=\"2096.5\" y=\"-2128.3\" font-family=\"Helvetica,sans-Serif\" font-size=\"14.00\">renta_bruta_media &lt;= 11670.0</text>\n<text text-anchor=\"middle\" x=\"2096.5\" y=\"-2113.3\" font-family=\"Helvetica,sans-Serif\" font-size=\"14.00\">gini = 0.5</text>\n<text text-anchor=\"middle\" x=\"2096.5\" y=\"-2098.3\" font-family=\"Helvetica,sans-Serif\" font-size=\"14.00\">samples = 648</text>\n<text text-anchor=\"middle\" x=\"2096.5\" y=\"-2083.3\" font-family=\"Helvetica,sans-Serif\" font-size=\"14.00\">value = [327, 321]</text>\n<text text-anchor=\"middle\" x=\"2096.5\" y=\"-2068.3\" font-family=\"Helvetica,sans-Serif\" font-size=\"14.00\">class = no_debit_card</text>\n</g>\n<!-- 112&#45;&gt;113 -->\n<g id=\"edge113\" class=\"edge\">\n<title>112&#45;&gt;113</title>\n<path fill=\"none\" stroke=\"black\" d=\"M1959.01,-2100.27C1967.53,-2100.38 1976.18,-2100.49 1984.78,-2100.6\"/>\n<polygon fill=\"black\" stroke=\"black\" points=\"1984.79,-2104.1 1994.83,-2100.73 1984.88,-2097.1 1984.79,-2104.1\"/>\n</g>\n<!-- 118 -->\n<g id=\"node119\" class=\"node\">\n<title>118</title>\n<path fill=\"#57ace9\" stroke=\"black\" d=\"M2147.5,-2042C2147.5,-2042 2045.5,-2042 2045.5,-2042 2039.5,-2042 2033.5,-2036 2033.5,-2030 2033.5,-2030 2033.5,-1986 2033.5,-1986 2033.5,-1980 2039.5,-1974 2045.5,-1974 2045.5,-1974 2147.5,-1974 2147.5,-1974 2153.5,-1974 2159.5,-1980 2159.5,-1986 2159.5,-1986 2159.5,-2030 2159.5,-2030 2159.5,-2036 2153.5,-2042 2147.5,-2042\"/>\n<text text-anchor=\"middle\" x=\"2096.5\" y=\"-2026.8\" font-family=\"Helvetica,sans-Serif\" font-size=\"14.00\">gini = 0.231</text>\n<text text-anchor=\"middle\" x=\"2096.5\" y=\"-2011.8\" font-family=\"Helvetica,sans-Serif\" font-size=\"14.00\">samples = 15</text>\n<text text-anchor=\"middle\" x=\"2096.5\" y=\"-1996.8\" font-family=\"Helvetica,sans-Serif\" font-size=\"14.00\">value = [2, 13]</text>\n<text text-anchor=\"middle\" x=\"2096.5\" y=\"-1981.8\" font-family=\"Helvetica,sans-Serif\" font-size=\"14.00\">class = debit_card</text>\n</g>\n<!-- 112&#45;&gt;118 -->\n<g id=\"edge118\" class=\"edge\">\n<title>112&#45;&gt;118</title>\n<path fill=\"none\" stroke=\"black\" d=\"M1959.01,-2060.41C1980.79,-2052.04 2003.4,-2043.36 2023.81,-2035.53\"/>\n<polygon fill=\"black\" stroke=\"black\" points=\"2025.25,-2038.72 2033.33,-2031.87 2022.74,-2032.19 2025.25,-2038.72\"/>\n</g>\n<!-- 114 -->\n<g id=\"node115\" class=\"node\">\n<title>114</title>\n<path fill=\"#5dafea\" stroke=\"black\" d=\"M2414.5,-2190C2414.5,-2190 2312.5,-2190 2312.5,-2190 2306.5,-2190 2300.5,-2184 2300.5,-2178 2300.5,-2178 2300.5,-2134 2300.5,-2134 2300.5,-2128 2306.5,-2122 2312.5,-2122 2312.5,-2122 2414.5,-2122 2414.5,-2122 2420.5,-2122 2426.5,-2128 2426.5,-2134 2426.5,-2134 2426.5,-2178 2426.5,-2178 2426.5,-2184 2420.5,-2190 2414.5,-2190\"/>\n<text text-anchor=\"middle\" x=\"2363.5\" y=\"-2174.8\" font-family=\"Helvetica,sans-Serif\" font-size=\"14.00\">gini = 0.26</text>\n<text text-anchor=\"middle\" x=\"2363.5\" y=\"-2159.8\" font-family=\"Helvetica,sans-Serif\" font-size=\"14.00\">samples = 13</text>\n<text text-anchor=\"middle\" x=\"2363.5\" y=\"-2144.8\" font-family=\"Helvetica,sans-Serif\" font-size=\"14.00\">value = [2, 11]</text>\n<text text-anchor=\"middle\" x=\"2363.5\" y=\"-2129.8\" font-family=\"Helvetica,sans-Serif\" font-size=\"14.00\">class = debit_card</text>\n</g>\n<!-- 113&#45;&gt;114 -->\n<g id=\"edge114\" class=\"edge\">\n<title>113&#45;&gt;114</title>\n<path fill=\"none\" stroke=\"black\" d=\"M2198.06,-2122.49C2228.84,-2128.76 2262.07,-2135.53 2290.54,-2141.34\"/>\n<polygon fill=\"black\" stroke=\"black\" points=\"2289.9,-2144.78 2300.4,-2143.35 2291.3,-2137.92 2289.9,-2144.78\"/>\n</g>\n<!-- 115 -->\n<g id=\"node116\" class=\"node\">\n<title>115</title>\n<path fill=\"#fef9f6\" stroke=\"black\" d=\"M2442.5,-2103.5C2442.5,-2103.5 2284.5,-2103.5 2284.5,-2103.5 2278.5,-2103.5 2272.5,-2097.5 2272.5,-2091.5 2272.5,-2091.5 2272.5,-2032.5 2272.5,-2032.5 2272.5,-2026.5 2278.5,-2020.5 2284.5,-2020.5 2284.5,-2020.5 2442.5,-2020.5 2442.5,-2020.5 2448.5,-2020.5 2454.5,-2026.5 2454.5,-2032.5 2454.5,-2032.5 2454.5,-2091.5 2454.5,-2091.5 2454.5,-2097.5 2448.5,-2103.5 2442.5,-2103.5\"/>\n<text text-anchor=\"middle\" x=\"2363.5\" y=\"-2088.3\" font-family=\"Helvetica,sans-Serif\" font-size=\"14.00\">entry_channel_KHM &lt;= 0.5</text>\n<text text-anchor=\"middle\" x=\"2363.5\" y=\"-2073.3\" font-family=\"Helvetica,sans-Serif\" font-size=\"14.00\">gini = 0.5</text>\n<text text-anchor=\"middle\" x=\"2363.5\" y=\"-2058.3\" font-family=\"Helvetica,sans-Serif\" font-size=\"14.00\">samples = 635</text>\n<text text-anchor=\"middle\" x=\"2363.5\" y=\"-2043.3\" font-family=\"Helvetica,sans-Serif\" font-size=\"14.00\">value = [325, 310]</text>\n<text text-anchor=\"middle\" x=\"2363.5\" y=\"-2028.3\" font-family=\"Helvetica,sans-Serif\" font-size=\"14.00\">class = no_debit_card</text>\n</g>\n<!-- 113&#45;&gt;115 -->\n<g id=\"edge115\" class=\"edge\">\n<title>113&#45;&gt;115</title>\n<path fill=\"none\" stroke=\"black\" d=\"M2198.06,-2086.82C2219.17,-2083.63 2241.43,-2080.27 2262.52,-2077.09\"/>\n<polygon fill=\"black\" stroke=\"black\" points=\"2263.07,-2080.55 2272.44,-2075.59 2262.03,-2073.63 2263.07,-2080.55\"/>\n</g>\n<!-- 116 -->\n<g id=\"node117\" class=\"node\">\n<title>116</title>\n<path fill=\"#fdf5ef\" stroke=\"black\" d=\"M2666,-2182C2666,-2182 2541,-2182 2541,-2182 2535,-2182 2529,-2176 2529,-2170 2529,-2170 2529,-2126 2529,-2126 2529,-2120 2535,-2114 2541,-2114 2541,-2114 2666,-2114 2666,-2114 2672,-2114 2678,-2120 2678,-2126 2678,-2126 2678,-2170 2678,-2170 2678,-2176 2672,-2182 2666,-2182\"/>\n<text text-anchor=\"middle\" x=\"2603.5\" y=\"-2166.8\" font-family=\"Helvetica,sans-Serif\" font-size=\"14.00\">gini = 0.499</text>\n<text text-anchor=\"middle\" x=\"2603.5\" y=\"-2151.8\" font-family=\"Helvetica,sans-Serif\" font-size=\"14.00\">samples = 614</text>\n<text text-anchor=\"middle\" x=\"2603.5\" y=\"-2136.8\" font-family=\"Helvetica,sans-Serif\" font-size=\"14.00\">value = [320, 294]</text>\n<text text-anchor=\"middle\" x=\"2603.5\" y=\"-2121.8\" font-family=\"Helvetica,sans-Serif\" font-size=\"14.00\">class = no_debit_card</text>\n</g>\n<!-- 115&#45;&gt;116 -->\n<g id=\"edge116\" class=\"edge\">\n<title>115&#45;&gt;116</title>\n<path fill=\"none\" stroke=\"black\" d=\"M2454.82,-2094.64C2476.03,-2102.3 2498.53,-2110.43 2519.41,-2117.98\"/>\n<polygon fill=\"black\" stroke=\"black\" points=\"2518.28,-2121.29 2528.87,-2121.4 2520.66,-2114.71 2518.28,-2121.29\"/>\n</g>\n<!-- 117 -->\n<g id=\"node118\" class=\"node\">\n<title>117</title>\n<path fill=\"#77bced\" stroke=\"black\" d=\"M2654.5,-2096C2654.5,-2096 2552.5,-2096 2552.5,-2096 2546.5,-2096 2540.5,-2090 2540.5,-2084 2540.5,-2084 2540.5,-2040 2540.5,-2040 2540.5,-2034 2546.5,-2028 2552.5,-2028 2552.5,-2028 2654.5,-2028 2654.5,-2028 2660.5,-2028 2666.5,-2034 2666.5,-2040 2666.5,-2040 2666.5,-2084 2666.5,-2084 2666.5,-2090 2660.5,-2096 2654.5,-2096\"/>\n<text text-anchor=\"middle\" x=\"2603.5\" y=\"-2080.8\" font-family=\"Helvetica,sans-Serif\" font-size=\"14.00\">gini = 0.363</text>\n<text text-anchor=\"middle\" x=\"2603.5\" y=\"-2065.8\" font-family=\"Helvetica,sans-Serif\" font-size=\"14.00\">samples = 21</text>\n<text text-anchor=\"middle\" x=\"2603.5\" y=\"-2050.8\" font-family=\"Helvetica,sans-Serif\" font-size=\"14.00\">value = [5, 16]</text>\n<text text-anchor=\"middle\" x=\"2603.5\" y=\"-2035.8\" font-family=\"Helvetica,sans-Serif\" font-size=\"14.00\">class = debit_card</text>\n</g>\n<!-- 115&#45;&gt;117 -->\n<g id=\"edge117\" class=\"edge\">\n<title>115&#45;&gt;117</title>\n<path fill=\"none\" stroke=\"black\" d=\"M2454.82,-2062C2479.67,-2062 2506.31,-2062 2530.02,-2062\"/>\n<polygon fill=\"black\" stroke=\"black\" points=\"2530.33,-2065.5 2540.33,-2062 2530.33,-2058.5 2530.33,-2065.5\"/>\n</g>\n<!-- 122 -->\n<g id=\"node123\" class=\"node\">\n<title>122</title>\n<path fill=\"#fefbf9\" stroke=\"black\" d=\"M986.5,-1794.5C986.5,-1794.5 856.5,-1794.5 856.5,-1794.5 850.5,-1794.5 844.5,-1788.5 844.5,-1782.5 844.5,-1782.5 844.5,-1723.5 844.5,-1723.5 844.5,-1717.5 850.5,-1711.5 856.5,-1711.5 856.5,-1711.5 986.5,-1711.5 986.5,-1711.5 992.5,-1711.5 998.5,-1717.5 998.5,-1723.5 998.5,-1723.5 998.5,-1782.5 998.5,-1782.5 998.5,-1788.5 992.5,-1794.5 986.5,-1794.5\"/>\n<text text-anchor=\"middle\" x=\"921.5\" y=\"-1779.3\" font-family=\"Helvetica,sans-Serif\" font-size=\"14.00\">payroll_account &lt;= 0.5</text>\n<text text-anchor=\"middle\" x=\"921.5\" y=\"-1764.3\" font-family=\"Helvetica,sans-Serif\" font-size=\"14.00\">gini = 0.5</text>\n<text text-anchor=\"middle\" x=\"921.5\" y=\"-1749.3\" font-family=\"Helvetica,sans-Serif\" font-size=\"14.00\">samples = 11243</text>\n<text text-anchor=\"middle\" x=\"921.5\" y=\"-1734.3\" font-family=\"Helvetica,sans-Serif\" font-size=\"14.00\">value = [5709, 5534]</text>\n<text text-anchor=\"middle\" x=\"921.5\" y=\"-1719.3\" font-family=\"Helvetica,sans-Serif\" font-size=\"14.00\">class = no_debit_card</text>\n</g>\n<!-- 121&#45;&gt;122 -->\n<g id=\"edge122\" class=\"edge\">\n<title>121&#45;&gt;122</title>\n<path fill=\"none\" stroke=\"black\" d=\"M779.52,-1753C797.04,-1753 815.89,-1753 833.94,-1753\"/>\n<polygon fill=\"black\" stroke=\"black\" points=\"834.16,-1756.5 844.16,-1753 834.16,-1749.5 834.16,-1756.5\"/>\n</g>\n<!-- 155 -->\n<g id=\"node156\" class=\"node\">\n<title>155</title>\n<path fill=\"#f6d5bc\" stroke=\"black\" d=\"M999,-1156.5C999,-1156.5 844,-1156.5 844,-1156.5 838,-1156.5 832,-1150.5 832,-1144.5 832,-1144.5 832,-1085.5 832,-1085.5 832,-1079.5 838,-1073.5 844,-1073.5 844,-1073.5 999,-1073.5 999,-1073.5 1005,-1073.5 1011,-1079.5 1011,-1085.5 1011,-1085.5 1011,-1144.5 1011,-1144.5 1011,-1150.5 1005,-1156.5 999,-1156.5\"/>\n<text text-anchor=\"middle\" x=\"921.5\" y=\"-1141.3\" font-family=\"Helvetica,sans-Serif\" font-size=\"14.00\">entry_channel_KHE &lt;= 0.5</text>\n<text text-anchor=\"middle\" x=\"921.5\" y=\"-1126.3\" font-family=\"Helvetica,sans-Serif\" font-size=\"14.00\">gini = 0.48</text>\n<text text-anchor=\"middle\" x=\"921.5\" y=\"-1111.3\" font-family=\"Helvetica,sans-Serif\" font-size=\"14.00\">samples = 10768</text>\n<text text-anchor=\"middle\" x=\"921.5\" y=\"-1096.3\" font-family=\"Helvetica,sans-Serif\" font-size=\"14.00\">value = [6472, 4296]</text>\n<text text-anchor=\"middle\" x=\"921.5\" y=\"-1081.3\" font-family=\"Helvetica,sans-Serif\" font-size=\"14.00\">class = no_debit_card</text>\n</g>\n<!-- 121&#45;&gt;155 -->\n<g id=\"edge155\" class=\"edge\">\n<title>121&#45;&gt;155</title>\n<path fill=\"none\" stroke=\"black\" d=\"M720.07,-1711.14C757.96,-1598.45 862.02,-1288.93 903.3,-1166.16\"/>\n<polygon fill=\"black\" stroke=\"black\" points=\"906.64,-1167.19 906.51,-1156.6 900.01,-1164.96 906.64,-1167.19\"/>\n</g>\n<!-- 123 -->\n<g id=\"node124\" class=\"node\">\n<title>123</title>\n<path fill=\"#fcf0e8\" stroke=\"black\" d=\"M1197,-1904.5C1197,-1904.5 1072,-1904.5 1072,-1904.5 1066,-1904.5 1060,-1898.5 1060,-1892.5 1060,-1892.5 1060,-1833.5 1060,-1833.5 1060,-1827.5 1066,-1821.5 1072,-1821.5 1072,-1821.5 1197,-1821.5 1197,-1821.5 1203,-1821.5 1209,-1827.5 1209,-1833.5 1209,-1833.5 1209,-1892.5 1209,-1892.5 1209,-1898.5 1203,-1904.5 1197,-1904.5\"/>\n<text text-anchor=\"middle\" x=\"1134.5\" y=\"-1889.3\" font-family=\"Helvetica,sans-Serif\" font-size=\"14.00\">em_acount &lt;= 0.5</text>\n<text text-anchor=\"middle\" x=\"1134.5\" y=\"-1874.3\" font-family=\"Helvetica,sans-Serif\" font-size=\"14.00\">gini = 0.498</text>\n<text text-anchor=\"middle\" x=\"1134.5\" y=\"-1859.3\" font-family=\"Helvetica,sans-Serif\" font-size=\"14.00\">samples = 9456</text>\n<text text-anchor=\"middle\" x=\"1134.5\" y=\"-1844.3\" font-family=\"Helvetica,sans-Serif\" font-size=\"14.00\">value = [5023, 4433]</text>\n<text text-anchor=\"middle\" x=\"1134.5\" y=\"-1829.3\" font-family=\"Helvetica,sans-Serif\" font-size=\"14.00\">class = no_debit_card</text>\n</g>\n<!-- 122&#45;&gt;123 -->\n<g id=\"edge123\" class=\"edge\">\n<title>122&#45;&gt;123</title>\n<path fill=\"none\" stroke=\"black\" d=\"M998.68,-1792.71C1015.66,-1801.57 1033.75,-1811 1050.98,-1819.98\"/>\n<polygon fill=\"black\" stroke=\"black\" points=\"1049.42,-1823.11 1059.91,-1824.63 1052.66,-1816.91 1049.42,-1823.11\"/>\n</g>\n<!-- 144 -->\n<g id=\"node145\" class=\"node\">\n<title>144</title>\n<path fill=\"#b4daf5\" stroke=\"black\" d=\"M1188.5,-1683.5C1188.5,-1683.5 1080.5,-1683.5 1080.5,-1683.5 1074.5,-1683.5 1068.5,-1677.5 1068.5,-1671.5 1068.5,-1671.5 1068.5,-1612.5 1068.5,-1612.5 1068.5,-1606.5 1074.5,-1600.5 1080.5,-1600.5 1080.5,-1600.5 1188.5,-1600.5 1188.5,-1600.5 1194.5,-1600.5 1200.5,-1606.5 1200.5,-1612.5 1200.5,-1612.5 1200.5,-1671.5 1200.5,-1671.5 1200.5,-1677.5 1194.5,-1683.5 1188.5,-1683.5\"/>\n<text text-anchor=\"middle\" x=\"1134.5\" y=\"-1668.3\" font-family=\"Helvetica,sans-Serif\" font-size=\"14.00\">payroll &lt;= 0.5</text>\n<text text-anchor=\"middle\" x=\"1134.5\" y=\"-1653.3\" font-family=\"Helvetica,sans-Serif\" font-size=\"14.00\">gini = 0.473</text>\n<text text-anchor=\"middle\" x=\"1134.5\" y=\"-1638.3\" font-family=\"Helvetica,sans-Serif\" font-size=\"14.00\">samples = 1787</text>\n<text text-anchor=\"middle\" x=\"1134.5\" y=\"-1623.3\" font-family=\"Helvetica,sans-Serif\" font-size=\"14.00\">value = [686, 1101]</text>\n<text text-anchor=\"middle\" x=\"1134.5\" y=\"-1608.3\" font-family=\"Helvetica,sans-Serif\" font-size=\"14.00\">class = debit_card</text>\n</g>\n<!-- 122&#45;&gt;144 -->\n<g id=\"edge144\" class=\"edge\">\n<title>122&#45;&gt;144</title>\n<path fill=\"none\" stroke=\"black\" d=\"M998.68,-1712.93C1018.43,-1702.53 1039.68,-1691.36 1059.33,-1681.02\"/>\n<polygon fill=\"black\" stroke=\"black\" points=\"1061.02,-1684.09 1068.24,-1676.33 1057.76,-1677.89 1061.02,-1684.09\"/>\n</g>\n<!-- 124 -->\n<g id=\"node125\" class=\"node\">\n<title>124</title>\n<path fill=\"#ea995f\" stroke=\"black\" d=\"M1408,-2005.5C1408,-2005.5 1283,-2005.5 1283,-2005.5 1277,-2005.5 1271,-1999.5 1271,-1993.5 1271,-1993.5 1271,-1934.5 1271,-1934.5 1271,-1928.5 1277,-1922.5 1283,-1922.5 1283,-1922.5 1408,-1922.5 1408,-1922.5 1414,-1922.5 1420,-1928.5 1420,-1934.5 1420,-1934.5 1420,-1993.5 1420,-1993.5 1420,-1999.5 1414,-2005.5 1408,-2005.5\"/>\n<text text-anchor=\"middle\" x=\"1345.5\" y=\"-1990.3\" font-family=\"Helvetica,sans-Serif\" font-size=\"14.00\">emc_account &lt;= 0.5</text>\n<text text-anchor=\"middle\" x=\"1345.5\" y=\"-1975.3\" font-family=\"Helvetica,sans-Serif\" font-size=\"14.00\">gini = 0.269</text>\n<text text-anchor=\"middle\" x=\"1345.5\" y=\"-1960.3\" font-family=\"Helvetica,sans-Serif\" font-size=\"14.00\">samples = 638</text>\n<text text-anchor=\"middle\" x=\"1345.5\" y=\"-1945.3\" font-family=\"Helvetica,sans-Serif\" font-size=\"14.00\">value = [536, 102]</text>\n<text text-anchor=\"middle\" x=\"1345.5\" y=\"-1930.3\" font-family=\"Helvetica,sans-Serif\" font-size=\"14.00\">class = no_debit_card</text>\n</g>\n<!-- 123&#45;&gt;124 -->\n<g id=\"edge124\" class=\"edge\">\n<title>123&#45;&gt;124</title>\n<path fill=\"none\" stroke=\"black\" d=\"M1209.19,-1898.61C1226.04,-1906.76 1244.08,-1915.47 1261.3,-1923.79\"/>\n<polygon fill=\"black\" stroke=\"black\" points=\"1260.25,-1927.17 1270.78,-1928.37 1263.29,-1920.87 1260.25,-1927.17\"/>\n</g>\n<!-- 127 -->\n<g id=\"node128\" class=\"node\">\n<title>127</title>\n<path fill=\"#fefbf8\" stroke=\"black\" d=\"M1408,-1904.5C1408,-1904.5 1283,-1904.5 1283,-1904.5 1277,-1904.5 1271,-1898.5 1271,-1892.5 1271,-1892.5 1271,-1833.5 1271,-1833.5 1271,-1827.5 1277,-1821.5 1283,-1821.5 1283,-1821.5 1408,-1821.5 1408,-1821.5 1414,-1821.5 1420,-1827.5 1420,-1833.5 1420,-1833.5 1420,-1892.5 1420,-1892.5 1420,-1898.5 1414,-1904.5 1408,-1904.5\"/>\n<text text-anchor=\"middle\" x=\"1345.5\" y=\"-1889.3\" font-family=\"Helvetica,sans-Serif\" font-size=\"14.00\">payroll &lt;= 0.5</text>\n<text text-anchor=\"middle\" x=\"1345.5\" y=\"-1874.3\" font-family=\"Helvetica,sans-Serif\" font-size=\"14.00\">gini = 0.5</text>\n<text text-anchor=\"middle\" x=\"1345.5\" y=\"-1859.3\" font-family=\"Helvetica,sans-Serif\" font-size=\"14.00\">samples = 8818</text>\n<text text-anchor=\"middle\" x=\"1345.5\" y=\"-1844.3\" font-family=\"Helvetica,sans-Serif\" font-size=\"14.00\">value = [4487, 4331]</text>\n<text text-anchor=\"middle\" x=\"1345.5\" y=\"-1829.3\" font-family=\"Helvetica,sans-Serif\" font-size=\"14.00\">class = no_debit_card</text>\n</g>\n<!-- 123&#45;&gt;127 -->\n<g id=\"edge127\" class=\"edge\">\n<title>123&#45;&gt;127</title>\n<path fill=\"none\" stroke=\"black\" d=\"M1209.19,-1863C1225.73,-1863 1243.41,-1863 1260.34,-1863\"/>\n<polygon fill=\"black\" stroke=\"black\" points=\"1260.78,-1866.5 1270.78,-1863 1260.78,-1859.5 1260.78,-1866.5\"/>\n</g>\n<!-- 125 -->\n<g id=\"node126\" class=\"node\">\n<title>125</title>\n<path fill=\"#e99355\" stroke=\"black\" d=\"M1657,-2084C1657,-2084 1532,-2084 1532,-2084 1526,-2084 1520,-2078 1520,-2072 1520,-2072 1520,-2028 1520,-2028 1520,-2022 1526,-2016 1532,-2016 1532,-2016 1657,-2016 1657,-2016 1663,-2016 1669,-2022 1669,-2028 1669,-2028 1669,-2072 1669,-2072 1669,-2078 1663,-2084 1657,-2084\"/>\n<text text-anchor=\"middle\" x=\"1594.5\" y=\"-2068.8\" font-family=\"Helvetica,sans-Serif\" font-size=\"14.00\">gini = 0.218</text>\n<text text-anchor=\"middle\" x=\"1594.5\" y=\"-2053.8\" font-family=\"Helvetica,sans-Serif\" font-size=\"14.00\">samples = 499</text>\n<text text-anchor=\"middle\" x=\"1594.5\" y=\"-2038.8\" font-family=\"Helvetica,sans-Serif\" font-size=\"14.00\">value = [437, 62]</text>\n<text text-anchor=\"middle\" x=\"1594.5\" y=\"-2023.8\" font-family=\"Helvetica,sans-Serif\" font-size=\"14.00\">class = no_debit_card</text>\n</g>\n<!-- 124&#45;&gt;125 -->\n<g id=\"edge125\" class=\"edge\">\n<title>124&#45;&gt;125</title>\n<path fill=\"none\" stroke=\"black\" d=\"M1420,-1989.87C1436.14,-1995.53 1453.14,-2001.48 1469,-2007 1482.34,-2011.64 1496.48,-2016.55 1510.27,-2021.32\"/>\n<polygon fill=\"black\" stroke=\"black\" points=\"1509.15,-2024.64 1519.75,-2024.6 1511.44,-2018.02 1509.15,-2024.64\"/>\n</g>\n<!-- 126 -->\n<g id=\"node127\" class=\"node\">\n<title>126</title>\n<path fill=\"#f0b489\" stroke=\"black\" d=\"M1657,-1998C1657,-1998 1532,-1998 1532,-1998 1526,-1998 1520,-1992 1520,-1986 1520,-1986 1520,-1942 1520,-1942 1520,-1936 1526,-1930 1532,-1930 1532,-1930 1657,-1930 1657,-1930 1663,-1930 1669,-1936 1669,-1942 1669,-1942 1669,-1986 1669,-1986 1669,-1992 1663,-1998 1657,-1998\"/>\n<text text-anchor=\"middle\" x=\"1594.5\" y=\"-1982.8\" font-family=\"Helvetica,sans-Serif\" font-size=\"14.00\">gini = 0.41</text>\n<text text-anchor=\"middle\" x=\"1594.5\" y=\"-1967.8\" font-family=\"Helvetica,sans-Serif\" font-size=\"14.00\">samples = 139</text>\n<text text-anchor=\"middle\" x=\"1594.5\" y=\"-1952.8\" font-family=\"Helvetica,sans-Serif\" font-size=\"14.00\">value = [99, 40]</text>\n<text text-anchor=\"middle\" x=\"1594.5\" y=\"-1937.8\" font-family=\"Helvetica,sans-Serif\" font-size=\"14.00\">class = no_debit_card</text>\n</g>\n<!-- 124&#45;&gt;126 -->\n<g id=\"edge126\" class=\"edge\">\n<title>124&#45;&gt;126</title>\n<path fill=\"none\" stroke=\"black\" d=\"M1420.27,-1964C1448.38,-1964 1480.6,-1964 1509.58,-1964\"/>\n<polygon fill=\"black\" stroke=\"black\" points=\"1509.68,-1967.5 1519.68,-1964 1509.68,-1960.5 1509.68,-1967.5\"/>\n</g>\n<!-- 128 -->\n<g id=\"node129\" class=\"node\">\n<title>128</title>\n<path fill=\"#f8fcfe\" stroke=\"black\" d=\"M1670.5,-1911.5C1670.5,-1911.5 1518.5,-1911.5 1518.5,-1911.5 1512.5,-1911.5 1506.5,-1905.5 1506.5,-1899.5 1506.5,-1899.5 1506.5,-1840.5 1506.5,-1840.5 1506.5,-1834.5 1512.5,-1828.5 1518.5,-1828.5 1518.5,-1828.5 1670.5,-1828.5 1670.5,-1828.5 1676.5,-1828.5 1682.5,-1834.5 1682.5,-1840.5 1682.5,-1840.5 1682.5,-1899.5 1682.5,-1899.5 1682.5,-1905.5 1676.5,-1911.5 1670.5,-1911.5\"/>\n<text text-anchor=\"middle\" x=\"1594.5\" y=\"-1896.3\" font-family=\"Helvetica,sans-Serif\" font-size=\"14.00\">short_term_deposit &lt;= 0.5</text>\n<text text-anchor=\"middle\" x=\"1594.5\" y=\"-1881.3\" font-family=\"Helvetica,sans-Serif\" font-size=\"14.00\">gini = 0.5</text>\n<text text-anchor=\"middle\" x=\"1594.5\" y=\"-1866.3\" font-family=\"Helvetica,sans-Serif\" font-size=\"14.00\">samples = 8342</text>\n<text text-anchor=\"middle\" x=\"1594.5\" y=\"-1851.3\" font-family=\"Helvetica,sans-Serif\" font-size=\"14.00\">value = [4101, 4241]</text>\n<text text-anchor=\"middle\" x=\"1594.5\" y=\"-1836.3\" font-family=\"Helvetica,sans-Serif\" font-size=\"14.00\">class = debit_card</text>\n</g>\n<!-- 127&#45;&gt;128 -->\n<g id=\"edge128\" class=\"edge\">\n<title>127&#45;&gt;128</title>\n<path fill=\"none\" stroke=\"black\" d=\"M1420.27,-1865.09C1444.01,-1865.76 1470.69,-1866.52 1495.87,-1867.23\"/>\n<polygon fill=\"black\" stroke=\"black\" points=\"1496.09,-1870.74 1506.18,-1867.53 1496.29,-1863.74 1496.09,-1870.74\"/>\n</g>\n<!-- 143 -->\n<g id=\"node144\" class=\"node\">\n<title>143</title>\n<path fill=\"#eb9e67\" stroke=\"black\" d=\"M1657,-1810C1657,-1810 1532,-1810 1532,-1810 1526,-1810 1520,-1804 1520,-1798 1520,-1798 1520,-1754 1520,-1754 1520,-1748 1526,-1742 1532,-1742 1532,-1742 1657,-1742 1657,-1742 1663,-1742 1669,-1748 1669,-1754 1669,-1754 1669,-1798 1669,-1798 1669,-1804 1663,-1810 1657,-1810\"/>\n<text text-anchor=\"middle\" x=\"1594.5\" y=\"-1794.8\" font-family=\"Helvetica,sans-Serif\" font-size=\"14.00\">gini = 0.307</text>\n<text text-anchor=\"middle\" x=\"1594.5\" y=\"-1779.8\" font-family=\"Helvetica,sans-Serif\" font-size=\"14.00\">samples = 476</text>\n<text text-anchor=\"middle\" x=\"1594.5\" y=\"-1764.8\" font-family=\"Helvetica,sans-Serif\" font-size=\"14.00\">value = [386, 90]</text>\n<text text-anchor=\"middle\" x=\"1594.5\" y=\"-1749.8\" font-family=\"Helvetica,sans-Serif\" font-size=\"14.00\">class = no_debit_card</text>\n</g>\n<!-- 127&#45;&gt;143 -->\n<g id=\"edge143\" class=\"edge\">\n<title>127&#45;&gt;143</title>\n<path fill=\"none\" stroke=\"black\" d=\"M1420.27,-1837.01C1448.5,-1827.07 1480.88,-1815.67 1509.96,-1805.43\"/>\n<polygon fill=\"black\" stroke=\"black\" points=\"1511.41,-1808.62 1519.68,-1802 1509.09,-1802.02 1511.41,-1808.62\"/>\n</g>\n<!-- 129 -->\n<g id=\"node130\" class=\"node\">\n<title>129</title>\n<path fill=\"#f6fafe\" stroke=\"black\" d=\"M1915.5,-1915.5C1915.5,-1915.5 1799.5,-1915.5 1799.5,-1915.5 1793.5,-1915.5 1787.5,-1909.5 1787.5,-1903.5 1787.5,-1903.5 1787.5,-1844.5 1787.5,-1844.5 1787.5,-1838.5 1793.5,-1832.5 1799.5,-1832.5 1799.5,-1832.5 1915.5,-1832.5 1915.5,-1832.5 1921.5,-1832.5 1927.5,-1838.5 1927.5,-1844.5 1927.5,-1844.5 1927.5,-1903.5 1927.5,-1903.5 1927.5,-1909.5 1921.5,-1915.5 1915.5,-1915.5\"/>\n<text text-anchor=\"middle\" x=\"1857.5\" y=\"-1900.3\" font-family=\"Helvetica,sans-Serif\" font-size=\"14.00\">antiguedad &lt;= 14.5</text>\n<text text-anchor=\"middle\" x=\"1857.5\" y=\"-1885.3\" font-family=\"Helvetica,sans-Serif\" font-size=\"14.00\">gini = 0.5</text>\n<text text-anchor=\"middle\" x=\"1857.5\" y=\"-1870.3\" font-family=\"Helvetica,sans-Serif\" font-size=\"14.00\">samples = 8218</text>\n<text text-anchor=\"middle\" x=\"1857.5\" y=\"-1855.3\" font-family=\"Helvetica,sans-Serif\" font-size=\"14.00\">value = [4011, 4207]</text>\n<text text-anchor=\"middle\" x=\"1857.5\" y=\"-1840.3\" font-family=\"Helvetica,sans-Serif\" font-size=\"14.00\">class = debit_card</text>\n</g>\n<!-- 128&#45;&gt;129 -->\n<g id=\"edge129\" class=\"edge\">\n<title>128&#45;&gt;129</title>\n<path fill=\"none\" stroke=\"black\" d=\"M1682.77,-1871.34C1713.26,-1871.8 1747.3,-1872.33 1777.11,-1872.78\"/>\n<polygon fill=\"black\" stroke=\"black\" points=\"1777.42,-1876.29 1787.47,-1872.94 1777.52,-1869.29 1777.42,-1876.29\"/>\n</g>\n<!-- 142 -->\n<g id=\"node143\" class=\"node\">\n<title>142</title>\n<path fill=\"#efb184\" stroke=\"black\" d=\"M1920,-1814C1920,-1814 1795,-1814 1795,-1814 1789,-1814 1783,-1808 1783,-1802 1783,-1802 1783,-1758 1783,-1758 1783,-1752 1789,-1746 1795,-1746 1795,-1746 1920,-1746 1920,-1746 1926,-1746 1932,-1752 1932,-1758 1932,-1758 1932,-1802 1932,-1802 1932,-1808 1926,-1814 1920,-1814\"/>\n<text text-anchor=\"middle\" x=\"1857.5\" y=\"-1798.8\" font-family=\"Helvetica,sans-Serif\" font-size=\"14.00\">gini = 0.398</text>\n<text text-anchor=\"middle\" x=\"1857.5\" y=\"-1783.8\" font-family=\"Helvetica,sans-Serif\" font-size=\"14.00\">samples = 124</text>\n<text text-anchor=\"middle\" x=\"1857.5\" y=\"-1768.8\" font-family=\"Helvetica,sans-Serif\" font-size=\"14.00\">value = [90, 34]</text>\n<text text-anchor=\"middle\" x=\"1857.5\" y=\"-1753.8\" font-family=\"Helvetica,sans-Serif\" font-size=\"14.00\">class = no_debit_card</text>\n</g>\n<!-- 128&#45;&gt;142 -->\n<g id=\"edge142\" class=\"edge\">\n<title>128&#45;&gt;142</title>\n<path fill=\"none\" stroke=\"black\" d=\"M1682.77,-1839.91C1711.93,-1829.85 1744.33,-1818.68 1773.18,-1808.73\"/>\n<polygon fill=\"black\" stroke=\"black\" points=\"1774.51,-1811.98 1782.82,-1805.41 1772.23,-1805.36 1774.51,-1811.98\"/>\n</g>\n<!-- 130 -->\n<g id=\"node131\" class=\"node\">\n<title>130</title>\n<path fill=\"#e1f0fb\" stroke=\"black\" d=\"M2154.5,-1918.5C2154.5,-1918.5 2038.5,-1918.5 2038.5,-1918.5 2032.5,-1918.5 2026.5,-1912.5 2026.5,-1906.5 2026.5,-1906.5 2026.5,-1847.5 2026.5,-1847.5 2026.5,-1841.5 2032.5,-1835.5 2038.5,-1835.5 2038.5,-1835.5 2154.5,-1835.5 2154.5,-1835.5 2160.5,-1835.5 2166.5,-1841.5 2166.5,-1847.5 2166.5,-1847.5 2166.5,-1906.5 2166.5,-1906.5 2166.5,-1912.5 2160.5,-1918.5 2154.5,-1918.5\"/>\n<text text-anchor=\"middle\" x=\"2096.5\" y=\"-1903.3\" font-family=\"Helvetica,sans-Serif\" font-size=\"14.00\">sale_month &lt;= 10.5</text>\n<text text-anchor=\"middle\" x=\"2096.5\" y=\"-1888.3\" font-family=\"Helvetica,sans-Serif\" font-size=\"14.00\">gini = 0.497</text>\n<text text-anchor=\"middle\" x=\"2096.5\" y=\"-1873.3\" font-family=\"Helvetica,sans-Serif\" font-size=\"14.00\">samples = 3876</text>\n<text text-anchor=\"middle\" x=\"2096.5\" y=\"-1858.3\" font-family=\"Helvetica,sans-Serif\" font-size=\"14.00\">value = [1778, 2098]</text>\n<text text-anchor=\"middle\" x=\"2096.5\" y=\"-1843.3\" font-family=\"Helvetica,sans-Serif\" font-size=\"14.00\">class = debit_card</text>\n</g>\n<!-- 129&#45;&gt;130 -->\n<g id=\"edge130\" class=\"edge\">\n<title>129&#45;&gt;130</title>\n<path fill=\"none\" stroke=\"black\" d=\"M1927.69,-1874.88C1955.31,-1875.23 1987.28,-1875.63 2015.86,-1875.99\"/>\n<polygon fill=\"black\" stroke=\"black\" points=\"2016.18,-1879.5 2026.23,-1876.12 2016.27,-1872.5 2016.18,-1879.5\"/>\n</g>\n<!-- 135 -->\n<g id=\"node136\" class=\"node\">\n<title>135</title>\n<path fill=\"#fef8f4\" stroke=\"black\" d=\"M2159,-1817.5C2159,-1817.5 2034,-1817.5 2034,-1817.5 2028,-1817.5 2022,-1811.5 2022,-1805.5 2022,-1805.5 2022,-1746.5 2022,-1746.5 2022,-1740.5 2028,-1734.5 2034,-1734.5 2034,-1734.5 2159,-1734.5 2159,-1734.5 2165,-1734.5 2171,-1740.5 2171,-1746.5 2171,-1746.5 2171,-1805.5 2171,-1805.5 2171,-1811.5 2165,-1817.5 2159,-1817.5\"/>\n<text text-anchor=\"middle\" x=\"2096.5\" y=\"-1802.3\" font-family=\"Helvetica,sans-Serif\" font-size=\"14.00\">age &lt;= 30.5</text>\n<text text-anchor=\"middle\" x=\"2096.5\" y=\"-1787.3\" font-family=\"Helvetica,sans-Serif\" font-size=\"14.00\">gini = 0.5</text>\n<text text-anchor=\"middle\" x=\"2096.5\" y=\"-1772.3\" font-family=\"Helvetica,sans-Serif\" font-size=\"14.00\">samples = 4342</text>\n<text text-anchor=\"middle\" x=\"2096.5\" y=\"-1757.3\" font-family=\"Helvetica,sans-Serif\" font-size=\"14.00\">value = [2233, 2109]</text>\n<text text-anchor=\"middle\" x=\"2096.5\" y=\"-1742.3\" font-family=\"Helvetica,sans-Serif\" font-size=\"14.00\">class = no_debit_card</text>\n</g>\n<!-- 129&#45;&gt;135 -->\n<g id=\"edge135\" class=\"edge\">\n<title>129&#45;&gt;135</title>\n<path fill=\"none\" stroke=\"black\" d=\"M1927.69,-1845.39C1954.2,-1834.43 1984.73,-1821.81 2012.41,-1810.36\"/>\n<polygon fill=\"black\" stroke=\"black\" points=\"2013.78,-1813.58 2021.68,-1806.53 2011.1,-1807.11 2013.78,-1813.58\"/>\n</g>\n<!-- 131 -->\n<g id=\"node132\" class=\"node\">\n<title>131</title>\n<path fill=\"#daedfa\" stroke=\"black\" d=\"M2421.5,-2002.5C2421.5,-2002.5 2305.5,-2002.5 2305.5,-2002.5 2299.5,-2002.5 2293.5,-1996.5 2293.5,-1990.5 2293.5,-1990.5 2293.5,-1931.5 2293.5,-1931.5 2293.5,-1925.5 2299.5,-1919.5 2305.5,-1919.5 2305.5,-1919.5 2421.5,-1919.5 2421.5,-1919.5 2427.5,-1919.5 2433.5,-1925.5 2433.5,-1931.5 2433.5,-1931.5 2433.5,-1990.5 2433.5,-1990.5 2433.5,-1996.5 2427.5,-2002.5 2421.5,-2002.5\"/>\n<text text-anchor=\"middle\" x=\"2363.5\" y=\"-1987.3\" font-family=\"Helvetica,sans-Serif\" font-size=\"14.00\">age &lt;= 73.5</text>\n<text text-anchor=\"middle\" x=\"2363.5\" y=\"-1972.3\" font-family=\"Helvetica,sans-Serif\" font-size=\"14.00\">gini = 0.495</text>\n<text text-anchor=\"middle\" x=\"2363.5\" y=\"-1957.3\" font-family=\"Helvetica,sans-Serif\" font-size=\"14.00\">samples = 3430</text>\n<text text-anchor=\"middle\" x=\"2363.5\" y=\"-1942.3\" font-family=\"Helvetica,sans-Serif\" font-size=\"14.00\">value = [1538, 1892]</text>\n<text text-anchor=\"middle\" x=\"2363.5\" y=\"-1927.3\" font-family=\"Helvetica,sans-Serif\" font-size=\"14.00\">class = debit_card</text>\n</g>\n<!-- 130&#45;&gt;131 -->\n<g id=\"edge131\" class=\"edge\">\n<title>130&#45;&gt;131</title>\n<path fill=\"none\" stroke=\"black\" d=\"M2166.78,-1898.96C2202.54,-1910.29 2246.32,-1924.17 2283.4,-1935.93\"/>\n<polygon fill=\"black\" stroke=\"black\" points=\"2282.57,-1939.34 2293.17,-1939.02 2284.69,-1932.66 2282.57,-1939.34\"/>\n</g>\n<!-- 134 -->\n<g id=\"node135\" class=\"node\">\n<title>134</title>\n<path fill=\"#fbede3\" stroke=\"black\" d=\"M2426,-1901C2426,-1901 2301,-1901 2301,-1901 2295,-1901 2289,-1895 2289,-1889 2289,-1889 2289,-1845 2289,-1845 2289,-1839 2295,-1833 2301,-1833 2301,-1833 2426,-1833 2426,-1833 2432,-1833 2438,-1839 2438,-1845 2438,-1845 2438,-1889 2438,-1889 2438,-1895 2432,-1901 2426,-1901\"/>\n<text text-anchor=\"middle\" x=\"2363.5\" y=\"-1885.8\" font-family=\"Helvetica,sans-Serif\" font-size=\"14.00\">gini = 0.497</text>\n<text text-anchor=\"middle\" x=\"2363.5\" y=\"-1870.8\" font-family=\"Helvetica,sans-Serif\" font-size=\"14.00\">samples = 446</text>\n<text text-anchor=\"middle\" x=\"2363.5\" y=\"-1855.8\" font-family=\"Helvetica,sans-Serif\" font-size=\"14.00\">value = [240, 206]</text>\n<text text-anchor=\"middle\" x=\"2363.5\" y=\"-1840.8\" font-family=\"Helvetica,sans-Serif\" font-size=\"14.00\">class = no_debit_card</text>\n</g>\n<!-- 130&#45;&gt;134 -->\n<g id=\"edge134\" class=\"edge\">\n<title>130&#45;&gt;134</title>\n<path fill=\"none\" stroke=\"black\" d=\"M2166.78,-1874.39C2201.12,-1873.09 2242.87,-1871.51 2278.97,-1870.15\"/>\n<polygon fill=\"black\" stroke=\"black\" points=\"2279.13,-1873.65 2288.99,-1869.77 2278.86,-1866.65 2279.13,-1873.65\"/>\n</g>\n<!-- 132 -->\n<g id=\"node133\" class=\"node\">\n<title>132</title>\n<path fill=\"#d7ebfa\" stroke=\"black\" d=\"M2661.5,-2010C2661.5,-2010 2545.5,-2010 2545.5,-2010 2539.5,-2010 2533.5,-2004 2533.5,-1998 2533.5,-1998 2533.5,-1954 2533.5,-1954 2533.5,-1948 2539.5,-1942 2545.5,-1942 2545.5,-1942 2661.5,-1942 2661.5,-1942 2667.5,-1942 2673.5,-1948 2673.5,-1954 2673.5,-1954 2673.5,-1998 2673.5,-1998 2673.5,-2004 2667.5,-2010 2661.5,-2010\"/>\n<text text-anchor=\"middle\" x=\"2603.5\" y=\"-1994.8\" font-family=\"Helvetica,sans-Serif\" font-size=\"14.00\">gini = 0.494</text>\n<text text-anchor=\"middle\" x=\"2603.5\" y=\"-1979.8\" font-family=\"Helvetica,sans-Serif\" font-size=\"14.00\">samples = 3365</text>\n<text text-anchor=\"middle\" x=\"2603.5\" y=\"-1964.8\" font-family=\"Helvetica,sans-Serif\" font-size=\"14.00\">value = [1493, 1872]</text>\n<text text-anchor=\"middle\" x=\"2603.5\" y=\"-1949.8\" font-family=\"Helvetica,sans-Serif\" font-size=\"14.00\">class = debit_card</text>\n</g>\n<!-- 131&#45;&gt;132 -->\n<g id=\"edge132\" class=\"edge\">\n<title>131&#45;&gt;132</title>\n<path fill=\"none\" stroke=\"black\" d=\"M2433.66,-1965.36C2461.65,-1967.12 2494.13,-1969.17 2523.09,-1971\"/>\n<polygon fill=\"black\" stroke=\"black\" points=\"2522.97,-1974.49 2533.17,-1971.63 2523.41,-1967.51 2522.97,-1974.49\"/>\n</g>\n<!-- 133 -->\n<g id=\"node134\" class=\"node\">\n<title>133</title>\n<path fill=\"#f1b991\" stroke=\"black\" d=\"M2666,-1924C2666,-1924 2541,-1924 2541,-1924 2535,-1924 2529,-1918 2529,-1912 2529,-1912 2529,-1868 2529,-1868 2529,-1862 2535,-1856 2541,-1856 2541,-1856 2666,-1856 2666,-1856 2672,-1856 2678,-1862 2678,-1868 2678,-1868 2678,-1912 2678,-1912 2678,-1918 2672,-1924 2666,-1924\"/>\n<text text-anchor=\"middle\" x=\"2603.5\" y=\"-1908.8\" font-family=\"Helvetica,sans-Serif\" font-size=\"14.00\">gini = 0.426</text>\n<text text-anchor=\"middle\" x=\"2603.5\" y=\"-1893.8\" font-family=\"Helvetica,sans-Serif\" font-size=\"14.00\">samples = 65</text>\n<text text-anchor=\"middle\" x=\"2603.5\" y=\"-1878.8\" font-family=\"Helvetica,sans-Serif\" font-size=\"14.00\">value = [45, 20]</text>\n<text text-anchor=\"middle\" x=\"2603.5\" y=\"-1863.8\" font-family=\"Helvetica,sans-Serif\" font-size=\"14.00\">class = no_debit_card</text>\n</g>\n<!-- 131&#45;&gt;133 -->\n<g id=\"edge133\" class=\"edge\">\n<title>131&#45;&gt;133</title>\n<path fill=\"none\" stroke=\"black\" d=\"M2433.66,-1940.37C2460.3,-1932.42 2491.01,-1923.26 2518.87,-1914.95\"/>\n<polygon fill=\"black\" stroke=\"black\" points=\"2520.02,-1918.26 2528.6,-1912.05 2518.02,-1911.55 2520.02,-1918.26\"/>\n</g>\n<!-- 136 -->\n<g id=\"node137\" class=\"node\">\n<title>136</title>\n<path fill=\"#fae8db\" stroke=\"black\" d=\"M2439,-1814.5C2439,-1814.5 2288,-1814.5 2288,-1814.5 2282,-1814.5 2276,-1808.5 2276,-1802.5 2276,-1802.5 2276,-1743.5 2276,-1743.5 2276,-1737.5 2282,-1731.5 2288,-1731.5 2288,-1731.5 2439,-1731.5 2439,-1731.5 2445,-1731.5 2451,-1737.5 2451,-1743.5 2451,-1743.5 2451,-1802.5 2451,-1802.5 2451,-1808.5 2445,-1814.5 2439,-1814.5\"/>\n<text text-anchor=\"middle\" x=\"2363.5\" y=\"-1799.3\" font-family=\"Helvetica,sans-Serif\" font-size=\"14.00\">tasa_de_empleo &lt;= 48.08</text>\n<text text-anchor=\"middle\" x=\"2363.5\" y=\"-1784.3\" font-family=\"Helvetica,sans-Serif\" font-size=\"14.00\">gini = 0.495</text>\n<text text-anchor=\"middle\" x=\"2363.5\" y=\"-1769.3\" font-family=\"Helvetica,sans-Serif\" font-size=\"14.00\">samples = 1360</text>\n<text text-anchor=\"middle\" x=\"2363.5\" y=\"-1754.3\" font-family=\"Helvetica,sans-Serif\" font-size=\"14.00\">value = [748, 612]</text>\n<text text-anchor=\"middle\" x=\"2363.5\" y=\"-1739.3\" font-family=\"Helvetica,sans-Serif\" font-size=\"14.00\">class = no_debit_card</text>\n</g>\n<!-- 135&#45;&gt;136 -->\n<g id=\"edge136\" class=\"edge\">\n<title>135&#45;&gt;136</title>\n<path fill=\"none\" stroke=\"black\" d=\"M2171.32,-1775.16C2200.61,-1774.83 2234.71,-1774.45 2265.92,-1774.09\"/>\n<polygon fill=\"black\" stroke=\"black\" points=\"2265.99,-1777.59 2275.95,-1773.98 2265.91,-1770.59 2265.99,-1777.59\"/>\n</g>\n<!-- 139 -->\n<g id=\"node140\" class=\"node\">\n<title>139</title>\n<path fill=\"#fdfeff\" stroke=\"black\" d=\"M2439,-1673.5C2439,-1673.5 2288,-1673.5 2288,-1673.5 2282,-1673.5 2276,-1667.5 2276,-1661.5 2276,-1661.5 2276,-1602.5 2276,-1602.5 2276,-1596.5 2282,-1590.5 2288,-1590.5 2288,-1590.5 2439,-1590.5 2439,-1590.5 2445,-1590.5 2451,-1596.5 2451,-1602.5 2451,-1602.5 2451,-1661.5 2451,-1661.5 2451,-1667.5 2445,-1673.5 2439,-1673.5\"/>\n<text text-anchor=\"middle\" x=\"2363.5\" y=\"-1658.3\" font-family=\"Helvetica,sans-Serif\" font-size=\"14.00\">tasa_de_empleo &lt;= 44.56</text>\n<text text-anchor=\"middle\" x=\"2363.5\" y=\"-1643.3\" font-family=\"Helvetica,sans-Serif\" font-size=\"14.00\">gini = 0.5</text>\n<text text-anchor=\"middle\" x=\"2363.5\" y=\"-1628.3\" font-family=\"Helvetica,sans-Serif\" font-size=\"14.00\">samples = 2982</text>\n<text text-anchor=\"middle\" x=\"2363.5\" y=\"-1613.3\" font-family=\"Helvetica,sans-Serif\" font-size=\"14.00\">value = [1485, 1497]</text>\n<text text-anchor=\"middle\" x=\"2363.5\" y=\"-1598.3\" font-family=\"Helvetica,sans-Serif\" font-size=\"14.00\">class = debit_card</text>\n</g>\n<!-- 135&#45;&gt;139 -->\n<g id=\"edge139\" class=\"edge\">\n<title>135&#45;&gt;139</title>\n<path fill=\"none\" stroke=\"black\" d=\"M2171.25,-1739.06C2180.29,-1734.38 2189.38,-1729.62 2198,-1725 2225.41,-1710.31 2255.07,-1693.75 2281.56,-1678.71\"/>\n<polygon fill=\"black\" stroke=\"black\" points=\"2283.45,-1681.66 2290.42,-1673.68 2279.99,-1675.58 2283.45,-1681.66\"/>\n</g>\n<!-- 137 -->\n<g id=\"node138\" class=\"node\">\n<title>137</title>\n<path fill=\"#f1f8fd\" stroke=\"black\" d=\"M2654.5,-1838C2654.5,-1838 2552.5,-1838 2552.5,-1838 2546.5,-1838 2540.5,-1832 2540.5,-1826 2540.5,-1826 2540.5,-1782 2540.5,-1782 2540.5,-1776 2546.5,-1770 2552.5,-1770 2552.5,-1770 2654.5,-1770 2654.5,-1770 2660.5,-1770 2666.5,-1776 2666.5,-1782 2666.5,-1782 2666.5,-1826 2666.5,-1826 2666.5,-1832 2660.5,-1838 2654.5,-1838\"/>\n<text text-anchor=\"middle\" x=\"2603.5\" y=\"-1822.8\" font-family=\"Helvetica,sans-Serif\" font-size=\"14.00\">gini = 0.499</text>\n<text text-anchor=\"middle\" x=\"2603.5\" y=\"-1807.8\" font-family=\"Helvetica,sans-Serif\" font-size=\"14.00\">samples = 586</text>\n<text text-anchor=\"middle\" x=\"2603.5\" y=\"-1792.8\" font-family=\"Helvetica,sans-Serif\" font-size=\"14.00\">value = [282, 304]</text>\n<text text-anchor=\"middle\" x=\"2603.5\" y=\"-1777.8\" font-family=\"Helvetica,sans-Serif\" font-size=\"14.00\">class = debit_card</text>\n</g>\n<!-- 136&#45;&gt;137 -->\n<g id=\"edge137\" class=\"edge\">\n<title>136&#45;&gt;137</title>\n<path fill=\"none\" stroke=\"black\" d=\"M2451.1,-1784.28C2477.03,-1787.66 2505.19,-1791.32 2530.1,-1794.57\"/>\n<polygon fill=\"black\" stroke=\"black\" points=\"2529.84,-1798.06 2540.2,-1795.89 2530.74,-1791.12 2529.84,-1798.06\"/>\n</g>\n<!-- 138 -->\n<g id=\"node139\" class=\"node\">\n<title>138</title>\n<path fill=\"#f6d4bc\" stroke=\"black\" d=\"M2666,-1752C2666,-1752 2541,-1752 2541,-1752 2535,-1752 2529,-1746 2529,-1740 2529,-1740 2529,-1696 2529,-1696 2529,-1690 2535,-1684 2541,-1684 2541,-1684 2666,-1684 2666,-1684 2672,-1684 2678,-1690 2678,-1696 2678,-1696 2678,-1740 2678,-1740 2678,-1746 2672,-1752 2666,-1752\"/>\n<text text-anchor=\"middle\" x=\"2603.5\" y=\"-1736.8\" font-family=\"Helvetica,sans-Serif\" font-size=\"14.00\">gini = 0.479</text>\n<text text-anchor=\"middle\" x=\"2603.5\" y=\"-1721.8\" font-family=\"Helvetica,sans-Serif\" font-size=\"14.00\">samples = 774</text>\n<text text-anchor=\"middle\" x=\"2603.5\" y=\"-1706.8\" font-family=\"Helvetica,sans-Serif\" font-size=\"14.00\">value = [466, 308]</text>\n<text text-anchor=\"middle\" x=\"2603.5\" y=\"-1691.8\" font-family=\"Helvetica,sans-Serif\" font-size=\"14.00\">class = no_debit_card</text>\n</g>\n<!-- 136&#45;&gt;138 -->\n<g id=\"edge138\" class=\"edge\">\n<title>136&#45;&gt;138</title>\n<path fill=\"none\" stroke=\"black\" d=\"M2451.1,-1752.99C2473.23,-1747.87 2496.97,-1742.39 2518.95,-1737.31\"/>\n<polygon fill=\"black\" stroke=\"black\" points=\"2519.95,-1740.67 2528.91,-1735.01 2518.38,-1733.85 2519.95,-1740.67\"/>\n</g>\n<!-- 140 -->\n<g id=\"node141\" class=\"node\">\n<title>140</title>\n<path fill=\"#f9e4d5\" stroke=\"black\" d=\"M2666,-1666C2666,-1666 2541,-1666 2541,-1666 2535,-1666 2529,-1660 2529,-1654 2529,-1654 2529,-1610 2529,-1610 2529,-1604 2535,-1598 2541,-1598 2541,-1598 2666,-1598 2666,-1598 2672,-1598 2678,-1604 2678,-1610 2678,-1610 2678,-1654 2678,-1654 2678,-1660 2672,-1666 2666,-1666\"/>\n<text text-anchor=\"middle\" x=\"2603.5\" y=\"-1650.8\" font-family=\"Helvetica,sans-Serif\" font-size=\"14.00\">gini = 0.493</text>\n<text text-anchor=\"middle\" x=\"2603.5\" y=\"-1635.8\" font-family=\"Helvetica,sans-Serif\" font-size=\"14.00\">samples = 852</text>\n<text text-anchor=\"middle\" x=\"2603.5\" y=\"-1620.8\" font-family=\"Helvetica,sans-Serif\" font-size=\"14.00\">value = [477, 375]</text>\n<text text-anchor=\"middle\" x=\"2603.5\" y=\"-1605.8\" font-family=\"Helvetica,sans-Serif\" font-size=\"14.00\">class = no_debit_card</text>\n</g>\n<!-- 139&#45;&gt;140 -->\n<g id=\"edge140\" class=\"edge\">\n<title>139&#45;&gt;140</title>\n<path fill=\"none\" stroke=\"black\" d=\"M2451.1,-1632C2473.13,-1632 2496.76,-1632 2518.65,-1632\"/>\n<polygon fill=\"black\" stroke=\"black\" points=\"2518.91,-1635.5 2528.91,-1632 2518.91,-1628.5 2518.91,-1635.5\"/>\n</g>\n<!-- 141 -->\n<g id=\"node142\" class=\"node\">\n<title>141</title>\n<path fill=\"#ebf5fc\" stroke=\"black\" d=\"M2661.5,-1580C2661.5,-1580 2545.5,-1580 2545.5,-1580 2539.5,-1580 2533.5,-1574 2533.5,-1568 2533.5,-1568 2533.5,-1524 2533.5,-1524 2533.5,-1518 2539.5,-1512 2545.5,-1512 2545.5,-1512 2661.5,-1512 2661.5,-1512 2667.5,-1512 2673.5,-1518 2673.5,-1524 2673.5,-1524 2673.5,-1568 2673.5,-1568 2673.5,-1574 2667.5,-1580 2661.5,-1580\"/>\n<text text-anchor=\"middle\" x=\"2603.5\" y=\"-1564.8\" font-family=\"Helvetica,sans-Serif\" font-size=\"14.00\">gini = 0.499</text>\n<text text-anchor=\"middle\" x=\"2603.5\" y=\"-1549.8\" font-family=\"Helvetica,sans-Serif\" font-size=\"14.00\">samples = 2130</text>\n<text text-anchor=\"middle\" x=\"2603.5\" y=\"-1534.8\" font-family=\"Helvetica,sans-Serif\" font-size=\"14.00\">value = [1008, 1122]</text>\n<text text-anchor=\"middle\" x=\"2603.5\" y=\"-1519.8\" font-family=\"Helvetica,sans-Serif\" font-size=\"14.00\">class = debit_card</text>\n</g>\n<!-- 139&#45;&gt;141 -->\n<g id=\"edge141\" class=\"edge\">\n<title>139&#45;&gt;141</title>\n<path fill=\"none\" stroke=\"black\" d=\"M2451.1,-1600.71C2474.93,-1592.1 2500.63,-1582.81 2523.98,-1574.37\"/>\n<polygon fill=\"black\" stroke=\"black\" points=\"2525.27,-1577.63 2533.49,-1570.94 2522.89,-1571.04 2525.27,-1577.63\"/>\n</g>\n<!-- 145 -->\n<g id=\"node146\" class=\"node\">\n<title>145</title>\n<path fill=\"#fbebe0\" stroke=\"black\" d=\"M1408,-1683.5C1408,-1683.5 1283,-1683.5 1283,-1683.5 1277,-1683.5 1271,-1677.5 1271,-1671.5 1271,-1671.5 1271,-1612.5 1271,-1612.5 1271,-1606.5 1277,-1600.5 1283,-1600.5 1283,-1600.5 1408,-1600.5 1408,-1600.5 1414,-1600.5 1420,-1606.5 1420,-1612.5 1420,-1612.5 1420,-1671.5 1420,-1671.5 1420,-1677.5 1414,-1683.5 1408,-1683.5\"/>\n<text text-anchor=\"middle\" x=\"1345.5\" y=\"-1668.3\" font-family=\"Helvetica,sans-Serif\" font-size=\"14.00\">sale_year &lt;= 2018.5</text>\n<text text-anchor=\"middle\" x=\"1345.5\" y=\"-1653.3\" font-family=\"Helvetica,sans-Serif\" font-size=\"14.00\">gini = 0.496</text>\n<text text-anchor=\"middle\" x=\"1345.5\" y=\"-1638.3\" font-family=\"Helvetica,sans-Serif\" font-size=\"14.00\">samples = 827</text>\n<text text-anchor=\"middle\" x=\"1345.5\" y=\"-1623.3\" font-family=\"Helvetica,sans-Serif\" font-size=\"14.00\">value = [449, 378]</text>\n<text text-anchor=\"middle\" x=\"1345.5\" y=\"-1608.3\" font-family=\"Helvetica,sans-Serif\" font-size=\"14.00\">class = no_debit_card</text>\n</g>\n<!-- 144&#45;&gt;145 -->\n<g id=\"edge145\" class=\"edge\">\n<title>144&#45;&gt;145</title>\n<path fill=\"none\" stroke=\"black\" d=\"M1200.77,-1642C1219.83,-1642 1240.92,-1642 1260.95,-1642\"/>\n<polygon fill=\"black\" stroke=\"black\" points=\"1260.99,-1645.5 1270.99,-1642 1260.99,-1638.5 1260.99,-1645.5\"/>\n</g>\n<!-- 152 -->\n<g id=\"node153\" class=\"node\">\n<title>152</title>\n<path fill=\"#7abdee\" stroke=\"black\" d=\"M1421,-1543.5C1421,-1543.5 1270,-1543.5 1270,-1543.5 1264,-1543.5 1258,-1537.5 1258,-1531.5 1258,-1531.5 1258,-1472.5 1258,-1472.5 1258,-1466.5 1264,-1460.5 1270,-1460.5 1270,-1460.5 1421,-1460.5 1421,-1460.5 1427,-1460.5 1433,-1466.5 1433,-1472.5 1433,-1472.5 1433,-1531.5 1433,-1531.5 1433,-1537.5 1427,-1543.5 1421,-1543.5\"/>\n<text text-anchor=\"middle\" x=\"1345.5\" y=\"-1528.3\" font-family=\"Helvetica,sans-Serif\" font-size=\"14.00\">tasa_de_empleo &lt;= 52.11</text>\n<text text-anchor=\"middle\" x=\"1345.5\" y=\"-1513.3\" font-family=\"Helvetica,sans-Serif\" font-size=\"14.00\">gini = 0.372</text>\n<text text-anchor=\"middle\" x=\"1345.5\" y=\"-1498.3\" font-family=\"Helvetica,sans-Serif\" font-size=\"14.00\">samples = 960</text>\n<text text-anchor=\"middle\" x=\"1345.5\" y=\"-1483.3\" font-family=\"Helvetica,sans-Serif\" font-size=\"14.00\">value = [237, 723]</text>\n<text text-anchor=\"middle\" x=\"1345.5\" y=\"-1468.3\" font-family=\"Helvetica,sans-Serif\" font-size=\"14.00\">class = debit_card</text>\n</g>\n<!-- 144&#45;&gt;152 -->\n<g id=\"edge152\" class=\"edge\">\n<title>144&#45;&gt;152</title>\n<path fill=\"none\" stroke=\"black\" d=\"M1197.64,-1600.37C1221.54,-1584.37 1248.99,-1565.98 1273.64,-1549.46\"/>\n<polygon fill=\"black\" stroke=\"black\" points=\"1275.88,-1552.18 1282.24,-1543.71 1271.98,-1546.36 1275.88,-1552.18\"/>\n</g>\n<!-- 146 -->\n<g id=\"node147\" class=\"node\">\n<title>146</title>\n<path fill=\"#f6d4bb\" stroke=\"black\" d=\"M1657,-1723.5C1657,-1723.5 1532,-1723.5 1532,-1723.5 1526,-1723.5 1520,-1717.5 1520,-1711.5 1520,-1711.5 1520,-1652.5 1520,-1652.5 1520,-1646.5 1526,-1640.5 1532,-1640.5 1532,-1640.5 1657,-1640.5 1657,-1640.5 1663,-1640.5 1669,-1646.5 1669,-1652.5 1669,-1652.5 1669,-1711.5 1669,-1711.5 1669,-1717.5 1663,-1723.5 1657,-1723.5\"/>\n<text text-anchor=\"middle\" x=\"1594.5\" y=\"-1708.3\" font-family=\"Helvetica,sans-Serif\" font-size=\"14.00\">sale_month &lt;= 11.5</text>\n<text text-anchor=\"middle\" x=\"1594.5\" y=\"-1693.3\" font-family=\"Helvetica,sans-Serif\" font-size=\"14.00\">gini = 0.478</text>\n<text text-anchor=\"middle\" x=\"1594.5\" y=\"-1678.3\" font-family=\"Helvetica,sans-Serif\" font-size=\"14.00\">samples = 639</text>\n<text text-anchor=\"middle\" x=\"1594.5\" y=\"-1663.3\" font-family=\"Helvetica,sans-Serif\" font-size=\"14.00\">value = [386, 253]</text>\n<text text-anchor=\"middle\" x=\"1594.5\" y=\"-1648.3\" font-family=\"Helvetica,sans-Serif\" font-size=\"14.00\">class = no_debit_card</text>\n</g>\n<!-- 145&#45;&gt;146 -->\n<g id=\"edge146\" class=\"edge\">\n<title>145&#45;&gt;146</title>\n<path fill=\"none\" stroke=\"black\" d=\"M1420.27,-1653.95C1448.38,-1658.5 1480.6,-1663.72 1509.58,-1668.41\"/>\n<polygon fill=\"black\" stroke=\"black\" points=\"1509.25,-1671.9 1519.68,-1670.05 1510.37,-1664.99 1509.25,-1671.9\"/>\n</g>\n<!-- 151 -->\n<g id=\"node152\" class=\"node\">\n<title>151</title>\n<path fill=\"#9dcef2\" stroke=\"black\" d=\"M1645.5,-1622C1645.5,-1622 1543.5,-1622 1543.5,-1622 1537.5,-1622 1531.5,-1616 1531.5,-1610 1531.5,-1610 1531.5,-1566 1531.5,-1566 1531.5,-1560 1537.5,-1554 1543.5,-1554 1543.5,-1554 1645.5,-1554 1645.5,-1554 1651.5,-1554 1657.5,-1560 1657.5,-1566 1657.5,-1566 1657.5,-1610 1657.5,-1610 1657.5,-1616 1651.5,-1622 1645.5,-1622\"/>\n<text text-anchor=\"middle\" x=\"1594.5\" y=\"-1606.8\" font-family=\"Helvetica,sans-Serif\" font-size=\"14.00\">gini = 0.446</text>\n<text text-anchor=\"middle\" x=\"1594.5\" y=\"-1591.8\" font-family=\"Helvetica,sans-Serif\" font-size=\"14.00\">samples = 188</text>\n<text text-anchor=\"middle\" x=\"1594.5\" y=\"-1576.8\" font-family=\"Helvetica,sans-Serif\" font-size=\"14.00\">value = [63, 125]</text>\n<text text-anchor=\"middle\" x=\"1594.5\" y=\"-1561.8\" font-family=\"Helvetica,sans-Serif\" font-size=\"14.00\">class = debit_card</text>\n</g>\n<!-- 145&#45;&gt;151 -->\n<g id=\"edge151\" class=\"edge\">\n<title>145&#45;&gt;151</title>\n<path fill=\"none\" stroke=\"black\" d=\"M1420.27,-1625.87C1452.21,-1618.89 1489.48,-1610.74 1521.25,-1603.8\"/>\n<polygon fill=\"black\" stroke=\"black\" points=\"1522.33,-1607.14 1531.35,-1601.59 1520.84,-1600.3 1522.33,-1607.14\"/>\n</g>\n<!-- 147 -->\n<g id=\"node148\" class=\"node\">\n<title>147</title>\n<path fill=\"#fae7d9\" stroke=\"black\" d=\"M1920,-1723.5C1920,-1723.5 1795,-1723.5 1795,-1723.5 1789,-1723.5 1783,-1717.5 1783,-1711.5 1783,-1711.5 1783,-1652.5 1783,-1652.5 1783,-1646.5 1789,-1640.5 1795,-1640.5 1795,-1640.5 1920,-1640.5 1920,-1640.5 1926,-1640.5 1932,-1646.5 1932,-1652.5 1932,-1652.5 1932,-1711.5 1932,-1711.5 1932,-1717.5 1926,-1723.5 1920,-1723.5\"/>\n<text text-anchor=\"middle\" x=\"1857.5\" y=\"-1708.3\" font-family=\"Helvetica,sans-Serif\" font-size=\"14.00\">sale_month &lt;= 7.5</text>\n<text text-anchor=\"middle\" x=\"1857.5\" y=\"-1693.3\" font-family=\"Helvetica,sans-Serif\" font-size=\"14.00\">gini = 0.494</text>\n<text text-anchor=\"middle\" x=\"1857.5\" y=\"-1678.3\" font-family=\"Helvetica,sans-Serif\" font-size=\"14.00\">samples = 505</text>\n<text text-anchor=\"middle\" x=\"1857.5\" y=\"-1663.3\" font-family=\"Helvetica,sans-Serif\" font-size=\"14.00\">value = [279, 226]</text>\n<text text-anchor=\"middle\" x=\"1857.5\" y=\"-1648.3\" font-family=\"Helvetica,sans-Serif\" font-size=\"14.00\">class = no_debit_card</text>\n</g>\n<!-- 146&#45;&gt;147 -->\n<g id=\"edge147\" class=\"edge\">\n<title>146&#45;&gt;147</title>\n<path fill=\"none\" stroke=\"black\" d=\"M1669.25,-1682C1701.49,-1682 1739.47,-1682 1772.76,-1682\"/>\n<polygon fill=\"black\" stroke=\"black\" points=\"1772.94,-1685.5 1782.94,-1682 1772.94,-1678.5 1772.94,-1685.5\"/>\n</g>\n<!-- 150 -->\n<g id=\"node151\" class=\"node\">\n<title>150</title>\n<path fill=\"#eca16b\" stroke=\"black\" d=\"M1920,-1622C1920,-1622 1795,-1622 1795,-1622 1789,-1622 1783,-1616 1783,-1610 1783,-1610 1783,-1566 1783,-1566 1783,-1560 1789,-1554 1795,-1554 1795,-1554 1920,-1554 1920,-1554 1926,-1554 1932,-1560 1932,-1566 1932,-1566 1932,-1610 1932,-1610 1932,-1616 1926,-1622 1920,-1622\"/>\n<text text-anchor=\"middle\" x=\"1857.5\" y=\"-1606.8\" font-family=\"Helvetica,sans-Serif\" font-size=\"14.00\">gini = 0.322</text>\n<text text-anchor=\"middle\" x=\"1857.5\" y=\"-1591.8\" font-family=\"Helvetica,sans-Serif\" font-size=\"14.00\">samples = 134</text>\n<text text-anchor=\"middle\" x=\"1857.5\" y=\"-1576.8\" font-family=\"Helvetica,sans-Serif\" font-size=\"14.00\">value = [107, 27]</text>\n<text text-anchor=\"middle\" x=\"1857.5\" y=\"-1561.8\" font-family=\"Helvetica,sans-Serif\" font-size=\"14.00\">class = no_debit_card</text>\n</g>\n<!-- 146&#45;&gt;150 -->\n<g id=\"edge150\" class=\"edge\">\n<title>146&#45;&gt;150</title>\n<path fill=\"none\" stroke=\"black\" d=\"M1669.25,-1655.44C1701.62,-1643.78 1739.79,-1630.03 1773.19,-1618\"/>\n<polygon fill=\"black\" stroke=\"black\" points=\"1774.71,-1621.18 1782.94,-1614.49 1772.34,-1614.59 1774.71,-1621.18\"/>\n</g>\n<!-- 148 -->\n<g id=\"node149\" class=\"node\">\n<title>148</title>\n<path fill=\"#f1bb95\" stroke=\"black\" d=\"M2159,-1716C2159,-1716 2034,-1716 2034,-1716 2028,-1716 2022,-1710 2022,-1704 2022,-1704 2022,-1660 2022,-1660 2022,-1654 2028,-1648 2034,-1648 2034,-1648 2159,-1648 2159,-1648 2165,-1648 2171,-1654 2171,-1660 2171,-1660 2171,-1704 2171,-1704 2171,-1710 2165,-1716 2159,-1716\"/>\n<text text-anchor=\"middle\" x=\"2096.5\" y=\"-1700.8\" font-family=\"Helvetica,sans-Serif\" font-size=\"14.00\">gini = 0.433</text>\n<text text-anchor=\"middle\" x=\"2096.5\" y=\"-1685.8\" font-family=\"Helvetica,sans-Serif\" font-size=\"14.00\">samples = 306</text>\n<text text-anchor=\"middle\" x=\"2096.5\" y=\"-1670.8\" font-family=\"Helvetica,sans-Serif\" font-size=\"14.00\">value = [209, 97]</text>\n<text text-anchor=\"middle\" x=\"2096.5\" y=\"-1655.8\" font-family=\"Helvetica,sans-Serif\" font-size=\"14.00\">class = no_debit_card</text>\n</g>\n<!-- 147&#45;&gt;148 -->\n<g id=\"edge148\" class=\"edge\">\n<title>147&#45;&gt;148</title>\n<path fill=\"none\" stroke=\"black\" d=\"M1932.19,-1682C1957.38,-1682 1985.74,-1682 2011.67,-1682\"/>\n<polygon fill=\"black\" stroke=\"black\" points=\"2011.86,-1685.5 2021.86,-1682 2011.86,-1678.5 2011.86,-1685.5\"/>\n</g>\n<!-- 149 -->\n<g id=\"node150\" class=\"node\">\n<title>149</title>\n<path fill=\"#a4d2f3\" stroke=\"black\" d=\"M2147.5,-1630C2147.5,-1630 2045.5,-1630 2045.5,-1630 2039.5,-1630 2033.5,-1624 2033.5,-1618 2033.5,-1618 2033.5,-1574 2033.5,-1574 2033.5,-1568 2039.5,-1562 2045.5,-1562 2045.5,-1562 2147.5,-1562 2147.5,-1562 2153.5,-1562 2159.5,-1568 2159.5,-1574 2159.5,-1574 2159.5,-1618 2159.5,-1618 2159.5,-1624 2153.5,-1630 2147.5,-1630\"/>\n<text text-anchor=\"middle\" x=\"2096.5\" y=\"-1614.8\" font-family=\"Helvetica,sans-Serif\" font-size=\"14.00\">gini = 0.456</text>\n<text text-anchor=\"middle\" x=\"2096.5\" y=\"-1599.8\" font-family=\"Helvetica,sans-Serif\" font-size=\"14.00\">samples = 199</text>\n<text text-anchor=\"middle\" x=\"2096.5\" y=\"-1584.8\" font-family=\"Helvetica,sans-Serif\" font-size=\"14.00\">value = [70, 129]</text>\n<text text-anchor=\"middle\" x=\"2096.5\" y=\"-1569.8\" font-family=\"Helvetica,sans-Serif\" font-size=\"14.00\">class = debit_card</text>\n</g>\n<!-- 147&#45;&gt;149 -->\n<g id=\"edge149\" class=\"edge\">\n<title>147&#45;&gt;149</title>\n<path fill=\"none\" stroke=\"black\" d=\"M1932.19,-1655.26C1961.37,-1644.67 1994.8,-1632.54 2023.78,-1622.03\"/>\n<polygon fill=\"black\" stroke=\"black\" points=\"2025.22,-1625.23 2033.42,-1618.53 2022.83,-1618.65 2025.22,-1625.23\"/>\n</g>\n<!-- 153 -->\n<g id=\"node154\" class=\"node\">\n<title>153</title>\n<path fill=\"#65b3eb\" stroke=\"black\" d=\"M1645.5,-1536C1645.5,-1536 1543.5,-1536 1543.5,-1536 1537.5,-1536 1531.5,-1530 1531.5,-1524 1531.5,-1524 1531.5,-1480 1531.5,-1480 1531.5,-1474 1537.5,-1468 1543.5,-1468 1543.5,-1468 1645.5,-1468 1645.5,-1468 1651.5,-1468 1657.5,-1474 1657.5,-1480 1657.5,-1480 1657.5,-1524 1657.5,-1524 1657.5,-1530 1651.5,-1536 1645.5,-1536\"/>\n<text text-anchor=\"middle\" x=\"1594.5\" y=\"-1520.8\" font-family=\"Helvetica,sans-Serif\" font-size=\"14.00\">gini = 0.298</text>\n<text text-anchor=\"middle\" x=\"1594.5\" y=\"-1505.8\" font-family=\"Helvetica,sans-Serif\" font-size=\"14.00\">samples = 493</text>\n<text text-anchor=\"middle\" x=\"1594.5\" y=\"-1490.8\" font-family=\"Helvetica,sans-Serif\" font-size=\"14.00\">value = [90, 403]</text>\n<text text-anchor=\"middle\" x=\"1594.5\" y=\"-1475.8\" font-family=\"Helvetica,sans-Serif\" font-size=\"14.00\">class = debit_card</text>\n</g>\n<!-- 152&#45;&gt;153 -->\n<g id=\"edge153\" class=\"edge\">\n<title>152&#45;&gt;153</title>\n<path fill=\"none\" stroke=\"black\" d=\"M1433.24,-1502C1461.95,-1502 1493.59,-1502 1521.12,-1502\"/>\n<polygon fill=\"black\" stroke=\"black\" points=\"1521.45,-1505.5 1531.45,-1502 1521.45,-1498.5 1521.45,-1505.5\"/>\n</g>\n<!-- 154 -->\n<g id=\"node155\" class=\"node\">\n<title>154</title>\n<path fill=\"#94caf1\" stroke=\"black\" d=\"M1645.5,-1450C1645.5,-1450 1543.5,-1450 1543.5,-1450 1537.5,-1450 1531.5,-1444 1531.5,-1438 1531.5,-1438 1531.5,-1394 1531.5,-1394 1531.5,-1388 1537.5,-1382 1543.5,-1382 1543.5,-1382 1645.5,-1382 1645.5,-1382 1651.5,-1382 1657.5,-1388 1657.5,-1394 1657.5,-1394 1657.5,-1438 1657.5,-1438 1657.5,-1444 1651.5,-1450 1645.5,-1450\"/>\n<text text-anchor=\"middle\" x=\"1594.5\" y=\"-1434.8\" font-family=\"Helvetica,sans-Serif\" font-size=\"14.00\">gini = 0.431</text>\n<text text-anchor=\"middle\" x=\"1594.5\" y=\"-1419.8\" font-family=\"Helvetica,sans-Serif\" font-size=\"14.00\">samples = 467</text>\n<text text-anchor=\"middle\" x=\"1594.5\" y=\"-1404.8\" font-family=\"Helvetica,sans-Serif\" font-size=\"14.00\">value = [147, 320]</text>\n<text text-anchor=\"middle\" x=\"1594.5\" y=\"-1389.8\" font-family=\"Helvetica,sans-Serif\" font-size=\"14.00\">class = debit_card</text>\n</g>\n<!-- 152&#45;&gt;154 -->\n<g id=\"edge154\" class=\"edge\">\n<title>152&#45;&gt;154</title>\n<path fill=\"none\" stroke=\"black\" d=\"M1433.15,-1471.52C1445.19,-1467.31 1457.4,-1463.04 1469,-1459 1486.13,-1453.04 1504.59,-1446.64 1521.92,-1440.65\"/>\n<polygon fill=\"black\" stroke=\"black\" points=\"1523.11,-1443.95 1531.42,-1437.37 1520.82,-1437.33 1523.11,-1443.95\"/>\n</g>\n<!-- 156 -->\n<g id=\"node157\" class=\"node\">\n<title>156</title>\n<path fill=\"#f5ccaf\" stroke=\"black\" d=\"M1197,-1156.5C1197,-1156.5 1072,-1156.5 1072,-1156.5 1066,-1156.5 1060,-1150.5 1060,-1144.5 1060,-1144.5 1060,-1085.5 1060,-1085.5 1060,-1079.5 1066,-1073.5 1072,-1073.5 1072,-1073.5 1197,-1073.5 1197,-1073.5 1203,-1073.5 1209,-1079.5 1209,-1085.5 1209,-1085.5 1209,-1144.5 1209,-1144.5 1209,-1150.5 1203,-1156.5 1197,-1156.5\"/>\n<text text-anchor=\"middle\" x=\"1134.5\" y=\"-1141.3\" font-family=\"Helvetica,sans-Serif\" font-size=\"14.00\">em_acount &lt;= 0.5</text>\n<text text-anchor=\"middle\" x=\"1134.5\" y=\"-1126.3\" font-family=\"Helvetica,sans-Serif\" font-size=\"14.00\">gini = 0.468</text>\n<text text-anchor=\"middle\" x=\"1134.5\" y=\"-1111.3\" font-family=\"Helvetica,sans-Serif\" font-size=\"14.00\">samples = 8247</text>\n<text text-anchor=\"middle\" x=\"1134.5\" y=\"-1096.3\" font-family=\"Helvetica,sans-Serif\" font-size=\"14.00\">value = [5160, 3087]</text>\n<text text-anchor=\"middle\" x=\"1134.5\" y=\"-1081.3\" font-family=\"Helvetica,sans-Serif\" font-size=\"14.00\">class = no_debit_card</text>\n</g>\n<!-- 155&#45;&gt;156 -->\n<g id=\"edge156\" class=\"edge\">\n<title>155&#45;&gt;156</title>\n<path fill=\"none\" stroke=\"black\" d=\"M1011.07,-1115C1023.88,-1115 1037.04,-1115 1049.75,-1115\"/>\n<polygon fill=\"black\" stroke=\"black\" points=\"1049.84,-1118.5 1059.84,-1115 1049.84,-1111.5 1049.84,-1118.5\"/>\n</g>\n<!-- 191 -->\n<g id=\"node192\" class=\"node\">\n<title>191</title>\n<path fill=\"#fdf5ef\" stroke=\"black\" d=\"M1197,-771.5C1197,-771.5 1072,-771.5 1072,-771.5 1066,-771.5 1060,-765.5 1060,-759.5 1060,-759.5 1060,-700.5 1060,-700.5 1060,-694.5 1066,-688.5 1072,-688.5 1072,-688.5 1197,-688.5 1197,-688.5 1203,-688.5 1209,-694.5 1209,-700.5 1209,-700.5 1209,-759.5 1209,-759.5 1209,-765.5 1203,-771.5 1197,-771.5\"/>\n<text text-anchor=\"middle\" x=\"1134.5\" y=\"-756.3\" font-family=\"Helvetica,sans-Serif\" font-size=\"14.00\">sale_month &lt;= 7.5</text>\n<text text-anchor=\"middle\" x=\"1134.5\" y=\"-741.3\" font-family=\"Helvetica,sans-Serif\" font-size=\"14.00\">gini = 0.499</text>\n<text text-anchor=\"middle\" x=\"1134.5\" y=\"-726.3\" font-family=\"Helvetica,sans-Serif\" font-size=\"14.00\">samples = 2521</text>\n<text text-anchor=\"middle\" x=\"1134.5\" y=\"-711.3\" font-family=\"Helvetica,sans-Serif\" font-size=\"14.00\">value = [1312, 1209]</text>\n<text text-anchor=\"middle\" x=\"1134.5\" y=\"-696.3\" font-family=\"Helvetica,sans-Serif\" font-size=\"14.00\">class = no_debit_card</text>\n</g>\n<!-- 155&#45;&gt;191 -->\n<g id=\"edge191\" class=\"edge\">\n<title>155&#45;&gt;191</title>\n<path fill=\"none\" stroke=\"black\" d=\"M945.28,-1073.43C984.24,-1002.34 1063.55,-857.64 1105.7,-780.72\"/>\n<polygon fill=\"black\" stroke=\"black\" points=\"1108.92,-782.14 1110.65,-771.69 1102.78,-778.77 1108.92,-782.14\"/>\n</g>\n<!-- 157 -->\n<g id=\"node158\" class=\"node\">\n<title>157</title>\n<path fill=\"#f0b890\" stroke=\"black\" d=\"M1408,-1207.5C1408,-1207.5 1283,-1207.5 1283,-1207.5 1277,-1207.5 1271,-1201.5 1271,-1195.5 1271,-1195.5 1271,-1136.5 1271,-1136.5 1271,-1130.5 1277,-1124.5 1283,-1124.5 1283,-1124.5 1408,-1124.5 1408,-1124.5 1414,-1124.5 1420,-1130.5 1420,-1136.5 1420,-1136.5 1420,-1195.5 1420,-1195.5 1420,-1201.5 1414,-1207.5 1408,-1207.5\"/>\n<text text-anchor=\"middle\" x=\"1345.5\" y=\"-1192.3\" font-family=\"Helvetica,sans-Serif\" font-size=\"14.00\">payroll &lt;= 0.5</text>\n<text text-anchor=\"middle\" x=\"1345.5\" y=\"-1177.3\" font-family=\"Helvetica,sans-Serif\" font-size=\"14.00\">gini = 0.423</text>\n<text text-anchor=\"middle\" x=\"1345.5\" y=\"-1162.3\" font-family=\"Helvetica,sans-Serif\" font-size=\"14.00\">samples = 2720</text>\n<text text-anchor=\"middle\" x=\"1345.5\" y=\"-1147.3\" font-family=\"Helvetica,sans-Serif\" font-size=\"14.00\">value = [1893, 827]</text>\n<text text-anchor=\"middle\" x=\"1345.5\" y=\"-1132.3\" font-family=\"Helvetica,sans-Serif\" font-size=\"14.00\">class = no_debit_card</text>\n</g>\n<!-- 156&#45;&gt;157 -->\n<g id=\"edge157\" class=\"edge\">\n<title>156&#45;&gt;157</title>\n<path fill=\"none\" stroke=\"black\" d=\"M1209.19,-1132.98C1225.89,-1137.06 1243.74,-1141.41 1260.82,-1145.58\"/>\n<polygon fill=\"black\" stroke=\"black\" points=\"1260.23,-1149.04 1270.78,-1148.01 1261.89,-1142.24 1260.23,-1149.04\"/>\n</g>\n<!-- 170 -->\n<g id=\"node171\" class=\"node\">\n<title>170</title>\n<path fill=\"#f7d8c2\" stroke=\"black\" d=\"M1408,-1106.5C1408,-1106.5 1283,-1106.5 1283,-1106.5 1277,-1106.5 1271,-1100.5 1271,-1094.5 1271,-1094.5 1271,-1035.5 1271,-1035.5 1271,-1029.5 1277,-1023.5 1283,-1023.5 1283,-1023.5 1408,-1023.5 1408,-1023.5 1414,-1023.5 1420,-1029.5 1420,-1035.5 1420,-1035.5 1420,-1094.5 1420,-1094.5 1420,-1100.5 1414,-1106.5 1408,-1106.5\"/>\n<text text-anchor=\"middle\" x=\"1345.5\" y=\"-1091.3\" font-family=\"Helvetica,sans-Serif\" font-size=\"14.00\">payroll &lt;= 0.5</text>\n<text text-anchor=\"middle\" x=\"1345.5\" y=\"-1076.3\" font-family=\"Helvetica,sans-Serif\" font-size=\"14.00\">gini = 0.483</text>\n<text text-anchor=\"middle\" x=\"1345.5\" y=\"-1061.3\" font-family=\"Helvetica,sans-Serif\" font-size=\"14.00\">samples = 5527</text>\n<text text-anchor=\"middle\" x=\"1345.5\" y=\"-1046.3\" font-family=\"Helvetica,sans-Serif\" font-size=\"14.00\">value = [3267, 2260]</text>\n<text text-anchor=\"middle\" x=\"1345.5\" y=\"-1031.3\" font-family=\"Helvetica,sans-Serif\" font-size=\"14.00\">class = no_debit_card</text>\n</g>\n<!-- 156&#45;&gt;170 -->\n<g id=\"edge170\" class=\"edge\">\n<title>156&#45;&gt;170</title>\n<path fill=\"none\" stroke=\"black\" d=\"M1209.19,-1097.37C1225.89,-1093.38 1243.74,-1089.1 1260.82,-1085.02\"/>\n<polygon fill=\"black\" stroke=\"black\" points=\"1261.86,-1088.37 1270.78,-1082.64 1260.24,-1081.56 1261.86,-1088.37\"/>\n</g>\n<!-- 158 -->\n<g id=\"node159\" class=\"node\">\n<title>158</title>\n<path fill=\"#eb9d65\" stroke=\"black\" d=\"M1657,-1363.5C1657,-1363.5 1532,-1363.5 1532,-1363.5 1526,-1363.5 1520,-1357.5 1520,-1351.5 1520,-1351.5 1520,-1292.5 1520,-1292.5 1520,-1286.5 1526,-1280.5 1532,-1280.5 1532,-1280.5 1657,-1280.5 1657,-1280.5 1663,-1280.5 1669,-1286.5 1669,-1292.5 1669,-1292.5 1669,-1351.5 1669,-1351.5 1669,-1357.5 1663,-1363.5 1657,-1363.5\"/>\n<text text-anchor=\"middle\" x=\"1594.5\" y=\"-1348.3\" font-family=\"Helvetica,sans-Serif\" font-size=\"14.00\">sale_month &lt;= 5.5</text>\n<text text-anchor=\"middle\" x=\"1594.5\" y=\"-1333.3\" font-family=\"Helvetica,sans-Serif\" font-size=\"14.00\">gini = 0.296</text>\n<text text-anchor=\"middle\" x=\"1594.5\" y=\"-1318.3\" font-family=\"Helvetica,sans-Serif\" font-size=\"14.00\">samples = 1783</text>\n<text text-anchor=\"middle\" x=\"1594.5\" y=\"-1303.3\" font-family=\"Helvetica,sans-Serif\" font-size=\"14.00\">value = [1461, 322]</text>\n<text text-anchor=\"middle\" x=\"1594.5\" y=\"-1288.3\" font-family=\"Helvetica,sans-Serif\" font-size=\"14.00\">class = no_debit_card</text>\n</g>\n<!-- 157&#45;&gt;158 -->\n<g id=\"edge158\" class=\"edge\">\n<title>157&#45;&gt;158</title>\n<path fill=\"none\" stroke=\"black\" d=\"M1412.37,-1207.6C1445.17,-1228.32 1484.97,-1253.45 1518.9,-1274.88\"/>\n<polygon fill=\"black\" stroke=\"black\" points=\"1517.06,-1277.86 1527.39,-1280.24 1520.8,-1271.95 1517.06,-1277.86\"/>\n</g>\n<!-- 165 -->\n<g id=\"node166\" class=\"node\">\n<title>165</title>\n<path fill=\"#e2f1fb\" stroke=\"black\" d=\"M1645.5,-1207.5C1645.5,-1207.5 1543.5,-1207.5 1543.5,-1207.5 1537.5,-1207.5 1531.5,-1201.5 1531.5,-1195.5 1531.5,-1195.5 1531.5,-1136.5 1531.5,-1136.5 1531.5,-1130.5 1537.5,-1124.5 1543.5,-1124.5 1543.5,-1124.5 1645.5,-1124.5 1645.5,-1124.5 1651.5,-1124.5 1657.5,-1130.5 1657.5,-1136.5 1657.5,-1136.5 1657.5,-1195.5 1657.5,-1195.5 1657.5,-1201.5 1651.5,-1207.5 1645.5,-1207.5\"/>\n<text text-anchor=\"middle\" x=\"1594.5\" y=\"-1192.3\" font-family=\"Helvetica,sans-Serif\" font-size=\"14.00\">age &lt;= 36.5</text>\n<text text-anchor=\"middle\" x=\"1594.5\" y=\"-1177.3\" font-family=\"Helvetica,sans-Serif\" font-size=\"14.00\">gini = 0.497</text>\n<text text-anchor=\"middle\" x=\"1594.5\" y=\"-1162.3\" font-family=\"Helvetica,sans-Serif\" font-size=\"14.00\">samples = 937</text>\n<text text-anchor=\"middle\" x=\"1594.5\" y=\"-1147.3\" font-family=\"Helvetica,sans-Serif\" font-size=\"14.00\">value = [432, 505]</text>\n<text text-anchor=\"middle\" x=\"1594.5\" y=\"-1132.3\" font-family=\"Helvetica,sans-Serif\" font-size=\"14.00\">class = debit_card</text>\n</g>\n<!-- 157&#45;&gt;165 -->\n<g id=\"edge165\" class=\"edge\">\n<title>157&#45;&gt;165</title>\n<path fill=\"none\" stroke=\"black\" d=\"M1420.27,-1166C1452.21,-1166 1489.48,-1166 1521.25,-1166\"/>\n<polygon fill=\"black\" stroke=\"black\" points=\"1521.35,-1169.5 1531.35,-1166 1521.35,-1162.5 1521.35,-1169.5\"/>\n</g>\n<!-- 159 -->\n<g id=\"node160\" class=\"node\">\n<title>159</title>\n<path fill=\"#f0b489\" stroke=\"black\" d=\"M1920,-1519C1920,-1519 1795,-1519 1795,-1519 1789,-1519 1783,-1513 1783,-1507 1783,-1507 1783,-1463 1783,-1463 1783,-1457 1789,-1451 1795,-1451 1795,-1451 1920,-1451 1920,-1451 1926,-1451 1932,-1457 1932,-1463 1932,-1463 1932,-1507 1932,-1507 1932,-1513 1926,-1519 1920,-1519\"/>\n<text text-anchor=\"middle\" x=\"1857.5\" y=\"-1503.8\" font-family=\"Helvetica,sans-Serif\" font-size=\"14.00\">gini = 0.41</text>\n<text text-anchor=\"middle\" x=\"1857.5\" y=\"-1488.8\" font-family=\"Helvetica,sans-Serif\" font-size=\"14.00\">samples = 482</text>\n<text text-anchor=\"middle\" x=\"1857.5\" y=\"-1473.8\" font-family=\"Helvetica,sans-Serif\" font-size=\"14.00\">value = [343, 139]</text>\n<text text-anchor=\"middle\" x=\"1857.5\" y=\"-1458.8\" font-family=\"Helvetica,sans-Serif\" font-size=\"14.00\">class = no_debit_card</text>\n</g>\n<!-- 158&#45;&gt;159 -->\n<g id=\"edge159\" class=\"edge\">\n<title>158&#45;&gt;159</title>\n<path fill=\"none\" stroke=\"black\" d=\"M1669.27,-1342.36C1687.33,-1349.86 1705.59,-1359.86 1720,-1373 1745.56,-1396.31 1730.62,-1418.5 1756,-1442 1761.41,-1447.01 1767.49,-1451.49 1773.91,-1455.48\"/>\n<polygon fill=\"black\" stroke=\"black\" points=\"1772.45,-1458.68 1782.86,-1460.63 1775.94,-1452.61 1772.45,-1458.68\"/>\n</g>\n<!-- 160 -->\n<g id=\"node161\" class=\"node\">\n<title>160</title>\n<path fill=\"#e99659\" stroke=\"black\" d=\"M1920,-1432.5C1920,-1432.5 1795,-1432.5 1795,-1432.5 1789,-1432.5 1783,-1426.5 1783,-1420.5 1783,-1420.5 1783,-1361.5 1783,-1361.5 1783,-1355.5 1789,-1349.5 1795,-1349.5 1795,-1349.5 1920,-1349.5 1920,-1349.5 1926,-1349.5 1932,-1355.5 1932,-1361.5 1932,-1361.5 1932,-1420.5 1932,-1420.5 1932,-1426.5 1926,-1432.5 1920,-1432.5\"/>\n<text text-anchor=\"middle\" x=\"1857.5\" y=\"-1417.3\" font-family=\"Helvetica,sans-Serif\" font-size=\"14.00\">sale_month &lt;= 6.5</text>\n<text text-anchor=\"middle\" x=\"1857.5\" y=\"-1402.3\" font-family=\"Helvetica,sans-Serif\" font-size=\"14.00\">gini = 0.242</text>\n<text text-anchor=\"middle\" x=\"1857.5\" y=\"-1387.3\" font-family=\"Helvetica,sans-Serif\" font-size=\"14.00\">samples = 1301</text>\n<text text-anchor=\"middle\" x=\"1857.5\" y=\"-1372.3\" font-family=\"Helvetica,sans-Serif\" font-size=\"14.00\">value = [1118, 183]</text>\n<text text-anchor=\"middle\" x=\"1857.5\" y=\"-1357.3\" font-family=\"Helvetica,sans-Serif\" font-size=\"14.00\">class = no_debit_card</text>\n</g>\n<!-- 158&#45;&gt;160 -->\n<g id=\"edge160\" class=\"edge\">\n<title>158&#45;&gt;160</title>\n<path fill=\"none\" stroke=\"black\" d=\"M1669.25,-1341.5C1701.62,-1350.06 1739.79,-1360.15 1773.19,-1368.98\"/>\n<polygon fill=\"black\" stroke=\"black\" points=\"1772.37,-1372.38 1782.94,-1371.55 1774.16,-1365.61 1772.37,-1372.38\"/>\n</g>\n<!-- 161 -->\n<g id=\"node162\" class=\"node\">\n<title>161</title>\n<path fill=\"#e88e4d\" stroke=\"black\" d=\"M2159,-1544C2159,-1544 2034,-1544 2034,-1544 2028,-1544 2022,-1538 2022,-1532 2022,-1532 2022,-1488 2022,-1488 2022,-1482 2028,-1476 2034,-1476 2034,-1476 2159,-1476 2159,-1476 2165,-1476 2171,-1482 2171,-1488 2171,-1488 2171,-1532 2171,-1532 2171,-1538 2165,-1544 2159,-1544\"/>\n<text text-anchor=\"middle\" x=\"2096.5\" y=\"-1528.8\" font-family=\"Helvetica,sans-Serif\" font-size=\"14.00\">gini = 0.17</text>\n<text text-anchor=\"middle\" x=\"2096.5\" y=\"-1513.8\" font-family=\"Helvetica,sans-Serif\" font-size=\"14.00\">samples = 491</text>\n<text text-anchor=\"middle\" x=\"2096.5\" y=\"-1498.8\" font-family=\"Helvetica,sans-Serif\" font-size=\"14.00\">value = [445, 46]</text>\n<text text-anchor=\"middle\" x=\"2096.5\" y=\"-1483.8\" font-family=\"Helvetica,sans-Serif\" font-size=\"14.00\">class = no_debit_card</text>\n</g>\n<!-- 160&#45;&gt;161 -->\n<g id=\"edge161\" class=\"edge\">\n<title>160&#45;&gt;161</title>\n<path fill=\"none\" stroke=\"black\" d=\"M1932.14,-1426.89C1941.29,-1431.78 1950.43,-1436.88 1959,-1442 1975.72,-1451.99 1977.96,-1457.56 1995,-1467 2000.74,-1470.18 2006.77,-1473.29 2012.9,-1476.28\"/>\n<polygon fill=\"black\" stroke=\"black\" points=\"2011.4,-1479.44 2021.93,-1480.58 2014.41,-1473.12 2011.4,-1479.44\"/>\n</g>\n<!-- 162 -->\n<g id=\"node163\" class=\"node\">\n<title>162</title>\n<path fill=\"#ea9b61\" stroke=\"black\" d=\"M2159,-1457.5C2159,-1457.5 2034,-1457.5 2034,-1457.5 2028,-1457.5 2022,-1451.5 2022,-1445.5 2022,-1445.5 2022,-1386.5 2022,-1386.5 2022,-1380.5 2028,-1374.5 2034,-1374.5 2034,-1374.5 2159,-1374.5 2159,-1374.5 2165,-1374.5 2171,-1380.5 2171,-1386.5 2171,-1386.5 2171,-1445.5 2171,-1445.5 2171,-1451.5 2165,-1457.5 2159,-1457.5\"/>\n<text text-anchor=\"middle\" x=\"2096.5\" y=\"-1442.3\" font-family=\"Helvetica,sans-Serif\" font-size=\"14.00\">sale_month &lt;= 11.5</text>\n<text text-anchor=\"middle\" x=\"2096.5\" y=\"-1427.3\" font-family=\"Helvetica,sans-Serif\" font-size=\"14.00\">gini = 0.281</text>\n<text text-anchor=\"middle\" x=\"2096.5\" y=\"-1412.3\" font-family=\"Helvetica,sans-Serif\" font-size=\"14.00\">samples = 810</text>\n<text text-anchor=\"middle\" x=\"2096.5\" y=\"-1397.3\" font-family=\"Helvetica,sans-Serif\" font-size=\"14.00\">value = [673, 137]</text>\n<text text-anchor=\"middle\" x=\"2096.5\" y=\"-1382.3\" font-family=\"Helvetica,sans-Serif\" font-size=\"14.00\">class = no_debit_card</text>\n</g>\n<!-- 160&#45;&gt;162 -->\n<g id=\"edge162\" class=\"edge\">\n<title>160&#45;&gt;162</title>\n<path fill=\"none\" stroke=\"black\" d=\"M1932.19,-1398.77C1957.38,-1401.43 1985.74,-1404.42 2011.67,-1407.16\"/>\n<polygon fill=\"black\" stroke=\"black\" points=\"2011.54,-1410.66 2021.86,-1408.23 2012.28,-1403.7 2011.54,-1410.66\"/>\n</g>\n<!-- 163 -->\n<g id=\"node164\" class=\"node\">\n<title>163</title>\n<path fill=\"#eda775\" stroke=\"black\" d=\"M2426,-1509C2426,-1509 2301,-1509 2301,-1509 2295,-1509 2289,-1503 2289,-1497 2289,-1497 2289,-1453 2289,-1453 2289,-1447 2295,-1441 2301,-1441 2301,-1441 2426,-1441 2426,-1441 2432,-1441 2438,-1447 2438,-1453 2438,-1453 2438,-1497 2438,-1497 2438,-1503 2432,-1509 2426,-1509\"/>\n<text text-anchor=\"middle\" x=\"2363.5\" y=\"-1493.8\" font-family=\"Helvetica,sans-Serif\" font-size=\"14.00\">gini = 0.355</text>\n<text text-anchor=\"middle\" x=\"2363.5\" y=\"-1478.8\" font-family=\"Helvetica,sans-Serif\" font-size=\"14.00\">samples = 476</text>\n<text text-anchor=\"middle\" x=\"2363.5\" y=\"-1463.8\" font-family=\"Helvetica,sans-Serif\" font-size=\"14.00\">value = [366, 110]</text>\n<text text-anchor=\"middle\" x=\"2363.5\" y=\"-1448.8\" font-family=\"Helvetica,sans-Serif\" font-size=\"14.00\">class = no_debit_card</text>\n</g>\n<!-- 162&#45;&gt;163 -->\n<g id=\"edge163\" class=\"edge\">\n<title>162&#45;&gt;163</title>\n<path fill=\"none\" stroke=\"black\" d=\"M2171.32,-1432.43C2204.63,-1439.85 2244.15,-1448.65 2278.58,-1456.32\"/>\n<polygon fill=\"black\" stroke=\"black\" points=\"2278.1,-1459.79 2288.62,-1458.55 2279.62,-1452.96 2278.1,-1459.79\"/>\n</g>\n<!-- 164 -->\n<g id=\"node165\" class=\"node\">\n<title>164</title>\n<path fill=\"#e78c4a\" stroke=\"black\" d=\"M2426,-1423C2426,-1423 2301,-1423 2301,-1423 2295,-1423 2289,-1417 2289,-1411 2289,-1411 2289,-1367 2289,-1367 2289,-1361 2295,-1355 2301,-1355 2301,-1355 2426,-1355 2426,-1355 2432,-1355 2438,-1361 2438,-1367 2438,-1367 2438,-1411 2438,-1411 2438,-1417 2432,-1423 2426,-1423\"/>\n<text text-anchor=\"middle\" x=\"2363.5\" y=\"-1407.8\" font-family=\"Helvetica,sans-Serif\" font-size=\"14.00\">gini = 0.149</text>\n<text text-anchor=\"middle\" x=\"2363.5\" y=\"-1392.8\" font-family=\"Helvetica,sans-Serif\" font-size=\"14.00\">samples = 334</text>\n<text text-anchor=\"middle\" x=\"2363.5\" y=\"-1377.8\" font-family=\"Helvetica,sans-Serif\" font-size=\"14.00\">value = [307, 27]</text>\n<text text-anchor=\"middle\" x=\"2363.5\" y=\"-1362.8\" font-family=\"Helvetica,sans-Serif\" font-size=\"14.00\">class = no_debit_card</text>\n</g>\n<!-- 162&#45;&gt;164 -->\n<g id=\"edge164\" class=\"edge\">\n<title>162&#45;&gt;164</title>\n<path fill=\"none\" stroke=\"black\" d=\"M2171.32,-1408.48C2204.63,-1405.08 2244.15,-1401.06 2278.58,-1397.55\"/>\n<polygon fill=\"black\" stroke=\"black\" points=\"2279.03,-1401.02 2288.62,-1396.53 2278.32,-1394.06 2279.03,-1401.02\"/>\n</g>\n<!-- 166 -->\n<g id=\"node167\" class=\"node\">\n<title>166</title>\n<path fill=\"#b1d8f5\" stroke=\"black\" d=\"M1915.5,-1297.5C1915.5,-1297.5 1799.5,-1297.5 1799.5,-1297.5 1793.5,-1297.5 1787.5,-1291.5 1787.5,-1285.5 1787.5,-1285.5 1787.5,-1226.5 1787.5,-1226.5 1787.5,-1220.5 1793.5,-1214.5 1799.5,-1214.5 1799.5,-1214.5 1915.5,-1214.5 1915.5,-1214.5 1921.5,-1214.5 1927.5,-1220.5 1927.5,-1226.5 1927.5,-1226.5 1927.5,-1285.5 1927.5,-1285.5 1927.5,-1291.5 1921.5,-1297.5 1915.5,-1297.5\"/>\n<text text-anchor=\"middle\" x=\"1857.5\" y=\"-1282.3\" font-family=\"Helvetica,sans-Serif\" font-size=\"14.00\">emc_account &lt;= 0.5</text>\n<text text-anchor=\"middle\" x=\"1857.5\" y=\"-1267.3\" font-family=\"Helvetica,sans-Serif\" font-size=\"14.00\">gini = 0.469</text>\n<text text-anchor=\"middle\" x=\"1857.5\" y=\"-1252.3\" font-family=\"Helvetica,sans-Serif\" font-size=\"14.00\">samples = 534</text>\n<text text-anchor=\"middle\" x=\"1857.5\" y=\"-1237.3\" font-family=\"Helvetica,sans-Serif\" font-size=\"14.00\">value = [201, 333]</text>\n<text text-anchor=\"middle\" x=\"1857.5\" y=\"-1222.3\" font-family=\"Helvetica,sans-Serif\" font-size=\"14.00\">class = debit_card</text>\n</g>\n<!-- 165&#45;&gt;166 -->\n<g id=\"edge166\" class=\"edge\">\n<title>165&#45;&gt;166</title>\n<path fill=\"none\" stroke=\"black\" d=\"M1657.68,-1187.44C1693.69,-1199.86 1739.35,-1215.6 1777.83,-1228.87\"/>\n<polygon fill=\"black\" stroke=\"black\" points=\"1776.85,-1232.24 1787.45,-1232.19 1779.13,-1225.62 1776.85,-1232.24\"/>\n</g>\n<!-- 169 -->\n<g id=\"node170\" class=\"node\">\n<title>169</title>\n<path fill=\"#f8dfcc\" stroke=\"black\" d=\"M1920,-1196C1920,-1196 1795,-1196 1795,-1196 1789,-1196 1783,-1190 1783,-1184 1783,-1184 1783,-1140 1783,-1140 1783,-1134 1789,-1128 1795,-1128 1795,-1128 1920,-1128 1920,-1128 1926,-1128 1932,-1134 1932,-1140 1932,-1140 1932,-1184 1932,-1184 1932,-1190 1926,-1196 1920,-1196\"/>\n<text text-anchor=\"middle\" x=\"1857.5\" y=\"-1180.8\" font-family=\"Helvetica,sans-Serif\" font-size=\"14.00\">gini = 0.489</text>\n<text text-anchor=\"middle\" x=\"1857.5\" y=\"-1165.8\" font-family=\"Helvetica,sans-Serif\" font-size=\"14.00\">samples = 403</text>\n<text text-anchor=\"middle\" x=\"1857.5\" y=\"-1150.8\" font-family=\"Helvetica,sans-Serif\" font-size=\"14.00\">value = [231, 172]</text>\n<text text-anchor=\"middle\" x=\"1857.5\" y=\"-1135.8\" font-family=\"Helvetica,sans-Serif\" font-size=\"14.00\">class = no_debit_card</text>\n</g>\n<!-- 165&#45;&gt;169 -->\n<g id=\"edge169\" class=\"edge\">\n<title>165&#45;&gt;169</title>\n<path fill=\"none\" stroke=\"black\" d=\"M1657.68,-1165.05C1692,-1164.52 1735.1,-1163.86 1772.38,-1163.29\"/>\n<polygon fill=\"black\" stroke=\"black\" points=\"1772.79,-1166.78 1782.73,-1163.13 1772.68,-1159.78 1772.79,-1166.78\"/>\n</g>\n<!-- 167 -->\n<g id=\"node168\" class=\"node\">\n<title>167</title>\n<path fill=\"#9dcef2\" stroke=\"black\" d=\"M2147.5,-1356C2147.5,-1356 2045.5,-1356 2045.5,-1356 2039.5,-1356 2033.5,-1350 2033.5,-1344 2033.5,-1344 2033.5,-1300 2033.5,-1300 2033.5,-1294 2039.5,-1288 2045.5,-1288 2045.5,-1288 2147.5,-1288 2147.5,-1288 2153.5,-1288 2159.5,-1294 2159.5,-1300 2159.5,-1300 2159.5,-1344 2159.5,-1344 2159.5,-1350 2153.5,-1356 2147.5,-1356\"/>\n<text text-anchor=\"middle\" x=\"2096.5\" y=\"-1340.8\" font-family=\"Helvetica,sans-Serif\" font-size=\"14.00\">gini = 0.446</text>\n<text text-anchor=\"middle\" x=\"2096.5\" y=\"-1325.8\" font-family=\"Helvetica,sans-Serif\" font-size=\"14.00\">samples = 403</text>\n<text text-anchor=\"middle\" x=\"2096.5\" y=\"-1310.8\" font-family=\"Helvetica,sans-Serif\" font-size=\"14.00\">value = [135, 268]</text>\n<text text-anchor=\"middle\" x=\"2096.5\" y=\"-1295.8\" font-family=\"Helvetica,sans-Serif\" font-size=\"14.00\">class = debit_card</text>\n</g>\n<!-- 166&#45;&gt;167 -->\n<g id=\"edge167\" class=\"edge\">\n<title>166&#45;&gt;167</title>\n<path fill=\"none\" stroke=\"black\" d=\"M1927.69,-1275.27C1957.89,-1283.68 1993.3,-1293.54 2023.79,-1302.03\"/>\n<polygon fill=\"black\" stroke=\"black\" points=\"2022.93,-1305.42 2033.5,-1304.73 2024.8,-1298.68 2022.93,-1305.42\"/>\n</g>\n<!-- 168 -->\n<g id=\"node169\" class=\"node\">\n<title>168</title>\n<path fill=\"#fffdfc\" stroke=\"black\" d=\"M2159,-1270C2159,-1270 2034,-1270 2034,-1270 2028,-1270 2022,-1264 2022,-1258 2022,-1258 2022,-1214 2022,-1214 2022,-1208 2028,-1202 2034,-1202 2034,-1202 2159,-1202 2159,-1202 2165,-1202 2171,-1208 2171,-1214 2171,-1214 2171,-1258 2171,-1258 2171,-1264 2165,-1270 2159,-1270\"/>\n<text text-anchor=\"middle\" x=\"2096.5\" y=\"-1254.8\" font-family=\"Helvetica,sans-Serif\" font-size=\"14.00\">gini = 0.5</text>\n<text text-anchor=\"middle\" x=\"2096.5\" y=\"-1239.8\" font-family=\"Helvetica,sans-Serif\" font-size=\"14.00\">samples = 131</text>\n<text text-anchor=\"middle\" x=\"2096.5\" y=\"-1224.8\" font-family=\"Helvetica,sans-Serif\" font-size=\"14.00\">value = [66, 65]</text>\n<text text-anchor=\"middle\" x=\"2096.5\" y=\"-1209.8\" font-family=\"Helvetica,sans-Serif\" font-size=\"14.00\">class = no_debit_card</text>\n</g>\n<!-- 166&#45;&gt;168 -->\n<g id=\"edge168\" class=\"edge\">\n<title>166&#45;&gt;168</title>\n<path fill=\"none\" stroke=\"black\" d=\"M1927.69,-1250.16C1953.97,-1247.94 1984.19,-1245.39 2011.69,-1243.07\"/>\n<polygon fill=\"black\" stroke=\"black\" points=\"2012.01,-1246.56 2021.68,-1242.23 2011.42,-1239.58 2012.01,-1246.56\"/>\n</g>\n<!-- 171 -->\n<g id=\"node172\" class=\"node\">\n<title>171</title>\n<path fill=\"#f8ddca\" stroke=\"black\" d=\"M1708,-1106.5C1708,-1106.5 1481,-1106.5 1481,-1106.5 1475,-1106.5 1469,-1100.5 1469,-1094.5 1469,-1094.5 1469,-1035.5 1469,-1035.5 1469,-1029.5 1475,-1023.5 1481,-1023.5 1481,-1023.5 1708,-1023.5 1708,-1023.5 1714,-1023.5 1720,-1029.5 1720,-1035.5 1720,-1035.5 1720,-1094.5 1720,-1094.5 1720,-1100.5 1714,-1106.5 1708,-1106.5\"/>\n<text text-anchor=\"middle\" x=\"1594.5\" y=\"-1091.3\" font-family=\"Helvetica,sans-Serif\" font-size=\"14.00\">segment_03 &#45; UNIVERSITARIO &lt;= 0.5</text>\n<text text-anchor=\"middle\" x=\"1594.5\" y=\"-1076.3\" font-family=\"Helvetica,sans-Serif\" font-size=\"14.00\">gini = 0.488</text>\n<text text-anchor=\"middle\" x=\"1594.5\" y=\"-1061.3\" font-family=\"Helvetica,sans-Serif\" font-size=\"14.00\">samples = 5205</text>\n<text text-anchor=\"middle\" x=\"1594.5\" y=\"-1046.3\" font-family=\"Helvetica,sans-Serif\" font-size=\"14.00\">value = [3004, 2201]</text>\n<text text-anchor=\"middle\" x=\"1594.5\" y=\"-1031.3\" font-family=\"Helvetica,sans-Serif\" font-size=\"14.00\">class = no_debit_card</text>\n</g>\n<!-- 170&#45;&gt;171 -->\n<g id=\"edge171\" class=\"edge\">\n<title>170&#45;&gt;171</title>\n<path fill=\"none\" stroke=\"black\" d=\"M1420.27,-1065C1432.51,-1065 1445.52,-1065 1458.71,-1065\"/>\n<polygon fill=\"black\" stroke=\"black\" points=\"1458.82,-1068.5 1468.82,-1065 1458.82,-1061.5 1458.82,-1068.5\"/>\n</g>\n<!-- 190 -->\n<g id=\"node191\" class=\"node\">\n<title>190</title>\n<path fill=\"#eb9d65\" stroke=\"black\" d=\"M1657,-1005C1657,-1005 1532,-1005 1532,-1005 1526,-1005 1520,-999 1520,-993 1520,-993 1520,-949 1520,-949 1520,-943 1526,-937 1532,-937 1532,-937 1657,-937 1657,-937 1663,-937 1669,-943 1669,-949 1669,-949 1669,-993 1669,-993 1669,-999 1663,-1005 1657,-1005\"/>\n<text text-anchor=\"middle\" x=\"1594.5\" y=\"-989.8\" font-family=\"Helvetica,sans-Serif\" font-size=\"14.00\">gini = 0.299</text>\n<text text-anchor=\"middle\" x=\"1594.5\" y=\"-974.8\" font-family=\"Helvetica,sans-Serif\" font-size=\"14.00\">samples = 322</text>\n<text text-anchor=\"middle\" x=\"1594.5\" y=\"-959.8\" font-family=\"Helvetica,sans-Serif\" font-size=\"14.00\">value = [263, 59]</text>\n<text text-anchor=\"middle\" x=\"1594.5\" y=\"-944.8\" font-family=\"Helvetica,sans-Serif\" font-size=\"14.00\">class = no_debit_card</text>\n</g>\n<!-- 170&#45;&gt;190 -->\n<g id=\"edge190\" class=\"edge\">\n<title>170&#45;&gt;190</title>\n<path fill=\"none\" stroke=\"black\" d=\"M1420.12,-1034.29C1436.18,-1027.77 1453.11,-1021.05 1469,-1015 1482.32,-1009.93 1496.51,-1004.73 1510.36,-999.76\"/>\n<polygon fill=\"black\" stroke=\"black\" points=\"1511.64,-1003.02 1519.88,-996.36 1509.29,-996.43 1511.64,-1003.02\"/>\n</g>\n<!-- 172 -->\n<g id=\"node173\" class=\"node\">\n<title>172</title>\n<path fill=\"#fae6d8\" stroke=\"black\" d=\"M1920,-1106.5C1920,-1106.5 1795,-1106.5 1795,-1106.5 1789,-1106.5 1783,-1100.5 1783,-1094.5 1783,-1094.5 1783,-1035.5 1783,-1035.5 1783,-1029.5 1789,-1023.5 1795,-1023.5 1795,-1023.5 1920,-1023.5 1920,-1023.5 1926,-1023.5 1932,-1029.5 1932,-1035.5 1932,-1035.5 1932,-1094.5 1932,-1094.5 1932,-1100.5 1926,-1106.5 1920,-1106.5\"/>\n<text text-anchor=\"middle\" x=\"1857.5\" y=\"-1091.3\" font-family=\"Helvetica,sans-Serif\" font-size=\"14.00\">age &lt;= 36.5</text>\n<text text-anchor=\"middle\" x=\"1857.5\" y=\"-1076.3\" font-family=\"Helvetica,sans-Serif\" font-size=\"14.00\">gini = 0.494</text>\n<text text-anchor=\"middle\" x=\"1857.5\" y=\"-1061.3\" font-family=\"Helvetica,sans-Serif\" font-size=\"14.00\">samples = 4222</text>\n<text text-anchor=\"middle\" x=\"1857.5\" y=\"-1046.3\" font-family=\"Helvetica,sans-Serif\" font-size=\"14.00\">value = [2344, 1878]</text>\n<text text-anchor=\"middle\" x=\"1857.5\" y=\"-1031.3\" font-family=\"Helvetica,sans-Serif\" font-size=\"14.00\">class = no_debit_card</text>\n</g>\n<!-- 171&#45;&gt;172 -->\n<g id=\"edge172\" class=\"edge\">\n<title>171&#45;&gt;172</title>\n<path fill=\"none\" stroke=\"black\" d=\"M1720.27,-1065C1737.96,-1065 1755.79,-1065 1772.46,-1065\"/>\n<polygon fill=\"black\" stroke=\"black\" points=\"1772.68,-1068.5 1782.68,-1065 1772.68,-1061.5 1772.68,-1068.5\"/>\n</g>\n<!-- 183 -->\n<g id=\"node184\" class=\"node\">\n<title>183</title>\n<path fill=\"#f2bf9a\" stroke=\"black\" d=\"M1920,-988.5C1920,-988.5 1795,-988.5 1795,-988.5 1789,-988.5 1783,-982.5 1783,-976.5 1783,-976.5 1783,-917.5 1783,-917.5 1783,-911.5 1789,-905.5 1795,-905.5 1795,-905.5 1920,-905.5 1920,-905.5 1926,-905.5 1932,-911.5 1932,-917.5 1932,-917.5 1932,-976.5 1932,-976.5 1932,-982.5 1926,-988.5 1920,-988.5\"/>\n<text text-anchor=\"middle\" x=\"1857.5\" y=\"-973.3\" font-family=\"Helvetica,sans-Serif\" font-size=\"14.00\">age &lt;= 27.5</text>\n<text text-anchor=\"middle\" x=\"1857.5\" y=\"-958.3\" font-family=\"Helvetica,sans-Serif\" font-size=\"14.00\">gini = 0.441</text>\n<text text-anchor=\"middle\" x=\"1857.5\" y=\"-943.3\" font-family=\"Helvetica,sans-Serif\" font-size=\"14.00\">samples = 983</text>\n<text text-anchor=\"middle\" x=\"1857.5\" y=\"-928.3\" font-family=\"Helvetica,sans-Serif\" font-size=\"14.00\">value = [660, 323]</text>\n<text text-anchor=\"middle\" x=\"1857.5\" y=\"-913.3\" font-family=\"Helvetica,sans-Serif\" font-size=\"14.00\">class = no_debit_card</text>\n</g>\n<!-- 171&#45;&gt;183 -->\n<g id=\"edge183\" class=\"edge\">\n<title>171&#45;&gt;183</title>\n<path fill=\"none\" stroke=\"black\" d=\"M1698.66,-1023.38C1705.9,-1020.26 1713.08,-1017.11 1720,-1014 1737.53,-1006.12 1756.13,-997.3 1773.77,-988.72\"/>\n<polygon fill=\"black\" stroke=\"black\" points=\"1775.45,-991.79 1782.9,-984.25 1772.38,-985.5 1775.45,-991.79\"/>\n</g>\n<!-- 173 -->\n<g id=\"node174\" class=\"node\">\n<title>173</title>\n<path fill=\"#f7d8c2\" stroke=\"black\" d=\"M2174.5,-1183.5C2174.5,-1183.5 2018.5,-1183.5 2018.5,-1183.5 2012.5,-1183.5 2006.5,-1177.5 2006.5,-1171.5 2006.5,-1171.5 2006.5,-1112.5 2006.5,-1112.5 2006.5,-1106.5 2012.5,-1100.5 2018.5,-1100.5 2018.5,-1100.5 2174.5,-1100.5 2174.5,-1100.5 2180.5,-1100.5 2186.5,-1106.5 2186.5,-1112.5 2186.5,-1112.5 2186.5,-1171.5 2186.5,-1171.5 2186.5,-1177.5 2180.5,-1183.5 2174.5,-1183.5\"/>\n<text text-anchor=\"middle\" x=\"2096.5\" y=\"-1168.3\" font-family=\"Helvetica,sans-Serif\" font-size=\"14.00\">entry_channel_KHN &lt;= 0.5</text>\n<text text-anchor=\"middle\" x=\"2096.5\" y=\"-1153.3\" font-family=\"Helvetica,sans-Serif\" font-size=\"14.00\">gini = 0.483</text>\n<text text-anchor=\"middle\" x=\"2096.5\" y=\"-1138.3\" font-family=\"Helvetica,sans-Serif\" font-size=\"14.00\">samples = 1623</text>\n<text text-anchor=\"middle\" x=\"2096.5\" y=\"-1123.3\" font-family=\"Helvetica,sans-Serif\" font-size=\"14.00\">value = [960, 663]</text>\n<text text-anchor=\"middle\" x=\"2096.5\" y=\"-1108.3\" font-family=\"Helvetica,sans-Serif\" font-size=\"14.00\">class = no_debit_card</text>\n</g>\n<!-- 172&#45;&gt;173 -->\n<g id=\"edge173\" class=\"edge\">\n<title>172&#45;&gt;173</title>\n<path fill=\"none\" stroke=\"black\" d=\"M1932.19,-1088.94C1952.67,-1095.59 1975.24,-1102.93 1996.9,-1109.96\"/>\n<polygon fill=\"black\" stroke=\"black\" points=\"1995.85,-1113.3 2006.44,-1113.07 1998.01,-1106.65 1995.85,-1113.3\"/>\n</g>\n<!-- 178 -->\n<g id=\"node179\" class=\"node\">\n<title>178</title>\n<path fill=\"#fcf0e7\" stroke=\"black\" d=\"M2159,-1082.5C2159,-1082.5 2034,-1082.5 2034,-1082.5 2028,-1082.5 2022,-1076.5 2022,-1070.5 2022,-1070.5 2022,-1011.5 2022,-1011.5 2022,-1005.5 2028,-999.5 2034,-999.5 2034,-999.5 2159,-999.5 2159,-999.5 2165,-999.5 2171,-1005.5 2171,-1011.5 2171,-1011.5 2171,-1070.5 2171,-1070.5 2171,-1076.5 2165,-1082.5 2159,-1082.5\"/>\n<text text-anchor=\"middle\" x=\"2096.5\" y=\"-1067.3\" font-family=\"Helvetica,sans-Serif\" font-size=\"14.00\">funds &lt;= 0.5</text>\n<text text-anchor=\"middle\" x=\"2096.5\" y=\"-1052.3\" font-family=\"Helvetica,sans-Serif\" font-size=\"14.00\">gini = 0.498</text>\n<text text-anchor=\"middle\" x=\"2096.5\" y=\"-1037.3\" font-family=\"Helvetica,sans-Serif\" font-size=\"14.00\">samples = 2599</text>\n<text text-anchor=\"middle\" x=\"2096.5\" y=\"-1022.3\" font-family=\"Helvetica,sans-Serif\" font-size=\"14.00\">value = [1384, 1215]</text>\n<text text-anchor=\"middle\" x=\"2096.5\" y=\"-1007.3\" font-family=\"Helvetica,sans-Serif\" font-size=\"14.00\">class = no_debit_card</text>\n</g>\n<!-- 172&#45;&gt;178 -->\n<g id=\"edge178\" class=\"edge\">\n<title>172&#45;&gt;178</title>\n<path fill=\"none\" stroke=\"black\" d=\"M1932.19,-1057.54C1957.38,-1054.99 1985.74,-1052.11 2011.67,-1049.49\"/>\n<polygon fill=\"black\" stroke=\"black\" points=\"2012.26,-1052.95 2021.86,-1048.46 2011.55,-1045.98 2012.26,-1052.95\"/>\n</g>\n<!-- 174 -->\n<g id=\"node175\" class=\"node\">\n<title>174</title>\n<path fill=\"#f7d6bf\" stroke=\"black\" d=\"M2453,-1309.5C2453,-1309.5 2274,-1309.5 2274,-1309.5 2268,-1309.5 2262,-1303.5 2262,-1297.5 2262,-1297.5 2262,-1238.5 2262,-1238.5 2262,-1232.5 2268,-1226.5 2274,-1226.5 2274,-1226.5 2453,-1226.5 2453,-1226.5 2459,-1226.5 2465,-1232.5 2465,-1238.5 2465,-1238.5 2465,-1297.5 2465,-1297.5 2465,-1303.5 2459,-1309.5 2453,-1309.5\"/>\n<text text-anchor=\"middle\" x=\"2363.5\" y=\"-1294.3\" font-family=\"Helvetica,sans-Serif\" font-size=\"14.00\">renta_bruta_media &lt;= 19042.0</text>\n<text text-anchor=\"middle\" x=\"2363.5\" y=\"-1279.3\" font-family=\"Helvetica,sans-Serif\" font-size=\"14.00\">gini = 0.481</text>\n<text text-anchor=\"middle\" x=\"2363.5\" y=\"-1264.3\" font-family=\"Helvetica,sans-Serif\" font-size=\"14.00\">samples = 1600</text>\n<text text-anchor=\"middle\" x=\"2363.5\" y=\"-1249.3\" font-family=\"Helvetica,sans-Serif\" font-size=\"14.00\">value = [955, 645]</text>\n<text text-anchor=\"middle\" x=\"2363.5\" y=\"-1234.3\" font-family=\"Helvetica,sans-Serif\" font-size=\"14.00\">class = no_debit_card</text>\n</g>\n<!-- 173&#45;&gt;174 -->\n<g id=\"edge174\" class=\"edge\">\n<title>173&#45;&gt;174</title>\n<path fill=\"none\" stroke=\"black\" d=\"M2181.26,-1183.55C2186.97,-1186.68 2192.59,-1189.84 2198,-1193 2214.6,-1202.7 2216.97,-1208.07 2234,-1217 2240,-1220.15 2246.24,-1223.22 2252.59,-1226.19\"/>\n<polygon fill=\"black\" stroke=\"black\" points=\"2251.41,-1229.5 2261.96,-1230.48 2254.32,-1223.14 2251.41,-1229.5\"/>\n</g>\n<!-- 177 -->\n<g id=\"node178\" class=\"node\">\n<title>177</title>\n<path fill=\"#70b8ec\" stroke=\"black\" d=\"M2414.5,-1208C2414.5,-1208 2312.5,-1208 2312.5,-1208 2306.5,-1208 2300.5,-1202 2300.5,-1196 2300.5,-1196 2300.5,-1152 2300.5,-1152 2300.5,-1146 2306.5,-1140 2312.5,-1140 2312.5,-1140 2414.5,-1140 2414.5,-1140 2420.5,-1140 2426.5,-1146 2426.5,-1152 2426.5,-1152 2426.5,-1196 2426.5,-1196 2426.5,-1202 2420.5,-1208 2414.5,-1208\"/>\n<text text-anchor=\"middle\" x=\"2363.5\" y=\"-1192.8\" font-family=\"Helvetica,sans-Serif\" font-size=\"14.00\">gini = 0.34</text>\n<text text-anchor=\"middle\" x=\"2363.5\" y=\"-1177.8\" font-family=\"Helvetica,sans-Serif\" font-size=\"14.00\">samples = 23</text>\n<text text-anchor=\"middle\" x=\"2363.5\" y=\"-1162.8\" font-family=\"Helvetica,sans-Serif\" font-size=\"14.00\">value = [5, 18]</text>\n<text text-anchor=\"middle\" x=\"2363.5\" y=\"-1147.8\" font-family=\"Helvetica,sans-Serif\" font-size=\"14.00\">class = debit_card</text>\n</g>\n<!-- 173&#45;&gt;177 -->\n<g id=\"edge177\" class=\"edge\">\n<title>173&#45;&gt;177</title>\n<path fill=\"none\" stroke=\"black\" d=\"M2186.85,-1152.79C2220.47,-1156.85 2258.26,-1161.41 2290.15,-1165.26\"/>\n<polygon fill=\"black\" stroke=\"black\" points=\"2289.93,-1168.76 2300.28,-1166.49 2290.77,-1161.81 2289.93,-1168.76\"/>\n</g>\n<!-- 175 -->\n<g id=\"node176\" class=\"node\">\n<title>175</title>\n<path fill=\"#f7d8c1\" stroke=\"black\" d=\"M2666,-1345C2666,-1345 2541,-1345 2541,-1345 2535,-1345 2529,-1339 2529,-1333 2529,-1333 2529,-1289 2529,-1289 2529,-1283 2535,-1277 2541,-1277 2541,-1277 2666,-1277 2666,-1277 2672,-1277 2678,-1283 2678,-1289 2678,-1289 2678,-1333 2678,-1333 2678,-1339 2672,-1345 2666,-1345\"/>\n<text text-anchor=\"middle\" x=\"2603.5\" y=\"-1329.8\" font-family=\"Helvetica,sans-Serif\" font-size=\"14.00\">gini = 0.483</text>\n<text text-anchor=\"middle\" x=\"2603.5\" y=\"-1314.8\" font-family=\"Helvetica,sans-Serif\" font-size=\"14.00\">samples = 1578</text>\n<text text-anchor=\"middle\" x=\"2603.5\" y=\"-1299.8\" font-family=\"Helvetica,sans-Serif\" font-size=\"14.00\">value = [935, 643]</text>\n<text text-anchor=\"middle\" x=\"2603.5\" y=\"-1284.8\" font-family=\"Helvetica,sans-Serif\" font-size=\"14.00\">class = no_debit_card</text>\n</g>\n<!-- 174&#45;&gt;175 -->\n<g id=\"edge175\" class=\"edge\">\n<title>174&#45;&gt;175</title>\n<path fill=\"none\" stroke=\"black\" d=\"M2465.09,-1286.17C2483.01,-1289.41 2501.51,-1292.75 2518.89,-1295.89\"/>\n<polygon fill=\"black\" stroke=\"black\" points=\"2518.52,-1299.38 2528.99,-1297.72 2519.77,-1292.5 2518.52,-1299.38\"/>\n</g>\n<!-- 176 -->\n<g id=\"node177\" class=\"node\">\n<title>176</title>\n<path fill=\"#e88e4d\" stroke=\"black\" d=\"M2666,-1259C2666,-1259 2541,-1259 2541,-1259 2535,-1259 2529,-1253 2529,-1247 2529,-1247 2529,-1203 2529,-1203 2529,-1197 2535,-1191 2541,-1191 2541,-1191 2666,-1191 2666,-1191 2672,-1191 2678,-1197 2678,-1203 2678,-1203 2678,-1247 2678,-1247 2678,-1253 2672,-1259 2666,-1259\"/>\n<text text-anchor=\"middle\" x=\"2603.5\" y=\"-1243.8\" font-family=\"Helvetica,sans-Serif\" font-size=\"14.00\">gini = 0.165</text>\n<text text-anchor=\"middle\" x=\"2603.5\" y=\"-1228.8\" font-family=\"Helvetica,sans-Serif\" font-size=\"14.00\">samples = 22</text>\n<text text-anchor=\"middle\" x=\"2603.5\" y=\"-1213.8\" font-family=\"Helvetica,sans-Serif\" font-size=\"14.00\">value = [20, 2]</text>\n<text text-anchor=\"middle\" x=\"2603.5\" y=\"-1198.8\" font-family=\"Helvetica,sans-Serif\" font-size=\"14.00\">class = no_debit_card</text>\n</g>\n<!-- 174&#45;&gt;176 -->\n<g id=\"edge176\" class=\"edge\">\n<title>174&#45;&gt;176</title>\n<path fill=\"none\" stroke=\"black\" d=\"M2465.09,-1249.83C2483.01,-1246.59 2501.51,-1243.25 2518.89,-1240.11\"/>\n<polygon fill=\"black\" stroke=\"black\" points=\"2519.77,-1243.5 2528.99,-1238.28 2518.52,-1236.62 2519.77,-1243.5\"/>\n</g>\n<!-- 179 -->\n<g id=\"node180\" class=\"node\">\n<title>179</title>\n<path fill=\"#fcf2ea\" stroke=\"black\" d=\"M2426,-1121.5C2426,-1121.5 2301,-1121.5 2301,-1121.5 2295,-1121.5 2289,-1115.5 2289,-1109.5 2289,-1109.5 2289,-1050.5 2289,-1050.5 2289,-1044.5 2295,-1038.5 2301,-1038.5 2301,-1038.5 2426,-1038.5 2426,-1038.5 2432,-1038.5 2438,-1044.5 2438,-1050.5 2438,-1050.5 2438,-1109.5 2438,-1109.5 2438,-1115.5 2432,-1121.5 2426,-1121.5\"/>\n<text text-anchor=\"middle\" x=\"2363.5\" y=\"-1106.3\" font-family=\"Helvetica,sans-Serif\" font-size=\"14.00\">age &lt;= 59.5</text>\n<text text-anchor=\"middle\" x=\"2363.5\" y=\"-1091.3\" font-family=\"Helvetica,sans-Serif\" font-size=\"14.00\">gini = 0.498</text>\n<text text-anchor=\"middle\" x=\"2363.5\" y=\"-1076.3\" font-family=\"Helvetica,sans-Serif\" font-size=\"14.00\">samples = 2565</text>\n<text text-anchor=\"middle\" x=\"2363.5\" y=\"-1061.3\" font-family=\"Helvetica,sans-Serif\" font-size=\"14.00\">value = [1355, 1210]</text>\n<text text-anchor=\"middle\" x=\"2363.5\" y=\"-1046.3\" font-family=\"Helvetica,sans-Serif\" font-size=\"14.00\">class = no_debit_card</text>\n</g>\n<!-- 178&#45;&gt;179 -->\n<g id=\"edge179\" class=\"edge\">\n<title>178&#45;&gt;179</title>\n<path fill=\"none\" stroke=\"black\" d=\"M2171.32,-1051.86C2204.63,-1056.77 2244.15,-1062.58 2278.58,-1067.65\"/>\n<polygon fill=\"black\" stroke=\"black\" points=\"2278.22,-1071.13 2288.62,-1069.13 2279.24,-1064.21 2278.22,-1071.13\"/>\n</g>\n<!-- 182 -->\n<g id=\"node183\" class=\"node\">\n<title>182</title>\n<path fill=\"#e9975b\" stroke=\"black\" d=\"M2426,-1020C2426,-1020 2301,-1020 2301,-1020 2295,-1020 2289,-1014 2289,-1008 2289,-1008 2289,-964 2289,-964 2289,-958 2295,-952 2301,-952 2301,-952 2426,-952 2426,-952 2432,-952 2438,-958 2438,-964 2438,-964 2438,-1008 2438,-1008 2438,-1014 2432,-1020 2426,-1020\"/>\n<text text-anchor=\"middle\" x=\"2363.5\" y=\"-1004.8\" font-family=\"Helvetica,sans-Serif\" font-size=\"14.00\">gini = 0.251</text>\n<text text-anchor=\"middle\" x=\"2363.5\" y=\"-989.8\" font-family=\"Helvetica,sans-Serif\" font-size=\"14.00\">samples = 34</text>\n<text text-anchor=\"middle\" x=\"2363.5\" y=\"-974.8\" font-family=\"Helvetica,sans-Serif\" font-size=\"14.00\">value = [29, 5]</text>\n<text text-anchor=\"middle\" x=\"2363.5\" y=\"-959.8\" font-family=\"Helvetica,sans-Serif\" font-size=\"14.00\">class = no_debit_card</text>\n</g>\n<!-- 178&#45;&gt;182 -->\n<g id=\"edge182\" class=\"edge\">\n<title>178&#45;&gt;182</title>\n<path fill=\"none\" stroke=\"black\" d=\"M2171.32,-1025.68C2204.63,-1018.77 2244.15,-1010.56 2278.58,-1003.42\"/>\n<polygon fill=\"black\" stroke=\"black\" points=\"2279.54,-1006.79 2288.62,-1001.33 2278.12,-999.94 2279.54,-1006.79\"/>\n</g>\n<!-- 180 -->\n<g id=\"node181\" class=\"node\">\n<title>180</title>\n<path fill=\"#fbeee4\" stroke=\"black\" d=\"M2666,-1143C2666,-1143 2541,-1143 2541,-1143 2535,-1143 2529,-1137 2529,-1131 2529,-1131 2529,-1087 2529,-1087 2529,-1081 2535,-1075 2541,-1075 2541,-1075 2666,-1075 2666,-1075 2672,-1075 2678,-1081 2678,-1087 2678,-1087 2678,-1131 2678,-1131 2678,-1137 2672,-1143 2666,-1143\"/>\n<text text-anchor=\"middle\" x=\"2603.5\" y=\"-1127.8\" font-family=\"Helvetica,sans-Serif\" font-size=\"14.00\">gini = 0.497</text>\n<text text-anchor=\"middle\" x=\"2603.5\" y=\"-1112.8\" font-family=\"Helvetica,sans-Serif\" font-size=\"14.00\">samples = 2346</text>\n<text text-anchor=\"middle\" x=\"2603.5\" y=\"-1097.8\" font-family=\"Helvetica,sans-Serif\" font-size=\"14.00\">value = [1260, 1086]</text>\n<text text-anchor=\"middle\" x=\"2603.5\" y=\"-1082.8\" font-family=\"Helvetica,sans-Serif\" font-size=\"14.00\">class = no_debit_card</text>\n</g>\n<!-- 179&#45;&gt;180 -->\n<g id=\"edge180\" class=\"edge\">\n<title>179&#45;&gt;180</title>\n<path fill=\"none\" stroke=\"black\" d=\"M2438.17,-1088.98C2463.72,-1092.09 2492.54,-1095.6 2518.82,-1098.8\"/>\n<polygon fill=\"black\" stroke=\"black\" points=\"2518.41,-1102.28 2528.76,-1100.02 2519.26,-1095.33 2518.41,-1102.28\"/>\n</g>\n<!-- 181 -->\n<g id=\"node182\" class=\"node\">\n<title>181</title>\n<path fill=\"#d1e8f9\" stroke=\"black\" d=\"M2654.5,-1057C2654.5,-1057 2552.5,-1057 2552.5,-1057 2546.5,-1057 2540.5,-1051 2540.5,-1045 2540.5,-1045 2540.5,-1001 2540.5,-1001 2540.5,-995 2546.5,-989 2552.5,-989 2552.5,-989 2654.5,-989 2654.5,-989 2660.5,-989 2666.5,-995 2666.5,-1001 2666.5,-1001 2666.5,-1045 2666.5,-1045 2666.5,-1051 2660.5,-1057 2654.5,-1057\"/>\n<text text-anchor=\"middle\" x=\"2603.5\" y=\"-1041.8\" font-family=\"Helvetica,sans-Serif\" font-size=\"14.00\">gini = 0.491</text>\n<text text-anchor=\"middle\" x=\"2603.5\" y=\"-1026.8\" font-family=\"Helvetica,sans-Serif\" font-size=\"14.00\">samples = 219</text>\n<text text-anchor=\"middle\" x=\"2603.5\" y=\"-1011.8\" font-family=\"Helvetica,sans-Serif\" font-size=\"14.00\">value = [95, 124]</text>\n<text text-anchor=\"middle\" x=\"2603.5\" y=\"-996.8\" font-family=\"Helvetica,sans-Serif\" font-size=\"14.00\">class = debit_card</text>\n</g>\n<!-- 179&#45;&gt;181 -->\n<g id=\"edge181\" class=\"edge\">\n<title>179&#45;&gt;181</title>\n<path fill=\"none\" stroke=\"black\" d=\"M2438.17,-1062.36C2467.61,-1055.31 2501.4,-1047.21 2530.65,-1040.21\"/>\n<polygon fill=\"black\" stroke=\"black\" points=\"2531.48,-1043.61 2540.39,-1037.88 2529.85,-1036.8 2531.48,-1043.61\"/>\n</g>\n<!-- 184 -->\n<g id=\"node185\" class=\"node\">\n<title>184</title>\n<path fill=\"#f7d9c4\" stroke=\"black\" d=\"M2159,-981C2159,-981 2034,-981 2034,-981 2028,-981 2022,-975 2022,-969 2022,-969 2022,-925 2022,-925 2022,-919 2028,-913 2034,-913 2034,-913 2159,-913 2159,-913 2165,-913 2171,-919 2171,-925 2171,-925 2171,-969 2171,-969 2171,-975 2165,-981 2159,-981\"/>\n<text text-anchor=\"middle\" x=\"2096.5\" y=\"-965.8\" font-family=\"Helvetica,sans-Serif\" font-size=\"14.00\">gini = 0.485</text>\n<text text-anchor=\"middle\" x=\"2096.5\" y=\"-950.8\" font-family=\"Helvetica,sans-Serif\" font-size=\"14.00\">samples = 308</text>\n<text text-anchor=\"middle\" x=\"2096.5\" y=\"-935.8\" font-family=\"Helvetica,sans-Serif\" font-size=\"14.00\">value = [181, 127]</text>\n<text text-anchor=\"middle\" x=\"2096.5\" y=\"-920.8\" font-family=\"Helvetica,sans-Serif\" font-size=\"14.00\">class = no_debit_card</text>\n</g>\n<!-- 183&#45;&gt;184 -->\n<g id=\"edge184\" class=\"edge\">\n<title>183&#45;&gt;184</title>\n<path fill=\"none\" stroke=\"black\" d=\"M1932.19,-947C1957.38,-947 1985.74,-947 2011.67,-947\"/>\n<polygon fill=\"black\" stroke=\"black\" points=\"2011.86,-950.5 2021.86,-947 2011.86,-943.5 2011.86,-950.5\"/>\n</g>\n<!-- 185 -->\n<g id=\"node186\" class=\"node\">\n<title>185</title>\n<path fill=\"#f0b58a\" stroke=\"black\" d=\"M2159,-894.5C2159,-894.5 2034,-894.5 2034,-894.5 2028,-894.5 2022,-888.5 2022,-882.5 2022,-882.5 2022,-823.5 2022,-823.5 2022,-817.5 2028,-811.5 2034,-811.5 2034,-811.5 2159,-811.5 2159,-811.5 2165,-811.5 2171,-817.5 2171,-823.5 2171,-823.5 2171,-882.5 2171,-882.5 2171,-888.5 2165,-894.5 2159,-894.5\"/>\n<text text-anchor=\"middle\" x=\"2096.5\" y=\"-879.3\" font-family=\"Helvetica,sans-Serif\" font-size=\"14.00\">sale_month &lt;= 11.5</text>\n<text text-anchor=\"middle\" x=\"2096.5\" y=\"-864.3\" font-family=\"Helvetica,sans-Serif\" font-size=\"14.00\">gini = 0.412</text>\n<text text-anchor=\"middle\" x=\"2096.5\" y=\"-849.3\" font-family=\"Helvetica,sans-Serif\" font-size=\"14.00\">samples = 675</text>\n<text text-anchor=\"middle\" x=\"2096.5\" y=\"-834.3\" font-family=\"Helvetica,sans-Serif\" font-size=\"14.00\">value = [479, 196]</text>\n<text text-anchor=\"middle\" x=\"2096.5\" y=\"-819.3\" font-family=\"Helvetica,sans-Serif\" font-size=\"14.00\">class = no_debit_card</text>\n</g>\n<!-- 183&#45;&gt;185 -->\n<g id=\"edge185\" class=\"edge\">\n<title>183&#45;&gt;185</title>\n<path fill=\"none\" stroke=\"black\" d=\"M1932.19,-917.77C1957.6,-907.69 1986.24,-896.33 2012.36,-885.98\"/>\n<polygon fill=\"black\" stroke=\"black\" points=\"2013.85,-889.15 2021.86,-882.21 2011.27,-882.64 2013.85,-889.15\"/>\n</g>\n<!-- 186 -->\n<g id=\"node187\" class=\"node\">\n<title>186</title>\n<path fill=\"#f0b890\" stroke=\"black\" d=\"M2481,-933.5C2481,-933.5 2246,-933.5 2246,-933.5 2240,-933.5 2234,-927.5 2234,-921.5 2234,-921.5 2234,-862.5 2234,-862.5 2234,-856.5 2240,-850.5 2246,-850.5 2246,-850.5 2481,-850.5 2481,-850.5 2487,-850.5 2493,-856.5 2493,-862.5 2493,-862.5 2493,-921.5 2493,-921.5 2493,-927.5 2487,-933.5 2481,-933.5\"/>\n<text text-anchor=\"middle\" x=\"2363.5\" y=\"-918.3\" font-family=\"Helvetica,sans-Serif\" font-size=\"14.00\">provincia_Santa Cruz de Tenerife &lt;= 0.5</text>\n<text text-anchor=\"middle\" x=\"2363.5\" y=\"-903.3\" font-family=\"Helvetica,sans-Serif\" font-size=\"14.00\">gini = 0.424</text>\n<text text-anchor=\"middle\" x=\"2363.5\" y=\"-888.3\" font-family=\"Helvetica,sans-Serif\" font-size=\"14.00\">samples = 624</text>\n<text text-anchor=\"middle\" x=\"2363.5\" y=\"-873.3\" font-family=\"Helvetica,sans-Serif\" font-size=\"14.00\">value = [434, 190]</text>\n<text text-anchor=\"middle\" x=\"2363.5\" y=\"-858.3\" font-family=\"Helvetica,sans-Serif\" font-size=\"14.00\">class = no_debit_card</text>\n</g>\n<!-- 185&#45;&gt;186 -->\n<g id=\"edge186\" class=\"edge\">\n<title>185&#45;&gt;186</title>\n<path fill=\"none\" stroke=\"black\" d=\"M2171.32,-863.86C2187.73,-866.28 2205.64,-868.92 2223.72,-871.58\"/>\n<polygon fill=\"black\" stroke=\"black\" points=\"2223.36,-875.06 2233.76,-873.05 2224.38,-868.14 2223.36,-875.06\"/>\n</g>\n<!-- 189 -->\n<g id=\"node190\" class=\"node\">\n<title>189</title>\n<path fill=\"#e89253\" stroke=\"black\" d=\"M2426,-832C2426,-832 2301,-832 2301,-832 2295,-832 2289,-826 2289,-820 2289,-820 2289,-776 2289,-776 2289,-770 2295,-764 2301,-764 2301,-764 2426,-764 2426,-764 2432,-764 2438,-770 2438,-776 2438,-776 2438,-820 2438,-820 2438,-826 2432,-832 2426,-832\"/>\n<text text-anchor=\"middle\" x=\"2363.5\" y=\"-816.8\" font-family=\"Helvetica,sans-Serif\" font-size=\"14.00\">gini = 0.208</text>\n<text text-anchor=\"middle\" x=\"2363.5\" y=\"-801.8\" font-family=\"Helvetica,sans-Serif\" font-size=\"14.00\">samples = 51</text>\n<text text-anchor=\"middle\" x=\"2363.5\" y=\"-786.8\" font-family=\"Helvetica,sans-Serif\" font-size=\"14.00\">value = [45, 6]</text>\n<text text-anchor=\"middle\" x=\"2363.5\" y=\"-771.8\" font-family=\"Helvetica,sans-Serif\" font-size=\"14.00\">class = no_debit_card</text>\n</g>\n<!-- 185&#45;&gt;189 -->\n<g id=\"edge189\" class=\"edge\">\n<title>185&#45;&gt;189</title>\n<path fill=\"none\" stroke=\"black\" d=\"M2171.32,-837.68C2204.63,-830.77 2244.15,-822.56 2278.58,-815.42\"/>\n<polygon fill=\"black\" stroke=\"black\" points=\"2279.54,-818.79 2288.62,-813.33 2278.12,-811.94 2279.54,-818.79\"/>\n</g>\n<!-- 187 -->\n<g id=\"node188\" class=\"node\">\n<title>187</title>\n<path fill=\"#f0b78e\" stroke=\"black\" d=\"M2666,-948C2666,-948 2541,-948 2541,-948 2535,-948 2529,-942 2529,-936 2529,-936 2529,-892 2529,-892 2529,-886 2535,-880 2541,-880 2541,-880 2666,-880 2666,-880 2672,-880 2678,-886 2678,-892 2678,-892 2678,-936 2678,-936 2678,-942 2672,-948 2666,-948\"/>\n<text text-anchor=\"middle\" x=\"2603.5\" y=\"-932.8\" font-family=\"Helvetica,sans-Serif\" font-size=\"14.00\">gini = 0.421</text>\n<text text-anchor=\"middle\" x=\"2603.5\" y=\"-917.8\" font-family=\"Helvetica,sans-Serif\" font-size=\"14.00\">samples = 621</text>\n<text text-anchor=\"middle\" x=\"2603.5\" y=\"-902.8\" font-family=\"Helvetica,sans-Serif\" font-size=\"14.00\">value = [434, 187]</text>\n<text text-anchor=\"middle\" x=\"2603.5\" y=\"-887.8\" font-family=\"Helvetica,sans-Serif\" font-size=\"14.00\">class = no_debit_card</text>\n</g>\n<!-- 186&#45;&gt;187 -->\n<g id=\"edge187\" class=\"edge\">\n<title>186&#45;&gt;187</title>\n<path fill=\"none\" stroke=\"black\" d=\"M2493.25,-903.9C2501.9,-904.7 2510.47,-905.49 2518.79,-906.26\"/>\n<polygon fill=\"black\" stroke=\"black\" points=\"2518.52,-909.75 2528.8,-907.19 2519.17,-902.78 2518.52,-909.75\"/>\n</g>\n<!-- 188 -->\n<g id=\"node189\" class=\"node\">\n<title>188</title>\n<path fill=\"#399de5\" stroke=\"black\" d=\"M2654.5,-862C2654.5,-862 2552.5,-862 2552.5,-862 2546.5,-862 2540.5,-856 2540.5,-850 2540.5,-850 2540.5,-806 2540.5,-806 2540.5,-800 2546.5,-794 2552.5,-794 2552.5,-794 2654.5,-794 2654.5,-794 2660.5,-794 2666.5,-800 2666.5,-806 2666.5,-806 2666.5,-850 2666.5,-850 2666.5,-856 2660.5,-862 2654.5,-862\"/>\n<text text-anchor=\"middle\" x=\"2603.5\" y=\"-846.8\" font-family=\"Helvetica,sans-Serif\" font-size=\"14.00\">gini = 0.0</text>\n<text text-anchor=\"middle\" x=\"2603.5\" y=\"-831.8\" font-family=\"Helvetica,sans-Serif\" font-size=\"14.00\">samples = 3</text>\n<text text-anchor=\"middle\" x=\"2603.5\" y=\"-816.8\" font-family=\"Helvetica,sans-Serif\" font-size=\"14.00\">value = [0, 3]</text>\n<text text-anchor=\"middle\" x=\"2603.5\" y=\"-801.8\" font-family=\"Helvetica,sans-Serif\" font-size=\"14.00\">class = debit_card</text>\n</g>\n<!-- 186&#45;&gt;188 -->\n<g id=\"edge188\" class=\"edge\">\n<title>186&#45;&gt;188</title>\n<path fill=\"none\" stroke=\"black\" d=\"M2493.25,-857.38C2506,-853.95 2518.6,-850.56 2530.46,-847.37\"/>\n<polygon fill=\"black\" stroke=\"black\" points=\"2531.49,-850.72 2540.23,-844.74 2529.67,-843.96 2531.49,-850.72\"/>\n</g>\n<!-- 192 -->\n<g id=\"node193\" class=\"node\">\n<title>192</title>\n<path fill=\"#f8dcc9\" stroke=\"black\" d=\"M1408,-771.5C1408,-771.5 1283,-771.5 1283,-771.5 1277,-771.5 1271,-765.5 1271,-759.5 1271,-759.5 1271,-700.5 1271,-700.5 1271,-694.5 1277,-688.5 1283,-688.5 1283,-688.5 1408,-688.5 1408,-688.5 1414,-688.5 1420,-694.5 1420,-700.5 1420,-700.5 1420,-759.5 1420,-759.5 1420,-765.5 1414,-771.5 1408,-771.5\"/>\n<text text-anchor=\"middle\" x=\"1345.5\" y=\"-756.3\" font-family=\"Helvetica,sans-Serif\" font-size=\"14.00\">sale_month &lt;= 2.5</text>\n<text text-anchor=\"middle\" x=\"1345.5\" y=\"-741.3\" font-family=\"Helvetica,sans-Serif\" font-size=\"14.00\">gini = 0.487</text>\n<text text-anchor=\"middle\" x=\"1345.5\" y=\"-726.3\" font-family=\"Helvetica,sans-Serif\" font-size=\"14.00\">samples = 1334</text>\n<text text-anchor=\"middle\" x=\"1345.5\" y=\"-711.3\" font-family=\"Helvetica,sans-Serif\" font-size=\"14.00\">value = [773, 561]</text>\n<text text-anchor=\"middle\" x=\"1345.5\" y=\"-696.3\" font-family=\"Helvetica,sans-Serif\" font-size=\"14.00\">class = no_debit_card</text>\n</g>\n<!-- 191&#45;&gt;192 -->\n<g id=\"edge192\" class=\"edge\">\n<title>191&#45;&gt;192</title>\n<path fill=\"none\" stroke=\"black\" d=\"M1209.19,-730C1225.73,-730 1243.41,-730 1260.34,-730\"/>\n<polygon fill=\"black\" stroke=\"black\" points=\"1260.78,-733.5 1270.78,-730 1260.78,-726.5 1260.78,-733.5\"/>\n</g>\n<!-- 201 -->\n<g id=\"node202\" class=\"node\">\n<title>201</title>\n<path fill=\"#deeffb\" stroke=\"black\" d=\"M1402,-623.5C1402,-623.5 1289,-623.5 1289,-623.5 1283,-623.5 1277,-617.5 1277,-611.5 1277,-611.5 1277,-552.5 1277,-552.5 1277,-546.5 1283,-540.5 1289,-540.5 1289,-540.5 1402,-540.5 1402,-540.5 1408,-540.5 1414,-546.5 1414,-552.5 1414,-552.5 1414,-611.5 1414,-611.5 1414,-617.5 1408,-623.5 1402,-623.5\"/>\n<text text-anchor=\"middle\" x=\"1345.5\" y=\"-608.3\" font-family=\"Helvetica,sans-Serif\" font-size=\"14.00\">sale_month &lt;= 11.5</text>\n<text text-anchor=\"middle\" x=\"1345.5\" y=\"-593.3\" font-family=\"Helvetica,sans-Serif\" font-size=\"14.00\">gini = 0.496</text>\n<text text-anchor=\"middle\" x=\"1345.5\" y=\"-578.3\" font-family=\"Helvetica,sans-Serif\" font-size=\"14.00\">samples = 1187</text>\n<text text-anchor=\"middle\" x=\"1345.5\" y=\"-563.3\" font-family=\"Helvetica,sans-Serif\" font-size=\"14.00\">value = [539, 648]</text>\n<text text-anchor=\"middle\" x=\"1345.5\" y=\"-548.3\" font-family=\"Helvetica,sans-Serif\" font-size=\"14.00\">class = debit_card</text>\n</g>\n<!-- 191&#45;&gt;201 -->\n<g id=\"edge201\" class=\"edge\">\n<title>191&#45;&gt;201</title>\n<path fill=\"none\" stroke=\"black\" d=\"M1194.27,-688.38C1220.21,-670.02 1250.82,-648.34 1277.62,-629.36\"/>\n<polygon fill=\"black\" stroke=\"black\" points=\"1279.67,-632.2 1285.81,-623.56 1275.62,-626.49 1279.67,-632.2\"/>\n</g>\n<!-- 193 -->\n<g id=\"node194\" class=\"node\">\n<title>193</title>\n<path fill=\"#e3f1fb\" stroke=\"black\" d=\"M1645.5,-815C1645.5,-815 1543.5,-815 1543.5,-815 1537.5,-815 1531.5,-809 1531.5,-803 1531.5,-803 1531.5,-759 1531.5,-759 1531.5,-753 1537.5,-747 1543.5,-747 1543.5,-747 1645.5,-747 1645.5,-747 1651.5,-747 1657.5,-753 1657.5,-759 1657.5,-759 1657.5,-803 1657.5,-803 1657.5,-809 1651.5,-815 1645.5,-815\"/>\n<text text-anchor=\"middle\" x=\"1594.5\" y=\"-799.8\" font-family=\"Helvetica,sans-Serif\" font-size=\"14.00\">gini = 0.497</text>\n<text text-anchor=\"middle\" x=\"1594.5\" y=\"-784.8\" font-family=\"Helvetica,sans-Serif\" font-size=\"14.00\">samples = 297</text>\n<text text-anchor=\"middle\" x=\"1594.5\" y=\"-769.8\" font-family=\"Helvetica,sans-Serif\" font-size=\"14.00\">value = [137, 160]</text>\n<text text-anchor=\"middle\" x=\"1594.5\" y=\"-754.8\" font-family=\"Helvetica,sans-Serif\" font-size=\"14.00\">class = debit_card</text>\n</g>\n<!-- 192&#45;&gt;193 -->\n<g id=\"edge193\" class=\"edge\">\n<title>192&#45;&gt;193</title>\n<path fill=\"none\" stroke=\"black\" d=\"M1420.27,-745.23C1452.21,-751.83 1489.48,-759.52 1521.25,-766.08\"/>\n<polygon fill=\"black\" stroke=\"black\" points=\"1520.85,-769.57 1531.35,-768.17 1522.27,-762.72 1520.85,-769.57\"/>\n</g>\n<!-- 194 -->\n<g id=\"node195\" class=\"node\">\n<title>194</title>\n<path fill=\"#f5d0b6\" stroke=\"black\" d=\"M1657,-728.5C1657,-728.5 1532,-728.5 1532,-728.5 1526,-728.5 1520,-722.5 1520,-716.5 1520,-716.5 1520,-657.5 1520,-657.5 1520,-651.5 1526,-645.5 1532,-645.5 1532,-645.5 1657,-645.5 1657,-645.5 1663,-645.5 1669,-651.5 1669,-657.5 1669,-657.5 1669,-716.5 1669,-716.5 1669,-722.5 1663,-728.5 1657,-728.5\"/>\n<text text-anchor=\"middle\" x=\"1594.5\" y=\"-713.3\" font-family=\"Helvetica,sans-Serif\" font-size=\"14.00\">salary &lt;= 66970.918</text>\n<text text-anchor=\"middle\" x=\"1594.5\" y=\"-698.3\" font-family=\"Helvetica,sans-Serif\" font-size=\"14.00\">gini = 0.474</text>\n<text text-anchor=\"middle\" x=\"1594.5\" y=\"-683.3\" font-family=\"Helvetica,sans-Serif\" font-size=\"14.00\">samples = 1037</text>\n<text text-anchor=\"middle\" x=\"1594.5\" y=\"-668.3\" font-family=\"Helvetica,sans-Serif\" font-size=\"14.00\">value = [636, 401]</text>\n<text text-anchor=\"middle\" x=\"1594.5\" y=\"-653.3\" font-family=\"Helvetica,sans-Serif\" font-size=\"14.00\">class = no_debit_card</text>\n</g>\n<!-- 192&#45;&gt;194 -->\n<g id=\"edge194\" class=\"edge\">\n<title>192&#45;&gt;194</title>\n<path fill=\"none\" stroke=\"black\" d=\"M1420.27,-717.16C1448.38,-712.26 1480.6,-706.65 1509.58,-701.61\"/>\n<polygon fill=\"black\" stroke=\"black\" points=\"1510.43,-705.01 1519.68,-699.85 1509.23,-698.12 1510.43,-705.01\"/>\n</g>\n<!-- 195 -->\n<g id=\"node196\" class=\"node\">\n<title>195</title>\n<path fill=\"#fbece1\" stroke=\"black\" d=\"M1920,-801C1920,-801 1795,-801 1795,-801 1789,-801 1783,-795 1783,-789 1783,-789 1783,-745 1783,-745 1783,-739 1789,-733 1795,-733 1795,-733 1920,-733 1920,-733 1926,-733 1932,-739 1932,-745 1932,-745 1932,-789 1932,-789 1932,-795 1926,-801 1920,-801\"/>\n<text text-anchor=\"middle\" x=\"1857.5\" y=\"-785.8\" font-family=\"Helvetica,sans-Serif\" font-size=\"14.00\">gini = 0.497</text>\n<text text-anchor=\"middle\" x=\"1857.5\" y=\"-770.8\" font-family=\"Helvetica,sans-Serif\" font-size=\"14.00\">samples = 385</text>\n<text text-anchor=\"middle\" x=\"1857.5\" y=\"-755.8\" font-family=\"Helvetica,sans-Serif\" font-size=\"14.00\">value = [208, 177]</text>\n<text text-anchor=\"middle\" x=\"1857.5\" y=\"-740.8\" font-family=\"Helvetica,sans-Serif\" font-size=\"14.00\">class = no_debit_card</text>\n</g>\n<!-- 194&#45;&gt;195 -->\n<g id=\"edge195\" class=\"edge\">\n<title>194&#45;&gt;195</title>\n<path fill=\"none\" stroke=\"black\" d=\"M1669.25,-709.6C1701.62,-719.53 1739.79,-731.23 1773.19,-741.47\"/>\n<polygon fill=\"black\" stroke=\"black\" points=\"1772.35,-744.87 1782.94,-744.45 1774.4,-738.17 1772.35,-744.87\"/>\n</g>\n<!-- 196 -->\n<g id=\"node197\" class=\"node\">\n<title>196</title>\n<path fill=\"#f3c3a1\" stroke=\"black\" d=\"M1920,-714.5C1920,-714.5 1795,-714.5 1795,-714.5 1789,-714.5 1783,-708.5 1783,-702.5 1783,-702.5 1783,-643.5 1783,-643.5 1783,-637.5 1789,-631.5 1795,-631.5 1795,-631.5 1920,-631.5 1920,-631.5 1926,-631.5 1932,-637.5 1932,-643.5 1932,-643.5 1932,-702.5 1932,-702.5 1932,-708.5 1926,-714.5 1920,-714.5\"/>\n<text text-anchor=\"middle\" x=\"1857.5\" y=\"-699.3\" font-family=\"Helvetica,sans-Serif\" font-size=\"14.00\">payroll &lt;= 0.5</text>\n<text text-anchor=\"middle\" x=\"1857.5\" y=\"-684.3\" font-family=\"Helvetica,sans-Serif\" font-size=\"14.00\">gini = 0.451</text>\n<text text-anchor=\"middle\" x=\"1857.5\" y=\"-669.3\" font-family=\"Helvetica,sans-Serif\" font-size=\"14.00\">samples = 652</text>\n<text text-anchor=\"middle\" x=\"1857.5\" y=\"-654.3\" font-family=\"Helvetica,sans-Serif\" font-size=\"14.00\">value = [428, 224]</text>\n<text text-anchor=\"middle\" x=\"1857.5\" y=\"-639.3\" font-family=\"Helvetica,sans-Serif\" font-size=\"14.00\">class = no_debit_card</text>\n</g>\n<!-- 194&#45;&gt;196 -->\n<g id=\"edge196\" class=\"edge\">\n<title>194&#45;&gt;196</title>\n<path fill=\"none\" stroke=\"black\" d=\"M1669.25,-683.04C1701.49,-681.31 1739.47,-679.28 1772.76,-677.49\"/>\n<polygon fill=\"black\" stroke=\"black\" points=\"1773.14,-680.98 1782.94,-676.95 1772.76,-673.99 1773.14,-680.98\"/>\n</g>\n<!-- 197 -->\n<g id=\"node198\" class=\"node\">\n<title>197</title>\n<path fill=\"#f1bc96\" stroke=\"black\" d=\"M2159,-757.5C2159,-757.5 2034,-757.5 2034,-757.5 2028,-757.5 2022,-751.5 2022,-745.5 2022,-745.5 2022,-686.5 2022,-686.5 2022,-680.5 2028,-674.5 2034,-674.5 2034,-674.5 2159,-674.5 2159,-674.5 2165,-674.5 2171,-680.5 2171,-686.5 2171,-686.5 2171,-745.5 2171,-745.5 2171,-751.5 2165,-757.5 2159,-757.5\"/>\n<text text-anchor=\"middle\" x=\"2096.5\" y=\"-742.3\" font-family=\"Helvetica,sans-Serif\" font-size=\"14.00\">em_acount &lt;= 0.5</text>\n<text text-anchor=\"middle\" x=\"2096.5\" y=\"-727.3\" font-family=\"Helvetica,sans-Serif\" font-size=\"14.00\">gini = 0.434</text>\n<text text-anchor=\"middle\" x=\"2096.5\" y=\"-712.3\" font-family=\"Helvetica,sans-Serif\" font-size=\"14.00\">samples = 533</text>\n<text text-anchor=\"middle\" x=\"2096.5\" y=\"-697.3\" font-family=\"Helvetica,sans-Serif\" font-size=\"14.00\">value = [363, 170]</text>\n<text text-anchor=\"middle\" x=\"2096.5\" y=\"-682.3\" font-family=\"Helvetica,sans-Serif\" font-size=\"14.00\">class = no_debit_card</text>\n</g>\n<!-- 196&#45;&gt;197 -->\n<g id=\"edge197\" class=\"edge\">\n<title>196&#45;&gt;197</title>\n<path fill=\"none\" stroke=\"black\" d=\"M1932.19,-686.37C1957.49,-690.96 1985.99,-696.13 2012.02,-700.85\"/>\n<polygon fill=\"black\" stroke=\"black\" points=\"2011.39,-704.3 2021.86,-702.64 2012.64,-697.41 2011.39,-704.3\"/>\n</g>\n<!-- 200 -->\n<g id=\"node201\" class=\"node\">\n<title>200</title>\n<path fill=\"#fbeadd\" stroke=\"black\" d=\"M2159,-656C2159,-656 2034,-656 2034,-656 2028,-656 2022,-650 2022,-644 2022,-644 2022,-600 2022,-600 2022,-594 2028,-588 2034,-588 2034,-588 2159,-588 2159,-588 2165,-588 2171,-594 2171,-600 2171,-600 2171,-644 2171,-644 2171,-650 2165,-656 2159,-656\"/>\n<text text-anchor=\"middle\" x=\"2096.5\" y=\"-640.8\" font-family=\"Helvetica,sans-Serif\" font-size=\"14.00\">gini = 0.496</text>\n<text text-anchor=\"middle\" x=\"2096.5\" y=\"-625.8\" font-family=\"Helvetica,sans-Serif\" font-size=\"14.00\">samples = 119</text>\n<text text-anchor=\"middle\" x=\"2096.5\" y=\"-610.8\" font-family=\"Helvetica,sans-Serif\" font-size=\"14.00\">value = [65, 54]</text>\n<text text-anchor=\"middle\" x=\"2096.5\" y=\"-595.8\" font-family=\"Helvetica,sans-Serif\" font-size=\"14.00\">class = no_debit_card</text>\n</g>\n<!-- 196&#45;&gt;200 -->\n<g id=\"edge200\" class=\"edge\">\n<title>196&#45;&gt;200</title>\n<path fill=\"none\" stroke=\"black\" d=\"M1932.19,-657.14C1957.49,-651.7 1985.99,-645.57 2012.02,-639.97\"/>\n<polygon fill=\"black\" stroke=\"black\" points=\"2012.82,-643.37 2021.86,-637.85 2011.34,-636.53 2012.82,-643.37\"/>\n</g>\n<!-- 198 -->\n<g id=\"node199\" class=\"node\">\n<title>198</title>\n<path fill=\"#eb9e67\" stroke=\"black\" d=\"M2426,-746C2426,-746 2301,-746 2301,-746 2295,-746 2289,-740 2289,-734 2289,-734 2289,-690 2289,-690 2289,-684 2295,-678 2301,-678 2301,-678 2426,-678 2426,-678 2432,-678 2438,-684 2438,-690 2438,-690 2438,-734 2438,-734 2438,-740 2432,-746 2426,-746\"/>\n<text text-anchor=\"middle\" x=\"2363.5\" y=\"-730.8\" font-family=\"Helvetica,sans-Serif\" font-size=\"14.00\">gini = 0.307</text>\n<text text-anchor=\"middle\" x=\"2363.5\" y=\"-715.8\" font-family=\"Helvetica,sans-Serif\" font-size=\"14.00\">samples = 111</text>\n<text text-anchor=\"middle\" x=\"2363.5\" y=\"-700.8\" font-family=\"Helvetica,sans-Serif\" font-size=\"14.00\">value = [90, 21]</text>\n<text text-anchor=\"middle\" x=\"2363.5\" y=\"-685.8\" font-family=\"Helvetica,sans-Serif\" font-size=\"14.00\">class = no_debit_card</text>\n</g>\n<!-- 197&#45;&gt;198 -->\n<g id=\"edge198\" class=\"edge\">\n<title>197&#45;&gt;198</title>\n<path fill=\"none\" stroke=\"black\" d=\"M2171.32,-714.89C2204.63,-714.38 2244.15,-713.79 2278.58,-713.27\"/>\n<polygon fill=\"black\" stroke=\"black\" points=\"2278.67,-716.77 2288.62,-713.12 2278.57,-709.77 2278.67,-716.77\"/>\n</g>\n<!-- 199 -->\n<g id=\"node200\" class=\"node\">\n<title>199</title>\n<path fill=\"#f3c6a5\" stroke=\"black\" d=\"M2426,-660C2426,-660 2301,-660 2301,-660 2295,-660 2289,-654 2289,-648 2289,-648 2289,-604 2289,-604 2289,-598 2295,-592 2301,-592 2301,-592 2426,-592 2426,-592 2432,-592 2438,-598 2438,-604 2438,-604 2438,-648 2438,-648 2438,-654 2432,-660 2426,-660\"/>\n<text text-anchor=\"middle\" x=\"2363.5\" y=\"-644.8\" font-family=\"Helvetica,sans-Serif\" font-size=\"14.00\">gini = 0.457</text>\n<text text-anchor=\"middle\" x=\"2363.5\" y=\"-629.8\" font-family=\"Helvetica,sans-Serif\" font-size=\"14.00\">samples = 422</text>\n<text text-anchor=\"middle\" x=\"2363.5\" y=\"-614.8\" font-family=\"Helvetica,sans-Serif\" font-size=\"14.00\">value = [273, 149]</text>\n<text text-anchor=\"middle\" x=\"2363.5\" y=\"-599.8\" font-family=\"Helvetica,sans-Serif\" font-size=\"14.00\">class = no_debit_card</text>\n</g>\n<!-- 197&#45;&gt;199 -->\n<g id=\"edge199\" class=\"edge\">\n<title>197&#45;&gt;199</title>\n<path fill=\"none\" stroke=\"black\" d=\"M2171.13,-690.51C2191.49,-683.51 2213.59,-675.93 2234,-669 2248.53,-664.07 2263.99,-658.86 2278.97,-653.83\"/>\n<polygon fill=\"black\" stroke=\"black\" points=\"2280.37,-657.06 2288.74,-650.56 2278.14,-650.42 2280.37,-657.06\"/>\n</g>\n<!-- 202 -->\n<g id=\"node203\" class=\"node\">\n<title>202</title>\n<path fill=\"#bcdef6\" stroke=\"black\" d=\"M1659.5,-623.5C1659.5,-623.5 1529.5,-623.5 1529.5,-623.5 1523.5,-623.5 1517.5,-617.5 1517.5,-611.5 1517.5,-611.5 1517.5,-552.5 1517.5,-552.5 1517.5,-546.5 1523.5,-540.5 1529.5,-540.5 1529.5,-540.5 1659.5,-540.5 1659.5,-540.5 1665.5,-540.5 1671.5,-546.5 1671.5,-552.5 1671.5,-552.5 1671.5,-611.5 1671.5,-611.5 1671.5,-617.5 1665.5,-623.5 1659.5,-623.5\"/>\n<text text-anchor=\"middle\" x=\"1594.5\" y=\"-608.3\" font-family=\"Helvetica,sans-Serif\" font-size=\"14.00\">payroll_account &lt;= 0.5</text>\n<text text-anchor=\"middle\" x=\"1594.5\" y=\"-593.3\" font-family=\"Helvetica,sans-Serif\" font-size=\"14.00\">gini = 0.479</text>\n<text text-anchor=\"middle\" x=\"1594.5\" y=\"-578.3\" font-family=\"Helvetica,sans-Serif\" font-size=\"14.00\">samples = 948</text>\n<text text-anchor=\"middle\" x=\"1594.5\" y=\"-563.3\" font-family=\"Helvetica,sans-Serif\" font-size=\"14.00\">value = [377, 571]</text>\n<text text-anchor=\"middle\" x=\"1594.5\" y=\"-548.3\" font-family=\"Helvetica,sans-Serif\" font-size=\"14.00\">class = debit_card</text>\n</g>\n<!-- 201&#45;&gt;202 -->\n<g id=\"edge202\" class=\"edge\">\n<title>201&#45;&gt;202</title>\n<path fill=\"none\" stroke=\"black\" d=\"M1414.32,-582C1442.93,-582 1476.59,-582 1506.96,-582\"/>\n<polygon fill=\"black\" stroke=\"black\" points=\"1507.12,-585.5 1517.12,-582 1507.12,-578.5 1507.12,-585.5\"/>\n</g>\n<!-- 211 -->\n<g id=\"node212\" class=\"node\">\n<title>211</title>\n<path fill=\"#f1bd97\" stroke=\"black\" d=\"M1657,-522C1657,-522 1532,-522 1532,-522 1526,-522 1520,-516 1520,-510 1520,-510 1520,-466 1520,-466 1520,-460 1526,-454 1532,-454 1532,-454 1657,-454 1657,-454 1663,-454 1669,-460 1669,-466 1669,-466 1669,-510 1669,-510 1669,-516 1663,-522 1657,-522\"/>\n<text text-anchor=\"middle\" x=\"1594.5\" y=\"-506.8\" font-family=\"Helvetica,sans-Serif\" font-size=\"14.00\">gini = 0.437</text>\n<text text-anchor=\"middle\" x=\"1594.5\" y=\"-491.8\" font-family=\"Helvetica,sans-Serif\" font-size=\"14.00\">samples = 239</text>\n<text text-anchor=\"middle\" x=\"1594.5\" y=\"-476.8\" font-family=\"Helvetica,sans-Serif\" font-size=\"14.00\">value = [162, 77]</text>\n<text text-anchor=\"middle\" x=\"1594.5\" y=\"-461.8\" font-family=\"Helvetica,sans-Serif\" font-size=\"14.00\">class = no_debit_card</text>\n</g>\n<!-- 201&#45;&gt;211 -->\n<g id=\"edge211\" class=\"edge\">\n<title>201&#45;&gt;211</title>\n<path fill=\"none\" stroke=\"black\" d=\"M1414.31,-553.65C1432.04,-546.42 1451.18,-538.78 1469,-532 1482.32,-526.93 1496.51,-521.73 1510.36,-516.76\"/>\n<polygon fill=\"black\" stroke=\"black\" points=\"1511.64,-520.02 1519.88,-513.36 1509.29,-513.43 1511.64,-520.02\"/>\n</g>\n<!-- 203 -->\n<g id=\"node204\" class=\"node\">\n<title>203</title>\n<path fill=\"#dceefa\" stroke=\"black\" d=\"M1908.5,-592.5C1908.5,-592.5 1806.5,-592.5 1806.5,-592.5 1800.5,-592.5 1794.5,-586.5 1794.5,-580.5 1794.5,-580.5 1794.5,-521.5 1794.5,-521.5 1794.5,-515.5 1800.5,-509.5 1806.5,-509.5 1806.5,-509.5 1908.5,-509.5 1908.5,-509.5 1914.5,-509.5 1920.5,-515.5 1920.5,-521.5 1920.5,-521.5 1920.5,-580.5 1920.5,-580.5 1920.5,-586.5 1914.5,-592.5 1908.5,-592.5\"/>\n<text text-anchor=\"middle\" x=\"1857.5\" y=\"-577.3\" font-family=\"Helvetica,sans-Serif\" font-size=\"14.00\">payroll &lt;= 0.5</text>\n<text text-anchor=\"middle\" x=\"1857.5\" y=\"-562.3\" font-family=\"Helvetica,sans-Serif\" font-size=\"14.00\">gini = 0.495</text>\n<text text-anchor=\"middle\" x=\"1857.5\" y=\"-547.3\" font-family=\"Helvetica,sans-Serif\" font-size=\"14.00\">samples = 791</text>\n<text text-anchor=\"middle\" x=\"1857.5\" y=\"-532.3\" font-family=\"Helvetica,sans-Serif\" font-size=\"14.00\">value = [357, 434]</text>\n<text text-anchor=\"middle\" x=\"1857.5\" y=\"-517.3\" font-family=\"Helvetica,sans-Serif\" font-size=\"14.00\">class = debit_card</text>\n</g>\n<!-- 202&#45;&gt;203 -->\n<g id=\"edge203\" class=\"edge\">\n<title>202&#45;&gt;203</title>\n<path fill=\"none\" stroke=\"black\" d=\"M1671.69,-572.95C1707.16,-568.74 1749.15,-563.75 1784.13,-559.6\"/>\n<polygon fill=\"black\" stroke=\"black\" points=\"1784.75,-563.05 1794.27,-558.39 1783.92,-556.1 1784.75,-563.05\"/>\n</g>\n<!-- 210 -->\n<g id=\"node211\" class=\"node\">\n<title>210</title>\n<path fill=\"#56abe9\" stroke=\"black\" d=\"M1908.5,-491C1908.5,-491 1806.5,-491 1806.5,-491 1800.5,-491 1794.5,-485 1794.5,-479 1794.5,-479 1794.5,-435 1794.5,-435 1794.5,-429 1800.5,-423 1806.5,-423 1806.5,-423 1908.5,-423 1908.5,-423 1914.5,-423 1920.5,-429 1920.5,-435 1920.5,-435 1920.5,-479 1920.5,-479 1920.5,-485 1914.5,-491 1908.5,-491\"/>\n<text text-anchor=\"middle\" x=\"1857.5\" y=\"-475.8\" font-family=\"Helvetica,sans-Serif\" font-size=\"14.00\">gini = 0.222</text>\n<text text-anchor=\"middle\" x=\"1857.5\" y=\"-460.8\" font-family=\"Helvetica,sans-Serif\" font-size=\"14.00\">samples = 157</text>\n<text text-anchor=\"middle\" x=\"1857.5\" y=\"-445.8\" font-family=\"Helvetica,sans-Serif\" font-size=\"14.00\">value = [20, 137]</text>\n<text text-anchor=\"middle\" x=\"1857.5\" y=\"-430.8\" font-family=\"Helvetica,sans-Serif\" font-size=\"14.00\">class = debit_card</text>\n</g>\n<!-- 202&#45;&gt;210 -->\n<g id=\"edge210\" class=\"edge\">\n<title>202&#45;&gt;210</title>\n<path fill=\"none\" stroke=\"black\" d=\"M1671.69,-555.11C1688.09,-548.15 1704.99,-540.03 1720,-531 1737.84,-520.26 1738.28,-511.95 1756,-501 1765.12,-495.36 1775.08,-490.08 1785.08,-485.26\"/>\n<polygon fill=\"black\" stroke=\"black\" points=\"1786.67,-488.38 1794.25,-480.98 1783.71,-482.04 1786.67,-488.38\"/>\n</g>\n<!-- 204 -->\n<g id=\"node205\" class=\"node\">\n<title>204</title>\n<path fill=\"#c9e4f8\" stroke=\"black\" d=\"M2175.5,-569.5C2175.5,-569.5 2017.5,-569.5 2017.5,-569.5 2011.5,-569.5 2005.5,-563.5 2005.5,-557.5 2005.5,-557.5 2005.5,-498.5 2005.5,-498.5 2005.5,-492.5 2011.5,-486.5 2017.5,-486.5 2017.5,-486.5 2175.5,-486.5 2175.5,-486.5 2181.5,-486.5 2187.5,-492.5 2187.5,-498.5 2187.5,-498.5 2187.5,-557.5 2187.5,-557.5 2187.5,-563.5 2181.5,-569.5 2175.5,-569.5\"/>\n<text text-anchor=\"middle\" x=\"2096.5\" y=\"-554.3\" font-family=\"Helvetica,sans-Serif\" font-size=\"14.00\">tasa_de_empleo &lt;= 53.215</text>\n<text text-anchor=\"middle\" x=\"2096.5\" y=\"-539.3\" font-family=\"Helvetica,sans-Serif\" font-size=\"14.00\">gini = 0.487</text>\n<text text-anchor=\"middle\" x=\"2096.5\" y=\"-524.3\" font-family=\"Helvetica,sans-Serif\" font-size=\"14.00\">samples = 737</text>\n<text text-anchor=\"middle\" x=\"2096.5\" y=\"-509.3\" font-family=\"Helvetica,sans-Serif\" font-size=\"14.00\">value = [310, 427]</text>\n<text text-anchor=\"middle\" x=\"2096.5\" y=\"-494.3\" font-family=\"Helvetica,sans-Serif\" font-size=\"14.00\">class = debit_card</text>\n</g>\n<!-- 203&#45;&gt;204 -->\n<g id=\"edge204\" class=\"edge\">\n<title>203&#45;&gt;204</title>\n<path fill=\"none\" stroke=\"black\" d=\"M1920.77,-544.96C1943.53,-542.75 1969.9,-540.19 1995.14,-537.74\"/>\n<polygon fill=\"black\" stroke=\"black\" points=\"1995.5,-541.22 2005.12,-536.77 1994.83,-534.25 1995.5,-541.22\"/>\n</g>\n<!-- 209 -->\n<g id=\"node210\" class=\"node\">\n<title>209</title>\n<path fill=\"#e99456\" stroke=\"black\" d=\"M2159,-468C2159,-468 2034,-468 2034,-468 2028,-468 2022,-462 2022,-456 2022,-456 2022,-412 2022,-412 2022,-406 2028,-400 2034,-400 2034,-400 2159,-400 2159,-400 2165,-400 2171,-406 2171,-412 2171,-412 2171,-456 2171,-456 2171,-462 2165,-468 2159,-468\"/>\n<text text-anchor=\"middle\" x=\"2096.5\" y=\"-452.8\" font-family=\"Helvetica,sans-Serif\" font-size=\"14.00\">gini = 0.226</text>\n<text text-anchor=\"middle\" x=\"2096.5\" y=\"-437.8\" font-family=\"Helvetica,sans-Serif\" font-size=\"14.00\">samples = 54</text>\n<text text-anchor=\"middle\" x=\"2096.5\" y=\"-422.8\" font-family=\"Helvetica,sans-Serif\" font-size=\"14.00\">value = [47, 7]</text>\n<text text-anchor=\"middle\" x=\"2096.5\" y=\"-407.8\" font-family=\"Helvetica,sans-Serif\" font-size=\"14.00\">class = no_debit_card</text>\n</g>\n<!-- 203&#45;&gt;209 -->\n<g id=\"edge209\" class=\"edge\">\n<title>203&#45;&gt;209</title>\n<path fill=\"none\" stroke=\"black\" d=\"M1920.56,-520.47C1933.37,-513.9 1946.7,-506.87 1959,-500 1975.37,-490.86 1978.37,-486.67 1995,-478 2000.65,-475.05 2006.54,-472.12 2012.52,-469.26\"/>\n<polygon fill=\"black\" stroke=\"black\" points=\"2014.39,-472.25 2021.95,-464.82 2011.41,-465.91 2014.39,-472.25\"/>\n</g>\n<!-- 205 -->\n<g id=\"node206\" class=\"node\">\n<title>205</title>\n<path fill=\"#b3d9f5\" stroke=\"black\" d=\"M2416.5,-571.5C2416.5,-571.5 2310.5,-571.5 2310.5,-571.5 2304.5,-571.5 2298.5,-565.5 2298.5,-559.5 2298.5,-559.5 2298.5,-500.5 2298.5,-500.5 2298.5,-494.5 2304.5,-488.5 2310.5,-488.5 2310.5,-488.5 2416.5,-488.5 2416.5,-488.5 2422.5,-488.5 2428.5,-494.5 2428.5,-500.5 2428.5,-500.5 2428.5,-559.5 2428.5,-559.5 2428.5,-565.5 2422.5,-571.5 2416.5,-571.5\"/>\n<text text-anchor=\"middle\" x=\"2363.5\" y=\"-556.3\" font-family=\"Helvetica,sans-Serif\" font-size=\"14.00\">sale_month &lt;= 8.5</text>\n<text text-anchor=\"middle\" x=\"2363.5\" y=\"-541.3\" font-family=\"Helvetica,sans-Serif\" font-size=\"14.00\">gini = 0.472</text>\n<text text-anchor=\"middle\" x=\"2363.5\" y=\"-526.3\" font-family=\"Helvetica,sans-Serif\" font-size=\"14.00\">samples = 582</text>\n<text text-anchor=\"middle\" x=\"2363.5\" y=\"-511.3\" font-family=\"Helvetica,sans-Serif\" font-size=\"14.00\">value = [222, 360]</text>\n<text text-anchor=\"middle\" x=\"2363.5\" y=\"-496.3\" font-family=\"Helvetica,sans-Serif\" font-size=\"14.00\">class = debit_card</text>\n</g>\n<!-- 204&#45;&gt;205 -->\n<g id=\"edge205\" class=\"edge\">\n<title>204&#45;&gt;205</title>\n<path fill=\"none\" stroke=\"black\" d=\"M2187.59,-528.68C2220.21,-528.93 2256.67,-529.2 2287.82,-529.44\"/>\n<polygon fill=\"black\" stroke=\"black\" points=\"2288.14,-532.94 2298.17,-529.51 2288.2,-525.94 2288.14,-532.94\"/>\n</g>\n<!-- 208 -->\n<g id=\"node209\" class=\"node\">\n<title>208</title>\n<path fill=\"#f9e1d0\" stroke=\"black\" d=\"M2426,-470C2426,-470 2301,-470 2301,-470 2295,-470 2289,-464 2289,-458 2289,-458 2289,-414 2289,-414 2289,-408 2295,-402 2301,-402 2301,-402 2426,-402 2426,-402 2432,-402 2438,-408 2438,-414 2438,-414 2438,-458 2438,-458 2438,-464 2432,-470 2426,-470\"/>\n<text text-anchor=\"middle\" x=\"2363.5\" y=\"-454.8\" font-family=\"Helvetica,sans-Serif\" font-size=\"14.00\">gini = 0.491</text>\n<text text-anchor=\"middle\" x=\"2363.5\" y=\"-439.8\" font-family=\"Helvetica,sans-Serif\" font-size=\"14.00\">samples = 155</text>\n<text text-anchor=\"middle\" x=\"2363.5\" y=\"-424.8\" font-family=\"Helvetica,sans-Serif\" font-size=\"14.00\">value = [88, 67]</text>\n<text text-anchor=\"middle\" x=\"2363.5\" y=\"-409.8\" font-family=\"Helvetica,sans-Serif\" font-size=\"14.00\">class = no_debit_card</text>\n</g>\n<!-- 204&#45;&gt;208 -->\n<g id=\"edge208\" class=\"edge\">\n<title>204&#45;&gt;208</title>\n<path fill=\"none\" stroke=\"black\" d=\"M2187.77,-496.14C2203.19,-490.73 2219.05,-485.19 2234,-480 2248.53,-474.96 2263.99,-469.63 2278.98,-464.49\"/>\n<polygon fill=\"black\" stroke=\"black\" points=\"2280.41,-467.7 2288.74,-461.14 2278.14,-461.07 2280.41,-467.7\"/>\n</g>\n<!-- 206 -->\n<g id=\"node207\" class=\"node\">\n<title>206</title>\n<path fill=\"#fbeee4\" stroke=\"black\" d=\"M2666,-607C2666,-607 2541,-607 2541,-607 2535,-607 2529,-601 2529,-595 2529,-595 2529,-551 2529,-551 2529,-545 2535,-539 2541,-539 2541,-539 2666,-539 2666,-539 2672,-539 2678,-545 2678,-551 2678,-551 2678,-595 2678,-595 2678,-601 2672,-607 2666,-607\"/>\n<text text-anchor=\"middle\" x=\"2603.5\" y=\"-591.8\" font-family=\"Helvetica,sans-Serif\" font-size=\"14.00\">gini = 0.497</text>\n<text text-anchor=\"middle\" x=\"2603.5\" y=\"-576.8\" font-family=\"Helvetica,sans-Serif\" font-size=\"14.00\">samples = 121</text>\n<text text-anchor=\"middle\" x=\"2603.5\" y=\"-561.8\" font-family=\"Helvetica,sans-Serif\" font-size=\"14.00\">value = [65, 56]</text>\n<text text-anchor=\"middle\" x=\"2603.5\" y=\"-546.8\" font-family=\"Helvetica,sans-Serif\" font-size=\"14.00\">class = no_debit_card</text>\n</g>\n<!-- 205&#45;&gt;206 -->\n<g id=\"edge206\" class=\"edge\">\n<title>205&#45;&gt;206</title>\n<path fill=\"none\" stroke=\"black\" d=\"M2428.59,-541.58C2456.3,-546.59 2489.1,-552.51 2518.7,-557.86\"/>\n<polygon fill=\"black\" stroke=\"black\" points=\"2518.14,-561.31 2528.6,-559.65 2519.38,-554.43 2518.14,-561.31\"/>\n</g>\n<!-- 207 -->\n<g id=\"node208\" class=\"node\">\n<title>207</title>\n<path fill=\"#9fd0f2\" stroke=\"black\" d=\"M2654.5,-521C2654.5,-521 2552.5,-521 2552.5,-521 2546.5,-521 2540.5,-515 2540.5,-509 2540.5,-509 2540.5,-465 2540.5,-465 2540.5,-459 2546.5,-453 2552.5,-453 2552.5,-453 2654.5,-453 2654.5,-453 2660.5,-453 2666.5,-459 2666.5,-465 2666.5,-465 2666.5,-509 2666.5,-509 2666.5,-515 2660.5,-521 2654.5,-521\"/>\n<text text-anchor=\"middle\" x=\"2603.5\" y=\"-505.8\" font-family=\"Helvetica,sans-Serif\" font-size=\"14.00\">gini = 0.449</text>\n<text text-anchor=\"middle\" x=\"2603.5\" y=\"-490.8\" font-family=\"Helvetica,sans-Serif\" font-size=\"14.00\">samples = 461</text>\n<text text-anchor=\"middle\" x=\"2603.5\" y=\"-475.8\" font-family=\"Helvetica,sans-Serif\" font-size=\"14.00\">value = [157, 304]</text>\n<text text-anchor=\"middle\" x=\"2603.5\" y=\"-460.8\" font-family=\"Helvetica,sans-Serif\" font-size=\"14.00\">class = debit_card</text>\n</g>\n<!-- 205&#45;&gt;207 -->\n<g id=\"edge207\" class=\"edge\">\n<title>205&#45;&gt;207</title>\n<path fill=\"none\" stroke=\"black\" d=\"M2428.59,-518.42C2460.04,-512.74 2498.03,-505.88 2530.47,-500.01\"/>\n<polygon fill=\"black\" stroke=\"black\" points=\"2531.13,-503.45 2540.35,-498.23 2529.89,-496.56 2531.13,-503.45\"/>\n</g>\n<!-- 213 -->\n<g id=\"node214\" class=\"node\">\n<title>213</title>\n<path fill=\"#eda774\" stroke=\"black\" d=\"M552.5,-309.5C552.5,-309.5 427.5,-309.5 427.5,-309.5 421.5,-309.5 415.5,-303.5 415.5,-297.5 415.5,-297.5 415.5,-238.5 415.5,-238.5 415.5,-232.5 421.5,-226.5 427.5,-226.5 427.5,-226.5 552.5,-226.5 552.5,-226.5 558.5,-226.5 564.5,-232.5 564.5,-238.5 564.5,-238.5 564.5,-297.5 564.5,-297.5 564.5,-303.5 558.5,-309.5 552.5,-309.5\"/>\n<text text-anchor=\"middle\" x=\"490\" y=\"-294.3\" font-family=\"Helvetica,sans-Serif\" font-size=\"14.00\">em_acount &lt;= 0.5</text>\n<text text-anchor=\"middle\" x=\"490\" y=\"-279.3\" font-family=\"Helvetica,sans-Serif\" font-size=\"14.00\">gini = 0.354</text>\n<text text-anchor=\"middle\" x=\"490\" y=\"-264.3\" font-family=\"Helvetica,sans-Serif\" font-size=\"14.00\">samples = 2016</text>\n<text text-anchor=\"middle\" x=\"490\" y=\"-249.3\" font-family=\"Helvetica,sans-Serif\" font-size=\"14.00\">value = [1553, 463]</text>\n<text text-anchor=\"middle\" x=\"490\" y=\"-234.3\" font-family=\"Helvetica,sans-Serif\" font-size=\"14.00\">class = no_debit_card</text>\n</g>\n<!-- 212&#45;&gt;213 -->\n<g id=\"edge213\" class=\"edge\">\n<title>212&#45;&gt;213</title>\n<path fill=\"none\" stroke=\"black\" d=\"M363.22,-268C376.89,-268 391.25,-268 405.19,-268\"/>\n<polygon fill=\"black\" stroke=\"black\" points=\"405.25,-271.5 415.25,-268 405.25,-264.5 405.25,-271.5\"/>\n</g>\n<!-- 234 -->\n<g id=\"node235\" class=\"node\">\n<title>234</title>\n<path fill=\"#fbece1\" stroke=\"black\" d=\"M552.5,-161.5C552.5,-161.5 427.5,-161.5 427.5,-161.5 421.5,-161.5 415.5,-155.5 415.5,-149.5 415.5,-149.5 415.5,-90.5 415.5,-90.5 415.5,-84.5 421.5,-78.5 427.5,-78.5 427.5,-78.5 552.5,-78.5 552.5,-78.5 558.5,-78.5 564.5,-84.5 564.5,-90.5 564.5,-90.5 564.5,-149.5 564.5,-149.5 564.5,-155.5 558.5,-161.5 552.5,-161.5\"/>\n<text text-anchor=\"middle\" x=\"490\" y=\"-146.3\" font-family=\"Helvetica,sans-Serif\" font-size=\"14.00\">em_acount &lt;= 0.5</text>\n<text text-anchor=\"middle\" x=\"490\" y=\"-131.3\" font-family=\"Helvetica,sans-Serif\" font-size=\"14.00\">gini = 0.497</text>\n<text text-anchor=\"middle\" x=\"490\" y=\"-116.3\" font-family=\"Helvetica,sans-Serif\" font-size=\"14.00\">samples = 579</text>\n<text text-anchor=\"middle\" x=\"490\" y=\"-101.3\" font-family=\"Helvetica,sans-Serif\" font-size=\"14.00\">value = [313, 266]</text>\n<text text-anchor=\"middle\" x=\"490\" y=\"-86.3\" font-family=\"Helvetica,sans-Serif\" font-size=\"14.00\">class = no_debit_card</text>\n</g>\n<!-- 212&#45;&gt;234 -->\n<g id=\"edge234\" class=\"edge\">\n<title>212&#45;&gt;234</title>\n<path fill=\"none\" stroke=\"black\" d=\"M345.6,-226.38C370.25,-208.1 399.32,-186.53 424.83,-167.61\"/>\n<polygon fill=\"black\" stroke=\"black\" points=\"427.03,-170.33 432.97,-161.56 422.86,-164.71 427.03,-170.33\"/>\n</g>\n<!-- 214 -->\n<g id=\"node215\" class=\"node\">\n<title>214</title>\n<path fill=\"#e89050\" stroke=\"black\" d=\"M770,-356.5C770,-356.5 640,-356.5 640,-356.5 634,-356.5 628,-350.5 628,-344.5 628,-344.5 628,-285.5 628,-285.5 628,-279.5 634,-273.5 640,-273.5 640,-273.5 770,-273.5 770,-273.5 776,-273.5 782,-279.5 782,-285.5 782,-285.5 782,-344.5 782,-344.5 782,-350.5 776,-356.5 770,-356.5\"/>\n<text text-anchor=\"middle\" x=\"705\" y=\"-341.3\" font-family=\"Helvetica,sans-Serif\" font-size=\"14.00\">payroll_account &lt;= 0.5</text>\n<text text-anchor=\"middle\" x=\"705\" y=\"-326.3\" font-family=\"Helvetica,sans-Serif\" font-size=\"14.00\">gini = 0.189</text>\n<text text-anchor=\"middle\" x=\"705\" y=\"-311.3\" font-family=\"Helvetica,sans-Serif\" font-size=\"14.00\">samples = 740</text>\n<text text-anchor=\"middle\" x=\"705\" y=\"-296.3\" font-family=\"Helvetica,sans-Serif\" font-size=\"14.00\">value = [662, 78]</text>\n<text text-anchor=\"middle\" x=\"705\" y=\"-281.3\" font-family=\"Helvetica,sans-Serif\" font-size=\"14.00\">class = no_debit_card</text>\n</g>\n<!-- 213&#45;&gt;214 -->\n<g id=\"edge214\" class=\"edge\">\n<title>213&#45;&gt;214</title>\n<path fill=\"none\" stroke=\"black\" d=\"M564.6,-284.24C581.69,-288.01 600.03,-292.06 617.61,-295.94\"/>\n<polygon fill=\"black\" stroke=\"black\" points=\"617.34,-299.46 627.86,-298.2 618.85,-292.63 617.34,-299.46\"/>\n</g>\n<!-- 227 -->\n<g id=\"node228\" class=\"node\">\n<title>227</title>\n<path fill=\"#f0b78f\" stroke=\"black\" d=\"M767.5,-255.5C767.5,-255.5 642.5,-255.5 642.5,-255.5 636.5,-255.5 630.5,-249.5 630.5,-243.5 630.5,-243.5 630.5,-184.5 630.5,-184.5 630.5,-178.5 636.5,-172.5 642.5,-172.5 642.5,-172.5 767.5,-172.5 767.5,-172.5 773.5,-172.5 779.5,-178.5 779.5,-184.5 779.5,-184.5 779.5,-243.5 779.5,-243.5 779.5,-249.5 773.5,-255.5 767.5,-255.5\"/>\n<text text-anchor=\"middle\" x=\"705\" y=\"-240.3\" font-family=\"Helvetica,sans-Serif\" font-size=\"14.00\">antiguedad &lt;= 18.5</text>\n<text text-anchor=\"middle\" x=\"705\" y=\"-225.3\" font-family=\"Helvetica,sans-Serif\" font-size=\"14.00\">gini = 0.421</text>\n<text text-anchor=\"middle\" x=\"705\" y=\"-210.3\" font-family=\"Helvetica,sans-Serif\" font-size=\"14.00\">samples = 1276</text>\n<text text-anchor=\"middle\" x=\"705\" y=\"-195.3\" font-family=\"Helvetica,sans-Serif\" font-size=\"14.00\">value = [891, 385]</text>\n<text text-anchor=\"middle\" x=\"705\" y=\"-180.3\" font-family=\"Helvetica,sans-Serif\" font-size=\"14.00\">class = no_debit_card</text>\n</g>\n<!-- 213&#45;&gt;227 -->\n<g id=\"edge227\" class=\"edge\">\n<title>213&#45;&gt;227</title>\n<path fill=\"none\" stroke=\"black\" d=\"M564.6,-249.34C582.64,-244.77 602.08,-239.84 620.55,-235.16\"/>\n<polygon fill=\"black\" stroke=\"black\" points=\"621.56,-238.51 630.4,-232.66 619.84,-231.72 621.56,-238.51\"/>\n</g>\n<!-- 215 -->\n<g id=\"node216\" class=\"node\">\n<title>215</title>\n<path fill=\"#e78b49\" stroke=\"black\" d=\"M984,-443.5C984,-443.5 859,-443.5 859,-443.5 853,-443.5 847,-437.5 847,-431.5 847,-431.5 847,-372.5 847,-372.5 847,-366.5 853,-360.5 859,-360.5 859,-360.5 984,-360.5 984,-360.5 990,-360.5 996,-366.5 996,-372.5 996,-372.5 996,-431.5 996,-431.5 996,-437.5 990,-443.5 984,-443.5\"/>\n<text text-anchor=\"middle\" x=\"921.5\" y=\"-428.3\" font-family=\"Helvetica,sans-Serif\" font-size=\"14.00\">antiguedad &lt;= 20.5</text>\n<text text-anchor=\"middle\" x=\"921.5\" y=\"-413.3\" font-family=\"Helvetica,sans-Serif\" font-size=\"14.00\">gini = 0.141</text>\n<text text-anchor=\"middle\" x=\"921.5\" y=\"-398.3\" font-family=\"Helvetica,sans-Serif\" font-size=\"14.00\">samples = 630</text>\n<text text-anchor=\"middle\" x=\"921.5\" y=\"-383.3\" font-family=\"Helvetica,sans-Serif\" font-size=\"14.00\">value = [582, 48]</text>\n<text text-anchor=\"middle\" x=\"921.5\" y=\"-368.3\" font-family=\"Helvetica,sans-Serif\" font-size=\"14.00\">class = no_debit_card</text>\n</g>\n<!-- 214&#45;&gt;215 -->\n<g id=\"edge215\" class=\"edge\">\n<title>214&#45;&gt;215</title>\n<path fill=\"none\" stroke=\"black\" d=\"M782.23,-345.92C800.07,-353.15 819.17,-360.9 837.3,-368.25\"/>\n<polygon fill=\"black\" stroke=\"black\" points=\"836.09,-371.54 846.68,-372.06 838.73,-365.06 836.09,-371.54\"/>\n</g>\n<!-- 226 -->\n<g id=\"node227\" class=\"node\">\n<title>226</title>\n<path fill=\"#efb083\" stroke=\"black\" d=\"M984,-342C984,-342 859,-342 859,-342 853,-342 847,-336 847,-330 847,-330 847,-286 847,-286 847,-280 853,-274 859,-274 859,-274 984,-274 984,-274 990,-274 996,-280 996,-286 996,-286 996,-330 996,-330 996,-336 990,-342 984,-342\"/>\n<text text-anchor=\"middle\" x=\"921.5\" y=\"-326.8\" font-family=\"Helvetica,sans-Serif\" font-size=\"14.00\">gini = 0.397</text>\n<text text-anchor=\"middle\" x=\"921.5\" y=\"-311.8\" font-family=\"Helvetica,sans-Serif\" font-size=\"14.00\">samples = 110</text>\n<text text-anchor=\"middle\" x=\"921.5\" y=\"-296.8\" font-family=\"Helvetica,sans-Serif\" font-size=\"14.00\">value = [80, 30]</text>\n<text text-anchor=\"middle\" x=\"921.5\" y=\"-281.8\" font-family=\"Helvetica,sans-Serif\" font-size=\"14.00\">class = no_debit_card</text>\n</g>\n<!-- 214&#45;&gt;226 -->\n<g id=\"edge226\" class=\"edge\">\n<title>214&#45;&gt;226</title>\n<path fill=\"none\" stroke=\"black\" d=\"M782.23,-312.51C799.83,-311.94 818.64,-311.32 836.55,-310.74\"/>\n<polygon fill=\"black\" stroke=\"black\" points=\"836.8,-314.23 846.68,-310.41 836.57,-307.24 836.8,-314.23\"/>\n</g>\n<!-- 216 -->\n<g id=\"node217\" class=\"node\">\n<title>216</title>\n<path fill=\"#e78946\" stroke=\"black\" d=\"M1203,-443.5C1203,-443.5 1066,-443.5 1066,-443.5 1060,-443.5 1054,-437.5 1054,-431.5 1054,-431.5 1054,-372.5 1054,-372.5 1054,-366.5 1060,-360.5 1066,-360.5 1066,-360.5 1203,-360.5 1203,-360.5 1209,-360.5 1215,-366.5 1215,-372.5 1215,-372.5 1215,-431.5 1215,-431.5 1215,-437.5 1209,-443.5 1203,-443.5\"/>\n<text text-anchor=\"middle\" x=\"1134.5\" y=\"-428.3\" font-family=\"Helvetica,sans-Serif\" font-size=\"14.00\">provincia_Sevilla &lt;= 0.5</text>\n<text text-anchor=\"middle\" x=\"1134.5\" y=\"-413.3\" font-family=\"Helvetica,sans-Serif\" font-size=\"14.00\">gini = 0.118</text>\n<text text-anchor=\"middle\" x=\"1134.5\" y=\"-398.3\" font-family=\"Helvetica,sans-Serif\" font-size=\"14.00\">samples = 542</text>\n<text text-anchor=\"middle\" x=\"1134.5\" y=\"-383.3\" font-family=\"Helvetica,sans-Serif\" font-size=\"14.00\">value = [508, 34]</text>\n<text text-anchor=\"middle\" x=\"1134.5\" y=\"-368.3\" font-family=\"Helvetica,sans-Serif\" font-size=\"14.00\">class = no_debit_card</text>\n</g>\n<!-- 215&#45;&gt;216 -->\n<g id=\"edge216\" class=\"edge\">\n<title>215&#45;&gt;216</title>\n<path fill=\"none\" stroke=\"black\" d=\"M996,-402C1011.32,-402 1027.63,-402 1043.47,-402\"/>\n<polygon fill=\"black\" stroke=\"black\" points=\"1043.79,-405.5 1053.79,-402 1043.79,-398.5 1043.79,-405.5\"/>\n</g>\n<!-- 225 -->\n<g id=\"node226\" class=\"node\">\n<title>225</title>\n<path fill=\"#ea995e\" stroke=\"black\" d=\"M1197,-342C1197,-342 1072,-342 1072,-342 1066,-342 1060,-336 1060,-330 1060,-330 1060,-286 1060,-286 1060,-280 1066,-274 1072,-274 1072,-274 1197,-274 1197,-274 1203,-274 1209,-280 1209,-286 1209,-286 1209,-330 1209,-330 1209,-336 1203,-342 1197,-342\"/>\n<text text-anchor=\"middle\" x=\"1134.5\" y=\"-326.8\" font-family=\"Helvetica,sans-Serif\" font-size=\"14.00\">gini = 0.268</text>\n<text text-anchor=\"middle\" x=\"1134.5\" y=\"-311.8\" font-family=\"Helvetica,sans-Serif\" font-size=\"14.00\">samples = 88</text>\n<text text-anchor=\"middle\" x=\"1134.5\" y=\"-296.8\" font-family=\"Helvetica,sans-Serif\" font-size=\"14.00\">value = [74, 14]</text>\n<text text-anchor=\"middle\" x=\"1134.5\" y=\"-281.8\" font-family=\"Helvetica,sans-Serif\" font-size=\"14.00\">class = no_debit_card</text>\n</g>\n<!-- 215&#45;&gt;225 -->\n<g id=\"edge225\" class=\"edge\">\n<title>215&#45;&gt;225</title>\n<path fill=\"none\" stroke=\"black\" d=\"M996,-369.26C1013.62,-361.4 1032.56,-352.97 1050.58,-344.94\"/>\n<polygon fill=\"black\" stroke=\"black\" points=\"1052.19,-348.05 1059.9,-340.79 1049.35,-341.66 1052.19,-348.05\"/>\n</g>\n<!-- 217 -->\n<g id=\"node218\" class=\"node\">\n<title>217</title>\n<path fill=\"#e78845\" stroke=\"black\" d=\"M1408,-443.5C1408,-443.5 1283,-443.5 1283,-443.5 1277,-443.5 1271,-437.5 1271,-431.5 1271,-431.5 1271,-372.5 1271,-372.5 1271,-366.5 1277,-360.5 1283,-360.5 1283,-360.5 1408,-360.5 1408,-360.5 1414,-360.5 1420,-366.5 1420,-372.5 1420,-372.5 1420,-431.5 1420,-431.5 1420,-437.5 1414,-443.5 1408,-443.5\"/>\n<text text-anchor=\"middle\" x=\"1345.5\" y=\"-428.3\" font-family=\"Helvetica,sans-Serif\" font-size=\"14.00\">antiguedad &lt;= 3.5</text>\n<text text-anchor=\"middle\" x=\"1345.5\" y=\"-413.3\" font-family=\"Helvetica,sans-Serif\" font-size=\"14.00\">gini = 0.105</text>\n<text text-anchor=\"middle\" x=\"1345.5\" y=\"-398.3\" font-family=\"Helvetica,sans-Serif\" font-size=\"14.00\">samples = 520</text>\n<text text-anchor=\"middle\" x=\"1345.5\" y=\"-383.3\" font-family=\"Helvetica,sans-Serif\" font-size=\"14.00\">value = [491, 29]</text>\n<text text-anchor=\"middle\" x=\"1345.5\" y=\"-368.3\" font-family=\"Helvetica,sans-Serif\" font-size=\"14.00\">class = no_debit_card</text>\n</g>\n<!-- 216&#45;&gt;217 -->\n<g id=\"edge217\" class=\"edge\">\n<title>216&#45;&gt;217</title>\n<path fill=\"none\" stroke=\"black\" d=\"M1215.11,-402C1230.01,-402 1245.63,-402 1260.66,-402\"/>\n<polygon fill=\"black\" stroke=\"black\" points=\"1260.95,-405.5 1270.95,-402 1260.95,-398.5 1260.95,-405.5\"/>\n</g>\n<!-- 224 -->\n<g id=\"node225\" class=\"node\">\n<title>224</title>\n<path fill=\"#eda673\" stroke=\"black\" d=\"M1408,-342C1408,-342 1283,-342 1283,-342 1277,-342 1271,-336 1271,-330 1271,-330 1271,-286 1271,-286 1271,-280 1277,-274 1283,-274 1283,-274 1408,-274 1408,-274 1414,-274 1420,-280 1420,-286 1420,-286 1420,-330 1420,-330 1420,-336 1414,-342 1408,-342\"/>\n<text text-anchor=\"middle\" x=\"1345.5\" y=\"-326.8\" font-family=\"Helvetica,sans-Serif\" font-size=\"14.00\">gini = 0.351</text>\n<text text-anchor=\"middle\" x=\"1345.5\" y=\"-311.8\" font-family=\"Helvetica,sans-Serif\" font-size=\"14.00\">samples = 22</text>\n<text text-anchor=\"middle\" x=\"1345.5\" y=\"-296.8\" font-family=\"Helvetica,sans-Serif\" font-size=\"14.00\">value = [17, 5]</text>\n<text text-anchor=\"middle\" x=\"1345.5\" y=\"-281.8\" font-family=\"Helvetica,sans-Serif\" font-size=\"14.00\">class = no_debit_card</text>\n</g>\n<!-- 216&#45;&gt;224 -->\n<g id=\"edge224\" class=\"edge\">\n<title>216&#45;&gt;224</title>\n<path fill=\"none\" stroke=\"black\" d=\"M1215.11,-366.19C1230.3,-359.36 1246.23,-352.2 1261.53,-345.32\"/>\n<polygon fill=\"black\" stroke=\"black\" points=\"1263.27,-348.37 1270.95,-341.08 1260.4,-341.99 1263.27,-348.37\"/>\n</g>\n<!-- 218 -->\n<g id=\"node219\" class=\"node\">\n<title>218</title>\n<path fill=\"#f0b78e\" stroke=\"black\" d=\"M1657,-436C1657,-436 1532,-436 1532,-436 1526,-436 1520,-430 1520,-424 1520,-424 1520,-380 1520,-380 1520,-374 1526,-368 1532,-368 1532,-368 1657,-368 1657,-368 1663,-368 1669,-374 1669,-380 1669,-380 1669,-424 1669,-424 1669,-430 1663,-436 1657,-436\"/>\n<text text-anchor=\"middle\" x=\"1594.5\" y=\"-420.8\" font-family=\"Helvetica,sans-Serif\" font-size=\"14.00\">gini = 0.42</text>\n<text text-anchor=\"middle\" x=\"1594.5\" y=\"-405.8\" font-family=\"Helvetica,sans-Serif\" font-size=\"14.00\">samples = 10</text>\n<text text-anchor=\"middle\" x=\"1594.5\" y=\"-390.8\" font-family=\"Helvetica,sans-Serif\" font-size=\"14.00\">value = [7, 3]</text>\n<text text-anchor=\"middle\" x=\"1594.5\" y=\"-375.8\" font-family=\"Helvetica,sans-Serif\" font-size=\"14.00\">class = no_debit_card</text>\n</g>\n<!-- 217&#45;&gt;218 -->\n<g id=\"edge218\" class=\"edge\">\n<title>217&#45;&gt;218</title>\n<path fill=\"none\" stroke=\"black\" d=\"M1420.27,-402C1448.38,-402 1480.6,-402 1509.58,-402\"/>\n<polygon fill=\"black\" stroke=\"black\" points=\"1509.68,-405.5 1519.68,-402 1509.68,-398.5 1509.68,-405.5\"/>\n</g>\n<!-- 219 -->\n<g id=\"node220\" class=\"node\">\n<title>219</title>\n<path fill=\"#e68844\" stroke=\"black\" d=\"M1658,-349.5C1658,-349.5 1531,-349.5 1531,-349.5 1525,-349.5 1519,-343.5 1519,-337.5 1519,-337.5 1519,-278.5 1519,-278.5 1519,-272.5 1525,-266.5 1531,-266.5 1531,-266.5 1658,-266.5 1658,-266.5 1664,-266.5 1670,-272.5 1670,-278.5 1670,-278.5 1670,-337.5 1670,-337.5 1670,-343.5 1664,-349.5 1658,-349.5\"/>\n<text text-anchor=\"middle\" x=\"1594.5\" y=\"-334.3\" font-family=\"Helvetica,sans-Serif\" font-size=\"14.00\">provincia_Lugo &lt;= 0.5</text>\n<text text-anchor=\"middle\" x=\"1594.5\" y=\"-319.3\" font-family=\"Helvetica,sans-Serif\" font-size=\"14.00\">gini = 0.097</text>\n<text text-anchor=\"middle\" x=\"1594.5\" y=\"-304.3\" font-family=\"Helvetica,sans-Serif\" font-size=\"14.00\">samples = 510</text>\n<text text-anchor=\"middle\" x=\"1594.5\" y=\"-289.3\" font-family=\"Helvetica,sans-Serif\" font-size=\"14.00\">value = [484, 26]</text>\n<text text-anchor=\"middle\" x=\"1594.5\" y=\"-274.3\" font-family=\"Helvetica,sans-Serif\" font-size=\"14.00\">class = no_debit_card</text>\n</g>\n<!-- 217&#45;&gt;219 -->\n<g id=\"edge219\" class=\"edge\">\n<title>217&#45;&gt;219</title>\n<path fill=\"none\" stroke=\"black\" d=\"M1420.27,-373.92C1448.24,-363.28 1480.3,-351.08 1509.17,-340.09\"/>\n<polygon fill=\"black\" stroke=\"black\" points=\"1510.72,-343.25 1518.83,-336.42 1508.23,-336.7 1510.72,-343.25\"/>\n</g>\n<!-- 220 -->\n<g id=\"node221\" class=\"node\">\n<title>220</title>\n<path fill=\"#e68843\" stroke=\"black\" d=\"M1933.5,-363.5C1933.5,-363.5 1781.5,-363.5 1781.5,-363.5 1775.5,-363.5 1769.5,-357.5 1769.5,-351.5 1769.5,-351.5 1769.5,-292.5 1769.5,-292.5 1769.5,-286.5 1775.5,-280.5 1781.5,-280.5 1781.5,-280.5 1933.5,-280.5 1933.5,-280.5 1939.5,-280.5 1945.5,-286.5 1945.5,-292.5 1945.5,-292.5 1945.5,-351.5 1945.5,-351.5 1945.5,-357.5 1939.5,-363.5 1933.5,-363.5\"/>\n<text text-anchor=\"middle\" x=\"1857.5\" y=\"-348.3\" font-family=\"Helvetica,sans-Serif\" font-size=\"14.00\">short_term_deposit &lt;= 0.5</text>\n<text text-anchor=\"middle\" x=\"1857.5\" y=\"-333.3\" font-family=\"Helvetica,sans-Serif\" font-size=\"14.00\">gini = 0.094</text>\n<text text-anchor=\"middle\" x=\"1857.5\" y=\"-318.3\" font-family=\"Helvetica,sans-Serif\" font-size=\"14.00\">samples = 508</text>\n<text text-anchor=\"middle\" x=\"1857.5\" y=\"-303.3\" font-family=\"Helvetica,sans-Serif\" font-size=\"14.00\">value = [483, 25]</text>\n<text text-anchor=\"middle\" x=\"1857.5\" y=\"-288.3\" font-family=\"Helvetica,sans-Serif\" font-size=\"14.00\">class = no_debit_card</text>\n</g>\n<!-- 219&#45;&gt;220 -->\n<g id=\"edge220\" class=\"edge\">\n<title>219&#45;&gt;220</title>\n<path fill=\"none\" stroke=\"black\" d=\"M1670.29,-312.01C1697.92,-313.49 1729.64,-315.2 1758.98,-316.77\"/>\n<polygon fill=\"black\" stroke=\"black\" points=\"1759.08,-320.28 1769.25,-317.32 1759.45,-313.29 1759.08,-320.28\"/>\n</g>\n<!-- 223 -->\n<g id=\"node224\" class=\"node\">\n<title>223</title>\n<path fill=\"#ffffff\" stroke=\"black\" d=\"M1920,-262C1920,-262 1795,-262 1795,-262 1789,-262 1783,-256 1783,-250 1783,-250 1783,-206 1783,-206 1783,-200 1789,-194 1795,-194 1795,-194 1920,-194 1920,-194 1926,-194 1932,-200 1932,-206 1932,-206 1932,-250 1932,-250 1932,-256 1926,-262 1920,-262\"/>\n<text text-anchor=\"middle\" x=\"1857.5\" y=\"-246.8\" font-family=\"Helvetica,sans-Serif\" font-size=\"14.00\">gini = 0.5</text>\n<text text-anchor=\"middle\" x=\"1857.5\" y=\"-231.8\" font-family=\"Helvetica,sans-Serif\" font-size=\"14.00\">samples = 2</text>\n<text text-anchor=\"middle\" x=\"1857.5\" y=\"-216.8\" font-family=\"Helvetica,sans-Serif\" font-size=\"14.00\">value = [1, 1]</text>\n<text text-anchor=\"middle\" x=\"1857.5\" y=\"-201.8\" font-family=\"Helvetica,sans-Serif\" font-size=\"14.00\">class = no_debit_card</text>\n</g>\n<!-- 219&#45;&gt;223 -->\n<g id=\"edge223\" class=\"edge\">\n<title>219&#45;&gt;223</title>\n<path fill=\"none\" stroke=\"black\" d=\"M1670.29,-285.08C1702.37,-275.24 1739.99,-263.71 1772.97,-253.6\"/>\n<polygon fill=\"black\" stroke=\"black\" points=\"1774.06,-256.93 1782.6,-250.65 1772.01,-250.24 1774.06,-256.93\"/>\n</g>\n<!-- 221 -->\n<g id=\"node222\" class=\"node\">\n<title>221</title>\n<path fill=\"#e6853f\" stroke=\"black\" d=\"M2159,-378C2159,-378 2034,-378 2034,-378 2028,-378 2022,-372 2022,-366 2022,-366 2022,-322 2022,-322 2022,-316 2028,-310 2034,-310 2034,-310 2159,-310 2159,-310 2165,-310 2171,-316 2171,-322 2171,-322 2171,-366 2171,-366 2171,-372 2165,-378 2159,-378\"/>\n<text text-anchor=\"middle\" x=\"2096.5\" y=\"-362.8\" font-family=\"Helvetica,sans-Serif\" font-size=\"14.00\">gini = 0.06</text>\n<text text-anchor=\"middle\" x=\"2096.5\" y=\"-347.8\" font-family=\"Helvetica,sans-Serif\" font-size=\"14.00\">samples = 325</text>\n<text text-anchor=\"middle\" x=\"2096.5\" y=\"-332.8\" font-family=\"Helvetica,sans-Serif\" font-size=\"14.00\">value = [315, 10]</text>\n<text text-anchor=\"middle\" x=\"2096.5\" y=\"-317.8\" font-family=\"Helvetica,sans-Serif\" font-size=\"14.00\">class = no_debit_card</text>\n</g>\n<!-- 220&#45;&gt;221 -->\n<g id=\"edge221\" class=\"edge\">\n<title>220&#45;&gt;221</title>\n<path fill=\"none\" stroke=\"black\" d=\"M1945.74,-330.1C1967.28,-332.1 1990.29,-334.23 2011.66,-336.22\"/>\n<polygon fill=\"black\" stroke=\"black\" points=\"2011.4,-339.71 2021.68,-337.15 2012.04,-332.74 2011.4,-339.71\"/>\n</g>\n<!-- 222 -->\n<g id=\"node223\" class=\"node\">\n<title>222</title>\n<path fill=\"#e78c4b\" stroke=\"black\" d=\"M2159,-292C2159,-292 2034,-292 2034,-292 2028,-292 2022,-286 2022,-280 2022,-280 2022,-236 2022,-236 2022,-230 2028,-224 2034,-224 2034,-224 2159,-224 2159,-224 2165,-224 2171,-230 2171,-236 2171,-236 2171,-280 2171,-280 2171,-286 2165,-292 2159,-292\"/>\n<text text-anchor=\"middle\" x=\"2096.5\" y=\"-276.8\" font-family=\"Helvetica,sans-Serif\" font-size=\"14.00\">gini = 0.15</text>\n<text text-anchor=\"middle\" x=\"2096.5\" y=\"-261.8\" font-family=\"Helvetica,sans-Serif\" font-size=\"14.00\">samples = 183</text>\n<text text-anchor=\"middle\" x=\"2096.5\" y=\"-246.8\" font-family=\"Helvetica,sans-Serif\" font-size=\"14.00\">value = [168, 15]</text>\n<text text-anchor=\"middle\" x=\"2096.5\" y=\"-231.8\" font-family=\"Helvetica,sans-Serif\" font-size=\"14.00\">class = no_debit_card</text>\n</g>\n<!-- 220&#45;&gt;222 -->\n<g id=\"edge222\" class=\"edge\">\n<title>220&#45;&gt;222</title>\n<path fill=\"none\" stroke=\"black\" d=\"M1945.74,-298.44C1967.37,-292.6 1990.5,-286.35 2011.95,-280.56\"/>\n<polygon fill=\"black\" stroke=\"black\" points=\"2012.94,-283.92 2021.68,-277.93 2011.11,-277.16 2012.94,-283.92\"/>\n</g>\n<!-- 228 -->\n<g id=\"node229\" class=\"node\">\n<title>228</title>\n<path fill=\"#eeab7b\" stroke=\"black\" d=\"M984,-255.5C984,-255.5 859,-255.5 859,-255.5 853,-255.5 847,-249.5 847,-243.5 847,-243.5 847,-184.5 847,-184.5 847,-178.5 853,-172.5 859,-172.5 859,-172.5 984,-172.5 984,-172.5 990,-172.5 996,-178.5 996,-184.5 996,-184.5 996,-243.5 996,-243.5 996,-249.5 990,-255.5 984,-255.5\"/>\n<text text-anchor=\"middle\" x=\"921.5\" y=\"-240.3\" font-family=\"Helvetica,sans-Serif\" font-size=\"14.00\">sale_month &lt;= 7.5</text>\n<text text-anchor=\"middle\" x=\"921.5\" y=\"-225.3\" font-family=\"Helvetica,sans-Serif\" font-size=\"14.00\">gini = 0.375</text>\n<text text-anchor=\"middle\" x=\"921.5\" y=\"-210.3\" font-family=\"Helvetica,sans-Serif\" font-size=\"14.00\">samples = 1042</text>\n<text text-anchor=\"middle\" x=\"921.5\" y=\"-195.3\" font-family=\"Helvetica,sans-Serif\" font-size=\"14.00\">value = [782, 260]</text>\n<text text-anchor=\"middle\" x=\"921.5\" y=\"-180.3\" font-family=\"Helvetica,sans-Serif\" font-size=\"14.00\">class = no_debit_card</text>\n</g>\n<!-- 227&#45;&gt;228 -->\n<g id=\"edge228\" class=\"edge\">\n<title>227&#45;&gt;228</title>\n<path fill=\"none\" stroke=\"black\" d=\"M779.52,-214C797.92,-214 817.8,-214 836.66,-214\"/>\n<polygon fill=\"black\" stroke=\"black\" points=\"836.71,-217.5 846.71,-214 836.71,-210.5 836.71,-217.5\"/>\n</g>\n<!-- 233 -->\n<g id=\"node234\" class=\"node\">\n<title>233</title>\n<path fill=\"#e6f2fc\" stroke=\"black\" d=\"M972.5,-154C972.5,-154 870.5,-154 870.5,-154 864.5,-154 858.5,-148 858.5,-142 858.5,-142 858.5,-98 858.5,-98 858.5,-92 864.5,-86 870.5,-86 870.5,-86 972.5,-86 972.5,-86 978.5,-86 984.5,-92 984.5,-98 984.5,-98 984.5,-142 984.5,-142 984.5,-148 978.5,-154 972.5,-154\"/>\n<text text-anchor=\"middle\" x=\"921.5\" y=\"-138.8\" font-family=\"Helvetica,sans-Serif\" font-size=\"14.00\">gini = 0.498</text>\n<text text-anchor=\"middle\" x=\"921.5\" y=\"-123.8\" font-family=\"Helvetica,sans-Serif\" font-size=\"14.00\">samples = 234</text>\n<text text-anchor=\"middle\" x=\"921.5\" y=\"-108.8\" font-family=\"Helvetica,sans-Serif\" font-size=\"14.00\">value = [109, 125]</text>\n<text text-anchor=\"middle\" x=\"921.5\" y=\"-93.8\" font-family=\"Helvetica,sans-Serif\" font-size=\"14.00\">class = debit_card</text>\n</g>\n<!-- 227&#45;&gt;233 -->\n<g id=\"edge233\" class=\"edge\">\n<title>227&#45;&gt;233</title>\n<path fill=\"none\" stroke=\"black\" d=\"M779.52,-181.78C802.02,-171.92 826.72,-161.1 849.07,-151.3\"/>\n<polygon fill=\"black\" stroke=\"black\" points=\"850.74,-154.39 858.5,-147.17 847.93,-147.98 850.74,-154.39\"/>\n</g>\n<!-- 229 -->\n<g id=\"node230\" class=\"node\">\n<title>229</title>\n<path fill=\"#eca16b\" stroke=\"black\" d=\"M1197,-255.5C1197,-255.5 1072,-255.5 1072,-255.5 1066,-255.5 1060,-249.5 1060,-243.5 1060,-243.5 1060,-184.5 1060,-184.5 1060,-178.5 1066,-172.5 1072,-172.5 1072,-172.5 1197,-172.5 1197,-172.5 1203,-172.5 1209,-178.5 1209,-184.5 1209,-184.5 1209,-243.5 1209,-243.5 1209,-249.5 1203,-255.5 1197,-255.5\"/>\n<text text-anchor=\"middle\" x=\"1134.5\" y=\"-240.3\" font-family=\"Helvetica,sans-Serif\" font-size=\"14.00\">sale_year &lt;= 2018.5</text>\n<text text-anchor=\"middle\" x=\"1134.5\" y=\"-225.3\" font-family=\"Helvetica,sans-Serif\" font-size=\"14.00\">gini = 0.323</text>\n<text text-anchor=\"middle\" x=\"1134.5\" y=\"-210.3\" font-family=\"Helvetica,sans-Serif\" font-size=\"14.00\">samples = 554</text>\n<text text-anchor=\"middle\" x=\"1134.5\" y=\"-195.3\" font-family=\"Helvetica,sans-Serif\" font-size=\"14.00\">value = [442, 112]</text>\n<text text-anchor=\"middle\" x=\"1134.5\" y=\"-180.3\" font-family=\"Helvetica,sans-Serif\" font-size=\"14.00\">class = no_debit_card</text>\n</g>\n<!-- 228&#45;&gt;229 -->\n<g id=\"edge229\" class=\"edge\">\n<title>228&#45;&gt;229</title>\n<path fill=\"none\" stroke=\"black\" d=\"M996,-214C1013.3,-214 1031.87,-214 1049.59,-214\"/>\n<polygon fill=\"black\" stroke=\"black\" points=\"1049.9,-217.5 1059.9,-214 1049.9,-210.5 1049.9,-217.5\"/>\n</g>\n<!-- 232 -->\n<g id=\"node233\" class=\"node\">\n<title>232</title>\n<path fill=\"#f0b88f\" stroke=\"black\" d=\"M1197,-154C1197,-154 1072,-154 1072,-154 1066,-154 1060,-148 1060,-142 1060,-142 1060,-98 1060,-98 1060,-92 1066,-86 1072,-86 1072,-86 1197,-86 1197,-86 1203,-86 1209,-92 1209,-98 1209,-98 1209,-142 1209,-142 1209,-148 1203,-154 1197,-154\"/>\n<text text-anchor=\"middle\" x=\"1134.5\" y=\"-138.8\" font-family=\"Helvetica,sans-Serif\" font-size=\"14.00\">gini = 0.423</text>\n<text text-anchor=\"middle\" x=\"1134.5\" y=\"-123.8\" font-family=\"Helvetica,sans-Serif\" font-size=\"14.00\">samples = 488</text>\n<text text-anchor=\"middle\" x=\"1134.5\" y=\"-108.8\" font-family=\"Helvetica,sans-Serif\" font-size=\"14.00\">value = [340, 148]</text>\n<text text-anchor=\"middle\" x=\"1134.5\" y=\"-93.8\" font-family=\"Helvetica,sans-Serif\" font-size=\"14.00\">class = no_debit_card</text>\n</g>\n<!-- 228&#45;&gt;232 -->\n<g id=\"edge232\" class=\"edge\">\n<title>228&#45;&gt;232</title>\n<path fill=\"none\" stroke=\"black\" d=\"M996,-181.26C1013.62,-173.4 1032.56,-164.97 1050.58,-156.94\"/>\n<polygon fill=\"black\" stroke=\"black\" points=\"1052.19,-160.05 1059.9,-152.79 1049.35,-153.66 1052.19,-160.05\"/>\n</g>\n<!-- 230 -->\n<g id=\"node231\" class=\"node\">\n<title>230</title>\n<path fill=\"#e89051\" stroke=\"black\" d=\"M1408,-252C1408,-252 1283,-252 1283,-252 1277,-252 1271,-246 1271,-240 1271,-240 1271,-196 1271,-196 1271,-190 1277,-184 1283,-184 1283,-184 1408,-184 1408,-184 1414,-184 1420,-190 1420,-196 1420,-196 1420,-240 1420,-240 1420,-246 1414,-252 1408,-252\"/>\n<text text-anchor=\"middle\" x=\"1345.5\" y=\"-236.8\" font-family=\"Helvetica,sans-Serif\" font-size=\"14.00\">gini = 0.191</text>\n<text text-anchor=\"middle\" x=\"1345.5\" y=\"-221.8\" font-family=\"Helvetica,sans-Serif\" font-size=\"14.00\">samples = 243</text>\n<text text-anchor=\"middle\" x=\"1345.5\" y=\"-206.8\" font-family=\"Helvetica,sans-Serif\" font-size=\"14.00\">value = [217, 26]</text>\n<text text-anchor=\"middle\" x=\"1345.5\" y=\"-191.8\" font-family=\"Helvetica,sans-Serif\" font-size=\"14.00\">class = no_debit_card</text>\n</g>\n<!-- 229&#45;&gt;230 -->\n<g id=\"edge230\" class=\"edge\">\n<title>229&#45;&gt;230</title>\n<path fill=\"none\" stroke=\"black\" d=\"M1209.19,-215.41C1225.73,-215.73 1243.41,-216.07 1260.34,-216.39\"/>\n<polygon fill=\"black\" stroke=\"black\" points=\"1260.71,-219.9 1270.78,-216.59 1260.84,-212.9 1260.71,-219.9\"/>\n</g>\n<!-- 231 -->\n<g id=\"node232\" class=\"node\">\n<title>231</title>\n<path fill=\"#efb185\" stroke=\"black\" d=\"M1408,-166C1408,-166 1283,-166 1283,-166 1277,-166 1271,-160 1271,-154 1271,-154 1271,-110 1271,-110 1271,-104 1277,-98 1283,-98 1283,-98 1408,-98 1408,-98 1414,-98 1420,-104 1420,-110 1420,-110 1420,-154 1420,-154 1420,-160 1414,-166 1408,-166\"/>\n<text text-anchor=\"middle\" x=\"1345.5\" y=\"-150.8\" font-family=\"Helvetica,sans-Serif\" font-size=\"14.00\">gini = 0.4</text>\n<text text-anchor=\"middle\" x=\"1345.5\" y=\"-135.8\" font-family=\"Helvetica,sans-Serif\" font-size=\"14.00\">samples = 311</text>\n<text text-anchor=\"middle\" x=\"1345.5\" y=\"-120.8\" font-family=\"Helvetica,sans-Serif\" font-size=\"14.00\">value = [225, 86]</text>\n<text text-anchor=\"middle\" x=\"1345.5\" y=\"-105.8\" font-family=\"Helvetica,sans-Serif\" font-size=\"14.00\">class = no_debit_card</text>\n</g>\n<!-- 229&#45;&gt;231 -->\n<g id=\"edge231\" class=\"edge\">\n<title>229&#45;&gt;231</title>\n<path fill=\"none\" stroke=\"black\" d=\"M1209.19,-185.09C1226.04,-178.48 1244.08,-171.4 1261.3,-164.64\"/>\n<polygon fill=\"black\" stroke=\"black\" points=\"1262.74,-167.84 1270.78,-160.93 1260.19,-161.32 1262.74,-167.84\"/>\n</g>\n<!-- 235 -->\n<g id=\"node236\" class=\"node\">\n<title>235</title>\n<path fill=\"#f2bf9b\" stroke=\"black\" d=\"M767.5,-154C767.5,-154 642.5,-154 642.5,-154 636.5,-154 630.5,-148 630.5,-142 630.5,-142 630.5,-98 630.5,-98 630.5,-92 636.5,-86 642.5,-86 642.5,-86 767.5,-86 767.5,-86 773.5,-86 779.5,-92 779.5,-98 779.5,-98 779.5,-142 779.5,-142 779.5,-148 773.5,-154 767.5,-154\"/>\n<text text-anchor=\"middle\" x=\"705\" y=\"-138.8\" font-family=\"Helvetica,sans-Serif\" font-size=\"14.00\">gini = 0.443</text>\n<text text-anchor=\"middle\" x=\"705\" y=\"-123.8\" font-family=\"Helvetica,sans-Serif\" font-size=\"14.00\">samples = 278</text>\n<text text-anchor=\"middle\" x=\"705\" y=\"-108.8\" font-family=\"Helvetica,sans-Serif\" font-size=\"14.00\">value = [186, 92]</text>\n<text text-anchor=\"middle\" x=\"705\" y=\"-93.8\" font-family=\"Helvetica,sans-Serif\" font-size=\"14.00\">class = no_debit_card</text>\n</g>\n<!-- 234&#45;&gt;235 -->\n<g id=\"edge235\" class=\"edge\">\n<title>234&#45;&gt;235</title>\n<path fill=\"none\" stroke=\"black\" d=\"M564.6,-120C582.56,-120 601.9,-120 620.29,-120\"/>\n<polygon fill=\"black\" stroke=\"black\" points=\"620.4,-123.5 630.4,-120 620.4,-116.5 620.4,-123.5\"/>\n</g>\n<!-- 236 -->\n<g id=\"node237\" class=\"node\">\n<title>236</title>\n<path fill=\"#cae5f8\" stroke=\"black\" d=\"M756,-68C756,-68 654,-68 654,-68 648,-68 642,-62 642,-56 642,-56 642,-12 642,-12 642,-6 648,0 654,0 654,0 756,0 756,0 762,0 768,-6 768,-12 768,-12 768,-56 768,-56 768,-62 762,-68 756,-68\"/>\n<text text-anchor=\"middle\" x=\"705\" y=\"-52.8\" font-family=\"Helvetica,sans-Serif\" font-size=\"14.00\">gini = 0.488</text>\n<text text-anchor=\"middle\" x=\"705\" y=\"-37.8\" font-family=\"Helvetica,sans-Serif\" font-size=\"14.00\">samples = 301</text>\n<text text-anchor=\"middle\" x=\"705\" y=\"-22.8\" font-family=\"Helvetica,sans-Serif\" font-size=\"14.00\">value = [127, 174]</text>\n<text text-anchor=\"middle\" x=\"705\" y=\"-7.8\" font-family=\"Helvetica,sans-Serif\" font-size=\"14.00\">class = debit_card</text>\n</g>\n<!-- 234&#45;&gt;236 -->\n<g id=\"edge236\" class=\"edge\">\n<title>234&#45;&gt;236</title>\n<path fill=\"none\" stroke=\"black\" d=\"M564.6,-90.28C586.49,-81.44 610.44,-71.77 632.22,-62.98\"/>\n<polygon fill=\"black\" stroke=\"black\" points=\"633.76,-66.13 641.73,-59.14 631.14,-59.64 633.76,-66.13\"/>\n</g>\n</g>\n</svg>\n",
            "text/plain": [
              "<graphviz.sources.Source at 0x7f72681d8d90>"
            ]
          },
          "metadata": {},
          "execution_count": 234
        }
      ]
    },
    {
      "cell_type": "code",
      "source": [
        "#generamos predicciones y evaluamos el modelo\n",
        "y_test_pred = pd.DataFrame(dt.predict(X_test),index=y_test.index,columns=['debit_card_prediction'])"
      ],
      "metadata": {
        "id": "f0xXmTx8tTGJ"
      },
      "execution_count": 252,
      "outputs": []
    },
    {
      "cell_type": "code",
      "source": [
        "#join de y_test y y_test_pred para comparar el resultado real con la predicción\n",
        "result_df=y_test.join(y_test_pred,how='inner')"
      ],
      "metadata": {
        "id": "aq7vR_t6tTGJ"
      },
      "execution_count": 253,
      "outputs": []
    },
    {
      "cell_type": "code",
      "source": [
        "result_df['Success']=(result_df[TARGET]==result_df['debit_card_prediction']).astype(int)"
      ],
      "metadata": {
        "id": "I6_myBSvtTGJ"
      },
      "execution_count": 254,
      "outputs": []
    },
    {
      "cell_type": "code",
      "source": [
        "result_df.head()"
      ],
      "metadata": {
        "id": "YdjwyymuaHx4",
        "colab": {
          "base_uri": "https://localhost:8080/",
          "height": 238
        },
        "outputId": "e15ae248-b2e0-47ae-ef64-720e504c74a6"
      },
      "execution_count": 255,
      "outputs": [
        {
          "output_type": "execute_result",
          "data": {
            "text/plain": [
              "             product_ID_3819  debit_card_prediction  Success\n",
              "customer_ID                                                 \n",
              "17457                      1                      0        0\n",
              "22635                      0                      1        0\n",
              "43834                      0                      0        1\n",
              "45901                      1                      0        0\n",
              "58716                      0                      0        1"
            ],
            "text/html": [
              "\n",
              "  <div id=\"df-6b62eb82-e04f-41b7-ab6a-4377cce7ae76\">\n",
              "    <div class=\"colab-df-container\">\n",
              "      <div>\n",
              "<style scoped>\n",
              "    .dataframe tbody tr th:only-of-type {\n",
              "        vertical-align: middle;\n",
              "    }\n",
              "\n",
              "    .dataframe tbody tr th {\n",
              "        vertical-align: top;\n",
              "    }\n",
              "\n",
              "    .dataframe thead th {\n",
              "        text-align: right;\n",
              "    }\n",
              "</style>\n",
              "<table border=\"1\" class=\"dataframe\">\n",
              "  <thead>\n",
              "    <tr style=\"text-align: right;\">\n",
              "      <th></th>\n",
              "      <th>product_ID_3819</th>\n",
              "      <th>debit_card_prediction</th>\n",
              "      <th>Success</th>\n",
              "    </tr>\n",
              "    <tr>\n",
              "      <th>customer_ID</th>\n",
              "      <th></th>\n",
              "      <th></th>\n",
              "      <th></th>\n",
              "    </tr>\n",
              "  </thead>\n",
              "  <tbody>\n",
              "    <tr>\n",
              "      <th>17457</th>\n",
              "      <td>1</td>\n",
              "      <td>0</td>\n",
              "      <td>0</td>\n",
              "    </tr>\n",
              "    <tr>\n",
              "      <th>22635</th>\n",
              "      <td>0</td>\n",
              "      <td>1</td>\n",
              "      <td>0</td>\n",
              "    </tr>\n",
              "    <tr>\n",
              "      <th>43834</th>\n",
              "      <td>0</td>\n",
              "      <td>0</td>\n",
              "      <td>1</td>\n",
              "    </tr>\n",
              "    <tr>\n",
              "      <th>45901</th>\n",
              "      <td>1</td>\n",
              "      <td>0</td>\n",
              "      <td>0</td>\n",
              "    </tr>\n",
              "    <tr>\n",
              "      <th>58716</th>\n",
              "      <td>0</td>\n",
              "      <td>0</td>\n",
              "      <td>1</td>\n",
              "    </tr>\n",
              "  </tbody>\n",
              "</table>\n",
              "</div>\n",
              "      <button class=\"colab-df-convert\" onclick=\"convertToInteractive('df-6b62eb82-e04f-41b7-ab6a-4377cce7ae76')\"\n",
              "              title=\"Convert this dataframe to an interactive table.\"\n",
              "              style=\"display:none;\">\n",
              "        \n",
              "  <svg xmlns=\"http://www.w3.org/2000/svg\" height=\"24px\"viewBox=\"0 0 24 24\"\n",
              "       width=\"24px\">\n",
              "    <path d=\"M0 0h24v24H0V0z\" fill=\"none\"/>\n",
              "    <path d=\"M18.56 5.44l.94 2.06.94-2.06 2.06-.94-2.06-.94-.94-2.06-.94 2.06-2.06.94zm-11 1L8.5 8.5l.94-2.06 2.06-.94-2.06-.94L8.5 2.5l-.94 2.06-2.06.94zm10 10l.94 2.06.94-2.06 2.06-.94-2.06-.94-.94-2.06-.94 2.06-2.06.94z\"/><path d=\"M17.41 7.96l-1.37-1.37c-.4-.4-.92-.59-1.43-.59-.52 0-1.04.2-1.43.59L10.3 9.45l-7.72 7.72c-.78.78-.78 2.05 0 2.83L4 21.41c.39.39.9.59 1.41.59.51 0 1.02-.2 1.41-.59l7.78-7.78 2.81-2.81c.8-.78.8-2.07 0-2.86zM5.41 20L4 18.59l7.72-7.72 1.47 1.35L5.41 20z\"/>\n",
              "  </svg>\n",
              "      </button>\n",
              "      \n",
              "  <style>\n",
              "    .colab-df-container {\n",
              "      display:flex;\n",
              "      flex-wrap:wrap;\n",
              "      gap: 12px;\n",
              "    }\n",
              "\n",
              "    .colab-df-convert {\n",
              "      background-color: #E8F0FE;\n",
              "      border: none;\n",
              "      border-radius: 50%;\n",
              "      cursor: pointer;\n",
              "      display: none;\n",
              "      fill: #1967D2;\n",
              "      height: 32px;\n",
              "      padding: 0 0 0 0;\n",
              "      width: 32px;\n",
              "    }\n",
              "\n",
              "    .colab-df-convert:hover {\n",
              "      background-color: #E2EBFA;\n",
              "      box-shadow: 0px 1px 2px rgba(60, 64, 67, 0.3), 0px 1px 3px 1px rgba(60, 64, 67, 0.15);\n",
              "      fill: #174EA6;\n",
              "    }\n",
              "\n",
              "    [theme=dark] .colab-df-convert {\n",
              "      background-color: #3B4455;\n",
              "      fill: #D2E3FC;\n",
              "    }\n",
              "\n",
              "    [theme=dark] .colab-df-convert:hover {\n",
              "      background-color: #434B5C;\n",
              "      box-shadow: 0px 1px 3px 1px rgba(0, 0, 0, 0.15);\n",
              "      filter: drop-shadow(0px 1px 2px rgba(0, 0, 0, 0.3));\n",
              "      fill: #FFFFFF;\n",
              "    }\n",
              "  </style>\n",
              "\n",
              "      <script>\n",
              "        const buttonEl =\n",
              "          document.querySelector('#df-6b62eb82-e04f-41b7-ab6a-4377cce7ae76 button.colab-df-convert');\n",
              "        buttonEl.style.display =\n",
              "          google.colab.kernel.accessAllowed ? 'block' : 'none';\n",
              "\n",
              "        async function convertToInteractive(key) {\n",
              "          const element = document.querySelector('#df-6b62eb82-e04f-41b7-ab6a-4377cce7ae76');\n",
              "          const dataTable =\n",
              "            await google.colab.kernel.invokeFunction('convertToInteractive',\n",
              "                                                     [key], {});\n",
              "          if (!dataTable) return;\n",
              "\n",
              "          const docLinkHtml = 'Like what you see? Visit the ' +\n",
              "            '<a target=\"_blank\" href=https://colab.research.google.com/notebooks/data_table.ipynb>data table notebook</a>'\n",
              "            + ' to learn more about interactive tables.';\n",
              "          element.innerHTML = '';\n",
              "          dataTable['output_type'] = 'display_data';\n",
              "          await google.colab.output.renderOutput(dataTable, element);\n",
              "          const docLink = document.createElement('div');\n",
              "          docLink.innerHTML = docLinkHtml;\n",
              "          element.appendChild(docLink);\n",
              "        }\n",
              "      </script>\n",
              "    </div>\n",
              "  </div>\n",
              "  "
            ]
          },
          "metadata": {},
          "execution_count": 255
        }
      ]
    },
    {
      "cell_type": "code",
      "source": [
        "dt.score(X_train, y_train)"
      ],
      "metadata": {
        "id": "FPz4_71beYWB",
        "outputId": "b52cfc27-76f9-4fd3-beb0-aa2c71736d67",
        "colab": {
          "base_uri": "https://localhost:8080/"
        }
      },
      "execution_count": 256,
      "outputs": [
        {
          "output_type": "execute_result",
          "data": {
            "text/plain": [
              "0.6454982589951915"
            ]
          },
          "metadata": {},
          "execution_count": 256
        }
      ]
    },
    {
      "cell_type": "code",
      "source": [
        "dt.score(X_test, y_test)"
      ],
      "metadata": {
        "id": "6ZH9Pc7o681T",
        "colab": {
          "base_uri": "https://localhost:8080/"
        },
        "outputId": "2c825138-f2a8-4cf0-cea0-8c949cfd2c70"
      },
      "execution_count": 257,
      "outputs": [
        {
          "output_type": "execute_result",
          "data": {
            "text/plain": [
              "0.6419272580861629"
            ]
          },
          "metadata": {},
          "execution_count": 257
        }
      ]
    },
    {
      "cell_type": "code",
      "source": [
        "dt.score(val_df_X,val_df_y)\n",
        "#En validación el resultado es regular, acierta un 61% de una distribución de 50 que tiene nuestro TARGET\n"
      ],
      "metadata": {
        "id": "6Rd9InCuJ5cZ",
        "outputId": "26174fe4-5f8f-48f9-a778-13e139067517",
        "colab": {
          "base_uri": "https://localhost:8080/"
        }
      },
      "execution_count": 258,
      "outputs": [
        {
          "output_type": "execute_result",
          "data": {
            "text/plain": [
              "0.6082347518820095"
            ]
          },
          "metadata": {},
          "execution_count": 258
        }
      ]
    },
    {
      "cell_type": "markdown",
      "source": [
        "Métricas calidad"
      ],
      "metadata": {
        "id": "yEyMLeRutTGK"
      }
    },
    {
      "cell_type": "code",
      "source": [
        "def metricas(y_test = y_test, y_test_pred = y_test_pred):\n",
        "  modelo_tonto = dev_df_y[TARGET].mean()\n",
        "  acc = metrics.accuracy_score(y_test,y_test_pred)\n",
        "  precision = metrics.precision_score(y_test,y_test_pred)\n",
        "  recall = metrics.recall_score(y_test,y_test_pred)\n",
        "  f1_score = metrics.f1_score(y_test,y_test_pred)\n",
        "\n",
        "  print(f\"Accuracy: {acc}. > El modelo tonto daría: {modelo_tonto}\" )\n",
        "  print(f\"Precision: {precision}. > Cuántos positivos de los que detecta realmente lo son\")\n",
        "  print(f\"Recall: {recall}. > Cuántos positivos detecta el modelo del total\")\n",
        "  print(f\"F1_Score: {f1_score}\")"
      ],
      "metadata": {
        "id": "sTOBhjfEXxnW"
      },
      "execution_count": 259,
      "outputs": []
    },
    {
      "cell_type": "code",
      "source": [
        "metricas()"
      ],
      "metadata": {
        "id": "Z4r6fHDYZgYe",
        "colab": {
          "base_uri": "https://localhost:8080/"
        },
        "outputId": "63ada6ba-eef0-4300-a476-24373d493444"
      },
      "execution_count": 260,
      "outputs": [
        {
          "output_type": "stream",
          "name": "stdout",
          "text": [
            "Accuracy: 0.6419272580861629. > El modelo tonto daría: 0.5\n",
            "Precision: 0.6352378271882916. > Cuántos positivos de los que detecta realmente lo son\n",
            "Recall: 0.6219344171948195. > Cuántos positivos detecta el modelo del total\n",
            "F1_Score: 0.6285157337788917\n"
          ]
        }
      ]
    },
    {
      "cell_type": "markdown",
      "source": [
        "## AUC y ROC curve"
      ],
      "metadata": {
        "id": "0XNGfALOtTGK"
      }
    },
    {
      "cell_type": "code",
      "source": [
        "y_score = pd.DataFrame(dt.predict_proba(X_test)[:,1], index=y_test.index, columns=['debit_card_score']).sort_values(by='debit_card_score', ascending=False)"
      ],
      "metadata": {
        "id": "CWIIIm268Iab"
      },
      "execution_count": 261,
      "outputs": []
    },
    {
      "cell_type": "code",
      "source": [
        "result_df = result_df.join(y_score)"
      ],
      "metadata": {
        "id": "BpogqdRS8IXK"
      },
      "execution_count": 262,
      "outputs": []
    },
    {
      "cell_type": "code",
      "source": [
        "result_df.sort_values(by='debit_card_score', ascending=False).head()"
      ],
      "metadata": {
        "id": "3j5P-xEO8ITA",
        "colab": {
          "base_uri": "https://localhost:8080/",
          "height": 238
        },
        "outputId": "0d17f1e5-b0a7-4edf-a421-99eeafe88b1d"
      },
      "execution_count": 263,
      "outputs": [
        {
          "output_type": "execute_result",
          "data": {
            "text/plain": [
              "             product_ID_3819  debit_card_prediction  Success  debit_card_score\n",
              "customer_ID                                                                   \n",
              "1463241                    0                      1        0          0.936893\n",
              "1468274                    1                      1        1          0.936893\n",
              "1467831                    1                      1        1          0.936893\n",
              "1467910                    1                      1        1          0.936893\n",
              "1409118                    1                      1        1          0.936893"
            ],
            "text/html": [
              "\n",
              "  <div id=\"df-9470d1f2-cd2f-4606-850a-3b9da0ea0625\">\n",
              "    <div class=\"colab-df-container\">\n",
              "      <div>\n",
              "<style scoped>\n",
              "    .dataframe tbody tr th:only-of-type {\n",
              "        vertical-align: middle;\n",
              "    }\n",
              "\n",
              "    .dataframe tbody tr th {\n",
              "        vertical-align: top;\n",
              "    }\n",
              "\n",
              "    .dataframe thead th {\n",
              "        text-align: right;\n",
              "    }\n",
              "</style>\n",
              "<table border=\"1\" class=\"dataframe\">\n",
              "  <thead>\n",
              "    <tr style=\"text-align: right;\">\n",
              "      <th></th>\n",
              "      <th>product_ID_3819</th>\n",
              "      <th>debit_card_prediction</th>\n",
              "      <th>Success</th>\n",
              "      <th>debit_card_score</th>\n",
              "    </tr>\n",
              "    <tr>\n",
              "      <th>customer_ID</th>\n",
              "      <th></th>\n",
              "      <th></th>\n",
              "      <th></th>\n",
              "      <th></th>\n",
              "    </tr>\n",
              "  </thead>\n",
              "  <tbody>\n",
              "    <tr>\n",
              "      <th>1463241</th>\n",
              "      <td>0</td>\n",
              "      <td>1</td>\n",
              "      <td>0</td>\n",
              "      <td>0.936893</td>\n",
              "    </tr>\n",
              "    <tr>\n",
              "      <th>1468274</th>\n",
              "      <td>1</td>\n",
              "      <td>1</td>\n",
              "      <td>1</td>\n",
              "      <td>0.936893</td>\n",
              "    </tr>\n",
              "    <tr>\n",
              "      <th>1467831</th>\n",
              "      <td>1</td>\n",
              "      <td>1</td>\n",
              "      <td>1</td>\n",
              "      <td>0.936893</td>\n",
              "    </tr>\n",
              "    <tr>\n",
              "      <th>1467910</th>\n",
              "      <td>1</td>\n",
              "      <td>1</td>\n",
              "      <td>1</td>\n",
              "      <td>0.936893</td>\n",
              "    </tr>\n",
              "    <tr>\n",
              "      <th>1409118</th>\n",
              "      <td>1</td>\n",
              "      <td>1</td>\n",
              "      <td>1</td>\n",
              "      <td>0.936893</td>\n",
              "    </tr>\n",
              "  </tbody>\n",
              "</table>\n",
              "</div>\n",
              "      <button class=\"colab-df-convert\" onclick=\"convertToInteractive('df-9470d1f2-cd2f-4606-850a-3b9da0ea0625')\"\n",
              "              title=\"Convert this dataframe to an interactive table.\"\n",
              "              style=\"display:none;\">\n",
              "        \n",
              "  <svg xmlns=\"http://www.w3.org/2000/svg\" height=\"24px\"viewBox=\"0 0 24 24\"\n",
              "       width=\"24px\">\n",
              "    <path d=\"M0 0h24v24H0V0z\" fill=\"none\"/>\n",
              "    <path d=\"M18.56 5.44l.94 2.06.94-2.06 2.06-.94-2.06-.94-.94-2.06-.94 2.06-2.06.94zm-11 1L8.5 8.5l.94-2.06 2.06-.94-2.06-.94L8.5 2.5l-.94 2.06-2.06.94zm10 10l.94 2.06.94-2.06 2.06-.94-2.06-.94-.94-2.06-.94 2.06-2.06.94z\"/><path d=\"M17.41 7.96l-1.37-1.37c-.4-.4-.92-.59-1.43-.59-.52 0-1.04.2-1.43.59L10.3 9.45l-7.72 7.72c-.78.78-.78 2.05 0 2.83L4 21.41c.39.39.9.59 1.41.59.51 0 1.02-.2 1.41-.59l7.78-7.78 2.81-2.81c.8-.78.8-2.07 0-2.86zM5.41 20L4 18.59l7.72-7.72 1.47 1.35L5.41 20z\"/>\n",
              "  </svg>\n",
              "      </button>\n",
              "      \n",
              "  <style>\n",
              "    .colab-df-container {\n",
              "      display:flex;\n",
              "      flex-wrap:wrap;\n",
              "      gap: 12px;\n",
              "    }\n",
              "\n",
              "    .colab-df-convert {\n",
              "      background-color: #E8F0FE;\n",
              "      border: none;\n",
              "      border-radius: 50%;\n",
              "      cursor: pointer;\n",
              "      display: none;\n",
              "      fill: #1967D2;\n",
              "      height: 32px;\n",
              "      padding: 0 0 0 0;\n",
              "      width: 32px;\n",
              "    }\n",
              "\n",
              "    .colab-df-convert:hover {\n",
              "      background-color: #E2EBFA;\n",
              "      box-shadow: 0px 1px 2px rgba(60, 64, 67, 0.3), 0px 1px 3px 1px rgba(60, 64, 67, 0.15);\n",
              "      fill: #174EA6;\n",
              "    }\n",
              "\n",
              "    [theme=dark] .colab-df-convert {\n",
              "      background-color: #3B4455;\n",
              "      fill: #D2E3FC;\n",
              "    }\n",
              "\n",
              "    [theme=dark] .colab-df-convert:hover {\n",
              "      background-color: #434B5C;\n",
              "      box-shadow: 0px 1px 3px 1px rgba(0, 0, 0, 0.15);\n",
              "      filter: drop-shadow(0px 1px 2px rgba(0, 0, 0, 0.3));\n",
              "      fill: #FFFFFF;\n",
              "    }\n",
              "  </style>\n",
              "\n",
              "      <script>\n",
              "        const buttonEl =\n",
              "          document.querySelector('#df-9470d1f2-cd2f-4606-850a-3b9da0ea0625 button.colab-df-convert');\n",
              "        buttonEl.style.display =\n",
              "          google.colab.kernel.accessAllowed ? 'block' : 'none';\n",
              "\n",
              "        async function convertToInteractive(key) {\n",
              "          const element = document.querySelector('#df-9470d1f2-cd2f-4606-850a-3b9da0ea0625');\n",
              "          const dataTable =\n",
              "            await google.colab.kernel.invokeFunction('convertToInteractive',\n",
              "                                                     [key], {});\n",
              "          if (!dataTable) return;\n",
              "\n",
              "          const docLinkHtml = 'Like what you see? Visit the ' +\n",
              "            '<a target=\"_blank\" href=https://colab.research.google.com/notebooks/data_table.ipynb>data table notebook</a>'\n",
              "            + ' to learn more about interactive tables.';\n",
              "          element.innerHTML = '';\n",
              "          dataTable['output_type'] = 'display_data';\n",
              "          await google.colab.output.renderOutput(dataTable, element);\n",
              "          const docLink = document.createElement('div');\n",
              "          docLink.innerHTML = docLinkHtml;\n",
              "          element.appendChild(docLink);\n",
              "        }\n",
              "      </script>\n",
              "    </div>\n",
              "  </div>\n",
              "  "
            ]
          },
          "metadata": {},
          "execution_count": 263
        }
      ]
    },
    {
      "cell_type": "code",
      "source": [
        "metrics.roc_auc_score(result_df[TARGET],result_df['debit_card_score'])"
      ],
      "metadata": {
        "id": "rcVNiYqWtTGK",
        "colab": {
          "base_uri": "https://localhost:8080/"
        },
        "outputId": "a9b09e5f-9080-4d92-ca94-af40c4bb6e93"
      },
      "execution_count": 264,
      "outputs": [
        {
          "output_type": "execute_result",
          "data": {
            "text/plain": [
              "0.6718862767344385"
            ]
          },
          "metadata": {},
          "execution_count": 264
        }
      ]
    },
    {
      "cell_type": "code",
      "source": [
        "fpr_2,tpr_2,th_2=metrics.roc_curve(result_df[TARGET],result_df['debit_card_score'])\n",
        "plt.plot(fpr_2,tpr_2)\n",
        "plt.plot([0,1],[0,1],linestyle='--')\n",
        "plt.xlabel('FPR')\n",
        "plt.ylabel('TPR')\n",
        "plt.title('ROC curve')\n",
        "plt.show()"
      ],
      "metadata": {
        "id": "d6DJbchhtTGK",
        "colab": {
          "base_uri": "https://localhost:8080/",
          "height": 477
        },
        "outputId": "1a0c8bee-b6e9-4329-dc99-ad70e10ebad6"
      },
      "execution_count": 265,
      "outputs": [
        {
          "output_type": "display_data",
          "data": {
            "text/plain": [
              "<Figure size 640x480 with 1 Axes>"
            ],
            "image/png": "[encoded data removed]"
          },
          "metadata": {}
        }
      ]
    },
    {
      "cell_type": "markdown",
      "source": [
        "## Control del overfitting Decission Tree"
      ],
      "metadata": {
        "id": "QQNcg29atTGK"
      }
    },
    {
      "cell_type": "code",
      "source": [
        "for i in range(1,15):\n",
        "  #instancio el modelo\n",
        "  dt2= DecisionTreeClassifier(max_depth=i,random_state=42)\n",
        "  #entreno el modelo\n",
        "  dt2.fit(X_train,y_train)\n",
        "  #evaluo\n",
        "  acc_train = dt2.score(X_train,y_train)\n",
        "  acc_test = dt2.score(X_test,y_test)\n",
        "  print(f'Profundidad de arbol: {i}, Acc.train: {np.round(acc_train,6)},Acc.test: {np.round(acc_test,6)}')"
      ],
      "metadata": {
        "id": "to_i8sKntTGK",
        "colab": {
          "base_uri": "https://localhost:8080/"
        },
        "outputId": "5087801e-0a0b-4f61-f766-a01c2970e5d5"
      },
      "execution_count": 248,
      "outputs": [
        {
          "output_type": "stream",
          "name": "stdout",
          "text": [
            "Profundidad de arbol: 1, Acc.train: 0.529218,Acc.test: 0.523688\n",
            "Profundidad de arbol: 2, Acc.train: 0.564062,Acc.test: 0.563817\n",
            "Profundidad de arbol: 3, Acc.train: 0.590331,Acc.test: 0.593075\n",
            "Profundidad de arbol: 4, Acc.train: 0.597721,Acc.test: 0.599651\n",
            "Profundidad de arbol: 5, Acc.train: 0.609589,Acc.test: 0.608912\n",
            "Profundidad de arbol: 6, Acc.train: 0.627259,Acc.test: 0.628104\n",
            "Profundidad de arbol: 7, Acc.train: 0.6405,Acc.test: 0.628909\n",
            "Profundidad de arbol: 8, Acc.train: 0.647962,Acc.test: 0.631861\n",
            "Profundidad de arbol: 9, Acc.train: 0.660421,Acc.test: 0.645283\n",
            "Profundidad de arbol: 10, Acc.train: 0.671436,Acc.test: 0.638975\n",
            "Profundidad de arbol: 11, Acc.train: 0.685506,Acc.test: 0.642598\n",
            "Profundidad de arbol: 12, Acc.train: 0.698226,Acc.test: 0.640585\n",
            "Profundidad de arbol: 13, Acc.train: 0.711135,Acc.test: 0.63884\n",
            "Profundidad de arbol: 14, Acc.train: 0.726271,Acc.test: 0.633875\n"
          ]
        }
      ]
    },
    {
      "cell_type": "code",
      "source": [
        "#puedo probar con diferent numero de observaciones en el nodo final\n",
        "for i in range(1,15):\n",
        "  dt2= DecisionTreeClassifier(max_depth=i,random_state=42,min_samples_split=500)\n",
        "  dt2.fit(X_train,y_train)\n",
        "  acc_train = dt2.score(X_train,y_train)\n",
        "  acc_test = dt2.score(X_test,y_test)\n",
        "\n",
        "\n",
        "  print(f'Profundidad de arbol: {i}, Acc.train: {np.round(acc_train,6)},Acc.test: {np.round(acc_test,6)}')"
      ],
      "metadata": {
        "id": "DK0Y1FngtTGL",
        "colab": {
          "base_uri": "https://localhost:8080/"
        },
        "outputId": "42356457-0060-4f19-e875-04286db3f5d8"
      },
      "execution_count": 249,
      "outputs": [
        {
          "output_type": "stream",
          "name": "stdout",
          "text": [
            "Profundidad de arbol: 1, Acc.train: 0.529218,Acc.test: 0.523688\n",
            "Profundidad de arbol: 2, Acc.train: 0.564062,Acc.test: 0.563817\n",
            "Profundidad de arbol: 3, Acc.train: 0.590331,Acc.test: 0.593075\n",
            "Profundidad de arbol: 4, Acc.train: 0.597484,Acc.test: 0.599651\n",
            "Profundidad de arbol: 5, Acc.train: 0.60857,Acc.test: 0.607704\n",
            "Profundidad de arbol: 6, Acc.train: 0.624014,Acc.test: 0.625956\n",
            "Profundidad de arbol: 7, Acc.train: 0.635431,Acc.test: 0.625688\n",
            "Profundidad de arbol: 8, Acc.train: 0.639197,Acc.test: 0.627969\n",
            "Profundidad de arbol: 9, Acc.train: 0.645498,Acc.test: 0.641927\n",
            "Profundidad de arbol: 10, Acc.train: 0.649075,Acc.test: 0.636559\n",
            "Profundidad de arbol: 11, Acc.train: 0.654641,Acc.test: 0.643404\n",
            "Profundidad de arbol: 12, Acc.train: 0.657579,Acc.test: 0.643806\n",
            "Profundidad de arbol: 13, Acc.train: 0.658763,Acc.test: 0.643135\n",
            "Profundidad de arbol: 14, Acc.train: 0.66035,Acc.test: 0.644209\n"
          ]
        }
      ]
    },
    {
      "cell_type": "markdown",
      "source": [
        "## Modelos alternativos"
      ],
      "metadata": {
        "id": "_21BwbgjtTGL"
      }
    },
    {
      "cell_type": "markdown",
      "source": [
        "### RANDOM FOREST"
      ],
      "metadata": {
        "id": "UfqOoHtNmxzq"
      }
    },
    {
      "cell_type": "code",
      "source": [
        "#Random Forest con 10 replicas\n",
        "rf_2 = RandomForestClassifier(max_depth=9,random_state=420,min_samples_split=500,n_estimators=100)"
      ],
      "metadata": {
        "id": "FV9JfvaztTGL"
      },
      "execution_count": 286,
      "outputs": []
    },
    {
      "cell_type": "code",
      "source": [
        "rf_2.fit(X_train,y_train)"
      ],
      "metadata": {
        "colab": {
          "base_uri": "https://localhost:8080/",
          "height": 109
        },
        "outputId": "5cfdacaf-bb13-401c-8f7c-dffa948ad7e1",
        "id": "Zp3hBs7ZtTGL"
      },
      "execution_count": 287,
      "outputs": [
        {
          "output_type": "stream",
          "name": "stderr",
          "text": [
            "<ipython-input-287-7bdf2188c4c9>:1: DataConversionWarning: A column-vector y was passed when a 1d array was expected. Please change the shape of y to (n_samples,), for example using ravel().\n",
            "  rf_2.fit(X_train,y_train)\n"
          ]
        },
        {
          "output_type": "execute_result",
          "data": {
            "text/plain": [
              "RandomForestClassifier(max_depth=9, min_samples_split=500, random_state=420)"
            ],
            "text/html": [
              "<style>#sk-container-id-10 {color: black;background-color: white;}#sk-container-id-10 pre{padding: 0;}#sk-container-id-10 div.sk-toggleable {background-color: white;}#sk-container-id-10 label.sk-toggleable__label {cursor: pointer;display: block;width: 100%;margin-bottom: 0;padding: 0.3em;box-sizing: border-box;text-align: center;}#sk-container-id-10 label.sk-toggleable__label-arrow:before {content: \"▸\";float: left;margin-right: 0.25em;color: #696969;}#sk-container-id-10 label.sk-toggleable__label-arrow:hover:before {color: black;}#sk-container-id-10 div.sk-estimator:hover label.sk-toggleable__label-arrow:before {color: black;}#sk-container-id-10 div.sk-toggleable__content {max-height: 0;max-width: 0;overflow: hidden;text-align: left;background-color: #f0f8ff;}#sk-container-id-10 div.sk-toggleable__content pre {margin: 0.2em;color: black;border-radius: 0.25em;background-color: #f0f8ff;}#sk-container-id-10 input.sk-toggleable__control:checked~div.sk-toggleable__content {max-height: 200px;max-width: 100%;overflow: auto;}#sk-container-id-10 input.sk-toggleable__control:checked~label.sk-toggleable__label-arrow:before {content: \"▾\";}#sk-container-id-10 div.sk-estimator input.sk-toggleable__control:checked~label.sk-toggleable__label {background-color: #d4ebff;}#sk-container-id-10 div.sk-label input.sk-toggleable__control:checked~label.sk-toggleable__label {background-color: #d4ebff;}#sk-container-id-10 input.sk-hidden--visually {border: 0;clip: rect(1px 1px 1px 1px);clip: rect(1px, 1px, 1px, 1px);height: 1px;margin: -1px;overflow: hidden;padding: 0;position: absolute;width: 1px;}#sk-container-id-10 div.sk-estimator {font-family: monospace;background-color: #f0f8ff;border: 1px dotted black;border-radius: 0.25em;box-sizing: border-box;margin-bottom: 0.5em;}#sk-container-id-10 div.sk-estimator:hover {background-color: #d4ebff;}#sk-container-id-10 div.sk-parallel-item::after {content: \"\";width: 100%;border-bottom: 1px solid gray;flex-grow: 1;}#sk-container-id-10 div.sk-label:hover label.sk-toggleable__label {background-color: #d4ebff;}#sk-container-id-10 div.sk-serial::before {content: \"\";position: absolute;border-left: 1px solid gray;box-sizing: border-box;top: 0;bottom: 0;left: 50%;z-index: 0;}#sk-container-id-10 div.sk-serial {display: flex;flex-direction: column;align-items: center;background-color: white;padding-right: 0.2em;padding-left: 0.2em;position: relative;}#sk-container-id-10 div.sk-item {position: relative;z-index: 1;}#sk-container-id-10 div.sk-parallel {display: flex;align-items: stretch;justify-content: center;background-color: white;position: relative;}#sk-container-id-10 div.sk-item::before, #sk-container-id-10 div.sk-parallel-item::before {content: \"\";position: absolute;border-left: 1px solid gray;box-sizing: border-box;top: 0;bottom: 0;left: 50%;z-index: -1;}#sk-container-id-10 div.sk-parallel-item {display: flex;flex-direction: column;z-index: 1;position: relative;background-color: white;}#sk-container-id-10 div.sk-parallel-item:first-child::after {align-self: flex-end;width: 50%;}#sk-container-id-10 div.sk-parallel-item:last-child::after {align-self: flex-start;width: 50%;}#sk-container-id-10 div.sk-parallel-item:only-child::after {width: 0;}#sk-container-id-10 div.sk-dashed-wrapped {border: 1px dashed gray;margin: 0 0.4em 0.5em 0.4em;box-sizing: border-box;padding-bottom: 0.4em;background-color: white;}#sk-container-id-10 div.sk-label label {font-family: monospace;font-weight: bold;display: inline-block;line-height: 1.2em;}#sk-container-id-10 div.sk-label-container {text-align: center;}#sk-container-id-10 div.sk-container {/* jupyter's `normalize.less` sets `[hidden] { display: none; }` but bootstrap.min.css set `[hidden] { display: none !important; }` so we also need the `!important` here to be able to override the default hidden behavior on the sphinx rendered scikit-learn.org. See: https://github.com/scikit-learn/scikit-learn/issues/21755 */display: inline-block !important;position: relative;}#sk-container-id-10 div.sk-text-repr-fallback {display: none;}</style><div id=\"sk-container-id-10\" class=\"sk-top-container\"><div class=\"sk-text-repr-fallback\"><pre>RandomForestClassifier(max_depth=9, min_samples_split=500, random_state=420)</pre><b>In a Jupyter environment, please rerun this cell to show the HTML representation or trust the notebook. <br />On GitHub, the HTML representation is unable to render, please try loading this page with nbviewer.org.</b></div><div class=\"sk-container\" hidden><div class=\"sk-item\"><div class=\"sk-estimator sk-toggleable\"><input class=\"sk-toggleable__control sk-hidden--visually\" id=\"sk-estimator-id-10\" type=\"checkbox\" checked><label for=\"sk-estimator-id-10\" class=\"sk-toggleable__label sk-toggleable__label-arrow\">RandomForestClassifier</label><div class=\"sk-toggleable__content\"><pre>RandomForestClassifier(max_depth=9, min_samples_split=500, random_state=420)</pre></div></div></div></div></div>"
            ]
          },
          "metadata": {},
          "execution_count": 287
        }
      ]
    },
    {
      "cell_type": "code",
      "source": [
        "rf_acc_train = rf_2.score(X_train,y_train)\n",
        "rf_acc_train"
      ],
      "metadata": {
        "id": "PpWvNuKpe5vA",
        "outputId": "bc2b2e51-02f5-40af-d646-8677c6fa5f1d",
        "colab": {
          "base_uri": "https://localhost:8080/"
        }
      },
      "execution_count": 288,
      "outputs": [
        {
          "output_type": "execute_result",
          "data": {
            "text/plain": [
              "0.6440059691593434"
            ]
          },
          "metadata": {},
          "execution_count": 288
        }
      ]
    },
    {
      "cell_type": "code",
      "source": [
        "rf_2.score(X_test,y_test)"
      ],
      "metadata": {
        "colab": {
          "base_uri": "https://localhost:8080/"
        },
        "outputId": "2ca44f9a-1938-44fe-d61a-263e29de7feb",
        "id": "FrONL8BbtTGL"
      },
      "execution_count": 289,
      "outputs": [
        {
          "output_type": "execute_result",
          "data": {
            "text/plain": [
              "0.6413904173936384"
            ]
          },
          "metadata": {},
          "execution_count": 289
        }
      ]
    },
    {
      "cell_type": "code",
      "source": [
        "rf_2.score(val_df_X,val_df_y)\n",
        "# El resultado en validación mejora, tiene un 69% de acierto, sobre la distribución del 50% que tiene nuestro TARGET\n"
      ],
      "metadata": {
        "colab": {
          "base_uri": "https://localhost:8080/"
        },
        "outputId": "dc3ab3e4-33bf-427c-9d74-ad5911895b34",
        "id": "bPibNJIOtTGL"
      },
      "execution_count": 290,
      "outputs": [
        {
          "output_type": "execute_result",
          "data": {
            "text/plain": [
              "0.5355661391918881"
            ]
          },
          "metadata": {},
          "execution_count": 290
        }
      ]
    },
    {
      "cell_type": "markdown",
      "source": [
        "### XGBOOST (sklearn)"
      ],
      "metadata": {
        "id": "VrrymUDdmvwP"
      }
    },
    {
      "cell_type": "code",
      "source": [
        "from xgboost import XGBClassifier\n",
        "from sklearn.ensemble import GradientBoostingClassifier\n",
        "from sklearn.model_selection import GridSearchCV"
      ],
      "metadata": {
        "id": "Emt6jwK2_7r4"
      },
      "execution_count": 291,
      "outputs": []
    },
    {
      "cell_type": "code",
      "source": [
        "gb = GradientBoostingClassifier(n_estimators=50, max_depth=5, min_samples_split=500, random_state=42)"
      ],
      "metadata": {
        "id": "8qBK3VXU_kLB"
      },
      "execution_count": 292,
      "outputs": []
    },
    {
      "cell_type": "code",
      "source": [
        "gb.fit(X_train, np.ravel(y_train))"
      ],
      "metadata": {
        "colab": {
          "base_uri": "https://localhost:8080/",
          "height": 92
        },
        "id": "HQo63Rig_lJe",
        "outputId": "79cc94cc-bce7-4164-fb4e-187ad9f0cc37"
      },
      "execution_count": 293,
      "outputs": [
        {
          "output_type": "execute_result",
          "data": {
            "text/plain": [
              "GradientBoostingClassifier(max_depth=5, min_samples_split=500, n_estimators=50,\n",
              "                           random_state=42)"
            ],
            "text/html": [
              "<style>#sk-container-id-11 {color: black;background-color: white;}#sk-container-id-11 pre{padding: 0;}#sk-container-id-11 div.sk-toggleable {background-color: white;}#sk-container-id-11 label.sk-toggleable__label {cursor: pointer;display: block;width: 100%;margin-bottom: 0;padding: 0.3em;box-sizing: border-box;text-align: center;}#sk-container-id-11 label.sk-toggleable__label-arrow:before {content: \"▸\";float: left;margin-right: 0.25em;color: #696969;}#sk-container-id-11 label.sk-toggleable__label-arrow:hover:before {color: black;}#sk-container-id-11 div.sk-estimator:hover label.sk-toggleable__label-arrow:before {color: black;}#sk-container-id-11 div.sk-toggleable__content {max-height: 0;max-width: 0;overflow: hidden;text-align: left;background-color: #f0f8ff;}#sk-container-id-11 div.sk-toggleable__content pre {margin: 0.2em;color: black;border-radius: 0.25em;background-color: #f0f8ff;}#sk-container-id-11 input.sk-toggleable__control:checked~div.sk-toggleable__content {max-height: 200px;max-width: 100%;overflow: auto;}#sk-container-id-11 input.sk-toggleable__control:checked~label.sk-toggleable__label-arrow:before {content: \"▾\";}#sk-container-id-11 div.sk-estimator input.sk-toggleable__control:checked~label.sk-toggleable__label {background-color: #d4ebff;}#sk-container-id-11 div.sk-label input.sk-toggleable__control:checked~label.sk-toggleable__label {background-color: #d4ebff;}#sk-container-id-11 input.sk-hidden--visually {border: 0;clip: rect(1px 1px 1px 1px);clip: rect(1px, 1px, 1px, 1px);height: 1px;margin: -1px;overflow: hidden;padding: 0;position: absolute;width: 1px;}#sk-container-id-11 div.sk-estimator {font-family: monospace;background-color: #f0f8ff;border: 1px dotted black;border-radius: 0.25em;box-sizing: border-box;margin-bottom: 0.5em;}#sk-container-id-11 div.sk-estimator:hover {background-color: #d4ebff;}#sk-container-id-11 div.sk-parallel-item::after {content: \"\";width: 100%;border-bottom: 1px solid gray;flex-grow: 1;}#sk-container-id-11 div.sk-label:hover label.sk-toggleable__label {background-color: #d4ebff;}#sk-container-id-11 div.sk-serial::before {content: \"\";position: absolute;border-left: 1px solid gray;box-sizing: border-box;top: 0;bottom: 0;left: 50%;z-index: 0;}#sk-container-id-11 div.sk-serial {display: flex;flex-direction: column;align-items: center;background-color: white;padding-right: 0.2em;padding-left: 0.2em;position: relative;}#sk-container-id-11 div.sk-item {position: relative;z-index: 1;}#sk-container-id-11 div.sk-parallel {display: flex;align-items: stretch;justify-content: center;background-color: white;position: relative;}#sk-container-id-11 div.sk-item::before, #sk-container-id-11 div.sk-parallel-item::before {content: \"\";position: absolute;border-left: 1px solid gray;box-sizing: border-box;top: 0;bottom: 0;left: 50%;z-index: -1;}#sk-container-id-11 div.sk-parallel-item {display: flex;flex-direction: column;z-index: 1;position: relative;background-color: white;}#sk-container-id-11 div.sk-parallel-item:first-child::after {align-self: flex-end;width: 50%;}#sk-container-id-11 div.sk-parallel-item:last-child::after {align-self: flex-start;width: 50%;}#sk-container-id-11 div.sk-parallel-item:only-child::after {width: 0;}#sk-container-id-11 div.sk-dashed-wrapped {border: 1px dashed gray;margin: 0 0.4em 0.5em 0.4em;box-sizing: border-box;padding-bottom: 0.4em;background-color: white;}#sk-container-id-11 div.sk-label label {font-family: monospace;font-weight: bold;display: inline-block;line-height: 1.2em;}#sk-container-id-11 div.sk-label-container {text-align: center;}#sk-container-id-11 div.sk-container {/* jupyter's `normalize.less` sets `[hidden] { display: none; }` but bootstrap.min.css set `[hidden] { display: none !important; }` so we also need the `!important` here to be able to override the default hidden behavior on the sphinx rendered scikit-learn.org. See: https://github.com/scikit-learn/scikit-learn/issues/21755 */display: inline-block !important;position: relative;}#sk-container-id-11 div.sk-text-repr-fallback {display: none;}</style><div id=\"sk-container-id-11\" class=\"sk-top-container\"><div class=\"sk-text-repr-fallback\"><pre>GradientBoostingClassifier(max_depth=5, min_samples_split=500, n_estimators=50,\n",
              "                           random_state=42)</pre><b>In a Jupyter environment, please rerun this cell to show the HTML representation or trust the notebook. <br />On GitHub, the HTML representation is unable to render, please try loading this page with nbviewer.org.</b></div><div class=\"sk-container\" hidden><div class=\"sk-item\"><div class=\"sk-estimator sk-toggleable\"><input class=\"sk-toggleable__control sk-hidden--visually\" id=\"sk-estimator-id-11\" type=\"checkbox\" checked><label for=\"sk-estimator-id-11\" class=\"sk-toggleable__label sk-toggleable__label-arrow\">GradientBoostingClassifier</label><div class=\"sk-toggleable__content\"><pre>GradientBoostingClassifier(max_depth=5, min_samples_split=500, n_estimators=50,\n",
              "                           random_state=42)</pre></div></div></div></div></div>"
            ]
          },
          "metadata": {},
          "execution_count": 293
        }
      ]
    },
    {
      "cell_type": "code",
      "source": [
        "gb.score(X_train,y_train)"
      ],
      "metadata": {
        "id": "8kFfHm5zfM8h",
        "outputId": "0c18092d-1327-4157-c360-f3dbd70aff41",
        "colab": {
          "base_uri": "https://localhost:8080/"
        }
      },
      "execution_count": 294,
      "outputs": [
        {
          "output_type": "execute_result",
          "data": {
            "text/plain": [
              "0.667361489447379"
            ]
          },
          "metadata": {},
          "execution_count": 294
        }
      ]
    },
    {
      "cell_type": "code",
      "source": [
        "gb.score(X_test,y_test)"
      ],
      "metadata": {
        "colab": {
          "base_uri": "https://localhost:8080/"
        },
        "id": "_sYUIDzhCWRq",
        "outputId": "3fdfab18-1102-49b0-ae81-59984a80bf7e"
      },
      "execution_count": 295,
      "outputs": [
        {
          "output_type": "execute_result",
          "data": {
            "text/plain": [
              "0.6553482753992753"
            ]
          },
          "metadata": {},
          "execution_count": 295
        }
      ]
    },
    {
      "cell_type": "code",
      "source": [
        "acc_grad_val = gb.score(val_df_X,val_df_y)\n",
        "#En validación el resultado vuelve a empeorar frente al random forest, acierta un 63% de una distribución de 50 que tiene nuestro TARGET\n",
        "acc_grad_val"
      ],
      "metadata": {
        "colab": {
          "base_uri": "https://localhost:8080/"
        },
        "id": "CLn0wrriJSFx",
        "outputId": "4bd34122-371a-4ac2-d9b9-7997af591895"
      },
      "execution_count": 296,
      "outputs": [
        {
          "output_type": "execute_result",
          "data": {
            "text/plain": [
              "0.5696727607927485"
            ]
          },
          "metadata": {},
          "execution_count": 296
        }
      ]
    },
    {
      "cell_type": "code",
      "source": [],
      "metadata": {
        "id": "hCkb_1NVNM3m"
      },
      "execution_count": null,
      "outputs": []
    },
    {
      "cell_type": "markdown",
      "source": [
        "### Establecimiento de hiperparámetros óptimos para el GradientBoosting"
      ],
      "metadata": {
        "id": "-rYTXGDWNPzz"
      }
    },
    {
      "cell_type": "code",
      "source": [
        "param_grid = {\n",
        "    'n_estimators': [20, 50, 70, 100],\n",
        "    'max_depth': [3, 4, 5, 6, 7, 8]\n",
        "}"
      ],
      "metadata": {
        "id": "Y_Afcxy1NVKD"
      },
      "execution_count": null,
      "outputs": []
    },
    {
      "cell_type": "code",
      "source": [
        "model_gb = GradientBoostingClassifier()"
      ],
      "metadata": {
        "id": "_J9iwspGNVHW"
      },
      "execution_count": null,
      "outputs": []
    },
    {
      "cell_type": "code",
      "source": [
        "# grid_search = GridSearchCV(estimator=model_gb, param_grid=param_grid, cv=5)\n",
        "# grid_search.fit(X_train, np.ravel(y_train))"
      ],
      "metadata": {
        "id": "KtvSqB-9NVEf"
      },
      "execution_count": null,
      "outputs": []
    },
    {
      "cell_type": "code",
      "source": [
        "# best_params = grid_search.best_params_\n",
        "# best_model = grid_search.best_estimator_"
      ],
      "metadata": {
        "id": "KmjlSl3ZNwSt"
      },
      "execution_count": null,
      "outputs": []
    },
    {
      "cell_type": "code",
      "source": [
        "# print(best_params)\n",
        "# print(best_model)"
      ],
      "metadata": {
        "id": "bi2HxS1QSby-"
      },
      "execution_count": null,
      "outputs": []
    },
    {
      "cell_type": "code",
      "source": [
        "# accuracy = best_model.score(X_test, y_test)\n",
        "# print(accuracy)"
      ],
      "metadata": {
        "id": "QrjIptIXN0Gu"
      },
      "execution_count": null,
      "outputs": []
    },
    {
      "cell_type": "markdown",
      "source": [
        "## XGBOOST (original)"
      ],
      "metadata": {
        "id": "eZeSbr1yraoR"
      }
    },
    {
      "cell_type": "code",
      "source": [
        "dtrain = xgb.DMatrix(data=X_train, label=y_train)"
      ],
      "metadata": {
        "id": "gaWvtaPlrgbZ"
      },
      "execution_count": null,
      "outputs": []
    },
    {
      "cell_type": "code",
      "source": [
        "params = {\n",
        "    'max_depth': 6,\n",
        "    'eta': 0.3,\n",
        "    'objective': 'binary:logistic',\n",
        "    'eval_metric': 'logloss'\n",
        "}\n",
        "\n",
        "# Entrenar el modelo\n",
        "num_rounds = 100\n",
        "model_xgb = xgb.train(params, dtrain, num_rounds)"
      ],
      "metadata": {
        "id": "iKOSmfZtrgYc"
      },
      "execution_count": null,
      "outputs": []
    },
    {
      "cell_type": "code",
      "source": [
        "dtest = xgb.DMatrix(data=X_test)"
      ],
      "metadata": {
        "id": "5k5AqFqPrfrl"
      },
      "execution_count": null,
      "outputs": []
    },
    {
      "cell_type": "code",
      "source": [
        "predictions = model_xgb.predict(dtest)"
      ],
      "metadata": {
        "id": "jUDZLqYfsAo_"
      },
      "execution_count": null,
      "outputs": []
    },
    {
      "cell_type": "code",
      "source": [
        "predictions"
      ],
      "metadata": {
        "colab": {
          "base_uri": "https://localhost:8080/"
        },
        "id": "42YGqlBnyCZS",
        "outputId": "26f56f2f-5ca7-4128-c3aa-dffd9553dc2d"
      },
      "execution_count": null,
      "outputs": [
        {
          "output_type": "execute_result",
          "data": {
            "text/plain": [
              "array([0.5379364 , 0.23372155, 0.62428117, ..., 0.33636603, 0.93640643,\n",
              "       0.44954193], dtype=float32)"
            ]
          },
          "metadata": {},
          "execution_count": 256
        }
      ]
    },
    {
      "cell_type": "code",
      "source": [
        "from sklearn.metrics import accuracy_score"
      ],
      "metadata": {
        "id": "zRwXDBp6sAmF"
      },
      "execution_count": null,
      "outputs": []
    },
    {
      "cell_type": "code",
      "source": [
        "# Convertir las predicciones a etiquetas binarias (0 o 1)\n",
        "binary_predictions = [1 if p >= 0.5 else 0 for p in predictions]"
      ],
      "metadata": {
        "id": "R_ZXvuSYsrCS"
      },
      "execution_count": null,
      "outputs": []
    },
    {
      "cell_type": "code",
      "source": [
        "# Calcular el accuracy\n",
        "accuracy_xgboost = accuracy_score(y_test, binary_predictions)\n",
        "print(\"Accuracy:\", accuracy_xgboost)"
      ],
      "metadata": {
        "colab": {
          "base_uri": "https://localhost:8080/"
        },
        "id": "rpiuLpMLsAcd",
        "outputId": "eb108115-6491-4270-8e5f-bd62fbcca530"
      },
      "execution_count": null,
      "outputs": [
        {
          "output_type": "stream",
          "name": "stdout",
          "text": [
            "Accuracy: 0.6652227722772277\n"
          ]
        }
      ]
    },
    {
      "cell_type": "code",
      "source": [
        "dval = xgb.DMatrix(data=val_df_X, label=val_df_y)"
      ],
      "metadata": {
        "id": "pbIiJDtbyUXp"
      },
      "execution_count": null,
      "outputs": []
    },
    {
      "cell_type": "code",
      "source": [
        "val_predictions = model_xgb.predict(dval)"
      ],
      "metadata": {
        "id": "B8oPnbWFyUUd"
      },
      "execution_count": null,
      "outputs": []
    },
    {
      "cell_type": "code",
      "source": [
        "binary_val_predictions = [1 if p >= 0.5 else 0 for p in val_predictions]"
      ],
      "metadata": {
        "id": "xcZfuNcpyURV"
      },
      "execution_count": null,
      "outputs": []
    },
    {
      "cell_type": "code",
      "source": [
        "val_accuracy_xgboost = accuracy_score(val_df_y, binary_val_predictions)\n",
        "print(\"Validation Accuracy:\", val_accuracy_xgboost)"
      ],
      "metadata": {
        "colab": {
          "base_uri": "https://localhost:8080/"
        },
        "id": "q0Z9BmnOyk5S",
        "outputId": "41f0839b-a3de-4229-8a3f-4369ffcdaa71"
      },
      "execution_count": null,
      "outputs": [
        {
          "output_type": "stream",
          "name": "stdout",
          "text": [
            "Validation Accuracy: 0.5922568750960209\n"
          ]
        }
      ]
    },
    {
      "cell_type": "markdown",
      "source": [
        "## Variables más predictivas"
      ],
      "metadata": {
        "id": "11xm86fEtTGO"
      }
    },
    {
      "cell_type": "code",
      "source": [
        "top_features_dt = pd.Series(dt.feature_importances_, index=X_train.columns).sort_values(ascending=False).head(20)"
      ],
      "metadata": {
        "id": "387EGBlYmdKL"
      },
      "execution_count": null,
      "outputs": []
    },
    {
      "cell_type": "code",
      "source": [
        "top_features_dt\n",
        "# Aquí vemos las variables que el modelo Decision Tree ha considerado como más predictivas"
      ],
      "metadata": {
        "id": "xXRTZokPmn9_",
        "outputId": "ca1b8ed2-5bee-4e91-c883-836b25796620",
        "colab": {
          "base_uri": "https://localhost:8080/"
        }
      },
      "execution_count": null,
      "outputs": [
        {
          "output_type": "execute_result",
          "data": {
            "text/plain": [
              "pension_plan                 0.358509\n",
              "em_acount                    0.128186\n",
              "age                          0.089244\n",
              "sale_month                   0.088955\n",
              "antiguedad                   0.084768\n",
              "payroll_account              0.063513\n",
              "tasa_de_empleo               0.052829\n",
              "sale_year                    0.050349\n",
              "segment_01 - TOP             0.043326\n",
              "emc_account                  0.021227\n",
              "short_term_deposit           0.010391\n",
              "entry_channel_KHE            0.002443\n",
              "segment_02 - PARTICULARES    0.002230\n",
              "renta_bruta_media            0.001845\n",
              "salary                       0.001736\n",
              "gender                       0.000448\n",
              "provincia_Córdoba            0.000000\n",
              "provincia_León               0.000000\n",
              "provincia_Granada            0.000000\n",
              "provincia_Murcia             0.000000\n",
              "dtype: float64"
            ]
          },
          "metadata": {},
          "execution_count": 265
        }
      ]
    },
    {
      "cell_type": "code",
      "source": [
        "top_features_2_rd = pd.Series(rf_2.feature_importances_, index=X_train.columns).sort_values(ascending=False).head(20)"
      ],
      "metadata": {
        "id": "qf_esVyttTGP"
      },
      "execution_count": null,
      "outputs": []
    },
    {
      "cell_type": "code",
      "source": [
        "top_features_2_rd\n",
        "# Aquí vemos las variables que el modelo Random Forest ha considerado como más predictivas"
      ],
      "metadata": {
        "colab": {
          "base_uri": "https://localhost:8080/"
        },
        "outputId": "12f2867f-77ae-42a0-98f8-0fcb01b269e6",
        "id": "eZ-PZGO7tTGP"
      },
      "execution_count": null,
      "outputs": [
        {
          "output_type": "execute_result",
          "data": {
            "text/plain": [
              "em_acount                     0.142441\n",
              "pension_plan                  0.136870\n",
              "payroll                       0.110575\n",
              "segment_01 - TOP              0.074769\n",
              "antiguedad                    0.059804\n",
              "age                           0.057952\n",
              "short_term_deposit            0.054513\n",
              "payroll_account               0.051253\n",
              "sale_month                    0.043302\n",
              "tasa_de_empleo                0.036177\n",
              "salary                        0.020345\n",
              "entry_channel_KFC             0.017633\n",
              "segment_03 - UNIVERSITARIO    0.017551\n",
              "emc_account                   0.017252\n",
              "renta_bruta_media             0.017193\n",
              "entry_channel_KAT             0.016473\n",
              "sale_year                     0.014911\n",
              "entry_channel_KHQ             0.014415\n",
              "segment_02 - PARTICULARES     0.014169\n",
              "provincia_Madrid              0.011547\n",
              "dtype: float64"
            ]
          },
          "metadata": {},
          "execution_count": 267
        }
      ]
    },
    {
      "cell_type": "code",
      "source": [
        "top_features_2_gb = pd.Series(gb.feature_importances_, index=X_train.columns).sort_values(ascending=False).head(20)"
      ],
      "metadata": {
        "id": "rPnQ0qzuEaqv"
      },
      "execution_count": null,
      "outputs": []
    },
    {
      "cell_type": "code",
      "source": [
        "top_features_2_gb\n",
        "# Aquí vemos las variables que el modelo Gradient Boosting ha considerado como más predictivas"
      ],
      "metadata": {
        "colab": {
          "base_uri": "https://localhost:8080/"
        },
        "id": "EoK0h_EvEgaA",
        "outputId": "cd7deec2-783a-4927-b305-28df0d0e636e"
      },
      "execution_count": null,
      "outputs": [
        {
          "output_type": "execute_result",
          "data": {
            "text/plain": [
              "pension_plan                  0.262875\n",
              "em_acount                     0.117404\n",
              "sale_month                    0.097006\n",
              "age                           0.088009\n",
              "antiguedad                    0.082904\n",
              "payroll_account               0.062293\n",
              "tasa_de_empleo                0.048081\n",
              "segment_01 - TOP              0.047669\n",
              "payroll                       0.047335\n",
              "sale_year                     0.040381\n",
              "short_term_deposit            0.021234\n",
              "emc_account                   0.020141\n",
              "entry_channel_KHE             0.011710\n",
              "entry_channel_KHQ             0.010850\n",
              "segment_02 - PARTICULARES     0.006575\n",
              "salary                        0.005885\n",
              "entry_channel_KHN             0.002920\n",
              "renta_bruta_media             0.002782\n",
              "segment_03 - UNIVERSITARIO    0.002465\n",
              "entry_channel_KFC             0.002048\n",
              "dtype: float64"
            ]
          },
          "metadata": {},
          "execution_count": 269
        }
      ]
    },
    {
      "cell_type": "markdown",
      "source": [
        "## Comparación entre modelos"
      ],
      "metadata": {
        "id": "Cb5oUuEBEzZ_"
      }
    },
    {
      "cell_type": "code",
      "source": [
        "RANDOM_STATE = 42\n",
        "n_estimators = 50\n",
        "max_depth = 8\n",
        "\n",
        "models = [\n",
        "    ('DecisionTree', DecisionTreeClassifier(max_depth=max_depth, random_state=42)),\n",
        "    ('RandomForest', RandomForestClassifier(n_estimators=n_estimators, max_depth=max_depth, random_state=RANDOM_STATE)),\n",
        "    ('GradientBoosting', GradientBoostingClassifier(n_estimators=n_estimators, max_depth=max_depth, random_state=RANDOM_STATE))\n",
        "]"
      ],
      "metadata": {
        "id": "cPx4cshVEy2g"
      },
      "execution_count": null,
      "outputs": []
    },
    {
      "cell_type": "code",
      "source": [
        "plt.clf()\n",
        "for model in models:\n",
        "    model_name = model[0]\n",
        "    model_instance = model[1]\n",
        "    model_instance.fit(X_train, np.ravel(y_train))\n",
        "    predictions = model_instance.predict_proba(X_test)[:,1]\n",
        "    auc_score = metrics.roc_auc_score(y_test, predictions)\n",
        "    print('ROC AUC Score for {}: {}'.format(model_name, auc_score))\n",
        "    fpr, tpr, _ = metrics.roc_curve(y_test, predictions)\n",
        "    plt.plot(fpr, tpr, label='ROC Curve for {} - Area: {:2f}'.format(model_name, auc_score))\n",
        "plt.plot([0, 1], [0, 1], color='gray', linestyle='--')\n",
        "plt.xlabel('FPR')\n",
        "plt.ylabel('TPR')\n",
        "plt.legend(loc=\"lower right\")\n",
        "plt.title('ROC curve')\n",
        "plt.show()"
      ],
      "metadata": {
        "id": "CKvJAH4SExZ3",
        "colab": {
          "base_uri": "https://localhost:8080/",
          "height": 529
        },
        "outputId": "35a7aa6a-f763-4bc3-beb1-baa15ecae8e9"
      },
      "execution_count": null,
      "outputs": [
        {
          "output_type": "stream",
          "name": "stdout",
          "text": [
            "ROC AUC Score for DecisionTree: 0.7169538693490619\n",
            "ROC AUC Score for RandomForest: 0.7046742548288363\n",
            "ROC AUC Score for GradientBoosting: 0.7418174315810353\n"
          ]
        },
        {
          "output_type": "display_data",
          "data": {
            "text/plain": [
              "<Figure size 640x480 with 1 Axes>"
            ],
            "image/png": "[encoded data removed]"
          },
          "metadata": {}
        }
      ]
    },
    {
      "cell_type": "code",
      "source": [
        "rf_acc_train"
      ],
      "metadata": {
        "id": "PUvZGAizxTpk",
        "outputId": "1c3233a2-881d-475b-b971-4fd9c98d5bfd",
        "colab": {
          "base_uri": "https://localhost:8080/"
        }
      },
      "execution_count": null,
      "outputs": [
        {
          "output_type": "execute_result",
          "data": {
            "text/plain": [
              "0.6553471282150455"
            ]
          },
          "metadata": {},
          "execution_count": 272
        }
      ]
    },
    {
      "cell_type": "code",
      "source": [
        "print(f\"Decision Tree Train: {dt_acc_train}\")\n",
        "print(f\"Decision Tree Val: {dt_acc_val}\")\n",
        "print()\n",
        "print(f\"Decision Tree Train: {rf_acc_train}\")\n",
        "print(f\"Decision Tree Val: {rf_acc_val}\")\n",
        "print()\n",
        "print(f\"Gradient Boosting Train: {acc_grad}\")\n",
        "print(f\"Gradient Boosting Val: {acc_grad_val}\")\n",
        "print()\n",
        "print(f\"XGBoost Train:{accuracy_xgboost}\")\n",
        "print(f\"XGBoost Val: {val_accuracy_xgboost}\")\n",
        "print()"
      ],
      "metadata": {
        "id": "S_Ry2I7ptm2h",
        "outputId": "ef2080e9-a4a2-4055-c44d-7bc107eff46a",
        "colab": {
          "base_uri": "https://localhost:8080/"
        }
      },
      "execution_count": null,
      "outputs": [
        {
          "output_type": "stream",
          "name": "stdout",
          "text": [
            "Decision Tree Train: 0.6572036356604138\n",
            "Decision Tree Val: 0.5664464587494239\n",
            "\n",
            "Decision Tree Train: 0.6553471282150455\n",
            "Decision Tree Val: 0.5119065908741742\n",
            "\n",
            "Gradient Boosting Train: 0.6737768323341713\n",
            "Gradient Boosting Val: 0.5621447226916577\n",
            "\n",
            "XGBoost Train:0.6652227722772277\n",
            "XGBoost Val: 0.5922568750960209\n",
            "\n"
          ]
        }
      ]
    },
    {
      "cell_type": "code",
      "source": [
        "# SIGUIENTES PASOS\n",
        "\n",
        "# --> Métricas y evaluación de métricas del random forest\n",
        "\n",
        "# --> Acordar dos target más (me parecen buena opción la debit_card y la cuenta emc_account)\n",
        "# Se me ocurre como estrategia de marketing ofrecer el pack plan de pensiones + emc_account a ambos grupos de clientes potenciales para diversificar riesgo,\n",
        "# teniendo algo muy seguro y largoplazista y otra inversión más especulativa (se apoya esta estrategia en que el grueso de los clientes son gente joven a la que puede interesar el mix)\n",
        "# --> Adaptar el dataset2 y dataset3 para lanzar los modelos sobre el target2 y target3"
      ],
      "metadata": {
        "id": "x8r-P9pntTGL"
      },
      "execution_count": null,
      "outputs": []
    }
  ]
}
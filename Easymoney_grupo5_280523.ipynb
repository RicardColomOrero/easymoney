{
  "nbformat": 4,
  "nbformat_minor": 0,
  "metadata": {
    "colab": {
      "provenance": [],
      "collapsed_sections": [
        "pzsmsHc1k1s4",
        "d7_Opx03k5Cb",
        "fu6F4Uj7waeR",
        "BvMxaUfLwYxC",
        "N53oY9OJoonb",
        "J9gfKL_7ow7i"
      ],
      "gpuType": "T4",
      "toc_visible": true,
      "include_colab_link": true
    },
    "kernelspec": {
      "name": "python3",
      "display_name": "Python 3"
    },
    "language_info": {
      "name": "python"
    },
    "accelerator": "GPU"
  },
  "cells": [
    {
      "cell_type": "markdown",
      "metadata": {
        "id": "view-in-github",
        "colab_type": "text"
      },
      "source": [
        "<a href=\"https://colab.research.google.com/github/RicardColomOrero/easymoney/blob/main/Easymoney_grupo5_280523.ipynb\" target=\"_parent\"><img src=\"https://colab.research.google.com/assets/colab-badge.svg\" alt=\"Open In Colab\"/></a>"
      ]
    },
    {
      "cell_type": "markdown",
      "source": [
        "# ENUNCIADO CAPSTONE\n",
        "\n",
        " \n",
        "## 1.- PowerBI (Opcional)\n",
        "Hemos decidido reorientar nuestra estrategia comercial hacia el\n",
        "**aumento de la penetración de la cartera actual de productos en nuestro mercado**, con la idea de obtener una\n",
        "mejor rentabilidad de nuestra base actual de clientes (lo del cuadrante barato de la matriz de Ansoff). \n",
        "\n",
        "A cambio, reduciremos la actividad intensiva de captación que veníamos realizando desde que arrancamos. En este sentido, y para acabar de definir la estrategia, estaría genial poder tener algunos análisis que nos ayuden\n",
        "a tomar decisiones. Como te decía, ahora tenemos un autoservicio, pero esta foto simple no nos ayuda demasiado. \n",
        "Si ni siquiera sé cuantos productos hemos vendido este mes o si son los clientes nuevos quiénes contratan o los que ya teníamos!\n",
        "\n",
        "Sería genial incluso que pudieses utilizar el reciente producto adquirido\n",
        "PowerBI para **preparar unos KPI’s de lo que tenemos en la empresa**\n",
        "\n",
        "## 2.- Propensión (modelo de propensión a compra)\n",
        "\n",
        "Una vez que hayamos hecho el **análisis de nuestra BBDD nos gustaría poder vender más y mejor nuestros productos**, sé que los data scientist tienen una “bola de cristal” y saben qué clientes son más propensos a\n",
        "comprar nuestros productos así que te pido por favor hagas un **modelo de propensión a compra**, se que tenemos muchos productos, así que te **,dejo a tu criterio científico qué productos elegir, o pueden ser varios,**, ya\n",
        "me sorprenderás\n",
        "\n",
        "## 3.- Segmentación\n",
        "\n",
        "Una vez obtenido la propensión de los productos sería genial poder conocer mejor a nuestros clientes para orientar nuestra actividad comercial. Hace tiempo vengo teniendo la idea de que podríamos **segmentar la base\n",
        "de clientes en 7 u 8 grupos de clientes similares**... sería genial** identificarlos, y poder saber cómo son los clientes\n",
        "que pertenecen a estos grupos**... nos ayudaría muchísimo a la hora de definir todo nuestro plan de marketing de cara a futuro!\n",
        "\n",
        "## 4.- Caso de uso\n",
        "\n",
        "Perfecto! Tenemos las segmentaciones de clientes, tenemos las propensiones y ahora lo que nos falta es realizar\n",
        "**un caso de uso que nos permita estimar en base a una campaña X cuánto dinero podemos ganar**, \n",
        "\n",
        "¿A cuántos clientes tenemos que impactar?\n",
        "\n",
        "¿Qué productos ofrecer?\n",
        " \n",
        "¿Impactamos a todos lo segmentos indicados?\n"
      ],
      "metadata": {
        "id": "FnyES6frCHxO"
      }
    },
    {
      "cell_type": "markdown",
      "source": [
        "# Importación de librerías"
      ],
      "metadata": {
        "id": "pzsmsHc1k1s4"
      }
    },
    {
      "cell_type": "code",
      "execution_count": 1,
      "metadata": {
        "id": "uN7zDy6jkPsb"
      },
      "outputs": [],
      "source": [
        "import numpy as np # Arrays\n",
        "import pandas as pd # Series and Dataframes\n",
        "\n",
        "from google.colab import files\n",
        "\n",
        "#visualizacion\n",
        "import matplotlib.pyplot as plt \n",
        "import seaborn as sns \n",
        "\n",
        "pd.options.display.max_rows = 200\n",
        "plt.style.use('ggplot') # Beautify Plots \n",
        "\n",
        "#Modelling\n",
        "from sklearn import model_selection\n",
        "from sklearn import metrics\n",
        "from sklearn.tree import DecisionTreeClassifier\n",
        "from sklearn.tree import export_graphviz\n",
        "import graphviz\n"
      ]
    },
    {
      "cell_type": "code",
      "source": [
        "from google.colab import drive\n",
        "drive.mount('/content/drive')"
      ],
      "metadata": {
        "colab": {
          "base_uri": "https://localhost:8080/"
        },
        "id": "Y33qmgx4sg9M",
        "outputId": "bfabc627-35d4-410a-9b70-2a94b9322e6e"
      },
      "execution_count": 2,
      "outputs": [
        {
          "output_type": "stream",
          "name": "stdout",
          "text": [
            "Drive already mounted at /content/drive; to attempt to forcibly remount, call drive.mount(\"/content/drive\", force_remount=True).\n"
          ]
        }
      ]
    },
    {
      "cell_type": "markdown",
      "source": [
        "# Importación dataset"
      ],
      "metadata": {
        "id": "d7_Opx03k5Cb"
      }
    },
    {
      "cell_type": "code",
      "source": [
        "file_dir = \"/content/drive/MyDrive/TFM  Data Science/datasets_TFM_y_diccionario/\"\n",
        "#file_dir = \"/content/drive/MyDrive/Master_DS/TFM_Data_Science/datasets_TFM_y_diccionario/\" #Culebra file_dir"
      ],
      "metadata": {
        "id": "loejgT7Nk83n"
      },
      "execution_count": 3,
      "outputs": []
    },
    {
      "cell_type": "code",
      "source": [
        "file_sales =\"sales.csv\"\n",
        "file_product_description =\"product_description.csv\"\n",
        "file_customer_sociodemographics =\"customer_sociodemographics.csv\"\n",
        "file_customer_commercial_activity = \"customer_commercial_activity.csv\"\n",
        "file_customer_products =\"customer_products.csv\""
      ],
      "metadata": {
        "id": "bospzkLCmG8h"
      },
      "execution_count": 4,
      "outputs": []
    },
    {
      "cell_type": "code",
      "source": [
        "sales_raw = pd.read_csv(file_dir + file_sales)\n",
        "product_description_raw = pd.read_csv(file_dir +file_product_description)\n",
        "customer_sociodemographics_raw = pd.read_csv(file_dir + file_customer_sociodemographics)\n",
        "customer_commercial_activity_raw = pd.read_csv(file_dir + file_customer_commercial_activity)\n",
        "customer_products_raw = pd.read_csv(file_dir + file_customer_products)"
      ],
      "metadata": {
        "id": "1bEJ4RF3mTBK"
      },
      "execution_count": 5,
      "outputs": []
    },
    {
      "cell_type": "markdown",
      "source": [
        "# 2.- DATA UNDERSTANDING"
      ],
      "metadata": {
        "id": "ML_zYOYbqxsG"
      }
    },
    {
      "cell_type": "markdown",
      "source": [
        "## 2.1.- Análisis univariante de datos"
      ],
      "metadata": {
        "id": "upiOCtZuq7oq"
      }
    },
    {
      "cell_type": "markdown",
      "source": [
        "### Sales"
      ],
      "metadata": {
        "id": "5ZB5uRK2sgLo"
      }
    },
    {
      "cell_type": "markdown",
      "source": [
        "* pk_sale: Identificador de venta - (primary key)\n",
        "* cid: Identificador de cliente - (foreing key)\n",
        "* month_sale: Mes de venta. Mes en el que se contrata un producto.\n",
        "* product_ID: Identificador de producto  - (foreing key)\n",
        "* net_margin: Margen neto generado por la venta ($)"
      ],
      "metadata": {
        "id": "9yNIvdpDs05O"
      }
    },
    {
      "cell_type": "code",
      "source": [
        "# Análisis inicial de sales\n",
        "\n",
        "sales_raw.info()"
      ],
      "metadata": {
        "colab": {
          "base_uri": "https://localhost:8080/"
        },
        "id": "VAYdx80i1N9A",
        "outputId": "0b5f4740-4d6a-48f1-8078-dd79ab641316"
      },
      "execution_count": 6,
      "outputs": [
        {
          "output_type": "stream",
          "name": "stdout",
          "text": [
            "<class 'pandas.core.frame.DataFrame'>\n",
            "RangeIndex: 240773 entries, 0 to 240772\n",
            "Data columns (total 6 columns):\n",
            " #   Column      Non-Null Count   Dtype  \n",
            "---  ------      --------------   -----  \n",
            " 0   Unnamed: 0  240773 non-null  int64  \n",
            " 1   pk_sale     240773 non-null  int64  \n",
            " 2   cid         240773 non-null  int64  \n",
            " 3   month_sale  240773 non-null  object \n",
            " 4   product_ID  240773 non-null  int64  \n",
            " 5   net_margin  240773 non-null  float64\n",
            "dtypes: float64(1), int64(4), object(1)\n",
            "memory usage: 11.0+ MB\n"
          ]
        }
      ]
    },
    {
      "cell_type": "code",
      "source": [
        "sales_raw.head()"
      ],
      "metadata": {
        "colab": {
          "base_uri": "https://localhost:8080/",
          "height": 206
        },
        "id": "xrp0ul9d1N9A",
        "outputId": "1c88fb71-7a0b-4e4e-d1ba-478dc19c9ad5"
      },
      "execution_count": 7,
      "outputs": [
        {
          "output_type": "execute_result",
          "data": {
            "text/plain": [
              "   Unnamed: 0  pk_sale    cid  month_sale  product_ID  net_margin\n",
              "0           0     6666  33620  2018-05-01        2335       952.9\n",
              "1           1     6667  35063  2018-06-01        2335      1625.2\n",
              "2           2     6668  37299  2018-02-01        2335      1279.7\n",
              "3           3     6669  39997  2018-02-01        2335      1511.9\n",
              "4           4     6670  44012  2018-02-01        2335      1680.3"
            ],
            "text/html": [
              "\n",
              "  <div id=\"df-1c2c5842-1352-4261-9ff1-9ea61a9c5427\">\n",
              "    <div class=\"colab-df-container\">\n",
              "      <div>\n",
              "<style scoped>\n",
              "    .dataframe tbody tr th:only-of-type {\n",
              "        vertical-align: middle;\n",
              "    }\n",
              "\n",
              "    .dataframe tbody tr th {\n",
              "        vertical-align: top;\n",
              "    }\n",
              "\n",
              "    .dataframe thead th {\n",
              "        text-align: right;\n",
              "    }\n",
              "</style>\n",
              "<table border=\"1\" class=\"dataframe\">\n",
              "  <thead>\n",
              "    <tr style=\"text-align: right;\">\n",
              "      <th></th>\n",
              "      <th>Unnamed: 0</th>\n",
              "      <th>pk_sale</th>\n",
              "      <th>cid</th>\n",
              "      <th>month_sale</th>\n",
              "      <th>product_ID</th>\n",
              "      <th>net_margin</th>\n",
              "    </tr>\n",
              "  </thead>\n",
              "  <tbody>\n",
              "    <tr>\n",
              "      <th>0</th>\n",
              "      <td>0</td>\n",
              "      <td>6666</td>\n",
              "      <td>33620</td>\n",
              "      <td>2018-05-01</td>\n",
              "      <td>2335</td>\n",
              "      <td>952.9</td>\n",
              "    </tr>\n",
              "    <tr>\n",
              "      <th>1</th>\n",
              "      <td>1</td>\n",
              "      <td>6667</td>\n",
              "      <td>35063</td>\n",
              "      <td>2018-06-01</td>\n",
              "      <td>2335</td>\n",
              "      <td>1625.2</td>\n",
              "    </tr>\n",
              "    <tr>\n",
              "      <th>2</th>\n",
              "      <td>2</td>\n",
              "      <td>6668</td>\n",
              "      <td>37299</td>\n",
              "      <td>2018-02-01</td>\n",
              "      <td>2335</td>\n",
              "      <td>1279.7</td>\n",
              "    </tr>\n",
              "    <tr>\n",
              "      <th>3</th>\n",
              "      <td>3</td>\n",
              "      <td>6669</td>\n",
              "      <td>39997</td>\n",
              "      <td>2018-02-01</td>\n",
              "      <td>2335</td>\n",
              "      <td>1511.9</td>\n",
              "    </tr>\n",
              "    <tr>\n",
              "      <th>4</th>\n",
              "      <td>4</td>\n",
              "      <td>6670</td>\n",
              "      <td>44012</td>\n",
              "      <td>2018-02-01</td>\n",
              "      <td>2335</td>\n",
              "      <td>1680.3</td>\n",
              "    </tr>\n",
              "  </tbody>\n",
              "</table>\n",
              "</div>\n",
              "      <button class=\"colab-df-convert\" onclick=\"convertToInteractive('df-1c2c5842-1352-4261-9ff1-9ea61a9c5427')\"\n",
              "              title=\"Convert this dataframe to an interactive table.\"\n",
              "              style=\"display:none;\">\n",
              "        \n",
              "  <svg xmlns=\"http://www.w3.org/2000/svg\" height=\"24px\"viewBox=\"0 0 24 24\"\n",
              "       width=\"24px\">\n",
              "    <path d=\"M0 0h24v24H0V0z\" fill=\"none\"/>\n",
              "    <path d=\"M18.56 5.44l.94 2.06.94-2.06 2.06-.94-2.06-.94-.94-2.06-.94 2.06-2.06.94zm-11 1L8.5 8.5l.94-2.06 2.06-.94-2.06-.94L8.5 2.5l-.94 2.06-2.06.94zm10 10l.94 2.06.94-2.06 2.06-.94-2.06-.94-.94-2.06-.94 2.06-2.06.94z\"/><path d=\"M17.41 7.96l-1.37-1.37c-.4-.4-.92-.59-1.43-.59-.52 0-1.04.2-1.43.59L10.3 9.45l-7.72 7.72c-.78.78-.78 2.05 0 2.83L4 21.41c.39.39.9.59 1.41.59.51 0 1.02-.2 1.41-.59l7.78-7.78 2.81-2.81c.8-.78.8-2.07 0-2.86zM5.41 20L4 18.59l7.72-7.72 1.47 1.35L5.41 20z\"/>\n",
              "  </svg>\n",
              "      </button>\n",
              "      \n",
              "  <style>\n",
              "    .colab-df-container {\n",
              "      display:flex;\n",
              "      flex-wrap:wrap;\n",
              "      gap: 12px;\n",
              "    }\n",
              "\n",
              "    .colab-df-convert {\n",
              "      background-color: #E8F0FE;\n",
              "      border: none;\n",
              "      border-radius: 50%;\n",
              "      cursor: pointer;\n",
              "      display: none;\n",
              "      fill: #1967D2;\n",
              "      height: 32px;\n",
              "      padding: 0 0 0 0;\n",
              "      width: 32px;\n",
              "    }\n",
              "\n",
              "    .colab-df-convert:hover {\n",
              "      background-color: #E2EBFA;\n",
              "      box-shadow: 0px 1px 2px rgba(60, 64, 67, 0.3), 0px 1px 3px 1px rgba(60, 64, 67, 0.15);\n",
              "      fill: #174EA6;\n",
              "    }\n",
              "\n",
              "    [theme=dark] .colab-df-convert {\n",
              "      background-color: #3B4455;\n",
              "      fill: #D2E3FC;\n",
              "    }\n",
              "\n",
              "    [theme=dark] .colab-df-convert:hover {\n",
              "      background-color: #434B5C;\n",
              "      box-shadow: 0px 1px 3px 1px rgba(0, 0, 0, 0.15);\n",
              "      filter: drop-shadow(0px 1px 2px rgba(0, 0, 0, 0.3));\n",
              "      fill: #FFFFFF;\n",
              "    }\n",
              "  </style>\n",
              "\n",
              "      <script>\n",
              "        const buttonEl =\n",
              "          document.querySelector('#df-1c2c5842-1352-4261-9ff1-9ea61a9c5427 button.colab-df-convert');\n",
              "        buttonEl.style.display =\n",
              "          google.colab.kernel.accessAllowed ? 'block' : 'none';\n",
              "\n",
              "        async function convertToInteractive(key) {\n",
              "          const element = document.querySelector('#df-1c2c5842-1352-4261-9ff1-9ea61a9c5427');\n",
              "          const dataTable =\n",
              "            await google.colab.kernel.invokeFunction('convertToInteractive',\n",
              "                                                     [key], {});\n",
              "          if (!dataTable) return;\n",
              "\n",
              "          const docLinkHtml = 'Like what you see? Visit the ' +\n",
              "            '<a target=\"_blank\" href=https://colab.research.google.com/notebooks/data_table.ipynb>data table notebook</a>'\n",
              "            + ' to learn more about interactive tables.';\n",
              "          element.innerHTML = '';\n",
              "          dataTable['output_type'] = 'display_data';\n",
              "          await google.colab.output.renderOutput(dataTable, element);\n",
              "          const docLink = document.createElement('div');\n",
              "          docLink.innerHTML = docLinkHtml;\n",
              "          element.appendChild(docLink);\n",
              "        }\n",
              "      </script>\n",
              "    </div>\n",
              "  </div>\n",
              "  "
            ]
          },
          "metadata": {},
          "execution_count": 7
        }
      ]
    },
    {
      "cell_type": "code",
      "source": [
        "sales_raw.describe(include = ['object'])"
      ],
      "metadata": {
        "colab": {
          "base_uri": "https://localhost:8080/",
          "height": 175
        },
        "id": "YfKve4oN1N9B",
        "outputId": "edf89997-4b35-4f47-f3cc-9c27547a6096"
      },
      "execution_count": 8,
      "outputs": [
        {
          "output_type": "execute_result",
          "data": {
            "text/plain": [
              "        month_sale\n",
              "count       240773\n",
              "unique          16\n",
              "top     2018-10-01\n",
              "freq         27693"
            ],
            "text/html": [
              "\n",
              "  <div id=\"df-ff39f8e9-121e-4852-ae52-e2b1ffef76ed\">\n",
              "    <div class=\"colab-df-container\">\n",
              "      <div>\n",
              "<style scoped>\n",
              "    .dataframe tbody tr th:only-of-type {\n",
              "        vertical-align: middle;\n",
              "    }\n",
              "\n",
              "    .dataframe tbody tr th {\n",
              "        vertical-align: top;\n",
              "    }\n",
              "\n",
              "    .dataframe thead th {\n",
              "        text-align: right;\n",
              "    }\n",
              "</style>\n",
              "<table border=\"1\" class=\"dataframe\">\n",
              "  <thead>\n",
              "    <tr style=\"text-align: right;\">\n",
              "      <th></th>\n",
              "      <th>month_sale</th>\n",
              "    </tr>\n",
              "  </thead>\n",
              "  <tbody>\n",
              "    <tr>\n",
              "      <th>count</th>\n",
              "      <td>240773</td>\n",
              "    </tr>\n",
              "    <tr>\n",
              "      <th>unique</th>\n",
              "      <td>16</td>\n",
              "    </tr>\n",
              "    <tr>\n",
              "      <th>top</th>\n",
              "      <td>2018-10-01</td>\n",
              "    </tr>\n",
              "    <tr>\n",
              "      <th>freq</th>\n",
              "      <td>27693</td>\n",
              "    </tr>\n",
              "  </tbody>\n",
              "</table>\n",
              "</div>\n",
              "      <button class=\"colab-df-convert\" onclick=\"convertToInteractive('df-ff39f8e9-121e-4852-ae52-e2b1ffef76ed')\"\n",
              "              title=\"Convert this dataframe to an interactive table.\"\n",
              "              style=\"display:none;\">\n",
              "        \n",
              "  <svg xmlns=\"http://www.w3.org/2000/svg\" height=\"24px\"viewBox=\"0 0 24 24\"\n",
              "       width=\"24px\">\n",
              "    <path d=\"M0 0h24v24H0V0z\" fill=\"none\"/>\n",
              "    <path d=\"M18.56 5.44l.94 2.06.94-2.06 2.06-.94-2.06-.94-.94-2.06-.94 2.06-2.06.94zm-11 1L8.5 8.5l.94-2.06 2.06-.94-2.06-.94L8.5 2.5l-.94 2.06-2.06.94zm10 10l.94 2.06.94-2.06 2.06-.94-2.06-.94-.94-2.06-.94 2.06-2.06.94z\"/><path d=\"M17.41 7.96l-1.37-1.37c-.4-.4-.92-.59-1.43-.59-.52 0-1.04.2-1.43.59L10.3 9.45l-7.72 7.72c-.78.78-.78 2.05 0 2.83L4 21.41c.39.39.9.59 1.41.59.51 0 1.02-.2 1.41-.59l7.78-7.78 2.81-2.81c.8-.78.8-2.07 0-2.86zM5.41 20L4 18.59l7.72-7.72 1.47 1.35L5.41 20z\"/>\n",
              "  </svg>\n",
              "      </button>\n",
              "      \n",
              "  <style>\n",
              "    .colab-df-container {\n",
              "      display:flex;\n",
              "      flex-wrap:wrap;\n",
              "      gap: 12px;\n",
              "    }\n",
              "\n",
              "    .colab-df-convert {\n",
              "      background-color: #E8F0FE;\n",
              "      border: none;\n",
              "      border-radius: 50%;\n",
              "      cursor: pointer;\n",
              "      display: none;\n",
              "      fill: #1967D2;\n",
              "      height: 32px;\n",
              "      padding: 0 0 0 0;\n",
              "      width: 32px;\n",
              "    }\n",
              "\n",
              "    .colab-df-convert:hover {\n",
              "      background-color: #E2EBFA;\n",
              "      box-shadow: 0px 1px 2px rgba(60, 64, 67, 0.3), 0px 1px 3px 1px rgba(60, 64, 67, 0.15);\n",
              "      fill: #174EA6;\n",
              "    }\n",
              "\n",
              "    [theme=dark] .colab-df-convert {\n",
              "      background-color: #3B4455;\n",
              "      fill: #D2E3FC;\n",
              "    }\n",
              "\n",
              "    [theme=dark] .colab-df-convert:hover {\n",
              "      background-color: #434B5C;\n",
              "      box-shadow: 0px 1px 3px 1px rgba(0, 0, 0, 0.15);\n",
              "      filter: drop-shadow(0px 1px 2px rgba(0, 0, 0, 0.3));\n",
              "      fill: #FFFFFF;\n",
              "    }\n",
              "  </style>\n",
              "\n",
              "      <script>\n",
              "        const buttonEl =\n",
              "          document.querySelector('#df-ff39f8e9-121e-4852-ae52-e2b1ffef76ed button.colab-df-convert');\n",
              "        buttonEl.style.display =\n",
              "          google.colab.kernel.accessAllowed ? 'block' : 'none';\n",
              "\n",
              "        async function convertToInteractive(key) {\n",
              "          const element = document.querySelector('#df-ff39f8e9-121e-4852-ae52-e2b1ffef76ed');\n",
              "          const dataTable =\n",
              "            await google.colab.kernel.invokeFunction('convertToInteractive',\n",
              "                                                     [key], {});\n",
              "          if (!dataTable) return;\n",
              "\n",
              "          const docLinkHtml = 'Like what you see? Visit the ' +\n",
              "            '<a target=\"_blank\" href=https://colab.research.google.com/notebooks/data_table.ipynb>data table notebook</a>'\n",
              "            + ' to learn more about interactive tables.';\n",
              "          element.innerHTML = '';\n",
              "          dataTable['output_type'] = 'display_data';\n",
              "          await google.colab.output.renderOutput(dataTable, element);\n",
              "          const docLink = document.createElement('div');\n",
              "          docLink.innerHTML = docLinkHtml;\n",
              "          element.appendChild(docLink);\n",
              "        }\n",
              "      </script>\n",
              "    </div>\n",
              "  </div>\n",
              "  "
            ]
          },
          "metadata": {},
          "execution_count": 8
        }
      ]
    },
    {
      "cell_type": "code",
      "source": [
        "sales_raw.describe(exclude = ['object'])"
      ],
      "metadata": {
        "colab": {
          "base_uri": "https://localhost:8080/",
          "height": 300
        },
        "id": "6qfoxjf71N9B",
        "outputId": "89ffc539-e873-4650-85c2-9d3b0b31bfad"
      },
      "execution_count": 9,
      "outputs": [
        {
          "output_type": "execute_result",
          "data": {
            "text/plain": [
              "          Unnamed: 0        pk_sale           cid     product_ID  \\\n",
              "count  240773.000000  240773.000000  2.407730e+05  240773.000000   \n",
              "mean   120386.000000  127052.000000  1.363934e+06    3945.408202   \n",
              "std     69505.322519   69505.322519  1.751721e+05    1632.821700   \n",
              "min         0.000000    6666.000000  1.589100e+04    1119.000000   \n",
              "25%     60193.000000   66859.000000  1.301012e+06    2312.000000   \n",
              "50%    120386.000000  127052.000000  1.409253e+06    4657.000000   \n",
              "75%    180579.000000  187245.000000  1.475320e+06    4657.000000   \n",
              "max    240772.000000  247438.000000  1.553571e+06    9001.000000   \n",
              "\n",
              "          net_margin  \n",
              "count  240773.000000  \n",
              "mean      606.878164  \n",
              "std      1735.806089  \n",
              "min        25.000000  \n",
              "25%        61.400000  \n",
              "50%        69.100000  \n",
              "75%        79.200000  \n",
              "max     18466.400000  "
            ],
            "text/html": [
              "\n",
              "  <div id=\"df-e09a3049-72a2-4821-b15e-b78a31575638\">\n",
              "    <div class=\"colab-df-container\">\n",
              "      <div>\n",
              "<style scoped>\n",
              "    .dataframe tbody tr th:only-of-type {\n",
              "        vertical-align: middle;\n",
              "    }\n",
              "\n",
              "    .dataframe tbody tr th {\n",
              "        vertical-align: top;\n",
              "    }\n",
              "\n",
              "    .dataframe thead th {\n",
              "        text-align: right;\n",
              "    }\n",
              "</style>\n",
              "<table border=\"1\" class=\"dataframe\">\n",
              "  <thead>\n",
              "    <tr style=\"text-align: right;\">\n",
              "      <th></th>\n",
              "      <th>Unnamed: 0</th>\n",
              "      <th>pk_sale</th>\n",
              "      <th>cid</th>\n",
              "      <th>product_ID</th>\n",
              "      <th>net_margin</th>\n",
              "    </tr>\n",
              "  </thead>\n",
              "  <tbody>\n",
              "    <tr>\n",
              "      <th>count</th>\n",
              "      <td>240773.000000</td>\n",
              "      <td>240773.000000</td>\n",
              "      <td>2.407730e+05</td>\n",
              "      <td>240773.000000</td>\n",
              "      <td>240773.000000</td>\n",
              "    </tr>\n",
              "    <tr>\n",
              "      <th>mean</th>\n",
              "      <td>120386.000000</td>\n",
              "      <td>127052.000000</td>\n",
              "      <td>1.363934e+06</td>\n",
              "      <td>3945.408202</td>\n",
              "      <td>606.878164</td>\n",
              "    </tr>\n",
              "    <tr>\n",
              "      <th>std</th>\n",
              "      <td>69505.322519</td>\n",
              "      <td>69505.322519</td>\n",
              "      <td>1.751721e+05</td>\n",
              "      <td>1632.821700</td>\n",
              "      <td>1735.806089</td>\n",
              "    </tr>\n",
              "    <tr>\n",
              "      <th>min</th>\n",
              "      <td>0.000000</td>\n",
              "      <td>6666.000000</td>\n",
              "      <td>1.589100e+04</td>\n",
              "      <td>1119.000000</td>\n",
              "      <td>25.000000</td>\n",
              "    </tr>\n",
              "    <tr>\n",
              "      <th>25%</th>\n",
              "      <td>60193.000000</td>\n",
              "      <td>66859.000000</td>\n",
              "      <td>1.301012e+06</td>\n",
              "      <td>2312.000000</td>\n",
              "      <td>61.400000</td>\n",
              "    </tr>\n",
              "    <tr>\n",
              "      <th>50%</th>\n",
              "      <td>120386.000000</td>\n",
              "      <td>127052.000000</td>\n",
              "      <td>1.409253e+06</td>\n",
              "      <td>4657.000000</td>\n",
              "      <td>69.100000</td>\n",
              "    </tr>\n",
              "    <tr>\n",
              "      <th>75%</th>\n",
              "      <td>180579.000000</td>\n",
              "      <td>187245.000000</td>\n",
              "      <td>1.475320e+06</td>\n",
              "      <td>4657.000000</td>\n",
              "      <td>79.200000</td>\n",
              "    </tr>\n",
              "    <tr>\n",
              "      <th>max</th>\n",
              "      <td>240772.000000</td>\n",
              "      <td>247438.000000</td>\n",
              "      <td>1.553571e+06</td>\n",
              "      <td>9001.000000</td>\n",
              "      <td>18466.400000</td>\n",
              "    </tr>\n",
              "  </tbody>\n",
              "</table>\n",
              "</div>\n",
              "      <button class=\"colab-df-convert\" onclick=\"convertToInteractive('df-e09a3049-72a2-4821-b15e-b78a31575638')\"\n",
              "              title=\"Convert this dataframe to an interactive table.\"\n",
              "              style=\"display:none;\">\n",
              "        \n",
              "  <svg xmlns=\"http://www.w3.org/2000/svg\" height=\"24px\"viewBox=\"0 0 24 24\"\n",
              "       width=\"24px\">\n",
              "    <path d=\"M0 0h24v24H0V0z\" fill=\"none\"/>\n",
              "    <path d=\"M18.56 5.44l.94 2.06.94-2.06 2.06-.94-2.06-.94-.94-2.06-.94 2.06-2.06.94zm-11 1L8.5 8.5l.94-2.06 2.06-.94-2.06-.94L8.5 2.5l-.94 2.06-2.06.94zm10 10l.94 2.06.94-2.06 2.06-.94-2.06-.94-.94-2.06-.94 2.06-2.06.94z\"/><path d=\"M17.41 7.96l-1.37-1.37c-.4-.4-.92-.59-1.43-.59-.52 0-1.04.2-1.43.59L10.3 9.45l-7.72 7.72c-.78.78-.78 2.05 0 2.83L4 21.41c.39.39.9.59 1.41.59.51 0 1.02-.2 1.41-.59l7.78-7.78 2.81-2.81c.8-.78.8-2.07 0-2.86zM5.41 20L4 18.59l7.72-7.72 1.47 1.35L5.41 20z\"/>\n",
              "  </svg>\n",
              "      </button>\n",
              "      \n",
              "  <style>\n",
              "    .colab-df-container {\n",
              "      display:flex;\n",
              "      flex-wrap:wrap;\n",
              "      gap: 12px;\n",
              "    }\n",
              "\n",
              "    .colab-df-convert {\n",
              "      background-color: #E8F0FE;\n",
              "      border: none;\n",
              "      border-radius: 50%;\n",
              "      cursor: pointer;\n",
              "      display: none;\n",
              "      fill: #1967D2;\n",
              "      height: 32px;\n",
              "      padding: 0 0 0 0;\n",
              "      width: 32px;\n",
              "    }\n",
              "\n",
              "    .colab-df-convert:hover {\n",
              "      background-color: #E2EBFA;\n",
              "      box-shadow: 0px 1px 2px rgba(60, 64, 67, 0.3), 0px 1px 3px 1px rgba(60, 64, 67, 0.15);\n",
              "      fill: #174EA6;\n",
              "    }\n",
              "\n",
              "    [theme=dark] .colab-df-convert {\n",
              "      background-color: #3B4455;\n",
              "      fill: #D2E3FC;\n",
              "    }\n",
              "\n",
              "    [theme=dark] .colab-df-convert:hover {\n",
              "      background-color: #434B5C;\n",
              "      box-shadow: 0px 1px 3px 1px rgba(0, 0, 0, 0.15);\n",
              "      filter: drop-shadow(0px 1px 2px rgba(0, 0, 0, 0.3));\n",
              "      fill: #FFFFFF;\n",
              "    }\n",
              "  </style>\n",
              "\n",
              "      <script>\n",
              "        const buttonEl =\n",
              "          document.querySelector('#df-e09a3049-72a2-4821-b15e-b78a31575638 button.colab-df-convert');\n",
              "        buttonEl.style.display =\n",
              "          google.colab.kernel.accessAllowed ? 'block' : 'none';\n",
              "\n",
              "        async function convertToInteractive(key) {\n",
              "          const element = document.querySelector('#df-e09a3049-72a2-4821-b15e-b78a31575638');\n",
              "          const dataTable =\n",
              "            await google.colab.kernel.invokeFunction('convertToInteractive',\n",
              "                                                     [key], {});\n",
              "          if (!dataTable) return;\n",
              "\n",
              "          const docLinkHtml = 'Like what you see? Visit the ' +\n",
              "            '<a target=\"_blank\" href=https://colab.research.google.com/notebooks/data_table.ipynb>data table notebook</a>'\n",
              "            + ' to learn more about interactive tables.';\n",
              "          element.innerHTML = '';\n",
              "          dataTable['output_type'] = 'display_data';\n",
              "          await google.colab.output.renderOutput(dataTable, element);\n",
              "          const docLink = document.createElement('div');\n",
              "          docLink.innerHTML = docLinkHtml;\n",
              "          element.appendChild(docLink);\n",
              "        }\n",
              "      </script>\n",
              "    </div>\n",
              "  </div>\n",
              "  "
            ]
          },
          "metadata": {},
          "execution_count": 9
        }
      ]
    },
    {
      "cell_type": "code",
      "source": [
        "sales_raw.isnull().sum()"
      ],
      "metadata": {
        "colab": {
          "base_uri": "https://localhost:8080/"
        },
        "id": "mq7g03oJ1N9C",
        "outputId": "d20e64c4-a024-4aa6-b6fc-49d4394bd0f6"
      },
      "execution_count": 10,
      "outputs": [
        {
          "output_type": "execute_result",
          "data": {
            "text/plain": [
              "Unnamed: 0    0\n",
              "pk_sale       0\n",
              "cid           0\n",
              "month_sale    0\n",
              "product_ID    0\n",
              "net_margin    0\n",
              "dtype: int64"
            ]
          },
          "metadata": {},
          "execution_count": 10
        }
      ]
    },
    {
      "cell_type": "code",
      "source": [
        "sales_raw[sales_raw.duplicated()]"
      ],
      "metadata": {
        "colab": {
          "base_uri": "https://localhost:8080/",
          "height": 49
        },
        "id": "VQFNVCHu2q8d",
        "outputId": "963ae12f-2309-4f6b-f247-77cbb41e4ad2"
      },
      "execution_count": 11,
      "outputs": [
        {
          "output_type": "execute_result",
          "data": {
            "text/plain": [
              "Empty DataFrame\n",
              "Columns: [Unnamed: 0, pk_sale, cid, month_sale, product_ID, net_margin]\n",
              "Index: []"
            ],
            "text/html": [
              "\n",
              "  <div id=\"df-261cf49d-d2c8-46f0-a9a2-89d000f09387\">\n",
              "    <div class=\"colab-df-container\">\n",
              "      <div>\n",
              "<style scoped>\n",
              "    .dataframe tbody tr th:only-of-type {\n",
              "        vertical-align: middle;\n",
              "    }\n",
              "\n",
              "    .dataframe tbody tr th {\n",
              "        vertical-align: top;\n",
              "    }\n",
              "\n",
              "    .dataframe thead th {\n",
              "        text-align: right;\n",
              "    }\n",
              "</style>\n",
              "<table border=\"1\" class=\"dataframe\">\n",
              "  <thead>\n",
              "    <tr style=\"text-align: right;\">\n",
              "      <th></th>\n",
              "      <th>Unnamed: 0</th>\n",
              "      <th>pk_sale</th>\n",
              "      <th>cid</th>\n",
              "      <th>month_sale</th>\n",
              "      <th>product_ID</th>\n",
              "      <th>net_margin</th>\n",
              "    </tr>\n",
              "  </thead>\n",
              "  <tbody>\n",
              "  </tbody>\n",
              "</table>\n",
              "</div>\n",
              "      <button class=\"colab-df-convert\" onclick=\"convertToInteractive('df-261cf49d-d2c8-46f0-a9a2-89d000f09387')\"\n",
              "              title=\"Convert this dataframe to an interactive table.\"\n",
              "              style=\"display:none;\">\n",
              "        \n",
              "  <svg xmlns=\"http://www.w3.org/2000/svg\" height=\"24px\"viewBox=\"0 0 24 24\"\n",
              "       width=\"24px\">\n",
              "    <path d=\"M0 0h24v24H0V0z\" fill=\"none\"/>\n",
              "    <path d=\"M18.56 5.44l.94 2.06.94-2.06 2.06-.94-2.06-.94-.94-2.06-.94 2.06-2.06.94zm-11 1L8.5 8.5l.94-2.06 2.06-.94-2.06-.94L8.5 2.5l-.94 2.06-2.06.94zm10 10l.94 2.06.94-2.06 2.06-.94-2.06-.94-.94-2.06-.94 2.06-2.06.94z\"/><path d=\"M17.41 7.96l-1.37-1.37c-.4-.4-.92-.59-1.43-.59-.52 0-1.04.2-1.43.59L10.3 9.45l-7.72 7.72c-.78.78-.78 2.05 0 2.83L4 21.41c.39.39.9.59 1.41.59.51 0 1.02-.2 1.41-.59l7.78-7.78 2.81-2.81c.8-.78.8-2.07 0-2.86zM5.41 20L4 18.59l7.72-7.72 1.47 1.35L5.41 20z\"/>\n",
              "  </svg>\n",
              "      </button>\n",
              "      \n",
              "  <style>\n",
              "    .colab-df-container {\n",
              "      display:flex;\n",
              "      flex-wrap:wrap;\n",
              "      gap: 12px;\n",
              "    }\n",
              "\n",
              "    .colab-df-convert {\n",
              "      background-color: #E8F0FE;\n",
              "      border: none;\n",
              "      border-radius: 50%;\n",
              "      cursor: pointer;\n",
              "      display: none;\n",
              "      fill: #1967D2;\n",
              "      height: 32px;\n",
              "      padding: 0 0 0 0;\n",
              "      width: 32px;\n",
              "    }\n",
              "\n",
              "    .colab-df-convert:hover {\n",
              "      background-color: #E2EBFA;\n",
              "      box-shadow: 0px 1px 2px rgba(60, 64, 67, 0.3), 0px 1px 3px 1px rgba(60, 64, 67, 0.15);\n",
              "      fill: #174EA6;\n",
              "    }\n",
              "\n",
              "    [theme=dark] .colab-df-convert {\n",
              "      background-color: #3B4455;\n",
              "      fill: #D2E3FC;\n",
              "    }\n",
              "\n",
              "    [theme=dark] .colab-df-convert:hover {\n",
              "      background-color: #434B5C;\n",
              "      box-shadow: 0px 1px 3px 1px rgba(0, 0, 0, 0.15);\n",
              "      filter: drop-shadow(0px 1px 2px rgba(0, 0, 0, 0.3));\n",
              "      fill: #FFFFFF;\n",
              "    }\n",
              "  </style>\n",
              "\n",
              "      <script>\n",
              "        const buttonEl =\n",
              "          document.querySelector('#df-261cf49d-d2c8-46f0-a9a2-89d000f09387 button.colab-df-convert');\n",
              "        buttonEl.style.display =\n",
              "          google.colab.kernel.accessAllowed ? 'block' : 'none';\n",
              "\n",
              "        async function convertToInteractive(key) {\n",
              "          const element = document.querySelector('#df-261cf49d-d2c8-46f0-a9a2-89d000f09387');\n",
              "          const dataTable =\n",
              "            await google.colab.kernel.invokeFunction('convertToInteractive',\n",
              "                                                     [key], {});\n",
              "          if (!dataTable) return;\n",
              "\n",
              "          const docLinkHtml = 'Like what you see? Visit the ' +\n",
              "            '<a target=\"_blank\" href=https://colab.research.google.com/notebooks/data_table.ipynb>data table notebook</a>'\n",
              "            + ' to learn more about interactive tables.';\n",
              "          element.innerHTML = '';\n",
              "          dataTable['output_type'] = 'display_data';\n",
              "          await google.colab.output.renderOutput(dataTable, element);\n",
              "          const docLink = document.createElement('div');\n",
              "          docLink.innerHTML = docLinkHtml;\n",
              "          element.appendChild(docLink);\n",
              "        }\n",
              "      </script>\n",
              "    </div>\n",
              "  </div>\n",
              "  "
            ]
          },
          "metadata": {},
          "execution_count": 11
        }
      ]
    },
    {
      "cell_type": "code",
      "source": [
        "# ACCIONES A LLEVAR A CABO \n",
        "\n",
        "# Eliminar columna Unnamed\n",
        "# Renombrar columnas para alinear el naming, por ejemplo variable cid como \"client_ID\", pk_sale como \"sale_ID\"\n",
        "# Cambiar los identificadores (product_ID, customer_ID) a variable categórica\n",
        "# Cambiar tipo de month_sale a fecha\n",
        "# Disgregar la fecha en mes, año... (otros: trimestre, fin de semana, festivo...)\n"
      ],
      "metadata": {
        "id": "4j4GhhbI1N9C"
      },
      "execution_count": 12,
      "outputs": []
    },
    {
      "cell_type": "markdown",
      "source": [
        "### Product Description"
      ],
      "metadata": {
        "id": "fu6F4Uj7waeR"
      }
    },
    {
      "cell_type": "markdown",
      "source": [
        "* pk_product_ID\t= Identificador de producto - (primary key)\n",
        "* product_desc\t= Descripción del producto\n",
        "* family_product\t= Vertical del producto. Grupo al que pertenece."
      ],
      "metadata": {
        "id": "tF9aoCOUwaeT"
      }
    },
    {
      "cell_type": "code",
      "source": [
        "# Análisis inicial de product description\n",
        "\n",
        "product_description_raw.info()"
      ],
      "metadata": {
        "colab": {
          "base_uri": "https://localhost:8080/"
        },
        "id": "R4rkQSBB1gFO",
        "outputId": "f7a5fea3-1b85-4ea9-ef64-09ac56f96db6"
      },
      "execution_count": 13,
      "outputs": [
        {
          "output_type": "stream",
          "name": "stdout",
          "text": [
            "<class 'pandas.core.frame.DataFrame'>\n",
            "RangeIndex: 13 entries, 0 to 12\n",
            "Data columns (total 4 columns):\n",
            " #   Column          Non-Null Count  Dtype \n",
            "---  ------          --------------  ----- \n",
            " 0   Unnamed: 0      13 non-null     int64 \n",
            " 1   pk_product_ID   13 non-null     int64 \n",
            " 2   product_desc    13 non-null     object\n",
            " 3   family_product  13 non-null     object\n",
            "dtypes: int64(2), object(2)\n",
            "memory usage: 544.0+ bytes\n"
          ]
        }
      ]
    },
    {
      "cell_type": "code",
      "source": [
        "product_description_raw"
      ],
      "metadata": {
        "colab": {
          "base_uri": "https://localhost:8080/",
          "height": 457
        },
        "id": "zU9IbE391gFP",
        "outputId": "14b643c4-c616-44dc-d961-49f46f8e7398"
      },
      "execution_count": 14,
      "outputs": [
        {
          "output_type": "execute_result",
          "data": {
            "text/plain": [
              "    Unnamed: 0  pk_product_ID        product_desc family_product\n",
              "0            0           4657           em_acount        account\n",
              "1            1           3819          debit_card   payment_card\n",
              "2            2           1364        pension_plan   pension_plan\n",
              "3            3           2234             payroll        account\n",
              "4            4           2235     payroll_account        account\n",
              "5            5           8871         emc_account        account\n",
              "6            6           2312         credit_card   payment_card\n",
              "7            7           2335  short_term_deposit     investment\n",
              "8            8           2336   long_term_deposit     investment\n",
              "9            9           2673          securities     investment\n",
              "10          10           1119               funds     investment\n",
              "11          11           9001               loans           loan\n",
              "12          12           4033            mortgage           loan"
            ],
            "text/html": [
              "\n",
              "  <div id=\"df-1daf5a65-7097-40b3-a93d-d2e9f778bee1\">\n",
              "    <div class=\"colab-df-container\">\n",
              "      <div>\n",
              "<style scoped>\n",
              "    .dataframe tbody tr th:only-of-type {\n",
              "        vertical-align: middle;\n",
              "    }\n",
              "\n",
              "    .dataframe tbody tr th {\n",
              "        vertical-align: top;\n",
              "    }\n",
              "\n",
              "    .dataframe thead th {\n",
              "        text-align: right;\n",
              "    }\n",
              "</style>\n",
              "<table border=\"1\" class=\"dataframe\">\n",
              "  <thead>\n",
              "    <tr style=\"text-align: right;\">\n",
              "      <th></th>\n",
              "      <th>Unnamed: 0</th>\n",
              "      <th>pk_product_ID</th>\n",
              "      <th>product_desc</th>\n",
              "      <th>family_product</th>\n",
              "    </tr>\n",
              "  </thead>\n",
              "  <tbody>\n",
              "    <tr>\n",
              "      <th>0</th>\n",
              "      <td>0</td>\n",
              "      <td>4657</td>\n",
              "      <td>em_acount</td>\n",
              "      <td>account</td>\n",
              "    </tr>\n",
              "    <tr>\n",
              "      <th>1</th>\n",
              "      <td>1</td>\n",
              "      <td>3819</td>\n",
              "      <td>debit_card</td>\n",
              "      <td>payment_card</td>\n",
              "    </tr>\n",
              "    <tr>\n",
              "      <th>2</th>\n",
              "      <td>2</td>\n",
              "      <td>1364</td>\n",
              "      <td>pension_plan</td>\n",
              "      <td>pension_plan</td>\n",
              "    </tr>\n",
              "    <tr>\n",
              "      <th>3</th>\n",
              "      <td>3</td>\n",
              "      <td>2234</td>\n",
              "      <td>payroll</td>\n",
              "      <td>account</td>\n",
              "    </tr>\n",
              "    <tr>\n",
              "      <th>4</th>\n",
              "      <td>4</td>\n",
              "      <td>2235</td>\n",
              "      <td>payroll_account</td>\n",
              "      <td>account</td>\n",
              "    </tr>\n",
              "    <tr>\n",
              "      <th>5</th>\n",
              "      <td>5</td>\n",
              "      <td>8871</td>\n",
              "      <td>emc_account</td>\n",
              "      <td>account</td>\n",
              "    </tr>\n",
              "    <tr>\n",
              "      <th>6</th>\n",
              "      <td>6</td>\n",
              "      <td>2312</td>\n",
              "      <td>credit_card</td>\n",
              "      <td>payment_card</td>\n",
              "    </tr>\n",
              "    <tr>\n",
              "      <th>7</th>\n",
              "      <td>7</td>\n",
              "      <td>2335</td>\n",
              "      <td>short_term_deposit</td>\n",
              "      <td>investment</td>\n",
              "    </tr>\n",
              "    <tr>\n",
              "      <th>8</th>\n",
              "      <td>8</td>\n",
              "      <td>2336</td>\n",
              "      <td>long_term_deposit</td>\n",
              "      <td>investment</td>\n",
              "    </tr>\n",
              "    <tr>\n",
              "      <th>9</th>\n",
              "      <td>9</td>\n",
              "      <td>2673</td>\n",
              "      <td>securities</td>\n",
              "      <td>investment</td>\n",
              "    </tr>\n",
              "    <tr>\n",
              "      <th>10</th>\n",
              "      <td>10</td>\n",
              "      <td>1119</td>\n",
              "      <td>funds</td>\n",
              "      <td>investment</td>\n",
              "    </tr>\n",
              "    <tr>\n",
              "      <th>11</th>\n",
              "      <td>11</td>\n",
              "      <td>9001</td>\n",
              "      <td>loans</td>\n",
              "      <td>loan</td>\n",
              "    </tr>\n",
              "    <tr>\n",
              "      <th>12</th>\n",
              "      <td>12</td>\n",
              "      <td>4033</td>\n",
              "      <td>mortgage</td>\n",
              "      <td>loan</td>\n",
              "    </tr>\n",
              "  </tbody>\n",
              "</table>\n",
              "</div>\n",
              "      <button class=\"colab-df-convert\" onclick=\"convertToInteractive('df-1daf5a65-7097-40b3-a93d-d2e9f778bee1')\"\n",
              "              title=\"Convert this dataframe to an interactive table.\"\n",
              "              style=\"display:none;\">\n",
              "        \n",
              "  <svg xmlns=\"http://www.w3.org/2000/svg\" height=\"24px\"viewBox=\"0 0 24 24\"\n",
              "       width=\"24px\">\n",
              "    <path d=\"M0 0h24v24H0V0z\" fill=\"none\"/>\n",
              "    <path d=\"M18.56 5.44l.94 2.06.94-2.06 2.06-.94-2.06-.94-.94-2.06-.94 2.06-2.06.94zm-11 1L8.5 8.5l.94-2.06 2.06-.94-2.06-.94L8.5 2.5l-.94 2.06-2.06.94zm10 10l.94 2.06.94-2.06 2.06-.94-2.06-.94-.94-2.06-.94 2.06-2.06.94z\"/><path d=\"M17.41 7.96l-1.37-1.37c-.4-.4-.92-.59-1.43-.59-.52 0-1.04.2-1.43.59L10.3 9.45l-7.72 7.72c-.78.78-.78 2.05 0 2.83L4 21.41c.39.39.9.59 1.41.59.51 0 1.02-.2 1.41-.59l7.78-7.78 2.81-2.81c.8-.78.8-2.07 0-2.86zM5.41 20L4 18.59l7.72-7.72 1.47 1.35L5.41 20z\"/>\n",
              "  </svg>\n",
              "      </button>\n",
              "      \n",
              "  <style>\n",
              "    .colab-df-container {\n",
              "      display:flex;\n",
              "      flex-wrap:wrap;\n",
              "      gap: 12px;\n",
              "    }\n",
              "\n",
              "    .colab-df-convert {\n",
              "      background-color: #E8F0FE;\n",
              "      border: none;\n",
              "      border-radius: 50%;\n",
              "      cursor: pointer;\n",
              "      display: none;\n",
              "      fill: #1967D2;\n",
              "      height: 32px;\n",
              "      padding: 0 0 0 0;\n",
              "      width: 32px;\n",
              "    }\n",
              "\n",
              "    .colab-df-convert:hover {\n",
              "      background-color: #E2EBFA;\n",
              "      box-shadow: 0px 1px 2px rgba(60, 64, 67, 0.3), 0px 1px 3px 1px rgba(60, 64, 67, 0.15);\n",
              "      fill: #174EA6;\n",
              "    }\n",
              "\n",
              "    [theme=dark] .colab-df-convert {\n",
              "      background-color: #3B4455;\n",
              "      fill: #D2E3FC;\n",
              "    }\n",
              "\n",
              "    [theme=dark] .colab-df-convert:hover {\n",
              "      background-color: #434B5C;\n",
              "      box-shadow: 0px 1px 3px 1px rgba(0, 0, 0, 0.15);\n",
              "      filter: drop-shadow(0px 1px 2px rgba(0, 0, 0, 0.3));\n",
              "      fill: #FFFFFF;\n",
              "    }\n",
              "  </style>\n",
              "\n",
              "      <script>\n",
              "        const buttonEl =\n",
              "          document.querySelector('#df-1daf5a65-7097-40b3-a93d-d2e9f778bee1 button.colab-df-convert');\n",
              "        buttonEl.style.display =\n",
              "          google.colab.kernel.accessAllowed ? 'block' : 'none';\n",
              "\n",
              "        async function convertToInteractive(key) {\n",
              "          const element = document.querySelector('#df-1daf5a65-7097-40b3-a93d-d2e9f778bee1');\n",
              "          const dataTable =\n",
              "            await google.colab.kernel.invokeFunction('convertToInteractive',\n",
              "                                                     [key], {});\n",
              "          if (!dataTable) return;\n",
              "\n",
              "          const docLinkHtml = 'Like what you see? Visit the ' +\n",
              "            '<a target=\"_blank\" href=https://colab.research.google.com/notebooks/data_table.ipynb>data table notebook</a>'\n",
              "            + ' to learn more about interactive tables.';\n",
              "          element.innerHTML = '';\n",
              "          dataTable['output_type'] = 'display_data';\n",
              "          await google.colab.output.renderOutput(dataTable, element);\n",
              "          const docLink = document.createElement('div');\n",
              "          docLink.innerHTML = docLinkHtml;\n",
              "          element.appendChild(docLink);\n",
              "        }\n",
              "      </script>\n",
              "    </div>\n",
              "  </div>\n",
              "  "
            ]
          },
          "metadata": {},
          "execution_count": 14
        }
      ]
    },
    {
      "cell_type": "code",
      "source": [
        "product_description_raw.describe(include = ['object'])"
      ],
      "metadata": {
        "colab": {
          "base_uri": "https://localhost:8080/",
          "height": 175
        },
        "id": "AcwVd6H-1gFP",
        "outputId": "806b323f-662f-4d32-c48c-28ac309a99c6"
      },
      "execution_count": 15,
      "outputs": [
        {
          "output_type": "execute_result",
          "data": {
            "text/plain": [
              "       product_desc family_product\n",
              "count            13             13\n",
              "unique           13              5\n",
              "top       em_acount        account\n",
              "freq              1              4"
            ],
            "text/html": [
              "\n",
              "  <div id=\"df-d2614ff9-951f-4b25-a906-7db9880745be\">\n",
              "    <div class=\"colab-df-container\">\n",
              "      <div>\n",
              "<style scoped>\n",
              "    .dataframe tbody tr th:only-of-type {\n",
              "        vertical-align: middle;\n",
              "    }\n",
              "\n",
              "    .dataframe tbody tr th {\n",
              "        vertical-align: top;\n",
              "    }\n",
              "\n",
              "    .dataframe thead th {\n",
              "        text-align: right;\n",
              "    }\n",
              "</style>\n",
              "<table border=\"1\" class=\"dataframe\">\n",
              "  <thead>\n",
              "    <tr style=\"text-align: right;\">\n",
              "      <th></th>\n",
              "      <th>product_desc</th>\n",
              "      <th>family_product</th>\n",
              "    </tr>\n",
              "  </thead>\n",
              "  <tbody>\n",
              "    <tr>\n",
              "      <th>count</th>\n",
              "      <td>13</td>\n",
              "      <td>13</td>\n",
              "    </tr>\n",
              "    <tr>\n",
              "      <th>unique</th>\n",
              "      <td>13</td>\n",
              "      <td>5</td>\n",
              "    </tr>\n",
              "    <tr>\n",
              "      <th>top</th>\n",
              "      <td>em_acount</td>\n",
              "      <td>account</td>\n",
              "    </tr>\n",
              "    <tr>\n",
              "      <th>freq</th>\n",
              "      <td>1</td>\n",
              "      <td>4</td>\n",
              "    </tr>\n",
              "  </tbody>\n",
              "</table>\n",
              "</div>\n",
              "      <button class=\"colab-df-convert\" onclick=\"convertToInteractive('df-d2614ff9-951f-4b25-a906-7db9880745be')\"\n",
              "              title=\"Convert this dataframe to an interactive table.\"\n",
              "              style=\"display:none;\">\n",
              "        \n",
              "  <svg xmlns=\"http://www.w3.org/2000/svg\" height=\"24px\"viewBox=\"0 0 24 24\"\n",
              "       width=\"24px\">\n",
              "    <path d=\"M0 0h24v24H0V0z\" fill=\"none\"/>\n",
              "    <path d=\"M18.56 5.44l.94 2.06.94-2.06 2.06-.94-2.06-.94-.94-2.06-.94 2.06-2.06.94zm-11 1L8.5 8.5l.94-2.06 2.06-.94-2.06-.94L8.5 2.5l-.94 2.06-2.06.94zm10 10l.94 2.06.94-2.06 2.06-.94-2.06-.94-.94-2.06-.94 2.06-2.06.94z\"/><path d=\"M17.41 7.96l-1.37-1.37c-.4-.4-.92-.59-1.43-.59-.52 0-1.04.2-1.43.59L10.3 9.45l-7.72 7.72c-.78.78-.78 2.05 0 2.83L4 21.41c.39.39.9.59 1.41.59.51 0 1.02-.2 1.41-.59l7.78-7.78 2.81-2.81c.8-.78.8-2.07 0-2.86zM5.41 20L4 18.59l7.72-7.72 1.47 1.35L5.41 20z\"/>\n",
              "  </svg>\n",
              "      </button>\n",
              "      \n",
              "  <style>\n",
              "    .colab-df-container {\n",
              "      display:flex;\n",
              "      flex-wrap:wrap;\n",
              "      gap: 12px;\n",
              "    }\n",
              "\n",
              "    .colab-df-convert {\n",
              "      background-color: #E8F0FE;\n",
              "      border: none;\n",
              "      border-radius: 50%;\n",
              "      cursor: pointer;\n",
              "      display: none;\n",
              "      fill: #1967D2;\n",
              "      height: 32px;\n",
              "      padding: 0 0 0 0;\n",
              "      width: 32px;\n",
              "    }\n",
              "\n",
              "    .colab-df-convert:hover {\n",
              "      background-color: #E2EBFA;\n",
              "      box-shadow: 0px 1px 2px rgba(60, 64, 67, 0.3), 0px 1px 3px 1px rgba(60, 64, 67, 0.15);\n",
              "      fill: #174EA6;\n",
              "    }\n",
              "\n",
              "    [theme=dark] .colab-df-convert {\n",
              "      background-color: #3B4455;\n",
              "      fill: #D2E3FC;\n",
              "    }\n",
              "\n",
              "    [theme=dark] .colab-df-convert:hover {\n",
              "      background-color: #434B5C;\n",
              "      box-shadow: 0px 1px 3px 1px rgba(0, 0, 0, 0.15);\n",
              "      filter: drop-shadow(0px 1px 2px rgba(0, 0, 0, 0.3));\n",
              "      fill: #FFFFFF;\n",
              "    }\n",
              "  </style>\n",
              "\n",
              "      <script>\n",
              "        const buttonEl =\n",
              "          document.querySelector('#df-d2614ff9-951f-4b25-a906-7db9880745be button.colab-df-convert');\n",
              "        buttonEl.style.display =\n",
              "          google.colab.kernel.accessAllowed ? 'block' : 'none';\n",
              "\n",
              "        async function convertToInteractive(key) {\n",
              "          const element = document.querySelector('#df-d2614ff9-951f-4b25-a906-7db9880745be');\n",
              "          const dataTable =\n",
              "            await google.colab.kernel.invokeFunction('convertToInteractive',\n",
              "                                                     [key], {});\n",
              "          if (!dataTable) return;\n",
              "\n",
              "          const docLinkHtml = 'Like what you see? Visit the ' +\n",
              "            '<a target=\"_blank\" href=https://colab.research.google.com/notebooks/data_table.ipynb>data table notebook</a>'\n",
              "            + ' to learn more about interactive tables.';\n",
              "          element.innerHTML = '';\n",
              "          dataTable['output_type'] = 'display_data';\n",
              "          await google.colab.output.renderOutput(dataTable, element);\n",
              "          const docLink = document.createElement('div');\n",
              "          docLink.innerHTML = docLinkHtml;\n",
              "          element.appendChild(docLink);\n",
              "        }\n",
              "      </script>\n",
              "    </div>\n",
              "  </div>\n",
              "  "
            ]
          },
          "metadata": {},
          "execution_count": 15
        }
      ]
    },
    {
      "cell_type": "code",
      "source": [
        "product_description_raw.describe(exclude = ['object'])"
      ],
      "metadata": {
        "colab": {
          "base_uri": "https://localhost:8080/",
          "height": 300
        },
        "id": "B950Lyeb1gFP",
        "outputId": "dd6408a4-28d4-490d-b36d-21ed704f202b"
      },
      "execution_count": 16,
      "outputs": [
        {
          "output_type": "execute_result",
          "data": {
            "text/plain": [
              "       Unnamed: 0  pk_product_ID\n",
              "count    13.00000      13.000000\n",
              "mean      6.00000    3614.538462\n",
              "std       3.89444    2564.251438\n",
              "min       0.00000    1119.000000\n",
              "25%       3.00000    2235.000000\n",
              "50%       6.00000    2336.000000\n",
              "75%       9.00000    4033.000000\n",
              "max      12.00000    9001.000000"
            ],
            "text/html": [
              "\n",
              "  <div id=\"df-f98c9b64-e20d-46c9-a2ef-471ae5053667\">\n",
              "    <div class=\"colab-df-container\">\n",
              "      <div>\n",
              "<style scoped>\n",
              "    .dataframe tbody tr th:only-of-type {\n",
              "        vertical-align: middle;\n",
              "    }\n",
              "\n",
              "    .dataframe tbody tr th {\n",
              "        vertical-align: top;\n",
              "    }\n",
              "\n",
              "    .dataframe thead th {\n",
              "        text-align: right;\n",
              "    }\n",
              "</style>\n",
              "<table border=\"1\" class=\"dataframe\">\n",
              "  <thead>\n",
              "    <tr style=\"text-align: right;\">\n",
              "      <th></th>\n",
              "      <th>Unnamed: 0</th>\n",
              "      <th>pk_product_ID</th>\n",
              "    </tr>\n",
              "  </thead>\n",
              "  <tbody>\n",
              "    <tr>\n",
              "      <th>count</th>\n",
              "      <td>13.00000</td>\n",
              "      <td>13.000000</td>\n",
              "    </tr>\n",
              "    <tr>\n",
              "      <th>mean</th>\n",
              "      <td>6.00000</td>\n",
              "      <td>3614.538462</td>\n",
              "    </tr>\n",
              "    <tr>\n",
              "      <th>std</th>\n",
              "      <td>3.89444</td>\n",
              "      <td>2564.251438</td>\n",
              "    </tr>\n",
              "    <tr>\n",
              "      <th>min</th>\n",
              "      <td>0.00000</td>\n",
              "      <td>1119.000000</td>\n",
              "    </tr>\n",
              "    <tr>\n",
              "      <th>25%</th>\n",
              "      <td>3.00000</td>\n",
              "      <td>2235.000000</td>\n",
              "    </tr>\n",
              "    <tr>\n",
              "      <th>50%</th>\n",
              "      <td>6.00000</td>\n",
              "      <td>2336.000000</td>\n",
              "    </tr>\n",
              "    <tr>\n",
              "      <th>75%</th>\n",
              "      <td>9.00000</td>\n",
              "      <td>4033.000000</td>\n",
              "    </tr>\n",
              "    <tr>\n",
              "      <th>max</th>\n",
              "      <td>12.00000</td>\n",
              "      <td>9001.000000</td>\n",
              "    </tr>\n",
              "  </tbody>\n",
              "</table>\n",
              "</div>\n",
              "      <button class=\"colab-df-convert\" onclick=\"convertToInteractive('df-f98c9b64-e20d-46c9-a2ef-471ae5053667')\"\n",
              "              title=\"Convert this dataframe to an interactive table.\"\n",
              "              style=\"display:none;\">\n",
              "        \n",
              "  <svg xmlns=\"http://www.w3.org/2000/svg\" height=\"24px\"viewBox=\"0 0 24 24\"\n",
              "       width=\"24px\">\n",
              "    <path d=\"M0 0h24v24H0V0z\" fill=\"none\"/>\n",
              "    <path d=\"M18.56 5.44l.94 2.06.94-2.06 2.06-.94-2.06-.94-.94-2.06-.94 2.06-2.06.94zm-11 1L8.5 8.5l.94-2.06 2.06-.94-2.06-.94L8.5 2.5l-.94 2.06-2.06.94zm10 10l.94 2.06.94-2.06 2.06-.94-2.06-.94-.94-2.06-.94 2.06-2.06.94z\"/><path d=\"M17.41 7.96l-1.37-1.37c-.4-.4-.92-.59-1.43-.59-.52 0-1.04.2-1.43.59L10.3 9.45l-7.72 7.72c-.78.78-.78 2.05 0 2.83L4 21.41c.39.39.9.59 1.41.59.51 0 1.02-.2 1.41-.59l7.78-7.78 2.81-2.81c.8-.78.8-2.07 0-2.86zM5.41 20L4 18.59l7.72-7.72 1.47 1.35L5.41 20z\"/>\n",
              "  </svg>\n",
              "      </button>\n",
              "      \n",
              "  <style>\n",
              "    .colab-df-container {\n",
              "      display:flex;\n",
              "      flex-wrap:wrap;\n",
              "      gap: 12px;\n",
              "    }\n",
              "\n",
              "    .colab-df-convert {\n",
              "      background-color: #E8F0FE;\n",
              "      border: none;\n",
              "      border-radius: 50%;\n",
              "      cursor: pointer;\n",
              "      display: none;\n",
              "      fill: #1967D2;\n",
              "      height: 32px;\n",
              "      padding: 0 0 0 0;\n",
              "      width: 32px;\n",
              "    }\n",
              "\n",
              "    .colab-df-convert:hover {\n",
              "      background-color: #E2EBFA;\n",
              "      box-shadow: 0px 1px 2px rgba(60, 64, 67, 0.3), 0px 1px 3px 1px rgba(60, 64, 67, 0.15);\n",
              "      fill: #174EA6;\n",
              "    }\n",
              "\n",
              "    [theme=dark] .colab-df-convert {\n",
              "      background-color: #3B4455;\n",
              "      fill: #D2E3FC;\n",
              "    }\n",
              "\n",
              "    [theme=dark] .colab-df-convert:hover {\n",
              "      background-color: #434B5C;\n",
              "      box-shadow: 0px 1px 3px 1px rgba(0, 0, 0, 0.15);\n",
              "      filter: drop-shadow(0px 1px 2px rgba(0, 0, 0, 0.3));\n",
              "      fill: #FFFFFF;\n",
              "    }\n",
              "  </style>\n",
              "\n",
              "      <script>\n",
              "        const buttonEl =\n",
              "          document.querySelector('#df-f98c9b64-e20d-46c9-a2ef-471ae5053667 button.colab-df-convert');\n",
              "        buttonEl.style.display =\n",
              "          google.colab.kernel.accessAllowed ? 'block' : 'none';\n",
              "\n",
              "        async function convertToInteractive(key) {\n",
              "          const element = document.querySelector('#df-f98c9b64-e20d-46c9-a2ef-471ae5053667');\n",
              "          const dataTable =\n",
              "            await google.colab.kernel.invokeFunction('convertToInteractive',\n",
              "                                                     [key], {});\n",
              "          if (!dataTable) return;\n",
              "\n",
              "          const docLinkHtml = 'Like what you see? Visit the ' +\n",
              "            '<a target=\"_blank\" href=https://colab.research.google.com/notebooks/data_table.ipynb>data table notebook</a>'\n",
              "            + ' to learn more about interactive tables.';\n",
              "          element.innerHTML = '';\n",
              "          dataTable['output_type'] = 'display_data';\n",
              "          await google.colab.output.renderOutput(dataTable, element);\n",
              "          const docLink = document.createElement('div');\n",
              "          docLink.innerHTML = docLinkHtml;\n",
              "          element.appendChild(docLink);\n",
              "        }\n",
              "      </script>\n",
              "    </div>\n",
              "  </div>\n",
              "  "
            ]
          },
          "metadata": {},
          "execution_count": 16
        }
      ]
    },
    {
      "cell_type": "code",
      "source": [
        "product_description_raw.isnull().sum()"
      ],
      "metadata": {
        "colab": {
          "base_uri": "https://localhost:8080/"
        },
        "id": "ar_-UuYG1gFP",
        "outputId": "b18a6494-a732-4ae7-9069-7c3f9d7982c0"
      },
      "execution_count": 17,
      "outputs": [
        {
          "output_type": "execute_result",
          "data": {
            "text/plain": [
              "Unnamed: 0        0\n",
              "pk_product_ID     0\n",
              "product_desc      0\n",
              "family_product    0\n",
              "dtype: int64"
            ]
          },
          "metadata": {},
          "execution_count": 17
        }
      ]
    },
    {
      "cell_type": "code",
      "source": [
        "product_description_raw[product_description_raw.duplicated()]"
      ],
      "metadata": {
        "colab": {
          "base_uri": "https://localhost:8080/",
          "height": 49
        },
        "id": "VobyDPNY180c",
        "outputId": "78aed79f-7b95-4cb2-f26c-d30b1838ff33"
      },
      "execution_count": 18,
      "outputs": [
        {
          "output_type": "execute_result",
          "data": {
            "text/plain": [
              "Empty DataFrame\n",
              "Columns: [Unnamed: 0, pk_product_ID, product_desc, family_product]\n",
              "Index: []"
            ],
            "text/html": [
              "\n",
              "  <div id=\"df-d699813f-da92-4d88-b93b-bf906ccbc88e\">\n",
              "    <div class=\"colab-df-container\">\n",
              "      <div>\n",
              "<style scoped>\n",
              "    .dataframe tbody tr th:only-of-type {\n",
              "        vertical-align: middle;\n",
              "    }\n",
              "\n",
              "    .dataframe tbody tr th {\n",
              "        vertical-align: top;\n",
              "    }\n",
              "\n",
              "    .dataframe thead th {\n",
              "        text-align: right;\n",
              "    }\n",
              "</style>\n",
              "<table border=\"1\" class=\"dataframe\">\n",
              "  <thead>\n",
              "    <tr style=\"text-align: right;\">\n",
              "      <th></th>\n",
              "      <th>Unnamed: 0</th>\n",
              "      <th>pk_product_ID</th>\n",
              "      <th>product_desc</th>\n",
              "      <th>family_product</th>\n",
              "    </tr>\n",
              "  </thead>\n",
              "  <tbody>\n",
              "  </tbody>\n",
              "</table>\n",
              "</div>\n",
              "      <button class=\"colab-df-convert\" onclick=\"convertToInteractive('df-d699813f-da92-4d88-b93b-bf906ccbc88e')\"\n",
              "              title=\"Convert this dataframe to an interactive table.\"\n",
              "              style=\"display:none;\">\n",
              "        \n",
              "  <svg xmlns=\"http://www.w3.org/2000/svg\" height=\"24px\"viewBox=\"0 0 24 24\"\n",
              "       width=\"24px\">\n",
              "    <path d=\"M0 0h24v24H0V0z\" fill=\"none\"/>\n",
              "    <path d=\"M18.56 5.44l.94 2.06.94-2.06 2.06-.94-2.06-.94-.94-2.06-.94 2.06-2.06.94zm-11 1L8.5 8.5l.94-2.06 2.06-.94-2.06-.94L8.5 2.5l-.94 2.06-2.06.94zm10 10l.94 2.06.94-2.06 2.06-.94-2.06-.94-.94-2.06-.94 2.06-2.06.94z\"/><path d=\"M17.41 7.96l-1.37-1.37c-.4-.4-.92-.59-1.43-.59-.52 0-1.04.2-1.43.59L10.3 9.45l-7.72 7.72c-.78.78-.78 2.05 0 2.83L4 21.41c.39.39.9.59 1.41.59.51 0 1.02-.2 1.41-.59l7.78-7.78 2.81-2.81c.8-.78.8-2.07 0-2.86zM5.41 20L4 18.59l7.72-7.72 1.47 1.35L5.41 20z\"/>\n",
              "  </svg>\n",
              "      </button>\n",
              "      \n",
              "  <style>\n",
              "    .colab-df-container {\n",
              "      display:flex;\n",
              "      flex-wrap:wrap;\n",
              "      gap: 12px;\n",
              "    }\n",
              "\n",
              "    .colab-df-convert {\n",
              "      background-color: #E8F0FE;\n",
              "      border: none;\n",
              "      border-radius: 50%;\n",
              "      cursor: pointer;\n",
              "      display: none;\n",
              "      fill: #1967D2;\n",
              "      height: 32px;\n",
              "      padding: 0 0 0 0;\n",
              "      width: 32px;\n",
              "    }\n",
              "\n",
              "    .colab-df-convert:hover {\n",
              "      background-color: #E2EBFA;\n",
              "      box-shadow: 0px 1px 2px rgba(60, 64, 67, 0.3), 0px 1px 3px 1px rgba(60, 64, 67, 0.15);\n",
              "      fill: #174EA6;\n",
              "    }\n",
              "\n",
              "    [theme=dark] .colab-df-convert {\n",
              "      background-color: #3B4455;\n",
              "      fill: #D2E3FC;\n",
              "    }\n",
              "\n",
              "    [theme=dark] .colab-df-convert:hover {\n",
              "      background-color: #434B5C;\n",
              "      box-shadow: 0px 1px 3px 1px rgba(0, 0, 0, 0.15);\n",
              "      filter: drop-shadow(0px 1px 2px rgba(0, 0, 0, 0.3));\n",
              "      fill: #FFFFFF;\n",
              "    }\n",
              "  </style>\n",
              "\n",
              "      <script>\n",
              "        const buttonEl =\n",
              "          document.querySelector('#df-d699813f-da92-4d88-b93b-bf906ccbc88e button.colab-df-convert');\n",
              "        buttonEl.style.display =\n",
              "          google.colab.kernel.accessAllowed ? 'block' : 'none';\n",
              "\n",
              "        async function convertToInteractive(key) {\n",
              "          const element = document.querySelector('#df-d699813f-da92-4d88-b93b-bf906ccbc88e');\n",
              "          const dataTable =\n",
              "            await google.colab.kernel.invokeFunction('convertToInteractive',\n",
              "                                                     [key], {});\n",
              "          if (!dataTable) return;\n",
              "\n",
              "          const docLinkHtml = 'Like what you see? Visit the ' +\n",
              "            '<a target=\"_blank\" href=https://colab.research.google.com/notebooks/data_table.ipynb>data table notebook</a>'\n",
              "            + ' to learn more about interactive tables.';\n",
              "          element.innerHTML = '';\n",
              "          dataTable['output_type'] = 'display_data';\n",
              "          await google.colab.output.renderOutput(dataTable, element);\n",
              "          const docLink = document.createElement('div');\n",
              "          docLink.innerHTML = docLinkHtml;\n",
              "          element.appendChild(docLink);\n",
              "        }\n",
              "      </script>\n",
              "    </div>\n",
              "  </div>\n",
              "  "
            ]
          },
          "metadata": {},
          "execution_count": 18
        }
      ]
    },
    {
      "cell_type": "code",
      "source": [
        "# ACCIONES A LLEVAR A CABO \n",
        "\n",
        "# Eliminar columna Unnamed"
      ],
      "metadata": {
        "id": "m9_2ZNRu1wpE"
      },
      "execution_count": 19,
      "outputs": []
    },
    {
      "cell_type": "markdown",
      "source": [
        "### Customer Sociodemographics"
      ],
      "metadata": {
        "id": "MaBHzrXNyn_S"
      }
    },
    {
      "cell_type": "markdown",
      "source": [
        "* pk_cid =\tIdentificador de cliente\n",
        "* pk_partition =\tIdentificador de Partición. Mensualmente se ingesta en la tabla una partición con el estado de la base de clientes.\n",
        "* deceased =\tIndicador de fallecimiento\n",
        "* gender =\tSexo del cliente\n",
        "* region_code =\tProvincia de residencia del cliente (para ES)\n",
        "* salary =\tIngresos brutos de la unidad familiar\n",
        "* country_id =\tPaís de residencia del cliente\n",
        "* age =\tEdad del cliente"
      ],
      "metadata": {
        "id": "RN4rqVMoyn_e"
      }
    },
    {
      "cell_type": "code",
      "source": [
        "customer_sociodemographics_raw.info()"
      ],
      "metadata": {
        "colab": {
          "base_uri": "https://localhost:8080/"
        },
        "id": "vG4RJ69gyn_e",
        "outputId": "e0f58eeb-2ee4-4fea-cb0a-84dccfda5718"
      },
      "execution_count": 20,
      "outputs": [
        {
          "output_type": "stream",
          "name": "stdout",
          "text": [
            "<class 'pandas.core.frame.DataFrame'>\n",
            "RangeIndex: 5962924 entries, 0 to 5962923\n",
            "Data columns (total 9 columns):\n",
            " #   Column        Dtype  \n",
            "---  ------        -----  \n",
            " 0   Unnamed: 0    int64  \n",
            " 1   pk_cid        int64  \n",
            " 2   pk_partition  object \n",
            " 3   country_id    object \n",
            " 4   region_code   float64\n",
            " 5   gender        object \n",
            " 6   age           int64  \n",
            " 7   deceased      object \n",
            " 8   salary        float64\n",
            "dtypes: float64(2), int64(3), object(4)\n",
            "memory usage: 409.4+ MB\n"
          ]
        }
      ]
    },
    {
      "cell_type": "code",
      "source": [
        "customer_sociodemographics_raw.head()"
      ],
      "metadata": {
        "colab": {
          "base_uri": "https://localhost:8080/",
          "height": 206
        },
        "id": "xn1Ycawkyn_e",
        "outputId": "ef01937b-a10f-41e4-d921-2da6fca7076e"
      },
      "execution_count": 21,
      "outputs": [
        {
          "output_type": "execute_result",
          "data": {
            "text/plain": [
              "   Unnamed: 0   pk_cid pk_partition country_id  region_code gender  age  \\\n",
              "0           0  1375586      2018-01         ES         29.0      H   35   \n",
              "1           1  1050611      2018-01         ES         13.0      V   23   \n",
              "2           2  1050612      2018-01         ES         13.0      V   23   \n",
              "3           3  1050613      2018-01         ES         50.0      H   22   \n",
              "4           4  1050614      2018-01         ES         50.0      V   23   \n",
              "\n",
              "  deceased     salary  \n",
              "0        N   87218.10  \n",
              "1        N   35548.74  \n",
              "2        N  122179.11  \n",
              "3        N  119775.54  \n",
              "4        N        NaN  "
            ],
            "text/html": [
              "\n",
              "  <div id=\"df-6aabb4e7-d4ff-47fc-bbaa-61adbfe72ba1\">\n",
              "    <div class=\"colab-df-container\">\n",
              "      <div>\n",
              "<style scoped>\n",
              "    .dataframe tbody tr th:only-of-type {\n",
              "        vertical-align: middle;\n",
              "    }\n",
              "\n",
              "    .dataframe tbody tr th {\n",
              "        vertical-align: top;\n",
              "    }\n",
              "\n",
              "    .dataframe thead th {\n",
              "        text-align: right;\n",
              "    }\n",
              "</style>\n",
              "<table border=\"1\" class=\"dataframe\">\n",
              "  <thead>\n",
              "    <tr style=\"text-align: right;\">\n",
              "      <th></th>\n",
              "      <th>Unnamed: 0</th>\n",
              "      <th>pk_cid</th>\n",
              "      <th>pk_partition</th>\n",
              "      <th>country_id</th>\n",
              "      <th>region_code</th>\n",
              "      <th>gender</th>\n",
              "      <th>age</th>\n",
              "      <th>deceased</th>\n",
              "      <th>salary</th>\n",
              "    </tr>\n",
              "  </thead>\n",
              "  <tbody>\n",
              "    <tr>\n",
              "      <th>0</th>\n",
              "      <td>0</td>\n",
              "      <td>1375586</td>\n",
              "      <td>2018-01</td>\n",
              "      <td>ES</td>\n",
              "      <td>29.0</td>\n",
              "      <td>H</td>\n",
              "      <td>35</td>\n",
              "      <td>N</td>\n",
              "      <td>87218.10</td>\n",
              "    </tr>\n",
              "    <tr>\n",
              "      <th>1</th>\n",
              "      <td>1</td>\n",
              "      <td>1050611</td>\n",
              "      <td>2018-01</td>\n",
              "      <td>ES</td>\n",
              "      <td>13.0</td>\n",
              "      <td>V</td>\n",
              "      <td>23</td>\n",
              "      <td>N</td>\n",
              "      <td>35548.74</td>\n",
              "    </tr>\n",
              "    <tr>\n",
              "      <th>2</th>\n",
              "      <td>2</td>\n",
              "      <td>1050612</td>\n",
              "      <td>2018-01</td>\n",
              "      <td>ES</td>\n",
              "      <td>13.0</td>\n",
              "      <td>V</td>\n",
              "      <td>23</td>\n",
              "      <td>N</td>\n",
              "      <td>122179.11</td>\n",
              "    </tr>\n",
              "    <tr>\n",
              "      <th>3</th>\n",
              "      <td>3</td>\n",
              "      <td>1050613</td>\n",
              "      <td>2018-01</td>\n",
              "      <td>ES</td>\n",
              "      <td>50.0</td>\n",
              "      <td>H</td>\n",
              "      <td>22</td>\n",
              "      <td>N</td>\n",
              "      <td>119775.54</td>\n",
              "    </tr>\n",
              "    <tr>\n",
              "      <th>4</th>\n",
              "      <td>4</td>\n",
              "      <td>1050614</td>\n",
              "      <td>2018-01</td>\n",
              "      <td>ES</td>\n",
              "      <td>50.0</td>\n",
              "      <td>V</td>\n",
              "      <td>23</td>\n",
              "      <td>N</td>\n",
              "      <td>NaN</td>\n",
              "    </tr>\n",
              "  </tbody>\n",
              "</table>\n",
              "</div>\n",
              "      <button class=\"colab-df-convert\" onclick=\"convertToInteractive('df-6aabb4e7-d4ff-47fc-bbaa-61adbfe72ba1')\"\n",
              "              title=\"Convert this dataframe to an interactive table.\"\n",
              "              style=\"display:none;\">\n",
              "        \n",
              "  <svg xmlns=\"http://www.w3.org/2000/svg\" height=\"24px\"viewBox=\"0 0 24 24\"\n",
              "       width=\"24px\">\n",
              "    <path d=\"M0 0h24v24H0V0z\" fill=\"none\"/>\n",
              "    <path d=\"M18.56 5.44l.94 2.06.94-2.06 2.06-.94-2.06-.94-.94-2.06-.94 2.06-2.06.94zm-11 1L8.5 8.5l.94-2.06 2.06-.94-2.06-.94L8.5 2.5l-.94 2.06-2.06.94zm10 10l.94 2.06.94-2.06 2.06-.94-2.06-.94-.94-2.06-.94 2.06-2.06.94z\"/><path d=\"M17.41 7.96l-1.37-1.37c-.4-.4-.92-.59-1.43-.59-.52 0-1.04.2-1.43.59L10.3 9.45l-7.72 7.72c-.78.78-.78 2.05 0 2.83L4 21.41c.39.39.9.59 1.41.59.51 0 1.02-.2 1.41-.59l7.78-7.78 2.81-2.81c.8-.78.8-2.07 0-2.86zM5.41 20L4 18.59l7.72-7.72 1.47 1.35L5.41 20z\"/>\n",
              "  </svg>\n",
              "      </button>\n",
              "      \n",
              "  <style>\n",
              "    .colab-df-container {\n",
              "      display:flex;\n",
              "      flex-wrap:wrap;\n",
              "      gap: 12px;\n",
              "    }\n",
              "\n",
              "    .colab-df-convert {\n",
              "      background-color: #E8F0FE;\n",
              "      border: none;\n",
              "      border-radius: 50%;\n",
              "      cursor: pointer;\n",
              "      display: none;\n",
              "      fill: #1967D2;\n",
              "      height: 32px;\n",
              "      padding: 0 0 0 0;\n",
              "      width: 32px;\n",
              "    }\n",
              "\n",
              "    .colab-df-convert:hover {\n",
              "      background-color: #E2EBFA;\n",
              "      box-shadow: 0px 1px 2px rgba(60, 64, 67, 0.3), 0px 1px 3px 1px rgba(60, 64, 67, 0.15);\n",
              "      fill: #174EA6;\n",
              "    }\n",
              "\n",
              "    [theme=dark] .colab-df-convert {\n",
              "      background-color: #3B4455;\n",
              "      fill: #D2E3FC;\n",
              "    }\n",
              "\n",
              "    [theme=dark] .colab-df-convert:hover {\n",
              "      background-color: #434B5C;\n",
              "      box-shadow: 0px 1px 3px 1px rgba(0, 0, 0, 0.15);\n",
              "      filter: drop-shadow(0px 1px 2px rgba(0, 0, 0, 0.3));\n",
              "      fill: #FFFFFF;\n",
              "    }\n",
              "  </style>\n",
              "\n",
              "      <script>\n",
              "        const buttonEl =\n",
              "          document.querySelector('#df-6aabb4e7-d4ff-47fc-bbaa-61adbfe72ba1 button.colab-df-convert');\n",
              "        buttonEl.style.display =\n",
              "          google.colab.kernel.accessAllowed ? 'block' : 'none';\n",
              "\n",
              "        async function convertToInteractive(key) {\n",
              "          const element = document.querySelector('#df-6aabb4e7-d4ff-47fc-bbaa-61adbfe72ba1');\n",
              "          const dataTable =\n",
              "            await google.colab.kernel.invokeFunction('convertToInteractive',\n",
              "                                                     [key], {});\n",
              "          if (!dataTable) return;\n",
              "\n",
              "          const docLinkHtml = 'Like what you see? Visit the ' +\n",
              "            '<a target=\"_blank\" href=https://colab.research.google.com/notebooks/data_table.ipynb>data table notebook</a>'\n",
              "            + ' to learn more about interactive tables.';\n",
              "          element.innerHTML = '';\n",
              "          dataTable['output_type'] = 'display_data';\n",
              "          await google.colab.output.renderOutput(dataTable, element);\n",
              "          const docLink = document.createElement('div');\n",
              "          docLink.innerHTML = docLinkHtml;\n",
              "          element.appendChild(docLink);\n",
              "        }\n",
              "      </script>\n",
              "    </div>\n",
              "  </div>\n",
              "  "
            ]
          },
          "metadata": {},
          "execution_count": 21
        }
      ]
    },
    {
      "cell_type": "code",
      "source": [
        "customer_sociodemographics_raw.describe(include = ['object'])"
      ],
      "metadata": {
        "colab": {
          "base_uri": "https://localhost:8080/",
          "height": 175
        },
        "id": "2FtPt2M8yn_e",
        "outputId": "72528127-f501-4fdd-de65-373976851adf"
      },
      "execution_count": 22,
      "outputs": [
        {
          "output_type": "execute_result",
          "data": {
            "text/plain": [
              "       pk_partition country_id   gender deceased\n",
              "count       5962924    5962924  5962899  5962924\n",
              "unique           17         41        2        2\n",
              "top         2019-05         ES        H        N\n",
              "freq         442995    5960672  3087502  5961849"
            ],
            "text/html": [
              "\n",
              "  <div id=\"df-09613725-b01b-4ece-b8cd-e433047895e6\">\n",
              "    <div class=\"colab-df-container\">\n",
              "      <div>\n",
              "<style scoped>\n",
              "    .dataframe tbody tr th:only-of-type {\n",
              "        vertical-align: middle;\n",
              "    }\n",
              "\n",
              "    .dataframe tbody tr th {\n",
              "        vertical-align: top;\n",
              "    }\n",
              "\n",
              "    .dataframe thead th {\n",
              "        text-align: right;\n",
              "    }\n",
              "</style>\n",
              "<table border=\"1\" class=\"dataframe\">\n",
              "  <thead>\n",
              "    <tr style=\"text-align: right;\">\n",
              "      <th></th>\n",
              "      <th>pk_partition</th>\n",
              "      <th>country_id</th>\n",
              "      <th>gender</th>\n",
              "      <th>deceased</th>\n",
              "    </tr>\n",
              "  </thead>\n",
              "  <tbody>\n",
              "    <tr>\n",
              "      <th>count</th>\n",
              "      <td>5962924</td>\n",
              "      <td>5962924</td>\n",
              "      <td>5962899</td>\n",
              "      <td>5962924</td>\n",
              "    </tr>\n",
              "    <tr>\n",
              "      <th>unique</th>\n",
              "      <td>17</td>\n",
              "      <td>41</td>\n",
              "      <td>2</td>\n",
              "      <td>2</td>\n",
              "    </tr>\n",
              "    <tr>\n",
              "      <th>top</th>\n",
              "      <td>2019-05</td>\n",
              "      <td>ES</td>\n",
              "      <td>H</td>\n",
              "      <td>N</td>\n",
              "    </tr>\n",
              "    <tr>\n",
              "      <th>freq</th>\n",
              "      <td>442995</td>\n",
              "      <td>5960672</td>\n",
              "      <td>3087502</td>\n",
              "      <td>5961849</td>\n",
              "    </tr>\n",
              "  </tbody>\n",
              "</table>\n",
              "</div>\n",
              "      <button class=\"colab-df-convert\" onclick=\"convertToInteractive('df-09613725-b01b-4ece-b8cd-e433047895e6')\"\n",
              "              title=\"Convert this dataframe to an interactive table.\"\n",
              "              style=\"display:none;\">\n",
              "        \n",
              "  <svg xmlns=\"http://www.w3.org/2000/svg\" height=\"24px\"viewBox=\"0 0 24 24\"\n",
              "       width=\"24px\">\n",
              "    <path d=\"M0 0h24v24H0V0z\" fill=\"none\"/>\n",
              "    <path d=\"M18.56 5.44l.94 2.06.94-2.06 2.06-.94-2.06-.94-.94-2.06-.94 2.06-2.06.94zm-11 1L8.5 8.5l.94-2.06 2.06-.94-2.06-.94L8.5 2.5l-.94 2.06-2.06.94zm10 10l.94 2.06.94-2.06 2.06-.94-2.06-.94-.94-2.06-.94 2.06-2.06.94z\"/><path d=\"M17.41 7.96l-1.37-1.37c-.4-.4-.92-.59-1.43-.59-.52 0-1.04.2-1.43.59L10.3 9.45l-7.72 7.72c-.78.78-.78 2.05 0 2.83L4 21.41c.39.39.9.59 1.41.59.51 0 1.02-.2 1.41-.59l7.78-7.78 2.81-2.81c.8-.78.8-2.07 0-2.86zM5.41 20L4 18.59l7.72-7.72 1.47 1.35L5.41 20z\"/>\n",
              "  </svg>\n",
              "      </button>\n",
              "      \n",
              "  <style>\n",
              "    .colab-df-container {\n",
              "      display:flex;\n",
              "      flex-wrap:wrap;\n",
              "      gap: 12px;\n",
              "    }\n",
              "\n",
              "    .colab-df-convert {\n",
              "      background-color: #E8F0FE;\n",
              "      border: none;\n",
              "      border-radius: 50%;\n",
              "      cursor: pointer;\n",
              "      display: none;\n",
              "      fill: #1967D2;\n",
              "      height: 32px;\n",
              "      padding: 0 0 0 0;\n",
              "      width: 32px;\n",
              "    }\n",
              "\n",
              "    .colab-df-convert:hover {\n",
              "      background-color: #E2EBFA;\n",
              "      box-shadow: 0px 1px 2px rgba(60, 64, 67, 0.3), 0px 1px 3px 1px rgba(60, 64, 67, 0.15);\n",
              "      fill: #174EA6;\n",
              "    }\n",
              "\n",
              "    [theme=dark] .colab-df-convert {\n",
              "      background-color: #3B4455;\n",
              "      fill: #D2E3FC;\n",
              "    }\n",
              "\n",
              "    [theme=dark] .colab-df-convert:hover {\n",
              "      background-color: #434B5C;\n",
              "      box-shadow: 0px 1px 3px 1px rgba(0, 0, 0, 0.15);\n",
              "      filter: drop-shadow(0px 1px 2px rgba(0, 0, 0, 0.3));\n",
              "      fill: #FFFFFF;\n",
              "    }\n",
              "  </style>\n",
              "\n",
              "      <script>\n",
              "        const buttonEl =\n",
              "          document.querySelector('#df-09613725-b01b-4ece-b8cd-e433047895e6 button.colab-df-convert');\n",
              "        buttonEl.style.display =\n",
              "          google.colab.kernel.accessAllowed ? 'block' : 'none';\n",
              "\n",
              "        async function convertToInteractive(key) {\n",
              "          const element = document.querySelector('#df-09613725-b01b-4ece-b8cd-e433047895e6');\n",
              "          const dataTable =\n",
              "            await google.colab.kernel.invokeFunction('convertToInteractive',\n",
              "                                                     [key], {});\n",
              "          if (!dataTable) return;\n",
              "\n",
              "          const docLinkHtml = 'Like what you see? Visit the ' +\n",
              "            '<a target=\"_blank\" href=https://colab.research.google.com/notebooks/data_table.ipynb>data table notebook</a>'\n",
              "            + ' to learn more about interactive tables.';\n",
              "          element.innerHTML = '';\n",
              "          dataTable['output_type'] = 'display_data';\n",
              "          await google.colab.output.renderOutput(dataTable, element);\n",
              "          const docLink = document.createElement('div');\n",
              "          docLink.innerHTML = docLinkHtml;\n",
              "          element.appendChild(docLink);\n",
              "        }\n",
              "      </script>\n",
              "    </div>\n",
              "  </div>\n",
              "  "
            ]
          },
          "metadata": {},
          "execution_count": 22
        }
      ]
    },
    {
      "cell_type": "code",
      "source": [
        "customer_sociodemographics_raw.describe(exclude = ['object'])"
      ],
      "metadata": {
        "colab": {
          "base_uri": "https://localhost:8080/",
          "height": 300
        },
        "id": "zxxezDhdyn_f",
        "outputId": "9af2fa5f-5876-42f7-93e4-8323f7776b1c"
      },
      "execution_count": 23,
      "outputs": [
        {
          "output_type": "execute_result",
          "data": {
            "text/plain": [
              "         Unnamed: 0        pk_cid   region_code           age        salary\n",
              "count  5.962924e+06  5.962924e+06  5.960660e+06  5.962924e+06  4.421820e+06\n",
              "mean   7.155425e+06  1.234930e+06  2.581440e+01  2.976042e+01  1.155833e+05\n",
              "std    3.920784e+06  1.623020e+05  1.359566e+01  1.198038e+01  2.000066e+05\n",
              "min    0.000000e+00  1.589100e+04  1.000000e+00  2.000000e+00  1.202730e+03\n",
              "25%    4.240386e+06  1.112532e+06  1.300000e+01  2.200000e+01  6.141532e+04\n",
              "50%    7.499346e+06  1.231097e+06  2.800000e+01  2.500000e+01  8.844147e+04\n",
              "75%    1.020142e+07  1.352339e+06  3.600000e+01  3.400000e+01  1.313092e+05\n",
              "max    1.364731e+07  1.553689e+06  5.200000e+01  1.050000e+02  2.889440e+07"
            ],
            "text/html": [
              "\n",
              "  <div id=\"df-a4d9b519-e8a6-49df-ac6f-41f7c4af87fb\">\n",
              "    <div class=\"colab-df-container\">\n",
              "      <div>\n",
              "<style scoped>\n",
              "    .dataframe tbody tr th:only-of-type {\n",
              "        vertical-align: middle;\n",
              "    }\n",
              "\n",
              "    .dataframe tbody tr th {\n",
              "        vertical-align: top;\n",
              "    }\n",
              "\n",
              "    .dataframe thead th {\n",
              "        text-align: right;\n",
              "    }\n",
              "</style>\n",
              "<table border=\"1\" class=\"dataframe\">\n",
              "  <thead>\n",
              "    <tr style=\"text-align: right;\">\n",
              "      <th></th>\n",
              "      <th>Unnamed: 0</th>\n",
              "      <th>pk_cid</th>\n",
              "      <th>region_code</th>\n",
              "      <th>age</th>\n",
              "      <th>salary</th>\n",
              "    </tr>\n",
              "  </thead>\n",
              "  <tbody>\n",
              "    <tr>\n",
              "      <th>count</th>\n",
              "      <td>5.962924e+06</td>\n",
              "      <td>5.962924e+06</td>\n",
              "      <td>5.960660e+06</td>\n",
              "      <td>5.962924e+06</td>\n",
              "      <td>4.421820e+06</td>\n",
              "    </tr>\n",
              "    <tr>\n",
              "      <th>mean</th>\n",
              "      <td>7.155425e+06</td>\n",
              "      <td>1.234930e+06</td>\n",
              "      <td>2.581440e+01</td>\n",
              "      <td>2.976042e+01</td>\n",
              "      <td>1.155833e+05</td>\n",
              "    </tr>\n",
              "    <tr>\n",
              "      <th>std</th>\n",
              "      <td>3.920784e+06</td>\n",
              "      <td>1.623020e+05</td>\n",
              "      <td>1.359566e+01</td>\n",
              "      <td>1.198038e+01</td>\n",
              "      <td>2.000066e+05</td>\n",
              "    </tr>\n",
              "    <tr>\n",
              "      <th>min</th>\n",
              "      <td>0.000000e+00</td>\n",
              "      <td>1.589100e+04</td>\n",
              "      <td>1.000000e+00</td>\n",
              "      <td>2.000000e+00</td>\n",
              "      <td>1.202730e+03</td>\n",
              "    </tr>\n",
              "    <tr>\n",
              "      <th>25%</th>\n",
              "      <td>4.240386e+06</td>\n",
              "      <td>1.112532e+06</td>\n",
              "      <td>1.300000e+01</td>\n",
              "      <td>2.200000e+01</td>\n",
              "      <td>6.141532e+04</td>\n",
              "    </tr>\n",
              "    <tr>\n",
              "      <th>50%</th>\n",
              "      <td>7.499346e+06</td>\n",
              "      <td>1.231097e+06</td>\n",
              "      <td>2.800000e+01</td>\n",
              "      <td>2.500000e+01</td>\n",
              "      <td>8.844147e+04</td>\n",
              "    </tr>\n",
              "    <tr>\n",
              "      <th>75%</th>\n",
              "      <td>1.020142e+07</td>\n",
              "      <td>1.352339e+06</td>\n",
              "      <td>3.600000e+01</td>\n",
              "      <td>3.400000e+01</td>\n",
              "      <td>1.313092e+05</td>\n",
              "    </tr>\n",
              "    <tr>\n",
              "      <th>max</th>\n",
              "      <td>1.364731e+07</td>\n",
              "      <td>1.553689e+06</td>\n",
              "      <td>5.200000e+01</td>\n",
              "      <td>1.050000e+02</td>\n",
              "      <td>2.889440e+07</td>\n",
              "    </tr>\n",
              "  </tbody>\n",
              "</table>\n",
              "</div>\n",
              "      <button class=\"colab-df-convert\" onclick=\"convertToInteractive('df-a4d9b519-e8a6-49df-ac6f-41f7c4af87fb')\"\n",
              "              title=\"Convert this dataframe to an interactive table.\"\n",
              "              style=\"display:none;\">\n",
              "        \n",
              "  <svg xmlns=\"http://www.w3.org/2000/svg\" height=\"24px\"viewBox=\"0 0 24 24\"\n",
              "       width=\"24px\">\n",
              "    <path d=\"M0 0h24v24H0V0z\" fill=\"none\"/>\n",
              "    <path d=\"M18.56 5.44l.94 2.06.94-2.06 2.06-.94-2.06-.94-.94-2.06-.94 2.06-2.06.94zm-11 1L8.5 8.5l.94-2.06 2.06-.94-2.06-.94L8.5 2.5l-.94 2.06-2.06.94zm10 10l.94 2.06.94-2.06 2.06-.94-2.06-.94-.94-2.06-.94 2.06-2.06.94z\"/><path d=\"M17.41 7.96l-1.37-1.37c-.4-.4-.92-.59-1.43-.59-.52 0-1.04.2-1.43.59L10.3 9.45l-7.72 7.72c-.78.78-.78 2.05 0 2.83L4 21.41c.39.39.9.59 1.41.59.51 0 1.02-.2 1.41-.59l7.78-7.78 2.81-2.81c.8-.78.8-2.07 0-2.86zM5.41 20L4 18.59l7.72-7.72 1.47 1.35L5.41 20z\"/>\n",
              "  </svg>\n",
              "      </button>\n",
              "      \n",
              "  <style>\n",
              "    .colab-df-container {\n",
              "      display:flex;\n",
              "      flex-wrap:wrap;\n",
              "      gap: 12px;\n",
              "    }\n",
              "\n",
              "    .colab-df-convert {\n",
              "      background-color: #E8F0FE;\n",
              "      border: none;\n",
              "      border-radius: 50%;\n",
              "      cursor: pointer;\n",
              "      display: none;\n",
              "      fill: #1967D2;\n",
              "      height: 32px;\n",
              "      padding: 0 0 0 0;\n",
              "      width: 32px;\n",
              "    }\n",
              "\n",
              "    .colab-df-convert:hover {\n",
              "      background-color: #E2EBFA;\n",
              "      box-shadow: 0px 1px 2px rgba(60, 64, 67, 0.3), 0px 1px 3px 1px rgba(60, 64, 67, 0.15);\n",
              "      fill: #174EA6;\n",
              "    }\n",
              "\n",
              "    [theme=dark] .colab-df-convert {\n",
              "      background-color: #3B4455;\n",
              "      fill: #D2E3FC;\n",
              "    }\n",
              "\n",
              "    [theme=dark] .colab-df-convert:hover {\n",
              "      background-color: #434B5C;\n",
              "      box-shadow: 0px 1px 3px 1px rgba(0, 0, 0, 0.15);\n",
              "      filter: drop-shadow(0px 1px 2px rgba(0, 0, 0, 0.3));\n",
              "      fill: #FFFFFF;\n",
              "    }\n",
              "  </style>\n",
              "\n",
              "      <script>\n",
              "        const buttonEl =\n",
              "          document.querySelector('#df-a4d9b519-e8a6-49df-ac6f-41f7c4af87fb button.colab-df-convert');\n",
              "        buttonEl.style.display =\n",
              "          google.colab.kernel.accessAllowed ? 'block' : 'none';\n",
              "\n",
              "        async function convertToInteractive(key) {\n",
              "          const element = document.querySelector('#df-a4d9b519-e8a6-49df-ac6f-41f7c4af87fb');\n",
              "          const dataTable =\n",
              "            await google.colab.kernel.invokeFunction('convertToInteractive',\n",
              "                                                     [key], {});\n",
              "          if (!dataTable) return;\n",
              "\n",
              "          const docLinkHtml = 'Like what you see? Visit the ' +\n",
              "            '<a target=\"_blank\" href=https://colab.research.google.com/notebooks/data_table.ipynb>data table notebook</a>'\n",
              "            + ' to learn more about interactive tables.';\n",
              "          element.innerHTML = '';\n",
              "          dataTable['output_type'] = 'display_data';\n",
              "          await google.colab.output.renderOutput(dataTable, element);\n",
              "          const docLink = document.createElement('div');\n",
              "          docLink.innerHTML = docLinkHtml;\n",
              "          element.appendChild(docLink);\n",
              "        }\n",
              "      </script>\n",
              "    </div>\n",
              "  </div>\n",
              "  "
            ]
          },
          "metadata": {},
          "execution_count": 23
        }
      ]
    },
    {
      "cell_type": "code",
      "source": [
        "customer_sociodemographics_raw.isnull().sum()"
      ],
      "metadata": {
        "colab": {
          "base_uri": "https://localhost:8080/"
        },
        "id": "TD_ZD3e_yn_f",
        "outputId": "6b5be79f-ee96-4ca6-fefa-3844b72f4793"
      },
      "execution_count": 24,
      "outputs": [
        {
          "output_type": "execute_result",
          "data": {
            "text/plain": [
              "Unnamed: 0            0\n",
              "pk_cid                0\n",
              "pk_partition          0\n",
              "country_id            0\n",
              "region_code        2264\n",
              "gender               25\n",
              "age                   0\n",
              "deceased              0\n",
              "salary          1541104\n",
              "dtype: int64"
            ]
          },
          "metadata": {},
          "execution_count": 24
        }
      ]
    },
    {
      "cell_type": "code",
      "source": [
        "customer_sociodemographics_raw[\"country_id\"].value_counts()"
      ],
      "metadata": {
        "colab": {
          "base_uri": "https://localhost:8080/"
        },
        "id": "veQVxGbAyn_f",
        "outputId": "d3fb2e4b-707d-4c83-ac83-2369a570b027"
      },
      "execution_count": 25,
      "outputs": [
        {
          "output_type": "execute_result",
          "data": {
            "text/plain": [
              "ES    5960672\n",
              "GB        441\n",
              "FR        225\n",
              "DE        199\n",
              "US        195\n",
              "CH        194\n",
              "BR         87\n",
              "BE         81\n",
              "VE         79\n",
              "IE         68\n",
              "MX         58\n",
              "AT         51\n",
              "AR         51\n",
              "PL         49\n",
              "IT         45\n",
              "MA         34\n",
              "CL         30\n",
              "CN         28\n",
              "CA         22\n",
              "LU         17\n",
              "ET         17\n",
              "QA         17\n",
              "CI         17\n",
              "SA         17\n",
              "CM         17\n",
              "SN         17\n",
              "MR         17\n",
              "NO         17\n",
              "RU         17\n",
              "CO         17\n",
              "GA         17\n",
              "GT         17\n",
              "DO         17\n",
              "SE         16\n",
              "DJ         11\n",
              "PT         11\n",
              "JM         11\n",
              "RO          9\n",
              "HU          8\n",
              "DZ          7\n",
              "PE          4\n",
              "Name: country_id, dtype: int64"
            ]
          },
          "metadata": {},
          "execution_count": 25
        }
      ]
    },
    {
      "cell_type": "code",
      "source": [
        "# ACCIONES CUSTOMER SOCIODEMOGRAPHICS\n",
        "\n",
        "# Gestionar nulos: (Culebra: tenemos modelo de clasificación así que lo que haremos será ponerles valores extremos)\n",
        "#     region_code\n",
        "#     gender\n",
        "#     salary\n",
        "# gender > Transformar a 1 y 0\n",
        "# deceased > Transformar a 1 y 0\n",
        "# country_id > Agrupar ES, OTHERS\n",
        "\n"
      ],
      "metadata": {
        "id": "sc0F1_4wyn_f"
      },
      "execution_count": 26,
      "outputs": []
    },
    {
      "cell_type": "markdown",
      "source": [
        "### Customer Commercial Activity"
      ],
      "metadata": {
        "id": "xLmTCU9FsnzR"
      }
    },
    {
      "cell_type": "markdown",
      "source": [
        "* pk_cid = Identificador de cliente\n",
        "* pk_partition =\tIdentificador de Partición. Mensualmente se ingesta en la tabla una partición con el estado de la base de clientes.\n",
        "* entry_channel =\tCanal de captación del cliente\n",
        "* entry_date =\tFecha en la que realizó la primera contratación a través de easyMoney\n",
        "* segment =\tSegmento comercial del cliente\n",
        "* active_customer =\tIndicador de actividad del cliente en la app EasyMoney"
      ],
      "metadata": {
        "id": "Y8ibAYQ5twNd"
      }
    },
    {
      "cell_type": "code",
      "source": [
        "customer_commercial_activity_raw.info()"
      ],
      "metadata": {
        "colab": {
          "base_uri": "https://localhost:8080/"
        },
        "id": "rX8I1oKUsv7d",
        "outputId": "23b196d4-9b02-4ca5-cf09-106e17bd511a"
      },
      "execution_count": 27,
      "outputs": [
        {
          "output_type": "stream",
          "name": "stdout",
          "text": [
            "<class 'pandas.core.frame.DataFrame'>\n",
            "RangeIndex: 5962924 entries, 0 to 5962923\n",
            "Data columns (total 7 columns):\n",
            " #   Column           Dtype  \n",
            "---  ------           -----  \n",
            " 0   Unnamed: 0       int64  \n",
            " 1   pk_cid           int64  \n",
            " 2   pk_partition     object \n",
            " 3   entry_date       object \n",
            " 4   entry_channel    object \n",
            " 5   active_customer  float64\n",
            " 6   segment          object \n",
            "dtypes: float64(1), int64(2), object(4)\n",
            "memory usage: 318.5+ MB\n"
          ]
        }
      ]
    },
    {
      "cell_type": "code",
      "source": [
        "customer_commercial_activity_raw.head()"
      ],
      "metadata": {
        "colab": {
          "base_uri": "https://localhost:8080/",
          "height": 206
        },
        "id": "LvZ5Sffrqtql",
        "outputId": "987d9019-aa39-4fb6-b6ce-587b4b594c38"
      },
      "execution_count": 28,
      "outputs": [
        {
          "output_type": "execute_result",
          "data": {
            "text/plain": [
              "   Unnamed: 0   pk_cid pk_partition entry_date entry_channel  active_customer  \\\n",
              "0           0  1375586      2018-01    2018-01           KHL              1.0   \n",
              "1           1  1050611      2018-01    2015-08           KHE              0.0   \n",
              "2           2  1050612      2018-01    2015-08           KHE              0.0   \n",
              "3           3  1050613      2018-01    2015-08           KHD              0.0   \n",
              "4           4  1050614      2018-01    2015-08           KHE              1.0   \n",
              "\n",
              "              segment  \n",
              "0   02 - PARTICULARES  \n",
              "1  03 - UNIVERSITARIO  \n",
              "2  03 - UNIVERSITARIO  \n",
              "3  03 - UNIVERSITARIO  \n",
              "4  03 - UNIVERSITARIO  "
            ],
            "text/html": [
              "\n",
              "  <div id=\"df-c2d84cb6-c4b5-414e-bc55-b2f84e14d0e9\">\n",
              "    <div class=\"colab-df-container\">\n",
              "      <div>\n",
              "<style scoped>\n",
              "    .dataframe tbody tr th:only-of-type {\n",
              "        vertical-align: middle;\n",
              "    }\n",
              "\n",
              "    .dataframe tbody tr th {\n",
              "        vertical-align: top;\n",
              "    }\n",
              "\n",
              "    .dataframe thead th {\n",
              "        text-align: right;\n",
              "    }\n",
              "</style>\n",
              "<table border=\"1\" class=\"dataframe\">\n",
              "  <thead>\n",
              "    <tr style=\"text-align: right;\">\n",
              "      <th></th>\n",
              "      <th>Unnamed: 0</th>\n",
              "      <th>pk_cid</th>\n",
              "      <th>pk_partition</th>\n",
              "      <th>entry_date</th>\n",
              "      <th>entry_channel</th>\n",
              "      <th>active_customer</th>\n",
              "      <th>segment</th>\n",
              "    </tr>\n",
              "  </thead>\n",
              "  <tbody>\n",
              "    <tr>\n",
              "      <th>0</th>\n",
              "      <td>0</td>\n",
              "      <td>1375586</td>\n",
              "      <td>2018-01</td>\n",
              "      <td>2018-01</td>\n",
              "      <td>KHL</td>\n",
              "      <td>1.0</td>\n",
              "      <td>02 - PARTICULARES</td>\n",
              "    </tr>\n",
              "    <tr>\n",
              "      <th>1</th>\n",
              "      <td>1</td>\n",
              "      <td>1050611</td>\n",
              "      <td>2018-01</td>\n",
              "      <td>2015-08</td>\n",
              "      <td>KHE</td>\n",
              "      <td>0.0</td>\n",
              "      <td>03 - UNIVERSITARIO</td>\n",
              "    </tr>\n",
              "    <tr>\n",
              "      <th>2</th>\n",
              "      <td>2</td>\n",
              "      <td>1050612</td>\n",
              "      <td>2018-01</td>\n",
              "      <td>2015-08</td>\n",
              "      <td>KHE</td>\n",
              "      <td>0.0</td>\n",
              "      <td>03 - UNIVERSITARIO</td>\n",
              "    </tr>\n",
              "    <tr>\n",
              "      <th>3</th>\n",
              "      <td>3</td>\n",
              "      <td>1050613</td>\n",
              "      <td>2018-01</td>\n",
              "      <td>2015-08</td>\n",
              "      <td>KHD</td>\n",
              "      <td>0.0</td>\n",
              "      <td>03 - UNIVERSITARIO</td>\n",
              "    </tr>\n",
              "    <tr>\n",
              "      <th>4</th>\n",
              "      <td>4</td>\n",
              "      <td>1050614</td>\n",
              "      <td>2018-01</td>\n",
              "      <td>2015-08</td>\n",
              "      <td>KHE</td>\n",
              "      <td>1.0</td>\n",
              "      <td>03 - UNIVERSITARIO</td>\n",
              "    </tr>\n",
              "  </tbody>\n",
              "</table>\n",
              "</div>\n",
              "      <button class=\"colab-df-convert\" onclick=\"convertToInteractive('df-c2d84cb6-c4b5-414e-bc55-b2f84e14d0e9')\"\n",
              "              title=\"Convert this dataframe to an interactive table.\"\n",
              "              style=\"display:none;\">\n",
              "        \n",
              "  <svg xmlns=\"http://www.w3.org/2000/svg\" height=\"24px\"viewBox=\"0 0 24 24\"\n",
              "       width=\"24px\">\n",
              "    <path d=\"M0 0h24v24H0V0z\" fill=\"none\"/>\n",
              "    <path d=\"M18.56 5.44l.94 2.06.94-2.06 2.06-.94-2.06-.94-.94-2.06-.94 2.06-2.06.94zm-11 1L8.5 8.5l.94-2.06 2.06-.94-2.06-.94L8.5 2.5l-.94 2.06-2.06.94zm10 10l.94 2.06.94-2.06 2.06-.94-2.06-.94-.94-2.06-.94 2.06-2.06.94z\"/><path d=\"M17.41 7.96l-1.37-1.37c-.4-.4-.92-.59-1.43-.59-.52 0-1.04.2-1.43.59L10.3 9.45l-7.72 7.72c-.78.78-.78 2.05 0 2.83L4 21.41c.39.39.9.59 1.41.59.51 0 1.02-.2 1.41-.59l7.78-7.78 2.81-2.81c.8-.78.8-2.07 0-2.86zM5.41 20L4 18.59l7.72-7.72 1.47 1.35L5.41 20z\"/>\n",
              "  </svg>\n",
              "      </button>\n",
              "      \n",
              "  <style>\n",
              "    .colab-df-container {\n",
              "      display:flex;\n",
              "      flex-wrap:wrap;\n",
              "      gap: 12px;\n",
              "    }\n",
              "\n",
              "    .colab-df-convert {\n",
              "      background-color: #E8F0FE;\n",
              "      border: none;\n",
              "      border-radius: 50%;\n",
              "      cursor: pointer;\n",
              "      display: none;\n",
              "      fill: #1967D2;\n",
              "      height: 32px;\n",
              "      padding: 0 0 0 0;\n",
              "      width: 32px;\n",
              "    }\n",
              "\n",
              "    .colab-df-convert:hover {\n",
              "      background-color: #E2EBFA;\n",
              "      box-shadow: 0px 1px 2px rgba(60, 64, 67, 0.3), 0px 1px 3px 1px rgba(60, 64, 67, 0.15);\n",
              "      fill: #174EA6;\n",
              "    }\n",
              "\n",
              "    [theme=dark] .colab-df-convert {\n",
              "      background-color: #3B4455;\n",
              "      fill: #D2E3FC;\n",
              "    }\n",
              "\n",
              "    [theme=dark] .colab-df-convert:hover {\n",
              "      background-color: #434B5C;\n",
              "      box-shadow: 0px 1px 3px 1px rgba(0, 0, 0, 0.15);\n",
              "      filter: drop-shadow(0px 1px 2px rgba(0, 0, 0, 0.3));\n",
              "      fill: #FFFFFF;\n",
              "    }\n",
              "  </style>\n",
              "\n",
              "      <script>\n",
              "        const buttonEl =\n",
              "          document.querySelector('#df-c2d84cb6-c4b5-414e-bc55-b2f84e14d0e9 button.colab-df-convert');\n",
              "        buttonEl.style.display =\n",
              "          google.colab.kernel.accessAllowed ? 'block' : 'none';\n",
              "\n",
              "        async function convertToInteractive(key) {\n",
              "          const element = document.querySelector('#df-c2d84cb6-c4b5-414e-bc55-b2f84e14d0e9');\n",
              "          const dataTable =\n",
              "            await google.colab.kernel.invokeFunction('convertToInteractive',\n",
              "                                                     [key], {});\n",
              "          if (!dataTable) return;\n",
              "\n",
              "          const docLinkHtml = 'Like what you see? Visit the ' +\n",
              "            '<a target=\"_blank\" href=https://colab.research.google.com/notebooks/data_table.ipynb>data table notebook</a>'\n",
              "            + ' to learn more about interactive tables.';\n",
              "          element.innerHTML = '';\n",
              "          dataTable['output_type'] = 'display_data';\n",
              "          await google.colab.output.renderOutput(dataTable, element);\n",
              "          const docLink = document.createElement('div');\n",
              "          docLink.innerHTML = docLinkHtml;\n",
              "          element.appendChild(docLink);\n",
              "        }\n",
              "      </script>\n",
              "    </div>\n",
              "  </div>\n",
              "  "
            ]
          },
          "metadata": {},
          "execution_count": 28
        }
      ]
    },
    {
      "cell_type": "code",
      "source": [
        "customer_commercial_activity_raw.describe(include = ['object'])"
      ],
      "metadata": {
        "colab": {
          "base_uri": "https://localhost:8080/",
          "height": 175
        },
        "id": "J2_ZVEmwv362",
        "outputId": "82a0be81-5dc1-4439-ef12-07fcb88d783d"
      },
      "execution_count": 29,
      "outputs": [
        {
          "output_type": "execute_result",
          "data": {
            "text/plain": [
              "       pk_partition entry_date entry_channel             segment\n",
              "count       5962924    5962924       5829891             5828980\n",
              "unique           17         53            68                   3\n",
              "top         2019-05    2016-10           KHE  03 - UNIVERSITARIO\n",
              "freq         442995     382473       3113947             3900166"
            ],
            "text/html": [
              "\n",
              "  <div id=\"df-4696de4b-626f-4282-9fe8-5c217e1e869c\">\n",
              "    <div class=\"colab-df-container\">\n",
              "      <div>\n",
              "<style scoped>\n",
              "    .dataframe tbody tr th:only-of-type {\n",
              "        vertical-align: middle;\n",
              "    }\n",
              "\n",
              "    .dataframe tbody tr th {\n",
              "        vertical-align: top;\n",
              "    }\n",
              "\n",
              "    .dataframe thead th {\n",
              "        text-align: right;\n",
              "    }\n",
              "</style>\n",
              "<table border=\"1\" class=\"dataframe\">\n",
              "  <thead>\n",
              "    <tr style=\"text-align: right;\">\n",
              "      <th></th>\n",
              "      <th>pk_partition</th>\n",
              "      <th>entry_date</th>\n",
              "      <th>entry_channel</th>\n",
              "      <th>segment</th>\n",
              "    </tr>\n",
              "  </thead>\n",
              "  <tbody>\n",
              "    <tr>\n",
              "      <th>count</th>\n",
              "      <td>5962924</td>\n",
              "      <td>5962924</td>\n",
              "      <td>5829891</td>\n",
              "      <td>5828980</td>\n",
              "    </tr>\n",
              "    <tr>\n",
              "      <th>unique</th>\n",
              "      <td>17</td>\n",
              "      <td>53</td>\n",
              "      <td>68</td>\n",
              "      <td>3</td>\n",
              "    </tr>\n",
              "    <tr>\n",
              "      <th>top</th>\n",
              "      <td>2019-05</td>\n",
              "      <td>2016-10</td>\n",
              "      <td>KHE</td>\n",
              "      <td>03 - UNIVERSITARIO</td>\n",
              "    </tr>\n",
              "    <tr>\n",
              "      <th>freq</th>\n",
              "      <td>442995</td>\n",
              "      <td>382473</td>\n",
              "      <td>3113947</td>\n",
              "      <td>3900166</td>\n",
              "    </tr>\n",
              "  </tbody>\n",
              "</table>\n",
              "</div>\n",
              "      <button class=\"colab-df-convert\" onclick=\"convertToInteractive('df-4696de4b-626f-4282-9fe8-5c217e1e869c')\"\n",
              "              title=\"Convert this dataframe to an interactive table.\"\n",
              "              style=\"display:none;\">\n",
              "        \n",
              "  <svg xmlns=\"http://www.w3.org/2000/svg\" height=\"24px\"viewBox=\"0 0 24 24\"\n",
              "       width=\"24px\">\n",
              "    <path d=\"M0 0h24v24H0V0z\" fill=\"none\"/>\n",
              "    <path d=\"M18.56 5.44l.94 2.06.94-2.06 2.06-.94-2.06-.94-.94-2.06-.94 2.06-2.06.94zm-11 1L8.5 8.5l.94-2.06 2.06-.94-2.06-.94L8.5 2.5l-.94 2.06-2.06.94zm10 10l.94 2.06.94-2.06 2.06-.94-2.06-.94-.94-2.06-.94 2.06-2.06.94z\"/><path d=\"M17.41 7.96l-1.37-1.37c-.4-.4-.92-.59-1.43-.59-.52 0-1.04.2-1.43.59L10.3 9.45l-7.72 7.72c-.78.78-.78 2.05 0 2.83L4 21.41c.39.39.9.59 1.41.59.51 0 1.02-.2 1.41-.59l7.78-7.78 2.81-2.81c.8-.78.8-2.07 0-2.86zM5.41 20L4 18.59l7.72-7.72 1.47 1.35L5.41 20z\"/>\n",
              "  </svg>\n",
              "      </button>\n",
              "      \n",
              "  <style>\n",
              "    .colab-df-container {\n",
              "      display:flex;\n",
              "      flex-wrap:wrap;\n",
              "      gap: 12px;\n",
              "    }\n",
              "\n",
              "    .colab-df-convert {\n",
              "      background-color: #E8F0FE;\n",
              "      border: none;\n",
              "      border-radius: 50%;\n",
              "      cursor: pointer;\n",
              "      display: none;\n",
              "      fill: #1967D2;\n",
              "      height: 32px;\n",
              "      padding: 0 0 0 0;\n",
              "      width: 32px;\n",
              "    }\n",
              "\n",
              "    .colab-df-convert:hover {\n",
              "      background-color: #E2EBFA;\n",
              "      box-shadow: 0px 1px 2px rgba(60, 64, 67, 0.3), 0px 1px 3px 1px rgba(60, 64, 67, 0.15);\n",
              "      fill: #174EA6;\n",
              "    }\n",
              "\n",
              "    [theme=dark] .colab-df-convert {\n",
              "      background-color: #3B4455;\n",
              "      fill: #D2E3FC;\n",
              "    }\n",
              "\n",
              "    [theme=dark] .colab-df-convert:hover {\n",
              "      background-color: #434B5C;\n",
              "      box-shadow: 0px 1px 3px 1px rgba(0, 0, 0, 0.15);\n",
              "      filter: drop-shadow(0px 1px 2px rgba(0, 0, 0, 0.3));\n",
              "      fill: #FFFFFF;\n",
              "    }\n",
              "  </style>\n",
              "\n",
              "      <script>\n",
              "        const buttonEl =\n",
              "          document.querySelector('#df-4696de4b-626f-4282-9fe8-5c217e1e869c button.colab-df-convert');\n",
              "        buttonEl.style.display =\n",
              "          google.colab.kernel.accessAllowed ? 'block' : 'none';\n",
              "\n",
              "        async function convertToInteractive(key) {\n",
              "          const element = document.querySelector('#df-4696de4b-626f-4282-9fe8-5c217e1e869c');\n",
              "          const dataTable =\n",
              "            await google.colab.kernel.invokeFunction('convertToInteractive',\n",
              "                                                     [key], {});\n",
              "          if (!dataTable) return;\n",
              "\n",
              "          const docLinkHtml = 'Like what you see? Visit the ' +\n",
              "            '<a target=\"_blank\" href=https://colab.research.google.com/notebooks/data_table.ipynb>data table notebook</a>'\n",
              "            + ' to learn more about interactive tables.';\n",
              "          element.innerHTML = '';\n",
              "          dataTable['output_type'] = 'display_data';\n",
              "          await google.colab.output.renderOutput(dataTable, element);\n",
              "          const docLink = document.createElement('div');\n",
              "          docLink.innerHTML = docLinkHtml;\n",
              "          element.appendChild(docLink);\n",
              "        }\n",
              "      </script>\n",
              "    </div>\n",
              "  </div>\n",
              "  "
            ]
          },
          "metadata": {},
          "execution_count": 29
        }
      ]
    },
    {
      "cell_type": "code",
      "source": [
        "customer_commercial_activity_raw.describe(exclude = ['object'])"
      ],
      "metadata": {
        "colab": {
          "base_uri": "https://localhost:8080/",
          "height": 300
        },
        "id": "5y43pnDMv8HJ",
        "outputId": "d659500d-9cb8-4e75-ffac-1b01426b9c21"
      },
      "execution_count": 30,
      "outputs": [
        {
          "output_type": "execute_result",
          "data": {
            "text/plain": [
              "         Unnamed: 0        pk_cid  active_customer\n",
              "count  5.962924e+06  5.962924e+06     5.962924e+06\n",
              "mean   7.155425e+06  1.234930e+06     4.033845e-01\n",
              "std    3.920784e+06  1.623020e+05     4.905767e-01\n",
              "min    0.000000e+00  1.589100e+04     0.000000e+00\n",
              "25%    4.240386e+06  1.112532e+06     0.000000e+00\n",
              "50%    7.499346e+06  1.231097e+06     0.000000e+00\n",
              "75%    1.020142e+07  1.352339e+06     1.000000e+00\n",
              "max    1.364731e+07  1.553689e+06     1.000000e+00"
            ],
            "text/html": [
              "\n",
              "  <div id=\"df-e54cb85b-99da-42bb-abca-321682805e6f\">\n",
              "    <div class=\"colab-df-container\">\n",
              "      <div>\n",
              "<style scoped>\n",
              "    .dataframe tbody tr th:only-of-type {\n",
              "        vertical-align: middle;\n",
              "    }\n",
              "\n",
              "    .dataframe tbody tr th {\n",
              "        vertical-align: top;\n",
              "    }\n",
              "\n",
              "    .dataframe thead th {\n",
              "        text-align: right;\n",
              "    }\n",
              "</style>\n",
              "<table border=\"1\" class=\"dataframe\">\n",
              "  <thead>\n",
              "    <tr style=\"text-align: right;\">\n",
              "      <th></th>\n",
              "      <th>Unnamed: 0</th>\n",
              "      <th>pk_cid</th>\n",
              "      <th>active_customer</th>\n",
              "    </tr>\n",
              "  </thead>\n",
              "  <tbody>\n",
              "    <tr>\n",
              "      <th>count</th>\n",
              "      <td>5.962924e+06</td>\n",
              "      <td>5.962924e+06</td>\n",
              "      <td>5.962924e+06</td>\n",
              "    </tr>\n",
              "    <tr>\n",
              "      <th>mean</th>\n",
              "      <td>7.155425e+06</td>\n",
              "      <td>1.234930e+06</td>\n",
              "      <td>4.033845e-01</td>\n",
              "    </tr>\n",
              "    <tr>\n",
              "      <th>std</th>\n",
              "      <td>3.920784e+06</td>\n",
              "      <td>1.623020e+05</td>\n",
              "      <td>4.905767e-01</td>\n",
              "    </tr>\n",
              "    <tr>\n",
              "      <th>min</th>\n",
              "      <td>0.000000e+00</td>\n",
              "      <td>1.589100e+04</td>\n",
              "      <td>0.000000e+00</td>\n",
              "    </tr>\n",
              "    <tr>\n",
              "      <th>25%</th>\n",
              "      <td>4.240386e+06</td>\n",
              "      <td>1.112532e+06</td>\n",
              "      <td>0.000000e+00</td>\n",
              "    </tr>\n",
              "    <tr>\n",
              "      <th>50%</th>\n",
              "      <td>7.499346e+06</td>\n",
              "      <td>1.231097e+06</td>\n",
              "      <td>0.000000e+00</td>\n",
              "    </tr>\n",
              "    <tr>\n",
              "      <th>75%</th>\n",
              "      <td>1.020142e+07</td>\n",
              "      <td>1.352339e+06</td>\n",
              "      <td>1.000000e+00</td>\n",
              "    </tr>\n",
              "    <tr>\n",
              "      <th>max</th>\n",
              "      <td>1.364731e+07</td>\n",
              "      <td>1.553689e+06</td>\n",
              "      <td>1.000000e+00</td>\n",
              "    </tr>\n",
              "  </tbody>\n",
              "</table>\n",
              "</div>\n",
              "      <button class=\"colab-df-convert\" onclick=\"convertToInteractive('df-e54cb85b-99da-42bb-abca-321682805e6f')\"\n",
              "              title=\"Convert this dataframe to an interactive table.\"\n",
              "              style=\"display:none;\">\n",
              "        \n",
              "  <svg xmlns=\"http://www.w3.org/2000/svg\" height=\"24px\"viewBox=\"0 0 24 24\"\n",
              "       width=\"24px\">\n",
              "    <path d=\"M0 0h24v24H0V0z\" fill=\"none\"/>\n",
              "    <path d=\"M18.56 5.44l.94 2.06.94-2.06 2.06-.94-2.06-.94-.94-2.06-.94 2.06-2.06.94zm-11 1L8.5 8.5l.94-2.06 2.06-.94-2.06-.94L8.5 2.5l-.94 2.06-2.06.94zm10 10l.94 2.06.94-2.06 2.06-.94-2.06-.94-.94-2.06-.94 2.06-2.06.94z\"/><path d=\"M17.41 7.96l-1.37-1.37c-.4-.4-.92-.59-1.43-.59-.52 0-1.04.2-1.43.59L10.3 9.45l-7.72 7.72c-.78.78-.78 2.05 0 2.83L4 21.41c.39.39.9.59 1.41.59.51 0 1.02-.2 1.41-.59l7.78-7.78 2.81-2.81c.8-.78.8-2.07 0-2.86zM5.41 20L4 18.59l7.72-7.72 1.47 1.35L5.41 20z\"/>\n",
              "  </svg>\n",
              "      </button>\n",
              "      \n",
              "  <style>\n",
              "    .colab-df-container {\n",
              "      display:flex;\n",
              "      flex-wrap:wrap;\n",
              "      gap: 12px;\n",
              "    }\n",
              "\n",
              "    .colab-df-convert {\n",
              "      background-color: #E8F0FE;\n",
              "      border: none;\n",
              "      border-radius: 50%;\n",
              "      cursor: pointer;\n",
              "      display: none;\n",
              "      fill: #1967D2;\n",
              "      height: 32px;\n",
              "      padding: 0 0 0 0;\n",
              "      width: 32px;\n",
              "    }\n",
              "\n",
              "    .colab-df-convert:hover {\n",
              "      background-color: #E2EBFA;\n",
              "      box-shadow: 0px 1px 2px rgba(60, 64, 67, 0.3), 0px 1px 3px 1px rgba(60, 64, 67, 0.15);\n",
              "      fill: #174EA6;\n",
              "    }\n",
              "\n",
              "    [theme=dark] .colab-df-convert {\n",
              "      background-color: #3B4455;\n",
              "      fill: #D2E3FC;\n",
              "    }\n",
              "\n",
              "    [theme=dark] .colab-df-convert:hover {\n",
              "      background-color: #434B5C;\n",
              "      box-shadow: 0px 1px 3px 1px rgba(0, 0, 0, 0.15);\n",
              "      filter: drop-shadow(0px 1px 2px rgba(0, 0, 0, 0.3));\n",
              "      fill: #FFFFFF;\n",
              "    }\n",
              "  </style>\n",
              "\n",
              "      <script>\n",
              "        const buttonEl =\n",
              "          document.querySelector('#df-e54cb85b-99da-42bb-abca-321682805e6f button.colab-df-convert');\n",
              "        buttonEl.style.display =\n",
              "          google.colab.kernel.accessAllowed ? 'block' : 'none';\n",
              "\n",
              "        async function convertToInteractive(key) {\n",
              "          const element = document.querySelector('#df-e54cb85b-99da-42bb-abca-321682805e6f');\n",
              "          const dataTable =\n",
              "            await google.colab.kernel.invokeFunction('convertToInteractive',\n",
              "                                                     [key], {});\n",
              "          if (!dataTable) return;\n",
              "\n",
              "          const docLinkHtml = 'Like what you see? Visit the ' +\n",
              "            '<a target=\"_blank\" href=https://colab.research.google.com/notebooks/data_table.ipynb>data table notebook</a>'\n",
              "            + ' to learn more about interactive tables.';\n",
              "          element.innerHTML = '';\n",
              "          dataTable['output_type'] = 'display_data';\n",
              "          await google.colab.output.renderOutput(dataTable, element);\n",
              "          const docLink = document.createElement('div');\n",
              "          docLink.innerHTML = docLinkHtml;\n",
              "          element.appendChild(docLink);\n",
              "        }\n",
              "      </script>\n",
              "    </div>\n",
              "  </div>\n",
              "  "
            ]
          },
          "metadata": {},
          "execution_count": 30
        }
      ]
    },
    {
      "cell_type": "code",
      "source": [
        "customer_commercial_activity_raw.isnull().sum()"
      ],
      "metadata": {
        "colab": {
          "base_uri": "https://localhost:8080/"
        },
        "id": "XYVYRJndwAYk",
        "outputId": "e5768875-7df9-4402-ac12-4c8b884323fa"
      },
      "execution_count": 31,
      "outputs": [
        {
          "output_type": "execute_result",
          "data": {
            "text/plain": [
              "Unnamed: 0              0\n",
              "pk_cid                  0\n",
              "pk_partition            0\n",
              "entry_date              0\n",
              "entry_channel      133033\n",
              "active_customer         0\n",
              "segment            133944\n",
              "dtype: int64"
            ]
          },
          "metadata": {},
          "execution_count": 31
        }
      ]
    },
    {
      "cell_type": "code",
      "source": [
        "customer_commercial_activity_raw[\"segment\"].value_counts()"
      ],
      "metadata": {
        "colab": {
          "base_uri": "https://localhost:8080/"
        },
        "id": "WbiCvHAzzem1",
        "outputId": "1df5aa56-067d-444f-f0e4-3c1ec993a4cb"
      },
      "execution_count": 32,
      "outputs": [
        {
          "output_type": "execute_result",
          "data": {
            "text/plain": [
              "03 - UNIVERSITARIO    3900166\n",
              "02 - PARTICULARES     1830875\n",
              "01 - TOP                97939\n",
              "Name: segment, dtype: int64"
            ]
          },
          "metadata": {},
          "execution_count": 32
        }
      ]
    },
    {
      "cell_type": "code",
      "source": [
        "customer_commercial_activity_raw[\"entry_channel\"].value_counts()"
      ],
      "metadata": {
        "colab": {
          "base_uri": "https://localhost:8080/"
        },
        "id": "YRVr8l9lzyGL",
        "outputId": "1a6d68c7-b406-46c1-a214-6b8c256857fc"
      },
      "execution_count": 33,
      "outputs": [
        {
          "output_type": "execute_result",
          "data": {
            "text/plain": [
              "KHE    3113947\n",
              "KFC     890620\n",
              "KHQ     590280\n",
              "KAT     416084\n",
              "KHK     230197\n",
              "KHM     176591\n",
              "KHN     108434\n",
              "KFA      79020\n",
              "KHD      75899\n",
              "RED      60601\n",
              "KHL      41736\n",
              "KHF      20657\n",
              "KHO       8247\n",
              "KAZ       5635\n",
              "KHC       5241\n",
              "KBG       1662\n",
              "KEH        728\n",
              "KHP        691\n",
              "007        613\n",
              "013        397\n",
              "KAG        335\n",
              "KAS        305\n",
              "KBZ        198\n",
              "KAA        193\n",
              "KAR        157\n",
              "KAY        149\n",
              "KAF        123\n",
              "KAB         95\n",
              "KFD         91\n",
              "KCC         89\n",
              "KAW         65\n",
              "KAQ         52\n",
              "KDH         51\n",
              "KAE         48\n",
              "KCH         48\n",
              "KCB         47\n",
              "KAD         45\n",
              "KAM         43\n",
              "KAH         40\n",
              "KAK         34\n",
              "KAJ         33\n",
              "KDT         23\n",
              "KFF         22\n",
              "KBO         21\n",
              "KEY         20\n",
              "KGC         17\n",
              "004         17\n",
              "KFS         17\n",
              "KCL         17\n",
              "KBE         17\n",
              "KBH         17\n",
              "KFK         17\n",
              "KGN         17\n",
              "KCI         17\n",
              "KGX         17\n",
              "KDR         16\n",
              "KFL         13\n",
              "KBW         12\n",
              "KBU         11\n",
              "KAI         11\n",
              "KCK         11\n",
              "KBY         11\n",
              "KES         11\n",
              "KEJ          8\n",
              "KHS          5\n",
              "KDA          2\n",
              "KFP          2\n",
              "KDS          1\n",
              "Name: entry_channel, dtype: int64"
            ]
          },
          "metadata": {},
          "execution_count": 33
        }
      ]
    },
    {
      "cell_type": "code",
      "source": [
        "# ACCIONES CUSTOMER COMMERCIAL ACTIVITY**\n",
        "\n",
        "\n",
        "# Eliminar columna Unnamed\n",
        "# Cambiar los identificadores (pk_cid) a variable categórica\n",
        "# Cambiar tipo de active_customer a boolean\n",
        "# Establecer primary key como index?\n",
        "# Gestionar nulos: \n",
        "#     entry_channel      \n",
        "#     segment            \n",
        "# Cambiar tipo de entry_date a fecha\n",
        "# Disgregar entry_date en mes, año, día, día de la semana (otros: trimestre, fin de semana, festivo...)\n",
        "# entry_channel > OneHotEncoding o FrecuencyEncoding ( agrupar 11-12 etiquetas + OTHERS)\n",
        "# segment > OneHotEncoding"
      ],
      "metadata": {
        "id": "Bpqae0fLwJVO"
      },
      "execution_count": 34,
      "outputs": []
    },
    {
      "cell_type": "markdown",
      "source": [
        "### Customer Products"
      ],
      "metadata": {
        "id": "BvMxaUfLwYxC"
      }
    },
    {
      "cell_type": "markdown",
      "source": [
        "- pk_cid =\tIdentificador de cliente\n",
        "- pk_partition =\tIdentificador de Partición. Mensualmente se ingesta en la tabla una partición con el estado de la base de clientes.\n",
        "- credit_card =\tTenencia de tarjetas de crédito\n",
        "- debit_card =\tTenencia de tarjetas de débito\n",
        "- em_account_p =\tTenencia de Cuenta easyMoney+\n",
        "- em_account_pp =\tTenencia de Cuenta easyMoney++\n",
        "- em_acount =\tTenencia de Cuenta easyMoney\n",
        "- emc_account =\tTenencia de Cuenta easyMoney Crypto\n",
        "- funds =\tTenencia de Fondos de inversión\n",
        "- loans =\tTenencia de Préstamos\n",
        "- long_term_deposit =\tTenencia de Depósitos a largo plazo\n",
        "- mortgage =\tTenencia de Mortgage\n",
        "- payroll =\tTenencia de Domiciliaciones \n",
        "- payroll_account =\tTenencia de Cuenta bonificada por domiciliaciones\n",
        "- pension_plan =\tTenencia de Plan de pensiones\n",
        "- securities =\tTenencia de Valores\n",
        "- short_term_deposit =\tTenencia de Short-term deposits"
      ],
      "metadata": {
        "id": "GAvoRxXKwYxC"
      }
    },
    {
      "cell_type": "code",
      "source": [
        "customer_products_raw.info()"
      ],
      "metadata": {
        "colab": {
          "base_uri": "https://localhost:8080/"
        },
        "outputId": "a081e9b3-dd6f-434e-c7a2-98a24987d8e6",
        "id": "W0orz5C7wYxD"
      },
      "execution_count": 35,
      "outputs": [
        {
          "output_type": "stream",
          "name": "stdout",
          "text": [
            "<class 'pandas.core.frame.DataFrame'>\n",
            "RangeIndex: 5962924 entries, 0 to 5962923\n",
            "Data columns (total 18 columns):\n",
            " #   Column              Dtype  \n",
            "---  ------              -----  \n",
            " 0   Unnamed: 0          int64  \n",
            " 1   pk_cid              int64  \n",
            " 2   pk_partition        object \n",
            " 3   short_term_deposit  int64  \n",
            " 4   loans               int64  \n",
            " 5   mortgage            int64  \n",
            " 6   funds               int64  \n",
            " 7   securities          int64  \n",
            " 8   long_term_deposit   int64  \n",
            " 9   em_account_pp       int64  \n",
            " 10  credit_card         int64  \n",
            " 11  payroll             float64\n",
            " 12  pension_plan        float64\n",
            " 13  payroll_account     int64  \n",
            " 14  emc_account         int64  \n",
            " 15  debit_card          int64  \n",
            " 16  em_account_p        int64  \n",
            " 17  em_acount           int64  \n",
            "dtypes: float64(2), int64(15), object(1)\n",
            "memory usage: 818.9+ MB\n"
          ]
        }
      ]
    },
    {
      "cell_type": "code",
      "source": [
        "customer_products_raw.head()"
      ],
      "metadata": {
        "colab": {
          "base_uri": "https://localhost:8080/",
          "height": 287
        },
        "outputId": "954691d1-17a9-4e04-8eee-5ec64a622cae",
        "id": "NpuDF7hPwYxD"
      },
      "execution_count": 36,
      "outputs": [
        {
          "output_type": "execute_result",
          "data": {
            "text/plain": [
              "   Unnamed: 0   pk_cid pk_partition  short_term_deposit  loans  mortgage  \\\n",
              "0           0  1375586      2018-01                   0      0         0   \n",
              "1           1  1050611      2018-01                   0      0         0   \n",
              "2           2  1050612      2018-01                   0      0         0   \n",
              "3           3  1050613      2018-01                   1      0         0   \n",
              "4           4  1050614      2018-01                   0      0         0   \n",
              "\n",
              "   funds  securities  long_term_deposit  em_account_pp  credit_card  payroll  \\\n",
              "0      0           0                  0              0            0      0.0   \n",
              "1      0           0                  0              0            0      0.0   \n",
              "2      0           0                  0              0            0      0.0   \n",
              "3      0           0                  0              0            0      0.0   \n",
              "4      0           0                  0              0            0      0.0   \n",
              "\n",
              "   pension_plan  payroll_account  emc_account  debit_card  em_account_p  \\\n",
              "0           0.0                0            0           0             0   \n",
              "1           0.0                0            0           0             0   \n",
              "2           0.0                0            0           0             0   \n",
              "3           0.0                0            0           0             0   \n",
              "4           0.0                0            0           0             0   \n",
              "\n",
              "   em_acount  \n",
              "0          1  \n",
              "1          1  \n",
              "2          1  \n",
              "3          0  \n",
              "4          1  "
            ],
            "text/html": [
              "\n",
              "  <div id=\"df-0bb3972f-4dcb-4363-9e27-4f622d46ec02\">\n",
              "    <div class=\"colab-df-container\">\n",
              "      <div>\n",
              "<style scoped>\n",
              "    .dataframe tbody tr th:only-of-type {\n",
              "        vertical-align: middle;\n",
              "    }\n",
              "\n",
              "    .dataframe tbody tr th {\n",
              "        vertical-align: top;\n",
              "    }\n",
              "\n",
              "    .dataframe thead th {\n",
              "        text-align: right;\n",
              "    }\n",
              "</style>\n",
              "<table border=\"1\" class=\"dataframe\">\n",
              "  <thead>\n",
              "    <tr style=\"text-align: right;\">\n",
              "      <th></th>\n",
              "      <th>Unnamed: 0</th>\n",
              "      <th>pk_cid</th>\n",
              "      <th>pk_partition</th>\n",
              "      <th>short_term_deposit</th>\n",
              "      <th>loans</th>\n",
              "      <th>mortgage</th>\n",
              "      <th>funds</th>\n",
              "      <th>securities</th>\n",
              "      <th>long_term_deposit</th>\n",
              "      <th>em_account_pp</th>\n",
              "      <th>credit_card</th>\n",
              "      <th>payroll</th>\n",
              "      <th>pension_plan</th>\n",
              "      <th>payroll_account</th>\n",
              "      <th>emc_account</th>\n",
              "      <th>debit_card</th>\n",
              "      <th>em_account_p</th>\n",
              "      <th>em_acount</th>\n",
              "    </tr>\n",
              "  </thead>\n",
              "  <tbody>\n",
              "    <tr>\n",
              "      <th>0</th>\n",
              "      <td>0</td>\n",
              "      <td>1375586</td>\n",
              "      <td>2018-01</td>\n",
              "      <td>0</td>\n",
              "      <td>0</td>\n",
              "      <td>0</td>\n",
              "      <td>0</td>\n",
              "      <td>0</td>\n",
              "      <td>0</td>\n",
              "      <td>0</td>\n",
              "      <td>0</td>\n",
              "      <td>0.0</td>\n",
              "      <td>0.0</td>\n",
              "      <td>0</td>\n",
              "      <td>0</td>\n",
              "      <td>0</td>\n",
              "      <td>0</td>\n",
              "      <td>1</td>\n",
              "    </tr>\n",
              "    <tr>\n",
              "      <th>1</th>\n",
              "      <td>1</td>\n",
              "      <td>1050611</td>\n",
              "      <td>2018-01</td>\n",
              "      <td>0</td>\n",
              "      <td>0</td>\n",
              "      <td>0</td>\n",
              "      <td>0</td>\n",
              "      <td>0</td>\n",
              "      <td>0</td>\n",
              "      <td>0</td>\n",
              "      <td>0</td>\n",
              "      <td>0.0</td>\n",
              "      <td>0.0</td>\n",
              "      <td>0</td>\n",
              "      <td>0</td>\n",
              "      <td>0</td>\n",
              "      <td>0</td>\n",
              "      <td>1</td>\n",
              "    </tr>\n",
              "    <tr>\n",
              "      <th>2</th>\n",
              "      <td>2</td>\n",
              "      <td>1050612</td>\n",
              "      <td>2018-01</td>\n",
              "      <td>0</td>\n",
              "      <td>0</td>\n",
              "      <td>0</td>\n",
              "      <td>0</td>\n",
              "      <td>0</td>\n",
              "      <td>0</td>\n",
              "      <td>0</td>\n",
              "      <td>0</td>\n",
              "      <td>0.0</td>\n",
              "      <td>0.0</td>\n",
              "      <td>0</td>\n",
              "      <td>0</td>\n",
              "      <td>0</td>\n",
              "      <td>0</td>\n",
              "      <td>1</td>\n",
              "    </tr>\n",
              "    <tr>\n",
              "      <th>3</th>\n",
              "      <td>3</td>\n",
              "      <td>1050613</td>\n",
              "      <td>2018-01</td>\n",
              "      <td>1</td>\n",
              "      <td>0</td>\n",
              "      <td>0</td>\n",
              "      <td>0</td>\n",
              "      <td>0</td>\n",
              "      <td>0</td>\n",
              "      <td>0</td>\n",
              "      <td>0</td>\n",
              "      <td>0.0</td>\n",
              "      <td>0.0</td>\n",
              "      <td>0</td>\n",
              "      <td>0</td>\n",
              "      <td>0</td>\n",
              "      <td>0</td>\n",
              "      <td>0</td>\n",
              "    </tr>\n",
              "    <tr>\n",
              "      <th>4</th>\n",
              "      <td>4</td>\n",
              "      <td>1050614</td>\n",
              "      <td>2018-01</td>\n",
              "      <td>0</td>\n",
              "      <td>0</td>\n",
              "      <td>0</td>\n",
              "      <td>0</td>\n",
              "      <td>0</td>\n",
              "      <td>0</td>\n",
              "      <td>0</td>\n",
              "      <td>0</td>\n",
              "      <td>0.0</td>\n",
              "      <td>0.0</td>\n",
              "      <td>0</td>\n",
              "      <td>0</td>\n",
              "      <td>0</td>\n",
              "      <td>0</td>\n",
              "      <td>1</td>\n",
              "    </tr>\n",
              "  </tbody>\n",
              "</table>\n",
              "</div>\n",
              "      <button class=\"colab-df-convert\" onclick=\"convertToInteractive('df-0bb3972f-4dcb-4363-9e27-4f622d46ec02')\"\n",
              "              title=\"Convert this dataframe to an interactive table.\"\n",
              "              style=\"display:none;\">\n",
              "        \n",
              "  <svg xmlns=\"http://www.w3.org/2000/svg\" height=\"24px\"viewBox=\"0 0 24 24\"\n",
              "       width=\"24px\">\n",
              "    <path d=\"M0 0h24v24H0V0z\" fill=\"none\"/>\n",
              "    <path d=\"M18.56 5.44l.94 2.06.94-2.06 2.06-.94-2.06-.94-.94-2.06-.94 2.06-2.06.94zm-11 1L8.5 8.5l.94-2.06 2.06-.94-2.06-.94L8.5 2.5l-.94 2.06-2.06.94zm10 10l.94 2.06.94-2.06 2.06-.94-2.06-.94-.94-2.06-.94 2.06-2.06.94z\"/><path d=\"M17.41 7.96l-1.37-1.37c-.4-.4-.92-.59-1.43-.59-.52 0-1.04.2-1.43.59L10.3 9.45l-7.72 7.72c-.78.78-.78 2.05 0 2.83L4 21.41c.39.39.9.59 1.41.59.51 0 1.02-.2 1.41-.59l7.78-7.78 2.81-2.81c.8-.78.8-2.07 0-2.86zM5.41 20L4 18.59l7.72-7.72 1.47 1.35L5.41 20z\"/>\n",
              "  </svg>\n",
              "      </button>\n",
              "      \n",
              "  <style>\n",
              "    .colab-df-container {\n",
              "      display:flex;\n",
              "      flex-wrap:wrap;\n",
              "      gap: 12px;\n",
              "    }\n",
              "\n",
              "    .colab-df-convert {\n",
              "      background-color: #E8F0FE;\n",
              "      border: none;\n",
              "      border-radius: 50%;\n",
              "      cursor: pointer;\n",
              "      display: none;\n",
              "      fill: #1967D2;\n",
              "      height: 32px;\n",
              "      padding: 0 0 0 0;\n",
              "      width: 32px;\n",
              "    }\n",
              "\n",
              "    .colab-df-convert:hover {\n",
              "      background-color: #E2EBFA;\n",
              "      box-shadow: 0px 1px 2px rgba(60, 64, 67, 0.3), 0px 1px 3px 1px rgba(60, 64, 67, 0.15);\n",
              "      fill: #174EA6;\n",
              "    }\n",
              "\n",
              "    [theme=dark] .colab-df-convert {\n",
              "      background-color: #3B4455;\n",
              "      fill: #D2E3FC;\n",
              "    }\n",
              "\n",
              "    [theme=dark] .colab-df-convert:hover {\n",
              "      background-color: #434B5C;\n",
              "      box-shadow: 0px 1px 3px 1px rgba(0, 0, 0, 0.15);\n",
              "      filter: drop-shadow(0px 1px 2px rgba(0, 0, 0, 0.3));\n",
              "      fill: #FFFFFF;\n",
              "    }\n",
              "  </style>\n",
              "\n",
              "      <script>\n",
              "        const buttonEl =\n",
              "          document.querySelector('#df-0bb3972f-4dcb-4363-9e27-4f622d46ec02 button.colab-df-convert');\n",
              "        buttonEl.style.display =\n",
              "          google.colab.kernel.accessAllowed ? 'block' : 'none';\n",
              "\n",
              "        async function convertToInteractive(key) {\n",
              "          const element = document.querySelector('#df-0bb3972f-4dcb-4363-9e27-4f622d46ec02');\n",
              "          const dataTable =\n",
              "            await google.colab.kernel.invokeFunction('convertToInteractive',\n",
              "                                                     [key], {});\n",
              "          if (!dataTable) return;\n",
              "\n",
              "          const docLinkHtml = 'Like what you see? Visit the ' +\n",
              "            '<a target=\"_blank\" href=https://colab.research.google.com/notebooks/data_table.ipynb>data table notebook</a>'\n",
              "            + ' to learn more about interactive tables.';\n",
              "          element.innerHTML = '';\n",
              "          dataTable['output_type'] = 'display_data';\n",
              "          await google.colab.output.renderOutput(dataTable, element);\n",
              "          const docLink = document.createElement('div');\n",
              "          docLink.innerHTML = docLinkHtml;\n",
              "          element.appendChild(docLink);\n",
              "        }\n",
              "      </script>\n",
              "    </div>\n",
              "  </div>\n",
              "  "
            ]
          },
          "metadata": {},
          "execution_count": 36
        }
      ]
    },
    {
      "cell_type": "code",
      "source": [
        "customer_products_raw.describe(include = ['object'])"
      ],
      "metadata": {
        "colab": {
          "base_uri": "https://localhost:8080/",
          "height": 175
        },
        "outputId": "1ed50f5d-fcd5-4f02-a0f8-9f9832adbd32",
        "id": "c9I4DraWwYxD"
      },
      "execution_count": 37,
      "outputs": [
        {
          "output_type": "execute_result",
          "data": {
            "text/plain": [
              "       pk_partition\n",
              "count       5962924\n",
              "unique           17\n",
              "top         2019-05\n",
              "freq         442995"
            ],
            "text/html": [
              "\n",
              "  <div id=\"df-a5af60dc-7421-44a1-85fe-f5f1ad2684a6\">\n",
              "    <div class=\"colab-df-container\">\n",
              "      <div>\n",
              "<style scoped>\n",
              "    .dataframe tbody tr th:only-of-type {\n",
              "        vertical-align: middle;\n",
              "    }\n",
              "\n",
              "    .dataframe tbody tr th {\n",
              "        vertical-align: top;\n",
              "    }\n",
              "\n",
              "    .dataframe thead th {\n",
              "        text-align: right;\n",
              "    }\n",
              "</style>\n",
              "<table border=\"1\" class=\"dataframe\">\n",
              "  <thead>\n",
              "    <tr style=\"text-align: right;\">\n",
              "      <th></th>\n",
              "      <th>pk_partition</th>\n",
              "    </tr>\n",
              "  </thead>\n",
              "  <tbody>\n",
              "    <tr>\n",
              "      <th>count</th>\n",
              "      <td>5962924</td>\n",
              "    </tr>\n",
              "    <tr>\n",
              "      <th>unique</th>\n",
              "      <td>17</td>\n",
              "    </tr>\n",
              "    <tr>\n",
              "      <th>top</th>\n",
              "      <td>2019-05</td>\n",
              "    </tr>\n",
              "    <tr>\n",
              "      <th>freq</th>\n",
              "      <td>442995</td>\n",
              "    </tr>\n",
              "  </tbody>\n",
              "</table>\n",
              "</div>\n",
              "      <button class=\"colab-df-convert\" onclick=\"convertToInteractive('df-a5af60dc-7421-44a1-85fe-f5f1ad2684a6')\"\n",
              "              title=\"Convert this dataframe to an interactive table.\"\n",
              "              style=\"display:none;\">\n",
              "        \n",
              "  <svg xmlns=\"http://www.w3.org/2000/svg\" height=\"24px\"viewBox=\"0 0 24 24\"\n",
              "       width=\"24px\">\n",
              "    <path d=\"M0 0h24v24H0V0z\" fill=\"none\"/>\n",
              "    <path d=\"M18.56 5.44l.94 2.06.94-2.06 2.06-.94-2.06-.94-.94-2.06-.94 2.06-2.06.94zm-11 1L8.5 8.5l.94-2.06 2.06-.94-2.06-.94L8.5 2.5l-.94 2.06-2.06.94zm10 10l.94 2.06.94-2.06 2.06-.94-2.06-.94-.94-2.06-.94 2.06-2.06.94z\"/><path d=\"M17.41 7.96l-1.37-1.37c-.4-.4-.92-.59-1.43-.59-.52 0-1.04.2-1.43.59L10.3 9.45l-7.72 7.72c-.78.78-.78 2.05 0 2.83L4 21.41c.39.39.9.59 1.41.59.51 0 1.02-.2 1.41-.59l7.78-7.78 2.81-2.81c.8-.78.8-2.07 0-2.86zM5.41 20L4 18.59l7.72-7.72 1.47 1.35L5.41 20z\"/>\n",
              "  </svg>\n",
              "      </button>\n",
              "      \n",
              "  <style>\n",
              "    .colab-df-container {\n",
              "      display:flex;\n",
              "      flex-wrap:wrap;\n",
              "      gap: 12px;\n",
              "    }\n",
              "\n",
              "    .colab-df-convert {\n",
              "      background-color: #E8F0FE;\n",
              "      border: none;\n",
              "      border-radius: 50%;\n",
              "      cursor: pointer;\n",
              "      display: none;\n",
              "      fill: #1967D2;\n",
              "      height: 32px;\n",
              "      padding: 0 0 0 0;\n",
              "      width: 32px;\n",
              "    }\n",
              "\n",
              "    .colab-df-convert:hover {\n",
              "      background-color: #E2EBFA;\n",
              "      box-shadow: 0px 1px 2px rgba(60, 64, 67, 0.3), 0px 1px 3px 1px rgba(60, 64, 67, 0.15);\n",
              "      fill: #174EA6;\n",
              "    }\n",
              "\n",
              "    [theme=dark] .colab-df-convert {\n",
              "      background-color: #3B4455;\n",
              "      fill: #D2E3FC;\n",
              "    }\n",
              "\n",
              "    [theme=dark] .colab-df-convert:hover {\n",
              "      background-color: #434B5C;\n",
              "      box-shadow: 0px 1px 3px 1px rgba(0, 0, 0, 0.15);\n",
              "      filter: drop-shadow(0px 1px 2px rgba(0, 0, 0, 0.3));\n",
              "      fill: #FFFFFF;\n",
              "    }\n",
              "  </style>\n",
              "\n",
              "      <script>\n",
              "        const buttonEl =\n",
              "          document.querySelector('#df-a5af60dc-7421-44a1-85fe-f5f1ad2684a6 button.colab-df-convert');\n",
              "        buttonEl.style.display =\n",
              "          google.colab.kernel.accessAllowed ? 'block' : 'none';\n",
              "\n",
              "        async function convertToInteractive(key) {\n",
              "          const element = document.querySelector('#df-a5af60dc-7421-44a1-85fe-f5f1ad2684a6');\n",
              "          const dataTable =\n",
              "            await google.colab.kernel.invokeFunction('convertToInteractive',\n",
              "                                                     [key], {});\n",
              "          if (!dataTable) return;\n",
              "\n",
              "          const docLinkHtml = 'Like what you see? Visit the ' +\n",
              "            '<a target=\"_blank\" href=https://colab.research.google.com/notebooks/data_table.ipynb>data table notebook</a>'\n",
              "            + ' to learn more about interactive tables.';\n",
              "          element.innerHTML = '';\n",
              "          dataTable['output_type'] = 'display_data';\n",
              "          await google.colab.output.renderOutput(dataTable, element);\n",
              "          const docLink = document.createElement('div');\n",
              "          docLink.innerHTML = docLinkHtml;\n",
              "          element.appendChild(docLink);\n",
              "        }\n",
              "      </script>\n",
              "    </div>\n",
              "  </div>\n",
              "  "
            ]
          },
          "metadata": {},
          "execution_count": 37
        }
      ]
    },
    {
      "cell_type": "code",
      "source": [
        "customer_products_raw.describe(exclude = ['object'])"
      ],
      "metadata": {
        "colab": {
          "base_uri": "https://localhost:8080/",
          "height": 364
        },
        "outputId": "317fda5d-3bb3-4f16-8a4c-3e140253cd62",
        "id": "Ehzbn2vFwYxD"
      },
      "execution_count": 38,
      "outputs": [
        {
          "output_type": "execute_result",
          "data": {
            "text/plain": [
              "         Unnamed: 0        pk_cid  short_term_deposit         loans  \\\n",
              "count  5.962924e+06  5.962924e+06        5.962924e+06  5.962924e+06   \n",
              "mean   7.155425e+06  1.234930e+06        2.581619e-03  7.848498e-05   \n",
              "std    3.920784e+06  1.623020e+05        5.074401e-02  8.858828e-03   \n",
              "min    0.000000e+00  1.589100e+04        0.000000e+00  0.000000e+00   \n",
              "25%    4.240386e+06  1.112532e+06        0.000000e+00  0.000000e+00   \n",
              "50%    7.499346e+06  1.231097e+06        0.000000e+00  0.000000e+00   \n",
              "75%    1.020142e+07  1.352339e+06        0.000000e+00  0.000000e+00   \n",
              "max    1.364731e+07  1.553689e+06        1.000000e+00  1.000000e+00   \n",
              "\n",
              "           mortgage         funds    securities  long_term_deposit  \\\n",
              "count  5.962924e+06  5.962924e+06  5.962924e+06       5.962924e+06   \n",
              "mean   5.433576e-05  3.370662e-03  3.711770e-03       1.688098e-02   \n",
              "std    7.371080e-03  5.795948e-02  6.081113e-02       1.288255e-01   \n",
              "min    0.000000e+00  0.000000e+00  0.000000e+00       0.000000e+00   \n",
              "25%    0.000000e+00  0.000000e+00  0.000000e+00       0.000000e+00   \n",
              "50%    0.000000e+00  0.000000e+00  0.000000e+00       0.000000e+00   \n",
              "75%    0.000000e+00  0.000000e+00  0.000000e+00       0.000000e+00   \n",
              "max    1.000000e+00  1.000000e+00  1.000000e+00       1.000000e+00   \n",
              "\n",
              "       em_account_pp   credit_card       payroll  pension_plan  \\\n",
              "count      5962924.0  5.962924e+06  5.962863e+06  5.962863e+06   \n",
              "mean             0.0  1.188444e-02  3.451144e-02  3.652641e-02   \n",
              "std              0.0  1.083660e-01  1.825388e-01  1.875960e-01   \n",
              "min              0.0  0.000000e+00  0.000000e+00  0.000000e+00   \n",
              "25%              0.0  0.000000e+00  0.000000e+00  0.000000e+00   \n",
              "50%              0.0  0.000000e+00  0.000000e+00  0.000000e+00   \n",
              "75%              0.0  0.000000e+00  0.000000e+00  0.000000e+00   \n",
              "max              0.0  1.000000e+00  1.000000e+00  1.000000e+00   \n",
              "\n",
              "       payroll_account   emc_account    debit_card  em_account_p     em_acount  \n",
              "count     5.962924e+06  5.962924e+06  5.962924e+06  5.962924e+06  5.962924e+06  \n",
              "mean      5.524471e-02  5.483233e-02  9.441140e-02  5.701901e-06  7.348076e-01  \n",
              "std       2.284573e-01  2.276527e-01  2.924002e-01  2.387859e-03  4.414356e-01  \n",
              "min       0.000000e+00  0.000000e+00  0.000000e+00  0.000000e+00  0.000000e+00  \n",
              "25%       0.000000e+00  0.000000e+00  0.000000e+00  0.000000e+00  0.000000e+00  \n",
              "50%       0.000000e+00  0.000000e+00  0.000000e+00  0.000000e+00  1.000000e+00  \n",
              "75%       0.000000e+00  0.000000e+00  0.000000e+00  0.000000e+00  1.000000e+00  \n",
              "max       1.000000e+00  1.000000e+00  1.000000e+00  1.000000e+00  1.000000e+00  "
            ],
            "text/html": [
              "\n",
              "  <div id=\"df-e0345a21-4f68-4ffe-b90f-eb8e94c91c66\">\n",
              "    <div class=\"colab-df-container\">\n",
              "      <div>\n",
              "<style scoped>\n",
              "    .dataframe tbody tr th:only-of-type {\n",
              "        vertical-align: middle;\n",
              "    }\n",
              "\n",
              "    .dataframe tbody tr th {\n",
              "        vertical-align: top;\n",
              "    }\n",
              "\n",
              "    .dataframe thead th {\n",
              "        text-align: right;\n",
              "    }\n",
              "</style>\n",
              "<table border=\"1\" class=\"dataframe\">\n",
              "  <thead>\n",
              "    <tr style=\"text-align: right;\">\n",
              "      <th></th>\n",
              "      <th>Unnamed: 0</th>\n",
              "      <th>pk_cid</th>\n",
              "      <th>short_term_deposit</th>\n",
              "      <th>loans</th>\n",
              "      <th>mortgage</th>\n",
              "      <th>funds</th>\n",
              "      <th>securities</th>\n",
              "      <th>long_term_deposit</th>\n",
              "      <th>em_account_pp</th>\n",
              "      <th>credit_card</th>\n",
              "      <th>payroll</th>\n",
              "      <th>pension_plan</th>\n",
              "      <th>payroll_account</th>\n",
              "      <th>emc_account</th>\n",
              "      <th>debit_card</th>\n",
              "      <th>em_account_p</th>\n",
              "      <th>em_acount</th>\n",
              "    </tr>\n",
              "  </thead>\n",
              "  <tbody>\n",
              "    <tr>\n",
              "      <th>count</th>\n",
              "      <td>5.962924e+06</td>\n",
              "      <td>5.962924e+06</td>\n",
              "      <td>5.962924e+06</td>\n",
              "      <td>5.962924e+06</td>\n",
              "      <td>5.962924e+06</td>\n",
              "      <td>5.962924e+06</td>\n",
              "      <td>5.962924e+06</td>\n",
              "      <td>5.962924e+06</td>\n",
              "      <td>5962924.0</td>\n",
              "      <td>5.962924e+06</td>\n",
              "      <td>5.962863e+06</td>\n",
              "      <td>5.962863e+06</td>\n",
              "      <td>5.962924e+06</td>\n",
              "      <td>5.962924e+06</td>\n",
              "      <td>5.962924e+06</td>\n",
              "      <td>5.962924e+06</td>\n",
              "      <td>5.962924e+06</td>\n",
              "    </tr>\n",
              "    <tr>\n",
              "      <th>mean</th>\n",
              "      <td>7.155425e+06</td>\n",
              "      <td>1.234930e+06</td>\n",
              "      <td>2.581619e-03</td>\n",
              "      <td>7.848498e-05</td>\n",
              "      <td>5.433576e-05</td>\n",
              "      <td>3.370662e-03</td>\n",
              "      <td>3.711770e-03</td>\n",
              "      <td>1.688098e-02</td>\n",
              "      <td>0.0</td>\n",
              "      <td>1.188444e-02</td>\n",
              "      <td>3.451144e-02</td>\n",
              "      <td>3.652641e-02</td>\n",
              "      <td>5.524471e-02</td>\n",
              "      <td>5.483233e-02</td>\n",
              "      <td>9.441140e-02</td>\n",
              "      <td>5.701901e-06</td>\n",
              "      <td>7.348076e-01</td>\n",
              "    </tr>\n",
              "    <tr>\n",
              "      <th>std</th>\n",
              "      <td>3.920784e+06</td>\n",
              "      <td>1.623020e+05</td>\n",
              "      <td>5.074401e-02</td>\n",
              "      <td>8.858828e-03</td>\n",
              "      <td>7.371080e-03</td>\n",
              "      <td>5.795948e-02</td>\n",
              "      <td>6.081113e-02</td>\n",
              "      <td>1.288255e-01</td>\n",
              "      <td>0.0</td>\n",
              "      <td>1.083660e-01</td>\n",
              "      <td>1.825388e-01</td>\n",
              "      <td>1.875960e-01</td>\n",
              "      <td>2.284573e-01</td>\n",
              "      <td>2.276527e-01</td>\n",
              "      <td>2.924002e-01</td>\n",
              "      <td>2.387859e-03</td>\n",
              "      <td>4.414356e-01</td>\n",
              "    </tr>\n",
              "    <tr>\n",
              "      <th>min</th>\n",
              "      <td>0.000000e+00</td>\n",
              "      <td>1.589100e+04</td>\n",
              "      <td>0.000000e+00</td>\n",
              "      <td>0.000000e+00</td>\n",
              "      <td>0.000000e+00</td>\n",
              "      <td>0.000000e+00</td>\n",
              "      <td>0.000000e+00</td>\n",
              "      <td>0.000000e+00</td>\n",
              "      <td>0.0</td>\n",
              "      <td>0.000000e+00</td>\n",
              "      <td>0.000000e+00</td>\n",
              "      <td>0.000000e+00</td>\n",
              "      <td>0.000000e+00</td>\n",
              "      <td>0.000000e+00</td>\n",
              "      <td>0.000000e+00</td>\n",
              "      <td>0.000000e+00</td>\n",
              "      <td>0.000000e+00</td>\n",
              "    </tr>\n",
              "    <tr>\n",
              "      <th>25%</th>\n",
              "      <td>4.240386e+06</td>\n",
              "      <td>1.112532e+06</td>\n",
              "      <td>0.000000e+00</td>\n",
              "      <td>0.000000e+00</td>\n",
              "      <td>0.000000e+00</td>\n",
              "      <td>0.000000e+00</td>\n",
              "      <td>0.000000e+00</td>\n",
              "      <td>0.000000e+00</td>\n",
              "      <td>0.0</td>\n",
              "      <td>0.000000e+00</td>\n",
              "      <td>0.000000e+00</td>\n",
              "      <td>0.000000e+00</td>\n",
              "      <td>0.000000e+00</td>\n",
              "      <td>0.000000e+00</td>\n",
              "      <td>0.000000e+00</td>\n",
              "      <td>0.000000e+00</td>\n",
              "      <td>0.000000e+00</td>\n",
              "    </tr>\n",
              "    <tr>\n",
              "      <th>50%</th>\n",
              "      <td>7.499346e+06</td>\n",
              "      <td>1.231097e+06</td>\n",
              "      <td>0.000000e+00</td>\n",
              "      <td>0.000000e+00</td>\n",
              "      <td>0.000000e+00</td>\n",
              "      <td>0.000000e+00</td>\n",
              "      <td>0.000000e+00</td>\n",
              "      <td>0.000000e+00</td>\n",
              "      <td>0.0</td>\n",
              "      <td>0.000000e+00</td>\n",
              "      <td>0.000000e+00</td>\n",
              "      <td>0.000000e+00</td>\n",
              "      <td>0.000000e+00</td>\n",
              "      <td>0.000000e+00</td>\n",
              "      <td>0.000000e+00</td>\n",
              "      <td>0.000000e+00</td>\n",
              "      <td>1.000000e+00</td>\n",
              "    </tr>\n",
              "    <tr>\n",
              "      <th>75%</th>\n",
              "      <td>1.020142e+07</td>\n",
              "      <td>1.352339e+06</td>\n",
              "      <td>0.000000e+00</td>\n",
              "      <td>0.000000e+00</td>\n",
              "      <td>0.000000e+00</td>\n",
              "      <td>0.000000e+00</td>\n",
              "      <td>0.000000e+00</td>\n",
              "      <td>0.000000e+00</td>\n",
              "      <td>0.0</td>\n",
              "      <td>0.000000e+00</td>\n",
              "      <td>0.000000e+00</td>\n",
              "      <td>0.000000e+00</td>\n",
              "      <td>0.000000e+00</td>\n",
              "      <td>0.000000e+00</td>\n",
              "      <td>0.000000e+00</td>\n",
              "      <td>0.000000e+00</td>\n",
              "      <td>1.000000e+00</td>\n",
              "    </tr>\n",
              "    <tr>\n",
              "      <th>max</th>\n",
              "      <td>1.364731e+07</td>\n",
              "      <td>1.553689e+06</td>\n",
              "      <td>1.000000e+00</td>\n",
              "      <td>1.000000e+00</td>\n",
              "      <td>1.000000e+00</td>\n",
              "      <td>1.000000e+00</td>\n",
              "      <td>1.000000e+00</td>\n",
              "      <td>1.000000e+00</td>\n",
              "      <td>0.0</td>\n",
              "      <td>1.000000e+00</td>\n",
              "      <td>1.000000e+00</td>\n",
              "      <td>1.000000e+00</td>\n",
              "      <td>1.000000e+00</td>\n",
              "      <td>1.000000e+00</td>\n",
              "      <td>1.000000e+00</td>\n",
              "      <td>1.000000e+00</td>\n",
              "      <td>1.000000e+00</td>\n",
              "    </tr>\n",
              "  </tbody>\n",
              "</table>\n",
              "</div>\n",
              "      <button class=\"colab-df-convert\" onclick=\"convertToInteractive('df-e0345a21-4f68-4ffe-b90f-eb8e94c91c66')\"\n",
              "              title=\"Convert this dataframe to an interactive table.\"\n",
              "              style=\"display:none;\">\n",
              "        \n",
              "  <svg xmlns=\"http://www.w3.org/2000/svg\" height=\"24px\"viewBox=\"0 0 24 24\"\n",
              "       width=\"24px\">\n",
              "    <path d=\"M0 0h24v24H0V0z\" fill=\"none\"/>\n",
              "    <path d=\"M18.56 5.44l.94 2.06.94-2.06 2.06-.94-2.06-.94-.94-2.06-.94 2.06-2.06.94zm-11 1L8.5 8.5l.94-2.06 2.06-.94-2.06-.94L8.5 2.5l-.94 2.06-2.06.94zm10 10l.94 2.06.94-2.06 2.06-.94-2.06-.94-.94-2.06-.94 2.06-2.06.94z\"/><path d=\"M17.41 7.96l-1.37-1.37c-.4-.4-.92-.59-1.43-.59-.52 0-1.04.2-1.43.59L10.3 9.45l-7.72 7.72c-.78.78-.78 2.05 0 2.83L4 21.41c.39.39.9.59 1.41.59.51 0 1.02-.2 1.41-.59l7.78-7.78 2.81-2.81c.8-.78.8-2.07 0-2.86zM5.41 20L4 18.59l7.72-7.72 1.47 1.35L5.41 20z\"/>\n",
              "  </svg>\n",
              "      </button>\n",
              "      \n",
              "  <style>\n",
              "    .colab-df-container {\n",
              "      display:flex;\n",
              "      flex-wrap:wrap;\n",
              "      gap: 12px;\n",
              "    }\n",
              "\n",
              "    .colab-df-convert {\n",
              "      background-color: #E8F0FE;\n",
              "      border: none;\n",
              "      border-radius: 50%;\n",
              "      cursor: pointer;\n",
              "      display: none;\n",
              "      fill: #1967D2;\n",
              "      height: 32px;\n",
              "      padding: 0 0 0 0;\n",
              "      width: 32px;\n",
              "    }\n",
              "\n",
              "    .colab-df-convert:hover {\n",
              "      background-color: #E2EBFA;\n",
              "      box-shadow: 0px 1px 2px rgba(60, 64, 67, 0.3), 0px 1px 3px 1px rgba(60, 64, 67, 0.15);\n",
              "      fill: #174EA6;\n",
              "    }\n",
              "\n",
              "    [theme=dark] .colab-df-convert {\n",
              "      background-color: #3B4455;\n",
              "      fill: #D2E3FC;\n",
              "    }\n",
              "\n",
              "    [theme=dark] .colab-df-convert:hover {\n",
              "      background-color: #434B5C;\n",
              "      box-shadow: 0px 1px 3px 1px rgba(0, 0, 0, 0.15);\n",
              "      filter: drop-shadow(0px 1px 2px rgba(0, 0, 0, 0.3));\n",
              "      fill: #FFFFFF;\n",
              "    }\n",
              "  </style>\n",
              "\n",
              "      <script>\n",
              "        const buttonEl =\n",
              "          document.querySelector('#df-e0345a21-4f68-4ffe-b90f-eb8e94c91c66 button.colab-df-convert');\n",
              "        buttonEl.style.display =\n",
              "          google.colab.kernel.accessAllowed ? 'block' : 'none';\n",
              "\n",
              "        async function convertToInteractive(key) {\n",
              "          const element = document.querySelector('#df-e0345a21-4f68-4ffe-b90f-eb8e94c91c66');\n",
              "          const dataTable =\n",
              "            await google.colab.kernel.invokeFunction('convertToInteractive',\n",
              "                                                     [key], {});\n",
              "          if (!dataTable) return;\n",
              "\n",
              "          const docLinkHtml = 'Like what you see? Visit the ' +\n",
              "            '<a target=\"_blank\" href=https://colab.research.google.com/notebooks/data_table.ipynb>data table notebook</a>'\n",
              "            + ' to learn more about interactive tables.';\n",
              "          element.innerHTML = '';\n",
              "          dataTable['output_type'] = 'display_data';\n",
              "          await google.colab.output.renderOutput(dataTable, element);\n",
              "          const docLink = document.createElement('div');\n",
              "          docLink.innerHTML = docLinkHtml;\n",
              "          element.appendChild(docLink);\n",
              "        }\n",
              "      </script>\n",
              "    </div>\n",
              "  </div>\n",
              "  "
            ]
          },
          "metadata": {},
          "execution_count": 38
        }
      ]
    },
    {
      "cell_type": "code",
      "source": [
        "customer_products_raw.isnull().sum()"
      ],
      "metadata": {
        "colab": {
          "base_uri": "https://localhost:8080/"
        },
        "outputId": "e7415b2e-fd90-4200-8488-58eb3a5831e2",
        "id": "BnObawC0wYxD"
      },
      "execution_count": 39,
      "outputs": [
        {
          "output_type": "execute_result",
          "data": {
            "text/plain": [
              "Unnamed: 0             0\n",
              "pk_cid                 0\n",
              "pk_partition           0\n",
              "short_term_deposit     0\n",
              "loans                  0\n",
              "mortgage               0\n",
              "funds                  0\n",
              "securities             0\n",
              "long_term_deposit      0\n",
              "em_account_pp          0\n",
              "credit_card            0\n",
              "payroll               61\n",
              "pension_plan          61\n",
              "payroll_account        0\n",
              "emc_account            0\n",
              "debit_card             0\n",
              "em_account_p           0\n",
              "em_acount              0\n",
              "dtype: int64"
            ]
          },
          "metadata": {},
          "execution_count": 39
        }
      ]
    },
    {
      "cell_type": "code",
      "source": [
        "# ACCIONES CUSTOMER PRODUCTS\n",
        "\n",
        "# Eliminar columna Unnamed\n",
        "# Cambiar los identificadores (pk_cid) a variable categórica\n",
        "# Cambiar tipo de columnas booleanas a boolean?\n",
        "# Establecer primary key como index?\n",
        "# Gestionar nulos: \n",
        "#     payroll                     \n",
        "#     pension_plan\n",
        "# Eliminar em_account_pp, no hay datos\n",
        "\n",
        "# Cambiar tipo de payroll y pension_plan a int"
      ],
      "metadata": {
        "id": "iU9-7iD_wYxD"
      },
      "execution_count": 40,
      "outputs": []
    },
    {
      "cell_type": "markdown",
      "source": [
        "### Análisis del target"
      ],
      "metadata": {
        "id": "N53oY9OJoonb"
      }
    },
    {
      "cell_type": "code",
      "source": [
        "# Para el modelo de propensión a compra (supervisado > clasificación) trataremos de averiguar la propensión a compra de ciertos productos de cada cliente\n",
        "# El target puede ser:\n",
        "#  - em_acount = 4.381.602  (73,48%)\n",
        "#  - debit_card = 562.968 (9,44%)\n",
        "#  - payroll_account = 329.420 (5,52%)\n",
        "#  - pension_plan = 2.178.020 (3,65%) ** Target interesante por negocio\n",
        "\n",
        "\n",
        "\n",
        "# Analizando el revenue de cada producto:\n",
        "#  - pension_plan = media >5200€ ** Target interesante por revenue\n",
        "#  - loans = media > 2000€\n",
        "#  - mortgage = media > 2000€ \n",
        "#\n",
        "#\n",
        "# El producto \"pension_plan\" resulta interesante a nivel net margin, pues es el que más beneficios genera a la compañía\n",
        "\n",
        "# Hecho el primero modelo para \"pension plan\", más tarde se puede volver a lanzar con otros target de interés, por ejemplo \"debit_card\"o \"emc_account \"\n",
        "\n",
        "\n",
        "TARGET = \"pension_plan\"\n",
        "TARGET2 = 'debit_card'\n",
        "TARGET3 = 'emc_account'"
      ],
      "metadata": {
        "id": "ws9zM_QCo8jR"
      },
      "execution_count": 41,
      "outputs": []
    },
    {
      "cell_type": "code",
      "source": [
        "for i in ['short_term_deposit', 'loans', 'mortgage', 'funds', 'securities','long_term_deposit', 'em_account_pp','credit_card', 'payroll', 'pension_plan', 'payroll_account','emc_account', 'debit_card', 'em_account_p', 'em_acount']:\n",
        "    suma_productos = customer_products_raw[i].sum()\n",
        "    print (f\"Suma de {i} = {suma_productos} . La media es de {round((suma_productos/customer_products_raw.shape[0])*100,2)}%\")\n",
        "    "
      ],
      "metadata": {
        "colab": {
          "base_uri": "https://localhost:8080/"
        },
        "id": "L4kFuFrIuS2G",
        "outputId": "ff7c800d-9d1c-46cf-c91b-db688f4e4ad2"
      },
      "execution_count": 42,
      "outputs": [
        {
          "output_type": "stream",
          "name": "stdout",
          "text": [
            "Suma de short_term_deposit = 15394 . La media es de 0.26%\n",
            "Suma de loans = 468 . La media es de 0.01%\n",
            "Suma de mortgage = 324 . La media es de 0.01%\n",
            "Suma de funds = 20099 . La media es de 0.34%\n",
            "Suma de securities = 22133 . La media es de 0.37%\n",
            "Suma de long_term_deposit = 100660 . La media es de 1.69%\n",
            "Suma de em_account_pp = 0 . La media es de 0.0%\n",
            "Suma de credit_card = 70866 . La media es de 1.19%\n",
            "Suma de payroll = 205787.0 . La media es de 3.45%\n",
            "Suma de pension_plan = 217802.0 . La media es de 3.65%\n",
            "Suma de payroll_account = 329420 . La media es de 5.52%\n",
            "Suma de emc_account = 326961 . La media es de 5.48%\n",
            "Suma de debit_card = 562968 . La media es de 9.44%\n",
            "Suma de em_account_p = 34 . La media es de 0.0%\n",
            "Suma de em_acount = 4381602 . La media es de 73.48%\n"
          ]
        }
      ]
    },
    {
      "cell_type": "markdown",
      "source": [
        "### Distribución de las variables"
      ],
      "metadata": {
        "id": "AkR5eHKSoroo"
      }
    },
    {
      "cell_type": "markdown",
      "source": [
        "#### Variables numéricas"
      ],
      "metadata": {
        "id": "IQAYnrERozyM"
      }
    },
    {
      "cell_type": "code",
      "source": [
        "for i in sales_raw.select_dtypes(include= [\"number\"]).columns:\n",
        "     print(i, sales_raw[i].value_counts())"
      ],
      "metadata": {
        "colab": {
          "base_uri": "https://localhost:8080/"
        },
        "id": "r6pTWMCaw-v_",
        "outputId": "f3295731-cc7e-46e2-9a63-905e6ee9ab72"
      },
      "execution_count": 43,
      "outputs": [
        {
          "output_type": "stream",
          "name": "stdout",
          "text": [
            "Unnamed: 0 0         1\n",
            "160520    1\n",
            "160508    1\n",
            "160509    1\n",
            "160510    1\n",
            "         ..\n",
            "80262     1\n",
            "80263     1\n",
            "80264     1\n",
            "80265     1\n",
            "240772    1\n",
            "Name: Unnamed: 0, Length: 240773, dtype: int64\n",
            "pk_sale 6666      1\n",
            "167186    1\n",
            "167174    1\n",
            "167175    1\n",
            "167176    1\n",
            "         ..\n",
            "86928     1\n",
            "86929     1\n",
            "86930     1\n",
            "86931     1\n",
            "247438    1\n",
            "Name: pk_sale, Length: 240773, dtype: int64\n",
            "cid 1387215    10\n",
            "1436512     9\n",
            "1380507     9\n",
            "1402957     9\n",
            "1402199     9\n",
            "           ..\n",
            "1409414     1\n",
            "1409413     1\n",
            "1409412     1\n",
            "1409410     1\n",
            "1553571     1\n",
            "Name: cid, Length: 152754, dtype: int64\n",
            "product_ID 4657    117435\n",
            "3819     38840\n",
            "1364     19369\n",
            "2234     18750\n",
            "2235     18110\n",
            "8871     12323\n",
            "2312      5206\n",
            "2335      4441\n",
            "2336      4227\n",
            "2673      1157\n",
            "1119       880\n",
            "9001        25\n",
            "4033        10\n",
            "Name: product_ID, dtype: int64\n",
            "net_margin 63.1       890\n",
            "64.8       854\n",
            "63.9       851\n",
            "64.1       848\n",
            "62.7       841\n",
            "          ... \n",
            "4917.3       1\n",
            "5698.9       1\n",
            "5708.1       1\n",
            "11009.5      1\n",
            "34.5         1\n",
            "Name: net_margin, Length: 25451, dtype: int64\n"
          ]
        }
      ]
    },
    {
      "cell_type": "code",
      "source": [
        "for i in customer_products_raw.select_dtypes(include= [\"number\"]).columns:\n",
        "  print(i, customer_products_raw[i].value_counts())"
      ],
      "metadata": {
        "id": "qdZiOCu6E14Q",
        "outputId": "2449c803-a6d4-4b09-ca0e-e3aedbce4a4f",
        "colab": {
          "base_uri": "https://localhost:8080/"
        }
      },
      "execution_count": 44,
      "outputs": [
        {
          "output_type": "stream",
          "name": "stdout",
          "text": [
            "Unnamed: 0 0           1\n",
            "9344701     1\n",
            "9344699     1\n",
            "9344698     1\n",
            "9344697     1\n",
            "           ..\n",
            "5074084     1\n",
            "5074083     1\n",
            "5074082     1\n",
            "5074081     1\n",
            "13647308    1\n",
            "Name: Unnamed: 0, Length: 5962924, dtype: int64\n",
            "pk_cid 1375586    17\n",
            "1328781    17\n",
            "1328783    17\n",
            "1328784    17\n",
            "1328786    17\n",
            "           ..\n",
            "1521045     1\n",
            "1545224     1\n",
            "1470941     1\n",
            "1521049     1\n",
            "1550586     1\n",
            "Name: pk_cid, Length: 456373, dtype: int64\n",
            "short_term_deposit 0    5947530\n",
            "1      15394\n",
            "Name: short_term_deposit, dtype: int64\n",
            "loans 0    5962456\n",
            "1        468\n",
            "Name: loans, dtype: int64\n",
            "mortgage 0    5962600\n",
            "1        324\n",
            "Name: mortgage, dtype: int64\n",
            "funds 0    5942825\n",
            "1      20099\n",
            "Name: funds, dtype: int64\n",
            "securities 0    5940791\n",
            "1      22133\n",
            "Name: securities, dtype: int64\n",
            "long_term_deposit 0    5862264\n",
            "1     100660\n",
            "Name: long_term_deposit, dtype: int64\n",
            "em_account_pp 0    5962924\n",
            "Name: em_account_pp, dtype: int64\n",
            "credit_card 0    5892058\n",
            "1      70866\n",
            "Name: credit_card, dtype: int64\n",
            "payroll 0.0    5757076\n",
            "1.0     205787\n",
            "Name: payroll, dtype: int64\n",
            "pension_plan 0.0    5745061\n",
            "1.0     217802\n",
            "Name: pension_plan, dtype: int64\n",
            "payroll_account 0    5633504\n",
            "1     329420\n",
            "Name: payroll_account, dtype: int64\n",
            "emc_account 0    5635963\n",
            "1     326961\n",
            "Name: emc_account, dtype: int64\n",
            "debit_card 0    5399956\n",
            "1     562968\n",
            "Name: debit_card, dtype: int64\n",
            "em_account_p 0    5962890\n",
            "1         34\n",
            "Name: em_account_p, dtype: int64\n",
            "em_acount 1    4381602\n",
            "0    1581322\n",
            "Name: em_acount, dtype: int64\n"
          ]
        }
      ]
    },
    {
      "cell_type": "code",
      "source": [
        "for i in customer_sociodemographics_raw.select_dtypes(include= [\"number\"]).columns:\n",
        "     print(i, customer_sociodemographics_raw[i].value_counts())"
      ],
      "metadata": {
        "colab": {
          "base_uri": "https://localhost:8080/"
        },
        "id": "JnY_a_BPxCVJ",
        "outputId": "867321a2-6989-4582-cec3-2903dd52d2cc"
      },
      "execution_count": 45,
      "outputs": [
        {
          "output_type": "stream",
          "name": "stdout",
          "text": [
            "Unnamed: 0 0           1\n",
            "9344701     1\n",
            "9344699     1\n",
            "9344698     1\n",
            "9344697     1\n",
            "           ..\n",
            "5074084     1\n",
            "5074083     1\n",
            "5074082     1\n",
            "5074081     1\n",
            "13647308    1\n",
            "Name: Unnamed: 0, Length: 5962924, dtype: int64\n",
            "pk_cid 1375586    17\n",
            "1328781    17\n",
            "1328783    17\n",
            "1328784    17\n",
            "1328786    17\n",
            "           ..\n",
            "1521045     1\n",
            "1545224     1\n",
            "1470941     1\n",
            "1521049     1\n",
            "1550586     1\n",
            "Name: pk_cid, Length: 456373, dtype: int64\n",
            "region_code 28.0    1185757\n",
            "8.0      600362\n",
            "46.0     358142\n",
            "30.0     296856\n",
            "41.0     290447\n",
            "15.0     254891\n",
            "29.0     187911\n",
            "36.0     175850\n",
            "3.0      171358\n",
            "11.0     160894\n",
            "33.0     134562\n",
            "50.0     132983\n",
            "6.0      122587\n",
            "35.0     121982\n",
            "47.0     116948\n",
            "18.0     102789\n",
            "45.0     102328\n",
            "37.0      92538\n",
            "10.0      83283\n",
            "14.0      75405\n",
            "2.0       72071\n",
            "21.0      72037\n",
            "13.0      70092\n",
            "39.0      69589\n",
            "12.0      68709\n",
            "7.0       62436\n",
            "32.0      54639\n",
            "27.0      52783\n",
            "43.0      51782\n",
            "17.0      50749\n",
            "9.0       47746\n",
            "25.0      46887\n",
            "16.0      36094\n",
            "24.0      35426\n",
            "48.0      35256\n",
            "26.0      34790\n",
            "4.0       32680\n",
            "31.0      31241\n",
            "49.0      30965\n",
            "23.0      30955\n",
            "38.0      29001\n",
            "34.0      27545\n",
            "19.0      26762\n",
            "40.0      21658\n",
            "5.0       21300\n",
            "22.0      21112\n",
            "20.0      18833\n",
            "1.0       12999\n",
            "44.0      12616\n",
            "42.0       8500\n",
            "51.0       2896\n",
            "52.0       2638\n",
            "Name: region_code, dtype: int64\n",
            "age 22     727134\n",
            "23     702127\n",
            "21     667762\n",
            "20     413568\n",
            "24     408569\n",
            "25     305028\n",
            "26     237454\n",
            "27     186277\n",
            "28     156142\n",
            "29     134814\n",
            "30     121856\n",
            "31     107373\n",
            "32     103206\n",
            "33      99041\n",
            "34      94026\n",
            "35      90366\n",
            "36      87528\n",
            "37      83133\n",
            "39      78805\n",
            "38      78510\n",
            "40      75021\n",
            "41      71271\n",
            "42      66056\n",
            "43      59418\n",
            "44      54804\n",
            "45      50980\n",
            "46      46566\n",
            "47      44665\n",
            "48      41342\n",
            "49      39766\n",
            "50      38463\n",
            "51      34482\n",
            "52      32664\n",
            "53      30827\n",
            "54      28117\n",
            "55      24372\n",
            "56      22997\n",
            "57      22059\n",
            "58      20376\n",
            "59      18940\n",
            "60      17943\n",
            "61      16068\n",
            "62      15604\n",
            "63      13235\n",
            "19      12203\n",
            "64      11989\n",
            "65      11301\n",
            "66      10076\n",
            "67       9514\n",
            "68       9175\n",
            "69       8774\n",
            "70       7440\n",
            "71       6285\n",
            "73       6256\n",
            "72       6200\n",
            "74       5191\n",
            "77       4542\n",
            "76       4431\n",
            "75       4208\n",
            "81       3511\n",
            "78       3184\n",
            "6        3043\n",
            "82       3019\n",
            "79       2992\n",
            "84       2924\n",
            "5        2920\n",
            "80       2875\n",
            "83       2684\n",
            "85       2656\n",
            "12       2638\n",
            "86       2566\n",
            "13       2557\n",
            "9        2470\n",
            "14       2465\n",
            "15       2370\n",
            "87       2346\n",
            "11       2254\n",
            "10       2247\n",
            "8        2216\n",
            "4        2210\n",
            "7        2191\n",
            "16       2159\n",
            "17       1911\n",
            "88       1870\n",
            "18       1843\n",
            "89       1720\n",
            "90       1565\n",
            "3        1534\n",
            "91       1188\n",
            "92        890\n",
            "2         688\n",
            "93        615\n",
            "94        542\n",
            "95        484\n",
            "96        346\n",
            "97        300\n",
            "98        184\n",
            "100       112\n",
            "99         94\n",
            "101        91\n",
            "102        65\n",
            "103        25\n",
            "104        12\n",
            "105         8\n",
            "Name: age, dtype: int64\n",
            "salary 451931.22    709\n",
            "288997.44    546\n",
            "135522.15    466\n",
            "128318.52    458\n",
            "104563.80    436\n",
            "            ... \n",
            "178580.58      1\n",
            "140411.13      1\n",
            "73880.40       1\n",
            "78719.40       1\n",
            "94128.15       1\n",
            "Name: salary, Length: 257654, dtype: int64\n"
          ]
        }
      ]
    },
    {
      "cell_type": "markdown",
      "source": [
        "#### Variables categóricas"
      ],
      "metadata": {
        "id": "9l4ZsNp8o1dz"
      }
    },
    {
      "cell_type": "code",
      "source": [
        "for i in sales_raw.select_dtypes(exclude= [\"number\"]).columns:\n",
        "     print(i, sales_raw[i].value_counts())"
      ],
      "metadata": {
        "id": "1u-iVCklFDbi",
        "outputId": "143da7a4-8520-49c5-b6e0-6fe592b625e4",
        "colab": {
          "base_uri": "https://localhost:8080/"
        }
      },
      "execution_count": 46,
      "outputs": [
        {
          "output_type": "stream",
          "name": "stdout",
          "text": [
            "month_sale 2018-10-01    27693\n",
            "2018-09-01    24488\n",
            "2018-08-01    21054\n",
            "2018-07-01    20602\n",
            "2018-11-01    19155\n",
            "2018-02-01    15182\n",
            "2018-12-01    15015\n",
            "2019-01-01    11872\n",
            "2018-03-01    11668\n",
            "2018-06-01    11558\n",
            "2019-03-01    11506\n",
            "2019-02-01    11360\n",
            "2019-05-01    10211\n",
            "2018-04-01     9962\n",
            "2019-04-01     9889\n",
            "2018-05-01     9558\n",
            "Name: month_sale, dtype: int64\n"
          ]
        }
      ]
    },
    {
      "cell_type": "code",
      "source": [
        "for i in customer_commercial_activity_raw.select_dtypes(exclude= [\"number\"]).columns:\n",
        "  print(i, customer_commercial_activity_raw[i].value_counts())"
      ],
      "metadata": {
        "id": "lg-xtV5VEWVO",
        "outputId": "d80334ce-b671-45bb-eae1-61ebae54575d",
        "colab": {
          "base_uri": "https://localhost:8080/"
        }
      },
      "execution_count": 47,
      "outputs": [
        {
          "output_type": "stream",
          "name": "stdout",
          "text": [
            "pk_partition 2019-05    442995\n",
            "2019-04    439627\n",
            "2019-03    436183\n",
            "2019-02    431727\n",
            "2019-01    426875\n",
            "2018-12    422481\n",
            "2018-11    416387\n",
            "2018-10    402300\n",
            "2018-09    375323\n",
            "2018-08    352922\n",
            "2018-07    339339\n",
            "2018-06    252104\n",
            "2018-05    249926\n",
            "2018-04    247463\n",
            "2018-03    245258\n",
            "2018-02    242521\n",
            "2018-01    239493\n",
            "Name: pk_partition, dtype: int64\n",
            "entry_date 2016-10    382473\n",
            "2017-10    340613\n",
            "2015-10    310295\n",
            "2017-09    294752\n",
            "2017-07    267173\n",
            "2016-08    252704\n",
            "2015-08    221984\n",
            "2015-07    220941\n",
            "2017-11    217751\n",
            "2015-09    217174\n",
            "2018-10    216947\n",
            "2015-11    210687\n",
            "2016-09    206107\n",
            "2018-09    202262\n",
            "2016-07    189225\n",
            "2016-11    188601\n",
            "2018-07    178215\n",
            "2017-08    162534\n",
            "2018-08    138420\n",
            "2017-12    123456\n",
            "2018-11    103073\n",
            "2016-12     89423\n",
            "2015-12     82347\n",
            "2017-01     65539\n",
            "2018-02     61283\n",
            "2018-01     59721\n",
            "2017-06     54925\n",
            "2018-03     51022\n",
            "2016-01     50830\n",
            "2017-02     50561\n",
            "2017-03     50268\n",
            "2017-05     50165\n",
            "2017-04     47729\n",
            "2018-04     43480\n",
            "2018-12     41244\n",
            "2018-05     40563\n",
            "2015-05     40001\n",
            "2016-04     35682\n",
            "2018-06     35590\n",
            "2015-03     35322\n",
            "2015-04     34706\n",
            "2016-05     33234\n",
            "2015-06     33062\n",
            "2019-01     32640\n",
            "2015-02     30626\n",
            "2016-06     30095\n",
            "2015-01     29646\n",
            "2016-02     29552\n",
            "2016-03     27329\n",
            "2019-02     23533\n",
            "2019-03     14434\n",
            "2019-04      8602\n",
            "2019-05      4383\n",
            "Name: entry_date, dtype: int64\n",
            "entry_channel KHE    3113947\n",
            "KFC     890620\n",
            "KHQ     590280\n",
            "KAT     416084\n",
            "KHK     230197\n",
            "KHM     176591\n",
            "KHN     108434\n",
            "KFA      79020\n",
            "KHD      75899\n",
            "RED      60601\n",
            "KHL      41736\n",
            "KHF      20657\n",
            "KHO       8247\n",
            "KAZ       5635\n",
            "KHC       5241\n",
            "KBG       1662\n",
            "KEH        728\n",
            "KHP        691\n",
            "007        613\n",
            "013        397\n",
            "KAG        335\n",
            "KAS        305\n",
            "KBZ        198\n",
            "KAA        193\n",
            "KAR        157\n",
            "KAY        149\n",
            "KAF        123\n",
            "KAB         95\n",
            "KFD         91\n",
            "KCC         89\n",
            "KAW         65\n",
            "KAQ         52\n",
            "KDH         51\n",
            "KAE         48\n",
            "KCH         48\n",
            "KCB         47\n",
            "KAD         45\n",
            "KAM         43\n",
            "KAH         40\n",
            "KAK         34\n",
            "KAJ         33\n",
            "KDT         23\n",
            "KFF         22\n",
            "KBO         21\n",
            "KEY         20\n",
            "KGC         17\n",
            "004         17\n",
            "KFS         17\n",
            "KCL         17\n",
            "KBE         17\n",
            "KBH         17\n",
            "KFK         17\n",
            "KGN         17\n",
            "KCI         17\n",
            "KGX         17\n",
            "KDR         16\n",
            "KFL         13\n",
            "KBW         12\n",
            "KBU         11\n",
            "KAI         11\n",
            "KCK         11\n",
            "KBY         11\n",
            "KES         11\n",
            "KEJ          8\n",
            "KHS          5\n",
            "KDA          2\n",
            "KFP          2\n",
            "KDS          1\n",
            "Name: entry_channel, dtype: int64\n",
            "segment 03 - UNIVERSITARIO    3900166\n",
            "02 - PARTICULARES     1830875\n",
            "01 - TOP                97939\n",
            "Name: segment, dtype: int64\n"
          ]
        }
      ]
    },
    {
      "cell_type": "code",
      "source": [
        "for i in customer_sociodemographics_raw.select_dtypes(exclude= [\"number\"]).columns:\n",
        "  print(i, customer_sociodemographics_raw[i].value_counts())"
      ],
      "metadata": {
        "id": "9Sc13sTPEdy-",
        "outputId": "0e96430e-e9e3-47b5-eda5-c19f1e790b4c",
        "colab": {
          "base_uri": "https://localhost:8080/"
        }
      },
      "execution_count": 48,
      "outputs": [
        {
          "output_type": "stream",
          "name": "stdout",
          "text": [
            "pk_partition 2019-05    442995\n",
            "2019-04    439627\n",
            "2019-03    436183\n",
            "2019-02    431727\n",
            "2019-01    426875\n",
            "2018-12    422481\n",
            "2018-11    416387\n",
            "2018-10    402300\n",
            "2018-09    375323\n",
            "2018-08    352922\n",
            "2018-07    339339\n",
            "2018-06    252104\n",
            "2018-05    249926\n",
            "2018-04    247463\n",
            "2018-03    245258\n",
            "2018-02    242521\n",
            "2018-01    239493\n",
            "Name: pk_partition, dtype: int64\n",
            "country_id ES    5960672\n",
            "GB        441\n",
            "FR        225\n",
            "DE        199\n",
            "US        195\n",
            "CH        194\n",
            "BR         87\n",
            "BE         81\n",
            "VE         79\n",
            "IE         68\n",
            "MX         58\n",
            "AT         51\n",
            "AR         51\n",
            "PL         49\n",
            "IT         45\n",
            "MA         34\n",
            "CL         30\n",
            "CN         28\n",
            "CA         22\n",
            "LU         17\n",
            "ET         17\n",
            "QA         17\n",
            "CI         17\n",
            "SA         17\n",
            "CM         17\n",
            "SN         17\n",
            "MR         17\n",
            "NO         17\n",
            "RU         17\n",
            "CO         17\n",
            "GA         17\n",
            "GT         17\n",
            "DO         17\n",
            "SE         16\n",
            "DJ         11\n",
            "PT         11\n",
            "JM         11\n",
            "RO          9\n",
            "HU          8\n",
            "DZ          7\n",
            "PE          4\n",
            "Name: country_id, dtype: int64\n",
            "gender H    3087502\n",
            "V    2875397\n",
            "Name: gender, dtype: int64\n",
            "deceased N    5961849\n",
            "S       1075\n",
            "Name: deceased, dtype: int64\n"
          ]
        }
      ]
    },
    {
      "cell_type": "markdown",
      "source": [
        "# 3.- PRE PROCESSING"
      ],
      "metadata": {
        "id": "F-i0SBPis5if"
      }
    },
    {
      "cell_type": "markdown",
      "source": [
        "## Procesamiento de Sales"
      ],
      "metadata": {
        "id": "7fZaJxVHmLw9"
      }
    },
    {
      "cell_type": "code",
      "source": [
        "# Merge de Sales y Product Description\n",
        "df_sales_raw = sales_raw.merge(product_description_raw, right_on = \"pk_product_ID\", left_on= \"product_ID\", how = \"left\")"
      ],
      "metadata": {
        "id": "8U7upOCDluCU"
      },
      "execution_count": 49,
      "outputs": []
    },
    {
      "cell_type": "code",
      "source": [
        "sales_raw.shape"
      ],
      "metadata": {
        "id": "b_1Oh3h6N1RT",
        "outputId": "95c1bb94-1605-4c6c-add6-de2fe14822a2",
        "colab": {
          "base_uri": "https://localhost:8080/"
        }
      },
      "execution_count": 50,
      "outputs": [
        {
          "output_type": "execute_result",
          "data": {
            "text/plain": [
              "(240773, 6)"
            ]
          },
          "metadata": {},
          "execution_count": 50
        }
      ]
    },
    {
      "cell_type": "code",
      "source": [
        "df_sales_raw.shape"
      ],
      "metadata": {
        "id": "QrqJP9NJNTwD",
        "outputId": "6e813783-02da-4fe8-f8af-ab08df3198d9",
        "colab": {
          "base_uri": "https://localhost:8080/"
        }
      },
      "execution_count": 51,
      "outputs": [
        {
          "output_type": "execute_result",
          "data": {
            "text/plain": [
              "(240773, 10)"
            ]
          },
          "metadata": {},
          "execution_count": 51
        }
      ]
    },
    {
      "cell_type": "code",
      "source": [
        "# Análisis inicial de df_sales_raw y aplicamos las acciones propuestas en el análisis de los datasets\n",
        "\n",
        "df_sales_raw.info()"
      ],
      "metadata": {
        "id": "vyftXFKkmWnL",
        "colab": {
          "base_uri": "https://localhost:8080/"
        },
        "outputId": "2c040e85-bbc1-425b-9b02-d1b1da96e0ac"
      },
      "execution_count": 52,
      "outputs": [
        {
          "output_type": "stream",
          "name": "stdout",
          "text": [
            "<class 'pandas.core.frame.DataFrame'>\n",
            "Int64Index: 240773 entries, 0 to 240772\n",
            "Data columns (total 10 columns):\n",
            " #   Column          Non-Null Count   Dtype  \n",
            "---  ------          --------------   -----  \n",
            " 0   Unnamed: 0_x    240773 non-null  int64  \n",
            " 1   pk_sale         240773 non-null  int64  \n",
            " 2   cid             240773 non-null  int64  \n",
            " 3   month_sale      240773 non-null  object \n",
            " 4   product_ID      240773 non-null  int64  \n",
            " 5   net_margin      240773 non-null  float64\n",
            " 6   Unnamed: 0_y    240773 non-null  int64  \n",
            " 7   pk_product_ID   240773 non-null  int64  \n",
            " 8   product_desc    240773 non-null  object \n",
            " 9   family_product  240773 non-null  object \n",
            "dtypes: float64(1), int64(6), object(3)\n",
            "memory usage: 20.2+ MB\n"
          ]
        }
      ]
    },
    {
      "cell_type": "code",
      "source": [
        "df_sales_raw"
      ],
      "metadata": {
        "colab": {
          "base_uri": "https://localhost:8080/",
          "height": 423
        },
        "id": "RUUZx2wAwNxK",
        "outputId": "4dc02e58-3a6f-4b59-c747-2d4755cc06e8"
      },
      "execution_count": 53,
      "outputs": [
        {
          "output_type": "execute_result",
          "data": {
            "text/plain": [
              "        Unnamed: 0_x  pk_sale      cid  month_sale  product_ID  net_margin  \\\n",
              "0                  0     6666    33620  2018-05-01        2335       952.9   \n",
              "1                  1     6667    35063  2018-06-01        2335      1625.2   \n",
              "2                  2     6668    37299  2018-02-01        2335      1279.7   \n",
              "3                  3     6669    39997  2018-02-01        2335      1511.9   \n",
              "4                  4     6670    44012  2018-02-01        2335      1680.3   \n",
              "...              ...      ...      ...         ...         ...         ...   \n",
              "240768        240768   247434  1553456  2019-05-01        4657        56.7   \n",
              "240769        240769   247435  1553541  2019-05-01        4657        66.5   \n",
              "240770        240770   247436  1553559  2019-05-01        4657        73.0   \n",
              "240771        240771   247437  1553565  2019-05-01        4657        82.3   \n",
              "240772        240772   247438  1553571  2019-05-01        4657        84.4   \n",
              "\n",
              "        Unnamed: 0_y  pk_product_ID        product_desc family_product  \n",
              "0                  7           2335  short_term_deposit     investment  \n",
              "1                  7           2335  short_term_deposit     investment  \n",
              "2                  7           2335  short_term_deposit     investment  \n",
              "3                  7           2335  short_term_deposit     investment  \n",
              "4                  7           2335  short_term_deposit     investment  \n",
              "...              ...            ...                 ...            ...  \n",
              "240768             0           4657           em_acount        account  \n",
              "240769             0           4657           em_acount        account  \n",
              "240770             0           4657           em_acount        account  \n",
              "240771             0           4657           em_acount        account  \n",
              "240772             0           4657           em_acount        account  \n",
              "\n",
              "[240773 rows x 10 columns]"
            ],
            "text/html": [
              "\n",
              "  <div id=\"df-7723cb96-5f83-4e40-a8e3-6b1ecbfe8d3e\">\n",
              "    <div class=\"colab-df-container\">\n",
              "      <div>\n",
              "<style scoped>\n",
              "    .dataframe tbody tr th:only-of-type {\n",
              "        vertical-align: middle;\n",
              "    }\n",
              "\n",
              "    .dataframe tbody tr th {\n",
              "        vertical-align: top;\n",
              "    }\n",
              "\n",
              "    .dataframe thead th {\n",
              "        text-align: right;\n",
              "    }\n",
              "</style>\n",
              "<table border=\"1\" class=\"dataframe\">\n",
              "  <thead>\n",
              "    <tr style=\"text-align: right;\">\n",
              "      <th></th>\n",
              "      <th>Unnamed: 0_x</th>\n",
              "      <th>pk_sale</th>\n",
              "      <th>cid</th>\n",
              "      <th>month_sale</th>\n",
              "      <th>product_ID</th>\n",
              "      <th>net_margin</th>\n",
              "      <th>Unnamed: 0_y</th>\n",
              "      <th>pk_product_ID</th>\n",
              "      <th>product_desc</th>\n",
              "      <th>family_product</th>\n",
              "    </tr>\n",
              "  </thead>\n",
              "  <tbody>\n",
              "    <tr>\n",
              "      <th>0</th>\n",
              "      <td>0</td>\n",
              "      <td>6666</td>\n",
              "      <td>33620</td>\n",
              "      <td>2018-05-01</td>\n",
              "      <td>2335</td>\n",
              "      <td>952.9</td>\n",
              "      <td>7</td>\n",
              "      <td>2335</td>\n",
              "      <td>short_term_deposit</td>\n",
              "      <td>investment</td>\n",
              "    </tr>\n",
              "    <tr>\n",
              "      <th>1</th>\n",
              "      <td>1</td>\n",
              "      <td>6667</td>\n",
              "      <td>35063</td>\n",
              "      <td>2018-06-01</td>\n",
              "      <td>2335</td>\n",
              "      <td>1625.2</td>\n",
              "      <td>7</td>\n",
              "      <td>2335</td>\n",
              "      <td>short_term_deposit</td>\n",
              "      <td>investment</td>\n",
              "    </tr>\n",
              "    <tr>\n",
              "      <th>2</th>\n",
              "      <td>2</td>\n",
              "      <td>6668</td>\n",
              "      <td>37299</td>\n",
              "      <td>2018-02-01</td>\n",
              "      <td>2335</td>\n",
              "      <td>1279.7</td>\n",
              "      <td>7</td>\n",
              "      <td>2335</td>\n",
              "      <td>short_term_deposit</td>\n",
              "      <td>investment</td>\n",
              "    </tr>\n",
              "    <tr>\n",
              "      <th>3</th>\n",
              "      <td>3</td>\n",
              "      <td>6669</td>\n",
              "      <td>39997</td>\n",
              "      <td>2018-02-01</td>\n",
              "      <td>2335</td>\n",
              "      <td>1511.9</td>\n",
              "      <td>7</td>\n",
              "      <td>2335</td>\n",
              "      <td>short_term_deposit</td>\n",
              "      <td>investment</td>\n",
              "    </tr>\n",
              "    <tr>\n",
              "      <th>4</th>\n",
              "      <td>4</td>\n",
              "      <td>6670</td>\n",
              "      <td>44012</td>\n",
              "      <td>2018-02-01</td>\n",
              "      <td>2335</td>\n",
              "      <td>1680.3</td>\n",
              "      <td>7</td>\n",
              "      <td>2335</td>\n",
              "      <td>short_term_deposit</td>\n",
              "      <td>investment</td>\n",
              "    </tr>\n",
              "    <tr>\n",
              "      <th>...</th>\n",
              "      <td>...</td>\n",
              "      <td>...</td>\n",
              "      <td>...</td>\n",
              "      <td>...</td>\n",
              "      <td>...</td>\n",
              "      <td>...</td>\n",
              "      <td>...</td>\n",
              "      <td>...</td>\n",
              "      <td>...</td>\n",
              "      <td>...</td>\n",
              "    </tr>\n",
              "    <tr>\n",
              "      <th>240768</th>\n",
              "      <td>240768</td>\n",
              "      <td>247434</td>\n",
              "      <td>1553456</td>\n",
              "      <td>2019-05-01</td>\n",
              "      <td>4657</td>\n",
              "      <td>56.7</td>\n",
              "      <td>0</td>\n",
              "      <td>4657</td>\n",
              "      <td>em_acount</td>\n",
              "      <td>account</td>\n",
              "    </tr>\n",
              "    <tr>\n",
              "      <th>240769</th>\n",
              "      <td>240769</td>\n",
              "      <td>247435</td>\n",
              "      <td>1553541</td>\n",
              "      <td>2019-05-01</td>\n",
              "      <td>4657</td>\n",
              "      <td>66.5</td>\n",
              "      <td>0</td>\n",
              "      <td>4657</td>\n",
              "      <td>em_acount</td>\n",
              "      <td>account</td>\n",
              "    </tr>\n",
              "    <tr>\n",
              "      <th>240770</th>\n",
              "      <td>240770</td>\n",
              "      <td>247436</td>\n",
              "      <td>1553559</td>\n",
              "      <td>2019-05-01</td>\n",
              "      <td>4657</td>\n",
              "      <td>73.0</td>\n",
              "      <td>0</td>\n",
              "      <td>4657</td>\n",
              "      <td>em_acount</td>\n",
              "      <td>account</td>\n",
              "    </tr>\n",
              "    <tr>\n",
              "      <th>240771</th>\n",
              "      <td>240771</td>\n",
              "      <td>247437</td>\n",
              "      <td>1553565</td>\n",
              "      <td>2019-05-01</td>\n",
              "      <td>4657</td>\n",
              "      <td>82.3</td>\n",
              "      <td>0</td>\n",
              "      <td>4657</td>\n",
              "      <td>em_acount</td>\n",
              "      <td>account</td>\n",
              "    </tr>\n",
              "    <tr>\n",
              "      <th>240772</th>\n",
              "      <td>240772</td>\n",
              "      <td>247438</td>\n",
              "      <td>1553571</td>\n",
              "      <td>2019-05-01</td>\n",
              "      <td>4657</td>\n",
              "      <td>84.4</td>\n",
              "      <td>0</td>\n",
              "      <td>4657</td>\n",
              "      <td>em_acount</td>\n",
              "      <td>account</td>\n",
              "    </tr>\n",
              "  </tbody>\n",
              "</table>\n",
              "<p>240773 rows × 10 columns</p>\n",
              "</div>\n",
              "      <button class=\"colab-df-convert\" onclick=\"convertToInteractive('df-7723cb96-5f83-4e40-a8e3-6b1ecbfe8d3e')\"\n",
              "              title=\"Convert this dataframe to an interactive table.\"\n",
              "              style=\"display:none;\">\n",
              "        \n",
              "  <svg xmlns=\"http://www.w3.org/2000/svg\" height=\"24px\"viewBox=\"0 0 24 24\"\n",
              "       width=\"24px\">\n",
              "    <path d=\"M0 0h24v24H0V0z\" fill=\"none\"/>\n",
              "    <path d=\"M18.56 5.44l.94 2.06.94-2.06 2.06-.94-2.06-.94-.94-2.06-.94 2.06-2.06.94zm-11 1L8.5 8.5l.94-2.06 2.06-.94-2.06-.94L8.5 2.5l-.94 2.06-2.06.94zm10 10l.94 2.06.94-2.06 2.06-.94-2.06-.94-.94-2.06-.94 2.06-2.06.94z\"/><path d=\"M17.41 7.96l-1.37-1.37c-.4-.4-.92-.59-1.43-.59-.52 0-1.04.2-1.43.59L10.3 9.45l-7.72 7.72c-.78.78-.78 2.05 0 2.83L4 21.41c.39.39.9.59 1.41.59.51 0 1.02-.2 1.41-.59l7.78-7.78 2.81-2.81c.8-.78.8-2.07 0-2.86zM5.41 20L4 18.59l7.72-7.72 1.47 1.35L5.41 20z\"/>\n",
              "  </svg>\n",
              "      </button>\n",
              "      \n",
              "  <style>\n",
              "    .colab-df-container {\n",
              "      display:flex;\n",
              "      flex-wrap:wrap;\n",
              "      gap: 12px;\n",
              "    }\n",
              "\n",
              "    .colab-df-convert {\n",
              "      background-color: #E8F0FE;\n",
              "      border: none;\n",
              "      border-radius: 50%;\n",
              "      cursor: pointer;\n",
              "      display: none;\n",
              "      fill: #1967D2;\n",
              "      height: 32px;\n",
              "      padding: 0 0 0 0;\n",
              "      width: 32px;\n",
              "    }\n",
              "\n",
              "    .colab-df-convert:hover {\n",
              "      background-color: #E2EBFA;\n",
              "      box-shadow: 0px 1px 2px rgba(60, 64, 67, 0.3), 0px 1px 3px 1px rgba(60, 64, 67, 0.15);\n",
              "      fill: #174EA6;\n",
              "    }\n",
              "\n",
              "    [theme=dark] .colab-df-convert {\n",
              "      background-color: #3B4455;\n",
              "      fill: #D2E3FC;\n",
              "    }\n",
              "\n",
              "    [theme=dark] .colab-df-convert:hover {\n",
              "      background-color: #434B5C;\n",
              "      box-shadow: 0px 1px 3px 1px rgba(0, 0, 0, 0.15);\n",
              "      filter: drop-shadow(0px 1px 2px rgba(0, 0, 0, 0.3));\n",
              "      fill: #FFFFFF;\n",
              "    }\n",
              "  </style>\n",
              "\n",
              "      <script>\n",
              "        const buttonEl =\n",
              "          document.querySelector('#df-7723cb96-5f83-4e40-a8e3-6b1ecbfe8d3e button.colab-df-convert');\n",
              "        buttonEl.style.display =\n",
              "          google.colab.kernel.accessAllowed ? 'block' : 'none';\n",
              "\n",
              "        async function convertToInteractive(key) {\n",
              "          const element = document.querySelector('#df-7723cb96-5f83-4e40-a8e3-6b1ecbfe8d3e');\n",
              "          const dataTable =\n",
              "            await google.colab.kernel.invokeFunction('convertToInteractive',\n",
              "                                                     [key], {});\n",
              "          if (!dataTable) return;\n",
              "\n",
              "          const docLinkHtml = 'Like what you see? Visit the ' +\n",
              "            '<a target=\"_blank\" href=https://colab.research.google.com/notebooks/data_table.ipynb>data table notebook</a>'\n",
              "            + ' to learn more about interactive tables.';\n",
              "          element.innerHTML = '';\n",
              "          dataTable['output_type'] = 'display_data';\n",
              "          await google.colab.output.renderOutput(dataTable, element);\n",
              "          const docLink = document.createElement('div');\n",
              "          docLink.innerHTML = docLinkHtml;\n",
              "          element.appendChild(docLink);\n",
              "        }\n",
              "      </script>\n",
              "    </div>\n",
              "  </div>\n",
              "  "
            ]
          },
          "metadata": {},
          "execution_count": 53
        }
      ]
    },
    {
      "cell_type": "code",
      "source": [
        "# Quitar pension plan de las variables, solo en target\n",
        "# Si hay productos/variables muy correlacionadas eliminar también (cerca a 1)"
      ],
      "metadata": {
        "id": "Tmsk9Hm0xCeX"
      },
      "execution_count": 54,
      "outputs": []
    },
    {
      "cell_type": "code",
      "source": [
        "df_sales1 = df_sales_raw.copy()"
      ],
      "metadata": {
        "id": "kAYtycQl3BLe"
      },
      "execution_count": 55,
      "outputs": []
    },
    {
      "cell_type": "code",
      "source": [
        "# Eliminar columna Unnamed\n",
        "\n",
        "df_sales1.drop(\"Unnamed: 0_x\", axis = 1, inplace = True)\n",
        "df_sales1.drop(\"Unnamed: 0_y\", axis = 1, inplace = True)\n",
        "\n",
        "# Eliminar columna \"pk_product_ID\" duplicada tras el merge\n",
        "\n",
        "df_sales1.drop(\"pk_product_ID\", axis = 1, inplace = True)\n",
        "\n",
        "#elimnar todas excepto,  month_sale, customer_id, y product_ID\n",
        "df_sales1.drop(\"pk_sale\", axis = 1, inplace = True)\n",
        "df_sales1.drop(\"net_margin\", axis = 1, inplace = True)\n",
        "\n"
      ],
      "metadata": {
        "id": "nl_7zAMTm6cW"
      },
      "execution_count": 56,
      "outputs": []
    },
    {
      "cell_type": "code",
      "source": [
        "df_sales1.head()"
      ],
      "metadata": {
        "colab": {
          "base_uri": "https://localhost:8080/",
          "height": 206
        },
        "id": "vxBwp1eiDwzS",
        "outputId": "b6f20a6c-ff70-4e4f-90ea-7c34d336b079"
      },
      "execution_count": 57,
      "outputs": [
        {
          "output_type": "execute_result",
          "data": {
            "text/plain": [
              "     cid  month_sale  product_ID        product_desc family_product\n",
              "0  33620  2018-05-01        2335  short_term_deposit     investment\n",
              "1  35063  2018-06-01        2335  short_term_deposit     investment\n",
              "2  37299  2018-02-01        2335  short_term_deposit     investment\n",
              "3  39997  2018-02-01        2335  short_term_deposit     investment\n",
              "4  44012  2018-02-01        2335  short_term_deposit     investment"
            ],
            "text/html": [
              "\n",
              "  <div id=\"df-110a487e-ffbc-4076-8fa3-6706484e31c2\">\n",
              "    <div class=\"colab-df-container\">\n",
              "      <div>\n",
              "<style scoped>\n",
              "    .dataframe tbody tr th:only-of-type {\n",
              "        vertical-align: middle;\n",
              "    }\n",
              "\n",
              "    .dataframe tbody tr th {\n",
              "        vertical-align: top;\n",
              "    }\n",
              "\n",
              "    .dataframe thead th {\n",
              "        text-align: right;\n",
              "    }\n",
              "</style>\n",
              "<table border=\"1\" class=\"dataframe\">\n",
              "  <thead>\n",
              "    <tr style=\"text-align: right;\">\n",
              "      <th></th>\n",
              "      <th>cid</th>\n",
              "      <th>month_sale</th>\n",
              "      <th>product_ID</th>\n",
              "      <th>product_desc</th>\n",
              "      <th>family_product</th>\n",
              "    </tr>\n",
              "  </thead>\n",
              "  <tbody>\n",
              "    <tr>\n",
              "      <th>0</th>\n",
              "      <td>33620</td>\n",
              "      <td>2018-05-01</td>\n",
              "      <td>2335</td>\n",
              "      <td>short_term_deposit</td>\n",
              "      <td>investment</td>\n",
              "    </tr>\n",
              "    <tr>\n",
              "      <th>1</th>\n",
              "      <td>35063</td>\n",
              "      <td>2018-06-01</td>\n",
              "      <td>2335</td>\n",
              "      <td>short_term_deposit</td>\n",
              "      <td>investment</td>\n",
              "    </tr>\n",
              "    <tr>\n",
              "      <th>2</th>\n",
              "      <td>37299</td>\n",
              "      <td>2018-02-01</td>\n",
              "      <td>2335</td>\n",
              "      <td>short_term_deposit</td>\n",
              "      <td>investment</td>\n",
              "    </tr>\n",
              "    <tr>\n",
              "      <th>3</th>\n",
              "      <td>39997</td>\n",
              "      <td>2018-02-01</td>\n",
              "      <td>2335</td>\n",
              "      <td>short_term_deposit</td>\n",
              "      <td>investment</td>\n",
              "    </tr>\n",
              "    <tr>\n",
              "      <th>4</th>\n",
              "      <td>44012</td>\n",
              "      <td>2018-02-01</td>\n",
              "      <td>2335</td>\n",
              "      <td>short_term_deposit</td>\n",
              "      <td>investment</td>\n",
              "    </tr>\n",
              "  </tbody>\n",
              "</table>\n",
              "</div>\n",
              "      <button class=\"colab-df-convert\" onclick=\"convertToInteractive('df-110a487e-ffbc-4076-8fa3-6706484e31c2')\"\n",
              "              title=\"Convert this dataframe to an interactive table.\"\n",
              "              style=\"display:none;\">\n",
              "        \n",
              "  <svg xmlns=\"http://www.w3.org/2000/svg\" height=\"24px\"viewBox=\"0 0 24 24\"\n",
              "       width=\"24px\">\n",
              "    <path d=\"M0 0h24v24H0V0z\" fill=\"none\"/>\n",
              "    <path d=\"M18.56 5.44l.94 2.06.94-2.06 2.06-.94-2.06-.94-.94-2.06-.94 2.06-2.06.94zm-11 1L8.5 8.5l.94-2.06 2.06-.94-2.06-.94L8.5 2.5l-.94 2.06-2.06.94zm10 10l.94 2.06.94-2.06 2.06-.94-2.06-.94-.94-2.06-.94 2.06-2.06.94z\"/><path d=\"M17.41 7.96l-1.37-1.37c-.4-.4-.92-.59-1.43-.59-.52 0-1.04.2-1.43.59L10.3 9.45l-7.72 7.72c-.78.78-.78 2.05 0 2.83L4 21.41c.39.39.9.59 1.41.59.51 0 1.02-.2 1.41-.59l7.78-7.78 2.81-2.81c.8-.78.8-2.07 0-2.86zM5.41 20L4 18.59l7.72-7.72 1.47 1.35L5.41 20z\"/>\n",
              "  </svg>\n",
              "      </button>\n",
              "      \n",
              "  <style>\n",
              "    .colab-df-container {\n",
              "      display:flex;\n",
              "      flex-wrap:wrap;\n",
              "      gap: 12px;\n",
              "    }\n",
              "\n",
              "    .colab-df-convert {\n",
              "      background-color: #E8F0FE;\n",
              "      border: none;\n",
              "      border-radius: 50%;\n",
              "      cursor: pointer;\n",
              "      display: none;\n",
              "      fill: #1967D2;\n",
              "      height: 32px;\n",
              "      padding: 0 0 0 0;\n",
              "      width: 32px;\n",
              "    }\n",
              "\n",
              "    .colab-df-convert:hover {\n",
              "      background-color: #E2EBFA;\n",
              "      box-shadow: 0px 1px 2px rgba(60, 64, 67, 0.3), 0px 1px 3px 1px rgba(60, 64, 67, 0.15);\n",
              "      fill: #174EA6;\n",
              "    }\n",
              "\n",
              "    [theme=dark] .colab-df-convert {\n",
              "      background-color: #3B4455;\n",
              "      fill: #D2E3FC;\n",
              "    }\n",
              "\n",
              "    [theme=dark] .colab-df-convert:hover {\n",
              "      background-color: #434B5C;\n",
              "      box-shadow: 0px 1px 3px 1px rgba(0, 0, 0, 0.15);\n",
              "      filter: drop-shadow(0px 1px 2px rgba(0, 0, 0, 0.3));\n",
              "      fill: #FFFFFF;\n",
              "    }\n",
              "  </style>\n",
              "\n",
              "      <script>\n",
              "        const buttonEl =\n",
              "          document.querySelector('#df-110a487e-ffbc-4076-8fa3-6706484e31c2 button.colab-df-convert');\n",
              "        buttonEl.style.display =\n",
              "          google.colab.kernel.accessAllowed ? 'block' : 'none';\n",
              "\n",
              "        async function convertToInteractive(key) {\n",
              "          const element = document.querySelector('#df-110a487e-ffbc-4076-8fa3-6706484e31c2');\n",
              "          const dataTable =\n",
              "            await google.colab.kernel.invokeFunction('convertToInteractive',\n",
              "                                                     [key], {});\n",
              "          if (!dataTable) return;\n",
              "\n",
              "          const docLinkHtml = 'Like what you see? Visit the ' +\n",
              "            '<a target=\"_blank\" href=https://colab.research.google.com/notebooks/data_table.ipynb>data table notebook</a>'\n",
              "            + ' to learn more about interactive tables.';\n",
              "          element.innerHTML = '';\n",
              "          dataTable['output_type'] = 'display_data';\n",
              "          await google.colab.output.renderOutput(dataTable, element);\n",
              "          const docLink = document.createElement('div');\n",
              "          docLink.innerHTML = docLinkHtml;\n",
              "          element.appendChild(docLink);\n",
              "        }\n",
              "      </script>\n",
              "    </div>\n",
              "  </div>\n",
              "  "
            ]
          },
          "metadata": {},
          "execution_count": 57
        }
      ]
    },
    {
      "cell_type": "code",
      "source": [
        "# Renombrar columnas para alinear el naming, por ejemplo variable cid como \"client_ID\"\n",
        "\n",
        "df_sales1.rename({\"cid\": \"customer_ID\"},axis='columns',inplace = True)"
      ],
      "metadata": {
        "id": "05oy_3Unnbwk"
      },
      "execution_count": 58,
      "outputs": []
    },
    {
      "cell_type": "code",
      "source": [
        "# Cambiar los identificadores (product_ID, customer_ID) a variable categórica\n",
        "\n",
        "df_sales1[\"product_ID\"] = df_sales1[\"product_ID\"].astype(\"object\")\n",
        "df_sales1[\"customer_ID\"] = df_sales1[\"customer_ID\"].astype(\"object\")"
      ],
      "metadata": {
        "id": "vHPHY-sfpgwJ"
      },
      "execution_count": 59,
      "outputs": []
    },
    {
      "cell_type": "code",
      "source": [
        "# Cambiar tipo de month_sale a fecha\n",
        "\n",
        "df_sales1[\"month_sale\"] = pd.to_datetime(df_sales1[\"month_sale\"], format = \"%Y/%m/%d\")"
      ],
      "metadata": {
        "id": "-fn3EHEwsOUV"
      },
      "execution_count": 60,
      "outputs": []
    },
    {
      "cell_type": "code",
      "source": [
        "# Disgregar la fecha en mes, año, día, día de la semana (otros: trimestre, fin de semana, festivo...)\n",
        "\n",
        "df_sales1[\"month_sales\"] = df_sales1[\"month_sale\"].dt.month\n",
        "df_sales1[\"year_sales\"] = df_sales1[\"month_sale\"].dt.year"
      ],
      "metadata": {
        "id": "mzGi2Qk8u7O1"
      },
      "execution_count": 61,
      "outputs": []
    },
    {
      "cell_type": "code",
      "source": [
        "df_sales1.info()"
      ],
      "metadata": {
        "id": "u2f2yxVtr7po",
        "outputId": "e1220ceb-9871-41e6-e685-d143c5fc8aee",
        "colab": {
          "base_uri": "https://localhost:8080/"
        }
      },
      "execution_count": 62,
      "outputs": [
        {
          "output_type": "stream",
          "name": "stdout",
          "text": [
            "<class 'pandas.core.frame.DataFrame'>\n",
            "Int64Index: 240773 entries, 0 to 240772\n",
            "Data columns (total 7 columns):\n",
            " #   Column          Non-Null Count   Dtype         \n",
            "---  ------          --------------   -----         \n",
            " 0   customer_ID     240773 non-null  object        \n",
            " 1   month_sale      240773 non-null  datetime64[ns]\n",
            " 2   product_ID      240773 non-null  object        \n",
            " 3   product_desc    240773 non-null  object        \n",
            " 4   family_product  240773 non-null  object        \n",
            " 5   month_sales     240773 non-null  int64         \n",
            " 6   year_sales      240773 non-null  int64         \n",
            "dtypes: datetime64[ns](1), int64(2), object(4)\n",
            "memory usage: 14.7+ MB\n"
          ]
        }
      ]
    },
    {
      "cell_type": "code",
      "source": [
        "df_sales1['partition_date']=df_sales1['month_sale']-pd.DateOffset(months=1)\n"
      ],
      "metadata": {
        "id": "RVSNYFGGE9O5"
      },
      "execution_count": 63,
      "outputs": []
    },
    {
      "cell_type": "code",
      "source": [
        "df_sales1.head()"
      ],
      "metadata": {
        "id": "OC1WvdBeGQxD",
        "outputId": "9b0a55a4-24aa-4925-b910-136246d692cc",
        "colab": {
          "base_uri": "https://localhost:8080/",
          "height": 206
        }
      },
      "execution_count": 64,
      "outputs": [
        {
          "output_type": "execute_result",
          "data": {
            "text/plain": [
              "  customer_ID month_sale product_ID        product_desc family_product  \\\n",
              "0       33620 2018-05-01       2335  short_term_deposit     investment   \n",
              "1       35063 2018-06-01       2335  short_term_deposit     investment   \n",
              "2       37299 2018-02-01       2335  short_term_deposit     investment   \n",
              "3       39997 2018-02-01       2335  short_term_deposit     investment   \n",
              "4       44012 2018-02-01       2335  short_term_deposit     investment   \n",
              "\n",
              "   month_sales  year_sales partition_date  \n",
              "0            5        2018     2018-04-01  \n",
              "1            6        2018     2018-05-01  \n",
              "2            2        2018     2018-01-01  \n",
              "3            2        2018     2018-01-01  \n",
              "4            2        2018     2018-01-01  "
            ],
            "text/html": [
              "\n",
              "  <div id=\"df-56977a04-b0df-4221-82e3-94b0cdf0dab9\">\n",
              "    <div class=\"colab-df-container\">\n",
              "      <div>\n",
              "<style scoped>\n",
              "    .dataframe tbody tr th:only-of-type {\n",
              "        vertical-align: middle;\n",
              "    }\n",
              "\n",
              "    .dataframe tbody tr th {\n",
              "        vertical-align: top;\n",
              "    }\n",
              "\n",
              "    .dataframe thead th {\n",
              "        text-align: right;\n",
              "    }\n",
              "</style>\n",
              "<table border=\"1\" class=\"dataframe\">\n",
              "  <thead>\n",
              "    <tr style=\"text-align: right;\">\n",
              "      <th></th>\n",
              "      <th>customer_ID</th>\n",
              "      <th>month_sale</th>\n",
              "      <th>product_ID</th>\n",
              "      <th>product_desc</th>\n",
              "      <th>family_product</th>\n",
              "      <th>month_sales</th>\n",
              "      <th>year_sales</th>\n",
              "      <th>partition_date</th>\n",
              "    </tr>\n",
              "  </thead>\n",
              "  <tbody>\n",
              "    <tr>\n",
              "      <th>0</th>\n",
              "      <td>33620</td>\n",
              "      <td>2018-05-01</td>\n",
              "      <td>2335</td>\n",
              "      <td>short_term_deposit</td>\n",
              "      <td>investment</td>\n",
              "      <td>5</td>\n",
              "      <td>2018</td>\n",
              "      <td>2018-04-01</td>\n",
              "    </tr>\n",
              "    <tr>\n",
              "      <th>1</th>\n",
              "      <td>35063</td>\n",
              "      <td>2018-06-01</td>\n",
              "      <td>2335</td>\n",
              "      <td>short_term_deposit</td>\n",
              "      <td>investment</td>\n",
              "      <td>6</td>\n",
              "      <td>2018</td>\n",
              "      <td>2018-05-01</td>\n",
              "    </tr>\n",
              "    <tr>\n",
              "      <th>2</th>\n",
              "      <td>37299</td>\n",
              "      <td>2018-02-01</td>\n",
              "      <td>2335</td>\n",
              "      <td>short_term_deposit</td>\n",
              "      <td>investment</td>\n",
              "      <td>2</td>\n",
              "      <td>2018</td>\n",
              "      <td>2018-01-01</td>\n",
              "    </tr>\n",
              "    <tr>\n",
              "      <th>3</th>\n",
              "      <td>39997</td>\n",
              "      <td>2018-02-01</td>\n",
              "      <td>2335</td>\n",
              "      <td>short_term_deposit</td>\n",
              "      <td>investment</td>\n",
              "      <td>2</td>\n",
              "      <td>2018</td>\n",
              "      <td>2018-01-01</td>\n",
              "    </tr>\n",
              "    <tr>\n",
              "      <th>4</th>\n",
              "      <td>44012</td>\n",
              "      <td>2018-02-01</td>\n",
              "      <td>2335</td>\n",
              "      <td>short_term_deposit</td>\n",
              "      <td>investment</td>\n",
              "      <td>2</td>\n",
              "      <td>2018</td>\n",
              "      <td>2018-01-01</td>\n",
              "    </tr>\n",
              "  </tbody>\n",
              "</table>\n",
              "</div>\n",
              "      <button class=\"colab-df-convert\" onclick=\"convertToInteractive('df-56977a04-b0df-4221-82e3-94b0cdf0dab9')\"\n",
              "              title=\"Convert this dataframe to an interactive table.\"\n",
              "              style=\"display:none;\">\n",
              "        \n",
              "  <svg xmlns=\"http://www.w3.org/2000/svg\" height=\"24px\"viewBox=\"0 0 24 24\"\n",
              "       width=\"24px\">\n",
              "    <path d=\"M0 0h24v24H0V0z\" fill=\"none\"/>\n",
              "    <path d=\"M18.56 5.44l.94 2.06.94-2.06 2.06-.94-2.06-.94-.94-2.06-.94 2.06-2.06.94zm-11 1L8.5 8.5l.94-2.06 2.06-.94-2.06-.94L8.5 2.5l-.94 2.06-2.06.94zm10 10l.94 2.06.94-2.06 2.06-.94-2.06-.94-.94-2.06-.94 2.06-2.06.94z\"/><path d=\"M17.41 7.96l-1.37-1.37c-.4-.4-.92-.59-1.43-.59-.52 0-1.04.2-1.43.59L10.3 9.45l-7.72 7.72c-.78.78-.78 2.05 0 2.83L4 21.41c.39.39.9.59 1.41.59.51 0 1.02-.2 1.41-.59l7.78-7.78 2.81-2.81c.8-.78.8-2.07 0-2.86zM5.41 20L4 18.59l7.72-7.72 1.47 1.35L5.41 20z\"/>\n",
              "  </svg>\n",
              "      </button>\n",
              "      \n",
              "  <style>\n",
              "    .colab-df-container {\n",
              "      display:flex;\n",
              "      flex-wrap:wrap;\n",
              "      gap: 12px;\n",
              "    }\n",
              "\n",
              "    .colab-df-convert {\n",
              "      background-color: #E8F0FE;\n",
              "      border: none;\n",
              "      border-radius: 50%;\n",
              "      cursor: pointer;\n",
              "      display: none;\n",
              "      fill: #1967D2;\n",
              "      height: 32px;\n",
              "      padding: 0 0 0 0;\n",
              "      width: 32px;\n",
              "    }\n",
              "\n",
              "    .colab-df-convert:hover {\n",
              "      background-color: #E2EBFA;\n",
              "      box-shadow: 0px 1px 2px rgba(60, 64, 67, 0.3), 0px 1px 3px 1px rgba(60, 64, 67, 0.15);\n",
              "      fill: #174EA6;\n",
              "    }\n",
              "\n",
              "    [theme=dark] .colab-df-convert {\n",
              "      background-color: #3B4455;\n",
              "      fill: #D2E3FC;\n",
              "    }\n",
              "\n",
              "    [theme=dark] .colab-df-convert:hover {\n",
              "      background-color: #434B5C;\n",
              "      box-shadow: 0px 1px 3px 1px rgba(0, 0, 0, 0.15);\n",
              "      filter: drop-shadow(0px 1px 2px rgba(0, 0, 0, 0.3));\n",
              "      fill: #FFFFFF;\n",
              "    }\n",
              "  </style>\n",
              "\n",
              "      <script>\n",
              "        const buttonEl =\n",
              "          document.querySelector('#df-56977a04-b0df-4221-82e3-94b0cdf0dab9 button.colab-df-convert');\n",
              "        buttonEl.style.display =\n",
              "          google.colab.kernel.accessAllowed ? 'block' : 'none';\n",
              "\n",
              "        async function convertToInteractive(key) {\n",
              "          const element = document.querySelector('#df-56977a04-b0df-4221-82e3-94b0cdf0dab9');\n",
              "          const dataTable =\n",
              "            await google.colab.kernel.invokeFunction('convertToInteractive',\n",
              "                                                     [key], {});\n",
              "          if (!dataTable) return;\n",
              "\n",
              "          const docLinkHtml = 'Like what you see? Visit the ' +\n",
              "            '<a target=\"_blank\" href=https://colab.research.google.com/notebooks/data_table.ipynb>data table notebook</a>'\n",
              "            + ' to learn more about interactive tables.';\n",
              "          element.innerHTML = '';\n",
              "          dataTable['output_type'] = 'display_data';\n",
              "          await google.colab.output.renderOutput(dataTable, element);\n",
              "          const docLink = document.createElement('div');\n",
              "          docLink.innerHTML = docLinkHtml;\n",
              "          element.appendChild(docLink);\n",
              "        }\n",
              "      </script>\n",
              "    </div>\n",
              "  </div>\n",
              "  "
            ]
          },
          "metadata": {},
          "execution_count": 64
        }
      ]
    },
    {
      "cell_type": "markdown",
      "source": [
        "## Procesamiento de Customers"
      ],
      "metadata": {
        "id": "ds9YPpHoteTF"
      }
    },
    {
      "cell_type": "code",
      "source": [
        "customer_sociodemographics_raw.head()"
      ],
      "metadata": {
        "colab": {
          "base_uri": "https://localhost:8080/",
          "height": 206
        },
        "id": "viTn1jwoFkXi",
        "outputId": "f3dd1dd8-9a59-40ea-c341-15e8c6aaf0ff"
      },
      "execution_count": 65,
      "outputs": [
        {
          "output_type": "execute_result",
          "data": {
            "text/plain": [
              "   Unnamed: 0   pk_cid pk_partition country_id  region_code gender  age  \\\n",
              "0           0  1375586      2018-01         ES         29.0      H   35   \n",
              "1           1  1050611      2018-01         ES         13.0      V   23   \n",
              "2           2  1050612      2018-01         ES         13.0      V   23   \n",
              "3           3  1050613      2018-01         ES         50.0      H   22   \n",
              "4           4  1050614      2018-01         ES         50.0      V   23   \n",
              "\n",
              "  deceased     salary  \n",
              "0        N   87218.10  \n",
              "1        N   35548.74  \n",
              "2        N  122179.11  \n",
              "3        N  119775.54  \n",
              "4        N        NaN  "
            ],
            "text/html": [
              "\n",
              "  <div id=\"df-c7def2bd-aefe-4c30-8fb3-cebb0de4cda4\">\n",
              "    <div class=\"colab-df-container\">\n",
              "      <div>\n",
              "<style scoped>\n",
              "    .dataframe tbody tr th:only-of-type {\n",
              "        vertical-align: middle;\n",
              "    }\n",
              "\n",
              "    .dataframe tbody tr th {\n",
              "        vertical-align: top;\n",
              "    }\n",
              "\n",
              "    .dataframe thead th {\n",
              "        text-align: right;\n",
              "    }\n",
              "</style>\n",
              "<table border=\"1\" class=\"dataframe\">\n",
              "  <thead>\n",
              "    <tr style=\"text-align: right;\">\n",
              "      <th></th>\n",
              "      <th>Unnamed: 0</th>\n",
              "      <th>pk_cid</th>\n",
              "      <th>pk_partition</th>\n",
              "      <th>country_id</th>\n",
              "      <th>region_code</th>\n",
              "      <th>gender</th>\n",
              "      <th>age</th>\n",
              "      <th>deceased</th>\n",
              "      <th>salary</th>\n",
              "    </tr>\n",
              "  </thead>\n",
              "  <tbody>\n",
              "    <tr>\n",
              "      <th>0</th>\n",
              "      <td>0</td>\n",
              "      <td>1375586</td>\n",
              "      <td>2018-01</td>\n",
              "      <td>ES</td>\n",
              "      <td>29.0</td>\n",
              "      <td>H</td>\n",
              "      <td>35</td>\n",
              "      <td>N</td>\n",
              "      <td>87218.10</td>\n",
              "    </tr>\n",
              "    <tr>\n",
              "      <th>1</th>\n",
              "      <td>1</td>\n",
              "      <td>1050611</td>\n",
              "      <td>2018-01</td>\n",
              "      <td>ES</td>\n",
              "      <td>13.0</td>\n",
              "      <td>V</td>\n",
              "      <td>23</td>\n",
              "      <td>N</td>\n",
              "      <td>35548.74</td>\n",
              "    </tr>\n",
              "    <tr>\n",
              "      <th>2</th>\n",
              "      <td>2</td>\n",
              "      <td>1050612</td>\n",
              "      <td>2018-01</td>\n",
              "      <td>ES</td>\n",
              "      <td>13.0</td>\n",
              "      <td>V</td>\n",
              "      <td>23</td>\n",
              "      <td>N</td>\n",
              "      <td>122179.11</td>\n",
              "    </tr>\n",
              "    <tr>\n",
              "      <th>3</th>\n",
              "      <td>3</td>\n",
              "      <td>1050613</td>\n",
              "      <td>2018-01</td>\n",
              "      <td>ES</td>\n",
              "      <td>50.0</td>\n",
              "      <td>H</td>\n",
              "      <td>22</td>\n",
              "      <td>N</td>\n",
              "      <td>119775.54</td>\n",
              "    </tr>\n",
              "    <tr>\n",
              "      <th>4</th>\n",
              "      <td>4</td>\n",
              "      <td>1050614</td>\n",
              "      <td>2018-01</td>\n",
              "      <td>ES</td>\n",
              "      <td>50.0</td>\n",
              "      <td>V</td>\n",
              "      <td>23</td>\n",
              "      <td>N</td>\n",
              "      <td>NaN</td>\n",
              "    </tr>\n",
              "  </tbody>\n",
              "</table>\n",
              "</div>\n",
              "      <button class=\"colab-df-convert\" onclick=\"convertToInteractive('df-c7def2bd-aefe-4c30-8fb3-cebb0de4cda4')\"\n",
              "              title=\"Convert this dataframe to an interactive table.\"\n",
              "              style=\"display:none;\">\n",
              "        \n",
              "  <svg xmlns=\"http://www.w3.org/2000/svg\" height=\"24px\"viewBox=\"0 0 24 24\"\n",
              "       width=\"24px\">\n",
              "    <path d=\"M0 0h24v24H0V0z\" fill=\"none\"/>\n",
              "    <path d=\"M18.56 5.44l.94 2.06.94-2.06 2.06-.94-2.06-.94-.94-2.06-.94 2.06-2.06.94zm-11 1L8.5 8.5l.94-2.06 2.06-.94-2.06-.94L8.5 2.5l-.94 2.06-2.06.94zm10 10l.94 2.06.94-2.06 2.06-.94-2.06-.94-.94-2.06-.94 2.06-2.06.94z\"/><path d=\"M17.41 7.96l-1.37-1.37c-.4-.4-.92-.59-1.43-.59-.52 0-1.04.2-1.43.59L10.3 9.45l-7.72 7.72c-.78.78-.78 2.05 0 2.83L4 21.41c.39.39.9.59 1.41.59.51 0 1.02-.2 1.41-.59l7.78-7.78 2.81-2.81c.8-.78.8-2.07 0-2.86zM5.41 20L4 18.59l7.72-7.72 1.47 1.35L5.41 20z\"/>\n",
              "  </svg>\n",
              "      </button>\n",
              "      \n",
              "  <style>\n",
              "    .colab-df-container {\n",
              "      display:flex;\n",
              "      flex-wrap:wrap;\n",
              "      gap: 12px;\n",
              "    }\n",
              "\n",
              "    .colab-df-convert {\n",
              "      background-color: #E8F0FE;\n",
              "      border: none;\n",
              "      border-radius: 50%;\n",
              "      cursor: pointer;\n",
              "      display: none;\n",
              "      fill: #1967D2;\n",
              "      height: 32px;\n",
              "      padding: 0 0 0 0;\n",
              "      width: 32px;\n",
              "    }\n",
              "\n",
              "    .colab-df-convert:hover {\n",
              "      background-color: #E2EBFA;\n",
              "      box-shadow: 0px 1px 2px rgba(60, 64, 67, 0.3), 0px 1px 3px 1px rgba(60, 64, 67, 0.15);\n",
              "      fill: #174EA6;\n",
              "    }\n",
              "\n",
              "    [theme=dark] .colab-df-convert {\n",
              "      background-color: #3B4455;\n",
              "      fill: #D2E3FC;\n",
              "    }\n",
              "\n",
              "    [theme=dark] .colab-df-convert:hover {\n",
              "      background-color: #434B5C;\n",
              "      box-shadow: 0px 1px 3px 1px rgba(0, 0, 0, 0.15);\n",
              "      filter: drop-shadow(0px 1px 2px rgba(0, 0, 0, 0.3));\n",
              "      fill: #FFFFFF;\n",
              "    }\n",
              "  </style>\n",
              "\n",
              "      <script>\n",
              "        const buttonEl =\n",
              "          document.querySelector('#df-c7def2bd-aefe-4c30-8fb3-cebb0de4cda4 button.colab-df-convert');\n",
              "        buttonEl.style.display =\n",
              "          google.colab.kernel.accessAllowed ? 'block' : 'none';\n",
              "\n",
              "        async function convertToInteractive(key) {\n",
              "          const element = document.querySelector('#df-c7def2bd-aefe-4c30-8fb3-cebb0de4cda4');\n",
              "          const dataTable =\n",
              "            await google.colab.kernel.invokeFunction('convertToInteractive',\n",
              "                                                     [key], {});\n",
              "          if (!dataTable) return;\n",
              "\n",
              "          const docLinkHtml = 'Like what you see? Visit the ' +\n",
              "            '<a target=\"_blank\" href=https://colab.research.google.com/notebooks/data_table.ipynb>data table notebook</a>'\n",
              "            + ' to learn more about interactive tables.';\n",
              "          element.innerHTML = '';\n",
              "          dataTable['output_type'] = 'display_data';\n",
              "          await google.colab.output.renderOutput(dataTable, element);\n",
              "          const docLink = document.createElement('div');\n",
              "          docLink.innerHTML = docLinkHtml;\n",
              "          element.appendChild(docLink);\n",
              "        }\n",
              "      </script>\n",
              "    </div>\n",
              "  </div>\n",
              "  "
            ]
          },
          "metadata": {},
          "execution_count": 65
        }
      ]
    },
    {
      "cell_type": "code",
      "source": [
        "df_soc=customer_sociodemographics_raw[customer_sociodemographics_raw['deceased']=='N'].copy()"
      ],
      "metadata": {
        "id": "XMe6OTdxFOBW"
      },
      "execution_count": 66,
      "outputs": []
    },
    {
      "cell_type": "code",
      "source": [
        "df_soc.drop(\"Unnamed: 0\", axis = 1, inplace = True)\n",
        "df_soc.drop(\"deceased\", axis = 1, inplace = True)"
      ],
      "metadata": {
        "id": "x1yDVVLGF1zO"
      },
      "execution_count": 67,
      "outputs": []
    },
    {
      "cell_type": "code",
      "source": [
        "df_soc.rename({\"pk_cid\": \"customer_ID\"},axis='columns',inplace = True)"
      ],
      "metadata": {
        "id": "YuVfiXZEGj6S"
      },
      "execution_count": 68,
      "outputs": []
    },
    {
      "cell_type": "code",
      "source": [
        "df_soc.head()"
      ],
      "metadata": {
        "colab": {
          "base_uri": "https://localhost:8080/",
          "height": 206
        },
        "id": "hieCeavkGqdj",
        "outputId": "8a833e01-53db-446c-c2d3-be1d06598a01"
      },
      "execution_count": 69,
      "outputs": [
        {
          "output_type": "execute_result",
          "data": {
            "text/plain": [
              "   customer_ID pk_partition country_id  region_code gender  age     salary\n",
              "0      1375586      2018-01         ES         29.0      H   35   87218.10\n",
              "1      1050611      2018-01         ES         13.0      V   23   35548.74\n",
              "2      1050612      2018-01         ES         13.0      V   23  122179.11\n",
              "3      1050613      2018-01         ES         50.0      H   22  119775.54\n",
              "4      1050614      2018-01         ES         50.0      V   23        NaN"
            ],
            "text/html": [
              "\n",
              "  <div id=\"df-8031bd61-4379-4f4d-aafa-dbd561e90892\">\n",
              "    <div class=\"colab-df-container\">\n",
              "      <div>\n",
              "<style scoped>\n",
              "    .dataframe tbody tr th:only-of-type {\n",
              "        vertical-align: middle;\n",
              "    }\n",
              "\n",
              "    .dataframe tbody tr th {\n",
              "        vertical-align: top;\n",
              "    }\n",
              "\n",
              "    .dataframe thead th {\n",
              "        text-align: right;\n",
              "    }\n",
              "</style>\n",
              "<table border=\"1\" class=\"dataframe\">\n",
              "  <thead>\n",
              "    <tr style=\"text-align: right;\">\n",
              "      <th></th>\n",
              "      <th>customer_ID</th>\n",
              "      <th>pk_partition</th>\n",
              "      <th>country_id</th>\n",
              "      <th>region_code</th>\n",
              "      <th>gender</th>\n",
              "      <th>age</th>\n",
              "      <th>salary</th>\n",
              "    </tr>\n",
              "  </thead>\n",
              "  <tbody>\n",
              "    <tr>\n",
              "      <th>0</th>\n",
              "      <td>1375586</td>\n",
              "      <td>2018-01</td>\n",
              "      <td>ES</td>\n",
              "      <td>29.0</td>\n",
              "      <td>H</td>\n",
              "      <td>35</td>\n",
              "      <td>87218.10</td>\n",
              "    </tr>\n",
              "    <tr>\n",
              "      <th>1</th>\n",
              "      <td>1050611</td>\n",
              "      <td>2018-01</td>\n",
              "      <td>ES</td>\n",
              "      <td>13.0</td>\n",
              "      <td>V</td>\n",
              "      <td>23</td>\n",
              "      <td>35548.74</td>\n",
              "    </tr>\n",
              "    <tr>\n",
              "      <th>2</th>\n",
              "      <td>1050612</td>\n",
              "      <td>2018-01</td>\n",
              "      <td>ES</td>\n",
              "      <td>13.0</td>\n",
              "      <td>V</td>\n",
              "      <td>23</td>\n",
              "      <td>122179.11</td>\n",
              "    </tr>\n",
              "    <tr>\n",
              "      <th>3</th>\n",
              "      <td>1050613</td>\n",
              "      <td>2018-01</td>\n",
              "      <td>ES</td>\n",
              "      <td>50.0</td>\n",
              "      <td>H</td>\n",
              "      <td>22</td>\n",
              "      <td>119775.54</td>\n",
              "    </tr>\n",
              "    <tr>\n",
              "      <th>4</th>\n",
              "      <td>1050614</td>\n",
              "      <td>2018-01</td>\n",
              "      <td>ES</td>\n",
              "      <td>50.0</td>\n",
              "      <td>V</td>\n",
              "      <td>23</td>\n",
              "      <td>NaN</td>\n",
              "    </tr>\n",
              "  </tbody>\n",
              "</table>\n",
              "</div>\n",
              "      <button class=\"colab-df-convert\" onclick=\"convertToInteractive('df-8031bd61-4379-4f4d-aafa-dbd561e90892')\"\n",
              "              title=\"Convert this dataframe to an interactive table.\"\n",
              "              style=\"display:none;\">\n",
              "        \n",
              "  <svg xmlns=\"http://www.w3.org/2000/svg\" height=\"24px\"viewBox=\"0 0 24 24\"\n",
              "       width=\"24px\">\n",
              "    <path d=\"M0 0h24v24H0V0z\" fill=\"none\"/>\n",
              "    <path d=\"M18.56 5.44l.94 2.06.94-2.06 2.06-.94-2.06-.94-.94-2.06-.94 2.06-2.06.94zm-11 1L8.5 8.5l.94-2.06 2.06-.94-2.06-.94L8.5 2.5l-.94 2.06-2.06.94zm10 10l.94 2.06.94-2.06 2.06-.94-2.06-.94-.94-2.06-.94 2.06-2.06.94z\"/><path d=\"M17.41 7.96l-1.37-1.37c-.4-.4-.92-.59-1.43-.59-.52 0-1.04.2-1.43.59L10.3 9.45l-7.72 7.72c-.78.78-.78 2.05 0 2.83L4 21.41c.39.39.9.59 1.41.59.51 0 1.02-.2 1.41-.59l7.78-7.78 2.81-2.81c.8-.78.8-2.07 0-2.86zM5.41 20L4 18.59l7.72-7.72 1.47 1.35L5.41 20z\"/>\n",
              "  </svg>\n",
              "      </button>\n",
              "      \n",
              "  <style>\n",
              "    .colab-df-container {\n",
              "      display:flex;\n",
              "      flex-wrap:wrap;\n",
              "      gap: 12px;\n",
              "    }\n",
              "\n",
              "    .colab-df-convert {\n",
              "      background-color: #E8F0FE;\n",
              "      border: none;\n",
              "      border-radius: 50%;\n",
              "      cursor: pointer;\n",
              "      display: none;\n",
              "      fill: #1967D2;\n",
              "      height: 32px;\n",
              "      padding: 0 0 0 0;\n",
              "      width: 32px;\n",
              "    }\n",
              "\n",
              "    .colab-df-convert:hover {\n",
              "      background-color: #E2EBFA;\n",
              "      box-shadow: 0px 1px 2px rgba(60, 64, 67, 0.3), 0px 1px 3px 1px rgba(60, 64, 67, 0.15);\n",
              "      fill: #174EA6;\n",
              "    }\n",
              "\n",
              "    [theme=dark] .colab-df-convert {\n",
              "      background-color: #3B4455;\n",
              "      fill: #D2E3FC;\n",
              "    }\n",
              "\n",
              "    [theme=dark] .colab-df-convert:hover {\n",
              "      background-color: #434B5C;\n",
              "      box-shadow: 0px 1px 3px 1px rgba(0, 0, 0, 0.15);\n",
              "      filter: drop-shadow(0px 1px 2px rgba(0, 0, 0, 0.3));\n",
              "      fill: #FFFFFF;\n",
              "    }\n",
              "  </style>\n",
              "\n",
              "      <script>\n",
              "        const buttonEl =\n",
              "          document.querySelector('#df-8031bd61-4379-4f4d-aafa-dbd561e90892 button.colab-df-convert');\n",
              "        buttonEl.style.display =\n",
              "          google.colab.kernel.accessAllowed ? 'block' : 'none';\n",
              "\n",
              "        async function convertToInteractive(key) {\n",
              "          const element = document.querySelector('#df-8031bd61-4379-4f4d-aafa-dbd561e90892');\n",
              "          const dataTable =\n",
              "            await google.colab.kernel.invokeFunction('convertToInteractive',\n",
              "                                                     [key], {});\n",
              "          if (!dataTable) return;\n",
              "\n",
              "          const docLinkHtml = 'Like what you see? Visit the ' +\n",
              "            '<a target=\"_blank\" href=https://colab.research.google.com/notebooks/data_table.ipynb>data table notebook</a>'\n",
              "            + ' to learn more about interactive tables.';\n",
              "          element.innerHTML = '';\n",
              "          dataTable['output_type'] = 'display_data';\n",
              "          await google.colab.output.renderOutput(dataTable, element);\n",
              "          const docLink = document.createElement('div');\n",
              "          docLink.innerHTML = docLinkHtml;\n",
              "          element.appendChild(docLink);\n",
              "        }\n",
              "      </script>\n",
              "    </div>\n",
              "  </div>\n",
              "  "
            ]
          },
          "metadata": {},
          "execution_count": 69
        }
      ]
    },
    {
      "cell_type": "code",
      "source": [
        "customer_commercial_activity_raw.head()"
      ],
      "metadata": {
        "colab": {
          "base_uri": "https://localhost:8080/",
          "height": 206
        },
        "id": "Cf84POqCGuz3",
        "outputId": "6eb96970-b205-4b7b-d81d-d7addf6a36b0"
      },
      "execution_count": 70,
      "outputs": [
        {
          "output_type": "execute_result",
          "data": {
            "text/plain": [
              "   Unnamed: 0   pk_cid pk_partition entry_date entry_channel  active_customer  \\\n",
              "0           0  1375586      2018-01    2018-01           KHL              1.0   \n",
              "1           1  1050611      2018-01    2015-08           KHE              0.0   \n",
              "2           2  1050612      2018-01    2015-08           KHE              0.0   \n",
              "3           3  1050613      2018-01    2015-08           KHD              0.0   \n",
              "4           4  1050614      2018-01    2015-08           KHE              1.0   \n",
              "\n",
              "              segment  \n",
              "0   02 - PARTICULARES  \n",
              "1  03 - UNIVERSITARIO  \n",
              "2  03 - UNIVERSITARIO  \n",
              "3  03 - UNIVERSITARIO  \n",
              "4  03 - UNIVERSITARIO  "
            ],
            "text/html": [
              "\n",
              "  <div id=\"df-a0add6f5-5bd9-4c08-8486-7941e4e285b3\">\n",
              "    <div class=\"colab-df-container\">\n",
              "      <div>\n",
              "<style scoped>\n",
              "    .dataframe tbody tr th:only-of-type {\n",
              "        vertical-align: middle;\n",
              "    }\n",
              "\n",
              "    .dataframe tbody tr th {\n",
              "        vertical-align: top;\n",
              "    }\n",
              "\n",
              "    .dataframe thead th {\n",
              "        text-align: right;\n",
              "    }\n",
              "</style>\n",
              "<table border=\"1\" class=\"dataframe\">\n",
              "  <thead>\n",
              "    <tr style=\"text-align: right;\">\n",
              "      <th></th>\n",
              "      <th>Unnamed: 0</th>\n",
              "      <th>pk_cid</th>\n",
              "      <th>pk_partition</th>\n",
              "      <th>entry_date</th>\n",
              "      <th>entry_channel</th>\n",
              "      <th>active_customer</th>\n",
              "      <th>segment</th>\n",
              "    </tr>\n",
              "  </thead>\n",
              "  <tbody>\n",
              "    <tr>\n",
              "      <th>0</th>\n",
              "      <td>0</td>\n",
              "      <td>1375586</td>\n",
              "      <td>2018-01</td>\n",
              "      <td>2018-01</td>\n",
              "      <td>KHL</td>\n",
              "      <td>1.0</td>\n",
              "      <td>02 - PARTICULARES</td>\n",
              "    </tr>\n",
              "    <tr>\n",
              "      <th>1</th>\n",
              "      <td>1</td>\n",
              "      <td>1050611</td>\n",
              "      <td>2018-01</td>\n",
              "      <td>2015-08</td>\n",
              "      <td>KHE</td>\n",
              "      <td>0.0</td>\n",
              "      <td>03 - UNIVERSITARIO</td>\n",
              "    </tr>\n",
              "    <tr>\n",
              "      <th>2</th>\n",
              "      <td>2</td>\n",
              "      <td>1050612</td>\n",
              "      <td>2018-01</td>\n",
              "      <td>2015-08</td>\n",
              "      <td>KHE</td>\n",
              "      <td>0.0</td>\n",
              "      <td>03 - UNIVERSITARIO</td>\n",
              "    </tr>\n",
              "    <tr>\n",
              "      <th>3</th>\n",
              "      <td>3</td>\n",
              "      <td>1050613</td>\n",
              "      <td>2018-01</td>\n",
              "      <td>2015-08</td>\n",
              "      <td>KHD</td>\n",
              "      <td>0.0</td>\n",
              "      <td>03 - UNIVERSITARIO</td>\n",
              "    </tr>\n",
              "    <tr>\n",
              "      <th>4</th>\n",
              "      <td>4</td>\n",
              "      <td>1050614</td>\n",
              "      <td>2018-01</td>\n",
              "      <td>2015-08</td>\n",
              "      <td>KHE</td>\n",
              "      <td>1.0</td>\n",
              "      <td>03 - UNIVERSITARIO</td>\n",
              "    </tr>\n",
              "  </tbody>\n",
              "</table>\n",
              "</div>\n",
              "      <button class=\"colab-df-convert\" onclick=\"convertToInteractive('df-a0add6f5-5bd9-4c08-8486-7941e4e285b3')\"\n",
              "              title=\"Convert this dataframe to an interactive table.\"\n",
              "              style=\"display:none;\">\n",
              "        \n",
              "  <svg xmlns=\"http://www.w3.org/2000/svg\" height=\"24px\"viewBox=\"0 0 24 24\"\n",
              "       width=\"24px\">\n",
              "    <path d=\"M0 0h24v24H0V0z\" fill=\"none\"/>\n",
              "    <path d=\"M18.56 5.44l.94 2.06.94-2.06 2.06-.94-2.06-.94-.94-2.06-.94 2.06-2.06.94zm-11 1L8.5 8.5l.94-2.06 2.06-.94-2.06-.94L8.5 2.5l-.94 2.06-2.06.94zm10 10l.94 2.06.94-2.06 2.06-.94-2.06-.94-.94-2.06-.94 2.06-2.06.94z\"/><path d=\"M17.41 7.96l-1.37-1.37c-.4-.4-.92-.59-1.43-.59-.52 0-1.04.2-1.43.59L10.3 9.45l-7.72 7.72c-.78.78-.78 2.05 0 2.83L4 21.41c.39.39.9.59 1.41.59.51 0 1.02-.2 1.41-.59l7.78-7.78 2.81-2.81c.8-.78.8-2.07 0-2.86zM5.41 20L4 18.59l7.72-7.72 1.47 1.35L5.41 20z\"/>\n",
              "  </svg>\n",
              "      </button>\n",
              "      \n",
              "  <style>\n",
              "    .colab-df-container {\n",
              "      display:flex;\n",
              "      flex-wrap:wrap;\n",
              "      gap: 12px;\n",
              "    }\n",
              "\n",
              "    .colab-df-convert {\n",
              "      background-color: #E8F0FE;\n",
              "      border: none;\n",
              "      border-radius: 50%;\n",
              "      cursor: pointer;\n",
              "      display: none;\n",
              "      fill: #1967D2;\n",
              "      height: 32px;\n",
              "      padding: 0 0 0 0;\n",
              "      width: 32px;\n",
              "    }\n",
              "\n",
              "    .colab-df-convert:hover {\n",
              "      background-color: #E2EBFA;\n",
              "      box-shadow: 0px 1px 2px rgba(60, 64, 67, 0.3), 0px 1px 3px 1px rgba(60, 64, 67, 0.15);\n",
              "      fill: #174EA6;\n",
              "    }\n",
              "\n",
              "    [theme=dark] .colab-df-convert {\n",
              "      background-color: #3B4455;\n",
              "      fill: #D2E3FC;\n",
              "    }\n",
              "\n",
              "    [theme=dark] .colab-df-convert:hover {\n",
              "      background-color: #434B5C;\n",
              "      box-shadow: 0px 1px 3px 1px rgba(0, 0, 0, 0.15);\n",
              "      filter: drop-shadow(0px 1px 2px rgba(0, 0, 0, 0.3));\n",
              "      fill: #FFFFFF;\n",
              "    }\n",
              "  </style>\n",
              "\n",
              "      <script>\n",
              "        const buttonEl =\n",
              "          document.querySelector('#df-a0add6f5-5bd9-4c08-8486-7941e4e285b3 button.colab-df-convert');\n",
              "        buttonEl.style.display =\n",
              "          google.colab.kernel.accessAllowed ? 'block' : 'none';\n",
              "\n",
              "        async function convertToInteractive(key) {\n",
              "          const element = document.querySelector('#df-a0add6f5-5bd9-4c08-8486-7941e4e285b3');\n",
              "          const dataTable =\n",
              "            await google.colab.kernel.invokeFunction('convertToInteractive',\n",
              "                                                     [key], {});\n",
              "          if (!dataTable) return;\n",
              "\n",
              "          const docLinkHtml = 'Like what you see? Visit the ' +\n",
              "            '<a target=\"_blank\" href=https://colab.research.google.com/notebooks/data_table.ipynb>data table notebook</a>'\n",
              "            + ' to learn more about interactive tables.';\n",
              "          element.innerHTML = '';\n",
              "          dataTable['output_type'] = 'display_data';\n",
              "          await google.colab.output.renderOutput(dataTable, element);\n",
              "          const docLink = document.createElement('div');\n",
              "          docLink.innerHTML = docLinkHtml;\n",
              "          element.appendChild(docLink);\n",
              "        }\n",
              "      </script>\n",
              "    </div>\n",
              "  </div>\n",
              "  "
            ]
          },
          "metadata": {},
          "execution_count": 70
        }
      ]
    },
    {
      "cell_type": "code",
      "source": [
        "customer_commercial_activity_raw.drop(\"Unnamed: 0\", axis = 1, inplace = True)\n"
      ],
      "metadata": {
        "id": "73D4b19dHAhC"
      },
      "execution_count": 71,
      "outputs": []
    },
    {
      "cell_type": "code",
      "source": [
        "customer_commercial_activity_raw['pk_partition'].max()"
      ],
      "metadata": {
        "colab": {
          "base_uri": "https://localhost:8080/",
          "height": 36
        },
        "id": "UPNcHts-NYhN",
        "outputId": "5e8c23c9-8a96-44c5-d79e-e77e46385cd1"
      },
      "execution_count": 72,
      "outputs": [
        {
          "output_type": "execute_result",
          "data": {
            "text/plain": [
              "'2019-05'"
            ],
            "application/vnd.google.colaboratory.intrinsic+json": {
              "type": "string"
            }
          },
          "metadata": {},
          "execution_count": 72
        }
      ]
    },
    {
      "cell_type": "code",
      "source": [
        "customer_commercial_activity_raw['antiguedad']=pd.to_datetime(customer_commercial_activity_raw['pk_partition'].max())-pd.to_datetime(customer_commercial_activity_raw['entry_date'])"
      ],
      "metadata": {
        "id": "R47KUE2IMxno"
      },
      "execution_count": 73,
      "outputs": []
    },
    {
      "cell_type": "code",
      "source": [
        "customer_commercial_activity_raw.head()"
      ],
      "metadata": {
        "colab": {
          "base_uri": "https://localhost:8080/",
          "height": 206
        },
        "id": "f1aIkrRPNttJ",
        "outputId": "4b57c7d2-f126-4af3-caa7-da646720d79c"
      },
      "execution_count": 74,
      "outputs": [
        {
          "output_type": "execute_result",
          "data": {
            "text/plain": [
              "    pk_cid pk_partition entry_date entry_channel  active_customer  \\\n",
              "0  1375586      2018-01    2018-01           KHL              1.0   \n",
              "1  1050611      2018-01    2015-08           KHE              0.0   \n",
              "2  1050612      2018-01    2015-08           KHE              0.0   \n",
              "3  1050613      2018-01    2015-08           KHD              0.0   \n",
              "4  1050614      2018-01    2015-08           KHE              1.0   \n",
              "\n",
              "              segment antiguedad  \n",
              "0   02 - PARTICULARES   485 days  \n",
              "1  03 - UNIVERSITARIO  1369 days  \n",
              "2  03 - UNIVERSITARIO  1369 days  \n",
              "3  03 - UNIVERSITARIO  1369 days  \n",
              "4  03 - UNIVERSITARIO  1369 days  "
            ],
            "text/html": [
              "\n",
              "  <div id=\"df-138f9fb6-20d9-41b1-a84d-354bbf52796a\">\n",
              "    <div class=\"colab-df-container\">\n",
              "      <div>\n",
              "<style scoped>\n",
              "    .dataframe tbody tr th:only-of-type {\n",
              "        vertical-align: middle;\n",
              "    }\n",
              "\n",
              "    .dataframe tbody tr th {\n",
              "        vertical-align: top;\n",
              "    }\n",
              "\n",
              "    .dataframe thead th {\n",
              "        text-align: right;\n",
              "    }\n",
              "</style>\n",
              "<table border=\"1\" class=\"dataframe\">\n",
              "  <thead>\n",
              "    <tr style=\"text-align: right;\">\n",
              "      <th></th>\n",
              "      <th>pk_cid</th>\n",
              "      <th>pk_partition</th>\n",
              "      <th>entry_date</th>\n",
              "      <th>entry_channel</th>\n",
              "      <th>active_customer</th>\n",
              "      <th>segment</th>\n",
              "      <th>antiguedad</th>\n",
              "    </tr>\n",
              "  </thead>\n",
              "  <tbody>\n",
              "    <tr>\n",
              "      <th>0</th>\n",
              "      <td>1375586</td>\n",
              "      <td>2018-01</td>\n",
              "      <td>2018-01</td>\n",
              "      <td>KHL</td>\n",
              "      <td>1.0</td>\n",
              "      <td>02 - PARTICULARES</td>\n",
              "      <td>485 days</td>\n",
              "    </tr>\n",
              "    <tr>\n",
              "      <th>1</th>\n",
              "      <td>1050611</td>\n",
              "      <td>2018-01</td>\n",
              "      <td>2015-08</td>\n",
              "      <td>KHE</td>\n",
              "      <td>0.0</td>\n",
              "      <td>03 - UNIVERSITARIO</td>\n",
              "      <td>1369 days</td>\n",
              "    </tr>\n",
              "    <tr>\n",
              "      <th>2</th>\n",
              "      <td>1050612</td>\n",
              "      <td>2018-01</td>\n",
              "      <td>2015-08</td>\n",
              "      <td>KHE</td>\n",
              "      <td>0.0</td>\n",
              "      <td>03 - UNIVERSITARIO</td>\n",
              "      <td>1369 days</td>\n",
              "    </tr>\n",
              "    <tr>\n",
              "      <th>3</th>\n",
              "      <td>1050613</td>\n",
              "      <td>2018-01</td>\n",
              "      <td>2015-08</td>\n",
              "      <td>KHD</td>\n",
              "      <td>0.0</td>\n",
              "      <td>03 - UNIVERSITARIO</td>\n",
              "      <td>1369 days</td>\n",
              "    </tr>\n",
              "    <tr>\n",
              "      <th>4</th>\n",
              "      <td>1050614</td>\n",
              "      <td>2018-01</td>\n",
              "      <td>2015-08</td>\n",
              "      <td>KHE</td>\n",
              "      <td>1.0</td>\n",
              "      <td>03 - UNIVERSITARIO</td>\n",
              "      <td>1369 days</td>\n",
              "    </tr>\n",
              "  </tbody>\n",
              "</table>\n",
              "</div>\n",
              "      <button class=\"colab-df-convert\" onclick=\"convertToInteractive('df-138f9fb6-20d9-41b1-a84d-354bbf52796a')\"\n",
              "              title=\"Convert this dataframe to an interactive table.\"\n",
              "              style=\"display:none;\">\n",
              "        \n",
              "  <svg xmlns=\"http://www.w3.org/2000/svg\" height=\"24px\"viewBox=\"0 0 24 24\"\n",
              "       width=\"24px\">\n",
              "    <path d=\"M0 0h24v24H0V0z\" fill=\"none\"/>\n",
              "    <path d=\"M18.56 5.44l.94 2.06.94-2.06 2.06-.94-2.06-.94-.94-2.06-.94 2.06-2.06.94zm-11 1L8.5 8.5l.94-2.06 2.06-.94-2.06-.94L8.5 2.5l-.94 2.06-2.06.94zm10 10l.94 2.06.94-2.06 2.06-.94-2.06-.94-.94-2.06-.94 2.06-2.06.94z\"/><path d=\"M17.41 7.96l-1.37-1.37c-.4-.4-.92-.59-1.43-.59-.52 0-1.04.2-1.43.59L10.3 9.45l-7.72 7.72c-.78.78-.78 2.05 0 2.83L4 21.41c.39.39.9.59 1.41.59.51 0 1.02-.2 1.41-.59l7.78-7.78 2.81-2.81c.8-.78.8-2.07 0-2.86zM5.41 20L4 18.59l7.72-7.72 1.47 1.35L5.41 20z\"/>\n",
              "  </svg>\n",
              "      </button>\n",
              "      \n",
              "  <style>\n",
              "    .colab-df-container {\n",
              "      display:flex;\n",
              "      flex-wrap:wrap;\n",
              "      gap: 12px;\n",
              "    }\n",
              "\n",
              "    .colab-df-convert {\n",
              "      background-color: #E8F0FE;\n",
              "      border: none;\n",
              "      border-radius: 50%;\n",
              "      cursor: pointer;\n",
              "      display: none;\n",
              "      fill: #1967D2;\n",
              "      height: 32px;\n",
              "      padding: 0 0 0 0;\n",
              "      width: 32px;\n",
              "    }\n",
              "\n",
              "    .colab-df-convert:hover {\n",
              "      background-color: #E2EBFA;\n",
              "      box-shadow: 0px 1px 2px rgba(60, 64, 67, 0.3), 0px 1px 3px 1px rgba(60, 64, 67, 0.15);\n",
              "      fill: #174EA6;\n",
              "    }\n",
              "\n",
              "    [theme=dark] .colab-df-convert {\n",
              "      background-color: #3B4455;\n",
              "      fill: #D2E3FC;\n",
              "    }\n",
              "\n",
              "    [theme=dark] .colab-df-convert:hover {\n",
              "      background-color: #434B5C;\n",
              "      box-shadow: 0px 1px 3px 1px rgba(0, 0, 0, 0.15);\n",
              "      filter: drop-shadow(0px 1px 2px rgba(0, 0, 0, 0.3));\n",
              "      fill: #FFFFFF;\n",
              "    }\n",
              "  </style>\n",
              "\n",
              "      <script>\n",
              "        const buttonEl =\n",
              "          document.querySelector('#df-138f9fb6-20d9-41b1-a84d-354bbf52796a button.colab-df-convert');\n",
              "        buttonEl.style.display =\n",
              "          google.colab.kernel.accessAllowed ? 'block' : 'none';\n",
              "\n",
              "        async function convertToInteractive(key) {\n",
              "          const element = document.querySelector('#df-138f9fb6-20d9-41b1-a84d-354bbf52796a');\n",
              "          const dataTable =\n",
              "            await google.colab.kernel.invokeFunction('convertToInteractive',\n",
              "                                                     [key], {});\n",
              "          if (!dataTable) return;\n",
              "\n",
              "          const docLinkHtml = 'Like what you see? Visit the ' +\n",
              "            '<a target=\"_blank\" href=https://colab.research.google.com/notebooks/data_table.ipynb>data table notebook</a>'\n",
              "            + ' to learn more about interactive tables.';\n",
              "          element.innerHTML = '';\n",
              "          dataTable['output_type'] = 'display_data';\n",
              "          await google.colab.output.renderOutput(dataTable, element);\n",
              "          const docLink = document.createElement('div');\n",
              "          docLink.innerHTML = docLinkHtml;\n",
              "          element.appendChild(docLink);\n",
              "        }\n",
              "      </script>\n",
              "    </div>\n",
              "  </div>\n",
              "  "
            ]
          },
          "metadata": {},
          "execution_count": 74
        }
      ]
    },
    {
      "cell_type": "code",
      "source": [
        "customer_commercial_activity_raw.info()"
      ],
      "metadata": {
        "colab": {
          "base_uri": "https://localhost:8080/"
        },
        "id": "aoAw_M1lN7je",
        "outputId": "bef54ccd-a496-4d09-e4db-6b62970b168d"
      },
      "execution_count": 75,
      "outputs": [
        {
          "output_type": "stream",
          "name": "stdout",
          "text": [
            "<class 'pandas.core.frame.DataFrame'>\n",
            "RangeIndex: 5962924 entries, 0 to 5962923\n",
            "Data columns (total 7 columns):\n",
            " #   Column           Dtype          \n",
            "---  ------           -----          \n",
            " 0   pk_cid           int64          \n",
            " 1   pk_partition     object         \n",
            " 2   entry_date       object         \n",
            " 3   entry_channel    object         \n",
            " 4   active_customer  float64        \n",
            " 5   segment          object         \n",
            " 6   antiguedad       timedelta64[ns]\n",
            "dtypes: float64(1), int64(1), object(4), timedelta64[ns](1)\n",
            "memory usage: 318.5+ MB\n"
          ]
        }
      ]
    },
    {
      "cell_type": "code",
      "source": [
        "customer_commercial_activity_raw['antiguedad'].astype(int)"
      ],
      "metadata": {
        "colab": {
          "base_uri": "https://localhost:8080/"
        },
        "id": "C66twoUKQA4I",
        "outputId": "d99e7de2-d52b-4988-b907-452f614ded6f"
      },
      "execution_count": 76,
      "outputs": [
        {
          "output_type": "execute_result",
          "data": {
            "text/plain": [
              "0           41904000000000000\n",
              "1          118281600000000000\n",
              "2          118281600000000000\n",
              "3          118281600000000000\n",
              "4          118281600000000000\n",
              "                  ...        \n",
              "5962919     86659200000000000\n",
              "5962920     86659200000000000\n",
              "5962921     86659200000000000\n",
              "5962922     86659200000000000\n",
              "5962923                     0\n",
              "Name: antiguedad, Length: 5962924, dtype: int64"
            ]
          },
          "metadata": {},
          "execution_count": 76
        }
      ]
    },
    {
      "cell_type": "code",
      "source": [
        "customer_commercial_activity_raw['antiguedad']=customer_commercial_activity_raw['antiguedad'].astype(int)"
      ],
      "metadata": {
        "id": "JMCLf4_vOxPy"
      },
      "execution_count": 77,
      "outputs": []
    },
    {
      "cell_type": "code",
      "source": [
        "customer_commercial_activity_raw['antiguedad']=customer_commercial_activity_raw['antiguedad']/1000000000"
      ],
      "metadata": {
        "id": "IpxpRqpXPmkd"
      },
      "execution_count": 78,
      "outputs": []
    },
    {
      "cell_type": "code",
      "source": [
        "customer_commercial_activity_raw.head()"
      ],
      "metadata": {
        "colab": {
          "base_uri": "https://localhost:8080/",
          "height": 206
        },
        "id": "Pirg_F6pP2vs",
        "outputId": "886521e2-20d1-41d6-d235-8b06550e9796"
      },
      "execution_count": 79,
      "outputs": [
        {
          "output_type": "execute_result",
          "data": {
            "text/plain": [
              "    pk_cid pk_partition entry_date entry_channel  active_customer  \\\n",
              "0  1375586      2018-01    2018-01           KHL              1.0   \n",
              "1  1050611      2018-01    2015-08           KHE              0.0   \n",
              "2  1050612      2018-01    2015-08           KHE              0.0   \n",
              "3  1050613      2018-01    2015-08           KHD              0.0   \n",
              "4  1050614      2018-01    2015-08           KHE              1.0   \n",
              "\n",
              "              segment   antiguedad  \n",
              "0   02 - PARTICULARES   41904000.0  \n",
              "1  03 - UNIVERSITARIO  118281600.0  \n",
              "2  03 - UNIVERSITARIO  118281600.0  \n",
              "3  03 - UNIVERSITARIO  118281600.0  \n",
              "4  03 - UNIVERSITARIO  118281600.0  "
            ],
            "text/html": [
              "\n",
              "  <div id=\"df-e37358d7-3e83-4cfd-91f9-6eec1fe07afa\">\n",
              "    <div class=\"colab-df-container\">\n",
              "      <div>\n",
              "<style scoped>\n",
              "    .dataframe tbody tr th:only-of-type {\n",
              "        vertical-align: middle;\n",
              "    }\n",
              "\n",
              "    .dataframe tbody tr th {\n",
              "        vertical-align: top;\n",
              "    }\n",
              "\n",
              "    .dataframe thead th {\n",
              "        text-align: right;\n",
              "    }\n",
              "</style>\n",
              "<table border=\"1\" class=\"dataframe\">\n",
              "  <thead>\n",
              "    <tr style=\"text-align: right;\">\n",
              "      <th></th>\n",
              "      <th>pk_cid</th>\n",
              "      <th>pk_partition</th>\n",
              "      <th>entry_date</th>\n",
              "      <th>entry_channel</th>\n",
              "      <th>active_customer</th>\n",
              "      <th>segment</th>\n",
              "      <th>antiguedad</th>\n",
              "    </tr>\n",
              "  </thead>\n",
              "  <tbody>\n",
              "    <tr>\n",
              "      <th>0</th>\n",
              "      <td>1375586</td>\n",
              "      <td>2018-01</td>\n",
              "      <td>2018-01</td>\n",
              "      <td>KHL</td>\n",
              "      <td>1.0</td>\n",
              "      <td>02 - PARTICULARES</td>\n",
              "      <td>41904000.0</td>\n",
              "    </tr>\n",
              "    <tr>\n",
              "      <th>1</th>\n",
              "      <td>1050611</td>\n",
              "      <td>2018-01</td>\n",
              "      <td>2015-08</td>\n",
              "      <td>KHE</td>\n",
              "      <td>0.0</td>\n",
              "      <td>03 - UNIVERSITARIO</td>\n",
              "      <td>118281600.0</td>\n",
              "    </tr>\n",
              "    <tr>\n",
              "      <th>2</th>\n",
              "      <td>1050612</td>\n",
              "      <td>2018-01</td>\n",
              "      <td>2015-08</td>\n",
              "      <td>KHE</td>\n",
              "      <td>0.0</td>\n",
              "      <td>03 - UNIVERSITARIO</td>\n",
              "      <td>118281600.0</td>\n",
              "    </tr>\n",
              "    <tr>\n",
              "      <th>3</th>\n",
              "      <td>1050613</td>\n",
              "      <td>2018-01</td>\n",
              "      <td>2015-08</td>\n",
              "      <td>KHD</td>\n",
              "      <td>0.0</td>\n",
              "      <td>03 - UNIVERSITARIO</td>\n",
              "      <td>118281600.0</td>\n",
              "    </tr>\n",
              "    <tr>\n",
              "      <th>4</th>\n",
              "      <td>1050614</td>\n",
              "      <td>2018-01</td>\n",
              "      <td>2015-08</td>\n",
              "      <td>KHE</td>\n",
              "      <td>1.0</td>\n",
              "      <td>03 - UNIVERSITARIO</td>\n",
              "      <td>118281600.0</td>\n",
              "    </tr>\n",
              "  </tbody>\n",
              "</table>\n",
              "</div>\n",
              "      <button class=\"colab-df-convert\" onclick=\"convertToInteractive('df-e37358d7-3e83-4cfd-91f9-6eec1fe07afa')\"\n",
              "              title=\"Convert this dataframe to an interactive table.\"\n",
              "              style=\"display:none;\">\n",
              "        \n",
              "  <svg xmlns=\"http://www.w3.org/2000/svg\" height=\"24px\"viewBox=\"0 0 24 24\"\n",
              "       width=\"24px\">\n",
              "    <path d=\"M0 0h24v24H0V0z\" fill=\"none\"/>\n",
              "    <path d=\"M18.56 5.44l.94 2.06.94-2.06 2.06-.94-2.06-.94-.94-2.06-.94 2.06-2.06.94zm-11 1L8.5 8.5l.94-2.06 2.06-.94-2.06-.94L8.5 2.5l-.94 2.06-2.06.94zm10 10l.94 2.06.94-2.06 2.06-.94-2.06-.94-.94-2.06-.94 2.06-2.06.94z\"/><path d=\"M17.41 7.96l-1.37-1.37c-.4-.4-.92-.59-1.43-.59-.52 0-1.04.2-1.43.59L10.3 9.45l-7.72 7.72c-.78.78-.78 2.05 0 2.83L4 21.41c.39.39.9.59 1.41.59.51 0 1.02-.2 1.41-.59l7.78-7.78 2.81-2.81c.8-.78.8-2.07 0-2.86zM5.41 20L4 18.59l7.72-7.72 1.47 1.35L5.41 20z\"/>\n",
              "  </svg>\n",
              "      </button>\n",
              "      \n",
              "  <style>\n",
              "    .colab-df-container {\n",
              "      display:flex;\n",
              "      flex-wrap:wrap;\n",
              "      gap: 12px;\n",
              "    }\n",
              "\n",
              "    .colab-df-convert {\n",
              "      background-color: #E8F0FE;\n",
              "      border: none;\n",
              "      border-radius: 50%;\n",
              "      cursor: pointer;\n",
              "      display: none;\n",
              "      fill: #1967D2;\n",
              "      height: 32px;\n",
              "      padding: 0 0 0 0;\n",
              "      width: 32px;\n",
              "    }\n",
              "\n",
              "    .colab-df-convert:hover {\n",
              "      background-color: #E2EBFA;\n",
              "      box-shadow: 0px 1px 2px rgba(60, 64, 67, 0.3), 0px 1px 3px 1px rgba(60, 64, 67, 0.15);\n",
              "      fill: #174EA6;\n",
              "    }\n",
              "\n",
              "    [theme=dark] .colab-df-convert {\n",
              "      background-color: #3B4455;\n",
              "      fill: #D2E3FC;\n",
              "    }\n",
              "\n",
              "    [theme=dark] .colab-df-convert:hover {\n",
              "      background-color: #434B5C;\n",
              "      box-shadow: 0px 1px 3px 1px rgba(0, 0, 0, 0.15);\n",
              "      filter: drop-shadow(0px 1px 2px rgba(0, 0, 0, 0.3));\n",
              "      fill: #FFFFFF;\n",
              "    }\n",
              "  </style>\n",
              "\n",
              "      <script>\n",
              "        const buttonEl =\n",
              "          document.querySelector('#df-e37358d7-3e83-4cfd-91f9-6eec1fe07afa button.colab-df-convert');\n",
              "        buttonEl.style.display =\n",
              "          google.colab.kernel.accessAllowed ? 'block' : 'none';\n",
              "\n",
              "        async function convertToInteractive(key) {\n",
              "          const element = document.querySelector('#df-e37358d7-3e83-4cfd-91f9-6eec1fe07afa');\n",
              "          const dataTable =\n",
              "            await google.colab.kernel.invokeFunction('convertToInteractive',\n",
              "                                                     [key], {});\n",
              "          if (!dataTable) return;\n",
              "\n",
              "          const docLinkHtml = 'Like what you see? Visit the ' +\n",
              "            '<a target=\"_blank\" href=https://colab.research.google.com/notebooks/data_table.ipynb>data table notebook</a>'\n",
              "            + ' to learn more about interactive tables.';\n",
              "          element.innerHTML = '';\n",
              "          dataTable['output_type'] = 'display_data';\n",
              "          await google.colab.output.renderOutput(dataTable, element);\n",
              "          const docLink = document.createElement('div');\n",
              "          docLink.innerHTML = docLinkHtml;\n",
              "          element.appendChild(docLink);\n",
              "        }\n",
              "      </script>\n",
              "    </div>\n",
              "  </div>\n",
              "  "
            ]
          },
          "metadata": {},
          "execution_count": 79
        }
      ]
    },
    {
      "cell_type": "code",
      "source": [
        "customer_commercial_activity_raw.rename({\"pk_cid\": \"customer_ID\"},axis='columns',inplace = True)"
      ],
      "metadata": {
        "id": "iQjW9orEHIFW"
      },
      "execution_count": 80,
      "outputs": []
    },
    {
      "cell_type": "code",
      "source": [
        "customer_comercial_activity=customer_commercial_activity_raw[customer_commercial_activity_raw['active_customer']==1.0].copy()"
      ],
      "metadata": {
        "id": "HhOUEXi9QkcG"
      },
      "execution_count": 81,
      "outputs": []
    },
    {
      "cell_type": "code",
      "source": [
        "customer_comercial_activity.drop(\"active_customer\", axis = 1, inplace = True)\n",
        "customer_comercial_activity.drop(\"entry_date\", axis = 1, inplace = True)"
      ],
      "metadata": {
        "id": "Z8ZwmRhPQ3my"
      },
      "execution_count": 82,
      "outputs": []
    },
    {
      "cell_type": "code",
      "source": [
        "customer_products_raw.head()"
      ],
      "metadata": {
        "colab": {
          "base_uri": "https://localhost:8080/",
          "height": 287
        },
        "id": "-BKn3pcQHOlQ",
        "outputId": "638eeee7-10b6-4bb7-856c-d190c9a57d2d"
      },
      "execution_count": 83,
      "outputs": [
        {
          "output_type": "execute_result",
          "data": {
            "text/plain": [
              "   Unnamed: 0   pk_cid pk_partition  short_term_deposit  loans  mortgage  \\\n",
              "0           0  1375586      2018-01                   0      0         0   \n",
              "1           1  1050611      2018-01                   0      0         0   \n",
              "2           2  1050612      2018-01                   0      0         0   \n",
              "3           3  1050613      2018-01                   1      0         0   \n",
              "4           4  1050614      2018-01                   0      0         0   \n",
              "\n",
              "   funds  securities  long_term_deposit  em_account_pp  credit_card  payroll  \\\n",
              "0      0           0                  0              0            0      0.0   \n",
              "1      0           0                  0              0            0      0.0   \n",
              "2      0           0                  0              0            0      0.0   \n",
              "3      0           0                  0              0            0      0.0   \n",
              "4      0           0                  0              0            0      0.0   \n",
              "\n",
              "   pension_plan  payroll_account  emc_account  debit_card  em_account_p  \\\n",
              "0           0.0                0            0           0             0   \n",
              "1           0.0                0            0           0             0   \n",
              "2           0.0                0            0           0             0   \n",
              "3           0.0                0            0           0             0   \n",
              "4           0.0                0            0           0             0   \n",
              "\n",
              "   em_acount  \n",
              "0          1  \n",
              "1          1  \n",
              "2          1  \n",
              "3          0  \n",
              "4          1  "
            ],
            "text/html": [
              "\n",
              "  <div id=\"df-090c1ab3-5dbc-447c-9292-980280998361\">\n",
              "    <div class=\"colab-df-container\">\n",
              "      <div>\n",
              "<style scoped>\n",
              "    .dataframe tbody tr th:only-of-type {\n",
              "        vertical-align: middle;\n",
              "    }\n",
              "\n",
              "    .dataframe tbody tr th {\n",
              "        vertical-align: top;\n",
              "    }\n",
              "\n",
              "    .dataframe thead th {\n",
              "        text-align: right;\n",
              "    }\n",
              "</style>\n",
              "<table border=\"1\" class=\"dataframe\">\n",
              "  <thead>\n",
              "    <tr style=\"text-align: right;\">\n",
              "      <th></th>\n",
              "      <th>Unnamed: 0</th>\n",
              "      <th>pk_cid</th>\n",
              "      <th>pk_partition</th>\n",
              "      <th>short_term_deposit</th>\n",
              "      <th>loans</th>\n",
              "      <th>mortgage</th>\n",
              "      <th>funds</th>\n",
              "      <th>securities</th>\n",
              "      <th>long_term_deposit</th>\n",
              "      <th>em_account_pp</th>\n",
              "      <th>credit_card</th>\n",
              "      <th>payroll</th>\n",
              "      <th>pension_plan</th>\n",
              "      <th>payroll_account</th>\n",
              "      <th>emc_account</th>\n",
              "      <th>debit_card</th>\n",
              "      <th>em_account_p</th>\n",
              "      <th>em_acount</th>\n",
              "    </tr>\n",
              "  </thead>\n",
              "  <tbody>\n",
              "    <tr>\n",
              "      <th>0</th>\n",
              "      <td>0</td>\n",
              "      <td>1375586</td>\n",
              "      <td>2018-01</td>\n",
              "      <td>0</td>\n",
              "      <td>0</td>\n",
              "      <td>0</td>\n",
              "      <td>0</td>\n",
              "      <td>0</td>\n",
              "      <td>0</td>\n",
              "      <td>0</td>\n",
              "      <td>0</td>\n",
              "      <td>0.0</td>\n",
              "      <td>0.0</td>\n",
              "      <td>0</td>\n",
              "      <td>0</td>\n",
              "      <td>0</td>\n",
              "      <td>0</td>\n",
              "      <td>1</td>\n",
              "    </tr>\n",
              "    <tr>\n",
              "      <th>1</th>\n",
              "      <td>1</td>\n",
              "      <td>1050611</td>\n",
              "      <td>2018-01</td>\n",
              "      <td>0</td>\n",
              "      <td>0</td>\n",
              "      <td>0</td>\n",
              "      <td>0</td>\n",
              "      <td>0</td>\n",
              "      <td>0</td>\n",
              "      <td>0</td>\n",
              "      <td>0</td>\n",
              "      <td>0.0</td>\n",
              "      <td>0.0</td>\n",
              "      <td>0</td>\n",
              "      <td>0</td>\n",
              "      <td>0</td>\n",
              "      <td>0</td>\n",
              "      <td>1</td>\n",
              "    </tr>\n",
              "    <tr>\n",
              "      <th>2</th>\n",
              "      <td>2</td>\n",
              "      <td>1050612</td>\n",
              "      <td>2018-01</td>\n",
              "      <td>0</td>\n",
              "      <td>0</td>\n",
              "      <td>0</td>\n",
              "      <td>0</td>\n",
              "      <td>0</td>\n",
              "      <td>0</td>\n",
              "      <td>0</td>\n",
              "      <td>0</td>\n",
              "      <td>0.0</td>\n",
              "      <td>0.0</td>\n",
              "      <td>0</td>\n",
              "      <td>0</td>\n",
              "      <td>0</td>\n",
              "      <td>0</td>\n",
              "      <td>1</td>\n",
              "    </tr>\n",
              "    <tr>\n",
              "      <th>3</th>\n",
              "      <td>3</td>\n",
              "      <td>1050613</td>\n",
              "      <td>2018-01</td>\n",
              "      <td>1</td>\n",
              "      <td>0</td>\n",
              "      <td>0</td>\n",
              "      <td>0</td>\n",
              "      <td>0</td>\n",
              "      <td>0</td>\n",
              "      <td>0</td>\n",
              "      <td>0</td>\n",
              "      <td>0.0</td>\n",
              "      <td>0.0</td>\n",
              "      <td>0</td>\n",
              "      <td>0</td>\n",
              "      <td>0</td>\n",
              "      <td>0</td>\n",
              "      <td>0</td>\n",
              "    </tr>\n",
              "    <tr>\n",
              "      <th>4</th>\n",
              "      <td>4</td>\n",
              "      <td>1050614</td>\n",
              "      <td>2018-01</td>\n",
              "      <td>0</td>\n",
              "      <td>0</td>\n",
              "      <td>0</td>\n",
              "      <td>0</td>\n",
              "      <td>0</td>\n",
              "      <td>0</td>\n",
              "      <td>0</td>\n",
              "      <td>0</td>\n",
              "      <td>0.0</td>\n",
              "      <td>0.0</td>\n",
              "      <td>0</td>\n",
              "      <td>0</td>\n",
              "      <td>0</td>\n",
              "      <td>0</td>\n",
              "      <td>1</td>\n",
              "    </tr>\n",
              "  </tbody>\n",
              "</table>\n",
              "</div>\n",
              "      <button class=\"colab-df-convert\" onclick=\"convertToInteractive('df-090c1ab3-5dbc-447c-9292-980280998361')\"\n",
              "              title=\"Convert this dataframe to an interactive table.\"\n",
              "              style=\"display:none;\">\n",
              "        \n",
              "  <svg xmlns=\"http://www.w3.org/2000/svg\" height=\"24px\"viewBox=\"0 0 24 24\"\n",
              "       width=\"24px\">\n",
              "    <path d=\"M0 0h24v24H0V0z\" fill=\"none\"/>\n",
              "    <path d=\"M18.56 5.44l.94 2.06.94-2.06 2.06-.94-2.06-.94-.94-2.06-.94 2.06-2.06.94zm-11 1L8.5 8.5l.94-2.06 2.06-.94-2.06-.94L8.5 2.5l-.94 2.06-2.06.94zm10 10l.94 2.06.94-2.06 2.06-.94-2.06-.94-.94-2.06-.94 2.06-2.06.94z\"/><path d=\"M17.41 7.96l-1.37-1.37c-.4-.4-.92-.59-1.43-.59-.52 0-1.04.2-1.43.59L10.3 9.45l-7.72 7.72c-.78.78-.78 2.05 0 2.83L4 21.41c.39.39.9.59 1.41.59.51 0 1.02-.2 1.41-.59l7.78-7.78 2.81-2.81c.8-.78.8-2.07 0-2.86zM5.41 20L4 18.59l7.72-7.72 1.47 1.35L5.41 20z\"/>\n",
              "  </svg>\n",
              "      </button>\n",
              "      \n",
              "  <style>\n",
              "    .colab-df-container {\n",
              "      display:flex;\n",
              "      flex-wrap:wrap;\n",
              "      gap: 12px;\n",
              "    }\n",
              "\n",
              "    .colab-df-convert {\n",
              "      background-color: #E8F0FE;\n",
              "      border: none;\n",
              "      border-radius: 50%;\n",
              "      cursor: pointer;\n",
              "      display: none;\n",
              "      fill: #1967D2;\n",
              "      height: 32px;\n",
              "      padding: 0 0 0 0;\n",
              "      width: 32px;\n",
              "    }\n",
              "\n",
              "    .colab-df-convert:hover {\n",
              "      background-color: #E2EBFA;\n",
              "      box-shadow: 0px 1px 2px rgba(60, 64, 67, 0.3), 0px 1px 3px 1px rgba(60, 64, 67, 0.15);\n",
              "      fill: #174EA6;\n",
              "    }\n",
              "\n",
              "    [theme=dark] .colab-df-convert {\n",
              "      background-color: #3B4455;\n",
              "      fill: #D2E3FC;\n",
              "    }\n",
              "\n",
              "    [theme=dark] .colab-df-convert:hover {\n",
              "      background-color: #434B5C;\n",
              "      box-shadow: 0px 1px 3px 1px rgba(0, 0, 0, 0.15);\n",
              "      filter: drop-shadow(0px 1px 2px rgba(0, 0, 0, 0.3));\n",
              "      fill: #FFFFFF;\n",
              "    }\n",
              "  </style>\n",
              "\n",
              "      <script>\n",
              "        const buttonEl =\n",
              "          document.querySelector('#df-090c1ab3-5dbc-447c-9292-980280998361 button.colab-df-convert');\n",
              "        buttonEl.style.display =\n",
              "          google.colab.kernel.accessAllowed ? 'block' : 'none';\n",
              "\n",
              "        async function convertToInteractive(key) {\n",
              "          const element = document.querySelector('#df-090c1ab3-5dbc-447c-9292-980280998361');\n",
              "          const dataTable =\n",
              "            await google.colab.kernel.invokeFunction('convertToInteractive',\n",
              "                                                     [key], {});\n",
              "          if (!dataTable) return;\n",
              "\n",
              "          const docLinkHtml = 'Like what you see? Visit the ' +\n",
              "            '<a target=\"_blank\" href=https://colab.research.google.com/notebooks/data_table.ipynb>data table notebook</a>'\n",
              "            + ' to learn more about interactive tables.';\n",
              "          element.innerHTML = '';\n",
              "          dataTable['output_type'] = 'display_data';\n",
              "          await google.colab.output.renderOutput(dataTable, element);\n",
              "          const docLink = document.createElement('div');\n",
              "          docLink.innerHTML = docLinkHtml;\n",
              "          element.appendChild(docLink);\n",
              "        }\n",
              "      </script>\n",
              "    </div>\n",
              "  </div>\n",
              "  "
            ]
          },
          "metadata": {},
          "execution_count": 83
        }
      ]
    },
    {
      "cell_type": "code",
      "source": [
        "df_customer_products=customer_products_raw.copy()"
      ],
      "metadata": {
        "id": "KwE6gfY8HXe5"
      },
      "execution_count": 84,
      "outputs": []
    },
    {
      "cell_type": "code",
      "source": [
        "df_customer_products.drop(\"Unnamed: 0\", axis = 1, inplace = True)\n",
        "df_customer_products.drop(\"pension_plan\", axis = 1, inplace = True)"
      ],
      "metadata": {
        "id": "bacglzPOHnSS"
      },
      "execution_count": 85,
      "outputs": []
    },
    {
      "cell_type": "code",
      "source": [
        "df_customer_products.rename({\"pk_cid\": \"customer_ID\"},axis='columns',inplace = True)"
      ],
      "metadata": {
        "id": "xVA3IWrzHnSY"
      },
      "execution_count": 86,
      "outputs": []
    },
    {
      "cell_type": "code",
      "source": [],
      "metadata": {
        "id": "ULgTOYQJH4hA"
      },
      "execution_count": 86,
      "outputs": []
    },
    {
      "cell_type": "code",
      "source": [
        "# Merge de las tablas relacionadas con el cliente\n",
        "#df_raw = customer_commercial_activity_raw.merge(customer_sociodemographics_raw, on=[\"pk_cid\",\"pk_partition\"])\\\n",
        "            #.merge(customer_products_raw, on=[\"pk_cid\",\"pk_partition\"])"
      ],
      "metadata": {
        "id": "iRPsWNtAfRHi"
      },
      "execution_count": 87,
      "outputs": []
    },
    {
      "cell_type": "code",
      "source": [
        "#Merge de customer_commercial_activity y customer_sociodemografics, customer_products lo dejamos para más tarde\n",
        "\n",
        "df1_raw=df_soc.merge(customer_commercial_activity_raw, on=[\"customer_ID\",\"pk_partition\"])"
      ],
      "metadata": {
        "id": "ktsW6PyUQtpk"
      },
      "execution_count": 88,
      "outputs": []
    },
    {
      "cell_type": "code",
      "source": [
        "customer_commercial_activity_raw.shape"
      ],
      "metadata": {
        "id": "AJkSAvDoN-_t",
        "outputId": "9f21d480-fd73-4fde-c967-d675ff42cb4c",
        "colab": {
          "base_uri": "https://localhost:8080/"
        }
      },
      "execution_count": 89,
      "outputs": [
        {
          "output_type": "execute_result",
          "data": {
            "text/plain": [
              "(5962924, 7)"
            ]
          },
          "metadata": {},
          "execution_count": 89
        }
      ]
    },
    {
      "cell_type": "code",
      "source": [
        "df_soc.shape"
      ],
      "metadata": {
        "id": "ZWGNR3AhODX1",
        "outputId": "59305fcc-2a99-445b-ef04-d48a176b512e",
        "colab": {
          "base_uri": "https://localhost:8080/"
        }
      },
      "execution_count": 90,
      "outputs": [
        {
          "output_type": "execute_result",
          "data": {
            "text/plain": [
              "(5961849, 7)"
            ]
          },
          "metadata": {},
          "execution_count": 90
        }
      ]
    },
    {
      "cell_type": "code",
      "source": [
        "customer_products_raw.shape"
      ],
      "metadata": {
        "id": "NFw4DnavOGk5",
        "outputId": "d111eea2-4a1f-4f50-a786-da0c219a0855",
        "colab": {
          "base_uri": "https://localhost:8080/"
        }
      },
      "execution_count": 91,
      "outputs": [
        {
          "output_type": "execute_result",
          "data": {
            "text/plain": [
              "(5962924, 18)"
            ]
          },
          "metadata": {},
          "execution_count": 91
        }
      ]
    },
    {
      "cell_type": "code",
      "source": [
        "df1_raw.shape"
      ],
      "metadata": {
        "id": "EJc8OYMPN87N",
        "outputId": "83f065f7-d37d-4651-d0c4-7c1c3555ff74",
        "colab": {
          "base_uri": "https://localhost:8080/"
        }
      },
      "execution_count": 92,
      "outputs": [
        {
          "output_type": "execute_result",
          "data": {
            "text/plain": [
              "(5961849, 12)"
            ]
          },
          "metadata": {},
          "execution_count": 92
        }
      ]
    },
    {
      "cell_type": "code",
      "source": [
        "df1_raw.head()"
      ],
      "metadata": {
        "colab": {
          "base_uri": "https://localhost:8080/",
          "height": 206
        },
        "id": "eJ1ArAivwSpB",
        "outputId": "d93a8557-44aa-4bb6-871c-0342c269b254"
      },
      "execution_count": 93,
      "outputs": [
        {
          "output_type": "execute_result",
          "data": {
            "text/plain": [
              "   customer_ID pk_partition country_id  region_code gender  age     salary  \\\n",
              "0      1375586      2018-01         ES         29.0      H   35   87218.10   \n",
              "1      1050611      2018-01         ES         13.0      V   23   35548.74   \n",
              "2      1050612      2018-01         ES         13.0      V   23  122179.11   \n",
              "3      1050613      2018-01         ES         50.0      H   22  119775.54   \n",
              "4      1050614      2018-01         ES         50.0      V   23        NaN   \n",
              "\n",
              "  entry_date entry_channel  active_customer             segment   antiguedad  \n",
              "0    2018-01           KHL              1.0   02 - PARTICULARES   41904000.0  \n",
              "1    2015-08           KHE              0.0  03 - UNIVERSITARIO  118281600.0  \n",
              "2    2015-08           KHE              0.0  03 - UNIVERSITARIO  118281600.0  \n",
              "3    2015-08           KHD              0.0  03 - UNIVERSITARIO  118281600.0  \n",
              "4    2015-08           KHE              1.0  03 - UNIVERSITARIO  118281600.0  "
            ],
            "text/html": [
              "\n",
              "  <div id=\"df-da1e3c44-5adf-4200-b9f9-338bb9a5a400\">\n",
              "    <div class=\"colab-df-container\">\n",
              "      <div>\n",
              "<style scoped>\n",
              "    .dataframe tbody tr th:only-of-type {\n",
              "        vertical-align: middle;\n",
              "    }\n",
              "\n",
              "    .dataframe tbody tr th {\n",
              "        vertical-align: top;\n",
              "    }\n",
              "\n",
              "    .dataframe thead th {\n",
              "        text-align: right;\n",
              "    }\n",
              "</style>\n",
              "<table border=\"1\" class=\"dataframe\">\n",
              "  <thead>\n",
              "    <tr style=\"text-align: right;\">\n",
              "      <th></th>\n",
              "      <th>customer_ID</th>\n",
              "      <th>pk_partition</th>\n",
              "      <th>country_id</th>\n",
              "      <th>region_code</th>\n",
              "      <th>gender</th>\n",
              "      <th>age</th>\n",
              "      <th>salary</th>\n",
              "      <th>entry_date</th>\n",
              "      <th>entry_channel</th>\n",
              "      <th>active_customer</th>\n",
              "      <th>segment</th>\n",
              "      <th>antiguedad</th>\n",
              "    </tr>\n",
              "  </thead>\n",
              "  <tbody>\n",
              "    <tr>\n",
              "      <th>0</th>\n",
              "      <td>1375586</td>\n",
              "      <td>2018-01</td>\n",
              "      <td>ES</td>\n",
              "      <td>29.0</td>\n",
              "      <td>H</td>\n",
              "      <td>35</td>\n",
              "      <td>87218.10</td>\n",
              "      <td>2018-01</td>\n",
              "      <td>KHL</td>\n",
              "      <td>1.0</td>\n",
              "      <td>02 - PARTICULARES</td>\n",
              "      <td>41904000.0</td>\n",
              "    </tr>\n",
              "    <tr>\n",
              "      <th>1</th>\n",
              "      <td>1050611</td>\n",
              "      <td>2018-01</td>\n",
              "      <td>ES</td>\n",
              "      <td>13.0</td>\n",
              "      <td>V</td>\n",
              "      <td>23</td>\n",
              "      <td>35548.74</td>\n",
              "      <td>2015-08</td>\n",
              "      <td>KHE</td>\n",
              "      <td>0.0</td>\n",
              "      <td>03 - UNIVERSITARIO</td>\n",
              "      <td>118281600.0</td>\n",
              "    </tr>\n",
              "    <tr>\n",
              "      <th>2</th>\n",
              "      <td>1050612</td>\n",
              "      <td>2018-01</td>\n",
              "      <td>ES</td>\n",
              "      <td>13.0</td>\n",
              "      <td>V</td>\n",
              "      <td>23</td>\n",
              "      <td>122179.11</td>\n",
              "      <td>2015-08</td>\n",
              "      <td>KHE</td>\n",
              "      <td>0.0</td>\n",
              "      <td>03 - UNIVERSITARIO</td>\n",
              "      <td>118281600.0</td>\n",
              "    </tr>\n",
              "    <tr>\n",
              "      <th>3</th>\n",
              "      <td>1050613</td>\n",
              "      <td>2018-01</td>\n",
              "      <td>ES</td>\n",
              "      <td>50.0</td>\n",
              "      <td>H</td>\n",
              "      <td>22</td>\n",
              "      <td>119775.54</td>\n",
              "      <td>2015-08</td>\n",
              "      <td>KHD</td>\n",
              "      <td>0.0</td>\n",
              "      <td>03 - UNIVERSITARIO</td>\n",
              "      <td>118281600.0</td>\n",
              "    </tr>\n",
              "    <tr>\n",
              "      <th>4</th>\n",
              "      <td>1050614</td>\n",
              "      <td>2018-01</td>\n",
              "      <td>ES</td>\n",
              "      <td>50.0</td>\n",
              "      <td>V</td>\n",
              "      <td>23</td>\n",
              "      <td>NaN</td>\n",
              "      <td>2015-08</td>\n",
              "      <td>KHE</td>\n",
              "      <td>1.0</td>\n",
              "      <td>03 - UNIVERSITARIO</td>\n",
              "      <td>118281600.0</td>\n",
              "    </tr>\n",
              "  </tbody>\n",
              "</table>\n",
              "</div>\n",
              "      <button class=\"colab-df-convert\" onclick=\"convertToInteractive('df-da1e3c44-5adf-4200-b9f9-338bb9a5a400')\"\n",
              "              title=\"Convert this dataframe to an interactive table.\"\n",
              "              style=\"display:none;\">\n",
              "        \n",
              "  <svg xmlns=\"http://www.w3.org/2000/svg\" height=\"24px\"viewBox=\"0 0 24 24\"\n",
              "       width=\"24px\">\n",
              "    <path d=\"M0 0h24v24H0V0z\" fill=\"none\"/>\n",
              "    <path d=\"M18.56 5.44l.94 2.06.94-2.06 2.06-.94-2.06-.94-.94-2.06-.94 2.06-2.06.94zm-11 1L8.5 8.5l.94-2.06 2.06-.94-2.06-.94L8.5 2.5l-.94 2.06-2.06.94zm10 10l.94 2.06.94-2.06 2.06-.94-2.06-.94-.94-2.06-.94 2.06-2.06.94z\"/><path d=\"M17.41 7.96l-1.37-1.37c-.4-.4-.92-.59-1.43-.59-.52 0-1.04.2-1.43.59L10.3 9.45l-7.72 7.72c-.78.78-.78 2.05 0 2.83L4 21.41c.39.39.9.59 1.41.59.51 0 1.02-.2 1.41-.59l7.78-7.78 2.81-2.81c.8-.78.8-2.07 0-2.86zM5.41 20L4 18.59l7.72-7.72 1.47 1.35L5.41 20z\"/>\n",
              "  </svg>\n",
              "      </button>\n",
              "      \n",
              "  <style>\n",
              "    .colab-df-container {\n",
              "      display:flex;\n",
              "      flex-wrap:wrap;\n",
              "      gap: 12px;\n",
              "    }\n",
              "\n",
              "    .colab-df-convert {\n",
              "      background-color: #E8F0FE;\n",
              "      border: none;\n",
              "      border-radius: 50%;\n",
              "      cursor: pointer;\n",
              "      display: none;\n",
              "      fill: #1967D2;\n",
              "      height: 32px;\n",
              "      padding: 0 0 0 0;\n",
              "      width: 32px;\n",
              "    }\n",
              "\n",
              "    .colab-df-convert:hover {\n",
              "      background-color: #E2EBFA;\n",
              "      box-shadow: 0px 1px 2px rgba(60, 64, 67, 0.3), 0px 1px 3px 1px rgba(60, 64, 67, 0.15);\n",
              "      fill: #174EA6;\n",
              "    }\n",
              "\n",
              "    [theme=dark] .colab-df-convert {\n",
              "      background-color: #3B4455;\n",
              "      fill: #D2E3FC;\n",
              "    }\n",
              "\n",
              "    [theme=dark] .colab-df-convert:hover {\n",
              "      background-color: #434B5C;\n",
              "      box-shadow: 0px 1px 3px 1px rgba(0, 0, 0, 0.15);\n",
              "      filter: drop-shadow(0px 1px 2px rgba(0, 0, 0, 0.3));\n",
              "      fill: #FFFFFF;\n",
              "    }\n",
              "  </style>\n",
              "\n",
              "      <script>\n",
              "        const buttonEl =\n",
              "          document.querySelector('#df-da1e3c44-5adf-4200-b9f9-338bb9a5a400 button.colab-df-convert');\n",
              "        buttonEl.style.display =\n",
              "          google.colab.kernel.accessAllowed ? 'block' : 'none';\n",
              "\n",
              "        async function convertToInteractive(key) {\n",
              "          const element = document.querySelector('#df-da1e3c44-5adf-4200-b9f9-338bb9a5a400');\n",
              "          const dataTable =\n",
              "            await google.colab.kernel.invokeFunction('convertToInteractive',\n",
              "                                                     [key], {});\n",
              "          if (!dataTable) return;\n",
              "\n",
              "          const docLinkHtml = 'Like what you see? Visit the ' +\n",
              "            '<a target=\"_blank\" href=https://colab.research.google.com/notebooks/data_table.ipynb>data table notebook</a>'\n",
              "            + ' to learn more about interactive tables.';\n",
              "          element.innerHTML = '';\n",
              "          dataTable['output_type'] = 'display_data';\n",
              "          await google.colab.output.renderOutput(dataTable, element);\n",
              "          const docLink = document.createElement('div');\n",
              "          docLink.innerHTML = docLinkHtml;\n",
              "          element.appendChild(docLink);\n",
              "        }\n",
              "      </script>\n",
              "    </div>\n",
              "  </div>\n",
              "  "
            ]
          },
          "metadata": {},
          "execution_count": 93
        }
      ]
    },
    {
      "cell_type": "code",
      "source": [
        "df1_raw.isnull().sum()"
      ],
      "metadata": {
        "colab": {
          "base_uri": "https://localhost:8080/"
        },
        "id": "sNf2oqnVIwaY",
        "outputId": "c199bfef-8756-4f8c-8a93-e8693b90aa12"
      },
      "execution_count": 94,
      "outputs": [
        {
          "output_type": "execute_result",
          "data": {
            "text/plain": [
              "customer_ID              0\n",
              "pk_partition             0\n",
              "country_id               0\n",
              "region_code           2259\n",
              "gender                  25\n",
              "age                      0\n",
              "salary             1540876\n",
              "entry_date               0\n",
              "entry_channel       133033\n",
              "active_customer          0\n",
              "segment             133944\n",
              "antiguedad               0\n",
              "dtype: int64"
            ]
          },
          "metadata": {},
          "execution_count": 94
        }
      ]
    },
    {
      "cell_type": "code",
      "source": [
        "# Análisis inicial de df_sales_raw y aplicamos las acciones propuestas en el análisis de los datasets\n",
        "\n",
        "df1_raw.info()"
      ],
      "metadata": {
        "colab": {
          "base_uri": "https://localhost:8080/"
        },
        "id": "NcTgOi3k3ZgX",
        "outputId": "c40f7acc-8b02-4355-d77b-15e171bb3d30"
      },
      "execution_count": 95,
      "outputs": [
        {
          "output_type": "stream",
          "name": "stdout",
          "text": [
            "<class 'pandas.core.frame.DataFrame'>\n",
            "Int64Index: 5961849 entries, 0 to 5961848\n",
            "Data columns (total 12 columns):\n",
            " #   Column           Dtype  \n",
            "---  ------           -----  \n",
            " 0   customer_ID      int64  \n",
            " 1   pk_partition     object \n",
            " 2   country_id       object \n",
            " 3   region_code      float64\n",
            " 4   gender           object \n",
            " 5   age              int64  \n",
            " 6   salary           float64\n",
            " 7   entry_date       object \n",
            " 8   entry_channel    object \n",
            " 9   active_customer  float64\n",
            " 10  segment          object \n",
            " 11  antiguedad       float64\n",
            "dtypes: float64(4), int64(2), object(6)\n",
            "memory usage: 591.3+ MB\n"
          ]
        }
      ]
    },
    {
      "cell_type": "code",
      "source": [
        "df1 = df1_raw.copy()"
      ],
      "metadata": {
        "id": "-8C4HwJf0LYK"
      },
      "execution_count": 96,
      "outputs": []
    },
    {
      "cell_type": "code",
      "source": [
        "df1.shape"
      ],
      "metadata": {
        "id": "N85FoDnhPJxU",
        "colab": {
          "base_uri": "https://localhost:8080/"
        },
        "outputId": "d78b161b-6827-43a6-b6a2-974dc5a7c75c"
      },
      "execution_count": 97,
      "outputs": [
        {
          "output_type": "execute_result",
          "data": {
            "text/plain": [
              "(5961849, 12)"
            ]
          },
          "metadata": {},
          "execution_count": 97
        }
      ]
    },
    {
      "cell_type": "code",
      "source": [
        "df1.head()"
      ],
      "metadata": {
        "id": "R6w5_4ciHdLo",
        "outputId": "d642c1a5-1db9-448d-ce07-4408660b9bc1",
        "colab": {
          "base_uri": "https://localhost:8080/",
          "height": 206
        }
      },
      "execution_count": 98,
      "outputs": [
        {
          "output_type": "execute_result",
          "data": {
            "text/plain": [
              "   customer_ID pk_partition country_id  region_code gender  age     salary  \\\n",
              "0      1375586      2018-01         ES         29.0      H   35   87218.10   \n",
              "1      1050611      2018-01         ES         13.0      V   23   35548.74   \n",
              "2      1050612      2018-01         ES         13.0      V   23  122179.11   \n",
              "3      1050613      2018-01         ES         50.0      H   22  119775.54   \n",
              "4      1050614      2018-01         ES         50.0      V   23        NaN   \n",
              "\n",
              "  entry_date entry_channel  active_customer             segment   antiguedad  \n",
              "0    2018-01           KHL              1.0   02 - PARTICULARES   41904000.0  \n",
              "1    2015-08           KHE              0.0  03 - UNIVERSITARIO  118281600.0  \n",
              "2    2015-08           KHE              0.0  03 - UNIVERSITARIO  118281600.0  \n",
              "3    2015-08           KHD              0.0  03 - UNIVERSITARIO  118281600.0  \n",
              "4    2015-08           KHE              1.0  03 - UNIVERSITARIO  118281600.0  "
            ],
            "text/html": [
              "\n",
              "  <div id=\"df-ad0c8251-70be-4194-b01d-3fedb5e6b8a8\">\n",
              "    <div class=\"colab-df-container\">\n",
              "      <div>\n",
              "<style scoped>\n",
              "    .dataframe tbody tr th:only-of-type {\n",
              "        vertical-align: middle;\n",
              "    }\n",
              "\n",
              "    .dataframe tbody tr th {\n",
              "        vertical-align: top;\n",
              "    }\n",
              "\n",
              "    .dataframe thead th {\n",
              "        text-align: right;\n",
              "    }\n",
              "</style>\n",
              "<table border=\"1\" class=\"dataframe\">\n",
              "  <thead>\n",
              "    <tr style=\"text-align: right;\">\n",
              "      <th></th>\n",
              "      <th>customer_ID</th>\n",
              "      <th>pk_partition</th>\n",
              "      <th>country_id</th>\n",
              "      <th>region_code</th>\n",
              "      <th>gender</th>\n",
              "      <th>age</th>\n",
              "      <th>salary</th>\n",
              "      <th>entry_date</th>\n",
              "      <th>entry_channel</th>\n",
              "      <th>active_customer</th>\n",
              "      <th>segment</th>\n",
              "      <th>antiguedad</th>\n",
              "    </tr>\n",
              "  </thead>\n",
              "  <tbody>\n",
              "    <tr>\n",
              "      <th>0</th>\n",
              "      <td>1375586</td>\n",
              "      <td>2018-01</td>\n",
              "      <td>ES</td>\n",
              "      <td>29.0</td>\n",
              "      <td>H</td>\n",
              "      <td>35</td>\n",
              "      <td>87218.10</td>\n",
              "      <td>2018-01</td>\n",
              "      <td>KHL</td>\n",
              "      <td>1.0</td>\n",
              "      <td>02 - PARTICULARES</td>\n",
              "      <td>41904000.0</td>\n",
              "    </tr>\n",
              "    <tr>\n",
              "      <th>1</th>\n",
              "      <td>1050611</td>\n",
              "      <td>2018-01</td>\n",
              "      <td>ES</td>\n",
              "      <td>13.0</td>\n",
              "      <td>V</td>\n",
              "      <td>23</td>\n",
              "      <td>35548.74</td>\n",
              "      <td>2015-08</td>\n",
              "      <td>KHE</td>\n",
              "      <td>0.0</td>\n",
              "      <td>03 - UNIVERSITARIO</td>\n",
              "      <td>118281600.0</td>\n",
              "    </tr>\n",
              "    <tr>\n",
              "      <th>2</th>\n",
              "      <td>1050612</td>\n",
              "      <td>2018-01</td>\n",
              "      <td>ES</td>\n",
              "      <td>13.0</td>\n",
              "      <td>V</td>\n",
              "      <td>23</td>\n",
              "      <td>122179.11</td>\n",
              "      <td>2015-08</td>\n",
              "      <td>KHE</td>\n",
              "      <td>0.0</td>\n",
              "      <td>03 - UNIVERSITARIO</td>\n",
              "      <td>118281600.0</td>\n",
              "    </tr>\n",
              "    <tr>\n",
              "      <th>3</th>\n",
              "      <td>1050613</td>\n",
              "      <td>2018-01</td>\n",
              "      <td>ES</td>\n",
              "      <td>50.0</td>\n",
              "      <td>H</td>\n",
              "      <td>22</td>\n",
              "      <td>119775.54</td>\n",
              "      <td>2015-08</td>\n",
              "      <td>KHD</td>\n",
              "      <td>0.0</td>\n",
              "      <td>03 - UNIVERSITARIO</td>\n",
              "      <td>118281600.0</td>\n",
              "    </tr>\n",
              "    <tr>\n",
              "      <th>4</th>\n",
              "      <td>1050614</td>\n",
              "      <td>2018-01</td>\n",
              "      <td>ES</td>\n",
              "      <td>50.0</td>\n",
              "      <td>V</td>\n",
              "      <td>23</td>\n",
              "      <td>NaN</td>\n",
              "      <td>2015-08</td>\n",
              "      <td>KHE</td>\n",
              "      <td>1.0</td>\n",
              "      <td>03 - UNIVERSITARIO</td>\n",
              "      <td>118281600.0</td>\n",
              "    </tr>\n",
              "  </tbody>\n",
              "</table>\n",
              "</div>\n",
              "      <button class=\"colab-df-convert\" onclick=\"convertToInteractive('df-ad0c8251-70be-4194-b01d-3fedb5e6b8a8')\"\n",
              "              title=\"Convert this dataframe to an interactive table.\"\n",
              "              style=\"display:none;\">\n",
              "        \n",
              "  <svg xmlns=\"http://www.w3.org/2000/svg\" height=\"24px\"viewBox=\"0 0 24 24\"\n",
              "       width=\"24px\">\n",
              "    <path d=\"M0 0h24v24H0V0z\" fill=\"none\"/>\n",
              "    <path d=\"M18.56 5.44l.94 2.06.94-2.06 2.06-.94-2.06-.94-.94-2.06-.94 2.06-2.06.94zm-11 1L8.5 8.5l.94-2.06 2.06-.94-2.06-.94L8.5 2.5l-.94 2.06-2.06.94zm10 10l.94 2.06.94-2.06 2.06-.94-2.06-.94-.94-2.06-.94 2.06-2.06.94z\"/><path d=\"M17.41 7.96l-1.37-1.37c-.4-.4-.92-.59-1.43-.59-.52 0-1.04.2-1.43.59L10.3 9.45l-7.72 7.72c-.78.78-.78 2.05 0 2.83L4 21.41c.39.39.9.59 1.41.59.51 0 1.02-.2 1.41-.59l7.78-7.78 2.81-2.81c.8-.78.8-2.07 0-2.86zM5.41 20L4 18.59l7.72-7.72 1.47 1.35L5.41 20z\"/>\n",
              "  </svg>\n",
              "      </button>\n",
              "      \n",
              "  <style>\n",
              "    .colab-df-container {\n",
              "      display:flex;\n",
              "      flex-wrap:wrap;\n",
              "      gap: 12px;\n",
              "    }\n",
              "\n",
              "    .colab-df-convert {\n",
              "      background-color: #E8F0FE;\n",
              "      border: none;\n",
              "      border-radius: 50%;\n",
              "      cursor: pointer;\n",
              "      display: none;\n",
              "      fill: #1967D2;\n",
              "      height: 32px;\n",
              "      padding: 0 0 0 0;\n",
              "      width: 32px;\n",
              "    }\n",
              "\n",
              "    .colab-df-convert:hover {\n",
              "      background-color: #E2EBFA;\n",
              "      box-shadow: 0px 1px 2px rgba(60, 64, 67, 0.3), 0px 1px 3px 1px rgba(60, 64, 67, 0.15);\n",
              "      fill: #174EA6;\n",
              "    }\n",
              "\n",
              "    [theme=dark] .colab-df-convert {\n",
              "      background-color: #3B4455;\n",
              "      fill: #D2E3FC;\n",
              "    }\n",
              "\n",
              "    [theme=dark] .colab-df-convert:hover {\n",
              "      background-color: #434B5C;\n",
              "      box-shadow: 0px 1px 3px 1px rgba(0, 0, 0, 0.15);\n",
              "      filter: drop-shadow(0px 1px 2px rgba(0, 0, 0, 0.3));\n",
              "      fill: #FFFFFF;\n",
              "    }\n",
              "  </style>\n",
              "\n",
              "      <script>\n",
              "        const buttonEl =\n",
              "          document.querySelector('#df-ad0c8251-70be-4194-b01d-3fedb5e6b8a8 button.colab-df-convert');\n",
              "        buttonEl.style.display =\n",
              "          google.colab.kernel.accessAllowed ? 'block' : 'none';\n",
              "\n",
              "        async function convertToInteractive(key) {\n",
              "          const element = document.querySelector('#df-ad0c8251-70be-4194-b01d-3fedb5e6b8a8');\n",
              "          const dataTable =\n",
              "            await google.colab.kernel.invokeFunction('convertToInteractive',\n",
              "                                                     [key], {});\n",
              "          if (!dataTable) return;\n",
              "\n",
              "          const docLinkHtml = 'Like what you see? Visit the ' +\n",
              "            '<a target=\"_blank\" href=https://colab.research.google.com/notebooks/data_table.ipynb>data table notebook</a>'\n",
              "            + ' to learn more about interactive tables.';\n",
              "          element.innerHTML = '';\n",
              "          dataTable['output_type'] = 'display_data';\n",
              "          await google.colab.output.renderOutput(dataTable, element);\n",
              "          const docLink = document.createElement('div');\n",
              "          docLink.innerHTML = docLinkHtml;\n",
              "          element.appendChild(docLink);\n",
              "        }\n",
              "      </script>\n",
              "    </div>\n",
              "  </div>\n",
              "  "
            ]
          },
          "metadata": {},
          "execution_count": 98
        }
      ]
    },
    {
      "cell_type": "code",
      "source": [],
      "metadata": {
        "id": "_vDUOEN2J2tZ"
      },
      "execution_count": 98,
      "outputs": []
    },
    {
      "cell_type": "markdown",
      "source": [
        "### Atributos de baja varianza"
      ],
      "metadata": {
        "id": "Mnx0tSwv4x1s"
      }
    },
    {
      "cell_type": "code",
      "source": [
        "df1[\"country_id\"].value_counts(normalize=True)*100"
      ],
      "metadata": {
        "id": "APkvBkPdELzy",
        "outputId": "dd7ceced-6f25-4a82-f8ef-5a1edab28325",
        "colab": {
          "base_uri": "https://localhost:8080/"
        }
      },
      "execution_count": 99,
      "outputs": [
        {
          "output_type": "execute_result",
          "data": {
            "text/plain": [
              "ES    99.962310\n",
              "GB     0.007397\n",
              "FR     0.003774\n",
              "DE     0.003338\n",
              "US     0.003271\n",
              "CH     0.003170\n",
              "BR     0.001459\n",
              "BE     0.001359\n",
              "VE     0.001325\n",
              "IE     0.001141\n",
              "MX     0.000973\n",
              "AT     0.000855\n",
              "AR     0.000855\n",
              "PL     0.000822\n",
              "IT     0.000755\n",
              "MA     0.000570\n",
              "CL     0.000503\n",
              "CN     0.000470\n",
              "CA     0.000369\n",
              "LU     0.000285\n",
              "ET     0.000285\n",
              "QA     0.000285\n",
              "CI     0.000285\n",
              "SA     0.000285\n",
              "CM     0.000285\n",
              "SN     0.000285\n",
              "MR     0.000285\n",
              "NO     0.000285\n",
              "RU     0.000285\n",
              "CO     0.000285\n",
              "GA     0.000285\n",
              "GT     0.000285\n",
              "DO     0.000285\n",
              "SE     0.000268\n",
              "DJ     0.000185\n",
              "PT     0.000185\n",
              "JM     0.000185\n",
              "RO     0.000151\n",
              "HU     0.000134\n",
              "DZ     0.000117\n",
              "PE     0.000067\n",
              "Name: country_id, dtype: float64"
            ]
          },
          "metadata": {},
          "execution_count": 99
        }
      ]
    },
    {
      "cell_type": "code",
      "source": [
        "#agrupamos country_id en ES y OTHERS\n",
        "df1['country_id'] = df1['country_id'].apply(lambda x: 'ES' if x == 'ES' else 'OTHERS')"
      ],
      "metadata": {
        "id": "LsK7oZNwHyQo"
      },
      "execution_count": 100,
      "outputs": []
    },
    {
      "cell_type": "code",
      "source": [
        "df1[\"country_id\"].value_counts(normalize=True)*100"
      ],
      "metadata": {
        "id": "ZwdmJOamIptT",
        "outputId": "8d51de28-7883-490f-ade5-cf6e9d699781",
        "colab": {
          "base_uri": "https://localhost:8080/"
        }
      },
      "execution_count": 101,
      "outputs": [
        {
          "output_type": "execute_result",
          "data": {
            "text/plain": [
              "ES        99.96231\n",
              "OTHERS     0.03769\n",
              "Name: country_id, dtype: float64"
            ]
          },
          "metadata": {},
          "execution_count": 101
        }
      ]
    },
    {
      "cell_type": "code",
      "source": [
        "#df1.drop(\"country_id\", axis = 1, inplace = True)"
      ],
      "metadata": {
        "id": "A-dF1It_JYcS"
      },
      "execution_count": 102,
      "outputs": []
    },
    {
      "cell_type": "markdown",
      "source": [
        "### Gestión de nulos"
      ],
      "metadata": {
        "id": "m5zPwJnx4vk8"
      }
    },
    {
      "cell_type": "code",
      "source": [
        "df1.isnull().sum()"
      ],
      "metadata": {
        "colab": {
          "base_uri": "https://localhost:8080/"
        },
        "id": "w6VsIMye3q0v",
        "outputId": "60e41feb-9c27-41bd-d9ac-ca3b605f7407"
      },
      "execution_count": 103,
      "outputs": [
        {
          "output_type": "execute_result",
          "data": {
            "text/plain": [
              "customer_ID              0\n",
              "pk_partition             0\n",
              "country_id               0\n",
              "region_code           2259\n",
              "gender                  25\n",
              "age                      0\n",
              "salary             1540876\n",
              "entry_date               0\n",
              "entry_channel       133033\n",
              "active_customer          0\n",
              "segment             133944\n",
              "antiguedad               0\n",
              "dtype: int64"
            ]
          },
          "metadata": {},
          "execution_count": 103
        }
      ]
    },
    {
      "cell_type": "code",
      "source": [
        "df1['salary'].sort_values(ascending = False)"
      ],
      "metadata": {
        "colab": {
          "base_uri": "https://localhost:8080/"
        },
        "id": "cKJPDEQNQY_v",
        "outputId": "b109d1f2-4e39-4dac-d324-7fbd2febc9e5"
      },
      "execution_count": 104,
      "outputs": [
        {
          "output_type": "execute_result",
          "data": {
            "text/plain": [
              "4433426    28894395.51\n",
              "4840742    28894395.51\n",
              "5558468    28894395.51\n",
              "5572544    28894395.51\n",
              "2767085    28894395.51\n",
              "              ...     \n",
              "5961831            NaN\n",
              "5961833            NaN\n",
              "5961838            NaN\n",
              "5961846            NaN\n",
              "5961848            NaN\n",
              "Name: salary, Length: 5961849, dtype: float64"
            ]
          },
          "metadata": {},
          "execution_count": 104
        }
      ]
    },
    {
      "cell_type": "code",
      "source": [
        "# Asignamos valor extremos a \"salary\", \"gender\", \"region_code\" ya que vamos a hacer un DecisionTree\n",
        "\n",
        "print(df1[\"salary\"].describe())\n",
        "df1[\"salary\"].fillna(value = 0, inplace = True)\n",
        "\n",
        "print(df1[\"gender\"].value_counts(normalize = True))\n",
        "df1[\"gender\"].fillna(value = 2, inplace = True)\n",
        "\n",
        "print(df1[\"region_code\"].describe())\n",
        "df1[\"region_code\"].fillna(value = 1000, inplace = True)"
      ],
      "metadata": {
        "colab": {
          "base_uri": "https://localhost:8080/"
        },
        "id": "LEWJpmSP6H95",
        "outputId": "f67ee94d-524f-4b8f-8544-67243c5273d2"
      },
      "execution_count": 105,
      "outputs": [
        {
          "output_type": "stream",
          "name": "stdout",
          "text": [
            "count    4.420973e+06\n",
            "mean     1.155814e+05\n",
            "std      2.000178e+05\n",
            "min      1.202730e+03\n",
            "25%      6.141360e+04\n",
            "50%      8.843820e+04\n",
            "75%      1.313081e+05\n",
            "max      2.889440e+07\n",
            "Name: salary, dtype: float64\n",
            "H    0.517818\n",
            "V    0.482182\n",
            "Name: gender, dtype: float64\n",
            "count    5.959590e+06\n",
            "mean     2.581401e+01\n",
            "std      1.359580e+01\n",
            "min      1.000000e+00\n",
            "25%      1.300000e+01\n",
            "50%      2.800000e+01\n",
            "75%      3.600000e+01\n",
            "max      5.200000e+01\n",
            "Name: region_code, dtype: float64\n"
          ]
        }
      ]
    },
    {
      "cell_type": "markdown",
      "source": [
        "#### Segment (sustituir por valores exisitnetes en otras particiones)"
      ],
      "metadata": {
        "id": "bJ6fFwxJMsDY"
      }
    },
    {
      "cell_type": "code",
      "source": [
        "df1.rename({\"pk_partition\": \"partition_ID\"},axis='columns',inplace = True)"
      ],
      "metadata": {
        "id": "BQZFX9EPJ733"
      },
      "execution_count": 106,
      "outputs": []
    },
    {
      "cell_type": "code",
      "source": [
        "# Array con los ids que tienen nulos en \"segment\"\n",
        "ids_nullsegment_unique=df1[(df1['segment'].isnull()==True)]['customer_ID'].unique()"
      ],
      "metadata": {
        "id": "cpKCirvUM858"
      },
      "execution_count": 107,
      "outputs": []
    },
    {
      "cell_type": "code",
      "source": [
        "# Dataframe donde revisamos si en la última carga de datos hay un valor para los ids que tienen \"segment\" nulo. \n",
        "valores_nulos_segment=df1[(df1.customer_ID.isin(ids_nullsegment_unique))&(df1['segment'].notnull())&(df1['partition_ID']== \"2019-05\")][['customer_ID','segment']]"
      ],
      "metadata": {
        "id": "GDasiLU4M8pL"
      },
      "execution_count": 108,
      "outputs": []
    },
    {
      "cell_type": "code",
      "source": [
        "# Si el id con \"segment\" nulo tenía un valor correcto en la última partition, se lo asignaremos a los valores nulos.\n",
        "dict_nulos_segment=dict(zip(valores_nulos_segment['customer_ID'],valores_nulos_segment['segment']))"
      ],
      "metadata": {
        "id": "PmjgwCWzM8aA"
      },
      "execution_count": 109,
      "outputs": []
    },
    {
      "cell_type": "markdown",
      "source": [
        "#### Entry_Chanel (sustituir por valores exisitnetes en otras particiones)"
      ],
      "metadata": {
        "id": "RC4baK1LM6C9"
      }
    },
    {
      "cell_type": "code",
      "source": [
        "# Array con los ids que tienen nulos en \"entry_channel\"\n",
        "ids_nullentrychannel_unique=df1[(df1['entry_channel'].isnull()==True)]['customer_ID'].unique()"
      ],
      "metadata": {
        "id": "lR0DbCutMy4K"
      },
      "execution_count": 110,
      "outputs": []
    },
    {
      "cell_type": "code",
      "source": [
        "len(ids_nullentrychannel_unique)"
      ],
      "metadata": {
        "colab": {
          "base_uri": "https://localhost:8080/"
        },
        "id": "uHwRDXdNMyw2",
        "outputId": "ff265ce5-2d36-4693-8316-a5557991095b"
      },
      "execution_count": 111,
      "outputs": [
        {
          "output_type": "execute_result",
          "data": {
            "text/plain": [
              "132201"
            ]
          },
          "metadata": {},
          "execution_count": 111
        }
      ]
    },
    {
      "cell_type": "code",
      "source": [
        "# Dataframe donde revisamos si en la última carga de datos hay un valor para los ids que tienen \"entry_channel\" nulo. \n",
        "valores_nulos_entrychannel=df1[(df1.customer_ID.isin(ids_nullentrychannel_unique))&(df1['entry_channel'].notnull())&(df1['partition_ID']=='2019-05')][['customer_ID','entry_channel']]"
      ],
      "metadata": {
        "id": "tssuVX2aMypt"
      },
      "execution_count": 112,
      "outputs": []
    },
    {
      "cell_type": "code",
      "source": [
        "# Si el id con \"entry_channel\" nulo tenía un valor correcto en la última partition, se lo asignaremos a los valores nulos.\n",
        "dict_nulos_entrychannel=dict(zip(valores_nulos_entrychannel['customer_ID'],valores_nulos_entrychannel['entry_channel']))"
      ],
      "metadata": {
        "id": "j1e3-79YMyij"
      },
      "execution_count": 113,
      "outputs": []
    },
    {
      "cell_type": "code",
      "source": [
        "df1.set_index('customer_ID',inplace = True)"
      ],
      "metadata": {
        "id": "EO1DixH3jRf-"
      },
      "execution_count": 114,
      "outputs": []
    },
    {
      "cell_type": "code",
      "source": [
        "# Imputamos los últimos valores registrados correctamente en \"segment\" y \"entry_channel\"\n",
        "df1['segment'].fillna(dict_nulos_segment,inplace=True)\n",
        "df1['entry_channel'].fillna(dict_nulos_entrychannel,inplace=True)"
      ],
      "metadata": {
        "id": "obdSYxhaMyBj"
      },
      "execution_count": 115,
      "outputs": []
    },
    {
      "cell_type": "code",
      "source": [
        "df1.isnull().sum()"
      ],
      "metadata": {
        "id": "1C1UXaK5ULFM",
        "outputId": "9706baa8-fa5f-462b-c127-4a5b76f3c339",
        "colab": {
          "base_uri": "https://localhost:8080/"
        }
      },
      "execution_count": 116,
      "outputs": [
        {
          "output_type": "execute_result",
          "data": {
            "text/plain": [
              "partition_ID           0\n",
              "country_id             0\n",
              "region_code            0\n",
              "gender                 0\n",
              "age                    0\n",
              "salary                 0\n",
              "entry_date             0\n",
              "entry_channel      13261\n",
              "active_customer        0\n",
              "segment            13380\n",
              "antiguedad             0\n",
              "dtype: int64"
            ]
          },
          "metadata": {},
          "execution_count": 116
        }
      ]
    },
    {
      "cell_type": "code",
      "source": [
        "# Imputación de valores extremos a los nulos que no se han podido deducir por el histórico\n",
        "df1['segment'].fillna(value='04 - NO SEGMENT',inplace=True)\n",
        "df1['entry_channel'].fillna(value='ZZZ',inplace=True)"
      ],
      "metadata": {
        "id": "f6YWOluMUTar"
      },
      "execution_count": 117,
      "outputs": []
    },
    {
      "cell_type": "code",
      "source": [
        "df1['entry_channel'].value_counts()"
      ],
      "metadata": {
        "id": "lKYEb6GRKD9p",
        "outputId": "9b74180e-ef03-4737-f2fe-6c1537d6fe18",
        "colab": {
          "base_uri": "https://localhost:8080/"
        }
      },
      "execution_count": 118,
      "outputs": [
        {
          "output_type": "execute_result",
          "data": {
            "text/plain": [
              "KHE    3113921\n",
              "KFC     890900\n",
              "KHQ     664978\n",
              "KAT     416201\n",
              "KHK     231111\n",
              "KHM     203380\n",
              "KHN     121420\n",
              "KFA      79223\n",
              "KHD      75909\n",
              "RED      62168\n",
              "KHL      41752\n",
              "KHF      20662\n",
              "ZZZ      13261\n",
              "KHO       9295\n",
              "KAZ       5635\n",
              "KHC       5241\n",
              "KBG       1659\n",
              "KHP        775\n",
              "KEH        728\n",
              "007        617\n",
              "013        397\n",
              "KAG        335\n",
              "KAS        305\n",
              "KBZ        198\n",
              "KAA        193\n",
              "KAR        157\n",
              "KAY        149\n",
              "KAF        123\n",
              "KAB         95\n",
              "KFD         91\n",
              "KCC         89\n",
              "KAW         65\n",
              "KAQ         52\n",
              "KDH         51\n",
              "KCH         48\n",
              "KAE         48\n",
              "KCB         47\n",
              "KAD         45\n",
              "KAM         43\n",
              "KAH         40\n",
              "KAK         34\n",
              "KAJ         33\n",
              "KDT         23\n",
              "KFF         22\n",
              "KBO         21\n",
              "KEY         20\n",
              "KCI         17\n",
              "KBH         17\n",
              "KGN         17\n",
              "KGX         17\n",
              "KFS         17\n",
              "KCL         17\n",
              "KBE         17\n",
              "KFK         17\n",
              "KGC         17\n",
              "004         17\n",
              "KDR         16\n",
              "KFL         13\n",
              "KBW         12\n",
              "KCK         11\n",
              "KES         11\n",
              "KBU         11\n",
              "KAI         11\n",
              "KBY         11\n",
              "KHS         10\n",
              "KEJ          8\n",
              "KDA          2\n",
              "KFP          2\n",
              "KDS          1\n",
              "Name: entry_channel, dtype: int64"
            ]
          },
          "metadata": {},
          "execution_count": 118
        }
      ]
    },
    {
      "cell_type": "code",
      "source": [
        "def setOthers(dataframe, column, num_values=5):\n",
        "    top_categories = dataframe[column].value_counts().head(num_values)\n",
        "    top_categories_list = top_categories.index.to_list()\n",
        "    top_categories_list.append('OTHERS')\n",
        "    dataframe[column] = pd.Categorical(dataframe[column], categories=top_categories_list)\n",
        "    return dataframe[column].fillna('OTHERS')"
      ],
      "metadata": {
        "id": "8iVJX9f7KNhy"
      },
      "execution_count": 119,
      "outputs": []
    },
    {
      "cell_type": "code",
      "source": [
        "df1['entry_channel']=setOthers(df1,'entry_channel',num_values=13)"
      ],
      "metadata": {
        "id": "q7brQ7zgLygj"
      },
      "execution_count": 120,
      "outputs": []
    },
    {
      "cell_type": "code",
      "source": [
        "df1['entry_channel'].value_counts()"
      ],
      "metadata": {
        "id": "Uq7Hrt1zMMVq",
        "outputId": "08d8087a-abb0-4f67-adce-6e530526ccdf",
        "colab": {
          "base_uri": "https://localhost:8080/"
        }
      },
      "execution_count": 121,
      "outputs": [
        {
          "output_type": "execute_result",
          "data": {
            "text/plain": [
              "KHE       3113921\n",
              "KFC        890900\n",
              "KHQ        664978\n",
              "KAT        416201\n",
              "KHK        231111\n",
              "KHM        203380\n",
              "KHN        121420\n",
              "KFA         79223\n",
              "KHD         75909\n",
              "RED         62168\n",
              "KHL         41752\n",
              "OTHERS      26963\n",
              "KHF         20662\n",
              "ZZZ         13261\n",
              "Name: entry_channel, dtype: int64"
            ]
          },
          "metadata": {},
          "execution_count": 121
        }
      ]
    },
    {
      "cell_type": "code",
      "source": [
        "df1.isnull().sum()"
      ],
      "metadata": {
        "id": "TKVRSqoZwQXq",
        "outputId": "734de9b6-098c-4c63-86ec-7cf3c529f6f5",
        "colab": {
          "base_uri": "https://localhost:8080/"
        }
      },
      "execution_count": 122,
      "outputs": [
        {
          "output_type": "execute_result",
          "data": {
            "text/plain": [
              "partition_ID       0\n",
              "country_id         0\n",
              "region_code        0\n",
              "gender             0\n",
              "age                0\n",
              "salary             0\n",
              "entry_date         0\n",
              "entry_channel      0\n",
              "active_customer    0\n",
              "segment            0\n",
              "antiguedad         0\n",
              "dtype: int64"
            ]
          },
          "metadata": {},
          "execution_count": 122
        }
      ]
    },
    {
      "cell_type": "code",
      "source": [
        "df1.head()"
      ],
      "metadata": {
        "id": "W23hN6G6b-iJ",
        "colab": {
          "base_uri": "https://localhost:8080/",
          "height": 237
        },
        "outputId": "167b428a-c5ba-4d35-a066-c112ba03597f"
      },
      "execution_count": 123,
      "outputs": [
        {
          "output_type": "execute_result",
          "data": {
            "text/plain": [
              "            partition_ID country_id  region_code gender  age     salary  \\\n",
              "customer_ID                                                               \n",
              "1375586          2018-01         ES         29.0      H   35   87218.10   \n",
              "1050611          2018-01         ES         13.0      V   23   35548.74   \n",
              "1050612          2018-01         ES         13.0      V   23  122179.11   \n",
              "1050613          2018-01         ES         50.0      H   22  119775.54   \n",
              "1050614          2018-01         ES         50.0      V   23       0.00   \n",
              "\n",
              "            entry_date entry_channel  active_customer             segment  \\\n",
              "customer_ID                                                                 \n",
              "1375586        2018-01           KHL              1.0   02 - PARTICULARES   \n",
              "1050611        2015-08           KHE              0.0  03 - UNIVERSITARIO   \n",
              "1050612        2015-08           KHE              0.0  03 - UNIVERSITARIO   \n",
              "1050613        2015-08           KHD              0.0  03 - UNIVERSITARIO   \n",
              "1050614        2015-08           KHE              1.0  03 - UNIVERSITARIO   \n",
              "\n",
              "              antiguedad  \n",
              "customer_ID               \n",
              "1375586       41904000.0  \n",
              "1050611      118281600.0  \n",
              "1050612      118281600.0  \n",
              "1050613      118281600.0  \n",
              "1050614      118281600.0  "
            ],
            "text/html": [
              "\n",
              "  <div id=\"df-c359ec03-6429-4f4d-af9f-56a9a2a02194\">\n",
              "    <div class=\"colab-df-container\">\n",
              "      <div>\n",
              "<style scoped>\n",
              "    .dataframe tbody tr th:only-of-type {\n",
              "        vertical-align: middle;\n",
              "    }\n",
              "\n",
              "    .dataframe tbody tr th {\n",
              "        vertical-align: top;\n",
              "    }\n",
              "\n",
              "    .dataframe thead th {\n",
              "        text-align: right;\n",
              "    }\n",
              "</style>\n",
              "<table border=\"1\" class=\"dataframe\">\n",
              "  <thead>\n",
              "    <tr style=\"text-align: right;\">\n",
              "      <th></th>\n",
              "      <th>partition_ID</th>\n",
              "      <th>country_id</th>\n",
              "      <th>region_code</th>\n",
              "      <th>gender</th>\n",
              "      <th>age</th>\n",
              "      <th>salary</th>\n",
              "      <th>entry_date</th>\n",
              "      <th>entry_channel</th>\n",
              "      <th>active_customer</th>\n",
              "      <th>segment</th>\n",
              "      <th>antiguedad</th>\n",
              "    </tr>\n",
              "    <tr>\n",
              "      <th>customer_ID</th>\n",
              "      <th></th>\n",
              "      <th></th>\n",
              "      <th></th>\n",
              "      <th></th>\n",
              "      <th></th>\n",
              "      <th></th>\n",
              "      <th></th>\n",
              "      <th></th>\n",
              "      <th></th>\n",
              "      <th></th>\n",
              "      <th></th>\n",
              "    </tr>\n",
              "  </thead>\n",
              "  <tbody>\n",
              "    <tr>\n",
              "      <th>1375586</th>\n",
              "      <td>2018-01</td>\n",
              "      <td>ES</td>\n",
              "      <td>29.0</td>\n",
              "      <td>H</td>\n",
              "      <td>35</td>\n",
              "      <td>87218.10</td>\n",
              "      <td>2018-01</td>\n",
              "      <td>KHL</td>\n",
              "      <td>1.0</td>\n",
              "      <td>02 - PARTICULARES</td>\n",
              "      <td>41904000.0</td>\n",
              "    </tr>\n",
              "    <tr>\n",
              "      <th>1050611</th>\n",
              "      <td>2018-01</td>\n",
              "      <td>ES</td>\n",
              "      <td>13.0</td>\n",
              "      <td>V</td>\n",
              "      <td>23</td>\n",
              "      <td>35548.74</td>\n",
              "      <td>2015-08</td>\n",
              "      <td>KHE</td>\n",
              "      <td>0.0</td>\n",
              "      <td>03 - UNIVERSITARIO</td>\n",
              "      <td>118281600.0</td>\n",
              "    </tr>\n",
              "    <tr>\n",
              "      <th>1050612</th>\n",
              "      <td>2018-01</td>\n",
              "      <td>ES</td>\n",
              "      <td>13.0</td>\n",
              "      <td>V</td>\n",
              "      <td>23</td>\n",
              "      <td>122179.11</td>\n",
              "      <td>2015-08</td>\n",
              "      <td>KHE</td>\n",
              "      <td>0.0</td>\n",
              "      <td>03 - UNIVERSITARIO</td>\n",
              "      <td>118281600.0</td>\n",
              "    </tr>\n",
              "    <tr>\n",
              "      <th>1050613</th>\n",
              "      <td>2018-01</td>\n",
              "      <td>ES</td>\n",
              "      <td>50.0</td>\n",
              "      <td>H</td>\n",
              "      <td>22</td>\n",
              "      <td>119775.54</td>\n",
              "      <td>2015-08</td>\n",
              "      <td>KHD</td>\n",
              "      <td>0.0</td>\n",
              "      <td>03 - UNIVERSITARIO</td>\n",
              "      <td>118281600.0</td>\n",
              "    </tr>\n",
              "    <tr>\n",
              "      <th>1050614</th>\n",
              "      <td>2018-01</td>\n",
              "      <td>ES</td>\n",
              "      <td>50.0</td>\n",
              "      <td>V</td>\n",
              "      <td>23</td>\n",
              "      <td>0.00</td>\n",
              "      <td>2015-08</td>\n",
              "      <td>KHE</td>\n",
              "      <td>1.0</td>\n",
              "      <td>03 - UNIVERSITARIO</td>\n",
              "      <td>118281600.0</td>\n",
              "    </tr>\n",
              "  </tbody>\n",
              "</table>\n",
              "</div>\n",
              "      <button class=\"colab-df-convert\" onclick=\"convertToInteractive('df-c359ec03-6429-4f4d-af9f-56a9a2a02194')\"\n",
              "              title=\"Convert this dataframe to an interactive table.\"\n",
              "              style=\"display:none;\">\n",
              "        \n",
              "  <svg xmlns=\"http://www.w3.org/2000/svg\" height=\"24px\"viewBox=\"0 0 24 24\"\n",
              "       width=\"24px\">\n",
              "    <path d=\"M0 0h24v24H0V0z\" fill=\"none\"/>\n",
              "    <path d=\"M18.56 5.44l.94 2.06.94-2.06 2.06-.94-2.06-.94-.94-2.06-.94 2.06-2.06.94zm-11 1L8.5 8.5l.94-2.06 2.06-.94-2.06-.94L8.5 2.5l-.94 2.06-2.06.94zm10 10l.94 2.06.94-2.06 2.06-.94-2.06-.94-.94-2.06-.94 2.06-2.06.94z\"/><path d=\"M17.41 7.96l-1.37-1.37c-.4-.4-.92-.59-1.43-.59-.52 0-1.04.2-1.43.59L10.3 9.45l-7.72 7.72c-.78.78-.78 2.05 0 2.83L4 21.41c.39.39.9.59 1.41.59.51 0 1.02-.2 1.41-.59l7.78-7.78 2.81-2.81c.8-.78.8-2.07 0-2.86zM5.41 20L4 18.59l7.72-7.72 1.47 1.35L5.41 20z\"/>\n",
              "  </svg>\n",
              "      </button>\n",
              "      \n",
              "  <style>\n",
              "    .colab-df-container {\n",
              "      display:flex;\n",
              "      flex-wrap:wrap;\n",
              "      gap: 12px;\n",
              "    }\n",
              "\n",
              "    .colab-df-convert {\n",
              "      background-color: #E8F0FE;\n",
              "      border: none;\n",
              "      border-radius: 50%;\n",
              "      cursor: pointer;\n",
              "      display: none;\n",
              "      fill: #1967D2;\n",
              "      height: 32px;\n",
              "      padding: 0 0 0 0;\n",
              "      width: 32px;\n",
              "    }\n",
              "\n",
              "    .colab-df-convert:hover {\n",
              "      background-color: #E2EBFA;\n",
              "      box-shadow: 0px 1px 2px rgba(60, 64, 67, 0.3), 0px 1px 3px 1px rgba(60, 64, 67, 0.15);\n",
              "      fill: #174EA6;\n",
              "    }\n",
              "\n",
              "    [theme=dark] .colab-df-convert {\n",
              "      background-color: #3B4455;\n",
              "      fill: #D2E3FC;\n",
              "    }\n",
              "\n",
              "    [theme=dark] .colab-df-convert:hover {\n",
              "      background-color: #434B5C;\n",
              "      box-shadow: 0px 1px 3px 1px rgba(0, 0, 0, 0.15);\n",
              "      filter: drop-shadow(0px 1px 2px rgba(0, 0, 0, 0.3));\n",
              "      fill: #FFFFFF;\n",
              "    }\n",
              "  </style>\n",
              "\n",
              "      <script>\n",
              "        const buttonEl =\n",
              "          document.querySelector('#df-c359ec03-6429-4f4d-af9f-56a9a2a02194 button.colab-df-convert');\n",
              "        buttonEl.style.display =\n",
              "          google.colab.kernel.accessAllowed ? 'block' : 'none';\n",
              "\n",
              "        async function convertToInteractive(key) {\n",
              "          const element = document.querySelector('#df-c359ec03-6429-4f4d-af9f-56a9a2a02194');\n",
              "          const dataTable =\n",
              "            await google.colab.kernel.invokeFunction('convertToInteractive',\n",
              "                                                     [key], {});\n",
              "          if (!dataTable) return;\n",
              "\n",
              "          const docLinkHtml = 'Like what you see? Visit the ' +\n",
              "            '<a target=\"_blank\" href=https://colab.research.google.com/notebooks/data_table.ipynb>data table notebook</a>'\n",
              "            + ' to learn more about interactive tables.';\n",
              "          element.innerHTML = '';\n",
              "          dataTable['output_type'] = 'display_data';\n",
              "          await google.colab.output.renderOutput(dataTable, element);\n",
              "          const docLink = document.createElement('div');\n",
              "          docLink.innerHTML = docLinkHtml;\n",
              "          element.appendChild(docLink);\n",
              "        }\n",
              "      </script>\n",
              "    </div>\n",
              "  </div>\n",
              "  "
            ]
          },
          "metadata": {},
          "execution_count": 123
        }
      ]
    },
    {
      "cell_type": "code",
      "source": [
        "df1=df1.reset_index()"
      ],
      "metadata": {
        "id": "QQ9SkfhCcAoX"
      },
      "execution_count": 124,
      "outputs": []
    },
    {
      "cell_type": "code",
      "source": [
        "df1.head()"
      ],
      "metadata": {
        "id": "NRY1_l4fcGC3",
        "outputId": "89161b20-bdeb-4bca-e149-b292d951f0c5",
        "colab": {
          "base_uri": "https://localhost:8080/",
          "height": 206
        }
      },
      "execution_count": 125,
      "outputs": [
        {
          "output_type": "execute_result",
          "data": {
            "text/plain": [
              "   customer_ID partition_ID country_id  region_code gender  age     salary  \\\n",
              "0      1375586      2018-01         ES         29.0      H   35   87218.10   \n",
              "1      1050611      2018-01         ES         13.0      V   23   35548.74   \n",
              "2      1050612      2018-01         ES         13.0      V   23  122179.11   \n",
              "3      1050613      2018-01         ES         50.0      H   22  119775.54   \n",
              "4      1050614      2018-01         ES         50.0      V   23       0.00   \n",
              "\n",
              "  entry_date entry_channel  active_customer             segment   antiguedad  \n",
              "0    2018-01           KHL              1.0   02 - PARTICULARES   41904000.0  \n",
              "1    2015-08           KHE              0.0  03 - UNIVERSITARIO  118281600.0  \n",
              "2    2015-08           KHE              0.0  03 - UNIVERSITARIO  118281600.0  \n",
              "3    2015-08           KHD              0.0  03 - UNIVERSITARIO  118281600.0  \n",
              "4    2015-08           KHE              1.0  03 - UNIVERSITARIO  118281600.0  "
            ],
            "text/html": [
              "\n",
              "  <div id=\"df-20b64141-8c44-4ea6-bed5-d59fe013637c\">\n",
              "    <div class=\"colab-df-container\">\n",
              "      <div>\n",
              "<style scoped>\n",
              "    .dataframe tbody tr th:only-of-type {\n",
              "        vertical-align: middle;\n",
              "    }\n",
              "\n",
              "    .dataframe tbody tr th {\n",
              "        vertical-align: top;\n",
              "    }\n",
              "\n",
              "    .dataframe thead th {\n",
              "        text-align: right;\n",
              "    }\n",
              "</style>\n",
              "<table border=\"1\" class=\"dataframe\">\n",
              "  <thead>\n",
              "    <tr style=\"text-align: right;\">\n",
              "      <th></th>\n",
              "      <th>customer_ID</th>\n",
              "      <th>partition_ID</th>\n",
              "      <th>country_id</th>\n",
              "      <th>region_code</th>\n",
              "      <th>gender</th>\n",
              "      <th>age</th>\n",
              "      <th>salary</th>\n",
              "      <th>entry_date</th>\n",
              "      <th>entry_channel</th>\n",
              "      <th>active_customer</th>\n",
              "      <th>segment</th>\n",
              "      <th>antiguedad</th>\n",
              "    </tr>\n",
              "  </thead>\n",
              "  <tbody>\n",
              "    <tr>\n",
              "      <th>0</th>\n",
              "      <td>1375586</td>\n",
              "      <td>2018-01</td>\n",
              "      <td>ES</td>\n",
              "      <td>29.0</td>\n",
              "      <td>H</td>\n",
              "      <td>35</td>\n",
              "      <td>87218.10</td>\n",
              "      <td>2018-01</td>\n",
              "      <td>KHL</td>\n",
              "      <td>1.0</td>\n",
              "      <td>02 - PARTICULARES</td>\n",
              "      <td>41904000.0</td>\n",
              "    </tr>\n",
              "    <tr>\n",
              "      <th>1</th>\n",
              "      <td>1050611</td>\n",
              "      <td>2018-01</td>\n",
              "      <td>ES</td>\n",
              "      <td>13.0</td>\n",
              "      <td>V</td>\n",
              "      <td>23</td>\n",
              "      <td>35548.74</td>\n",
              "      <td>2015-08</td>\n",
              "      <td>KHE</td>\n",
              "      <td>0.0</td>\n",
              "      <td>03 - UNIVERSITARIO</td>\n",
              "      <td>118281600.0</td>\n",
              "    </tr>\n",
              "    <tr>\n",
              "      <th>2</th>\n",
              "      <td>1050612</td>\n",
              "      <td>2018-01</td>\n",
              "      <td>ES</td>\n",
              "      <td>13.0</td>\n",
              "      <td>V</td>\n",
              "      <td>23</td>\n",
              "      <td>122179.11</td>\n",
              "      <td>2015-08</td>\n",
              "      <td>KHE</td>\n",
              "      <td>0.0</td>\n",
              "      <td>03 - UNIVERSITARIO</td>\n",
              "      <td>118281600.0</td>\n",
              "    </tr>\n",
              "    <tr>\n",
              "      <th>3</th>\n",
              "      <td>1050613</td>\n",
              "      <td>2018-01</td>\n",
              "      <td>ES</td>\n",
              "      <td>50.0</td>\n",
              "      <td>H</td>\n",
              "      <td>22</td>\n",
              "      <td>119775.54</td>\n",
              "      <td>2015-08</td>\n",
              "      <td>KHD</td>\n",
              "      <td>0.0</td>\n",
              "      <td>03 - UNIVERSITARIO</td>\n",
              "      <td>118281600.0</td>\n",
              "    </tr>\n",
              "    <tr>\n",
              "      <th>4</th>\n",
              "      <td>1050614</td>\n",
              "      <td>2018-01</td>\n",
              "      <td>ES</td>\n",
              "      <td>50.0</td>\n",
              "      <td>V</td>\n",
              "      <td>23</td>\n",
              "      <td>0.00</td>\n",
              "      <td>2015-08</td>\n",
              "      <td>KHE</td>\n",
              "      <td>1.0</td>\n",
              "      <td>03 - UNIVERSITARIO</td>\n",
              "      <td>118281600.0</td>\n",
              "    </tr>\n",
              "  </tbody>\n",
              "</table>\n",
              "</div>\n",
              "      <button class=\"colab-df-convert\" onclick=\"convertToInteractive('df-20b64141-8c44-4ea6-bed5-d59fe013637c')\"\n",
              "              title=\"Convert this dataframe to an interactive table.\"\n",
              "              style=\"display:none;\">\n",
              "        \n",
              "  <svg xmlns=\"http://www.w3.org/2000/svg\" height=\"24px\"viewBox=\"0 0 24 24\"\n",
              "       width=\"24px\">\n",
              "    <path d=\"M0 0h24v24H0V0z\" fill=\"none\"/>\n",
              "    <path d=\"M18.56 5.44l.94 2.06.94-2.06 2.06-.94-2.06-.94-.94-2.06-.94 2.06-2.06.94zm-11 1L8.5 8.5l.94-2.06 2.06-.94-2.06-.94L8.5 2.5l-.94 2.06-2.06.94zm10 10l.94 2.06.94-2.06 2.06-.94-2.06-.94-.94-2.06-.94 2.06-2.06.94z\"/><path d=\"M17.41 7.96l-1.37-1.37c-.4-.4-.92-.59-1.43-.59-.52 0-1.04.2-1.43.59L10.3 9.45l-7.72 7.72c-.78.78-.78 2.05 0 2.83L4 21.41c.39.39.9.59 1.41.59.51 0 1.02-.2 1.41-.59l7.78-7.78 2.81-2.81c.8-.78.8-2.07 0-2.86zM5.41 20L4 18.59l7.72-7.72 1.47 1.35L5.41 20z\"/>\n",
              "  </svg>\n",
              "      </button>\n",
              "      \n",
              "  <style>\n",
              "    .colab-df-container {\n",
              "      display:flex;\n",
              "      flex-wrap:wrap;\n",
              "      gap: 12px;\n",
              "    }\n",
              "\n",
              "    .colab-df-convert {\n",
              "      background-color: #E8F0FE;\n",
              "      border: none;\n",
              "      border-radius: 50%;\n",
              "      cursor: pointer;\n",
              "      display: none;\n",
              "      fill: #1967D2;\n",
              "      height: 32px;\n",
              "      padding: 0 0 0 0;\n",
              "      width: 32px;\n",
              "    }\n",
              "\n",
              "    .colab-df-convert:hover {\n",
              "      background-color: #E2EBFA;\n",
              "      box-shadow: 0px 1px 2px rgba(60, 64, 67, 0.3), 0px 1px 3px 1px rgba(60, 64, 67, 0.15);\n",
              "      fill: #174EA6;\n",
              "    }\n",
              "\n",
              "    [theme=dark] .colab-df-convert {\n",
              "      background-color: #3B4455;\n",
              "      fill: #D2E3FC;\n",
              "    }\n",
              "\n",
              "    [theme=dark] .colab-df-convert:hover {\n",
              "      background-color: #434B5C;\n",
              "      box-shadow: 0px 1px 3px 1px rgba(0, 0, 0, 0.15);\n",
              "      filter: drop-shadow(0px 1px 2px rgba(0, 0, 0, 0.3));\n",
              "      fill: #FFFFFF;\n",
              "    }\n",
              "  </style>\n",
              "\n",
              "      <script>\n",
              "        const buttonEl =\n",
              "          document.querySelector('#df-20b64141-8c44-4ea6-bed5-d59fe013637c button.colab-df-convert');\n",
              "        buttonEl.style.display =\n",
              "          google.colab.kernel.accessAllowed ? 'block' : 'none';\n",
              "\n",
              "        async function convertToInteractive(key) {\n",
              "          const element = document.querySelector('#df-20b64141-8c44-4ea6-bed5-d59fe013637c');\n",
              "          const dataTable =\n",
              "            await google.colab.kernel.invokeFunction('convertToInteractive',\n",
              "                                                     [key], {});\n",
              "          if (!dataTable) return;\n",
              "\n",
              "          const docLinkHtml = 'Like what you see? Visit the ' +\n",
              "            '<a target=\"_blank\" href=https://colab.research.google.com/notebooks/data_table.ipynb>data table notebook</a>'\n",
              "            + ' to learn more about interactive tables.';\n",
              "          element.innerHTML = '';\n",
              "          dataTable['output_type'] = 'display_data';\n",
              "          await google.colab.output.renderOutput(dataTable, element);\n",
              "          const docLink = document.createElement('div');\n",
              "          docLink.innerHTML = docLinkHtml;\n",
              "          element.appendChild(docLink);\n",
              "        }\n",
              "      </script>\n",
              "    </div>\n",
              "  </div>\n",
              "  "
            ]
          },
          "metadata": {},
          "execution_count": 125
        }
      ]
    },
    {
      "cell_type": "markdown",
      "source": [
        "## Preprocesamiento de Customer Products"
      ],
      "metadata": {
        "id": "hxYAsguSU1i-"
      }
    },
    {
      "cell_type": "code",
      "source": [
        "df_customer_products.info()"
      ],
      "metadata": {
        "id": "paso0DxJUjS3",
        "outputId": "deb0292e-1df1-4f72-fafc-a0a7f76eba55",
        "colab": {
          "base_uri": "https://localhost:8080/"
        }
      },
      "execution_count": 126,
      "outputs": [
        {
          "output_type": "stream",
          "name": "stdout",
          "text": [
            "<class 'pandas.core.frame.DataFrame'>\n",
            "RangeIndex: 5962924 entries, 0 to 5962923\n",
            "Data columns (total 16 columns):\n",
            " #   Column              Dtype  \n",
            "---  ------              -----  \n",
            " 0   customer_ID         int64  \n",
            " 1   pk_partition        object \n",
            " 2   short_term_deposit  int64  \n",
            " 3   loans               int64  \n",
            " 4   mortgage            int64  \n",
            " 5   funds               int64  \n",
            " 6   securities          int64  \n",
            " 7   long_term_deposit   int64  \n",
            " 8   em_account_pp       int64  \n",
            " 9   credit_card         int64  \n",
            " 10  payroll             float64\n",
            " 11  payroll_account     int64  \n",
            " 12  emc_account         int64  \n",
            " 13  debit_card          int64  \n",
            " 14  em_account_p        int64  \n",
            " 15  em_acount           int64  \n",
            "dtypes: float64(1), int64(14), object(1)\n",
            "memory usage: 727.9+ MB\n"
          ]
        }
      ]
    },
    {
      "cell_type": "code",
      "source": [
        "df_customer_products.head()"
      ],
      "metadata": {
        "id": "2gdII9MFVDJY",
        "outputId": "f1dcd864-5e28-48ff-9f4e-cb2958de354d",
        "colab": {
          "base_uri": "https://localhost:8080/",
          "height": 206
        }
      },
      "execution_count": 127,
      "outputs": [
        {
          "output_type": "execute_result",
          "data": {
            "text/plain": [
              "   customer_ID pk_partition  short_term_deposit  loans  mortgage  funds  \\\n",
              "0      1375586      2018-01                   0      0         0      0   \n",
              "1      1050611      2018-01                   0      0         0      0   \n",
              "2      1050612      2018-01                   0      0         0      0   \n",
              "3      1050613      2018-01                   1      0         0      0   \n",
              "4      1050614      2018-01                   0      0         0      0   \n",
              "\n",
              "   securities  long_term_deposit  em_account_pp  credit_card  payroll  \\\n",
              "0           0                  0              0            0      0.0   \n",
              "1           0                  0              0            0      0.0   \n",
              "2           0                  0              0            0      0.0   \n",
              "3           0                  0              0            0      0.0   \n",
              "4           0                  0              0            0      0.0   \n",
              "\n",
              "   payroll_account  emc_account  debit_card  em_account_p  em_acount  \n",
              "0                0            0           0             0          1  \n",
              "1                0            0           0             0          1  \n",
              "2                0            0           0             0          1  \n",
              "3                0            0           0             0          0  \n",
              "4                0            0           0             0          1  "
            ],
            "text/html": [
              "\n",
              "  <div id=\"df-b6710380-484d-4e15-86bb-e6729c493117\">\n",
              "    <div class=\"colab-df-container\">\n",
              "      <div>\n",
              "<style scoped>\n",
              "    .dataframe tbody tr th:only-of-type {\n",
              "        vertical-align: middle;\n",
              "    }\n",
              "\n",
              "    .dataframe tbody tr th {\n",
              "        vertical-align: top;\n",
              "    }\n",
              "\n",
              "    .dataframe thead th {\n",
              "        text-align: right;\n",
              "    }\n",
              "</style>\n",
              "<table border=\"1\" class=\"dataframe\">\n",
              "  <thead>\n",
              "    <tr style=\"text-align: right;\">\n",
              "      <th></th>\n",
              "      <th>customer_ID</th>\n",
              "      <th>pk_partition</th>\n",
              "      <th>short_term_deposit</th>\n",
              "      <th>loans</th>\n",
              "      <th>mortgage</th>\n",
              "      <th>funds</th>\n",
              "      <th>securities</th>\n",
              "      <th>long_term_deposit</th>\n",
              "      <th>em_account_pp</th>\n",
              "      <th>credit_card</th>\n",
              "      <th>payroll</th>\n",
              "      <th>payroll_account</th>\n",
              "      <th>emc_account</th>\n",
              "      <th>debit_card</th>\n",
              "      <th>em_account_p</th>\n",
              "      <th>em_acount</th>\n",
              "    </tr>\n",
              "  </thead>\n",
              "  <tbody>\n",
              "    <tr>\n",
              "      <th>0</th>\n",
              "      <td>1375586</td>\n",
              "      <td>2018-01</td>\n",
              "      <td>0</td>\n",
              "      <td>0</td>\n",
              "      <td>0</td>\n",
              "      <td>0</td>\n",
              "      <td>0</td>\n",
              "      <td>0</td>\n",
              "      <td>0</td>\n",
              "      <td>0</td>\n",
              "      <td>0.0</td>\n",
              "      <td>0</td>\n",
              "      <td>0</td>\n",
              "      <td>0</td>\n",
              "      <td>0</td>\n",
              "      <td>1</td>\n",
              "    </tr>\n",
              "    <tr>\n",
              "      <th>1</th>\n",
              "      <td>1050611</td>\n",
              "      <td>2018-01</td>\n",
              "      <td>0</td>\n",
              "      <td>0</td>\n",
              "      <td>0</td>\n",
              "      <td>0</td>\n",
              "      <td>0</td>\n",
              "      <td>0</td>\n",
              "      <td>0</td>\n",
              "      <td>0</td>\n",
              "      <td>0.0</td>\n",
              "      <td>0</td>\n",
              "      <td>0</td>\n",
              "      <td>0</td>\n",
              "      <td>0</td>\n",
              "      <td>1</td>\n",
              "    </tr>\n",
              "    <tr>\n",
              "      <th>2</th>\n",
              "      <td>1050612</td>\n",
              "      <td>2018-01</td>\n",
              "      <td>0</td>\n",
              "      <td>0</td>\n",
              "      <td>0</td>\n",
              "      <td>0</td>\n",
              "      <td>0</td>\n",
              "      <td>0</td>\n",
              "      <td>0</td>\n",
              "      <td>0</td>\n",
              "      <td>0.0</td>\n",
              "      <td>0</td>\n",
              "      <td>0</td>\n",
              "      <td>0</td>\n",
              "      <td>0</td>\n",
              "      <td>1</td>\n",
              "    </tr>\n",
              "    <tr>\n",
              "      <th>3</th>\n",
              "      <td>1050613</td>\n",
              "      <td>2018-01</td>\n",
              "      <td>1</td>\n",
              "      <td>0</td>\n",
              "      <td>0</td>\n",
              "      <td>0</td>\n",
              "      <td>0</td>\n",
              "      <td>0</td>\n",
              "      <td>0</td>\n",
              "      <td>0</td>\n",
              "      <td>0.0</td>\n",
              "      <td>0</td>\n",
              "      <td>0</td>\n",
              "      <td>0</td>\n",
              "      <td>0</td>\n",
              "      <td>0</td>\n",
              "    </tr>\n",
              "    <tr>\n",
              "      <th>4</th>\n",
              "      <td>1050614</td>\n",
              "      <td>2018-01</td>\n",
              "      <td>0</td>\n",
              "      <td>0</td>\n",
              "      <td>0</td>\n",
              "      <td>0</td>\n",
              "      <td>0</td>\n",
              "      <td>0</td>\n",
              "      <td>0</td>\n",
              "      <td>0</td>\n",
              "      <td>0.0</td>\n",
              "      <td>0</td>\n",
              "      <td>0</td>\n",
              "      <td>0</td>\n",
              "      <td>0</td>\n",
              "      <td>1</td>\n",
              "    </tr>\n",
              "  </tbody>\n",
              "</table>\n",
              "</div>\n",
              "      <button class=\"colab-df-convert\" onclick=\"convertToInteractive('df-b6710380-484d-4e15-86bb-e6729c493117')\"\n",
              "              title=\"Convert this dataframe to an interactive table.\"\n",
              "              style=\"display:none;\">\n",
              "        \n",
              "  <svg xmlns=\"http://www.w3.org/2000/svg\" height=\"24px\"viewBox=\"0 0 24 24\"\n",
              "       width=\"24px\">\n",
              "    <path d=\"M0 0h24v24H0V0z\" fill=\"none\"/>\n",
              "    <path d=\"M18.56 5.44l.94 2.06.94-2.06 2.06-.94-2.06-.94-.94-2.06-.94 2.06-2.06.94zm-11 1L8.5 8.5l.94-2.06 2.06-.94-2.06-.94L8.5 2.5l-.94 2.06-2.06.94zm10 10l.94 2.06.94-2.06 2.06-.94-2.06-.94-.94-2.06-.94 2.06-2.06.94z\"/><path d=\"M17.41 7.96l-1.37-1.37c-.4-.4-.92-.59-1.43-.59-.52 0-1.04.2-1.43.59L10.3 9.45l-7.72 7.72c-.78.78-.78 2.05 0 2.83L4 21.41c.39.39.9.59 1.41.59.51 0 1.02-.2 1.41-.59l7.78-7.78 2.81-2.81c.8-.78.8-2.07 0-2.86zM5.41 20L4 18.59l7.72-7.72 1.47 1.35L5.41 20z\"/>\n",
              "  </svg>\n",
              "      </button>\n",
              "      \n",
              "  <style>\n",
              "    .colab-df-container {\n",
              "      display:flex;\n",
              "      flex-wrap:wrap;\n",
              "      gap: 12px;\n",
              "    }\n",
              "\n",
              "    .colab-df-convert {\n",
              "      background-color: #E8F0FE;\n",
              "      border: none;\n",
              "      border-radius: 50%;\n",
              "      cursor: pointer;\n",
              "      display: none;\n",
              "      fill: #1967D2;\n",
              "      height: 32px;\n",
              "      padding: 0 0 0 0;\n",
              "      width: 32px;\n",
              "    }\n",
              "\n",
              "    .colab-df-convert:hover {\n",
              "      background-color: #E2EBFA;\n",
              "      box-shadow: 0px 1px 2px rgba(60, 64, 67, 0.3), 0px 1px 3px 1px rgba(60, 64, 67, 0.15);\n",
              "      fill: #174EA6;\n",
              "    }\n",
              "\n",
              "    [theme=dark] .colab-df-convert {\n",
              "      background-color: #3B4455;\n",
              "      fill: #D2E3FC;\n",
              "    }\n",
              "\n",
              "    [theme=dark] .colab-df-convert:hover {\n",
              "      background-color: #434B5C;\n",
              "      box-shadow: 0px 1px 3px 1px rgba(0, 0, 0, 0.15);\n",
              "      filter: drop-shadow(0px 1px 2px rgba(0, 0, 0, 0.3));\n",
              "      fill: #FFFFFF;\n",
              "    }\n",
              "  </style>\n",
              "\n",
              "      <script>\n",
              "        const buttonEl =\n",
              "          document.querySelector('#df-b6710380-484d-4e15-86bb-e6729c493117 button.colab-df-convert');\n",
              "        buttonEl.style.display =\n",
              "          google.colab.kernel.accessAllowed ? 'block' : 'none';\n",
              "\n",
              "        async function convertToInteractive(key) {\n",
              "          const element = document.querySelector('#df-b6710380-484d-4e15-86bb-e6729c493117');\n",
              "          const dataTable =\n",
              "            await google.colab.kernel.invokeFunction('convertToInteractive',\n",
              "                                                     [key], {});\n",
              "          if (!dataTable) return;\n",
              "\n",
              "          const docLinkHtml = 'Like what you see? Visit the ' +\n",
              "            '<a target=\"_blank\" href=https://colab.research.google.com/notebooks/data_table.ipynb>data table notebook</a>'\n",
              "            + ' to learn more about interactive tables.';\n",
              "          element.innerHTML = '';\n",
              "          dataTable['output_type'] = 'display_data';\n",
              "          await google.colab.output.renderOutput(dataTable, element);\n",
              "          const docLink = document.createElement('div');\n",
              "          docLink.innerHTML = docLinkHtml;\n",
              "          element.appendChild(docLink);\n",
              "        }\n",
              "      </script>\n",
              "    </div>\n",
              "  </div>\n",
              "  "
            ]
          },
          "metadata": {},
          "execution_count": 127
        }
      ]
    },
    {
      "cell_type": "code",
      "source": [
        "# Renombrar columnas para alinear el naming, por ejemplo variable cid como \"client_ID\", pk_sale como \"sale_ID\"\n",
        "df_customer_products.rename({\"pk_partition\": \"partition_ID\"},axis='columns',inplace = True)"
      ],
      "metadata": {
        "id": "vtlUzZC-VqP3"
      },
      "execution_count": 128,
      "outputs": []
    },
    {
      "cell_type": "code",
      "source": [
        "df_customer_products[\"em_account_p\"].value_counts(normalize = True)*100"
      ],
      "metadata": {
        "id": "NBCk0KXdVw3U",
        "outputId": "bf922af7-b7fe-46c2-fc77-265675c62c97",
        "colab": {
          "base_uri": "https://localhost:8080/"
        }
      },
      "execution_count": 129,
      "outputs": [
        {
          "output_type": "execute_result",
          "data": {
            "text/plain": [
              "0    99.99943\n",
              "1     0.00057\n",
              "Name: em_account_p, dtype: float64"
            ]
          },
          "metadata": {},
          "execution_count": 129
        }
      ]
    },
    {
      "cell_type": "code",
      "source": [
        "df_customer_products[\"em_account_pp\"].value_counts(normalize = True)*100"
      ],
      "metadata": {
        "id": "yM31CGbPV0K3",
        "outputId": "e27ac6d3-4b54-45e9-d8de-99d18f88a428",
        "colab": {
          "base_uri": "https://localhost:8080/"
        }
      },
      "execution_count": 130,
      "outputs": [
        {
          "output_type": "execute_result",
          "data": {
            "text/plain": [
              "0    100.0\n",
              "Name: em_account_pp, dtype: float64"
            ]
          },
          "metadata": {},
          "execution_count": 130
        }
      ]
    },
    {
      "cell_type": "code",
      "source": [
        "# Eliminamos variables de baja varianza\n",
        "del df_customer_products['em_account_pp']\n",
        "del df_customer_products['em_account_p']\n"
      ],
      "metadata": {
        "id": "rg20EeyhVz_z"
      },
      "execution_count": 131,
      "outputs": []
    },
    {
      "cell_type": "code",
      "source": [
        "# Eliminamos valores nulos de \"payroll\" y \"pension_plan\"\n",
        "\n",
        "df_customer_products.dropna(subset = ['payroll'], inplace = True)"
      ],
      "metadata": {
        "id": "CppxNlO2Vzxq"
      },
      "execution_count": 132,
      "outputs": []
    },
    {
      "cell_type": "code",
      "source": [
        "df_customer_products.isnull().sum()"
      ],
      "metadata": {
        "id": "w8M5GRSwV7Bt",
        "outputId": "32a7ade0-5cb6-4fb5-db18-4bd7f870a2af",
        "colab": {
          "base_uri": "https://localhost:8080/"
        }
      },
      "execution_count": 133,
      "outputs": [
        {
          "output_type": "execute_result",
          "data": {
            "text/plain": [
              "customer_ID           0\n",
              "partition_ID          0\n",
              "short_term_deposit    0\n",
              "loans                 0\n",
              "mortgage              0\n",
              "funds                 0\n",
              "securities            0\n",
              "long_term_deposit     0\n",
              "credit_card           0\n",
              "payroll               0\n",
              "payroll_account       0\n",
              "emc_account           0\n",
              "debit_card            0\n",
              "em_acount             0\n",
              "dtype: int64"
            ]
          },
          "metadata": {},
          "execution_count": 133
        }
      ]
    },
    {
      "cell_type": "code",
      "source": [
        "df_customer_products.info(verbose=False)"
      ],
      "metadata": {
        "id": "4m5dI-_JWaND",
        "outputId": "e20333bc-8e75-4092-b526-aefd86aac3ae",
        "colab": {
          "base_uri": "https://localhost:8080/"
        }
      },
      "execution_count": 134,
      "outputs": [
        {
          "output_type": "stream",
          "name": "stdout",
          "text": [
            "<class 'pandas.core.frame.DataFrame'>\n",
            "Int64Index: 5962863 entries, 0 to 5962923\n",
            "Columns: 14 entries, customer_ID to em_acount\n",
            "dtypes: float64(1), int64(12), object(1)\n",
            "memory usage: 682.4+ MB\n"
          ]
        }
      ]
    },
    {
      "cell_type": "markdown",
      "source": [
        "### Transformación de fechas"
      ],
      "metadata": {
        "id": "w5o21v1d466q"
      }
    },
    {
      "cell_type": "code",
      "source": [
        "df1.head()"
      ],
      "metadata": {
        "id": "cW2Lt_4IWhov",
        "outputId": "97c13b49-6670-4890-be1f-656875266614",
        "colab": {
          "base_uri": "https://localhost:8080/",
          "height": 206
        }
      },
      "execution_count": 135,
      "outputs": [
        {
          "output_type": "execute_result",
          "data": {
            "text/plain": [
              "   customer_ID partition_ID country_id  region_code gender  age     salary  \\\n",
              "0      1375586      2018-01         ES         29.0      H   35   87218.10   \n",
              "1      1050611      2018-01         ES         13.0      V   23   35548.74   \n",
              "2      1050612      2018-01         ES         13.0      V   23  122179.11   \n",
              "3      1050613      2018-01         ES         50.0      H   22  119775.54   \n",
              "4      1050614      2018-01         ES         50.0      V   23       0.00   \n",
              "\n",
              "  entry_date entry_channel  active_customer             segment   antiguedad  \n",
              "0    2018-01           KHL              1.0   02 - PARTICULARES   41904000.0  \n",
              "1    2015-08           KHE              0.0  03 - UNIVERSITARIO  118281600.0  \n",
              "2    2015-08           KHE              0.0  03 - UNIVERSITARIO  118281600.0  \n",
              "3    2015-08           KHD              0.0  03 - UNIVERSITARIO  118281600.0  \n",
              "4    2015-08           KHE              1.0  03 - UNIVERSITARIO  118281600.0  "
            ],
            "text/html": [
              "\n",
              "  <div id=\"df-82b10ad5-ace9-42d3-9475-e0f2eb99d872\">\n",
              "    <div class=\"colab-df-container\">\n",
              "      <div>\n",
              "<style scoped>\n",
              "    .dataframe tbody tr th:only-of-type {\n",
              "        vertical-align: middle;\n",
              "    }\n",
              "\n",
              "    .dataframe tbody tr th {\n",
              "        vertical-align: top;\n",
              "    }\n",
              "\n",
              "    .dataframe thead th {\n",
              "        text-align: right;\n",
              "    }\n",
              "</style>\n",
              "<table border=\"1\" class=\"dataframe\">\n",
              "  <thead>\n",
              "    <tr style=\"text-align: right;\">\n",
              "      <th></th>\n",
              "      <th>customer_ID</th>\n",
              "      <th>partition_ID</th>\n",
              "      <th>country_id</th>\n",
              "      <th>region_code</th>\n",
              "      <th>gender</th>\n",
              "      <th>age</th>\n",
              "      <th>salary</th>\n",
              "      <th>entry_date</th>\n",
              "      <th>entry_channel</th>\n",
              "      <th>active_customer</th>\n",
              "      <th>segment</th>\n",
              "      <th>antiguedad</th>\n",
              "    </tr>\n",
              "  </thead>\n",
              "  <tbody>\n",
              "    <tr>\n",
              "      <th>0</th>\n",
              "      <td>1375586</td>\n",
              "      <td>2018-01</td>\n",
              "      <td>ES</td>\n",
              "      <td>29.0</td>\n",
              "      <td>H</td>\n",
              "      <td>35</td>\n",
              "      <td>87218.10</td>\n",
              "      <td>2018-01</td>\n",
              "      <td>KHL</td>\n",
              "      <td>1.0</td>\n",
              "      <td>02 - PARTICULARES</td>\n",
              "      <td>41904000.0</td>\n",
              "    </tr>\n",
              "    <tr>\n",
              "      <th>1</th>\n",
              "      <td>1050611</td>\n",
              "      <td>2018-01</td>\n",
              "      <td>ES</td>\n",
              "      <td>13.0</td>\n",
              "      <td>V</td>\n",
              "      <td>23</td>\n",
              "      <td>35548.74</td>\n",
              "      <td>2015-08</td>\n",
              "      <td>KHE</td>\n",
              "      <td>0.0</td>\n",
              "      <td>03 - UNIVERSITARIO</td>\n",
              "      <td>118281600.0</td>\n",
              "    </tr>\n",
              "    <tr>\n",
              "      <th>2</th>\n",
              "      <td>1050612</td>\n",
              "      <td>2018-01</td>\n",
              "      <td>ES</td>\n",
              "      <td>13.0</td>\n",
              "      <td>V</td>\n",
              "      <td>23</td>\n",
              "      <td>122179.11</td>\n",
              "      <td>2015-08</td>\n",
              "      <td>KHE</td>\n",
              "      <td>0.0</td>\n",
              "      <td>03 - UNIVERSITARIO</td>\n",
              "      <td>118281600.0</td>\n",
              "    </tr>\n",
              "    <tr>\n",
              "      <th>3</th>\n",
              "      <td>1050613</td>\n",
              "      <td>2018-01</td>\n",
              "      <td>ES</td>\n",
              "      <td>50.0</td>\n",
              "      <td>H</td>\n",
              "      <td>22</td>\n",
              "      <td>119775.54</td>\n",
              "      <td>2015-08</td>\n",
              "      <td>KHD</td>\n",
              "      <td>0.0</td>\n",
              "      <td>03 - UNIVERSITARIO</td>\n",
              "      <td>118281600.0</td>\n",
              "    </tr>\n",
              "    <tr>\n",
              "      <th>4</th>\n",
              "      <td>1050614</td>\n",
              "      <td>2018-01</td>\n",
              "      <td>ES</td>\n",
              "      <td>50.0</td>\n",
              "      <td>V</td>\n",
              "      <td>23</td>\n",
              "      <td>0.00</td>\n",
              "      <td>2015-08</td>\n",
              "      <td>KHE</td>\n",
              "      <td>1.0</td>\n",
              "      <td>03 - UNIVERSITARIO</td>\n",
              "      <td>118281600.0</td>\n",
              "    </tr>\n",
              "  </tbody>\n",
              "</table>\n",
              "</div>\n",
              "      <button class=\"colab-df-convert\" onclick=\"convertToInteractive('df-82b10ad5-ace9-42d3-9475-e0f2eb99d872')\"\n",
              "              title=\"Convert this dataframe to an interactive table.\"\n",
              "              style=\"display:none;\">\n",
              "        \n",
              "  <svg xmlns=\"http://www.w3.org/2000/svg\" height=\"24px\"viewBox=\"0 0 24 24\"\n",
              "       width=\"24px\">\n",
              "    <path d=\"M0 0h24v24H0V0z\" fill=\"none\"/>\n",
              "    <path d=\"M18.56 5.44l.94 2.06.94-2.06 2.06-.94-2.06-.94-.94-2.06-.94 2.06-2.06.94zm-11 1L8.5 8.5l.94-2.06 2.06-.94-2.06-.94L8.5 2.5l-.94 2.06-2.06.94zm10 10l.94 2.06.94-2.06 2.06-.94-2.06-.94-.94-2.06-.94 2.06-2.06.94z\"/><path d=\"M17.41 7.96l-1.37-1.37c-.4-.4-.92-.59-1.43-.59-.52 0-1.04.2-1.43.59L10.3 9.45l-7.72 7.72c-.78.78-.78 2.05 0 2.83L4 21.41c.39.39.9.59 1.41.59.51 0 1.02-.2 1.41-.59l7.78-7.78 2.81-2.81c.8-.78.8-2.07 0-2.86zM5.41 20L4 18.59l7.72-7.72 1.47 1.35L5.41 20z\"/>\n",
              "  </svg>\n",
              "      </button>\n",
              "      \n",
              "  <style>\n",
              "    .colab-df-container {\n",
              "      display:flex;\n",
              "      flex-wrap:wrap;\n",
              "      gap: 12px;\n",
              "    }\n",
              "\n",
              "    .colab-df-convert {\n",
              "      background-color: #E8F0FE;\n",
              "      border: none;\n",
              "      border-radius: 50%;\n",
              "      cursor: pointer;\n",
              "      display: none;\n",
              "      fill: #1967D2;\n",
              "      height: 32px;\n",
              "      padding: 0 0 0 0;\n",
              "      width: 32px;\n",
              "    }\n",
              "\n",
              "    .colab-df-convert:hover {\n",
              "      background-color: #E2EBFA;\n",
              "      box-shadow: 0px 1px 2px rgba(60, 64, 67, 0.3), 0px 1px 3px 1px rgba(60, 64, 67, 0.15);\n",
              "      fill: #174EA6;\n",
              "    }\n",
              "\n",
              "    [theme=dark] .colab-df-convert {\n",
              "      background-color: #3B4455;\n",
              "      fill: #D2E3FC;\n",
              "    }\n",
              "\n",
              "    [theme=dark] .colab-df-convert:hover {\n",
              "      background-color: #434B5C;\n",
              "      box-shadow: 0px 1px 3px 1px rgba(0, 0, 0, 0.15);\n",
              "      filter: drop-shadow(0px 1px 2px rgba(0, 0, 0, 0.3));\n",
              "      fill: #FFFFFF;\n",
              "    }\n",
              "  </style>\n",
              "\n",
              "      <script>\n",
              "        const buttonEl =\n",
              "          document.querySelector('#df-82b10ad5-ace9-42d3-9475-e0f2eb99d872 button.colab-df-convert');\n",
              "        buttonEl.style.display =\n",
              "          google.colab.kernel.accessAllowed ? 'block' : 'none';\n",
              "\n",
              "        async function convertToInteractive(key) {\n",
              "          const element = document.querySelector('#df-82b10ad5-ace9-42d3-9475-e0f2eb99d872');\n",
              "          const dataTable =\n",
              "            await google.colab.kernel.invokeFunction('convertToInteractive',\n",
              "                                                     [key], {});\n",
              "          if (!dataTable) return;\n",
              "\n",
              "          const docLinkHtml = 'Like what you see? Visit the ' +\n",
              "            '<a target=\"_blank\" href=https://colab.research.google.com/notebooks/data_table.ipynb>data table notebook</a>'\n",
              "            + ' to learn more about interactive tables.';\n",
              "          element.innerHTML = '';\n",
              "          dataTable['output_type'] = 'display_data';\n",
              "          await google.colab.output.renderOutput(dataTable, element);\n",
              "          const docLink = document.createElement('div');\n",
              "          docLink.innerHTML = docLinkHtml;\n",
              "          element.appendChild(docLink);\n",
              "        }\n",
              "      </script>\n",
              "    </div>\n",
              "  </div>\n",
              "  "
            ]
          },
          "metadata": {},
          "execution_count": 135
        }
      ]
    },
    {
      "cell_type": "code",
      "source": [],
      "metadata": {
        "id": "BsschjM-3DhW"
      },
      "execution_count": 135,
      "outputs": []
    },
    {
      "cell_type": "code",
      "source": [],
      "metadata": {
        "id": "JGrXVg9V9aOM"
      },
      "execution_count": 135,
      "outputs": []
    },
    {
      "cell_type": "code",
      "source": [
        "df1.head()"
      ],
      "metadata": {
        "id": "_U7lB7SJJ7RN",
        "outputId": "09635e76-1997-4ffe-8a81-d3e7a19db73e",
        "colab": {
          "base_uri": "https://localhost:8080/",
          "height": 206
        }
      },
      "execution_count": 136,
      "outputs": [
        {
          "output_type": "execute_result",
          "data": {
            "text/plain": [
              "   customer_ID partition_ID country_id  region_code gender  age     salary  \\\n",
              "0      1375586      2018-01         ES         29.0      H   35   87218.10   \n",
              "1      1050611      2018-01         ES         13.0      V   23   35548.74   \n",
              "2      1050612      2018-01         ES         13.0      V   23  122179.11   \n",
              "3      1050613      2018-01         ES         50.0      H   22  119775.54   \n",
              "4      1050614      2018-01         ES         50.0      V   23       0.00   \n",
              "\n",
              "  entry_date entry_channel  active_customer             segment   antiguedad  \n",
              "0    2018-01           KHL              1.0   02 - PARTICULARES   41904000.0  \n",
              "1    2015-08           KHE              0.0  03 - UNIVERSITARIO  118281600.0  \n",
              "2    2015-08           KHE              0.0  03 - UNIVERSITARIO  118281600.0  \n",
              "3    2015-08           KHD              0.0  03 - UNIVERSITARIO  118281600.0  \n",
              "4    2015-08           KHE              1.0  03 - UNIVERSITARIO  118281600.0  "
            ],
            "text/html": [
              "\n",
              "  <div id=\"df-c5192e51-82cd-4ea0-ab3e-c765988f2a5d\">\n",
              "    <div class=\"colab-df-container\">\n",
              "      <div>\n",
              "<style scoped>\n",
              "    .dataframe tbody tr th:only-of-type {\n",
              "        vertical-align: middle;\n",
              "    }\n",
              "\n",
              "    .dataframe tbody tr th {\n",
              "        vertical-align: top;\n",
              "    }\n",
              "\n",
              "    .dataframe thead th {\n",
              "        text-align: right;\n",
              "    }\n",
              "</style>\n",
              "<table border=\"1\" class=\"dataframe\">\n",
              "  <thead>\n",
              "    <tr style=\"text-align: right;\">\n",
              "      <th></th>\n",
              "      <th>customer_ID</th>\n",
              "      <th>partition_ID</th>\n",
              "      <th>country_id</th>\n",
              "      <th>region_code</th>\n",
              "      <th>gender</th>\n",
              "      <th>age</th>\n",
              "      <th>salary</th>\n",
              "      <th>entry_date</th>\n",
              "      <th>entry_channel</th>\n",
              "      <th>active_customer</th>\n",
              "      <th>segment</th>\n",
              "      <th>antiguedad</th>\n",
              "    </tr>\n",
              "  </thead>\n",
              "  <tbody>\n",
              "    <tr>\n",
              "      <th>0</th>\n",
              "      <td>1375586</td>\n",
              "      <td>2018-01</td>\n",
              "      <td>ES</td>\n",
              "      <td>29.0</td>\n",
              "      <td>H</td>\n",
              "      <td>35</td>\n",
              "      <td>87218.10</td>\n",
              "      <td>2018-01</td>\n",
              "      <td>KHL</td>\n",
              "      <td>1.0</td>\n",
              "      <td>02 - PARTICULARES</td>\n",
              "      <td>41904000.0</td>\n",
              "    </tr>\n",
              "    <tr>\n",
              "      <th>1</th>\n",
              "      <td>1050611</td>\n",
              "      <td>2018-01</td>\n",
              "      <td>ES</td>\n",
              "      <td>13.0</td>\n",
              "      <td>V</td>\n",
              "      <td>23</td>\n",
              "      <td>35548.74</td>\n",
              "      <td>2015-08</td>\n",
              "      <td>KHE</td>\n",
              "      <td>0.0</td>\n",
              "      <td>03 - UNIVERSITARIO</td>\n",
              "      <td>118281600.0</td>\n",
              "    </tr>\n",
              "    <tr>\n",
              "      <th>2</th>\n",
              "      <td>1050612</td>\n",
              "      <td>2018-01</td>\n",
              "      <td>ES</td>\n",
              "      <td>13.0</td>\n",
              "      <td>V</td>\n",
              "      <td>23</td>\n",
              "      <td>122179.11</td>\n",
              "      <td>2015-08</td>\n",
              "      <td>KHE</td>\n",
              "      <td>0.0</td>\n",
              "      <td>03 - UNIVERSITARIO</td>\n",
              "      <td>118281600.0</td>\n",
              "    </tr>\n",
              "    <tr>\n",
              "      <th>3</th>\n",
              "      <td>1050613</td>\n",
              "      <td>2018-01</td>\n",
              "      <td>ES</td>\n",
              "      <td>50.0</td>\n",
              "      <td>H</td>\n",
              "      <td>22</td>\n",
              "      <td>119775.54</td>\n",
              "      <td>2015-08</td>\n",
              "      <td>KHD</td>\n",
              "      <td>0.0</td>\n",
              "      <td>03 - UNIVERSITARIO</td>\n",
              "      <td>118281600.0</td>\n",
              "    </tr>\n",
              "    <tr>\n",
              "      <th>4</th>\n",
              "      <td>1050614</td>\n",
              "      <td>2018-01</td>\n",
              "      <td>ES</td>\n",
              "      <td>50.0</td>\n",
              "      <td>V</td>\n",
              "      <td>23</td>\n",
              "      <td>0.00</td>\n",
              "      <td>2015-08</td>\n",
              "      <td>KHE</td>\n",
              "      <td>1.0</td>\n",
              "      <td>03 - UNIVERSITARIO</td>\n",
              "      <td>118281600.0</td>\n",
              "    </tr>\n",
              "  </tbody>\n",
              "</table>\n",
              "</div>\n",
              "      <button class=\"colab-df-convert\" onclick=\"convertToInteractive('df-c5192e51-82cd-4ea0-ab3e-c765988f2a5d')\"\n",
              "              title=\"Convert this dataframe to an interactive table.\"\n",
              "              style=\"display:none;\">\n",
              "        \n",
              "  <svg xmlns=\"http://www.w3.org/2000/svg\" height=\"24px\"viewBox=\"0 0 24 24\"\n",
              "       width=\"24px\">\n",
              "    <path d=\"M0 0h24v24H0V0z\" fill=\"none\"/>\n",
              "    <path d=\"M18.56 5.44l.94 2.06.94-2.06 2.06-.94-2.06-.94-.94-2.06-.94 2.06-2.06.94zm-11 1L8.5 8.5l.94-2.06 2.06-.94-2.06-.94L8.5 2.5l-.94 2.06-2.06.94zm10 10l.94 2.06.94-2.06 2.06-.94-2.06-.94-.94-2.06-.94 2.06-2.06.94z\"/><path d=\"M17.41 7.96l-1.37-1.37c-.4-.4-.92-.59-1.43-.59-.52 0-1.04.2-1.43.59L10.3 9.45l-7.72 7.72c-.78.78-.78 2.05 0 2.83L4 21.41c.39.39.9.59 1.41.59.51 0 1.02-.2 1.41-.59l7.78-7.78 2.81-2.81c.8-.78.8-2.07 0-2.86zM5.41 20L4 18.59l7.72-7.72 1.47 1.35L5.41 20z\"/>\n",
              "  </svg>\n",
              "      </button>\n",
              "      \n",
              "  <style>\n",
              "    .colab-df-container {\n",
              "      display:flex;\n",
              "      flex-wrap:wrap;\n",
              "      gap: 12px;\n",
              "    }\n",
              "\n",
              "    .colab-df-convert {\n",
              "      background-color: #E8F0FE;\n",
              "      border: none;\n",
              "      border-radius: 50%;\n",
              "      cursor: pointer;\n",
              "      display: none;\n",
              "      fill: #1967D2;\n",
              "      height: 32px;\n",
              "      padding: 0 0 0 0;\n",
              "      width: 32px;\n",
              "    }\n",
              "\n",
              "    .colab-df-convert:hover {\n",
              "      background-color: #E2EBFA;\n",
              "      box-shadow: 0px 1px 2px rgba(60, 64, 67, 0.3), 0px 1px 3px 1px rgba(60, 64, 67, 0.15);\n",
              "      fill: #174EA6;\n",
              "    }\n",
              "\n",
              "    [theme=dark] .colab-df-convert {\n",
              "      background-color: #3B4455;\n",
              "      fill: #D2E3FC;\n",
              "    }\n",
              "\n",
              "    [theme=dark] .colab-df-convert:hover {\n",
              "      background-color: #434B5C;\n",
              "      box-shadow: 0px 1px 3px 1px rgba(0, 0, 0, 0.15);\n",
              "      filter: drop-shadow(0px 1px 2px rgba(0, 0, 0, 0.3));\n",
              "      fill: #FFFFFF;\n",
              "    }\n",
              "  </style>\n",
              "\n",
              "      <script>\n",
              "        const buttonEl =\n",
              "          document.querySelector('#df-c5192e51-82cd-4ea0-ab3e-c765988f2a5d button.colab-df-convert');\n",
              "        buttonEl.style.display =\n",
              "          google.colab.kernel.accessAllowed ? 'block' : 'none';\n",
              "\n",
              "        async function convertToInteractive(key) {\n",
              "          const element = document.querySelector('#df-c5192e51-82cd-4ea0-ab3e-c765988f2a5d');\n",
              "          const dataTable =\n",
              "            await google.colab.kernel.invokeFunction('convertToInteractive',\n",
              "                                                     [key], {});\n",
              "          if (!dataTable) return;\n",
              "\n",
              "          const docLinkHtml = 'Like what you see? Visit the ' +\n",
              "            '<a target=\"_blank\" href=https://colab.research.google.com/notebooks/data_table.ipynb>data table notebook</a>'\n",
              "            + ' to learn more about interactive tables.';\n",
              "          element.innerHTML = '';\n",
              "          dataTable['output_type'] = 'display_data';\n",
              "          await google.colab.output.renderOutput(dataTable, element);\n",
              "          const docLink = document.createElement('div');\n",
              "          docLink.innerHTML = docLinkHtml;\n",
              "          element.appendChild(docLink);\n",
              "        }\n",
              "      </script>\n",
              "    </div>\n",
              "  </div>\n",
              "  "
            ]
          },
          "metadata": {},
          "execution_count": 136
        }
      ]
    },
    {
      "cell_type": "code",
      "source": [
        "\n",
        "# Extraemos año, mes y trimestre de partition ID\n",
        "df_customer_products['partition_date'] = pd.to_datetime(df_customer_products['partition_ID'])\n",
        "\n"
      ],
      "metadata": {
        "id": "buwDLbHqW8z3"
      },
      "execution_count": 137,
      "outputs": []
    },
    {
      "cell_type": "code",
      "source": [
        "df_customer_products.head()"
      ],
      "metadata": {
        "id": "IGFmEYbGXXxI"
      },
      "execution_count": null,
      "outputs": []
    },
    {
      "cell_type": "markdown",
      "source": [
        "### Tranformación de numéricas"
      ],
      "metadata": {
        "id": "VBhixDiPCOdn"
      }
    },
    {
      "cell_type": "code",
      "source": [
        "# Cambiamos el type de las variables con float a int (active_customer, payroll y pension_plan), excepto salary, que si que es float\n",
        "\n",
        "variables_to_int_customer_products = [ 'payroll']\n",
        "variables_to_int_df1 = ['active_customer']\n",
        "\n",
        "df_customer_products[variables_to_int_customer_products] = df_customer_products[variables_to_int_customer_products].applymap(int)\n",
        "df1[variables_to_int_df1] = df1[variables_to_int_df1].applymap(int)"
      ],
      "metadata": {
        "id": "9sErT0oo3j_b"
      },
      "execution_count": 138,
      "outputs": []
    },
    {
      "cell_type": "code",
      "source": [
        "df_sales2=df_sales1.to_pickle('/content/drive/MyDrive/TFM  Data Science/df_sales2')\n"
      ],
      "metadata": {
        "id": "qN6gI6mUdpbI"
      },
      "execution_count": 139,
      "outputs": []
    },
    {
      "cell_type": "code",
      "source": [
        "df_sales2=pd.read_pickle('/content/drive/MyDrive/TFM  Data Science/df_sales2') #Drive de Eva\n",
        "#df_sales2=pd.read_pickle('/content/drive/MyDrive/Master_DS/TFM_Data_Science/df_sales2') #Drive de Culebra"
      ],
      "metadata": {
        "id": "Eb3q0IeWeXrN"
      },
      "execution_count": 140,
      "outputs": []
    },
    {
      "cell_type": "code",
      "source": [],
      "metadata": {
        "id": "5B93yQM7LlOY"
      },
      "execution_count": null,
      "outputs": []
    },
    {
      "cell_type": "markdown",
      "source": [
        "## Merge tabla sales y resto del dataset"
      ],
      "metadata": {
        "id": "XQfVvllmNQbz"
      }
    },
    {
      "cell_type": "code",
      "source": [
        "df_sales2.head()"
      ],
      "metadata": {
        "id": "RLUVFn7UNqJe",
        "outputId": "68e2ec36-6d12-468c-8e40-85640da62696",
        "colab": {
          "base_uri": "https://localhost:8080/",
          "height": 206
        }
      },
      "execution_count": 141,
      "outputs": [
        {
          "output_type": "execute_result",
          "data": {
            "text/plain": [
              "  customer_ID month_sale product_ID        product_desc family_product  \\\n",
              "0       33620 2018-05-01       2335  short_term_deposit     investment   \n",
              "1       35063 2018-06-01       2335  short_term_deposit     investment   \n",
              "2       37299 2018-02-01       2335  short_term_deposit     investment   \n",
              "3       39997 2018-02-01       2335  short_term_deposit     investment   \n",
              "4       44012 2018-02-01       2335  short_term_deposit     investment   \n",
              "\n",
              "   month_sales  year_sales partition_date  \n",
              "0            5        2018     2018-04-01  \n",
              "1            6        2018     2018-05-01  \n",
              "2            2        2018     2018-01-01  \n",
              "3            2        2018     2018-01-01  \n",
              "4            2        2018     2018-01-01  "
            ],
            "text/html": [
              "\n",
              "  <div id=\"df-68aad3b0-9df7-4712-8aa5-aa691c3f08fe\">\n",
              "    <div class=\"colab-df-container\">\n",
              "      <div>\n",
              "<style scoped>\n",
              "    .dataframe tbody tr th:only-of-type {\n",
              "        vertical-align: middle;\n",
              "    }\n",
              "\n",
              "    .dataframe tbody tr th {\n",
              "        vertical-align: top;\n",
              "    }\n",
              "\n",
              "    .dataframe thead th {\n",
              "        text-align: right;\n",
              "    }\n",
              "</style>\n",
              "<table border=\"1\" class=\"dataframe\">\n",
              "  <thead>\n",
              "    <tr style=\"text-align: right;\">\n",
              "      <th></th>\n",
              "      <th>customer_ID</th>\n",
              "      <th>month_sale</th>\n",
              "      <th>product_ID</th>\n",
              "      <th>product_desc</th>\n",
              "      <th>family_product</th>\n",
              "      <th>month_sales</th>\n",
              "      <th>year_sales</th>\n",
              "      <th>partition_date</th>\n",
              "    </tr>\n",
              "  </thead>\n",
              "  <tbody>\n",
              "    <tr>\n",
              "      <th>0</th>\n",
              "      <td>33620</td>\n",
              "      <td>2018-05-01</td>\n",
              "      <td>2335</td>\n",
              "      <td>short_term_deposit</td>\n",
              "      <td>investment</td>\n",
              "      <td>5</td>\n",
              "      <td>2018</td>\n",
              "      <td>2018-04-01</td>\n",
              "    </tr>\n",
              "    <tr>\n",
              "      <th>1</th>\n",
              "      <td>35063</td>\n",
              "      <td>2018-06-01</td>\n",
              "      <td>2335</td>\n",
              "      <td>short_term_deposit</td>\n",
              "      <td>investment</td>\n",
              "      <td>6</td>\n",
              "      <td>2018</td>\n",
              "      <td>2018-05-01</td>\n",
              "    </tr>\n",
              "    <tr>\n",
              "      <th>2</th>\n",
              "      <td>37299</td>\n",
              "      <td>2018-02-01</td>\n",
              "      <td>2335</td>\n",
              "      <td>short_term_deposit</td>\n",
              "      <td>investment</td>\n",
              "      <td>2</td>\n",
              "      <td>2018</td>\n",
              "      <td>2018-01-01</td>\n",
              "    </tr>\n",
              "    <tr>\n",
              "      <th>3</th>\n",
              "      <td>39997</td>\n",
              "      <td>2018-02-01</td>\n",
              "      <td>2335</td>\n",
              "      <td>short_term_deposit</td>\n",
              "      <td>investment</td>\n",
              "      <td>2</td>\n",
              "      <td>2018</td>\n",
              "      <td>2018-01-01</td>\n",
              "    </tr>\n",
              "    <tr>\n",
              "      <th>4</th>\n",
              "      <td>44012</td>\n",
              "      <td>2018-02-01</td>\n",
              "      <td>2335</td>\n",
              "      <td>short_term_deposit</td>\n",
              "      <td>investment</td>\n",
              "      <td>2</td>\n",
              "      <td>2018</td>\n",
              "      <td>2018-01-01</td>\n",
              "    </tr>\n",
              "  </tbody>\n",
              "</table>\n",
              "</div>\n",
              "      <button class=\"colab-df-convert\" onclick=\"convertToInteractive('df-68aad3b0-9df7-4712-8aa5-aa691c3f08fe')\"\n",
              "              title=\"Convert this dataframe to an interactive table.\"\n",
              "              style=\"display:none;\">\n",
              "        \n",
              "  <svg xmlns=\"http://www.w3.org/2000/svg\" height=\"24px\"viewBox=\"0 0 24 24\"\n",
              "       width=\"24px\">\n",
              "    <path d=\"M0 0h24v24H0V0z\" fill=\"none\"/>\n",
              "    <path d=\"M18.56 5.44l.94 2.06.94-2.06 2.06-.94-2.06-.94-.94-2.06-.94 2.06-2.06.94zm-11 1L8.5 8.5l.94-2.06 2.06-.94-2.06-.94L8.5 2.5l-.94 2.06-2.06.94zm10 10l.94 2.06.94-2.06 2.06-.94-2.06-.94-.94-2.06-.94 2.06-2.06.94z\"/><path d=\"M17.41 7.96l-1.37-1.37c-.4-.4-.92-.59-1.43-.59-.52 0-1.04.2-1.43.59L10.3 9.45l-7.72 7.72c-.78.78-.78 2.05 0 2.83L4 21.41c.39.39.9.59 1.41.59.51 0 1.02-.2 1.41-.59l7.78-7.78 2.81-2.81c.8-.78.8-2.07 0-2.86zM5.41 20L4 18.59l7.72-7.72 1.47 1.35L5.41 20z\"/>\n",
              "  </svg>\n",
              "      </button>\n",
              "      \n",
              "  <style>\n",
              "    .colab-df-container {\n",
              "      display:flex;\n",
              "      flex-wrap:wrap;\n",
              "      gap: 12px;\n",
              "    }\n",
              "\n",
              "    .colab-df-convert {\n",
              "      background-color: #E8F0FE;\n",
              "      border: none;\n",
              "      border-radius: 50%;\n",
              "      cursor: pointer;\n",
              "      display: none;\n",
              "      fill: #1967D2;\n",
              "      height: 32px;\n",
              "      padding: 0 0 0 0;\n",
              "      width: 32px;\n",
              "    }\n",
              "\n",
              "    .colab-df-convert:hover {\n",
              "      background-color: #E2EBFA;\n",
              "      box-shadow: 0px 1px 2px rgba(60, 64, 67, 0.3), 0px 1px 3px 1px rgba(60, 64, 67, 0.15);\n",
              "      fill: #174EA6;\n",
              "    }\n",
              "\n",
              "    [theme=dark] .colab-df-convert {\n",
              "      background-color: #3B4455;\n",
              "      fill: #D2E3FC;\n",
              "    }\n",
              "\n",
              "    [theme=dark] .colab-df-convert:hover {\n",
              "      background-color: #434B5C;\n",
              "      box-shadow: 0px 1px 3px 1px rgba(0, 0, 0, 0.15);\n",
              "      filter: drop-shadow(0px 1px 2px rgba(0, 0, 0, 0.3));\n",
              "      fill: #FFFFFF;\n",
              "    }\n",
              "  </style>\n",
              "\n",
              "      <script>\n",
              "        const buttonEl =\n",
              "          document.querySelector('#df-68aad3b0-9df7-4712-8aa5-aa691c3f08fe button.colab-df-convert');\n",
              "        buttonEl.style.display =\n",
              "          google.colab.kernel.accessAllowed ? 'block' : 'none';\n",
              "\n",
              "        async function convertToInteractive(key) {\n",
              "          const element = document.querySelector('#df-68aad3b0-9df7-4712-8aa5-aa691c3f08fe');\n",
              "          const dataTable =\n",
              "            await google.colab.kernel.invokeFunction('convertToInteractive',\n",
              "                                                     [key], {});\n",
              "          if (!dataTable) return;\n",
              "\n",
              "          const docLinkHtml = 'Like what you see? Visit the ' +\n",
              "            '<a target=\"_blank\" href=https://colab.research.google.com/notebooks/data_table.ipynb>data table notebook</a>'\n",
              "            + ' to learn more about interactive tables.';\n",
              "          element.innerHTML = '';\n",
              "          dataTable['output_type'] = 'display_data';\n",
              "          await google.colab.output.renderOutput(dataTable, element);\n",
              "          const docLink = document.createElement('div');\n",
              "          docLink.innerHTML = docLinkHtml;\n",
              "          element.appendChild(docLink);\n",
              "        }\n",
              "      </script>\n",
              "    </div>\n",
              "  </div>\n",
              "  "
            ]
          },
          "metadata": {},
          "execution_count": 141
        }
      ]
    },
    {
      "cell_type": "code",
      "source": [
        "df_sales2.head()"
      ],
      "metadata": {
        "id": "JvyM8bD3O15w",
        "outputId": "1f688b16-fc27-4cf5-dada-e0464e02b160",
        "colab": {
          "base_uri": "https://localhost:8080/",
          "height": 206
        }
      },
      "execution_count": 142,
      "outputs": [
        {
          "output_type": "execute_result",
          "data": {
            "text/plain": [
              "  customer_ID month_sale product_ID        product_desc family_product  \\\n",
              "0       33620 2018-05-01       2335  short_term_deposit     investment   \n",
              "1       35063 2018-06-01       2335  short_term_deposit     investment   \n",
              "2       37299 2018-02-01       2335  short_term_deposit     investment   \n",
              "3       39997 2018-02-01       2335  short_term_deposit     investment   \n",
              "4       44012 2018-02-01       2335  short_term_deposit     investment   \n",
              "\n",
              "   month_sales  year_sales partition_date  \n",
              "0            5        2018     2018-04-01  \n",
              "1            6        2018     2018-05-01  \n",
              "2            2        2018     2018-01-01  \n",
              "3            2        2018     2018-01-01  \n",
              "4            2        2018     2018-01-01  "
            ],
            "text/html": [
              "\n",
              "  <div id=\"df-f1e97555-62fb-4505-a68e-17c703693317\">\n",
              "    <div class=\"colab-df-container\">\n",
              "      <div>\n",
              "<style scoped>\n",
              "    .dataframe tbody tr th:only-of-type {\n",
              "        vertical-align: middle;\n",
              "    }\n",
              "\n",
              "    .dataframe tbody tr th {\n",
              "        vertical-align: top;\n",
              "    }\n",
              "\n",
              "    .dataframe thead th {\n",
              "        text-align: right;\n",
              "    }\n",
              "</style>\n",
              "<table border=\"1\" class=\"dataframe\">\n",
              "  <thead>\n",
              "    <tr style=\"text-align: right;\">\n",
              "      <th></th>\n",
              "      <th>customer_ID</th>\n",
              "      <th>month_sale</th>\n",
              "      <th>product_ID</th>\n",
              "      <th>product_desc</th>\n",
              "      <th>family_product</th>\n",
              "      <th>month_sales</th>\n",
              "      <th>year_sales</th>\n",
              "      <th>partition_date</th>\n",
              "    </tr>\n",
              "  </thead>\n",
              "  <tbody>\n",
              "    <tr>\n",
              "      <th>0</th>\n",
              "      <td>33620</td>\n",
              "      <td>2018-05-01</td>\n",
              "      <td>2335</td>\n",
              "      <td>short_term_deposit</td>\n",
              "      <td>investment</td>\n",
              "      <td>5</td>\n",
              "      <td>2018</td>\n",
              "      <td>2018-04-01</td>\n",
              "    </tr>\n",
              "    <tr>\n",
              "      <th>1</th>\n",
              "      <td>35063</td>\n",
              "      <td>2018-06-01</td>\n",
              "      <td>2335</td>\n",
              "      <td>short_term_deposit</td>\n",
              "      <td>investment</td>\n",
              "      <td>6</td>\n",
              "      <td>2018</td>\n",
              "      <td>2018-05-01</td>\n",
              "    </tr>\n",
              "    <tr>\n",
              "      <th>2</th>\n",
              "      <td>37299</td>\n",
              "      <td>2018-02-01</td>\n",
              "      <td>2335</td>\n",
              "      <td>short_term_deposit</td>\n",
              "      <td>investment</td>\n",
              "      <td>2</td>\n",
              "      <td>2018</td>\n",
              "      <td>2018-01-01</td>\n",
              "    </tr>\n",
              "    <tr>\n",
              "      <th>3</th>\n",
              "      <td>39997</td>\n",
              "      <td>2018-02-01</td>\n",
              "      <td>2335</td>\n",
              "      <td>short_term_deposit</td>\n",
              "      <td>investment</td>\n",
              "      <td>2</td>\n",
              "      <td>2018</td>\n",
              "      <td>2018-01-01</td>\n",
              "    </tr>\n",
              "    <tr>\n",
              "      <th>4</th>\n",
              "      <td>44012</td>\n",
              "      <td>2018-02-01</td>\n",
              "      <td>2335</td>\n",
              "      <td>short_term_deposit</td>\n",
              "      <td>investment</td>\n",
              "      <td>2</td>\n",
              "      <td>2018</td>\n",
              "      <td>2018-01-01</td>\n",
              "    </tr>\n",
              "  </tbody>\n",
              "</table>\n",
              "</div>\n",
              "      <button class=\"colab-df-convert\" onclick=\"convertToInteractive('df-f1e97555-62fb-4505-a68e-17c703693317')\"\n",
              "              title=\"Convert this dataframe to an interactive table.\"\n",
              "              style=\"display:none;\">\n",
              "        \n",
              "  <svg xmlns=\"http://www.w3.org/2000/svg\" height=\"24px\"viewBox=\"0 0 24 24\"\n",
              "       width=\"24px\">\n",
              "    <path d=\"M0 0h24v24H0V0z\" fill=\"none\"/>\n",
              "    <path d=\"M18.56 5.44l.94 2.06.94-2.06 2.06-.94-2.06-.94-.94-2.06-.94 2.06-2.06.94zm-11 1L8.5 8.5l.94-2.06 2.06-.94-2.06-.94L8.5 2.5l-.94 2.06-2.06.94zm10 10l.94 2.06.94-2.06 2.06-.94-2.06-.94-.94-2.06-.94 2.06-2.06.94z\"/><path d=\"M17.41 7.96l-1.37-1.37c-.4-.4-.92-.59-1.43-.59-.52 0-1.04.2-1.43.59L10.3 9.45l-7.72 7.72c-.78.78-.78 2.05 0 2.83L4 21.41c.39.39.9.59 1.41.59.51 0 1.02-.2 1.41-.59l7.78-7.78 2.81-2.81c.8-.78.8-2.07 0-2.86zM5.41 20L4 18.59l7.72-7.72 1.47 1.35L5.41 20z\"/>\n",
              "  </svg>\n",
              "      </button>\n",
              "      \n",
              "  <style>\n",
              "    .colab-df-container {\n",
              "      display:flex;\n",
              "      flex-wrap:wrap;\n",
              "      gap: 12px;\n",
              "    }\n",
              "\n",
              "    .colab-df-convert {\n",
              "      background-color: #E8F0FE;\n",
              "      border: none;\n",
              "      border-radius: 50%;\n",
              "      cursor: pointer;\n",
              "      display: none;\n",
              "      fill: #1967D2;\n",
              "      height: 32px;\n",
              "      padding: 0 0 0 0;\n",
              "      width: 32px;\n",
              "    }\n",
              "\n",
              "    .colab-df-convert:hover {\n",
              "      background-color: #E2EBFA;\n",
              "      box-shadow: 0px 1px 2px rgba(60, 64, 67, 0.3), 0px 1px 3px 1px rgba(60, 64, 67, 0.15);\n",
              "      fill: #174EA6;\n",
              "    }\n",
              "\n",
              "    [theme=dark] .colab-df-convert {\n",
              "      background-color: #3B4455;\n",
              "      fill: #D2E3FC;\n",
              "    }\n",
              "\n",
              "    [theme=dark] .colab-df-convert:hover {\n",
              "      background-color: #434B5C;\n",
              "      box-shadow: 0px 1px 3px 1px rgba(0, 0, 0, 0.15);\n",
              "      filter: drop-shadow(0px 1px 2px rgba(0, 0, 0, 0.3));\n",
              "      fill: #FFFFFF;\n",
              "    }\n",
              "  </style>\n",
              "\n",
              "      <script>\n",
              "        const buttonEl =\n",
              "          document.querySelector('#df-f1e97555-62fb-4505-a68e-17c703693317 button.colab-df-convert');\n",
              "        buttonEl.style.display =\n",
              "          google.colab.kernel.accessAllowed ? 'block' : 'none';\n",
              "\n",
              "        async function convertToInteractive(key) {\n",
              "          const element = document.querySelector('#df-f1e97555-62fb-4505-a68e-17c703693317');\n",
              "          const dataTable =\n",
              "            await google.colab.kernel.invokeFunction('convertToInteractive',\n",
              "                                                     [key], {});\n",
              "          if (!dataTable) return;\n",
              "\n",
              "          const docLinkHtml = 'Like what you see? Visit the ' +\n",
              "            '<a target=\"_blank\" href=https://colab.research.google.com/notebooks/data_table.ipynb>data table notebook</a>'\n",
              "            + ' to learn more about interactive tables.';\n",
              "          element.innerHTML = '';\n",
              "          dataTable['output_type'] = 'display_data';\n",
              "          await google.colab.output.renderOutput(dataTable, element);\n",
              "          const docLink = document.createElement('div');\n",
              "          docLink.innerHTML = docLinkHtml;\n",
              "          element.appendChild(docLink);\n",
              "        }\n",
              "      </script>\n",
              "    </div>\n",
              "  </div>\n",
              "  "
            ]
          },
          "metadata": {},
          "execution_count": 142
        }
      ]
    },
    {
      "cell_type": "code",
      "source": [
        "df_sales2.shape"
      ],
      "metadata": {
        "id": "NX-cY2UgPJMC",
        "outputId": "48fe303f-cedf-4d02-bb0e-053f179903be",
        "colab": {
          "base_uri": "https://localhost:8080/"
        }
      },
      "execution_count": 143,
      "outputs": [
        {
          "output_type": "execute_result",
          "data": {
            "text/plain": [
              "(240773, 8)"
            ]
          },
          "metadata": {},
          "execution_count": 143
        }
      ]
    },
    {
      "cell_type": "code",
      "source": [
        "df_sales2.info()"
      ],
      "metadata": {
        "id": "Ba1j0JgcSZiY",
        "outputId": "8af18e2e-d30f-4615-90af-3104a941ed61",
        "colab": {
          "base_uri": "https://localhost:8080/"
        }
      },
      "execution_count": 144,
      "outputs": [
        {
          "output_type": "stream",
          "name": "stdout",
          "text": [
            "<class 'pandas.core.frame.DataFrame'>\n",
            "Int64Index: 240773 entries, 0 to 240772\n",
            "Data columns (total 8 columns):\n",
            " #   Column          Non-Null Count   Dtype         \n",
            "---  ------          --------------   -----         \n",
            " 0   customer_ID     240773 non-null  object        \n",
            " 1   month_sale      240773 non-null  datetime64[ns]\n",
            " 2   product_ID      240773 non-null  object        \n",
            " 3   product_desc    240773 non-null  object        \n",
            " 4   family_product  240773 non-null  object        \n",
            " 5   month_sales     240773 non-null  int64         \n",
            " 6   year_sales      240773 non-null  int64         \n",
            " 7   partition_date  240773 non-null  datetime64[ns]\n",
            "dtypes: datetime64[ns](2), int64(2), object(4)\n",
            "memory usage: 16.5+ MB\n"
          ]
        }
      ]
    },
    {
      "cell_type": "code",
      "source": [
        "df1.info()"
      ],
      "metadata": {
        "colab": {
          "base_uri": "https://localhost:8080/"
        },
        "id": "3FfsIYUKU4eZ",
        "outputId": "2b5e6391-6db4-449e-81dc-b283fb9cb813"
      },
      "execution_count": 145,
      "outputs": [
        {
          "output_type": "stream",
          "name": "stdout",
          "text": [
            "<class 'pandas.core.frame.DataFrame'>\n",
            "RangeIndex: 5961849 entries, 0 to 5961848\n",
            "Data columns (total 12 columns):\n",
            " #   Column           Dtype   \n",
            "---  ------           -----   \n",
            " 0   customer_ID      int64   \n",
            " 1   partition_ID     object  \n",
            " 2   country_id       object  \n",
            " 3   region_code      float64 \n",
            " 4   gender           object  \n",
            " 5   age              int64   \n",
            " 6   salary           float64 \n",
            " 7   entry_date       object  \n",
            " 8   entry_channel    category\n",
            " 9   active_customer  int64   \n",
            " 10  segment          object  \n",
            " 11  antiguedad       float64 \n",
            "dtypes: category(1), float64(3), int64(3), object(5)\n",
            "memory usage: 506.0+ MB\n"
          ]
        }
      ]
    },
    {
      "cell_type": "code",
      "source": [
        "df_sales2.info()"
      ],
      "metadata": {
        "colab": {
          "base_uri": "https://localhost:8080/"
        },
        "id": "s-a6mDrtU9HP",
        "outputId": "4e9bc087-348a-4b13-8c67-d86da79846a0"
      },
      "execution_count": 146,
      "outputs": [
        {
          "output_type": "stream",
          "name": "stdout",
          "text": [
            "<class 'pandas.core.frame.DataFrame'>\n",
            "Int64Index: 240773 entries, 0 to 240772\n",
            "Data columns (total 8 columns):\n",
            " #   Column          Non-Null Count   Dtype         \n",
            "---  ------          --------------   -----         \n",
            " 0   customer_ID     240773 non-null  object        \n",
            " 1   month_sale      240773 non-null  datetime64[ns]\n",
            " 2   product_ID      240773 non-null  object        \n",
            " 3   product_desc    240773 non-null  object        \n",
            " 4   family_product  240773 non-null  object        \n",
            " 5   month_sales     240773 non-null  int64         \n",
            " 6   year_sales      240773 non-null  int64         \n",
            " 7   partition_date  240773 non-null  datetime64[ns]\n",
            "dtypes: datetime64[ns](2), int64(2), object(4)\n",
            "memory usage: 16.5+ MB\n"
          ]
        }
      ]
    },
    {
      "cell_type": "code",
      "source": [
        "df_sales2['customer_ID']=df_sales2['customer_ID'].astype('int')"
      ],
      "metadata": {
        "id": "txsYrMKbSnbE"
      },
      "execution_count": 147,
      "outputs": []
    },
    {
      "cell_type": "code",
      "source": [
        "df1['partition_ID']=pd.to_datetime(df1['partition_ID'])"
      ],
      "metadata": {
        "id": "KYhETsWvXYQ7"
      },
      "execution_count": 151,
      "outputs": []
    },
    {
      "cell_type": "code",
      "source": [
        "df_sales2.info()"
      ],
      "metadata": {
        "id": "QoudTrqzS07B"
      },
      "execution_count": null,
      "outputs": []
    },
    {
      "cell_type": "code",
      "source": [
        "df1.head()"
      ],
      "metadata": {
        "id": "Ra7rvhrdOQc8"
      },
      "execution_count": null,
      "outputs": []
    },
    {
      "cell_type": "code",
      "source": [
        "df_total1 = df_sales2.merge(df1, right_on = ['customer_ID', 'partition_ID'], left_on= ['customer_ID',\"partition_date\"], how = \"left\")\n"
      ],
      "metadata": {
        "id": "p35zmq30Yj9s"
      },
      "execution_count": 156,
      "outputs": []
    },
    {
      "cell_type": "code",
      "source": [
        "df_total1.info()"
      ],
      "metadata": {
        "id": "Gimn3kIrjBCe",
        "outputId": "5ab642ad-7a50-4cc5-f2f1-de83e5452b34",
        "colab": {
          "base_uri": "https://localhost:8080/"
        }
      },
      "execution_count": 157,
      "outputs": [
        {
          "output_type": "stream",
          "name": "stdout",
          "text": [
            "<class 'pandas.core.frame.DataFrame'>\n",
            "Int64Index: 240773 entries, 0 to 240772\n",
            "Data columns (total 19 columns):\n",
            " #   Column           Non-Null Count   Dtype         \n",
            "---  ------           --------------   -----         \n",
            " 0   customer_ID      240773 non-null  int64         \n",
            " 1   month_sale       240773 non-null  datetime64[ns]\n",
            " 2   product_ID       240773 non-null  object        \n",
            " 3   product_desc     240773 non-null  object        \n",
            " 4   family_product   240773 non-null  object        \n",
            " 5   month_sales      240773 non-null  int64         \n",
            " 6   year_sales       240773 non-null  int64         \n",
            " 7   partition_date   240773 non-null  datetime64[ns]\n",
            " 8   partition_ID     142289 non-null  datetime64[ns]\n",
            " 9   country_id       142289 non-null  object        \n",
            " 10  region_code      142289 non-null  float64       \n",
            " 11  gender           142289 non-null  object        \n",
            " 12  age              142289 non-null  float64       \n",
            " 13  salary           142289 non-null  float64       \n",
            " 14  entry_date       142289 non-null  object        \n",
            " 15  entry_channel    142289 non-null  category      \n",
            " 16  active_customer  142289 non-null  float64       \n",
            " 17  segment          142289 non-null  object        \n",
            " 18  antiguedad       142289 non-null  float64       \n",
            "dtypes: category(1), datetime64[ns](3), float64(5), int64(3), object(7)\n",
            "memory usage: 35.1+ MB\n"
          ]
        }
      ]
    },
    {
      "cell_type": "code",
      "source": [
        "df_total1.isnull().sum()"
      ],
      "metadata": {
        "colab": {
          "base_uri": "https://localhost:8080/"
        },
        "id": "tVZEy-GzXvBM",
        "outputId": "2d1222d3-f334-4b88-9cf6-7aa6437d31f2"
      },
      "execution_count": 158,
      "outputs": [
        {
          "output_type": "execute_result",
          "data": {
            "text/plain": [
              "customer_ID            0\n",
              "month_sale             0\n",
              "product_ID             0\n",
              "product_desc           0\n",
              "family_product         0\n",
              "month_sales            0\n",
              "year_sales             0\n",
              "partition_date         0\n",
              "partition_ID       98484\n",
              "country_id         98484\n",
              "region_code        98484\n",
              "gender             98484\n",
              "age                98484\n",
              "salary             98484\n",
              "entry_date         98484\n",
              "entry_channel      98484\n",
              "active_customer    98484\n",
              "segment            98484\n",
              "antiguedad         98484\n",
              "dtype: int64"
            ]
          },
          "metadata": {},
          "execution_count": 158
        }
      ]
    },
    {
      "cell_type": "code",
      "source": [
        "df_total1.head()"
      ],
      "metadata": {
        "id": "a8KkobpaYjyL"
      },
      "execution_count": null,
      "outputs": []
    },
    {
      "cell_type": "code",
      "source": [
        "df_total1.rename({\"partition_date_x\": \"date_adj\"},axis='columns',inplace = True)\n"
      ],
      "metadata": {
        "id": "0vw3591MYjjZ"
      },
      "execution_count": null,
      "outputs": []
    },
    {
      "cell_type": "code",
      "source": [
        "del(df_total1['partition_date_y'])"
      ],
      "metadata": {
        "id": "14lhoPX_YjYK"
      },
      "execution_count": null,
      "outputs": []
    },
    {
      "cell_type": "code",
      "source": [
        "del(df_total1['partition_month'])\n",
        "del(df_total1['partition_year'])\n",
        "del(df_total1['partition_quarter'])"
      ],
      "metadata": {
        "id": "EFCGb6TqhbiM"
      },
      "execution_count": null,
      "outputs": []
    },
    {
      "cell_type": "code",
      "source": [
        "df_total1.head()"
      ],
      "metadata": {
        "id": "9ttHQYR8hoFo"
      },
      "execution_count": null,
      "outputs": []
    },
    {
      "cell_type": "code",
      "source": [
        "df_customer_products.head()"
      ],
      "metadata": {
        "id": "VRCj_v3NjTE_"
      },
      "execution_count": null,
      "outputs": []
    },
    {
      "cell_type": "code",
      "source": [
        "df_customer_products.shape"
      ],
      "metadata": {
        "id": "GEiNhVZIjiA3"
      },
      "execution_count": null,
      "outputs": []
    },
    {
      "cell_type": "code",
      "source": [
        "df_total1.head()\n",
        "    \n"
      ],
      "metadata": {
        "id": "MjCb8M9tjS1Q"
      },
      "execution_count": null,
      "outputs": []
    },
    {
      "cell_type": "code",
      "source": [
        "df_total1.shape"
      ],
      "metadata": {
        "id": "3vFLwowijml2"
      },
      "execution_count": null,
      "outputs": []
    },
    {
      "cell_type": "code",
      "source": [
        "df_total2=df_total1.merge(df_customer_products,  left_on= ['customer_ID',\"date_adj\"],right_on = ['customer_ID', 'partition_date'], how = \"left\")\n"
      ],
      "metadata": {
        "id": "laXtTGrkh7L_"
      },
      "execution_count": null,
      "outputs": []
    },
    {
      "cell_type": "code",
      "source": [
        "df_total2.shape"
      ],
      "metadata": {
        "id": "CPkBmtHtj-yV"
      },
      "execution_count": null,
      "outputs": []
    },
    {
      "cell_type": "code",
      "source": [
        "df_total2.head()"
      ],
      "metadata": {
        "id": "WZS1a650kCCd"
      },
      "execution_count": null,
      "outputs": []
    },
    {
      "cell_type": "code",
      "source": [
        "df_total2.head().T"
      ],
      "metadata": {
        "id": "ak5OgxdAlMb7"
      },
      "execution_count": null,
      "outputs": []
    },
    {
      "cell_type": "code",
      "source": [
        "df_total2.isnull().sum()\n",
        "# Los nulos que encontramos son nuevos clientes, que para la tabla cruzada con month-1, en el mes anterior no tenían datos"
      ],
      "metadata": {
        "id": "lzf2qdYukKMT"
      },
      "execution_count": null,
      "outputs": []
    },
    {
      "cell_type": "code",
      "source": [
        "del(df_total2['index'])"
      ],
      "metadata": {
        "id": "1R2Z3c5ukVmc"
      },
      "execution_count": null,
      "outputs": []
    },
    {
      "cell_type": "code",
      "source": [
        "del(df_total2['partition_ID_x'])"
      ],
      "metadata": {
        "id": "jKLay7YfmASV"
      },
      "execution_count": null,
      "outputs": []
    },
    {
      "cell_type": "code",
      "source": [
        "del(df_total2['partition_ID_y'])"
      ],
      "metadata": {
        "id": "ExHv1UWkmF_v"
      },
      "execution_count": null,
      "outputs": []
    },
    {
      "cell_type": "code",
      "source": [
        "df_total2.isnull().sum()"
      ],
      "metadata": {
        "id": "YrQ6PcYpmI5N"
      },
      "execution_count": null,
      "outputs": []
    },
    {
      "cell_type": "code",
      "source": [
        "df_total2.fillna(value = 0, inplace = True)"
      ],
      "metadata": {
        "id": "Okg_xMm-kixM"
      },
      "execution_count": null,
      "outputs": []
    },
    {
      "cell_type": "code",
      "source": [
        "df_total2.isnull().sum()"
      ],
      "metadata": {
        "id": "rJPINlMrkinf"
      },
      "execution_count": null,
      "outputs": []
    },
    {
      "cell_type": "code",
      "source": [
        "df_total3=df_total2.to_pickle('/content/drive/MyDrive/Master_DS/TFM_Data_Science/df_total3')\n"
      ],
      "metadata": {
        "id": "UiVkIwzwnIGK"
      },
      "execution_count": null,
      "outputs": []
    },
    {
      "cell_type": "code",
      "source": [
        "df_total3=pd.read_pickle('/content/drive/MyDrive/Master_DS/TFM_Data_Science/df_total3')"
      ],
      "metadata": {
        "id": "yeCGDxYmnIGK"
      },
      "execution_count": null,
      "outputs": []
    },
    {
      "cell_type": "code",
      "source": [
        "df_total3.head().T"
      ],
      "metadata": {
        "id": "8aBzOanooxze"
      },
      "execution_count": null,
      "outputs": []
    },
    {
      "cell_type": "markdown",
      "source": [
        "## Ordenación de columnas y tratamiento de variables del df mergeado"
      ],
      "metadata": {
        "id": "xu9T7n2sxz4Z"
      }
    },
    {
      "cell_type": "code",
      "source": [
        "df_total3.columns.to_list()"
      ],
      "metadata": {
        "id": "FathDHdWqB6I"
      },
      "execution_count": null,
      "outputs": []
    },
    {
      "cell_type": "code",
      "source": [
        "# Reordenación del dataset\n",
        "df_total3 = df_total3.reindex(columns=[\n",
        "              \n",
        "              'sale_ID',\n",
        "              'month_sale',\n",
        "              'year_sales',\n",
        "              'month_sales',\n",
        "              'product_ID',\n",
        "              'product_desc',\n",
        "              'family_product',\n",
        "              'net_margin',\n",
        "              'date_adj',\n",
        "              'customer_ID',\n",
        "              'entry_date',\n",
        "              'entry_year',\n",
        "              'entry_month',\n",
        "              'entry_quarter',\n",
        "              'entry_channel',\n",
        "              'active_customer',\n",
        "              'segment',\n",
        "              'country_ID',\n",
        "              'region_code',\n",
        "              'gender',\n",
        "              'age',\n",
        "              'deceased',\n",
        "              'salary',\n",
        "              'partition_date',\n",
        "              'partition_year',\n",
        "              'partition_month',\n",
        "              'partition_quarter',\n",
        "              'short_term_deposit',\n",
        "              'loans',\n",
        "              'mortgage',\n",
        "              'funds',\n",
        "              'securities',\n",
        "              'long_term_deposit',\n",
        "              'credit_card',\n",
        "              'payroll',\n",
        "              'pension_plan',\n",
        "              'payroll_account',\n",
        "              'emc_account',\n",
        "              'debit_card',\n",
        "              'em_acount',\n",
        "              ])"
      ],
      "metadata": {
        "id": "6JzOr6X0p3R2"
      },
      "execution_count": null,
      "outputs": []
    },
    {
      "cell_type": "code",
      "source": [
        "del df_total3['date_adj']"
      ],
      "metadata": {
        "id": "7rRcAuforiSr"
      },
      "execution_count": null,
      "outputs": []
    },
    {
      "cell_type": "code",
      "source": [
        "df_total3.head().T"
      ],
      "metadata": {
        "id": "4A6eN2L4Xs--"
      },
      "execution_count": null,
      "outputs": []
    },
    {
      "cell_type": "code",
      "source": [
        "df_total3['age'].value_counts()"
      ],
      "metadata": {
        "id": "Ry7mAuAIvbSL"
      },
      "execution_count": null,
      "outputs": []
    },
    {
      "cell_type": "code",
      "source": [
        "df_total3.info()\n",
        "# sale_ID establecer como índice junto con customer_ID        \n",
        "\n",
        "# month_sale --> BORRAR\n",
        "# product_ID --> BORRAR \n",
        "# entry_date --> BORRAR \n",
        "# partition_date --> BORRAR       \n",
        "\n",
        "# product_desc --> OHE\n",
        "# family_product --> OHE\n",
        "# entry_channel --> OHE         \n",
        "# segment --> OHE \n",
        "# country_id --> OHE\n",
        "# gender --> OHE\n",
        "# deceased --> OHE           \n",
        "# \n",
        "\n",
        "# partition_year --> A dtype INT    \n",
        "# partition_month --> A dtype INT      \n",
        "# partition_quarter --> A dtype INT         "
      ],
      "metadata": {
        "id": "7fjAGU3nslou"
      },
      "execution_count": null,
      "outputs": []
    },
    {
      "cell_type": "code",
      "source": [
        "df_pre = df_total3.copy()"
      ],
      "metadata": {
        "id": "liAAdgily2E8"
      },
      "execution_count": null,
      "outputs": []
    },
    {
      "cell_type": "code",
      "source": [
        "# sale_ID establecer como índice junto con customer_ID   \n",
        "df_pre.set_index(['sale_ID', 'customer_ID'], inplace=True)"
      ],
      "metadata": {
        "id": "TkX8hLF_yGbk"
      },
      "execution_count": null,
      "outputs": []
    },
    {
      "cell_type": "code",
      "source": [
        "  \n",
        "# month_sale --> BORRAR\n",
        "# product_ID --> BORRAR \n",
        "# entry_date --> BORRAR \n",
        "# partition_date --> BORRAR       \n",
        "\n",
        "df_pre = df_pre.drop(['month_sale', 'product_ID', 'entry_date', 'partition_date'], axis=1)\n",
        "\n",
        "    \n"
      ],
      "metadata": {
        "id": "ASVFdk8IxsUf"
      },
      "execution_count": null,
      "outputs": []
    },
    {
      "cell_type": "code",
      "source": [
        "df_pre.shape"
      ],
      "metadata": {
        "id": "CUx7CdD1zgKI"
      },
      "execution_count": null,
      "outputs": []
    },
    {
      "cell_type": "code",
      "source": [
        "# partition_year --> A dtype INT    \n",
        "# partition_month --> A dtype INT      \n",
        "# partition_quarter --> A dtype INT\n",
        "\n",
        "# region_code --> A dtype OBJECT\n",
        "df_pre[['partition_year', 'partition_month', 'partition_quarter']] = df_pre[['partition_year', 'partition_month', 'partition_quarter']].astype('int')\n",
        "\n",
        "df_pre['region_code']=df_pre['region_code'].astype(object)"
      ],
      "metadata": {
        "id": "j7YsCoWXyA1g"
      },
      "execution_count": null,
      "outputs": []
    },
    {
      "cell_type": "code",
      "source": [
        "df_pre.info()"
      ],
      "metadata": {
        "id": "65RmIyjW2Xdh"
      },
      "execution_count": null,
      "outputs": []
    },
    {
      "cell_type": "markdown",
      "source": [
        "### Transformación de categóricas"
      ],
      "metadata": {
        "id": "gIbXGBctBJgx"
      }
    },
    {
      "cell_type": "code",
      "source": [
        "def OHE(dataframe, column_name):\n",
        "    _dummy_dataset = pd.get_dummies(dataframe[column_name], prefix=column_name)\n",
        "    dataframe = pd.concat([dataframe, _dummy_dataset], axis=1)\n",
        "    return dataframe.drop(column_name, axis=1)"
      ],
      "metadata": {
        "id": "1s6rdVT0u8LY"
      },
      "execution_count": null,
      "outputs": []
    },
    {
      "cell_type": "code",
      "source": [
        "# OHE \"entry_channel\"\n",
        "\n",
        "df_pre = OHE(df_pre, \"entry_channel\")"
      ],
      "metadata": {
        "id": "7GucpqgKBJDL"
      },
      "execution_count": null,
      "outputs": []
    },
    {
      "cell_type": "code",
      "source": [
        "# OHE segment\n",
        "\n",
        "df_pre = OHE(df_pre, \"segment\")"
      ],
      "metadata": {
        "id": "jnZjd1ILBckE"
      },
      "execution_count": null,
      "outputs": []
    },
    {
      "cell_type": "code",
      "source": [
        "# OHE region code\n",
        "\n",
        "df_pre = OHE(df_pre, \"region_code\")"
      ],
      "metadata": {
        "id": "hgrZgyoaVezt"
      },
      "execution_count": null,
      "outputs": []
    },
    {
      "cell_type": "code",
      "source": [
        "# OHE product_desc\n",
        "df_pre = OHE(df_pre, \"product_desc\")"
      ],
      "metadata": {
        "id": "NopFFcCU13Ya"
      },
      "execution_count": null,
      "outputs": []
    },
    {
      "cell_type": "code",
      "source": [
        "# OHE family_product\n",
        "df_pre = OHE(df_pre, \"family_product\")"
      ],
      "metadata": {
        "id": "cm8I7b3l13Lv"
      },
      "execution_count": null,
      "outputs": []
    },
    {
      "cell_type": "code",
      "source": [
        "# OHE country_id \n",
        "df_pre = OHE(df_pre, \"country_ID\")"
      ],
      "metadata": {
        "id": "4O4bb8eA1__0"
      },
      "execution_count": null,
      "outputs": []
    },
    {
      "cell_type": "code",
      "source": [
        "# gender --> 1 = Hembras, 0 = Varones, 2 = Nulos\n",
        "\n",
        "df_pre[\"gender\"] = df_pre[\"gender\"].replace(\"H\", 1) # H es de Hembras\n",
        "df_pre[\"gender\"] = df_pre[\"gender\"].replace(\"V\", 0) # V es de Varones"
      ],
      "metadata": {
        "id": "3C6lMd14Bj_u"
      },
      "execution_count": null,
      "outputs": []
    },
    {
      "cell_type": "code",
      "source": [
        "# deceased --> 1 = Fallecido, 0 = No fallecido\n",
        "\n",
        "df_pre[\"deceased\"] = df_pre[\"deceased\"].replace(\"N\", 0) # N es no moñeco\n",
        "df_pre[\"deceased\"] = df_pre[\"deceased\"].replace(\"S\", 1) # S es moñeco"
      ],
      "metadata": {
        "id": "EX-oMB_-Bj7J"
      },
      "execution_count": null,
      "outputs": []
    },
    {
      "cell_type": "code",
      "source": [
        "df_pre.info(verbose=True)"
      ],
      "metadata": {
        "id": "g2311aV6Do5p"
      },
      "execution_count": null,
      "outputs": []
    },
    {
      "cell_type": "code",
      "source": [
        "df_final=df_pre.to_pickle('/content/drive/MyDrive/Master_DS/TFM_Data_Science/df_preprocesado')"
      ],
      "metadata": {
        "id": "2P2ZSJNv4k6G"
      },
      "execution_count": null,
      "outputs": []
    },
    {
      "cell_type": "code",
      "source": [
        "df_final=pd.read_pickle('/content/drive/MyDrive/TFM  Data Science/df_preprocesado')"
      ],
      "metadata": {
        "id": "5aoTekSo4k2T"
      },
      "execution_count": null,
      "outputs": []
    },
    {
      "cell_type": "markdown",
      "source": [
        "#### Correlación variables"
      ],
      "metadata": {
        "id": "Q3S1xpwv_YJO"
      }
    },
    {
      "cell_type": "code",
      "source": [
        "corr=df_final.corr()"
      ],
      "metadata": {
        "id": "-eZGCUUD_Xc0"
      },
      "execution_count": null,
      "outputs": []
    },
    {
      "cell_type": "code",
      "source": [
        "corr2=corr.where(np.triu(np.ones(corr.shape), k=1).astype(bool))"
      ],
      "metadata": {
        "id": "EQbjWR9RBBrc"
      },
      "execution_count": null,
      "outputs": []
    },
    {
      "cell_type": "code",
      "source": [
        "corr2.stack()"
      ],
      "metadata": {
        "id": "hh3WP81SBBju"
      },
      "execution_count": null,
      "outputs": []
    },
    {
      "cell_type": "code",
      "source": [
        "corr3=corr2.unstack().dropna()"
      ],
      "metadata": {
        "id": "usjeZ_HWBBbi"
      },
      "execution_count": null,
      "outputs": []
    },
    {
      "cell_type": "code",
      "source": [
        "corr4 = corr3.sort_values()"
      ],
      "metadata": {
        "id": "V3Xlynx6BNZF"
      },
      "execution_count": null,
      "outputs": []
    },
    {
      "cell_type": "code",
      "source": [
        "pd.set_option('display.max_rows',None)"
      ],
      "metadata": {
        "id": "MYL7UNcfBNQQ"
      },
      "execution_count": null,
      "outputs": []
    },
    {
      "cell_type": "code",
      "source": [
        "corr4"
      ],
      "metadata": {
        "id": "43CYKWp8BNG2"
      },
      "execution_count": null,
      "outputs": []
    },
    {
      "cell_type": "markdown",
      "source": [
        "## Ajustamos el data set para el TARGET \"pension plan\""
      ],
      "metadata": {
        "id": "QgHl4CYI4NVf"
      }
    },
    {
      "cell_type": "code",
      "source": [
        "del df_final['pension_plan']"
      ],
      "metadata": {
        "id": "odlfuVXU4Yoz"
      },
      "execution_count": null,
      "outputs": []
    },
    {
      "cell_type": "code",
      "source": [
        "del df_final['family_product_pension_plan']"
      ],
      "metadata": {
        "id": "xWTnrUPG_9lt"
      },
      "execution_count": null,
      "outputs": []
    },
    {
      "cell_type": "code",
      "source": [
        "del df_final['net_margin']"
      ],
      "metadata": {
        "id": "SFGmwvkRC7Kn"
      },
      "execution_count": null,
      "outputs": []
    },
    {
      "cell_type": "code",
      "source": [
        "TARGET = 'product_desc_pension_plan'"
      ],
      "metadata": {
        "id": "7bCnTpOS6vLo"
      },
      "execution_count": null,
      "outputs": []
    },
    {
      "cell_type": "code",
      "source": [
        "df_final['product_desc_pension_plan'].value_counts(normalize = True)"
      ],
      "metadata": {
        "id": "OZDFIBBi76Jf"
      },
      "execution_count": null,
      "outputs": []
    },
    {
      "cell_type": "code",
      "source": [
        "# Un 8.04% de las ventas realizadas corresponden a planes de pensiones"
      ],
      "metadata": {
        "id": "kXoUfxus_8JA"
      },
      "execution_count": null,
      "outputs": []
    },
    {
      "cell_type": "code",
      "source": [
        "# Por curiosidad consultamos este dato para los TARGET1 y TARGET2 propuestos provisionales\n",
        "df_final['product_desc_debit_card'].value_counts(normalize = True)"
      ],
      "metadata": {
        "id": "nXKuWgQdWcRY"
      },
      "execution_count": null,
      "outputs": []
    },
    {
      "cell_type": "code",
      "source": [
        "df_final['product_desc_emc_account'].value_counts(normalize = True)"
      ],
      "metadata": {
        "id": "cfGgg4a5WcHb"
      },
      "execution_count": null,
      "outputs": []
    },
    {
      "cell_type": "markdown",
      "source": [
        "## Partición train/test/validation"
      ],
      "metadata": {
        "id": "mWqTQSDnJE2s"
      }
    },
    {
      "cell_type": "code",
      "source": [
        "#df = df1.copy()"
      ],
      "metadata": {
        "id": "RXAOYCCpyN_7"
      },
      "execution_count": null,
      "outputs": []
    },
    {
      "cell_type": "code",
      "source": [
        "#df.drop([\"entry_date\", \"partition_date\"],axis = 1,inplace = True)"
      ],
      "metadata": {
        "id": "tkrdvZfcIqbD"
      },
      "execution_count": null,
      "outputs": []
    },
    {
      "cell_type": "code",
      "source": [
        "df_final.shape"
      ],
      "metadata": {
        "id": "XcmPWVj3JS53"
      },
      "execution_count": null,
      "outputs": []
    },
    {
      "cell_type": "code",
      "source": [
        "# La partición de validación tiene que ser lo más parecida a la realidad posible, un % del dataset siempre mayor de 1000 filas. tenemos 240.773 en total\n",
        "# Tomaremos para validación el último mes registrado, mayo de 2019, y el resto de datos para train/test. Si vemos que los números descuadran mucho se propone otra división."
      ],
      "metadata": {
        "id": "zVtVQpA_JB2_"
      },
      "execution_count": null,
      "outputs": []
    },
    {
      "cell_type": "code",
      "source": [
        "# Partición de validación y develop\n",
        "val_df = df_final[(df_final['year_sales']==2019) & (df_final['month_sales']==5)]\n",
        "dev_df = df_final[~((df_final['year_sales'] == 2019) & (df_final['month_sales'] == 5))]"
      ],
      "metadata": {
        "id": "GXAAD0DfR69v"
      },
      "execution_count": null,
      "outputs": []
    },
    {
      "cell_type": "code",
      "source": [
        "val_df.shape # No es un mal número para validar, unos 10k registros"
      ],
      "metadata": {
        "id": "M3XygM6s9z17"
      },
      "execution_count": null,
      "outputs": []
    },
    {
      "cell_type": "code",
      "source": [
        "dev_df.shape # Buen número para train-test, 230k registros"
      ],
      "metadata": {
        "id": "-xvCy4az93Lu"
      },
      "execution_count": null,
      "outputs": []
    },
    {
      "cell_type": "code",
      "source": [
        "val_df_y = val_df[[TARGET]]\n",
        "\n",
        "val_df_X = val_df.drop(TARGET,axis=1)"
      ],
      "metadata": {
        "id": "6O-zGAznR-7h"
      },
      "execution_count": null,
      "outputs": []
    },
    {
      "cell_type": "code",
      "source": [
        "dev_df_y = dev_df[[TARGET]]\n",
        "\n",
        "dev_df_x = dev_df.drop(TARGET,axis=1)"
      ],
      "metadata": {
        "id": "wDWYjZLgSAAU"
      },
      "execution_count": null,
      "outputs": []
    },
    {
      "cell_type": "markdown",
      "source": [
        "### Train y Test"
      ],
      "metadata": {
        "id": "6BhPVjRbSCI3"
      }
    },
    {
      "cell_type": "code",
      "source": [
        "#20% del dataset de development para test"
      ],
      "metadata": {
        "id": "363Fix_KSC0t"
      },
      "execution_count": null,
      "outputs": []
    },
    {
      "cell_type": "code",
      "source": [
        "X_train, X_test, y_train, y_test = model_selection.train_test_split( dev_df_x, dev_df_y, test_size=0.2, random_state=42)"
      ],
      "metadata": {
        "id": "u0Ql0Iu9SC8E"
      },
      "execution_count": null,
      "outputs": []
    },
    {
      "cell_type": "code",
      "source": [
        "#Comprobar que la distribución de ambas particiones es parecida (media, percentiles y distrribución std). Si no lo es, cambiamos el random state o utilizamos k.fold"
      ],
      "metadata": {
        "id": "D7uD7XwgSC5o"
      },
      "execution_count": null,
      "outputs": []
    },
    {
      "cell_type": "code",
      "source": [
        "X_train.describe().T.head()"
      ],
      "metadata": {
        "id": "ekqJDIYrSC3b"
      },
      "execution_count": null,
      "outputs": []
    },
    {
      "cell_type": "code",
      "source": [
        "X_test.describe().T.head()"
      ],
      "metadata": {
        "id": "9yO7fS_xSHvw"
      },
      "execution_count": null,
      "outputs": []
    },
    {
      "cell_type": "markdown",
      "source": [
        "# 4.- Modelling"
      ],
      "metadata": {
        "id": "U9R2nPqLSV0B"
      }
    },
    {
      "cell_type": "markdown",
      "source": [
        "## Decission Tree"
      ],
      "metadata": {
        "id": "ZrdWNz0jSUHU"
      }
    },
    {
      "cell_type": "code",
      "source": [
        "#Instanciamos el modelo\n",
        "dt=DecisionTreeClassifier(max_depth=6,random_state=42, min_samples_leaf=500)"
      ],
      "metadata": {
        "id": "wGq7X0JdSat7"
      },
      "execution_count": null,
      "outputs": []
    },
    {
      "cell_type": "code",
      "source": [
        "#lo entrenamos con el dataset de train\n",
        "dt.fit(X=X_train,y=y_train)"
      ],
      "metadata": {
        "id": "w-Z_D8FYSaqc"
      },
      "execution_count": null,
      "outputs": []
    },
    {
      "cell_type": "code",
      "source": [
        "#lo pintamos\n",
        "tree_data=export_graphviz(\n",
        "    decision_tree=dt,\n",
        "    out_file=None, \n",
        "    max_depth=None,\n",
        "    feature_names=X_test.columns,\n",
        "    class_names=['no_pension_plan','pension_plan'],\n",
        "    label=\"all\",\n",
        "    filled=True,\n",
        "    leaves_parallel=False,\n",
        "    impurity=True,\n",
        "    node_ids=False,\n",
        "    proportion=False,\n",
        "    rotate=True,\n",
        "    rounded=True,\n",
        "    special_characters=False,\n",
        "    precision=3,\n",
        "    fontname=\"helvetica\",\n",
        ")"
      ],
      "metadata": {
        "id": "lGjkq0wmSanr"
      },
      "execution_count": null,
      "outputs": []
    },
    {
      "cell_type": "code",
      "source": [
        "graphviz.Source(tree_data)\n",
        "# Lo que se aprecia en el arbol es algo en realidad muy intuitivo: para este TARGET lo más distintivo es el net_margin que ofrece, ya que está muy por encima del resto de productos de EasyMoney"
      ],
      "metadata": {
        "id": "19Qwdlf7Salg"
      },
      "execution_count": null,
      "outputs": []
    },
    {
      "cell_type": "code",
      "source": [
        "#generamos predicciones y evaluamos el modelo\n",
        "y_test_pred = pd.DataFrame(dt.predict(X_test),index=y_test.index,columns=['pension_plan_prediction'])"
      ],
      "metadata": {
        "id": "C0sxYTniSai6"
      },
      "execution_count": null,
      "outputs": []
    },
    {
      "cell_type": "code",
      "source": [
        "#join de y_test y y_test_pred para comparar el resultado real con la predicción\n",
        "result_df=y_test.join(y_test_pred,how='inner')"
      ],
      "metadata": {
        "id": "IP0x6GNmSagd"
      },
      "execution_count": null,
      "outputs": []
    },
    {
      "cell_type": "code",
      "source": [
        "result_df['Success']=(result_df['product_desc_pension_plan']==result_df['pension_plan_prediction']).astype(int)"
      ],
      "metadata": {
        "id": "sDaZXANdSaA7"
      },
      "execution_count": null,
      "outputs": []
    },
    {
      "cell_type": "code",
      "source": [
        "result_df.head(20)"
      ],
      "metadata": {
        "id": "za1o7X0RS4nX"
      },
      "execution_count": null,
      "outputs": []
    },
    {
      "cell_type": "code",
      "source": [
        "#Accuracy\n",
        "result_df['Success'].mean()"
      ],
      "metadata": {
        "id": "T0PwwSuTS4kt"
      },
      "execution_count": null,
      "outputs": []
    },
    {
      "cell_type": "code",
      "source": [
        "# El modelo más tonto predicirá con un 92% de accuracy, frente al nuestro que predice con un accuracy 99.76%. NOT BAD\n"
      ],
      "metadata": {
        "id": "zNunjcvSS4f9"
      },
      "execution_count": null,
      "outputs": []
    },
    {
      "cell_type": "markdown",
      "source": [
        "## Confusion matrix"
      ],
      "metadata": {
        "id": "IanCuRYaVRWh"
      }
    },
    {
      "cell_type": "code",
      "source": [
        "confusion_matrix=pd.crosstab(result_df['product_desc_pension_plan'],result_df['pension_plan_prediction'])"
      ],
      "metadata": {
        "id": "prQqKye4VSW4"
      },
      "execution_count": null,
      "outputs": []
    },
    {
      "cell_type": "code",
      "source": [
        "TP=confusion_matrix.iloc[1,1]\n",
        "TN=confusion_matrix.iloc[0,0]\n",
        "FP=confusion_matrix.iloc[0,1]\n",
        "FN=confusion_matrix.iloc[1,0]"
      ],
      "metadata": {
        "id": "MRnJPS3sVTTk"
      },
      "execution_count": null,
      "outputs": []
    },
    {
      "cell_type": "code",
      "source": [
        "confusion_matrix\n",
        "# Parece que el modelo tiende a dar más falsos negativos, pero aproximadamente está  balanceado entre FP y FN"
      ],
      "metadata": {
        "id": "WbLmBmgLVU83"
      },
      "execution_count": null,
      "outputs": []
    },
    {
      "cell_type": "code",
      "source": [
        "dt.score(X_test,y_test)"
      ],
      "metadata": {
        "id": "I0aZnAhZVdFZ"
      },
      "execution_count": null,
      "outputs": []
    },
    {
      "cell_type": "code",
      "source": [
        "#generamos las predicciones del dataset de test pero como probabilidades\n",
        "dt.predict_proba(X_test)\n"
      ],
      "metadata": {
        "id": "vlLeQMSjVeeI"
      },
      "execution_count": null,
      "outputs": []
    },
    {
      "cell_type": "code",
      "source": [
        "#seleeciono las probabilidades de #1 y lo convierto en un dataframe\n",
        "y_score= pd.DataFrame(dt.predict_proba(X_test)[:,1],index=y_test.index, columns=['pension_plan_score']).sort_values(by='pension_plan_score', ascending=False)"
      ],
      "metadata": {
        "id": "flaJOV0IVgWA"
      },
      "execution_count": null,
      "outputs": []
    },
    {
      "cell_type": "code",
      "source": [
        "y_score"
      ],
      "metadata": {
        "id": "NFXcI4jZbZin"
      },
      "execution_count": null,
      "outputs": []
    },
    {
      "cell_type": "code",
      "source": [
        "# lo combino con el dataframe anterior\n",
        "result_df= result_df.join(y_score)"
      ],
      "metadata": {
        "id": "3FPhwDzlVoz9"
      },
      "execution_count": null,
      "outputs": []
    },
    {
      "cell_type": "code",
      "source": [
        "result_df.sort_values(by='pension_plan_score', ascending=False)"
      ],
      "metadata": {
        "id": "2_BDhFY-c9YN"
      },
      "execution_count": null,
      "outputs": []
    },
    {
      "cell_type": "markdown",
      "source": [
        "## F1 Score"
      ],
      "metadata": {
        "id": "rxA_gX1sVr2C"
      }
    },
    {
      "cell_type": "code",
      "source": [
        "# Desarrollo matemático de F1Score\n",
        "Precision=TP/ (TP+FP)\n",
        "Recall= TP/(TP+FN)\n",
        "f1_score=2/(1/Precision+1/Recall)"
      ],
      "metadata": {
        "id": "fwt1BsuOVtoj"
      },
      "execution_count": null,
      "outputs": []
    },
    {
      "cell_type": "code",
      "source": [
        "# Precision = Cuántos positivos de los que detecta realmente lo son \n",
        "# Recall alta = Cuántos positivos detecta el modelo del total"
      ],
      "metadata": {
        "id": "CsDifqr1Vuhn"
      },
      "execution_count": null,
      "outputs": []
    },
    {
      "cell_type": "code",
      "source": [
        "Precision"
      ],
      "metadata": {
        "id": "Rio9y8LLVvTh"
      },
      "execution_count": null,
      "outputs": []
    },
    {
      "cell_type": "code",
      "source": [
        "Recall"
      ],
      "metadata": {
        "id": "X91CgHGYVwNO"
      },
      "execution_count": null,
      "outputs": []
    },
    {
      "cell_type": "code",
      "source": [
        "metrics.f1_score(y_test,y_test_pred)"
      ],
      "metadata": {
        "id": "-givAhBtVxM1"
      },
      "execution_count": null,
      "outputs": []
    },
    {
      "cell_type": "markdown",
      "source": [
        "## AUC y ROC curve"
      ],
      "metadata": {
        "id": "3_ZiEMyNV0oa"
      }
    },
    {
      "cell_type": "code",
      "source": [
        "metrics.roc_auc_score(result_df['product_desc_pension_plan'],result_df['pension_plan_score'])"
      ],
      "metadata": {
        "id": "2IKfny-tV0Fq"
      },
      "execution_count": null,
      "outputs": []
    },
    {
      "cell_type": "code",
      "source": [
        "fpr,tpr,th=metrics.roc_curve(result_df['product_desc_pension_plan'],result_df['pension_plan_score'])\n",
        "plt.plot(fpr,tpr)\n",
        "plt.plot([0,1],[0,1],linestyle='--')\n",
        "plt.xlabel('FPR')\n",
        "plt.ylabel('TPR')\n",
        "plt.title('ROC curve')\n",
        "plt.show()\n"
      ],
      "metadata": {
        "id": "Q-_QY47fV8F4"
      },
      "execution_count": null,
      "outputs": []
    },
    {
      "cell_type": "markdown",
      "source": [
        "## Control del overfitting"
      ],
      "metadata": {
        "id": "AjyZwAI0WBoG"
      }
    },
    {
      "cell_type": "code",
      "source": [
        "for i in range(1,15):\n",
        "  #instancio el modelo\n",
        "  dt2= DecisionTreeClassifier(max_depth=i,random_state=42)\n",
        "  #entreno el modelo\n",
        "  dt2.fit(X_train,y_train)\n",
        "  #evaluo \n",
        "  acc_train = dt2.score(X_train,y_train)\n",
        "  acc_test = dt2.score(X_test,y_test)\n",
        "  print(f'Profundidad de arbol: {i}, Acc.train: {np.round(acc_train,6)},Acc.test: {np.round(acc_test,6)}')"
      ],
      "metadata": {
        "id": "6MX-RAn1WAM7"
      },
      "execution_count": null,
      "outputs": []
    },
    {
      "cell_type": "code",
      "source": [
        "#puedo probar con diferent numero de observaciones en el nodo final\n",
        "for i in range(1,15):\n",
        "  dt2= DecisionTreeClassifier(max_depth=i,random_state=42,min_samples_split=500)\n",
        "  dt2.fit(X_train,y_train)\n",
        "  acc_train = dt2.score(X_train,y_train)\n",
        "  acc_test = dt2.score(X_test,y_test)\n",
        "\n",
        "\n",
        "  print(f'Profundidad de arbol: {i}, Acc.train: {np.round(acc_train,6)},Acc.test: {np.round(acc_test,6)}')"
      ],
      "metadata": {
        "id": "dCHv78_XWFeJ"
      },
      "execution_count": null,
      "outputs": []
    },
    {
      "cell_type": "markdown",
      "source": [
        "## Modelos alternativos"
      ],
      "metadata": {
        "id": "4Q6uNdh-Whn5"
      }
    },
    {
      "cell_type": "code",
      "source": [
        "from sklearn.ensemble import RandomForestClassifier"
      ],
      "metadata": {
        "id": "mswXcG1cWijQ"
      },
      "execution_count": null,
      "outputs": []
    },
    {
      "cell_type": "code",
      "source": [
        "#Random Forest con 10 replicas\n",
        "rf = RandomForestClassifier (max_depth=11,random_state=42,min_samples_split=500,n_estimators=10)"
      ],
      "metadata": {
        "id": "M1PU-mFMWjUU"
      },
      "execution_count": null,
      "outputs": []
    },
    {
      "cell_type": "code",
      "source": [
        "rf.fit(X_train,y_train)"
      ],
      "metadata": {
        "id": "Lm9K17M8Wks1"
      },
      "execution_count": null,
      "outputs": []
    },
    {
      "cell_type": "code",
      "source": [
        "rf.score(X_test,y_test)\n",
        "# El random forest mejora bastante le modelo, de un 99.76% de acierto a un 99.96%"
      ],
      "metadata": {
        "id": "CQvuUTjqWlhE"
      },
      "execution_count": null,
      "outputs": []
    },
    {
      "cell_type": "code",
      "source": [
        "rf.score(val_df_X,val_df_y)"
      ],
      "metadata": {
        "id": "DtmmFzs7f7F6"
      },
      "execution_count": null,
      "outputs": []
    },
    {
      "cell_type": "code",
      "source": [
        "# SIGUIENTES PASOS\n",
        "\n",
        "# --> Métricas y evaluación de métricas del random forest\n",
        "# --> Preparar el rebalanceo del target\n",
        "# --> Acordar dos target más (me parecen buena opción la debit_card y la cuenta emc_account)\n",
        "# Se me ocurre como estrategia de marketing ofrecer el pack plan de pensiones + emc_account a ambos grupos de clientes potenciales para diversificar riesgo,\n",
        "# teniendo algo muy seguro y largoplazista y otra inversión más especulativa (se apoya esta estrategia en que el grueso de los clientes son gente joven a la que puede interesar el mix)\n",
        "# --> Adaptar el dataset2 y dataset3 para lanzar los modelos sobre el target2 y target3"
      ],
      "metadata": {
        "id": "v-AJiqAijfka"
      },
      "execution_count": null,
      "outputs": []
    },
    {
      "cell_type": "markdown",
      "source": [
        "## Variables más predictivas"
      ],
      "metadata": {
        "id": "z4qJDLyyWz7f"
      }
    },
    {
      "cell_type": "code",
      "source": [
        "top_features = pd.Series(rf.feature_importances_, index=X_train.columns).sort_values(ascending=False).head(20)"
      ],
      "metadata": {
        "id": "y2lVaJydW2jv"
      },
      "execution_count": null,
      "outputs": []
    },
    {
      "cell_type": "code",
      "source": [
        "top_features\n",
        "# Aquí vemos las variables que el modelo ha considerado como más predictivas"
      ],
      "metadata": {
        "id": "coR-TMhHW3v8"
      },
      "execution_count": null,
      "outputs": []
    }
  ]
}
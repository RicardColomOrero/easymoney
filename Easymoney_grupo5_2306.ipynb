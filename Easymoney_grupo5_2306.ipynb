{
  "nbformat": 4,
  "nbformat_minor": 0,
  "metadata": {
    "colab": {
      "provenance": [],
      "collapsed_sections": [
        "pzsmsHc1k1s4",
        "d7_Opx03k5Cb",
        "fu6F4Uj7waeR",
        "BvMxaUfLwYxC",
        "N53oY9OJoonb",
        "J9gfKL_7ow7i"
      ],
      "gpuType": "T4",
      "toc_visible": true,
      "include_colab_link": true
    },
    "kernelspec": {
      "name": "python3",
      "display_name": "Python 3"
    },
    "language_info": {
      "name": "python"
    },
    "accelerator": "GPU"
  },
  "cells": [
    {
      "cell_type": "markdown",
      "metadata": {
        "id": "view-in-github",
        "colab_type": "text"
      },
      "source": [
        "<a href=\"https://colab.research.google.com/github/RicardColomOrero/easymoney/blob/main/Easymoney_grupo5_2306.ipynb\" target=\"_parent\"><img src=\"https://colab.research.google.com/assets/colab-badge.svg\" alt=\"Open In Colab\"/></a>"
      ]
    },
    {
      "cell_type": "markdown",
      "source": [
        "# ENUNCIADO CAPSTONE\n",
        "\n",
        "\n",
        "## 1.- PowerBI (Opcional)\n",
        "Hemos decidido reorientar nuestra estrategia comercial hacia el\n",
        "**aumento de la penetración de la cartera actual de productos en nuestro mercado**, con la idea de obtener una\n",
        "mejor rentabilidad de nuestra base actual de clientes (lo del cuadrante barato de la matriz de Ansoff).\n",
        "\n",
        "A cambio, reduciremos la actividad intensiva de captación que veníamos realizando desde que arrancamos. En este sentido, y para acabar de definir la estrategia, estaría genial poder tener algunos análisis que nos ayuden\n",
        "a tomar decisiones. Como te decía, ahora tenemos un autoservicio, pero esta foto simple no nos ayuda demasiado.\n",
        "Si ni siquiera sé cuantos productos hemos vendido este mes o si son los clientes nuevos quiénes contratan o los que ya teníamos!\n",
        "\n",
        "Sería genial incluso que pudieses utilizar el reciente producto adquirido\n",
        "PowerBI para **preparar unos KPI’s de lo que tenemos en la empresa**\n",
        "\n",
        "## 2.- Propensión (modelo de propensión a compra)\n",
        "\n",
        "Una vez que hayamos hecho el **análisis de nuestra BBDD nos gustaría poder vender más y mejor nuestros productos**, sé que los data scientist tienen una “bola de cristal” y saben qué clientes son más propensos a\n",
        "comprar nuestros productos así que te pido por favor hagas un **modelo de propensión a compra**, se que tenemos muchos productos, así que te **,dejo a tu criterio científico qué productos elegir, o pueden ser varios,**, ya\n",
        "me sorprenderás\n",
        "\n",
        "## 3.- Segmentación\n",
        "\n",
        "Una vez obtenido la propensión de los productos sería genial poder conocer mejor a nuestros clientes para orientar nuestra actividad comercial. Hace tiempo vengo teniendo la idea de que podríamos **segmentar la base\n",
        "de clientes en 7 u 8 grupos de clientes similares**... sería genial** identificarlos, y poder saber cómo son los clientes\n",
        "que pertenecen a estos grupos**... nos ayudaría muchísimo a la hora de definir todo nuestro plan de marketing de cara a futuro!\n",
        "\n",
        "## 4.- Caso de uso\n",
        "\n",
        "Perfecto! Tenemos las segmentaciones de clientes, tenemos las propensiones y ahora lo que nos falta es realizar\n",
        "**un caso de uso que nos permita estimar en base a una campaña X cuánto dinero podemos ganar**,\n",
        "\n",
        "¿A cuántos clientes tenemos que impactar?\n",
        "\n",
        "¿Qué productos ofrecer?\n",
        "\n",
        "¿Impactamos a todos lo segmentos indicados?\n",
        "\n",
        "**Restricción de 10.000 clientes para la campaña.**"
      ],
      "metadata": {
        "id": "FnyES6frCHxO"
      }
    },
    {
      "cell_type": "markdown",
      "source": [
        "# Importación de librerías"
      ],
      "metadata": {
        "id": "pzsmsHc1k1s4"
      }
    },
    {
      "cell_type": "code",
      "execution_count": 499,
      "metadata": {
        "id": "uN7zDy6jkPsb"
      },
      "outputs": [],
      "source": [
        "import numpy as np # Arrays\n",
        "import pandas as pd # Series and Dataframes\n",
        "\n",
        "from google.colab import files\n",
        "\n",
        "#visualizacion\n",
        "import matplotlib.pyplot as plt\n",
        "import seaborn as sns\n",
        "\n",
        "pd.options.display.max_rows = 200\n",
        "plt.style.use('ggplot') # Beautify Plots\n",
        "\n",
        "#Modelling\n",
        "from sklearn import model_selection\n",
        "from sklearn import metrics\n",
        "from sklearn.tree import DecisionTreeClassifier\n",
        "from sklearn.tree import export_graphviz\n",
        "import graphviz\n",
        "\n",
        "from sklearn.metrics import mean_squared_error\n",
        "from sklearn.ensemble import RandomForestClassifier\n",
        "import xgboost as xgb\n",
        "\n"
      ]
    },
    {
      "cell_type": "code",
      "source": [
        "from google.colab import drive\n",
        "drive.mount('/content/drive')"
      ],
      "metadata": {
        "colab": {
          "base_uri": "https://localhost:8080/"
        },
        "id": "Y33qmgx4sg9M",
        "outputId": "c5e5fa6c-848c-4e71-a9e2-6e9b94ba504e"
      },
      "execution_count": 500,
      "outputs": [
        {
          "output_type": "stream",
          "name": "stdout",
          "text": [
            "Drive already mounted at /content/drive; to attempt to forcibly remount, call drive.mount(\"/content/drive\", force_remount=True).\n"
          ]
        }
      ]
    },
    {
      "cell_type": "markdown",
      "source": [
        "# Importación dataset"
      ],
      "metadata": {
        "id": "d7_Opx03k5Cb"
      }
    },
    {
      "cell_type": "code",
      "source": [
        "#file_dir = \"/content/drive/MyDrive/NUCLIO/TFM  Data Science/datasets_TFM_y_diccionario/\" #Ricard file_dir\n",
        "#file_dir = \"/content/drive/MyDrive/TFM  Data Science/datasets_TFM_y_diccionario/\" #Eva file_dir\n",
        "file_dir = \"/content/drive/MyDrive/Master_DS/TFM_Data_Science/datasets_TFM_y_diccionario/\" #Culebra file_dir"
      ],
      "metadata": {
        "id": "loejgT7Nk83n"
      },
      "execution_count": 501,
      "outputs": []
    },
    {
      "cell_type": "code",
      "source": [
        "file_sales =\"sales.csv\"\n",
        "file_product_description =\"product_description.csv\"\n",
        "file_customer_sociodemographics =\"customer_sociodemographics.csv\"\n",
        "file_customer_commercial_activity = \"customer_commercial_activity.csv\"\n",
        "file_customer_products =\"customer_products.csv\"\n",
        "file_provincias = \"inform_adicional_por_provincias.csv\""
      ],
      "metadata": {
        "id": "bospzkLCmG8h"
      },
      "execution_count": 502,
      "outputs": []
    },
    {
      "cell_type": "code",
      "source": [
        "sales_raw = pd.read_csv(file_dir + file_sales)\n",
        "product_description_raw = pd.read_csv(file_dir +file_product_description)\n",
        "customer_sociodemographics_raw = pd.read_csv(file_dir + file_customer_sociodemographics)\n",
        "customer_commercial_activity_raw = pd.read_csv(file_dir + file_customer_commercial_activity)\n",
        "customer_products_raw = pd.read_csv(file_dir + file_customer_products)"
      ],
      "metadata": {
        "id": "1bEJ4RF3mTBK"
      },
      "execution_count": null,
      "outputs": []
    },
    {
      "cell_type": "code",
      "source": [
        "info_provincias_raw = pd.read_csv(file_dir + file_provincias)"
      ],
      "metadata": {
        "id": "2pauFQRvYxTy"
      },
      "execution_count": null,
      "outputs": []
    },
    {
      "cell_type": "markdown",
      "source": [
        "# 2.- DATA UNDERSTANDING"
      ],
      "metadata": {
        "id": "ML_zYOYbqxsG"
      }
    },
    {
      "cell_type": "code",
      "source": [
        "def report_df(df, verbose = True):\n",
        "    '''\n",
        "    Hace un report simple sobre el DataFrame suministrado.\n",
        "    '''\n",
        "    print(\"***INFO***\")\n",
        "    print(df.info(verbose = verbose))\n",
        "\n",
        "    print(\"***DESCRIPTIVOS CATEGORICAS***\")\n",
        "    try:\n",
        "      print(df.describe(include = ['object']))\n",
        "    except:\n",
        "          print(\"Oops!  No hay variables categóricas\")\n",
        "\n",
        "    print(\"***DESCRIPTIVOS NUMÉRICAS***\")\n",
        "    try:\n",
        "      print(df.describe(exclude = ['object']))\n",
        "    except:\n",
        "          print(\"Oops!  No hay variables categóricas\")\n",
        "\n",
        "    print(\"***NULOS***\")\n",
        "    total_nulos = df.isnull().sum().sum()\n",
        "    print(df.isnull().sum())\n",
        "    print(f\"Tenemos un total de {total_nulos} nulos\")"
      ],
      "metadata": {
        "id": "NHbLdhVSUaU7"
      },
      "execution_count": null,
      "outputs": []
    },
    {
      "cell_type": "markdown",
      "source": [
        "### Sales"
      ],
      "metadata": {
        "id": "5ZB5uRK2sgLo"
      }
    },
    {
      "cell_type": "markdown",
      "source": [
        "* pk_sale: Identificador de venta - (primary key)\n",
        "* cid: Identificador de cliente - (foreing key)\n",
        "* month_sale: Mes de venta. Mes en el que se contrata un producto.\n",
        "* product_ID: Identificador de producto  - (foreing key)\n",
        "* net_margin: Margen neto generado por la venta ($)"
      ],
      "metadata": {
        "id": "9yNIvdpDs05O"
      }
    },
    {
      "cell_type": "code",
      "source": [
        "# Análisis inicial de sales\n",
        "\n",
        "report_df(sales_raw)"
      ],
      "metadata": {
        "id": "VAYdx80i1N9A"
      },
      "execution_count": null,
      "outputs": []
    },
    {
      "cell_type": "code",
      "source": [
        "# ACCIONES A LLEVAR A CABO\n",
        "\n",
        "# Eliminar columna Unnamed\n",
        "# Renombrar columnas para alinear el naming, por ejemplo variable cid como \"client_ID\", pk_sale como \"sale_ID\"\n",
        "# Cambiar los identificadores (product_ID, customer_ID) a variable categórica\n",
        "# Cambiar tipo de month_sale a fecha\n",
        "# Disgregar la fecha en mes, año... (otros: trimestre, fin de semana, festivo...)\n"
      ],
      "metadata": {
        "id": "4j4GhhbI1N9C"
      },
      "execution_count": null,
      "outputs": []
    },
    {
      "cell_type": "markdown",
      "source": [
        "### Product Description"
      ],
      "metadata": {
        "id": "fu6F4Uj7waeR"
      }
    },
    {
      "cell_type": "markdown",
      "source": [
        "* pk_product_ID\t= Identificador de producto - (primary key)\n",
        "* product_desc\t= Descripción del producto\n",
        "* family_product\t= Vertical del producto. Grupo al que pertenece."
      ],
      "metadata": {
        "id": "tF9aoCOUwaeT"
      }
    },
    {
      "cell_type": "code",
      "source": [
        "# Análisis inicial de product description\n",
        "\n",
        "report_df(product_description_raw)"
      ],
      "metadata": {
        "id": "R4rkQSBB1gFO"
      },
      "execution_count": null,
      "outputs": []
    },
    {
      "cell_type": "code",
      "source": [
        "# ACCIONES A LLEVAR A CABO\n",
        "\n",
        "# Eliminar columna Unnamed"
      ],
      "metadata": {
        "id": "m9_2ZNRu1wpE"
      },
      "execution_count": null,
      "outputs": []
    },
    {
      "cell_type": "markdown",
      "source": [
        "### Customer Sociodemographics"
      ],
      "metadata": {
        "id": "MaBHzrXNyn_S"
      }
    },
    {
      "cell_type": "markdown",
      "source": [
        "* pk_cid =\tIdentificador de cliente\n",
        "* pk_partition =\tIdentificador de Partición. Mensualmente se ingesta en la tabla una partición con el estado de la base de clientes.\n",
        "* deceased =\tIndicador de fallecimiento\n",
        "* gender =\tSexo del cliente\n",
        "* region_code =\tProvincia de residencia del cliente (para ES)\n",
        "* salary =\tIngresos brutos de la unidad familiar\n",
        "* country_id =\tPaís de residencia del cliente\n",
        "* age =\tEdad del cliente"
      ],
      "metadata": {
        "id": "RN4rqVMoyn_e"
      }
    },
    {
      "cell_type": "code",
      "source": [
        "report_df(customer_sociodemographics_raw)"
      ],
      "metadata": {
        "id": "vG4RJ69gyn_e"
      },
      "execution_count": null,
      "outputs": []
    },
    {
      "cell_type": "code",
      "source": [
        "customer_sociodemographics_raw[\"country_id\"].value_counts(normalize = True).head()"
      ],
      "metadata": {
        "id": "sS4GgmI8WGsF"
      },
      "execution_count": null,
      "outputs": []
    },
    {
      "cell_type": "code",
      "source": [
        "customer_sociodemographics_raw[\"region_code\"].value_counts()"
      ],
      "metadata": {
        "id": "5MNgIpGOUV7y"
      },
      "execution_count": null,
      "outputs": []
    },
    {
      "cell_type": "code",
      "source": [
        "# ACCIONES CUSTOMER SOCIODEMOGRAPHICS\n",
        "\n",
        "# Gestionar nulos: (Culebra: tenemos modelo de clasificación así que lo que haremos será ponerles valores extremos)\n",
        "#     region_code\n",
        "#     gender\n",
        "#     salary\n",
        "# gender > Transformar a 1 y 0\n",
        "# deceased > Transformar a 1 y 0\n",
        "# country_id > Agrupar ES, OTHERS\n",
        "\n"
      ],
      "metadata": {
        "id": "sc0F1_4wyn_f"
      },
      "execution_count": null,
      "outputs": []
    },
    {
      "cell_type": "markdown",
      "source": [
        "### Customer Commercial Activity"
      ],
      "metadata": {
        "id": "xLmTCU9FsnzR"
      }
    },
    {
      "cell_type": "markdown",
      "source": [
        "* pk_cid = Identificador de cliente\n",
        "* pk_partition =\tIdentificador de Partición. Mensualmente se ingesta en la tabla una partición con el estado de la base de clientes.\n",
        "* entry_channel =\tCanal de captación del cliente\n",
        "* entry_date =\tFecha en la que realizó la primera contratación a través de easyMoney\n",
        "* segment =\tSegmento comercial del cliente\n",
        "* active_customer =\tIndicador de actividad del cliente en la app EasyMoney"
      ],
      "metadata": {
        "id": "Y8ibAYQ5twNd"
      }
    },
    {
      "cell_type": "code",
      "source": [
        "report_df(customer_commercial_activity_raw)"
      ],
      "metadata": {
        "id": "rX8I1oKUsv7d"
      },
      "execution_count": null,
      "outputs": []
    },
    {
      "cell_type": "code",
      "source": [
        "customer_commercial_activity_raw[\"segment\"].value_counts()"
      ],
      "metadata": {
        "id": "WbiCvHAzzem1"
      },
      "execution_count": null,
      "outputs": []
    },
    {
      "cell_type": "code",
      "source": [
        "customer_commercial_activity_raw[\"entry_channel\"].value_counts(normalize = True).head(10)"
      ],
      "metadata": {
        "id": "YRVr8l9lzyGL"
      },
      "execution_count": null,
      "outputs": []
    },
    {
      "cell_type": "code",
      "source": [
        "# ACCIONES CUSTOMER COMMERCIAL ACTIVITY**\n",
        "\n",
        "\n",
        "# Eliminar columna Unnamed\n",
        "# Cambiar los identificadores (pk_cid) a variable categórica\n",
        "# Cambiar tipo de active_customer a boolean\n",
        "# Establecer primary key como index?\n",
        "# Gestionar nulos:\n",
        "#     entry_channel\n",
        "#     segment\n",
        "# Cambiar tipo de entry_date a fecha\n",
        "# Disgregar entry_date en mes, año, día, día de la semana (otros: trimestre, fin de semana, festivo...)\n",
        "# entry_channel > OneHotEncoding o FrecuencyEncoding ( agrupar 11-12 etiquetas + OTHERS)\n",
        "# segment > OneHotEncoding"
      ],
      "metadata": {
        "id": "Bpqae0fLwJVO"
      },
      "execution_count": null,
      "outputs": []
    },
    {
      "cell_type": "markdown",
      "source": [
        "### Customer Products"
      ],
      "metadata": {
        "id": "BvMxaUfLwYxC"
      }
    },
    {
      "cell_type": "markdown",
      "source": [
        "- pk_cid =\tIdentificador de cliente\n",
        "- pk_partition =\tIdentificador de Partición. Mensualmente se ingesta en la tabla una partición con el estado de la base de clientes.\n",
        "- credit_card =\tTenencia de tarjetas de crédito\n",
        "- debit_card =\tTenencia de tarjetas de débito\n",
        "- em_account_p =\tTenencia de Cuenta easyMoney+\n",
        "- em_account_pp =\tTenencia de Cuenta easyMoney++\n",
        "- em_acount =\tTenencia de Cuenta easyMoney\n",
        "- emc_account =\tTenencia de Cuenta easyMoney Crypto\n",
        "- funds =\tTenencia de Fondos de inversión\n",
        "- loans =\tTenencia de Préstamos\n",
        "- long_term_deposit =\tTenencia de Depósitos a largo plazo\n",
        "- mortgage =\tTenencia de Mortgage\n",
        "- payroll =\tTenencia de Domiciliaciones\n",
        "- payroll_account =\tTenencia de Cuenta bonificada por domiciliaciones\n",
        "- pension_plan =\tTenencia de Plan de pensiones\n",
        "- securities =\tTenencia de Valores\n",
        "- short_term_deposit =\tTenencia de Short-term deposits"
      ],
      "metadata": {
        "id": "GAvoRxXKwYxC"
      }
    },
    {
      "cell_type": "code",
      "source": [
        "report_df(customer_products_raw)"
      ],
      "metadata": {
        "id": "W0orz5C7wYxD"
      },
      "execution_count": null,
      "outputs": []
    },
    {
      "cell_type": "code",
      "source": [
        "# ACCIONES CUSTOMER PRODUCTS\n",
        "\n",
        "# Eliminar columna Unnamed\n",
        "# Cambiar los identificadores (pk_cid) a variable categórica\n",
        "# Cambiar tipo de columnas booleanas a boolean?\n",
        "# Establecer primary key como index?\n",
        "# Gestionar nulos:\n",
        "#     payroll\n",
        "#     pension_plan\n",
        "# Eliminar em_account_pp, no hay datos\n",
        "\n",
        "# Cambiar tipo de payroll y pension_plan a int"
      ],
      "metadata": {
        "id": "iU9-7iD_wYxD"
      },
      "execution_count": null,
      "outputs": []
    },
    {
      "cell_type": "markdown",
      "source": [
        "### Análisis del target"
      ],
      "metadata": {
        "id": "N53oY9OJoonb"
      }
    },
    {
      "cell_type": "code",
      "source": [
        "# Para el modelo de propensión a compra (supervisado > clasificación) trataremos de averiguar la propensión a compra de ciertos productos de cada cliente\n",
        "# El target puede ser:\n",
        "#  - em_acount = 4.381.602  (73,48%)\n",
        "#  - debit_card = 562.968 (9,44%)\n",
        "#  - payroll_account = 329.420 (5,52%)\n",
        "#  - pension_plan = 2.178.020 (3,65%) ** Target interesante por negocio\n",
        "\n",
        "\n",
        "\n",
        "# Analizando el revenue de cada producto:\n",
        "#  - pension_plan = media >5200€ ** Target interesante por revenue\n",
        "#  - loans = media > 2000€\n",
        "#  - mortgage = media > 2000€\n",
        "#\n",
        "#\n",
        "# El producto \"pension_plan\" resulta interesante a nivel net margin, pues es el que más beneficios genera a la compañía\n",
        "\n",
        "# Hecho el primero modelo para \"pension plan\", más tarde se puede volver a lanzar con otros target de interés, por ejemplo \"debit_card\"o \"emc_account \"\n",
        "\n",
        "\n",
        "TARGET = \"pension_plan\"\n",
        "TARGET2 = 'debit_card'\n",
        "TARGET3 = 'emc_account'"
      ],
      "metadata": {
        "id": "ws9zM_QCo8jR"
      },
      "execution_count": null,
      "outputs": []
    },
    {
      "cell_type": "code",
      "source": [
        "for i in ['short_term_deposit', 'loans', 'mortgage', 'funds', 'securities','long_term_deposit', 'em_account_pp','credit_card', 'payroll', 'pension_plan', 'payroll_account','emc_account', 'debit_card', 'em_account_p', 'em_acount']:\n",
        "    suma_productos = customer_products_raw[i].sum()\n",
        "    print (f\"Suma de {i} = {suma_productos} . La media es de {round((suma_productos/customer_products_raw.shape[0])*100,2)}%\")\n"
      ],
      "metadata": {
        "id": "L4kFuFrIuS2G"
      },
      "execution_count": null,
      "outputs": []
    },
    {
      "cell_type": "markdown",
      "source": [
        "### Distribución de las variables"
      ],
      "metadata": {
        "id": "AkR5eHKSoroo"
      }
    },
    {
      "cell_type": "markdown",
      "source": [
        "#### Variables numéricas"
      ],
      "metadata": {
        "id": "IQAYnrERozyM"
      }
    },
    {
      "cell_type": "code",
      "source": [
        "for i in sales_raw.select_dtypes(include= [\"number\"]).columns:\n",
        "     print(i, sales_raw[i].value_counts())"
      ],
      "metadata": {
        "id": "r6pTWMCaw-v_"
      },
      "execution_count": null,
      "outputs": []
    },
    {
      "cell_type": "code",
      "source": [
        "for i in customer_products_raw.select_dtypes(include= [\"number\"]).columns:\n",
        "  print(i, customer_products_raw[i].value_counts())"
      ],
      "metadata": {
        "id": "qdZiOCu6E14Q"
      },
      "execution_count": null,
      "outputs": []
    },
    {
      "cell_type": "code",
      "source": [
        "for i in customer_sociodemographics_raw.select_dtypes(include= [\"number\"]).columns:\n",
        "     print(i, customer_sociodemographics_raw[i].value_counts())"
      ],
      "metadata": {
        "id": "JnY_a_BPxCVJ"
      },
      "execution_count": null,
      "outputs": []
    },
    {
      "cell_type": "markdown",
      "source": [
        "#### Variables categóricas"
      ],
      "metadata": {
        "id": "9l4ZsNp8o1dz"
      }
    },
    {
      "cell_type": "code",
      "source": [
        "for i in sales_raw.select_dtypes(exclude= [\"number\"]).columns:\n",
        "     print(i, sales_raw[i].value_counts())"
      ],
      "metadata": {
        "id": "1u-iVCklFDbi"
      },
      "execution_count": null,
      "outputs": []
    },
    {
      "cell_type": "code",
      "source": [
        "for i in customer_commercial_activity_raw.select_dtypes(exclude= [\"number\"]).columns:\n",
        "  print(i, customer_commercial_activity_raw[i].value_counts())"
      ],
      "metadata": {
        "id": "lg-xtV5VEWVO"
      },
      "execution_count": null,
      "outputs": []
    },
    {
      "cell_type": "code",
      "source": [
        "for i in customer_sociodemographics_raw.select_dtypes(exclude= [\"number\"]).columns:\n",
        "  print(i, customer_sociodemographics_raw[i].value_counts())"
      ],
      "metadata": {
        "id": "9Sc13sTPEdy-"
      },
      "execution_count": null,
      "outputs": []
    },
    {
      "cell_type": "markdown",
      "source": [
        "# 3.- PRE PROCESSING"
      ],
      "metadata": {
        "id": "F-i0SBPis5if"
      }
    },
    {
      "cell_type": "code",
      "source": [
        "def preprocesado_basico(df, cid=\"pk_cid\"):\n",
        "  # Eliminar columna Unnamed\n",
        "  df.drop(\"Unnamed: 0\", axis = 1, inplace = True)\n",
        "\n",
        "  # Renombrar columnas para alinear el naming\n",
        "  df.rename({cid: \"customer_ID\",'pk_partition':'partition_ID' },axis='columns',inplace = True)\n",
        "\n",
        "  # Cambiar a fecha la partition ID\n",
        "  df['partition_ID'] = pd.to_datetime(df['partition_ID'])"
      ],
      "metadata": {
        "id": "u6wD_6WzXIe3"
      },
      "execution_count": null,
      "outputs": []
    },
    {
      "cell_type": "code",
      "source": [
        "def setOthers(dataframe, column, num_values=5):\n",
        "    top_categories = dataframe[column].value_counts().head(num_values)\n",
        "    top_categories_list = top_categories.index.to_list()\n",
        "    top_categories_list.append('OTHERS')\n",
        "    dataframe[column] = pd.Categorical(dataframe[column], categories=top_categories_list)\n",
        "    return dataframe[column].fillna('OTHERS')"
      ],
      "metadata": {
        "id": "yuaLR0AHn2ne"
      },
      "execution_count": null,
      "outputs": []
    },
    {
      "cell_type": "code",
      "source": [
        "def comprobar_shapes(df1,df2,df_final):\n",
        "  print(\"DF1 = \" + str(df1.shape))\n",
        "  print(\"DF2 = \" + str(df2.shape))\n",
        "  print(\"DF_final = \" + str(df_final.shape))"
      ],
      "metadata": {
        "id": "cvy0XGXNZE-M"
      },
      "execution_count": null,
      "outputs": []
    },
    {
      "cell_type": "markdown",
      "source": [
        "## Sales"
      ],
      "metadata": {
        "id": "7fZaJxVHmLw9"
      }
    },
    {
      "cell_type": "code",
      "source": [
        "df_sales1 = sales_raw.copy()"
      ],
      "metadata": {
        "id": "kAYtycQl3BLe"
      },
      "execution_count": null,
      "outputs": []
    },
    {
      "cell_type": "code",
      "source": [
        "# Eliminar columna Unnamed\n",
        "df_sales1.drop(\"Unnamed: 0\", axis = 1, inplace = True)"
      ],
      "metadata": {
        "id": "lXtCqTslXgk4"
      },
      "execution_count": null,
      "outputs": []
    },
    {
      "cell_type": "code",
      "source": [
        "# Renombrar columnas para alinear el naming\n",
        "df_sales1.rename({\"cid\": \"customer_ID\",'pk_partition':'partition_ID' },axis='columns',inplace = True)"
      ],
      "metadata": {
        "id": "l0VdiY1IsBQZ"
      },
      "execution_count": null,
      "outputs": []
    },
    {
      "cell_type": "code",
      "source": [
        "#elimnar todas excepto,  month_sale, customer_id, y product_ID\n",
        "df_sales1.drop(\"pk_sale\", axis = 1, inplace = True)\n",
        "df_sales1.drop(\"net_margin\", axis = 1, inplace = True)"
      ],
      "metadata": {
        "id": "nl_7zAMTm6cW"
      },
      "execution_count": null,
      "outputs": []
    },
    {
      "cell_type": "code",
      "source": [
        "# Cambiar los identificadores (product_ID, customer_ID) a variable categórica\n",
        "df_sales1[\"product_ID\"] = df_sales1[\"product_ID\"].astype(\"object\")\n",
        "df_sales1[\"customer_ID\"] = df_sales1[\"customer_ID\"].astype(\"object\")"
      ],
      "metadata": {
        "id": "fgOoZrRfa78j"
      },
      "execution_count": null,
      "outputs": []
    },
    {
      "cell_type": "code",
      "source": [
        "# Cambiar tipo de month_sale a fecha\n",
        "\n",
        "df_sales1[\"month_sale\"] = pd.to_datetime(df_sales1[\"month_sale\"], format = \"%Y/%m/%d\")\n",
        "\n",
        "# Cambiar tipo de customer_ID a número\n",
        "\n",
        "df_sales1['customer_ID']=df_sales1['customer_ID'].astype('int')"
      ],
      "metadata": {
        "id": "-fn3EHEwsOUV"
      },
      "execution_count": null,
      "outputs": []
    },
    {
      "cell_type": "code",
      "source": [
        "df_sales1['merge_date']=df_sales1['month_sale']-pd.DateOffset(months=1)"
      ],
      "metadata": {
        "id": "RVSNYFGGE9O5"
      },
      "execution_count": null,
      "outputs": []
    },
    {
      "cell_type": "code",
      "source": [
        "# Disgregar la fecha en mes, año, día, día de la semana (otros: trimestre, fin de semana, festivo...)\n",
        "\n",
        "#df_sales1[\"month_sales\"] = df_sales1[\"month_sale\"].dt.month\n",
        "#df_sales1[\"year_sales\"] = df_sales1[\"month_sale\"].dt.year"
      ],
      "metadata": {
        "id": "mzGi2Qk8u7O1"
      },
      "execution_count": null,
      "outputs": []
    },
    {
      "cell_type": "code",
      "source": [
        "df_sales1.head()"
      ],
      "metadata": {
        "id": "OC1WvdBeGQxD"
      },
      "execution_count": null,
      "outputs": []
    },
    {
      "cell_type": "code",
      "source": [
        "report_df(df_sales1)"
      ],
      "metadata": {
        "id": "eFGYeSUAEFCp"
      },
      "execution_count": null,
      "outputs": []
    },
    {
      "cell_type": "markdown",
      "source": [
        "## Product Description"
      ],
      "metadata": {
        "id": "GKla-RYQTuc2"
      }
    },
    {
      "cell_type": "code",
      "source": [
        "product_description_1 = product_description_raw.copy()"
      ],
      "metadata": {
        "id": "AuS0WurbTwl2"
      },
      "execution_count": null,
      "outputs": []
    },
    {
      "cell_type": "code",
      "source": [
        "# Eliminar columna Unnamed\n",
        "product_description_1.drop(\"Unnamed: 0\", axis = 1, inplace = True)"
      ],
      "metadata": {
        "id": "sBD-RiJ5Ujwp"
      },
      "execution_count": null,
      "outputs": []
    },
    {
      "cell_type": "code",
      "source": [
        "report_df(product_description_1)"
      ],
      "metadata": {
        "id": "9-r2E5DwUoW-"
      },
      "execution_count": null,
      "outputs": []
    },
    {
      "cell_type": "markdown",
      "source": [
        "## Customer Sociodemographics"
      ],
      "metadata": {
        "id": "ds9YPpHoteTF"
      }
    },
    {
      "cell_type": "code",
      "source": [
        "#hacemos una copia del dataset par eliminar los deceased yes\n",
        "df_customer_soc1 = customer_sociodemographics_raw[customer_sociodemographics_raw['deceased']=='N'].copy()"
      ],
      "metadata": {
        "id": "XMe6OTdxFOBW"
      },
      "execution_count": null,
      "outputs": []
    },
    {
      "cell_type": "code",
      "source": [
        "preprocesado_basico(df_customer_soc1)"
      ],
      "metadata": {
        "id": "ukZVcaGMbcSl"
      },
      "execution_count": null,
      "outputs": []
    },
    {
      "cell_type": "code",
      "source": [
        "df_customer_soc1.drop(\"deceased\", axis = 1, inplace = True)"
      ],
      "metadata": {
        "id": "x1yDVVLGF1zO"
      },
      "execution_count": null,
      "outputs": []
    },
    {
      "cell_type": "markdown",
      "source": [
        "Gestión de nulos"
      ],
      "metadata": {
        "id": "wBQshqXPnsSB"
      }
    },
    {
      "cell_type": "code",
      "source": [
        "# Asignamos valor extremos a \"salary\", \"gender\", \"region_code\" ya que vamos a hacer un DecisionTree\n",
        "\n",
        "print(df_customer_soc1[\"salary\"].describe())\n",
        "df_customer_soc1[\"salary\"].fillna(value = 0, inplace = True)\n",
        "\n",
        "print(df_customer_soc1[\"gender\"].value_counts(normalize = True))\n",
        "df_customer_soc1[\"gender\"].fillna(value = 2, inplace = True)\n",
        "\n",
        "print(df_customer_soc1[\"region_code\"].describe())\n",
        "df_customer_soc1[\"region_code\"].fillna(value = 1000, inplace = True)"
      ],
      "metadata": {
        "id": "FCyfTmNFh4kl"
      },
      "execution_count": null,
      "outputs": []
    },
    {
      "cell_type": "markdown",
      "source": [
        "Agrupación"
      ],
      "metadata": {
        "id": "0HlSfTRPno-h"
      }
    },
    {
      "cell_type": "code",
      "source": [
        "#agrupamos country_id en ES y OTHERS\n",
        "print((df_customer_soc1[\"country_id\"].value_counts(normalize=True)*100).head())\n",
        "\n",
        "df_customer_soc1['country_id'] = setOthers(df_customer_soc1,'country_id',num_values=1)\n",
        "\n",
        "print()\n",
        "print((df_customer_soc1[\"country_id\"].value_counts(normalize=True)*100).head())\n",
        "\n",
        "#df1.drop(\"country_id\", axis = 1, inplace = True)"
      ],
      "metadata": {
        "id": "XO5PZQqghQD5"
      },
      "execution_count": null,
      "outputs": []
    },
    {
      "cell_type": "code",
      "source": [
        "df_customer_soc1.head()"
      ],
      "metadata": {
        "id": "hieCeavkGqdj"
      },
      "execution_count": null,
      "outputs": []
    },
    {
      "cell_type": "code",
      "source": [
        "report_df(df_customer_soc1)"
      ],
      "metadata": {
        "id": "fhFh23D67N8H"
      },
      "execution_count": null,
      "outputs": []
    },
    {
      "cell_type": "code",
      "source": [
        "# Añadimos información de las provincias\n",
        "df_customer_soc1 = df_customer_soc1.merge(info_provincias_raw, how = \"left\", left_on = \"region_code\", right_on = \"codigo\")"
      ],
      "metadata": {
        "id": "YtnnpqnLYh5R"
      },
      "execution_count": null,
      "outputs": []
    },
    {
      "cell_type": "code",
      "source": [
        "df_customer_soc1.isnull().sum()"
      ],
      "metadata": {
        "id": "fgkDITZ6JOrM"
      },
      "execution_count": null,
      "outputs": []
    },
    {
      "cell_type": "code",
      "source": [
        "del df_customer_soc1[\"region_code\"]\n",
        "del df_customer_soc1[\"codigo\"]"
      ],
      "metadata": {
        "id": "AzB4bNxxJQeJ"
      },
      "execution_count": null,
      "outputs": []
    },
    {
      "cell_type": "code",
      "source": [
        "df_customer_soc1.head()"
      ],
      "metadata": {
        "id": "t4WgHJGjZ_Db"
      },
      "execution_count": null,
      "outputs": []
    },
    {
      "cell_type": "code",
      "source": [
        "df_customer_soc1[\"provincia\"].fillna(value = \"No definido\", inplace = True)\n",
        "df_customer_soc1[\"renta_neta_media\"].fillna(np.mean(df_customer_soc1[\"renta_neta_media\"]), inplace = True)\n",
        "df_customer_soc1[\"renta_bruta_media\"].fillna(np.mean(df_customer_soc1[\"renta_bruta_media\"]), inplace = True)\n",
        "df_customer_soc1[\"tasa_de_paro\"].fillna(np.mean(df_customer_soc1[\"tasa_de_paro\"]), inplace = True)\n",
        "df_customer_soc1[\"tasa_de_empleo\"].fillna(np.mean(df_customer_soc1[\"tasa_de_empleo\"]), inplace = True)"
      ],
      "metadata": {
        "id": "iUs3EgwwJ7b-"
      },
      "execution_count": null,
      "outputs": []
    },
    {
      "cell_type": "markdown",
      "source": [
        "## Customer commercial activity"
      ],
      "metadata": {
        "id": "zVTVH4pI32C5"
      }
    },
    {
      "cell_type": "code",
      "source": [
        "# La cantidad de clientes inactivos son 317.179\n",
        "customer_commercial_activity_raw[customer_commercial_activity_raw[\"active_customer\"] == 0][\"pk_cid\"].nunique()"
      ],
      "metadata": {
        "id": "KN99PJf0liRq"
      },
      "execution_count": null,
      "outputs": []
    },
    {
      "cell_type": "code",
      "source": [
        "# Eliminamos los clientes inactivos del dataset al no ser target\n",
        "df_cust_com_act1 = customer_commercial_activity_raw[customer_commercial_activity_raw['active_customer']==1].copy()"
      ],
      "metadata": {
        "id": "WjmgnDpg4kfs"
      },
      "execution_count": null,
      "outputs": []
    },
    {
      "cell_type": "code",
      "source": [
        "preprocesado_basico(df_cust_com_act1)"
      ],
      "metadata": {
        "id": "73D4b19dHAhC"
      },
      "execution_count": null,
      "outputs": []
    },
    {
      "cell_type": "code",
      "source": [
        "# Creamos la variable \"Antiguedad\" restando la última fecha de partition por el entry_date\n",
        "df_cust_com_act1['antiguedad']=pd.to_datetime(df_cust_com_act1['partition_ID'].max())-pd.to_datetime(df_cust_com_act1['entry_date'])"
      ],
      "metadata": {
        "id": "R47KUE2IMxno"
      },
      "execution_count": null,
      "outputs": []
    },
    {
      "cell_type": "code",
      "source": [
        "df_cust_com_act1['antiguedad']=df_cust_com_act1['antiguedad'].astype(int)/86400000000000"
      ],
      "metadata": {
        "id": "JMCLf4_vOxPy"
      },
      "execution_count": null,
      "outputs": []
    },
    {
      "cell_type": "code",
      "source": [
        "df_cust_com_act1.drop(\"active_customer\", axis = 1, inplace = True)\n",
        "df_cust_com_act1.drop(\"entry_date\", axis = 1, inplace = True)"
      ],
      "metadata": {
        "id": "Z8ZwmRhPQ3my"
      },
      "execution_count": null,
      "outputs": []
    },
    {
      "cell_type": "markdown",
      "source": [
        "Gestión de nulos"
      ],
      "metadata": {
        "id": "XPU5KdcznMEz"
      }
    },
    {
      "cell_type": "code",
      "source": [
        "# Función para imputar nulos de Segment y Entry Channel\n",
        "\n",
        "def imputacion_nulos(df,col):\n",
        "  # Array con los ids que tienen nulos\n",
        "  ids_null_unique = df[(df[col].isnull()==True)]['customer_ID'].unique()\n",
        "  # Dataframe donde revisamos si en la última carga de datos hay un valor para los ids que tienen \"entry_channel\" nulo.\n",
        "  valores_nulos = df[(df.customer_ID.isin(ids_null_unique))&(df[col].notnull())&(df['partition_ID']== \"2019-05\")][['customer_ID',col]]\n",
        "  # Si el id con \"entry_channel\" nulo tenía un valor correcto en la última partition, se lo asignaremos a los valores nulos.\n",
        "  dict_nulos = dict(zip(valores_nulos['customer_ID'],valores_nulos[col]))\n",
        "  df.set_index('customer_ID',inplace = True)\n",
        "  # Imputamos los últimos valores registrados correctamente en \"segment\" y \"entry_channel\"\n",
        "  df[col].fillna(dict_nulos,inplace=True)\n",
        "  df.reset_index(inplace = True)"
      ],
      "metadata": {
        "id": "eCIrGFtQjd3q"
      },
      "execution_count": null,
      "outputs": []
    },
    {
      "cell_type": "code",
      "source": [
        "imputacion_nulos(df_cust_com_act1,col = 'segment')"
      ],
      "metadata": {
        "id": "Mw9A0Lt6mA-X"
      },
      "execution_count": null,
      "outputs": []
    },
    {
      "cell_type": "code",
      "source": [
        "imputacion_nulos(df_cust_com_act1,col = 'entry_channel')"
      ],
      "metadata": {
        "id": "7iw4ZuYlmF2F"
      },
      "execution_count": null,
      "outputs": []
    },
    {
      "cell_type": "code",
      "source": [
        "# Imputación de valores extremos a los nulos que no se han podido deducir por el histórico\n",
        "df_cust_com_act1['segment'].fillna(value='04 - NO SEGMENT',inplace=True)\n",
        "df_cust_com_act1['entry_channel'].fillna(value='ZZZ',inplace=True)"
      ],
      "metadata": {
        "id": "zgECnFYkiNpt"
      },
      "execution_count": null,
      "outputs": []
    },
    {
      "cell_type": "markdown",
      "source": [
        "Agrupación"
      ],
      "metadata": {
        "id": "zufCQ02qnQrZ"
      }
    },
    {
      "cell_type": "code",
      "source": [
        "df_cust_com_act1['entry_channel']=setOthers(df_cust_com_act1,'entry_channel',num_values=13)"
      ],
      "metadata": {
        "id": "W39RS0cEiNpu"
      },
      "execution_count": null,
      "outputs": []
    },
    {
      "cell_type": "code",
      "source": [
        "df_cust_com_act1.head()"
      ],
      "metadata": {
        "id": "nq6u9vd2Ymqf"
      },
      "execution_count": null,
      "outputs": []
    },
    {
      "cell_type": "code",
      "source": [
        "report_df(df_cust_com_act1)"
      ],
      "metadata": {
        "id": "hrWDl12sfg6j"
      },
      "execution_count": null,
      "outputs": []
    },
    {
      "cell_type": "markdown",
      "source": [
        "## Customer products"
      ],
      "metadata": {
        "id": "RzghG4Wd6nCB"
      }
    },
    {
      "cell_type": "code",
      "source": [
        "df_cust_prod1 = customer_products_raw.copy()"
      ],
      "metadata": {
        "id": "KwE6gfY8HXe5"
      },
      "execution_count": null,
      "outputs": []
    },
    {
      "cell_type": "code",
      "source": [
        "preprocesado_basico(df_cust_prod1)"
      ],
      "metadata": {
        "id": "beWnySGaf5we"
      },
      "execution_count": null,
      "outputs": []
    },
    {
      "cell_type": "code",
      "source": [
        "# Eliminamos el Target de la tabla, lo crearemos a posteriori\n",
        "\n",
        "df_cust_prod1.drop(\"pension_plan\", axis = 1, inplace = True)"
      ],
      "metadata": {
        "id": "bacglzPOHnSS"
      },
      "execution_count": null,
      "outputs": []
    },
    {
      "cell_type": "code",
      "source": [
        "# Eliminamos variables de baja varianza\n",
        "\n",
        "print(df_cust_prod1[\"em_account_p\"].value_counts(normalize = True)*100)\n",
        "print(df_cust_prod1[\"em_account_pp\"].value_counts(normalize = True)*100)\n",
        "\n",
        "del df_cust_prod1['em_account_pp']\n",
        "del df_cust_prod1['em_account_p']"
      ],
      "metadata": {
        "id": "ZBOZ29xSgdhN"
      },
      "execution_count": null,
      "outputs": []
    },
    {
      "cell_type": "code",
      "source": [
        "# Eliminamos valores nulos de \"payroll\"\n",
        "\n",
        "df_cust_prod1.dropna(subset = ['payroll'], inplace = True)"
      ],
      "metadata": {
        "id": "sA1cHrgpgOjm"
      },
      "execution_count": null,
      "outputs": []
    },
    {
      "cell_type": "code",
      "source": [
        "# Cambiamos el type de las variables con float a int\n",
        "\n",
        "df_cust_prod1['payroll'] = df_cust_prod1[['payroll']].applymap(int)"
      ],
      "metadata": {
        "id": "7djTB9us4Bg1"
      },
      "execution_count": null,
      "outputs": []
    },
    {
      "cell_type": "code",
      "source": [
        "df_cust_prod1.head()"
      ],
      "metadata": {
        "id": "GwVo0NuDrwZC"
      },
      "execution_count": null,
      "outputs": []
    },
    {
      "cell_type": "code",
      "source": [
        "report_df(df_cust_prod1)"
      ],
      "metadata": {
        "id": "2OESBXaqGVlr"
      },
      "execution_count": null,
      "outputs": []
    },
    {
      "cell_type": "markdown",
      "source": [
        "## Merge de tablas"
      ],
      "metadata": {
        "id": "ViJUCY8HU7e9"
      }
    },
    {
      "cell_type": "markdown",
      "source": [
        "###  Customer sociodemographics + Commercial Activity"
      ],
      "metadata": {
        "id": "ecGpKhwjVBDm"
      }
    },
    {
      "cell_type": "code",
      "source": [
        "#Merge de customer_commercial_activity y customer_sociodemografics, customer_products lo dejamos para más tarde\n",
        "#Hacemos un left join con la tabla customer_commercial activity primero ya que tiene menos filas y son los clientes activos\n",
        "\n",
        "df1_raw=df_cust_com_act1.merge(df_customer_soc1,how=\"left\", on=[\"customer_ID\",\"partition_ID\"])"
      ],
      "metadata": {
        "id": "tKmQ3p9JiNpt"
      },
      "execution_count": null,
      "outputs": []
    },
    {
      "cell_type": "code",
      "source": [
        "df1_raw.head()"
      ],
      "metadata": {
        "id": "tFRSMPCw-E-M"
      },
      "execution_count": null,
      "outputs": []
    },
    {
      "cell_type": "code",
      "source": [
        "comprobar_shapes(df_cust_com_act1,df_customer_soc1,df1_raw)"
      ],
      "metadata": {
        "id": "qwr92pB3-2Po"
      },
      "execution_count": null,
      "outputs": []
    },
    {
      "cell_type": "code",
      "source": [
        "df1_raw.isnull().sum()"
      ],
      "metadata": {
        "id": "yzxMQve2eW6t"
      },
      "execution_count": null,
      "outputs": []
    },
    {
      "cell_type": "code",
      "source": [
        "# Los 718 nulos son los deceased que todavía estaban activos. Los eliminamos por no ser target\n",
        "df1_raw.dropna(inplace = True)"
      ],
      "metadata": {
        "id": "S0b1vz1Ge3an"
      },
      "execution_count": null,
      "outputs": []
    },
    {
      "cell_type": "markdown",
      "source": [
        "### '+Sales"
      ],
      "metadata": {
        "id": "Dw_Nra4Lhcg_"
      }
    },
    {
      "cell_type": "code",
      "source": [
        "#hago merge de df_sales_1 que tiene 240773 filas ( son todas las compras) con la tabla df1 que es la información de clientes a fecha de venta con la partitio_ID de la table df1.\n",
        "#la fecha merge_date la utilizaré para mergear con la tabla de customer_products proque quiero la información de un mes antes para que el modelo prediga mejor"
      ],
      "metadata": {
        "id": "uYNkj6T4cXax"
      },
      "execution_count": null,
      "outputs": []
    },
    {
      "cell_type": "code",
      "source": [
        "df_total1 = df_sales1.merge(df1_raw, how = \"left\", left_on= ['customer_ID',\"month_sale\"], right_on = ['customer_ID', 'partition_ID'])"
      ],
      "metadata": {
        "id": "p35zmq30Yj9s"
      },
      "execution_count": null,
      "outputs": []
    },
    {
      "cell_type": "code",
      "source": [
        "comprobar_shapes(df_sales1,df1_raw,df_total1)"
      ],
      "metadata": {
        "id": "i82ono_PngVc"
      },
      "execution_count": null,
      "outputs": []
    },
    {
      "cell_type": "code",
      "source": [
        "df_sales1.head()"
      ],
      "metadata": {
        "id": "0Czwiv_7akpW"
      },
      "execution_count": null,
      "outputs": []
    },
    {
      "cell_type": "code",
      "source": [
        "df_total1.isnull().sum()"
      ],
      "metadata": {
        "id": "Ocp8MQyddZPX"
      },
      "execution_count": null,
      "outputs": []
    },
    {
      "cell_type": "code",
      "source": [
        "#Los nulos son pedidos de clientes que o han fallecido o no están activos, con lo cual los eliminamos"
      ],
      "metadata": {
        "id": "hYAxVPW7dp-4"
      },
      "execution_count": null,
      "outputs": []
    },
    {
      "cell_type": "code",
      "source": [
        "df_total1.dropna( inplace = True)"
      ],
      "metadata": {
        "id": "NDkzsbT9d8X_"
      },
      "execution_count": null,
      "outputs": []
    },
    {
      "cell_type": "markdown",
      "source": [
        "### '+ Customer products"
      ],
      "metadata": {
        "id": "wseaBTa1h5GK"
      }
    },
    {
      "cell_type": "code",
      "source": [
        "#hacemos merge de la tabla sales y la tabla customer products con merge_date y partition_id\n",
        "\n",
        "df_total2 = df_total1.merge(df_cust_prod1, how = \"left\",  left_on= ['customer_ID',\"merge_date\"], right_on = ['customer_ID', 'partition_ID'])"
      ],
      "metadata": {
        "id": "laXtTGrkh7L_"
      },
      "execution_count": null,
      "outputs": []
    },
    {
      "cell_type": "code",
      "source": [
        "comprobar_shapes(df_total1,df_cust_prod1,df_total2)"
      ],
      "metadata": {
        "id": "vfiWvETpnYQm"
      },
      "execution_count": null,
      "outputs": []
    },
    {
      "cell_type": "code",
      "source": [
        "# Los nulos que encontramos son nuevos clientes, que para la tabla cruzada con month-1, en el mes anterior no tenían datos\n",
        "df_total2.isnull().sum()"
      ],
      "metadata": {
        "id": "lzf2qdYukKMT"
      },
      "execution_count": null,
      "outputs": []
    },
    {
      "cell_type": "code",
      "source": [
        "# Eliminamos las variables que hemos utilizado para el merge y ya no necesitamos\n",
        "df_total2.drop(\"partition_ID_x\", axis = 1, inplace = True)\n",
        "df_total2.drop(\"partition_ID_y\", axis = 1, inplace = True)\n",
        "df_total2.drop(\"merge_date\", axis = 1, inplace = True)"
      ],
      "metadata": {
        "id": "QGioXBt_Br1h"
      },
      "execution_count": null,
      "outputs": []
    },
    {
      "cell_type": "code",
      "source": [
        "#los nulos en los productos los rellenamos con 0 porque esos cliente no debían exitir en esa fecha\n",
        "df_total2.fillna(value = 0, inplace = True)"
      ],
      "metadata": {
        "id": "Okg_xMm-kixM"
      },
      "execution_count": null,
      "outputs": []
    },
    {
      "cell_type": "markdown",
      "source": [
        "## Procesamiento de variables del df mergeado"
      ],
      "metadata": {
        "id": "xu9T7n2sxz4Z"
      }
    },
    {
      "cell_type": "code",
      "source": [
        "# Reordenación del dataset\n",
        "df_total2 = df_total2.reindex(columns=[\n",
        "              'month_sale',\n",
        "              'product_ID',\n",
        "              'customer_ID',\n",
        "              'antiguedad',\n",
        "              'entry_channel',\n",
        "              'segment',\n",
        "              'country_id',\n",
        "              'gender',\n",
        "              'age',\n",
        "              'salary',\n",
        "              'provincia',\n",
        "              'renta_neta_media',\n",
        "              'renta_bruta_media',\n",
        "              'tasa_de_paro',\n",
        "              'tasa_de_empleo',\n",
        "              'short_term_deposit',\n",
        "              'loans',\n",
        "              'mortgage',\n",
        "              'funds',\n",
        "              'securities',\n",
        "              'long_term_deposit',\n",
        "              'credit_card',\n",
        "              'payroll',\n",
        "              'payroll_account',\n",
        "              'emc_account',\n",
        "              'debit_card',\n",
        "              'em_acount',\n",
        "              ])"
      ],
      "metadata": {
        "id": "6JzOr6X0p3R2"
      },
      "execution_count": null,
      "outputs": []
    },
    {
      "cell_type": "code",
      "source": [
        "df_pre = df_total2.copy()"
      ],
      "metadata": {
        "id": "liAAdgily2E8"
      },
      "execution_count": null,
      "outputs": []
    },
    {
      "cell_type": "code",
      "source": [
        "# Disgregamos la variable de \"month_sale\" y eliminamos la variable de fecha\n",
        "df_pre['sale_month'] = df_pre['month_sale'].dt.month\n",
        "df_pre['sale_year'] = df_pre['month_sale'].dt.year\n",
        "df_pre['sale_wday'] = df_pre['month_sale'].dt.weekday\n",
        "df_pre['sale_day'] = df_pre['month_sale'].dt.day\n",
        "\n",
        "del df_pre['month_sale']"
      ],
      "metadata": {
        "id": "TNwG0uaPkh3i"
      },
      "execution_count": null,
      "outputs": []
    },
    {
      "cell_type": "code",
      "source": [
        "df_pre.head().T"
      ],
      "metadata": {
        "id": "ugSSHDlEM3Fs"
      },
      "execution_count": null,
      "outputs": []
    },
    {
      "cell_type": "code",
      "source": [
        "df_pre.info()"
      ],
      "metadata": {
        "id": "sCV-4O786dcH"
      },
      "execution_count": null,
      "outputs": []
    },
    {
      "cell_type": "markdown",
      "source": [
        "### Transformación de categóricas"
      ],
      "metadata": {
        "id": "gIbXGBctBJgx"
      }
    },
    {
      "cell_type": "code",
      "source": [
        "def OHE(dataframe, column_name):\n",
        "    _dummy_dataset = pd.get_dummies(dataframe[column_name], prefix=column_name)\n",
        "    dataframe = pd.concat([dataframe, _dummy_dataset], axis=1)\n",
        "    return dataframe.drop(column_name, axis=1)"
      ],
      "metadata": {
        "id": "1s6rdVT0u8LY"
      },
      "execution_count": null,
      "outputs": []
    },
    {
      "cell_type": "code",
      "source": [
        "# OHE \"product_ID\"\n",
        "\n",
        "df_pre = OHE(df_pre, \"product_ID\")"
      ],
      "metadata": {
        "id": "9UujYrw6iCLn"
      },
      "execution_count": null,
      "outputs": []
    },
    {
      "cell_type": "code",
      "source": [
        "# OHE \"entry_channel\"\n",
        "\n",
        "df_pre = OHE(df_pre, \"entry_channel\")"
      ],
      "metadata": {
        "id": "7GucpqgKBJDL"
      },
      "execution_count": null,
      "outputs": []
    },
    {
      "cell_type": "code",
      "source": [
        "# OHE segment\n",
        "\n",
        "df_pre = OHE(df_pre, \"segment\")"
      ],
      "metadata": {
        "id": "jnZjd1ILBckE"
      },
      "execution_count": null,
      "outputs": []
    },
    {
      "cell_type": "code",
      "source": [
        "# OHE country_id\n",
        "df_pre = OHE(df_pre, \"country_id\")"
      ],
      "metadata": {
        "id": "4O4bb8eA1__0"
      },
      "execution_count": null,
      "outputs": []
    },
    {
      "cell_type": "code",
      "source": [
        "# OHE region_code\n",
        "df_pre = OHE(df_pre, \"provincia\")"
      ],
      "metadata": {
        "id": "FsqXJrmLmYMu"
      },
      "execution_count": null,
      "outputs": []
    },
    {
      "cell_type": "code",
      "source": [
        "# gender --> 1 = Hembras, 0 = Varones, 2 = Nulos\n",
        "\n",
        "df_pre[\"gender\"] = df_pre[\"gender\"].replace(\"H\", 1) # H es de Hembras\n",
        "df_pre[\"gender\"] = df_pre[\"gender\"].replace(\"V\", 0) # V es de Varones"
      ],
      "metadata": {
        "id": "3C6lMd14Bj_u"
      },
      "execution_count": null,
      "outputs": []
    },
    {
      "cell_type": "code",
      "source": [
        "df_pre.info(verbose=True)"
      ],
      "metadata": {
        "id": "g2311aV6Do5p"
      },
      "execution_count": null,
      "outputs": []
    },
    {
      "cell_type": "code",
      "source": [
        "# df_final=df_pre.to_pickle('/content/drive/MyDrive/TFM  Data Science/df_preprocesado') # Eva\n",
        "# df_final=df_pre.to_pickle('/content/drive/MyDrive/NUCLIO/TFM  Data Science/df_preprocesado') # Ricard\n",
        "df_final=df_pre.to_pickle('/content/drive/MyDrive/Master_DS/TFM_Data_Science/df_preprocesado') # Culebra"
      ],
      "metadata": {
        "id": "2P2ZSJNv4k6G"
      },
      "execution_count": null,
      "outputs": []
    },
    {
      "cell_type": "code",
      "source": [
        "# df_final=pd.read_pickle('/content/drive/MyDrive/TFM  Data Science/df_preprocesado')# Eva\n",
        "# df_final=pd.read_pickle('/content/drive/MyDrive/NUCLIO/TFM  Data Science/df_preprocesado') # Ricard\n",
        "df_final=pd.read_pickle('/content/drive/MyDrive/Master_DS/TFM_Data_Science/df_preprocesado')"
      ],
      "metadata": {
        "id": "5aoTekSo4k2T"
      },
      "execution_count": null,
      "outputs": []
    },
    {
      "cell_type": "markdown",
      "source": [
        "#### Correlación variables"
      ],
      "metadata": {
        "id": "Q3S1xpwv_YJO"
      }
    },
    {
      "cell_type": "code",
      "source": [
        "corr=df_final.corr()"
      ],
      "metadata": {
        "id": "-eZGCUUD_Xc0"
      },
      "execution_count": null,
      "outputs": []
    },
    {
      "cell_type": "code",
      "source": [
        "corr2=corr.where(np.triu(np.ones(corr.shape), k=1).astype(bool))"
      ],
      "metadata": {
        "id": "EQbjWR9RBBrc"
      },
      "execution_count": null,
      "outputs": []
    },
    {
      "cell_type": "code",
      "source": [
        "corr2.stack().sort_values()"
      ],
      "metadata": {
        "id": "hh3WP81SBBju"
      },
      "execution_count": null,
      "outputs": []
    },
    {
      "cell_type": "code",
      "source": [
        "corr3=corr2.unstack().dropna()"
      ],
      "metadata": {
        "id": "usjeZ_HWBBbi"
      },
      "execution_count": null,
      "outputs": []
    },
    {
      "cell_type": "code",
      "source": [
        "corr4 = corr3.sort_values()"
      ],
      "metadata": {
        "id": "V3Xlynx6BNZF"
      },
      "execution_count": null,
      "outputs": []
    },
    {
      "cell_type": "code",
      "source": [
        "pd.set_option('display.max_rows',None)"
      ],
      "metadata": {
        "id": "MYL7UNcfBNQQ"
      },
      "execution_count": null,
      "outputs": []
    },
    {
      "cell_type": "code",
      "source": [
        "corr4"
      ],
      "metadata": {
        "id": "43CYKWp8BNG2"
      },
      "execution_count": null,
      "outputs": []
    },
    {
      "cell_type": "code",
      "source": [
        "#Eliminar entry_channel_ZZZ, provincia_No definido,country_id_OTHERS\n"
      ],
      "metadata": {
        "id": "c54soI107Pri"
      },
      "execution_count": null,
      "outputs": []
    },
    {
      "cell_type": "markdown",
      "source": [
        "## Ajustamos el data set para el TARGET \"pension plan\""
      ],
      "metadata": {
        "id": "QgHl4CYI4NVf"
      }
    },
    {
      "cell_type": "code",
      "source": [
        "del df_final['entry_channel_ZZZ']"
      ],
      "metadata": {
        "id": "SFGmwvkRC7Kn"
      },
      "execution_count": null,
      "outputs": []
    },
    {
      "cell_type": "code",
      "source": [
        "del df_final['country_id_OTHERS']"
      ],
      "metadata": {
        "id": "xs83j2Al8Wil"
      },
      "execution_count": null,
      "outputs": []
    },
    {
      "cell_type": "code",
      "source": [
        "del df_final['provincia_No definido']"
      ],
      "metadata": {
        "id": "-fQJnhM3V-Yb"
      },
      "execution_count": null,
      "outputs": []
    },
    {
      "cell_type": "code",
      "source": [
        "for i in [\"product_ID_1119\",\"product_ID_2234\",\"product_ID_2235\",\"product_ID_2312\",\"product_ID_2335\",\n",
        "          \"product_ID_2336\",\"product_ID_2673\",\"product_ID_3819\",\"product_ID_4033\",\"product_ID_4657\",\n",
        "          \"product_ID_8871\",\"product_ID_9001\"]:\n",
        "          del df_final[i]"
      ],
      "metadata": {
        "id": "D1WSkDXxbC0o"
      },
      "execution_count": null,
      "outputs": []
    },
    {
      "cell_type": "code",
      "source": [
        "TARGET = 'product_ID_1364'"
      ],
      "metadata": {
        "id": "7bCnTpOS6vLo"
      },
      "execution_count": null,
      "outputs": []
    },
    {
      "cell_type": "code",
      "source": [
        "df_final['product_ID_1364'].value_counts(normalize = True)"
      ],
      "metadata": {
        "id": "OZDFIBBi76Jf"
      },
      "execution_count": null,
      "outputs": []
    },
    {
      "cell_type": "code",
      "source": [
        "df_final=df_final.set_index(\"customer_ID\")"
      ],
      "metadata": {
        "id": "uV16G4xqNwXy"
      },
      "execution_count": null,
      "outputs": []
    },
    {
      "cell_type": "code",
      "source": [
        "df_final.head()"
      ],
      "metadata": {
        "id": "Lq0352rmNrVi"
      },
      "execution_count": null,
      "outputs": []
    },
    {
      "cell_type": "code",
      "source": [
        "# Un 9.9% de las ventas realizadas corresponden a planes de pensiones"
      ],
      "metadata": {
        "id": "kXoUfxus_8JA"
      },
      "execution_count": null,
      "outputs": []
    },
    {
      "cell_type": "code",
      "source": [
        "# Por curiosidad consultamos este dato para los TARGET1 y TARGET2 propuestos provisionales (debit card y emc_account)\n",
        "#df_final['product_ID_3819'].value_counts(normalize = True)"
      ],
      "metadata": {
        "id": "nXKuWgQdWcRY"
      },
      "execution_count": null,
      "outputs": []
    },
    {
      "cell_type": "code",
      "source": [
        "#df_final['product_ID_8871'].value_counts(normalize = True)"
      ],
      "metadata": {
        "id": "cfGgg4a5WcHb"
      },
      "execution_count": null,
      "outputs": []
    },
    {
      "cell_type": "markdown",
      "source": [
        "## Partición train/test/validation"
      ],
      "metadata": {
        "id": "mWqTQSDnJE2s"
      }
    },
    {
      "cell_type": "code",
      "source": [
        "df_final.columns"
      ],
      "metadata": {
        "id": "h8-78JQ3iIMN"
      },
      "execution_count": null,
      "outputs": []
    },
    {
      "cell_type": "code",
      "source": [
        "COLUMNS_TO_DROP = ['renta_neta_media',\n",
        "                   'tasa_de_paro'\n",
        "                   ]"
      ],
      "metadata": {
        "id": "MiX9hI7tiMY5"
      },
      "execution_count": null,
      "outputs": []
    },
    {
      "cell_type": "code",
      "source": [
        "df_final.drop(COLUMNS_TO_DROP, inplace = True, axis = 1)"
      ],
      "metadata": {
        "id": "GE8KLR97iHfn"
      },
      "execution_count": null,
      "outputs": []
    },
    {
      "cell_type": "code",
      "source": [
        "# La partición de validación tiene que ser lo más parecida a la realidad posible, un % del dataset siempre mayor de 1000 filas. tenemos 240.773 en total\n",
        "# Tomaremos para validación el último mes registrado, mayo de 2019, y el resto de datos para train/test. Si vemos que los números descuadran mucho se propone otra división."
      ],
      "metadata": {
        "id": "zVtVQpA_JB2_"
      },
      "execution_count": null,
      "outputs": []
    },
    {
      "cell_type": "code",
      "source": [
        "# Partición de validación y develop\n",
        "val_df = df_final[(df_final['sale_year']==2019) & (df_final['sale_month']==5)]\n",
        "dev_df = df_final[~((df_final['sale_year'] == 2019) & (df_final['sale_month'] == 5))]"
      ],
      "metadata": {
        "id": "GXAAD0DfR69v"
      },
      "execution_count": null,
      "outputs": []
    },
    {
      "cell_type": "code",
      "source": [
        "val_df.shape # No es un mal número para validar, unos 10k registros"
      ],
      "metadata": {
        "id": "M3XygM6s9z17"
      },
      "execution_count": null,
      "outputs": []
    },
    {
      "cell_type": "code",
      "source": [
        "dev_df.shape # Buen número para train-test, 230k registros"
      ],
      "metadata": {
        "id": "-xvCy4az93Lu"
      },
      "execution_count": null,
      "outputs": []
    },
    {
      "cell_type": "code",
      "source": [
        "val_df_y = val_df[[TARGET]]\n",
        "\n",
        "val_df_X = val_df.drop(TARGET,axis=1)"
      ],
      "metadata": {
        "id": "6O-zGAznR-7h"
      },
      "execution_count": null,
      "outputs": []
    },
    {
      "cell_type": "markdown",
      "source": [
        "# Rebalanceo del dataset"
      ],
      "metadata": {
        "id": "n_-85MANm-X9"
      }
    },
    {
      "cell_type": "code",
      "source": [
        "dev_df_zero = dev_df[dev_df[TARGET] == 0]"
      ],
      "metadata": {
        "id": "U-q2Krs8nCkf"
      },
      "execution_count": null,
      "outputs": []
    },
    {
      "cell_type": "code",
      "source": [
        "dev_df_nonzero = dev_df[dev_df[TARGET] > 0]"
      ],
      "metadata": {
        "id": "gbZaDBtXnCh7"
      },
      "execution_count": null,
      "outputs": []
    },
    {
      "cell_type": "code",
      "source": [
        "dev_df_zero.info(verbose = False)"
      ],
      "metadata": {
        "id": "zKvdPdBJnCft"
      },
      "execution_count": null,
      "outputs": []
    },
    {
      "cell_type": "code",
      "source": [
        "dev_df_nonzero.info(verbose = False)"
      ],
      "metadata": {
        "id": "sukwQOYUnCdb"
      },
      "execution_count": null,
      "outputs": []
    },
    {
      "cell_type": "code",
      "source": [
        "len(dev_df_nonzero)*1"
      ],
      "metadata": {
        "id": "mUKpsJJVrCRp"
      },
      "execution_count": null,
      "outputs": []
    },
    {
      "cell_type": "code",
      "source": [
        "n_sample = len(dev_df_nonzero)*1 #equivale a una proporción de 50% - 50% : 53511"
      ],
      "metadata": {
        "id": "9eEYKzSWqRAd"
      },
      "execution_count": null,
      "outputs": []
    },
    {
      "cell_type": "code",
      "source": [
        "dev_df_zero_sample = dev_df_zero.sample(n = n_sample, random_state = 42)"
      ],
      "metadata": {
        "id": "ztJ3fsGTqQ-e"
      },
      "execution_count": null,
      "outputs": []
    },
    {
      "cell_type": "code",
      "source": [
        "dev_df_zero_sample.info(verbose = False)"
      ],
      "metadata": {
        "id": "NBhziKYvqQ8O"
      },
      "execution_count": null,
      "outputs": []
    },
    {
      "cell_type": "code",
      "source": [
        "df_dev_sample = pd.concat([dev_df_nonzero,dev_df_zero_sample])"
      ],
      "metadata": {
        "id": "4-NJFF8KqQ6D"
      },
      "execution_count": null,
      "outputs": []
    },
    {
      "cell_type": "code",
      "source": [
        "df_dev_sample.info(verbose = False)"
      ],
      "metadata": {
        "id": "V76S4-Nsq9qI"
      },
      "execution_count": null,
      "outputs": []
    },
    {
      "cell_type": "code",
      "source": [
        "df_dev_sample[TARGET].value_counts(normalize = True)"
      ],
      "metadata": {
        "id": "2dBkL8cxrSn2"
      },
      "execution_count": null,
      "outputs": []
    },
    {
      "cell_type": "markdown",
      "source": [
        "### Train y Test 2"
      ],
      "metadata": {
        "id": "-m3VOLN4sToh"
      }
    },
    {
      "cell_type": "code",
      "source": [
        "dev_df_y = df_dev_sample[[TARGET]]\n",
        "\n",
        "dev_df_x = df_dev_sample.drop(TARGET,axis=1)"
      ],
      "metadata": {
        "id": "xIeK5ZgQslgo"
      },
      "execution_count": null,
      "outputs": []
    },
    {
      "cell_type": "code",
      "source": [
        "#20% del dataset de development para test"
      ],
      "metadata": {
        "id": "J9ktCuEKsToi"
      },
      "execution_count": null,
      "outputs": []
    },
    {
      "cell_type": "code",
      "source": [
        "X_train, X_test, y_train, y_test = model_selection.train_test_split(dev_df_x, dev_df_y, test_size=0.2, random_state=42)"
      ],
      "metadata": {
        "id": "85l2quVUsToi"
      },
      "execution_count": null,
      "outputs": []
    },
    {
      "cell_type": "code",
      "source": [
        "#Comprobar que la distribución de ambas particiones es parecida (media, percentiles y distrribución std). Si no lo es, cambiamos el random state o utilizamos k.fold"
      ],
      "metadata": {
        "id": "v4VnF2yUsToi"
      },
      "execution_count": null,
      "outputs": []
    },
    {
      "cell_type": "code",
      "source": [
        "X_train.describe().T.head()"
      ],
      "metadata": {
        "id": "pzFYp7TRsToi"
      },
      "execution_count": null,
      "outputs": []
    },
    {
      "cell_type": "code",
      "source": [
        "X_test.describe().T.head()"
      ],
      "metadata": {
        "id": "AXnDOFEHsToi"
      },
      "execution_count": null,
      "outputs": []
    },
    {
      "cell_type": "markdown",
      "source": [
        "# 4.- Modelling 2"
      ],
      "metadata": {
        "id": "UDXOprzktTGI"
      }
    },
    {
      "cell_type": "markdown",
      "source": [
        "## Decission Tree"
      ],
      "metadata": {
        "id": "tsyX_I6dtTGI"
      }
    },
    {
      "cell_type": "code",
      "source": [
        "#Instanciamos el modelo\n",
        "dt = DecisionTreeClassifier(max_depth=8,random_state=42, min_samples_leaf=100)"
      ],
      "metadata": {
        "id": "MHQLo_8NtTGI"
      },
      "execution_count": null,
      "outputs": []
    },
    {
      "cell_type": "code",
      "source": [
        "#lo entrenamos con el dataset de train\n",
        "dt.fit(X=X_train,y=y_train)"
      ],
      "metadata": {
        "id": "dAf9AcCItTGJ"
      },
      "execution_count": null,
      "outputs": []
    },
    {
      "cell_type": "code",
      "source": [
        "#lo pintamos\n",
        "tree_data=export_graphviz(\n",
        "    decision_tree=dt,\n",
        "    out_file=None,\n",
        "    max_depth=None,\n",
        "    feature_names=X_test.columns,\n",
        "    class_names=['no_pension_plan','pension_plan'],\n",
        "    label=\"all\",\n",
        "    filled=True,\n",
        "    leaves_parallel=False,\n",
        "    impurity=True,\n",
        "    node_ids=False,\n",
        "    proportion=False,\n",
        "    rotate=True,\n",
        "    rounded=True,\n",
        "    special_characters=False,\n",
        "    precision=3,\n",
        "    fontname=\"helvetica\",\n",
        ")"
      ],
      "metadata": {
        "id": "RrkWkY9AtTGJ"
      },
      "execution_count": null,
      "outputs": []
    },
    {
      "cell_type": "code",
      "source": [
        "graphviz.Source(tree_data)"
      ],
      "metadata": {
        "id": "Hnzk5cLWtTGJ"
      },
      "execution_count": null,
      "outputs": []
    },
    {
      "cell_type": "code",
      "source": [
        "#generamos predicciones y evaluamos el modelo\n",
        "y_test_pred = pd.DataFrame(dt.predict(X_test),index=y_test.index,columns=['pension_plan_prediction'])"
      ],
      "metadata": {
        "id": "f0xXmTx8tTGJ"
      },
      "execution_count": null,
      "outputs": []
    },
    {
      "cell_type": "code",
      "source": [
        "#join de y_test y y_test_pred para comparar el resultado real con la predicción\n",
        "result_df=y_test.join(y_test_pred,how='inner')"
      ],
      "metadata": {
        "id": "aq7vR_t6tTGJ"
      },
      "execution_count": null,
      "outputs": []
    },
    {
      "cell_type": "code",
      "source": [
        "result_df['Success']=(result_df['product_ID_1364']==result_df['pension_plan_prediction']).astype(int)"
      ],
      "metadata": {
        "id": "I6_myBSvtTGJ"
      },
      "execution_count": null,
      "outputs": []
    },
    {
      "cell_type": "code",
      "source": [
        "result_df.head()"
      ],
      "metadata": {
        "id": "YdjwyymuaHx4"
      },
      "execution_count": null,
      "outputs": []
    },
    {
      "cell_type": "code",
      "source": [
        "dt.score(X_test, y_test)"
      ],
      "metadata": {
        "id": "6ZH9Pc7o681T"
      },
      "execution_count": null,
      "outputs": []
    },
    {
      "cell_type": "code",
      "source": [
        "metrics.accuracy_score(y_test,y_test_pred)"
      ],
      "metadata": {
        "id": "uafhcqgY3x_f"
      },
      "execution_count": null,
      "outputs": []
    },
    {
      "cell_type": "code",
      "source": [
        "# El modelo más tonto predicirá con un 50% de accuracy, frente al nuestro que predice con un accuracy 73%\n",
        "\n",
        "# 0.7108308412430113 con CustomerID en index, sin renta, paro... (si que aportan info de valor)\n",
        "# 0.7122610843843453 con CustomerID en index, con renta burta y neta, tasa de paro y empleo\n",
        "# 0.7131712391106488 con CustomerID en index, sin renta neta y tasa paro\n",
        "# 0.7146014822519828 con max_depth=8 y min_samples_leaf=100"
      ],
      "metadata": {
        "id": "kftYW_p4tTGJ"
      },
      "execution_count": null,
      "outputs": []
    },
    {
      "cell_type": "markdown",
      "source": [
        "Métricas calidad"
      ],
      "metadata": {
        "id": "yEyMLeRutTGK"
      }
    },
    {
      "cell_type": "code",
      "source": [
        "def metricas(y_test = y_test, y_test_pred = y_test_pred):\n",
        "  modelo_tonto = dev_df_y[TARGET].mean()\n",
        "  acc = metrics.accuracy_score(y_test,y_test_pred)\n",
        "  precision = metrics.precision_score(y_test,y_test_pred)\n",
        "  recall = metrics.recall_score(y_test,y_test_pred)\n",
        "  f1_score = metrics.f1_score(y_test,y_test_pred)\n",
        "\n",
        "  print(f\"Accuracy: {acc}. > El modelo tonto daría: {modelo_tonto}\" )\n",
        "  print(f\"Precision: {precision}. > Cuántos positivos de los que detecta realmente lo son\")\n",
        "  print(f\"Recall: {recall}. > Cuántos positivos detecta el modelo del total\")\n",
        "  print(f\"F1_Score: {f1_score}\")"
      ],
      "metadata": {
        "id": "sTOBhjfEXxnW"
      },
      "execution_count": null,
      "outputs": []
    },
    {
      "cell_type": "code",
      "source": [
        "metricas()"
      ],
      "metadata": {
        "id": "Z4r6fHDYZgYe"
      },
      "execution_count": null,
      "outputs": []
    },
    {
      "cell_type": "markdown",
      "source": [
        "## AUC y ROC curve"
      ],
      "metadata": {
        "id": "0XNGfALOtTGK"
      }
    },
    {
      "cell_type": "code",
      "source": [
        "y_score = pd.DataFrame(dt.predict_proba(X_test)[:,1], index=y_test.index, columns=['pension_plan_score']).sort_values(by='pension_plan_score', ascending=False)"
      ],
      "metadata": {
        "id": "CWIIIm268Iab"
      },
      "execution_count": null,
      "outputs": []
    },
    {
      "cell_type": "code",
      "source": [
        "result_df = result_df.join(y_score)"
      ],
      "metadata": {
        "id": "BpogqdRS8IXK"
      },
      "execution_count": null,
      "outputs": []
    },
    {
      "cell_type": "code",
      "source": [
        "result_df.sort_values(by='pension_plan_score', ascending=False).head()"
      ],
      "metadata": {
        "id": "3j5P-xEO8ITA"
      },
      "execution_count": null,
      "outputs": []
    },
    {
      "cell_type": "code",
      "source": [
        "metrics.roc_auc_score(result_df['product_ID_1364'],result_df['pension_plan_score'])"
      ],
      "metadata": {
        "id": "rcVNiYqWtTGK"
      },
      "execution_count": null,
      "outputs": []
    },
    {
      "cell_type": "code",
      "source": [
        "fpr_2,tpr_2,th_2=metrics.roc_curve(result_df['product_ID_1364'],result_df['pension_plan_score'])\n",
        "plt.plot(fpr_2,tpr_2)\n",
        "plt.plot([0,1],[0,1],linestyle='--')\n",
        "plt.xlabel('FPR')\n",
        "plt.ylabel('TPR')\n",
        "plt.title('ROC curve')\n",
        "plt.show()"
      ],
      "metadata": {
        "id": "d6DJbchhtTGK"
      },
      "execution_count": null,
      "outputs": []
    },
    {
      "cell_type": "markdown",
      "source": [
        "## Control del overfitting"
      ],
      "metadata": {
        "id": "QQNcg29atTGK"
      }
    },
    {
      "cell_type": "code",
      "source": [
        "for i in range(1,15):\n",
        "  #instancio el modelo\n",
        "  dt2= DecisionTreeClassifier(max_depth=i,random_state=42)\n",
        "  #entreno el modelo\n",
        "  dt2.fit(X_train,y_train)\n",
        "  #evaluo\n",
        "  acc_train = dt2.score(X_train,y_train)\n",
        "  acc_test = dt2.score(X_test,y_test)\n",
        "  print(f'Profundidad de arbol: {i}, Acc.train: {np.round(acc_train,6)},Acc.test: {np.round(acc_test,6)}')"
      ],
      "metadata": {
        "id": "to_i8sKntTGK"
      },
      "execution_count": null,
      "outputs": []
    },
    {
      "cell_type": "code",
      "source": [
        "#puedo probar con diferent numero de observaciones en el nodo final\n",
        "for i in range(1,15):\n",
        "  dt2= DecisionTreeClassifier(max_depth=i,random_state=42,min_samples_split=500)\n",
        "  dt2.fit(X_train,y_train)\n",
        "  acc_train = dt2.score(X_train,y_train)\n",
        "  acc_test = dt2.score(X_test,y_test)\n",
        "\n",
        "\n",
        "  print(f'Profundidad de arbol: {i}, Acc.train: {np.round(acc_train,6)},Acc.test: {np.round(acc_test,6)}')"
      ],
      "metadata": {
        "id": "DK0Y1FngtTGL"
      },
      "execution_count": null,
      "outputs": []
    },
    {
      "cell_type": "markdown",
      "source": [
        "## Modelos alternativos"
      ],
      "metadata": {
        "id": "_21BwbgjtTGL"
      }
    },
    {
      "cell_type": "markdown",
      "source": [
        "### RANDOM FOREST"
      ],
      "metadata": {
        "id": "UfqOoHtNmxzq"
      }
    },
    {
      "cell_type": "code",
      "source": [
        "#Random Forest con 10 replicas\n",
        "rf_2 = RandomForestClassifier(max_depth=8,random_state=42,min_samples_split=500,n_estimators=10)"
      ],
      "metadata": {
        "id": "FV9JfvaztTGL"
      },
      "execution_count": null,
      "outputs": []
    },
    {
      "cell_type": "code",
      "source": [
        "rf_2.fit(X_train,y_train)"
      ],
      "metadata": {
        "colab": {
          "base_uri": "https://localhost:8080/",
          "height": 127
        },
        "outputId": "f63f2bc1-4215-4496-9ef7-c2f33dfb7340",
        "id": "Zp3hBs7ZtTGL"
      },
      "execution_count": 497,
      "outputs": [
        {
          "output_type": "stream",
          "name": "stderr",
          "text": [
            "<ipython-input-497-7bdf2188c4c9>:1: DataConversionWarning: A column-vector y was passed when a 1d array was expected. Please change the shape of y to (n_samples,), for example using ravel().\n",
            "  rf_2.fit(X_train,y_train)\n"
          ]
        },
        {
          "output_type": "execute_result",
          "data": {
            "text/plain": [
              "RandomForestClassifier(max_depth=8, min_samples_split=500, n_estimators=10,\n",
              "                       random_state=42)"
            ],
            "text/html": [
              "<style>#sk-container-id-5 {color: black;background-color: white;}#sk-container-id-5 pre{padding: 0;}#sk-container-id-5 div.sk-toggleable {background-color: white;}#sk-container-id-5 label.sk-toggleable__label {cursor: pointer;display: block;width: 100%;margin-bottom: 0;padding: 0.3em;box-sizing: border-box;text-align: center;}#sk-container-id-5 label.sk-toggleable__label-arrow:before {content: \"▸\";float: left;margin-right: 0.25em;color: #696969;}#sk-container-id-5 label.sk-toggleable__label-arrow:hover:before {color: black;}#sk-container-id-5 div.sk-estimator:hover label.sk-toggleable__label-arrow:before {color: black;}#sk-container-id-5 div.sk-toggleable__content {max-height: 0;max-width: 0;overflow: hidden;text-align: left;background-color: #f0f8ff;}#sk-container-id-5 div.sk-toggleable__content pre {margin: 0.2em;color: black;border-radius: 0.25em;background-color: #f0f8ff;}#sk-container-id-5 input.sk-toggleable__control:checked~div.sk-toggleable__content {max-height: 200px;max-width: 100%;overflow: auto;}#sk-container-id-5 input.sk-toggleable__control:checked~label.sk-toggleable__label-arrow:before {content: \"▾\";}#sk-container-id-5 div.sk-estimator input.sk-toggleable__control:checked~label.sk-toggleable__label {background-color: #d4ebff;}#sk-container-id-5 div.sk-label input.sk-toggleable__control:checked~label.sk-toggleable__label {background-color: #d4ebff;}#sk-container-id-5 input.sk-hidden--visually {border: 0;clip: rect(1px 1px 1px 1px);clip: rect(1px, 1px, 1px, 1px);height: 1px;margin: -1px;overflow: hidden;padding: 0;position: absolute;width: 1px;}#sk-container-id-5 div.sk-estimator {font-family: monospace;background-color: #f0f8ff;border: 1px dotted black;border-radius: 0.25em;box-sizing: border-box;margin-bottom: 0.5em;}#sk-container-id-5 div.sk-estimator:hover {background-color: #d4ebff;}#sk-container-id-5 div.sk-parallel-item::after {content: \"\";width: 100%;border-bottom: 1px solid gray;flex-grow: 1;}#sk-container-id-5 div.sk-label:hover label.sk-toggleable__label {background-color: #d4ebff;}#sk-container-id-5 div.sk-serial::before {content: \"\";position: absolute;border-left: 1px solid gray;box-sizing: border-box;top: 0;bottom: 0;left: 50%;z-index: 0;}#sk-container-id-5 div.sk-serial {display: flex;flex-direction: column;align-items: center;background-color: white;padding-right: 0.2em;padding-left: 0.2em;position: relative;}#sk-container-id-5 div.sk-item {position: relative;z-index: 1;}#sk-container-id-5 div.sk-parallel {display: flex;align-items: stretch;justify-content: center;background-color: white;position: relative;}#sk-container-id-5 div.sk-item::before, #sk-container-id-5 div.sk-parallel-item::before {content: \"\";position: absolute;border-left: 1px solid gray;box-sizing: border-box;top: 0;bottom: 0;left: 50%;z-index: -1;}#sk-container-id-5 div.sk-parallel-item {display: flex;flex-direction: column;z-index: 1;position: relative;background-color: white;}#sk-container-id-5 div.sk-parallel-item:first-child::after {align-self: flex-end;width: 50%;}#sk-container-id-5 div.sk-parallel-item:last-child::after {align-self: flex-start;width: 50%;}#sk-container-id-5 div.sk-parallel-item:only-child::after {width: 0;}#sk-container-id-5 div.sk-dashed-wrapped {border: 1px dashed gray;margin: 0 0.4em 0.5em 0.4em;box-sizing: border-box;padding-bottom: 0.4em;background-color: white;}#sk-container-id-5 div.sk-label label {font-family: monospace;font-weight: bold;display: inline-block;line-height: 1.2em;}#sk-container-id-5 div.sk-label-container {text-align: center;}#sk-container-id-5 div.sk-container {/* jupyter's `normalize.less` sets `[hidden] { display: none; }` but bootstrap.min.css set `[hidden] { display: none !important; }` so we also need the `!important` here to be able to override the default hidden behavior on the sphinx rendered scikit-learn.org. See: https://github.com/scikit-learn/scikit-learn/issues/21755 */display: inline-block !important;position: relative;}#sk-container-id-5 div.sk-text-repr-fallback {display: none;}</style><div id=\"sk-container-id-5\" class=\"sk-top-container\"><div class=\"sk-text-repr-fallback\"><pre>RandomForestClassifier(max_depth=8, min_samples_split=500, n_estimators=10,\n",
              "                       random_state=42)</pre><b>In a Jupyter environment, please rerun this cell to show the HTML representation or trust the notebook. <br />On GitHub, the HTML representation is unable to render, please try loading this page with nbviewer.org.</b></div><div class=\"sk-container\" hidden><div class=\"sk-item\"><div class=\"sk-estimator sk-toggleable\"><input class=\"sk-toggleable__control sk-hidden--visually\" id=\"sk-estimator-id-5\" type=\"checkbox\" checked><label for=\"sk-estimator-id-5\" class=\"sk-toggleable__label sk-toggleable__label-arrow\">RandomForestClassifier</label><div class=\"sk-toggleable__content\"><pre>RandomForestClassifier(max_depth=8, min_samples_split=500, n_estimators=10,\n",
              "                       random_state=42)</pre></div></div></div></div></div>"
            ]
          },
          "metadata": {},
          "execution_count": 497
        }
      ]
    },
    {
      "cell_type": "code",
      "source": [
        "rf_2.score(X_test,y_test)"
      ],
      "metadata": {
        "colab": {
          "base_uri": "https://localhost:8080/",
          "height": 345
        },
        "outputId": "9ba4cfb9-b145-4ea3-b039-696ba77e82a6",
        "id": "FrONL8BbtTGL"
      },
      "execution_count": 498,
      "outputs": [
        {
          "output_type": "error",
          "ename": "ValueError",
          "evalue": "ignored",
          "traceback": [
            "\u001b[0;31m---------------------------------------------------------------------------\u001b[0m",
            "\u001b[0;31mValueError\u001b[0m                                Traceback (most recent call last)",
            "\u001b[0;32m<ipython-input-498-060420a15225>\u001b[0m in \u001b[0;36m<cell line: 1>\u001b[0;34m()\u001b[0m\n\u001b[0;32m----> 1\u001b[0;31m \u001b[0mrf_2\u001b[0m\u001b[0;34m.\u001b[0m\u001b[0mscore\u001b[0m\u001b[0;34m(\u001b[0m\u001b[0mX_test\u001b[0m\u001b[0;34m,\u001b[0m\u001b[0my_test\u001b[0m\u001b[0;34m)\u001b[0m\u001b[0;34m\u001b[0m\u001b[0;34m\u001b[0m\u001b[0m\n\u001b[0m",
            "\u001b[0;32m/usr/local/lib/python3.10/dist-packages/sklearn/base.py\u001b[0m in \u001b[0;36mscore\u001b[0;34m(self, X, y, sample_weight)\u001b[0m\n\u001b[1;32m    666\u001b[0m         \u001b[0;32mfrom\u001b[0m \u001b[0;34m.\u001b[0m\u001b[0mmetrics\u001b[0m \u001b[0;32mimport\u001b[0m \u001b[0maccuracy_score\u001b[0m\u001b[0;34m\u001b[0m\u001b[0;34m\u001b[0m\u001b[0m\n\u001b[1;32m    667\u001b[0m \u001b[0;34m\u001b[0m\u001b[0m\n\u001b[0;32m--> 668\u001b[0;31m         \u001b[0;32mreturn\u001b[0m \u001b[0maccuracy_score\u001b[0m\u001b[0;34m(\u001b[0m\u001b[0my\u001b[0m\u001b[0;34m,\u001b[0m \u001b[0mself\u001b[0m\u001b[0;34m.\u001b[0m\u001b[0mpredict\u001b[0m\u001b[0;34m(\u001b[0m\u001b[0mX\u001b[0m\u001b[0;34m)\u001b[0m\u001b[0;34m,\u001b[0m \u001b[0msample_weight\u001b[0m\u001b[0;34m=\u001b[0m\u001b[0msample_weight\u001b[0m\u001b[0;34m)\u001b[0m\u001b[0;34m\u001b[0m\u001b[0;34m\u001b[0m\u001b[0m\n\u001b[0m\u001b[1;32m    669\u001b[0m \u001b[0;34m\u001b[0m\u001b[0m\n\u001b[1;32m    670\u001b[0m     \u001b[0;32mdef\u001b[0m \u001b[0m_more_tags\u001b[0m\u001b[0;34m(\u001b[0m\u001b[0mself\u001b[0m\u001b[0;34m)\u001b[0m\u001b[0;34m:\u001b[0m\u001b[0;34m\u001b[0m\u001b[0;34m\u001b[0m\u001b[0m\n",
            "\u001b[0;32m/usr/local/lib/python3.10/dist-packages/sklearn/ensemble/_forest.py\u001b[0m in \u001b[0;36mpredict\u001b[0;34m(self, X)\u001b[0m\n\u001b[1;32m    818\u001b[0m             \u001b[0mThe\u001b[0m \u001b[0mpredicted\u001b[0m \u001b[0mclasses\u001b[0m\u001b[0;34m.\u001b[0m\u001b[0;34m\u001b[0m\u001b[0;34m\u001b[0m\u001b[0m\n\u001b[1;32m    819\u001b[0m         \"\"\"\n\u001b[0;32m--> 820\u001b[0;31m         \u001b[0mproba\u001b[0m \u001b[0;34m=\u001b[0m \u001b[0mself\u001b[0m\u001b[0;34m.\u001b[0m\u001b[0mpredict_proba\u001b[0m\u001b[0;34m(\u001b[0m\u001b[0mX\u001b[0m\u001b[0;34m)\u001b[0m\u001b[0;34m\u001b[0m\u001b[0;34m\u001b[0m\u001b[0m\n\u001b[0m\u001b[1;32m    821\u001b[0m \u001b[0;34m\u001b[0m\u001b[0m\n\u001b[1;32m    822\u001b[0m         \u001b[0;32mif\u001b[0m \u001b[0mself\u001b[0m\u001b[0;34m.\u001b[0m\u001b[0mn_outputs_\u001b[0m \u001b[0;34m==\u001b[0m \u001b[0;36m1\u001b[0m\u001b[0;34m:\u001b[0m\u001b[0;34m\u001b[0m\u001b[0;34m\u001b[0m\u001b[0m\n",
            "\u001b[0;32m/usr/local/lib/python3.10/dist-packages/sklearn/ensemble/_forest.py\u001b[0m in \u001b[0;36mpredict_proba\u001b[0;34m(self, X)\u001b[0m\n\u001b[1;32m    860\u001b[0m         \u001b[0mcheck_is_fitted\u001b[0m\u001b[0;34m(\u001b[0m\u001b[0mself\u001b[0m\u001b[0;34m)\u001b[0m\u001b[0;34m\u001b[0m\u001b[0;34m\u001b[0m\u001b[0m\n\u001b[1;32m    861\u001b[0m         \u001b[0;31m# Check data\u001b[0m\u001b[0;34m\u001b[0m\u001b[0;34m\u001b[0m\u001b[0m\n\u001b[0;32m--> 862\u001b[0;31m         \u001b[0mX\u001b[0m \u001b[0;34m=\u001b[0m \u001b[0mself\u001b[0m\u001b[0;34m.\u001b[0m\u001b[0m_validate_X_predict\u001b[0m\u001b[0;34m(\u001b[0m\u001b[0mX\u001b[0m\u001b[0;34m)\u001b[0m\u001b[0;34m\u001b[0m\u001b[0;34m\u001b[0m\u001b[0m\n\u001b[0m\u001b[1;32m    863\u001b[0m \u001b[0;34m\u001b[0m\u001b[0m\n\u001b[1;32m    864\u001b[0m         \u001b[0;31m# Assign chunk of trees to jobs\u001b[0m\u001b[0;34m\u001b[0m\u001b[0;34m\u001b[0m\u001b[0m\n",
            "\u001b[0;32m/usr/local/lib/python3.10/dist-packages/sklearn/ensemble/_forest.py\u001b[0m in \u001b[0;36m_validate_X_predict\u001b[0;34m(self, X)\u001b[0m\n\u001b[1;32m    600\u001b[0m         Validate X whenever one tries to predict, apply, predict_proba.\"\"\"\n\u001b[1;32m    601\u001b[0m         \u001b[0mcheck_is_fitted\u001b[0m\u001b[0;34m(\u001b[0m\u001b[0mself\u001b[0m\u001b[0;34m)\u001b[0m\u001b[0;34m\u001b[0m\u001b[0;34m\u001b[0m\u001b[0m\n\u001b[0;32m--> 602\u001b[0;31m         \u001b[0mX\u001b[0m \u001b[0;34m=\u001b[0m \u001b[0mself\u001b[0m\u001b[0;34m.\u001b[0m\u001b[0m_validate_data\u001b[0m\u001b[0;34m(\u001b[0m\u001b[0mX\u001b[0m\u001b[0;34m,\u001b[0m \u001b[0mdtype\u001b[0m\u001b[0;34m=\u001b[0m\u001b[0mDTYPE\u001b[0m\u001b[0;34m,\u001b[0m \u001b[0maccept_sparse\u001b[0m\u001b[0;34m=\u001b[0m\u001b[0;34m\"csr\"\u001b[0m\u001b[0;34m,\u001b[0m \u001b[0mreset\u001b[0m\u001b[0;34m=\u001b[0m\u001b[0;32mFalse\u001b[0m\u001b[0;34m)\u001b[0m\u001b[0;34m\u001b[0m\u001b[0;34m\u001b[0m\u001b[0m\n\u001b[0m\u001b[1;32m    603\u001b[0m         \u001b[0;32mif\u001b[0m \u001b[0missparse\u001b[0m\u001b[0;34m(\u001b[0m\u001b[0mX\u001b[0m\u001b[0;34m)\u001b[0m \u001b[0;32mand\u001b[0m \u001b[0;34m(\u001b[0m\u001b[0mX\u001b[0m\u001b[0;34m.\u001b[0m\u001b[0mindices\u001b[0m\u001b[0;34m.\u001b[0m\u001b[0mdtype\u001b[0m \u001b[0;34m!=\u001b[0m \u001b[0mnp\u001b[0m\u001b[0;34m.\u001b[0m\u001b[0mintc\u001b[0m \u001b[0;32mor\u001b[0m \u001b[0mX\u001b[0m\u001b[0;34m.\u001b[0m\u001b[0mindptr\u001b[0m\u001b[0;34m.\u001b[0m\u001b[0mdtype\u001b[0m \u001b[0;34m!=\u001b[0m \u001b[0mnp\u001b[0m\u001b[0;34m.\u001b[0m\u001b[0mintc\u001b[0m\u001b[0;34m)\u001b[0m\u001b[0;34m:\u001b[0m\u001b[0;34m\u001b[0m\u001b[0;34m\u001b[0m\u001b[0m\n\u001b[1;32m    604\u001b[0m             \u001b[0;32mraise\u001b[0m \u001b[0mValueError\u001b[0m\u001b[0;34m(\u001b[0m\u001b[0;34m\"No support for np.int64 index based sparse matrices\"\u001b[0m\u001b[0;34m)\u001b[0m\u001b[0;34m\u001b[0m\u001b[0;34m\u001b[0m\u001b[0m\n",
            "\u001b[0;32m/usr/local/lib/python3.10/dist-packages/sklearn/base.py\u001b[0m in \u001b[0;36m_validate_data\u001b[0;34m(self, X, y, reset, validate_separately, **check_params)\u001b[0m\n\u001b[1;32m    546\u001b[0m             \u001b[0mvalidated\u001b[0m\u001b[0;34m.\u001b[0m\u001b[0;34m\u001b[0m\u001b[0;34m\u001b[0m\u001b[0m\n\u001b[1;32m    547\u001b[0m         \"\"\"\n\u001b[0;32m--> 548\u001b[0;31m         \u001b[0mself\u001b[0m\u001b[0;34m.\u001b[0m\u001b[0m_check_feature_names\u001b[0m\u001b[0;34m(\u001b[0m\u001b[0mX\u001b[0m\u001b[0;34m,\u001b[0m \u001b[0mreset\u001b[0m\u001b[0;34m=\u001b[0m\u001b[0mreset\u001b[0m\u001b[0;34m)\u001b[0m\u001b[0;34m\u001b[0m\u001b[0;34m\u001b[0m\u001b[0m\n\u001b[0m\u001b[1;32m    549\u001b[0m \u001b[0;34m\u001b[0m\u001b[0m\n\u001b[1;32m    550\u001b[0m         \u001b[0;32mif\u001b[0m \u001b[0my\u001b[0m \u001b[0;32mis\u001b[0m \u001b[0;32mNone\u001b[0m \u001b[0;32mand\u001b[0m \u001b[0mself\u001b[0m\u001b[0;34m.\u001b[0m\u001b[0m_get_tags\u001b[0m\u001b[0;34m(\u001b[0m\u001b[0;34m)\u001b[0m\u001b[0;34m[\u001b[0m\u001b[0;34m\"requires_y\"\u001b[0m\u001b[0;34m]\u001b[0m\u001b[0;34m:\u001b[0m\u001b[0;34m\u001b[0m\u001b[0;34m\u001b[0m\u001b[0m\n",
            "\u001b[0;32m/usr/local/lib/python3.10/dist-packages/sklearn/base.py\u001b[0m in \u001b[0;36m_check_feature_names\u001b[0;34m(self, X, reset)\u001b[0m\n\u001b[1;32m    479\u001b[0m                 )\n\u001b[1;32m    480\u001b[0m \u001b[0;34m\u001b[0m\u001b[0m\n\u001b[0;32m--> 481\u001b[0;31m             \u001b[0;32mraise\u001b[0m \u001b[0mValueError\u001b[0m\u001b[0;34m(\u001b[0m\u001b[0mmessage\u001b[0m\u001b[0;34m)\u001b[0m\u001b[0;34m\u001b[0m\u001b[0;34m\u001b[0m\u001b[0m\n\u001b[0m\u001b[1;32m    482\u001b[0m \u001b[0;34m\u001b[0m\u001b[0m\n\u001b[1;32m    483\u001b[0m     def _validate_data(\n",
            "\u001b[0;31mValueError\u001b[0m: The feature names should match those that were passed during fit.\nFeature names unseen at fit time:\n- customer_ID\n"
          ]
        }
      ]
    },
    {
      "cell_type": "code",
      "source": [
        "rf_2.score(val_df_X,val_df_y)"
      ],
      "metadata": {
        "colab": {
          "base_uri": "https://localhost:8080/"
        },
        "outputId": "1efc30fa-6404-442e-dd03-133e22c10cc0",
        "id": "bPibNJIOtTGL"
      },
      "execution_count": 473,
      "outputs": [
        {
          "output_type": "execute_result",
          "data": {
            "text/plain": [
              "0.6538781451445207"
            ]
          },
          "metadata": {},
          "execution_count": 473
        }
      ]
    },
    {
      "cell_type": "markdown",
      "source": [
        "### XGBOOST"
      ],
      "metadata": {
        "id": "VrrymUDdmvwP"
      }
    },
    {
      "cell_type": "code",
      "source": [
        "from xgboost import XGBClassifier\n",
        "from sklearn.ensemble import GradientBoostingClassifier"
      ],
      "metadata": {
        "id": "Emt6jwK2_7r4"
      },
      "execution_count": 476,
      "outputs": []
    },
    {
      "cell_type": "code",
      "source": [
        "gb = GradientBoostingClassifier(n_estimators=50, max_depth=5, min_samples_split=500, random_state=42)"
      ],
      "metadata": {
        "id": "8qBK3VXU_kLB"
      },
      "execution_count": 477,
      "outputs": []
    },
    {
      "cell_type": "code",
      "source": [
        "gb.fit(X_train, np.ravel(y_train))"
      ],
      "metadata": {
        "colab": {
          "base_uri": "https://localhost:8080/",
          "height": 92
        },
        "id": "HQo63Rig_lJe",
        "outputId": "1759d49c-1921-4084-fb8e-46f94364408e"
      },
      "execution_count": 478,
      "outputs": [
        {
          "output_type": "execute_result",
          "data": {
            "text/plain": [
              "GradientBoostingClassifier(max_depth=5, min_samples_split=500, n_estimators=50,\n",
              "                           random_state=42)"
            ],
            "text/html": [
              "<style>#sk-container-id-4 {color: black;background-color: white;}#sk-container-id-4 pre{padding: 0;}#sk-container-id-4 div.sk-toggleable {background-color: white;}#sk-container-id-4 label.sk-toggleable__label {cursor: pointer;display: block;width: 100%;margin-bottom: 0;padding: 0.3em;box-sizing: border-box;text-align: center;}#sk-container-id-4 label.sk-toggleable__label-arrow:before {content: \"▸\";float: left;margin-right: 0.25em;color: #696969;}#sk-container-id-4 label.sk-toggleable__label-arrow:hover:before {color: black;}#sk-container-id-4 div.sk-estimator:hover label.sk-toggleable__label-arrow:before {color: black;}#sk-container-id-4 div.sk-toggleable__content {max-height: 0;max-width: 0;overflow: hidden;text-align: left;background-color: #f0f8ff;}#sk-container-id-4 div.sk-toggleable__content pre {margin: 0.2em;color: black;border-radius: 0.25em;background-color: #f0f8ff;}#sk-container-id-4 input.sk-toggleable__control:checked~div.sk-toggleable__content {max-height: 200px;max-width: 100%;overflow: auto;}#sk-container-id-4 input.sk-toggleable__control:checked~label.sk-toggleable__label-arrow:before {content: \"▾\";}#sk-container-id-4 div.sk-estimator input.sk-toggleable__control:checked~label.sk-toggleable__label {background-color: #d4ebff;}#sk-container-id-4 div.sk-label input.sk-toggleable__control:checked~label.sk-toggleable__label {background-color: #d4ebff;}#sk-container-id-4 input.sk-hidden--visually {border: 0;clip: rect(1px 1px 1px 1px);clip: rect(1px, 1px, 1px, 1px);height: 1px;margin: -1px;overflow: hidden;padding: 0;position: absolute;width: 1px;}#sk-container-id-4 div.sk-estimator {font-family: monospace;background-color: #f0f8ff;border: 1px dotted black;border-radius: 0.25em;box-sizing: border-box;margin-bottom: 0.5em;}#sk-container-id-4 div.sk-estimator:hover {background-color: #d4ebff;}#sk-container-id-4 div.sk-parallel-item::after {content: \"\";width: 100%;border-bottom: 1px solid gray;flex-grow: 1;}#sk-container-id-4 div.sk-label:hover label.sk-toggleable__label {background-color: #d4ebff;}#sk-container-id-4 div.sk-serial::before {content: \"\";position: absolute;border-left: 1px solid gray;box-sizing: border-box;top: 0;bottom: 0;left: 50%;z-index: 0;}#sk-container-id-4 div.sk-serial {display: flex;flex-direction: column;align-items: center;background-color: white;padding-right: 0.2em;padding-left: 0.2em;position: relative;}#sk-container-id-4 div.sk-item {position: relative;z-index: 1;}#sk-container-id-4 div.sk-parallel {display: flex;align-items: stretch;justify-content: center;background-color: white;position: relative;}#sk-container-id-4 div.sk-item::before, #sk-container-id-4 div.sk-parallel-item::before {content: \"\";position: absolute;border-left: 1px solid gray;box-sizing: border-box;top: 0;bottom: 0;left: 50%;z-index: -1;}#sk-container-id-4 div.sk-parallel-item {display: flex;flex-direction: column;z-index: 1;position: relative;background-color: white;}#sk-container-id-4 div.sk-parallel-item:first-child::after {align-self: flex-end;width: 50%;}#sk-container-id-4 div.sk-parallel-item:last-child::after {align-self: flex-start;width: 50%;}#sk-container-id-4 div.sk-parallel-item:only-child::after {width: 0;}#sk-container-id-4 div.sk-dashed-wrapped {border: 1px dashed gray;margin: 0 0.4em 0.5em 0.4em;box-sizing: border-box;padding-bottom: 0.4em;background-color: white;}#sk-container-id-4 div.sk-label label {font-family: monospace;font-weight: bold;display: inline-block;line-height: 1.2em;}#sk-container-id-4 div.sk-label-container {text-align: center;}#sk-container-id-4 div.sk-container {/* jupyter's `normalize.less` sets `[hidden] { display: none; }` but bootstrap.min.css set `[hidden] { display: none !important; }` so we also need the `!important` here to be able to override the default hidden behavior on the sphinx rendered scikit-learn.org. See: https://github.com/scikit-learn/scikit-learn/issues/21755 */display: inline-block !important;position: relative;}#sk-container-id-4 div.sk-text-repr-fallback {display: none;}</style><div id=\"sk-container-id-4\" class=\"sk-top-container\"><div class=\"sk-text-repr-fallback\"><pre>GradientBoostingClassifier(max_depth=5, min_samples_split=500, n_estimators=50,\n",
              "                           random_state=42)</pre><b>In a Jupyter environment, please rerun this cell to show the HTML representation or trust the notebook. <br />On GitHub, the HTML representation is unable to render, please try loading this page with nbviewer.org.</b></div><div class=\"sk-container\" hidden><div class=\"sk-item\"><div class=\"sk-estimator sk-toggleable\"><input class=\"sk-toggleable__control sk-hidden--visually\" id=\"sk-estimator-id-4\" type=\"checkbox\" checked><label for=\"sk-estimator-id-4\" class=\"sk-toggleable__label sk-toggleable__label-arrow\">GradientBoostingClassifier</label><div class=\"sk-toggleable__content\"><pre>GradientBoostingClassifier(max_depth=5, min_samples_split=500, n_estimators=50,\n",
              "                           random_state=42)</pre></div></div></div></div></div>"
            ]
          },
          "metadata": {},
          "execution_count": 478
        }
      ]
    },
    {
      "cell_type": "code",
      "source": [
        "y_score = pd.DataFrame(gb.predict_proba(X_test)[:,1], index=y_test.index, columns=['pension_plan_score'])"
      ],
      "metadata": {
        "id": "sW7MPvkz_lG5"
      },
      "execution_count": 479,
      "outputs": []
    },
    {
      "cell_type": "code",
      "source": [
        "results_df = y_test.join(y_score)"
      ],
      "metadata": {
        "id": "0XB5Jtp2BZGY"
      },
      "execution_count": 480,
      "outputs": []
    },
    {
      "cell_type": "code",
      "source": [
        "results_df.sort_values(by='pension_plan_score', ascending=False).head()"
      ],
      "metadata": {
        "colab": {
          "base_uri": "https://localhost:8080/",
          "height": 238
        },
        "id": "DOq_g5T9CoEY",
        "outputId": "6343538a-da81-43e5-a369-5ea314932450"
      },
      "execution_count": 482,
      "outputs": [
        {
          "output_type": "execute_result",
          "data": {
            "text/plain": [
              "             product_ID_1364  pension_plan_score\n",
              "customer_ID                                     \n",
              "1104802                    1            0.879906\n",
              "1131474                    0            0.875209\n",
              "1131474                    1            0.875209\n",
              "1021036                    1            0.873187\n",
              "1205846                    1            0.873187"
            ],
            "text/html": [
              "\n",
              "  <div id=\"df-099b525b-1848-4d68-9208-f03fd5a4a6e3\">\n",
              "    <div class=\"colab-df-container\">\n",
              "      <div>\n",
              "<style scoped>\n",
              "    .dataframe tbody tr th:only-of-type {\n",
              "        vertical-align: middle;\n",
              "    }\n",
              "\n",
              "    .dataframe tbody tr th {\n",
              "        vertical-align: top;\n",
              "    }\n",
              "\n",
              "    .dataframe thead th {\n",
              "        text-align: right;\n",
              "    }\n",
              "</style>\n",
              "<table border=\"1\" class=\"dataframe\">\n",
              "  <thead>\n",
              "    <tr style=\"text-align: right;\">\n",
              "      <th></th>\n",
              "      <th>product_ID_1364</th>\n",
              "      <th>pension_plan_score</th>\n",
              "    </tr>\n",
              "    <tr>\n",
              "      <th>customer_ID</th>\n",
              "      <th></th>\n",
              "      <th></th>\n",
              "    </tr>\n",
              "  </thead>\n",
              "  <tbody>\n",
              "    <tr>\n",
              "      <th>1104802</th>\n",
              "      <td>1</td>\n",
              "      <td>0.879906</td>\n",
              "    </tr>\n",
              "    <tr>\n",
              "      <th>1131474</th>\n",
              "      <td>0</td>\n",
              "      <td>0.875209</td>\n",
              "    </tr>\n",
              "    <tr>\n",
              "      <th>1131474</th>\n",
              "      <td>1</td>\n",
              "      <td>0.875209</td>\n",
              "    </tr>\n",
              "    <tr>\n",
              "      <th>1021036</th>\n",
              "      <td>1</td>\n",
              "      <td>0.873187</td>\n",
              "    </tr>\n",
              "    <tr>\n",
              "      <th>1205846</th>\n",
              "      <td>1</td>\n",
              "      <td>0.873187</td>\n",
              "    </tr>\n",
              "  </tbody>\n",
              "</table>\n",
              "</div>\n",
              "      <button class=\"colab-df-convert\" onclick=\"convertToInteractive('df-099b525b-1848-4d68-9208-f03fd5a4a6e3')\"\n",
              "              title=\"Convert this dataframe to an interactive table.\"\n",
              "              style=\"display:none;\">\n",
              "        \n",
              "  <svg xmlns=\"http://www.w3.org/2000/svg\" height=\"24px\"viewBox=\"0 0 24 24\"\n",
              "       width=\"24px\">\n",
              "    <path d=\"M0 0h24v24H0V0z\" fill=\"none\"/>\n",
              "    <path d=\"M18.56 5.44l.94 2.06.94-2.06 2.06-.94-2.06-.94-.94-2.06-.94 2.06-2.06.94zm-11 1L8.5 8.5l.94-2.06 2.06-.94-2.06-.94L8.5 2.5l-.94 2.06-2.06.94zm10 10l.94 2.06.94-2.06 2.06-.94-2.06-.94-.94-2.06-.94 2.06-2.06.94z\"/><path d=\"M17.41 7.96l-1.37-1.37c-.4-.4-.92-.59-1.43-.59-.52 0-1.04.2-1.43.59L10.3 9.45l-7.72 7.72c-.78.78-.78 2.05 0 2.83L4 21.41c.39.39.9.59 1.41.59.51 0 1.02-.2 1.41-.59l7.78-7.78 2.81-2.81c.8-.78.8-2.07 0-2.86zM5.41 20L4 18.59l7.72-7.72 1.47 1.35L5.41 20z\"/>\n",
              "  </svg>\n",
              "      </button>\n",
              "      \n",
              "  <style>\n",
              "    .colab-df-container {\n",
              "      display:flex;\n",
              "      flex-wrap:wrap;\n",
              "      gap: 12px;\n",
              "    }\n",
              "\n",
              "    .colab-df-convert {\n",
              "      background-color: #E8F0FE;\n",
              "      border: none;\n",
              "      border-radius: 50%;\n",
              "      cursor: pointer;\n",
              "      display: none;\n",
              "      fill: #1967D2;\n",
              "      height: 32px;\n",
              "      padding: 0 0 0 0;\n",
              "      width: 32px;\n",
              "    }\n",
              "\n",
              "    .colab-df-convert:hover {\n",
              "      background-color: #E2EBFA;\n",
              "      box-shadow: 0px 1px 2px rgba(60, 64, 67, 0.3), 0px 1px 3px 1px rgba(60, 64, 67, 0.15);\n",
              "      fill: #174EA6;\n",
              "    }\n",
              "\n",
              "    [theme=dark] .colab-df-convert {\n",
              "      background-color: #3B4455;\n",
              "      fill: #D2E3FC;\n",
              "    }\n",
              "\n",
              "    [theme=dark] .colab-df-convert:hover {\n",
              "      background-color: #434B5C;\n",
              "      box-shadow: 0px 1px 3px 1px rgba(0, 0, 0, 0.15);\n",
              "      filter: drop-shadow(0px 1px 2px rgba(0, 0, 0, 0.3));\n",
              "      fill: #FFFFFF;\n",
              "    }\n",
              "  </style>\n",
              "\n",
              "      <script>\n",
              "        const buttonEl =\n",
              "          document.querySelector('#df-099b525b-1848-4d68-9208-f03fd5a4a6e3 button.colab-df-convert');\n",
              "        buttonEl.style.display =\n",
              "          google.colab.kernel.accessAllowed ? 'block' : 'none';\n",
              "\n",
              "        async function convertToInteractive(key) {\n",
              "          const element = document.querySelector('#df-099b525b-1848-4d68-9208-f03fd5a4a6e3');\n",
              "          const dataTable =\n",
              "            await google.colab.kernel.invokeFunction('convertToInteractive',\n",
              "                                                     [key], {});\n",
              "          if (!dataTable) return;\n",
              "\n",
              "          const docLinkHtml = 'Like what you see? Visit the ' +\n",
              "            '<a target=\"_blank\" href=https://colab.research.google.com/notebooks/data_table.ipynb>data table notebook</a>'\n",
              "            + ' to learn more about interactive tables.';\n",
              "          element.innerHTML = '';\n",
              "          dataTable['output_type'] = 'display_data';\n",
              "          await google.colab.output.renderOutput(dataTable, element);\n",
              "          const docLink = document.createElement('div');\n",
              "          docLink.innerHTML = docLinkHtml;\n",
              "          element.appendChild(docLink);\n",
              "        }\n",
              "      </script>\n",
              "    </div>\n",
              "  </div>\n",
              "  "
            ]
          },
          "metadata": {},
          "execution_count": 482
        }
      ]
    },
    {
      "cell_type": "code",
      "source": [
        "gb.score(X_test,y_test)"
      ],
      "metadata": {
        "colab": {
          "base_uri": "https://localhost:8080/"
        },
        "id": "_sYUIDzhCWRq",
        "outputId": "b689ae23-0427-4e29-a6fb-cba50f926728"
      },
      "execution_count": 483,
      "outputs": [
        {
          "output_type": "execute_result",
          "data": {
            "text/plain": [
              "0.7449194113524877"
            ]
          },
          "metadata": {},
          "execution_count": 483
        }
      ]
    },
    {
      "cell_type": "code",
      "source": [
        "X_test.reset_index(inplace = True)"
      ],
      "metadata": {
        "id": "I2MI-B3-oV3f"
      },
      "execution_count": 484,
      "outputs": []
    },
    {
      "cell_type": "code",
      "source": [
        "gb.predict(X_train)"
      ],
      "metadata": {
        "id": "V0azDIa8TkWK",
        "outputId": "9331222d-08f0-4574-c736-6784e39fee43",
        "colab": {
          "base_uri": "https://localhost:8080/"
        }
      },
      "execution_count": 485,
      "outputs": [
        {
          "output_type": "execute_result",
          "data": {
            "text/plain": [
              "array([1, 1, 0, ..., 1, 0, 1], dtype=uint8)"
            ]
          },
          "metadata": {},
          "execution_count": 485
        }
      ]
    },
    {
      "cell_type": "code",
      "source": [
        "Y_test_pred_xgboost = pd.DataFrame(gb.predict(X_train),index=X_train.index,columns=['pension_plan_prediction'])"
      ],
      "metadata": {
        "id": "BkOxMfQOSbvz"
      },
      "execution_count": 486,
      "outputs": []
    },
    {
      "cell_type": "code",
      "source": [
        "result_df_xgboost = y_test.join(Y_test_pred_xgboost,how='inner')"
      ],
      "metadata": {
        "id": "GhPem1JESx00"
      },
      "execution_count": 487,
      "outputs": []
    },
    {
      "cell_type": "code",
      "source": [
        "result_df_xgboost['Success']= (result_df_xgboost['pension_plan_prediction'] >= 0.70).astype(int)"
      ],
      "metadata": {
        "id": "-RXHhm97VAi_"
      },
      "execution_count": 488,
      "outputs": []
    },
    {
      "cell_type": "code",
      "source": [],
      "metadata": {
        "id": "MK5hC2saSxbZ"
      },
      "execution_count": null,
      "outputs": []
    },
    {
      "cell_type": "markdown",
      "source": [
        "## Variables más predictivas"
      ],
      "metadata": {
        "id": "11xm86fEtTGO"
      }
    },
    {
      "cell_type": "code",
      "source": [
        "top_features_dt = pd.Series(dt.feature_importances_, index=X_train.columns).sort_values(ascending=False).head(20)"
      ],
      "metadata": {
        "id": "387EGBlYmdKL"
      },
      "execution_count": 490,
      "outputs": []
    },
    {
      "cell_type": "code",
      "source": [
        "top_features_dt\n",
        "# Aquí vemos las variables que el modelo Decision Tree ha considerado como más predictivas"
      ],
      "metadata": {
        "id": "xXRTZokPmn9_",
        "outputId": "3c30305c-c6cf-458e-f362-ac431de9c3b7",
        "colab": {
          "base_uri": "https://localhost:8080/"
        }
      },
      "execution_count": 491,
      "outputs": [
        {
          "output_type": "execute_result",
          "data": {
            "text/plain": [
              "em_acount                     0.343098\n",
              "payroll_account               0.230204\n",
              "payroll                       0.184982\n",
              "debit_card                    0.072185\n",
              "age                           0.052179\n",
              "sale_month                    0.033901\n",
              "segment_02 - PARTICULARES     0.016950\n",
              "entry_channel_KHQ             0.014362\n",
              "tasa_de_empleo                0.013852\n",
              "antiguedad                    0.011850\n",
              "segment_04 - NO SEGMENT       0.007312\n",
              "salary                        0.005582\n",
              "sale_year                     0.005416\n",
              "sale_wday                     0.002999\n",
              "provincia_Madrid              0.001792\n",
              "gender                        0.000838\n",
              "segment_03 - UNIVERSITARIO    0.000735\n",
              "renta_bruta_media             0.000691\n",
              "entry_channel_KHE             0.000591\n",
              "entry_channel_KAT             0.000311\n",
              "dtype: float64"
            ]
          },
          "metadata": {},
          "execution_count": 491
        }
      ]
    },
    {
      "cell_type": "code",
      "source": [
        "top_features_2_rd = pd.Series(rf_2.feature_importances_, index=X_train.columns).sort_values(ascending=False).head(20)"
      ],
      "metadata": {
        "id": "qf_esVyttTGP"
      },
      "execution_count": 492,
      "outputs": []
    },
    {
      "cell_type": "code",
      "source": [
        "top_features_2_rd\n",
        "# Aquí vemos las variables que el modelo Random Forest ha considerado como más predictivas"
      ],
      "metadata": {
        "colab": {
          "base_uri": "https://localhost:8080/"
        },
        "outputId": "b916e791-f78b-4ea9-a56a-19aa8baac3be",
        "id": "eZ-PZGO7tTGP"
      },
      "execution_count": 493,
      "outputs": [
        {
          "output_type": "execute_result",
          "data": {
            "text/plain": [
              "em_acount                     0.198347\n",
              "antiguedad                    0.172953\n",
              "debit_card                    0.137986\n",
              "payroll                       0.087066\n",
              "age                           0.072441\n",
              "payroll_account               0.070123\n",
              "entry_channel_KHQ             0.041514\n",
              "sale_month                    0.028821\n",
              "segment_03 - UNIVERSITARIO    0.021260\n",
              "segment_04 - NO SEGMENT       0.020285\n",
              "salary                        0.019835\n",
              "segment_01 - TOP              0.016648\n",
              "sale_year                     0.014462\n",
              "segment_02 - PARTICULARES     0.013303\n",
              "entry_channel_KFC             0.010958\n",
              "sale_wday                     0.009942\n",
              "entry_channel_KHE             0.008732\n",
              "entry_channel_KHM             0.006845\n",
              "long_term_deposit             0.006501\n",
              "tasa_de_empleo                0.005716\n",
              "dtype: float64"
            ]
          },
          "metadata": {},
          "execution_count": 493
        }
      ]
    },
    {
      "cell_type": "code",
      "source": [
        "top_features_2_gb = pd.Series(gb.feature_importances_, index=X_train.columns).sort_values(ascending=False).head(20)"
      ],
      "metadata": {
        "id": "rPnQ0qzuEaqv"
      },
      "execution_count": 494,
      "outputs": []
    },
    {
      "cell_type": "code",
      "source": [
        "top_features_2_gb\n",
        "# Aquí vemos las variables que el modelo Gradient Boosting ha considerado como más predictivas"
      ],
      "metadata": {
        "colab": {
          "base_uri": "https://localhost:8080/"
        },
        "id": "EoK0h_EvEgaA",
        "outputId": "a48bf8b0-ee19-4582-d0ba-bddaf850b2fe"
      },
      "execution_count": 495,
      "outputs": [
        {
          "output_type": "execute_result",
          "data": {
            "text/plain": [
              "em_acount                    0.328556\n",
              "payroll_account              0.216232\n",
              "payroll                      0.181413\n",
              "debit_card                   0.072905\n",
              "age                          0.061237\n",
              "sale_month                   0.031212\n",
              "tasa_de_empleo               0.016435\n",
              "antiguedad                   0.016231\n",
              "entry_channel_KHQ            0.011247\n",
              "segment_01 - TOP             0.010620\n",
              "segment_02 - PARTICULARES    0.009441\n",
              "sale_wday                    0.007303\n",
              "sale_year                    0.006953\n",
              "short_term_deposit           0.005683\n",
              "segment_04 - NO SEGMENT      0.005617\n",
              "salary                       0.005105\n",
              "long_term_deposit            0.002484\n",
              "gender                       0.001091\n",
              "entry_channel_KHO            0.000863\n",
              "renta_bruta_media            0.000822\n",
              "dtype: float64"
            ]
          },
          "metadata": {},
          "execution_count": 495
        }
      ]
    },
    {
      "cell_type": "markdown",
      "source": [
        "## Comparación entre modelos"
      ],
      "metadata": {
        "id": "Cb5oUuEBEzZ_"
      }
    },
    {
      "cell_type": "code",
      "source": [
        "RANDOM_STATE = 42\n",
        "n_estimators = 50\n",
        "max_depth = 8\n",
        "\n",
        "models = [\n",
        "    ('DecisionTree', DecisionTreeClassifier(max_depth=max_depth, random_state=42)),\n",
        "    ('RandomForest', RandomForestClassifier(n_estimators=n_estimators, max_depth=max_depth, random_state=RANDOM_STATE)),\n",
        "    ('GradientBoosting', GradientBoostingClassifier(n_estimators=n_estimators, max_depth=max_depth, random_state=RANDOM_STATE))\n",
        "]"
      ],
      "metadata": {
        "id": "cPx4cshVEy2g"
      },
      "execution_count": null,
      "outputs": []
    },
    {
      "cell_type": "code",
      "source": [
        "plt.clf()\n",
        "for model in models:\n",
        "    model_name = model[0]\n",
        "    model_instance = model[1]\n",
        "    model_instance.fit(X_train, np.ravel(y_train))\n",
        "    predictions = model_instance.predict_proba(X_test)[:,1]\n",
        "    auc_score = metrics.roc_auc_score(y_test, predictions)\n",
        "    print('ROC AUC Score for {}: {}'.format(model_name, auc_score))\n",
        "    fpr, tpr, _ = metrics.roc_curve(y_test, predictions)\n",
        "    plt.plot(fpr, tpr, label='ROC Curve for {} - Area: {:2f}'.format(model_name, auc_score))\n",
        "plt.plot([0, 1], [0, 1], color='gray', linestyle='--')\n",
        "plt.xlabel('FPR')\n",
        "plt.ylabel('TPR')\n",
        "plt.legend(loc=\"lower right\")\n",
        "plt.title('ROC curve')\n",
        "plt.show()"
      ],
      "metadata": {
        "id": "CKvJAH4SExZ3"
      },
      "execution_count": null,
      "outputs": []
    },
    {
      "cell_type": "code",
      "source": [
        "# SIGUIENTES PASOS\n",
        "\n",
        "# --> Métricas y evaluación de métricas del random forest\n",
        "\n",
        "# --> Acordar dos target más (me parecen buena opción la debit_card y la cuenta emc_account)\n",
        "# Se me ocurre como estrategia de marketing ofrecer el pack plan de pensiones + emc_account a ambos grupos de clientes potenciales para diversificar riesgo,\n",
        "# teniendo algo muy seguro y largoplazista y otra inversión más especulativa (se apoya esta estrategia en que el grueso de los clientes son gente joven a la que puede interesar el mix)\n",
        "# --> Adaptar el dataset2 y dataset3 para lanzar los modelos sobre el target2 y target3"
      ],
      "metadata": {
        "id": "x8r-P9pntTGL"
      },
      "execution_count": null,
      "outputs": []
    }
  ]
}
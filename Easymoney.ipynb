{
  "nbformat": 4,
  "nbformat_minor": 0,
  "metadata": {
    "colab": {
      "provenance": [],
      "collapsed_sections": [
        "pzsmsHc1k1s4",
        "d7_Opx03k5Cb",
        "fu6F4Uj7waeR",
        "BvMxaUfLwYxC",
        "N53oY9OJoonb",
        "J9gfKL_7ow7i"
      ],
      "gpuType": "T4",
      "toc_visible": true,
      "include_colab_link": true
    },
    "kernelspec": {
      "name": "python3",
      "display_name": "Python 3"
    },
    "language_info": {
      "name": "python"
    },
    "accelerator": "GPU",
    "gpuClass": "standard"
  },
  "cells": [
    {
      "cell_type": "markdown",
      "metadata": {
        "id": "view-in-github",
        "colab_type": "text"
      },
      "source": [
        "<a href=\"https://colab.research.google.com/github/RicardColomOrero/easymoney/blob/main/Easymoney.ipynb\" target=\"_parent\"><img src=\"https://colab.research.google.com/assets/colab-badge.svg\" alt=\"Open In Colab\"/></a>"
      ]
    },
    {
      "cell_type": "markdown",
      "source": [
        "# ENUNCIADO CAPSTONE\n",
        "\n",
        " \n",
        "## 1.- PowerBI (Opcional)\n",
        "Hemos decidido reorientar nuestra estrategia comercial hacia el\n",
        "**aumento de la penetración de la cartera actual de productos en nuestro mercado**, con la idea de obtener una\n",
        "mejor rentabilidad de nuestra base actual de clientes (lo del cuadrante barato de la matriz de Ansoff). \n",
        "\n",
        "A cambio, reduciremos la actividad intensiva de captación que veníamos realizando desde que arrancamos. En este sentido, y para acabar de definir la estrategia, estaría genial poder tener algunos análisis que nos ayuden\n",
        "a tomar decisiones. Como te decía, ahora tenemos un autoservicio, pero esta foto simple no nos ayuda demasiado. \n",
        "Si ni siquiera sé cuantos productos hemos vendido este mes o si son los clientes nuevos quiénes contratan o los que ya teníamos!\n",
        "\n",
        "Sería genial incluso que pudieses utilizar el reciente producto adquirido\n",
        "PowerBI para **preparar unos KPI’s de lo que tenemos en la empresa**\n",
        "\n",
        "## 2.- Propensión (modelo de propensión a compra)\n",
        "\n",
        "Una vez que hayamos hecho el **análisis de nuestra BBDD nos gustaría poder vender más y mejor nuestros productos**, sé que los data scientist tienen una “bola de cristal” y saben qué clientes son más propensos a\n",
        "comprar nuestros productos así que te pido por favor hagas un **modelo de propensión a compra**, se que tenemos muchos productos, así que te **,dejo a tu criterio científico qué productos elegir, o pueden ser varios,**, ya\n",
        "me sorprenderás\n",
        "\n",
        "## 3.- Segmentación\n",
        "\n",
        "Una vez obtenido la propensión de los productos sería genial poder conocer mejor a nuestros clientes para orientar nuestra actividad comercial. Hace tiempo vengo teniendo la idea de que podríamos **segmentar la base\n",
        "de clientes en 7 u 8 grupos de clientes similares**... sería genial** identificarlos, y poder saber cómo son los clientes\n",
        "que pertenecen a estos grupos**... nos ayudaría muchísimo a la hora de definir todo nuestro plan de marketing de cara a futuro!\n",
        "\n",
        "## 4.- Caso de uso\n",
        "\n",
        "Perfecto! Tenemos las segmentaciones de clientes, tenemos las propensiones y ahora lo que nos falta es realizar\n",
        "**un caso de uso que nos permita estimar en base a una campaña X cuánto dinero podemos ganar**, \n",
        "\n",
        "¿A cuántos clientes tenemos que impactar?\n",
        "\n",
        "¿Qué productos ofrecer?\n",
        " \n",
        "¿Impactamos a todos lo segmentos indicados?\n"
      ],
      "metadata": {
        "id": "FnyES6frCHxO"
      }
    },
    {
      "cell_type": "markdown",
      "source": [
        "# Importación de librerías"
      ],
      "metadata": {
        "id": "pzsmsHc1k1s4"
      }
    },
    {
      "cell_type": "code",
      "execution_count": 130,
      "metadata": {
        "id": "uN7zDy6jkPsb"
      },
      "outputs": [],
      "source": [
        "import numpy as np # Arrays\n",
        "import pandas as pd # Series and Dataframes\n",
        "\n",
        "from google.colab import files\n",
        "\n",
        "#visualizacion\n",
        "import matplotlib.pyplot as plt \n",
        "import seaborn as sns \n",
        "\n",
        "pd.options.display.max_rows = 200\n",
        "plt.style.use('ggplot') # Beautify Plots \n",
        "\n",
        "#Modelling\n",
        "from sklearn import model_selection\n",
        "from sklearn import metrics\n",
        "from sklearn.tree import DecisionTreeClassifier\n",
        "from sklearn.tree import export_graphviz\n",
        "import graphviz\n"
      ]
    },
    {
      "cell_type": "markdown",
      "source": [
        "# Importación dataset"
      ],
      "metadata": {
        "id": "d7_Opx03k5Cb"
      }
    },
    {
      "cell_type": "code",
      "source": [
        "file_dir = \"/content/drive/MyDrive/NUCLIO/TFM  Data Science/datasets_TFM_y_diccionario/\""
      ],
      "metadata": {
        "id": "loejgT7Nk83n"
      },
      "execution_count": 131,
      "outputs": []
    },
    {
      "cell_type": "code",
      "source": [
        "file_sales =\"sales.csv\"\n",
        "file_product_description =\"product_description.csv\"\n",
        "file_customer_sociodemographics =\"customer_sociodemographics.csv\"\n",
        "file_customer_commercial_activity = \"customer_commercial_activity.csv\"\n",
        "file_customer_products =\"customer_products.csv\""
      ],
      "metadata": {
        "id": "bospzkLCmG8h"
      },
      "execution_count": 132,
      "outputs": []
    },
    {
      "cell_type": "code",
      "source": [
        "sales_raw = pd.read_csv(file_dir + file_sales)\n",
        "product_description_raw = pd.read_csv(file_dir +file_product_description)\n",
        "customer_sociodemographics_raw = pd.read_csv(file_dir + file_customer_sociodemographics)\n",
        "customer_commercial_activity_raw = pd.read_csv(file_dir + file_customer_commercial_activity)\n",
        "customer_products_raw = pd.read_csv(file_dir + file_customer_products)"
      ],
      "metadata": {
        "id": "1bEJ4RF3mTBK"
      },
      "execution_count": 133,
      "outputs": []
    },
    {
      "cell_type": "markdown",
      "source": [
        "# 2.- DATA UNDERSTANDING"
      ],
      "metadata": {
        "id": "ML_zYOYbqxsG"
      }
    },
    {
      "cell_type": "markdown",
      "source": [
        "## 2.1.- Análisis univariante de datos"
      ],
      "metadata": {
        "id": "upiOCtZuq7oq"
      }
    },
    {
      "cell_type": "markdown",
      "source": [
        "### Sales"
      ],
      "metadata": {
        "id": "5ZB5uRK2sgLo"
      }
    },
    {
      "cell_type": "markdown",
      "source": [
        "* pk_sale: Identificador de venta - (primary key)\n",
        "* cid: Identificador de cliente - (foreing key)\n",
        "* month_sale: Mes de venta. Mes en el que se contrata un producto.\n",
        "* product_ID: Identificador de producto  - (foreing key)\n",
        "* net_margin: Margen neto generado por la venta ($)"
      ],
      "metadata": {
        "id": "9yNIvdpDs05O"
      }
    },
    {
      "cell_type": "code",
      "source": [
        "# Análisis inicial de sales\n",
        "\n",
        "sales_raw.info()"
      ],
      "metadata": {
        "colab": {
          "base_uri": "https://localhost:8080/"
        },
        "id": "VAYdx80i1N9A",
        "outputId": "3006b959-5a72-4901-f651-c1789cd1cf9c"
      },
      "execution_count": 134,
      "outputs": [
        {
          "output_type": "stream",
          "name": "stdout",
          "text": [
            "<class 'pandas.core.frame.DataFrame'>\n",
            "RangeIndex: 240773 entries, 0 to 240772\n",
            "Data columns (total 6 columns):\n",
            " #   Column      Non-Null Count   Dtype  \n",
            "---  ------      --------------   -----  \n",
            " 0   Unnamed: 0  240773 non-null  int64  \n",
            " 1   pk_sale     240773 non-null  int64  \n",
            " 2   cid         240773 non-null  int64  \n",
            " 3   month_sale  240773 non-null  object \n",
            " 4   product_ID  240773 non-null  int64  \n",
            " 5   net_margin  240773 non-null  float64\n",
            "dtypes: float64(1), int64(4), object(1)\n",
            "memory usage: 11.0+ MB\n"
          ]
        }
      ]
    },
    {
      "cell_type": "code",
      "source": [
        "sales_raw.head()"
      ],
      "metadata": {
        "colab": {
          "base_uri": "https://localhost:8080/",
          "height": 206
        },
        "id": "xrp0ul9d1N9A",
        "outputId": "b3b8c455-889a-45c4-b69d-106cc95c3539"
      },
      "execution_count": 135,
      "outputs": [
        {
          "output_type": "execute_result",
          "data": {
            "text/plain": [
              "   Unnamed: 0  pk_sale    cid  month_sale  product_ID  net_margin\n",
              "0           0     6666  33620  2018-05-01        2335       952.9\n",
              "1           1     6667  35063  2018-06-01        2335      1625.2\n",
              "2           2     6668  37299  2018-02-01        2335      1279.7\n",
              "3           3     6669  39997  2018-02-01        2335      1511.9\n",
              "4           4     6670  44012  2018-02-01        2335      1680.3"
            ],
            "text/html": [
              "\n",
              "  <div id=\"df-2915a810-8d2e-4a16-864a-e7307d0b6ed2\">\n",
              "    <div class=\"colab-df-container\">\n",
              "      <div>\n",
              "<style scoped>\n",
              "    .dataframe tbody tr th:only-of-type {\n",
              "        vertical-align: middle;\n",
              "    }\n",
              "\n",
              "    .dataframe tbody tr th {\n",
              "        vertical-align: top;\n",
              "    }\n",
              "\n",
              "    .dataframe thead th {\n",
              "        text-align: right;\n",
              "    }\n",
              "</style>\n",
              "<table border=\"1\" class=\"dataframe\">\n",
              "  <thead>\n",
              "    <tr style=\"text-align: right;\">\n",
              "      <th></th>\n",
              "      <th>Unnamed: 0</th>\n",
              "      <th>pk_sale</th>\n",
              "      <th>cid</th>\n",
              "      <th>month_sale</th>\n",
              "      <th>product_ID</th>\n",
              "      <th>net_margin</th>\n",
              "    </tr>\n",
              "  </thead>\n",
              "  <tbody>\n",
              "    <tr>\n",
              "      <th>0</th>\n",
              "      <td>0</td>\n",
              "      <td>6666</td>\n",
              "      <td>33620</td>\n",
              "      <td>2018-05-01</td>\n",
              "      <td>2335</td>\n",
              "      <td>952.9</td>\n",
              "    </tr>\n",
              "    <tr>\n",
              "      <th>1</th>\n",
              "      <td>1</td>\n",
              "      <td>6667</td>\n",
              "      <td>35063</td>\n",
              "      <td>2018-06-01</td>\n",
              "      <td>2335</td>\n",
              "      <td>1625.2</td>\n",
              "    </tr>\n",
              "    <tr>\n",
              "      <th>2</th>\n",
              "      <td>2</td>\n",
              "      <td>6668</td>\n",
              "      <td>37299</td>\n",
              "      <td>2018-02-01</td>\n",
              "      <td>2335</td>\n",
              "      <td>1279.7</td>\n",
              "    </tr>\n",
              "    <tr>\n",
              "      <th>3</th>\n",
              "      <td>3</td>\n",
              "      <td>6669</td>\n",
              "      <td>39997</td>\n",
              "      <td>2018-02-01</td>\n",
              "      <td>2335</td>\n",
              "      <td>1511.9</td>\n",
              "    </tr>\n",
              "    <tr>\n",
              "      <th>4</th>\n",
              "      <td>4</td>\n",
              "      <td>6670</td>\n",
              "      <td>44012</td>\n",
              "      <td>2018-02-01</td>\n",
              "      <td>2335</td>\n",
              "      <td>1680.3</td>\n",
              "    </tr>\n",
              "  </tbody>\n",
              "</table>\n",
              "</div>\n",
              "      <button class=\"colab-df-convert\" onclick=\"convertToInteractive('df-2915a810-8d2e-4a16-864a-e7307d0b6ed2')\"\n",
              "              title=\"Convert this dataframe to an interactive table.\"\n",
              "              style=\"display:none;\">\n",
              "        \n",
              "  <svg xmlns=\"http://www.w3.org/2000/svg\" height=\"24px\"viewBox=\"0 0 24 24\"\n",
              "       width=\"24px\">\n",
              "    <path d=\"M0 0h24v24H0V0z\" fill=\"none\"/>\n",
              "    <path d=\"M18.56 5.44l.94 2.06.94-2.06 2.06-.94-2.06-.94-.94-2.06-.94 2.06-2.06.94zm-11 1L8.5 8.5l.94-2.06 2.06-.94-2.06-.94L8.5 2.5l-.94 2.06-2.06.94zm10 10l.94 2.06.94-2.06 2.06-.94-2.06-.94-.94-2.06-.94 2.06-2.06.94z\"/><path d=\"M17.41 7.96l-1.37-1.37c-.4-.4-.92-.59-1.43-.59-.52 0-1.04.2-1.43.59L10.3 9.45l-7.72 7.72c-.78.78-.78 2.05 0 2.83L4 21.41c.39.39.9.59 1.41.59.51 0 1.02-.2 1.41-.59l7.78-7.78 2.81-2.81c.8-.78.8-2.07 0-2.86zM5.41 20L4 18.59l7.72-7.72 1.47 1.35L5.41 20z\"/>\n",
              "  </svg>\n",
              "      </button>\n",
              "      \n",
              "  <style>\n",
              "    .colab-df-container {\n",
              "      display:flex;\n",
              "      flex-wrap:wrap;\n",
              "      gap: 12px;\n",
              "    }\n",
              "\n",
              "    .colab-df-convert {\n",
              "      background-color: #E8F0FE;\n",
              "      border: none;\n",
              "      border-radius: 50%;\n",
              "      cursor: pointer;\n",
              "      display: none;\n",
              "      fill: #1967D2;\n",
              "      height: 32px;\n",
              "      padding: 0 0 0 0;\n",
              "      width: 32px;\n",
              "    }\n",
              "\n",
              "    .colab-df-convert:hover {\n",
              "      background-color: #E2EBFA;\n",
              "      box-shadow: 0px 1px 2px rgba(60, 64, 67, 0.3), 0px 1px 3px 1px rgba(60, 64, 67, 0.15);\n",
              "      fill: #174EA6;\n",
              "    }\n",
              "\n",
              "    [theme=dark] .colab-df-convert {\n",
              "      background-color: #3B4455;\n",
              "      fill: #D2E3FC;\n",
              "    }\n",
              "\n",
              "    [theme=dark] .colab-df-convert:hover {\n",
              "      background-color: #434B5C;\n",
              "      box-shadow: 0px 1px 3px 1px rgba(0, 0, 0, 0.15);\n",
              "      filter: drop-shadow(0px 1px 2px rgba(0, 0, 0, 0.3));\n",
              "      fill: #FFFFFF;\n",
              "    }\n",
              "  </style>\n",
              "\n",
              "      <script>\n",
              "        const buttonEl =\n",
              "          document.querySelector('#df-2915a810-8d2e-4a16-864a-e7307d0b6ed2 button.colab-df-convert');\n",
              "        buttonEl.style.display =\n",
              "          google.colab.kernel.accessAllowed ? 'block' : 'none';\n",
              "\n",
              "        async function convertToInteractive(key) {\n",
              "          const element = document.querySelector('#df-2915a810-8d2e-4a16-864a-e7307d0b6ed2');\n",
              "          const dataTable =\n",
              "            await google.colab.kernel.invokeFunction('convertToInteractive',\n",
              "                                                     [key], {});\n",
              "          if (!dataTable) return;\n",
              "\n",
              "          const docLinkHtml = 'Like what you see? Visit the ' +\n",
              "            '<a target=\"_blank\" href=https://colab.research.google.com/notebooks/data_table.ipynb>data table notebook</a>'\n",
              "            + ' to learn more about interactive tables.';\n",
              "          element.innerHTML = '';\n",
              "          dataTable['output_type'] = 'display_data';\n",
              "          await google.colab.output.renderOutput(dataTable, element);\n",
              "          const docLink = document.createElement('div');\n",
              "          docLink.innerHTML = docLinkHtml;\n",
              "          element.appendChild(docLink);\n",
              "        }\n",
              "      </script>\n",
              "    </div>\n",
              "  </div>\n",
              "  "
            ]
          },
          "metadata": {},
          "execution_count": 135
        }
      ]
    },
    {
      "cell_type": "code",
      "source": [
        "sales_raw.describe(include = ['object'])"
      ],
      "metadata": {
        "colab": {
          "base_uri": "https://localhost:8080/",
          "height": 175
        },
        "id": "YfKve4oN1N9B",
        "outputId": "56e8db44-a137-4096-b260-732c1dd3fd78"
      },
      "execution_count": 136,
      "outputs": [
        {
          "output_type": "execute_result",
          "data": {
            "text/plain": [
              "        month_sale\n",
              "count       240773\n",
              "unique          16\n",
              "top     2018-10-01\n",
              "freq         27693"
            ],
            "text/html": [
              "\n",
              "  <div id=\"df-6e79b693-2e7f-4839-a70b-8b4a532bc417\">\n",
              "    <div class=\"colab-df-container\">\n",
              "      <div>\n",
              "<style scoped>\n",
              "    .dataframe tbody tr th:only-of-type {\n",
              "        vertical-align: middle;\n",
              "    }\n",
              "\n",
              "    .dataframe tbody tr th {\n",
              "        vertical-align: top;\n",
              "    }\n",
              "\n",
              "    .dataframe thead th {\n",
              "        text-align: right;\n",
              "    }\n",
              "</style>\n",
              "<table border=\"1\" class=\"dataframe\">\n",
              "  <thead>\n",
              "    <tr style=\"text-align: right;\">\n",
              "      <th></th>\n",
              "      <th>month_sale</th>\n",
              "    </tr>\n",
              "  </thead>\n",
              "  <tbody>\n",
              "    <tr>\n",
              "      <th>count</th>\n",
              "      <td>240773</td>\n",
              "    </tr>\n",
              "    <tr>\n",
              "      <th>unique</th>\n",
              "      <td>16</td>\n",
              "    </tr>\n",
              "    <tr>\n",
              "      <th>top</th>\n",
              "      <td>2018-10-01</td>\n",
              "    </tr>\n",
              "    <tr>\n",
              "      <th>freq</th>\n",
              "      <td>27693</td>\n",
              "    </tr>\n",
              "  </tbody>\n",
              "</table>\n",
              "</div>\n",
              "      <button class=\"colab-df-convert\" onclick=\"convertToInteractive('df-6e79b693-2e7f-4839-a70b-8b4a532bc417')\"\n",
              "              title=\"Convert this dataframe to an interactive table.\"\n",
              "              style=\"display:none;\">\n",
              "        \n",
              "  <svg xmlns=\"http://www.w3.org/2000/svg\" height=\"24px\"viewBox=\"0 0 24 24\"\n",
              "       width=\"24px\">\n",
              "    <path d=\"M0 0h24v24H0V0z\" fill=\"none\"/>\n",
              "    <path d=\"M18.56 5.44l.94 2.06.94-2.06 2.06-.94-2.06-.94-.94-2.06-.94 2.06-2.06.94zm-11 1L8.5 8.5l.94-2.06 2.06-.94-2.06-.94L8.5 2.5l-.94 2.06-2.06.94zm10 10l.94 2.06.94-2.06 2.06-.94-2.06-.94-.94-2.06-.94 2.06-2.06.94z\"/><path d=\"M17.41 7.96l-1.37-1.37c-.4-.4-.92-.59-1.43-.59-.52 0-1.04.2-1.43.59L10.3 9.45l-7.72 7.72c-.78.78-.78 2.05 0 2.83L4 21.41c.39.39.9.59 1.41.59.51 0 1.02-.2 1.41-.59l7.78-7.78 2.81-2.81c.8-.78.8-2.07 0-2.86zM5.41 20L4 18.59l7.72-7.72 1.47 1.35L5.41 20z\"/>\n",
              "  </svg>\n",
              "      </button>\n",
              "      \n",
              "  <style>\n",
              "    .colab-df-container {\n",
              "      display:flex;\n",
              "      flex-wrap:wrap;\n",
              "      gap: 12px;\n",
              "    }\n",
              "\n",
              "    .colab-df-convert {\n",
              "      background-color: #E8F0FE;\n",
              "      border: none;\n",
              "      border-radius: 50%;\n",
              "      cursor: pointer;\n",
              "      display: none;\n",
              "      fill: #1967D2;\n",
              "      height: 32px;\n",
              "      padding: 0 0 0 0;\n",
              "      width: 32px;\n",
              "    }\n",
              "\n",
              "    .colab-df-convert:hover {\n",
              "      background-color: #E2EBFA;\n",
              "      box-shadow: 0px 1px 2px rgba(60, 64, 67, 0.3), 0px 1px 3px 1px rgba(60, 64, 67, 0.15);\n",
              "      fill: #174EA6;\n",
              "    }\n",
              "\n",
              "    [theme=dark] .colab-df-convert {\n",
              "      background-color: #3B4455;\n",
              "      fill: #D2E3FC;\n",
              "    }\n",
              "\n",
              "    [theme=dark] .colab-df-convert:hover {\n",
              "      background-color: #434B5C;\n",
              "      box-shadow: 0px 1px 3px 1px rgba(0, 0, 0, 0.15);\n",
              "      filter: drop-shadow(0px 1px 2px rgba(0, 0, 0, 0.3));\n",
              "      fill: #FFFFFF;\n",
              "    }\n",
              "  </style>\n",
              "\n",
              "      <script>\n",
              "        const buttonEl =\n",
              "          document.querySelector('#df-6e79b693-2e7f-4839-a70b-8b4a532bc417 button.colab-df-convert');\n",
              "        buttonEl.style.display =\n",
              "          google.colab.kernel.accessAllowed ? 'block' : 'none';\n",
              "\n",
              "        async function convertToInteractive(key) {\n",
              "          const element = document.querySelector('#df-6e79b693-2e7f-4839-a70b-8b4a532bc417');\n",
              "          const dataTable =\n",
              "            await google.colab.kernel.invokeFunction('convertToInteractive',\n",
              "                                                     [key], {});\n",
              "          if (!dataTable) return;\n",
              "\n",
              "          const docLinkHtml = 'Like what you see? Visit the ' +\n",
              "            '<a target=\"_blank\" href=https://colab.research.google.com/notebooks/data_table.ipynb>data table notebook</a>'\n",
              "            + ' to learn more about interactive tables.';\n",
              "          element.innerHTML = '';\n",
              "          dataTable['output_type'] = 'display_data';\n",
              "          await google.colab.output.renderOutput(dataTable, element);\n",
              "          const docLink = document.createElement('div');\n",
              "          docLink.innerHTML = docLinkHtml;\n",
              "          element.appendChild(docLink);\n",
              "        }\n",
              "      </script>\n",
              "    </div>\n",
              "  </div>\n",
              "  "
            ]
          },
          "metadata": {},
          "execution_count": 136
        }
      ]
    },
    {
      "cell_type": "code",
      "source": [
        "sales_raw.describe(exclude = ['object'])"
      ],
      "metadata": {
        "colab": {
          "base_uri": "https://localhost:8080/",
          "height": 300
        },
        "id": "6qfoxjf71N9B",
        "outputId": "27fd9fad-640d-4f59-d692-815f2b84d8b7"
      },
      "execution_count": 137,
      "outputs": [
        {
          "output_type": "execute_result",
          "data": {
            "text/plain": [
              "          Unnamed: 0        pk_sale           cid     product_ID  \\\n",
              "count  240773.000000  240773.000000  2.407730e+05  240773.000000   \n",
              "mean   120386.000000  127052.000000  1.363934e+06    3945.408202   \n",
              "std     69505.322519   69505.322519  1.751721e+05    1632.821700   \n",
              "min         0.000000    6666.000000  1.589100e+04    1119.000000   \n",
              "25%     60193.000000   66859.000000  1.301012e+06    2312.000000   \n",
              "50%    120386.000000  127052.000000  1.409253e+06    4657.000000   \n",
              "75%    180579.000000  187245.000000  1.475320e+06    4657.000000   \n",
              "max    240772.000000  247438.000000  1.553571e+06    9001.000000   \n",
              "\n",
              "          net_margin  \n",
              "count  240773.000000  \n",
              "mean      606.878164  \n",
              "std      1735.806089  \n",
              "min        25.000000  \n",
              "25%        61.400000  \n",
              "50%        69.100000  \n",
              "75%        79.200000  \n",
              "max     18466.400000  "
            ],
            "text/html": [
              "\n",
              "  <div id=\"df-257faa4a-31d0-405f-b022-1f8ddf640914\">\n",
              "    <div class=\"colab-df-container\">\n",
              "      <div>\n",
              "<style scoped>\n",
              "    .dataframe tbody tr th:only-of-type {\n",
              "        vertical-align: middle;\n",
              "    }\n",
              "\n",
              "    .dataframe tbody tr th {\n",
              "        vertical-align: top;\n",
              "    }\n",
              "\n",
              "    .dataframe thead th {\n",
              "        text-align: right;\n",
              "    }\n",
              "</style>\n",
              "<table border=\"1\" class=\"dataframe\">\n",
              "  <thead>\n",
              "    <tr style=\"text-align: right;\">\n",
              "      <th></th>\n",
              "      <th>Unnamed: 0</th>\n",
              "      <th>pk_sale</th>\n",
              "      <th>cid</th>\n",
              "      <th>product_ID</th>\n",
              "      <th>net_margin</th>\n",
              "    </tr>\n",
              "  </thead>\n",
              "  <tbody>\n",
              "    <tr>\n",
              "      <th>count</th>\n",
              "      <td>240773.000000</td>\n",
              "      <td>240773.000000</td>\n",
              "      <td>2.407730e+05</td>\n",
              "      <td>240773.000000</td>\n",
              "      <td>240773.000000</td>\n",
              "    </tr>\n",
              "    <tr>\n",
              "      <th>mean</th>\n",
              "      <td>120386.000000</td>\n",
              "      <td>127052.000000</td>\n",
              "      <td>1.363934e+06</td>\n",
              "      <td>3945.408202</td>\n",
              "      <td>606.878164</td>\n",
              "    </tr>\n",
              "    <tr>\n",
              "      <th>std</th>\n",
              "      <td>69505.322519</td>\n",
              "      <td>69505.322519</td>\n",
              "      <td>1.751721e+05</td>\n",
              "      <td>1632.821700</td>\n",
              "      <td>1735.806089</td>\n",
              "    </tr>\n",
              "    <tr>\n",
              "      <th>min</th>\n",
              "      <td>0.000000</td>\n",
              "      <td>6666.000000</td>\n",
              "      <td>1.589100e+04</td>\n",
              "      <td>1119.000000</td>\n",
              "      <td>25.000000</td>\n",
              "    </tr>\n",
              "    <tr>\n",
              "      <th>25%</th>\n",
              "      <td>60193.000000</td>\n",
              "      <td>66859.000000</td>\n",
              "      <td>1.301012e+06</td>\n",
              "      <td>2312.000000</td>\n",
              "      <td>61.400000</td>\n",
              "    </tr>\n",
              "    <tr>\n",
              "      <th>50%</th>\n",
              "      <td>120386.000000</td>\n",
              "      <td>127052.000000</td>\n",
              "      <td>1.409253e+06</td>\n",
              "      <td>4657.000000</td>\n",
              "      <td>69.100000</td>\n",
              "    </tr>\n",
              "    <tr>\n",
              "      <th>75%</th>\n",
              "      <td>180579.000000</td>\n",
              "      <td>187245.000000</td>\n",
              "      <td>1.475320e+06</td>\n",
              "      <td>4657.000000</td>\n",
              "      <td>79.200000</td>\n",
              "    </tr>\n",
              "    <tr>\n",
              "      <th>max</th>\n",
              "      <td>240772.000000</td>\n",
              "      <td>247438.000000</td>\n",
              "      <td>1.553571e+06</td>\n",
              "      <td>9001.000000</td>\n",
              "      <td>18466.400000</td>\n",
              "    </tr>\n",
              "  </tbody>\n",
              "</table>\n",
              "</div>\n",
              "      <button class=\"colab-df-convert\" onclick=\"convertToInteractive('df-257faa4a-31d0-405f-b022-1f8ddf640914')\"\n",
              "              title=\"Convert this dataframe to an interactive table.\"\n",
              "              style=\"display:none;\">\n",
              "        \n",
              "  <svg xmlns=\"http://www.w3.org/2000/svg\" height=\"24px\"viewBox=\"0 0 24 24\"\n",
              "       width=\"24px\">\n",
              "    <path d=\"M0 0h24v24H0V0z\" fill=\"none\"/>\n",
              "    <path d=\"M18.56 5.44l.94 2.06.94-2.06 2.06-.94-2.06-.94-.94-2.06-.94 2.06-2.06.94zm-11 1L8.5 8.5l.94-2.06 2.06-.94-2.06-.94L8.5 2.5l-.94 2.06-2.06.94zm10 10l.94 2.06.94-2.06 2.06-.94-2.06-.94-.94-2.06-.94 2.06-2.06.94z\"/><path d=\"M17.41 7.96l-1.37-1.37c-.4-.4-.92-.59-1.43-.59-.52 0-1.04.2-1.43.59L10.3 9.45l-7.72 7.72c-.78.78-.78 2.05 0 2.83L4 21.41c.39.39.9.59 1.41.59.51 0 1.02-.2 1.41-.59l7.78-7.78 2.81-2.81c.8-.78.8-2.07 0-2.86zM5.41 20L4 18.59l7.72-7.72 1.47 1.35L5.41 20z\"/>\n",
              "  </svg>\n",
              "      </button>\n",
              "      \n",
              "  <style>\n",
              "    .colab-df-container {\n",
              "      display:flex;\n",
              "      flex-wrap:wrap;\n",
              "      gap: 12px;\n",
              "    }\n",
              "\n",
              "    .colab-df-convert {\n",
              "      background-color: #E8F0FE;\n",
              "      border: none;\n",
              "      border-radius: 50%;\n",
              "      cursor: pointer;\n",
              "      display: none;\n",
              "      fill: #1967D2;\n",
              "      height: 32px;\n",
              "      padding: 0 0 0 0;\n",
              "      width: 32px;\n",
              "    }\n",
              "\n",
              "    .colab-df-convert:hover {\n",
              "      background-color: #E2EBFA;\n",
              "      box-shadow: 0px 1px 2px rgba(60, 64, 67, 0.3), 0px 1px 3px 1px rgba(60, 64, 67, 0.15);\n",
              "      fill: #174EA6;\n",
              "    }\n",
              "\n",
              "    [theme=dark] .colab-df-convert {\n",
              "      background-color: #3B4455;\n",
              "      fill: #D2E3FC;\n",
              "    }\n",
              "\n",
              "    [theme=dark] .colab-df-convert:hover {\n",
              "      background-color: #434B5C;\n",
              "      box-shadow: 0px 1px 3px 1px rgba(0, 0, 0, 0.15);\n",
              "      filter: drop-shadow(0px 1px 2px rgba(0, 0, 0, 0.3));\n",
              "      fill: #FFFFFF;\n",
              "    }\n",
              "  </style>\n",
              "\n",
              "      <script>\n",
              "        const buttonEl =\n",
              "          document.querySelector('#df-257faa4a-31d0-405f-b022-1f8ddf640914 button.colab-df-convert');\n",
              "        buttonEl.style.display =\n",
              "          google.colab.kernel.accessAllowed ? 'block' : 'none';\n",
              "\n",
              "        async function convertToInteractive(key) {\n",
              "          const element = document.querySelector('#df-257faa4a-31d0-405f-b022-1f8ddf640914');\n",
              "          const dataTable =\n",
              "            await google.colab.kernel.invokeFunction('convertToInteractive',\n",
              "                                                     [key], {});\n",
              "          if (!dataTable) return;\n",
              "\n",
              "          const docLinkHtml = 'Like what you see? Visit the ' +\n",
              "            '<a target=\"_blank\" href=https://colab.research.google.com/notebooks/data_table.ipynb>data table notebook</a>'\n",
              "            + ' to learn more about interactive tables.';\n",
              "          element.innerHTML = '';\n",
              "          dataTable['output_type'] = 'display_data';\n",
              "          await google.colab.output.renderOutput(dataTable, element);\n",
              "          const docLink = document.createElement('div');\n",
              "          docLink.innerHTML = docLinkHtml;\n",
              "          element.appendChild(docLink);\n",
              "        }\n",
              "      </script>\n",
              "    </div>\n",
              "  </div>\n",
              "  "
            ]
          },
          "metadata": {},
          "execution_count": 137
        }
      ]
    },
    {
      "cell_type": "code",
      "source": [
        "sales_raw.isnull().sum()"
      ],
      "metadata": {
        "colab": {
          "base_uri": "https://localhost:8080/"
        },
        "id": "mq7g03oJ1N9C",
        "outputId": "943f8a98-4aa5-433a-b796-d702348f1bbc"
      },
      "execution_count": 138,
      "outputs": [
        {
          "output_type": "execute_result",
          "data": {
            "text/plain": [
              "Unnamed: 0    0\n",
              "pk_sale       0\n",
              "cid           0\n",
              "month_sale    0\n",
              "product_ID    0\n",
              "net_margin    0\n",
              "dtype: int64"
            ]
          },
          "metadata": {},
          "execution_count": 138
        }
      ]
    },
    {
      "cell_type": "code",
      "source": [
        "sales_raw[sales_raw.duplicated()]"
      ],
      "metadata": {
        "colab": {
          "base_uri": "https://localhost:8080/",
          "height": 49
        },
        "id": "VQFNVCHu2q8d",
        "outputId": "73b9cd1f-da1d-4672-afed-52766fb2a2fa"
      },
      "execution_count": 139,
      "outputs": [
        {
          "output_type": "execute_result",
          "data": {
            "text/plain": [
              "Empty DataFrame\n",
              "Columns: [Unnamed: 0, pk_sale, cid, month_sale, product_ID, net_margin]\n",
              "Index: []"
            ],
            "text/html": [
              "\n",
              "  <div id=\"df-c92b4c3f-7946-4627-a4c1-2f99a7fec347\">\n",
              "    <div class=\"colab-df-container\">\n",
              "      <div>\n",
              "<style scoped>\n",
              "    .dataframe tbody tr th:only-of-type {\n",
              "        vertical-align: middle;\n",
              "    }\n",
              "\n",
              "    .dataframe tbody tr th {\n",
              "        vertical-align: top;\n",
              "    }\n",
              "\n",
              "    .dataframe thead th {\n",
              "        text-align: right;\n",
              "    }\n",
              "</style>\n",
              "<table border=\"1\" class=\"dataframe\">\n",
              "  <thead>\n",
              "    <tr style=\"text-align: right;\">\n",
              "      <th></th>\n",
              "      <th>Unnamed: 0</th>\n",
              "      <th>pk_sale</th>\n",
              "      <th>cid</th>\n",
              "      <th>month_sale</th>\n",
              "      <th>product_ID</th>\n",
              "      <th>net_margin</th>\n",
              "    </tr>\n",
              "  </thead>\n",
              "  <tbody>\n",
              "  </tbody>\n",
              "</table>\n",
              "</div>\n",
              "      <button class=\"colab-df-convert\" onclick=\"convertToInteractive('df-c92b4c3f-7946-4627-a4c1-2f99a7fec347')\"\n",
              "              title=\"Convert this dataframe to an interactive table.\"\n",
              "              style=\"display:none;\">\n",
              "        \n",
              "  <svg xmlns=\"http://www.w3.org/2000/svg\" height=\"24px\"viewBox=\"0 0 24 24\"\n",
              "       width=\"24px\">\n",
              "    <path d=\"M0 0h24v24H0V0z\" fill=\"none\"/>\n",
              "    <path d=\"M18.56 5.44l.94 2.06.94-2.06 2.06-.94-2.06-.94-.94-2.06-.94 2.06-2.06.94zm-11 1L8.5 8.5l.94-2.06 2.06-.94-2.06-.94L8.5 2.5l-.94 2.06-2.06.94zm10 10l.94 2.06.94-2.06 2.06-.94-2.06-.94-.94-2.06-.94 2.06-2.06.94z\"/><path d=\"M17.41 7.96l-1.37-1.37c-.4-.4-.92-.59-1.43-.59-.52 0-1.04.2-1.43.59L10.3 9.45l-7.72 7.72c-.78.78-.78 2.05 0 2.83L4 21.41c.39.39.9.59 1.41.59.51 0 1.02-.2 1.41-.59l7.78-7.78 2.81-2.81c.8-.78.8-2.07 0-2.86zM5.41 20L4 18.59l7.72-7.72 1.47 1.35L5.41 20z\"/>\n",
              "  </svg>\n",
              "      </button>\n",
              "      \n",
              "  <style>\n",
              "    .colab-df-container {\n",
              "      display:flex;\n",
              "      flex-wrap:wrap;\n",
              "      gap: 12px;\n",
              "    }\n",
              "\n",
              "    .colab-df-convert {\n",
              "      background-color: #E8F0FE;\n",
              "      border: none;\n",
              "      border-radius: 50%;\n",
              "      cursor: pointer;\n",
              "      display: none;\n",
              "      fill: #1967D2;\n",
              "      height: 32px;\n",
              "      padding: 0 0 0 0;\n",
              "      width: 32px;\n",
              "    }\n",
              "\n",
              "    .colab-df-convert:hover {\n",
              "      background-color: #E2EBFA;\n",
              "      box-shadow: 0px 1px 2px rgba(60, 64, 67, 0.3), 0px 1px 3px 1px rgba(60, 64, 67, 0.15);\n",
              "      fill: #174EA6;\n",
              "    }\n",
              "\n",
              "    [theme=dark] .colab-df-convert {\n",
              "      background-color: #3B4455;\n",
              "      fill: #D2E3FC;\n",
              "    }\n",
              "\n",
              "    [theme=dark] .colab-df-convert:hover {\n",
              "      background-color: #434B5C;\n",
              "      box-shadow: 0px 1px 3px 1px rgba(0, 0, 0, 0.15);\n",
              "      filter: drop-shadow(0px 1px 2px rgba(0, 0, 0, 0.3));\n",
              "      fill: #FFFFFF;\n",
              "    }\n",
              "  </style>\n",
              "\n",
              "      <script>\n",
              "        const buttonEl =\n",
              "          document.querySelector('#df-c92b4c3f-7946-4627-a4c1-2f99a7fec347 button.colab-df-convert');\n",
              "        buttonEl.style.display =\n",
              "          google.colab.kernel.accessAllowed ? 'block' : 'none';\n",
              "\n",
              "        async function convertToInteractive(key) {\n",
              "          const element = document.querySelector('#df-c92b4c3f-7946-4627-a4c1-2f99a7fec347');\n",
              "          const dataTable =\n",
              "            await google.colab.kernel.invokeFunction('convertToInteractive',\n",
              "                                                     [key], {});\n",
              "          if (!dataTable) return;\n",
              "\n",
              "          const docLinkHtml = 'Like what you see? Visit the ' +\n",
              "            '<a target=\"_blank\" href=https://colab.research.google.com/notebooks/data_table.ipynb>data table notebook</a>'\n",
              "            + ' to learn more about interactive tables.';\n",
              "          element.innerHTML = '';\n",
              "          dataTable['output_type'] = 'display_data';\n",
              "          await google.colab.output.renderOutput(dataTable, element);\n",
              "          const docLink = document.createElement('div');\n",
              "          docLink.innerHTML = docLinkHtml;\n",
              "          element.appendChild(docLink);\n",
              "        }\n",
              "      </script>\n",
              "    </div>\n",
              "  </div>\n",
              "  "
            ]
          },
          "metadata": {},
          "execution_count": 139
        }
      ]
    },
    {
      "cell_type": "code",
      "source": [
        "# ACCIONES A LLEVAR A CABO \n",
        "\n",
        "# Eliminar columna Unnamed\n",
        "# Renombrar columnas para alinear el naming, por ejemplo variable cid como \"client_ID\", pk_sale como \"sale_ID\"\n",
        "# Cambiar los identificadores (product_ID, customer_ID) a variable categórica\n",
        "# Cambiar tipo de month_sale a fecha\n",
        "# Disgregar la fecha en mes, año, día, día de la semana (otros: trimestre, fin de semana, festivo...)\n"
      ],
      "metadata": {
        "id": "4j4GhhbI1N9C"
      },
      "execution_count": 140,
      "outputs": []
    },
    {
      "cell_type": "markdown",
      "source": [
        "### Product Description"
      ],
      "metadata": {
        "id": "fu6F4Uj7waeR"
      }
    },
    {
      "cell_type": "markdown",
      "source": [
        "* pk_product_ID\t= Identificador de producto - (primary key)\n",
        "* product_desc\t= Descripción del producto\n",
        "* family_product\t= Vertical del producto. Grupo al que pertenece."
      ],
      "metadata": {
        "id": "tF9aoCOUwaeT"
      }
    },
    {
      "cell_type": "code",
      "source": [
        "# Análisis inicial de product description\n",
        "\n",
        "product_description_raw.info()"
      ],
      "metadata": {
        "colab": {
          "base_uri": "https://localhost:8080/"
        },
        "id": "R4rkQSBB1gFO",
        "outputId": "07b38d22-ab33-4a7e-ccbd-84df9d105d3e"
      },
      "execution_count": 141,
      "outputs": [
        {
          "output_type": "stream",
          "name": "stdout",
          "text": [
            "<class 'pandas.core.frame.DataFrame'>\n",
            "RangeIndex: 13 entries, 0 to 12\n",
            "Data columns (total 4 columns):\n",
            " #   Column          Non-Null Count  Dtype \n",
            "---  ------          --------------  ----- \n",
            " 0   Unnamed: 0      13 non-null     int64 \n",
            " 1   pk_product_ID   13 non-null     int64 \n",
            " 2   product_desc    13 non-null     object\n",
            " 3   family_product  13 non-null     object\n",
            "dtypes: int64(2), object(2)\n",
            "memory usage: 544.0+ bytes\n"
          ]
        }
      ]
    },
    {
      "cell_type": "code",
      "source": [
        "product_description_raw"
      ],
      "metadata": {
        "colab": {
          "base_uri": "https://localhost:8080/",
          "height": 457
        },
        "id": "zU9IbE391gFP",
        "outputId": "1fdecb44-b946-49c3-893c-4bfc9a03ddfe"
      },
      "execution_count": 142,
      "outputs": [
        {
          "output_type": "execute_result",
          "data": {
            "text/plain": [
              "    Unnamed: 0  pk_product_ID        product_desc family_product\n",
              "0            0           4657           em_acount        account\n",
              "1            1           3819          debit_card   payment_card\n",
              "2            2           1364        pension_plan   pension_plan\n",
              "3            3           2234             payroll        account\n",
              "4            4           2235     payroll_account        account\n",
              "5            5           8871         emc_account        account\n",
              "6            6           2312         credit_card   payment_card\n",
              "7            7           2335  short_term_deposit     investment\n",
              "8            8           2336   long_term_deposit     investment\n",
              "9            9           2673          securities     investment\n",
              "10          10           1119               funds     investment\n",
              "11          11           9001               loans           loan\n",
              "12          12           4033            mortgage           loan"
            ],
            "text/html": [
              "\n",
              "  <div id=\"df-75b72950-f5ce-4dda-8e92-d313f7bce4db\">\n",
              "    <div class=\"colab-df-container\">\n",
              "      <div>\n",
              "<style scoped>\n",
              "    .dataframe tbody tr th:only-of-type {\n",
              "        vertical-align: middle;\n",
              "    }\n",
              "\n",
              "    .dataframe tbody tr th {\n",
              "        vertical-align: top;\n",
              "    }\n",
              "\n",
              "    .dataframe thead th {\n",
              "        text-align: right;\n",
              "    }\n",
              "</style>\n",
              "<table border=\"1\" class=\"dataframe\">\n",
              "  <thead>\n",
              "    <tr style=\"text-align: right;\">\n",
              "      <th></th>\n",
              "      <th>Unnamed: 0</th>\n",
              "      <th>pk_product_ID</th>\n",
              "      <th>product_desc</th>\n",
              "      <th>family_product</th>\n",
              "    </tr>\n",
              "  </thead>\n",
              "  <tbody>\n",
              "    <tr>\n",
              "      <th>0</th>\n",
              "      <td>0</td>\n",
              "      <td>4657</td>\n",
              "      <td>em_acount</td>\n",
              "      <td>account</td>\n",
              "    </tr>\n",
              "    <tr>\n",
              "      <th>1</th>\n",
              "      <td>1</td>\n",
              "      <td>3819</td>\n",
              "      <td>debit_card</td>\n",
              "      <td>payment_card</td>\n",
              "    </tr>\n",
              "    <tr>\n",
              "      <th>2</th>\n",
              "      <td>2</td>\n",
              "      <td>1364</td>\n",
              "      <td>pension_plan</td>\n",
              "      <td>pension_plan</td>\n",
              "    </tr>\n",
              "    <tr>\n",
              "      <th>3</th>\n",
              "      <td>3</td>\n",
              "      <td>2234</td>\n",
              "      <td>payroll</td>\n",
              "      <td>account</td>\n",
              "    </tr>\n",
              "    <tr>\n",
              "      <th>4</th>\n",
              "      <td>4</td>\n",
              "      <td>2235</td>\n",
              "      <td>payroll_account</td>\n",
              "      <td>account</td>\n",
              "    </tr>\n",
              "    <tr>\n",
              "      <th>5</th>\n",
              "      <td>5</td>\n",
              "      <td>8871</td>\n",
              "      <td>emc_account</td>\n",
              "      <td>account</td>\n",
              "    </tr>\n",
              "    <tr>\n",
              "      <th>6</th>\n",
              "      <td>6</td>\n",
              "      <td>2312</td>\n",
              "      <td>credit_card</td>\n",
              "      <td>payment_card</td>\n",
              "    </tr>\n",
              "    <tr>\n",
              "      <th>7</th>\n",
              "      <td>7</td>\n",
              "      <td>2335</td>\n",
              "      <td>short_term_deposit</td>\n",
              "      <td>investment</td>\n",
              "    </tr>\n",
              "    <tr>\n",
              "      <th>8</th>\n",
              "      <td>8</td>\n",
              "      <td>2336</td>\n",
              "      <td>long_term_deposit</td>\n",
              "      <td>investment</td>\n",
              "    </tr>\n",
              "    <tr>\n",
              "      <th>9</th>\n",
              "      <td>9</td>\n",
              "      <td>2673</td>\n",
              "      <td>securities</td>\n",
              "      <td>investment</td>\n",
              "    </tr>\n",
              "    <tr>\n",
              "      <th>10</th>\n",
              "      <td>10</td>\n",
              "      <td>1119</td>\n",
              "      <td>funds</td>\n",
              "      <td>investment</td>\n",
              "    </tr>\n",
              "    <tr>\n",
              "      <th>11</th>\n",
              "      <td>11</td>\n",
              "      <td>9001</td>\n",
              "      <td>loans</td>\n",
              "      <td>loan</td>\n",
              "    </tr>\n",
              "    <tr>\n",
              "      <th>12</th>\n",
              "      <td>12</td>\n",
              "      <td>4033</td>\n",
              "      <td>mortgage</td>\n",
              "      <td>loan</td>\n",
              "    </tr>\n",
              "  </tbody>\n",
              "</table>\n",
              "</div>\n",
              "      <button class=\"colab-df-convert\" onclick=\"convertToInteractive('df-75b72950-f5ce-4dda-8e92-d313f7bce4db')\"\n",
              "              title=\"Convert this dataframe to an interactive table.\"\n",
              "              style=\"display:none;\">\n",
              "        \n",
              "  <svg xmlns=\"http://www.w3.org/2000/svg\" height=\"24px\"viewBox=\"0 0 24 24\"\n",
              "       width=\"24px\">\n",
              "    <path d=\"M0 0h24v24H0V0z\" fill=\"none\"/>\n",
              "    <path d=\"M18.56 5.44l.94 2.06.94-2.06 2.06-.94-2.06-.94-.94-2.06-.94 2.06-2.06.94zm-11 1L8.5 8.5l.94-2.06 2.06-.94-2.06-.94L8.5 2.5l-.94 2.06-2.06.94zm10 10l.94 2.06.94-2.06 2.06-.94-2.06-.94-.94-2.06-.94 2.06-2.06.94z\"/><path d=\"M17.41 7.96l-1.37-1.37c-.4-.4-.92-.59-1.43-.59-.52 0-1.04.2-1.43.59L10.3 9.45l-7.72 7.72c-.78.78-.78 2.05 0 2.83L4 21.41c.39.39.9.59 1.41.59.51 0 1.02-.2 1.41-.59l7.78-7.78 2.81-2.81c.8-.78.8-2.07 0-2.86zM5.41 20L4 18.59l7.72-7.72 1.47 1.35L5.41 20z\"/>\n",
              "  </svg>\n",
              "      </button>\n",
              "      \n",
              "  <style>\n",
              "    .colab-df-container {\n",
              "      display:flex;\n",
              "      flex-wrap:wrap;\n",
              "      gap: 12px;\n",
              "    }\n",
              "\n",
              "    .colab-df-convert {\n",
              "      background-color: #E8F0FE;\n",
              "      border: none;\n",
              "      border-radius: 50%;\n",
              "      cursor: pointer;\n",
              "      display: none;\n",
              "      fill: #1967D2;\n",
              "      height: 32px;\n",
              "      padding: 0 0 0 0;\n",
              "      width: 32px;\n",
              "    }\n",
              "\n",
              "    .colab-df-convert:hover {\n",
              "      background-color: #E2EBFA;\n",
              "      box-shadow: 0px 1px 2px rgba(60, 64, 67, 0.3), 0px 1px 3px 1px rgba(60, 64, 67, 0.15);\n",
              "      fill: #174EA6;\n",
              "    }\n",
              "\n",
              "    [theme=dark] .colab-df-convert {\n",
              "      background-color: #3B4455;\n",
              "      fill: #D2E3FC;\n",
              "    }\n",
              "\n",
              "    [theme=dark] .colab-df-convert:hover {\n",
              "      background-color: #434B5C;\n",
              "      box-shadow: 0px 1px 3px 1px rgba(0, 0, 0, 0.15);\n",
              "      filter: drop-shadow(0px 1px 2px rgba(0, 0, 0, 0.3));\n",
              "      fill: #FFFFFF;\n",
              "    }\n",
              "  </style>\n",
              "\n",
              "      <script>\n",
              "        const buttonEl =\n",
              "          document.querySelector('#df-75b72950-f5ce-4dda-8e92-d313f7bce4db button.colab-df-convert');\n",
              "        buttonEl.style.display =\n",
              "          google.colab.kernel.accessAllowed ? 'block' : 'none';\n",
              "\n",
              "        async function convertToInteractive(key) {\n",
              "          const element = document.querySelector('#df-75b72950-f5ce-4dda-8e92-d313f7bce4db');\n",
              "          const dataTable =\n",
              "            await google.colab.kernel.invokeFunction('convertToInteractive',\n",
              "                                                     [key], {});\n",
              "          if (!dataTable) return;\n",
              "\n",
              "          const docLinkHtml = 'Like what you see? Visit the ' +\n",
              "            '<a target=\"_blank\" href=https://colab.research.google.com/notebooks/data_table.ipynb>data table notebook</a>'\n",
              "            + ' to learn more about interactive tables.';\n",
              "          element.innerHTML = '';\n",
              "          dataTable['output_type'] = 'display_data';\n",
              "          await google.colab.output.renderOutput(dataTable, element);\n",
              "          const docLink = document.createElement('div');\n",
              "          docLink.innerHTML = docLinkHtml;\n",
              "          element.appendChild(docLink);\n",
              "        }\n",
              "      </script>\n",
              "    </div>\n",
              "  </div>\n",
              "  "
            ]
          },
          "metadata": {},
          "execution_count": 142
        }
      ]
    },
    {
      "cell_type": "code",
      "source": [
        "product_description_raw.describe(include = ['object'])"
      ],
      "metadata": {
        "colab": {
          "base_uri": "https://localhost:8080/",
          "height": 175
        },
        "id": "AcwVd6H-1gFP",
        "outputId": "79e62c20-994d-4fda-b140-4297d20de8c4"
      },
      "execution_count": 143,
      "outputs": [
        {
          "output_type": "execute_result",
          "data": {
            "text/plain": [
              "       product_desc family_product\n",
              "count            13             13\n",
              "unique           13              5\n",
              "top       em_acount        account\n",
              "freq              1              4"
            ],
            "text/html": [
              "\n",
              "  <div id=\"df-26eff5d8-e465-469f-a06b-f47df6ccf94a\">\n",
              "    <div class=\"colab-df-container\">\n",
              "      <div>\n",
              "<style scoped>\n",
              "    .dataframe tbody tr th:only-of-type {\n",
              "        vertical-align: middle;\n",
              "    }\n",
              "\n",
              "    .dataframe tbody tr th {\n",
              "        vertical-align: top;\n",
              "    }\n",
              "\n",
              "    .dataframe thead th {\n",
              "        text-align: right;\n",
              "    }\n",
              "</style>\n",
              "<table border=\"1\" class=\"dataframe\">\n",
              "  <thead>\n",
              "    <tr style=\"text-align: right;\">\n",
              "      <th></th>\n",
              "      <th>product_desc</th>\n",
              "      <th>family_product</th>\n",
              "    </tr>\n",
              "  </thead>\n",
              "  <tbody>\n",
              "    <tr>\n",
              "      <th>count</th>\n",
              "      <td>13</td>\n",
              "      <td>13</td>\n",
              "    </tr>\n",
              "    <tr>\n",
              "      <th>unique</th>\n",
              "      <td>13</td>\n",
              "      <td>5</td>\n",
              "    </tr>\n",
              "    <tr>\n",
              "      <th>top</th>\n",
              "      <td>em_acount</td>\n",
              "      <td>account</td>\n",
              "    </tr>\n",
              "    <tr>\n",
              "      <th>freq</th>\n",
              "      <td>1</td>\n",
              "      <td>4</td>\n",
              "    </tr>\n",
              "  </tbody>\n",
              "</table>\n",
              "</div>\n",
              "      <button class=\"colab-df-convert\" onclick=\"convertToInteractive('df-26eff5d8-e465-469f-a06b-f47df6ccf94a')\"\n",
              "              title=\"Convert this dataframe to an interactive table.\"\n",
              "              style=\"display:none;\">\n",
              "        \n",
              "  <svg xmlns=\"http://www.w3.org/2000/svg\" height=\"24px\"viewBox=\"0 0 24 24\"\n",
              "       width=\"24px\">\n",
              "    <path d=\"M0 0h24v24H0V0z\" fill=\"none\"/>\n",
              "    <path d=\"M18.56 5.44l.94 2.06.94-2.06 2.06-.94-2.06-.94-.94-2.06-.94 2.06-2.06.94zm-11 1L8.5 8.5l.94-2.06 2.06-.94-2.06-.94L8.5 2.5l-.94 2.06-2.06.94zm10 10l.94 2.06.94-2.06 2.06-.94-2.06-.94-.94-2.06-.94 2.06-2.06.94z\"/><path d=\"M17.41 7.96l-1.37-1.37c-.4-.4-.92-.59-1.43-.59-.52 0-1.04.2-1.43.59L10.3 9.45l-7.72 7.72c-.78.78-.78 2.05 0 2.83L4 21.41c.39.39.9.59 1.41.59.51 0 1.02-.2 1.41-.59l7.78-7.78 2.81-2.81c.8-.78.8-2.07 0-2.86zM5.41 20L4 18.59l7.72-7.72 1.47 1.35L5.41 20z\"/>\n",
              "  </svg>\n",
              "      </button>\n",
              "      \n",
              "  <style>\n",
              "    .colab-df-container {\n",
              "      display:flex;\n",
              "      flex-wrap:wrap;\n",
              "      gap: 12px;\n",
              "    }\n",
              "\n",
              "    .colab-df-convert {\n",
              "      background-color: #E8F0FE;\n",
              "      border: none;\n",
              "      border-radius: 50%;\n",
              "      cursor: pointer;\n",
              "      display: none;\n",
              "      fill: #1967D2;\n",
              "      height: 32px;\n",
              "      padding: 0 0 0 0;\n",
              "      width: 32px;\n",
              "    }\n",
              "\n",
              "    .colab-df-convert:hover {\n",
              "      background-color: #E2EBFA;\n",
              "      box-shadow: 0px 1px 2px rgba(60, 64, 67, 0.3), 0px 1px 3px 1px rgba(60, 64, 67, 0.15);\n",
              "      fill: #174EA6;\n",
              "    }\n",
              "\n",
              "    [theme=dark] .colab-df-convert {\n",
              "      background-color: #3B4455;\n",
              "      fill: #D2E3FC;\n",
              "    }\n",
              "\n",
              "    [theme=dark] .colab-df-convert:hover {\n",
              "      background-color: #434B5C;\n",
              "      box-shadow: 0px 1px 3px 1px rgba(0, 0, 0, 0.15);\n",
              "      filter: drop-shadow(0px 1px 2px rgba(0, 0, 0, 0.3));\n",
              "      fill: #FFFFFF;\n",
              "    }\n",
              "  </style>\n",
              "\n",
              "      <script>\n",
              "        const buttonEl =\n",
              "          document.querySelector('#df-26eff5d8-e465-469f-a06b-f47df6ccf94a button.colab-df-convert');\n",
              "        buttonEl.style.display =\n",
              "          google.colab.kernel.accessAllowed ? 'block' : 'none';\n",
              "\n",
              "        async function convertToInteractive(key) {\n",
              "          const element = document.querySelector('#df-26eff5d8-e465-469f-a06b-f47df6ccf94a');\n",
              "          const dataTable =\n",
              "            await google.colab.kernel.invokeFunction('convertToInteractive',\n",
              "                                                     [key], {});\n",
              "          if (!dataTable) return;\n",
              "\n",
              "          const docLinkHtml = 'Like what you see? Visit the ' +\n",
              "            '<a target=\"_blank\" href=https://colab.research.google.com/notebooks/data_table.ipynb>data table notebook</a>'\n",
              "            + ' to learn more about interactive tables.';\n",
              "          element.innerHTML = '';\n",
              "          dataTable['output_type'] = 'display_data';\n",
              "          await google.colab.output.renderOutput(dataTable, element);\n",
              "          const docLink = document.createElement('div');\n",
              "          docLink.innerHTML = docLinkHtml;\n",
              "          element.appendChild(docLink);\n",
              "        }\n",
              "      </script>\n",
              "    </div>\n",
              "  </div>\n",
              "  "
            ]
          },
          "metadata": {},
          "execution_count": 143
        }
      ]
    },
    {
      "cell_type": "code",
      "source": [
        "product_description_raw.describe(exclude = ['object'])"
      ],
      "metadata": {
        "colab": {
          "base_uri": "https://localhost:8080/",
          "height": 300
        },
        "id": "B950Lyeb1gFP",
        "outputId": "3da78bfd-9aca-439c-b3bc-c2bfd525edd7"
      },
      "execution_count": 144,
      "outputs": [
        {
          "output_type": "execute_result",
          "data": {
            "text/plain": [
              "       Unnamed: 0  pk_product_ID\n",
              "count    13.00000      13.000000\n",
              "mean      6.00000    3614.538462\n",
              "std       3.89444    2564.251438\n",
              "min       0.00000    1119.000000\n",
              "25%       3.00000    2235.000000\n",
              "50%       6.00000    2336.000000\n",
              "75%       9.00000    4033.000000\n",
              "max      12.00000    9001.000000"
            ],
            "text/html": [
              "\n",
              "  <div id=\"df-4942aed1-0ee4-4f82-b753-31c7f32ab2ed\">\n",
              "    <div class=\"colab-df-container\">\n",
              "      <div>\n",
              "<style scoped>\n",
              "    .dataframe tbody tr th:only-of-type {\n",
              "        vertical-align: middle;\n",
              "    }\n",
              "\n",
              "    .dataframe tbody tr th {\n",
              "        vertical-align: top;\n",
              "    }\n",
              "\n",
              "    .dataframe thead th {\n",
              "        text-align: right;\n",
              "    }\n",
              "</style>\n",
              "<table border=\"1\" class=\"dataframe\">\n",
              "  <thead>\n",
              "    <tr style=\"text-align: right;\">\n",
              "      <th></th>\n",
              "      <th>Unnamed: 0</th>\n",
              "      <th>pk_product_ID</th>\n",
              "    </tr>\n",
              "  </thead>\n",
              "  <tbody>\n",
              "    <tr>\n",
              "      <th>count</th>\n",
              "      <td>13.00000</td>\n",
              "      <td>13.000000</td>\n",
              "    </tr>\n",
              "    <tr>\n",
              "      <th>mean</th>\n",
              "      <td>6.00000</td>\n",
              "      <td>3614.538462</td>\n",
              "    </tr>\n",
              "    <tr>\n",
              "      <th>std</th>\n",
              "      <td>3.89444</td>\n",
              "      <td>2564.251438</td>\n",
              "    </tr>\n",
              "    <tr>\n",
              "      <th>min</th>\n",
              "      <td>0.00000</td>\n",
              "      <td>1119.000000</td>\n",
              "    </tr>\n",
              "    <tr>\n",
              "      <th>25%</th>\n",
              "      <td>3.00000</td>\n",
              "      <td>2235.000000</td>\n",
              "    </tr>\n",
              "    <tr>\n",
              "      <th>50%</th>\n",
              "      <td>6.00000</td>\n",
              "      <td>2336.000000</td>\n",
              "    </tr>\n",
              "    <tr>\n",
              "      <th>75%</th>\n",
              "      <td>9.00000</td>\n",
              "      <td>4033.000000</td>\n",
              "    </tr>\n",
              "    <tr>\n",
              "      <th>max</th>\n",
              "      <td>12.00000</td>\n",
              "      <td>9001.000000</td>\n",
              "    </tr>\n",
              "  </tbody>\n",
              "</table>\n",
              "</div>\n",
              "      <button class=\"colab-df-convert\" onclick=\"convertToInteractive('df-4942aed1-0ee4-4f82-b753-31c7f32ab2ed')\"\n",
              "              title=\"Convert this dataframe to an interactive table.\"\n",
              "              style=\"display:none;\">\n",
              "        \n",
              "  <svg xmlns=\"http://www.w3.org/2000/svg\" height=\"24px\"viewBox=\"0 0 24 24\"\n",
              "       width=\"24px\">\n",
              "    <path d=\"M0 0h24v24H0V0z\" fill=\"none\"/>\n",
              "    <path d=\"M18.56 5.44l.94 2.06.94-2.06 2.06-.94-2.06-.94-.94-2.06-.94 2.06-2.06.94zm-11 1L8.5 8.5l.94-2.06 2.06-.94-2.06-.94L8.5 2.5l-.94 2.06-2.06.94zm10 10l.94 2.06.94-2.06 2.06-.94-2.06-.94-.94-2.06-.94 2.06-2.06.94z\"/><path d=\"M17.41 7.96l-1.37-1.37c-.4-.4-.92-.59-1.43-.59-.52 0-1.04.2-1.43.59L10.3 9.45l-7.72 7.72c-.78.78-.78 2.05 0 2.83L4 21.41c.39.39.9.59 1.41.59.51 0 1.02-.2 1.41-.59l7.78-7.78 2.81-2.81c.8-.78.8-2.07 0-2.86zM5.41 20L4 18.59l7.72-7.72 1.47 1.35L5.41 20z\"/>\n",
              "  </svg>\n",
              "      </button>\n",
              "      \n",
              "  <style>\n",
              "    .colab-df-container {\n",
              "      display:flex;\n",
              "      flex-wrap:wrap;\n",
              "      gap: 12px;\n",
              "    }\n",
              "\n",
              "    .colab-df-convert {\n",
              "      background-color: #E8F0FE;\n",
              "      border: none;\n",
              "      border-radius: 50%;\n",
              "      cursor: pointer;\n",
              "      display: none;\n",
              "      fill: #1967D2;\n",
              "      height: 32px;\n",
              "      padding: 0 0 0 0;\n",
              "      width: 32px;\n",
              "    }\n",
              "\n",
              "    .colab-df-convert:hover {\n",
              "      background-color: #E2EBFA;\n",
              "      box-shadow: 0px 1px 2px rgba(60, 64, 67, 0.3), 0px 1px 3px 1px rgba(60, 64, 67, 0.15);\n",
              "      fill: #174EA6;\n",
              "    }\n",
              "\n",
              "    [theme=dark] .colab-df-convert {\n",
              "      background-color: #3B4455;\n",
              "      fill: #D2E3FC;\n",
              "    }\n",
              "\n",
              "    [theme=dark] .colab-df-convert:hover {\n",
              "      background-color: #434B5C;\n",
              "      box-shadow: 0px 1px 3px 1px rgba(0, 0, 0, 0.15);\n",
              "      filter: drop-shadow(0px 1px 2px rgba(0, 0, 0, 0.3));\n",
              "      fill: #FFFFFF;\n",
              "    }\n",
              "  </style>\n",
              "\n",
              "      <script>\n",
              "        const buttonEl =\n",
              "          document.querySelector('#df-4942aed1-0ee4-4f82-b753-31c7f32ab2ed button.colab-df-convert');\n",
              "        buttonEl.style.display =\n",
              "          google.colab.kernel.accessAllowed ? 'block' : 'none';\n",
              "\n",
              "        async function convertToInteractive(key) {\n",
              "          const element = document.querySelector('#df-4942aed1-0ee4-4f82-b753-31c7f32ab2ed');\n",
              "          const dataTable =\n",
              "            await google.colab.kernel.invokeFunction('convertToInteractive',\n",
              "                                                     [key], {});\n",
              "          if (!dataTable) return;\n",
              "\n",
              "          const docLinkHtml = 'Like what you see? Visit the ' +\n",
              "            '<a target=\"_blank\" href=https://colab.research.google.com/notebooks/data_table.ipynb>data table notebook</a>'\n",
              "            + ' to learn more about interactive tables.';\n",
              "          element.innerHTML = '';\n",
              "          dataTable['output_type'] = 'display_data';\n",
              "          await google.colab.output.renderOutput(dataTable, element);\n",
              "          const docLink = document.createElement('div');\n",
              "          docLink.innerHTML = docLinkHtml;\n",
              "          element.appendChild(docLink);\n",
              "        }\n",
              "      </script>\n",
              "    </div>\n",
              "  </div>\n",
              "  "
            ]
          },
          "metadata": {},
          "execution_count": 144
        }
      ]
    },
    {
      "cell_type": "code",
      "source": [
        "product_description_raw.isnull().sum()"
      ],
      "metadata": {
        "colab": {
          "base_uri": "https://localhost:8080/"
        },
        "id": "ar_-UuYG1gFP",
        "outputId": "73f9f923-e04f-4b91-a42f-294c6f7ce2e0"
      },
      "execution_count": 145,
      "outputs": [
        {
          "output_type": "execute_result",
          "data": {
            "text/plain": [
              "Unnamed: 0        0\n",
              "pk_product_ID     0\n",
              "product_desc      0\n",
              "family_product    0\n",
              "dtype: int64"
            ]
          },
          "metadata": {},
          "execution_count": 145
        }
      ]
    },
    {
      "cell_type": "code",
      "source": [
        "product_description_raw[product_description_raw.duplicated()]"
      ],
      "metadata": {
        "colab": {
          "base_uri": "https://localhost:8080/",
          "height": 49
        },
        "id": "VobyDPNY180c",
        "outputId": "d3b9405a-85f3-4399-e7a4-baaa1d0aa78c"
      },
      "execution_count": 146,
      "outputs": [
        {
          "output_type": "execute_result",
          "data": {
            "text/plain": [
              "Empty DataFrame\n",
              "Columns: [Unnamed: 0, pk_product_ID, product_desc, family_product]\n",
              "Index: []"
            ],
            "text/html": [
              "\n",
              "  <div id=\"df-a58a3138-ef20-4b01-9ab9-9cd2a0dba9cd\">\n",
              "    <div class=\"colab-df-container\">\n",
              "      <div>\n",
              "<style scoped>\n",
              "    .dataframe tbody tr th:only-of-type {\n",
              "        vertical-align: middle;\n",
              "    }\n",
              "\n",
              "    .dataframe tbody tr th {\n",
              "        vertical-align: top;\n",
              "    }\n",
              "\n",
              "    .dataframe thead th {\n",
              "        text-align: right;\n",
              "    }\n",
              "</style>\n",
              "<table border=\"1\" class=\"dataframe\">\n",
              "  <thead>\n",
              "    <tr style=\"text-align: right;\">\n",
              "      <th></th>\n",
              "      <th>Unnamed: 0</th>\n",
              "      <th>pk_product_ID</th>\n",
              "      <th>product_desc</th>\n",
              "      <th>family_product</th>\n",
              "    </tr>\n",
              "  </thead>\n",
              "  <tbody>\n",
              "  </tbody>\n",
              "</table>\n",
              "</div>\n",
              "      <button class=\"colab-df-convert\" onclick=\"convertToInteractive('df-a58a3138-ef20-4b01-9ab9-9cd2a0dba9cd')\"\n",
              "              title=\"Convert this dataframe to an interactive table.\"\n",
              "              style=\"display:none;\">\n",
              "        \n",
              "  <svg xmlns=\"http://www.w3.org/2000/svg\" height=\"24px\"viewBox=\"0 0 24 24\"\n",
              "       width=\"24px\">\n",
              "    <path d=\"M0 0h24v24H0V0z\" fill=\"none\"/>\n",
              "    <path d=\"M18.56 5.44l.94 2.06.94-2.06 2.06-.94-2.06-.94-.94-2.06-.94 2.06-2.06.94zm-11 1L8.5 8.5l.94-2.06 2.06-.94-2.06-.94L8.5 2.5l-.94 2.06-2.06.94zm10 10l.94 2.06.94-2.06 2.06-.94-2.06-.94-.94-2.06-.94 2.06-2.06.94z\"/><path d=\"M17.41 7.96l-1.37-1.37c-.4-.4-.92-.59-1.43-.59-.52 0-1.04.2-1.43.59L10.3 9.45l-7.72 7.72c-.78.78-.78 2.05 0 2.83L4 21.41c.39.39.9.59 1.41.59.51 0 1.02-.2 1.41-.59l7.78-7.78 2.81-2.81c.8-.78.8-2.07 0-2.86zM5.41 20L4 18.59l7.72-7.72 1.47 1.35L5.41 20z\"/>\n",
              "  </svg>\n",
              "      </button>\n",
              "      \n",
              "  <style>\n",
              "    .colab-df-container {\n",
              "      display:flex;\n",
              "      flex-wrap:wrap;\n",
              "      gap: 12px;\n",
              "    }\n",
              "\n",
              "    .colab-df-convert {\n",
              "      background-color: #E8F0FE;\n",
              "      border: none;\n",
              "      border-radius: 50%;\n",
              "      cursor: pointer;\n",
              "      display: none;\n",
              "      fill: #1967D2;\n",
              "      height: 32px;\n",
              "      padding: 0 0 0 0;\n",
              "      width: 32px;\n",
              "    }\n",
              "\n",
              "    .colab-df-convert:hover {\n",
              "      background-color: #E2EBFA;\n",
              "      box-shadow: 0px 1px 2px rgba(60, 64, 67, 0.3), 0px 1px 3px 1px rgba(60, 64, 67, 0.15);\n",
              "      fill: #174EA6;\n",
              "    }\n",
              "\n",
              "    [theme=dark] .colab-df-convert {\n",
              "      background-color: #3B4455;\n",
              "      fill: #D2E3FC;\n",
              "    }\n",
              "\n",
              "    [theme=dark] .colab-df-convert:hover {\n",
              "      background-color: #434B5C;\n",
              "      box-shadow: 0px 1px 3px 1px rgba(0, 0, 0, 0.15);\n",
              "      filter: drop-shadow(0px 1px 2px rgba(0, 0, 0, 0.3));\n",
              "      fill: #FFFFFF;\n",
              "    }\n",
              "  </style>\n",
              "\n",
              "      <script>\n",
              "        const buttonEl =\n",
              "          document.querySelector('#df-a58a3138-ef20-4b01-9ab9-9cd2a0dba9cd button.colab-df-convert');\n",
              "        buttonEl.style.display =\n",
              "          google.colab.kernel.accessAllowed ? 'block' : 'none';\n",
              "\n",
              "        async function convertToInteractive(key) {\n",
              "          const element = document.querySelector('#df-a58a3138-ef20-4b01-9ab9-9cd2a0dba9cd');\n",
              "          const dataTable =\n",
              "            await google.colab.kernel.invokeFunction('convertToInteractive',\n",
              "                                                     [key], {});\n",
              "          if (!dataTable) return;\n",
              "\n",
              "          const docLinkHtml = 'Like what you see? Visit the ' +\n",
              "            '<a target=\"_blank\" href=https://colab.research.google.com/notebooks/data_table.ipynb>data table notebook</a>'\n",
              "            + ' to learn more about interactive tables.';\n",
              "          element.innerHTML = '';\n",
              "          dataTable['output_type'] = 'display_data';\n",
              "          await google.colab.output.renderOutput(dataTable, element);\n",
              "          const docLink = document.createElement('div');\n",
              "          docLink.innerHTML = docLinkHtml;\n",
              "          element.appendChild(docLink);\n",
              "        }\n",
              "      </script>\n",
              "    </div>\n",
              "  </div>\n",
              "  "
            ]
          },
          "metadata": {},
          "execution_count": 146
        }
      ]
    },
    {
      "cell_type": "code",
      "source": [
        "# ACCIONES A LLEVAR A CABO \n",
        "\n",
        "# Eliminar columna Unnamed"
      ],
      "metadata": {
        "id": "m9_2ZNRu1wpE"
      },
      "execution_count": 147,
      "outputs": []
    },
    {
      "cell_type": "markdown",
      "source": [
        "### Customer Sociodemographics"
      ],
      "metadata": {
        "id": "MaBHzrXNyn_S"
      }
    },
    {
      "cell_type": "markdown",
      "source": [
        "* pk_cid =\tIdentificador de cliente\n",
        "* pk_partition =\tIdentificador de Partición. Mensualmente se ingesta en la tabla una partición con el estado de la base de clientes.\n",
        "* deceased =\tIndicador de fallecimiento\n",
        "* gender =\tSexo del cliente\n",
        "* region_code =\tProvincia de residencia del cliente (para ES)\n",
        "* salary =\tIngresos brutos de la unidad familiar\n",
        "* country_id =\tPaís de residencia del cliente\n",
        "* age =\tEdad del cliente"
      ],
      "metadata": {
        "id": "RN4rqVMoyn_e"
      }
    },
    {
      "cell_type": "code",
      "source": [
        "customer_sociodemographics_raw.info()"
      ],
      "metadata": {
        "colab": {
          "base_uri": "https://localhost:8080/"
        },
        "id": "vG4RJ69gyn_e",
        "outputId": "7f9e645a-33e6-46cd-93cd-9b44ed347144"
      },
      "execution_count": 148,
      "outputs": [
        {
          "output_type": "stream",
          "name": "stdout",
          "text": [
            "<class 'pandas.core.frame.DataFrame'>\n",
            "RangeIndex: 5962924 entries, 0 to 5962923\n",
            "Data columns (total 9 columns):\n",
            " #   Column        Dtype  \n",
            "---  ------        -----  \n",
            " 0   Unnamed: 0    int64  \n",
            " 1   pk_cid        int64  \n",
            " 2   pk_partition  object \n",
            " 3   country_id    object \n",
            " 4   region_code   float64\n",
            " 5   gender        object \n",
            " 6   age           int64  \n",
            " 7   deceased      object \n",
            " 8   salary        float64\n",
            "dtypes: float64(2), int64(3), object(4)\n",
            "memory usage: 409.4+ MB\n"
          ]
        }
      ]
    },
    {
      "cell_type": "code",
      "source": [
        "customer_sociodemographics_raw.head()"
      ],
      "metadata": {
        "colab": {
          "base_uri": "https://localhost:8080/",
          "height": 206
        },
        "id": "xn1Ycawkyn_e",
        "outputId": "cd2b38e9-5c14-441a-8d5f-e8e55328fd9f"
      },
      "execution_count": 149,
      "outputs": [
        {
          "output_type": "execute_result",
          "data": {
            "text/plain": [
              "   Unnamed: 0   pk_cid pk_partition country_id  region_code gender  age  \\\n",
              "0           0  1375586      2018-01         ES         29.0      H   35   \n",
              "1           1  1050611      2018-01         ES         13.0      V   23   \n",
              "2           2  1050612      2018-01         ES         13.0      V   23   \n",
              "3           3  1050613      2018-01         ES         50.0      H   22   \n",
              "4           4  1050614      2018-01         ES         50.0      V   23   \n",
              "\n",
              "  deceased     salary  \n",
              "0        N   87218.10  \n",
              "1        N   35548.74  \n",
              "2        N  122179.11  \n",
              "3        N  119775.54  \n",
              "4        N        NaN  "
            ],
            "text/html": [
              "\n",
              "  <div id=\"df-aa2097d6-afb0-4343-9c3d-fbcc8d350618\">\n",
              "    <div class=\"colab-df-container\">\n",
              "      <div>\n",
              "<style scoped>\n",
              "    .dataframe tbody tr th:only-of-type {\n",
              "        vertical-align: middle;\n",
              "    }\n",
              "\n",
              "    .dataframe tbody tr th {\n",
              "        vertical-align: top;\n",
              "    }\n",
              "\n",
              "    .dataframe thead th {\n",
              "        text-align: right;\n",
              "    }\n",
              "</style>\n",
              "<table border=\"1\" class=\"dataframe\">\n",
              "  <thead>\n",
              "    <tr style=\"text-align: right;\">\n",
              "      <th></th>\n",
              "      <th>Unnamed: 0</th>\n",
              "      <th>pk_cid</th>\n",
              "      <th>pk_partition</th>\n",
              "      <th>country_id</th>\n",
              "      <th>region_code</th>\n",
              "      <th>gender</th>\n",
              "      <th>age</th>\n",
              "      <th>deceased</th>\n",
              "      <th>salary</th>\n",
              "    </tr>\n",
              "  </thead>\n",
              "  <tbody>\n",
              "    <tr>\n",
              "      <th>0</th>\n",
              "      <td>0</td>\n",
              "      <td>1375586</td>\n",
              "      <td>2018-01</td>\n",
              "      <td>ES</td>\n",
              "      <td>29.0</td>\n",
              "      <td>H</td>\n",
              "      <td>35</td>\n",
              "      <td>N</td>\n",
              "      <td>87218.10</td>\n",
              "    </tr>\n",
              "    <tr>\n",
              "      <th>1</th>\n",
              "      <td>1</td>\n",
              "      <td>1050611</td>\n",
              "      <td>2018-01</td>\n",
              "      <td>ES</td>\n",
              "      <td>13.0</td>\n",
              "      <td>V</td>\n",
              "      <td>23</td>\n",
              "      <td>N</td>\n",
              "      <td>35548.74</td>\n",
              "    </tr>\n",
              "    <tr>\n",
              "      <th>2</th>\n",
              "      <td>2</td>\n",
              "      <td>1050612</td>\n",
              "      <td>2018-01</td>\n",
              "      <td>ES</td>\n",
              "      <td>13.0</td>\n",
              "      <td>V</td>\n",
              "      <td>23</td>\n",
              "      <td>N</td>\n",
              "      <td>122179.11</td>\n",
              "    </tr>\n",
              "    <tr>\n",
              "      <th>3</th>\n",
              "      <td>3</td>\n",
              "      <td>1050613</td>\n",
              "      <td>2018-01</td>\n",
              "      <td>ES</td>\n",
              "      <td>50.0</td>\n",
              "      <td>H</td>\n",
              "      <td>22</td>\n",
              "      <td>N</td>\n",
              "      <td>119775.54</td>\n",
              "    </tr>\n",
              "    <tr>\n",
              "      <th>4</th>\n",
              "      <td>4</td>\n",
              "      <td>1050614</td>\n",
              "      <td>2018-01</td>\n",
              "      <td>ES</td>\n",
              "      <td>50.0</td>\n",
              "      <td>V</td>\n",
              "      <td>23</td>\n",
              "      <td>N</td>\n",
              "      <td>NaN</td>\n",
              "    </tr>\n",
              "  </tbody>\n",
              "</table>\n",
              "</div>\n",
              "      <button class=\"colab-df-convert\" onclick=\"convertToInteractive('df-aa2097d6-afb0-4343-9c3d-fbcc8d350618')\"\n",
              "              title=\"Convert this dataframe to an interactive table.\"\n",
              "              style=\"display:none;\">\n",
              "        \n",
              "  <svg xmlns=\"http://www.w3.org/2000/svg\" height=\"24px\"viewBox=\"0 0 24 24\"\n",
              "       width=\"24px\">\n",
              "    <path d=\"M0 0h24v24H0V0z\" fill=\"none\"/>\n",
              "    <path d=\"M18.56 5.44l.94 2.06.94-2.06 2.06-.94-2.06-.94-.94-2.06-.94 2.06-2.06.94zm-11 1L8.5 8.5l.94-2.06 2.06-.94-2.06-.94L8.5 2.5l-.94 2.06-2.06.94zm10 10l.94 2.06.94-2.06 2.06-.94-2.06-.94-.94-2.06-.94 2.06-2.06.94z\"/><path d=\"M17.41 7.96l-1.37-1.37c-.4-.4-.92-.59-1.43-.59-.52 0-1.04.2-1.43.59L10.3 9.45l-7.72 7.72c-.78.78-.78 2.05 0 2.83L4 21.41c.39.39.9.59 1.41.59.51 0 1.02-.2 1.41-.59l7.78-7.78 2.81-2.81c.8-.78.8-2.07 0-2.86zM5.41 20L4 18.59l7.72-7.72 1.47 1.35L5.41 20z\"/>\n",
              "  </svg>\n",
              "      </button>\n",
              "      \n",
              "  <style>\n",
              "    .colab-df-container {\n",
              "      display:flex;\n",
              "      flex-wrap:wrap;\n",
              "      gap: 12px;\n",
              "    }\n",
              "\n",
              "    .colab-df-convert {\n",
              "      background-color: #E8F0FE;\n",
              "      border: none;\n",
              "      border-radius: 50%;\n",
              "      cursor: pointer;\n",
              "      display: none;\n",
              "      fill: #1967D2;\n",
              "      height: 32px;\n",
              "      padding: 0 0 0 0;\n",
              "      width: 32px;\n",
              "    }\n",
              "\n",
              "    .colab-df-convert:hover {\n",
              "      background-color: #E2EBFA;\n",
              "      box-shadow: 0px 1px 2px rgba(60, 64, 67, 0.3), 0px 1px 3px 1px rgba(60, 64, 67, 0.15);\n",
              "      fill: #174EA6;\n",
              "    }\n",
              "\n",
              "    [theme=dark] .colab-df-convert {\n",
              "      background-color: #3B4455;\n",
              "      fill: #D2E3FC;\n",
              "    }\n",
              "\n",
              "    [theme=dark] .colab-df-convert:hover {\n",
              "      background-color: #434B5C;\n",
              "      box-shadow: 0px 1px 3px 1px rgba(0, 0, 0, 0.15);\n",
              "      filter: drop-shadow(0px 1px 2px rgba(0, 0, 0, 0.3));\n",
              "      fill: #FFFFFF;\n",
              "    }\n",
              "  </style>\n",
              "\n",
              "      <script>\n",
              "        const buttonEl =\n",
              "          document.querySelector('#df-aa2097d6-afb0-4343-9c3d-fbcc8d350618 button.colab-df-convert');\n",
              "        buttonEl.style.display =\n",
              "          google.colab.kernel.accessAllowed ? 'block' : 'none';\n",
              "\n",
              "        async function convertToInteractive(key) {\n",
              "          const element = document.querySelector('#df-aa2097d6-afb0-4343-9c3d-fbcc8d350618');\n",
              "          const dataTable =\n",
              "            await google.colab.kernel.invokeFunction('convertToInteractive',\n",
              "                                                     [key], {});\n",
              "          if (!dataTable) return;\n",
              "\n",
              "          const docLinkHtml = 'Like what you see? Visit the ' +\n",
              "            '<a target=\"_blank\" href=https://colab.research.google.com/notebooks/data_table.ipynb>data table notebook</a>'\n",
              "            + ' to learn more about interactive tables.';\n",
              "          element.innerHTML = '';\n",
              "          dataTable['output_type'] = 'display_data';\n",
              "          await google.colab.output.renderOutput(dataTable, element);\n",
              "          const docLink = document.createElement('div');\n",
              "          docLink.innerHTML = docLinkHtml;\n",
              "          element.appendChild(docLink);\n",
              "        }\n",
              "      </script>\n",
              "    </div>\n",
              "  </div>\n",
              "  "
            ]
          },
          "metadata": {},
          "execution_count": 149
        }
      ]
    },
    {
      "cell_type": "code",
      "source": [
        "customer_sociodemographics_raw.describe(include = ['object'])"
      ],
      "metadata": {
        "colab": {
          "base_uri": "https://localhost:8080/",
          "height": 175
        },
        "id": "2FtPt2M8yn_e",
        "outputId": "be4c0ac3-1bf0-4e52-d61d-31c73aec0216"
      },
      "execution_count": 150,
      "outputs": [
        {
          "output_type": "execute_result",
          "data": {
            "text/plain": [
              "       pk_partition country_id   gender deceased\n",
              "count       5962924    5962924  5962899  5962924\n",
              "unique           17         41        2        2\n",
              "top         2019-05         ES        H        N\n",
              "freq         442995    5960672  3087502  5961849"
            ],
            "text/html": [
              "\n",
              "  <div id=\"df-64e5bdf6-76f6-423f-9b82-3a29c03f1d85\">\n",
              "    <div class=\"colab-df-container\">\n",
              "      <div>\n",
              "<style scoped>\n",
              "    .dataframe tbody tr th:only-of-type {\n",
              "        vertical-align: middle;\n",
              "    }\n",
              "\n",
              "    .dataframe tbody tr th {\n",
              "        vertical-align: top;\n",
              "    }\n",
              "\n",
              "    .dataframe thead th {\n",
              "        text-align: right;\n",
              "    }\n",
              "</style>\n",
              "<table border=\"1\" class=\"dataframe\">\n",
              "  <thead>\n",
              "    <tr style=\"text-align: right;\">\n",
              "      <th></th>\n",
              "      <th>pk_partition</th>\n",
              "      <th>country_id</th>\n",
              "      <th>gender</th>\n",
              "      <th>deceased</th>\n",
              "    </tr>\n",
              "  </thead>\n",
              "  <tbody>\n",
              "    <tr>\n",
              "      <th>count</th>\n",
              "      <td>5962924</td>\n",
              "      <td>5962924</td>\n",
              "      <td>5962899</td>\n",
              "      <td>5962924</td>\n",
              "    </tr>\n",
              "    <tr>\n",
              "      <th>unique</th>\n",
              "      <td>17</td>\n",
              "      <td>41</td>\n",
              "      <td>2</td>\n",
              "      <td>2</td>\n",
              "    </tr>\n",
              "    <tr>\n",
              "      <th>top</th>\n",
              "      <td>2019-05</td>\n",
              "      <td>ES</td>\n",
              "      <td>H</td>\n",
              "      <td>N</td>\n",
              "    </tr>\n",
              "    <tr>\n",
              "      <th>freq</th>\n",
              "      <td>442995</td>\n",
              "      <td>5960672</td>\n",
              "      <td>3087502</td>\n",
              "      <td>5961849</td>\n",
              "    </tr>\n",
              "  </tbody>\n",
              "</table>\n",
              "</div>\n",
              "      <button class=\"colab-df-convert\" onclick=\"convertToInteractive('df-64e5bdf6-76f6-423f-9b82-3a29c03f1d85')\"\n",
              "              title=\"Convert this dataframe to an interactive table.\"\n",
              "              style=\"display:none;\">\n",
              "        \n",
              "  <svg xmlns=\"http://www.w3.org/2000/svg\" height=\"24px\"viewBox=\"0 0 24 24\"\n",
              "       width=\"24px\">\n",
              "    <path d=\"M0 0h24v24H0V0z\" fill=\"none\"/>\n",
              "    <path d=\"M18.56 5.44l.94 2.06.94-2.06 2.06-.94-2.06-.94-.94-2.06-.94 2.06-2.06.94zm-11 1L8.5 8.5l.94-2.06 2.06-.94-2.06-.94L8.5 2.5l-.94 2.06-2.06.94zm10 10l.94 2.06.94-2.06 2.06-.94-2.06-.94-.94-2.06-.94 2.06-2.06.94z\"/><path d=\"M17.41 7.96l-1.37-1.37c-.4-.4-.92-.59-1.43-.59-.52 0-1.04.2-1.43.59L10.3 9.45l-7.72 7.72c-.78.78-.78 2.05 0 2.83L4 21.41c.39.39.9.59 1.41.59.51 0 1.02-.2 1.41-.59l7.78-7.78 2.81-2.81c.8-.78.8-2.07 0-2.86zM5.41 20L4 18.59l7.72-7.72 1.47 1.35L5.41 20z\"/>\n",
              "  </svg>\n",
              "      </button>\n",
              "      \n",
              "  <style>\n",
              "    .colab-df-container {\n",
              "      display:flex;\n",
              "      flex-wrap:wrap;\n",
              "      gap: 12px;\n",
              "    }\n",
              "\n",
              "    .colab-df-convert {\n",
              "      background-color: #E8F0FE;\n",
              "      border: none;\n",
              "      border-radius: 50%;\n",
              "      cursor: pointer;\n",
              "      display: none;\n",
              "      fill: #1967D2;\n",
              "      height: 32px;\n",
              "      padding: 0 0 0 0;\n",
              "      width: 32px;\n",
              "    }\n",
              "\n",
              "    .colab-df-convert:hover {\n",
              "      background-color: #E2EBFA;\n",
              "      box-shadow: 0px 1px 2px rgba(60, 64, 67, 0.3), 0px 1px 3px 1px rgba(60, 64, 67, 0.15);\n",
              "      fill: #174EA6;\n",
              "    }\n",
              "\n",
              "    [theme=dark] .colab-df-convert {\n",
              "      background-color: #3B4455;\n",
              "      fill: #D2E3FC;\n",
              "    }\n",
              "\n",
              "    [theme=dark] .colab-df-convert:hover {\n",
              "      background-color: #434B5C;\n",
              "      box-shadow: 0px 1px 3px 1px rgba(0, 0, 0, 0.15);\n",
              "      filter: drop-shadow(0px 1px 2px rgba(0, 0, 0, 0.3));\n",
              "      fill: #FFFFFF;\n",
              "    }\n",
              "  </style>\n",
              "\n",
              "      <script>\n",
              "        const buttonEl =\n",
              "          document.querySelector('#df-64e5bdf6-76f6-423f-9b82-3a29c03f1d85 button.colab-df-convert');\n",
              "        buttonEl.style.display =\n",
              "          google.colab.kernel.accessAllowed ? 'block' : 'none';\n",
              "\n",
              "        async function convertToInteractive(key) {\n",
              "          const element = document.querySelector('#df-64e5bdf6-76f6-423f-9b82-3a29c03f1d85');\n",
              "          const dataTable =\n",
              "            await google.colab.kernel.invokeFunction('convertToInteractive',\n",
              "                                                     [key], {});\n",
              "          if (!dataTable) return;\n",
              "\n",
              "          const docLinkHtml = 'Like what you see? Visit the ' +\n",
              "            '<a target=\"_blank\" href=https://colab.research.google.com/notebooks/data_table.ipynb>data table notebook</a>'\n",
              "            + ' to learn more about interactive tables.';\n",
              "          element.innerHTML = '';\n",
              "          dataTable['output_type'] = 'display_data';\n",
              "          await google.colab.output.renderOutput(dataTable, element);\n",
              "          const docLink = document.createElement('div');\n",
              "          docLink.innerHTML = docLinkHtml;\n",
              "          element.appendChild(docLink);\n",
              "        }\n",
              "      </script>\n",
              "    </div>\n",
              "  </div>\n",
              "  "
            ]
          },
          "metadata": {},
          "execution_count": 150
        }
      ]
    },
    {
      "cell_type": "code",
      "source": [
        "customer_sociodemographics_raw.describe(exclude = ['object'])"
      ],
      "metadata": {
        "colab": {
          "base_uri": "https://localhost:8080/",
          "height": 300
        },
        "id": "zxxezDhdyn_f",
        "outputId": "bafc6a97-f6e0-45b2-c1ec-e7237a6d9688"
      },
      "execution_count": 151,
      "outputs": [
        {
          "output_type": "execute_result",
          "data": {
            "text/plain": [
              "         Unnamed: 0        pk_cid   region_code           age        salary\n",
              "count  5.962924e+06  5.962924e+06  5.960660e+06  5.962924e+06  4.421820e+06\n",
              "mean   7.155425e+06  1.234930e+06  2.581440e+01  2.976042e+01  1.155833e+05\n",
              "std    3.920784e+06  1.623020e+05  1.359566e+01  1.198038e+01  2.000066e+05\n",
              "min    0.000000e+00  1.589100e+04  1.000000e+00  2.000000e+00  1.202730e+03\n",
              "25%    4.240386e+06  1.112532e+06  1.300000e+01  2.200000e+01  6.141532e+04\n",
              "50%    7.499346e+06  1.231097e+06  2.800000e+01  2.500000e+01  8.844147e+04\n",
              "75%    1.020142e+07  1.352339e+06  3.600000e+01  3.400000e+01  1.313092e+05\n",
              "max    1.364731e+07  1.553689e+06  5.200000e+01  1.050000e+02  2.889440e+07"
            ],
            "text/html": [
              "\n",
              "  <div id=\"df-9a282d84-4ef1-40b2-9318-587fe047cf32\">\n",
              "    <div class=\"colab-df-container\">\n",
              "      <div>\n",
              "<style scoped>\n",
              "    .dataframe tbody tr th:only-of-type {\n",
              "        vertical-align: middle;\n",
              "    }\n",
              "\n",
              "    .dataframe tbody tr th {\n",
              "        vertical-align: top;\n",
              "    }\n",
              "\n",
              "    .dataframe thead th {\n",
              "        text-align: right;\n",
              "    }\n",
              "</style>\n",
              "<table border=\"1\" class=\"dataframe\">\n",
              "  <thead>\n",
              "    <tr style=\"text-align: right;\">\n",
              "      <th></th>\n",
              "      <th>Unnamed: 0</th>\n",
              "      <th>pk_cid</th>\n",
              "      <th>region_code</th>\n",
              "      <th>age</th>\n",
              "      <th>salary</th>\n",
              "    </tr>\n",
              "  </thead>\n",
              "  <tbody>\n",
              "    <tr>\n",
              "      <th>count</th>\n",
              "      <td>5.962924e+06</td>\n",
              "      <td>5.962924e+06</td>\n",
              "      <td>5.960660e+06</td>\n",
              "      <td>5.962924e+06</td>\n",
              "      <td>4.421820e+06</td>\n",
              "    </tr>\n",
              "    <tr>\n",
              "      <th>mean</th>\n",
              "      <td>7.155425e+06</td>\n",
              "      <td>1.234930e+06</td>\n",
              "      <td>2.581440e+01</td>\n",
              "      <td>2.976042e+01</td>\n",
              "      <td>1.155833e+05</td>\n",
              "    </tr>\n",
              "    <tr>\n",
              "      <th>std</th>\n",
              "      <td>3.920784e+06</td>\n",
              "      <td>1.623020e+05</td>\n",
              "      <td>1.359566e+01</td>\n",
              "      <td>1.198038e+01</td>\n",
              "      <td>2.000066e+05</td>\n",
              "    </tr>\n",
              "    <tr>\n",
              "      <th>min</th>\n",
              "      <td>0.000000e+00</td>\n",
              "      <td>1.589100e+04</td>\n",
              "      <td>1.000000e+00</td>\n",
              "      <td>2.000000e+00</td>\n",
              "      <td>1.202730e+03</td>\n",
              "    </tr>\n",
              "    <tr>\n",
              "      <th>25%</th>\n",
              "      <td>4.240386e+06</td>\n",
              "      <td>1.112532e+06</td>\n",
              "      <td>1.300000e+01</td>\n",
              "      <td>2.200000e+01</td>\n",
              "      <td>6.141532e+04</td>\n",
              "    </tr>\n",
              "    <tr>\n",
              "      <th>50%</th>\n",
              "      <td>7.499346e+06</td>\n",
              "      <td>1.231097e+06</td>\n",
              "      <td>2.800000e+01</td>\n",
              "      <td>2.500000e+01</td>\n",
              "      <td>8.844147e+04</td>\n",
              "    </tr>\n",
              "    <tr>\n",
              "      <th>75%</th>\n",
              "      <td>1.020142e+07</td>\n",
              "      <td>1.352339e+06</td>\n",
              "      <td>3.600000e+01</td>\n",
              "      <td>3.400000e+01</td>\n",
              "      <td>1.313092e+05</td>\n",
              "    </tr>\n",
              "    <tr>\n",
              "      <th>max</th>\n",
              "      <td>1.364731e+07</td>\n",
              "      <td>1.553689e+06</td>\n",
              "      <td>5.200000e+01</td>\n",
              "      <td>1.050000e+02</td>\n",
              "      <td>2.889440e+07</td>\n",
              "    </tr>\n",
              "  </tbody>\n",
              "</table>\n",
              "</div>\n",
              "      <button class=\"colab-df-convert\" onclick=\"convertToInteractive('df-9a282d84-4ef1-40b2-9318-587fe047cf32')\"\n",
              "              title=\"Convert this dataframe to an interactive table.\"\n",
              "              style=\"display:none;\">\n",
              "        \n",
              "  <svg xmlns=\"http://www.w3.org/2000/svg\" height=\"24px\"viewBox=\"0 0 24 24\"\n",
              "       width=\"24px\">\n",
              "    <path d=\"M0 0h24v24H0V0z\" fill=\"none\"/>\n",
              "    <path d=\"M18.56 5.44l.94 2.06.94-2.06 2.06-.94-2.06-.94-.94-2.06-.94 2.06-2.06.94zm-11 1L8.5 8.5l.94-2.06 2.06-.94-2.06-.94L8.5 2.5l-.94 2.06-2.06.94zm10 10l.94 2.06.94-2.06 2.06-.94-2.06-.94-.94-2.06-.94 2.06-2.06.94z\"/><path d=\"M17.41 7.96l-1.37-1.37c-.4-.4-.92-.59-1.43-.59-.52 0-1.04.2-1.43.59L10.3 9.45l-7.72 7.72c-.78.78-.78 2.05 0 2.83L4 21.41c.39.39.9.59 1.41.59.51 0 1.02-.2 1.41-.59l7.78-7.78 2.81-2.81c.8-.78.8-2.07 0-2.86zM5.41 20L4 18.59l7.72-7.72 1.47 1.35L5.41 20z\"/>\n",
              "  </svg>\n",
              "      </button>\n",
              "      \n",
              "  <style>\n",
              "    .colab-df-container {\n",
              "      display:flex;\n",
              "      flex-wrap:wrap;\n",
              "      gap: 12px;\n",
              "    }\n",
              "\n",
              "    .colab-df-convert {\n",
              "      background-color: #E8F0FE;\n",
              "      border: none;\n",
              "      border-radius: 50%;\n",
              "      cursor: pointer;\n",
              "      display: none;\n",
              "      fill: #1967D2;\n",
              "      height: 32px;\n",
              "      padding: 0 0 0 0;\n",
              "      width: 32px;\n",
              "    }\n",
              "\n",
              "    .colab-df-convert:hover {\n",
              "      background-color: #E2EBFA;\n",
              "      box-shadow: 0px 1px 2px rgba(60, 64, 67, 0.3), 0px 1px 3px 1px rgba(60, 64, 67, 0.15);\n",
              "      fill: #174EA6;\n",
              "    }\n",
              "\n",
              "    [theme=dark] .colab-df-convert {\n",
              "      background-color: #3B4455;\n",
              "      fill: #D2E3FC;\n",
              "    }\n",
              "\n",
              "    [theme=dark] .colab-df-convert:hover {\n",
              "      background-color: #434B5C;\n",
              "      box-shadow: 0px 1px 3px 1px rgba(0, 0, 0, 0.15);\n",
              "      filter: drop-shadow(0px 1px 2px rgba(0, 0, 0, 0.3));\n",
              "      fill: #FFFFFF;\n",
              "    }\n",
              "  </style>\n",
              "\n",
              "      <script>\n",
              "        const buttonEl =\n",
              "          document.querySelector('#df-9a282d84-4ef1-40b2-9318-587fe047cf32 button.colab-df-convert');\n",
              "        buttonEl.style.display =\n",
              "          google.colab.kernel.accessAllowed ? 'block' : 'none';\n",
              "\n",
              "        async function convertToInteractive(key) {\n",
              "          const element = document.querySelector('#df-9a282d84-4ef1-40b2-9318-587fe047cf32');\n",
              "          const dataTable =\n",
              "            await google.colab.kernel.invokeFunction('convertToInteractive',\n",
              "                                                     [key], {});\n",
              "          if (!dataTable) return;\n",
              "\n",
              "          const docLinkHtml = 'Like what you see? Visit the ' +\n",
              "            '<a target=\"_blank\" href=https://colab.research.google.com/notebooks/data_table.ipynb>data table notebook</a>'\n",
              "            + ' to learn more about interactive tables.';\n",
              "          element.innerHTML = '';\n",
              "          dataTable['output_type'] = 'display_data';\n",
              "          await google.colab.output.renderOutput(dataTable, element);\n",
              "          const docLink = document.createElement('div');\n",
              "          docLink.innerHTML = docLinkHtml;\n",
              "          element.appendChild(docLink);\n",
              "        }\n",
              "      </script>\n",
              "    </div>\n",
              "  </div>\n",
              "  "
            ]
          },
          "metadata": {},
          "execution_count": 151
        }
      ]
    },
    {
      "cell_type": "code",
      "source": [
        "customer_sociodemographics_raw.isnull().sum()"
      ],
      "metadata": {
        "colab": {
          "base_uri": "https://localhost:8080/"
        },
        "id": "TD_ZD3e_yn_f",
        "outputId": "75b8d1d9-27d5-467e-c86d-4d0a562e8ba8"
      },
      "execution_count": 152,
      "outputs": [
        {
          "output_type": "execute_result",
          "data": {
            "text/plain": [
              "Unnamed: 0            0\n",
              "pk_cid                0\n",
              "pk_partition          0\n",
              "country_id            0\n",
              "region_code        2264\n",
              "gender               25\n",
              "age                   0\n",
              "deceased              0\n",
              "salary          1541104\n",
              "dtype: int64"
            ]
          },
          "metadata": {},
          "execution_count": 152
        }
      ]
    },
    {
      "cell_type": "code",
      "source": [
        "customer_sociodemographics_raw[\"country_id\"].value_counts().head(10)"
      ],
      "metadata": {
        "colab": {
          "base_uri": "https://localhost:8080/"
        },
        "id": "veQVxGbAyn_f",
        "outputId": "0c40ea33-6120-4cab-a085-d8e762d14598"
      },
      "execution_count": 153,
      "outputs": [
        {
          "output_type": "execute_result",
          "data": {
            "text/plain": [
              "ES    5960672\n",
              "GB        441\n",
              "FR        225\n",
              "DE        199\n",
              "US        195\n",
              "CH        194\n",
              "BR         87\n",
              "BE         81\n",
              "VE         79\n",
              "IE         68\n",
              "Name: country_id, dtype: int64"
            ]
          },
          "metadata": {},
          "execution_count": 153
        }
      ]
    },
    {
      "cell_type": "code",
      "source": [
        "# ACCIONES CUSTOMER SOCIODEMOGRAPHICS\n",
        "\n",
        "# Gestionar nulos: (Culebra: tenemos modelo de clasificación así que lo que haremos será ponerles valores extremos)\n",
        "#     region_code\n",
        "#     gender\n",
        "#     salary\n",
        "# gender > Transformar a 1 y 0\n",
        "# deceased > Transformar a 1 y 0\n",
        "# country_id > Transformar a boolean \"ES\" Sí/No\n"
      ],
      "metadata": {
        "id": "sc0F1_4wyn_f"
      },
      "execution_count": 154,
      "outputs": []
    },
    {
      "cell_type": "markdown",
      "source": [
        "### Customer Commercial Activity"
      ],
      "metadata": {
        "id": "xLmTCU9FsnzR"
      }
    },
    {
      "cell_type": "markdown",
      "source": [
        "* pk_cid = Identificador de cliente\n",
        "* pk_partition =\tIdentificador de Partición. Mensualmente se ingesta en la tabla una partición con el estado de la base de clientes.\n",
        "* entry_channel =\tCanal de captación del cliente\n",
        "* entry_date =\tFecha en la que realizó la primera contratación a través de easyMoney\n",
        "* segment =\tSegmento comercial del cliente\n",
        "* active_customer =\tIndicador de actividad del cliente en la app EasyMoney"
      ],
      "metadata": {
        "id": "Y8ibAYQ5twNd"
      }
    },
    {
      "cell_type": "code",
      "source": [
        "customer_commercial_activity_raw.info()"
      ],
      "metadata": {
        "colab": {
          "base_uri": "https://localhost:8080/"
        },
        "id": "rX8I1oKUsv7d",
        "outputId": "1b349d82-c39f-43fb-a705-8b85089d8bd2"
      },
      "execution_count": 155,
      "outputs": [
        {
          "output_type": "stream",
          "name": "stdout",
          "text": [
            "<class 'pandas.core.frame.DataFrame'>\n",
            "RangeIndex: 5962924 entries, 0 to 5962923\n",
            "Data columns (total 7 columns):\n",
            " #   Column           Dtype  \n",
            "---  ------           -----  \n",
            " 0   Unnamed: 0       int64  \n",
            " 1   pk_cid           int64  \n",
            " 2   pk_partition     object \n",
            " 3   entry_date       object \n",
            " 4   entry_channel    object \n",
            " 5   active_customer  float64\n",
            " 6   segment          object \n",
            "dtypes: float64(1), int64(2), object(4)\n",
            "memory usage: 318.5+ MB\n"
          ]
        }
      ]
    },
    {
      "cell_type": "code",
      "source": [
        "customer_commercial_activity_raw.head()"
      ],
      "metadata": {
        "colab": {
          "base_uri": "https://localhost:8080/",
          "height": 206
        },
        "id": "LvZ5Sffrqtql",
        "outputId": "8733d36f-d31a-4de0-f776-fa1c3fedb53b"
      },
      "execution_count": 156,
      "outputs": [
        {
          "output_type": "execute_result",
          "data": {
            "text/plain": [
              "   Unnamed: 0   pk_cid pk_partition entry_date entry_channel  active_customer  \\\n",
              "0           0  1375586      2018-01    2018-01           KHL              1.0   \n",
              "1           1  1050611      2018-01    2015-08           KHE              0.0   \n",
              "2           2  1050612      2018-01    2015-08           KHE              0.0   \n",
              "3           3  1050613      2018-01    2015-08           KHD              0.0   \n",
              "4           4  1050614      2018-01    2015-08           KHE              1.0   \n",
              "\n",
              "              segment  \n",
              "0   02 - PARTICULARES  \n",
              "1  03 - UNIVERSITARIO  \n",
              "2  03 - UNIVERSITARIO  \n",
              "3  03 - UNIVERSITARIO  \n",
              "4  03 - UNIVERSITARIO  "
            ],
            "text/html": [
              "\n",
              "  <div id=\"df-83633ec1-795d-4c6a-aca2-ba23af078471\">\n",
              "    <div class=\"colab-df-container\">\n",
              "      <div>\n",
              "<style scoped>\n",
              "    .dataframe tbody tr th:only-of-type {\n",
              "        vertical-align: middle;\n",
              "    }\n",
              "\n",
              "    .dataframe tbody tr th {\n",
              "        vertical-align: top;\n",
              "    }\n",
              "\n",
              "    .dataframe thead th {\n",
              "        text-align: right;\n",
              "    }\n",
              "</style>\n",
              "<table border=\"1\" class=\"dataframe\">\n",
              "  <thead>\n",
              "    <tr style=\"text-align: right;\">\n",
              "      <th></th>\n",
              "      <th>Unnamed: 0</th>\n",
              "      <th>pk_cid</th>\n",
              "      <th>pk_partition</th>\n",
              "      <th>entry_date</th>\n",
              "      <th>entry_channel</th>\n",
              "      <th>active_customer</th>\n",
              "      <th>segment</th>\n",
              "    </tr>\n",
              "  </thead>\n",
              "  <tbody>\n",
              "    <tr>\n",
              "      <th>0</th>\n",
              "      <td>0</td>\n",
              "      <td>1375586</td>\n",
              "      <td>2018-01</td>\n",
              "      <td>2018-01</td>\n",
              "      <td>KHL</td>\n",
              "      <td>1.0</td>\n",
              "      <td>02 - PARTICULARES</td>\n",
              "    </tr>\n",
              "    <tr>\n",
              "      <th>1</th>\n",
              "      <td>1</td>\n",
              "      <td>1050611</td>\n",
              "      <td>2018-01</td>\n",
              "      <td>2015-08</td>\n",
              "      <td>KHE</td>\n",
              "      <td>0.0</td>\n",
              "      <td>03 - UNIVERSITARIO</td>\n",
              "    </tr>\n",
              "    <tr>\n",
              "      <th>2</th>\n",
              "      <td>2</td>\n",
              "      <td>1050612</td>\n",
              "      <td>2018-01</td>\n",
              "      <td>2015-08</td>\n",
              "      <td>KHE</td>\n",
              "      <td>0.0</td>\n",
              "      <td>03 - UNIVERSITARIO</td>\n",
              "    </tr>\n",
              "    <tr>\n",
              "      <th>3</th>\n",
              "      <td>3</td>\n",
              "      <td>1050613</td>\n",
              "      <td>2018-01</td>\n",
              "      <td>2015-08</td>\n",
              "      <td>KHD</td>\n",
              "      <td>0.0</td>\n",
              "      <td>03 - UNIVERSITARIO</td>\n",
              "    </tr>\n",
              "    <tr>\n",
              "      <th>4</th>\n",
              "      <td>4</td>\n",
              "      <td>1050614</td>\n",
              "      <td>2018-01</td>\n",
              "      <td>2015-08</td>\n",
              "      <td>KHE</td>\n",
              "      <td>1.0</td>\n",
              "      <td>03 - UNIVERSITARIO</td>\n",
              "    </tr>\n",
              "  </tbody>\n",
              "</table>\n",
              "</div>\n",
              "      <button class=\"colab-df-convert\" onclick=\"convertToInteractive('df-83633ec1-795d-4c6a-aca2-ba23af078471')\"\n",
              "              title=\"Convert this dataframe to an interactive table.\"\n",
              "              style=\"display:none;\">\n",
              "        \n",
              "  <svg xmlns=\"http://www.w3.org/2000/svg\" height=\"24px\"viewBox=\"0 0 24 24\"\n",
              "       width=\"24px\">\n",
              "    <path d=\"M0 0h24v24H0V0z\" fill=\"none\"/>\n",
              "    <path d=\"M18.56 5.44l.94 2.06.94-2.06 2.06-.94-2.06-.94-.94-2.06-.94 2.06-2.06.94zm-11 1L8.5 8.5l.94-2.06 2.06-.94-2.06-.94L8.5 2.5l-.94 2.06-2.06.94zm10 10l.94 2.06.94-2.06 2.06-.94-2.06-.94-.94-2.06-.94 2.06-2.06.94z\"/><path d=\"M17.41 7.96l-1.37-1.37c-.4-.4-.92-.59-1.43-.59-.52 0-1.04.2-1.43.59L10.3 9.45l-7.72 7.72c-.78.78-.78 2.05 0 2.83L4 21.41c.39.39.9.59 1.41.59.51 0 1.02-.2 1.41-.59l7.78-7.78 2.81-2.81c.8-.78.8-2.07 0-2.86zM5.41 20L4 18.59l7.72-7.72 1.47 1.35L5.41 20z\"/>\n",
              "  </svg>\n",
              "      </button>\n",
              "      \n",
              "  <style>\n",
              "    .colab-df-container {\n",
              "      display:flex;\n",
              "      flex-wrap:wrap;\n",
              "      gap: 12px;\n",
              "    }\n",
              "\n",
              "    .colab-df-convert {\n",
              "      background-color: #E8F0FE;\n",
              "      border: none;\n",
              "      border-radius: 50%;\n",
              "      cursor: pointer;\n",
              "      display: none;\n",
              "      fill: #1967D2;\n",
              "      height: 32px;\n",
              "      padding: 0 0 0 0;\n",
              "      width: 32px;\n",
              "    }\n",
              "\n",
              "    .colab-df-convert:hover {\n",
              "      background-color: #E2EBFA;\n",
              "      box-shadow: 0px 1px 2px rgba(60, 64, 67, 0.3), 0px 1px 3px 1px rgba(60, 64, 67, 0.15);\n",
              "      fill: #174EA6;\n",
              "    }\n",
              "\n",
              "    [theme=dark] .colab-df-convert {\n",
              "      background-color: #3B4455;\n",
              "      fill: #D2E3FC;\n",
              "    }\n",
              "\n",
              "    [theme=dark] .colab-df-convert:hover {\n",
              "      background-color: #434B5C;\n",
              "      box-shadow: 0px 1px 3px 1px rgba(0, 0, 0, 0.15);\n",
              "      filter: drop-shadow(0px 1px 2px rgba(0, 0, 0, 0.3));\n",
              "      fill: #FFFFFF;\n",
              "    }\n",
              "  </style>\n",
              "\n",
              "      <script>\n",
              "        const buttonEl =\n",
              "          document.querySelector('#df-83633ec1-795d-4c6a-aca2-ba23af078471 button.colab-df-convert');\n",
              "        buttonEl.style.display =\n",
              "          google.colab.kernel.accessAllowed ? 'block' : 'none';\n",
              "\n",
              "        async function convertToInteractive(key) {\n",
              "          const element = document.querySelector('#df-83633ec1-795d-4c6a-aca2-ba23af078471');\n",
              "          const dataTable =\n",
              "            await google.colab.kernel.invokeFunction('convertToInteractive',\n",
              "                                                     [key], {});\n",
              "          if (!dataTable) return;\n",
              "\n",
              "          const docLinkHtml = 'Like what you see? Visit the ' +\n",
              "            '<a target=\"_blank\" href=https://colab.research.google.com/notebooks/data_table.ipynb>data table notebook</a>'\n",
              "            + ' to learn more about interactive tables.';\n",
              "          element.innerHTML = '';\n",
              "          dataTable['output_type'] = 'display_data';\n",
              "          await google.colab.output.renderOutput(dataTable, element);\n",
              "          const docLink = document.createElement('div');\n",
              "          docLink.innerHTML = docLinkHtml;\n",
              "          element.appendChild(docLink);\n",
              "        }\n",
              "      </script>\n",
              "    </div>\n",
              "  </div>\n",
              "  "
            ]
          },
          "metadata": {},
          "execution_count": 156
        }
      ]
    },
    {
      "cell_type": "code",
      "source": [
        "customer_commercial_activity_raw.describe(include = ['object'])"
      ],
      "metadata": {
        "colab": {
          "base_uri": "https://localhost:8080/",
          "height": 175
        },
        "id": "J2_ZVEmwv362",
        "outputId": "e108d107-b870-4589-9306-9c27f4a975e1"
      },
      "execution_count": 157,
      "outputs": [
        {
          "output_type": "execute_result",
          "data": {
            "text/plain": [
              "       pk_partition entry_date entry_channel             segment\n",
              "count       5962924    5962924       5829891             5828980\n",
              "unique           17         53            68                   3\n",
              "top         2019-05    2016-10           KHE  03 - UNIVERSITARIO\n",
              "freq         442995     382473       3113947             3900166"
            ],
            "text/html": [
              "\n",
              "  <div id=\"df-a0489abb-a24c-446f-bf9e-d603d4c2182e\">\n",
              "    <div class=\"colab-df-container\">\n",
              "      <div>\n",
              "<style scoped>\n",
              "    .dataframe tbody tr th:only-of-type {\n",
              "        vertical-align: middle;\n",
              "    }\n",
              "\n",
              "    .dataframe tbody tr th {\n",
              "        vertical-align: top;\n",
              "    }\n",
              "\n",
              "    .dataframe thead th {\n",
              "        text-align: right;\n",
              "    }\n",
              "</style>\n",
              "<table border=\"1\" class=\"dataframe\">\n",
              "  <thead>\n",
              "    <tr style=\"text-align: right;\">\n",
              "      <th></th>\n",
              "      <th>pk_partition</th>\n",
              "      <th>entry_date</th>\n",
              "      <th>entry_channel</th>\n",
              "      <th>segment</th>\n",
              "    </tr>\n",
              "  </thead>\n",
              "  <tbody>\n",
              "    <tr>\n",
              "      <th>count</th>\n",
              "      <td>5962924</td>\n",
              "      <td>5962924</td>\n",
              "      <td>5829891</td>\n",
              "      <td>5828980</td>\n",
              "    </tr>\n",
              "    <tr>\n",
              "      <th>unique</th>\n",
              "      <td>17</td>\n",
              "      <td>53</td>\n",
              "      <td>68</td>\n",
              "      <td>3</td>\n",
              "    </tr>\n",
              "    <tr>\n",
              "      <th>top</th>\n",
              "      <td>2019-05</td>\n",
              "      <td>2016-10</td>\n",
              "      <td>KHE</td>\n",
              "      <td>03 - UNIVERSITARIO</td>\n",
              "    </tr>\n",
              "    <tr>\n",
              "      <th>freq</th>\n",
              "      <td>442995</td>\n",
              "      <td>382473</td>\n",
              "      <td>3113947</td>\n",
              "      <td>3900166</td>\n",
              "    </tr>\n",
              "  </tbody>\n",
              "</table>\n",
              "</div>\n",
              "      <button class=\"colab-df-convert\" onclick=\"convertToInteractive('df-a0489abb-a24c-446f-bf9e-d603d4c2182e')\"\n",
              "              title=\"Convert this dataframe to an interactive table.\"\n",
              "              style=\"display:none;\">\n",
              "        \n",
              "  <svg xmlns=\"http://www.w3.org/2000/svg\" height=\"24px\"viewBox=\"0 0 24 24\"\n",
              "       width=\"24px\">\n",
              "    <path d=\"M0 0h24v24H0V0z\" fill=\"none\"/>\n",
              "    <path d=\"M18.56 5.44l.94 2.06.94-2.06 2.06-.94-2.06-.94-.94-2.06-.94 2.06-2.06.94zm-11 1L8.5 8.5l.94-2.06 2.06-.94-2.06-.94L8.5 2.5l-.94 2.06-2.06.94zm10 10l.94 2.06.94-2.06 2.06-.94-2.06-.94-.94-2.06-.94 2.06-2.06.94z\"/><path d=\"M17.41 7.96l-1.37-1.37c-.4-.4-.92-.59-1.43-.59-.52 0-1.04.2-1.43.59L10.3 9.45l-7.72 7.72c-.78.78-.78 2.05 0 2.83L4 21.41c.39.39.9.59 1.41.59.51 0 1.02-.2 1.41-.59l7.78-7.78 2.81-2.81c.8-.78.8-2.07 0-2.86zM5.41 20L4 18.59l7.72-7.72 1.47 1.35L5.41 20z\"/>\n",
              "  </svg>\n",
              "      </button>\n",
              "      \n",
              "  <style>\n",
              "    .colab-df-container {\n",
              "      display:flex;\n",
              "      flex-wrap:wrap;\n",
              "      gap: 12px;\n",
              "    }\n",
              "\n",
              "    .colab-df-convert {\n",
              "      background-color: #E8F0FE;\n",
              "      border: none;\n",
              "      border-radius: 50%;\n",
              "      cursor: pointer;\n",
              "      display: none;\n",
              "      fill: #1967D2;\n",
              "      height: 32px;\n",
              "      padding: 0 0 0 0;\n",
              "      width: 32px;\n",
              "    }\n",
              "\n",
              "    .colab-df-convert:hover {\n",
              "      background-color: #E2EBFA;\n",
              "      box-shadow: 0px 1px 2px rgba(60, 64, 67, 0.3), 0px 1px 3px 1px rgba(60, 64, 67, 0.15);\n",
              "      fill: #174EA6;\n",
              "    }\n",
              "\n",
              "    [theme=dark] .colab-df-convert {\n",
              "      background-color: #3B4455;\n",
              "      fill: #D2E3FC;\n",
              "    }\n",
              "\n",
              "    [theme=dark] .colab-df-convert:hover {\n",
              "      background-color: #434B5C;\n",
              "      box-shadow: 0px 1px 3px 1px rgba(0, 0, 0, 0.15);\n",
              "      filter: drop-shadow(0px 1px 2px rgba(0, 0, 0, 0.3));\n",
              "      fill: #FFFFFF;\n",
              "    }\n",
              "  </style>\n",
              "\n",
              "      <script>\n",
              "        const buttonEl =\n",
              "          document.querySelector('#df-a0489abb-a24c-446f-bf9e-d603d4c2182e button.colab-df-convert');\n",
              "        buttonEl.style.display =\n",
              "          google.colab.kernel.accessAllowed ? 'block' : 'none';\n",
              "\n",
              "        async function convertToInteractive(key) {\n",
              "          const element = document.querySelector('#df-a0489abb-a24c-446f-bf9e-d603d4c2182e');\n",
              "          const dataTable =\n",
              "            await google.colab.kernel.invokeFunction('convertToInteractive',\n",
              "                                                     [key], {});\n",
              "          if (!dataTable) return;\n",
              "\n",
              "          const docLinkHtml = 'Like what you see? Visit the ' +\n",
              "            '<a target=\"_blank\" href=https://colab.research.google.com/notebooks/data_table.ipynb>data table notebook</a>'\n",
              "            + ' to learn more about interactive tables.';\n",
              "          element.innerHTML = '';\n",
              "          dataTable['output_type'] = 'display_data';\n",
              "          await google.colab.output.renderOutput(dataTable, element);\n",
              "          const docLink = document.createElement('div');\n",
              "          docLink.innerHTML = docLinkHtml;\n",
              "          element.appendChild(docLink);\n",
              "        }\n",
              "      </script>\n",
              "    </div>\n",
              "  </div>\n",
              "  "
            ]
          },
          "metadata": {},
          "execution_count": 157
        }
      ]
    },
    {
      "cell_type": "code",
      "source": [
        "customer_commercial_activity_raw.describe(exclude = ['object'])"
      ],
      "metadata": {
        "colab": {
          "base_uri": "https://localhost:8080/",
          "height": 300
        },
        "id": "5y43pnDMv8HJ",
        "outputId": "99fa2a6d-82b5-4540-9878-69c3f03856ea"
      },
      "execution_count": 158,
      "outputs": [
        {
          "output_type": "execute_result",
          "data": {
            "text/plain": [
              "         Unnamed: 0        pk_cid  active_customer\n",
              "count  5.962924e+06  5.962924e+06     5.962924e+06\n",
              "mean   7.155425e+06  1.234930e+06     4.033845e-01\n",
              "std    3.920784e+06  1.623020e+05     4.905767e-01\n",
              "min    0.000000e+00  1.589100e+04     0.000000e+00\n",
              "25%    4.240386e+06  1.112532e+06     0.000000e+00\n",
              "50%    7.499346e+06  1.231097e+06     0.000000e+00\n",
              "75%    1.020142e+07  1.352339e+06     1.000000e+00\n",
              "max    1.364731e+07  1.553689e+06     1.000000e+00"
            ],
            "text/html": [
              "\n",
              "  <div id=\"df-a495dda8-77a2-4750-bd4f-5f0999fad439\">\n",
              "    <div class=\"colab-df-container\">\n",
              "      <div>\n",
              "<style scoped>\n",
              "    .dataframe tbody tr th:only-of-type {\n",
              "        vertical-align: middle;\n",
              "    }\n",
              "\n",
              "    .dataframe tbody tr th {\n",
              "        vertical-align: top;\n",
              "    }\n",
              "\n",
              "    .dataframe thead th {\n",
              "        text-align: right;\n",
              "    }\n",
              "</style>\n",
              "<table border=\"1\" class=\"dataframe\">\n",
              "  <thead>\n",
              "    <tr style=\"text-align: right;\">\n",
              "      <th></th>\n",
              "      <th>Unnamed: 0</th>\n",
              "      <th>pk_cid</th>\n",
              "      <th>active_customer</th>\n",
              "    </tr>\n",
              "  </thead>\n",
              "  <tbody>\n",
              "    <tr>\n",
              "      <th>count</th>\n",
              "      <td>5.962924e+06</td>\n",
              "      <td>5.962924e+06</td>\n",
              "      <td>5.962924e+06</td>\n",
              "    </tr>\n",
              "    <tr>\n",
              "      <th>mean</th>\n",
              "      <td>7.155425e+06</td>\n",
              "      <td>1.234930e+06</td>\n",
              "      <td>4.033845e-01</td>\n",
              "    </tr>\n",
              "    <tr>\n",
              "      <th>std</th>\n",
              "      <td>3.920784e+06</td>\n",
              "      <td>1.623020e+05</td>\n",
              "      <td>4.905767e-01</td>\n",
              "    </tr>\n",
              "    <tr>\n",
              "      <th>min</th>\n",
              "      <td>0.000000e+00</td>\n",
              "      <td>1.589100e+04</td>\n",
              "      <td>0.000000e+00</td>\n",
              "    </tr>\n",
              "    <tr>\n",
              "      <th>25%</th>\n",
              "      <td>4.240386e+06</td>\n",
              "      <td>1.112532e+06</td>\n",
              "      <td>0.000000e+00</td>\n",
              "    </tr>\n",
              "    <tr>\n",
              "      <th>50%</th>\n",
              "      <td>7.499346e+06</td>\n",
              "      <td>1.231097e+06</td>\n",
              "      <td>0.000000e+00</td>\n",
              "    </tr>\n",
              "    <tr>\n",
              "      <th>75%</th>\n",
              "      <td>1.020142e+07</td>\n",
              "      <td>1.352339e+06</td>\n",
              "      <td>1.000000e+00</td>\n",
              "    </tr>\n",
              "    <tr>\n",
              "      <th>max</th>\n",
              "      <td>1.364731e+07</td>\n",
              "      <td>1.553689e+06</td>\n",
              "      <td>1.000000e+00</td>\n",
              "    </tr>\n",
              "  </tbody>\n",
              "</table>\n",
              "</div>\n",
              "      <button class=\"colab-df-convert\" onclick=\"convertToInteractive('df-a495dda8-77a2-4750-bd4f-5f0999fad439')\"\n",
              "              title=\"Convert this dataframe to an interactive table.\"\n",
              "              style=\"display:none;\">\n",
              "        \n",
              "  <svg xmlns=\"http://www.w3.org/2000/svg\" height=\"24px\"viewBox=\"0 0 24 24\"\n",
              "       width=\"24px\">\n",
              "    <path d=\"M0 0h24v24H0V0z\" fill=\"none\"/>\n",
              "    <path d=\"M18.56 5.44l.94 2.06.94-2.06 2.06-.94-2.06-.94-.94-2.06-.94 2.06-2.06.94zm-11 1L8.5 8.5l.94-2.06 2.06-.94-2.06-.94L8.5 2.5l-.94 2.06-2.06.94zm10 10l.94 2.06.94-2.06 2.06-.94-2.06-.94-.94-2.06-.94 2.06-2.06.94z\"/><path d=\"M17.41 7.96l-1.37-1.37c-.4-.4-.92-.59-1.43-.59-.52 0-1.04.2-1.43.59L10.3 9.45l-7.72 7.72c-.78.78-.78 2.05 0 2.83L4 21.41c.39.39.9.59 1.41.59.51 0 1.02-.2 1.41-.59l7.78-7.78 2.81-2.81c.8-.78.8-2.07 0-2.86zM5.41 20L4 18.59l7.72-7.72 1.47 1.35L5.41 20z\"/>\n",
              "  </svg>\n",
              "      </button>\n",
              "      \n",
              "  <style>\n",
              "    .colab-df-container {\n",
              "      display:flex;\n",
              "      flex-wrap:wrap;\n",
              "      gap: 12px;\n",
              "    }\n",
              "\n",
              "    .colab-df-convert {\n",
              "      background-color: #E8F0FE;\n",
              "      border: none;\n",
              "      border-radius: 50%;\n",
              "      cursor: pointer;\n",
              "      display: none;\n",
              "      fill: #1967D2;\n",
              "      height: 32px;\n",
              "      padding: 0 0 0 0;\n",
              "      width: 32px;\n",
              "    }\n",
              "\n",
              "    .colab-df-convert:hover {\n",
              "      background-color: #E2EBFA;\n",
              "      box-shadow: 0px 1px 2px rgba(60, 64, 67, 0.3), 0px 1px 3px 1px rgba(60, 64, 67, 0.15);\n",
              "      fill: #174EA6;\n",
              "    }\n",
              "\n",
              "    [theme=dark] .colab-df-convert {\n",
              "      background-color: #3B4455;\n",
              "      fill: #D2E3FC;\n",
              "    }\n",
              "\n",
              "    [theme=dark] .colab-df-convert:hover {\n",
              "      background-color: #434B5C;\n",
              "      box-shadow: 0px 1px 3px 1px rgba(0, 0, 0, 0.15);\n",
              "      filter: drop-shadow(0px 1px 2px rgba(0, 0, 0, 0.3));\n",
              "      fill: #FFFFFF;\n",
              "    }\n",
              "  </style>\n",
              "\n",
              "      <script>\n",
              "        const buttonEl =\n",
              "          document.querySelector('#df-a495dda8-77a2-4750-bd4f-5f0999fad439 button.colab-df-convert');\n",
              "        buttonEl.style.display =\n",
              "          google.colab.kernel.accessAllowed ? 'block' : 'none';\n",
              "\n",
              "        async function convertToInteractive(key) {\n",
              "          const element = document.querySelector('#df-a495dda8-77a2-4750-bd4f-5f0999fad439');\n",
              "          const dataTable =\n",
              "            await google.colab.kernel.invokeFunction('convertToInteractive',\n",
              "                                                     [key], {});\n",
              "          if (!dataTable) return;\n",
              "\n",
              "          const docLinkHtml = 'Like what you see? Visit the ' +\n",
              "            '<a target=\"_blank\" href=https://colab.research.google.com/notebooks/data_table.ipynb>data table notebook</a>'\n",
              "            + ' to learn more about interactive tables.';\n",
              "          element.innerHTML = '';\n",
              "          dataTable['output_type'] = 'display_data';\n",
              "          await google.colab.output.renderOutput(dataTable, element);\n",
              "          const docLink = document.createElement('div');\n",
              "          docLink.innerHTML = docLinkHtml;\n",
              "          element.appendChild(docLink);\n",
              "        }\n",
              "      </script>\n",
              "    </div>\n",
              "  </div>\n",
              "  "
            ]
          },
          "metadata": {},
          "execution_count": 158
        }
      ]
    },
    {
      "cell_type": "code",
      "source": [
        "customer_commercial_activity_raw.isnull().sum()"
      ],
      "metadata": {
        "colab": {
          "base_uri": "https://localhost:8080/"
        },
        "id": "XYVYRJndwAYk",
        "outputId": "6f276f6f-dc5a-4ca5-fe34-74b69540de54"
      },
      "execution_count": 159,
      "outputs": [
        {
          "output_type": "execute_result",
          "data": {
            "text/plain": [
              "Unnamed: 0              0\n",
              "pk_cid                  0\n",
              "pk_partition            0\n",
              "entry_date              0\n",
              "entry_channel      133033\n",
              "active_customer         0\n",
              "segment            133944\n",
              "dtype: int64"
            ]
          },
          "metadata": {},
          "execution_count": 159
        }
      ]
    },
    {
      "cell_type": "code",
      "source": [
        "customer_commercial_activity_raw[\"segment\"].value_counts()"
      ],
      "metadata": {
        "colab": {
          "base_uri": "https://localhost:8080/"
        },
        "id": "WbiCvHAzzem1",
        "outputId": "7bbf7f76-48c4-4914-86ff-175dcb136b41"
      },
      "execution_count": 160,
      "outputs": [
        {
          "output_type": "execute_result",
          "data": {
            "text/plain": [
              "03 - UNIVERSITARIO    3900166\n",
              "02 - PARTICULARES     1830875\n",
              "01 - TOP                97939\n",
              "Name: segment, dtype: int64"
            ]
          },
          "metadata": {},
          "execution_count": 160
        }
      ]
    },
    {
      "cell_type": "code",
      "source": [
        "customer_commercial_activity_raw[\"entry_channel\"].value_counts()"
      ],
      "metadata": {
        "colab": {
          "base_uri": "https://localhost:8080/"
        },
        "id": "YRVr8l9lzyGL",
        "outputId": "febba469-bbbe-4f8e-d048-46c4e80cb0df"
      },
      "execution_count": 161,
      "outputs": [
        {
          "output_type": "execute_result",
          "data": {
            "text/plain": [
              "KHE    3113947\n",
              "KFC     890620\n",
              "KHQ     590280\n",
              "KAT     416084\n",
              "KHK     230197\n",
              "KHM     176591\n",
              "KHN     108434\n",
              "KFA      79020\n",
              "KHD      75899\n",
              "RED      60601\n",
              "KHL      41736\n",
              "KHF      20657\n",
              "KHO       8247\n",
              "KAZ       5635\n",
              "KHC       5241\n",
              "KBG       1662\n",
              "KEH        728\n",
              "KHP        691\n",
              "007        613\n",
              "013        397\n",
              "KAG        335\n",
              "KAS        305\n",
              "KBZ        198\n",
              "KAA        193\n",
              "KAR        157\n",
              "KAY        149\n",
              "KAF        123\n",
              "KAB         95\n",
              "KFD         91\n",
              "KCC         89\n",
              "KAW         65\n",
              "KAQ         52\n",
              "KDH         51\n",
              "KAE         48\n",
              "KCH         48\n",
              "KCB         47\n",
              "KAD         45\n",
              "KAM         43\n",
              "KAH         40\n",
              "KAK         34\n",
              "KAJ         33\n",
              "KDT         23\n",
              "KFF         22\n",
              "KBO         21\n",
              "KEY         20\n",
              "KGC         17\n",
              "004         17\n",
              "KFS         17\n",
              "KCL         17\n",
              "KBE         17\n",
              "KBH         17\n",
              "KFK         17\n",
              "KGN         17\n",
              "KCI         17\n",
              "KGX         17\n",
              "KDR         16\n",
              "KFL         13\n",
              "KBW         12\n",
              "KBU         11\n",
              "KAI         11\n",
              "KCK         11\n",
              "KBY         11\n",
              "KES         11\n",
              "KEJ          8\n",
              "KHS          5\n",
              "KDA          2\n",
              "KFP          2\n",
              "KDS          1\n",
              "Name: entry_channel, dtype: int64"
            ]
          },
          "metadata": {},
          "execution_count": 161
        }
      ]
    },
    {
      "cell_type": "code",
      "source": [
        "# ACCIONES CUSTOMER COMMERCIAL ACTIVITY**\n",
        "\n",
        "\n",
        "# Eliminar columna Unnamed\n",
        "# Cambiar los identificadores (pk_cid) a variable categórica\n",
        "# Cambiar tipo de active_customer a boolean\n",
        "# Establecer primary key como index?\n",
        "# Gestionar nulos: \n",
        "#     entry_channel      \n",
        "#     segment            \n",
        "# Cambiar tipo de entry_date a fecha\n",
        "# Disgregar entry_date en mes, año, día, día de la semana (otros: trimestre, fin de semana, festivo...)\n",
        "# entry_channel > OneHotEncoding o FrecuencyEncoding\n",
        "# segment > OneHotEncoding"
      ],
      "metadata": {
        "id": "Bpqae0fLwJVO"
      },
      "execution_count": 162,
      "outputs": []
    },
    {
      "cell_type": "markdown",
      "source": [
        "### Customer Products"
      ],
      "metadata": {
        "id": "BvMxaUfLwYxC"
      }
    },
    {
      "cell_type": "markdown",
      "source": [
        "- pk_cid =\tIdentificador de cliente\n",
        "- pk_partition =\tIdentificador de Partición. Mensualmente se ingesta en la tabla una partición con el estado de la base de clientes.\n",
        "- credit_card =\tTenencia de tarjetas de crédito\n",
        "- debit_card =\tTenencia de tarjetas de débito\n",
        "- em_account_p =\tTenencia de Cuenta easyMoney+\n",
        "- em_account_pp =\tTenencia de Cuenta easyMoney++\n",
        "- em_acount =\tTenencia de Cuenta easyMoney\n",
        "- emc_account =\tTenencia de Cuenta easyMoney Crypto\n",
        "- funds =\tTenencia de Fondos de inversión\n",
        "- loans =\tTenencia de Préstamos\n",
        "- long_term_deposit =\tTenencia de Depósitos a largo plazo\n",
        "- mortgage =\tTenencia de Mortgage\n",
        "- payroll =\tTenencia de Domiciliaciones \n",
        "- payroll_account =\tTenencia de Cuenta bonificada por domiciliaciones\n",
        "- pension_plan =\tTenencia de Plan de pensiones\n",
        "- securities =\tTenencia de Valores\n",
        "- short_term_deposit =\tTenencia de Short-term deposits"
      ],
      "metadata": {
        "id": "GAvoRxXKwYxC"
      }
    },
    {
      "cell_type": "code",
      "source": [
        "customer_products_raw.info()"
      ],
      "metadata": {
        "colab": {
          "base_uri": "https://localhost:8080/"
        },
        "outputId": "bc5dad10-3ce1-4021-e130-5b8581550bd2",
        "id": "W0orz5C7wYxD"
      },
      "execution_count": 163,
      "outputs": [
        {
          "output_type": "stream",
          "name": "stdout",
          "text": [
            "<class 'pandas.core.frame.DataFrame'>\n",
            "RangeIndex: 5962924 entries, 0 to 5962923\n",
            "Data columns (total 18 columns):\n",
            " #   Column              Dtype  \n",
            "---  ------              -----  \n",
            " 0   Unnamed: 0          int64  \n",
            " 1   pk_cid              int64  \n",
            " 2   pk_partition        object \n",
            " 3   short_term_deposit  int64  \n",
            " 4   loans               int64  \n",
            " 5   mortgage            int64  \n",
            " 6   funds               int64  \n",
            " 7   securities          int64  \n",
            " 8   long_term_deposit   int64  \n",
            " 9   em_account_pp       int64  \n",
            " 10  credit_card         int64  \n",
            " 11  payroll             float64\n",
            " 12  pension_plan        float64\n",
            " 13  payroll_account     int64  \n",
            " 14  emc_account         int64  \n",
            " 15  debit_card          int64  \n",
            " 16  em_account_p        int64  \n",
            " 17  em_acount           int64  \n",
            "dtypes: float64(2), int64(15), object(1)\n",
            "memory usage: 818.9+ MB\n"
          ]
        }
      ]
    },
    {
      "cell_type": "code",
      "source": [
        "customer_products_raw.head()"
      ],
      "metadata": {
        "colab": {
          "base_uri": "https://localhost:8080/",
          "height": 287
        },
        "outputId": "89871ad7-5dcb-4759-ce21-f20912e5a64d",
        "id": "NpuDF7hPwYxD"
      },
      "execution_count": 164,
      "outputs": [
        {
          "output_type": "execute_result",
          "data": {
            "text/plain": [
              "   Unnamed: 0   pk_cid pk_partition  short_term_deposit  loans  mortgage  \\\n",
              "0           0  1375586      2018-01                   0      0         0   \n",
              "1           1  1050611      2018-01                   0      0         0   \n",
              "2           2  1050612      2018-01                   0      0         0   \n",
              "3           3  1050613      2018-01                   1      0         0   \n",
              "4           4  1050614      2018-01                   0      0         0   \n",
              "\n",
              "   funds  securities  long_term_deposit  em_account_pp  credit_card  payroll  \\\n",
              "0      0           0                  0              0            0      0.0   \n",
              "1      0           0                  0              0            0      0.0   \n",
              "2      0           0                  0              0            0      0.0   \n",
              "3      0           0                  0              0            0      0.0   \n",
              "4      0           0                  0              0            0      0.0   \n",
              "\n",
              "   pension_plan  payroll_account  emc_account  debit_card  em_account_p  \\\n",
              "0           0.0                0            0           0             0   \n",
              "1           0.0                0            0           0             0   \n",
              "2           0.0                0            0           0             0   \n",
              "3           0.0                0            0           0             0   \n",
              "4           0.0                0            0           0             0   \n",
              "\n",
              "   em_acount  \n",
              "0          1  \n",
              "1          1  \n",
              "2          1  \n",
              "3          0  \n",
              "4          1  "
            ],
            "text/html": [
              "\n",
              "  <div id=\"df-b8b71834-87d4-4186-88f4-1957ffba909c\">\n",
              "    <div class=\"colab-df-container\">\n",
              "      <div>\n",
              "<style scoped>\n",
              "    .dataframe tbody tr th:only-of-type {\n",
              "        vertical-align: middle;\n",
              "    }\n",
              "\n",
              "    .dataframe tbody tr th {\n",
              "        vertical-align: top;\n",
              "    }\n",
              "\n",
              "    .dataframe thead th {\n",
              "        text-align: right;\n",
              "    }\n",
              "</style>\n",
              "<table border=\"1\" class=\"dataframe\">\n",
              "  <thead>\n",
              "    <tr style=\"text-align: right;\">\n",
              "      <th></th>\n",
              "      <th>Unnamed: 0</th>\n",
              "      <th>pk_cid</th>\n",
              "      <th>pk_partition</th>\n",
              "      <th>short_term_deposit</th>\n",
              "      <th>loans</th>\n",
              "      <th>mortgage</th>\n",
              "      <th>funds</th>\n",
              "      <th>securities</th>\n",
              "      <th>long_term_deposit</th>\n",
              "      <th>em_account_pp</th>\n",
              "      <th>credit_card</th>\n",
              "      <th>payroll</th>\n",
              "      <th>pension_plan</th>\n",
              "      <th>payroll_account</th>\n",
              "      <th>emc_account</th>\n",
              "      <th>debit_card</th>\n",
              "      <th>em_account_p</th>\n",
              "      <th>em_acount</th>\n",
              "    </tr>\n",
              "  </thead>\n",
              "  <tbody>\n",
              "    <tr>\n",
              "      <th>0</th>\n",
              "      <td>0</td>\n",
              "      <td>1375586</td>\n",
              "      <td>2018-01</td>\n",
              "      <td>0</td>\n",
              "      <td>0</td>\n",
              "      <td>0</td>\n",
              "      <td>0</td>\n",
              "      <td>0</td>\n",
              "      <td>0</td>\n",
              "      <td>0</td>\n",
              "      <td>0</td>\n",
              "      <td>0.0</td>\n",
              "      <td>0.0</td>\n",
              "      <td>0</td>\n",
              "      <td>0</td>\n",
              "      <td>0</td>\n",
              "      <td>0</td>\n",
              "      <td>1</td>\n",
              "    </tr>\n",
              "    <tr>\n",
              "      <th>1</th>\n",
              "      <td>1</td>\n",
              "      <td>1050611</td>\n",
              "      <td>2018-01</td>\n",
              "      <td>0</td>\n",
              "      <td>0</td>\n",
              "      <td>0</td>\n",
              "      <td>0</td>\n",
              "      <td>0</td>\n",
              "      <td>0</td>\n",
              "      <td>0</td>\n",
              "      <td>0</td>\n",
              "      <td>0.0</td>\n",
              "      <td>0.0</td>\n",
              "      <td>0</td>\n",
              "      <td>0</td>\n",
              "      <td>0</td>\n",
              "      <td>0</td>\n",
              "      <td>1</td>\n",
              "    </tr>\n",
              "    <tr>\n",
              "      <th>2</th>\n",
              "      <td>2</td>\n",
              "      <td>1050612</td>\n",
              "      <td>2018-01</td>\n",
              "      <td>0</td>\n",
              "      <td>0</td>\n",
              "      <td>0</td>\n",
              "      <td>0</td>\n",
              "      <td>0</td>\n",
              "      <td>0</td>\n",
              "      <td>0</td>\n",
              "      <td>0</td>\n",
              "      <td>0.0</td>\n",
              "      <td>0.0</td>\n",
              "      <td>0</td>\n",
              "      <td>0</td>\n",
              "      <td>0</td>\n",
              "      <td>0</td>\n",
              "      <td>1</td>\n",
              "    </tr>\n",
              "    <tr>\n",
              "      <th>3</th>\n",
              "      <td>3</td>\n",
              "      <td>1050613</td>\n",
              "      <td>2018-01</td>\n",
              "      <td>1</td>\n",
              "      <td>0</td>\n",
              "      <td>0</td>\n",
              "      <td>0</td>\n",
              "      <td>0</td>\n",
              "      <td>0</td>\n",
              "      <td>0</td>\n",
              "      <td>0</td>\n",
              "      <td>0.0</td>\n",
              "      <td>0.0</td>\n",
              "      <td>0</td>\n",
              "      <td>0</td>\n",
              "      <td>0</td>\n",
              "      <td>0</td>\n",
              "      <td>0</td>\n",
              "    </tr>\n",
              "    <tr>\n",
              "      <th>4</th>\n",
              "      <td>4</td>\n",
              "      <td>1050614</td>\n",
              "      <td>2018-01</td>\n",
              "      <td>0</td>\n",
              "      <td>0</td>\n",
              "      <td>0</td>\n",
              "      <td>0</td>\n",
              "      <td>0</td>\n",
              "      <td>0</td>\n",
              "      <td>0</td>\n",
              "      <td>0</td>\n",
              "      <td>0.0</td>\n",
              "      <td>0.0</td>\n",
              "      <td>0</td>\n",
              "      <td>0</td>\n",
              "      <td>0</td>\n",
              "      <td>0</td>\n",
              "      <td>1</td>\n",
              "    </tr>\n",
              "  </tbody>\n",
              "</table>\n",
              "</div>\n",
              "      <button class=\"colab-df-convert\" onclick=\"convertToInteractive('df-b8b71834-87d4-4186-88f4-1957ffba909c')\"\n",
              "              title=\"Convert this dataframe to an interactive table.\"\n",
              "              style=\"display:none;\">\n",
              "        \n",
              "  <svg xmlns=\"http://www.w3.org/2000/svg\" height=\"24px\"viewBox=\"0 0 24 24\"\n",
              "       width=\"24px\">\n",
              "    <path d=\"M0 0h24v24H0V0z\" fill=\"none\"/>\n",
              "    <path d=\"M18.56 5.44l.94 2.06.94-2.06 2.06-.94-2.06-.94-.94-2.06-.94 2.06-2.06.94zm-11 1L8.5 8.5l.94-2.06 2.06-.94-2.06-.94L8.5 2.5l-.94 2.06-2.06.94zm10 10l.94 2.06.94-2.06 2.06-.94-2.06-.94-.94-2.06-.94 2.06-2.06.94z\"/><path d=\"M17.41 7.96l-1.37-1.37c-.4-.4-.92-.59-1.43-.59-.52 0-1.04.2-1.43.59L10.3 9.45l-7.72 7.72c-.78.78-.78 2.05 0 2.83L4 21.41c.39.39.9.59 1.41.59.51 0 1.02-.2 1.41-.59l7.78-7.78 2.81-2.81c.8-.78.8-2.07 0-2.86zM5.41 20L4 18.59l7.72-7.72 1.47 1.35L5.41 20z\"/>\n",
              "  </svg>\n",
              "      </button>\n",
              "      \n",
              "  <style>\n",
              "    .colab-df-container {\n",
              "      display:flex;\n",
              "      flex-wrap:wrap;\n",
              "      gap: 12px;\n",
              "    }\n",
              "\n",
              "    .colab-df-convert {\n",
              "      background-color: #E8F0FE;\n",
              "      border: none;\n",
              "      border-radius: 50%;\n",
              "      cursor: pointer;\n",
              "      display: none;\n",
              "      fill: #1967D2;\n",
              "      height: 32px;\n",
              "      padding: 0 0 0 0;\n",
              "      width: 32px;\n",
              "    }\n",
              "\n",
              "    .colab-df-convert:hover {\n",
              "      background-color: #E2EBFA;\n",
              "      box-shadow: 0px 1px 2px rgba(60, 64, 67, 0.3), 0px 1px 3px 1px rgba(60, 64, 67, 0.15);\n",
              "      fill: #174EA6;\n",
              "    }\n",
              "\n",
              "    [theme=dark] .colab-df-convert {\n",
              "      background-color: #3B4455;\n",
              "      fill: #D2E3FC;\n",
              "    }\n",
              "\n",
              "    [theme=dark] .colab-df-convert:hover {\n",
              "      background-color: #434B5C;\n",
              "      box-shadow: 0px 1px 3px 1px rgba(0, 0, 0, 0.15);\n",
              "      filter: drop-shadow(0px 1px 2px rgba(0, 0, 0, 0.3));\n",
              "      fill: #FFFFFF;\n",
              "    }\n",
              "  </style>\n",
              "\n",
              "      <script>\n",
              "        const buttonEl =\n",
              "          document.querySelector('#df-b8b71834-87d4-4186-88f4-1957ffba909c button.colab-df-convert');\n",
              "        buttonEl.style.display =\n",
              "          google.colab.kernel.accessAllowed ? 'block' : 'none';\n",
              "\n",
              "        async function convertToInteractive(key) {\n",
              "          const element = document.querySelector('#df-b8b71834-87d4-4186-88f4-1957ffba909c');\n",
              "          const dataTable =\n",
              "            await google.colab.kernel.invokeFunction('convertToInteractive',\n",
              "                                                     [key], {});\n",
              "          if (!dataTable) return;\n",
              "\n",
              "          const docLinkHtml = 'Like what you see? Visit the ' +\n",
              "            '<a target=\"_blank\" href=https://colab.research.google.com/notebooks/data_table.ipynb>data table notebook</a>'\n",
              "            + ' to learn more about interactive tables.';\n",
              "          element.innerHTML = '';\n",
              "          dataTable['output_type'] = 'display_data';\n",
              "          await google.colab.output.renderOutput(dataTable, element);\n",
              "          const docLink = document.createElement('div');\n",
              "          docLink.innerHTML = docLinkHtml;\n",
              "          element.appendChild(docLink);\n",
              "        }\n",
              "      </script>\n",
              "    </div>\n",
              "  </div>\n",
              "  "
            ]
          },
          "metadata": {},
          "execution_count": 164
        }
      ]
    },
    {
      "cell_type": "code",
      "source": [
        "customer_products_raw.describe(include = ['object'])"
      ],
      "metadata": {
        "colab": {
          "base_uri": "https://localhost:8080/",
          "height": 175
        },
        "outputId": "cee1e42a-928d-4529-f697-d6579a989992",
        "id": "c9I4DraWwYxD"
      },
      "execution_count": 165,
      "outputs": [
        {
          "output_type": "execute_result",
          "data": {
            "text/plain": [
              "       pk_partition\n",
              "count       5962924\n",
              "unique           17\n",
              "top         2019-05\n",
              "freq         442995"
            ],
            "text/html": [
              "\n",
              "  <div id=\"df-0bf54a8b-da54-47f4-bbe1-fa3fff0cb4d1\">\n",
              "    <div class=\"colab-df-container\">\n",
              "      <div>\n",
              "<style scoped>\n",
              "    .dataframe tbody tr th:only-of-type {\n",
              "        vertical-align: middle;\n",
              "    }\n",
              "\n",
              "    .dataframe tbody tr th {\n",
              "        vertical-align: top;\n",
              "    }\n",
              "\n",
              "    .dataframe thead th {\n",
              "        text-align: right;\n",
              "    }\n",
              "</style>\n",
              "<table border=\"1\" class=\"dataframe\">\n",
              "  <thead>\n",
              "    <tr style=\"text-align: right;\">\n",
              "      <th></th>\n",
              "      <th>pk_partition</th>\n",
              "    </tr>\n",
              "  </thead>\n",
              "  <tbody>\n",
              "    <tr>\n",
              "      <th>count</th>\n",
              "      <td>5962924</td>\n",
              "    </tr>\n",
              "    <tr>\n",
              "      <th>unique</th>\n",
              "      <td>17</td>\n",
              "    </tr>\n",
              "    <tr>\n",
              "      <th>top</th>\n",
              "      <td>2019-05</td>\n",
              "    </tr>\n",
              "    <tr>\n",
              "      <th>freq</th>\n",
              "      <td>442995</td>\n",
              "    </tr>\n",
              "  </tbody>\n",
              "</table>\n",
              "</div>\n",
              "      <button class=\"colab-df-convert\" onclick=\"convertToInteractive('df-0bf54a8b-da54-47f4-bbe1-fa3fff0cb4d1')\"\n",
              "              title=\"Convert this dataframe to an interactive table.\"\n",
              "              style=\"display:none;\">\n",
              "        \n",
              "  <svg xmlns=\"http://www.w3.org/2000/svg\" height=\"24px\"viewBox=\"0 0 24 24\"\n",
              "       width=\"24px\">\n",
              "    <path d=\"M0 0h24v24H0V0z\" fill=\"none\"/>\n",
              "    <path d=\"M18.56 5.44l.94 2.06.94-2.06 2.06-.94-2.06-.94-.94-2.06-.94 2.06-2.06.94zm-11 1L8.5 8.5l.94-2.06 2.06-.94-2.06-.94L8.5 2.5l-.94 2.06-2.06.94zm10 10l.94 2.06.94-2.06 2.06-.94-2.06-.94-.94-2.06-.94 2.06-2.06.94z\"/><path d=\"M17.41 7.96l-1.37-1.37c-.4-.4-.92-.59-1.43-.59-.52 0-1.04.2-1.43.59L10.3 9.45l-7.72 7.72c-.78.78-.78 2.05 0 2.83L4 21.41c.39.39.9.59 1.41.59.51 0 1.02-.2 1.41-.59l7.78-7.78 2.81-2.81c.8-.78.8-2.07 0-2.86zM5.41 20L4 18.59l7.72-7.72 1.47 1.35L5.41 20z\"/>\n",
              "  </svg>\n",
              "      </button>\n",
              "      \n",
              "  <style>\n",
              "    .colab-df-container {\n",
              "      display:flex;\n",
              "      flex-wrap:wrap;\n",
              "      gap: 12px;\n",
              "    }\n",
              "\n",
              "    .colab-df-convert {\n",
              "      background-color: #E8F0FE;\n",
              "      border: none;\n",
              "      border-radius: 50%;\n",
              "      cursor: pointer;\n",
              "      display: none;\n",
              "      fill: #1967D2;\n",
              "      height: 32px;\n",
              "      padding: 0 0 0 0;\n",
              "      width: 32px;\n",
              "    }\n",
              "\n",
              "    .colab-df-convert:hover {\n",
              "      background-color: #E2EBFA;\n",
              "      box-shadow: 0px 1px 2px rgba(60, 64, 67, 0.3), 0px 1px 3px 1px rgba(60, 64, 67, 0.15);\n",
              "      fill: #174EA6;\n",
              "    }\n",
              "\n",
              "    [theme=dark] .colab-df-convert {\n",
              "      background-color: #3B4455;\n",
              "      fill: #D2E3FC;\n",
              "    }\n",
              "\n",
              "    [theme=dark] .colab-df-convert:hover {\n",
              "      background-color: #434B5C;\n",
              "      box-shadow: 0px 1px 3px 1px rgba(0, 0, 0, 0.15);\n",
              "      filter: drop-shadow(0px 1px 2px rgba(0, 0, 0, 0.3));\n",
              "      fill: #FFFFFF;\n",
              "    }\n",
              "  </style>\n",
              "\n",
              "      <script>\n",
              "        const buttonEl =\n",
              "          document.querySelector('#df-0bf54a8b-da54-47f4-bbe1-fa3fff0cb4d1 button.colab-df-convert');\n",
              "        buttonEl.style.display =\n",
              "          google.colab.kernel.accessAllowed ? 'block' : 'none';\n",
              "\n",
              "        async function convertToInteractive(key) {\n",
              "          const element = document.querySelector('#df-0bf54a8b-da54-47f4-bbe1-fa3fff0cb4d1');\n",
              "          const dataTable =\n",
              "            await google.colab.kernel.invokeFunction('convertToInteractive',\n",
              "                                                     [key], {});\n",
              "          if (!dataTable) return;\n",
              "\n",
              "          const docLinkHtml = 'Like what you see? Visit the ' +\n",
              "            '<a target=\"_blank\" href=https://colab.research.google.com/notebooks/data_table.ipynb>data table notebook</a>'\n",
              "            + ' to learn more about interactive tables.';\n",
              "          element.innerHTML = '';\n",
              "          dataTable['output_type'] = 'display_data';\n",
              "          await google.colab.output.renderOutput(dataTable, element);\n",
              "          const docLink = document.createElement('div');\n",
              "          docLink.innerHTML = docLinkHtml;\n",
              "          element.appendChild(docLink);\n",
              "        }\n",
              "      </script>\n",
              "    </div>\n",
              "  </div>\n",
              "  "
            ]
          },
          "metadata": {},
          "execution_count": 165
        }
      ]
    },
    {
      "cell_type": "code",
      "source": [
        "customer_products_raw.describe(exclude = ['object'])"
      ],
      "metadata": {
        "colab": {
          "base_uri": "https://localhost:8080/",
          "height": 364
        },
        "outputId": "46f7b357-f608-4aa4-dbfc-6b3c8108c9c7",
        "id": "Ehzbn2vFwYxD"
      },
      "execution_count": 166,
      "outputs": [
        {
          "output_type": "execute_result",
          "data": {
            "text/plain": [
              "         Unnamed: 0        pk_cid  short_term_deposit         loans  \\\n",
              "count  5.962924e+06  5.962924e+06        5.962924e+06  5.962924e+06   \n",
              "mean   7.155425e+06  1.234930e+06        2.581619e-03  7.848498e-05   \n",
              "std    3.920784e+06  1.623020e+05        5.074401e-02  8.858828e-03   \n",
              "min    0.000000e+00  1.589100e+04        0.000000e+00  0.000000e+00   \n",
              "25%    4.240386e+06  1.112532e+06        0.000000e+00  0.000000e+00   \n",
              "50%    7.499346e+06  1.231097e+06        0.000000e+00  0.000000e+00   \n",
              "75%    1.020142e+07  1.352339e+06        0.000000e+00  0.000000e+00   \n",
              "max    1.364731e+07  1.553689e+06        1.000000e+00  1.000000e+00   \n",
              "\n",
              "           mortgage         funds    securities  long_term_deposit  \\\n",
              "count  5.962924e+06  5.962924e+06  5.962924e+06       5.962924e+06   \n",
              "mean   5.433576e-05  3.370662e-03  3.711770e-03       1.688098e-02   \n",
              "std    7.371080e-03  5.795948e-02  6.081113e-02       1.288255e-01   \n",
              "min    0.000000e+00  0.000000e+00  0.000000e+00       0.000000e+00   \n",
              "25%    0.000000e+00  0.000000e+00  0.000000e+00       0.000000e+00   \n",
              "50%    0.000000e+00  0.000000e+00  0.000000e+00       0.000000e+00   \n",
              "75%    0.000000e+00  0.000000e+00  0.000000e+00       0.000000e+00   \n",
              "max    1.000000e+00  1.000000e+00  1.000000e+00       1.000000e+00   \n",
              "\n",
              "       em_account_pp   credit_card       payroll  pension_plan  \\\n",
              "count      5962924.0  5.962924e+06  5.962863e+06  5.962863e+06   \n",
              "mean             0.0  1.188444e-02  3.451144e-02  3.652641e-02   \n",
              "std              0.0  1.083660e-01  1.825388e-01  1.875960e-01   \n",
              "min              0.0  0.000000e+00  0.000000e+00  0.000000e+00   \n",
              "25%              0.0  0.000000e+00  0.000000e+00  0.000000e+00   \n",
              "50%              0.0  0.000000e+00  0.000000e+00  0.000000e+00   \n",
              "75%              0.0  0.000000e+00  0.000000e+00  0.000000e+00   \n",
              "max              0.0  1.000000e+00  1.000000e+00  1.000000e+00   \n",
              "\n",
              "       payroll_account   emc_account    debit_card  em_account_p     em_acount  \n",
              "count     5.962924e+06  5.962924e+06  5.962924e+06  5.962924e+06  5.962924e+06  \n",
              "mean      5.524471e-02  5.483233e-02  9.441140e-02  5.701901e-06  7.348076e-01  \n",
              "std       2.284573e-01  2.276527e-01  2.924002e-01  2.387859e-03  4.414356e-01  \n",
              "min       0.000000e+00  0.000000e+00  0.000000e+00  0.000000e+00  0.000000e+00  \n",
              "25%       0.000000e+00  0.000000e+00  0.000000e+00  0.000000e+00  0.000000e+00  \n",
              "50%       0.000000e+00  0.000000e+00  0.000000e+00  0.000000e+00  1.000000e+00  \n",
              "75%       0.000000e+00  0.000000e+00  0.000000e+00  0.000000e+00  1.000000e+00  \n",
              "max       1.000000e+00  1.000000e+00  1.000000e+00  1.000000e+00  1.000000e+00  "
            ],
            "text/html": [
              "\n",
              "  <div id=\"df-8a1806e9-bea8-4f16-a1b9-7b43e84bda89\">\n",
              "    <div class=\"colab-df-container\">\n",
              "      <div>\n",
              "<style scoped>\n",
              "    .dataframe tbody tr th:only-of-type {\n",
              "        vertical-align: middle;\n",
              "    }\n",
              "\n",
              "    .dataframe tbody tr th {\n",
              "        vertical-align: top;\n",
              "    }\n",
              "\n",
              "    .dataframe thead th {\n",
              "        text-align: right;\n",
              "    }\n",
              "</style>\n",
              "<table border=\"1\" class=\"dataframe\">\n",
              "  <thead>\n",
              "    <tr style=\"text-align: right;\">\n",
              "      <th></th>\n",
              "      <th>Unnamed: 0</th>\n",
              "      <th>pk_cid</th>\n",
              "      <th>short_term_deposit</th>\n",
              "      <th>loans</th>\n",
              "      <th>mortgage</th>\n",
              "      <th>funds</th>\n",
              "      <th>securities</th>\n",
              "      <th>long_term_deposit</th>\n",
              "      <th>em_account_pp</th>\n",
              "      <th>credit_card</th>\n",
              "      <th>payroll</th>\n",
              "      <th>pension_plan</th>\n",
              "      <th>payroll_account</th>\n",
              "      <th>emc_account</th>\n",
              "      <th>debit_card</th>\n",
              "      <th>em_account_p</th>\n",
              "      <th>em_acount</th>\n",
              "    </tr>\n",
              "  </thead>\n",
              "  <tbody>\n",
              "    <tr>\n",
              "      <th>count</th>\n",
              "      <td>5.962924e+06</td>\n",
              "      <td>5.962924e+06</td>\n",
              "      <td>5.962924e+06</td>\n",
              "      <td>5.962924e+06</td>\n",
              "      <td>5.962924e+06</td>\n",
              "      <td>5.962924e+06</td>\n",
              "      <td>5.962924e+06</td>\n",
              "      <td>5.962924e+06</td>\n",
              "      <td>5962924.0</td>\n",
              "      <td>5.962924e+06</td>\n",
              "      <td>5.962863e+06</td>\n",
              "      <td>5.962863e+06</td>\n",
              "      <td>5.962924e+06</td>\n",
              "      <td>5.962924e+06</td>\n",
              "      <td>5.962924e+06</td>\n",
              "      <td>5.962924e+06</td>\n",
              "      <td>5.962924e+06</td>\n",
              "    </tr>\n",
              "    <tr>\n",
              "      <th>mean</th>\n",
              "      <td>7.155425e+06</td>\n",
              "      <td>1.234930e+06</td>\n",
              "      <td>2.581619e-03</td>\n",
              "      <td>7.848498e-05</td>\n",
              "      <td>5.433576e-05</td>\n",
              "      <td>3.370662e-03</td>\n",
              "      <td>3.711770e-03</td>\n",
              "      <td>1.688098e-02</td>\n",
              "      <td>0.0</td>\n",
              "      <td>1.188444e-02</td>\n",
              "      <td>3.451144e-02</td>\n",
              "      <td>3.652641e-02</td>\n",
              "      <td>5.524471e-02</td>\n",
              "      <td>5.483233e-02</td>\n",
              "      <td>9.441140e-02</td>\n",
              "      <td>5.701901e-06</td>\n",
              "      <td>7.348076e-01</td>\n",
              "    </tr>\n",
              "    <tr>\n",
              "      <th>std</th>\n",
              "      <td>3.920784e+06</td>\n",
              "      <td>1.623020e+05</td>\n",
              "      <td>5.074401e-02</td>\n",
              "      <td>8.858828e-03</td>\n",
              "      <td>7.371080e-03</td>\n",
              "      <td>5.795948e-02</td>\n",
              "      <td>6.081113e-02</td>\n",
              "      <td>1.288255e-01</td>\n",
              "      <td>0.0</td>\n",
              "      <td>1.083660e-01</td>\n",
              "      <td>1.825388e-01</td>\n",
              "      <td>1.875960e-01</td>\n",
              "      <td>2.284573e-01</td>\n",
              "      <td>2.276527e-01</td>\n",
              "      <td>2.924002e-01</td>\n",
              "      <td>2.387859e-03</td>\n",
              "      <td>4.414356e-01</td>\n",
              "    </tr>\n",
              "    <tr>\n",
              "      <th>min</th>\n",
              "      <td>0.000000e+00</td>\n",
              "      <td>1.589100e+04</td>\n",
              "      <td>0.000000e+00</td>\n",
              "      <td>0.000000e+00</td>\n",
              "      <td>0.000000e+00</td>\n",
              "      <td>0.000000e+00</td>\n",
              "      <td>0.000000e+00</td>\n",
              "      <td>0.000000e+00</td>\n",
              "      <td>0.0</td>\n",
              "      <td>0.000000e+00</td>\n",
              "      <td>0.000000e+00</td>\n",
              "      <td>0.000000e+00</td>\n",
              "      <td>0.000000e+00</td>\n",
              "      <td>0.000000e+00</td>\n",
              "      <td>0.000000e+00</td>\n",
              "      <td>0.000000e+00</td>\n",
              "      <td>0.000000e+00</td>\n",
              "    </tr>\n",
              "    <tr>\n",
              "      <th>25%</th>\n",
              "      <td>4.240386e+06</td>\n",
              "      <td>1.112532e+06</td>\n",
              "      <td>0.000000e+00</td>\n",
              "      <td>0.000000e+00</td>\n",
              "      <td>0.000000e+00</td>\n",
              "      <td>0.000000e+00</td>\n",
              "      <td>0.000000e+00</td>\n",
              "      <td>0.000000e+00</td>\n",
              "      <td>0.0</td>\n",
              "      <td>0.000000e+00</td>\n",
              "      <td>0.000000e+00</td>\n",
              "      <td>0.000000e+00</td>\n",
              "      <td>0.000000e+00</td>\n",
              "      <td>0.000000e+00</td>\n",
              "      <td>0.000000e+00</td>\n",
              "      <td>0.000000e+00</td>\n",
              "      <td>0.000000e+00</td>\n",
              "    </tr>\n",
              "    <tr>\n",
              "      <th>50%</th>\n",
              "      <td>7.499346e+06</td>\n",
              "      <td>1.231097e+06</td>\n",
              "      <td>0.000000e+00</td>\n",
              "      <td>0.000000e+00</td>\n",
              "      <td>0.000000e+00</td>\n",
              "      <td>0.000000e+00</td>\n",
              "      <td>0.000000e+00</td>\n",
              "      <td>0.000000e+00</td>\n",
              "      <td>0.0</td>\n",
              "      <td>0.000000e+00</td>\n",
              "      <td>0.000000e+00</td>\n",
              "      <td>0.000000e+00</td>\n",
              "      <td>0.000000e+00</td>\n",
              "      <td>0.000000e+00</td>\n",
              "      <td>0.000000e+00</td>\n",
              "      <td>0.000000e+00</td>\n",
              "      <td>1.000000e+00</td>\n",
              "    </tr>\n",
              "    <tr>\n",
              "      <th>75%</th>\n",
              "      <td>1.020142e+07</td>\n",
              "      <td>1.352339e+06</td>\n",
              "      <td>0.000000e+00</td>\n",
              "      <td>0.000000e+00</td>\n",
              "      <td>0.000000e+00</td>\n",
              "      <td>0.000000e+00</td>\n",
              "      <td>0.000000e+00</td>\n",
              "      <td>0.000000e+00</td>\n",
              "      <td>0.0</td>\n",
              "      <td>0.000000e+00</td>\n",
              "      <td>0.000000e+00</td>\n",
              "      <td>0.000000e+00</td>\n",
              "      <td>0.000000e+00</td>\n",
              "      <td>0.000000e+00</td>\n",
              "      <td>0.000000e+00</td>\n",
              "      <td>0.000000e+00</td>\n",
              "      <td>1.000000e+00</td>\n",
              "    </tr>\n",
              "    <tr>\n",
              "      <th>max</th>\n",
              "      <td>1.364731e+07</td>\n",
              "      <td>1.553689e+06</td>\n",
              "      <td>1.000000e+00</td>\n",
              "      <td>1.000000e+00</td>\n",
              "      <td>1.000000e+00</td>\n",
              "      <td>1.000000e+00</td>\n",
              "      <td>1.000000e+00</td>\n",
              "      <td>1.000000e+00</td>\n",
              "      <td>0.0</td>\n",
              "      <td>1.000000e+00</td>\n",
              "      <td>1.000000e+00</td>\n",
              "      <td>1.000000e+00</td>\n",
              "      <td>1.000000e+00</td>\n",
              "      <td>1.000000e+00</td>\n",
              "      <td>1.000000e+00</td>\n",
              "      <td>1.000000e+00</td>\n",
              "      <td>1.000000e+00</td>\n",
              "    </tr>\n",
              "  </tbody>\n",
              "</table>\n",
              "</div>\n",
              "      <button class=\"colab-df-convert\" onclick=\"convertToInteractive('df-8a1806e9-bea8-4f16-a1b9-7b43e84bda89')\"\n",
              "              title=\"Convert this dataframe to an interactive table.\"\n",
              "              style=\"display:none;\">\n",
              "        \n",
              "  <svg xmlns=\"http://www.w3.org/2000/svg\" height=\"24px\"viewBox=\"0 0 24 24\"\n",
              "       width=\"24px\">\n",
              "    <path d=\"M0 0h24v24H0V0z\" fill=\"none\"/>\n",
              "    <path d=\"M18.56 5.44l.94 2.06.94-2.06 2.06-.94-2.06-.94-.94-2.06-.94 2.06-2.06.94zm-11 1L8.5 8.5l.94-2.06 2.06-.94-2.06-.94L8.5 2.5l-.94 2.06-2.06.94zm10 10l.94 2.06.94-2.06 2.06-.94-2.06-.94-.94-2.06-.94 2.06-2.06.94z\"/><path d=\"M17.41 7.96l-1.37-1.37c-.4-.4-.92-.59-1.43-.59-.52 0-1.04.2-1.43.59L10.3 9.45l-7.72 7.72c-.78.78-.78 2.05 0 2.83L4 21.41c.39.39.9.59 1.41.59.51 0 1.02-.2 1.41-.59l7.78-7.78 2.81-2.81c.8-.78.8-2.07 0-2.86zM5.41 20L4 18.59l7.72-7.72 1.47 1.35L5.41 20z\"/>\n",
              "  </svg>\n",
              "      </button>\n",
              "      \n",
              "  <style>\n",
              "    .colab-df-container {\n",
              "      display:flex;\n",
              "      flex-wrap:wrap;\n",
              "      gap: 12px;\n",
              "    }\n",
              "\n",
              "    .colab-df-convert {\n",
              "      background-color: #E8F0FE;\n",
              "      border: none;\n",
              "      border-radius: 50%;\n",
              "      cursor: pointer;\n",
              "      display: none;\n",
              "      fill: #1967D2;\n",
              "      height: 32px;\n",
              "      padding: 0 0 0 0;\n",
              "      width: 32px;\n",
              "    }\n",
              "\n",
              "    .colab-df-convert:hover {\n",
              "      background-color: #E2EBFA;\n",
              "      box-shadow: 0px 1px 2px rgba(60, 64, 67, 0.3), 0px 1px 3px 1px rgba(60, 64, 67, 0.15);\n",
              "      fill: #174EA6;\n",
              "    }\n",
              "\n",
              "    [theme=dark] .colab-df-convert {\n",
              "      background-color: #3B4455;\n",
              "      fill: #D2E3FC;\n",
              "    }\n",
              "\n",
              "    [theme=dark] .colab-df-convert:hover {\n",
              "      background-color: #434B5C;\n",
              "      box-shadow: 0px 1px 3px 1px rgba(0, 0, 0, 0.15);\n",
              "      filter: drop-shadow(0px 1px 2px rgba(0, 0, 0, 0.3));\n",
              "      fill: #FFFFFF;\n",
              "    }\n",
              "  </style>\n",
              "\n",
              "      <script>\n",
              "        const buttonEl =\n",
              "          document.querySelector('#df-8a1806e9-bea8-4f16-a1b9-7b43e84bda89 button.colab-df-convert');\n",
              "        buttonEl.style.display =\n",
              "          google.colab.kernel.accessAllowed ? 'block' : 'none';\n",
              "\n",
              "        async function convertToInteractive(key) {\n",
              "          const element = document.querySelector('#df-8a1806e9-bea8-4f16-a1b9-7b43e84bda89');\n",
              "          const dataTable =\n",
              "            await google.colab.kernel.invokeFunction('convertToInteractive',\n",
              "                                                     [key], {});\n",
              "          if (!dataTable) return;\n",
              "\n",
              "          const docLinkHtml = 'Like what you see? Visit the ' +\n",
              "            '<a target=\"_blank\" href=https://colab.research.google.com/notebooks/data_table.ipynb>data table notebook</a>'\n",
              "            + ' to learn more about interactive tables.';\n",
              "          element.innerHTML = '';\n",
              "          dataTable['output_type'] = 'display_data';\n",
              "          await google.colab.output.renderOutput(dataTable, element);\n",
              "          const docLink = document.createElement('div');\n",
              "          docLink.innerHTML = docLinkHtml;\n",
              "          element.appendChild(docLink);\n",
              "        }\n",
              "      </script>\n",
              "    </div>\n",
              "  </div>\n",
              "  "
            ]
          },
          "metadata": {},
          "execution_count": 166
        }
      ]
    },
    {
      "cell_type": "code",
      "source": [
        "customer_products_raw.isnull().sum()"
      ],
      "metadata": {
        "colab": {
          "base_uri": "https://localhost:8080/"
        },
        "outputId": "99f82b8a-dd2f-44b7-b216-6d5f720e4cca",
        "id": "BnObawC0wYxD"
      },
      "execution_count": 167,
      "outputs": [
        {
          "output_type": "execute_result",
          "data": {
            "text/plain": [
              "Unnamed: 0             0\n",
              "pk_cid                 0\n",
              "pk_partition           0\n",
              "short_term_deposit     0\n",
              "loans                  0\n",
              "mortgage               0\n",
              "funds                  0\n",
              "securities             0\n",
              "long_term_deposit      0\n",
              "em_account_pp          0\n",
              "credit_card            0\n",
              "payroll               61\n",
              "pension_plan          61\n",
              "payroll_account        0\n",
              "emc_account            0\n",
              "debit_card             0\n",
              "em_account_p           0\n",
              "em_acount              0\n",
              "dtype: int64"
            ]
          },
          "metadata": {},
          "execution_count": 167
        }
      ]
    },
    {
      "cell_type": "code",
      "source": [
        "# ACCIONES CUSTOMER PRODUCTS\n",
        "\n",
        "# Eliminar columna Unnamed\n",
        "# Cambiar los identificadores (pk_cid) a variable categórica\n",
        "# Cambiar tipo de columnas booleanas a boolean?\n",
        "# Establecer primary key como index?\n",
        "# Gestionar nulos: \n",
        "#     payroll                     \n",
        "#     pension_plan\n",
        "# Eliminar em_account_pp, no hay datos\n",
        "\n",
        "# Cambiar tipo de payroll y pension_plan a int"
      ],
      "metadata": {
        "id": "iU9-7iD_wYxD"
      },
      "execution_count": 168,
      "outputs": []
    },
    {
      "cell_type": "markdown",
      "source": [
        "### Análisis del target"
      ],
      "metadata": {
        "id": "N53oY9OJoonb"
      }
    },
    {
      "cell_type": "code",
      "source": [
        "# Para el modelo de propensión a compra (supervisado > clasificación) trataremos de averiguar la propensión a compra de ciertos productos de cada cliente\n",
        "# El target puede ser:\n",
        "#  - em_acount = 4.381.602  (73,48%)\n",
        "#  - debit_card = 562.968 (9,44%)\n",
        "#  - payroll_account = 329.420 (5,52%)\n",
        "#  - pension_plan = 2.178.020 (3,65%) ** Target interesante por negocio\n",
        "\n",
        "\n",
        "\n",
        "# Analizando el revenue de cada producto:\n",
        "#  - pension_plan = media >5200€ ** Target interesante por revenue\n",
        "#  - loans = media > 2000€\n",
        "#  - mortgage = media > 2000€ \n",
        "#\n",
        "#\n",
        "# El producto \"pension_plan\" resulta interesante ya que un 74% de la bbdd todavía no ha es cliente y es el que más beneficios genera a la compañía\n",
        "\n",
        "\n",
        "TARGET = \"pension_plan\""
      ],
      "metadata": {
        "id": "ws9zM_QCo8jR"
      },
      "execution_count": 169,
      "outputs": []
    },
    {
      "cell_type": "code",
      "source": [
        "for i in ['short_term_deposit', 'loans', 'mortgage', 'funds', 'securities','long_term_deposit', 'em_account_pp','credit_card', 'payroll', 'pension_plan', 'payroll_account','emc_account', 'debit_card', 'em_account_p', 'em_acount']:\n",
        "    suma_productos = customer_products_raw[i].sum()\n",
        "    print (f\"Suma de {i} = {suma_productos} . La media es de {round((suma_productos/customer_products_raw.shape[0])*100,2)}%\")\n",
        "    "
      ],
      "metadata": {
        "colab": {
          "base_uri": "https://localhost:8080/"
        },
        "id": "L4kFuFrIuS2G",
        "outputId": "a5f03b77-8162-449d-bc2e-4ad2f92693df"
      },
      "execution_count": 170,
      "outputs": [
        {
          "output_type": "stream",
          "name": "stdout",
          "text": [
            "Suma de short_term_deposit = 15394 . La media es de 0.26%\n",
            "Suma de loans = 468 . La media es de 0.01%\n",
            "Suma de mortgage = 324 . La media es de 0.01%\n",
            "Suma de funds = 20099 . La media es de 0.34%\n",
            "Suma de securities = 22133 . La media es de 0.37%\n",
            "Suma de long_term_deposit = 100660 . La media es de 1.69%\n",
            "Suma de em_account_pp = 0 . La media es de 0.0%\n",
            "Suma de credit_card = 70866 . La media es de 1.19%\n",
            "Suma de payroll = 205787.0 . La media es de 3.45%\n",
            "Suma de pension_plan = 217802.0 . La media es de 3.65%\n",
            "Suma de payroll_account = 329420 . La media es de 5.52%\n",
            "Suma de emc_account = 326961 . La media es de 5.48%\n",
            "Suma de debit_card = 562968 . La media es de 9.44%\n",
            "Suma de em_account_p = 34 . La media es de 0.0%\n",
            "Suma de em_acount = 4381602 . La media es de 73.48%\n"
          ]
        }
      ]
    },
    {
      "cell_type": "markdown",
      "source": [
        "### Distribución de las variables"
      ],
      "metadata": {
        "id": "AkR5eHKSoroo"
      }
    },
    {
      "cell_type": "markdown",
      "source": [
        "#### Variables numéricas"
      ],
      "metadata": {
        "id": "IQAYnrERozyM"
      }
    },
    {
      "cell_type": "code",
      "source": [
        "for i in sales_raw.select_dtypes(include= [\"number\"]).columns:\n",
        "     print(i, sales_raw[i].value_counts())"
      ],
      "metadata": {
        "colab": {
          "base_uri": "https://localhost:8080/"
        },
        "id": "r6pTWMCaw-v_",
        "outputId": "20d4a670-c460-403c-b286-286cf0ab66fe"
      },
      "execution_count": 171,
      "outputs": [
        {
          "output_type": "stream",
          "name": "stdout",
          "text": [
            "Unnamed: 0 0         1\n",
            "160520    1\n",
            "160508    1\n",
            "160509    1\n",
            "160510    1\n",
            "         ..\n",
            "80262     1\n",
            "80263     1\n",
            "80264     1\n",
            "80265     1\n",
            "240772    1\n",
            "Name: Unnamed: 0, Length: 240773, dtype: int64\n",
            "pk_sale 6666      1\n",
            "167186    1\n",
            "167174    1\n",
            "167175    1\n",
            "167176    1\n",
            "         ..\n",
            "86928     1\n",
            "86929     1\n",
            "86930     1\n",
            "86931     1\n",
            "247438    1\n",
            "Name: pk_sale, Length: 240773, dtype: int64\n",
            "cid 1387215    10\n",
            "1436512     9\n",
            "1380507     9\n",
            "1402957     9\n",
            "1402199     9\n",
            "           ..\n",
            "1409414     1\n",
            "1409413     1\n",
            "1409412     1\n",
            "1409410     1\n",
            "1553571     1\n",
            "Name: cid, Length: 152754, dtype: int64\n",
            "product_ID 4657    117435\n",
            "3819     38840\n",
            "1364     19369\n",
            "2234     18750\n",
            "2235     18110\n",
            "8871     12323\n",
            "2312      5206\n",
            "2335      4441\n",
            "2336      4227\n",
            "2673      1157\n",
            "1119       880\n",
            "9001        25\n",
            "4033        10\n",
            "Name: product_ID, dtype: int64\n",
            "net_margin 63.1       890\n",
            "64.8       854\n",
            "63.9       851\n",
            "64.1       848\n",
            "62.7       841\n",
            "          ... \n",
            "4917.3       1\n",
            "5698.9       1\n",
            "5708.1       1\n",
            "11009.5      1\n",
            "34.5         1\n",
            "Name: net_margin, Length: 25451, dtype: int64\n"
          ]
        }
      ]
    },
    {
      "cell_type": "code",
      "source": [
        "for i in customer_products_raw.select_dtypes(include= [\"number\"]).columns:\n",
        "  print(i, customer_products_raw[i].value_counts())"
      ],
      "metadata": {
        "id": "qdZiOCu6E14Q",
        "outputId": "1461ba81-00ec-4e75-f934-6af2add8354a",
        "colab": {
          "base_uri": "https://localhost:8080/"
        }
      },
      "execution_count": 172,
      "outputs": [
        {
          "output_type": "stream",
          "name": "stdout",
          "text": [
            "Unnamed: 0 0           1\n",
            "9344701     1\n",
            "9344699     1\n",
            "9344698     1\n",
            "9344697     1\n",
            "           ..\n",
            "5074084     1\n",
            "5074083     1\n",
            "5074082     1\n",
            "5074081     1\n",
            "13647308    1\n",
            "Name: Unnamed: 0, Length: 5962924, dtype: int64\n",
            "pk_cid 1375586    17\n",
            "1328781    17\n",
            "1328783    17\n",
            "1328784    17\n",
            "1328786    17\n",
            "           ..\n",
            "1521045     1\n",
            "1545224     1\n",
            "1470941     1\n",
            "1521049     1\n",
            "1550586     1\n",
            "Name: pk_cid, Length: 456373, dtype: int64\n",
            "short_term_deposit 0    5947530\n",
            "1      15394\n",
            "Name: short_term_deposit, dtype: int64\n",
            "loans 0    5962456\n",
            "1        468\n",
            "Name: loans, dtype: int64\n",
            "mortgage 0    5962600\n",
            "1        324\n",
            "Name: mortgage, dtype: int64\n",
            "funds 0    5942825\n",
            "1      20099\n",
            "Name: funds, dtype: int64\n",
            "securities 0    5940791\n",
            "1      22133\n",
            "Name: securities, dtype: int64\n",
            "long_term_deposit 0    5862264\n",
            "1     100660\n",
            "Name: long_term_deposit, dtype: int64\n",
            "em_account_pp 0    5962924\n",
            "Name: em_account_pp, dtype: int64\n",
            "credit_card 0    5892058\n",
            "1      70866\n",
            "Name: credit_card, dtype: int64\n",
            "payroll 0.0    5757076\n",
            "1.0     205787\n",
            "Name: payroll, dtype: int64\n",
            "pension_plan 0.0    5745061\n",
            "1.0     217802\n",
            "Name: pension_plan, dtype: int64\n",
            "payroll_account 0    5633504\n",
            "1     329420\n",
            "Name: payroll_account, dtype: int64\n",
            "emc_account 0    5635963\n",
            "1     326961\n",
            "Name: emc_account, dtype: int64\n",
            "debit_card 0    5399956\n",
            "1     562968\n",
            "Name: debit_card, dtype: int64\n",
            "em_account_p 0    5962890\n",
            "1         34\n",
            "Name: em_account_p, dtype: int64\n",
            "em_acount 1    4381602\n",
            "0    1581322\n",
            "Name: em_acount, dtype: int64\n"
          ]
        }
      ]
    },
    {
      "cell_type": "code",
      "source": [
        "for i in customer_sociodemographics_raw.select_dtypes(include= [\"number\"]).columns:\n",
        "     print(i, customer_sociodemographics_raw[i].value_counts())"
      ],
      "metadata": {
        "colab": {
          "base_uri": "https://localhost:8080/"
        },
        "id": "JnY_a_BPxCVJ",
        "outputId": "65f3bffc-bdb6-45f7-9c8e-30b41d228775"
      },
      "execution_count": 173,
      "outputs": [
        {
          "output_type": "stream",
          "name": "stdout",
          "text": [
            "Unnamed: 0 0           1\n",
            "9344701     1\n",
            "9344699     1\n",
            "9344698     1\n",
            "9344697     1\n",
            "           ..\n",
            "5074084     1\n",
            "5074083     1\n",
            "5074082     1\n",
            "5074081     1\n",
            "13647308    1\n",
            "Name: Unnamed: 0, Length: 5962924, dtype: int64\n",
            "pk_cid 1375586    17\n",
            "1328781    17\n",
            "1328783    17\n",
            "1328784    17\n",
            "1328786    17\n",
            "           ..\n",
            "1521045     1\n",
            "1545224     1\n",
            "1470941     1\n",
            "1521049     1\n",
            "1550586     1\n",
            "Name: pk_cid, Length: 456373, dtype: int64\n",
            "region_code 28.0    1185757\n",
            "8.0      600362\n",
            "46.0     358142\n",
            "30.0     296856\n",
            "41.0     290447\n",
            "15.0     254891\n",
            "29.0     187911\n",
            "36.0     175850\n",
            "3.0      171358\n",
            "11.0     160894\n",
            "33.0     134562\n",
            "50.0     132983\n",
            "6.0      122587\n",
            "35.0     121982\n",
            "47.0     116948\n",
            "18.0     102789\n",
            "45.0     102328\n",
            "37.0      92538\n",
            "10.0      83283\n",
            "14.0      75405\n",
            "2.0       72071\n",
            "21.0      72037\n",
            "13.0      70092\n",
            "39.0      69589\n",
            "12.0      68709\n",
            "7.0       62436\n",
            "32.0      54639\n",
            "27.0      52783\n",
            "43.0      51782\n",
            "17.0      50749\n",
            "9.0       47746\n",
            "25.0      46887\n",
            "16.0      36094\n",
            "24.0      35426\n",
            "48.0      35256\n",
            "26.0      34790\n",
            "4.0       32680\n",
            "31.0      31241\n",
            "49.0      30965\n",
            "23.0      30955\n",
            "38.0      29001\n",
            "34.0      27545\n",
            "19.0      26762\n",
            "40.0      21658\n",
            "5.0       21300\n",
            "22.0      21112\n",
            "20.0      18833\n",
            "1.0       12999\n",
            "44.0      12616\n",
            "42.0       8500\n",
            "51.0       2896\n",
            "52.0       2638\n",
            "Name: region_code, dtype: int64\n",
            "age 22     727134\n",
            "23     702127\n",
            "21     667762\n",
            "20     413568\n",
            "24     408569\n",
            "25     305028\n",
            "26     237454\n",
            "27     186277\n",
            "28     156142\n",
            "29     134814\n",
            "30     121856\n",
            "31     107373\n",
            "32     103206\n",
            "33      99041\n",
            "34      94026\n",
            "35      90366\n",
            "36      87528\n",
            "37      83133\n",
            "39      78805\n",
            "38      78510\n",
            "40      75021\n",
            "41      71271\n",
            "42      66056\n",
            "43      59418\n",
            "44      54804\n",
            "45      50980\n",
            "46      46566\n",
            "47      44665\n",
            "48      41342\n",
            "49      39766\n",
            "50      38463\n",
            "51      34482\n",
            "52      32664\n",
            "53      30827\n",
            "54      28117\n",
            "55      24372\n",
            "56      22997\n",
            "57      22059\n",
            "58      20376\n",
            "59      18940\n",
            "60      17943\n",
            "61      16068\n",
            "62      15604\n",
            "63      13235\n",
            "19      12203\n",
            "64      11989\n",
            "65      11301\n",
            "66      10076\n",
            "67       9514\n",
            "68       9175\n",
            "69       8774\n",
            "70       7440\n",
            "71       6285\n",
            "73       6256\n",
            "72       6200\n",
            "74       5191\n",
            "77       4542\n",
            "76       4431\n",
            "75       4208\n",
            "81       3511\n",
            "78       3184\n",
            "6        3043\n",
            "82       3019\n",
            "79       2992\n",
            "84       2924\n",
            "5        2920\n",
            "80       2875\n",
            "83       2684\n",
            "85       2656\n",
            "12       2638\n",
            "86       2566\n",
            "13       2557\n",
            "9        2470\n",
            "14       2465\n",
            "15       2370\n",
            "87       2346\n",
            "11       2254\n",
            "10       2247\n",
            "8        2216\n",
            "4        2210\n",
            "7        2191\n",
            "16       2159\n",
            "17       1911\n",
            "88       1870\n",
            "18       1843\n",
            "89       1720\n",
            "90       1565\n",
            "3        1534\n",
            "91       1188\n",
            "92        890\n",
            "2         688\n",
            "93        615\n",
            "94        542\n",
            "95        484\n",
            "96        346\n",
            "97        300\n",
            "98        184\n",
            "100       112\n",
            "99         94\n",
            "101        91\n",
            "102        65\n",
            "103        25\n",
            "104        12\n",
            "105         8\n",
            "Name: age, dtype: int64\n",
            "salary 451931.22    709\n",
            "288997.44    546\n",
            "135522.15    466\n",
            "128318.52    458\n",
            "104563.80    436\n",
            "            ... \n",
            "178580.58      1\n",
            "140411.13      1\n",
            "73880.40       1\n",
            "78719.40       1\n",
            "94128.15       1\n",
            "Name: salary, Length: 257654, dtype: int64\n"
          ]
        }
      ]
    },
    {
      "cell_type": "markdown",
      "source": [
        "#### Variables categóricas"
      ],
      "metadata": {
        "id": "9l4ZsNp8o1dz"
      }
    },
    {
      "cell_type": "code",
      "source": [
        "for i in sales_raw.select_dtypes(exclude= [\"number\"]).columns:\n",
        "     print(i, sales_raw[i].value_counts())"
      ],
      "metadata": {
        "id": "1u-iVCklFDbi",
        "outputId": "9a9a837b-6b48-4a18-af7f-ca46535a6b81",
        "colab": {
          "base_uri": "https://localhost:8080/"
        }
      },
      "execution_count": 174,
      "outputs": [
        {
          "output_type": "stream",
          "name": "stdout",
          "text": [
            "month_sale 2018-10-01    27693\n",
            "2018-09-01    24488\n",
            "2018-08-01    21054\n",
            "2018-07-01    20602\n",
            "2018-11-01    19155\n",
            "2018-02-01    15182\n",
            "2018-12-01    15015\n",
            "2019-01-01    11872\n",
            "2018-03-01    11668\n",
            "2018-06-01    11558\n",
            "2019-03-01    11506\n",
            "2019-02-01    11360\n",
            "2019-05-01    10211\n",
            "2018-04-01     9962\n",
            "2019-04-01     9889\n",
            "2018-05-01     9558\n",
            "Name: month_sale, dtype: int64\n"
          ]
        }
      ]
    },
    {
      "cell_type": "code",
      "source": [
        "for i in customer_commercial_activity_raw.select_dtypes(exclude= [\"number\"]).columns:\n",
        "  print(i, customer_commercial_activity_raw[i].value_counts())"
      ],
      "metadata": {
        "id": "lg-xtV5VEWVO",
        "outputId": "ea311942-b933-4cdd-b7ca-f49debbc60cf",
        "colab": {
          "base_uri": "https://localhost:8080/"
        }
      },
      "execution_count": 175,
      "outputs": [
        {
          "output_type": "stream",
          "name": "stdout",
          "text": [
            "pk_partition 2019-05    442995\n",
            "2019-04    439627\n",
            "2019-03    436183\n",
            "2019-02    431727\n",
            "2019-01    426875\n",
            "2018-12    422481\n",
            "2018-11    416387\n",
            "2018-10    402300\n",
            "2018-09    375323\n",
            "2018-08    352922\n",
            "2018-07    339339\n",
            "2018-06    252104\n",
            "2018-05    249926\n",
            "2018-04    247463\n",
            "2018-03    245258\n",
            "2018-02    242521\n",
            "2018-01    239493\n",
            "Name: pk_partition, dtype: int64\n",
            "entry_date 2016-10    382473\n",
            "2017-10    340613\n",
            "2015-10    310295\n",
            "2017-09    294752\n",
            "2017-07    267173\n",
            "2016-08    252704\n",
            "2015-08    221984\n",
            "2015-07    220941\n",
            "2017-11    217751\n",
            "2015-09    217174\n",
            "2018-10    216947\n",
            "2015-11    210687\n",
            "2016-09    206107\n",
            "2018-09    202262\n",
            "2016-07    189225\n",
            "2016-11    188601\n",
            "2018-07    178215\n",
            "2017-08    162534\n",
            "2018-08    138420\n",
            "2017-12    123456\n",
            "2018-11    103073\n",
            "2016-12     89423\n",
            "2015-12     82347\n",
            "2017-01     65539\n",
            "2018-02     61283\n",
            "2018-01     59721\n",
            "2017-06     54925\n",
            "2018-03     51022\n",
            "2016-01     50830\n",
            "2017-02     50561\n",
            "2017-03     50268\n",
            "2017-05     50165\n",
            "2017-04     47729\n",
            "2018-04     43480\n",
            "2018-12     41244\n",
            "2018-05     40563\n",
            "2015-05     40001\n",
            "2016-04     35682\n",
            "2018-06     35590\n",
            "2015-03     35322\n",
            "2015-04     34706\n",
            "2016-05     33234\n",
            "2015-06     33062\n",
            "2019-01     32640\n",
            "2015-02     30626\n",
            "2016-06     30095\n",
            "2015-01     29646\n",
            "2016-02     29552\n",
            "2016-03     27329\n",
            "2019-02     23533\n",
            "2019-03     14434\n",
            "2019-04      8602\n",
            "2019-05      4383\n",
            "Name: entry_date, dtype: int64\n",
            "entry_channel KHE    3113947\n",
            "KFC     890620\n",
            "KHQ     590280\n",
            "KAT     416084\n",
            "KHK     230197\n",
            "KHM     176591\n",
            "KHN     108434\n",
            "KFA      79020\n",
            "KHD      75899\n",
            "RED      60601\n",
            "KHL      41736\n",
            "KHF      20657\n",
            "KHO       8247\n",
            "KAZ       5635\n",
            "KHC       5241\n",
            "KBG       1662\n",
            "KEH        728\n",
            "KHP        691\n",
            "007        613\n",
            "013        397\n",
            "KAG        335\n",
            "KAS        305\n",
            "KBZ        198\n",
            "KAA        193\n",
            "KAR        157\n",
            "KAY        149\n",
            "KAF        123\n",
            "KAB         95\n",
            "KFD         91\n",
            "KCC         89\n",
            "KAW         65\n",
            "KAQ         52\n",
            "KDH         51\n",
            "KAE         48\n",
            "KCH         48\n",
            "KCB         47\n",
            "KAD         45\n",
            "KAM         43\n",
            "KAH         40\n",
            "KAK         34\n",
            "KAJ         33\n",
            "KDT         23\n",
            "KFF         22\n",
            "KBO         21\n",
            "KEY         20\n",
            "KGC         17\n",
            "004         17\n",
            "KFS         17\n",
            "KCL         17\n",
            "KBE         17\n",
            "KBH         17\n",
            "KFK         17\n",
            "KGN         17\n",
            "KCI         17\n",
            "KGX         17\n",
            "KDR         16\n",
            "KFL         13\n",
            "KBW         12\n",
            "KBU         11\n",
            "KAI         11\n",
            "KCK         11\n",
            "KBY         11\n",
            "KES         11\n",
            "KEJ          8\n",
            "KHS          5\n",
            "KDA          2\n",
            "KFP          2\n",
            "KDS          1\n",
            "Name: entry_channel, dtype: int64\n",
            "segment 03 - UNIVERSITARIO    3900166\n",
            "02 - PARTICULARES     1830875\n",
            "01 - TOP                97939\n",
            "Name: segment, dtype: int64\n"
          ]
        }
      ]
    },
    {
      "cell_type": "code",
      "source": [
        "for i in customer_sociodemographics_raw.select_dtypes(exclude= [\"number\"]).columns:\n",
        "  print(i, customer_sociodemographics_raw[i].value_counts())"
      ],
      "metadata": {
        "id": "9Sc13sTPEdy-",
        "outputId": "8979123d-1ee0-43a1-fede-bc4730928a22",
        "colab": {
          "base_uri": "https://localhost:8080/"
        }
      },
      "execution_count": 176,
      "outputs": [
        {
          "output_type": "stream",
          "name": "stdout",
          "text": [
            "pk_partition 2019-05    442995\n",
            "2019-04    439627\n",
            "2019-03    436183\n",
            "2019-02    431727\n",
            "2019-01    426875\n",
            "2018-12    422481\n",
            "2018-11    416387\n",
            "2018-10    402300\n",
            "2018-09    375323\n",
            "2018-08    352922\n",
            "2018-07    339339\n",
            "2018-06    252104\n",
            "2018-05    249926\n",
            "2018-04    247463\n",
            "2018-03    245258\n",
            "2018-02    242521\n",
            "2018-01    239493\n",
            "Name: pk_partition, dtype: int64\n",
            "country_id ES    5960672\n",
            "GB        441\n",
            "FR        225\n",
            "DE        199\n",
            "US        195\n",
            "CH        194\n",
            "BR         87\n",
            "BE         81\n",
            "VE         79\n",
            "IE         68\n",
            "MX         58\n",
            "AT         51\n",
            "AR         51\n",
            "PL         49\n",
            "IT         45\n",
            "MA         34\n",
            "CL         30\n",
            "CN         28\n",
            "CA         22\n",
            "LU         17\n",
            "ET         17\n",
            "QA         17\n",
            "CI         17\n",
            "SA         17\n",
            "CM         17\n",
            "SN         17\n",
            "MR         17\n",
            "NO         17\n",
            "RU         17\n",
            "CO         17\n",
            "GA         17\n",
            "GT         17\n",
            "DO         17\n",
            "SE         16\n",
            "DJ         11\n",
            "PT         11\n",
            "JM         11\n",
            "RO          9\n",
            "HU          8\n",
            "DZ          7\n",
            "PE          4\n",
            "Name: country_id, dtype: int64\n",
            "gender H    3087502\n",
            "V    2875397\n",
            "Name: gender, dtype: int64\n",
            "deceased N    5961849\n",
            "S       1075\n",
            "Name: deceased, dtype: int64\n"
          ]
        }
      ]
    },
    {
      "cell_type": "markdown",
      "source": [
        "# 3.- PRE PROCESSING"
      ],
      "metadata": {
        "id": "F-i0SBPis5if"
      }
    },
    {
      "cell_type": "markdown",
      "source": [
        "## Procesamiento de Sales"
      ],
      "metadata": {
        "id": "7fZaJxVHmLw9"
      }
    },
    {
      "cell_type": "code",
      "source": [
        "# Merge de Sales y Product Description\n",
        "df_sales_raw = sales_raw.merge(product_description_raw, right_on = \"pk_product_ID\", left_on= \"product_ID\", how = \"left\")"
      ],
      "metadata": {
        "id": "8U7upOCDluCU"
      },
      "execution_count": 177,
      "outputs": []
    },
    {
      "cell_type": "code",
      "source": [
        "sales_raw.shape"
      ],
      "metadata": {
        "id": "b_1Oh3h6N1RT",
        "outputId": "c9fb6f92-a272-42ab-ee47-ede9e91a05c7",
        "colab": {
          "base_uri": "https://localhost:8080/"
        }
      },
      "execution_count": 178,
      "outputs": [
        {
          "output_type": "execute_result",
          "data": {
            "text/plain": [
              "(240773, 6)"
            ]
          },
          "metadata": {},
          "execution_count": 178
        }
      ]
    },
    {
      "cell_type": "code",
      "source": [
        "df_sales_raw.shape"
      ],
      "metadata": {
        "id": "QrqJP9NJNTwD",
        "outputId": "d973734e-9c8e-4f84-9a71-389b015274b3",
        "colab": {
          "base_uri": "https://localhost:8080/"
        }
      },
      "execution_count": 179,
      "outputs": [
        {
          "output_type": "execute_result",
          "data": {
            "text/plain": [
              "(240773, 10)"
            ]
          },
          "metadata": {},
          "execution_count": 179
        }
      ]
    },
    {
      "cell_type": "code",
      "source": [
        "# Análisis inicial de df_sales_raw y aplicamos las acciones propuestas en el análisis de los datasets\n",
        "\n",
        "df_sales_raw.info()"
      ],
      "metadata": {
        "id": "vyftXFKkmWnL",
        "colab": {
          "base_uri": "https://localhost:8080/"
        },
        "outputId": "736befdc-9822-4ac6-f225-1913f92f6a76"
      },
      "execution_count": 180,
      "outputs": [
        {
          "output_type": "stream",
          "name": "stdout",
          "text": [
            "<class 'pandas.core.frame.DataFrame'>\n",
            "Int64Index: 240773 entries, 0 to 240772\n",
            "Data columns (total 10 columns):\n",
            " #   Column          Non-Null Count   Dtype  \n",
            "---  ------          --------------   -----  \n",
            " 0   Unnamed: 0_x    240773 non-null  int64  \n",
            " 1   pk_sale         240773 non-null  int64  \n",
            " 2   cid             240773 non-null  int64  \n",
            " 3   month_sale      240773 non-null  object \n",
            " 4   product_ID      240773 non-null  int64  \n",
            " 5   net_margin      240773 non-null  float64\n",
            " 6   Unnamed: 0_y    240773 non-null  int64  \n",
            " 7   pk_product_ID   240773 non-null  int64  \n",
            " 8   product_desc    240773 non-null  object \n",
            " 9   family_product  240773 non-null  object \n",
            "dtypes: float64(1), int64(6), object(3)\n",
            "memory usage: 20.2+ MB\n"
          ]
        }
      ]
    },
    {
      "cell_type": "code",
      "source": [
        "df_sales1 = df_sales_raw.copy()"
      ],
      "metadata": {
        "id": "kAYtycQl3BLe"
      },
      "execution_count": 181,
      "outputs": []
    },
    {
      "cell_type": "code",
      "source": [
        "# Eliminar columna Unnamed\n",
        "\n",
        "df_sales1.drop(\"Unnamed: 0_x\", axis = 1, inplace = True)\n",
        "df_sales1.drop(\"Unnamed: 0_y\", axis = 1, inplace = True)\n",
        "\n",
        "# Eliminar columna \"pk_product_ID\" duplicada tras el merge\n",
        "\n",
        "df_sales1.drop(\"pk_product_ID\", axis = 1, inplace = True)"
      ],
      "metadata": {
        "id": "nl_7zAMTm6cW"
      },
      "execution_count": 182,
      "outputs": []
    },
    {
      "cell_type": "code",
      "source": [
        "# Renombrar columnas para alinear el naming, por ejemplo variable cid como \"client_ID\", pk_sale como \"sale_ID\"\n",
        "\n",
        "df_sales1.rename({\"pk_sale\": \"sale_ID\",\"cid\": \"customer_ID\"},axis='columns',inplace = True)"
      ],
      "metadata": {
        "id": "05oy_3Unnbwk"
      },
      "execution_count": 183,
      "outputs": []
    },
    {
      "cell_type": "code",
      "source": [
        "# Establecer primary key como index\n",
        "\n",
        "df_sales1.set_index(\"sale_ID\",inplace = True)"
      ],
      "metadata": {
        "id": "1BBe7s9spLqw"
      },
      "execution_count": 184,
      "outputs": []
    },
    {
      "cell_type": "code",
      "source": [
        "# Cambiar los identificadores (product_ID, customer_ID) a variable categórica\n",
        "\n",
        "df_sales1[\"product_ID\"] = df_sales1[\"product_ID\"].astype(\"object\")\n",
        "df_sales1[\"customer_ID\"] = df_sales1[\"customer_ID\"].astype(\"object\")"
      ],
      "metadata": {
        "id": "vHPHY-sfpgwJ"
      },
      "execution_count": 185,
      "outputs": []
    },
    {
      "cell_type": "code",
      "source": [
        "# Cambiar tipo de month_sale a fecha\n",
        "\n",
        "df_sales1[\"month_sale\"] = pd.to_datetime(df_sales1[\"month_sale\"], format = \"%Y/%m/%d\")"
      ],
      "metadata": {
        "id": "-fn3EHEwsOUV"
      },
      "execution_count": 186,
      "outputs": []
    },
    {
      "cell_type": "code",
      "source": [
        "# Disgregar la fecha en mes, año, día, día de la semana (otros: trimestre, fin de semana, festivo...)\n",
        "\n",
        "df_sales1[\"month_sales\"] = df_sales1[\"month_sale\"].dt.month\n",
        "df_sales1[\"year_sales\"] = df_sales1[\"month_sale\"].dt.year"
      ],
      "metadata": {
        "id": "mzGi2Qk8u7O1"
      },
      "execution_count": 187,
      "outputs": []
    },
    {
      "cell_type": "code",
      "source": [
        "df_sales1.boxplot(column = \"net_margin\", by = \"product_desc\", figsize=(15,5))\n",
        "plt.xticks(rotation=70);"
      ],
      "metadata": {
        "colab": {
          "base_uri": "https://localhost:8080/",
          "height": 0
        },
        "id": "PcNzmdIlo9tR",
        "outputId": "456d4e12-b573-4c20-e396-e2ae0e499439"
      },
      "execution_count": 188,
      "outputs": [
        {
          "output_type": "display_data",
          "data": {
            "text/plain": [
              "<Figure size 1500x500 with 1 Axes>"
            ],
            "image/png": "[encoded data removed]"
          },
          "metadata": {}
        }
      ]
    },
    {
      "cell_type": "code",
      "source": [
        "df_sales1.info()"
      ],
      "metadata": {
        "id": "u2f2yxVtr7po",
        "outputId": "6deb2a82-917e-489c-911c-8c7316b4f67b",
        "colab": {
          "base_uri": "https://localhost:8080/"
        }
      },
      "execution_count": 189,
      "outputs": [
        {
          "output_type": "stream",
          "name": "stdout",
          "text": [
            "<class 'pandas.core.frame.DataFrame'>\n",
            "Int64Index: 240773 entries, 6666 to 247438\n",
            "Data columns (total 8 columns):\n",
            " #   Column          Non-Null Count   Dtype         \n",
            "---  ------          --------------   -----         \n",
            " 0   customer_ID     240773 non-null  object        \n",
            " 1   month_sale      240773 non-null  datetime64[ns]\n",
            " 2   product_ID      240773 non-null  object        \n",
            " 3   net_margin      240773 non-null  float64       \n",
            " 4   product_desc    240773 non-null  object        \n",
            " 5   family_product  240773 non-null  object        \n",
            " 6   month_sales     240773 non-null  int64         \n",
            " 7   year_sales      240773 non-null  int64         \n",
            "dtypes: datetime64[ns](1), float64(1), int64(2), object(4)\n",
            "memory usage: 16.5+ MB\n"
          ]
        }
      ]
    },
    {
      "cell_type": "markdown",
      "source": [
        "## Procesamiento de Customers"
      ],
      "metadata": {
        "id": "ds9YPpHoteTF"
      }
    },
    {
      "cell_type": "code",
      "source": [
        "# Merge de las tablas relacionadas con el cliente\n",
        "df_raw = customer_commercial_activity_raw.merge(customer_sociodemographics_raw, on=[\"pk_cid\",\"pk_partition\"])\\\n",
        "            .merge(customer_products_raw, on=[\"pk_cid\",\"pk_partition\"])"
      ],
      "metadata": {
        "id": "iRPsWNtAfRHi"
      },
      "execution_count": 190,
      "outputs": []
    },
    {
      "cell_type": "code",
      "source": [
        "customer_commercial_activity_raw.shape"
      ],
      "metadata": {
        "id": "AJkSAvDoN-_t",
        "outputId": "04e49269-05e0-4d8b-d755-65a19b1a6f2f",
        "colab": {
          "base_uri": "https://localhost:8080/"
        }
      },
      "execution_count": 191,
      "outputs": [
        {
          "output_type": "execute_result",
          "data": {
            "text/plain": [
              "(5962924, 7)"
            ]
          },
          "metadata": {},
          "execution_count": 191
        }
      ]
    },
    {
      "cell_type": "code",
      "source": [
        "customer_sociodemographics_raw.shape"
      ],
      "metadata": {
        "id": "ZWGNR3AhODX1",
        "outputId": "94de3d95-2afb-45c1-a272-2e6761c6bbaa",
        "colab": {
          "base_uri": "https://localhost:8080/"
        }
      },
      "execution_count": 192,
      "outputs": [
        {
          "output_type": "execute_result",
          "data": {
            "text/plain": [
              "(5962924, 9)"
            ]
          },
          "metadata": {},
          "execution_count": 192
        }
      ]
    },
    {
      "cell_type": "code",
      "source": [
        "customer_products_raw.shape"
      ],
      "metadata": {
        "id": "NFw4DnavOGk5",
        "outputId": "8d6be01e-5748-4509-b019-424da0288b32",
        "colab": {
          "base_uri": "https://localhost:8080/"
        }
      },
      "execution_count": 193,
      "outputs": [
        {
          "output_type": "execute_result",
          "data": {
            "text/plain": [
              "(5962924, 18)"
            ]
          },
          "metadata": {},
          "execution_count": 193
        }
      ]
    },
    {
      "cell_type": "code",
      "source": [
        "df_raw.shape"
      ],
      "metadata": {
        "id": "EJc8OYMPN87N",
        "outputId": "01a473d2-acbd-4ef5-930c-6cfbc796768a",
        "colab": {
          "base_uri": "https://localhost:8080/"
        }
      },
      "execution_count": 194,
      "outputs": [
        {
          "output_type": "execute_result",
          "data": {
            "text/plain": [
              "(5962924, 30)"
            ]
          },
          "metadata": {},
          "execution_count": 194
        }
      ]
    },
    {
      "cell_type": "code",
      "source": [
        "# Análisis inicial de df_sales_raw y aplicamos las acciones propuestas en el análisis de los datasets\n",
        "\n",
        "df_raw.info()"
      ],
      "metadata": {
        "colab": {
          "base_uri": "https://localhost:8080/"
        },
        "id": "NcTgOi3k3ZgX",
        "outputId": "f0d91ab4-0aae-4caf-ee00-e1641a5f2802"
      },
      "execution_count": 195,
      "outputs": [
        {
          "output_type": "stream",
          "name": "stdout",
          "text": [
            "<class 'pandas.core.frame.DataFrame'>\n",
            "Int64Index: 5962924 entries, 0 to 5962923\n",
            "Data columns (total 30 columns):\n",
            " #   Column              Dtype  \n",
            "---  ------              -----  \n",
            " 0   Unnamed: 0_x        int64  \n",
            " 1   pk_cid              int64  \n",
            " 2   pk_partition        object \n",
            " 3   entry_date          object \n",
            " 4   entry_channel       object \n",
            " 5   active_customer     float64\n",
            " 6   segment             object \n",
            " 7   Unnamed: 0_y        int64  \n",
            " 8   country_id          object \n",
            " 9   region_code         float64\n",
            " 10  gender              object \n",
            " 11  age                 int64  \n",
            " 12  deceased            object \n",
            " 13  salary              float64\n",
            " 14  Unnamed: 0          int64  \n",
            " 15  short_term_deposit  int64  \n",
            " 16  loans               int64  \n",
            " 17  mortgage            int64  \n",
            " 18  funds               int64  \n",
            " 19  securities          int64  \n",
            " 20  long_term_deposit   int64  \n",
            " 21  em_account_pp       int64  \n",
            " 22  credit_card         int64  \n",
            " 23  payroll             float64\n",
            " 24  pension_plan        float64\n",
            " 25  payroll_account     int64  \n",
            " 26  emc_account         int64  \n",
            " 27  debit_card          int64  \n",
            " 28  em_account_p        int64  \n",
            " 29  em_acount           int64  \n",
            "dtypes: float64(5), int64(18), object(7)\n",
            "memory usage: 1.4+ GB\n"
          ]
        }
      ]
    },
    {
      "cell_type": "code",
      "source": [
        "# Cogemos una muestra aleatoria del 10% de la base de datos\n",
        "\n",
        "n = int(len(df_raw) * 0.1)\n",
        "df1 = df_raw.sample(n)"
      ],
      "metadata": {
        "id": "hA415eTEOzJf"
      },
      "execution_count": 196,
      "outputs": []
    },
    {
      "cell_type": "code",
      "source": [
        "df1.shape"
      ],
      "metadata": {
        "id": "N85FoDnhPJxU",
        "outputId": "070316d4-cfdf-4141-8d06-eb1b333a66cb",
        "colab": {
          "base_uri": "https://localhost:8080/"
        }
      },
      "execution_count": 197,
      "outputs": [
        {
          "output_type": "execute_result",
          "data": {
            "text/plain": [
              "(596292, 30)"
            ]
          },
          "metadata": {},
          "execution_count": 197
        }
      ]
    },
    {
      "cell_type": "code",
      "source": [
        "#  Eliminamos las columnas \"Unnamed\"\n",
        "df1.drop(\"Unnamed: 0_x\", axis = 1, inplace = True)\n",
        "df1.drop(\"Unnamed: 0_y\", axis = 1, inplace = True)\n",
        "df1.drop(\"Unnamed: 0\", axis = 1, inplace = True)"
      ],
      "metadata": {
        "id": "pPDCS0pnlBIs"
      },
      "execution_count": 198,
      "outputs": []
    },
    {
      "cell_type": "code",
      "source": [
        "# Renombrar columnas para alinear el naming, por ejemplo variable cid como \"client_ID\", pk_sale como \"sale_ID\"\n",
        "df1.rename({\"pk_cid\": \"customer_ID\",\"pk_partition\": \"partition_ID\"},axis='columns',inplace = True)"
      ],
      "metadata": {
        "id": "2OT3fktGl1Sx"
      },
      "execution_count": 199,
      "outputs": []
    },
    {
      "cell_type": "markdown",
      "source": [
        "### Atributos de baja varianza"
      ],
      "metadata": {
        "id": "Mnx0tSwv4x1s"
      }
    },
    {
      "cell_type": "code",
      "source": [
        "df1[\"em_account_p\"].value_counts(normalize = True)*100"
      ],
      "metadata": {
        "colab": {
          "base_uri": "https://localhost:8080/"
        },
        "id": "bko_MwIo5dJ5",
        "outputId": "d7792ba6-cf0c-4105-a333-9e51c5925819"
      },
      "execution_count": 200,
      "outputs": [
        {
          "output_type": "execute_result",
          "data": {
            "text/plain": [
              "0    99.999832\n",
              "1     0.000168\n",
              "Name: em_account_p, dtype: float64"
            ]
          },
          "metadata": {},
          "execution_count": 200
        }
      ]
    },
    {
      "cell_type": "code",
      "source": [
        "df1[\"em_account_pp\"].value_counts(normalize = True)*100"
      ],
      "metadata": {
        "colab": {
          "base_uri": "https://localhost:8080/"
        },
        "id": "CKApm1qp5XVC",
        "outputId": "31043a59-dcc7-4018-d449-b20443c104ab"
      },
      "execution_count": 201,
      "outputs": [
        {
          "output_type": "execute_result",
          "data": {
            "text/plain": [
              "0    100.0\n",
              "Name: em_account_pp, dtype: float64"
            ]
          },
          "metadata": {},
          "execution_count": 201
        }
      ]
    },
    {
      "cell_type": "code",
      "source": [
        "df1[\"country_id\"].value_counts(normalize=True)*100"
      ],
      "metadata": {
        "colab": {
          "base_uri": "https://localhost:8080/"
        },
        "id": "APkvBkPdELzy",
        "outputId": "6031aff3-e959-4fb7-ba5f-a21c74b458a9"
      },
      "execution_count": 202,
      "outputs": [
        {
          "output_type": "execute_result",
          "data": {
            "text/plain": [
              "ES    99.963441\n",
              "GB     0.007044\n",
              "DE     0.004193\n",
              "FR     0.003857\n",
              "CH     0.002683\n",
              "US     0.002516\n",
              "BE     0.002180\n",
              "BR     0.001845\n",
              "MX     0.001342\n",
              "VE     0.001174\n",
              "IE     0.001006\n",
              "PL     0.001006\n",
              "IT     0.000839\n",
              "MA     0.000671\n",
              "SN     0.000503\n",
              "AR     0.000503\n",
              "RU     0.000503\n",
              "CA     0.000503\n",
              "CM     0.000503\n",
              "QA     0.000503\n",
              "LU     0.000335\n",
              "CN     0.000335\n",
              "ET     0.000335\n",
              "CO     0.000335\n",
              "CL     0.000335\n",
              "SE     0.000335\n",
              "JM     0.000168\n",
              "SA     0.000168\n",
              "CI     0.000168\n",
              "MR     0.000168\n",
              "DZ     0.000168\n",
              "PT     0.000168\n",
              "AT     0.000168\n",
              "Name: country_id, dtype: float64"
            ]
          },
          "metadata": {},
          "execution_count": 202
        }
      ]
    },
    {
      "cell_type": "code",
      "source": [
        "# Eliminamos variables de baja varianza\n",
        "del df1['em_account_pp']\n",
        "del df1['em_account_p']\n",
        "del df1['country_id']"
      ],
      "metadata": {
        "id": "u4B8ZwgG3lT3"
      },
      "execution_count": 203,
      "outputs": []
    },
    {
      "cell_type": "markdown",
      "source": [
        "### Gestión de nulos"
      ],
      "metadata": {
        "id": "m5zPwJnx4vk8"
      }
    },
    {
      "cell_type": "code",
      "source": [
        "df1.isnull().sum()"
      ],
      "metadata": {
        "colab": {
          "base_uri": "https://localhost:8080/"
        },
        "id": "w6VsIMye3q0v",
        "outputId": "792392b6-3ba1-46a0-f1ce-5a1267962e2b"
      },
      "execution_count": 204,
      "outputs": [
        {
          "output_type": "execute_result",
          "data": {
            "text/plain": [
              "customer_ID                0\n",
              "partition_ID               0\n",
              "entry_date                 0\n",
              "entry_channel          13377\n",
              "active_customer            0\n",
              "segment                13439\n",
              "region_code              218\n",
              "gender                     2\n",
              "age                        0\n",
              "deceased                   0\n",
              "salary                153970\n",
              "short_term_deposit         0\n",
              "loans                      0\n",
              "mortgage                   0\n",
              "funds                      0\n",
              "securities                 0\n",
              "long_term_deposit          0\n",
              "credit_card                0\n",
              "payroll                   10\n",
              "pension_plan              10\n",
              "payroll_account            0\n",
              "emc_account                0\n",
              "debit_card                 0\n",
              "em_acount                  0\n",
              "dtype: int64"
            ]
          },
          "metadata": {},
          "execution_count": 204
        }
      ]
    },
    {
      "cell_type": "code",
      "source": [
        "# Eliminamos valores nulos de \"payroll\" y \"pension_plan\"\n",
        "\n",
        "df1.dropna(subset = ['pension_plan'], inplace = True)"
      ],
      "metadata": {
        "id": "zadsAFsuSecH"
      },
      "execution_count": 205,
      "outputs": []
    },
    {
      "cell_type": "code",
      "source": [
        "# Asignamos valor extremos a \"salary\", \"gender\", \"region_code\" ya que vamos a hacer un DecisionTree\n",
        "\n",
        "print(df1[\"salary\"].describe())\n",
        "df1[\"salary\"].fillna(value = 0, inplace = True)\n",
        "\n",
        "print(df1[\"gender\"].value_counts(normalize = True))\n",
        "df1[\"gender\"].fillna(value = 2, inplace = True)\n",
        "\n",
        "print(df1[\"region_code\"].describe())\n",
        "df1[\"region_code\"].fillna(value = 100, inplace = True)"
      ],
      "metadata": {
        "colab": {
          "base_uri": "https://localhost:8080/"
        },
        "id": "LEWJpmSP6H95",
        "outputId": "6a3e586f-b7dd-43a8-aa40-fdeafdef6eeb"
      },
      "execution_count": 206,
      "outputs": [
        {
          "output_type": "stream",
          "name": "stdout",
          "text": [
            "count    4.423140e+05\n",
            "mean     1.158461e+05\n",
            "std      2.098665e+05\n",
            "min      1.202730e+03\n",
            "25%      6.139734e+04\n",
            "50%      8.828424e+04\n",
            "75%      1.312423e+05\n",
            "max      2.889440e+07\n",
            "Name: salary, dtype: float64\n",
            "H    0.517317\n",
            "V    0.482683\n",
            "Name: gender, dtype: float64\n",
            "count    596064.000000\n",
            "mean         25.805997\n",
            "std          13.588387\n",
            "min           1.000000\n",
            "25%          13.000000\n",
            "50%          28.000000\n",
            "75%          36.000000\n",
            "max          52.000000\n",
            "Name: region_code, dtype: float64\n"
          ]
        }
      ]
    },
    {
      "cell_type": "markdown",
      "source": [
        "#### Segment ELIMINAR"
      ],
      "metadata": {
        "id": "4dXB__baD_eZ"
      }
    },
    {
      "cell_type": "code",
      "source": [
        "df_segment = df1.copy()"
      ],
      "metadata": {
        "id": "1mx4FRJDGzCl"
      },
      "execution_count": 207,
      "outputs": []
    },
    {
      "cell_type": "code",
      "source": [
        "df_segment[df_segment[\"segment\"].isnull()]"
      ],
      "metadata": {
        "id": "hK52FgbAJIQO",
        "outputId": "c638f6a8-42d3-4aca-9fa1-02d9727eed4c",
        "colab": {
          "base_uri": "https://localhost:8080/",
          "height": 487
        }
      },
      "execution_count": 208,
      "outputs": [
        {
          "output_type": "execute_result",
          "data": {
            "text/plain": [
              "         customer_ID partition_ID entry_date entry_channel  active_customer  \\\n",
              "2508033      1454533      2018-09    2018-09           NaN              1.0   \n",
              "2502544      1460433      2018-09    2018-09           NaN              0.0   \n",
              "2793556      1493938      2018-10    2018-10           NaN              0.0   \n",
              "2498142      1442724      2018-09    2018-09           NaN              0.0   \n",
              "2786141      1472118      2018-10    2018-10           NaN              0.0   \n",
              "...              ...          ...        ...           ...              ...   \n",
              "2493839      1453150      2018-09    2018-09           NaN              0.0   \n",
              "3680005      1516797      2018-12    2018-12           NaN              1.0   \n",
              "2994998      1510606      2018-11    2018-11           NaN              0.0   \n",
              "2491839      1447973      2018-09    2018-09           NaN              0.0   \n",
              "1801832      1420939      2018-07    2018-07           NaN              0.0   \n",
              "\n",
              "        segment  region_code gender  age deceased  ...  funds  securities  \\\n",
              "2508033     NaN         28.0      V   37        N  ...      0           0   \n",
              "2502544     NaN         30.0      V   21        N  ...      0           0   \n",
              "2793556     NaN          9.0      V   20        N  ...      0           0   \n",
              "2498142     NaN         28.0      H   24        N  ...      0           0   \n",
              "2786141     NaN         45.0      H   20        N  ...      0           0   \n",
              "...         ...          ...    ...  ...      ...  ...    ...         ...   \n",
              "2493839     NaN         35.0      H   20        N  ...      0           0   \n",
              "3680005     NaN          8.0      V   21        N  ...      0           0   \n",
              "2994998     NaN         28.0      V   21        N  ...      0           0   \n",
              "2491839     NaN         46.0      V   20        N  ...      0           0   \n",
              "1801832     NaN         46.0      V   20        N  ...      0           0   \n",
              "\n",
              "         long_term_deposit  credit_card  payroll  pension_plan  \\\n",
              "2508033                  0            0      0.0           0.0   \n",
              "2502544                  0            0      0.0           0.0   \n",
              "2793556                  0            0      0.0           0.0   \n",
              "2498142                  0            0      0.0           0.0   \n",
              "2786141                  0            0      0.0           0.0   \n",
              "...                    ...          ...      ...           ...   \n",
              "2493839                  0            0      0.0           0.0   \n",
              "3680005                  0            0      0.0           0.0   \n",
              "2994998                  0            0      0.0           0.0   \n",
              "2491839                  0            0      0.0           0.0   \n",
              "1801832                  0            0      0.0           0.0   \n",
              "\n",
              "         payroll_account  emc_account  debit_card  em_acount  \n",
              "2508033                0            0           0          1  \n",
              "2502544                0            0           0          1  \n",
              "2793556                0            0           0          0  \n",
              "2498142                0            0           0          1  \n",
              "2786141                0            0           0          0  \n",
              "...                  ...          ...         ...        ...  \n",
              "2493839                0            0           0          1  \n",
              "3680005                0            0           0          1  \n",
              "2994998                0            0           0          0  \n",
              "2491839                0            0           0          1  \n",
              "1801832                0            0           0          0  \n",
              "\n",
              "[13438 rows x 24 columns]"
            ],
            "text/html": [
              "\n",
              "  <div id=\"df-62a6826f-4894-449d-a20b-53a0c13418db\">\n",
              "    <div class=\"colab-df-container\">\n",
              "      <div>\n",
              "<style scoped>\n",
              "    .dataframe tbody tr th:only-of-type {\n",
              "        vertical-align: middle;\n",
              "    }\n",
              "\n",
              "    .dataframe tbody tr th {\n",
              "        vertical-align: top;\n",
              "    }\n",
              "\n",
              "    .dataframe thead th {\n",
              "        text-align: right;\n",
              "    }\n",
              "</style>\n",
              "<table border=\"1\" class=\"dataframe\">\n",
              "  <thead>\n",
              "    <tr style=\"text-align: right;\">\n",
              "      <th></th>\n",
              "      <th>customer_ID</th>\n",
              "      <th>partition_ID</th>\n",
              "      <th>entry_date</th>\n",
              "      <th>entry_channel</th>\n",
              "      <th>active_customer</th>\n",
              "      <th>segment</th>\n",
              "      <th>region_code</th>\n",
              "      <th>gender</th>\n",
              "      <th>age</th>\n",
              "      <th>deceased</th>\n",
              "      <th>...</th>\n",
              "      <th>funds</th>\n",
              "      <th>securities</th>\n",
              "      <th>long_term_deposit</th>\n",
              "      <th>credit_card</th>\n",
              "      <th>payroll</th>\n",
              "      <th>pension_plan</th>\n",
              "      <th>payroll_account</th>\n",
              "      <th>emc_account</th>\n",
              "      <th>debit_card</th>\n",
              "      <th>em_acount</th>\n",
              "    </tr>\n",
              "  </thead>\n",
              "  <tbody>\n",
              "    <tr>\n",
              "      <th>2508033</th>\n",
              "      <td>1454533</td>\n",
              "      <td>2018-09</td>\n",
              "      <td>2018-09</td>\n",
              "      <td>NaN</td>\n",
              "      <td>1.0</td>\n",
              "      <td>NaN</td>\n",
              "      <td>28.0</td>\n",
              "      <td>V</td>\n",
              "      <td>37</td>\n",
              "      <td>N</td>\n",
              "      <td>...</td>\n",
              "      <td>0</td>\n",
              "      <td>0</td>\n",
              "      <td>0</td>\n",
              "      <td>0</td>\n",
              "      <td>0.0</td>\n",
              "      <td>0.0</td>\n",
              "      <td>0</td>\n",
              "      <td>0</td>\n",
              "      <td>0</td>\n",
              "      <td>1</td>\n",
              "    </tr>\n",
              "    <tr>\n",
              "      <th>2502544</th>\n",
              "      <td>1460433</td>\n",
              "      <td>2018-09</td>\n",
              "      <td>2018-09</td>\n",
              "      <td>NaN</td>\n",
              "      <td>0.0</td>\n",
              "      <td>NaN</td>\n",
              "      <td>30.0</td>\n",
              "      <td>V</td>\n",
              "      <td>21</td>\n",
              "      <td>N</td>\n",
              "      <td>...</td>\n",
              "      <td>0</td>\n",
              "      <td>0</td>\n",
              "      <td>0</td>\n",
              "      <td>0</td>\n",
              "      <td>0.0</td>\n",
              "      <td>0.0</td>\n",
              "      <td>0</td>\n",
              "      <td>0</td>\n",
              "      <td>0</td>\n",
              "      <td>1</td>\n",
              "    </tr>\n",
              "    <tr>\n",
              "      <th>2793556</th>\n",
              "      <td>1493938</td>\n",
              "      <td>2018-10</td>\n",
              "      <td>2018-10</td>\n",
              "      <td>NaN</td>\n",
              "      <td>0.0</td>\n",
              "      <td>NaN</td>\n",
              "      <td>9.0</td>\n",
              "      <td>V</td>\n",
              "      <td>20</td>\n",
              "      <td>N</td>\n",
              "      <td>...</td>\n",
              "      <td>0</td>\n",
              "      <td>0</td>\n",
              "      <td>0</td>\n",
              "      <td>0</td>\n",
              "      <td>0.0</td>\n",
              "      <td>0.0</td>\n",
              "      <td>0</td>\n",
              "      <td>0</td>\n",
              "      <td>0</td>\n",
              "      <td>0</td>\n",
              "    </tr>\n",
              "    <tr>\n",
              "      <th>2498142</th>\n",
              "      <td>1442724</td>\n",
              "      <td>2018-09</td>\n",
              "      <td>2018-09</td>\n",
              "      <td>NaN</td>\n",
              "      <td>0.0</td>\n",
              "      <td>NaN</td>\n",
              "      <td>28.0</td>\n",
              "      <td>H</td>\n",
              "      <td>24</td>\n",
              "      <td>N</td>\n",
              "      <td>...</td>\n",
              "      <td>0</td>\n",
              "      <td>0</td>\n",
              "      <td>0</td>\n",
              "      <td>0</td>\n",
              "      <td>0.0</td>\n",
              "      <td>0.0</td>\n",
              "      <td>0</td>\n",
              "      <td>0</td>\n",
              "      <td>0</td>\n",
              "      <td>1</td>\n",
              "    </tr>\n",
              "    <tr>\n",
              "      <th>2786141</th>\n",
              "      <td>1472118</td>\n",
              "      <td>2018-10</td>\n",
              "      <td>2018-10</td>\n",
              "      <td>NaN</td>\n",
              "      <td>0.0</td>\n",
              "      <td>NaN</td>\n",
              "      <td>45.0</td>\n",
              "      <td>H</td>\n",
              "      <td>20</td>\n",
              "      <td>N</td>\n",
              "      <td>...</td>\n",
              "      <td>0</td>\n",
              "      <td>0</td>\n",
              "      <td>0</td>\n",
              "      <td>0</td>\n",
              "      <td>0.0</td>\n",
              "      <td>0.0</td>\n",
              "      <td>0</td>\n",
              "      <td>0</td>\n",
              "      <td>0</td>\n",
              "      <td>0</td>\n",
              "    </tr>\n",
              "    <tr>\n",
              "      <th>...</th>\n",
              "      <td>...</td>\n",
              "      <td>...</td>\n",
              "      <td>...</td>\n",
              "      <td>...</td>\n",
              "      <td>...</td>\n",
              "      <td>...</td>\n",
              "      <td>...</td>\n",
              "      <td>...</td>\n",
              "      <td>...</td>\n",
              "      <td>...</td>\n",
              "      <td>...</td>\n",
              "      <td>...</td>\n",
              "      <td>...</td>\n",
              "      <td>...</td>\n",
              "      <td>...</td>\n",
              "      <td>...</td>\n",
              "      <td>...</td>\n",
              "      <td>...</td>\n",
              "      <td>...</td>\n",
              "      <td>...</td>\n",
              "      <td>...</td>\n",
              "    </tr>\n",
              "    <tr>\n",
              "      <th>2493839</th>\n",
              "      <td>1453150</td>\n",
              "      <td>2018-09</td>\n",
              "      <td>2018-09</td>\n",
              "      <td>NaN</td>\n",
              "      <td>0.0</td>\n",
              "      <td>NaN</td>\n",
              "      <td>35.0</td>\n",
              "      <td>H</td>\n",
              "      <td>20</td>\n",
              "      <td>N</td>\n",
              "      <td>...</td>\n",
              "      <td>0</td>\n",
              "      <td>0</td>\n",
              "      <td>0</td>\n",
              "      <td>0</td>\n",
              "      <td>0.0</td>\n",
              "      <td>0.0</td>\n",
              "      <td>0</td>\n",
              "      <td>0</td>\n",
              "      <td>0</td>\n",
              "      <td>1</td>\n",
              "    </tr>\n",
              "    <tr>\n",
              "      <th>3680005</th>\n",
              "      <td>1516797</td>\n",
              "      <td>2018-12</td>\n",
              "      <td>2018-12</td>\n",
              "      <td>NaN</td>\n",
              "      <td>1.0</td>\n",
              "      <td>NaN</td>\n",
              "      <td>8.0</td>\n",
              "      <td>V</td>\n",
              "      <td>21</td>\n",
              "      <td>N</td>\n",
              "      <td>...</td>\n",
              "      <td>0</td>\n",
              "      <td>0</td>\n",
              "      <td>0</td>\n",
              "      <td>0</td>\n",
              "      <td>0.0</td>\n",
              "      <td>0.0</td>\n",
              "      <td>0</td>\n",
              "      <td>0</td>\n",
              "      <td>0</td>\n",
              "      <td>1</td>\n",
              "    </tr>\n",
              "    <tr>\n",
              "      <th>2994998</th>\n",
              "      <td>1510606</td>\n",
              "      <td>2018-11</td>\n",
              "      <td>2018-11</td>\n",
              "      <td>NaN</td>\n",
              "      <td>0.0</td>\n",
              "      <td>NaN</td>\n",
              "      <td>28.0</td>\n",
              "      <td>V</td>\n",
              "      <td>21</td>\n",
              "      <td>N</td>\n",
              "      <td>...</td>\n",
              "      <td>0</td>\n",
              "      <td>0</td>\n",
              "      <td>0</td>\n",
              "      <td>0</td>\n",
              "      <td>0.0</td>\n",
              "      <td>0.0</td>\n",
              "      <td>0</td>\n",
              "      <td>0</td>\n",
              "      <td>0</td>\n",
              "      <td>0</td>\n",
              "    </tr>\n",
              "    <tr>\n",
              "      <th>2491839</th>\n",
              "      <td>1447973</td>\n",
              "      <td>2018-09</td>\n",
              "      <td>2018-09</td>\n",
              "      <td>NaN</td>\n",
              "      <td>0.0</td>\n",
              "      <td>NaN</td>\n",
              "      <td>46.0</td>\n",
              "      <td>V</td>\n",
              "      <td>20</td>\n",
              "      <td>N</td>\n",
              "      <td>...</td>\n",
              "      <td>0</td>\n",
              "      <td>0</td>\n",
              "      <td>0</td>\n",
              "      <td>0</td>\n",
              "      <td>0.0</td>\n",
              "      <td>0.0</td>\n",
              "      <td>0</td>\n",
              "      <td>0</td>\n",
              "      <td>0</td>\n",
              "      <td>1</td>\n",
              "    </tr>\n",
              "    <tr>\n",
              "      <th>1801832</th>\n",
              "      <td>1420939</td>\n",
              "      <td>2018-07</td>\n",
              "      <td>2018-07</td>\n",
              "      <td>NaN</td>\n",
              "      <td>0.0</td>\n",
              "      <td>NaN</td>\n",
              "      <td>46.0</td>\n",
              "      <td>V</td>\n",
              "      <td>20</td>\n",
              "      <td>N</td>\n",
              "      <td>...</td>\n",
              "      <td>0</td>\n",
              "      <td>0</td>\n",
              "      <td>0</td>\n",
              "      <td>0</td>\n",
              "      <td>0.0</td>\n",
              "      <td>0.0</td>\n",
              "      <td>0</td>\n",
              "      <td>0</td>\n",
              "      <td>0</td>\n",
              "      <td>0</td>\n",
              "    </tr>\n",
              "  </tbody>\n",
              "</table>\n",
              "<p>13438 rows × 24 columns</p>\n",
              "</div>\n",
              "      <button class=\"colab-df-convert\" onclick=\"convertToInteractive('df-62a6826f-4894-449d-a20b-53a0c13418db')\"\n",
              "              title=\"Convert this dataframe to an interactive table.\"\n",
              "              style=\"display:none;\">\n",
              "        \n",
              "  <svg xmlns=\"http://www.w3.org/2000/svg\" height=\"24px\"viewBox=\"0 0 24 24\"\n",
              "       width=\"24px\">\n",
              "    <path d=\"M0 0h24v24H0V0z\" fill=\"none\"/>\n",
              "    <path d=\"M18.56 5.44l.94 2.06.94-2.06 2.06-.94-2.06-.94-.94-2.06-.94 2.06-2.06.94zm-11 1L8.5 8.5l.94-2.06 2.06-.94-2.06-.94L8.5 2.5l-.94 2.06-2.06.94zm10 10l.94 2.06.94-2.06 2.06-.94-2.06-.94-.94-2.06-.94 2.06-2.06.94z\"/><path d=\"M17.41 7.96l-1.37-1.37c-.4-.4-.92-.59-1.43-.59-.52 0-1.04.2-1.43.59L10.3 9.45l-7.72 7.72c-.78.78-.78 2.05 0 2.83L4 21.41c.39.39.9.59 1.41.59.51 0 1.02-.2 1.41-.59l7.78-7.78 2.81-2.81c.8-.78.8-2.07 0-2.86zM5.41 20L4 18.59l7.72-7.72 1.47 1.35L5.41 20z\"/>\n",
              "  </svg>\n",
              "      </button>\n",
              "      \n",
              "  <style>\n",
              "    .colab-df-container {\n",
              "      display:flex;\n",
              "      flex-wrap:wrap;\n",
              "      gap: 12px;\n",
              "    }\n",
              "\n",
              "    .colab-df-convert {\n",
              "      background-color: #E8F0FE;\n",
              "      border: none;\n",
              "      border-radius: 50%;\n",
              "      cursor: pointer;\n",
              "      display: none;\n",
              "      fill: #1967D2;\n",
              "      height: 32px;\n",
              "      padding: 0 0 0 0;\n",
              "      width: 32px;\n",
              "    }\n",
              "\n",
              "    .colab-df-convert:hover {\n",
              "      background-color: #E2EBFA;\n",
              "      box-shadow: 0px 1px 2px rgba(60, 64, 67, 0.3), 0px 1px 3px 1px rgba(60, 64, 67, 0.15);\n",
              "      fill: #174EA6;\n",
              "    }\n",
              "\n",
              "    [theme=dark] .colab-df-convert {\n",
              "      background-color: #3B4455;\n",
              "      fill: #D2E3FC;\n",
              "    }\n",
              "\n",
              "    [theme=dark] .colab-df-convert:hover {\n",
              "      background-color: #434B5C;\n",
              "      box-shadow: 0px 1px 3px 1px rgba(0, 0, 0, 0.15);\n",
              "      filter: drop-shadow(0px 1px 2px rgba(0, 0, 0, 0.3));\n",
              "      fill: #FFFFFF;\n",
              "    }\n",
              "  </style>\n",
              "\n",
              "      <script>\n",
              "        const buttonEl =\n",
              "          document.querySelector('#df-62a6826f-4894-449d-a20b-53a0c13418db button.colab-df-convert');\n",
              "        buttonEl.style.display =\n",
              "          google.colab.kernel.accessAllowed ? 'block' : 'none';\n",
              "\n",
              "        async function convertToInteractive(key) {\n",
              "          const element = document.querySelector('#df-62a6826f-4894-449d-a20b-53a0c13418db');\n",
              "          const dataTable =\n",
              "            await google.colab.kernel.invokeFunction('convertToInteractive',\n",
              "                                                     [key], {});\n",
              "          if (!dataTable) return;\n",
              "\n",
              "          const docLinkHtml = 'Like what you see? Visit the ' +\n",
              "            '<a target=\"_blank\" href=https://colab.research.google.com/notebooks/data_table.ipynb>data table notebook</a>'\n",
              "            + ' to learn more about interactive tables.';\n",
              "          element.innerHTML = '';\n",
              "          dataTable['output_type'] = 'display_data';\n",
              "          await google.colab.output.renderOutput(dataTable, element);\n",
              "          const docLink = document.createElement('div');\n",
              "          docLink.innerHTML = docLinkHtml;\n",
              "          element.appendChild(docLink);\n",
              "        }\n",
              "      </script>\n",
              "    </div>\n",
              "  </div>\n",
              "  "
            ]
          },
          "metadata": {},
          "execution_count": 208
        }
      ]
    },
    {
      "cell_type": "code",
      "source": [
        "df_segment[df_segment[\"customer_ID\"] == 1550864]"
      ],
      "metadata": {
        "id": "EKNqqRCnJhnQ",
        "outputId": "050efc1f-8605-4009-eae3-cf6f7c6aec42",
        "colab": {
          "base_uri": "https://localhost:8080/",
          "height": 143
        }
      },
      "execution_count": 209,
      "outputs": [
        {
          "output_type": "execute_result",
          "data": {
            "text/plain": [
              "Empty DataFrame\n",
              "Columns: [customer_ID, partition_ID, entry_date, entry_channel, active_customer, segment, region_code, gender, age, deceased, salary, short_term_deposit, loans, mortgage, funds, securities, long_term_deposit, credit_card, payroll, pension_plan, payroll_account, emc_account, debit_card, em_acount]\n",
              "Index: []\n",
              "\n",
              "[0 rows x 24 columns]"
            ],
            "text/html": [
              "\n",
              "  <div id=\"df-c4533d54-a07e-424e-b676-3c8a1d702d9e\">\n",
              "    <div class=\"colab-df-container\">\n",
              "      <div>\n",
              "<style scoped>\n",
              "    .dataframe tbody tr th:only-of-type {\n",
              "        vertical-align: middle;\n",
              "    }\n",
              "\n",
              "    .dataframe tbody tr th {\n",
              "        vertical-align: top;\n",
              "    }\n",
              "\n",
              "    .dataframe thead th {\n",
              "        text-align: right;\n",
              "    }\n",
              "</style>\n",
              "<table border=\"1\" class=\"dataframe\">\n",
              "  <thead>\n",
              "    <tr style=\"text-align: right;\">\n",
              "      <th></th>\n",
              "      <th>customer_ID</th>\n",
              "      <th>partition_ID</th>\n",
              "      <th>entry_date</th>\n",
              "      <th>entry_channel</th>\n",
              "      <th>active_customer</th>\n",
              "      <th>segment</th>\n",
              "      <th>region_code</th>\n",
              "      <th>gender</th>\n",
              "      <th>age</th>\n",
              "      <th>deceased</th>\n",
              "      <th>...</th>\n",
              "      <th>funds</th>\n",
              "      <th>securities</th>\n",
              "      <th>long_term_deposit</th>\n",
              "      <th>credit_card</th>\n",
              "      <th>payroll</th>\n",
              "      <th>pension_plan</th>\n",
              "      <th>payroll_account</th>\n",
              "      <th>emc_account</th>\n",
              "      <th>debit_card</th>\n",
              "      <th>em_acount</th>\n",
              "    </tr>\n",
              "  </thead>\n",
              "  <tbody>\n",
              "  </tbody>\n",
              "</table>\n",
              "<p>0 rows × 24 columns</p>\n",
              "</div>\n",
              "      <button class=\"colab-df-convert\" onclick=\"convertToInteractive('df-c4533d54-a07e-424e-b676-3c8a1d702d9e')\"\n",
              "              title=\"Convert this dataframe to an interactive table.\"\n",
              "              style=\"display:none;\">\n",
              "        \n",
              "  <svg xmlns=\"http://www.w3.org/2000/svg\" height=\"24px\"viewBox=\"0 0 24 24\"\n",
              "       width=\"24px\">\n",
              "    <path d=\"M0 0h24v24H0V0z\" fill=\"none\"/>\n",
              "    <path d=\"M18.56 5.44l.94 2.06.94-2.06 2.06-.94-2.06-.94-.94-2.06-.94 2.06-2.06.94zm-11 1L8.5 8.5l.94-2.06 2.06-.94-2.06-.94L8.5 2.5l-.94 2.06-2.06.94zm10 10l.94 2.06.94-2.06 2.06-.94-2.06-.94-.94-2.06-.94 2.06-2.06.94z\"/><path d=\"M17.41 7.96l-1.37-1.37c-.4-.4-.92-.59-1.43-.59-.52 0-1.04.2-1.43.59L10.3 9.45l-7.72 7.72c-.78.78-.78 2.05 0 2.83L4 21.41c.39.39.9.59 1.41.59.51 0 1.02-.2 1.41-.59l7.78-7.78 2.81-2.81c.8-.78.8-2.07 0-2.86zM5.41 20L4 18.59l7.72-7.72 1.47 1.35L5.41 20z\"/>\n",
              "  </svg>\n",
              "      </button>\n",
              "      \n",
              "  <style>\n",
              "    .colab-df-container {\n",
              "      display:flex;\n",
              "      flex-wrap:wrap;\n",
              "      gap: 12px;\n",
              "    }\n",
              "\n",
              "    .colab-df-convert {\n",
              "      background-color: #E8F0FE;\n",
              "      border: none;\n",
              "      border-radius: 50%;\n",
              "      cursor: pointer;\n",
              "      display: none;\n",
              "      fill: #1967D2;\n",
              "      height: 32px;\n",
              "      padding: 0 0 0 0;\n",
              "      width: 32px;\n",
              "    }\n",
              "\n",
              "    .colab-df-convert:hover {\n",
              "      background-color: #E2EBFA;\n",
              "      box-shadow: 0px 1px 2px rgba(60, 64, 67, 0.3), 0px 1px 3px 1px rgba(60, 64, 67, 0.15);\n",
              "      fill: #174EA6;\n",
              "    }\n",
              "\n",
              "    [theme=dark] .colab-df-convert {\n",
              "      background-color: #3B4455;\n",
              "      fill: #D2E3FC;\n",
              "    }\n",
              "\n",
              "    [theme=dark] .colab-df-convert:hover {\n",
              "      background-color: #434B5C;\n",
              "      box-shadow: 0px 1px 3px 1px rgba(0, 0, 0, 0.15);\n",
              "      filter: drop-shadow(0px 1px 2px rgba(0, 0, 0, 0.3));\n",
              "      fill: #FFFFFF;\n",
              "    }\n",
              "  </style>\n",
              "\n",
              "      <script>\n",
              "        const buttonEl =\n",
              "          document.querySelector('#df-c4533d54-a07e-424e-b676-3c8a1d702d9e button.colab-df-convert');\n",
              "        buttonEl.style.display =\n",
              "          google.colab.kernel.accessAllowed ? 'block' : 'none';\n",
              "\n",
              "        async function convertToInteractive(key) {\n",
              "          const element = document.querySelector('#df-c4533d54-a07e-424e-b676-3c8a1d702d9e');\n",
              "          const dataTable =\n",
              "            await google.colab.kernel.invokeFunction('convertToInteractive',\n",
              "                                                     [key], {});\n",
              "          if (!dataTable) return;\n",
              "\n",
              "          const docLinkHtml = 'Like what you see? Visit the ' +\n",
              "            '<a target=\"_blank\" href=https://colab.research.google.com/notebooks/data_table.ipynb>data table notebook</a>'\n",
              "            + ' to learn more about interactive tables.';\n",
              "          element.innerHTML = '';\n",
              "          dataTable['output_type'] = 'display_data';\n",
              "          await google.colab.output.renderOutput(dataTable, element);\n",
              "          const docLink = document.createElement('div');\n",
              "          docLink.innerHTML = docLinkHtml;\n",
              "          element.appendChild(docLink);\n",
              "        }\n",
              "      </script>\n",
              "    </div>\n",
              "  </div>\n",
              "  "
            ]
          },
          "metadata": {},
          "execution_count": 209
        }
      ]
    },
    {
      "cell_type": "code",
      "source": [
        "df1_sorted = df_segment.sort_values([\"customer_ID\",\"partition_ID\"])"
      ],
      "metadata": {
        "id": "Og1NdSGpJyqF"
      },
      "execution_count": 210,
      "outputs": []
    },
    {
      "cell_type": "code",
      "source": [
        "cols = [\"segment\"]\n",
        "df1_sorted.loc[:,cols] = df1_sorted.loc[:,cols].bfill()"
      ],
      "metadata": {
        "id": "SfWH77N9Kw4N"
      },
      "execution_count": 211,
      "outputs": []
    },
    {
      "cell_type": "code",
      "source": [
        "df1[df1[\"segment\"].isnull()]"
      ],
      "metadata": {
        "id": "dSqZ9KlogODk",
        "outputId": "ad92e81e-5d1f-4b70-fcff-5b3788431fad",
        "colab": {
          "base_uri": "https://localhost:8080/",
          "height": 487
        }
      },
      "execution_count": 212,
      "outputs": [
        {
          "output_type": "execute_result",
          "data": {
            "text/plain": [
              "         customer_ID partition_ID entry_date entry_channel  active_customer  \\\n",
              "2508033      1454533      2018-09    2018-09           NaN              1.0   \n",
              "2502544      1460433      2018-09    2018-09           NaN              0.0   \n",
              "2793556      1493938      2018-10    2018-10           NaN              0.0   \n",
              "2498142      1442724      2018-09    2018-09           NaN              0.0   \n",
              "2786141      1472118      2018-10    2018-10           NaN              0.0   \n",
              "...              ...          ...        ...           ...              ...   \n",
              "2493839      1453150      2018-09    2018-09           NaN              0.0   \n",
              "3680005      1516797      2018-12    2018-12           NaN              1.0   \n",
              "2994998      1510606      2018-11    2018-11           NaN              0.0   \n",
              "2491839      1447973      2018-09    2018-09           NaN              0.0   \n",
              "1801832      1420939      2018-07    2018-07           NaN              0.0   \n",
              "\n",
              "        segment  region_code gender  age deceased  ...  funds  securities  \\\n",
              "2508033     NaN         28.0      V   37        N  ...      0           0   \n",
              "2502544     NaN         30.0      V   21        N  ...      0           0   \n",
              "2793556     NaN          9.0      V   20        N  ...      0           0   \n",
              "2498142     NaN         28.0      H   24        N  ...      0           0   \n",
              "2786141     NaN         45.0      H   20        N  ...      0           0   \n",
              "...         ...          ...    ...  ...      ...  ...    ...         ...   \n",
              "2493839     NaN         35.0      H   20        N  ...      0           0   \n",
              "3680005     NaN          8.0      V   21        N  ...      0           0   \n",
              "2994998     NaN         28.0      V   21        N  ...      0           0   \n",
              "2491839     NaN         46.0      V   20        N  ...      0           0   \n",
              "1801832     NaN         46.0      V   20        N  ...      0           0   \n",
              "\n",
              "         long_term_deposit  credit_card  payroll  pension_plan  \\\n",
              "2508033                  0            0      0.0           0.0   \n",
              "2502544                  0            0      0.0           0.0   \n",
              "2793556                  0            0      0.0           0.0   \n",
              "2498142                  0            0      0.0           0.0   \n",
              "2786141                  0            0      0.0           0.0   \n",
              "...                    ...          ...      ...           ...   \n",
              "2493839                  0            0      0.0           0.0   \n",
              "3680005                  0            0      0.0           0.0   \n",
              "2994998                  0            0      0.0           0.0   \n",
              "2491839                  0            0      0.0           0.0   \n",
              "1801832                  0            0      0.0           0.0   \n",
              "\n",
              "         payroll_account  emc_account  debit_card  em_acount  \n",
              "2508033                0            0           0          1  \n",
              "2502544                0            0           0          1  \n",
              "2793556                0            0           0          0  \n",
              "2498142                0            0           0          1  \n",
              "2786141                0            0           0          0  \n",
              "...                  ...          ...         ...        ...  \n",
              "2493839                0            0           0          1  \n",
              "3680005                0            0           0          1  \n",
              "2994998                0            0           0          0  \n",
              "2491839                0            0           0          1  \n",
              "1801832                0            0           0          0  \n",
              "\n",
              "[13438 rows x 24 columns]"
            ],
            "text/html": [
              "\n",
              "  <div id=\"df-8bd91e96-186d-4617-ab99-8c04f7b3b09a\">\n",
              "    <div class=\"colab-df-container\">\n",
              "      <div>\n",
              "<style scoped>\n",
              "    .dataframe tbody tr th:only-of-type {\n",
              "        vertical-align: middle;\n",
              "    }\n",
              "\n",
              "    .dataframe tbody tr th {\n",
              "        vertical-align: top;\n",
              "    }\n",
              "\n",
              "    .dataframe thead th {\n",
              "        text-align: right;\n",
              "    }\n",
              "</style>\n",
              "<table border=\"1\" class=\"dataframe\">\n",
              "  <thead>\n",
              "    <tr style=\"text-align: right;\">\n",
              "      <th></th>\n",
              "      <th>customer_ID</th>\n",
              "      <th>partition_ID</th>\n",
              "      <th>entry_date</th>\n",
              "      <th>entry_channel</th>\n",
              "      <th>active_customer</th>\n",
              "      <th>segment</th>\n",
              "      <th>region_code</th>\n",
              "      <th>gender</th>\n",
              "      <th>age</th>\n",
              "      <th>deceased</th>\n",
              "      <th>...</th>\n",
              "      <th>funds</th>\n",
              "      <th>securities</th>\n",
              "      <th>long_term_deposit</th>\n",
              "      <th>credit_card</th>\n",
              "      <th>payroll</th>\n",
              "      <th>pension_plan</th>\n",
              "      <th>payroll_account</th>\n",
              "      <th>emc_account</th>\n",
              "      <th>debit_card</th>\n",
              "      <th>em_acount</th>\n",
              "    </tr>\n",
              "  </thead>\n",
              "  <tbody>\n",
              "    <tr>\n",
              "      <th>2508033</th>\n",
              "      <td>1454533</td>\n",
              "      <td>2018-09</td>\n",
              "      <td>2018-09</td>\n",
              "      <td>NaN</td>\n",
              "      <td>1.0</td>\n",
              "      <td>NaN</td>\n",
              "      <td>28.0</td>\n",
              "      <td>V</td>\n",
              "      <td>37</td>\n",
              "      <td>N</td>\n",
              "      <td>...</td>\n",
              "      <td>0</td>\n",
              "      <td>0</td>\n",
              "      <td>0</td>\n",
              "      <td>0</td>\n",
              "      <td>0.0</td>\n",
              "      <td>0.0</td>\n",
              "      <td>0</td>\n",
              "      <td>0</td>\n",
              "      <td>0</td>\n",
              "      <td>1</td>\n",
              "    </tr>\n",
              "    <tr>\n",
              "      <th>2502544</th>\n",
              "      <td>1460433</td>\n",
              "      <td>2018-09</td>\n",
              "      <td>2018-09</td>\n",
              "      <td>NaN</td>\n",
              "      <td>0.0</td>\n",
              "      <td>NaN</td>\n",
              "      <td>30.0</td>\n",
              "      <td>V</td>\n",
              "      <td>21</td>\n",
              "      <td>N</td>\n",
              "      <td>...</td>\n",
              "      <td>0</td>\n",
              "      <td>0</td>\n",
              "      <td>0</td>\n",
              "      <td>0</td>\n",
              "      <td>0.0</td>\n",
              "      <td>0.0</td>\n",
              "      <td>0</td>\n",
              "      <td>0</td>\n",
              "      <td>0</td>\n",
              "      <td>1</td>\n",
              "    </tr>\n",
              "    <tr>\n",
              "      <th>2793556</th>\n",
              "      <td>1493938</td>\n",
              "      <td>2018-10</td>\n",
              "      <td>2018-10</td>\n",
              "      <td>NaN</td>\n",
              "      <td>0.0</td>\n",
              "      <td>NaN</td>\n",
              "      <td>9.0</td>\n",
              "      <td>V</td>\n",
              "      <td>20</td>\n",
              "      <td>N</td>\n",
              "      <td>...</td>\n",
              "      <td>0</td>\n",
              "      <td>0</td>\n",
              "      <td>0</td>\n",
              "      <td>0</td>\n",
              "      <td>0.0</td>\n",
              "      <td>0.0</td>\n",
              "      <td>0</td>\n",
              "      <td>0</td>\n",
              "      <td>0</td>\n",
              "      <td>0</td>\n",
              "    </tr>\n",
              "    <tr>\n",
              "      <th>2498142</th>\n",
              "      <td>1442724</td>\n",
              "      <td>2018-09</td>\n",
              "      <td>2018-09</td>\n",
              "      <td>NaN</td>\n",
              "      <td>0.0</td>\n",
              "      <td>NaN</td>\n",
              "      <td>28.0</td>\n",
              "      <td>H</td>\n",
              "      <td>24</td>\n",
              "      <td>N</td>\n",
              "      <td>...</td>\n",
              "      <td>0</td>\n",
              "      <td>0</td>\n",
              "      <td>0</td>\n",
              "      <td>0</td>\n",
              "      <td>0.0</td>\n",
              "      <td>0.0</td>\n",
              "      <td>0</td>\n",
              "      <td>0</td>\n",
              "      <td>0</td>\n",
              "      <td>1</td>\n",
              "    </tr>\n",
              "    <tr>\n",
              "      <th>2786141</th>\n",
              "      <td>1472118</td>\n",
              "      <td>2018-10</td>\n",
              "      <td>2018-10</td>\n",
              "      <td>NaN</td>\n",
              "      <td>0.0</td>\n",
              "      <td>NaN</td>\n",
              "      <td>45.0</td>\n",
              "      <td>H</td>\n",
              "      <td>20</td>\n",
              "      <td>N</td>\n",
              "      <td>...</td>\n",
              "      <td>0</td>\n",
              "      <td>0</td>\n",
              "      <td>0</td>\n",
              "      <td>0</td>\n",
              "      <td>0.0</td>\n",
              "      <td>0.0</td>\n",
              "      <td>0</td>\n",
              "      <td>0</td>\n",
              "      <td>0</td>\n",
              "      <td>0</td>\n",
              "    </tr>\n",
              "    <tr>\n",
              "      <th>...</th>\n",
              "      <td>...</td>\n",
              "      <td>...</td>\n",
              "      <td>...</td>\n",
              "      <td>...</td>\n",
              "      <td>...</td>\n",
              "      <td>...</td>\n",
              "      <td>...</td>\n",
              "      <td>...</td>\n",
              "      <td>...</td>\n",
              "      <td>...</td>\n",
              "      <td>...</td>\n",
              "      <td>...</td>\n",
              "      <td>...</td>\n",
              "      <td>...</td>\n",
              "      <td>...</td>\n",
              "      <td>...</td>\n",
              "      <td>...</td>\n",
              "      <td>...</td>\n",
              "      <td>...</td>\n",
              "      <td>...</td>\n",
              "      <td>...</td>\n",
              "    </tr>\n",
              "    <tr>\n",
              "      <th>2493839</th>\n",
              "      <td>1453150</td>\n",
              "      <td>2018-09</td>\n",
              "      <td>2018-09</td>\n",
              "      <td>NaN</td>\n",
              "      <td>0.0</td>\n",
              "      <td>NaN</td>\n",
              "      <td>35.0</td>\n",
              "      <td>H</td>\n",
              "      <td>20</td>\n",
              "      <td>N</td>\n",
              "      <td>...</td>\n",
              "      <td>0</td>\n",
              "      <td>0</td>\n",
              "      <td>0</td>\n",
              "      <td>0</td>\n",
              "      <td>0.0</td>\n",
              "      <td>0.0</td>\n",
              "      <td>0</td>\n",
              "      <td>0</td>\n",
              "      <td>0</td>\n",
              "      <td>1</td>\n",
              "    </tr>\n",
              "    <tr>\n",
              "      <th>3680005</th>\n",
              "      <td>1516797</td>\n",
              "      <td>2018-12</td>\n",
              "      <td>2018-12</td>\n",
              "      <td>NaN</td>\n",
              "      <td>1.0</td>\n",
              "      <td>NaN</td>\n",
              "      <td>8.0</td>\n",
              "      <td>V</td>\n",
              "      <td>21</td>\n",
              "      <td>N</td>\n",
              "      <td>...</td>\n",
              "      <td>0</td>\n",
              "      <td>0</td>\n",
              "      <td>0</td>\n",
              "      <td>0</td>\n",
              "      <td>0.0</td>\n",
              "      <td>0.0</td>\n",
              "      <td>0</td>\n",
              "      <td>0</td>\n",
              "      <td>0</td>\n",
              "      <td>1</td>\n",
              "    </tr>\n",
              "    <tr>\n",
              "      <th>2994998</th>\n",
              "      <td>1510606</td>\n",
              "      <td>2018-11</td>\n",
              "      <td>2018-11</td>\n",
              "      <td>NaN</td>\n",
              "      <td>0.0</td>\n",
              "      <td>NaN</td>\n",
              "      <td>28.0</td>\n",
              "      <td>V</td>\n",
              "      <td>21</td>\n",
              "      <td>N</td>\n",
              "      <td>...</td>\n",
              "      <td>0</td>\n",
              "      <td>0</td>\n",
              "      <td>0</td>\n",
              "      <td>0</td>\n",
              "      <td>0.0</td>\n",
              "      <td>0.0</td>\n",
              "      <td>0</td>\n",
              "      <td>0</td>\n",
              "      <td>0</td>\n",
              "      <td>0</td>\n",
              "    </tr>\n",
              "    <tr>\n",
              "      <th>2491839</th>\n",
              "      <td>1447973</td>\n",
              "      <td>2018-09</td>\n",
              "      <td>2018-09</td>\n",
              "      <td>NaN</td>\n",
              "      <td>0.0</td>\n",
              "      <td>NaN</td>\n",
              "      <td>46.0</td>\n",
              "      <td>V</td>\n",
              "      <td>20</td>\n",
              "      <td>N</td>\n",
              "      <td>...</td>\n",
              "      <td>0</td>\n",
              "      <td>0</td>\n",
              "      <td>0</td>\n",
              "      <td>0</td>\n",
              "      <td>0.0</td>\n",
              "      <td>0.0</td>\n",
              "      <td>0</td>\n",
              "      <td>0</td>\n",
              "      <td>0</td>\n",
              "      <td>1</td>\n",
              "    </tr>\n",
              "    <tr>\n",
              "      <th>1801832</th>\n",
              "      <td>1420939</td>\n",
              "      <td>2018-07</td>\n",
              "      <td>2018-07</td>\n",
              "      <td>NaN</td>\n",
              "      <td>0.0</td>\n",
              "      <td>NaN</td>\n",
              "      <td>46.0</td>\n",
              "      <td>V</td>\n",
              "      <td>20</td>\n",
              "      <td>N</td>\n",
              "      <td>...</td>\n",
              "      <td>0</td>\n",
              "      <td>0</td>\n",
              "      <td>0</td>\n",
              "      <td>0</td>\n",
              "      <td>0.0</td>\n",
              "      <td>0.0</td>\n",
              "      <td>0</td>\n",
              "      <td>0</td>\n",
              "      <td>0</td>\n",
              "      <td>0</td>\n",
              "    </tr>\n",
              "  </tbody>\n",
              "</table>\n",
              "<p>13438 rows × 24 columns</p>\n",
              "</div>\n",
              "      <button class=\"colab-df-convert\" onclick=\"convertToInteractive('df-8bd91e96-186d-4617-ab99-8c04f7b3b09a')\"\n",
              "              title=\"Convert this dataframe to an interactive table.\"\n",
              "              style=\"display:none;\">\n",
              "        \n",
              "  <svg xmlns=\"http://www.w3.org/2000/svg\" height=\"24px\"viewBox=\"0 0 24 24\"\n",
              "       width=\"24px\">\n",
              "    <path d=\"M0 0h24v24H0V0z\" fill=\"none\"/>\n",
              "    <path d=\"M18.56 5.44l.94 2.06.94-2.06 2.06-.94-2.06-.94-.94-2.06-.94 2.06-2.06.94zm-11 1L8.5 8.5l.94-2.06 2.06-.94-2.06-.94L8.5 2.5l-.94 2.06-2.06.94zm10 10l.94 2.06.94-2.06 2.06-.94-2.06-.94-.94-2.06-.94 2.06-2.06.94z\"/><path d=\"M17.41 7.96l-1.37-1.37c-.4-.4-.92-.59-1.43-.59-.52 0-1.04.2-1.43.59L10.3 9.45l-7.72 7.72c-.78.78-.78 2.05 0 2.83L4 21.41c.39.39.9.59 1.41.59.51 0 1.02-.2 1.41-.59l7.78-7.78 2.81-2.81c.8-.78.8-2.07 0-2.86zM5.41 20L4 18.59l7.72-7.72 1.47 1.35L5.41 20z\"/>\n",
              "  </svg>\n",
              "      </button>\n",
              "      \n",
              "  <style>\n",
              "    .colab-df-container {\n",
              "      display:flex;\n",
              "      flex-wrap:wrap;\n",
              "      gap: 12px;\n",
              "    }\n",
              "\n",
              "    .colab-df-convert {\n",
              "      background-color: #E8F0FE;\n",
              "      border: none;\n",
              "      border-radius: 50%;\n",
              "      cursor: pointer;\n",
              "      display: none;\n",
              "      fill: #1967D2;\n",
              "      height: 32px;\n",
              "      padding: 0 0 0 0;\n",
              "      width: 32px;\n",
              "    }\n",
              "\n",
              "    .colab-df-convert:hover {\n",
              "      background-color: #E2EBFA;\n",
              "      box-shadow: 0px 1px 2px rgba(60, 64, 67, 0.3), 0px 1px 3px 1px rgba(60, 64, 67, 0.15);\n",
              "      fill: #174EA6;\n",
              "    }\n",
              "\n",
              "    [theme=dark] .colab-df-convert {\n",
              "      background-color: #3B4455;\n",
              "      fill: #D2E3FC;\n",
              "    }\n",
              "\n",
              "    [theme=dark] .colab-df-convert:hover {\n",
              "      background-color: #434B5C;\n",
              "      box-shadow: 0px 1px 3px 1px rgba(0, 0, 0, 0.15);\n",
              "      filter: drop-shadow(0px 1px 2px rgba(0, 0, 0, 0.3));\n",
              "      fill: #FFFFFF;\n",
              "    }\n",
              "  </style>\n",
              "\n",
              "      <script>\n",
              "        const buttonEl =\n",
              "          document.querySelector('#df-8bd91e96-186d-4617-ab99-8c04f7b3b09a button.colab-df-convert');\n",
              "        buttonEl.style.display =\n",
              "          google.colab.kernel.accessAllowed ? 'block' : 'none';\n",
              "\n",
              "        async function convertToInteractive(key) {\n",
              "          const element = document.querySelector('#df-8bd91e96-186d-4617-ab99-8c04f7b3b09a');\n",
              "          const dataTable =\n",
              "            await google.colab.kernel.invokeFunction('convertToInteractive',\n",
              "                                                     [key], {});\n",
              "          if (!dataTable) return;\n",
              "\n",
              "          const docLinkHtml = 'Like what you see? Visit the ' +\n",
              "            '<a target=\"_blank\" href=https://colab.research.google.com/notebooks/data_table.ipynb>data table notebook</a>'\n",
              "            + ' to learn more about interactive tables.';\n",
              "          element.innerHTML = '';\n",
              "          dataTable['output_type'] = 'display_data';\n",
              "          await google.colab.output.renderOutput(dataTable, element);\n",
              "          const docLink = document.createElement('div');\n",
              "          docLink.innerHTML = docLinkHtml;\n",
              "          element.appendChild(docLink);\n",
              "        }\n",
              "      </script>\n",
              "    </div>\n",
              "  </div>\n",
              "  "
            ]
          },
          "metadata": {},
          "execution_count": 212
        }
      ]
    },
    {
      "cell_type": "markdown",
      "source": [
        "NICO"
      ],
      "metadata": {
        "id": "8niVapuUNV3y"
      }
    },
    {
      "cell_type": "code",
      "source": [
        "df1_nico = df1.copy()"
      ],
      "metadata": {
        "id": "4I51KkN8Nes7"
      },
      "execution_count": 213,
      "outputs": []
    },
    {
      "cell_type": "code",
      "source": [
        "df1_nico = df1_nico.groupby(\"partition_ID\")[\"segment\",\"customer_ID\",\"partition_ID\"].transform(lambda series: series.backfill().ffill())"
      ],
      "metadata": {
        "id": "jPfKhjQINVbQ",
        "outputId": "15e20f4a-56be-4f8e-acd3-aef6a5c672cc",
        "colab": {
          "base_uri": "https://localhost:8080/"
        }
      },
      "execution_count": 214,
      "outputs": [
        {
          "output_type": "stream",
          "name": "stderr",
          "text": [
            "<ipython-input-214-b9164cc619a1>:1: FutureWarning: Indexing with multiple keys (implicitly converted to a tuple of keys) will be deprecated, use a list instead.\n",
            "  df1_nico = df1_nico.groupby(\"partition_ID\")[\"segment\",\"customer_ID\",\"partition_ID\"].transform(lambda series: series.backfill().ffill())\n"
          ]
        }
      ]
    },
    {
      "cell_type": "code",
      "source": [
        "df1_nico[df1_nico[\"customer_ID\"] == 1550864 ]"
      ],
      "metadata": {
        "id": "Ol1p3gN6NzBg",
        "outputId": "ae02a3dc-7729-4f6d-a4e3-3fefa03cde76",
        "colab": {
          "base_uri": "https://localhost:8080/",
          "height": 49
        }
      },
      "execution_count": 215,
      "outputs": [
        {
          "output_type": "execute_result",
          "data": {
            "text/plain": [
              "Empty DataFrame\n",
              "Columns: [segment, customer_ID, partition_ID]\n",
              "Index: []"
            ],
            "text/html": [
              "\n",
              "  <div id=\"df-5bd48044-f005-4a2e-be7c-4af51348f9ee\">\n",
              "    <div class=\"colab-df-container\">\n",
              "      <div>\n",
              "<style scoped>\n",
              "    .dataframe tbody tr th:only-of-type {\n",
              "        vertical-align: middle;\n",
              "    }\n",
              "\n",
              "    .dataframe tbody tr th {\n",
              "        vertical-align: top;\n",
              "    }\n",
              "\n",
              "    .dataframe thead th {\n",
              "        text-align: right;\n",
              "    }\n",
              "</style>\n",
              "<table border=\"1\" class=\"dataframe\">\n",
              "  <thead>\n",
              "    <tr style=\"text-align: right;\">\n",
              "      <th></th>\n",
              "      <th>segment</th>\n",
              "      <th>customer_ID</th>\n",
              "      <th>partition_ID</th>\n",
              "    </tr>\n",
              "  </thead>\n",
              "  <tbody>\n",
              "  </tbody>\n",
              "</table>\n",
              "</div>\n",
              "      <button class=\"colab-df-convert\" onclick=\"convertToInteractive('df-5bd48044-f005-4a2e-be7c-4af51348f9ee')\"\n",
              "              title=\"Convert this dataframe to an interactive table.\"\n",
              "              style=\"display:none;\">\n",
              "        \n",
              "  <svg xmlns=\"http://www.w3.org/2000/svg\" height=\"24px\"viewBox=\"0 0 24 24\"\n",
              "       width=\"24px\">\n",
              "    <path d=\"M0 0h24v24H0V0z\" fill=\"none\"/>\n",
              "    <path d=\"M18.56 5.44l.94 2.06.94-2.06 2.06-.94-2.06-.94-.94-2.06-.94 2.06-2.06.94zm-11 1L8.5 8.5l.94-2.06 2.06-.94-2.06-.94L8.5 2.5l-.94 2.06-2.06.94zm10 10l.94 2.06.94-2.06 2.06-.94-2.06-.94-.94-2.06-.94 2.06-2.06.94z\"/><path d=\"M17.41 7.96l-1.37-1.37c-.4-.4-.92-.59-1.43-.59-.52 0-1.04.2-1.43.59L10.3 9.45l-7.72 7.72c-.78.78-.78 2.05 0 2.83L4 21.41c.39.39.9.59 1.41.59.51 0 1.02-.2 1.41-.59l7.78-7.78 2.81-2.81c.8-.78.8-2.07 0-2.86zM5.41 20L4 18.59l7.72-7.72 1.47 1.35L5.41 20z\"/>\n",
              "  </svg>\n",
              "      </button>\n",
              "      \n",
              "  <style>\n",
              "    .colab-df-container {\n",
              "      display:flex;\n",
              "      flex-wrap:wrap;\n",
              "      gap: 12px;\n",
              "    }\n",
              "\n",
              "    .colab-df-convert {\n",
              "      background-color: #E8F0FE;\n",
              "      border: none;\n",
              "      border-radius: 50%;\n",
              "      cursor: pointer;\n",
              "      display: none;\n",
              "      fill: #1967D2;\n",
              "      height: 32px;\n",
              "      padding: 0 0 0 0;\n",
              "      width: 32px;\n",
              "    }\n",
              "\n",
              "    .colab-df-convert:hover {\n",
              "      background-color: #E2EBFA;\n",
              "      box-shadow: 0px 1px 2px rgba(60, 64, 67, 0.3), 0px 1px 3px 1px rgba(60, 64, 67, 0.15);\n",
              "      fill: #174EA6;\n",
              "    }\n",
              "\n",
              "    [theme=dark] .colab-df-convert {\n",
              "      background-color: #3B4455;\n",
              "      fill: #D2E3FC;\n",
              "    }\n",
              "\n",
              "    [theme=dark] .colab-df-convert:hover {\n",
              "      background-color: #434B5C;\n",
              "      box-shadow: 0px 1px 3px 1px rgba(0, 0, 0, 0.15);\n",
              "      filter: drop-shadow(0px 1px 2px rgba(0, 0, 0, 0.3));\n",
              "      fill: #FFFFFF;\n",
              "    }\n",
              "  </style>\n",
              "\n",
              "      <script>\n",
              "        const buttonEl =\n",
              "          document.querySelector('#df-5bd48044-f005-4a2e-be7c-4af51348f9ee button.colab-df-convert');\n",
              "        buttonEl.style.display =\n",
              "          google.colab.kernel.accessAllowed ? 'block' : 'none';\n",
              "\n",
              "        async function convertToInteractive(key) {\n",
              "          const element = document.querySelector('#df-5bd48044-f005-4a2e-be7c-4af51348f9ee');\n",
              "          const dataTable =\n",
              "            await google.colab.kernel.invokeFunction('convertToInteractive',\n",
              "                                                     [key], {});\n",
              "          if (!dataTable) return;\n",
              "\n",
              "          const docLinkHtml = 'Like what you see? Visit the ' +\n",
              "            '<a target=\"_blank\" href=https://colab.research.google.com/notebooks/data_table.ipynb>data table notebook</a>'\n",
              "            + ' to learn more about interactive tables.';\n",
              "          element.innerHTML = '';\n",
              "          dataTable['output_type'] = 'display_data';\n",
              "          await google.colab.output.renderOutput(dataTable, element);\n",
              "          const docLink = document.createElement('div');\n",
              "          docLink.innerHTML = docLinkHtml;\n",
              "          element.appendChild(docLink);\n",
              "        }\n",
              "      </script>\n",
              "    </div>\n",
              "  </div>\n",
              "  "
            ]
          },
          "metadata": {},
          "execution_count": 215
        }
      ]
    },
    {
      "cell_type": "code",
      "source": [
        "df1_nico[df1_nico[\"customer_ID\"] == 1416109\t ]"
      ],
      "metadata": {
        "id": "l8GHSvz9N2gY",
        "outputId": "2c22b9bc-aa68-44a0-9d75-f54c24b1e863",
        "colab": {
          "base_uri": "https://localhost:8080/",
          "height": 112
        }
      },
      "execution_count": 216,
      "outputs": [
        {
          "output_type": "execute_result",
          "data": {
            "text/plain": [
              "                    segment  customer_ID partition_ID\n",
              "1931605  03 - UNIVERSITARIO      1416109      2018-08\n",
              "3749120  03 - UNIVERSITARIO      1416109      2018-12"
            ],
            "text/html": [
              "\n",
              "  <div id=\"df-9e167542-0510-4a4b-8bfe-6d057b2f6961\">\n",
              "    <div class=\"colab-df-container\">\n",
              "      <div>\n",
              "<style scoped>\n",
              "    .dataframe tbody tr th:only-of-type {\n",
              "        vertical-align: middle;\n",
              "    }\n",
              "\n",
              "    .dataframe tbody tr th {\n",
              "        vertical-align: top;\n",
              "    }\n",
              "\n",
              "    .dataframe thead th {\n",
              "        text-align: right;\n",
              "    }\n",
              "</style>\n",
              "<table border=\"1\" class=\"dataframe\">\n",
              "  <thead>\n",
              "    <tr style=\"text-align: right;\">\n",
              "      <th></th>\n",
              "      <th>segment</th>\n",
              "      <th>customer_ID</th>\n",
              "      <th>partition_ID</th>\n",
              "    </tr>\n",
              "  </thead>\n",
              "  <tbody>\n",
              "    <tr>\n",
              "      <th>1931605</th>\n",
              "      <td>03 - UNIVERSITARIO</td>\n",
              "      <td>1416109</td>\n",
              "      <td>2018-08</td>\n",
              "    </tr>\n",
              "    <tr>\n",
              "      <th>3749120</th>\n",
              "      <td>03 - UNIVERSITARIO</td>\n",
              "      <td>1416109</td>\n",
              "      <td>2018-12</td>\n",
              "    </tr>\n",
              "  </tbody>\n",
              "</table>\n",
              "</div>\n",
              "      <button class=\"colab-df-convert\" onclick=\"convertToInteractive('df-9e167542-0510-4a4b-8bfe-6d057b2f6961')\"\n",
              "              title=\"Convert this dataframe to an interactive table.\"\n",
              "              style=\"display:none;\">\n",
              "        \n",
              "  <svg xmlns=\"http://www.w3.org/2000/svg\" height=\"24px\"viewBox=\"0 0 24 24\"\n",
              "       width=\"24px\">\n",
              "    <path d=\"M0 0h24v24H0V0z\" fill=\"none\"/>\n",
              "    <path d=\"M18.56 5.44l.94 2.06.94-2.06 2.06-.94-2.06-.94-.94-2.06-.94 2.06-2.06.94zm-11 1L8.5 8.5l.94-2.06 2.06-.94-2.06-.94L8.5 2.5l-.94 2.06-2.06.94zm10 10l.94 2.06.94-2.06 2.06-.94-2.06-.94-.94-2.06-.94 2.06-2.06.94z\"/><path d=\"M17.41 7.96l-1.37-1.37c-.4-.4-.92-.59-1.43-.59-.52 0-1.04.2-1.43.59L10.3 9.45l-7.72 7.72c-.78.78-.78 2.05 0 2.83L4 21.41c.39.39.9.59 1.41.59.51 0 1.02-.2 1.41-.59l7.78-7.78 2.81-2.81c.8-.78.8-2.07 0-2.86zM5.41 20L4 18.59l7.72-7.72 1.47 1.35L5.41 20z\"/>\n",
              "  </svg>\n",
              "      </button>\n",
              "      \n",
              "  <style>\n",
              "    .colab-df-container {\n",
              "      display:flex;\n",
              "      flex-wrap:wrap;\n",
              "      gap: 12px;\n",
              "    }\n",
              "\n",
              "    .colab-df-convert {\n",
              "      background-color: #E8F0FE;\n",
              "      border: none;\n",
              "      border-radius: 50%;\n",
              "      cursor: pointer;\n",
              "      display: none;\n",
              "      fill: #1967D2;\n",
              "      height: 32px;\n",
              "      padding: 0 0 0 0;\n",
              "      width: 32px;\n",
              "    }\n",
              "\n",
              "    .colab-df-convert:hover {\n",
              "      background-color: #E2EBFA;\n",
              "      box-shadow: 0px 1px 2px rgba(60, 64, 67, 0.3), 0px 1px 3px 1px rgba(60, 64, 67, 0.15);\n",
              "      fill: #174EA6;\n",
              "    }\n",
              "\n",
              "    [theme=dark] .colab-df-convert {\n",
              "      background-color: #3B4455;\n",
              "      fill: #D2E3FC;\n",
              "    }\n",
              "\n",
              "    [theme=dark] .colab-df-convert:hover {\n",
              "      background-color: #434B5C;\n",
              "      box-shadow: 0px 1px 3px 1px rgba(0, 0, 0, 0.15);\n",
              "      filter: drop-shadow(0px 1px 2px rgba(0, 0, 0, 0.3));\n",
              "      fill: #FFFFFF;\n",
              "    }\n",
              "  </style>\n",
              "\n",
              "      <script>\n",
              "        const buttonEl =\n",
              "          document.querySelector('#df-9e167542-0510-4a4b-8bfe-6d057b2f6961 button.colab-df-convert');\n",
              "        buttonEl.style.display =\n",
              "          google.colab.kernel.accessAllowed ? 'block' : 'none';\n",
              "\n",
              "        async function convertToInteractive(key) {\n",
              "          const element = document.querySelector('#df-9e167542-0510-4a4b-8bfe-6d057b2f6961');\n",
              "          const dataTable =\n",
              "            await google.colab.kernel.invokeFunction('convertToInteractive',\n",
              "                                                     [key], {});\n",
              "          if (!dataTable) return;\n",
              "\n",
              "          const docLinkHtml = 'Like what you see? Visit the ' +\n",
              "            '<a target=\"_blank\" href=https://colab.research.google.com/notebooks/data_table.ipynb>data table notebook</a>'\n",
              "            + ' to learn more about interactive tables.';\n",
              "          element.innerHTML = '';\n",
              "          dataTable['output_type'] = 'display_data';\n",
              "          await google.colab.output.renderOutput(dataTable, element);\n",
              "          const docLink = document.createElement('div');\n",
              "          docLink.innerHTML = docLinkHtml;\n",
              "          element.appendChild(docLink);\n",
              "        }\n",
              "      </script>\n",
              "    </div>\n",
              "  </div>\n",
              "  "
            ]
          },
          "metadata": {},
          "execution_count": 216
        }
      ]
    },
    {
      "cell_type": "markdown",
      "source": [
        "#### Segment (sustituir por valores exisitnetes en otras particiones)"
      ],
      "metadata": {
        "id": "bJ6fFwxJMsDY"
      }
    },
    {
      "cell_type": "code",
      "source": [
        "# Array con los ids que tienen nulos en \"segment\"\n",
        "ids_nullsegment_unique=df1[(df1['segment'].isnull()==True)]['customer_ID'].unique()"
      ],
      "metadata": {
        "id": "cpKCirvUM858"
      },
      "execution_count": 217,
      "outputs": []
    },
    {
      "cell_type": "code",
      "source": [
        "# Dataframe donde revisamos si en la última carga de datos hay un valor para los ids que tienen \"segment\" nulo. \n",
        "valores_nulos_segment=df1[(df1.customer_ID.isin(ids_nullsegment_unique))&(df1['segment'].notnull())&(df1['partition_ID']== \"2019-05\")][['customer_ID','segment']]"
      ],
      "metadata": {
        "id": "GDasiLU4M8pL"
      },
      "execution_count": 218,
      "outputs": []
    },
    {
      "cell_type": "code",
      "source": [
        "# Si el id con \"segment\" nulo tenía un valor correcto en la última partition, se lo asignaremos a los valores nulos.\n",
        "dict_nulos_segment=dict(zip(valores_nulos_segment['customer_ID'],valores_nulos_segment['segment']))"
      ],
      "metadata": {
        "id": "PmjgwCWzM8aA"
      },
      "execution_count": 219,
      "outputs": []
    },
    {
      "cell_type": "markdown",
      "source": [
        "#### Entry_Chanel (sustituir por valores exisitnetes en otras particiones)"
      ],
      "metadata": {
        "id": "RC4baK1LM6C9"
      }
    },
    {
      "cell_type": "code",
      "source": [
        "# Array con los ids que tienen nulos en \"entry_channel\"\n",
        "ids_nullentrychannel_unique=df1[(df1['entry_channel'].isnull()==True)]['customer_ID'].unique()"
      ],
      "metadata": {
        "id": "lR0DbCutMy4K"
      },
      "execution_count": 220,
      "outputs": []
    },
    {
      "cell_type": "code",
      "source": [
        "len(ids_nullentrychannel_unique)"
      ],
      "metadata": {
        "colab": {
          "base_uri": "https://localhost:8080/"
        },
        "id": "uHwRDXdNMyw2",
        "outputId": "98e6543b-199c-4f28-98f3-ed70b66f35e6"
      },
      "execution_count": 221,
      "outputs": [
        {
          "output_type": "execute_result",
          "data": {
            "text/plain": [
              "13364"
            ]
          },
          "metadata": {},
          "execution_count": 221
        }
      ]
    },
    {
      "cell_type": "code",
      "source": [
        "# Dataframe donde revisamos si en la última carga de datos hay un valor para los ids que tienen \"entry_channel\" nulo. \n",
        "valores_nulos_entrychannel=df1[(df1.customer_ID.isin(ids_nullentrychannel_unique))&(df1['entry_channel'].notnull())&(df1['partition_ID']=='2019-05')][['customer_ID','entry_channel']]"
      ],
      "metadata": {
        "id": "tssuVX2aMypt"
      },
      "execution_count": 222,
      "outputs": []
    },
    {
      "cell_type": "code",
      "source": [
        "# Si el id con \"entry_channel\" nulo tenía un valor correcto en la última partition, se lo asignaremos a los valores nulos.\n",
        "dict_nulos_entrychannel=dict(zip(valores_nulos_entrychannel['customer_ID'],valores_nulos_entrychannel['entry_channel']))"
      ],
      "metadata": {
        "id": "j1e3-79YMyij"
      },
      "execution_count": 223,
      "outputs": []
    },
    {
      "cell_type": "code",
      "source": [
        "df1.set_index('customer_ID',inplace = True)"
      ],
      "metadata": {
        "id": "EO1DixH3jRf-"
      },
      "execution_count": 224,
      "outputs": []
    },
    {
      "cell_type": "code",
      "source": [
        "# Imputamos los últimos valores registrados correctamente en \"segment\" y \"entry_channel\"\n",
        "df1['segment'].fillna(dict_nulos_segment,inplace=True)\n",
        "df1['entry_channel'].fillna(dict_nulos_entrychannel,inplace=True)"
      ],
      "metadata": {
        "id": "obdSYxhaMyBj"
      },
      "execution_count": 225,
      "outputs": []
    },
    {
      "cell_type": "code",
      "source": [
        "df1.isnull().sum()"
      ],
      "metadata": {
        "id": "TKVRSqoZwQXq",
        "outputId": "f6948ed4-ef50-4113-9a14-a7e991ddf6e2",
        "colab": {
          "base_uri": "https://localhost:8080/"
        }
      },
      "execution_count": 226,
      "outputs": [
        {
          "output_type": "execute_result",
          "data": {
            "text/plain": [
              "partition_ID              0\n",
              "entry_date                0\n",
              "entry_channel         12162\n",
              "active_customer           0\n",
              "segment               12217\n",
              "region_code               0\n",
              "gender                    0\n",
              "age                       0\n",
              "deceased                  0\n",
              "salary                    0\n",
              "short_term_deposit        0\n",
              "loans                     0\n",
              "mortgage                  0\n",
              "funds                     0\n",
              "securities                0\n",
              "long_term_deposit         0\n",
              "credit_card               0\n",
              "payroll                   0\n",
              "pension_plan              0\n",
              "payroll_account           0\n",
              "emc_account               0\n",
              "debit_card                0\n",
              "em_acount                 0\n",
              "dtype: int64"
            ]
          },
          "metadata": {},
          "execution_count": 226
        }
      ]
    },
    {
      "cell_type": "code",
      "source": [
        "# Imputación de valores extremos a los nulos que no se han podido deducir por el histórico\n",
        "df1['segment'].fillna(value='04 - NO SEGMENT',inplace=True)\n",
        "df1['entry_channel'].fillna(value='ZZZ',inplace=True)"
      ],
      "metadata": {
        "id": "aObPhK35ttNq"
      },
      "execution_count": 227,
      "outputs": []
    },
    {
      "cell_type": "code",
      "source": [
        "df1.isnull().sum()"
      ],
      "metadata": {
        "id": "oVTxHzMEi8Ji",
        "outputId": "fc9a4ddb-933b-443a-c5ab-ccd134edc490",
        "colab": {
          "base_uri": "https://localhost:8080/"
        }
      },
      "execution_count": 228,
      "outputs": [
        {
          "output_type": "execute_result",
          "data": {
            "text/plain": [
              "partition_ID          0\n",
              "entry_date            0\n",
              "entry_channel         0\n",
              "active_customer       0\n",
              "segment               0\n",
              "region_code           0\n",
              "gender                0\n",
              "age                   0\n",
              "deceased              0\n",
              "salary                0\n",
              "short_term_deposit    0\n",
              "loans                 0\n",
              "mortgage              0\n",
              "funds                 0\n",
              "securities            0\n",
              "long_term_deposit     0\n",
              "credit_card           0\n",
              "payroll               0\n",
              "pension_plan          0\n",
              "payroll_account       0\n",
              "emc_account           0\n",
              "debit_card            0\n",
              "em_acount             0\n",
              "dtype: int64"
            ]
          },
          "metadata": {},
          "execution_count": 228
        }
      ]
    },
    {
      "cell_type": "markdown",
      "source": [
        "### Transformación de fechas"
      ],
      "metadata": {
        "id": "w5o21v1d466q"
      }
    },
    {
      "cell_type": "code",
      "source": [
        "# Extraemos año, mes y trimestre de partition ID\n",
        "df1['partition_date'] = pd.to_datetime(df1['partition_ID'])\n",
        "\n",
        "df1['partition_year'] = df1['partition_date'].dt.year\n",
        "df1['partition_month'] = df1['partition_date'].dt.month\n",
        "df1['partition_quarter'] = df1['partition_date'].dt.quarter"
      ],
      "metadata": {
        "id": "BsschjM-3DhW"
      },
      "execution_count": 229,
      "outputs": []
    },
    {
      "cell_type": "code",
      "source": [
        "# Definimos las primary keys como índice\n",
        "df1.reset_index(inplace = True)\n",
        "df1.set_index([\"customer_ID\",\"partition_ID\"],inplace = True)"
      ],
      "metadata": {
        "id": "SaXmbj0GlXcN"
      },
      "execution_count": 230,
      "outputs": []
    },
    {
      "cell_type": "code",
      "source": [
        "# Transformamos \"entry_date\" a fecha y extraemos año, mes y trimestre\n",
        "df1['entry_date']=pd.to_datetime(df1['entry_date'])\n",
        "\n",
        "df1['entry_year'] = df1['entry_date'].dt.year\n",
        "df1['entry_month'] = df1['entry_date'].dt.month\n",
        "df1['entry_quarter'] = df1['entry_date'].dt.quarter"
      ],
      "metadata": {
        "id": "JGrXVg9V9aOM"
      },
      "execution_count": 231,
      "outputs": []
    },
    {
      "cell_type": "markdown",
      "source": [
        "### Tranformación de numéricas"
      ],
      "metadata": {
        "id": "VBhixDiPCOdn"
      }
    },
    {
      "cell_type": "code",
      "source": [
        "# Cambiamos el type de las variables con float a int (active_customer, payroll y pension_plan), excepto salary, que si que es float\n",
        "\n",
        "variables_to_int = ['active_customer', 'payroll', 'pension_plan']\n",
        "\n",
        "df1[variables_to_int] = df1[variables_to_int].applymap(int)"
      ],
      "metadata": {
        "id": "9sErT0oo3j_b"
      },
      "execution_count": 232,
      "outputs": []
    },
    {
      "cell_type": "markdown",
      "source": [
        "### Transformación de categóricas"
      ],
      "metadata": {
        "id": "gIbXGBctBJgx"
      }
    },
    {
      "cell_type": "code",
      "source": [
        "def OHE(dataframe, column_name):\n",
        "    _dummy_dataset = pd.get_dummies(dataframe[column_name], prefix=column_name)\n",
        "    dataframe = pd.concat([dataframe, _dummy_dataset], axis=1)\n",
        "    return dataframe.drop(column_name, axis=1)"
      ],
      "metadata": {
        "id": "1s6rdVT0u8LY"
      },
      "execution_count": 233,
      "outputs": []
    },
    {
      "cell_type": "code",
      "source": [
        "# OHE \"entry_channel\"\n",
        "\n",
        "df1 = OHE(df1, \"entry_channel\")"
      ],
      "metadata": {
        "id": "7GucpqgKBJDL"
      },
      "execution_count": 234,
      "outputs": []
    },
    {
      "cell_type": "code",
      "source": [
        "# OHE segment\n",
        "\n",
        "df1 = OHE(df1, \"segment\")"
      ],
      "metadata": {
        "id": "jnZjd1ILBckE"
      },
      "execution_count": 235,
      "outputs": []
    },
    {
      "cell_type": "code",
      "source": [
        "# OHE segment\n",
        "\n",
        "df1 = OHE(df1, \"region_code\")"
      ],
      "metadata": {
        "id": "hgrZgyoaVezt"
      },
      "execution_count": 236,
      "outputs": []
    },
    {
      "cell_type": "code",
      "source": [
        "# gender --> 1 = Hembras, 0 = Varones, 2 = Nulos\n",
        "\n",
        "df1[\"gender\"] = df1[\"gender\"].replace(\"H\", 1) # H es de Hembras\n",
        "df1[\"gender\"] = df1[\"gender\"].replace(\"V\", 0) # V es de Varones"
      ],
      "metadata": {
        "id": "3C6lMd14Bj_u"
      },
      "execution_count": 237,
      "outputs": []
    },
    {
      "cell_type": "code",
      "source": [
        "# deceased --> 1 = Fallecido, 0 = No fallecido\n",
        "\n",
        "df1[\"deceased\"] = df1[\"deceased\"].replace(\"N\", 0) # H es de Hembras\n",
        "df1[\"deceased\"] = df1[\"deceased\"].replace(\"S\", 1) # H es de Hembras"
      ],
      "metadata": {
        "id": "EX-oMB_-Bj7J"
      },
      "execution_count": 238,
      "outputs": []
    },
    {
      "cell_type": "code",
      "source": [
        "df1.info(verbose=True)"
      ],
      "metadata": {
        "colab": {
          "base_uri": "https://localhost:8080/"
        },
        "id": "g2311aV6Do5p",
        "outputId": "34f4c2d4-2c57-4a52-fad6-847139955c8c"
      },
      "execution_count": 239,
      "outputs": [
        {
          "output_type": "stream",
          "name": "stdout",
          "text": [
            "<class 'pandas.core.frame.DataFrame'>\n",
            "MultiIndex: 596282 entries, (1215289, '2019-03') to (1029154, '2018-09')\n",
            "Data columns (total 142 columns):\n",
            " #    Column                      Dtype         \n",
            "---   ------                      -----         \n",
            " 0    entry_date                  datetime64[ns]\n",
            " 1    active_customer             int64         \n",
            " 2    gender                      int64         \n",
            " 3    age                         int64         \n",
            " 4    deceased                    int64         \n",
            " 5    salary                      float64       \n",
            " 6    short_term_deposit          int64         \n",
            " 7    loans                       int64         \n",
            " 8    mortgage                    int64         \n",
            " 9    funds                       int64         \n",
            " 10   securities                  int64         \n",
            " 11   long_term_deposit           int64         \n",
            " 12   credit_card                 int64         \n",
            " 13   payroll                     int64         \n",
            " 14   pension_plan                int64         \n",
            " 15   payroll_account             int64         \n",
            " 16   emc_account                 int64         \n",
            " 17   debit_card                  int64         \n",
            " 18   em_acount                   int64         \n",
            " 19   partition_date              datetime64[ns]\n",
            " 20   partition_year              int64         \n",
            " 21   partition_month             int64         \n",
            " 22   partition_quarter           int64         \n",
            " 23   entry_year                  int64         \n",
            " 24   entry_month                 int64         \n",
            " 25   entry_quarter               int64         \n",
            " 26   entry_channel_004           uint8         \n",
            " 27   entry_channel_007           uint8         \n",
            " 28   entry_channel_013           uint8         \n",
            " 29   entry_channel_KAA           uint8         \n",
            " 30   entry_channel_KAB           uint8         \n",
            " 31   entry_channel_KAD           uint8         \n",
            " 32   entry_channel_KAE           uint8         \n",
            " 33   entry_channel_KAF           uint8         \n",
            " 34   entry_channel_KAG           uint8         \n",
            " 35   entry_channel_KAH           uint8         \n",
            " 36   entry_channel_KAJ           uint8         \n",
            " 37   entry_channel_KAK           uint8         \n",
            " 38   entry_channel_KAM           uint8         \n",
            " 39   entry_channel_KAQ           uint8         \n",
            " 40   entry_channel_KAR           uint8         \n",
            " 41   entry_channel_KAS           uint8         \n",
            " 42   entry_channel_KAT           uint8         \n",
            " 43   entry_channel_KAW           uint8         \n",
            " 44   entry_channel_KAY           uint8         \n",
            " 45   entry_channel_KAZ           uint8         \n",
            " 46   entry_channel_KBE           uint8         \n",
            " 47   entry_channel_KBG           uint8         \n",
            " 48   entry_channel_KBH           uint8         \n",
            " 49   entry_channel_KBO           uint8         \n",
            " 50   entry_channel_KBU           uint8         \n",
            " 51   entry_channel_KBY           uint8         \n",
            " 52   entry_channel_KBZ           uint8         \n",
            " 53   entry_channel_KCB           uint8         \n",
            " 54   entry_channel_KCC           uint8         \n",
            " 55   entry_channel_KCH           uint8         \n",
            " 56   entry_channel_KCI           uint8         \n",
            " 57   entry_channel_KCL           uint8         \n",
            " 58   entry_channel_KDH           uint8         \n",
            " 59   entry_channel_KDR           uint8         \n",
            " 60   entry_channel_KDT           uint8         \n",
            " 61   entry_channel_KEH           uint8         \n",
            " 62   entry_channel_KES           uint8         \n",
            " 63   entry_channel_KEY           uint8         \n",
            " 64   entry_channel_KFA           uint8         \n",
            " 65   entry_channel_KFC           uint8         \n",
            " 66   entry_channel_KFD           uint8         \n",
            " 67   entry_channel_KFK           uint8         \n",
            " 68   entry_channel_KFP           uint8         \n",
            " 69   entry_channel_KFS           uint8         \n",
            " 70   entry_channel_KGN           uint8         \n",
            " 71   entry_channel_KGX           uint8         \n",
            " 72   entry_channel_KHC           uint8         \n",
            " 73   entry_channel_KHD           uint8         \n",
            " 74   entry_channel_KHE           uint8         \n",
            " 75   entry_channel_KHF           uint8         \n",
            " 76   entry_channel_KHK           uint8         \n",
            " 77   entry_channel_KHL           uint8         \n",
            " 78   entry_channel_KHM           uint8         \n",
            " 79   entry_channel_KHN           uint8         \n",
            " 80   entry_channel_KHO           uint8         \n",
            " 81   entry_channel_KHP           uint8         \n",
            " 82   entry_channel_KHQ           uint8         \n",
            " 83   entry_channel_RED           uint8         \n",
            " 84   entry_channel_ZZZ           uint8         \n",
            " 85   segment_01 - TOP            uint8         \n",
            " 86   segment_02 - PARTICULARES   uint8         \n",
            " 87   segment_03 - UNIVERSITARIO  uint8         \n",
            " 88   segment_04 - NO SEGMENT     uint8         \n",
            " 89   region_code_1.0             uint8         \n",
            " 90   region_code_2.0             uint8         \n",
            " 91   region_code_3.0             uint8         \n",
            " 92   region_code_4.0             uint8         \n",
            " 93   region_code_5.0             uint8         \n",
            " 94   region_code_6.0             uint8         \n",
            " 95   region_code_7.0             uint8         \n",
            " 96   region_code_8.0             uint8         \n",
            " 97   region_code_9.0             uint8         \n",
            " 98   region_code_10.0            uint8         \n",
            " 99   region_code_11.0            uint8         \n",
            " 100  region_code_12.0            uint8         \n",
            " 101  region_code_13.0            uint8         \n",
            " 102  region_code_14.0            uint8         \n",
            " 103  region_code_15.0            uint8         \n",
            " 104  region_code_16.0            uint8         \n",
            " 105  region_code_17.0            uint8         \n",
            " 106  region_code_18.0            uint8         \n",
            " 107  region_code_19.0            uint8         \n",
            " 108  region_code_20.0            uint8         \n",
            " 109  region_code_21.0            uint8         \n",
            " 110  region_code_22.0            uint8         \n",
            " 111  region_code_23.0            uint8         \n",
            " 112  region_code_24.0            uint8         \n",
            " 113  region_code_25.0            uint8         \n",
            " 114  region_code_26.0            uint8         \n",
            " 115  region_code_27.0            uint8         \n",
            " 116  region_code_28.0            uint8         \n",
            " 117  region_code_29.0            uint8         \n",
            " 118  region_code_30.0            uint8         \n",
            " 119  region_code_31.0            uint8         \n",
            " 120  region_code_32.0            uint8         \n",
            " 121  region_code_33.0            uint8         \n",
            " 122  region_code_34.0            uint8         \n",
            " 123  region_code_35.0            uint8         \n",
            " 124  region_code_36.0            uint8         \n",
            " 125  region_code_37.0            uint8         \n",
            " 126  region_code_38.0            uint8         \n",
            " 127  region_code_39.0            uint8         \n",
            " 128  region_code_40.0            uint8         \n",
            " 129  region_code_41.0            uint8         \n",
            " 130  region_code_42.0            uint8         \n",
            " 131  region_code_43.0            uint8         \n",
            " 132  region_code_44.0            uint8         \n",
            " 133  region_code_45.0            uint8         \n",
            " 134  region_code_46.0            uint8         \n",
            " 135  region_code_47.0            uint8         \n",
            " 136  region_code_48.0            uint8         \n",
            " 137  region_code_49.0            uint8         \n",
            " 138  region_code_50.0            uint8         \n",
            " 139  region_code_51.0            uint8         \n",
            " 140  region_code_52.0            uint8         \n",
            " 141  region_code_100.0           uint8         \n",
            "dtypes: datetime64[ns](2), float64(1), int64(23), uint8(116)\n",
            "memory usage: 197.6+ MB\n"
          ]
        }
      ]
    },
    {
      "cell_type": "markdown",
      "source": [
        "## Partición train/test/validation"
      ],
      "metadata": {
        "id": "mWqTQSDnJE2s"
      }
    },
    {
      "cell_type": "code",
      "source": [
        "df = df1.copy()"
      ],
      "metadata": {
        "id": "RXAOYCCpyN_7"
      },
      "execution_count": 240,
      "outputs": []
    },
    {
      "cell_type": "code",
      "source": [
        "df.drop([\"entry_date\", \"partition_date\"],axis = 1,inplace = True)"
      ],
      "metadata": {
        "id": "tkrdvZfcIqbD"
      },
      "execution_count": 241,
      "outputs": []
    },
    {
      "cell_type": "code",
      "source": [
        "df.shape"
      ],
      "metadata": {
        "id": "XcmPWVj3JS53",
        "outputId": "a48eb789-aa29-4c2a-9720-72bdfd88e9b2",
        "colab": {
          "base_uri": "https://localhost:8080/"
        }
      },
      "execution_count": 242,
      "outputs": [
        {
          "output_type": "execute_result",
          "data": {
            "text/plain": [
              "(596282, 140)"
            ]
          },
          "metadata": {},
          "execution_count": 242
        }
      ]
    },
    {
      "cell_type": "code",
      "source": [
        "# La partición de validación tiene que ser lo más parecida a la realidad posible, un % del dataset siempre mayor de 1000 filas. tenemos 596.284 en total, si cogemos 10% son 59.000 filas para validación"
      ],
      "metadata": {
        "id": "zVtVQpA_JB2_"
      },
      "execution_count": 243,
      "outputs": []
    },
    {
      "cell_type": "code",
      "source": [
        "# Calcula los tamaños de cada partición\n",
        "validation_size = int(len(df) * 0.1)\n",
        "development_size = int(len(df) * 0.9)"
      ],
      "metadata": {
        "id": "GXAAD0DfR69v"
      },
      "execution_count": 244,
      "outputs": []
    },
    {
      "cell_type": "code",
      "source": [
        "# Asigna los datos a las particiones\n",
        "val_df = df[:validation_size]\n",
        "dev_df = df[validation_size:]\n"
      ],
      "metadata": {
        "id": "Q8EgyyEuR9ur"
      },
      "execution_count": 245,
      "outputs": []
    },
    {
      "cell_type": "code",
      "source": [
        "val_df_y = val_df[[TARGET]]\n",
        "\n",
        "val_df_X = val_df.drop(TARGET,axis=1)"
      ],
      "metadata": {
        "id": "6O-zGAznR-7h"
      },
      "execution_count": 246,
      "outputs": []
    },
    {
      "cell_type": "code",
      "source": [
        "dev_df_y = dev_df[[TARGET]]\n",
        "\n",
        "dev_df_x = dev_df.drop(TARGET,axis=1)"
      ],
      "metadata": {
        "id": "wDWYjZLgSAAU"
      },
      "execution_count": 247,
      "outputs": []
    },
    {
      "cell_type": "markdown",
      "source": [
        "### Train y Test"
      ],
      "metadata": {
        "id": "6BhPVjRbSCI3"
      }
    },
    {
      "cell_type": "code",
      "source": [
        "#20% del dataset de development para test"
      ],
      "metadata": {
        "id": "363Fix_KSC0t"
      },
      "execution_count": 248,
      "outputs": []
    },
    {
      "cell_type": "code",
      "source": [
        "X_train, X_test, y_train, y_test = model_selection.train_test_split( dev_df_x, dev_df_y, test_size=0.2, random_state=42)"
      ],
      "metadata": {
        "id": "u0Ql0Iu9SC8E"
      },
      "execution_count": 249,
      "outputs": []
    },
    {
      "cell_type": "code",
      "source": [
        "#Comprobar que la distribución de ambas particiones es parecida (media, percentiles y distrribución std). Si no lo es, cambiamos el random state o utilizamos k.fold"
      ],
      "metadata": {
        "id": "D7uD7XwgSC5o"
      },
      "execution_count": 250,
      "outputs": []
    },
    {
      "cell_type": "code",
      "source": [
        "X_train.describe().T.head()"
      ],
      "metadata": {
        "id": "ekqJDIYrSC3b",
        "outputId": "c830bb4e-f7ba-40bb-fd20-80023c1092ed",
        "colab": {
          "base_uri": "https://localhost:8080/",
          "height": 206
        }
      },
      "execution_count": 251,
      "outputs": [
        {
          "output_type": "execute_result",
          "data": {
            "text/plain": [
              "                    count          mean            std  min   25%       50%  \\\n",
              "active_customer  429323.0      0.401190       0.490140  0.0   0.0      0.00   \n",
              "gender           429323.0      0.517307       0.499710  0.0   0.0      1.00   \n",
              "age              429323.0     29.725521      11.945958  2.0  22.0     25.00   \n",
              "deceased         429323.0      0.000214       0.014637  0.0   0.0      0.00   \n",
              "salary           429323.0  85800.673132  188125.441243  0.0   0.0  69107.28   \n",
              "\n",
              "                       75%          max  \n",
              "active_customer       1.00         1.00  \n",
              "gender                1.00         2.00  \n",
              "age                  34.00       104.00  \n",
              "deceased              0.00         1.00  \n",
              "salary           112716.03  28894395.51  "
            ],
            "text/html": [
              "\n",
              "  <div id=\"df-a77338e7-07cf-4e16-9a3d-f781d18f6769\">\n",
              "    <div class=\"colab-df-container\">\n",
              "      <div>\n",
              "<style scoped>\n",
              "    .dataframe tbody tr th:only-of-type {\n",
              "        vertical-align: middle;\n",
              "    }\n",
              "\n",
              "    .dataframe tbody tr th {\n",
              "        vertical-align: top;\n",
              "    }\n",
              "\n",
              "    .dataframe thead th {\n",
              "        text-align: right;\n",
              "    }\n",
              "</style>\n",
              "<table border=\"1\" class=\"dataframe\">\n",
              "  <thead>\n",
              "    <tr style=\"text-align: right;\">\n",
              "      <th></th>\n",
              "      <th>count</th>\n",
              "      <th>mean</th>\n",
              "      <th>std</th>\n",
              "      <th>min</th>\n",
              "      <th>25%</th>\n",
              "      <th>50%</th>\n",
              "      <th>75%</th>\n",
              "      <th>max</th>\n",
              "    </tr>\n",
              "  </thead>\n",
              "  <tbody>\n",
              "    <tr>\n",
              "      <th>active_customer</th>\n",
              "      <td>429323.0</td>\n",
              "      <td>0.401190</td>\n",
              "      <td>0.490140</td>\n",
              "      <td>0.0</td>\n",
              "      <td>0.0</td>\n",
              "      <td>0.00</td>\n",
              "      <td>1.00</td>\n",
              "      <td>1.00</td>\n",
              "    </tr>\n",
              "    <tr>\n",
              "      <th>gender</th>\n",
              "      <td>429323.0</td>\n",
              "      <td>0.517307</td>\n",
              "      <td>0.499710</td>\n",
              "      <td>0.0</td>\n",
              "      <td>0.0</td>\n",
              "      <td>1.00</td>\n",
              "      <td>1.00</td>\n",
              "      <td>2.00</td>\n",
              "    </tr>\n",
              "    <tr>\n",
              "      <th>age</th>\n",
              "      <td>429323.0</td>\n",
              "      <td>29.725521</td>\n",
              "      <td>11.945958</td>\n",
              "      <td>2.0</td>\n",
              "      <td>22.0</td>\n",
              "      <td>25.00</td>\n",
              "      <td>34.00</td>\n",
              "      <td>104.00</td>\n",
              "    </tr>\n",
              "    <tr>\n",
              "      <th>deceased</th>\n",
              "      <td>429323.0</td>\n",
              "      <td>0.000214</td>\n",
              "      <td>0.014637</td>\n",
              "      <td>0.0</td>\n",
              "      <td>0.0</td>\n",
              "      <td>0.00</td>\n",
              "      <td>0.00</td>\n",
              "      <td>1.00</td>\n",
              "    </tr>\n",
              "    <tr>\n",
              "      <th>salary</th>\n",
              "      <td>429323.0</td>\n",
              "      <td>85800.673132</td>\n",
              "      <td>188125.441243</td>\n",
              "      <td>0.0</td>\n",
              "      <td>0.0</td>\n",
              "      <td>69107.28</td>\n",
              "      <td>112716.03</td>\n",
              "      <td>28894395.51</td>\n",
              "    </tr>\n",
              "  </tbody>\n",
              "</table>\n",
              "</div>\n",
              "      <button class=\"colab-df-convert\" onclick=\"convertToInteractive('df-a77338e7-07cf-4e16-9a3d-f781d18f6769')\"\n",
              "              title=\"Convert this dataframe to an interactive table.\"\n",
              "              style=\"display:none;\">\n",
              "        \n",
              "  <svg xmlns=\"http://www.w3.org/2000/svg\" height=\"24px\"viewBox=\"0 0 24 24\"\n",
              "       width=\"24px\">\n",
              "    <path d=\"M0 0h24v24H0V0z\" fill=\"none\"/>\n",
              "    <path d=\"M18.56 5.44l.94 2.06.94-2.06 2.06-.94-2.06-.94-.94-2.06-.94 2.06-2.06.94zm-11 1L8.5 8.5l.94-2.06 2.06-.94-2.06-.94L8.5 2.5l-.94 2.06-2.06.94zm10 10l.94 2.06.94-2.06 2.06-.94-2.06-.94-.94-2.06-.94 2.06-2.06.94z\"/><path d=\"M17.41 7.96l-1.37-1.37c-.4-.4-.92-.59-1.43-.59-.52 0-1.04.2-1.43.59L10.3 9.45l-7.72 7.72c-.78.78-.78 2.05 0 2.83L4 21.41c.39.39.9.59 1.41.59.51 0 1.02-.2 1.41-.59l7.78-7.78 2.81-2.81c.8-.78.8-2.07 0-2.86zM5.41 20L4 18.59l7.72-7.72 1.47 1.35L5.41 20z\"/>\n",
              "  </svg>\n",
              "      </button>\n",
              "      \n",
              "  <style>\n",
              "    .colab-df-container {\n",
              "      display:flex;\n",
              "      flex-wrap:wrap;\n",
              "      gap: 12px;\n",
              "    }\n",
              "\n",
              "    .colab-df-convert {\n",
              "      background-color: #E8F0FE;\n",
              "      border: none;\n",
              "      border-radius: 50%;\n",
              "      cursor: pointer;\n",
              "      display: none;\n",
              "      fill: #1967D2;\n",
              "      height: 32px;\n",
              "      padding: 0 0 0 0;\n",
              "      width: 32px;\n",
              "    }\n",
              "\n",
              "    .colab-df-convert:hover {\n",
              "      background-color: #E2EBFA;\n",
              "      box-shadow: 0px 1px 2px rgba(60, 64, 67, 0.3), 0px 1px 3px 1px rgba(60, 64, 67, 0.15);\n",
              "      fill: #174EA6;\n",
              "    }\n",
              "\n",
              "    [theme=dark] .colab-df-convert {\n",
              "      background-color: #3B4455;\n",
              "      fill: #D2E3FC;\n",
              "    }\n",
              "\n",
              "    [theme=dark] .colab-df-convert:hover {\n",
              "      background-color: #434B5C;\n",
              "      box-shadow: 0px 1px 3px 1px rgba(0, 0, 0, 0.15);\n",
              "      filter: drop-shadow(0px 1px 2px rgba(0, 0, 0, 0.3));\n",
              "      fill: #FFFFFF;\n",
              "    }\n",
              "  </style>\n",
              "\n",
              "      <script>\n",
              "        const buttonEl =\n",
              "          document.querySelector('#df-a77338e7-07cf-4e16-9a3d-f781d18f6769 button.colab-df-convert');\n",
              "        buttonEl.style.display =\n",
              "          google.colab.kernel.accessAllowed ? 'block' : 'none';\n",
              "\n",
              "        async function convertToInteractive(key) {\n",
              "          const element = document.querySelector('#df-a77338e7-07cf-4e16-9a3d-f781d18f6769');\n",
              "          const dataTable =\n",
              "            await google.colab.kernel.invokeFunction('convertToInteractive',\n",
              "                                                     [key], {});\n",
              "          if (!dataTable) return;\n",
              "\n",
              "          const docLinkHtml = 'Like what you see? Visit the ' +\n",
              "            '<a target=\"_blank\" href=https://colab.research.google.com/notebooks/data_table.ipynb>data table notebook</a>'\n",
              "            + ' to learn more about interactive tables.';\n",
              "          element.innerHTML = '';\n",
              "          dataTable['output_type'] = 'display_data';\n",
              "          await google.colab.output.renderOutput(dataTable, element);\n",
              "          const docLink = document.createElement('div');\n",
              "          docLink.innerHTML = docLinkHtml;\n",
              "          element.appendChild(docLink);\n",
              "        }\n",
              "      </script>\n",
              "    </div>\n",
              "  </div>\n",
              "  "
            ]
          },
          "metadata": {},
          "execution_count": 251
        }
      ]
    },
    {
      "cell_type": "code",
      "source": [
        "X_test.describe().T.head()"
      ],
      "metadata": {
        "id": "9yO7fS_xSHvw",
        "outputId": "e0b35107-4d1e-4968-fa0f-989d729bdffb",
        "colab": {
          "base_uri": "https://localhost:8080/",
          "height": 206
        }
      },
      "execution_count": 252,
      "outputs": [
        {
          "output_type": "execute_result",
          "data": {
            "text/plain": [
              "                    count          mean            std  min   25%       50%  \\\n",
              "active_customer  107331.0      0.402167       0.490338  0.0   0.0      0.00   \n",
              "gender           107331.0      0.517101       0.499710  0.0   0.0      1.00   \n",
              "age              107331.0     29.758364      11.961947  2.0  22.0     25.00   \n",
              "deceased         107331.0      0.000140       0.011821  0.0   0.0      0.00   \n",
              "salary           107331.0  86354.432463  184257.919121  0.0   0.0  69127.98   \n",
              "\n",
              "                       75%          max  \n",
              "active_customer       1.00         1.00  \n",
              "gender                1.00         1.00  \n",
              "age                  34.00       104.00  \n",
              "deceased              0.00         1.00  \n",
              "salary           113017.08  28894395.51  "
            ],
            "text/html": [
              "\n",
              "  <div id=\"df-8a5cfdcb-ef49-4848-a210-a07d8468f038\">\n",
              "    <div class=\"colab-df-container\">\n",
              "      <div>\n",
              "<style scoped>\n",
              "    .dataframe tbody tr th:only-of-type {\n",
              "        vertical-align: middle;\n",
              "    }\n",
              "\n",
              "    .dataframe tbody tr th {\n",
              "        vertical-align: top;\n",
              "    }\n",
              "\n",
              "    .dataframe thead th {\n",
              "        text-align: right;\n",
              "    }\n",
              "</style>\n",
              "<table border=\"1\" class=\"dataframe\">\n",
              "  <thead>\n",
              "    <tr style=\"text-align: right;\">\n",
              "      <th></th>\n",
              "      <th>count</th>\n",
              "      <th>mean</th>\n",
              "      <th>std</th>\n",
              "      <th>min</th>\n",
              "      <th>25%</th>\n",
              "      <th>50%</th>\n",
              "      <th>75%</th>\n",
              "      <th>max</th>\n",
              "    </tr>\n",
              "  </thead>\n",
              "  <tbody>\n",
              "    <tr>\n",
              "      <th>active_customer</th>\n",
              "      <td>107331.0</td>\n",
              "      <td>0.402167</td>\n",
              "      <td>0.490338</td>\n",
              "      <td>0.0</td>\n",
              "      <td>0.0</td>\n",
              "      <td>0.00</td>\n",
              "      <td>1.00</td>\n",
              "      <td>1.00</td>\n",
              "    </tr>\n",
              "    <tr>\n",
              "      <th>gender</th>\n",
              "      <td>107331.0</td>\n",
              "      <td>0.517101</td>\n",
              "      <td>0.499710</td>\n",
              "      <td>0.0</td>\n",
              "      <td>0.0</td>\n",
              "      <td>1.00</td>\n",
              "      <td>1.00</td>\n",
              "      <td>1.00</td>\n",
              "    </tr>\n",
              "    <tr>\n",
              "      <th>age</th>\n",
              "      <td>107331.0</td>\n",
              "      <td>29.758364</td>\n",
              "      <td>11.961947</td>\n",
              "      <td>2.0</td>\n",
              "      <td>22.0</td>\n",
              "      <td>25.00</td>\n",
              "      <td>34.00</td>\n",
              "      <td>104.00</td>\n",
              "    </tr>\n",
              "    <tr>\n",
              "      <th>deceased</th>\n",
              "      <td>107331.0</td>\n",
              "      <td>0.000140</td>\n",
              "      <td>0.011821</td>\n",
              "      <td>0.0</td>\n",
              "      <td>0.0</td>\n",
              "      <td>0.00</td>\n",
              "      <td>0.00</td>\n",
              "      <td>1.00</td>\n",
              "    </tr>\n",
              "    <tr>\n",
              "      <th>salary</th>\n",
              "      <td>107331.0</td>\n",
              "      <td>86354.432463</td>\n",
              "      <td>184257.919121</td>\n",
              "      <td>0.0</td>\n",
              "      <td>0.0</td>\n",
              "      <td>69127.98</td>\n",
              "      <td>113017.08</td>\n",
              "      <td>28894395.51</td>\n",
              "    </tr>\n",
              "  </tbody>\n",
              "</table>\n",
              "</div>\n",
              "      <button class=\"colab-df-convert\" onclick=\"convertToInteractive('df-8a5cfdcb-ef49-4848-a210-a07d8468f038')\"\n",
              "              title=\"Convert this dataframe to an interactive table.\"\n",
              "              style=\"display:none;\">\n",
              "        \n",
              "  <svg xmlns=\"http://www.w3.org/2000/svg\" height=\"24px\"viewBox=\"0 0 24 24\"\n",
              "       width=\"24px\">\n",
              "    <path d=\"M0 0h24v24H0V0z\" fill=\"none\"/>\n",
              "    <path d=\"M18.56 5.44l.94 2.06.94-2.06 2.06-.94-2.06-.94-.94-2.06-.94 2.06-2.06.94zm-11 1L8.5 8.5l.94-2.06 2.06-.94-2.06-.94L8.5 2.5l-.94 2.06-2.06.94zm10 10l.94 2.06.94-2.06 2.06-.94-2.06-.94-.94-2.06-.94 2.06-2.06.94z\"/><path d=\"M17.41 7.96l-1.37-1.37c-.4-.4-.92-.59-1.43-.59-.52 0-1.04.2-1.43.59L10.3 9.45l-7.72 7.72c-.78.78-.78 2.05 0 2.83L4 21.41c.39.39.9.59 1.41.59.51 0 1.02-.2 1.41-.59l7.78-7.78 2.81-2.81c.8-.78.8-2.07 0-2.86zM5.41 20L4 18.59l7.72-7.72 1.47 1.35L5.41 20z\"/>\n",
              "  </svg>\n",
              "      </button>\n",
              "      \n",
              "  <style>\n",
              "    .colab-df-container {\n",
              "      display:flex;\n",
              "      flex-wrap:wrap;\n",
              "      gap: 12px;\n",
              "    }\n",
              "\n",
              "    .colab-df-convert {\n",
              "      background-color: #E8F0FE;\n",
              "      border: none;\n",
              "      border-radius: 50%;\n",
              "      cursor: pointer;\n",
              "      display: none;\n",
              "      fill: #1967D2;\n",
              "      height: 32px;\n",
              "      padding: 0 0 0 0;\n",
              "      width: 32px;\n",
              "    }\n",
              "\n",
              "    .colab-df-convert:hover {\n",
              "      background-color: #E2EBFA;\n",
              "      box-shadow: 0px 1px 2px rgba(60, 64, 67, 0.3), 0px 1px 3px 1px rgba(60, 64, 67, 0.15);\n",
              "      fill: #174EA6;\n",
              "    }\n",
              "\n",
              "    [theme=dark] .colab-df-convert {\n",
              "      background-color: #3B4455;\n",
              "      fill: #D2E3FC;\n",
              "    }\n",
              "\n",
              "    [theme=dark] .colab-df-convert:hover {\n",
              "      background-color: #434B5C;\n",
              "      box-shadow: 0px 1px 3px 1px rgba(0, 0, 0, 0.15);\n",
              "      filter: drop-shadow(0px 1px 2px rgba(0, 0, 0, 0.3));\n",
              "      fill: #FFFFFF;\n",
              "    }\n",
              "  </style>\n",
              "\n",
              "      <script>\n",
              "        const buttonEl =\n",
              "          document.querySelector('#df-8a5cfdcb-ef49-4848-a210-a07d8468f038 button.colab-df-convert');\n",
              "        buttonEl.style.display =\n",
              "          google.colab.kernel.accessAllowed ? 'block' : 'none';\n",
              "\n",
              "        async function convertToInteractive(key) {\n",
              "          const element = document.querySelector('#df-8a5cfdcb-ef49-4848-a210-a07d8468f038');\n",
              "          const dataTable =\n",
              "            await google.colab.kernel.invokeFunction('convertToInteractive',\n",
              "                                                     [key], {});\n",
              "          if (!dataTable) return;\n",
              "\n",
              "          const docLinkHtml = 'Like what you see? Visit the ' +\n",
              "            '<a target=\"_blank\" href=https://colab.research.google.com/notebooks/data_table.ipynb>data table notebook</a>'\n",
              "            + ' to learn more about interactive tables.';\n",
              "          element.innerHTML = '';\n",
              "          dataTable['output_type'] = 'display_data';\n",
              "          await google.colab.output.renderOutput(dataTable, element);\n",
              "          const docLink = document.createElement('div');\n",
              "          docLink.innerHTML = docLinkHtml;\n",
              "          element.appendChild(docLink);\n",
              "        }\n",
              "      </script>\n",
              "    </div>\n",
              "  </div>\n",
              "  "
            ]
          },
          "metadata": {},
          "execution_count": 252
        }
      ]
    },
    {
      "cell_type": "markdown",
      "source": [
        "# 4.- Modelling"
      ],
      "metadata": {
        "id": "U9R2nPqLSV0B"
      }
    },
    {
      "cell_type": "markdown",
      "source": [
        "## Decission Tree"
      ],
      "metadata": {
        "id": "ZrdWNz0jSUHU"
      }
    },
    {
      "cell_type": "code",
      "source": [
        "#Instanciamos el modelo\n",
        "dt=DecisionTreeClassifier(max_depth=6,random_state=42, min_samples_leaf=500)"
      ],
      "metadata": {
        "id": "wGq7X0JdSat7"
      },
      "execution_count": 258,
      "outputs": []
    },
    {
      "cell_type": "code",
      "source": [
        "#lo entrenamos con el dataset de train\n",
        "dt.fit(X=X_train,y=y_train)"
      ],
      "metadata": {
        "id": "w-Z_D8FYSaqc",
        "outputId": "b88780cd-44fd-4228-e17e-081364021019",
        "colab": {
          "base_uri": "https://localhost:8080/",
          "height": 75
        }
      },
      "execution_count": 259,
      "outputs": [
        {
          "output_type": "execute_result",
          "data": {
            "text/plain": [
              "DecisionTreeClassifier(max_depth=6, min_samples_leaf=500, random_state=42)"
            ],
            "text/html": [
              "<style>#sk-container-id-2 {color: black;background-color: white;}#sk-container-id-2 pre{padding: 0;}#sk-container-id-2 div.sk-toggleable {background-color: white;}#sk-container-id-2 label.sk-toggleable__label {cursor: pointer;display: block;width: 100%;margin-bottom: 0;padding: 0.3em;box-sizing: border-box;text-align: center;}#sk-container-id-2 label.sk-toggleable__label-arrow:before {content: \"▸\";float: left;margin-right: 0.25em;color: #696969;}#sk-container-id-2 label.sk-toggleable__label-arrow:hover:before {color: black;}#sk-container-id-2 div.sk-estimator:hover label.sk-toggleable__label-arrow:before {color: black;}#sk-container-id-2 div.sk-toggleable__content {max-height: 0;max-width: 0;overflow: hidden;text-align: left;background-color: #f0f8ff;}#sk-container-id-2 div.sk-toggleable__content pre {margin: 0.2em;color: black;border-radius: 0.25em;background-color: #f0f8ff;}#sk-container-id-2 input.sk-toggleable__control:checked~div.sk-toggleable__content {max-height: 200px;max-width: 100%;overflow: auto;}#sk-container-id-2 input.sk-toggleable__control:checked~label.sk-toggleable__label-arrow:before {content: \"▾\";}#sk-container-id-2 div.sk-estimator input.sk-toggleable__control:checked~label.sk-toggleable__label {background-color: #d4ebff;}#sk-container-id-2 div.sk-label input.sk-toggleable__control:checked~label.sk-toggleable__label {background-color: #d4ebff;}#sk-container-id-2 input.sk-hidden--visually {border: 0;clip: rect(1px 1px 1px 1px);clip: rect(1px, 1px, 1px, 1px);height: 1px;margin: -1px;overflow: hidden;padding: 0;position: absolute;width: 1px;}#sk-container-id-2 div.sk-estimator {font-family: monospace;background-color: #f0f8ff;border: 1px dotted black;border-radius: 0.25em;box-sizing: border-box;margin-bottom: 0.5em;}#sk-container-id-2 div.sk-estimator:hover {background-color: #d4ebff;}#sk-container-id-2 div.sk-parallel-item::after {content: \"\";width: 100%;border-bottom: 1px solid gray;flex-grow: 1;}#sk-container-id-2 div.sk-label:hover label.sk-toggleable__label {background-color: #d4ebff;}#sk-container-id-2 div.sk-serial::before {content: \"\";position: absolute;border-left: 1px solid gray;box-sizing: border-box;top: 0;bottom: 0;left: 50%;z-index: 0;}#sk-container-id-2 div.sk-serial {display: flex;flex-direction: column;align-items: center;background-color: white;padding-right: 0.2em;padding-left: 0.2em;position: relative;}#sk-container-id-2 div.sk-item {position: relative;z-index: 1;}#sk-container-id-2 div.sk-parallel {display: flex;align-items: stretch;justify-content: center;background-color: white;position: relative;}#sk-container-id-2 div.sk-item::before, #sk-container-id-2 div.sk-parallel-item::before {content: \"\";position: absolute;border-left: 1px solid gray;box-sizing: border-box;top: 0;bottom: 0;left: 50%;z-index: -1;}#sk-container-id-2 div.sk-parallel-item {display: flex;flex-direction: column;z-index: 1;position: relative;background-color: white;}#sk-container-id-2 div.sk-parallel-item:first-child::after {align-self: flex-end;width: 50%;}#sk-container-id-2 div.sk-parallel-item:last-child::after {align-self: flex-start;width: 50%;}#sk-container-id-2 div.sk-parallel-item:only-child::after {width: 0;}#sk-container-id-2 div.sk-dashed-wrapped {border: 1px dashed gray;margin: 0 0.4em 0.5em 0.4em;box-sizing: border-box;padding-bottom: 0.4em;background-color: white;}#sk-container-id-2 div.sk-label label {font-family: monospace;font-weight: bold;display: inline-block;line-height: 1.2em;}#sk-container-id-2 div.sk-label-container {text-align: center;}#sk-container-id-2 div.sk-container {/* jupyter's `normalize.less` sets `[hidden] { display: none; }` but bootstrap.min.css set `[hidden] { display: none !important; }` so we also need the `!important` here to be able to override the default hidden behavior on the sphinx rendered scikit-learn.org. See: https://github.com/scikit-learn/scikit-learn/issues/21755 */display: inline-block !important;position: relative;}#sk-container-id-2 div.sk-text-repr-fallback {display: none;}</style><div id=\"sk-container-id-2\" class=\"sk-top-container\"><div class=\"sk-text-repr-fallback\"><pre>DecisionTreeClassifier(max_depth=6, min_samples_leaf=500, random_state=42)</pre><b>In a Jupyter environment, please rerun this cell to show the HTML representation or trust the notebook. <br />On GitHub, the HTML representation is unable to render, please try loading this page with nbviewer.org.</b></div><div class=\"sk-container\" hidden><div class=\"sk-item\"><div class=\"sk-estimator sk-toggleable\"><input class=\"sk-toggleable__control sk-hidden--visually\" id=\"sk-estimator-id-2\" type=\"checkbox\" checked><label for=\"sk-estimator-id-2\" class=\"sk-toggleable__label sk-toggleable__label-arrow\">DecisionTreeClassifier</label><div class=\"sk-toggleable__content\"><pre>DecisionTreeClassifier(max_depth=6, min_samples_leaf=500, random_state=42)</pre></div></div></div></div></div>"
            ]
          },
          "metadata": {},
          "execution_count": 259
        }
      ]
    },
    {
      "cell_type": "code",
      "source": [
        "#lo pintamos\n",
        "tree_data=export_graphviz(\n",
        "    decision_tree=dt,\n",
        "    out_file=None, \n",
        "    max_depth=None,\n",
        "    feature_names=X_test.columns,\n",
        "    class_names=['no_pension_plan','pension_plan'],\n",
        "    label=\"all\",\n",
        "    filled=True,\n",
        "    leaves_parallel=False,\n",
        "    impurity=True,\n",
        "    node_ids=False,\n",
        "    proportion=False,\n",
        "    rotate=True,\n",
        "    rounded=True,\n",
        "    special_characters=False,\n",
        "    precision=3,\n",
        "    fontname=\"helvetica\",\n",
        ")"
      ],
      "metadata": {
        "id": "lGjkq0wmSanr"
      },
      "execution_count": 268,
      "outputs": []
    },
    {
      "cell_type": "code",
      "source": [
        "graphviz.Source(tree_data)"
      ],
      "metadata": {
        "id": "19Qwdlf7Salg",
        "outputId": "7f5c18af-ed5f-46bf-f8c7-623612a568f4",
        "colab": {
          "base_uri": "https://localhost:8080/",
          "height": 1000
        }
      },
      "execution_count": 267,
      "outputs": [
        {
          "output_type": "execute_result",
          "data": {
            "image/svg+xml": "<?xml version=\"1.0\" encoding=\"UTF-8\" standalone=\"no\"?>\n<!DOCTYPE svg PUBLIC \"-//W3C//DTD SVG 1.1//EN\"\n \"http://www.w3.org/Graphics/SVG/1.1/DTD/svg11.dtd\">\n<!-- Generated by graphviz version 2.43.0 (0)\n -->\n<!-- Title: Tree Pages: 1 -->\n<svg width=\"1434pt\" height=\"1229pt\"\n viewBox=\"0.00 0.00 1434.00 1229.00\" xmlns=\"http://www.w3.org/2000/svg\" xmlns:xlink=\"http://www.w3.org/1999/xlink\">\n<g id=\"graph0\" class=\"graph\" transform=\"scale(1 1) rotate(0) translate(4 1225)\">\n<title>Tree</title>\n<polygon fill=\"white\" stroke=\"transparent\" points=\"-4,4 -4,-1225 1430,-1225 1430,4 -4,4\"/>\n<!-- 0 -->\n<g id=\"node1\" class=\"node\">\n<title>0</title>\n<path fill=\"#e68640\" stroke=\"black\" d=\"M159,-297.5C159,-297.5 12,-297.5 12,-297.5 6,-297.5 0,-291.5 0,-285.5 0,-285.5 0,-226.5 0,-226.5 0,-220.5 6,-214.5 12,-214.5 12,-214.5 159,-214.5 159,-214.5 165,-214.5 171,-220.5 171,-226.5 171,-226.5 171,-285.5 171,-285.5 171,-291.5 165,-297.5 159,-297.5\"/>\n<text text-anchor=\"middle\" x=\"85.5\" y=\"-282.3\" font-family=\"Helvetica,sans-Serif\" font-size=\"14.00\">payroll &lt;= 0.5</text>\n<text text-anchor=\"middle\" x=\"85.5\" y=\"-267.3\" font-family=\"Helvetica,sans-Serif\" font-size=\"14.00\">gini = 0.07</text>\n<text text-anchor=\"middle\" x=\"85.5\" y=\"-252.3\" font-family=\"Helvetica,sans-Serif\" font-size=\"14.00\">samples = 429323</text>\n<text text-anchor=\"middle\" x=\"85.5\" y=\"-237.3\" font-family=\"Helvetica,sans-Serif\" font-size=\"14.00\">value = [413777, 15546]</text>\n<text text-anchor=\"middle\" x=\"85.5\" y=\"-222.3\" font-family=\"Helvetica,sans-Serif\" font-size=\"14.00\">class = No_Pension_Plan</text>\n</g>\n<!-- 1 -->\n<g id=\"node2\" class=\"node\">\n<title>1</title>\n<path fill=\"#e58139\" stroke=\"black\" d=\"M366,-344.5C366,-344.5 219,-344.5 219,-344.5 213,-344.5 207,-338.5 207,-332.5 207,-332.5 207,-273.5 207,-273.5 207,-267.5 213,-261.5 219,-261.5 219,-261.5 366,-261.5 366,-261.5 372,-261.5 378,-267.5 378,-273.5 378,-273.5 378,-332.5 378,-332.5 378,-338.5 372,-344.5 366,-344.5\"/>\n<text text-anchor=\"middle\" x=\"292.5\" y=\"-329.3\" font-family=\"Helvetica,sans-Serif\" font-size=\"14.00\">payroll_account &lt;= 0.5</text>\n<text text-anchor=\"middle\" x=\"292.5\" y=\"-314.3\" font-family=\"Helvetica,sans-Serif\" font-size=\"14.00\">gini = 0.004</text>\n<text text-anchor=\"middle\" x=\"292.5\" y=\"-299.3\" font-family=\"Helvetica,sans-Serif\" font-size=\"14.00\">samples = 414625</text>\n<text text-anchor=\"middle\" x=\"292.5\" y=\"-284.3\" font-family=\"Helvetica,sans-Serif\" font-size=\"14.00\">value = [413777, 848]</text>\n<text text-anchor=\"middle\" x=\"292.5\" y=\"-269.3\" font-family=\"Helvetica,sans-Serif\" font-size=\"14.00\">class = No_Pension_Plan</text>\n</g>\n<!-- 0&#45;&gt;1 -->\n<g id=\"edge1\" class=\"edge\">\n<title>0&#45;&gt;1</title>\n<path fill=\"none\" stroke=\"black\" d=\"M171.06,-275.39C179.55,-277.33 188.2,-279.32 196.78,-281.28\"/>\n<polygon fill=\"black\" stroke=\"black\" points=\"196.27,-284.76 206.8,-283.58 197.83,-277.93 196.27,-284.76\"/>\n<text text-anchor=\"middle\" x=\"185.62\" y=\"-293.16\" font-family=\"Helvetica,sans-Serif\" font-size=\"14.00\">True</text>\n</g>\n<!-- 38 -->\n<g id=\"node39\" class=\"node\">\n<title>38</title>\n<path fill=\"#399de5\" stroke=\"black\" d=\"M353.5,-243C353.5,-243 231.5,-243 231.5,-243 225.5,-243 219.5,-237 219.5,-231 219.5,-231 219.5,-187 219.5,-187 219.5,-181 225.5,-175 231.5,-175 231.5,-175 353.5,-175 353.5,-175 359.5,-175 365.5,-181 365.5,-187 365.5,-187 365.5,-231 365.5,-231 365.5,-237 359.5,-243 353.5,-243\"/>\n<text text-anchor=\"middle\" x=\"292.5\" y=\"-227.8\" font-family=\"Helvetica,sans-Serif\" font-size=\"14.00\">gini = 0.0</text>\n<text text-anchor=\"middle\" x=\"292.5\" y=\"-212.8\" font-family=\"Helvetica,sans-Serif\" font-size=\"14.00\">samples = 14698</text>\n<text text-anchor=\"middle\" x=\"292.5\" y=\"-197.8\" font-family=\"Helvetica,sans-Serif\" font-size=\"14.00\">value = [0, 14698]</text>\n<text text-anchor=\"middle\" x=\"292.5\" y=\"-182.8\" font-family=\"Helvetica,sans-Serif\" font-size=\"14.00\">class = Pension_Plan</text>\n</g>\n<!-- 0&#45;&gt;38 -->\n<g id=\"edge38\" class=\"edge\">\n<title>0&#45;&gt;38</title>\n<path fill=\"none\" stroke=\"black\" d=\"M171.06,-236.61C183.68,-233.72 196.68,-230.74 209.25,-227.86\"/>\n<polygon fill=\"black\" stroke=\"black\" points=\"210.26,-231.22 219.22,-225.57 208.69,-224.39 210.26,-231.22\"/>\n<text text-anchor=\"middle\" x=\"198.04\" y=\"-208.59\" font-family=\"Helvetica,sans-Serif\" font-size=\"14.00\">False</text>\n</g>\n<!-- 2 -->\n<g id=\"node3\" class=\"node\">\n<title>2</title>\n<path fill=\"#e58139\" stroke=\"black\" d=\"M573,-484.5C573,-484.5 426,-484.5 426,-484.5 420,-484.5 414,-478.5 414,-472.5 414,-472.5 414,-413.5 414,-413.5 414,-407.5 420,-401.5 426,-401.5 426,-401.5 573,-401.5 573,-401.5 579,-401.5 585,-407.5 585,-413.5 585,-413.5 585,-472.5 585,-472.5 585,-478.5 579,-484.5 573,-484.5\"/>\n<text text-anchor=\"middle\" x=\"499.5\" y=\"-469.3\" font-family=\"Helvetica,sans-Serif\" font-size=\"14.00\">age &lt;= 60.5</text>\n<text text-anchor=\"middle\" x=\"499.5\" y=\"-454.3\" font-family=\"Helvetica,sans-Serif\" font-size=\"14.00\">gini = 0.0</text>\n<text text-anchor=\"middle\" x=\"499.5\" y=\"-439.3\" font-family=\"Helvetica,sans-Serif\" font-size=\"14.00\">samples = 404853</text>\n<text text-anchor=\"middle\" x=\"499.5\" y=\"-424.3\" font-family=\"Helvetica,sans-Serif\" font-size=\"14.00\">value = [404787, 66]</text>\n<text text-anchor=\"middle\" x=\"499.5\" y=\"-409.3\" font-family=\"Helvetica,sans-Serif\" font-size=\"14.00\">class = No_Pension_Plan</text>\n</g>\n<!-- 1&#45;&gt;2 -->\n<g id=\"edge2\" class=\"edge\">\n<title>1&#45;&gt;2</title>\n<path fill=\"none\" stroke=\"black\" d=\"M354.45,-344.63C377.89,-360.63 404.82,-379.02 429,-395.54\"/>\n<polygon fill=\"black\" stroke=\"black\" points=\"427.2,-398.54 437.43,-401.29 431.14,-392.76 427.2,-398.54\"/>\n</g>\n<!-- 27 -->\n<g id=\"node28\" class=\"node\">\n<title>27</title>\n<path fill=\"#e78c4a\" stroke=\"black\" d=\"M573,-258.5C573,-258.5 426,-258.5 426,-258.5 420,-258.5 414,-252.5 414,-246.5 414,-246.5 414,-187.5 414,-187.5 414,-181.5 420,-175.5 426,-175.5 426,-175.5 573,-175.5 573,-175.5 579,-175.5 585,-181.5 585,-187.5 585,-187.5 585,-246.5 585,-246.5 585,-252.5 579,-258.5 573,-258.5\"/>\n<text text-anchor=\"middle\" x=\"499.5\" y=\"-243.3\" font-family=\"Helvetica,sans-Serif\" font-size=\"14.00\">age &lt;= 62.5</text>\n<text text-anchor=\"middle\" x=\"499.5\" y=\"-228.3\" font-family=\"Helvetica,sans-Serif\" font-size=\"14.00\">gini = 0.147</text>\n<text text-anchor=\"middle\" x=\"499.5\" y=\"-213.3\" font-family=\"Helvetica,sans-Serif\" font-size=\"14.00\">samples = 9772</text>\n<text text-anchor=\"middle\" x=\"499.5\" y=\"-198.3\" font-family=\"Helvetica,sans-Serif\" font-size=\"14.00\">value = [8990, 782]</text>\n<text text-anchor=\"middle\" x=\"499.5\" y=\"-183.3\" font-family=\"Helvetica,sans-Serif\" font-size=\"14.00\">class = No_Pension_Plan</text>\n</g>\n<!-- 1&#45;&gt;27 -->\n<g id=\"edge27\" class=\"edge\">\n<title>1&#45;&gt;27</title>\n<path fill=\"none\" stroke=\"black\" d=\"M378.06,-267.52C386.73,-263.89 395.57,-260.18 404.34,-256.5\"/>\n<polygon fill=\"black\" stroke=\"black\" points=\"405.93,-259.63 413.8,-252.53 403.22,-253.17 405.93,-259.63\"/>\n</g>\n<!-- 3 -->\n<g id=\"node4\" class=\"node\">\n<title>3</title>\n<path fill=\"#e58139\" stroke=\"black\" d=\"M780,-908.5C780,-908.5 633,-908.5 633,-908.5 627,-908.5 621,-902.5 621,-896.5 621,-896.5 621,-837.5 621,-837.5 621,-831.5 627,-825.5 633,-825.5 633,-825.5 780,-825.5 780,-825.5 786,-825.5 792,-831.5 792,-837.5 792,-837.5 792,-896.5 792,-896.5 792,-902.5 786,-908.5 780,-908.5\"/>\n<text text-anchor=\"middle\" x=\"706.5\" y=\"-893.3\" font-family=\"Helvetica,sans-Serif\" font-size=\"14.00\">age &lt;= 19.5</text>\n<text text-anchor=\"middle\" x=\"706.5\" y=\"-878.3\" font-family=\"Helvetica,sans-Serif\" font-size=\"14.00\">gini = 0.0</text>\n<text text-anchor=\"middle\" x=\"706.5\" y=\"-863.3\" font-family=\"Helvetica,sans-Serif\" font-size=\"14.00\">samples = 392306</text>\n<text text-anchor=\"middle\" x=\"706.5\" y=\"-848.3\" font-family=\"Helvetica,sans-Serif\" font-size=\"14.00\">value = [392270, 36]</text>\n<text text-anchor=\"middle\" x=\"706.5\" y=\"-833.3\" font-family=\"Helvetica,sans-Serif\" font-size=\"14.00\">class = No_Pension_Plan</text>\n</g>\n<!-- 2&#45;&gt;3 -->\n<g id=\"edge3\" class=\"edge\">\n<title>2&#45;&gt;3</title>\n<path fill=\"none\" stroke=\"black\" d=\"M520.72,-484.82C558.59,-563.15 640.09,-731.71 681.01,-816.34\"/>\n<polygon fill=\"black\" stroke=\"black\" points=\"677.93,-818.02 685.43,-825.5 684.23,-814.97 677.93,-818.02\"/>\n</g>\n<!-- 16 -->\n<g id=\"node17\" class=\"node\">\n<title>16</title>\n<path fill=\"#e58139\" stroke=\"black\" d=\"M780,-484.5C780,-484.5 633,-484.5 633,-484.5 627,-484.5 621,-478.5 621,-472.5 621,-472.5 621,-413.5 621,-413.5 621,-407.5 627,-401.5 633,-401.5 633,-401.5 780,-401.5 780,-401.5 786,-401.5 792,-407.5 792,-413.5 792,-413.5 792,-472.5 792,-472.5 792,-478.5 786,-484.5 780,-484.5\"/>\n<text text-anchor=\"middle\" x=\"706.5\" y=\"-469.3\" font-family=\"Helvetica,sans-Serif\" font-size=\"14.00\">debit_card &lt;= 0.5</text>\n<text text-anchor=\"middle\" x=\"706.5\" y=\"-454.3\" font-family=\"Helvetica,sans-Serif\" font-size=\"14.00\">gini = 0.005</text>\n<text text-anchor=\"middle\" x=\"706.5\" y=\"-439.3\" font-family=\"Helvetica,sans-Serif\" font-size=\"14.00\">samples = 12547</text>\n<text text-anchor=\"middle\" x=\"706.5\" y=\"-424.3\" font-family=\"Helvetica,sans-Serif\" font-size=\"14.00\">value = [12517, 30]</text>\n<text text-anchor=\"middle\" x=\"706.5\" y=\"-409.3\" font-family=\"Helvetica,sans-Serif\" font-size=\"14.00\">class = No_Pension_Plan</text>\n</g>\n<!-- 2&#45;&gt;16 -->\n<g id=\"edge16\" class=\"edge\">\n<title>2&#45;&gt;16</title>\n<path fill=\"none\" stroke=\"black\" d=\"M585.06,-443C593.55,-443 602.2,-443 610.78,-443\"/>\n<polygon fill=\"black\" stroke=\"black\" points=\"610.8,-446.5 620.8,-443 610.8,-439.5 610.8,-446.5\"/>\n</g>\n<!-- 4 -->\n<g id=\"node5\" class=\"node\">\n<title>4</title>\n<path fill=\"#e5813a\" stroke=\"black\" d=\"M992,-1056.5C992,-1056.5 840,-1056.5 840,-1056.5 834,-1056.5 828,-1050.5 828,-1044.5 828,-1044.5 828,-985.5 828,-985.5 828,-979.5 834,-973.5 840,-973.5 840,-973.5 992,-973.5 992,-973.5 998,-973.5 1004,-979.5 1004,-985.5 1004,-985.5 1004,-1044.5 1004,-1044.5 1004,-1050.5 998,-1056.5 992,-1056.5\"/>\n<text text-anchor=\"middle\" x=\"916\" y=\"-1041.3\" font-family=\"Helvetica,sans-Serif\" font-size=\"14.00\">entry_channel_KFA &lt;= 0.5</text>\n<text text-anchor=\"middle\" x=\"916\" y=\"-1026.3\" font-family=\"Helvetica,sans-Serif\" font-size=\"14.00\">gini = 0.007</text>\n<text text-anchor=\"middle\" x=\"916\" y=\"-1011.3\" font-family=\"Helvetica,sans-Serif\" font-size=\"14.00\">samples = 3600</text>\n<text text-anchor=\"middle\" x=\"916\" y=\"-996.3\" font-family=\"Helvetica,sans-Serif\" font-size=\"14.00\">value = [3588, 12]</text>\n<text text-anchor=\"middle\" x=\"916\" y=\"-981.3\" font-family=\"Helvetica,sans-Serif\" font-size=\"14.00\">class = No_Pension_Plan</text>\n</g>\n<!-- 3&#45;&gt;4 -->\n<g id=\"edge4\" class=\"edge\">\n<title>3&#45;&gt;4</title>\n<path fill=\"none\" stroke=\"black\" d=\"M765.85,-908.62C791.49,-926.9 821.73,-948.47 848.25,-967.39\"/>\n<polygon fill=\"black\" stroke=\"black\" points=\"846.55,-970.48 856.73,-973.44 850.62,-964.78 846.55,-970.48\"/>\n</g>\n<!-- 9 -->\n<g id=\"node10\" class=\"node\">\n<title>9</title>\n<path fill=\"#e58139\" stroke=\"black\" d=\"M989.5,-908.5C989.5,-908.5 842.5,-908.5 842.5,-908.5 836.5,-908.5 830.5,-902.5 830.5,-896.5 830.5,-896.5 830.5,-837.5 830.5,-837.5 830.5,-831.5 836.5,-825.5 842.5,-825.5 842.5,-825.5 989.5,-825.5 989.5,-825.5 995.5,-825.5 1001.5,-831.5 1001.5,-837.5 1001.5,-837.5 1001.5,-896.5 1001.5,-896.5 1001.5,-902.5 995.5,-908.5 989.5,-908.5\"/>\n<text text-anchor=\"middle\" x=\"916\" y=\"-893.3\" font-family=\"Helvetica,sans-Serif\" font-size=\"14.00\">debit_card &lt;= 0.5</text>\n<text text-anchor=\"middle\" x=\"916\" y=\"-878.3\" font-family=\"Helvetica,sans-Serif\" font-size=\"14.00\">gini = 0.0</text>\n<text text-anchor=\"middle\" x=\"916\" y=\"-863.3\" font-family=\"Helvetica,sans-Serif\" font-size=\"14.00\">samples = 388706</text>\n<text text-anchor=\"middle\" x=\"916\" y=\"-848.3\" font-family=\"Helvetica,sans-Serif\" font-size=\"14.00\">value = [388682, 24]</text>\n<text text-anchor=\"middle\" x=\"916\" y=\"-833.3\" font-family=\"Helvetica,sans-Serif\" font-size=\"14.00\">class = No_Pension_Plan</text>\n</g>\n<!-- 3&#45;&gt;9 -->\n<g id=\"edge9\" class=\"edge\">\n<title>3&#45;&gt;9</title>\n<path fill=\"none\" stroke=\"black\" d=\"M792.2,-867C801.41,-867 810.84,-867 820.17,-867\"/>\n<polygon fill=\"black\" stroke=\"black\" points=\"820.24,-870.5 830.24,-867 820.24,-863.5 820.24,-870.5\"/>\n</g>\n<!-- 5 -->\n<g id=\"node6\" class=\"node\">\n<title>5</title>\n<path fill=\"#e58139\" stroke=\"black\" d=\"M1203,-1150.5C1203,-1150.5 1056,-1150.5 1056,-1150.5 1050,-1150.5 1044,-1144.5 1044,-1138.5 1044,-1138.5 1044,-1079.5 1044,-1079.5 1044,-1073.5 1050,-1067.5 1056,-1067.5 1056,-1067.5 1203,-1067.5 1203,-1067.5 1209,-1067.5 1215,-1073.5 1215,-1079.5 1215,-1079.5 1215,-1138.5 1215,-1138.5 1215,-1144.5 1209,-1150.5 1203,-1150.5\"/>\n<text text-anchor=\"middle\" x=\"1129.5\" y=\"-1135.3\" font-family=\"Helvetica,sans-Serif\" font-size=\"14.00\">age &lt;= 9.5</text>\n<text text-anchor=\"middle\" x=\"1129.5\" y=\"-1120.3\" font-family=\"Helvetica,sans-Serif\" font-size=\"14.00\">gini = 0.004</text>\n<text text-anchor=\"middle\" x=\"1129.5\" y=\"-1105.3\" font-family=\"Helvetica,sans-Serif\" font-size=\"14.00\">samples = 2745</text>\n<text text-anchor=\"middle\" x=\"1129.5\" y=\"-1090.3\" font-family=\"Helvetica,sans-Serif\" font-size=\"14.00\">value = [2739, 6]</text>\n<text text-anchor=\"middle\" x=\"1129.5\" y=\"-1075.3\" font-family=\"Helvetica,sans-Serif\" font-size=\"14.00\">class = No_Pension_Plan</text>\n</g>\n<!-- 4&#45;&gt;5 -->\n<g id=\"edge5\" class=\"edge\">\n<title>4&#45;&gt;5</title>\n<path fill=\"none\" stroke=\"black\" d=\"M1004.25,-1053.78C1014.27,-1058.23 1024.51,-1062.78 1034.61,-1067.27\"/>\n<polygon fill=\"black\" stroke=\"black\" points=\"1033.28,-1070.51 1043.84,-1071.37 1036.12,-1064.11 1033.28,-1070.51\"/>\n</g>\n<!-- 8 -->\n<g id=\"node9\" class=\"node\">\n<title>8</title>\n<path fill=\"#e5823a\" stroke=\"black\" d=\"M1203,-1049C1203,-1049 1056,-1049 1056,-1049 1050,-1049 1044,-1043 1044,-1037 1044,-1037 1044,-993 1044,-993 1044,-987 1050,-981 1056,-981 1056,-981 1203,-981 1203,-981 1209,-981 1215,-987 1215,-993 1215,-993 1215,-1037 1215,-1037 1215,-1043 1209,-1049 1203,-1049\"/>\n<text text-anchor=\"middle\" x=\"1129.5\" y=\"-1033.8\" font-family=\"Helvetica,sans-Serif\" font-size=\"14.00\">gini = 0.014</text>\n<text text-anchor=\"middle\" x=\"1129.5\" y=\"-1018.8\" font-family=\"Helvetica,sans-Serif\" font-size=\"14.00\">samples = 855</text>\n<text text-anchor=\"middle\" x=\"1129.5\" y=\"-1003.8\" font-family=\"Helvetica,sans-Serif\" font-size=\"14.00\">value = [849, 6]</text>\n<text text-anchor=\"middle\" x=\"1129.5\" y=\"-988.8\" font-family=\"Helvetica,sans-Serif\" font-size=\"14.00\">class = No_Pension_Plan</text>\n</g>\n<!-- 4&#45;&gt;8 -->\n<g id=\"edge8\" class=\"edge\">\n<title>4&#45;&gt;8</title>\n<path fill=\"none\" stroke=\"black\" d=\"M1004.25,-1015C1013.96,-1015 1023.89,-1015 1033.69,-1015\"/>\n<polygon fill=\"black\" stroke=\"black\" points=\"1033.84,-1018.5 1043.84,-1015 1033.84,-1011.5 1033.84,-1018.5\"/>\n</g>\n<!-- 6 -->\n<g id=\"node7\" class=\"node\">\n<title>6</title>\n<path fill=\"#e5823a\" stroke=\"black\" d=\"M1414,-1221C1414,-1221 1267,-1221 1267,-1221 1261,-1221 1255,-1215 1255,-1209 1255,-1209 1255,-1165 1255,-1165 1255,-1159 1261,-1153 1267,-1153 1267,-1153 1414,-1153 1414,-1153 1420,-1153 1426,-1159 1426,-1165 1426,-1165 1426,-1209 1426,-1209 1426,-1215 1420,-1221 1414,-1221\"/>\n<text text-anchor=\"middle\" x=\"1340.5\" y=\"-1205.8\" font-family=\"Helvetica,sans-Serif\" font-size=\"14.00\">gini = 0.012</text>\n<text text-anchor=\"middle\" x=\"1340.5\" y=\"-1190.8\" font-family=\"Helvetica,sans-Serif\" font-size=\"14.00\">samples = 852</text>\n<text text-anchor=\"middle\" x=\"1340.5\" y=\"-1175.8\" font-family=\"Helvetica,sans-Serif\" font-size=\"14.00\">value = [847, 5]</text>\n<text text-anchor=\"middle\" x=\"1340.5\" y=\"-1160.8\" font-family=\"Helvetica,sans-Serif\" font-size=\"14.00\">class = No_Pension_Plan</text>\n</g>\n<!-- 5&#45;&gt;6 -->\n<g id=\"edge6\" class=\"edge\">\n<title>5&#45;&gt;6</title>\n<path fill=\"none\" stroke=\"black\" d=\"M1215.21,-1140.61C1225.07,-1144.29 1235.17,-1148.06 1245.15,-1151.79\"/>\n<polygon fill=\"black\" stroke=\"black\" points=\"1244.08,-1155.12 1254.67,-1155.34 1246.53,-1148.57 1244.08,-1155.12\"/>\n</g>\n<!-- 7 -->\n<g id=\"node8\" class=\"node\">\n<title>7</title>\n<path fill=\"#e58139\" stroke=\"black\" d=\"M1414,-1135C1414,-1135 1267,-1135 1267,-1135 1261,-1135 1255,-1129 1255,-1123 1255,-1123 1255,-1079 1255,-1079 1255,-1073 1261,-1067 1267,-1067 1267,-1067 1414,-1067 1414,-1067 1420,-1067 1426,-1073 1426,-1079 1426,-1079 1426,-1123 1426,-1123 1426,-1129 1420,-1135 1414,-1135\"/>\n<text text-anchor=\"middle\" x=\"1340.5\" y=\"-1119.8\" font-family=\"Helvetica,sans-Serif\" font-size=\"14.00\">gini = 0.001</text>\n<text text-anchor=\"middle\" x=\"1340.5\" y=\"-1104.8\" font-family=\"Helvetica,sans-Serif\" font-size=\"14.00\">samples = 1893</text>\n<text text-anchor=\"middle\" x=\"1340.5\" y=\"-1089.8\" font-family=\"Helvetica,sans-Serif\" font-size=\"14.00\">value = [1892, 1]</text>\n<text text-anchor=\"middle\" x=\"1340.5\" y=\"-1074.8\" font-family=\"Helvetica,sans-Serif\" font-size=\"14.00\">class = No_Pension_Plan</text>\n</g>\n<!-- 5&#45;&gt;7 -->\n<g id=\"edge7\" class=\"edge\">\n<title>5&#45;&gt;7</title>\n<path fill=\"none\" stroke=\"black\" d=\"M1215.21,-1105.76C1224.86,-1105.39 1234.76,-1105.01 1244.54,-1104.63\"/>\n<polygon fill=\"black\" stroke=\"black\" points=\"1244.81,-1108.13 1254.67,-1104.25 1244.55,-1101.13 1244.81,-1108.13\"/>\n</g>\n<!-- 10 -->\n<g id=\"node11\" class=\"node\">\n<title>10</title>\n<path fill=\"#e58139\" stroke=\"black\" d=\"M1205.5,-962.5C1205.5,-962.5 1053.5,-962.5 1053.5,-962.5 1047.5,-962.5 1041.5,-956.5 1041.5,-950.5 1041.5,-950.5 1041.5,-891.5 1041.5,-891.5 1041.5,-885.5 1047.5,-879.5 1053.5,-879.5 1053.5,-879.5 1205.5,-879.5 1205.5,-879.5 1211.5,-879.5 1217.5,-885.5 1217.5,-891.5 1217.5,-891.5 1217.5,-950.5 1217.5,-950.5 1217.5,-956.5 1211.5,-962.5 1205.5,-962.5\"/>\n<text text-anchor=\"middle\" x=\"1129.5\" y=\"-947.3\" font-family=\"Helvetica,sans-Serif\" font-size=\"14.00\">entry_channel_KFA &lt;= 0.5</text>\n<text text-anchor=\"middle\" x=\"1129.5\" y=\"-932.3\" font-family=\"Helvetica,sans-Serif\" font-size=\"14.00\">gini = 0.0</text>\n<text text-anchor=\"middle\" x=\"1129.5\" y=\"-917.3\" font-family=\"Helvetica,sans-Serif\" font-size=\"14.00\">samples = 363550</text>\n<text text-anchor=\"middle\" x=\"1129.5\" y=\"-902.3\" font-family=\"Helvetica,sans-Serif\" font-size=\"14.00\">value = [363541, 9]</text>\n<text text-anchor=\"middle\" x=\"1129.5\" y=\"-887.3\" font-family=\"Helvetica,sans-Serif\" font-size=\"14.00\">class = No_Pension_Plan</text>\n</g>\n<!-- 9&#45;&gt;10 -->\n<g id=\"edge10\" class=\"edge\">\n<title>9&#45;&gt;10</title>\n<path fill=\"none\" stroke=\"black\" d=\"M1001.5,-888.58C1011.34,-891.09 1021.43,-893.66 1031.42,-896.21\"/>\n<polygon fill=\"black\" stroke=\"black\" points=\"1030.81,-899.67 1041.36,-898.75 1032.54,-892.89 1030.81,-899.67\"/>\n</g>\n<!-- 13 -->\n<g id=\"node14\" class=\"node\">\n<title>13</title>\n<path fill=\"#e58139\" stroke=\"black\" d=\"M1203,-861.5C1203,-861.5 1056,-861.5 1056,-861.5 1050,-861.5 1044,-855.5 1044,-849.5 1044,-849.5 1044,-790.5 1044,-790.5 1044,-784.5 1050,-778.5 1056,-778.5 1056,-778.5 1203,-778.5 1203,-778.5 1209,-778.5 1215,-784.5 1215,-790.5 1215,-790.5 1215,-849.5 1215,-849.5 1215,-855.5 1209,-861.5 1203,-861.5\"/>\n<text text-anchor=\"middle\" x=\"1129.5\" y=\"-846.3\" font-family=\"Helvetica,sans-Serif\" font-size=\"14.00\">em_acount &lt;= 0.5</text>\n<text text-anchor=\"middle\" x=\"1129.5\" y=\"-831.3\" font-family=\"Helvetica,sans-Serif\" font-size=\"14.00\">gini = 0.001</text>\n<text text-anchor=\"middle\" x=\"1129.5\" y=\"-816.3\" font-family=\"Helvetica,sans-Serif\" font-size=\"14.00\">samples = 25156</text>\n<text text-anchor=\"middle\" x=\"1129.5\" y=\"-801.3\" font-family=\"Helvetica,sans-Serif\" font-size=\"14.00\">value = [25141, 15]</text>\n<text text-anchor=\"middle\" x=\"1129.5\" y=\"-786.3\" font-family=\"Helvetica,sans-Serif\" font-size=\"14.00\">class = No_Pension_Plan</text>\n</g>\n<!-- 9&#45;&gt;13 -->\n<g id=\"edge13\" class=\"edge\">\n<title>9&#45;&gt;13</title>\n<path fill=\"none\" stroke=\"black\" d=\"M1001.5,-848.22C1012.16,-845.85 1023.12,-843.42 1033.92,-841.02\"/>\n<polygon fill=\"black\" stroke=\"black\" points=\"1034.78,-844.41 1043.79,-838.83 1033.27,-837.58 1034.78,-844.41\"/>\n</g>\n<!-- 11 -->\n<g id=\"node12\" class=\"node\">\n<title>11</title>\n<path fill=\"#e58139\" stroke=\"black\" d=\"M1414,-1041C1414,-1041 1267,-1041 1267,-1041 1261,-1041 1255,-1035 1255,-1029 1255,-1029 1255,-985 1255,-985 1255,-979 1261,-973 1267,-973 1267,-973 1414,-973 1414,-973 1420,-973 1426,-979 1426,-985 1426,-985 1426,-1029 1426,-1029 1426,-1035 1420,-1041 1414,-1041\"/>\n<text text-anchor=\"middle\" x=\"1340.5\" y=\"-1025.8\" font-family=\"Helvetica,sans-Serif\" font-size=\"14.00\">gini = 0.0</text>\n<text text-anchor=\"middle\" x=\"1340.5\" y=\"-1010.8\" font-family=\"Helvetica,sans-Serif\" font-size=\"14.00\">samples = 361273</text>\n<text text-anchor=\"middle\" x=\"1340.5\" y=\"-995.8\" font-family=\"Helvetica,sans-Serif\" font-size=\"14.00\">value = [361267, 6]</text>\n<text text-anchor=\"middle\" x=\"1340.5\" y=\"-980.8\" font-family=\"Helvetica,sans-Serif\" font-size=\"14.00\">class = No_Pension_Plan</text>\n</g>\n<!-- 10&#45;&gt;11 -->\n<g id=\"edge11\" class=\"edge\">\n<title>10&#45;&gt;11</title>\n<path fill=\"none\" stroke=\"black\" d=\"M1217.62,-956.85C1227.47,-960.9 1237.53,-965.04 1247.43,-969.12\"/>\n<polygon fill=\"black\" stroke=\"black\" points=\"1246.29,-972.43 1256.87,-973 1248.96,-965.96 1246.29,-972.43\"/>\n</g>\n<!-- 12 -->\n<g id=\"node13\" class=\"node\">\n<title>12</title>\n<path fill=\"#e58139\" stroke=\"black\" d=\"M1414,-955C1414,-955 1267,-955 1267,-955 1261,-955 1255,-949 1255,-943 1255,-943 1255,-899 1255,-899 1255,-893 1261,-887 1267,-887 1267,-887 1414,-887 1414,-887 1420,-887 1426,-893 1426,-899 1426,-899 1426,-943 1426,-943 1426,-949 1420,-955 1414,-955\"/>\n<text text-anchor=\"middle\" x=\"1340.5\" y=\"-939.8\" font-family=\"Helvetica,sans-Serif\" font-size=\"14.00\">gini = 0.003</text>\n<text text-anchor=\"middle\" x=\"1340.5\" y=\"-924.8\" font-family=\"Helvetica,sans-Serif\" font-size=\"14.00\">samples = 2277</text>\n<text text-anchor=\"middle\" x=\"1340.5\" y=\"-909.8\" font-family=\"Helvetica,sans-Serif\" font-size=\"14.00\">value = [2274, 3]</text>\n<text text-anchor=\"middle\" x=\"1340.5\" y=\"-894.8\" font-family=\"Helvetica,sans-Serif\" font-size=\"14.00\">class = No_Pension_Plan</text>\n</g>\n<!-- 10&#45;&gt;12 -->\n<g id=\"edge12\" class=\"edge\">\n<title>10&#45;&gt;12</title>\n<path fill=\"none\" stroke=\"black\" d=\"M1217.62,-921C1226.57,-921 1235.7,-921 1244.73,-921\"/>\n<polygon fill=\"black\" stroke=\"black\" points=\"1244.87,-924.5 1254.87,-921 1244.87,-917.5 1244.87,-924.5\"/>\n</g>\n<!-- 14 -->\n<g id=\"node15\" class=\"node\">\n<title>14</title>\n<path fill=\"#e5823b\" stroke=\"black\" d=\"M1414,-869C1414,-869 1267,-869 1267,-869 1261,-869 1255,-863 1255,-857 1255,-857 1255,-813 1255,-813 1255,-807 1261,-801 1267,-801 1267,-801 1414,-801 1414,-801 1420,-801 1426,-807 1426,-813 1426,-813 1426,-857 1426,-857 1426,-863 1420,-869 1414,-869\"/>\n<text text-anchor=\"middle\" x=\"1340.5\" y=\"-853.8\" font-family=\"Helvetica,sans-Serif\" font-size=\"14.00\">gini = 0.023</text>\n<text text-anchor=\"middle\" x=\"1340.5\" y=\"-838.8\" font-family=\"Helvetica,sans-Serif\" font-size=\"14.00\">samples = 1212</text>\n<text text-anchor=\"middle\" x=\"1340.5\" y=\"-823.8\" font-family=\"Helvetica,sans-Serif\" font-size=\"14.00\">value = [1198, 14]</text>\n<text text-anchor=\"middle\" x=\"1340.5\" y=\"-808.8\" font-family=\"Helvetica,sans-Serif\" font-size=\"14.00\">class = No_Pension_Plan</text>\n</g>\n<!-- 13&#45;&gt;14 -->\n<g id=\"edge14\" class=\"edge\">\n<title>13&#45;&gt;14</title>\n<path fill=\"none\" stroke=\"black\" d=\"M1215.21,-826.08C1224.86,-826.77 1234.76,-827.48 1244.54,-828.18\"/>\n<polygon fill=\"black\" stroke=\"black\" points=\"1244.45,-831.69 1254.67,-828.91 1244.95,-824.7 1244.45,-831.69\"/>\n</g>\n<!-- 15 -->\n<g id=\"node16\" class=\"node\">\n<title>15</title>\n<path fill=\"#e58139\" stroke=\"black\" d=\"M1414,-783C1414,-783 1267,-783 1267,-783 1261,-783 1255,-777 1255,-771 1255,-771 1255,-727 1255,-727 1255,-721 1261,-715 1267,-715 1267,-715 1414,-715 1414,-715 1420,-715 1426,-721 1426,-727 1426,-727 1426,-771 1426,-771 1426,-777 1420,-783 1414,-783\"/>\n<text text-anchor=\"middle\" x=\"1340.5\" y=\"-767.8\" font-family=\"Helvetica,sans-Serif\" font-size=\"14.00\">gini = 0.0</text>\n<text text-anchor=\"middle\" x=\"1340.5\" y=\"-752.8\" font-family=\"Helvetica,sans-Serif\" font-size=\"14.00\">samples = 23944</text>\n<text text-anchor=\"middle\" x=\"1340.5\" y=\"-737.8\" font-family=\"Helvetica,sans-Serif\" font-size=\"14.00\">value = [23943, 1]</text>\n<text text-anchor=\"middle\" x=\"1340.5\" y=\"-722.8\" font-family=\"Helvetica,sans-Serif\" font-size=\"14.00\">class = No_Pension_Plan</text>\n</g>\n<!-- 13&#45;&gt;15 -->\n<g id=\"edge15\" class=\"edge\">\n<title>13&#45;&gt;15</title>\n<path fill=\"none\" stroke=\"black\" d=\"M1215.21,-791.22C1225.07,-787.87 1235.17,-784.44 1245.15,-781.05\"/>\n<polygon fill=\"black\" stroke=\"black\" points=\"1246.33,-784.35 1254.67,-777.82 1244.08,-777.72 1246.33,-784.35\"/>\n</g>\n<!-- 17 -->\n<g id=\"node18\" class=\"node\">\n<title>17</title>\n<path fill=\"#e58139\" stroke=\"black\" d=\"M989.5,-535.5C989.5,-535.5 842.5,-535.5 842.5,-535.5 836.5,-535.5 830.5,-529.5 830.5,-523.5 830.5,-523.5 830.5,-464.5 830.5,-464.5 830.5,-458.5 836.5,-452.5 842.5,-452.5 842.5,-452.5 989.5,-452.5 989.5,-452.5 995.5,-452.5 1001.5,-458.5 1001.5,-464.5 1001.5,-464.5 1001.5,-523.5 1001.5,-523.5 1001.5,-529.5 995.5,-535.5 989.5,-535.5\"/>\n<text text-anchor=\"middle\" x=\"916\" y=\"-520.3\" font-family=\"Helvetica,sans-Serif\" font-size=\"14.00\">salary &lt;= 180069.773</text>\n<text text-anchor=\"middle\" x=\"916\" y=\"-505.3\" font-family=\"Helvetica,sans-Serif\" font-size=\"14.00\">gini = 0.002</text>\n<text text-anchor=\"middle\" x=\"916\" y=\"-490.3\" font-family=\"Helvetica,sans-Serif\" font-size=\"14.00\">samples = 11505</text>\n<text text-anchor=\"middle\" x=\"916\" y=\"-475.3\" font-family=\"Helvetica,sans-Serif\" font-size=\"14.00\">value = [11496, 9]</text>\n<text text-anchor=\"middle\" x=\"916\" y=\"-460.3\" font-family=\"Helvetica,sans-Serif\" font-size=\"14.00\">class = No_Pension_Plan</text>\n</g>\n<!-- 16&#45;&gt;17 -->\n<g id=\"edge17\" class=\"edge\">\n<title>16&#45;&gt;17</title>\n<path fill=\"none\" stroke=\"black\" d=\"M792.2,-463.82C801.51,-466.11 811.04,-468.45 820.47,-470.76\"/>\n<polygon fill=\"black\" stroke=\"black\" points=\"819.69,-474.18 830.24,-473.17 821.36,-467.38 819.69,-474.18\"/>\n</g>\n<!-- 24 -->\n<g id=\"node25\" class=\"node\">\n<title>24</title>\n<path fill=\"#e6843d\" stroke=\"black\" d=\"M989.5,-434.5C989.5,-434.5 842.5,-434.5 842.5,-434.5 836.5,-434.5 830.5,-428.5 830.5,-422.5 830.5,-422.5 830.5,-363.5 830.5,-363.5 830.5,-357.5 836.5,-351.5 842.5,-351.5 842.5,-351.5 989.5,-351.5 989.5,-351.5 995.5,-351.5 1001.5,-357.5 1001.5,-363.5 1001.5,-363.5 1001.5,-422.5 1001.5,-422.5 1001.5,-428.5 995.5,-434.5 989.5,-434.5\"/>\n<text text-anchor=\"middle\" x=\"916\" y=\"-419.3\" font-family=\"Helvetica,sans-Serif\" font-size=\"14.00\">salary &lt;= 81949.934</text>\n<text text-anchor=\"middle\" x=\"916\" y=\"-404.3\" font-family=\"Helvetica,sans-Serif\" font-size=\"14.00\">gini = 0.039</text>\n<text text-anchor=\"middle\" x=\"916\" y=\"-389.3\" font-family=\"Helvetica,sans-Serif\" font-size=\"14.00\">samples = 1042</text>\n<text text-anchor=\"middle\" x=\"916\" y=\"-374.3\" font-family=\"Helvetica,sans-Serif\" font-size=\"14.00\">value = [1021, 21]</text>\n<text text-anchor=\"middle\" x=\"916\" y=\"-359.3\" font-family=\"Helvetica,sans-Serif\" font-size=\"14.00\">class = No_Pension_Plan</text>\n</g>\n<!-- 16&#45;&gt;24 -->\n<g id=\"edge24\" class=\"edge\">\n<title>16&#45;&gt;24</title>\n<path fill=\"none\" stroke=\"black\" d=\"M792.2,-422.59C801.51,-420.35 811.04,-418.05 820.47,-415.78\"/>\n<polygon fill=\"black\" stroke=\"black\" points=\"821.34,-419.17 830.24,-413.42 819.7,-412.36 821.34,-419.17\"/>\n</g>\n<!-- 18 -->\n<g id=\"node19\" class=\"node\">\n<title>18</title>\n<path fill=\"#e58139\" stroke=\"black\" d=\"M1203,-633.5C1203,-633.5 1056,-633.5 1056,-633.5 1050,-633.5 1044,-627.5 1044,-621.5 1044,-621.5 1044,-562.5 1044,-562.5 1044,-556.5 1050,-550.5 1056,-550.5 1056,-550.5 1203,-550.5 1203,-550.5 1209,-550.5 1215,-556.5 1215,-562.5 1215,-562.5 1215,-621.5 1215,-621.5 1215,-627.5 1209,-633.5 1203,-633.5\"/>\n<text text-anchor=\"middle\" x=\"1129.5\" y=\"-618.3\" font-family=\"Helvetica,sans-Serif\" font-size=\"14.00\">partition_month &lt;= 3.5</text>\n<text text-anchor=\"middle\" x=\"1129.5\" y=\"-603.3\" font-family=\"Helvetica,sans-Serif\" font-size=\"14.00\">gini = 0.001</text>\n<text text-anchor=\"middle\" x=\"1129.5\" y=\"-588.3\" font-family=\"Helvetica,sans-Serif\" font-size=\"14.00\">samples = 9780</text>\n<text text-anchor=\"middle\" x=\"1129.5\" y=\"-573.3\" font-family=\"Helvetica,sans-Serif\" font-size=\"14.00\">value = [9777, 3]</text>\n<text text-anchor=\"middle\" x=\"1129.5\" y=\"-558.3\" font-family=\"Helvetica,sans-Serif\" font-size=\"14.00\">class = No_Pension_Plan</text>\n</g>\n<!-- 17&#45;&gt;18 -->\n<g id=\"edge18\" class=\"edge\">\n<title>17&#45;&gt;18</title>\n<path fill=\"none\" stroke=\"black\" d=\"M1001.5,-533.15C1012.38,-538.19 1023.57,-543.38 1034.58,-548.48\"/>\n<polygon fill=\"black\" stroke=\"black\" points=\"1033.24,-551.72 1043.79,-552.75 1036.18,-545.37 1033.24,-551.72\"/>\n</g>\n<!-- 21 -->\n<g id=\"node22\" class=\"node\">\n<title>21</title>\n<path fill=\"#e5813a\" stroke=\"black\" d=\"M1203,-532.5C1203,-532.5 1056,-532.5 1056,-532.5 1050,-532.5 1044,-526.5 1044,-520.5 1044,-520.5 1044,-461.5 1044,-461.5 1044,-455.5 1050,-449.5 1056,-449.5 1056,-449.5 1203,-449.5 1203,-449.5 1209,-449.5 1215,-455.5 1215,-461.5 1215,-461.5 1215,-520.5 1215,-520.5 1215,-526.5 1209,-532.5 1203,-532.5\"/>\n<text text-anchor=\"middle\" x=\"1129.5\" y=\"-517.3\" font-family=\"Helvetica,sans-Serif\" font-size=\"14.00\">em_acount &lt;= 0.5</text>\n<text text-anchor=\"middle\" x=\"1129.5\" y=\"-502.3\" font-family=\"Helvetica,sans-Serif\" font-size=\"14.00\">gini = 0.007</text>\n<text text-anchor=\"middle\" x=\"1129.5\" y=\"-487.3\" font-family=\"Helvetica,sans-Serif\" font-size=\"14.00\">samples = 1725</text>\n<text text-anchor=\"middle\" x=\"1129.5\" y=\"-472.3\" font-family=\"Helvetica,sans-Serif\" font-size=\"14.00\">value = [1719, 6]</text>\n<text text-anchor=\"middle\" x=\"1129.5\" y=\"-457.3\" font-family=\"Helvetica,sans-Serif\" font-size=\"14.00\">class = No_Pension_Plan</text>\n</g>\n<!-- 17&#45;&gt;21 -->\n<g id=\"edge21\" class=\"edge\">\n<title>17&#45;&gt;21</title>\n<path fill=\"none\" stroke=\"black\" d=\"M1001.5,-492.8C1012.05,-492.65 1022.9,-492.5 1033.59,-492.35\"/>\n<polygon fill=\"black\" stroke=\"black\" points=\"1033.84,-495.84 1043.79,-492.2 1033.74,-488.84 1033.84,-495.84\"/>\n</g>\n<!-- 19 -->\n<g id=\"node20\" class=\"node\">\n<title>19</title>\n<path fill=\"#e58139\" stroke=\"black\" d=\"M1414,-697C1414,-697 1267,-697 1267,-697 1261,-697 1255,-691 1255,-685 1255,-685 1255,-641 1255,-641 1255,-635 1261,-629 1267,-629 1267,-629 1414,-629 1414,-629 1420,-629 1426,-635 1426,-641 1426,-641 1426,-685 1426,-685 1426,-691 1420,-697 1414,-697\"/>\n<text text-anchor=\"middle\" x=\"1340.5\" y=\"-681.8\" font-family=\"Helvetica,sans-Serif\" font-size=\"14.00\">gini = 0.002</text>\n<text text-anchor=\"middle\" x=\"1340.5\" y=\"-666.8\" font-family=\"Helvetica,sans-Serif\" font-size=\"14.00\">samples = 3213</text>\n<text text-anchor=\"middle\" x=\"1340.5\" y=\"-651.8\" font-family=\"Helvetica,sans-Serif\" font-size=\"14.00\">value = [3210, 3]</text>\n<text text-anchor=\"middle\" x=\"1340.5\" y=\"-636.8\" font-family=\"Helvetica,sans-Serif\" font-size=\"14.00\">class = No_Pension_Plan</text>\n</g>\n<!-- 18&#45;&gt;19 -->\n<g id=\"edge19\" class=\"edge\">\n<title>18&#45;&gt;19</title>\n<path fill=\"none\" stroke=\"black\" d=\"M1215.21,-620.78C1225.07,-624.13 1235.17,-627.56 1245.15,-630.95\"/>\n<polygon fill=\"black\" stroke=\"black\" points=\"1244.08,-634.28 1254.67,-634.18 1246.33,-627.65 1244.08,-634.28\"/>\n</g>\n<!-- 20 -->\n<g id=\"node21\" class=\"node\">\n<title>20</title>\n<path fill=\"#e58139\" stroke=\"black\" d=\"M1414,-611C1414,-611 1267,-611 1267,-611 1261,-611 1255,-605 1255,-599 1255,-599 1255,-555 1255,-555 1255,-549 1261,-543 1267,-543 1267,-543 1414,-543 1414,-543 1420,-543 1426,-549 1426,-555 1426,-555 1426,-599 1426,-599 1426,-605 1420,-611 1414,-611\"/>\n<text text-anchor=\"middle\" x=\"1340.5\" y=\"-595.8\" font-family=\"Helvetica,sans-Serif\" font-size=\"14.00\">gini = 0.0</text>\n<text text-anchor=\"middle\" x=\"1340.5\" y=\"-580.8\" font-family=\"Helvetica,sans-Serif\" font-size=\"14.00\">samples = 6567</text>\n<text text-anchor=\"middle\" x=\"1340.5\" y=\"-565.8\" font-family=\"Helvetica,sans-Serif\" font-size=\"14.00\">value = [6567, 0]</text>\n<text text-anchor=\"middle\" x=\"1340.5\" y=\"-550.8\" font-family=\"Helvetica,sans-Serif\" font-size=\"14.00\">class = No_Pension_Plan</text>\n</g>\n<!-- 18&#45;&gt;20 -->\n<g id=\"edge20\" class=\"edge\">\n<title>18&#45;&gt;20</title>\n<path fill=\"none\" stroke=\"black\" d=\"M1215.21,-585.92C1224.86,-585.23 1234.76,-584.52 1244.54,-583.82\"/>\n<polygon fill=\"black\" stroke=\"black\" points=\"1244.95,-587.3 1254.67,-583.09 1244.45,-580.31 1244.95,-587.3\"/>\n</g>\n<!-- 22 -->\n<g id=\"node23\" class=\"node\">\n<title>22</title>\n<path fill=\"#e5823b\" stroke=\"black\" d=\"M1414,-525C1414,-525 1267,-525 1267,-525 1261,-525 1255,-519 1255,-513 1255,-513 1255,-469 1255,-469 1255,-463 1261,-457 1267,-457 1267,-457 1414,-457 1414,-457 1420,-457 1426,-463 1426,-469 1426,-469 1426,-513 1426,-513 1426,-519 1420,-525 1414,-525\"/>\n<text text-anchor=\"middle\" x=\"1340.5\" y=\"-509.8\" font-family=\"Helvetica,sans-Serif\" font-size=\"14.00\">gini = 0.017</text>\n<text text-anchor=\"middle\" x=\"1340.5\" y=\"-494.8\" font-family=\"Helvetica,sans-Serif\" font-size=\"14.00\">samples = 716</text>\n<text text-anchor=\"middle\" x=\"1340.5\" y=\"-479.8\" font-family=\"Helvetica,sans-Serif\" font-size=\"14.00\">value = [710, 6]</text>\n<text text-anchor=\"middle\" x=\"1340.5\" y=\"-464.8\" font-family=\"Helvetica,sans-Serif\" font-size=\"14.00\">class = No_Pension_Plan</text>\n</g>\n<!-- 21&#45;&gt;22 -->\n<g id=\"edge22\" class=\"edge\">\n<title>21&#45;&gt;22</title>\n<path fill=\"none\" stroke=\"black\" d=\"M1215.21,-491C1224.86,-491 1234.76,-491 1244.54,-491\"/>\n<polygon fill=\"black\" stroke=\"black\" points=\"1244.67,-494.5 1254.67,-491 1244.67,-487.5 1244.67,-494.5\"/>\n</g>\n<!-- 23 -->\n<g id=\"node24\" class=\"node\">\n<title>23</title>\n<path fill=\"#e58139\" stroke=\"black\" d=\"M1414,-439C1414,-439 1267,-439 1267,-439 1261,-439 1255,-433 1255,-427 1255,-427 1255,-383 1255,-383 1255,-377 1261,-371 1267,-371 1267,-371 1414,-371 1414,-371 1420,-371 1426,-377 1426,-383 1426,-383 1426,-427 1426,-427 1426,-433 1420,-439 1414,-439\"/>\n<text text-anchor=\"middle\" x=\"1340.5\" y=\"-423.8\" font-family=\"Helvetica,sans-Serif\" font-size=\"14.00\">gini = 0.0</text>\n<text text-anchor=\"middle\" x=\"1340.5\" y=\"-408.8\" font-family=\"Helvetica,sans-Serif\" font-size=\"14.00\">samples = 1009</text>\n<text text-anchor=\"middle\" x=\"1340.5\" y=\"-393.8\" font-family=\"Helvetica,sans-Serif\" font-size=\"14.00\">value = [1009, 0]</text>\n<text text-anchor=\"middle\" x=\"1340.5\" y=\"-378.8\" font-family=\"Helvetica,sans-Serif\" font-size=\"14.00\">class = No_Pension_Plan</text>\n</g>\n<!-- 21&#45;&gt;23 -->\n<g id=\"edge23\" class=\"edge\">\n<title>21&#45;&gt;23</title>\n<path fill=\"none\" stroke=\"black\" d=\"M1215.21,-456.14C1225.8,-451.79 1236.67,-447.31 1247.36,-442.91\"/>\n<polygon fill=\"black\" stroke=\"black\" points=\"1248.79,-446.11 1256.71,-439.07 1246.13,-439.64 1248.79,-446.11\"/>\n</g>\n<!-- 25 -->\n<g id=\"node26\" class=\"node\">\n<title>25</title>\n<path fill=\"#e6843e\" stroke=\"black\" d=\"M1203,-431C1203,-431 1056,-431 1056,-431 1050,-431 1044,-425 1044,-419 1044,-419 1044,-375 1044,-375 1044,-369 1050,-363 1056,-363 1056,-363 1203,-363 1203,-363 1209,-363 1215,-369 1215,-375 1215,-375 1215,-419 1215,-419 1215,-425 1209,-431 1203,-431\"/>\n<text text-anchor=\"middle\" x=\"1129.5\" y=\"-415.8\" font-family=\"Helvetica,sans-Serif\" font-size=\"14.00\">gini = 0.048</text>\n<text text-anchor=\"middle\" x=\"1129.5\" y=\"-400.8\" font-family=\"Helvetica,sans-Serif\" font-size=\"14.00\">samples = 528</text>\n<text text-anchor=\"middle\" x=\"1129.5\" y=\"-385.8\" font-family=\"Helvetica,sans-Serif\" font-size=\"14.00\">value = [515, 13]</text>\n<text text-anchor=\"middle\" x=\"1129.5\" y=\"-370.8\" font-family=\"Helvetica,sans-Serif\" font-size=\"14.00\">class = No_Pension_Plan</text>\n</g>\n<!-- 24&#45;&gt;25 -->\n<g id=\"edge25\" class=\"edge\">\n<title>24&#45;&gt;25</title>\n<path fill=\"none\" stroke=\"black\" d=\"M1001.5,-394.6C1012.05,-394.8 1022.9,-395 1033.59,-395.21\"/>\n<polygon fill=\"black\" stroke=\"black\" points=\"1033.72,-398.71 1043.79,-395.4 1033.85,-391.71 1033.72,-398.71\"/>\n</g>\n<!-- 26 -->\n<g id=\"node27\" class=\"node\">\n<title>26</title>\n<path fill=\"#e5833c\" stroke=\"black\" d=\"M1203,-345C1203,-345 1056,-345 1056,-345 1050,-345 1044,-339 1044,-333 1044,-333 1044,-289 1044,-289 1044,-283 1050,-277 1056,-277 1056,-277 1203,-277 1203,-277 1209,-277 1215,-283 1215,-289 1215,-289 1215,-333 1215,-333 1215,-339 1209,-345 1203,-345\"/>\n<text text-anchor=\"middle\" x=\"1129.5\" y=\"-329.8\" font-family=\"Helvetica,sans-Serif\" font-size=\"14.00\">gini = 0.031</text>\n<text text-anchor=\"middle\" x=\"1129.5\" y=\"-314.8\" font-family=\"Helvetica,sans-Serif\" font-size=\"14.00\">samples = 514</text>\n<text text-anchor=\"middle\" x=\"1129.5\" y=\"-299.8\" font-family=\"Helvetica,sans-Serif\" font-size=\"14.00\">value = [506, 8]</text>\n<text text-anchor=\"middle\" x=\"1129.5\" y=\"-284.8\" font-family=\"Helvetica,sans-Serif\" font-size=\"14.00\">class = No_Pension_Plan</text>\n</g>\n<!-- 24&#45;&gt;26 -->\n<g id=\"edge26\" class=\"edge\">\n<title>24&#45;&gt;26</title>\n<path fill=\"none\" stroke=\"black\" d=\"M1001.5,-360.24C1012.27,-356.06 1023.34,-351.77 1034.25,-347.54\"/>\n<polygon fill=\"black\" stroke=\"black\" points=\"1035.73,-350.72 1043.79,-343.84 1033.2,-344.2 1035.73,-350.72\"/>\n</g>\n<!-- 28 -->\n<g id=\"node29\" class=\"node\">\n<title>28</title>\n<path fill=\"#e68742\" stroke=\"black\" d=\"M780,-258.5C780,-258.5 633,-258.5 633,-258.5 627,-258.5 621,-252.5 621,-246.5 621,-246.5 621,-187.5 621,-187.5 621,-181.5 627,-175.5 633,-175.5 633,-175.5 780,-175.5 780,-175.5 786,-175.5 792,-181.5 792,-187.5 792,-187.5 792,-246.5 792,-246.5 792,-252.5 786,-258.5 780,-258.5\"/>\n<text text-anchor=\"middle\" x=\"706.5\" y=\"-243.3\" font-family=\"Helvetica,sans-Serif\" font-size=\"14.00\">age &lt;= 48.5</text>\n<text text-anchor=\"middle\" x=\"706.5\" y=\"-228.3\" font-family=\"Helvetica,sans-Serif\" font-size=\"14.00\">gini = 0.08</text>\n<text text-anchor=\"middle\" x=\"706.5\" y=\"-213.3\" font-family=\"Helvetica,sans-Serif\" font-size=\"14.00\">samples = 9132</text>\n<text text-anchor=\"middle\" x=\"706.5\" y=\"-198.3\" font-family=\"Helvetica,sans-Serif\" font-size=\"14.00\">value = [8750, 382]</text>\n<text text-anchor=\"middle\" x=\"706.5\" y=\"-183.3\" font-family=\"Helvetica,sans-Serif\" font-size=\"14.00\">class = No_Pension_Plan</text>\n</g>\n<!-- 27&#45;&gt;28 -->\n<g id=\"edge28\" class=\"edge\">\n<title>27&#45;&gt;28</title>\n<path fill=\"none\" stroke=\"black\" d=\"M585.06,-217C593.55,-217 602.2,-217 610.78,-217\"/>\n<polygon fill=\"black\" stroke=\"black\" points=\"610.8,-220.5 620.8,-217 610.8,-213.5 610.8,-220.5\"/>\n</g>\n<!-- 37 -->\n<g id=\"node38\" class=\"node\">\n<title>37</title>\n<path fill=\"#b0d8f5\" stroke=\"black\" d=\"M767.5,-157C767.5,-157 645.5,-157 645.5,-157 639.5,-157 633.5,-151 633.5,-145 633.5,-145 633.5,-101 633.5,-101 633.5,-95 639.5,-89 645.5,-89 645.5,-89 767.5,-89 767.5,-89 773.5,-89 779.5,-95 779.5,-101 779.5,-101 779.5,-145 779.5,-145 779.5,-151 773.5,-157 767.5,-157\"/>\n<text text-anchor=\"middle\" x=\"706.5\" y=\"-141.8\" font-family=\"Helvetica,sans-Serif\" font-size=\"14.00\">gini = 0.469</text>\n<text text-anchor=\"middle\" x=\"706.5\" y=\"-126.8\" font-family=\"Helvetica,sans-Serif\" font-size=\"14.00\">samples = 640</text>\n<text text-anchor=\"middle\" x=\"706.5\" y=\"-111.8\" font-family=\"Helvetica,sans-Serif\" font-size=\"14.00\">value = [240, 400]</text>\n<text text-anchor=\"middle\" x=\"706.5\" y=\"-96.8\" font-family=\"Helvetica,sans-Serif\" font-size=\"14.00\">class = Pension_Plan</text>\n</g>\n<!-- 27&#45;&gt;37 -->\n<g id=\"edge37\" class=\"edge\">\n<title>27&#45;&gt;37</title>\n<path fill=\"none\" stroke=\"black\" d=\"M585.06,-178.22C597.93,-172.32 611.19,-166.24 623.99,-160.37\"/>\n<polygon fill=\"black\" stroke=\"black\" points=\"625.59,-163.49 633.22,-156.14 622.67,-157.13 625.59,-163.49\"/>\n</g>\n<!-- 29 -->\n<g id=\"node30\" class=\"node\">\n<title>29</title>\n<path fill=\"#e68540\" stroke=\"black\" d=\"M989.5,-258.5C989.5,-258.5 842.5,-258.5 842.5,-258.5 836.5,-258.5 830.5,-252.5 830.5,-246.5 830.5,-246.5 830.5,-187.5 830.5,-187.5 830.5,-181.5 836.5,-175.5 842.5,-175.5 842.5,-175.5 989.5,-175.5 989.5,-175.5 995.5,-175.5 1001.5,-181.5 1001.5,-187.5 1001.5,-187.5 1001.5,-246.5 1001.5,-246.5 1001.5,-252.5 995.5,-258.5 989.5,-258.5\"/>\n<text text-anchor=\"middle\" x=\"916\" y=\"-243.3\" font-family=\"Helvetica,sans-Serif\" font-size=\"14.00\">age &lt;= 23.5</text>\n<text text-anchor=\"middle\" x=\"916\" y=\"-228.3\" font-family=\"Helvetica,sans-Serif\" font-size=\"14.00\">gini = 0.066</text>\n<text text-anchor=\"middle\" x=\"916\" y=\"-213.3\" font-family=\"Helvetica,sans-Serif\" font-size=\"14.00\">samples = 8220</text>\n<text text-anchor=\"middle\" x=\"916\" y=\"-198.3\" font-family=\"Helvetica,sans-Serif\" font-size=\"14.00\">value = [7939, 281]</text>\n<text text-anchor=\"middle\" x=\"916\" y=\"-183.3\" font-family=\"Helvetica,sans-Serif\" font-size=\"14.00\">class = No_Pension_Plan</text>\n</g>\n<!-- 28&#45;&gt;29 -->\n<g id=\"edge29\" class=\"edge\">\n<title>28&#45;&gt;29</title>\n<path fill=\"none\" stroke=\"black\" d=\"M792.2,-217C801.41,-217 810.84,-217 820.17,-217\"/>\n<polygon fill=\"black\" stroke=\"black\" points=\"820.24,-220.5 830.24,-217 820.24,-213.5 820.24,-220.5\"/>\n</g>\n<!-- 36 -->\n<g id=\"node37\" class=\"node\">\n<title>36</title>\n<path fill=\"#e89152\" stroke=\"black\" d=\"M989.5,-157C989.5,-157 842.5,-157 842.5,-157 836.5,-157 830.5,-151 830.5,-145 830.5,-145 830.5,-101 830.5,-101 830.5,-95 836.5,-89 842.5,-89 842.5,-89 989.5,-89 989.5,-89 995.5,-89 1001.5,-95 1001.5,-101 1001.5,-101 1001.5,-145 1001.5,-145 1001.5,-151 995.5,-157 989.5,-157\"/>\n<text text-anchor=\"middle\" x=\"916\" y=\"-141.8\" font-family=\"Helvetica,sans-Serif\" font-size=\"14.00\">gini = 0.197</text>\n<text text-anchor=\"middle\" x=\"916\" y=\"-126.8\" font-family=\"Helvetica,sans-Serif\" font-size=\"14.00\">samples = 912</text>\n<text text-anchor=\"middle\" x=\"916\" y=\"-111.8\" font-family=\"Helvetica,sans-Serif\" font-size=\"14.00\">value = [811, 101]</text>\n<text text-anchor=\"middle\" x=\"916\" y=\"-96.8\" font-family=\"Helvetica,sans-Serif\" font-size=\"14.00\">class = No_Pension_Plan</text>\n</g>\n<!-- 28&#45;&gt;36 -->\n<g id=\"edge36\" class=\"edge\">\n<title>28&#45;&gt;36</title>\n<path fill=\"none\" stroke=\"black\" d=\"M792.2,-178.63C804.91,-172.87 818.02,-166.93 830.73,-161.18\"/>\n<polygon fill=\"black\" stroke=\"black\" points=\"832.23,-164.34 839.9,-157.02 829.34,-157.96 832.23,-164.34\"/>\n</g>\n<!-- 30 -->\n<g id=\"node31\" class=\"node\">\n<title>30</title>\n<path fill=\"#e78946\" stroke=\"black\" d=\"M1207,-258.5C1207,-258.5 1052,-258.5 1052,-258.5 1046,-258.5 1040,-252.5 1040,-246.5 1040,-246.5 1040,-187.5 1040,-187.5 1040,-181.5 1046,-175.5 1052,-175.5 1052,-175.5 1207,-175.5 1207,-175.5 1213,-175.5 1219,-181.5 1219,-187.5 1219,-187.5 1219,-246.5 1219,-246.5 1219,-252.5 1213,-258.5 1207,-258.5\"/>\n<text text-anchor=\"middle\" x=\"1129.5\" y=\"-243.3\" font-family=\"Helvetica,sans-Serif\" font-size=\"14.00\">entry_channel_KHE &lt;= 0.5</text>\n<text text-anchor=\"middle\" x=\"1129.5\" y=\"-228.3\" font-family=\"Helvetica,sans-Serif\" font-size=\"14.00\">gini = 0.117</text>\n<text text-anchor=\"middle\" x=\"1129.5\" y=\"-213.3\" font-family=\"Helvetica,sans-Serif\" font-size=\"14.00\">samples = 1449</text>\n<text text-anchor=\"middle\" x=\"1129.5\" y=\"-198.3\" font-family=\"Helvetica,sans-Serif\" font-size=\"14.00\">value = [1359, 90]</text>\n<text text-anchor=\"middle\" x=\"1129.5\" y=\"-183.3\" font-family=\"Helvetica,sans-Serif\" font-size=\"14.00\">class = No_Pension_Plan</text>\n</g>\n<!-- 29&#45;&gt;30 -->\n<g id=\"edge30\" class=\"edge\">\n<title>29&#45;&gt;30</title>\n<path fill=\"none\" stroke=\"black\" d=\"M1001.5,-217C1010.8,-217 1020.32,-217 1029.77,-217\"/>\n<polygon fill=\"black\" stroke=\"black\" points=\"1029.98,-220.5 1039.98,-217 1029.98,-213.5 1029.98,-220.5\"/>\n</g>\n<!-- 33 -->\n<g id=\"node34\" class=\"node\">\n<title>33</title>\n<path fill=\"#e6853f\" stroke=\"black\" d=\"M1203,-157.5C1203,-157.5 1056,-157.5 1056,-157.5 1050,-157.5 1044,-151.5 1044,-145.5 1044,-145.5 1044,-86.5 1044,-86.5 1044,-80.5 1050,-74.5 1056,-74.5 1056,-74.5 1203,-74.5 1203,-74.5 1209,-74.5 1215,-80.5 1215,-86.5 1215,-86.5 1215,-145.5 1215,-145.5 1215,-151.5 1209,-157.5 1203,-157.5\"/>\n<text text-anchor=\"middle\" x=\"1129.5\" y=\"-142.3\" font-family=\"Helvetica,sans-Serif\" font-size=\"14.00\">age &lt;= 36.5</text>\n<text text-anchor=\"middle\" x=\"1129.5\" y=\"-127.3\" font-family=\"Helvetica,sans-Serif\" font-size=\"14.00\">gini = 0.055</text>\n<text text-anchor=\"middle\" x=\"1129.5\" y=\"-112.3\" font-family=\"Helvetica,sans-Serif\" font-size=\"14.00\">samples = 6771</text>\n<text text-anchor=\"middle\" x=\"1129.5\" y=\"-97.3\" font-family=\"Helvetica,sans-Serif\" font-size=\"14.00\">value = [6580, 191]</text>\n<text text-anchor=\"middle\" x=\"1129.5\" y=\"-82.3\" font-family=\"Helvetica,sans-Serif\" font-size=\"14.00\">class = No_Pension_Plan</text>\n</g>\n<!-- 29&#45;&gt;33 -->\n<g id=\"edge33\" class=\"edge\">\n<title>29&#45;&gt;33</title>\n<path fill=\"none\" stroke=\"black\" d=\"M1001.5,-176.65C1012.38,-171.45 1023.57,-166.11 1034.58,-160.85\"/>\n<polygon fill=\"black\" stroke=\"black\" points=\"1036.27,-163.92 1043.79,-156.45 1033.25,-157.61 1036.27,-163.92\"/>\n</g>\n<!-- 31 -->\n<g id=\"node32\" class=\"node\">\n<title>31</title>\n<path fill=\"#e78c4b\" stroke=\"black\" d=\"M1414,-330C1414,-330 1267,-330 1267,-330 1261,-330 1255,-324 1255,-318 1255,-318 1255,-274 1255,-274 1255,-268 1261,-262 1267,-262 1267,-262 1414,-262 1414,-262 1420,-262 1426,-268 1426,-274 1426,-274 1426,-318 1426,-318 1426,-324 1420,-330 1414,-330\"/>\n<text text-anchor=\"middle\" x=\"1340.5\" y=\"-314.8\" font-family=\"Helvetica,sans-Serif\" font-size=\"14.00\">gini = 0.15</text>\n<text text-anchor=\"middle\" x=\"1340.5\" y=\"-299.8\" font-family=\"Helvetica,sans-Serif\" font-size=\"14.00\">samples = 602</text>\n<text text-anchor=\"middle\" x=\"1340.5\" y=\"-284.8\" font-family=\"Helvetica,sans-Serif\" font-size=\"14.00\">value = [553, 49]</text>\n<text text-anchor=\"middle\" x=\"1340.5\" y=\"-269.8\" font-family=\"Helvetica,sans-Serif\" font-size=\"14.00\">class = No_Pension_Plan</text>\n</g>\n<!-- 30&#45;&gt;31 -->\n<g id=\"edge31\" class=\"edge\">\n<title>30&#45;&gt;31</title>\n<path fill=\"none\" stroke=\"black\" d=\"M1219.13,-250.5C1227.8,-253.78 1236.6,-257.11 1245.32,-260.4\"/>\n<polygon fill=\"black\" stroke=\"black\" points=\"1244.13,-263.69 1254.72,-263.95 1246.61,-257.15 1244.13,-263.69\"/>\n</g>\n<!-- 32 -->\n<g id=\"node33\" class=\"node\">\n<title>32</title>\n<path fill=\"#e68743\" stroke=\"black\" d=\"M1414,-244C1414,-244 1267,-244 1267,-244 1261,-244 1255,-238 1255,-232 1255,-232 1255,-188 1255,-188 1255,-182 1261,-176 1267,-176 1267,-176 1414,-176 1414,-176 1420,-176 1426,-182 1426,-188 1426,-188 1426,-232 1426,-232 1426,-238 1420,-244 1414,-244\"/>\n<text text-anchor=\"middle\" x=\"1340.5\" y=\"-228.8\" font-family=\"Helvetica,sans-Serif\" font-size=\"14.00\">gini = 0.092</text>\n<text text-anchor=\"middle\" x=\"1340.5\" y=\"-213.8\" font-family=\"Helvetica,sans-Serif\" font-size=\"14.00\">samples = 847</text>\n<text text-anchor=\"middle\" x=\"1340.5\" y=\"-198.8\" font-family=\"Helvetica,sans-Serif\" font-size=\"14.00\">value = [806, 41]</text>\n<text text-anchor=\"middle\" x=\"1340.5\" y=\"-183.8\" font-family=\"Helvetica,sans-Serif\" font-size=\"14.00\">class = No_Pension_Plan</text>\n</g>\n<!-- 30&#45;&gt;32 -->\n<g id=\"edge32\" class=\"edge\">\n<title>30&#45;&gt;32</title>\n<path fill=\"none\" stroke=\"black\" d=\"M1219.13,-214.03C1227.52,-213.75 1236.04,-213.47 1244.48,-213.18\"/>\n<polygon fill=\"black\" stroke=\"black\" points=\"1244.85,-216.67 1254.72,-212.84 1244.61,-209.68 1244.85,-216.67\"/>\n</g>\n<!-- 34 -->\n<g id=\"node35\" class=\"node\">\n<title>34</title>\n<path fill=\"#e5833d\" stroke=\"black\" d=\"M1414,-154C1414,-154 1267,-154 1267,-154 1261,-154 1255,-148 1255,-142 1255,-142 1255,-98 1255,-98 1255,-92 1261,-86 1267,-86 1267,-86 1414,-86 1414,-86 1420,-86 1426,-92 1426,-98 1426,-98 1426,-142 1426,-142 1426,-148 1420,-154 1414,-154\"/>\n<text text-anchor=\"middle\" x=\"1340.5\" y=\"-138.8\" font-family=\"Helvetica,sans-Serif\" font-size=\"14.00\">gini = 0.037</text>\n<text text-anchor=\"middle\" x=\"1340.5\" y=\"-123.8\" font-family=\"Helvetica,sans-Serif\" font-size=\"14.00\">samples = 4411</text>\n<text text-anchor=\"middle\" x=\"1340.5\" y=\"-108.8\" font-family=\"Helvetica,sans-Serif\" font-size=\"14.00\">value = [4328, 83]</text>\n<text text-anchor=\"middle\" x=\"1340.5\" y=\"-93.8\" font-family=\"Helvetica,sans-Serif\" font-size=\"14.00\">class = No_Pension_Plan</text>\n</g>\n<!-- 33&#45;&gt;34 -->\n<g id=\"edge34\" class=\"edge\">\n<title>33&#45;&gt;34</title>\n<path fill=\"none\" stroke=\"black\" d=\"M1215.21,-117.62C1224.86,-117.81 1234.76,-118 1244.54,-118.18\"/>\n<polygon fill=\"black\" stroke=\"black\" points=\"1244.61,-121.68 1254.67,-118.38 1244.74,-114.69 1244.61,-121.68\"/>\n</g>\n<!-- 35 -->\n<g id=\"node36\" class=\"node\">\n<title>35</title>\n<path fill=\"#e68742\" stroke=\"black\" d=\"M1414,-68C1414,-68 1267,-68 1267,-68 1261,-68 1255,-62 1255,-56 1255,-56 1255,-12 1255,-12 1255,-6 1261,0 1267,0 1267,0 1414,0 1414,0 1420,0 1426,-6 1426,-12 1426,-12 1426,-56 1426,-56 1426,-62 1420,-68 1414,-68\"/>\n<text text-anchor=\"middle\" x=\"1340.5\" y=\"-52.8\" font-family=\"Helvetica,sans-Serif\" font-size=\"14.00\">gini = 0.087</text>\n<text text-anchor=\"middle\" x=\"1340.5\" y=\"-37.8\" font-family=\"Helvetica,sans-Serif\" font-size=\"14.00\">samples = 2360</text>\n<text text-anchor=\"middle\" x=\"1340.5\" y=\"-22.8\" font-family=\"Helvetica,sans-Serif\" font-size=\"14.00\">value = [2252, 108]</text>\n<text text-anchor=\"middle\" x=\"1340.5\" y=\"-7.8\" font-family=\"Helvetica,sans-Serif\" font-size=\"14.00\">class = No_Pension_Plan</text>\n</g>\n<!-- 33&#45;&gt;35 -->\n<g id=\"edge35\" class=\"edge\">\n<title>33&#45;&gt;35</title>\n<path fill=\"none\" stroke=\"black\" d=\"M1215.21,-82.77C1225.07,-78.9 1235.17,-74.93 1245.15,-71.02\"/>\n<polygon fill=\"black\" stroke=\"black\" points=\"1246.64,-74.19 1254.67,-67.28 1244.08,-67.68 1246.64,-74.19\"/>\n</g>\n</g>\n</svg>\n",
            "text/plain": [
              "<graphviz.sources.Source at 0x7f082bc9fc10>"
            ]
          },
          "metadata": {},
          "execution_count": 267
        }
      ]
    },
    {
      "cell_type": "code",
      "source": [
        "#generamos predicciones y evaluamos el modelo\n",
        "y_test_pred = pd.DataFrame(dt.predict(X_test),index=y_test.index,columns=['pension_plan_prediction'])"
      ],
      "metadata": {
        "id": "C0sxYTniSai6"
      },
      "execution_count": 270,
      "outputs": []
    },
    {
      "cell_type": "code",
      "source": [
        "#join de y_test y y_test_pred para comparar el resultado real con la predicción\n",
        "result_df=y_test.join(y_test_pred,how='inner')"
      ],
      "metadata": {
        "id": "IP0x6GNmSagd"
      },
      "execution_count": 271,
      "outputs": []
    },
    {
      "cell_type": "code",
      "source": [
        "result_df['Success']=(result_df['pension_plan']==result_df['pension_plan_prediction']).astype(int)"
      ],
      "metadata": {
        "id": "sDaZXANdSaA7"
      },
      "execution_count": 272,
      "outputs": []
    },
    {
      "cell_type": "code",
      "source": [
        "result_df.head(20)"
      ],
      "metadata": {
        "id": "za1o7X0RS4nX",
        "outputId": "b2b992b6-4d0e-48c3-a0f9-a3df809decd5",
        "colab": {
          "base_uri": "https://localhost:8080/",
          "height": 708
        }
      },
      "execution_count": 273,
      "outputs": [
        {
          "output_type": "execute_result",
          "data": {
            "text/plain": [
              "                          pension_plan  pension_plan_prediction  Success\n",
              "customer_ID partition_ID                                                \n",
              "1065960     2018-03                  0                        0        1\n",
              "1487879     2018-10                  0                        0        1\n",
              "1496064     2019-04                  0                        0        1\n",
              "1412702     2019-04                  0                        0        1\n",
              "1178685     2019-01                  0                        0        1\n",
              "1507351     2019-01                  0                        0        1\n",
              "1286856     2019-04                  0                        0        1\n",
              "1097652     2018-02                  0                        0        1\n",
              "1346461     2018-02                  0                        0        1\n",
              "1410559     2019-01                  0                        0        1\n",
              "1071919     2018-07                  0                        0        1\n",
              "1076595     2018-11                  0                        0        1\n",
              "1001499     2019-03                  0                        0        1\n",
              "1050731     2018-10                  0                        0        1\n",
              "1046694     2018-01                  0                        0        1\n",
              "1162452     2018-08                  0                        0        1\n",
              "1192437     2018-04                  0                        0        1\n",
              "1180226     2019-01                  0                        0        1\n",
              "1219080     2019-03                  0                        0        1\n",
              "1294101     2018-01                  0                        0        1"
            ],
            "text/html": [
              "\n",
              "  <div id=\"df-43d68f48-a66e-4213-b890-157c25f37787\">\n",
              "    <div class=\"colab-df-container\">\n",
              "      <div>\n",
              "<style scoped>\n",
              "    .dataframe tbody tr th:only-of-type {\n",
              "        vertical-align: middle;\n",
              "    }\n",
              "\n",
              "    .dataframe tbody tr th {\n",
              "        vertical-align: top;\n",
              "    }\n",
              "\n",
              "    .dataframe thead th {\n",
              "        text-align: right;\n",
              "    }\n",
              "</style>\n",
              "<table border=\"1\" class=\"dataframe\">\n",
              "  <thead>\n",
              "    <tr style=\"text-align: right;\">\n",
              "      <th></th>\n",
              "      <th></th>\n",
              "      <th>pension_plan</th>\n",
              "      <th>pension_plan_prediction</th>\n",
              "      <th>Success</th>\n",
              "    </tr>\n",
              "    <tr>\n",
              "      <th>customer_ID</th>\n",
              "      <th>partition_ID</th>\n",
              "      <th></th>\n",
              "      <th></th>\n",
              "      <th></th>\n",
              "    </tr>\n",
              "  </thead>\n",
              "  <tbody>\n",
              "    <tr>\n",
              "      <th>1065960</th>\n",
              "      <th>2018-03</th>\n",
              "      <td>0</td>\n",
              "      <td>0</td>\n",
              "      <td>1</td>\n",
              "    </tr>\n",
              "    <tr>\n",
              "      <th>1487879</th>\n",
              "      <th>2018-10</th>\n",
              "      <td>0</td>\n",
              "      <td>0</td>\n",
              "      <td>1</td>\n",
              "    </tr>\n",
              "    <tr>\n",
              "      <th>1496064</th>\n",
              "      <th>2019-04</th>\n",
              "      <td>0</td>\n",
              "      <td>0</td>\n",
              "      <td>1</td>\n",
              "    </tr>\n",
              "    <tr>\n",
              "      <th>1412702</th>\n",
              "      <th>2019-04</th>\n",
              "      <td>0</td>\n",
              "      <td>0</td>\n",
              "      <td>1</td>\n",
              "    </tr>\n",
              "    <tr>\n",
              "      <th>1178685</th>\n",
              "      <th>2019-01</th>\n",
              "      <td>0</td>\n",
              "      <td>0</td>\n",
              "      <td>1</td>\n",
              "    </tr>\n",
              "    <tr>\n",
              "      <th>1507351</th>\n",
              "      <th>2019-01</th>\n",
              "      <td>0</td>\n",
              "      <td>0</td>\n",
              "      <td>1</td>\n",
              "    </tr>\n",
              "    <tr>\n",
              "      <th>1286856</th>\n",
              "      <th>2019-04</th>\n",
              "      <td>0</td>\n",
              "      <td>0</td>\n",
              "      <td>1</td>\n",
              "    </tr>\n",
              "    <tr>\n",
              "      <th>1097652</th>\n",
              "      <th>2018-02</th>\n",
              "      <td>0</td>\n",
              "      <td>0</td>\n",
              "      <td>1</td>\n",
              "    </tr>\n",
              "    <tr>\n",
              "      <th>1346461</th>\n",
              "      <th>2018-02</th>\n",
              "      <td>0</td>\n",
              "      <td>0</td>\n",
              "      <td>1</td>\n",
              "    </tr>\n",
              "    <tr>\n",
              "      <th>1410559</th>\n",
              "      <th>2019-01</th>\n",
              "      <td>0</td>\n",
              "      <td>0</td>\n",
              "      <td>1</td>\n",
              "    </tr>\n",
              "    <tr>\n",
              "      <th>1071919</th>\n",
              "      <th>2018-07</th>\n",
              "      <td>0</td>\n",
              "      <td>0</td>\n",
              "      <td>1</td>\n",
              "    </tr>\n",
              "    <tr>\n",
              "      <th>1076595</th>\n",
              "      <th>2018-11</th>\n",
              "      <td>0</td>\n",
              "      <td>0</td>\n",
              "      <td>1</td>\n",
              "    </tr>\n",
              "    <tr>\n",
              "      <th>1001499</th>\n",
              "      <th>2019-03</th>\n",
              "      <td>0</td>\n",
              "      <td>0</td>\n",
              "      <td>1</td>\n",
              "    </tr>\n",
              "    <tr>\n",
              "      <th>1050731</th>\n",
              "      <th>2018-10</th>\n",
              "      <td>0</td>\n",
              "      <td>0</td>\n",
              "      <td>1</td>\n",
              "    </tr>\n",
              "    <tr>\n",
              "      <th>1046694</th>\n",
              "      <th>2018-01</th>\n",
              "      <td>0</td>\n",
              "      <td>0</td>\n",
              "      <td>1</td>\n",
              "    </tr>\n",
              "    <tr>\n",
              "      <th>1162452</th>\n",
              "      <th>2018-08</th>\n",
              "      <td>0</td>\n",
              "      <td>0</td>\n",
              "      <td>1</td>\n",
              "    </tr>\n",
              "    <tr>\n",
              "      <th>1192437</th>\n",
              "      <th>2018-04</th>\n",
              "      <td>0</td>\n",
              "      <td>0</td>\n",
              "      <td>1</td>\n",
              "    </tr>\n",
              "    <tr>\n",
              "      <th>1180226</th>\n",
              "      <th>2019-01</th>\n",
              "      <td>0</td>\n",
              "      <td>0</td>\n",
              "      <td>1</td>\n",
              "    </tr>\n",
              "    <tr>\n",
              "      <th>1219080</th>\n",
              "      <th>2019-03</th>\n",
              "      <td>0</td>\n",
              "      <td>0</td>\n",
              "      <td>1</td>\n",
              "    </tr>\n",
              "    <tr>\n",
              "      <th>1294101</th>\n",
              "      <th>2018-01</th>\n",
              "      <td>0</td>\n",
              "      <td>0</td>\n",
              "      <td>1</td>\n",
              "    </tr>\n",
              "  </tbody>\n",
              "</table>\n",
              "</div>\n",
              "      <button class=\"colab-df-convert\" onclick=\"convertToInteractive('df-43d68f48-a66e-4213-b890-157c25f37787')\"\n",
              "              title=\"Convert this dataframe to an interactive table.\"\n",
              "              style=\"display:none;\">\n",
              "        \n",
              "  <svg xmlns=\"http://www.w3.org/2000/svg\" height=\"24px\"viewBox=\"0 0 24 24\"\n",
              "       width=\"24px\">\n",
              "    <path d=\"M0 0h24v24H0V0z\" fill=\"none\"/>\n",
              "    <path d=\"M18.56 5.44l.94 2.06.94-2.06 2.06-.94-2.06-.94-.94-2.06-.94 2.06-2.06.94zm-11 1L8.5 8.5l.94-2.06 2.06-.94-2.06-.94L8.5 2.5l-.94 2.06-2.06.94zm10 10l.94 2.06.94-2.06 2.06-.94-2.06-.94-.94-2.06-.94 2.06-2.06.94z\"/><path d=\"M17.41 7.96l-1.37-1.37c-.4-.4-.92-.59-1.43-.59-.52 0-1.04.2-1.43.59L10.3 9.45l-7.72 7.72c-.78.78-.78 2.05 0 2.83L4 21.41c.39.39.9.59 1.41.59.51 0 1.02-.2 1.41-.59l7.78-7.78 2.81-2.81c.8-.78.8-2.07 0-2.86zM5.41 20L4 18.59l7.72-7.72 1.47 1.35L5.41 20z\"/>\n",
              "  </svg>\n",
              "      </button>\n",
              "      \n",
              "  <style>\n",
              "    .colab-df-container {\n",
              "      display:flex;\n",
              "      flex-wrap:wrap;\n",
              "      gap: 12px;\n",
              "    }\n",
              "\n",
              "    .colab-df-convert {\n",
              "      background-color: #E8F0FE;\n",
              "      border: none;\n",
              "      border-radius: 50%;\n",
              "      cursor: pointer;\n",
              "      display: none;\n",
              "      fill: #1967D2;\n",
              "      height: 32px;\n",
              "      padding: 0 0 0 0;\n",
              "      width: 32px;\n",
              "    }\n",
              "\n",
              "    .colab-df-convert:hover {\n",
              "      background-color: #E2EBFA;\n",
              "      box-shadow: 0px 1px 2px rgba(60, 64, 67, 0.3), 0px 1px 3px 1px rgba(60, 64, 67, 0.15);\n",
              "      fill: #174EA6;\n",
              "    }\n",
              "\n",
              "    [theme=dark] .colab-df-convert {\n",
              "      background-color: #3B4455;\n",
              "      fill: #D2E3FC;\n",
              "    }\n",
              "\n",
              "    [theme=dark] .colab-df-convert:hover {\n",
              "      background-color: #434B5C;\n",
              "      box-shadow: 0px 1px 3px 1px rgba(0, 0, 0, 0.15);\n",
              "      filter: drop-shadow(0px 1px 2px rgba(0, 0, 0, 0.3));\n",
              "      fill: #FFFFFF;\n",
              "    }\n",
              "  </style>\n",
              "\n",
              "      <script>\n",
              "        const buttonEl =\n",
              "          document.querySelector('#df-43d68f48-a66e-4213-b890-157c25f37787 button.colab-df-convert');\n",
              "        buttonEl.style.display =\n",
              "          google.colab.kernel.accessAllowed ? 'block' : 'none';\n",
              "\n",
              "        async function convertToInteractive(key) {\n",
              "          const element = document.querySelector('#df-43d68f48-a66e-4213-b890-157c25f37787');\n",
              "          const dataTable =\n",
              "            await google.colab.kernel.invokeFunction('convertToInteractive',\n",
              "                                                     [key], {});\n",
              "          if (!dataTable) return;\n",
              "\n",
              "          const docLinkHtml = 'Like what you see? Visit the ' +\n",
              "            '<a target=\"_blank\" href=https://colab.research.google.com/notebooks/data_table.ipynb>data table notebook</a>'\n",
              "            + ' to learn more about interactive tables.';\n",
              "          element.innerHTML = '';\n",
              "          dataTable['output_type'] = 'display_data';\n",
              "          await google.colab.output.renderOutput(dataTable, element);\n",
              "          const docLink = document.createElement('div');\n",
              "          docLink.innerHTML = docLinkHtml;\n",
              "          element.appendChild(docLink);\n",
              "        }\n",
              "      </script>\n",
              "    </div>\n",
              "  </div>\n",
              "  "
            ]
          },
          "metadata": {},
          "execution_count": 273
        }
      ]
    },
    {
      "cell_type": "code",
      "source": [
        "#Accuracy\n",
        "result_df['Success'].mean()"
      ],
      "metadata": {
        "id": "T0PwwSuTS4kt",
        "outputId": "c4568fe5-c09b-4081-9eed-aefe72702cec",
        "colab": {
          "base_uri": "https://localhost:8080/"
        }
      },
      "execution_count": 274,
      "outputs": [
        {
          "output_type": "execute_result",
          "data": {
            "text/plain": [
              "0.9984440655542202"
            ]
          },
          "metadata": {},
          "execution_count": 274
        }
      ]
    },
    {
      "cell_type": "code",
      "source": [
        "#Compruebo que el accuracy es mayor de la media del target 3,65% (modelo más tonto, que siempre predice 0, predice 96,35%)"
      ],
      "metadata": {
        "id": "zNunjcvSS4f9"
      },
      "execution_count": 255,
      "outputs": []
    },
    {
      "cell_type": "markdown",
      "source": [
        "## Confusion matrix"
      ],
      "metadata": {
        "id": "IanCuRYaVRWh"
      }
    },
    {
      "cell_type": "code",
      "source": [
        "confusion_matrix=pd.crosstab(result_df['pension_plan'],result_df['pension_plan_prediction'])"
      ],
      "metadata": {
        "id": "prQqKye4VSW4"
      },
      "execution_count": 276,
      "outputs": []
    },
    {
      "cell_type": "code",
      "source": [
        "TP=confusion_matrix.iloc[1,1]\n",
        "TN=confusion_matrix.iloc[0,0]\n",
        "FP=confusion_matrix.iloc[0,1]\n",
        "FN=confusion_matrix.iloc[1,0]"
      ],
      "metadata": {
        "id": "MRnJPS3sVTTk"
      },
      "execution_count": 277,
      "outputs": []
    },
    {
      "cell_type": "code",
      "source": [
        "confusion_matrix\n",
        "# Parece que el modelo tiende a dar más falsos positivos, pero aproximadamente está  balanceado entre FP y FN"
      ],
      "metadata": {
        "id": "WbLmBmgLVU83",
        "outputId": "c852768a-ee34-4972-80a7-8f7f27e8d95b",
        "colab": {
          "base_uri": "https://localhost:8080/",
          "height": 143
        }
      },
      "execution_count": 278,
      "outputs": [
        {
          "output_type": "execute_result",
          "data": {
            "text/plain": [
              "pension_plan_prediction       0     1\n",
              "pension_plan                         \n",
              "0                        103447    56\n",
              "1                           111  3717"
            ],
            "text/html": [
              "\n",
              "  <div id=\"df-8ee7aeb4-fc54-4aa7-ba4c-423aa2554e12\">\n",
              "    <div class=\"colab-df-container\">\n",
              "      <div>\n",
              "<style scoped>\n",
              "    .dataframe tbody tr th:only-of-type {\n",
              "        vertical-align: middle;\n",
              "    }\n",
              "\n",
              "    .dataframe tbody tr th {\n",
              "        vertical-align: top;\n",
              "    }\n",
              "\n",
              "    .dataframe thead th {\n",
              "        text-align: right;\n",
              "    }\n",
              "</style>\n",
              "<table border=\"1\" class=\"dataframe\">\n",
              "  <thead>\n",
              "    <tr style=\"text-align: right;\">\n",
              "      <th>pension_plan_prediction</th>\n",
              "      <th>0</th>\n",
              "      <th>1</th>\n",
              "    </tr>\n",
              "    <tr>\n",
              "      <th>pension_plan</th>\n",
              "      <th></th>\n",
              "      <th></th>\n",
              "    </tr>\n",
              "  </thead>\n",
              "  <tbody>\n",
              "    <tr>\n",
              "      <th>0</th>\n",
              "      <td>103447</td>\n",
              "      <td>56</td>\n",
              "    </tr>\n",
              "    <tr>\n",
              "      <th>1</th>\n",
              "      <td>111</td>\n",
              "      <td>3717</td>\n",
              "    </tr>\n",
              "  </tbody>\n",
              "</table>\n",
              "</div>\n",
              "      <button class=\"colab-df-convert\" onclick=\"convertToInteractive('df-8ee7aeb4-fc54-4aa7-ba4c-423aa2554e12')\"\n",
              "              title=\"Convert this dataframe to an interactive table.\"\n",
              "              style=\"display:none;\">\n",
              "        \n",
              "  <svg xmlns=\"http://www.w3.org/2000/svg\" height=\"24px\"viewBox=\"0 0 24 24\"\n",
              "       width=\"24px\">\n",
              "    <path d=\"M0 0h24v24H0V0z\" fill=\"none\"/>\n",
              "    <path d=\"M18.56 5.44l.94 2.06.94-2.06 2.06-.94-2.06-.94-.94-2.06-.94 2.06-2.06.94zm-11 1L8.5 8.5l.94-2.06 2.06-.94-2.06-.94L8.5 2.5l-.94 2.06-2.06.94zm10 10l.94 2.06.94-2.06 2.06-.94-2.06-.94-.94-2.06-.94 2.06-2.06.94z\"/><path d=\"M17.41 7.96l-1.37-1.37c-.4-.4-.92-.59-1.43-.59-.52 0-1.04.2-1.43.59L10.3 9.45l-7.72 7.72c-.78.78-.78 2.05 0 2.83L4 21.41c.39.39.9.59 1.41.59.51 0 1.02-.2 1.41-.59l7.78-7.78 2.81-2.81c.8-.78.8-2.07 0-2.86zM5.41 20L4 18.59l7.72-7.72 1.47 1.35L5.41 20z\"/>\n",
              "  </svg>\n",
              "      </button>\n",
              "      \n",
              "  <style>\n",
              "    .colab-df-container {\n",
              "      display:flex;\n",
              "      flex-wrap:wrap;\n",
              "      gap: 12px;\n",
              "    }\n",
              "\n",
              "    .colab-df-convert {\n",
              "      background-color: #E8F0FE;\n",
              "      border: none;\n",
              "      border-radius: 50%;\n",
              "      cursor: pointer;\n",
              "      display: none;\n",
              "      fill: #1967D2;\n",
              "      height: 32px;\n",
              "      padding: 0 0 0 0;\n",
              "      width: 32px;\n",
              "    }\n",
              "\n",
              "    .colab-df-convert:hover {\n",
              "      background-color: #E2EBFA;\n",
              "      box-shadow: 0px 1px 2px rgba(60, 64, 67, 0.3), 0px 1px 3px 1px rgba(60, 64, 67, 0.15);\n",
              "      fill: #174EA6;\n",
              "    }\n",
              "\n",
              "    [theme=dark] .colab-df-convert {\n",
              "      background-color: #3B4455;\n",
              "      fill: #D2E3FC;\n",
              "    }\n",
              "\n",
              "    [theme=dark] .colab-df-convert:hover {\n",
              "      background-color: #434B5C;\n",
              "      box-shadow: 0px 1px 3px 1px rgba(0, 0, 0, 0.15);\n",
              "      filter: drop-shadow(0px 1px 2px rgba(0, 0, 0, 0.3));\n",
              "      fill: #FFFFFF;\n",
              "    }\n",
              "  </style>\n",
              "\n",
              "      <script>\n",
              "        const buttonEl =\n",
              "          document.querySelector('#df-8ee7aeb4-fc54-4aa7-ba4c-423aa2554e12 button.colab-df-convert');\n",
              "        buttonEl.style.display =\n",
              "          google.colab.kernel.accessAllowed ? 'block' : 'none';\n",
              "\n",
              "        async function convertToInteractive(key) {\n",
              "          const element = document.querySelector('#df-8ee7aeb4-fc54-4aa7-ba4c-423aa2554e12');\n",
              "          const dataTable =\n",
              "            await google.colab.kernel.invokeFunction('convertToInteractive',\n",
              "                                                     [key], {});\n",
              "          if (!dataTable) return;\n",
              "\n",
              "          const docLinkHtml = 'Like what you see? Visit the ' +\n",
              "            '<a target=\"_blank\" href=https://colab.research.google.com/notebooks/data_table.ipynb>data table notebook</a>'\n",
              "            + ' to learn more about interactive tables.';\n",
              "          element.innerHTML = '';\n",
              "          dataTable['output_type'] = 'display_data';\n",
              "          await google.colab.output.renderOutput(dataTable, element);\n",
              "          const docLink = document.createElement('div');\n",
              "          docLink.innerHTML = docLinkHtml;\n",
              "          element.appendChild(docLink);\n",
              "        }\n",
              "      </script>\n",
              "    </div>\n",
              "  </div>\n",
              "  "
            ]
          },
          "metadata": {},
          "execution_count": 278
        }
      ]
    },
    {
      "cell_type": "code",
      "source": [
        "dt.score(X_test,y_test)"
      ],
      "metadata": {
        "id": "I0aZnAhZVdFZ",
        "outputId": "df4c33da-28e3-42ed-a3bc-d39edf382fdb",
        "colab": {
          "base_uri": "https://localhost:8080/"
        }
      },
      "execution_count": 279,
      "outputs": [
        {
          "output_type": "execute_result",
          "data": {
            "text/plain": [
              "0.9984440655542202"
            ]
          },
          "metadata": {},
          "execution_count": 279
        }
      ]
    },
    {
      "cell_type": "code",
      "source": [
        "#generamos las predicciones del dataset de test pero como probabilidades\n",
        "dt.predict_proba(X_test)"
      ],
      "metadata": {
        "id": "vlLeQMSjVeeI",
        "outputId": "8ebcba1c-0cc1-45d3-cc94-6a209abfba74",
        "colab": {
          "base_uri": "https://localhost:8080/"
        }
      },
      "execution_count": 280,
      "outputs": [
        {
          "output_type": "execute_result",
          "data": {
            "text/plain": [
              "array([[9.99983392e-01, 1.66079391e-05],\n",
              "       [9.99983392e-01, 1.66079391e-05],\n",
              "       [9.99983392e-01, 1.66079391e-05],\n",
              "       ...,\n",
              "       [9.99983392e-01, 1.66079391e-05],\n",
              "       [9.99983392e-01, 1.66079391e-05],\n",
              "       [9.99958236e-01, 4.17641163e-05]])"
            ]
          },
          "metadata": {},
          "execution_count": 280
        }
      ]
    },
    {
      "cell_type": "code",
      "source": [
        "#seleeciono las probabilidades de #1 y lo convierto en un dataframe\n",
        "y_score= pd.DataFrame(dt.predict_proba(X_test)[:,1],index=y_test.index, columns=['pension_plan_score'])"
      ],
      "metadata": {
        "id": "flaJOV0IVgWA"
      },
      "execution_count": 282,
      "outputs": []
    },
    {
      "cell_type": "code",
      "source": [
        "# lo combino con el dataframe anterior\n",
        "result_df= result_df.join(y_score)"
      ],
      "metadata": {
        "id": "3FPhwDzlVoz9"
      },
      "execution_count": 283,
      "outputs": []
    },
    {
      "cell_type": "code",
      "source": [
        "result_df.head(10)"
      ],
      "metadata": {
        "id": "Snie46cbVpxo",
        "outputId": "6f8e6745-826a-4073-964b-3735ea2ada4d",
        "colab": {
          "base_uri": "https://localhost:8080/",
          "height": 394
        }
      },
      "execution_count": 284,
      "outputs": [
        {
          "output_type": "execute_result",
          "data": {
            "text/plain": [
              "                          pension_plan  pension_plan_prediction  Success  \\\n",
              "customer_ID partition_ID                                                   \n",
              "1065960     2018-03                  0                        0        1   \n",
              "1487879     2018-10                  0                        0        1   \n",
              "1496064     2019-04                  0                        0        1   \n",
              "1412702     2019-04                  0                        0        1   \n",
              "1178685     2019-01                  0                        0        1   \n",
              "1507351     2019-01                  0                        0        1   \n",
              "1286856     2019-04                  0                        0        1   \n",
              "1097652     2018-02                  0                        0        1   \n",
              "1346461     2018-02                  0                        0        1   \n",
              "1410559     2019-01                  0                        0        1   \n",
              "\n",
              "                          pension_plan_score  \n",
              "customer_ID partition_ID                      \n",
              "1065960     2018-03                 0.000017  \n",
              "1487879     2018-10                 0.000017  \n",
              "1496064     2019-04                 0.000017  \n",
              "1412702     2019-04                 0.000017  \n",
              "1178685     2019-01                 0.000017  \n",
              "1507351     2019-01                 0.000017  \n",
              "1286856     2019-04                 0.000017  \n",
              "1097652     2018-02                 0.000017  \n",
              "1346461     2018-02                 0.000017  \n",
              "1410559     2019-01                 0.000017  "
            ],
            "text/html": [
              "\n",
              "  <div id=\"df-68cc32ff-f379-4449-8a81-a37d3168cd60\">\n",
              "    <div class=\"colab-df-container\">\n",
              "      <div>\n",
              "<style scoped>\n",
              "    .dataframe tbody tr th:only-of-type {\n",
              "        vertical-align: middle;\n",
              "    }\n",
              "\n",
              "    .dataframe tbody tr th {\n",
              "        vertical-align: top;\n",
              "    }\n",
              "\n",
              "    .dataframe thead th {\n",
              "        text-align: right;\n",
              "    }\n",
              "</style>\n",
              "<table border=\"1\" class=\"dataframe\">\n",
              "  <thead>\n",
              "    <tr style=\"text-align: right;\">\n",
              "      <th></th>\n",
              "      <th></th>\n",
              "      <th>pension_plan</th>\n",
              "      <th>pension_plan_prediction</th>\n",
              "      <th>Success</th>\n",
              "      <th>pension_plan_score</th>\n",
              "    </tr>\n",
              "    <tr>\n",
              "      <th>customer_ID</th>\n",
              "      <th>partition_ID</th>\n",
              "      <th></th>\n",
              "      <th></th>\n",
              "      <th></th>\n",
              "      <th></th>\n",
              "    </tr>\n",
              "  </thead>\n",
              "  <tbody>\n",
              "    <tr>\n",
              "      <th>1065960</th>\n",
              "      <th>2018-03</th>\n",
              "      <td>0</td>\n",
              "      <td>0</td>\n",
              "      <td>1</td>\n",
              "      <td>0.000017</td>\n",
              "    </tr>\n",
              "    <tr>\n",
              "      <th>1487879</th>\n",
              "      <th>2018-10</th>\n",
              "      <td>0</td>\n",
              "      <td>0</td>\n",
              "      <td>1</td>\n",
              "      <td>0.000017</td>\n",
              "    </tr>\n",
              "    <tr>\n",
              "      <th>1496064</th>\n",
              "      <th>2019-04</th>\n",
              "      <td>0</td>\n",
              "      <td>0</td>\n",
              "      <td>1</td>\n",
              "      <td>0.000017</td>\n",
              "    </tr>\n",
              "    <tr>\n",
              "      <th>1412702</th>\n",
              "      <th>2019-04</th>\n",
              "      <td>0</td>\n",
              "      <td>0</td>\n",
              "      <td>1</td>\n",
              "      <td>0.000017</td>\n",
              "    </tr>\n",
              "    <tr>\n",
              "      <th>1178685</th>\n",
              "      <th>2019-01</th>\n",
              "      <td>0</td>\n",
              "      <td>0</td>\n",
              "      <td>1</td>\n",
              "      <td>0.000017</td>\n",
              "    </tr>\n",
              "    <tr>\n",
              "      <th>1507351</th>\n",
              "      <th>2019-01</th>\n",
              "      <td>0</td>\n",
              "      <td>0</td>\n",
              "      <td>1</td>\n",
              "      <td>0.000017</td>\n",
              "    </tr>\n",
              "    <tr>\n",
              "      <th>1286856</th>\n",
              "      <th>2019-04</th>\n",
              "      <td>0</td>\n",
              "      <td>0</td>\n",
              "      <td>1</td>\n",
              "      <td>0.000017</td>\n",
              "    </tr>\n",
              "    <tr>\n",
              "      <th>1097652</th>\n",
              "      <th>2018-02</th>\n",
              "      <td>0</td>\n",
              "      <td>0</td>\n",
              "      <td>1</td>\n",
              "      <td>0.000017</td>\n",
              "    </tr>\n",
              "    <tr>\n",
              "      <th>1346461</th>\n",
              "      <th>2018-02</th>\n",
              "      <td>0</td>\n",
              "      <td>0</td>\n",
              "      <td>1</td>\n",
              "      <td>0.000017</td>\n",
              "    </tr>\n",
              "    <tr>\n",
              "      <th>1410559</th>\n",
              "      <th>2019-01</th>\n",
              "      <td>0</td>\n",
              "      <td>0</td>\n",
              "      <td>1</td>\n",
              "      <td>0.000017</td>\n",
              "    </tr>\n",
              "  </tbody>\n",
              "</table>\n",
              "</div>\n",
              "      <button class=\"colab-df-convert\" onclick=\"convertToInteractive('df-68cc32ff-f379-4449-8a81-a37d3168cd60')\"\n",
              "              title=\"Convert this dataframe to an interactive table.\"\n",
              "              style=\"display:none;\">\n",
              "        \n",
              "  <svg xmlns=\"http://www.w3.org/2000/svg\" height=\"24px\"viewBox=\"0 0 24 24\"\n",
              "       width=\"24px\">\n",
              "    <path d=\"M0 0h24v24H0V0z\" fill=\"none\"/>\n",
              "    <path d=\"M18.56 5.44l.94 2.06.94-2.06 2.06-.94-2.06-.94-.94-2.06-.94 2.06-2.06.94zm-11 1L8.5 8.5l.94-2.06 2.06-.94-2.06-.94L8.5 2.5l-.94 2.06-2.06.94zm10 10l.94 2.06.94-2.06 2.06-.94-2.06-.94-.94-2.06-.94 2.06-2.06.94z\"/><path d=\"M17.41 7.96l-1.37-1.37c-.4-.4-.92-.59-1.43-.59-.52 0-1.04.2-1.43.59L10.3 9.45l-7.72 7.72c-.78.78-.78 2.05 0 2.83L4 21.41c.39.39.9.59 1.41.59.51 0 1.02-.2 1.41-.59l7.78-7.78 2.81-2.81c.8-.78.8-2.07 0-2.86zM5.41 20L4 18.59l7.72-7.72 1.47 1.35L5.41 20z\"/>\n",
              "  </svg>\n",
              "      </button>\n",
              "      \n",
              "  <style>\n",
              "    .colab-df-container {\n",
              "      display:flex;\n",
              "      flex-wrap:wrap;\n",
              "      gap: 12px;\n",
              "    }\n",
              "\n",
              "    .colab-df-convert {\n",
              "      background-color: #E8F0FE;\n",
              "      border: none;\n",
              "      border-radius: 50%;\n",
              "      cursor: pointer;\n",
              "      display: none;\n",
              "      fill: #1967D2;\n",
              "      height: 32px;\n",
              "      padding: 0 0 0 0;\n",
              "      width: 32px;\n",
              "    }\n",
              "\n",
              "    .colab-df-convert:hover {\n",
              "      background-color: #E2EBFA;\n",
              "      box-shadow: 0px 1px 2px rgba(60, 64, 67, 0.3), 0px 1px 3px 1px rgba(60, 64, 67, 0.15);\n",
              "      fill: #174EA6;\n",
              "    }\n",
              "\n",
              "    [theme=dark] .colab-df-convert {\n",
              "      background-color: #3B4455;\n",
              "      fill: #D2E3FC;\n",
              "    }\n",
              "\n",
              "    [theme=dark] .colab-df-convert:hover {\n",
              "      background-color: #434B5C;\n",
              "      box-shadow: 0px 1px 3px 1px rgba(0, 0, 0, 0.15);\n",
              "      filter: drop-shadow(0px 1px 2px rgba(0, 0, 0, 0.3));\n",
              "      fill: #FFFFFF;\n",
              "    }\n",
              "  </style>\n",
              "\n",
              "      <script>\n",
              "        const buttonEl =\n",
              "          document.querySelector('#df-68cc32ff-f379-4449-8a81-a37d3168cd60 button.colab-df-convert');\n",
              "        buttonEl.style.display =\n",
              "          google.colab.kernel.accessAllowed ? 'block' : 'none';\n",
              "\n",
              "        async function convertToInteractive(key) {\n",
              "          const element = document.querySelector('#df-68cc32ff-f379-4449-8a81-a37d3168cd60');\n",
              "          const dataTable =\n",
              "            await google.colab.kernel.invokeFunction('convertToInteractive',\n",
              "                                                     [key], {});\n",
              "          if (!dataTable) return;\n",
              "\n",
              "          const docLinkHtml = 'Like what you see? Visit the ' +\n",
              "            '<a target=\"_blank\" href=https://colab.research.google.com/notebooks/data_table.ipynb>data table notebook</a>'\n",
              "            + ' to learn more about interactive tables.';\n",
              "          element.innerHTML = '';\n",
              "          dataTable['output_type'] = 'display_data';\n",
              "          await google.colab.output.renderOutput(dataTable, element);\n",
              "          const docLink = document.createElement('div');\n",
              "          docLink.innerHTML = docLinkHtml;\n",
              "          element.appendChild(docLink);\n",
              "        }\n",
              "      </script>\n",
              "    </div>\n",
              "  </div>\n",
              "  "
            ]
          },
          "metadata": {},
          "execution_count": 284
        }
      ]
    },
    {
      "cell_type": "markdown",
      "source": [
        "## F1 Score"
      ],
      "metadata": {
        "id": "rxA_gX1sVr2C"
      }
    },
    {
      "cell_type": "code",
      "source": [
        "# Desarrollo matemático de F1Score\n",
        "Precision=TP/ (TP+FP)\n",
        "Recall= TP/(TP+FN)\n",
        "f1_score=2/(1/Precision+1/Recall)"
      ],
      "metadata": {
        "id": "fwt1BsuOVtoj"
      },
      "execution_count": 285,
      "outputs": []
    },
    {
      "cell_type": "code",
      "source": [
        "# Precision = Cuántos positivos de los que detecta realmente lo son (según la confusion matrix, la precision será algo más baja)\n",
        "# Recall alta = Cuántos positivos detecta el modelo del total"
      ],
      "metadata": {
        "id": "CsDifqr1Vuhn"
      },
      "execution_count": 286,
      "outputs": []
    },
    {
      "cell_type": "code",
      "source": [
        "Precision"
      ],
      "metadata": {
        "id": "Rio9y8LLVvTh",
        "outputId": "287df024-75c7-4484-dad4-1768c3564e80",
        "colab": {
          "base_uri": "https://localhost:8080/"
        }
      },
      "execution_count": 287,
      "outputs": [
        {
          "output_type": "execute_result",
          "data": {
            "text/plain": [
              "0.9851576994434137"
            ]
          },
          "metadata": {},
          "execution_count": 287
        }
      ]
    },
    {
      "cell_type": "code",
      "source": [
        "Recall"
      ],
      "metadata": {
        "id": "X91CgHGYVwNO",
        "outputId": "427a93c3-f3a6-4149-f847-802846bd4d2d",
        "colab": {
          "base_uri": "https://localhost:8080/"
        }
      },
      "execution_count": 289,
      "outputs": [
        {
          "output_type": "execute_result",
          "data": {
            "text/plain": [
              "0.9710031347962382"
            ]
          },
          "metadata": {},
          "execution_count": 289
        }
      ]
    },
    {
      "cell_type": "code",
      "source": [
        "metrics.f1_score(y_test,y_test_pred)"
      ],
      "metadata": {
        "id": "-givAhBtVxM1",
        "outputId": "1cf10741-c8bd-42c0-ab66-de9331068540",
        "colab": {
          "base_uri": "https://localhost:8080/"
        }
      },
      "execution_count": 288,
      "outputs": [
        {
          "output_type": "execute_result",
          "data": {
            "text/plain": [
              "0.978029206683331"
            ]
          },
          "metadata": {},
          "execution_count": 288
        }
      ]
    },
    {
      "cell_type": "markdown",
      "source": [
        "## AUC y ROC curve"
      ],
      "metadata": {
        "id": "3_ZiEMyNV0oa"
      }
    },
    {
      "cell_type": "code",
      "source": [
        "metrics.roc_auc_score(result_df['pension_plan'],result_df['pension_plan_score'])"
      ],
      "metadata": {
        "id": "2IKfny-tV0Fq",
        "outputId": "3b65a46f-c811-4037-80e1-141310d20cc7",
        "colab": {
          "base_uri": "https://localhost:8080/"
        }
      },
      "execution_count": 291,
      "outputs": [
        {
          "output_type": "execute_result",
          "data": {
            "text/plain": [
              "0.9987886748818966"
            ]
          },
          "metadata": {},
          "execution_count": 291
        }
      ]
    },
    {
      "cell_type": "code",
      "source": [
        "fpr,tpr,th=metrics.roc_curve(result_df['pension_plan'],result_df['pension_plan_score'])\n",
        "plt.plot(fpr,tpr)\n",
        "plt.plot([0,1],[0,1],linestyle='--')\n",
        "plt.xlabel('FPR')\n",
        "plt.ylabel('TPR')\n",
        "plt.title('ROC curve')\n",
        "plt.show()\n"
      ],
      "metadata": {
        "id": "Q-_QY47fV8F4",
        "outputId": "21571a0f-fa6e-4f72-bd19-e19f87b306fc",
        "colab": {
          "base_uri": "https://localhost:8080/",
          "height": 477
        }
      },
      "execution_count": 292,
      "outputs": [
        {
          "output_type": "display_data",
          "data": {
            "text/plain": [
              "<Figure size 640x480 with 1 Axes>"
            ],
            "image/png": "[encoded data removed]"
          },
          "metadata": {}
        }
      ]
    },
    {
      "cell_type": "markdown",
      "source": [
        "## Control del overfitting"
      ],
      "metadata": {
        "id": "AjyZwAI0WBoG"
      }
    },
    {
      "cell_type": "code",
      "source": [
        "for i in range(1,15):\n",
        "  #instancio el modelo\n",
        "  dt2= DecisionTreeClassifier(max_depth=i,random_state=42)\n",
        "  #entreno el modelo\n",
        "  dt2.fit(X_train,y_train)\n",
        "  #evaluo \n",
        "  acc_train = dt2.score(X_train,y_train)\n",
        "  acc_test = dt2.score(X_test,y_test)\n",
        "  print(f'Profundidad de arbol: {i}, Acc.train: {np.round(acc_train,3)},Acc.test: {np.round(acc_test,3)}')"
      ],
      "metadata": {
        "id": "6MX-RAn1WAM7",
        "outputId": "d8311248-6034-4a85-9fa4-848eb971f085",
        "colab": {
          "base_uri": "https://localhost:8080/"
        }
      },
      "execution_count": 293,
      "outputs": [
        {
          "output_type": "stream",
          "name": "stdout",
          "text": [
            "Profundidad de arbol: 1, Acc.train: 0.998,Acc.test: 0.998\n",
            "Profundidad de arbol: 2, Acc.train: 0.998,Acc.test: 0.998\n",
            "Profundidad de arbol: 3, Acc.train: 0.998,Acc.test: 0.998\n",
            "Profundidad de arbol: 4, Acc.train: 0.998,Acc.test: 0.998\n",
            "Profundidad de arbol: 5, Acc.train: 0.998,Acc.test: 0.998\n",
            "Profundidad de arbol: 6, Acc.train: 0.999,Acc.test: 0.998\n",
            "Profundidad de arbol: 7, Acc.train: 0.999,Acc.test: 0.998\n",
            "Profundidad de arbol: 8, Acc.train: 0.999,Acc.test: 0.998\n",
            "Profundidad de arbol: 9, Acc.train: 0.999,Acc.test: 0.998\n",
            "Profundidad de arbol: 10, Acc.train: 0.999,Acc.test: 0.998\n",
            "Profundidad de arbol: 11, Acc.train: 0.999,Acc.test: 0.998\n",
            "Profundidad de arbol: 12, Acc.train: 0.999,Acc.test: 0.998\n",
            "Profundidad de arbol: 13, Acc.train: 0.999,Acc.test: 0.998\n",
            "Profundidad de arbol: 14, Acc.train: 0.999,Acc.test: 0.998\n"
          ]
        }
      ]
    },
    {
      "cell_type": "code",
      "source": [
        "#puedo probar con diferent numero de observaciones en el nodo final\n",
        "for i in range(1,15):\n",
        "  dt2= DecisionTreeClassifier(max_depth=i,random_state=42,min_samples_split=500)\n",
        "  dt2.fit(X_train,y_train)\n",
        "  acc_train = dt2.score(X_train,y_train)\n",
        "  acc_test = dt2.score(X_test,y_test)\n",
        "\n",
        "\n",
        "  print(f'Profundidad de arbol: {i}, Acc.train: {np.round(acc_train,3)},Acc.test: {np.round(acc_test,3)}')"
      ],
      "metadata": {
        "id": "dCHv78_XWFeJ",
        "outputId": "9a32097b-044d-423d-e52f-69dd019ee75f",
        "colab": {
          "base_uri": "https://localhost:8080/"
        }
      },
      "execution_count": 294,
      "outputs": [
        {
          "output_type": "stream",
          "name": "stdout",
          "text": [
            "Profundidad de arbol: 1, Acc.train: 0.998,Acc.test: 0.998\n",
            "Profundidad de arbol: 2, Acc.train: 0.998,Acc.test: 0.998\n",
            "Profundidad de arbol: 3, Acc.train: 0.998,Acc.test: 0.998\n",
            "Profundidad de arbol: 4, Acc.train: 0.998,Acc.test: 0.998\n",
            "Profundidad de arbol: 5, Acc.train: 0.998,Acc.test: 0.998\n",
            "Profundidad de arbol: 6, Acc.train: 0.998,Acc.test: 0.998\n",
            "Profundidad de arbol: 7, Acc.train: 0.998,Acc.test: 0.998\n",
            "Profundidad de arbol: 8, Acc.train: 0.998,Acc.test: 0.998\n",
            "Profundidad de arbol: 9, Acc.train: 0.998,Acc.test: 0.998\n",
            "Profundidad de arbol: 10, Acc.train: 0.998,Acc.test: 0.998\n",
            "Profundidad de arbol: 11, Acc.train: 0.998,Acc.test: 0.998\n",
            "Profundidad de arbol: 12, Acc.train: 0.998,Acc.test: 0.998\n",
            "Profundidad de arbol: 13, Acc.train: 0.998,Acc.test: 0.998\n",
            "Profundidad de arbol: 14, Acc.train: 0.998,Acc.test: 0.998\n"
          ]
        }
      ]
    },
    {
      "cell_type": "markdown",
      "source": [
        "## Modelos alternativos"
      ],
      "metadata": {
        "id": "4Q6uNdh-Whn5"
      }
    },
    {
      "cell_type": "code",
      "source": [
        "from sklearn.ensemble import RandomForestClassifier"
      ],
      "metadata": {
        "id": "mswXcG1cWijQ"
      },
      "execution_count": 295,
      "outputs": []
    },
    {
      "cell_type": "code",
      "source": [
        "#Random Forest con 10 replicas\n",
        "rf = RandomForestClassifier (max_depth=11,random_state=42,min_samples_split=500,n_estimators=10)"
      ],
      "metadata": {
        "id": "M1PU-mFMWjUU"
      },
      "execution_count": 296,
      "outputs": []
    },
    {
      "cell_type": "code",
      "source": [
        "rf.fit(X_train,y_train)"
      ],
      "metadata": {
        "id": "Lm9K17M8Wks1",
        "outputId": "6ca36f0a-1c98-49bb-edfa-7851f09af254",
        "colab": {
          "base_uri": "https://localhost:8080/",
          "height": 129
        }
      },
      "execution_count": 297,
      "outputs": [
        {
          "output_type": "stream",
          "name": "stderr",
          "text": [
            "<ipython-input-297-d6d9475b85dc>:1: DataConversionWarning: A column-vector y was passed when a 1d array was expected. Please change the shape of y to (n_samples,), for example using ravel().\n",
            "  rf.fit(X_train,y_train)\n"
          ]
        },
        {
          "output_type": "execute_result",
          "data": {
            "text/plain": [
              "RandomForestClassifier(max_depth=11, min_samples_split=500, n_estimators=10,\n",
              "                       random_state=42)"
            ],
            "text/html": [
              "<style>#sk-container-id-3 {color: black;background-color: white;}#sk-container-id-3 pre{padding: 0;}#sk-container-id-3 div.sk-toggleable {background-color: white;}#sk-container-id-3 label.sk-toggleable__label {cursor: pointer;display: block;width: 100%;margin-bottom: 0;padding: 0.3em;box-sizing: border-box;text-align: center;}#sk-container-id-3 label.sk-toggleable__label-arrow:before {content: \"▸\";float: left;margin-right: 0.25em;color: #696969;}#sk-container-id-3 label.sk-toggleable__label-arrow:hover:before {color: black;}#sk-container-id-3 div.sk-estimator:hover label.sk-toggleable__label-arrow:before {color: black;}#sk-container-id-3 div.sk-toggleable__content {max-height: 0;max-width: 0;overflow: hidden;text-align: left;background-color: #f0f8ff;}#sk-container-id-3 div.sk-toggleable__content pre {margin: 0.2em;color: black;border-radius: 0.25em;background-color: #f0f8ff;}#sk-container-id-3 input.sk-toggleable__control:checked~div.sk-toggleable__content {max-height: 200px;max-width: 100%;overflow: auto;}#sk-container-id-3 input.sk-toggleable__control:checked~label.sk-toggleable__label-arrow:before {content: \"▾\";}#sk-container-id-3 div.sk-estimator input.sk-toggleable__control:checked~label.sk-toggleable__label {background-color: #d4ebff;}#sk-container-id-3 div.sk-label input.sk-toggleable__control:checked~label.sk-toggleable__label {background-color: #d4ebff;}#sk-container-id-3 input.sk-hidden--visually {border: 0;clip: rect(1px 1px 1px 1px);clip: rect(1px, 1px, 1px, 1px);height: 1px;margin: -1px;overflow: hidden;padding: 0;position: absolute;width: 1px;}#sk-container-id-3 div.sk-estimator {font-family: monospace;background-color: #f0f8ff;border: 1px dotted black;border-radius: 0.25em;box-sizing: border-box;margin-bottom: 0.5em;}#sk-container-id-3 div.sk-estimator:hover {background-color: #d4ebff;}#sk-container-id-3 div.sk-parallel-item::after {content: \"\";width: 100%;border-bottom: 1px solid gray;flex-grow: 1;}#sk-container-id-3 div.sk-label:hover label.sk-toggleable__label {background-color: #d4ebff;}#sk-container-id-3 div.sk-serial::before {content: \"\";position: absolute;border-left: 1px solid gray;box-sizing: border-box;top: 0;bottom: 0;left: 50%;z-index: 0;}#sk-container-id-3 div.sk-serial {display: flex;flex-direction: column;align-items: center;background-color: white;padding-right: 0.2em;padding-left: 0.2em;position: relative;}#sk-container-id-3 div.sk-item {position: relative;z-index: 1;}#sk-container-id-3 div.sk-parallel {display: flex;align-items: stretch;justify-content: center;background-color: white;position: relative;}#sk-container-id-3 div.sk-item::before, #sk-container-id-3 div.sk-parallel-item::before {content: \"\";position: absolute;border-left: 1px solid gray;box-sizing: border-box;top: 0;bottom: 0;left: 50%;z-index: -1;}#sk-container-id-3 div.sk-parallel-item {display: flex;flex-direction: column;z-index: 1;position: relative;background-color: white;}#sk-container-id-3 div.sk-parallel-item:first-child::after {align-self: flex-end;width: 50%;}#sk-container-id-3 div.sk-parallel-item:last-child::after {align-self: flex-start;width: 50%;}#sk-container-id-3 div.sk-parallel-item:only-child::after {width: 0;}#sk-container-id-3 div.sk-dashed-wrapped {border: 1px dashed gray;margin: 0 0.4em 0.5em 0.4em;box-sizing: border-box;padding-bottom: 0.4em;background-color: white;}#sk-container-id-3 div.sk-label label {font-family: monospace;font-weight: bold;display: inline-block;line-height: 1.2em;}#sk-container-id-3 div.sk-label-container {text-align: center;}#sk-container-id-3 div.sk-container {/* jupyter's `normalize.less` sets `[hidden] { display: none; }` but bootstrap.min.css set `[hidden] { display: none !important; }` so we also need the `!important` here to be able to override the default hidden behavior on the sphinx rendered scikit-learn.org. See: https://github.com/scikit-learn/scikit-learn/issues/21755 */display: inline-block !important;position: relative;}#sk-container-id-3 div.sk-text-repr-fallback {display: none;}</style><div id=\"sk-container-id-3\" class=\"sk-top-container\"><div class=\"sk-text-repr-fallback\"><pre>RandomForestClassifier(max_depth=11, min_samples_split=500, n_estimators=10,\n",
              "                       random_state=42)</pre><b>In a Jupyter environment, please rerun this cell to show the HTML representation or trust the notebook. <br />On GitHub, the HTML representation is unable to render, please try loading this page with nbviewer.org.</b></div><div class=\"sk-container\" hidden><div class=\"sk-item\"><div class=\"sk-estimator sk-toggleable\"><input class=\"sk-toggleable__control sk-hidden--visually\" id=\"sk-estimator-id-3\" type=\"checkbox\" checked><label for=\"sk-estimator-id-3\" class=\"sk-toggleable__label sk-toggleable__label-arrow\">RandomForestClassifier</label><div class=\"sk-toggleable__content\"><pre>RandomForestClassifier(max_depth=11, min_samples_split=500, n_estimators=10,\n",
              "                       random_state=42)</pre></div></div></div></div></div>"
            ]
          },
          "metadata": {},
          "execution_count": 297
        }
      ]
    },
    {
      "cell_type": "code",
      "source": [
        "rf.score(X_test,y_test)\n",
        "# Se pierde 1 centesima en Accuracy usando el random forest"
      ],
      "metadata": {
        "id": "CQvuUTjqWlhE",
        "outputId": "e74900fd-f517-43c6-a8cc-ebe3d713cfce",
        "colab": {
          "base_uri": "https://localhost:8080/"
        }
      },
      "execution_count": 298,
      "outputs": [
        {
          "output_type": "execute_result",
          "data": {
            "text/plain": [
              "0.9974657834176519"
            ]
          },
          "metadata": {},
          "execution_count": 298
        }
      ]
    },
    {
      "cell_type": "code",
      "source": [
        "'''Como el dataset sobre el que tiramos el modelo es lo suficientemente grande,\n",
        "el Random Forest saca una Acc muy similar. Modelos alternativos como el Random Forest o el XGBoost\n",
        "son útiles para datasets que se puedan quedar cortos en datos'''"
      ],
      "metadata": {
        "id": "8HMMisGbWw0_"
      },
      "execution_count": null,
      "outputs": []
    },
    {
      "cell_type": "markdown",
      "source": [
        "## Variables más predictivas"
      ],
      "metadata": {
        "id": "z4qJDLyyWz7f"
      }
    },
    {
      "cell_type": "code",
      "source": [
        "top_features = pd.Series(rf.feature_importances_, index=X_train.columns).sort_values(ascending=False).head(20)"
      ],
      "metadata": {
        "id": "y2lVaJydW2jv"
      },
      "execution_count": 299,
      "outputs": []
    },
    {
      "cell_type": "code",
      "source": [
        "top_features\n",
        "# Aquí vemos las variables que el modelo ha considerado como más predictivas"
      ],
      "metadata": {
        "id": "coR-TMhHW3v8",
        "outputId": "3097450b-b74f-4824-805e-828ab502672f",
        "colab": {
          "base_uri": "https://localhost:8080/"
        }
      },
      "execution_count": 300,
      "outputs": [
        {
          "output_type": "execute_result",
          "data": {
            "text/plain": [
              "payroll                       0.491183\n",
              "payroll_account               0.239741\n",
              "debit_card                    0.095719\n",
              "em_acount                     0.051384\n",
              "active_customer               0.049332\n",
              "credit_card                   0.024203\n",
              "entry_channel_KHE             0.011779\n",
              "segment_03 - UNIVERSITARIO    0.008068\n",
              "age                           0.006313\n",
              "emc_account                   0.004881\n",
              "entry_channel_RED             0.003470\n",
              "region_code_28.0              0.001752\n",
              "entry_channel_KFC             0.001574\n",
              "salary                        0.001242\n",
              "entry_month                   0.001142\n",
              "segment_02 - PARTICULARES     0.001026\n",
              "entry_year                    0.000889\n",
              "segment_01 - TOP              0.000692\n",
              "entry_channel_KFA             0.000662\n",
              "entry_channel_KHQ             0.000404\n",
              "dtype: float64"
            ]
          },
          "metadata": {},
          "execution_count": 300
        }
      ]
    }
  ]
}
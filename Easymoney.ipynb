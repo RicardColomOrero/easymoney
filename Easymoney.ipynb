{
  "nbformat": 4,
  "nbformat_minor": 0,
  "metadata": {
    "colab": {
      "provenance": [],
      "collapsed_sections": [
        "pzsmsHc1k1s4",
        "d7_Opx03k5Cb",
        "fu6F4Uj7waeR",
        "BvMxaUfLwYxC",
        "N53oY9OJoonb",
        "J9gfKL_7ow7i"
      ],
      "gpuType": "T4",
      "toc_visible": true,
      "include_colab_link": true
    },
    "kernelspec": {
      "name": "python3",
      "display_name": "Python 3"
    },
    "language_info": {
      "name": "python"
    },
    "accelerator": "GPU",
    "gpuClass": "standard"
  },
  "cells": [
    {
      "cell_type": "markdown",
      "metadata": {
        "id": "view-in-github",
        "colab_type": "text"
      },
      "source": [
        "<a href=\"https://colab.research.google.com/github/RicardColomOrero/easymoney/blob/ricard/Easymoney.ipynb\" target=\"_parent\"><img src=\"https://colab.research.google.com/assets/colab-badge.svg\" alt=\"Open In Colab\"/></a>"
      ]
    },
    {
      "cell_type": "markdown",
      "source": [
        "# ENUNCIADO CAPSTONE\n",
        "\n",
        " \n",
        "## 1.- PowerBI (Opcional)\n",
        "Hemos decidido reorientar nuestra estrategia comercial hacia el\n",
        "**aumento de la penetración de la cartera actual de productos en nuestro mercado**, con la idea de obtener una\n",
        "mejor rentabilidad de nuestra base actual de clientes (lo del cuadrante barato de la matriz de Ansoff). \n",
        "\n",
        "A cambio, reduciremos la actividad intensiva de captación que veníamos realizando desde que arrancamos. En este sentido, y para acabar de definir la estrategia, estaría genial poder tener algunos análisis que nos ayuden\n",
        "a tomar decisiones. Como te decía, ahora tenemos un autoservicio, pero esta foto simple no nos ayuda demasiado. \n",
        "Si ni siquiera sé cuantos productos hemos vendido este mes o si son los clientes nuevos quiénes contratan o los que ya teníamos!\n",
        "\n",
        "Sería genial incluso que pudieses utilizar el reciente producto adquirido\n",
        "PowerBI para **preparar unos KPI’s de lo que tenemos en la empresa**\n",
        "\n",
        "## 2.- Propensión (modelo de propensión a compra)\n",
        "\n",
        "Una vez que hayamos hecho el **análisis de nuestra BBDD nos gustaría poder vender más y mejor nuestros productos**, sé que los data scientist tienen una “bola de cristal” y saben qué clientes son más propensos a\n",
        "comprar nuestros productos así que te pido por favor hagas un **modelo de propensión a compra**, se que tenemos muchos productos, así que te **,dejo a tu criterio científico qué productos elegir, o pueden ser varios,**, ya\n",
        "me sorprenderás\n",
        "\n",
        "## 3.- Segmentación\n",
        "\n",
        "Una vez obtenido la propensión de los productos sería genial poder conocer mejor a nuestros clientes para orientar nuestra actividad comercial. Hace tiempo vengo teniendo la idea de que podríamos **segmentar la base\n",
        "de clientes en 7 u 8 grupos de clientes similares**... sería genial** identificarlos, y poder saber cómo son los clientes\n",
        "que pertenecen a estos grupos**... nos ayudaría muchísimo a la hora de definir todo nuestro plan de marketing de cara a futuro!\n",
        "\n",
        "## 4.- Caso de uso\n",
        "\n",
        "Perfecto! Tenemos las segmentaciones de clientes, tenemos las propensiones y ahora lo que nos falta es realizar\n",
        "**un caso de uso que nos permita estimar en base a una campaña X cuánto dinero podemos ganar**, \n",
        "\n",
        "¿A cuántos clientes tenemos que impactar?\n",
        "\n",
        "¿Qué productos ofrecer?\n",
        " \n",
        "¿Impactamos a todos lo segmentos indicados?\n"
      ],
      "metadata": {
        "id": "FnyES6frCHxO"
      }
    },
    {
      "cell_type": "markdown",
      "source": [
        "# Importación de librerías"
      ],
      "metadata": {
        "id": "pzsmsHc1k1s4"
      }
    },
    {
      "cell_type": "code",
      "execution_count": 1,
      "metadata": {
        "id": "uN7zDy6jkPsb",
        "outputId": "2ec48eaf-f948-4d25-cd5c-45b7adcd5654",
        "colab": {
          "base_uri": "https://localhost:8080/"
        }
      },
      "outputs": [
        {
          "output_type": "stream",
          "name": "stdout",
          "text": [
            "Drive already mounted at /content/drive; to attempt to forcibly remount, call drive.mount(\"/content/drive\", force_remount=True).\n"
          ]
        }
      ],
      "source": [
        "import sys\n",
        "import os\n",
        "\n",
        "import numpy as np\n",
        "import pandas as pd\n",
        "\n",
        "import matplotlib.pyplot as plt\n",
        "import seaborn as sns\n",
        "plt.style.use(\"ggplot\")\n",
        "\n",
        "from google.colab import files\n",
        "from google.colab import drive\n",
        "drive.mount('/content/drive')\n",
        "\n",
        "from sklearn import model_selection\n",
        "import xgboost as xgb\n",
        "\n",
        "from scipy import stats\n",
        "from datetime import datetime\n",
        "\n",
        "import random\n",
        "import json\n",
        "from pandas import json_normalize"
      ]
    },
    {
      "cell_type": "markdown",
      "source": [
        "# Importación dataset"
      ],
      "metadata": {
        "id": "d7_Opx03k5Cb"
      }
    },
    {
      "cell_type": "code",
      "source": [
        "file_dir = \"/content/drive/MyDrive/NUCLIO/TFM  Data Science/datasets_TFM_y_diccionario/\""
      ],
      "metadata": {
        "id": "loejgT7Nk83n"
      },
      "execution_count": 2,
      "outputs": []
    },
    {
      "cell_type": "code",
      "source": [
        "file_sales =\"sales.csv\"\n",
        "file_product_description =\"product_description.csv\"\n",
        "file_customer_sociodemographics =\"customer_sociodemographics.csv\"\n",
        "file_customer_commercial_activity = \"customer_commercial_activity.csv\"\n",
        "file_customer_products =\"customer_products.csv\"\n",
        "\n",
        "\n",
        "file_diccionario_tablas =\"diccionario_tablas.xlsx\""
      ],
      "metadata": {
        "id": "bospzkLCmG8h"
      },
      "execution_count": 3,
      "outputs": []
    },
    {
      "cell_type": "code",
      "source": [
        "sales_raw = pd.read_csv(file_dir + file_sales)\n",
        "product_description_raw = pd.read_csv(file_dir +file_product_description)\n",
        "customer_sociodemographics_raw = pd.read_csv(file_dir + file_customer_sociodemographics)\n",
        "customer_commercial_activity_raw = pd.read_csv(file_dir + file_customer_commercial_activity)\n",
        "customer_products_raw = pd.read_csv(file_dir + file_customer_products)\n",
        "\n",
        "diccionario_tablas_raw = pd.read_excel(file_dir + file_diccionario_tablas)"
      ],
      "metadata": {
        "id": "1bEJ4RF3mTBK"
      },
      "execution_count": 4,
      "outputs": []
    },
    {
      "cell_type": "markdown",
      "source": [
        "# 2.- DATA UNDERSTANDING"
      ],
      "metadata": {
        "id": "ML_zYOYbqxsG"
      }
    },
    {
      "cell_type": "markdown",
      "source": [
        "## 2.1.- Análisis univariante de datos"
      ],
      "metadata": {
        "id": "upiOCtZuq7oq"
      }
    },
    {
      "cell_type": "markdown",
      "source": [
        "### Sales"
      ],
      "metadata": {
        "id": "5ZB5uRK2sgLo"
      }
    },
    {
      "cell_type": "markdown",
      "source": [
        "* pk_sale: Identificador de venta - (primary key)\n",
        "* cid: Identificador de cliente - (foreing key)\n",
        "* month_sale: Mes de venta. Mes en el que se contrata un producto.\n",
        "* product_ID: Identificador de producto  - (foreing key)\n",
        "* net_margin: Margen neto generado por la venta ($)"
      ],
      "metadata": {
        "id": "9yNIvdpDs05O"
      }
    },
    {
      "cell_type": "code",
      "source": [
        "# Análisis inicial de sales\n",
        "\n",
        "sales_raw.info()"
      ],
      "metadata": {
        "colab": {
          "base_uri": "https://localhost:8080/"
        },
        "id": "VAYdx80i1N9A",
        "outputId": "c70ef29a-0364-4a42-b2bc-83728ca16ef9"
      },
      "execution_count": 5,
      "outputs": [
        {
          "output_type": "stream",
          "name": "stdout",
          "text": [
            "<class 'pandas.core.frame.DataFrame'>\n",
            "RangeIndex: 240773 entries, 0 to 240772\n",
            "Data columns (total 6 columns):\n",
            " #   Column      Non-Null Count   Dtype  \n",
            "---  ------      --------------   -----  \n",
            " 0   Unnamed: 0  240773 non-null  int64  \n",
            " 1   pk_sale     240773 non-null  int64  \n",
            " 2   cid         240773 non-null  int64  \n",
            " 3   month_sale  240773 non-null  object \n",
            " 4   product_ID  240773 non-null  int64  \n",
            " 5   net_margin  240773 non-null  float64\n",
            "dtypes: float64(1), int64(4), object(1)\n",
            "memory usage: 11.0+ MB\n"
          ]
        }
      ]
    },
    {
      "cell_type": "code",
      "source": [
        "sales_raw.head()"
      ],
      "metadata": {
        "colab": {
          "base_uri": "https://localhost:8080/",
          "height": 206
        },
        "id": "xrp0ul9d1N9A",
        "outputId": "a0088f01-595e-4376-c48a-7ff2f70723e5"
      },
      "execution_count": 6,
      "outputs": [
        {
          "output_type": "execute_result",
          "data": {
            "text/plain": [
              "   Unnamed: 0  pk_sale    cid  month_sale  product_ID  net_margin\n",
              "0           0     6666  33620  2018-05-01        2335       952.9\n",
              "1           1     6667  35063  2018-06-01        2335      1625.2\n",
              "2           2     6668  37299  2018-02-01        2335      1279.7\n",
              "3           3     6669  39997  2018-02-01        2335      1511.9\n",
              "4           4     6670  44012  2018-02-01        2335      1680.3"
            ],
            "text/html": [
              "\n",
              "  <div id=\"df-85b5b306-aadd-4add-bcd2-6f472589e6c8\">\n",
              "    <div class=\"colab-df-container\">\n",
              "      <div>\n",
              "<style scoped>\n",
              "    .dataframe tbody tr th:only-of-type {\n",
              "        vertical-align: middle;\n",
              "    }\n",
              "\n",
              "    .dataframe tbody tr th {\n",
              "        vertical-align: top;\n",
              "    }\n",
              "\n",
              "    .dataframe thead th {\n",
              "        text-align: right;\n",
              "    }\n",
              "</style>\n",
              "<table border=\"1\" class=\"dataframe\">\n",
              "  <thead>\n",
              "    <tr style=\"text-align: right;\">\n",
              "      <th></th>\n",
              "      <th>Unnamed: 0</th>\n",
              "      <th>pk_sale</th>\n",
              "      <th>cid</th>\n",
              "      <th>month_sale</th>\n",
              "      <th>product_ID</th>\n",
              "      <th>net_margin</th>\n",
              "    </tr>\n",
              "  </thead>\n",
              "  <tbody>\n",
              "    <tr>\n",
              "      <th>0</th>\n",
              "      <td>0</td>\n",
              "      <td>6666</td>\n",
              "      <td>33620</td>\n",
              "      <td>2018-05-01</td>\n",
              "      <td>2335</td>\n",
              "      <td>952.9</td>\n",
              "    </tr>\n",
              "    <tr>\n",
              "      <th>1</th>\n",
              "      <td>1</td>\n",
              "      <td>6667</td>\n",
              "      <td>35063</td>\n",
              "      <td>2018-06-01</td>\n",
              "      <td>2335</td>\n",
              "      <td>1625.2</td>\n",
              "    </tr>\n",
              "    <tr>\n",
              "      <th>2</th>\n",
              "      <td>2</td>\n",
              "      <td>6668</td>\n",
              "      <td>37299</td>\n",
              "      <td>2018-02-01</td>\n",
              "      <td>2335</td>\n",
              "      <td>1279.7</td>\n",
              "    </tr>\n",
              "    <tr>\n",
              "      <th>3</th>\n",
              "      <td>3</td>\n",
              "      <td>6669</td>\n",
              "      <td>39997</td>\n",
              "      <td>2018-02-01</td>\n",
              "      <td>2335</td>\n",
              "      <td>1511.9</td>\n",
              "    </tr>\n",
              "    <tr>\n",
              "      <th>4</th>\n",
              "      <td>4</td>\n",
              "      <td>6670</td>\n",
              "      <td>44012</td>\n",
              "      <td>2018-02-01</td>\n",
              "      <td>2335</td>\n",
              "      <td>1680.3</td>\n",
              "    </tr>\n",
              "  </tbody>\n",
              "</table>\n",
              "</div>\n",
              "      <button class=\"colab-df-convert\" onclick=\"convertToInteractive('df-85b5b306-aadd-4add-bcd2-6f472589e6c8')\"\n",
              "              title=\"Convert this dataframe to an interactive table.\"\n",
              "              style=\"display:none;\">\n",
              "        \n",
              "  <svg xmlns=\"http://www.w3.org/2000/svg\" height=\"24px\"viewBox=\"0 0 24 24\"\n",
              "       width=\"24px\">\n",
              "    <path d=\"M0 0h24v24H0V0z\" fill=\"none\"/>\n",
              "    <path d=\"M18.56 5.44l.94 2.06.94-2.06 2.06-.94-2.06-.94-.94-2.06-.94 2.06-2.06.94zm-11 1L8.5 8.5l.94-2.06 2.06-.94-2.06-.94L8.5 2.5l-.94 2.06-2.06.94zm10 10l.94 2.06.94-2.06 2.06-.94-2.06-.94-.94-2.06-.94 2.06-2.06.94z\"/><path d=\"M17.41 7.96l-1.37-1.37c-.4-.4-.92-.59-1.43-.59-.52 0-1.04.2-1.43.59L10.3 9.45l-7.72 7.72c-.78.78-.78 2.05 0 2.83L4 21.41c.39.39.9.59 1.41.59.51 0 1.02-.2 1.41-.59l7.78-7.78 2.81-2.81c.8-.78.8-2.07 0-2.86zM5.41 20L4 18.59l7.72-7.72 1.47 1.35L5.41 20z\"/>\n",
              "  </svg>\n",
              "      </button>\n",
              "      \n",
              "  <style>\n",
              "    .colab-df-container {\n",
              "      display:flex;\n",
              "      flex-wrap:wrap;\n",
              "      gap: 12px;\n",
              "    }\n",
              "\n",
              "    .colab-df-convert {\n",
              "      background-color: #E8F0FE;\n",
              "      border: none;\n",
              "      border-radius: 50%;\n",
              "      cursor: pointer;\n",
              "      display: none;\n",
              "      fill: #1967D2;\n",
              "      height: 32px;\n",
              "      padding: 0 0 0 0;\n",
              "      width: 32px;\n",
              "    }\n",
              "\n",
              "    .colab-df-convert:hover {\n",
              "      background-color: #E2EBFA;\n",
              "      box-shadow: 0px 1px 2px rgba(60, 64, 67, 0.3), 0px 1px 3px 1px rgba(60, 64, 67, 0.15);\n",
              "      fill: #174EA6;\n",
              "    }\n",
              "\n",
              "    [theme=dark] .colab-df-convert {\n",
              "      background-color: #3B4455;\n",
              "      fill: #D2E3FC;\n",
              "    }\n",
              "\n",
              "    [theme=dark] .colab-df-convert:hover {\n",
              "      background-color: #434B5C;\n",
              "      box-shadow: 0px 1px 3px 1px rgba(0, 0, 0, 0.15);\n",
              "      filter: drop-shadow(0px 1px 2px rgba(0, 0, 0, 0.3));\n",
              "      fill: #FFFFFF;\n",
              "    }\n",
              "  </style>\n",
              "\n",
              "      <script>\n",
              "        const buttonEl =\n",
              "          document.querySelector('#df-85b5b306-aadd-4add-bcd2-6f472589e6c8 button.colab-df-convert');\n",
              "        buttonEl.style.display =\n",
              "          google.colab.kernel.accessAllowed ? 'block' : 'none';\n",
              "\n",
              "        async function convertToInteractive(key) {\n",
              "          const element = document.querySelector('#df-85b5b306-aadd-4add-bcd2-6f472589e6c8');\n",
              "          const dataTable =\n",
              "            await google.colab.kernel.invokeFunction('convertToInteractive',\n",
              "                                                     [key], {});\n",
              "          if (!dataTable) return;\n",
              "\n",
              "          const docLinkHtml = 'Like what you see? Visit the ' +\n",
              "            '<a target=\"_blank\" href=https://colab.research.google.com/notebooks/data_table.ipynb>data table notebook</a>'\n",
              "            + ' to learn more about interactive tables.';\n",
              "          element.innerHTML = '';\n",
              "          dataTable['output_type'] = 'display_data';\n",
              "          await google.colab.output.renderOutput(dataTable, element);\n",
              "          const docLink = document.createElement('div');\n",
              "          docLink.innerHTML = docLinkHtml;\n",
              "          element.appendChild(docLink);\n",
              "        }\n",
              "      </script>\n",
              "    </div>\n",
              "  </div>\n",
              "  "
            ]
          },
          "metadata": {},
          "execution_count": 6
        }
      ]
    },
    {
      "cell_type": "code",
      "source": [
        "sales_raw.describe(include = ['object'])"
      ],
      "metadata": {
        "colab": {
          "base_uri": "https://localhost:8080/",
          "height": 175
        },
        "id": "YfKve4oN1N9B",
        "outputId": "a810ba99-f133-4c1f-9daf-f994eb8da721"
      },
      "execution_count": 7,
      "outputs": [
        {
          "output_type": "execute_result",
          "data": {
            "text/plain": [
              "        month_sale\n",
              "count       240773\n",
              "unique          16\n",
              "top     2018-10-01\n",
              "freq         27693"
            ],
            "text/html": [
              "\n",
              "  <div id=\"df-716296f3-a8be-4446-8d14-ebc533b67bb5\">\n",
              "    <div class=\"colab-df-container\">\n",
              "      <div>\n",
              "<style scoped>\n",
              "    .dataframe tbody tr th:only-of-type {\n",
              "        vertical-align: middle;\n",
              "    }\n",
              "\n",
              "    .dataframe tbody tr th {\n",
              "        vertical-align: top;\n",
              "    }\n",
              "\n",
              "    .dataframe thead th {\n",
              "        text-align: right;\n",
              "    }\n",
              "</style>\n",
              "<table border=\"1\" class=\"dataframe\">\n",
              "  <thead>\n",
              "    <tr style=\"text-align: right;\">\n",
              "      <th></th>\n",
              "      <th>month_sale</th>\n",
              "    </tr>\n",
              "  </thead>\n",
              "  <tbody>\n",
              "    <tr>\n",
              "      <th>count</th>\n",
              "      <td>240773</td>\n",
              "    </tr>\n",
              "    <tr>\n",
              "      <th>unique</th>\n",
              "      <td>16</td>\n",
              "    </tr>\n",
              "    <tr>\n",
              "      <th>top</th>\n",
              "      <td>2018-10-01</td>\n",
              "    </tr>\n",
              "    <tr>\n",
              "      <th>freq</th>\n",
              "      <td>27693</td>\n",
              "    </tr>\n",
              "  </tbody>\n",
              "</table>\n",
              "</div>\n",
              "      <button class=\"colab-df-convert\" onclick=\"convertToInteractive('df-716296f3-a8be-4446-8d14-ebc533b67bb5')\"\n",
              "              title=\"Convert this dataframe to an interactive table.\"\n",
              "              style=\"display:none;\">\n",
              "        \n",
              "  <svg xmlns=\"http://www.w3.org/2000/svg\" height=\"24px\"viewBox=\"0 0 24 24\"\n",
              "       width=\"24px\">\n",
              "    <path d=\"M0 0h24v24H0V0z\" fill=\"none\"/>\n",
              "    <path d=\"M18.56 5.44l.94 2.06.94-2.06 2.06-.94-2.06-.94-.94-2.06-.94 2.06-2.06.94zm-11 1L8.5 8.5l.94-2.06 2.06-.94-2.06-.94L8.5 2.5l-.94 2.06-2.06.94zm10 10l.94 2.06.94-2.06 2.06-.94-2.06-.94-.94-2.06-.94 2.06-2.06.94z\"/><path d=\"M17.41 7.96l-1.37-1.37c-.4-.4-.92-.59-1.43-.59-.52 0-1.04.2-1.43.59L10.3 9.45l-7.72 7.72c-.78.78-.78 2.05 0 2.83L4 21.41c.39.39.9.59 1.41.59.51 0 1.02-.2 1.41-.59l7.78-7.78 2.81-2.81c.8-.78.8-2.07 0-2.86zM5.41 20L4 18.59l7.72-7.72 1.47 1.35L5.41 20z\"/>\n",
              "  </svg>\n",
              "      </button>\n",
              "      \n",
              "  <style>\n",
              "    .colab-df-container {\n",
              "      display:flex;\n",
              "      flex-wrap:wrap;\n",
              "      gap: 12px;\n",
              "    }\n",
              "\n",
              "    .colab-df-convert {\n",
              "      background-color: #E8F0FE;\n",
              "      border: none;\n",
              "      border-radius: 50%;\n",
              "      cursor: pointer;\n",
              "      display: none;\n",
              "      fill: #1967D2;\n",
              "      height: 32px;\n",
              "      padding: 0 0 0 0;\n",
              "      width: 32px;\n",
              "    }\n",
              "\n",
              "    .colab-df-convert:hover {\n",
              "      background-color: #E2EBFA;\n",
              "      box-shadow: 0px 1px 2px rgba(60, 64, 67, 0.3), 0px 1px 3px 1px rgba(60, 64, 67, 0.15);\n",
              "      fill: #174EA6;\n",
              "    }\n",
              "\n",
              "    [theme=dark] .colab-df-convert {\n",
              "      background-color: #3B4455;\n",
              "      fill: #D2E3FC;\n",
              "    }\n",
              "\n",
              "    [theme=dark] .colab-df-convert:hover {\n",
              "      background-color: #434B5C;\n",
              "      box-shadow: 0px 1px 3px 1px rgba(0, 0, 0, 0.15);\n",
              "      filter: drop-shadow(0px 1px 2px rgba(0, 0, 0, 0.3));\n",
              "      fill: #FFFFFF;\n",
              "    }\n",
              "  </style>\n",
              "\n",
              "      <script>\n",
              "        const buttonEl =\n",
              "          document.querySelector('#df-716296f3-a8be-4446-8d14-ebc533b67bb5 button.colab-df-convert');\n",
              "        buttonEl.style.display =\n",
              "          google.colab.kernel.accessAllowed ? 'block' : 'none';\n",
              "\n",
              "        async function convertToInteractive(key) {\n",
              "          const element = document.querySelector('#df-716296f3-a8be-4446-8d14-ebc533b67bb5');\n",
              "          const dataTable =\n",
              "            await google.colab.kernel.invokeFunction('convertToInteractive',\n",
              "                                                     [key], {});\n",
              "          if (!dataTable) return;\n",
              "\n",
              "          const docLinkHtml = 'Like what you see? Visit the ' +\n",
              "            '<a target=\"_blank\" href=https://colab.research.google.com/notebooks/data_table.ipynb>data table notebook</a>'\n",
              "            + ' to learn more about interactive tables.';\n",
              "          element.innerHTML = '';\n",
              "          dataTable['output_type'] = 'display_data';\n",
              "          await google.colab.output.renderOutput(dataTable, element);\n",
              "          const docLink = document.createElement('div');\n",
              "          docLink.innerHTML = docLinkHtml;\n",
              "          element.appendChild(docLink);\n",
              "        }\n",
              "      </script>\n",
              "    </div>\n",
              "  </div>\n",
              "  "
            ]
          },
          "metadata": {},
          "execution_count": 7
        }
      ]
    },
    {
      "cell_type": "code",
      "source": [
        "sales_raw.describe(exclude = ['object'])"
      ],
      "metadata": {
        "colab": {
          "base_uri": "https://localhost:8080/",
          "height": 300
        },
        "id": "6qfoxjf71N9B",
        "outputId": "5aa359ca-1fe0-4e7f-c5a4-626a4ad231a1"
      },
      "execution_count": 8,
      "outputs": [
        {
          "output_type": "execute_result",
          "data": {
            "text/plain": [
              "          Unnamed: 0        pk_sale           cid     product_ID  \\\n",
              "count  240773.000000  240773.000000  2.407730e+05  240773.000000   \n",
              "mean   120386.000000  127052.000000  1.363934e+06    3945.408202   \n",
              "std     69505.322519   69505.322519  1.751721e+05    1632.821700   \n",
              "min         0.000000    6666.000000  1.589100e+04    1119.000000   \n",
              "25%     60193.000000   66859.000000  1.301012e+06    2312.000000   \n",
              "50%    120386.000000  127052.000000  1.409253e+06    4657.000000   \n",
              "75%    180579.000000  187245.000000  1.475320e+06    4657.000000   \n",
              "max    240772.000000  247438.000000  1.553571e+06    9001.000000   \n",
              "\n",
              "          net_margin  \n",
              "count  240773.000000  \n",
              "mean      606.878164  \n",
              "std      1735.806089  \n",
              "min        25.000000  \n",
              "25%        61.400000  \n",
              "50%        69.100000  \n",
              "75%        79.200000  \n",
              "max     18466.400000  "
            ],
            "text/html": [
              "\n",
              "  <div id=\"df-e3863145-6c82-473a-96c0-456ac1fe0233\">\n",
              "    <div class=\"colab-df-container\">\n",
              "      <div>\n",
              "<style scoped>\n",
              "    .dataframe tbody tr th:only-of-type {\n",
              "        vertical-align: middle;\n",
              "    }\n",
              "\n",
              "    .dataframe tbody tr th {\n",
              "        vertical-align: top;\n",
              "    }\n",
              "\n",
              "    .dataframe thead th {\n",
              "        text-align: right;\n",
              "    }\n",
              "</style>\n",
              "<table border=\"1\" class=\"dataframe\">\n",
              "  <thead>\n",
              "    <tr style=\"text-align: right;\">\n",
              "      <th></th>\n",
              "      <th>Unnamed: 0</th>\n",
              "      <th>pk_sale</th>\n",
              "      <th>cid</th>\n",
              "      <th>product_ID</th>\n",
              "      <th>net_margin</th>\n",
              "    </tr>\n",
              "  </thead>\n",
              "  <tbody>\n",
              "    <tr>\n",
              "      <th>count</th>\n",
              "      <td>240773.000000</td>\n",
              "      <td>240773.000000</td>\n",
              "      <td>2.407730e+05</td>\n",
              "      <td>240773.000000</td>\n",
              "      <td>240773.000000</td>\n",
              "    </tr>\n",
              "    <tr>\n",
              "      <th>mean</th>\n",
              "      <td>120386.000000</td>\n",
              "      <td>127052.000000</td>\n",
              "      <td>1.363934e+06</td>\n",
              "      <td>3945.408202</td>\n",
              "      <td>606.878164</td>\n",
              "    </tr>\n",
              "    <tr>\n",
              "      <th>std</th>\n",
              "      <td>69505.322519</td>\n",
              "      <td>69505.322519</td>\n",
              "      <td>1.751721e+05</td>\n",
              "      <td>1632.821700</td>\n",
              "      <td>1735.806089</td>\n",
              "    </tr>\n",
              "    <tr>\n",
              "      <th>min</th>\n",
              "      <td>0.000000</td>\n",
              "      <td>6666.000000</td>\n",
              "      <td>1.589100e+04</td>\n",
              "      <td>1119.000000</td>\n",
              "      <td>25.000000</td>\n",
              "    </tr>\n",
              "    <tr>\n",
              "      <th>25%</th>\n",
              "      <td>60193.000000</td>\n",
              "      <td>66859.000000</td>\n",
              "      <td>1.301012e+06</td>\n",
              "      <td>2312.000000</td>\n",
              "      <td>61.400000</td>\n",
              "    </tr>\n",
              "    <tr>\n",
              "      <th>50%</th>\n",
              "      <td>120386.000000</td>\n",
              "      <td>127052.000000</td>\n",
              "      <td>1.409253e+06</td>\n",
              "      <td>4657.000000</td>\n",
              "      <td>69.100000</td>\n",
              "    </tr>\n",
              "    <tr>\n",
              "      <th>75%</th>\n",
              "      <td>180579.000000</td>\n",
              "      <td>187245.000000</td>\n",
              "      <td>1.475320e+06</td>\n",
              "      <td>4657.000000</td>\n",
              "      <td>79.200000</td>\n",
              "    </tr>\n",
              "    <tr>\n",
              "      <th>max</th>\n",
              "      <td>240772.000000</td>\n",
              "      <td>247438.000000</td>\n",
              "      <td>1.553571e+06</td>\n",
              "      <td>9001.000000</td>\n",
              "      <td>18466.400000</td>\n",
              "    </tr>\n",
              "  </tbody>\n",
              "</table>\n",
              "</div>\n",
              "      <button class=\"colab-df-convert\" onclick=\"convertToInteractive('df-e3863145-6c82-473a-96c0-456ac1fe0233')\"\n",
              "              title=\"Convert this dataframe to an interactive table.\"\n",
              "              style=\"display:none;\">\n",
              "        \n",
              "  <svg xmlns=\"http://www.w3.org/2000/svg\" height=\"24px\"viewBox=\"0 0 24 24\"\n",
              "       width=\"24px\">\n",
              "    <path d=\"M0 0h24v24H0V0z\" fill=\"none\"/>\n",
              "    <path d=\"M18.56 5.44l.94 2.06.94-2.06 2.06-.94-2.06-.94-.94-2.06-.94 2.06-2.06.94zm-11 1L8.5 8.5l.94-2.06 2.06-.94-2.06-.94L8.5 2.5l-.94 2.06-2.06.94zm10 10l.94 2.06.94-2.06 2.06-.94-2.06-.94-.94-2.06-.94 2.06-2.06.94z\"/><path d=\"M17.41 7.96l-1.37-1.37c-.4-.4-.92-.59-1.43-.59-.52 0-1.04.2-1.43.59L10.3 9.45l-7.72 7.72c-.78.78-.78 2.05 0 2.83L4 21.41c.39.39.9.59 1.41.59.51 0 1.02-.2 1.41-.59l7.78-7.78 2.81-2.81c.8-.78.8-2.07 0-2.86zM5.41 20L4 18.59l7.72-7.72 1.47 1.35L5.41 20z\"/>\n",
              "  </svg>\n",
              "      </button>\n",
              "      \n",
              "  <style>\n",
              "    .colab-df-container {\n",
              "      display:flex;\n",
              "      flex-wrap:wrap;\n",
              "      gap: 12px;\n",
              "    }\n",
              "\n",
              "    .colab-df-convert {\n",
              "      background-color: #E8F0FE;\n",
              "      border: none;\n",
              "      border-radius: 50%;\n",
              "      cursor: pointer;\n",
              "      display: none;\n",
              "      fill: #1967D2;\n",
              "      height: 32px;\n",
              "      padding: 0 0 0 0;\n",
              "      width: 32px;\n",
              "    }\n",
              "\n",
              "    .colab-df-convert:hover {\n",
              "      background-color: #E2EBFA;\n",
              "      box-shadow: 0px 1px 2px rgba(60, 64, 67, 0.3), 0px 1px 3px 1px rgba(60, 64, 67, 0.15);\n",
              "      fill: #174EA6;\n",
              "    }\n",
              "\n",
              "    [theme=dark] .colab-df-convert {\n",
              "      background-color: #3B4455;\n",
              "      fill: #D2E3FC;\n",
              "    }\n",
              "\n",
              "    [theme=dark] .colab-df-convert:hover {\n",
              "      background-color: #434B5C;\n",
              "      box-shadow: 0px 1px 3px 1px rgba(0, 0, 0, 0.15);\n",
              "      filter: drop-shadow(0px 1px 2px rgba(0, 0, 0, 0.3));\n",
              "      fill: #FFFFFF;\n",
              "    }\n",
              "  </style>\n",
              "\n",
              "      <script>\n",
              "        const buttonEl =\n",
              "          document.querySelector('#df-e3863145-6c82-473a-96c0-456ac1fe0233 button.colab-df-convert');\n",
              "        buttonEl.style.display =\n",
              "          google.colab.kernel.accessAllowed ? 'block' : 'none';\n",
              "\n",
              "        async function convertToInteractive(key) {\n",
              "          const element = document.querySelector('#df-e3863145-6c82-473a-96c0-456ac1fe0233');\n",
              "          const dataTable =\n",
              "            await google.colab.kernel.invokeFunction('convertToInteractive',\n",
              "                                                     [key], {});\n",
              "          if (!dataTable) return;\n",
              "\n",
              "          const docLinkHtml = 'Like what you see? Visit the ' +\n",
              "            '<a target=\"_blank\" href=https://colab.research.google.com/notebooks/data_table.ipynb>data table notebook</a>'\n",
              "            + ' to learn more about interactive tables.';\n",
              "          element.innerHTML = '';\n",
              "          dataTable['output_type'] = 'display_data';\n",
              "          await google.colab.output.renderOutput(dataTable, element);\n",
              "          const docLink = document.createElement('div');\n",
              "          docLink.innerHTML = docLinkHtml;\n",
              "          element.appendChild(docLink);\n",
              "        }\n",
              "      </script>\n",
              "    </div>\n",
              "  </div>\n",
              "  "
            ]
          },
          "metadata": {},
          "execution_count": 8
        }
      ]
    },
    {
      "cell_type": "code",
      "source": [
        "sales_raw.isnull().sum()"
      ],
      "metadata": {
        "colab": {
          "base_uri": "https://localhost:8080/"
        },
        "id": "mq7g03oJ1N9C",
        "outputId": "a0fc8d53-d3cb-47da-bbce-89b0b9899dca"
      },
      "execution_count": 9,
      "outputs": [
        {
          "output_type": "execute_result",
          "data": {
            "text/plain": [
              "Unnamed: 0    0\n",
              "pk_sale       0\n",
              "cid           0\n",
              "month_sale    0\n",
              "product_ID    0\n",
              "net_margin    0\n",
              "dtype: int64"
            ]
          },
          "metadata": {},
          "execution_count": 9
        }
      ]
    },
    {
      "cell_type": "code",
      "source": [
        "sales_raw[sales_raw.duplicated()]"
      ],
      "metadata": {
        "colab": {
          "base_uri": "https://localhost:8080/",
          "height": 49
        },
        "id": "VQFNVCHu2q8d",
        "outputId": "a2420b86-d028-4ce8-fd94-1d2326e0bffc"
      },
      "execution_count": 10,
      "outputs": [
        {
          "output_type": "execute_result",
          "data": {
            "text/plain": [
              "Empty DataFrame\n",
              "Columns: [Unnamed: 0, pk_sale, cid, month_sale, product_ID, net_margin]\n",
              "Index: []"
            ],
            "text/html": [
              "\n",
              "  <div id=\"df-930abe17-a155-44e6-8204-b242bab5cce0\">\n",
              "    <div class=\"colab-df-container\">\n",
              "      <div>\n",
              "<style scoped>\n",
              "    .dataframe tbody tr th:only-of-type {\n",
              "        vertical-align: middle;\n",
              "    }\n",
              "\n",
              "    .dataframe tbody tr th {\n",
              "        vertical-align: top;\n",
              "    }\n",
              "\n",
              "    .dataframe thead th {\n",
              "        text-align: right;\n",
              "    }\n",
              "</style>\n",
              "<table border=\"1\" class=\"dataframe\">\n",
              "  <thead>\n",
              "    <tr style=\"text-align: right;\">\n",
              "      <th></th>\n",
              "      <th>Unnamed: 0</th>\n",
              "      <th>pk_sale</th>\n",
              "      <th>cid</th>\n",
              "      <th>month_sale</th>\n",
              "      <th>product_ID</th>\n",
              "      <th>net_margin</th>\n",
              "    </tr>\n",
              "  </thead>\n",
              "  <tbody>\n",
              "  </tbody>\n",
              "</table>\n",
              "</div>\n",
              "      <button class=\"colab-df-convert\" onclick=\"convertToInteractive('df-930abe17-a155-44e6-8204-b242bab5cce0')\"\n",
              "              title=\"Convert this dataframe to an interactive table.\"\n",
              "              style=\"display:none;\">\n",
              "        \n",
              "  <svg xmlns=\"http://www.w3.org/2000/svg\" height=\"24px\"viewBox=\"0 0 24 24\"\n",
              "       width=\"24px\">\n",
              "    <path d=\"M0 0h24v24H0V0z\" fill=\"none\"/>\n",
              "    <path d=\"M18.56 5.44l.94 2.06.94-2.06 2.06-.94-2.06-.94-.94-2.06-.94 2.06-2.06.94zm-11 1L8.5 8.5l.94-2.06 2.06-.94-2.06-.94L8.5 2.5l-.94 2.06-2.06.94zm10 10l.94 2.06.94-2.06 2.06-.94-2.06-.94-.94-2.06-.94 2.06-2.06.94z\"/><path d=\"M17.41 7.96l-1.37-1.37c-.4-.4-.92-.59-1.43-.59-.52 0-1.04.2-1.43.59L10.3 9.45l-7.72 7.72c-.78.78-.78 2.05 0 2.83L4 21.41c.39.39.9.59 1.41.59.51 0 1.02-.2 1.41-.59l7.78-7.78 2.81-2.81c.8-.78.8-2.07 0-2.86zM5.41 20L4 18.59l7.72-7.72 1.47 1.35L5.41 20z\"/>\n",
              "  </svg>\n",
              "      </button>\n",
              "      \n",
              "  <style>\n",
              "    .colab-df-container {\n",
              "      display:flex;\n",
              "      flex-wrap:wrap;\n",
              "      gap: 12px;\n",
              "    }\n",
              "\n",
              "    .colab-df-convert {\n",
              "      background-color: #E8F0FE;\n",
              "      border: none;\n",
              "      border-radius: 50%;\n",
              "      cursor: pointer;\n",
              "      display: none;\n",
              "      fill: #1967D2;\n",
              "      height: 32px;\n",
              "      padding: 0 0 0 0;\n",
              "      width: 32px;\n",
              "    }\n",
              "\n",
              "    .colab-df-convert:hover {\n",
              "      background-color: #E2EBFA;\n",
              "      box-shadow: 0px 1px 2px rgba(60, 64, 67, 0.3), 0px 1px 3px 1px rgba(60, 64, 67, 0.15);\n",
              "      fill: #174EA6;\n",
              "    }\n",
              "\n",
              "    [theme=dark] .colab-df-convert {\n",
              "      background-color: #3B4455;\n",
              "      fill: #D2E3FC;\n",
              "    }\n",
              "\n",
              "    [theme=dark] .colab-df-convert:hover {\n",
              "      background-color: #434B5C;\n",
              "      box-shadow: 0px 1px 3px 1px rgba(0, 0, 0, 0.15);\n",
              "      filter: drop-shadow(0px 1px 2px rgba(0, 0, 0, 0.3));\n",
              "      fill: #FFFFFF;\n",
              "    }\n",
              "  </style>\n",
              "\n",
              "      <script>\n",
              "        const buttonEl =\n",
              "          document.querySelector('#df-930abe17-a155-44e6-8204-b242bab5cce0 button.colab-df-convert');\n",
              "        buttonEl.style.display =\n",
              "          google.colab.kernel.accessAllowed ? 'block' : 'none';\n",
              "\n",
              "        async function convertToInteractive(key) {\n",
              "          const element = document.querySelector('#df-930abe17-a155-44e6-8204-b242bab5cce0');\n",
              "          const dataTable =\n",
              "            await google.colab.kernel.invokeFunction('convertToInteractive',\n",
              "                                                     [key], {});\n",
              "          if (!dataTable) return;\n",
              "\n",
              "          const docLinkHtml = 'Like what you see? Visit the ' +\n",
              "            '<a target=\"_blank\" href=https://colab.research.google.com/notebooks/data_table.ipynb>data table notebook</a>'\n",
              "            + ' to learn more about interactive tables.';\n",
              "          element.innerHTML = '';\n",
              "          dataTable['output_type'] = 'display_data';\n",
              "          await google.colab.output.renderOutput(dataTable, element);\n",
              "          const docLink = document.createElement('div');\n",
              "          docLink.innerHTML = docLinkHtml;\n",
              "          element.appendChild(docLink);\n",
              "        }\n",
              "      </script>\n",
              "    </div>\n",
              "  </div>\n",
              "  "
            ]
          },
          "metadata": {},
          "execution_count": 10
        }
      ]
    },
    {
      "cell_type": "code",
      "source": [
        "# ACCIONES A LLEVAR A CABO \n",
        "\n",
        "# Eliminar columna Unnamed\n",
        "# Renombrar columnas para alinear el naming, por ejemplo variable cid como \"client_ID\", pk_sale como \"sale_ID\"\n",
        "# Cambiar los identificadores (product_ID, customer_ID) a variable categórica\n",
        "# Cambiar tipo de month_sale a fecha\n",
        "# Disgregar la fecha en mes, año, día, día de la semana (otros: trimestre, fin de semana, festivo...)\n"
      ],
      "metadata": {
        "id": "4j4GhhbI1N9C"
      },
      "execution_count": 11,
      "outputs": []
    },
    {
      "cell_type": "markdown",
      "source": [
        "### Product Description"
      ],
      "metadata": {
        "id": "fu6F4Uj7waeR"
      }
    },
    {
      "cell_type": "markdown",
      "source": [
        "* pk_product_ID\t= Identificador de producto - (primary key)\n",
        "* product_desc\t= Descripción del producto\n",
        "* family_product\t= Vertical del producto. Grupo al que pertenece."
      ],
      "metadata": {
        "id": "tF9aoCOUwaeT"
      }
    },
    {
      "cell_type": "code",
      "source": [
        "# Análisis inicial de product description\n",
        "\n",
        "product_description_raw.info()"
      ],
      "metadata": {
        "colab": {
          "base_uri": "https://localhost:8080/"
        },
        "id": "R4rkQSBB1gFO",
        "outputId": "18a3aaf4-7a86-4cbb-df88-8e7be5105fe4"
      },
      "execution_count": 12,
      "outputs": [
        {
          "output_type": "stream",
          "name": "stdout",
          "text": [
            "<class 'pandas.core.frame.DataFrame'>\n",
            "RangeIndex: 13 entries, 0 to 12\n",
            "Data columns (total 4 columns):\n",
            " #   Column          Non-Null Count  Dtype \n",
            "---  ------          --------------  ----- \n",
            " 0   Unnamed: 0      13 non-null     int64 \n",
            " 1   pk_product_ID   13 non-null     int64 \n",
            " 2   product_desc    13 non-null     object\n",
            " 3   family_product  13 non-null     object\n",
            "dtypes: int64(2), object(2)\n",
            "memory usage: 544.0+ bytes\n"
          ]
        }
      ]
    },
    {
      "cell_type": "code",
      "source": [
        "product_description_raw"
      ],
      "metadata": {
        "colab": {
          "base_uri": "https://localhost:8080/",
          "height": 0
        },
        "id": "zU9IbE391gFP",
        "outputId": "e37aa21e-cc17-4c2f-f7e2-b48ac445f245"
      },
      "execution_count": 13,
      "outputs": [
        {
          "output_type": "execute_result",
          "data": {
            "text/plain": [
              "    Unnamed: 0  pk_product_ID        product_desc family_product\n",
              "0            0           4657           em_acount        account\n",
              "1            1           3819          debit_card   payment_card\n",
              "2            2           1364        pension_plan   pension_plan\n",
              "3            3           2234             payroll        account\n",
              "4            4           2235     payroll_account        account\n",
              "5            5           8871         emc_account        account\n",
              "6            6           2312         credit_card   payment_card\n",
              "7            7           2335  short_term_deposit     investment\n",
              "8            8           2336   long_term_deposit     investment\n",
              "9            9           2673          securities     investment\n",
              "10          10           1119               funds     investment\n",
              "11          11           9001               loans           loan\n",
              "12          12           4033            mortgage           loan"
            ],
            "text/html": [
              "\n",
              "  <div id=\"df-d217ee2e-c027-49cb-b7a7-c1b47609646e\">\n",
              "    <div class=\"colab-df-container\">\n",
              "      <div>\n",
              "<style scoped>\n",
              "    .dataframe tbody tr th:only-of-type {\n",
              "        vertical-align: middle;\n",
              "    }\n",
              "\n",
              "    .dataframe tbody tr th {\n",
              "        vertical-align: top;\n",
              "    }\n",
              "\n",
              "    .dataframe thead th {\n",
              "        text-align: right;\n",
              "    }\n",
              "</style>\n",
              "<table border=\"1\" class=\"dataframe\">\n",
              "  <thead>\n",
              "    <tr style=\"text-align: right;\">\n",
              "      <th></th>\n",
              "      <th>Unnamed: 0</th>\n",
              "      <th>pk_product_ID</th>\n",
              "      <th>product_desc</th>\n",
              "      <th>family_product</th>\n",
              "    </tr>\n",
              "  </thead>\n",
              "  <tbody>\n",
              "    <tr>\n",
              "      <th>0</th>\n",
              "      <td>0</td>\n",
              "      <td>4657</td>\n",
              "      <td>em_acount</td>\n",
              "      <td>account</td>\n",
              "    </tr>\n",
              "    <tr>\n",
              "      <th>1</th>\n",
              "      <td>1</td>\n",
              "      <td>3819</td>\n",
              "      <td>debit_card</td>\n",
              "      <td>payment_card</td>\n",
              "    </tr>\n",
              "    <tr>\n",
              "      <th>2</th>\n",
              "      <td>2</td>\n",
              "      <td>1364</td>\n",
              "      <td>pension_plan</td>\n",
              "      <td>pension_plan</td>\n",
              "    </tr>\n",
              "    <tr>\n",
              "      <th>3</th>\n",
              "      <td>3</td>\n",
              "      <td>2234</td>\n",
              "      <td>payroll</td>\n",
              "      <td>account</td>\n",
              "    </tr>\n",
              "    <tr>\n",
              "      <th>4</th>\n",
              "      <td>4</td>\n",
              "      <td>2235</td>\n",
              "      <td>payroll_account</td>\n",
              "      <td>account</td>\n",
              "    </tr>\n",
              "    <tr>\n",
              "      <th>5</th>\n",
              "      <td>5</td>\n",
              "      <td>8871</td>\n",
              "      <td>emc_account</td>\n",
              "      <td>account</td>\n",
              "    </tr>\n",
              "    <tr>\n",
              "      <th>6</th>\n",
              "      <td>6</td>\n",
              "      <td>2312</td>\n",
              "      <td>credit_card</td>\n",
              "      <td>payment_card</td>\n",
              "    </tr>\n",
              "    <tr>\n",
              "      <th>7</th>\n",
              "      <td>7</td>\n",
              "      <td>2335</td>\n",
              "      <td>short_term_deposit</td>\n",
              "      <td>investment</td>\n",
              "    </tr>\n",
              "    <tr>\n",
              "      <th>8</th>\n",
              "      <td>8</td>\n",
              "      <td>2336</td>\n",
              "      <td>long_term_deposit</td>\n",
              "      <td>investment</td>\n",
              "    </tr>\n",
              "    <tr>\n",
              "      <th>9</th>\n",
              "      <td>9</td>\n",
              "      <td>2673</td>\n",
              "      <td>securities</td>\n",
              "      <td>investment</td>\n",
              "    </tr>\n",
              "    <tr>\n",
              "      <th>10</th>\n",
              "      <td>10</td>\n",
              "      <td>1119</td>\n",
              "      <td>funds</td>\n",
              "      <td>investment</td>\n",
              "    </tr>\n",
              "    <tr>\n",
              "      <th>11</th>\n",
              "      <td>11</td>\n",
              "      <td>9001</td>\n",
              "      <td>loans</td>\n",
              "      <td>loan</td>\n",
              "    </tr>\n",
              "    <tr>\n",
              "      <th>12</th>\n",
              "      <td>12</td>\n",
              "      <td>4033</td>\n",
              "      <td>mortgage</td>\n",
              "      <td>loan</td>\n",
              "    </tr>\n",
              "  </tbody>\n",
              "</table>\n",
              "</div>\n",
              "      <button class=\"colab-df-convert\" onclick=\"convertToInteractive('df-d217ee2e-c027-49cb-b7a7-c1b47609646e')\"\n",
              "              title=\"Convert this dataframe to an interactive table.\"\n",
              "              style=\"display:none;\">\n",
              "        \n",
              "  <svg xmlns=\"http://www.w3.org/2000/svg\" height=\"24px\"viewBox=\"0 0 24 24\"\n",
              "       width=\"24px\">\n",
              "    <path d=\"M0 0h24v24H0V0z\" fill=\"none\"/>\n",
              "    <path d=\"M18.56 5.44l.94 2.06.94-2.06 2.06-.94-2.06-.94-.94-2.06-.94 2.06-2.06.94zm-11 1L8.5 8.5l.94-2.06 2.06-.94-2.06-.94L8.5 2.5l-.94 2.06-2.06.94zm10 10l.94 2.06.94-2.06 2.06-.94-2.06-.94-.94-2.06-.94 2.06-2.06.94z\"/><path d=\"M17.41 7.96l-1.37-1.37c-.4-.4-.92-.59-1.43-.59-.52 0-1.04.2-1.43.59L10.3 9.45l-7.72 7.72c-.78.78-.78 2.05 0 2.83L4 21.41c.39.39.9.59 1.41.59.51 0 1.02-.2 1.41-.59l7.78-7.78 2.81-2.81c.8-.78.8-2.07 0-2.86zM5.41 20L4 18.59l7.72-7.72 1.47 1.35L5.41 20z\"/>\n",
              "  </svg>\n",
              "      </button>\n",
              "      \n",
              "  <style>\n",
              "    .colab-df-container {\n",
              "      display:flex;\n",
              "      flex-wrap:wrap;\n",
              "      gap: 12px;\n",
              "    }\n",
              "\n",
              "    .colab-df-convert {\n",
              "      background-color: #E8F0FE;\n",
              "      border: none;\n",
              "      border-radius: 50%;\n",
              "      cursor: pointer;\n",
              "      display: none;\n",
              "      fill: #1967D2;\n",
              "      height: 32px;\n",
              "      padding: 0 0 0 0;\n",
              "      width: 32px;\n",
              "    }\n",
              "\n",
              "    .colab-df-convert:hover {\n",
              "      background-color: #E2EBFA;\n",
              "      box-shadow: 0px 1px 2px rgba(60, 64, 67, 0.3), 0px 1px 3px 1px rgba(60, 64, 67, 0.15);\n",
              "      fill: #174EA6;\n",
              "    }\n",
              "\n",
              "    [theme=dark] .colab-df-convert {\n",
              "      background-color: #3B4455;\n",
              "      fill: #D2E3FC;\n",
              "    }\n",
              "\n",
              "    [theme=dark] .colab-df-convert:hover {\n",
              "      background-color: #434B5C;\n",
              "      box-shadow: 0px 1px 3px 1px rgba(0, 0, 0, 0.15);\n",
              "      filter: drop-shadow(0px 1px 2px rgba(0, 0, 0, 0.3));\n",
              "      fill: #FFFFFF;\n",
              "    }\n",
              "  </style>\n",
              "\n",
              "      <script>\n",
              "        const buttonEl =\n",
              "          document.querySelector('#df-d217ee2e-c027-49cb-b7a7-c1b47609646e button.colab-df-convert');\n",
              "        buttonEl.style.display =\n",
              "          google.colab.kernel.accessAllowed ? 'block' : 'none';\n",
              "\n",
              "        async function convertToInteractive(key) {\n",
              "          const element = document.querySelector('#df-d217ee2e-c027-49cb-b7a7-c1b47609646e');\n",
              "          const dataTable =\n",
              "            await google.colab.kernel.invokeFunction('convertToInteractive',\n",
              "                                                     [key], {});\n",
              "          if (!dataTable) return;\n",
              "\n",
              "          const docLinkHtml = 'Like what you see? Visit the ' +\n",
              "            '<a target=\"_blank\" href=https://colab.research.google.com/notebooks/data_table.ipynb>data table notebook</a>'\n",
              "            + ' to learn more about interactive tables.';\n",
              "          element.innerHTML = '';\n",
              "          dataTable['output_type'] = 'display_data';\n",
              "          await google.colab.output.renderOutput(dataTable, element);\n",
              "          const docLink = document.createElement('div');\n",
              "          docLink.innerHTML = docLinkHtml;\n",
              "          element.appendChild(docLink);\n",
              "        }\n",
              "      </script>\n",
              "    </div>\n",
              "  </div>\n",
              "  "
            ]
          },
          "metadata": {},
          "execution_count": 13
        }
      ]
    },
    {
      "cell_type": "code",
      "source": [
        "product_description_raw.describe(include = ['object'])"
      ],
      "metadata": {
        "colab": {
          "base_uri": "https://localhost:8080/",
          "height": 0
        },
        "id": "AcwVd6H-1gFP",
        "outputId": "bd8be808-2a76-4d3e-f6c4-6c8c8debca86"
      },
      "execution_count": 14,
      "outputs": [
        {
          "output_type": "execute_result",
          "data": {
            "text/plain": [
              "       product_desc family_product\n",
              "count            13             13\n",
              "unique           13              5\n",
              "top       em_acount        account\n",
              "freq              1              4"
            ],
            "text/html": [
              "\n",
              "  <div id=\"df-a1d25445-6469-4e35-9d0f-0e708266f670\">\n",
              "    <div class=\"colab-df-container\">\n",
              "      <div>\n",
              "<style scoped>\n",
              "    .dataframe tbody tr th:only-of-type {\n",
              "        vertical-align: middle;\n",
              "    }\n",
              "\n",
              "    .dataframe tbody tr th {\n",
              "        vertical-align: top;\n",
              "    }\n",
              "\n",
              "    .dataframe thead th {\n",
              "        text-align: right;\n",
              "    }\n",
              "</style>\n",
              "<table border=\"1\" class=\"dataframe\">\n",
              "  <thead>\n",
              "    <tr style=\"text-align: right;\">\n",
              "      <th></th>\n",
              "      <th>product_desc</th>\n",
              "      <th>family_product</th>\n",
              "    </tr>\n",
              "  </thead>\n",
              "  <tbody>\n",
              "    <tr>\n",
              "      <th>count</th>\n",
              "      <td>13</td>\n",
              "      <td>13</td>\n",
              "    </tr>\n",
              "    <tr>\n",
              "      <th>unique</th>\n",
              "      <td>13</td>\n",
              "      <td>5</td>\n",
              "    </tr>\n",
              "    <tr>\n",
              "      <th>top</th>\n",
              "      <td>em_acount</td>\n",
              "      <td>account</td>\n",
              "    </tr>\n",
              "    <tr>\n",
              "      <th>freq</th>\n",
              "      <td>1</td>\n",
              "      <td>4</td>\n",
              "    </tr>\n",
              "  </tbody>\n",
              "</table>\n",
              "</div>\n",
              "      <button class=\"colab-df-convert\" onclick=\"convertToInteractive('df-a1d25445-6469-4e35-9d0f-0e708266f670')\"\n",
              "              title=\"Convert this dataframe to an interactive table.\"\n",
              "              style=\"display:none;\">\n",
              "        \n",
              "  <svg xmlns=\"http://www.w3.org/2000/svg\" height=\"24px\"viewBox=\"0 0 24 24\"\n",
              "       width=\"24px\">\n",
              "    <path d=\"M0 0h24v24H0V0z\" fill=\"none\"/>\n",
              "    <path d=\"M18.56 5.44l.94 2.06.94-2.06 2.06-.94-2.06-.94-.94-2.06-.94 2.06-2.06.94zm-11 1L8.5 8.5l.94-2.06 2.06-.94-2.06-.94L8.5 2.5l-.94 2.06-2.06.94zm10 10l.94 2.06.94-2.06 2.06-.94-2.06-.94-.94-2.06-.94 2.06-2.06.94z\"/><path d=\"M17.41 7.96l-1.37-1.37c-.4-.4-.92-.59-1.43-.59-.52 0-1.04.2-1.43.59L10.3 9.45l-7.72 7.72c-.78.78-.78 2.05 0 2.83L4 21.41c.39.39.9.59 1.41.59.51 0 1.02-.2 1.41-.59l7.78-7.78 2.81-2.81c.8-.78.8-2.07 0-2.86zM5.41 20L4 18.59l7.72-7.72 1.47 1.35L5.41 20z\"/>\n",
              "  </svg>\n",
              "      </button>\n",
              "      \n",
              "  <style>\n",
              "    .colab-df-container {\n",
              "      display:flex;\n",
              "      flex-wrap:wrap;\n",
              "      gap: 12px;\n",
              "    }\n",
              "\n",
              "    .colab-df-convert {\n",
              "      background-color: #E8F0FE;\n",
              "      border: none;\n",
              "      border-radius: 50%;\n",
              "      cursor: pointer;\n",
              "      display: none;\n",
              "      fill: #1967D2;\n",
              "      height: 32px;\n",
              "      padding: 0 0 0 0;\n",
              "      width: 32px;\n",
              "    }\n",
              "\n",
              "    .colab-df-convert:hover {\n",
              "      background-color: #E2EBFA;\n",
              "      box-shadow: 0px 1px 2px rgba(60, 64, 67, 0.3), 0px 1px 3px 1px rgba(60, 64, 67, 0.15);\n",
              "      fill: #174EA6;\n",
              "    }\n",
              "\n",
              "    [theme=dark] .colab-df-convert {\n",
              "      background-color: #3B4455;\n",
              "      fill: #D2E3FC;\n",
              "    }\n",
              "\n",
              "    [theme=dark] .colab-df-convert:hover {\n",
              "      background-color: #434B5C;\n",
              "      box-shadow: 0px 1px 3px 1px rgba(0, 0, 0, 0.15);\n",
              "      filter: drop-shadow(0px 1px 2px rgba(0, 0, 0, 0.3));\n",
              "      fill: #FFFFFF;\n",
              "    }\n",
              "  </style>\n",
              "\n",
              "      <script>\n",
              "        const buttonEl =\n",
              "          document.querySelector('#df-a1d25445-6469-4e35-9d0f-0e708266f670 button.colab-df-convert');\n",
              "        buttonEl.style.display =\n",
              "          google.colab.kernel.accessAllowed ? 'block' : 'none';\n",
              "\n",
              "        async function convertToInteractive(key) {\n",
              "          const element = document.querySelector('#df-a1d25445-6469-4e35-9d0f-0e708266f670');\n",
              "          const dataTable =\n",
              "            await google.colab.kernel.invokeFunction('convertToInteractive',\n",
              "                                                     [key], {});\n",
              "          if (!dataTable) return;\n",
              "\n",
              "          const docLinkHtml = 'Like what you see? Visit the ' +\n",
              "            '<a target=\"_blank\" href=https://colab.research.google.com/notebooks/data_table.ipynb>data table notebook</a>'\n",
              "            + ' to learn more about interactive tables.';\n",
              "          element.innerHTML = '';\n",
              "          dataTable['output_type'] = 'display_data';\n",
              "          await google.colab.output.renderOutput(dataTable, element);\n",
              "          const docLink = document.createElement('div');\n",
              "          docLink.innerHTML = docLinkHtml;\n",
              "          element.appendChild(docLink);\n",
              "        }\n",
              "      </script>\n",
              "    </div>\n",
              "  </div>\n",
              "  "
            ]
          },
          "metadata": {},
          "execution_count": 14
        }
      ]
    },
    {
      "cell_type": "code",
      "source": [
        "product_description_raw.describe(exclude = ['object'])"
      ],
      "metadata": {
        "colab": {
          "base_uri": "https://localhost:8080/",
          "height": 0
        },
        "id": "B950Lyeb1gFP",
        "outputId": "ef64c920-2f36-453f-b0f8-b362bbbdcc87"
      },
      "execution_count": 15,
      "outputs": [
        {
          "output_type": "execute_result",
          "data": {
            "text/plain": [
              "       Unnamed: 0  pk_product_ID\n",
              "count    13.00000      13.000000\n",
              "mean      6.00000    3614.538462\n",
              "std       3.89444    2564.251438\n",
              "min       0.00000    1119.000000\n",
              "25%       3.00000    2235.000000\n",
              "50%       6.00000    2336.000000\n",
              "75%       9.00000    4033.000000\n",
              "max      12.00000    9001.000000"
            ],
            "text/html": [
              "\n",
              "  <div id=\"df-18e4e81f-96ca-4175-b523-cb3b93f492da\">\n",
              "    <div class=\"colab-df-container\">\n",
              "      <div>\n",
              "<style scoped>\n",
              "    .dataframe tbody tr th:only-of-type {\n",
              "        vertical-align: middle;\n",
              "    }\n",
              "\n",
              "    .dataframe tbody tr th {\n",
              "        vertical-align: top;\n",
              "    }\n",
              "\n",
              "    .dataframe thead th {\n",
              "        text-align: right;\n",
              "    }\n",
              "</style>\n",
              "<table border=\"1\" class=\"dataframe\">\n",
              "  <thead>\n",
              "    <tr style=\"text-align: right;\">\n",
              "      <th></th>\n",
              "      <th>Unnamed: 0</th>\n",
              "      <th>pk_product_ID</th>\n",
              "    </tr>\n",
              "  </thead>\n",
              "  <tbody>\n",
              "    <tr>\n",
              "      <th>count</th>\n",
              "      <td>13.00000</td>\n",
              "      <td>13.000000</td>\n",
              "    </tr>\n",
              "    <tr>\n",
              "      <th>mean</th>\n",
              "      <td>6.00000</td>\n",
              "      <td>3614.538462</td>\n",
              "    </tr>\n",
              "    <tr>\n",
              "      <th>std</th>\n",
              "      <td>3.89444</td>\n",
              "      <td>2564.251438</td>\n",
              "    </tr>\n",
              "    <tr>\n",
              "      <th>min</th>\n",
              "      <td>0.00000</td>\n",
              "      <td>1119.000000</td>\n",
              "    </tr>\n",
              "    <tr>\n",
              "      <th>25%</th>\n",
              "      <td>3.00000</td>\n",
              "      <td>2235.000000</td>\n",
              "    </tr>\n",
              "    <tr>\n",
              "      <th>50%</th>\n",
              "      <td>6.00000</td>\n",
              "      <td>2336.000000</td>\n",
              "    </tr>\n",
              "    <tr>\n",
              "      <th>75%</th>\n",
              "      <td>9.00000</td>\n",
              "      <td>4033.000000</td>\n",
              "    </tr>\n",
              "    <tr>\n",
              "      <th>max</th>\n",
              "      <td>12.00000</td>\n",
              "      <td>9001.000000</td>\n",
              "    </tr>\n",
              "  </tbody>\n",
              "</table>\n",
              "</div>\n",
              "      <button class=\"colab-df-convert\" onclick=\"convertToInteractive('df-18e4e81f-96ca-4175-b523-cb3b93f492da')\"\n",
              "              title=\"Convert this dataframe to an interactive table.\"\n",
              "              style=\"display:none;\">\n",
              "        \n",
              "  <svg xmlns=\"http://www.w3.org/2000/svg\" height=\"24px\"viewBox=\"0 0 24 24\"\n",
              "       width=\"24px\">\n",
              "    <path d=\"M0 0h24v24H0V0z\" fill=\"none\"/>\n",
              "    <path d=\"M18.56 5.44l.94 2.06.94-2.06 2.06-.94-2.06-.94-.94-2.06-.94 2.06-2.06.94zm-11 1L8.5 8.5l.94-2.06 2.06-.94-2.06-.94L8.5 2.5l-.94 2.06-2.06.94zm10 10l.94 2.06.94-2.06 2.06-.94-2.06-.94-.94-2.06-.94 2.06-2.06.94z\"/><path d=\"M17.41 7.96l-1.37-1.37c-.4-.4-.92-.59-1.43-.59-.52 0-1.04.2-1.43.59L10.3 9.45l-7.72 7.72c-.78.78-.78 2.05 0 2.83L4 21.41c.39.39.9.59 1.41.59.51 0 1.02-.2 1.41-.59l7.78-7.78 2.81-2.81c.8-.78.8-2.07 0-2.86zM5.41 20L4 18.59l7.72-7.72 1.47 1.35L5.41 20z\"/>\n",
              "  </svg>\n",
              "      </button>\n",
              "      \n",
              "  <style>\n",
              "    .colab-df-container {\n",
              "      display:flex;\n",
              "      flex-wrap:wrap;\n",
              "      gap: 12px;\n",
              "    }\n",
              "\n",
              "    .colab-df-convert {\n",
              "      background-color: #E8F0FE;\n",
              "      border: none;\n",
              "      border-radius: 50%;\n",
              "      cursor: pointer;\n",
              "      display: none;\n",
              "      fill: #1967D2;\n",
              "      height: 32px;\n",
              "      padding: 0 0 0 0;\n",
              "      width: 32px;\n",
              "    }\n",
              "\n",
              "    .colab-df-convert:hover {\n",
              "      background-color: #E2EBFA;\n",
              "      box-shadow: 0px 1px 2px rgba(60, 64, 67, 0.3), 0px 1px 3px 1px rgba(60, 64, 67, 0.15);\n",
              "      fill: #174EA6;\n",
              "    }\n",
              "\n",
              "    [theme=dark] .colab-df-convert {\n",
              "      background-color: #3B4455;\n",
              "      fill: #D2E3FC;\n",
              "    }\n",
              "\n",
              "    [theme=dark] .colab-df-convert:hover {\n",
              "      background-color: #434B5C;\n",
              "      box-shadow: 0px 1px 3px 1px rgba(0, 0, 0, 0.15);\n",
              "      filter: drop-shadow(0px 1px 2px rgba(0, 0, 0, 0.3));\n",
              "      fill: #FFFFFF;\n",
              "    }\n",
              "  </style>\n",
              "\n",
              "      <script>\n",
              "        const buttonEl =\n",
              "          document.querySelector('#df-18e4e81f-96ca-4175-b523-cb3b93f492da button.colab-df-convert');\n",
              "        buttonEl.style.display =\n",
              "          google.colab.kernel.accessAllowed ? 'block' : 'none';\n",
              "\n",
              "        async function convertToInteractive(key) {\n",
              "          const element = document.querySelector('#df-18e4e81f-96ca-4175-b523-cb3b93f492da');\n",
              "          const dataTable =\n",
              "            await google.colab.kernel.invokeFunction('convertToInteractive',\n",
              "                                                     [key], {});\n",
              "          if (!dataTable) return;\n",
              "\n",
              "          const docLinkHtml = 'Like what you see? Visit the ' +\n",
              "            '<a target=\"_blank\" href=https://colab.research.google.com/notebooks/data_table.ipynb>data table notebook</a>'\n",
              "            + ' to learn more about interactive tables.';\n",
              "          element.innerHTML = '';\n",
              "          dataTable['output_type'] = 'display_data';\n",
              "          await google.colab.output.renderOutput(dataTable, element);\n",
              "          const docLink = document.createElement('div');\n",
              "          docLink.innerHTML = docLinkHtml;\n",
              "          element.appendChild(docLink);\n",
              "        }\n",
              "      </script>\n",
              "    </div>\n",
              "  </div>\n",
              "  "
            ]
          },
          "metadata": {},
          "execution_count": 15
        }
      ]
    },
    {
      "cell_type": "code",
      "source": [
        "product_description_raw.isnull().sum()"
      ],
      "metadata": {
        "colab": {
          "base_uri": "https://localhost:8080/"
        },
        "id": "ar_-UuYG1gFP",
        "outputId": "bdbc01f3-32f4-43d1-e92c-d24be728274e"
      },
      "execution_count": 16,
      "outputs": [
        {
          "output_type": "execute_result",
          "data": {
            "text/plain": [
              "Unnamed: 0        0\n",
              "pk_product_ID     0\n",
              "product_desc      0\n",
              "family_product    0\n",
              "dtype: int64"
            ]
          },
          "metadata": {},
          "execution_count": 16
        }
      ]
    },
    {
      "cell_type": "code",
      "source": [
        "product_description_raw[product_description_raw.duplicated()]"
      ],
      "metadata": {
        "colab": {
          "base_uri": "https://localhost:8080/",
          "height": 0
        },
        "id": "VobyDPNY180c",
        "outputId": "d579c2f0-36c1-450f-99eb-2cf0909c4874"
      },
      "execution_count": 17,
      "outputs": [
        {
          "output_type": "execute_result",
          "data": {
            "text/plain": [
              "Empty DataFrame\n",
              "Columns: [Unnamed: 0, pk_product_ID, product_desc, family_product]\n",
              "Index: []"
            ],
            "text/html": [
              "\n",
              "  <div id=\"df-e599499e-d7be-45db-8e06-274a64b0a5e6\">\n",
              "    <div class=\"colab-df-container\">\n",
              "      <div>\n",
              "<style scoped>\n",
              "    .dataframe tbody tr th:only-of-type {\n",
              "        vertical-align: middle;\n",
              "    }\n",
              "\n",
              "    .dataframe tbody tr th {\n",
              "        vertical-align: top;\n",
              "    }\n",
              "\n",
              "    .dataframe thead th {\n",
              "        text-align: right;\n",
              "    }\n",
              "</style>\n",
              "<table border=\"1\" class=\"dataframe\">\n",
              "  <thead>\n",
              "    <tr style=\"text-align: right;\">\n",
              "      <th></th>\n",
              "      <th>Unnamed: 0</th>\n",
              "      <th>pk_product_ID</th>\n",
              "      <th>product_desc</th>\n",
              "      <th>family_product</th>\n",
              "    </tr>\n",
              "  </thead>\n",
              "  <tbody>\n",
              "  </tbody>\n",
              "</table>\n",
              "</div>\n",
              "      <button class=\"colab-df-convert\" onclick=\"convertToInteractive('df-e599499e-d7be-45db-8e06-274a64b0a5e6')\"\n",
              "              title=\"Convert this dataframe to an interactive table.\"\n",
              "              style=\"display:none;\">\n",
              "        \n",
              "  <svg xmlns=\"http://www.w3.org/2000/svg\" height=\"24px\"viewBox=\"0 0 24 24\"\n",
              "       width=\"24px\">\n",
              "    <path d=\"M0 0h24v24H0V0z\" fill=\"none\"/>\n",
              "    <path d=\"M18.56 5.44l.94 2.06.94-2.06 2.06-.94-2.06-.94-.94-2.06-.94 2.06-2.06.94zm-11 1L8.5 8.5l.94-2.06 2.06-.94-2.06-.94L8.5 2.5l-.94 2.06-2.06.94zm10 10l.94 2.06.94-2.06 2.06-.94-2.06-.94-.94-2.06-.94 2.06-2.06.94z\"/><path d=\"M17.41 7.96l-1.37-1.37c-.4-.4-.92-.59-1.43-.59-.52 0-1.04.2-1.43.59L10.3 9.45l-7.72 7.72c-.78.78-.78 2.05 0 2.83L4 21.41c.39.39.9.59 1.41.59.51 0 1.02-.2 1.41-.59l7.78-7.78 2.81-2.81c.8-.78.8-2.07 0-2.86zM5.41 20L4 18.59l7.72-7.72 1.47 1.35L5.41 20z\"/>\n",
              "  </svg>\n",
              "      </button>\n",
              "      \n",
              "  <style>\n",
              "    .colab-df-container {\n",
              "      display:flex;\n",
              "      flex-wrap:wrap;\n",
              "      gap: 12px;\n",
              "    }\n",
              "\n",
              "    .colab-df-convert {\n",
              "      background-color: #E8F0FE;\n",
              "      border: none;\n",
              "      border-radius: 50%;\n",
              "      cursor: pointer;\n",
              "      display: none;\n",
              "      fill: #1967D2;\n",
              "      height: 32px;\n",
              "      padding: 0 0 0 0;\n",
              "      width: 32px;\n",
              "    }\n",
              "\n",
              "    .colab-df-convert:hover {\n",
              "      background-color: #E2EBFA;\n",
              "      box-shadow: 0px 1px 2px rgba(60, 64, 67, 0.3), 0px 1px 3px 1px rgba(60, 64, 67, 0.15);\n",
              "      fill: #174EA6;\n",
              "    }\n",
              "\n",
              "    [theme=dark] .colab-df-convert {\n",
              "      background-color: #3B4455;\n",
              "      fill: #D2E3FC;\n",
              "    }\n",
              "\n",
              "    [theme=dark] .colab-df-convert:hover {\n",
              "      background-color: #434B5C;\n",
              "      box-shadow: 0px 1px 3px 1px rgba(0, 0, 0, 0.15);\n",
              "      filter: drop-shadow(0px 1px 2px rgba(0, 0, 0, 0.3));\n",
              "      fill: #FFFFFF;\n",
              "    }\n",
              "  </style>\n",
              "\n",
              "      <script>\n",
              "        const buttonEl =\n",
              "          document.querySelector('#df-e599499e-d7be-45db-8e06-274a64b0a5e6 button.colab-df-convert');\n",
              "        buttonEl.style.display =\n",
              "          google.colab.kernel.accessAllowed ? 'block' : 'none';\n",
              "\n",
              "        async function convertToInteractive(key) {\n",
              "          const element = document.querySelector('#df-e599499e-d7be-45db-8e06-274a64b0a5e6');\n",
              "          const dataTable =\n",
              "            await google.colab.kernel.invokeFunction('convertToInteractive',\n",
              "                                                     [key], {});\n",
              "          if (!dataTable) return;\n",
              "\n",
              "          const docLinkHtml = 'Like what you see? Visit the ' +\n",
              "            '<a target=\"_blank\" href=https://colab.research.google.com/notebooks/data_table.ipynb>data table notebook</a>'\n",
              "            + ' to learn more about interactive tables.';\n",
              "          element.innerHTML = '';\n",
              "          dataTable['output_type'] = 'display_data';\n",
              "          await google.colab.output.renderOutput(dataTable, element);\n",
              "          const docLink = document.createElement('div');\n",
              "          docLink.innerHTML = docLinkHtml;\n",
              "          element.appendChild(docLink);\n",
              "        }\n",
              "      </script>\n",
              "    </div>\n",
              "  </div>\n",
              "  "
            ]
          },
          "metadata": {},
          "execution_count": 17
        }
      ]
    },
    {
      "cell_type": "code",
      "source": [
        "# ACCIONES A LLEVAR A CABO \n",
        "\n",
        "# Eliminar columna Unnamed"
      ],
      "metadata": {
        "id": "m9_2ZNRu1wpE"
      },
      "execution_count": 18,
      "outputs": []
    },
    {
      "cell_type": "markdown",
      "source": [
        "### Customer Sociodemographics"
      ],
      "metadata": {
        "id": "MaBHzrXNyn_S"
      }
    },
    {
      "cell_type": "markdown",
      "source": [
        "* pk_cid =\tIdentificador de cliente\n",
        "* pk_partition =\tIdentificador de Partición. Mensualmente se ingesta en la tabla una partición con el estado de la base de clientes.\n",
        "* deceased =\tIndicador de fallecimiento\n",
        "* gender =\tSexo del cliente\n",
        "* region_code =\tProvincia de residencia del cliente (para ES)\n",
        "* salary =\tIngresos brutos de la unidad familiar\n",
        "* country_id =\tPaís de residencia del cliente\n",
        "* age =\tEdad del cliente"
      ],
      "metadata": {
        "id": "RN4rqVMoyn_e"
      }
    },
    {
      "cell_type": "code",
      "source": [
        "customer_sociodemographics_raw.info()"
      ],
      "metadata": {
        "colab": {
          "base_uri": "https://localhost:8080/"
        },
        "id": "vG4RJ69gyn_e",
        "outputId": "b25e2d28-f61c-4630-e913-e33a7a81fbaa"
      },
      "execution_count": 19,
      "outputs": [
        {
          "output_type": "stream",
          "name": "stdout",
          "text": [
            "<class 'pandas.core.frame.DataFrame'>\n",
            "RangeIndex: 5962924 entries, 0 to 5962923\n",
            "Data columns (total 9 columns):\n",
            " #   Column        Dtype  \n",
            "---  ------        -----  \n",
            " 0   Unnamed: 0    int64  \n",
            " 1   pk_cid        int64  \n",
            " 2   pk_partition  object \n",
            " 3   country_id    object \n",
            " 4   region_code   float64\n",
            " 5   gender        object \n",
            " 6   age           int64  \n",
            " 7   deceased      object \n",
            " 8   salary        float64\n",
            "dtypes: float64(2), int64(3), object(4)\n",
            "memory usage: 409.4+ MB\n"
          ]
        }
      ]
    },
    {
      "cell_type": "code",
      "source": [
        "customer_sociodemographics_raw.head()"
      ],
      "metadata": {
        "colab": {
          "base_uri": "https://localhost:8080/",
          "height": 206
        },
        "id": "xn1Ycawkyn_e",
        "outputId": "e460ab31-7db8-434f-be31-bf5cdae12610"
      },
      "execution_count": 20,
      "outputs": [
        {
          "output_type": "execute_result",
          "data": {
            "text/plain": [
              "   Unnamed: 0   pk_cid pk_partition country_id  region_code gender  age  \\\n",
              "0           0  1375586      2018-01         ES         29.0      H   35   \n",
              "1           1  1050611      2018-01         ES         13.0      V   23   \n",
              "2           2  1050612      2018-01         ES         13.0      V   23   \n",
              "3           3  1050613      2018-01         ES         50.0      H   22   \n",
              "4           4  1050614      2018-01         ES         50.0      V   23   \n",
              "\n",
              "  deceased     salary  \n",
              "0        N   87218.10  \n",
              "1        N   35548.74  \n",
              "2        N  122179.11  \n",
              "3        N  119775.54  \n",
              "4        N        NaN  "
            ],
            "text/html": [
              "\n",
              "  <div id=\"df-79fbbd96-d68b-464e-af4e-554f59382b03\">\n",
              "    <div class=\"colab-df-container\">\n",
              "      <div>\n",
              "<style scoped>\n",
              "    .dataframe tbody tr th:only-of-type {\n",
              "        vertical-align: middle;\n",
              "    }\n",
              "\n",
              "    .dataframe tbody tr th {\n",
              "        vertical-align: top;\n",
              "    }\n",
              "\n",
              "    .dataframe thead th {\n",
              "        text-align: right;\n",
              "    }\n",
              "</style>\n",
              "<table border=\"1\" class=\"dataframe\">\n",
              "  <thead>\n",
              "    <tr style=\"text-align: right;\">\n",
              "      <th></th>\n",
              "      <th>Unnamed: 0</th>\n",
              "      <th>pk_cid</th>\n",
              "      <th>pk_partition</th>\n",
              "      <th>country_id</th>\n",
              "      <th>region_code</th>\n",
              "      <th>gender</th>\n",
              "      <th>age</th>\n",
              "      <th>deceased</th>\n",
              "      <th>salary</th>\n",
              "    </tr>\n",
              "  </thead>\n",
              "  <tbody>\n",
              "    <tr>\n",
              "      <th>0</th>\n",
              "      <td>0</td>\n",
              "      <td>1375586</td>\n",
              "      <td>2018-01</td>\n",
              "      <td>ES</td>\n",
              "      <td>29.0</td>\n",
              "      <td>H</td>\n",
              "      <td>35</td>\n",
              "      <td>N</td>\n",
              "      <td>87218.10</td>\n",
              "    </tr>\n",
              "    <tr>\n",
              "      <th>1</th>\n",
              "      <td>1</td>\n",
              "      <td>1050611</td>\n",
              "      <td>2018-01</td>\n",
              "      <td>ES</td>\n",
              "      <td>13.0</td>\n",
              "      <td>V</td>\n",
              "      <td>23</td>\n",
              "      <td>N</td>\n",
              "      <td>35548.74</td>\n",
              "    </tr>\n",
              "    <tr>\n",
              "      <th>2</th>\n",
              "      <td>2</td>\n",
              "      <td>1050612</td>\n",
              "      <td>2018-01</td>\n",
              "      <td>ES</td>\n",
              "      <td>13.0</td>\n",
              "      <td>V</td>\n",
              "      <td>23</td>\n",
              "      <td>N</td>\n",
              "      <td>122179.11</td>\n",
              "    </tr>\n",
              "    <tr>\n",
              "      <th>3</th>\n",
              "      <td>3</td>\n",
              "      <td>1050613</td>\n",
              "      <td>2018-01</td>\n",
              "      <td>ES</td>\n",
              "      <td>50.0</td>\n",
              "      <td>H</td>\n",
              "      <td>22</td>\n",
              "      <td>N</td>\n",
              "      <td>119775.54</td>\n",
              "    </tr>\n",
              "    <tr>\n",
              "      <th>4</th>\n",
              "      <td>4</td>\n",
              "      <td>1050614</td>\n",
              "      <td>2018-01</td>\n",
              "      <td>ES</td>\n",
              "      <td>50.0</td>\n",
              "      <td>V</td>\n",
              "      <td>23</td>\n",
              "      <td>N</td>\n",
              "      <td>NaN</td>\n",
              "    </tr>\n",
              "  </tbody>\n",
              "</table>\n",
              "</div>\n",
              "      <button class=\"colab-df-convert\" onclick=\"convertToInteractive('df-79fbbd96-d68b-464e-af4e-554f59382b03')\"\n",
              "              title=\"Convert this dataframe to an interactive table.\"\n",
              "              style=\"display:none;\">\n",
              "        \n",
              "  <svg xmlns=\"http://www.w3.org/2000/svg\" height=\"24px\"viewBox=\"0 0 24 24\"\n",
              "       width=\"24px\">\n",
              "    <path d=\"M0 0h24v24H0V0z\" fill=\"none\"/>\n",
              "    <path d=\"M18.56 5.44l.94 2.06.94-2.06 2.06-.94-2.06-.94-.94-2.06-.94 2.06-2.06.94zm-11 1L8.5 8.5l.94-2.06 2.06-.94-2.06-.94L8.5 2.5l-.94 2.06-2.06.94zm10 10l.94 2.06.94-2.06 2.06-.94-2.06-.94-.94-2.06-.94 2.06-2.06.94z\"/><path d=\"M17.41 7.96l-1.37-1.37c-.4-.4-.92-.59-1.43-.59-.52 0-1.04.2-1.43.59L10.3 9.45l-7.72 7.72c-.78.78-.78 2.05 0 2.83L4 21.41c.39.39.9.59 1.41.59.51 0 1.02-.2 1.41-.59l7.78-7.78 2.81-2.81c.8-.78.8-2.07 0-2.86zM5.41 20L4 18.59l7.72-7.72 1.47 1.35L5.41 20z\"/>\n",
              "  </svg>\n",
              "      </button>\n",
              "      \n",
              "  <style>\n",
              "    .colab-df-container {\n",
              "      display:flex;\n",
              "      flex-wrap:wrap;\n",
              "      gap: 12px;\n",
              "    }\n",
              "\n",
              "    .colab-df-convert {\n",
              "      background-color: #E8F0FE;\n",
              "      border: none;\n",
              "      border-radius: 50%;\n",
              "      cursor: pointer;\n",
              "      display: none;\n",
              "      fill: #1967D2;\n",
              "      height: 32px;\n",
              "      padding: 0 0 0 0;\n",
              "      width: 32px;\n",
              "    }\n",
              "\n",
              "    .colab-df-convert:hover {\n",
              "      background-color: #E2EBFA;\n",
              "      box-shadow: 0px 1px 2px rgba(60, 64, 67, 0.3), 0px 1px 3px 1px rgba(60, 64, 67, 0.15);\n",
              "      fill: #174EA6;\n",
              "    }\n",
              "\n",
              "    [theme=dark] .colab-df-convert {\n",
              "      background-color: #3B4455;\n",
              "      fill: #D2E3FC;\n",
              "    }\n",
              "\n",
              "    [theme=dark] .colab-df-convert:hover {\n",
              "      background-color: #434B5C;\n",
              "      box-shadow: 0px 1px 3px 1px rgba(0, 0, 0, 0.15);\n",
              "      filter: drop-shadow(0px 1px 2px rgba(0, 0, 0, 0.3));\n",
              "      fill: #FFFFFF;\n",
              "    }\n",
              "  </style>\n",
              "\n",
              "      <script>\n",
              "        const buttonEl =\n",
              "          document.querySelector('#df-79fbbd96-d68b-464e-af4e-554f59382b03 button.colab-df-convert');\n",
              "        buttonEl.style.display =\n",
              "          google.colab.kernel.accessAllowed ? 'block' : 'none';\n",
              "\n",
              "        async function convertToInteractive(key) {\n",
              "          const element = document.querySelector('#df-79fbbd96-d68b-464e-af4e-554f59382b03');\n",
              "          const dataTable =\n",
              "            await google.colab.kernel.invokeFunction('convertToInteractive',\n",
              "                                                     [key], {});\n",
              "          if (!dataTable) return;\n",
              "\n",
              "          const docLinkHtml = 'Like what you see? Visit the ' +\n",
              "            '<a target=\"_blank\" href=https://colab.research.google.com/notebooks/data_table.ipynb>data table notebook</a>'\n",
              "            + ' to learn more about interactive tables.';\n",
              "          element.innerHTML = '';\n",
              "          dataTable['output_type'] = 'display_data';\n",
              "          await google.colab.output.renderOutput(dataTable, element);\n",
              "          const docLink = document.createElement('div');\n",
              "          docLink.innerHTML = docLinkHtml;\n",
              "          element.appendChild(docLink);\n",
              "        }\n",
              "      </script>\n",
              "    </div>\n",
              "  </div>\n",
              "  "
            ]
          },
          "metadata": {},
          "execution_count": 20
        }
      ]
    },
    {
      "cell_type": "code",
      "source": [
        "customer_sociodemographics_raw.describe(include = ['object'])"
      ],
      "metadata": {
        "colab": {
          "base_uri": "https://localhost:8080/",
          "height": 175
        },
        "id": "2FtPt2M8yn_e",
        "outputId": "9c3e26ff-466e-4902-b596-cc10eeb85df1"
      },
      "execution_count": 21,
      "outputs": [
        {
          "output_type": "execute_result",
          "data": {
            "text/plain": [
              "       pk_partition country_id   gender deceased\n",
              "count       5962924    5962924  5962899  5962924\n",
              "unique           17         41        2        2\n",
              "top         2019-05         ES        H        N\n",
              "freq         442995    5960672  3087502  5961849"
            ],
            "text/html": [
              "\n",
              "  <div id=\"df-e2780209-20ff-4d61-b9ac-52258cd02e30\">\n",
              "    <div class=\"colab-df-container\">\n",
              "      <div>\n",
              "<style scoped>\n",
              "    .dataframe tbody tr th:only-of-type {\n",
              "        vertical-align: middle;\n",
              "    }\n",
              "\n",
              "    .dataframe tbody tr th {\n",
              "        vertical-align: top;\n",
              "    }\n",
              "\n",
              "    .dataframe thead th {\n",
              "        text-align: right;\n",
              "    }\n",
              "</style>\n",
              "<table border=\"1\" class=\"dataframe\">\n",
              "  <thead>\n",
              "    <tr style=\"text-align: right;\">\n",
              "      <th></th>\n",
              "      <th>pk_partition</th>\n",
              "      <th>country_id</th>\n",
              "      <th>gender</th>\n",
              "      <th>deceased</th>\n",
              "    </tr>\n",
              "  </thead>\n",
              "  <tbody>\n",
              "    <tr>\n",
              "      <th>count</th>\n",
              "      <td>5962924</td>\n",
              "      <td>5962924</td>\n",
              "      <td>5962899</td>\n",
              "      <td>5962924</td>\n",
              "    </tr>\n",
              "    <tr>\n",
              "      <th>unique</th>\n",
              "      <td>17</td>\n",
              "      <td>41</td>\n",
              "      <td>2</td>\n",
              "      <td>2</td>\n",
              "    </tr>\n",
              "    <tr>\n",
              "      <th>top</th>\n",
              "      <td>2019-05</td>\n",
              "      <td>ES</td>\n",
              "      <td>H</td>\n",
              "      <td>N</td>\n",
              "    </tr>\n",
              "    <tr>\n",
              "      <th>freq</th>\n",
              "      <td>442995</td>\n",
              "      <td>5960672</td>\n",
              "      <td>3087502</td>\n",
              "      <td>5961849</td>\n",
              "    </tr>\n",
              "  </tbody>\n",
              "</table>\n",
              "</div>\n",
              "      <button class=\"colab-df-convert\" onclick=\"convertToInteractive('df-e2780209-20ff-4d61-b9ac-52258cd02e30')\"\n",
              "              title=\"Convert this dataframe to an interactive table.\"\n",
              "              style=\"display:none;\">\n",
              "        \n",
              "  <svg xmlns=\"http://www.w3.org/2000/svg\" height=\"24px\"viewBox=\"0 0 24 24\"\n",
              "       width=\"24px\">\n",
              "    <path d=\"M0 0h24v24H0V0z\" fill=\"none\"/>\n",
              "    <path d=\"M18.56 5.44l.94 2.06.94-2.06 2.06-.94-2.06-.94-.94-2.06-.94 2.06-2.06.94zm-11 1L8.5 8.5l.94-2.06 2.06-.94-2.06-.94L8.5 2.5l-.94 2.06-2.06.94zm10 10l.94 2.06.94-2.06 2.06-.94-2.06-.94-.94-2.06-.94 2.06-2.06.94z\"/><path d=\"M17.41 7.96l-1.37-1.37c-.4-.4-.92-.59-1.43-.59-.52 0-1.04.2-1.43.59L10.3 9.45l-7.72 7.72c-.78.78-.78 2.05 0 2.83L4 21.41c.39.39.9.59 1.41.59.51 0 1.02-.2 1.41-.59l7.78-7.78 2.81-2.81c.8-.78.8-2.07 0-2.86zM5.41 20L4 18.59l7.72-7.72 1.47 1.35L5.41 20z\"/>\n",
              "  </svg>\n",
              "      </button>\n",
              "      \n",
              "  <style>\n",
              "    .colab-df-container {\n",
              "      display:flex;\n",
              "      flex-wrap:wrap;\n",
              "      gap: 12px;\n",
              "    }\n",
              "\n",
              "    .colab-df-convert {\n",
              "      background-color: #E8F0FE;\n",
              "      border: none;\n",
              "      border-radius: 50%;\n",
              "      cursor: pointer;\n",
              "      display: none;\n",
              "      fill: #1967D2;\n",
              "      height: 32px;\n",
              "      padding: 0 0 0 0;\n",
              "      width: 32px;\n",
              "    }\n",
              "\n",
              "    .colab-df-convert:hover {\n",
              "      background-color: #E2EBFA;\n",
              "      box-shadow: 0px 1px 2px rgba(60, 64, 67, 0.3), 0px 1px 3px 1px rgba(60, 64, 67, 0.15);\n",
              "      fill: #174EA6;\n",
              "    }\n",
              "\n",
              "    [theme=dark] .colab-df-convert {\n",
              "      background-color: #3B4455;\n",
              "      fill: #D2E3FC;\n",
              "    }\n",
              "\n",
              "    [theme=dark] .colab-df-convert:hover {\n",
              "      background-color: #434B5C;\n",
              "      box-shadow: 0px 1px 3px 1px rgba(0, 0, 0, 0.15);\n",
              "      filter: drop-shadow(0px 1px 2px rgba(0, 0, 0, 0.3));\n",
              "      fill: #FFFFFF;\n",
              "    }\n",
              "  </style>\n",
              "\n",
              "      <script>\n",
              "        const buttonEl =\n",
              "          document.querySelector('#df-e2780209-20ff-4d61-b9ac-52258cd02e30 button.colab-df-convert');\n",
              "        buttonEl.style.display =\n",
              "          google.colab.kernel.accessAllowed ? 'block' : 'none';\n",
              "\n",
              "        async function convertToInteractive(key) {\n",
              "          const element = document.querySelector('#df-e2780209-20ff-4d61-b9ac-52258cd02e30');\n",
              "          const dataTable =\n",
              "            await google.colab.kernel.invokeFunction('convertToInteractive',\n",
              "                                                     [key], {});\n",
              "          if (!dataTable) return;\n",
              "\n",
              "          const docLinkHtml = 'Like what you see? Visit the ' +\n",
              "            '<a target=\"_blank\" href=https://colab.research.google.com/notebooks/data_table.ipynb>data table notebook</a>'\n",
              "            + ' to learn more about interactive tables.';\n",
              "          element.innerHTML = '';\n",
              "          dataTable['output_type'] = 'display_data';\n",
              "          await google.colab.output.renderOutput(dataTable, element);\n",
              "          const docLink = document.createElement('div');\n",
              "          docLink.innerHTML = docLinkHtml;\n",
              "          element.appendChild(docLink);\n",
              "        }\n",
              "      </script>\n",
              "    </div>\n",
              "  </div>\n",
              "  "
            ]
          },
          "metadata": {},
          "execution_count": 21
        }
      ]
    },
    {
      "cell_type": "code",
      "source": [
        "customer_sociodemographics_raw.describe(exclude = ['object'])"
      ],
      "metadata": {
        "colab": {
          "base_uri": "https://localhost:8080/",
          "height": 300
        },
        "id": "zxxezDhdyn_f",
        "outputId": "7e2539c5-e596-4541-fffa-305784c5321b"
      },
      "execution_count": 22,
      "outputs": [
        {
          "output_type": "execute_result",
          "data": {
            "text/plain": [
              "         Unnamed: 0        pk_cid   region_code           age        salary\n",
              "count  5.962924e+06  5.962924e+06  5.960660e+06  5.962924e+06  4.421820e+06\n",
              "mean   7.155425e+06  1.234930e+06  2.581440e+01  2.976042e+01  1.155833e+05\n",
              "std    3.920784e+06  1.623020e+05  1.359566e+01  1.198038e+01  2.000066e+05\n",
              "min    0.000000e+00  1.589100e+04  1.000000e+00  2.000000e+00  1.202730e+03\n",
              "25%    4.240386e+06  1.112532e+06  1.300000e+01  2.200000e+01  6.141532e+04\n",
              "50%    7.499346e+06  1.231097e+06  2.800000e+01  2.500000e+01  8.844147e+04\n",
              "75%    1.020142e+07  1.352339e+06  3.600000e+01  3.400000e+01  1.313092e+05\n",
              "max    1.364731e+07  1.553689e+06  5.200000e+01  1.050000e+02  2.889440e+07"
            ],
            "text/html": [
              "\n",
              "  <div id=\"df-b01c59ed-979d-4424-8b50-12aa19a8a9b3\">\n",
              "    <div class=\"colab-df-container\">\n",
              "      <div>\n",
              "<style scoped>\n",
              "    .dataframe tbody tr th:only-of-type {\n",
              "        vertical-align: middle;\n",
              "    }\n",
              "\n",
              "    .dataframe tbody tr th {\n",
              "        vertical-align: top;\n",
              "    }\n",
              "\n",
              "    .dataframe thead th {\n",
              "        text-align: right;\n",
              "    }\n",
              "</style>\n",
              "<table border=\"1\" class=\"dataframe\">\n",
              "  <thead>\n",
              "    <tr style=\"text-align: right;\">\n",
              "      <th></th>\n",
              "      <th>Unnamed: 0</th>\n",
              "      <th>pk_cid</th>\n",
              "      <th>region_code</th>\n",
              "      <th>age</th>\n",
              "      <th>salary</th>\n",
              "    </tr>\n",
              "  </thead>\n",
              "  <tbody>\n",
              "    <tr>\n",
              "      <th>count</th>\n",
              "      <td>5.962924e+06</td>\n",
              "      <td>5.962924e+06</td>\n",
              "      <td>5.960660e+06</td>\n",
              "      <td>5.962924e+06</td>\n",
              "      <td>4.421820e+06</td>\n",
              "    </tr>\n",
              "    <tr>\n",
              "      <th>mean</th>\n",
              "      <td>7.155425e+06</td>\n",
              "      <td>1.234930e+06</td>\n",
              "      <td>2.581440e+01</td>\n",
              "      <td>2.976042e+01</td>\n",
              "      <td>1.155833e+05</td>\n",
              "    </tr>\n",
              "    <tr>\n",
              "      <th>std</th>\n",
              "      <td>3.920784e+06</td>\n",
              "      <td>1.623020e+05</td>\n",
              "      <td>1.359566e+01</td>\n",
              "      <td>1.198038e+01</td>\n",
              "      <td>2.000066e+05</td>\n",
              "    </tr>\n",
              "    <tr>\n",
              "      <th>min</th>\n",
              "      <td>0.000000e+00</td>\n",
              "      <td>1.589100e+04</td>\n",
              "      <td>1.000000e+00</td>\n",
              "      <td>2.000000e+00</td>\n",
              "      <td>1.202730e+03</td>\n",
              "    </tr>\n",
              "    <tr>\n",
              "      <th>25%</th>\n",
              "      <td>4.240386e+06</td>\n",
              "      <td>1.112532e+06</td>\n",
              "      <td>1.300000e+01</td>\n",
              "      <td>2.200000e+01</td>\n",
              "      <td>6.141532e+04</td>\n",
              "    </tr>\n",
              "    <tr>\n",
              "      <th>50%</th>\n",
              "      <td>7.499346e+06</td>\n",
              "      <td>1.231097e+06</td>\n",
              "      <td>2.800000e+01</td>\n",
              "      <td>2.500000e+01</td>\n",
              "      <td>8.844147e+04</td>\n",
              "    </tr>\n",
              "    <tr>\n",
              "      <th>75%</th>\n",
              "      <td>1.020142e+07</td>\n",
              "      <td>1.352339e+06</td>\n",
              "      <td>3.600000e+01</td>\n",
              "      <td>3.400000e+01</td>\n",
              "      <td>1.313092e+05</td>\n",
              "    </tr>\n",
              "    <tr>\n",
              "      <th>max</th>\n",
              "      <td>1.364731e+07</td>\n",
              "      <td>1.553689e+06</td>\n",
              "      <td>5.200000e+01</td>\n",
              "      <td>1.050000e+02</td>\n",
              "      <td>2.889440e+07</td>\n",
              "    </tr>\n",
              "  </tbody>\n",
              "</table>\n",
              "</div>\n",
              "      <button class=\"colab-df-convert\" onclick=\"convertToInteractive('df-b01c59ed-979d-4424-8b50-12aa19a8a9b3')\"\n",
              "              title=\"Convert this dataframe to an interactive table.\"\n",
              "              style=\"display:none;\">\n",
              "        \n",
              "  <svg xmlns=\"http://www.w3.org/2000/svg\" height=\"24px\"viewBox=\"0 0 24 24\"\n",
              "       width=\"24px\">\n",
              "    <path d=\"M0 0h24v24H0V0z\" fill=\"none\"/>\n",
              "    <path d=\"M18.56 5.44l.94 2.06.94-2.06 2.06-.94-2.06-.94-.94-2.06-.94 2.06-2.06.94zm-11 1L8.5 8.5l.94-2.06 2.06-.94-2.06-.94L8.5 2.5l-.94 2.06-2.06.94zm10 10l.94 2.06.94-2.06 2.06-.94-2.06-.94-.94-2.06-.94 2.06-2.06.94z\"/><path d=\"M17.41 7.96l-1.37-1.37c-.4-.4-.92-.59-1.43-.59-.52 0-1.04.2-1.43.59L10.3 9.45l-7.72 7.72c-.78.78-.78 2.05 0 2.83L4 21.41c.39.39.9.59 1.41.59.51 0 1.02-.2 1.41-.59l7.78-7.78 2.81-2.81c.8-.78.8-2.07 0-2.86zM5.41 20L4 18.59l7.72-7.72 1.47 1.35L5.41 20z\"/>\n",
              "  </svg>\n",
              "      </button>\n",
              "      \n",
              "  <style>\n",
              "    .colab-df-container {\n",
              "      display:flex;\n",
              "      flex-wrap:wrap;\n",
              "      gap: 12px;\n",
              "    }\n",
              "\n",
              "    .colab-df-convert {\n",
              "      background-color: #E8F0FE;\n",
              "      border: none;\n",
              "      border-radius: 50%;\n",
              "      cursor: pointer;\n",
              "      display: none;\n",
              "      fill: #1967D2;\n",
              "      height: 32px;\n",
              "      padding: 0 0 0 0;\n",
              "      width: 32px;\n",
              "    }\n",
              "\n",
              "    .colab-df-convert:hover {\n",
              "      background-color: #E2EBFA;\n",
              "      box-shadow: 0px 1px 2px rgba(60, 64, 67, 0.3), 0px 1px 3px 1px rgba(60, 64, 67, 0.15);\n",
              "      fill: #174EA6;\n",
              "    }\n",
              "\n",
              "    [theme=dark] .colab-df-convert {\n",
              "      background-color: #3B4455;\n",
              "      fill: #D2E3FC;\n",
              "    }\n",
              "\n",
              "    [theme=dark] .colab-df-convert:hover {\n",
              "      background-color: #434B5C;\n",
              "      box-shadow: 0px 1px 3px 1px rgba(0, 0, 0, 0.15);\n",
              "      filter: drop-shadow(0px 1px 2px rgba(0, 0, 0, 0.3));\n",
              "      fill: #FFFFFF;\n",
              "    }\n",
              "  </style>\n",
              "\n",
              "      <script>\n",
              "        const buttonEl =\n",
              "          document.querySelector('#df-b01c59ed-979d-4424-8b50-12aa19a8a9b3 button.colab-df-convert');\n",
              "        buttonEl.style.display =\n",
              "          google.colab.kernel.accessAllowed ? 'block' : 'none';\n",
              "\n",
              "        async function convertToInteractive(key) {\n",
              "          const element = document.querySelector('#df-b01c59ed-979d-4424-8b50-12aa19a8a9b3');\n",
              "          const dataTable =\n",
              "            await google.colab.kernel.invokeFunction('convertToInteractive',\n",
              "                                                     [key], {});\n",
              "          if (!dataTable) return;\n",
              "\n",
              "          const docLinkHtml = 'Like what you see? Visit the ' +\n",
              "            '<a target=\"_blank\" href=https://colab.research.google.com/notebooks/data_table.ipynb>data table notebook</a>'\n",
              "            + ' to learn more about interactive tables.';\n",
              "          element.innerHTML = '';\n",
              "          dataTable['output_type'] = 'display_data';\n",
              "          await google.colab.output.renderOutput(dataTable, element);\n",
              "          const docLink = document.createElement('div');\n",
              "          docLink.innerHTML = docLinkHtml;\n",
              "          element.appendChild(docLink);\n",
              "        }\n",
              "      </script>\n",
              "    </div>\n",
              "  </div>\n",
              "  "
            ]
          },
          "metadata": {},
          "execution_count": 22
        }
      ]
    },
    {
      "cell_type": "code",
      "source": [
        "customer_sociodemographics_raw.isnull().sum()"
      ],
      "metadata": {
        "colab": {
          "base_uri": "https://localhost:8080/"
        },
        "id": "TD_ZD3e_yn_f",
        "outputId": "03663cb1-ce71-473b-b57a-a067b4f7f279"
      },
      "execution_count": 23,
      "outputs": [
        {
          "output_type": "execute_result",
          "data": {
            "text/plain": [
              "Unnamed: 0            0\n",
              "pk_cid                0\n",
              "pk_partition          0\n",
              "country_id            0\n",
              "region_code        2264\n",
              "gender               25\n",
              "age                   0\n",
              "deceased              0\n",
              "salary          1541104\n",
              "dtype: int64"
            ]
          },
          "metadata": {},
          "execution_count": 23
        }
      ]
    },
    {
      "cell_type": "code",
      "source": [
        "customer_sociodemographics_raw[\"country_id\"].value_counts().head(10)"
      ],
      "metadata": {
        "colab": {
          "base_uri": "https://localhost:8080/"
        },
        "id": "veQVxGbAyn_f",
        "outputId": "bab6cf32-fb92-4424-e90e-00fc3be70a70"
      },
      "execution_count": 24,
      "outputs": [
        {
          "output_type": "execute_result",
          "data": {
            "text/plain": [
              "ES    5960672\n",
              "GB        441\n",
              "FR        225\n",
              "DE        199\n",
              "US        195\n",
              "CH        194\n",
              "BR         87\n",
              "BE         81\n",
              "VE         79\n",
              "IE         68\n",
              "Name: country_id, dtype: int64"
            ]
          },
          "metadata": {},
          "execution_count": 24
        }
      ]
    },
    {
      "cell_type": "code",
      "source": [
        "# ACCIONES CUSTOMER SOCIODEMOGRAPHICS\n",
        "\n",
        "# Gestionar nulos: (Culebra: tenemos modelo de clasificación así que lo que haremos será ponerles valores extremos)\n",
        "#     region_code\n",
        "#     gender\n",
        "#     salary\n",
        "# gender > Transformar a 1 y 0\n",
        "# deceased > Transformar a 1 y 0\n",
        "# country_id > Transformar a boolean \"ES\" Sí/No\n"
      ],
      "metadata": {
        "id": "sc0F1_4wyn_f"
      },
      "execution_count": 25,
      "outputs": []
    },
    {
      "cell_type": "code",
      "source": [],
      "metadata": {
        "id": "ADvDpso4yn_f"
      },
      "execution_count": 25,
      "outputs": []
    },
    {
      "cell_type": "markdown",
      "source": [
        "### Customer Commercial Activity"
      ],
      "metadata": {
        "id": "xLmTCU9FsnzR"
      }
    },
    {
      "cell_type": "markdown",
      "source": [
        "* pk_cid = Identificador de cliente\n",
        "* pk_partition =\tIdentificador de Partición. Mensualmente se ingesta en la tabla una partición con el estado de la base de clientes.\n",
        "* entry_channel =\tCanal de captación del cliente\n",
        "* entry_date =\tFecha en la que realizó la primera contratación a través de easyMoney\n",
        "* segment =\tSegmento comercial del cliente\n",
        "* active_customer =\tIndicador de actividad del cliente en la app EasyMoney"
      ],
      "metadata": {
        "id": "Y8ibAYQ5twNd"
      }
    },
    {
      "cell_type": "code",
      "source": [
        "customer_commercial_activity_raw.info()"
      ],
      "metadata": {
        "colab": {
          "base_uri": "https://localhost:8080/"
        },
        "id": "rX8I1oKUsv7d",
        "outputId": "c41ca4a8-205c-460d-8c24-0d489cd3e97e"
      },
      "execution_count": 26,
      "outputs": [
        {
          "output_type": "stream",
          "name": "stdout",
          "text": [
            "<class 'pandas.core.frame.DataFrame'>\n",
            "RangeIndex: 5962924 entries, 0 to 5962923\n",
            "Data columns (total 7 columns):\n",
            " #   Column           Dtype  \n",
            "---  ------           -----  \n",
            " 0   Unnamed: 0       int64  \n",
            " 1   pk_cid           int64  \n",
            " 2   pk_partition     object \n",
            " 3   entry_date       object \n",
            " 4   entry_channel    object \n",
            " 5   active_customer  float64\n",
            " 6   segment          object \n",
            "dtypes: float64(1), int64(2), object(4)\n",
            "memory usage: 318.5+ MB\n"
          ]
        }
      ]
    },
    {
      "cell_type": "code",
      "source": [
        "customer_commercial_activity_raw.head()"
      ],
      "metadata": {
        "colab": {
          "base_uri": "https://localhost:8080/",
          "height": 206
        },
        "id": "LvZ5Sffrqtql",
        "outputId": "f2a55608-b717-4a64-da72-ca15f2bb26c3"
      },
      "execution_count": 27,
      "outputs": [
        {
          "output_type": "execute_result",
          "data": {
            "text/plain": [
              "   Unnamed: 0   pk_cid pk_partition entry_date entry_channel  active_customer  \\\n",
              "0           0  1375586      2018-01    2018-01           KHL              1.0   \n",
              "1           1  1050611      2018-01    2015-08           KHE              0.0   \n",
              "2           2  1050612      2018-01    2015-08           KHE              0.0   \n",
              "3           3  1050613      2018-01    2015-08           KHD              0.0   \n",
              "4           4  1050614      2018-01    2015-08           KHE              1.0   \n",
              "\n",
              "              segment  \n",
              "0   02 - PARTICULARES  \n",
              "1  03 - UNIVERSITARIO  \n",
              "2  03 - UNIVERSITARIO  \n",
              "3  03 - UNIVERSITARIO  \n",
              "4  03 - UNIVERSITARIO  "
            ],
            "text/html": [
              "\n",
              "  <div id=\"df-b33009b1-7f60-407f-bcca-0aba9bcdc7fe\">\n",
              "    <div class=\"colab-df-container\">\n",
              "      <div>\n",
              "<style scoped>\n",
              "    .dataframe tbody tr th:only-of-type {\n",
              "        vertical-align: middle;\n",
              "    }\n",
              "\n",
              "    .dataframe tbody tr th {\n",
              "        vertical-align: top;\n",
              "    }\n",
              "\n",
              "    .dataframe thead th {\n",
              "        text-align: right;\n",
              "    }\n",
              "</style>\n",
              "<table border=\"1\" class=\"dataframe\">\n",
              "  <thead>\n",
              "    <tr style=\"text-align: right;\">\n",
              "      <th></th>\n",
              "      <th>Unnamed: 0</th>\n",
              "      <th>pk_cid</th>\n",
              "      <th>pk_partition</th>\n",
              "      <th>entry_date</th>\n",
              "      <th>entry_channel</th>\n",
              "      <th>active_customer</th>\n",
              "      <th>segment</th>\n",
              "    </tr>\n",
              "  </thead>\n",
              "  <tbody>\n",
              "    <tr>\n",
              "      <th>0</th>\n",
              "      <td>0</td>\n",
              "      <td>1375586</td>\n",
              "      <td>2018-01</td>\n",
              "      <td>2018-01</td>\n",
              "      <td>KHL</td>\n",
              "      <td>1.0</td>\n",
              "      <td>02 - PARTICULARES</td>\n",
              "    </tr>\n",
              "    <tr>\n",
              "      <th>1</th>\n",
              "      <td>1</td>\n",
              "      <td>1050611</td>\n",
              "      <td>2018-01</td>\n",
              "      <td>2015-08</td>\n",
              "      <td>KHE</td>\n",
              "      <td>0.0</td>\n",
              "      <td>03 - UNIVERSITARIO</td>\n",
              "    </tr>\n",
              "    <tr>\n",
              "      <th>2</th>\n",
              "      <td>2</td>\n",
              "      <td>1050612</td>\n",
              "      <td>2018-01</td>\n",
              "      <td>2015-08</td>\n",
              "      <td>KHE</td>\n",
              "      <td>0.0</td>\n",
              "      <td>03 - UNIVERSITARIO</td>\n",
              "    </tr>\n",
              "    <tr>\n",
              "      <th>3</th>\n",
              "      <td>3</td>\n",
              "      <td>1050613</td>\n",
              "      <td>2018-01</td>\n",
              "      <td>2015-08</td>\n",
              "      <td>KHD</td>\n",
              "      <td>0.0</td>\n",
              "      <td>03 - UNIVERSITARIO</td>\n",
              "    </tr>\n",
              "    <tr>\n",
              "      <th>4</th>\n",
              "      <td>4</td>\n",
              "      <td>1050614</td>\n",
              "      <td>2018-01</td>\n",
              "      <td>2015-08</td>\n",
              "      <td>KHE</td>\n",
              "      <td>1.0</td>\n",
              "      <td>03 - UNIVERSITARIO</td>\n",
              "    </tr>\n",
              "  </tbody>\n",
              "</table>\n",
              "</div>\n",
              "      <button class=\"colab-df-convert\" onclick=\"convertToInteractive('df-b33009b1-7f60-407f-bcca-0aba9bcdc7fe')\"\n",
              "              title=\"Convert this dataframe to an interactive table.\"\n",
              "              style=\"display:none;\">\n",
              "        \n",
              "  <svg xmlns=\"http://www.w3.org/2000/svg\" height=\"24px\"viewBox=\"0 0 24 24\"\n",
              "       width=\"24px\">\n",
              "    <path d=\"M0 0h24v24H0V0z\" fill=\"none\"/>\n",
              "    <path d=\"M18.56 5.44l.94 2.06.94-2.06 2.06-.94-2.06-.94-.94-2.06-.94 2.06-2.06.94zm-11 1L8.5 8.5l.94-2.06 2.06-.94-2.06-.94L8.5 2.5l-.94 2.06-2.06.94zm10 10l.94 2.06.94-2.06 2.06-.94-2.06-.94-.94-2.06-.94 2.06-2.06.94z\"/><path d=\"M17.41 7.96l-1.37-1.37c-.4-.4-.92-.59-1.43-.59-.52 0-1.04.2-1.43.59L10.3 9.45l-7.72 7.72c-.78.78-.78 2.05 0 2.83L4 21.41c.39.39.9.59 1.41.59.51 0 1.02-.2 1.41-.59l7.78-7.78 2.81-2.81c.8-.78.8-2.07 0-2.86zM5.41 20L4 18.59l7.72-7.72 1.47 1.35L5.41 20z\"/>\n",
              "  </svg>\n",
              "      </button>\n",
              "      \n",
              "  <style>\n",
              "    .colab-df-container {\n",
              "      display:flex;\n",
              "      flex-wrap:wrap;\n",
              "      gap: 12px;\n",
              "    }\n",
              "\n",
              "    .colab-df-convert {\n",
              "      background-color: #E8F0FE;\n",
              "      border: none;\n",
              "      border-radius: 50%;\n",
              "      cursor: pointer;\n",
              "      display: none;\n",
              "      fill: #1967D2;\n",
              "      height: 32px;\n",
              "      padding: 0 0 0 0;\n",
              "      width: 32px;\n",
              "    }\n",
              "\n",
              "    .colab-df-convert:hover {\n",
              "      background-color: #E2EBFA;\n",
              "      box-shadow: 0px 1px 2px rgba(60, 64, 67, 0.3), 0px 1px 3px 1px rgba(60, 64, 67, 0.15);\n",
              "      fill: #174EA6;\n",
              "    }\n",
              "\n",
              "    [theme=dark] .colab-df-convert {\n",
              "      background-color: #3B4455;\n",
              "      fill: #D2E3FC;\n",
              "    }\n",
              "\n",
              "    [theme=dark] .colab-df-convert:hover {\n",
              "      background-color: #434B5C;\n",
              "      box-shadow: 0px 1px 3px 1px rgba(0, 0, 0, 0.15);\n",
              "      filter: drop-shadow(0px 1px 2px rgba(0, 0, 0, 0.3));\n",
              "      fill: #FFFFFF;\n",
              "    }\n",
              "  </style>\n",
              "\n",
              "      <script>\n",
              "        const buttonEl =\n",
              "          document.querySelector('#df-b33009b1-7f60-407f-bcca-0aba9bcdc7fe button.colab-df-convert');\n",
              "        buttonEl.style.display =\n",
              "          google.colab.kernel.accessAllowed ? 'block' : 'none';\n",
              "\n",
              "        async function convertToInteractive(key) {\n",
              "          const element = document.querySelector('#df-b33009b1-7f60-407f-bcca-0aba9bcdc7fe');\n",
              "          const dataTable =\n",
              "            await google.colab.kernel.invokeFunction('convertToInteractive',\n",
              "                                                     [key], {});\n",
              "          if (!dataTable) return;\n",
              "\n",
              "          const docLinkHtml = 'Like what you see? Visit the ' +\n",
              "            '<a target=\"_blank\" href=https://colab.research.google.com/notebooks/data_table.ipynb>data table notebook</a>'\n",
              "            + ' to learn more about interactive tables.';\n",
              "          element.innerHTML = '';\n",
              "          dataTable['output_type'] = 'display_data';\n",
              "          await google.colab.output.renderOutput(dataTable, element);\n",
              "          const docLink = document.createElement('div');\n",
              "          docLink.innerHTML = docLinkHtml;\n",
              "          element.appendChild(docLink);\n",
              "        }\n",
              "      </script>\n",
              "    </div>\n",
              "  </div>\n",
              "  "
            ]
          },
          "metadata": {},
          "execution_count": 27
        }
      ]
    },
    {
      "cell_type": "code",
      "source": [
        "customer_commercial_activity_raw.describe(include = ['object'])"
      ],
      "metadata": {
        "colab": {
          "base_uri": "https://localhost:8080/",
          "height": 175
        },
        "id": "J2_ZVEmwv362",
        "outputId": "cf0b6696-6bc2-461f-daa1-54c3f5f76d26"
      },
      "execution_count": 28,
      "outputs": [
        {
          "output_type": "execute_result",
          "data": {
            "text/plain": [
              "       pk_partition entry_date entry_channel             segment\n",
              "count       5962924    5962924       5829891             5828980\n",
              "unique           17         53            68                   3\n",
              "top         2019-05    2016-10           KHE  03 - UNIVERSITARIO\n",
              "freq         442995     382473       3113947             3900166"
            ],
            "text/html": [
              "\n",
              "  <div id=\"df-2df812e6-47a8-451b-8a22-ea78bc732b87\">\n",
              "    <div class=\"colab-df-container\">\n",
              "      <div>\n",
              "<style scoped>\n",
              "    .dataframe tbody tr th:only-of-type {\n",
              "        vertical-align: middle;\n",
              "    }\n",
              "\n",
              "    .dataframe tbody tr th {\n",
              "        vertical-align: top;\n",
              "    }\n",
              "\n",
              "    .dataframe thead th {\n",
              "        text-align: right;\n",
              "    }\n",
              "</style>\n",
              "<table border=\"1\" class=\"dataframe\">\n",
              "  <thead>\n",
              "    <tr style=\"text-align: right;\">\n",
              "      <th></th>\n",
              "      <th>pk_partition</th>\n",
              "      <th>entry_date</th>\n",
              "      <th>entry_channel</th>\n",
              "      <th>segment</th>\n",
              "    </tr>\n",
              "  </thead>\n",
              "  <tbody>\n",
              "    <tr>\n",
              "      <th>count</th>\n",
              "      <td>5962924</td>\n",
              "      <td>5962924</td>\n",
              "      <td>5829891</td>\n",
              "      <td>5828980</td>\n",
              "    </tr>\n",
              "    <tr>\n",
              "      <th>unique</th>\n",
              "      <td>17</td>\n",
              "      <td>53</td>\n",
              "      <td>68</td>\n",
              "      <td>3</td>\n",
              "    </tr>\n",
              "    <tr>\n",
              "      <th>top</th>\n",
              "      <td>2019-05</td>\n",
              "      <td>2016-10</td>\n",
              "      <td>KHE</td>\n",
              "      <td>03 - UNIVERSITARIO</td>\n",
              "    </tr>\n",
              "    <tr>\n",
              "      <th>freq</th>\n",
              "      <td>442995</td>\n",
              "      <td>382473</td>\n",
              "      <td>3113947</td>\n",
              "      <td>3900166</td>\n",
              "    </tr>\n",
              "  </tbody>\n",
              "</table>\n",
              "</div>\n",
              "      <button class=\"colab-df-convert\" onclick=\"convertToInteractive('df-2df812e6-47a8-451b-8a22-ea78bc732b87')\"\n",
              "              title=\"Convert this dataframe to an interactive table.\"\n",
              "              style=\"display:none;\">\n",
              "        \n",
              "  <svg xmlns=\"http://www.w3.org/2000/svg\" height=\"24px\"viewBox=\"0 0 24 24\"\n",
              "       width=\"24px\">\n",
              "    <path d=\"M0 0h24v24H0V0z\" fill=\"none\"/>\n",
              "    <path d=\"M18.56 5.44l.94 2.06.94-2.06 2.06-.94-2.06-.94-.94-2.06-.94 2.06-2.06.94zm-11 1L8.5 8.5l.94-2.06 2.06-.94-2.06-.94L8.5 2.5l-.94 2.06-2.06.94zm10 10l.94 2.06.94-2.06 2.06-.94-2.06-.94-.94-2.06-.94 2.06-2.06.94z\"/><path d=\"M17.41 7.96l-1.37-1.37c-.4-.4-.92-.59-1.43-.59-.52 0-1.04.2-1.43.59L10.3 9.45l-7.72 7.72c-.78.78-.78 2.05 0 2.83L4 21.41c.39.39.9.59 1.41.59.51 0 1.02-.2 1.41-.59l7.78-7.78 2.81-2.81c.8-.78.8-2.07 0-2.86zM5.41 20L4 18.59l7.72-7.72 1.47 1.35L5.41 20z\"/>\n",
              "  </svg>\n",
              "      </button>\n",
              "      \n",
              "  <style>\n",
              "    .colab-df-container {\n",
              "      display:flex;\n",
              "      flex-wrap:wrap;\n",
              "      gap: 12px;\n",
              "    }\n",
              "\n",
              "    .colab-df-convert {\n",
              "      background-color: #E8F0FE;\n",
              "      border: none;\n",
              "      border-radius: 50%;\n",
              "      cursor: pointer;\n",
              "      display: none;\n",
              "      fill: #1967D2;\n",
              "      height: 32px;\n",
              "      padding: 0 0 0 0;\n",
              "      width: 32px;\n",
              "    }\n",
              "\n",
              "    .colab-df-convert:hover {\n",
              "      background-color: #E2EBFA;\n",
              "      box-shadow: 0px 1px 2px rgba(60, 64, 67, 0.3), 0px 1px 3px 1px rgba(60, 64, 67, 0.15);\n",
              "      fill: #174EA6;\n",
              "    }\n",
              "\n",
              "    [theme=dark] .colab-df-convert {\n",
              "      background-color: #3B4455;\n",
              "      fill: #D2E3FC;\n",
              "    }\n",
              "\n",
              "    [theme=dark] .colab-df-convert:hover {\n",
              "      background-color: #434B5C;\n",
              "      box-shadow: 0px 1px 3px 1px rgba(0, 0, 0, 0.15);\n",
              "      filter: drop-shadow(0px 1px 2px rgba(0, 0, 0, 0.3));\n",
              "      fill: #FFFFFF;\n",
              "    }\n",
              "  </style>\n",
              "\n",
              "      <script>\n",
              "        const buttonEl =\n",
              "          document.querySelector('#df-2df812e6-47a8-451b-8a22-ea78bc732b87 button.colab-df-convert');\n",
              "        buttonEl.style.display =\n",
              "          google.colab.kernel.accessAllowed ? 'block' : 'none';\n",
              "\n",
              "        async function convertToInteractive(key) {\n",
              "          const element = document.querySelector('#df-2df812e6-47a8-451b-8a22-ea78bc732b87');\n",
              "          const dataTable =\n",
              "            await google.colab.kernel.invokeFunction('convertToInteractive',\n",
              "                                                     [key], {});\n",
              "          if (!dataTable) return;\n",
              "\n",
              "          const docLinkHtml = 'Like what you see? Visit the ' +\n",
              "            '<a target=\"_blank\" href=https://colab.research.google.com/notebooks/data_table.ipynb>data table notebook</a>'\n",
              "            + ' to learn more about interactive tables.';\n",
              "          element.innerHTML = '';\n",
              "          dataTable['output_type'] = 'display_data';\n",
              "          await google.colab.output.renderOutput(dataTable, element);\n",
              "          const docLink = document.createElement('div');\n",
              "          docLink.innerHTML = docLinkHtml;\n",
              "          element.appendChild(docLink);\n",
              "        }\n",
              "      </script>\n",
              "    </div>\n",
              "  </div>\n",
              "  "
            ]
          },
          "metadata": {},
          "execution_count": 28
        }
      ]
    },
    {
      "cell_type": "code",
      "source": [
        "customer_commercial_activity_raw.describe(exclude = ['object'])"
      ],
      "metadata": {
        "colab": {
          "base_uri": "https://localhost:8080/",
          "height": 300
        },
        "id": "5y43pnDMv8HJ",
        "outputId": "005ce716-42be-4be2-e411-a47f95fdac11"
      },
      "execution_count": 29,
      "outputs": [
        {
          "output_type": "execute_result",
          "data": {
            "text/plain": [
              "         Unnamed: 0        pk_cid  active_customer\n",
              "count  5.962924e+06  5.962924e+06     5.962924e+06\n",
              "mean   7.155425e+06  1.234930e+06     4.033845e-01\n",
              "std    3.920784e+06  1.623020e+05     4.905767e-01\n",
              "min    0.000000e+00  1.589100e+04     0.000000e+00\n",
              "25%    4.240386e+06  1.112532e+06     0.000000e+00\n",
              "50%    7.499346e+06  1.231097e+06     0.000000e+00\n",
              "75%    1.020142e+07  1.352339e+06     1.000000e+00\n",
              "max    1.364731e+07  1.553689e+06     1.000000e+00"
            ],
            "text/html": [
              "\n",
              "  <div id=\"df-9b963f9e-2b58-4541-ab23-3dd931658163\">\n",
              "    <div class=\"colab-df-container\">\n",
              "      <div>\n",
              "<style scoped>\n",
              "    .dataframe tbody tr th:only-of-type {\n",
              "        vertical-align: middle;\n",
              "    }\n",
              "\n",
              "    .dataframe tbody tr th {\n",
              "        vertical-align: top;\n",
              "    }\n",
              "\n",
              "    .dataframe thead th {\n",
              "        text-align: right;\n",
              "    }\n",
              "</style>\n",
              "<table border=\"1\" class=\"dataframe\">\n",
              "  <thead>\n",
              "    <tr style=\"text-align: right;\">\n",
              "      <th></th>\n",
              "      <th>Unnamed: 0</th>\n",
              "      <th>pk_cid</th>\n",
              "      <th>active_customer</th>\n",
              "    </tr>\n",
              "  </thead>\n",
              "  <tbody>\n",
              "    <tr>\n",
              "      <th>count</th>\n",
              "      <td>5.962924e+06</td>\n",
              "      <td>5.962924e+06</td>\n",
              "      <td>5.962924e+06</td>\n",
              "    </tr>\n",
              "    <tr>\n",
              "      <th>mean</th>\n",
              "      <td>7.155425e+06</td>\n",
              "      <td>1.234930e+06</td>\n",
              "      <td>4.033845e-01</td>\n",
              "    </tr>\n",
              "    <tr>\n",
              "      <th>std</th>\n",
              "      <td>3.920784e+06</td>\n",
              "      <td>1.623020e+05</td>\n",
              "      <td>4.905767e-01</td>\n",
              "    </tr>\n",
              "    <tr>\n",
              "      <th>min</th>\n",
              "      <td>0.000000e+00</td>\n",
              "      <td>1.589100e+04</td>\n",
              "      <td>0.000000e+00</td>\n",
              "    </tr>\n",
              "    <tr>\n",
              "      <th>25%</th>\n",
              "      <td>4.240386e+06</td>\n",
              "      <td>1.112532e+06</td>\n",
              "      <td>0.000000e+00</td>\n",
              "    </tr>\n",
              "    <tr>\n",
              "      <th>50%</th>\n",
              "      <td>7.499346e+06</td>\n",
              "      <td>1.231097e+06</td>\n",
              "      <td>0.000000e+00</td>\n",
              "    </tr>\n",
              "    <tr>\n",
              "      <th>75%</th>\n",
              "      <td>1.020142e+07</td>\n",
              "      <td>1.352339e+06</td>\n",
              "      <td>1.000000e+00</td>\n",
              "    </tr>\n",
              "    <tr>\n",
              "      <th>max</th>\n",
              "      <td>1.364731e+07</td>\n",
              "      <td>1.553689e+06</td>\n",
              "      <td>1.000000e+00</td>\n",
              "    </tr>\n",
              "  </tbody>\n",
              "</table>\n",
              "</div>\n",
              "      <button class=\"colab-df-convert\" onclick=\"convertToInteractive('df-9b963f9e-2b58-4541-ab23-3dd931658163')\"\n",
              "              title=\"Convert this dataframe to an interactive table.\"\n",
              "              style=\"display:none;\">\n",
              "        \n",
              "  <svg xmlns=\"http://www.w3.org/2000/svg\" height=\"24px\"viewBox=\"0 0 24 24\"\n",
              "       width=\"24px\">\n",
              "    <path d=\"M0 0h24v24H0V0z\" fill=\"none\"/>\n",
              "    <path d=\"M18.56 5.44l.94 2.06.94-2.06 2.06-.94-2.06-.94-.94-2.06-.94 2.06-2.06.94zm-11 1L8.5 8.5l.94-2.06 2.06-.94-2.06-.94L8.5 2.5l-.94 2.06-2.06.94zm10 10l.94 2.06.94-2.06 2.06-.94-2.06-.94-.94-2.06-.94 2.06-2.06.94z\"/><path d=\"M17.41 7.96l-1.37-1.37c-.4-.4-.92-.59-1.43-.59-.52 0-1.04.2-1.43.59L10.3 9.45l-7.72 7.72c-.78.78-.78 2.05 0 2.83L4 21.41c.39.39.9.59 1.41.59.51 0 1.02-.2 1.41-.59l7.78-7.78 2.81-2.81c.8-.78.8-2.07 0-2.86zM5.41 20L4 18.59l7.72-7.72 1.47 1.35L5.41 20z\"/>\n",
              "  </svg>\n",
              "      </button>\n",
              "      \n",
              "  <style>\n",
              "    .colab-df-container {\n",
              "      display:flex;\n",
              "      flex-wrap:wrap;\n",
              "      gap: 12px;\n",
              "    }\n",
              "\n",
              "    .colab-df-convert {\n",
              "      background-color: #E8F0FE;\n",
              "      border: none;\n",
              "      border-radius: 50%;\n",
              "      cursor: pointer;\n",
              "      display: none;\n",
              "      fill: #1967D2;\n",
              "      height: 32px;\n",
              "      padding: 0 0 0 0;\n",
              "      width: 32px;\n",
              "    }\n",
              "\n",
              "    .colab-df-convert:hover {\n",
              "      background-color: #E2EBFA;\n",
              "      box-shadow: 0px 1px 2px rgba(60, 64, 67, 0.3), 0px 1px 3px 1px rgba(60, 64, 67, 0.15);\n",
              "      fill: #174EA6;\n",
              "    }\n",
              "\n",
              "    [theme=dark] .colab-df-convert {\n",
              "      background-color: #3B4455;\n",
              "      fill: #D2E3FC;\n",
              "    }\n",
              "\n",
              "    [theme=dark] .colab-df-convert:hover {\n",
              "      background-color: #434B5C;\n",
              "      box-shadow: 0px 1px 3px 1px rgba(0, 0, 0, 0.15);\n",
              "      filter: drop-shadow(0px 1px 2px rgba(0, 0, 0, 0.3));\n",
              "      fill: #FFFFFF;\n",
              "    }\n",
              "  </style>\n",
              "\n",
              "      <script>\n",
              "        const buttonEl =\n",
              "          document.querySelector('#df-9b963f9e-2b58-4541-ab23-3dd931658163 button.colab-df-convert');\n",
              "        buttonEl.style.display =\n",
              "          google.colab.kernel.accessAllowed ? 'block' : 'none';\n",
              "\n",
              "        async function convertToInteractive(key) {\n",
              "          const element = document.querySelector('#df-9b963f9e-2b58-4541-ab23-3dd931658163');\n",
              "          const dataTable =\n",
              "            await google.colab.kernel.invokeFunction('convertToInteractive',\n",
              "                                                     [key], {});\n",
              "          if (!dataTable) return;\n",
              "\n",
              "          const docLinkHtml = 'Like what you see? Visit the ' +\n",
              "            '<a target=\"_blank\" href=https://colab.research.google.com/notebooks/data_table.ipynb>data table notebook</a>'\n",
              "            + ' to learn more about interactive tables.';\n",
              "          element.innerHTML = '';\n",
              "          dataTable['output_type'] = 'display_data';\n",
              "          await google.colab.output.renderOutput(dataTable, element);\n",
              "          const docLink = document.createElement('div');\n",
              "          docLink.innerHTML = docLinkHtml;\n",
              "          element.appendChild(docLink);\n",
              "        }\n",
              "      </script>\n",
              "    </div>\n",
              "  </div>\n",
              "  "
            ]
          },
          "metadata": {},
          "execution_count": 29
        }
      ]
    },
    {
      "cell_type": "code",
      "source": [
        "customer_commercial_activity_raw.isnull().sum()"
      ],
      "metadata": {
        "colab": {
          "base_uri": "https://localhost:8080/"
        },
        "id": "XYVYRJndwAYk",
        "outputId": "1f3c493b-1913-4f07-dd5a-f4d9398f2311"
      },
      "execution_count": 30,
      "outputs": [
        {
          "output_type": "execute_result",
          "data": {
            "text/plain": [
              "Unnamed: 0              0\n",
              "pk_cid                  0\n",
              "pk_partition            0\n",
              "entry_date              0\n",
              "entry_channel      133033\n",
              "active_customer         0\n",
              "segment            133944\n",
              "dtype: int64"
            ]
          },
          "metadata": {},
          "execution_count": 30
        }
      ]
    },
    {
      "cell_type": "code",
      "source": [
        "customer_commercial_activity_raw[\"segment\"].value_counts()"
      ],
      "metadata": {
        "colab": {
          "base_uri": "https://localhost:8080/"
        },
        "id": "WbiCvHAzzem1",
        "outputId": "78f4884d-65ea-472a-ccbb-5ec155426102"
      },
      "execution_count": 31,
      "outputs": [
        {
          "output_type": "execute_result",
          "data": {
            "text/plain": [
              "03 - UNIVERSITARIO    3900166\n",
              "02 - PARTICULARES     1830875\n",
              "01 - TOP                97939\n",
              "Name: segment, dtype: int64"
            ]
          },
          "metadata": {},
          "execution_count": 31
        }
      ]
    },
    {
      "cell_type": "code",
      "source": [
        "customer_commercial_activity_raw[\"entry_channel\"].value_counts()"
      ],
      "metadata": {
        "colab": {
          "base_uri": "https://localhost:8080/"
        },
        "id": "YRVr8l9lzyGL",
        "outputId": "dc9b1f55-559a-4f8f-cf6d-a97bb1323747"
      },
      "execution_count": 32,
      "outputs": [
        {
          "output_type": "execute_result",
          "data": {
            "text/plain": [
              "KHE    3113947\n",
              "KFC     890620\n",
              "KHQ     590280\n",
              "KAT     416084\n",
              "KHK     230197\n",
              "        ...   \n",
              "KEJ          8\n",
              "KHS          5\n",
              "KDA          2\n",
              "KFP          2\n",
              "KDS          1\n",
              "Name: entry_channel, Length: 68, dtype: int64"
            ]
          },
          "metadata": {},
          "execution_count": 32
        }
      ]
    },
    {
      "cell_type": "code",
      "source": [
        "# ACCIONES CUSTOMER COMMERCIAL ACTIVITY**\n",
        "\n",
        "\n",
        "# Eliminar columna Unnamed\n",
        "# Cambiar los identificadores (pk_cid) a variable categórica\n",
        "# Cambiar tipo de active_customer a boolean\n",
        "# Establecer primary key como index?\n",
        "# Gestionar nulos: \n",
        "#     entry_channel      \n",
        "#     segment            \n",
        "# Cambiar tipo de entry_date a fecha\n",
        "# Disgregar entry_date en mes, año, día, día de la semana (otros: trimestre, fin de semana, festivo...)\n",
        "# entry_channel > OneHotEncoding o FrecuencyEncoding\n",
        "# segment > OneHotEncoding"
      ],
      "metadata": {
        "id": "Bpqae0fLwJVO"
      },
      "execution_count": 33,
      "outputs": []
    },
    {
      "cell_type": "markdown",
      "source": [
        "### Customer Products"
      ],
      "metadata": {
        "id": "BvMxaUfLwYxC"
      }
    },
    {
      "cell_type": "markdown",
      "source": [
        "- pk_cid =\tIdentificador de cliente\n",
        "- pk_partition =\tIdentificador de Partición. Mensualmente se ingesta en la tabla una partición con el estado de la base de clientes.\n",
        "- credit_card =\tTenencia de tarjetas de crédito\n",
        "- debit_card =\tTenencia de tarjetas de débito\n",
        "- em_account_p =\tTenencia de Cuenta easyMoney+\n",
        "- em_account_pp =\tTenencia de Cuenta easyMoney++\n",
        "- em_acount =\tTenencia de Cuenta easyMoney\n",
        "- emc_account =\tTenencia de Cuenta easyMoney Crypto\n",
        "- funds =\tTenencia de Fondos de inversión\n",
        "- loans =\tTenencia de Préstamos\n",
        "- long_term_deposit =\tTenencia de Depósitos a largo plazo\n",
        "- mortgage =\tTenencia de Mortgage\n",
        "- payroll =\tTenencia de Domiciliaciones \n",
        "- payroll_account =\tTenencia de Cuenta bonificada por domiciliaciones\n",
        "- pension_plan =\tTenencia de Plan de pensiones\n",
        "- securities =\tTenencia de Valores\n",
        "- short_term_deposit =\tTenencia de Short-term deposits"
      ],
      "metadata": {
        "id": "GAvoRxXKwYxC"
      }
    },
    {
      "cell_type": "code",
      "source": [
        "customer_products_raw.info()"
      ],
      "metadata": {
        "colab": {
          "base_uri": "https://localhost:8080/"
        },
        "outputId": "d86c5de4-94b0-456a-e51f-69d7b1d39107",
        "id": "W0orz5C7wYxD"
      },
      "execution_count": 34,
      "outputs": [
        {
          "output_type": "stream",
          "name": "stdout",
          "text": [
            "<class 'pandas.core.frame.DataFrame'>\n",
            "RangeIndex: 5962924 entries, 0 to 5962923\n",
            "Data columns (total 18 columns):\n",
            " #   Column              Dtype  \n",
            "---  ------              -----  \n",
            " 0   Unnamed: 0          int64  \n",
            " 1   pk_cid              int64  \n",
            " 2   pk_partition        object \n",
            " 3   short_term_deposit  int64  \n",
            " 4   loans               int64  \n",
            " 5   mortgage            int64  \n",
            " 6   funds               int64  \n",
            " 7   securities          int64  \n",
            " 8   long_term_deposit   int64  \n",
            " 9   em_account_pp       int64  \n",
            " 10  credit_card         int64  \n",
            " 11  payroll             float64\n",
            " 12  pension_plan        float64\n",
            " 13  payroll_account     int64  \n",
            " 14  emc_account         int64  \n",
            " 15  debit_card          int64  \n",
            " 16  em_account_p        int64  \n",
            " 17  em_acount           int64  \n",
            "dtypes: float64(2), int64(15), object(1)\n",
            "memory usage: 818.9+ MB\n"
          ]
        }
      ]
    },
    {
      "cell_type": "code",
      "source": [
        "customer_products_raw.head()"
      ],
      "metadata": {
        "colab": {
          "base_uri": "https://localhost:8080/",
          "height": 0
        },
        "outputId": "4b2715bc-b0cb-48ed-8555-bf6a128c26a8",
        "id": "NpuDF7hPwYxD"
      },
      "execution_count": 35,
      "outputs": [
        {
          "output_type": "execute_result",
          "data": {
            "text/plain": [
              "   Unnamed: 0   pk_cid pk_partition  short_term_deposit  loans  mortgage  \\\n",
              "0           0  1375586      2018-01                   0      0         0   \n",
              "1           1  1050611      2018-01                   0      0         0   \n",
              "2           2  1050612      2018-01                   0      0         0   \n",
              "3           3  1050613      2018-01                   1      0         0   \n",
              "4           4  1050614      2018-01                   0      0         0   \n",
              "\n",
              "   funds  securities  long_term_deposit  em_account_pp  credit_card  payroll  \\\n",
              "0      0           0                  0              0            0      0.0   \n",
              "1      0           0                  0              0            0      0.0   \n",
              "2      0           0                  0              0            0      0.0   \n",
              "3      0           0                  0              0            0      0.0   \n",
              "4      0           0                  0              0            0      0.0   \n",
              "\n",
              "   pension_plan  payroll_account  emc_account  debit_card  em_account_p  \\\n",
              "0           0.0                0            0           0             0   \n",
              "1           0.0                0            0           0             0   \n",
              "2           0.0                0            0           0             0   \n",
              "3           0.0                0            0           0             0   \n",
              "4           0.0                0            0           0             0   \n",
              "\n",
              "   em_acount  \n",
              "0          1  \n",
              "1          1  \n",
              "2          1  \n",
              "3          0  \n",
              "4          1  "
            ],
            "text/html": [
              "\n",
              "  <div id=\"df-7085440c-a3f8-4f74-af28-cd6847a92054\">\n",
              "    <div class=\"colab-df-container\">\n",
              "      <div>\n",
              "<style scoped>\n",
              "    .dataframe tbody tr th:only-of-type {\n",
              "        vertical-align: middle;\n",
              "    }\n",
              "\n",
              "    .dataframe tbody tr th {\n",
              "        vertical-align: top;\n",
              "    }\n",
              "\n",
              "    .dataframe thead th {\n",
              "        text-align: right;\n",
              "    }\n",
              "</style>\n",
              "<table border=\"1\" class=\"dataframe\">\n",
              "  <thead>\n",
              "    <tr style=\"text-align: right;\">\n",
              "      <th></th>\n",
              "      <th>Unnamed: 0</th>\n",
              "      <th>pk_cid</th>\n",
              "      <th>pk_partition</th>\n",
              "      <th>short_term_deposit</th>\n",
              "      <th>loans</th>\n",
              "      <th>mortgage</th>\n",
              "      <th>funds</th>\n",
              "      <th>securities</th>\n",
              "      <th>long_term_deposit</th>\n",
              "      <th>em_account_pp</th>\n",
              "      <th>credit_card</th>\n",
              "      <th>payroll</th>\n",
              "      <th>pension_plan</th>\n",
              "      <th>payroll_account</th>\n",
              "      <th>emc_account</th>\n",
              "      <th>debit_card</th>\n",
              "      <th>em_account_p</th>\n",
              "      <th>em_acount</th>\n",
              "    </tr>\n",
              "  </thead>\n",
              "  <tbody>\n",
              "    <tr>\n",
              "      <th>0</th>\n",
              "      <td>0</td>\n",
              "      <td>1375586</td>\n",
              "      <td>2018-01</td>\n",
              "      <td>0</td>\n",
              "      <td>0</td>\n",
              "      <td>0</td>\n",
              "      <td>0</td>\n",
              "      <td>0</td>\n",
              "      <td>0</td>\n",
              "      <td>0</td>\n",
              "      <td>0</td>\n",
              "      <td>0.0</td>\n",
              "      <td>0.0</td>\n",
              "      <td>0</td>\n",
              "      <td>0</td>\n",
              "      <td>0</td>\n",
              "      <td>0</td>\n",
              "      <td>1</td>\n",
              "    </tr>\n",
              "    <tr>\n",
              "      <th>1</th>\n",
              "      <td>1</td>\n",
              "      <td>1050611</td>\n",
              "      <td>2018-01</td>\n",
              "      <td>0</td>\n",
              "      <td>0</td>\n",
              "      <td>0</td>\n",
              "      <td>0</td>\n",
              "      <td>0</td>\n",
              "      <td>0</td>\n",
              "      <td>0</td>\n",
              "      <td>0</td>\n",
              "      <td>0.0</td>\n",
              "      <td>0.0</td>\n",
              "      <td>0</td>\n",
              "      <td>0</td>\n",
              "      <td>0</td>\n",
              "      <td>0</td>\n",
              "      <td>1</td>\n",
              "    </tr>\n",
              "    <tr>\n",
              "      <th>2</th>\n",
              "      <td>2</td>\n",
              "      <td>1050612</td>\n",
              "      <td>2018-01</td>\n",
              "      <td>0</td>\n",
              "      <td>0</td>\n",
              "      <td>0</td>\n",
              "      <td>0</td>\n",
              "      <td>0</td>\n",
              "      <td>0</td>\n",
              "      <td>0</td>\n",
              "      <td>0</td>\n",
              "      <td>0.0</td>\n",
              "      <td>0.0</td>\n",
              "      <td>0</td>\n",
              "      <td>0</td>\n",
              "      <td>0</td>\n",
              "      <td>0</td>\n",
              "      <td>1</td>\n",
              "    </tr>\n",
              "    <tr>\n",
              "      <th>3</th>\n",
              "      <td>3</td>\n",
              "      <td>1050613</td>\n",
              "      <td>2018-01</td>\n",
              "      <td>1</td>\n",
              "      <td>0</td>\n",
              "      <td>0</td>\n",
              "      <td>0</td>\n",
              "      <td>0</td>\n",
              "      <td>0</td>\n",
              "      <td>0</td>\n",
              "      <td>0</td>\n",
              "      <td>0.0</td>\n",
              "      <td>0.0</td>\n",
              "      <td>0</td>\n",
              "      <td>0</td>\n",
              "      <td>0</td>\n",
              "      <td>0</td>\n",
              "      <td>0</td>\n",
              "    </tr>\n",
              "    <tr>\n",
              "      <th>4</th>\n",
              "      <td>4</td>\n",
              "      <td>1050614</td>\n",
              "      <td>2018-01</td>\n",
              "      <td>0</td>\n",
              "      <td>0</td>\n",
              "      <td>0</td>\n",
              "      <td>0</td>\n",
              "      <td>0</td>\n",
              "      <td>0</td>\n",
              "      <td>0</td>\n",
              "      <td>0</td>\n",
              "      <td>0.0</td>\n",
              "      <td>0.0</td>\n",
              "      <td>0</td>\n",
              "      <td>0</td>\n",
              "      <td>0</td>\n",
              "      <td>0</td>\n",
              "      <td>1</td>\n",
              "    </tr>\n",
              "  </tbody>\n",
              "</table>\n",
              "</div>\n",
              "      <button class=\"colab-df-convert\" onclick=\"convertToInteractive('df-7085440c-a3f8-4f74-af28-cd6847a92054')\"\n",
              "              title=\"Convert this dataframe to an interactive table.\"\n",
              "              style=\"display:none;\">\n",
              "        \n",
              "  <svg xmlns=\"http://www.w3.org/2000/svg\" height=\"24px\"viewBox=\"0 0 24 24\"\n",
              "       width=\"24px\">\n",
              "    <path d=\"M0 0h24v24H0V0z\" fill=\"none\"/>\n",
              "    <path d=\"M18.56 5.44l.94 2.06.94-2.06 2.06-.94-2.06-.94-.94-2.06-.94 2.06-2.06.94zm-11 1L8.5 8.5l.94-2.06 2.06-.94-2.06-.94L8.5 2.5l-.94 2.06-2.06.94zm10 10l.94 2.06.94-2.06 2.06-.94-2.06-.94-.94-2.06-.94 2.06-2.06.94z\"/><path d=\"M17.41 7.96l-1.37-1.37c-.4-.4-.92-.59-1.43-.59-.52 0-1.04.2-1.43.59L10.3 9.45l-7.72 7.72c-.78.78-.78 2.05 0 2.83L4 21.41c.39.39.9.59 1.41.59.51 0 1.02-.2 1.41-.59l7.78-7.78 2.81-2.81c.8-.78.8-2.07 0-2.86zM5.41 20L4 18.59l7.72-7.72 1.47 1.35L5.41 20z\"/>\n",
              "  </svg>\n",
              "      </button>\n",
              "      \n",
              "  <style>\n",
              "    .colab-df-container {\n",
              "      display:flex;\n",
              "      flex-wrap:wrap;\n",
              "      gap: 12px;\n",
              "    }\n",
              "\n",
              "    .colab-df-convert {\n",
              "      background-color: #E8F0FE;\n",
              "      border: none;\n",
              "      border-radius: 50%;\n",
              "      cursor: pointer;\n",
              "      display: none;\n",
              "      fill: #1967D2;\n",
              "      height: 32px;\n",
              "      padding: 0 0 0 0;\n",
              "      width: 32px;\n",
              "    }\n",
              "\n",
              "    .colab-df-convert:hover {\n",
              "      background-color: #E2EBFA;\n",
              "      box-shadow: 0px 1px 2px rgba(60, 64, 67, 0.3), 0px 1px 3px 1px rgba(60, 64, 67, 0.15);\n",
              "      fill: #174EA6;\n",
              "    }\n",
              "\n",
              "    [theme=dark] .colab-df-convert {\n",
              "      background-color: #3B4455;\n",
              "      fill: #D2E3FC;\n",
              "    }\n",
              "\n",
              "    [theme=dark] .colab-df-convert:hover {\n",
              "      background-color: #434B5C;\n",
              "      box-shadow: 0px 1px 3px 1px rgba(0, 0, 0, 0.15);\n",
              "      filter: drop-shadow(0px 1px 2px rgba(0, 0, 0, 0.3));\n",
              "      fill: #FFFFFF;\n",
              "    }\n",
              "  </style>\n",
              "\n",
              "      <script>\n",
              "        const buttonEl =\n",
              "          document.querySelector('#df-7085440c-a3f8-4f74-af28-cd6847a92054 button.colab-df-convert');\n",
              "        buttonEl.style.display =\n",
              "          google.colab.kernel.accessAllowed ? 'block' : 'none';\n",
              "\n",
              "        async function convertToInteractive(key) {\n",
              "          const element = document.querySelector('#df-7085440c-a3f8-4f74-af28-cd6847a92054');\n",
              "          const dataTable =\n",
              "            await google.colab.kernel.invokeFunction('convertToInteractive',\n",
              "                                                     [key], {});\n",
              "          if (!dataTable) return;\n",
              "\n",
              "          const docLinkHtml = 'Like what you see? Visit the ' +\n",
              "            '<a target=\"_blank\" href=https://colab.research.google.com/notebooks/data_table.ipynb>data table notebook</a>'\n",
              "            + ' to learn more about interactive tables.';\n",
              "          element.innerHTML = '';\n",
              "          dataTable['output_type'] = 'display_data';\n",
              "          await google.colab.output.renderOutput(dataTable, element);\n",
              "          const docLink = document.createElement('div');\n",
              "          docLink.innerHTML = docLinkHtml;\n",
              "          element.appendChild(docLink);\n",
              "        }\n",
              "      </script>\n",
              "    </div>\n",
              "  </div>\n",
              "  "
            ]
          },
          "metadata": {},
          "execution_count": 35
        }
      ]
    },
    {
      "cell_type": "code",
      "source": [
        "customer_products_raw.describe(include = ['object'])"
      ],
      "metadata": {
        "colab": {
          "base_uri": "https://localhost:8080/",
          "height": 0
        },
        "outputId": "9be4363b-fcbf-47f4-aae0-8dcc3490c5d7",
        "id": "c9I4DraWwYxD"
      },
      "execution_count": 36,
      "outputs": [
        {
          "output_type": "execute_result",
          "data": {
            "text/plain": [
              "       pk_partition\n",
              "count       5962924\n",
              "unique           17\n",
              "top         2019-05\n",
              "freq         442995"
            ],
            "text/html": [
              "\n",
              "  <div id=\"df-9a2747fc-d150-47fd-be42-577ba894b9b2\">\n",
              "    <div class=\"colab-df-container\">\n",
              "      <div>\n",
              "<style scoped>\n",
              "    .dataframe tbody tr th:only-of-type {\n",
              "        vertical-align: middle;\n",
              "    }\n",
              "\n",
              "    .dataframe tbody tr th {\n",
              "        vertical-align: top;\n",
              "    }\n",
              "\n",
              "    .dataframe thead th {\n",
              "        text-align: right;\n",
              "    }\n",
              "</style>\n",
              "<table border=\"1\" class=\"dataframe\">\n",
              "  <thead>\n",
              "    <tr style=\"text-align: right;\">\n",
              "      <th></th>\n",
              "      <th>pk_partition</th>\n",
              "    </tr>\n",
              "  </thead>\n",
              "  <tbody>\n",
              "    <tr>\n",
              "      <th>count</th>\n",
              "      <td>5962924</td>\n",
              "    </tr>\n",
              "    <tr>\n",
              "      <th>unique</th>\n",
              "      <td>17</td>\n",
              "    </tr>\n",
              "    <tr>\n",
              "      <th>top</th>\n",
              "      <td>2019-05</td>\n",
              "    </tr>\n",
              "    <tr>\n",
              "      <th>freq</th>\n",
              "      <td>442995</td>\n",
              "    </tr>\n",
              "  </tbody>\n",
              "</table>\n",
              "</div>\n",
              "      <button class=\"colab-df-convert\" onclick=\"convertToInteractive('df-9a2747fc-d150-47fd-be42-577ba894b9b2')\"\n",
              "              title=\"Convert this dataframe to an interactive table.\"\n",
              "              style=\"display:none;\">\n",
              "        \n",
              "  <svg xmlns=\"http://www.w3.org/2000/svg\" height=\"24px\"viewBox=\"0 0 24 24\"\n",
              "       width=\"24px\">\n",
              "    <path d=\"M0 0h24v24H0V0z\" fill=\"none\"/>\n",
              "    <path d=\"M18.56 5.44l.94 2.06.94-2.06 2.06-.94-2.06-.94-.94-2.06-.94 2.06-2.06.94zm-11 1L8.5 8.5l.94-2.06 2.06-.94-2.06-.94L8.5 2.5l-.94 2.06-2.06.94zm10 10l.94 2.06.94-2.06 2.06-.94-2.06-.94-.94-2.06-.94 2.06-2.06.94z\"/><path d=\"M17.41 7.96l-1.37-1.37c-.4-.4-.92-.59-1.43-.59-.52 0-1.04.2-1.43.59L10.3 9.45l-7.72 7.72c-.78.78-.78 2.05 0 2.83L4 21.41c.39.39.9.59 1.41.59.51 0 1.02-.2 1.41-.59l7.78-7.78 2.81-2.81c.8-.78.8-2.07 0-2.86zM5.41 20L4 18.59l7.72-7.72 1.47 1.35L5.41 20z\"/>\n",
              "  </svg>\n",
              "      </button>\n",
              "      \n",
              "  <style>\n",
              "    .colab-df-container {\n",
              "      display:flex;\n",
              "      flex-wrap:wrap;\n",
              "      gap: 12px;\n",
              "    }\n",
              "\n",
              "    .colab-df-convert {\n",
              "      background-color: #E8F0FE;\n",
              "      border: none;\n",
              "      border-radius: 50%;\n",
              "      cursor: pointer;\n",
              "      display: none;\n",
              "      fill: #1967D2;\n",
              "      height: 32px;\n",
              "      padding: 0 0 0 0;\n",
              "      width: 32px;\n",
              "    }\n",
              "\n",
              "    .colab-df-convert:hover {\n",
              "      background-color: #E2EBFA;\n",
              "      box-shadow: 0px 1px 2px rgba(60, 64, 67, 0.3), 0px 1px 3px 1px rgba(60, 64, 67, 0.15);\n",
              "      fill: #174EA6;\n",
              "    }\n",
              "\n",
              "    [theme=dark] .colab-df-convert {\n",
              "      background-color: #3B4455;\n",
              "      fill: #D2E3FC;\n",
              "    }\n",
              "\n",
              "    [theme=dark] .colab-df-convert:hover {\n",
              "      background-color: #434B5C;\n",
              "      box-shadow: 0px 1px 3px 1px rgba(0, 0, 0, 0.15);\n",
              "      filter: drop-shadow(0px 1px 2px rgba(0, 0, 0, 0.3));\n",
              "      fill: #FFFFFF;\n",
              "    }\n",
              "  </style>\n",
              "\n",
              "      <script>\n",
              "        const buttonEl =\n",
              "          document.querySelector('#df-9a2747fc-d150-47fd-be42-577ba894b9b2 button.colab-df-convert');\n",
              "        buttonEl.style.display =\n",
              "          google.colab.kernel.accessAllowed ? 'block' : 'none';\n",
              "\n",
              "        async function convertToInteractive(key) {\n",
              "          const element = document.querySelector('#df-9a2747fc-d150-47fd-be42-577ba894b9b2');\n",
              "          const dataTable =\n",
              "            await google.colab.kernel.invokeFunction('convertToInteractive',\n",
              "                                                     [key], {});\n",
              "          if (!dataTable) return;\n",
              "\n",
              "          const docLinkHtml = 'Like what you see? Visit the ' +\n",
              "            '<a target=\"_blank\" href=https://colab.research.google.com/notebooks/data_table.ipynb>data table notebook</a>'\n",
              "            + ' to learn more about interactive tables.';\n",
              "          element.innerHTML = '';\n",
              "          dataTable['output_type'] = 'display_data';\n",
              "          await google.colab.output.renderOutput(dataTable, element);\n",
              "          const docLink = document.createElement('div');\n",
              "          docLink.innerHTML = docLinkHtml;\n",
              "          element.appendChild(docLink);\n",
              "        }\n",
              "      </script>\n",
              "    </div>\n",
              "  </div>\n",
              "  "
            ]
          },
          "metadata": {},
          "execution_count": 36
        }
      ]
    },
    {
      "cell_type": "code",
      "source": [
        "customer_products_raw.describe(exclude = ['object'])"
      ],
      "metadata": {
        "colab": {
          "base_uri": "https://localhost:8080/",
          "height": 0
        },
        "outputId": "aaa75e97-5543-4a95-9472-f2bd553b0d32",
        "id": "Ehzbn2vFwYxD"
      },
      "execution_count": 37,
      "outputs": [
        {
          "output_type": "execute_result",
          "data": {
            "text/plain": [
              "         Unnamed: 0        pk_cid  short_term_deposit         loans  \\\n",
              "count  5.962924e+06  5.962924e+06        5.962924e+06  5.962924e+06   \n",
              "mean   7.155425e+06  1.234930e+06        2.581619e-03  7.848498e-05   \n",
              "std    3.920784e+06  1.623020e+05        5.074401e-02  8.858828e-03   \n",
              "min    0.000000e+00  1.589100e+04        0.000000e+00  0.000000e+00   \n",
              "25%    4.240386e+06  1.112532e+06        0.000000e+00  0.000000e+00   \n",
              "50%    7.499346e+06  1.231097e+06        0.000000e+00  0.000000e+00   \n",
              "75%    1.020142e+07  1.352339e+06        0.000000e+00  0.000000e+00   \n",
              "max    1.364731e+07  1.553689e+06        1.000000e+00  1.000000e+00   \n",
              "\n",
              "           mortgage         funds    securities  long_term_deposit  \\\n",
              "count  5.962924e+06  5.962924e+06  5.962924e+06       5.962924e+06   \n",
              "mean   5.433576e-05  3.370662e-03  3.711770e-03       1.688098e-02   \n",
              "std    7.371080e-03  5.795948e-02  6.081113e-02       1.288255e-01   \n",
              "min    0.000000e+00  0.000000e+00  0.000000e+00       0.000000e+00   \n",
              "25%    0.000000e+00  0.000000e+00  0.000000e+00       0.000000e+00   \n",
              "50%    0.000000e+00  0.000000e+00  0.000000e+00       0.000000e+00   \n",
              "75%    0.000000e+00  0.000000e+00  0.000000e+00       0.000000e+00   \n",
              "max    1.000000e+00  1.000000e+00  1.000000e+00       1.000000e+00   \n",
              "\n",
              "       em_account_pp   credit_card       payroll  pension_plan  \\\n",
              "count      5962924.0  5.962924e+06  5.962863e+06  5.962863e+06   \n",
              "mean             0.0  1.188444e-02  3.451144e-02  3.652641e-02   \n",
              "std              0.0  1.083660e-01  1.825388e-01  1.875960e-01   \n",
              "min              0.0  0.000000e+00  0.000000e+00  0.000000e+00   \n",
              "25%              0.0  0.000000e+00  0.000000e+00  0.000000e+00   \n",
              "50%              0.0  0.000000e+00  0.000000e+00  0.000000e+00   \n",
              "75%              0.0  0.000000e+00  0.000000e+00  0.000000e+00   \n",
              "max              0.0  1.000000e+00  1.000000e+00  1.000000e+00   \n",
              "\n",
              "       payroll_account   emc_account    debit_card  em_account_p     em_acount  \n",
              "count     5.962924e+06  5.962924e+06  5.962924e+06  5.962924e+06  5.962924e+06  \n",
              "mean      5.524471e-02  5.483233e-02  9.441140e-02  5.701901e-06  7.348076e-01  \n",
              "std       2.284573e-01  2.276527e-01  2.924002e-01  2.387859e-03  4.414356e-01  \n",
              "min       0.000000e+00  0.000000e+00  0.000000e+00  0.000000e+00  0.000000e+00  \n",
              "25%       0.000000e+00  0.000000e+00  0.000000e+00  0.000000e+00  0.000000e+00  \n",
              "50%       0.000000e+00  0.000000e+00  0.000000e+00  0.000000e+00  1.000000e+00  \n",
              "75%       0.000000e+00  0.000000e+00  0.000000e+00  0.000000e+00  1.000000e+00  \n",
              "max       1.000000e+00  1.000000e+00  1.000000e+00  1.000000e+00  1.000000e+00  "
            ],
            "text/html": [
              "\n",
              "  <div id=\"df-48cce4f8-ae71-443c-a32c-162973dbc685\">\n",
              "    <div class=\"colab-df-container\">\n",
              "      <div>\n",
              "<style scoped>\n",
              "    .dataframe tbody tr th:only-of-type {\n",
              "        vertical-align: middle;\n",
              "    }\n",
              "\n",
              "    .dataframe tbody tr th {\n",
              "        vertical-align: top;\n",
              "    }\n",
              "\n",
              "    .dataframe thead th {\n",
              "        text-align: right;\n",
              "    }\n",
              "</style>\n",
              "<table border=\"1\" class=\"dataframe\">\n",
              "  <thead>\n",
              "    <tr style=\"text-align: right;\">\n",
              "      <th></th>\n",
              "      <th>Unnamed: 0</th>\n",
              "      <th>pk_cid</th>\n",
              "      <th>short_term_deposit</th>\n",
              "      <th>loans</th>\n",
              "      <th>mortgage</th>\n",
              "      <th>funds</th>\n",
              "      <th>securities</th>\n",
              "      <th>long_term_deposit</th>\n",
              "      <th>em_account_pp</th>\n",
              "      <th>credit_card</th>\n",
              "      <th>payroll</th>\n",
              "      <th>pension_plan</th>\n",
              "      <th>payroll_account</th>\n",
              "      <th>emc_account</th>\n",
              "      <th>debit_card</th>\n",
              "      <th>em_account_p</th>\n",
              "      <th>em_acount</th>\n",
              "    </tr>\n",
              "  </thead>\n",
              "  <tbody>\n",
              "    <tr>\n",
              "      <th>count</th>\n",
              "      <td>5.962924e+06</td>\n",
              "      <td>5.962924e+06</td>\n",
              "      <td>5.962924e+06</td>\n",
              "      <td>5.962924e+06</td>\n",
              "      <td>5.962924e+06</td>\n",
              "      <td>5.962924e+06</td>\n",
              "      <td>5.962924e+06</td>\n",
              "      <td>5.962924e+06</td>\n",
              "      <td>5962924.0</td>\n",
              "      <td>5.962924e+06</td>\n",
              "      <td>5.962863e+06</td>\n",
              "      <td>5.962863e+06</td>\n",
              "      <td>5.962924e+06</td>\n",
              "      <td>5.962924e+06</td>\n",
              "      <td>5.962924e+06</td>\n",
              "      <td>5.962924e+06</td>\n",
              "      <td>5.962924e+06</td>\n",
              "    </tr>\n",
              "    <tr>\n",
              "      <th>mean</th>\n",
              "      <td>7.155425e+06</td>\n",
              "      <td>1.234930e+06</td>\n",
              "      <td>2.581619e-03</td>\n",
              "      <td>7.848498e-05</td>\n",
              "      <td>5.433576e-05</td>\n",
              "      <td>3.370662e-03</td>\n",
              "      <td>3.711770e-03</td>\n",
              "      <td>1.688098e-02</td>\n",
              "      <td>0.0</td>\n",
              "      <td>1.188444e-02</td>\n",
              "      <td>3.451144e-02</td>\n",
              "      <td>3.652641e-02</td>\n",
              "      <td>5.524471e-02</td>\n",
              "      <td>5.483233e-02</td>\n",
              "      <td>9.441140e-02</td>\n",
              "      <td>5.701901e-06</td>\n",
              "      <td>7.348076e-01</td>\n",
              "    </tr>\n",
              "    <tr>\n",
              "      <th>std</th>\n",
              "      <td>3.920784e+06</td>\n",
              "      <td>1.623020e+05</td>\n",
              "      <td>5.074401e-02</td>\n",
              "      <td>8.858828e-03</td>\n",
              "      <td>7.371080e-03</td>\n",
              "      <td>5.795948e-02</td>\n",
              "      <td>6.081113e-02</td>\n",
              "      <td>1.288255e-01</td>\n",
              "      <td>0.0</td>\n",
              "      <td>1.083660e-01</td>\n",
              "      <td>1.825388e-01</td>\n",
              "      <td>1.875960e-01</td>\n",
              "      <td>2.284573e-01</td>\n",
              "      <td>2.276527e-01</td>\n",
              "      <td>2.924002e-01</td>\n",
              "      <td>2.387859e-03</td>\n",
              "      <td>4.414356e-01</td>\n",
              "    </tr>\n",
              "    <tr>\n",
              "      <th>min</th>\n",
              "      <td>0.000000e+00</td>\n",
              "      <td>1.589100e+04</td>\n",
              "      <td>0.000000e+00</td>\n",
              "      <td>0.000000e+00</td>\n",
              "      <td>0.000000e+00</td>\n",
              "      <td>0.000000e+00</td>\n",
              "      <td>0.000000e+00</td>\n",
              "      <td>0.000000e+00</td>\n",
              "      <td>0.0</td>\n",
              "      <td>0.000000e+00</td>\n",
              "      <td>0.000000e+00</td>\n",
              "      <td>0.000000e+00</td>\n",
              "      <td>0.000000e+00</td>\n",
              "      <td>0.000000e+00</td>\n",
              "      <td>0.000000e+00</td>\n",
              "      <td>0.000000e+00</td>\n",
              "      <td>0.000000e+00</td>\n",
              "    </tr>\n",
              "    <tr>\n",
              "      <th>25%</th>\n",
              "      <td>4.240386e+06</td>\n",
              "      <td>1.112532e+06</td>\n",
              "      <td>0.000000e+00</td>\n",
              "      <td>0.000000e+00</td>\n",
              "      <td>0.000000e+00</td>\n",
              "      <td>0.000000e+00</td>\n",
              "      <td>0.000000e+00</td>\n",
              "      <td>0.000000e+00</td>\n",
              "      <td>0.0</td>\n",
              "      <td>0.000000e+00</td>\n",
              "      <td>0.000000e+00</td>\n",
              "      <td>0.000000e+00</td>\n",
              "      <td>0.000000e+00</td>\n",
              "      <td>0.000000e+00</td>\n",
              "      <td>0.000000e+00</td>\n",
              "      <td>0.000000e+00</td>\n",
              "      <td>0.000000e+00</td>\n",
              "    </tr>\n",
              "    <tr>\n",
              "      <th>50%</th>\n",
              "      <td>7.499346e+06</td>\n",
              "      <td>1.231097e+06</td>\n",
              "      <td>0.000000e+00</td>\n",
              "      <td>0.000000e+00</td>\n",
              "      <td>0.000000e+00</td>\n",
              "      <td>0.000000e+00</td>\n",
              "      <td>0.000000e+00</td>\n",
              "      <td>0.000000e+00</td>\n",
              "      <td>0.0</td>\n",
              "      <td>0.000000e+00</td>\n",
              "      <td>0.000000e+00</td>\n",
              "      <td>0.000000e+00</td>\n",
              "      <td>0.000000e+00</td>\n",
              "      <td>0.000000e+00</td>\n",
              "      <td>0.000000e+00</td>\n",
              "      <td>0.000000e+00</td>\n",
              "      <td>1.000000e+00</td>\n",
              "    </tr>\n",
              "    <tr>\n",
              "      <th>75%</th>\n",
              "      <td>1.020142e+07</td>\n",
              "      <td>1.352339e+06</td>\n",
              "      <td>0.000000e+00</td>\n",
              "      <td>0.000000e+00</td>\n",
              "      <td>0.000000e+00</td>\n",
              "      <td>0.000000e+00</td>\n",
              "      <td>0.000000e+00</td>\n",
              "      <td>0.000000e+00</td>\n",
              "      <td>0.0</td>\n",
              "      <td>0.000000e+00</td>\n",
              "      <td>0.000000e+00</td>\n",
              "      <td>0.000000e+00</td>\n",
              "      <td>0.000000e+00</td>\n",
              "      <td>0.000000e+00</td>\n",
              "      <td>0.000000e+00</td>\n",
              "      <td>0.000000e+00</td>\n",
              "      <td>1.000000e+00</td>\n",
              "    </tr>\n",
              "    <tr>\n",
              "      <th>max</th>\n",
              "      <td>1.364731e+07</td>\n",
              "      <td>1.553689e+06</td>\n",
              "      <td>1.000000e+00</td>\n",
              "      <td>1.000000e+00</td>\n",
              "      <td>1.000000e+00</td>\n",
              "      <td>1.000000e+00</td>\n",
              "      <td>1.000000e+00</td>\n",
              "      <td>1.000000e+00</td>\n",
              "      <td>0.0</td>\n",
              "      <td>1.000000e+00</td>\n",
              "      <td>1.000000e+00</td>\n",
              "      <td>1.000000e+00</td>\n",
              "      <td>1.000000e+00</td>\n",
              "      <td>1.000000e+00</td>\n",
              "      <td>1.000000e+00</td>\n",
              "      <td>1.000000e+00</td>\n",
              "      <td>1.000000e+00</td>\n",
              "    </tr>\n",
              "  </tbody>\n",
              "</table>\n",
              "</div>\n",
              "      <button class=\"colab-df-convert\" onclick=\"convertToInteractive('df-48cce4f8-ae71-443c-a32c-162973dbc685')\"\n",
              "              title=\"Convert this dataframe to an interactive table.\"\n",
              "              style=\"display:none;\">\n",
              "        \n",
              "  <svg xmlns=\"http://www.w3.org/2000/svg\" height=\"24px\"viewBox=\"0 0 24 24\"\n",
              "       width=\"24px\">\n",
              "    <path d=\"M0 0h24v24H0V0z\" fill=\"none\"/>\n",
              "    <path d=\"M18.56 5.44l.94 2.06.94-2.06 2.06-.94-2.06-.94-.94-2.06-.94 2.06-2.06.94zm-11 1L8.5 8.5l.94-2.06 2.06-.94-2.06-.94L8.5 2.5l-.94 2.06-2.06.94zm10 10l.94 2.06.94-2.06 2.06-.94-2.06-.94-.94-2.06-.94 2.06-2.06.94z\"/><path d=\"M17.41 7.96l-1.37-1.37c-.4-.4-.92-.59-1.43-.59-.52 0-1.04.2-1.43.59L10.3 9.45l-7.72 7.72c-.78.78-.78 2.05 0 2.83L4 21.41c.39.39.9.59 1.41.59.51 0 1.02-.2 1.41-.59l7.78-7.78 2.81-2.81c.8-.78.8-2.07 0-2.86zM5.41 20L4 18.59l7.72-7.72 1.47 1.35L5.41 20z\"/>\n",
              "  </svg>\n",
              "      </button>\n",
              "      \n",
              "  <style>\n",
              "    .colab-df-container {\n",
              "      display:flex;\n",
              "      flex-wrap:wrap;\n",
              "      gap: 12px;\n",
              "    }\n",
              "\n",
              "    .colab-df-convert {\n",
              "      background-color: #E8F0FE;\n",
              "      border: none;\n",
              "      border-radius: 50%;\n",
              "      cursor: pointer;\n",
              "      display: none;\n",
              "      fill: #1967D2;\n",
              "      height: 32px;\n",
              "      padding: 0 0 0 0;\n",
              "      width: 32px;\n",
              "    }\n",
              "\n",
              "    .colab-df-convert:hover {\n",
              "      background-color: #E2EBFA;\n",
              "      box-shadow: 0px 1px 2px rgba(60, 64, 67, 0.3), 0px 1px 3px 1px rgba(60, 64, 67, 0.15);\n",
              "      fill: #174EA6;\n",
              "    }\n",
              "\n",
              "    [theme=dark] .colab-df-convert {\n",
              "      background-color: #3B4455;\n",
              "      fill: #D2E3FC;\n",
              "    }\n",
              "\n",
              "    [theme=dark] .colab-df-convert:hover {\n",
              "      background-color: #434B5C;\n",
              "      box-shadow: 0px 1px 3px 1px rgba(0, 0, 0, 0.15);\n",
              "      filter: drop-shadow(0px 1px 2px rgba(0, 0, 0, 0.3));\n",
              "      fill: #FFFFFF;\n",
              "    }\n",
              "  </style>\n",
              "\n",
              "      <script>\n",
              "        const buttonEl =\n",
              "          document.querySelector('#df-48cce4f8-ae71-443c-a32c-162973dbc685 button.colab-df-convert');\n",
              "        buttonEl.style.display =\n",
              "          google.colab.kernel.accessAllowed ? 'block' : 'none';\n",
              "\n",
              "        async function convertToInteractive(key) {\n",
              "          const element = document.querySelector('#df-48cce4f8-ae71-443c-a32c-162973dbc685');\n",
              "          const dataTable =\n",
              "            await google.colab.kernel.invokeFunction('convertToInteractive',\n",
              "                                                     [key], {});\n",
              "          if (!dataTable) return;\n",
              "\n",
              "          const docLinkHtml = 'Like what you see? Visit the ' +\n",
              "            '<a target=\"_blank\" href=https://colab.research.google.com/notebooks/data_table.ipynb>data table notebook</a>'\n",
              "            + ' to learn more about interactive tables.';\n",
              "          element.innerHTML = '';\n",
              "          dataTable['output_type'] = 'display_data';\n",
              "          await google.colab.output.renderOutput(dataTable, element);\n",
              "          const docLink = document.createElement('div');\n",
              "          docLink.innerHTML = docLinkHtml;\n",
              "          element.appendChild(docLink);\n",
              "        }\n",
              "      </script>\n",
              "    </div>\n",
              "  </div>\n",
              "  "
            ]
          },
          "metadata": {},
          "execution_count": 37
        }
      ]
    },
    {
      "cell_type": "code",
      "source": [
        "customer_products_raw.isnull().sum()"
      ],
      "metadata": {
        "colab": {
          "base_uri": "https://localhost:8080/"
        },
        "outputId": "39dc839d-b25c-4d33-bcd5-3745bb7de5a4",
        "id": "BnObawC0wYxD"
      },
      "execution_count": 38,
      "outputs": [
        {
          "output_type": "execute_result",
          "data": {
            "text/plain": [
              "Unnamed: 0             0\n",
              "pk_cid                 0\n",
              "pk_partition           0\n",
              "short_term_deposit     0\n",
              "loans                  0\n",
              "mortgage               0\n",
              "funds                  0\n",
              "securities             0\n",
              "long_term_deposit      0\n",
              "em_account_pp          0\n",
              "credit_card            0\n",
              "payroll               61\n",
              "pension_plan          61\n",
              "payroll_account        0\n",
              "emc_account            0\n",
              "debit_card             0\n",
              "em_account_p           0\n",
              "em_acount              0\n",
              "dtype: int64"
            ]
          },
          "metadata": {},
          "execution_count": 38
        }
      ]
    },
    {
      "cell_type": "code",
      "source": [
        "# ACCIONES CUSTOMER PRODUCTS\n",
        "\n",
        "# Eliminar columna Unnamed\n",
        "# Cambiar los identificadores (pk_cid) a variable categórica\n",
        "# Cambiar tipo de columnas booleanas a boolean?\n",
        "# Establecer primary key como index?\n",
        "# Gestionar nulos: \n",
        "#     payroll                     \n",
        "#     pension_plan\n",
        "# Eliminar em_account_pp, no hay datos\n",
        "\n",
        "# Cambiar tipo de payroll y pension_plan a int"
      ],
      "metadata": {
        "id": "iU9-7iD_wYxD"
      },
      "execution_count": 39,
      "outputs": []
    },
    {
      "cell_type": "markdown",
      "source": [
        "### Análisis del target"
      ],
      "metadata": {
        "id": "N53oY9OJoonb"
      }
    },
    {
      "cell_type": "code",
      "source": [
        "# Para el modelo de propensión a compra (supervisado > clasificación) trataremos de averiguar la propensión a compra de ciertos productos de cada cliente\n",
        "# El target puede ser:\n",
        "#  - em_acount = 4.381.602  (73,48%)\n",
        "#  - pension_plan = 2.178.020 (36,53%) ** Target interesante por negocio\n",
        "#  - debit_card = 562.968 (9,44%)\n",
        "#  - payroll_account = 329.420 (5,52%)\n",
        "\n",
        "\n",
        "# Analizando el revenue de cada producto:\n",
        "#  - pension_plan = media >5200€ ** Target interesante por revenue\n",
        "#  - loans = media > 2000€\n",
        "#  - mortgage = media > 2000€ \n",
        "#\n",
        "#\n",
        "# El producto \"pension_plan\" resulta interesante ya que un 74% de la bbdd todavía no ha es cliente y es el que más beneficios genera a la compañía\n",
        "\n",
        "\n",
        "TARGET = \"pension_plan\""
      ],
      "metadata": {
        "id": "ws9zM_QCo8jR"
      },
      "execution_count": 40,
      "outputs": []
    },
    {
      "cell_type": "code",
      "source": [
        "for i in ['short_term_deposit', 'loans', 'mortgage', 'funds', 'securities','long_term_deposit', 'em_account_pp','credit_card', 'payroll', 'pension_plan', 'payroll_account','emc_account', 'debit_card', 'em_account_p', 'em_acount']:\n",
        "    suma_productos = customer_products_raw[i].sum()\n",
        "    print (f\"Suma de {i} = {suma_productos} . La media es de {round((suma_productos/customer_products_raw.shape[0])*100,2)}%\")\n",
        "    "
      ],
      "metadata": {
        "colab": {
          "base_uri": "https://localhost:8080/"
        },
        "id": "L4kFuFrIuS2G",
        "outputId": "795e2825-872d-49c1-df37-832e1bea6465"
      },
      "execution_count": 41,
      "outputs": [
        {
          "output_type": "stream",
          "name": "stdout",
          "text": [
            "Suma de short_term_deposit = 15394 . La media es de 0.26%\n",
            "Suma de loans = 468 . La media es de 0.01%\n",
            "Suma de mortgage = 324 . La media es de 0.01%\n",
            "Suma de funds = 20099 . La media es de 0.34%\n",
            "Suma de securities = 22133 . La media es de 0.37%\n",
            "Suma de long_term_deposit = 100660 . La media es de 1.69%\n",
            "Suma de em_account_pp = 0 . La media es de 0.0%\n",
            "Suma de credit_card = 70866 . La media es de 1.19%\n",
            "Suma de payroll = 205787.0 . La media es de 3.45%\n",
            "Suma de pension_plan = 217802.0 . La media es de 3.65%\n",
            "Suma de payroll_account = 329420 . La media es de 5.52%\n",
            "Suma de emc_account = 326961 . La media es de 5.48%\n",
            "Suma de debit_card = 562968 . La media es de 9.44%\n",
            "Suma de em_account_p = 34 . La media es de 0.0%\n",
            "Suma de em_acount = 4381602 . La media es de 73.48%\n"
          ]
        }
      ]
    },
    {
      "cell_type": "markdown",
      "source": [
        "### Distribución de las variables"
      ],
      "metadata": {
        "id": "AkR5eHKSoroo"
      }
    },
    {
      "cell_type": "code",
      "source": [
        "def obtener_lista_variables(dataset):\n",
        "  lista_numericas =[]\n",
        "  lista_boolean = []\n",
        "  lista_categoricas = []\n",
        "  for i in dataset:\n",
        "    if ( (dataset[i].dtype.kind == \"f\") | (dataset[i].dtype.kind == \"i\") | (dataset[i].dtype.kind == \"u\") ) & (len(dataset[i].unique()) != 2) & (i not in TARGET): #La columna es \"f\" o \"i\" (float o intiger)(numérica) y el nº de valores diferente de 2 (no es booleano) y que la columna no sea PRECIO (nuestro target)\n",
        "       lista_numericas.append(i)\n",
        "    if ( (dataset[i].dtype.kind == \"f\") | (dataset[i].dtype.kind == \"i\") | (dataset[i].dtype.kind == \"u\") ) & (len(dataset[i].unique()) <= 2) & (i not in TARGET): #La columna es \"f\" o \"i\" (float o intiger)(numérica) y el nº de valores igual de 2 (es booleano) y que la columna no sea PRECIO (nuestro target)\n",
        "       lista_boolean.append(i)\n",
        "    if (dataset[i].dtype.kind == \"O\") & (i not in TARGET): #La columna es \"O\"(Objeto)(Categórica) y que la columna no sea PRECIO (nuestro target)\n",
        "       lista_categoricas.append(i)\n",
        "  return lista_numericas, lista_boolean, lista_categoricas"
      ],
      "metadata": {
        "id": "MKVum4zjwKJo"
      },
      "execution_count": 42,
      "outputs": []
    },
    {
      "cell_type": "code",
      "source": [
        "customer_commercial_activity_num, customer_commercial_activity_bool, customer_commercial_activity_cat = obtener_lista_variables(customer_commercial_activity_raw)\n",
        "sales_num, sales_bool, sales_cat = obtener_lista_variables(sales_raw)\n",
        "customer_sociodemographics_num, customer_sociodemographics_bool, customer_sociodemographics_cat = obtener_lista_variables(customer_sociodemographics_raw)\n",
        "product_description_num, product_description_bool, product_description_cat = obtener_lista_variables(product_description_raw)"
      ],
      "metadata": {
        "id": "neYl8KSqwLIz"
      },
      "execution_count": 43,
      "outputs": []
    },
    {
      "cell_type": "markdown",
      "source": [
        "#### Variables de fechas"
      ],
      "metadata": {
        "id": "J9gfKL_7ow7i"
      }
    },
    {
      "cell_type": "code",
      "source": [
        "customer_commercial_activity_raw[\"entry_date\"]"
      ],
      "metadata": {
        "colab": {
          "base_uri": "https://localhost:8080/"
        },
        "id": "yGbPDL_yBv70",
        "outputId": "86e4c996-33e5-407d-95b8-74c26b355944"
      },
      "execution_count": 44,
      "outputs": [
        {
          "output_type": "execute_result",
          "data": {
            "text/plain": [
              "0          2018-01\n",
              "1          2015-08\n",
              "2          2015-08\n",
              "3          2015-08\n",
              "4          2015-08\n",
              "            ...   \n",
              "5962919    2016-08\n",
              "5962920    2016-08\n",
              "5962921    2016-08\n",
              "5962922    2016-08\n",
              "5962923    2019-05\n",
              "Name: entry_date, Length: 5962924, dtype: object"
            ]
          },
          "metadata": {},
          "execution_count": 44
        }
      ]
    },
    {
      "cell_type": "code",
      "source": [
        "sales_raw[\"month_sale\"]"
      ],
      "metadata": {
        "colab": {
          "base_uri": "https://localhost:8080/"
        },
        "id": "Ry2xwm40B7fG",
        "outputId": "4f8f8901-6111-4abd-f529-f680dd0c2838"
      },
      "execution_count": 45,
      "outputs": [
        {
          "output_type": "execute_result",
          "data": {
            "text/plain": [
              "0         2018-05-01\n",
              "1         2018-06-01\n",
              "2         2018-02-01\n",
              "3         2018-02-01\n",
              "4         2018-02-01\n",
              "             ...    \n",
              "240768    2019-05-01\n",
              "240769    2019-05-01\n",
              "240770    2019-05-01\n",
              "240771    2019-05-01\n",
              "240772    2019-05-01\n",
              "Name: month_sale, Length: 240773, dtype: object"
            ]
          },
          "metadata": {},
          "execution_count": 45
        }
      ]
    },
    {
      "cell_type": "markdown",
      "source": [
        "#### Variables numéricas"
      ],
      "metadata": {
        "id": "IQAYnrERozyM"
      }
    },
    {
      "cell_type": "code",
      "source": [
        "sales_raw[\"product_ID\"]\n",
        "sales_raw[\"net_margin\"]"
      ],
      "metadata": {
        "colab": {
          "base_uri": "https://localhost:8080/"
        },
        "id": "LHuNTMEPCspo",
        "outputId": "e779c7ba-9c13-4a30-b104-ed80bd6ab70c"
      },
      "execution_count": 46,
      "outputs": [
        {
          "output_type": "execute_result",
          "data": {
            "text/plain": [
              "0          952.9\n",
              "1         1625.2\n",
              "2         1279.7\n",
              "3         1511.9\n",
              "4         1680.3\n",
              "           ...  \n",
              "240768      56.7\n",
              "240769      66.5\n",
              "240770      73.0\n",
              "240771      82.3\n",
              "240772      84.4\n",
              "Name: net_margin, Length: 240773, dtype: float64"
            ]
          },
          "metadata": {},
          "execution_count": 46
        }
      ]
    },
    {
      "cell_type": "code",
      "source": [
        "customer_commercial_activity_num"
      ],
      "metadata": {
        "colab": {
          "base_uri": "https://localhost:8080/"
        },
        "id": "r6pTWMCaw-v_",
        "outputId": "ef04b656-94b7-46c0-aa30-6ddacbec791f"
      },
      "execution_count": 47,
      "outputs": [
        {
          "output_type": "execute_result",
          "data": {
            "text/plain": [
              "['Unnamed: 0', 'pk_cid']"
            ]
          },
          "metadata": {},
          "execution_count": 47
        }
      ]
    },
    {
      "cell_type": "code",
      "source": [
        "sales_num"
      ],
      "metadata": {
        "colab": {
          "base_uri": "https://localhost:8080/"
        },
        "id": "wotofUKsxA8N",
        "outputId": "73bb6fcf-dcbd-4d05-9e4b-2555c6f0a908"
      },
      "execution_count": 48,
      "outputs": [
        {
          "output_type": "execute_result",
          "data": {
            "text/plain": [
              "['Unnamed: 0', 'pk_sale', 'cid', 'product_ID', 'net_margin']"
            ]
          },
          "metadata": {},
          "execution_count": 48
        }
      ]
    },
    {
      "cell_type": "code",
      "source": [
        "customer_sociodemographics_num"
      ],
      "metadata": {
        "colab": {
          "base_uri": "https://localhost:8080/"
        },
        "id": "JnY_a_BPxCVJ",
        "outputId": "055e8d4b-0191-4c59-ed50-7dba4b060462"
      },
      "execution_count": 49,
      "outputs": [
        {
          "output_type": "execute_result",
          "data": {
            "text/plain": [
              "['Unnamed: 0', 'pk_cid', 'region_code', 'age', 'salary']"
            ]
          },
          "metadata": {},
          "execution_count": 49
        }
      ]
    },
    {
      "cell_type": "code",
      "source": [
        "product_description_num"
      ],
      "metadata": {
        "colab": {
          "base_uri": "https://localhost:8080/"
        },
        "id": "IjJCpAahxDod",
        "outputId": "8544a1f4-4999-4b3b-f5ff-2a01a87da282"
      },
      "execution_count": 50,
      "outputs": [
        {
          "output_type": "execute_result",
          "data": {
            "text/plain": [
              "['Unnamed: 0', 'pk_product_ID']"
            ]
          },
          "metadata": {},
          "execution_count": 50
        }
      ]
    },
    {
      "cell_type": "markdown",
      "source": [
        "#### Variables categóricas"
      ],
      "metadata": {
        "id": "9l4ZsNp8o1dz"
      }
    },
    {
      "cell_type": "code",
      "source": [
        "customer_commercial_activity_raw[\"entry_channel\"]\n",
        "customer_commercial_activity_raw[\"segment\"]\n",
        "customer_commercial_activity_raw[\"active_customer\"]"
      ],
      "metadata": {
        "colab": {
          "base_uri": "https://localhost:8080/"
        },
        "id": "-N6B8MmUCTVP",
        "outputId": "fcbe20db-00e5-4a35-cde7-54cf887a0300"
      },
      "execution_count": 51,
      "outputs": [
        {
          "output_type": "execute_result",
          "data": {
            "text/plain": [
              "0          1.0\n",
              "1          0.0\n",
              "2          0.0\n",
              "3          0.0\n",
              "4          1.0\n",
              "          ... \n",
              "5962919    0.0\n",
              "5962920    0.0\n",
              "5962921    1.0\n",
              "5962922    0.0\n",
              "5962923    1.0\n",
              "Name: active_customer, Length: 5962924, dtype: float64"
            ]
          },
          "metadata": {},
          "execution_count": 51
        }
      ]
    },
    {
      "cell_type": "code",
      "source": [
        "customer_sociodemographics_raw[\"deceased\"]\t\n",
        "customer_sociodemographics_raw[\"gender\"]\t\n",
        "customer_sociodemographics_raw[\"region_code\"]\t\n",
        "customer_sociodemographics_raw[\"salary\"]\t\n",
        "customer_sociodemographics_raw[\"country_id\"]\t\n",
        "customer_sociodemographics_raw[\"age\"]\t"
      ],
      "metadata": {
        "colab": {
          "base_uri": "https://localhost:8080/"
        },
        "id": "HphO1GIWCg50",
        "outputId": "776aff17-6ea4-43b4-ec8a-f68184b4a708"
      },
      "execution_count": 52,
      "outputs": [
        {
          "output_type": "execute_result",
          "data": {
            "text/plain": [
              "0          35\n",
              "1          23\n",
              "2          23\n",
              "3          22\n",
              "4          23\n",
              "           ..\n",
              "5962919    22\n",
              "5962920    23\n",
              "5962921    47\n",
              "5962922    22\n",
              "5962923    37\n",
              "Name: age, Length: 5962924, dtype: int64"
            ]
          },
          "metadata": {},
          "execution_count": 52
        }
      ]
    },
    {
      "cell_type": "code",
      "source": [
        "product_description_raw[\"product_desc\"]\t\n",
        "product_description_raw[\"family_product\"]\t"
      ],
      "metadata": {
        "colab": {
          "base_uri": "https://localhost:8080/"
        },
        "id": "-kRsTDn_C1yi",
        "outputId": "1e4c0613-6f3f-494b-e1dc-417ef4c8d4d0"
      },
      "execution_count": 53,
      "outputs": [
        {
          "output_type": "execute_result",
          "data": {
            "text/plain": [
              "0          account\n",
              "1     payment_card\n",
              "2     pension_plan\n",
              "3          account\n",
              "4          account\n",
              "5          account\n",
              "6     payment_card\n",
              "7       investment\n",
              "8       investment\n",
              "9       investment\n",
              "10      investment\n",
              "11            loan\n",
              "12            loan\n",
              "Name: family_product, dtype: object"
            ]
          },
          "metadata": {},
          "execution_count": 53
        }
      ]
    },
    {
      "cell_type": "markdown",
      "source": [
        "# 3.- PRE PROCESSING"
      ],
      "metadata": {
        "id": "F-i0SBPis5if"
      }
    },
    {
      "cell_type": "markdown",
      "source": [
        "## Procesamiento de Sales"
      ],
      "metadata": {
        "id": "7fZaJxVHmLw9"
      }
    },
    {
      "cell_type": "code",
      "source": [
        "# Merge de Sales y Product Description\n",
        "df_sales_raw = sales_raw.merge(product_description_raw, right_on = \"pk_product_ID\", left_on= \"product_ID\", how = \"left\")"
      ],
      "metadata": {
        "id": "8U7upOCDluCU"
      },
      "execution_count": 54,
      "outputs": []
    },
    {
      "cell_type": "code",
      "source": [
        "# Análisis inicial de df_sales_raw y aplicamos las acciones propuestas en el análisis de los datasets\n",
        "\n",
        "df_sales_raw.info()"
      ],
      "metadata": {
        "id": "vyftXFKkmWnL",
        "colab": {
          "base_uri": "https://localhost:8080/"
        },
        "outputId": "12ef3d5e-921f-4c4d-9979-5ca4f369357e"
      },
      "execution_count": 55,
      "outputs": [
        {
          "output_type": "stream",
          "name": "stdout",
          "text": [
            "<class 'pandas.core.frame.DataFrame'>\n",
            "Int64Index: 240773 entries, 0 to 240772\n",
            "Data columns (total 10 columns):\n",
            " #   Column          Non-Null Count   Dtype  \n",
            "---  ------          --------------   -----  \n",
            " 0   Unnamed: 0_x    240773 non-null  int64  \n",
            " 1   pk_sale         240773 non-null  int64  \n",
            " 2   cid             240773 non-null  int64  \n",
            " 3   month_sale      240773 non-null  object \n",
            " 4   product_ID      240773 non-null  int64  \n",
            " 5   net_margin      240773 non-null  float64\n",
            " 6   Unnamed: 0_y    240773 non-null  int64  \n",
            " 7   pk_product_ID   240773 non-null  int64  \n",
            " 8   product_desc    240773 non-null  object \n",
            " 9   family_product  240773 non-null  object \n",
            "dtypes: float64(1), int64(6), object(3)\n",
            "memory usage: 20.2+ MB\n"
          ]
        }
      ]
    },
    {
      "cell_type": "code",
      "source": [
        "df_sales1 = df_sales_raw.copy()"
      ],
      "metadata": {
        "id": "kAYtycQl3BLe"
      },
      "execution_count": 56,
      "outputs": []
    },
    {
      "cell_type": "code",
      "source": [
        "# Eliminar columna Unnamed\n",
        "\n",
        "df_sales1.drop(\"Unnamed: 0_x\", axis = 1, inplace = True)\n",
        "df_sales1.drop(\"Unnamed: 0_y\", axis = 1, inplace = True)\n",
        "\n",
        "# Eliminar columna \"pk_product_ID\" duplicada tras el merge\n",
        "\n",
        "df_sales1.drop(\"pk_product_ID\", axis = 1, inplace = True)"
      ],
      "metadata": {
        "id": "nl_7zAMTm6cW"
      },
      "execution_count": 57,
      "outputs": []
    },
    {
      "cell_type": "code",
      "source": [
        "# Renombrar columnas para alinear el naming, por ejemplo variable cid como \"client_ID\", pk_sale como \"sale_ID\"\n",
        "\n",
        "df_sales1.rename({\"pk_sale\": \"sale_ID\",\"cid\": \"customer_ID\"},axis='columns',inplace = True)"
      ],
      "metadata": {
        "id": "05oy_3Unnbwk"
      },
      "execution_count": 58,
      "outputs": []
    },
    {
      "cell_type": "code",
      "source": [
        "# Establecer primary key como index\n",
        "\n",
        "df_sales1.set_index(\"sale_ID\",inplace = True)"
      ],
      "metadata": {
        "id": "1BBe7s9spLqw"
      },
      "execution_count": 59,
      "outputs": []
    },
    {
      "cell_type": "code",
      "source": [
        "# Cambiar los identificadores (product_ID, customer_ID) a variable categórica\n",
        "\n",
        "df_sales1[\"product_ID\"] = df_sales1[\"product_ID\"].astype(\"object\")\n",
        "df_sales1[\"customer_ID\"] = df_sales1[\"customer_ID\"].astype(\"object\")"
      ],
      "metadata": {
        "id": "vHPHY-sfpgwJ"
      },
      "execution_count": 60,
      "outputs": []
    },
    {
      "cell_type": "code",
      "source": [
        "# Cambiar tipo de month_sale a fecha\n",
        "\n",
        "df_sales1[\"month_sale\"] = pd.to_datetime(df_sales1[\"month_sale\"], format = \"%Y/%m/%d\")"
      ],
      "metadata": {
        "id": "-fn3EHEwsOUV"
      },
      "execution_count": 61,
      "outputs": []
    },
    {
      "cell_type": "code",
      "source": [
        "# Disgregar la fecha en mes, año, día, día de la semana (otros: trimestre, fin de semana, festivo...)\n",
        "\n",
        "df_sales1[\"month_sales\"] = df_sales1[\"month_sale\"].dt.month\n",
        "df_sales1[\"year_sales\"] = df_sales1[\"month_sale\"].dt.year"
      ],
      "metadata": {
        "id": "mzGi2Qk8u7O1"
      },
      "execution_count": 62,
      "outputs": []
    },
    {
      "cell_type": "code",
      "source": [
        "df_sales1.boxplot(column = \"net_margin\", by = \"product_desc\", figsize=(15,5))\n",
        "plt.xticks(rotation=70);"
      ],
      "metadata": {
        "colab": {
          "base_uri": "https://localhost:8080/",
          "height": 509
        },
        "id": "PcNzmdIlo9tR",
        "outputId": "be6b6237-b396-4c19-9019-c3bdbcb1ea64"
      },
      "execution_count": 63,
      "outputs": [
        {
          "output_type": "display_data",
          "data": {
            "text/plain": [
              "<Figure size 1500x500 with 1 Axes>"
            ],
            "image/png": "[encoded data removed]"
          },
          "metadata": {}
        }
      ]
    },
    {
      "cell_type": "code",
      "source": [
        "df_sales1.info()"
      ],
      "metadata": {
        "id": "u2f2yxVtr7po",
        "outputId": "67852fd1-62c1-4c92-c817-747098295f08",
        "colab": {
          "base_uri": "https://localhost:8080/"
        }
      },
      "execution_count": 64,
      "outputs": [
        {
          "output_type": "stream",
          "name": "stdout",
          "text": [
            "<class 'pandas.core.frame.DataFrame'>\n",
            "Int64Index: 240773 entries, 6666 to 247438\n",
            "Data columns (total 8 columns):\n",
            " #   Column          Non-Null Count   Dtype         \n",
            "---  ------          --------------   -----         \n",
            " 0   customer_ID     240773 non-null  object        \n",
            " 1   month_sale      240773 non-null  datetime64[ns]\n",
            " 2   product_ID      240773 non-null  object        \n",
            " 3   net_margin      240773 non-null  float64       \n",
            " 4   product_desc    240773 non-null  object        \n",
            " 5   family_product  240773 non-null  object        \n",
            " 6   month_sales     240773 non-null  int64         \n",
            " 7   year_sales      240773 non-null  int64         \n",
            "dtypes: datetime64[ns](1), float64(1), int64(2), object(4)\n",
            "memory usage: 16.5+ MB\n"
          ]
        }
      ]
    },
    {
      "cell_type": "markdown",
      "source": [
        "## Procesamiento de Customers"
      ],
      "metadata": {
        "id": "ds9YPpHoteTF"
      }
    },
    {
      "cell_type": "code",
      "source": [
        "# Merge de las tablas relacionadas con el cliente\n",
        "df_raw = customer_commercial_activity_raw.merge(customer_sociodemographics_raw, on=[\"pk_cid\",\"pk_partition\"])\\\n",
        "            .merge(customer_products_raw, on=[\"pk_cid\",\"pk_partition\"])"
      ],
      "metadata": {
        "id": "iRPsWNtAfRHi"
      },
      "execution_count": 65,
      "outputs": []
    },
    {
      "cell_type": "code",
      "source": [
        "# Análisis inicial de df_sales_raw y aplicamos las acciones propuestas en el análisis de los datasets\n",
        "\n",
        "df_raw.info()"
      ],
      "metadata": {
        "colab": {
          "base_uri": "https://localhost:8080/"
        },
        "id": "NcTgOi3k3ZgX",
        "outputId": "0cd7f504-4d06-4009-87a5-ba3d6932bc46"
      },
      "execution_count": 66,
      "outputs": [
        {
          "output_type": "stream",
          "name": "stdout",
          "text": [
            "<class 'pandas.core.frame.DataFrame'>\n",
            "Int64Index: 5962924 entries, 0 to 5962923\n",
            "Data columns (total 30 columns):\n",
            " #   Column              Dtype  \n",
            "---  ------              -----  \n",
            " 0   Unnamed: 0_x        int64  \n",
            " 1   pk_cid              int64  \n",
            " 2   pk_partition        object \n",
            " 3   entry_date          object \n",
            " 4   entry_channel       object \n",
            " 5   active_customer     float64\n",
            " 6   segment             object \n",
            " 7   Unnamed: 0_y        int64  \n",
            " 8   country_id          object \n",
            " 9   region_code         float64\n",
            " 10  gender              object \n",
            " 11  age                 int64  \n",
            " 12  deceased            object \n",
            " 13  salary              float64\n",
            " 14  Unnamed: 0          int64  \n",
            " 15  short_term_deposit  int64  \n",
            " 16  loans               int64  \n",
            " 17  mortgage            int64  \n",
            " 18  funds               int64  \n",
            " 19  securities          int64  \n",
            " 20  long_term_deposit   int64  \n",
            " 21  em_account_pp       int64  \n",
            " 22  credit_card         int64  \n",
            " 23  payroll             float64\n",
            " 24  pension_plan        float64\n",
            " 25  payroll_account     int64  \n",
            " 26  emc_account         int64  \n",
            " 27  debit_card          int64  \n",
            " 28  em_account_p        int64  \n",
            " 29  em_acount           int64  \n",
            "dtypes: float64(5), int64(18), object(7)\n",
            "memory usage: 1.4+ GB\n"
          ]
        }
      ]
    },
    {
      "cell_type": "code",
      "source": [
        "df1 = df_raw.copy()"
      ],
      "metadata": {
        "id": "7sf9JlbSlC9e"
      },
      "execution_count": 67,
      "outputs": []
    },
    {
      "cell_type": "code",
      "source": [
        "#  Eliminamos las columnas \"Unnamed\"\n",
        "df1.drop(\"Unnamed: 0_x\", axis = 1, inplace = True)\n",
        "df1.drop(\"Unnamed: 0_y\", axis = 1, inplace = True)\n",
        "df1.drop(\"Unnamed: 0\", axis = 1, inplace = True)"
      ],
      "metadata": {
        "id": "pPDCS0pnlBIs"
      },
      "execution_count": 68,
      "outputs": []
    },
    {
      "cell_type": "code",
      "source": [
        "# Renombrar columnas para alinear el naming, por ejemplo variable cid como \"client_ID\", pk_sale como \"sale_ID\"\n",
        "df1.rename({\"pk_cid\": \"customer_ID\",\"pk_partition\": \"partition_ID\"},axis='columns',inplace = True)"
      ],
      "metadata": {
        "id": "2OT3fktGl1Sx"
      },
      "execution_count": 69,
      "outputs": []
    },
    {
      "cell_type": "markdown",
      "source": [
        "### Atributos de baja varianza"
      ],
      "metadata": {
        "id": "Mnx0tSwv4x1s"
      }
    },
    {
      "cell_type": "code",
      "source": [
        "df1[\"em_account_p\"].value_counts(normalize = True)*100"
      ],
      "metadata": {
        "colab": {
          "base_uri": "https://localhost:8080/"
        },
        "id": "bko_MwIo5dJ5",
        "outputId": "5924ecbf-9093-41ba-870c-fe7abeb47c67"
      },
      "execution_count": 70,
      "outputs": [
        {
          "output_type": "execute_result",
          "data": {
            "text/plain": [
              "0    99.99943\n",
              "1     0.00057\n",
              "Name: em_account_p, dtype: float64"
            ]
          },
          "metadata": {},
          "execution_count": 70
        }
      ]
    },
    {
      "cell_type": "code",
      "source": [
        "df1[\"em_account_pp\"].value_counts(normalize = True)*100"
      ],
      "metadata": {
        "colab": {
          "base_uri": "https://localhost:8080/"
        },
        "id": "CKApm1qp5XVC",
        "outputId": "8a205e8b-b63a-4b36-dacf-1d3acaa8ca30"
      },
      "execution_count": 71,
      "outputs": [
        {
          "output_type": "execute_result",
          "data": {
            "text/plain": [
              "0    100.0\n",
              "Name: em_account_pp, dtype: float64"
            ]
          },
          "metadata": {},
          "execution_count": 71
        }
      ]
    },
    {
      "cell_type": "code",
      "source": [
        "df1[\"country_id\"].value_counts(normalize=True)*100"
      ],
      "metadata": {
        "colab": {
          "base_uri": "https://localhost:8080/"
        },
        "id": "APkvBkPdELzy",
        "outputId": "97876924-8eb7-45ca-e396-0a167ad0f789"
      },
      "execution_count": 72,
      "outputs": [
        {
          "output_type": "execute_result",
          "data": {
            "text/plain": [
              "ES    99.962233\n",
              "GB     0.007396\n",
              "FR     0.003773\n",
              "DE     0.003337\n",
              "US     0.003270\n",
              "CH     0.003253\n",
              "BR     0.001459\n",
              "BE     0.001358\n",
              "VE     0.001325\n",
              "IE     0.001140\n",
              "MX     0.000973\n",
              "AT     0.000855\n",
              "AR     0.000855\n",
              "PL     0.000822\n",
              "IT     0.000755\n",
              "MA     0.000570\n",
              "CL     0.000503\n",
              "CN     0.000470\n",
              "CA     0.000369\n",
              "LU     0.000285\n",
              "ET     0.000285\n",
              "QA     0.000285\n",
              "CI     0.000285\n",
              "SA     0.000285\n",
              "CM     0.000285\n",
              "SN     0.000285\n",
              "MR     0.000285\n",
              "NO     0.000285\n",
              "RU     0.000285\n",
              "CO     0.000285\n",
              "GA     0.000285\n",
              "GT     0.000285\n",
              "DO     0.000285\n",
              "SE     0.000268\n",
              "DJ     0.000184\n",
              "PT     0.000184\n",
              "JM     0.000184\n",
              "RO     0.000151\n",
              "HU     0.000134\n",
              "DZ     0.000117\n",
              "PE     0.000067\n",
              "Name: country_id, dtype: float64"
            ]
          },
          "metadata": {},
          "execution_count": 72
        }
      ]
    },
    {
      "cell_type": "code",
      "source": [
        "country_id_not_ES = df1[df1[\"country_id\"] != \"ES\"][\"country_id\"].value_counts().index"
      ],
      "metadata": {
        "id": "lDroamHPEuGB"
      },
      "execution_count": 73,
      "outputs": []
    },
    {
      "cell_type": "code",
      "source": [
        "df1[\"country_id\"] = df1[\"country_id\"].replace(country_id_not_ES, 0)"
      ],
      "metadata": {
        "id": "7sjs9pn0EOiv"
      },
      "execution_count": 74,
      "outputs": []
    },
    {
      "cell_type": "code",
      "source": [
        "df1[\"country_id\"] = df1[\"country_id\"].replace(\"ES\", 1)"
      ],
      "metadata": {
        "id": "I-KhdaNeE-vl"
      },
      "execution_count": 75,
      "outputs": []
    },
    {
      "cell_type": "code",
      "source": [
        "df1[\"country_id\"].value_counts(normalize=True)*100"
      ],
      "metadata": {
        "colab": {
          "base_uri": "https://localhost:8080/"
        },
        "id": "YlW7XSslFjPK",
        "outputId": "b41dc7d9-0b77-41e1-85aa-646244a49178"
      },
      "execution_count": 76,
      "outputs": [
        {
          "output_type": "execute_result",
          "data": {
            "text/plain": [
              "1    99.962233\n",
              "0     0.037767\n",
              "Name: country_id, dtype: float64"
            ]
          },
          "metadata": {},
          "execution_count": 76
        }
      ]
    },
    {
      "cell_type": "code",
      "source": [
        "# Eliminamos variables de baja varianza\n",
        "del df1['em_account_pp']\n",
        "del df1['em_account_p']\n",
        "del df1['country_id']"
      ],
      "metadata": {
        "id": "u4B8ZwgG3lT3"
      },
      "execution_count": 77,
      "outputs": []
    },
    {
      "cell_type": "markdown",
      "source": [
        "### Gestión de nulos"
      ],
      "metadata": {
        "id": "m5zPwJnx4vk8"
      }
    },
    {
      "cell_type": "code",
      "source": [
        "df1.isnull().sum()"
      ],
      "metadata": {
        "colab": {
          "base_uri": "https://localhost:8080/"
        },
        "id": "w6VsIMye3q0v",
        "outputId": "e21ec2b4-eee5-4638-db35-eb6737d07f63"
      },
      "execution_count": 78,
      "outputs": [
        {
          "output_type": "execute_result",
          "data": {
            "text/plain": [
              "customer_ID                 0\n",
              "partition_ID                0\n",
              "entry_date                  0\n",
              "entry_channel          133033\n",
              "active_customer             0\n",
              "segment                133944\n",
              "region_code              2264\n",
              "gender                     25\n",
              "age                         0\n",
              "deceased                    0\n",
              "salary                1541104\n",
              "short_term_deposit          0\n",
              "loans                       0\n",
              "mortgage                    0\n",
              "funds                       0\n",
              "securities                  0\n",
              "long_term_deposit           0\n",
              "credit_card                 0\n",
              "payroll                    61\n",
              "pension_plan               61\n",
              "payroll_account             0\n",
              "emc_account                 0\n",
              "debit_card                  0\n",
              "em_acount                   0\n",
              "dtype: int64"
            ]
          },
          "metadata": {},
          "execution_count": 78
        }
      ]
    },
    {
      "cell_type": "code",
      "source": [
        "# Eliminamos valores nulos de \"payroll\" y \"pension_plan\"\n",
        "\n",
        "df1.dropna(subset = ['pension_plan'], inplace = True)"
      ],
      "metadata": {
        "id": "zadsAFsuSecH"
      },
      "execution_count": 79,
      "outputs": []
    },
    {
      "cell_type": "code",
      "source": [
        "# Asignamos valor extremos a \"salary\", \"gender\", \"region_code\" ya que vamos a hacer un DecisionTree\n",
        "\n",
        "print(df1[\"salary\"].describe())\n",
        "df1[\"salary\"].fillna(value = 0, inplace = True)\n",
        "\n",
        "print(df1[\"gender\"].value_counts(normalize = True))\n",
        "df1[\"gender\"].fillna(value = 2, inplace = True)\n",
        "\n",
        "print(df1[\"region_code\"].describe())\n",
        "df1[\"region_code\"].fillna(value = 100, inplace = True)"
      ],
      "metadata": {
        "colab": {
          "base_uri": "https://localhost:8080/"
        },
        "id": "LEWJpmSP6H95",
        "outputId": "605c1583-bdf8-49d1-8efe-3a143f5dffc7"
      },
      "execution_count": 80,
      "outputs": [
        {
          "output_type": "stream",
          "name": "stdout",
          "text": [
            "count    4.421771e+06\n",
            "mean     1.155836e+05\n",
            "std      2.000077e+05\n",
            "min      1.202730e+03\n",
            "25%      6.141537e+04\n",
            "50%      8.844147e+04\n",
            "75%      1.313092e+05\n",
            "max      2.889440e+07\n",
            "Name: salary, dtype: float64\n",
            "H    0.517787\n",
            "V    0.482213\n",
            "Name: gender, dtype: float64\n",
            "count    5.960599e+06\n",
            "mean     2.581436e+01\n",
            "std      1.359565e+01\n",
            "min      1.000000e+00\n",
            "25%      1.300000e+01\n",
            "50%      2.800000e+01\n",
            "75%      3.600000e+01\n",
            "max      5.200000e+01\n",
            "Name: region_code, dtype: float64\n"
          ]
        }
      ]
    },
    {
      "cell_type": "markdown",
      "source": [
        "#### Segment (sustituir por valores exisitnetes en otras particiones)"
      ],
      "metadata": {
        "id": "bJ6fFwxJMsDY"
      }
    },
    {
      "cell_type": "code",
      "source": [
        "#array con los ids que tienen nulos\n",
        "ids_nullsegment_unique=df1[(df1['segment'].isnull()==True)]['customer_ID'].unique()"
      ],
      "metadata": {
        "id": "cpKCirvUM858"
      },
      "execution_count": 81,
      "outputs": []
    },
    {
      "cell_type": "code",
      "source": [
        "len(ids_nullsegment_unique)"
      ],
      "metadata": {
        "colab": {
          "base_uri": "https://localhost:8080/"
        },
        "id": "IiCfigT5M8xG",
        "outputId": "aca1bc46-d4ec-4d17-8e09-88356549ee13"
      },
      "execution_count": 82,
      "outputs": [
        {
          "output_type": "execute_result",
          "data": {
            "text/plain": [
              "133281"
            ]
          },
          "metadata": {},
          "execution_count": 82
        }
      ]
    },
    {
      "cell_type": "code",
      "source": [
        "valores_nulos_segment=df1[(df1.customer_ID.isin(ids_nullsegment_unique))&(df1['segment'].notnull())&(df1['partition_ID']== \"2019-05\")][['customer_ID','segment']]"
      ],
      "metadata": {
        "id": "GDasiLU4M8pL"
      },
      "execution_count": 83,
      "outputs": []
    },
    {
      "cell_type": "code",
      "source": [
        "dict_nulos_segment=dict(zip(valores_nulos_segment['customer_ID'],valores_nulos_segment['segment']))"
      ],
      "metadata": {
        "id": "PmjgwCWzM8aA"
      },
      "execution_count": 84,
      "outputs": []
    },
    {
      "cell_type": "markdown",
      "source": [
        "#### Entry_Chanel (sustituir por valores exisitnetes en otras particiones)"
      ],
      "metadata": {
        "id": "RC4baK1LM6C9"
      }
    },
    {
      "cell_type": "code",
      "source": [
        "#array con los ids que tienen nulos\n",
        "ids_nullentrychannel_unique=df1[(df1['entry_channel'].isnull()==True)]['customer_ID'].unique()"
      ],
      "metadata": {
        "id": "lR0DbCutMy4K"
      },
      "execution_count": 85,
      "outputs": []
    },
    {
      "cell_type": "code",
      "source": [
        "len(ids_nullentrychannel_unique)"
      ],
      "metadata": {
        "colab": {
          "base_uri": "https://localhost:8080/"
        },
        "id": "uHwRDXdNMyw2",
        "outputId": "56f5f6e7-c70f-4bae-b419-0e7083539493"
      },
      "execution_count": 86,
      "outputs": [
        {
          "output_type": "execute_result",
          "data": {
            "text/plain": [
              "132201"
            ]
          },
          "metadata": {},
          "execution_count": 86
        }
      ]
    },
    {
      "cell_type": "code",
      "source": [
        "valores_nulos_entrychannel=df1[(df1.customer_ID.isin(ids_nullentrychannel_unique))&(df1['entry_channel'].notnull())&(df1['partition_ID']=='2019-05')][['customer_ID','entry_channel']]"
      ],
      "metadata": {
        "id": "tssuVX2aMypt"
      },
      "execution_count": 87,
      "outputs": []
    },
    {
      "cell_type": "code",
      "source": [
        "dict_nulos_entrychannel=dict(zip(valores_nulos_entrychannel['customer_ID'],valores_nulos_entrychannel['entry_channel']))"
      ],
      "metadata": {
        "id": "j1e3-79YMyij"
      },
      "execution_count": 88,
      "outputs": []
    },
    {
      "cell_type": "code",
      "source": [
        "df1.set_index('customer_ID',inplace = True)"
      ],
      "metadata": {
        "id": "EO1DixH3jRf-"
      },
      "execution_count": 89,
      "outputs": []
    },
    {
      "cell_type": "code",
      "source": [
        "df1['segment'].fillna(dict_nulos_segment,inplace=True)\n",
        "df1['entry_channel'].fillna(dict_nulos_entrychannel,inplace=True)"
      ],
      "metadata": {
        "id": "obdSYxhaMyBj"
      },
      "execution_count": 90,
      "outputs": []
    },
    {
      "cell_type": "code",
      "source": [
        "df1.isnull().sum()"
      ],
      "metadata": {
        "id": "TKVRSqoZwQXq",
        "outputId": "245d030e-c347-4df2-d768-e049e3f925b7",
        "colab": {
          "base_uri": "https://localhost:8080/"
        }
      },
      "execution_count": 91,
      "outputs": [
        {
          "output_type": "execute_result",
          "data": {
            "text/plain": [
              "partition_ID              0\n",
              "entry_date                0\n",
              "entry_channel         13254\n",
              "active_customer           0\n",
              "segment               13373\n",
              "region_code               0\n",
              "gender                    0\n",
              "age                       0\n",
              "deceased                  0\n",
              "salary                    0\n",
              "short_term_deposit        0\n",
              "loans                     0\n",
              "mortgage                  0\n",
              "funds                     0\n",
              "securities                0\n",
              "long_term_deposit         0\n",
              "credit_card               0\n",
              "payroll                   0\n",
              "pension_plan              0\n",
              "payroll_account           0\n",
              "emc_account               0\n",
              "debit_card                0\n",
              "em_acount                 0\n",
              "dtype: int64"
            ]
          },
          "metadata": {},
          "execution_count": 91
        }
      ]
    },
    {
      "cell_type": "code",
      "source": [
        "# Imputación de valores extremos a los nulos que no se han podido deducir por el histórico\n",
        "df1['segment'].fillna(value='04 - NO SEGMENT',inplace=True)\n",
        "df1['entry_channel'].fillna(value='ZZZ',inplace=True)"
      ],
      "metadata": {
        "id": "aObPhK35ttNq"
      },
      "execution_count": 92,
      "outputs": []
    },
    {
      "cell_type": "code",
      "source": [
        "df1.isnull().sum()"
      ],
      "metadata": {
        "colab": {
          "base_uri": "https://localhost:8080/"
        },
        "id": "oVTxHzMEi8Ji",
        "outputId": "3b455405-f4a7-4880-ae96-563e203f7fe6"
      },
      "execution_count": 93,
      "outputs": [
        {
          "output_type": "execute_result",
          "data": {
            "text/plain": [
              "partition_ID          0\n",
              "entry_date            0\n",
              "entry_channel         0\n",
              "active_customer       0\n",
              "segment               0\n",
              "region_code           0\n",
              "gender                0\n",
              "age                   0\n",
              "deceased              0\n",
              "salary                0\n",
              "short_term_deposit    0\n",
              "loans                 0\n",
              "mortgage              0\n",
              "funds                 0\n",
              "securities            0\n",
              "long_term_deposit     0\n",
              "credit_card           0\n",
              "payroll               0\n",
              "pension_plan          0\n",
              "payroll_account       0\n",
              "emc_account           0\n",
              "debit_card            0\n",
              "em_acount             0\n",
              "dtype: int64"
            ]
          },
          "metadata": {},
          "execution_count": 93
        }
      ]
    },
    {
      "cell_type": "markdown",
      "source": [
        "### Transformación de fechas"
      ],
      "metadata": {
        "id": "w5o21v1d466q"
      }
    },
    {
      "cell_type": "code",
      "source": [
        "# Extraemos año, mes y trimestre de partition ID\n",
        "df1['partition_date'] = pd.to_datetime(df1['partition_ID'])\n",
        "\n",
        "df1['partition_year'] = df1['partition_date'].dt.year\n",
        "df1['partition_month'] = df1['partition_date'].dt.month\n",
        "df1['partition_quarter'] = df1['partition_date'].dt.quarter"
      ],
      "metadata": {
        "id": "BsschjM-3DhW"
      },
      "execution_count": 94,
      "outputs": []
    },
    {
      "cell_type": "code",
      "source": [
        "# Definimos las primary keys como índice\n",
        "df1.reset_index(inplace = True)\n",
        "df1.set_index([\"customer_ID\",\"partition_ID\"],inplace = True)"
      ],
      "metadata": {
        "id": "SaXmbj0GlXcN"
      },
      "execution_count": 95,
      "outputs": []
    },
    {
      "cell_type": "code",
      "source": [
        "# Transformamos \"entry_date\" a fecha y extraemos año, mes y trimestre\n",
        "df1['entry_date']=pd.to_datetime(df1['entry_date'])\n",
        "\n",
        "df1['entry_year'] = df1['entry_date'].dt.year\n",
        "df1['entry_month'] = df1['entry_date'].dt.month\n",
        "df1['entry_quarter'] = df1['entry_date'].dt.quarter"
      ],
      "metadata": {
        "id": "JGrXVg9V9aOM"
      },
      "execution_count": 96,
      "outputs": []
    },
    {
      "cell_type": "markdown",
      "source": [
        "### Tranformación de numéricas"
      ],
      "metadata": {
        "id": "VBhixDiPCOdn"
      }
    },
    {
      "cell_type": "code",
      "source": [
        "# Cambiamos el type de las variables con float a int (active_customer, payroll y pension_plan), excepto salary, que si que es float\n",
        "\n",
        "variables_to_int = ['active_customer', 'payroll', 'pension_plan']\n",
        "\n",
        "df1[variables_to_int] = df1[variables_to_int].applymap(int)"
      ],
      "metadata": {
        "id": "9sErT0oo3j_b"
      },
      "execution_count": 97,
      "outputs": []
    },
    {
      "cell_type": "markdown",
      "source": [
        "### Transformación de categóricas"
      ],
      "metadata": {
        "id": "gIbXGBctBJgx"
      }
    },
    {
      "cell_type": "code",
      "source": [
        "def OHE(dataframe, column_name):\n",
        "    _dummy_dataset = pd.get_dummies(dataframe[column_name], prefix=column_name)\n",
        "    dataframe = pd.concat([dataframe, _dummy_dataset], axis=1)\n",
        "    return dataframe.drop(column_name, axis=1)"
      ],
      "metadata": {
        "id": "1s6rdVT0u8LY"
      },
      "execution_count": 98,
      "outputs": []
    },
    {
      "cell_type": "code",
      "source": [
        "# OHE \"entry_channel\"\n",
        "\n",
        "df1 = OHE(df1, \"entry_channel\")"
      ],
      "metadata": {
        "id": "7GucpqgKBJDL"
      },
      "execution_count": 99,
      "outputs": []
    },
    {
      "cell_type": "code",
      "source": [
        "# OHE segment\n",
        "\n",
        "df1 = OHE(df1, \"segment\")"
      ],
      "metadata": {
        "id": "jnZjd1ILBckE"
      },
      "execution_count": 100,
      "outputs": []
    },
    {
      "cell_type": "code",
      "source": [
        "# OHE segment\n",
        "\n",
        "df1 = OHE(df1, \"region_code\")"
      ],
      "metadata": {
        "id": "hgrZgyoaVezt"
      },
      "execution_count": 101,
      "outputs": []
    },
    {
      "cell_type": "code",
      "source": [
        "# gender --> 1 = Hembras, 0 = Varones, 2 = Nulos\n",
        "\n",
        "df1[\"gender\"] = df1[\"gender\"].replace(\"H\", 1) # H es de Hembras\n",
        "df1[\"gender\"] = df1[\"gender\"].replace(\"V\", 0) # V es de Varones"
      ],
      "metadata": {
        "id": "3C6lMd14Bj_u"
      },
      "execution_count": 102,
      "outputs": []
    },
    {
      "cell_type": "code",
      "source": [
        "# deceased --> 1 = Fallecido, 0 = No fallecido\n",
        "\n",
        "df1[\"deceased\"] = df1[\"deceased\"].replace(\"N\", 0) # H es de Hembras\n",
        "df1[\"deceased\"] = df1[\"deceased\"].replace(\"S\", 1) # H es de Hembras"
      ],
      "metadata": {
        "id": "EX-oMB_-Bj7J"
      },
      "execution_count": 103,
      "outputs": []
    },
    {
      "cell_type": "code",
      "source": [
        "df1.info()"
      ],
      "metadata": {
        "colab": {
          "base_uri": "https://localhost:8080/"
        },
        "id": "g2311aV6Do5p",
        "outputId": "ed774db8-8ad5-4238-be97-c0a2e8c5e394"
      },
      "execution_count": 104,
      "outputs": [
        {
          "output_type": "stream",
          "name": "stdout",
          "text": [
            "<class 'pandas.core.frame.DataFrame'>\n",
            "MultiIndex: 5962863 entries, (1375586, '2018-01') to (1550586, '2019-05')\n",
            "Columns: 152 entries, entry_date to region_code_100.0\n",
            "dtypes: datetime64[ns](2), float64(1), int64(23), uint8(126)\n",
            "memory usage: 1.9+ GB\n"
          ]
        }
      ]
    },
    {
      "cell_type": "code",
      "source": [
        "# FALTA\n",
        "\n",
        "# 1.9 GB de memory usage es muchisimo\n",
        "# Tras análisis, eliminar entry_date, entry_channel, segment y partition_date"
      ],
      "metadata": {
        "id": "XXqGjSmtxvUK"
      },
      "execution_count": null,
      "outputs": []
    }
  ]
}